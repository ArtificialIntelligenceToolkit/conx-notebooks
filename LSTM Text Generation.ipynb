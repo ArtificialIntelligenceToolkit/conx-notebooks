{
 "cells": [
  {
   "cell_type": "markdown",
   "metadata": {},
   "source": [
    "# LSTM Text Generation\n",
    "\n",
    "Based on: https://github.com/keras-team/keras/blob/master/examples/lstm_text_generation.py\n",
    "\n",
    "Example script to generate text from Nietzsche's writings.\n",
    "\n",
    "At least 20 epochs are required before the generated text\n",
    "starts sounding coherent.\n",
    "\n",
    "It is recommended to run this script on GPU, as recurrent\n",
    "networks are quite computationally intensive.\n",
    "\n",
    "If you try this script on new data, make sure your corpus\n",
    "has at least ~100k characters. ~1M is better."
   ]
  },
  {
   "cell_type": "code",
   "execution_count": 26,
   "metadata": {},
   "outputs": [],
   "source": [
    "import conx as cx"
   ]
  },
  {
   "cell_type": "code",
   "execution_count": 27,
   "metadata": {},
   "outputs": [
    {
     "name": "stdout",
     "output_type": "stream",
     "text": [
      "Using cached https://s3.amazonaws.com/text-datasets/nietzsche.txt as './nietzsche.txt'.\n"
     ]
    }
   ],
   "source": [
    "cx.download('https://s3.amazonaws.com/text-datasets/nietzsche.txt')"
   ]
  },
  {
   "cell_type": "code",
   "execution_count": 28,
   "metadata": {},
   "outputs": [],
   "source": [
    "text = open(\"nietzsche.txt\").read().lower()"
   ]
  },
  {
   "cell_type": "code",
   "execution_count": 29,
   "metadata": {},
   "outputs": [
    {
     "data": {
      "text/plain": [
       "600893"
      ]
     },
     "execution_count": 29,
     "metadata": {},
     "output_type": "execute_result"
    }
   ],
   "source": [
    "len(text)"
   ]
  },
  {
   "cell_type": "code",
   "execution_count": 30,
   "metadata": {},
   "outputs": [
    {
     "data": {
      "text/plain": [
       "'preface\\n\\n\\nsupposing that truth is a woman--what then? is there not ground\\nfor suspecting that all ph'"
      ]
     },
     "execution_count": 30,
     "metadata": {},
     "output_type": "execute_result"
    }
   ],
   "source": [
    "text[:100]"
   ]
  },
  {
   "cell_type": "code",
   "execution_count": 31,
   "metadata": {},
   "outputs": [
    {
     "name": "stdout",
     "output_type": "stream",
     "text": [
      "total chars: 57\n"
     ]
    }
   ],
   "source": [
    "chars = sorted(list(set(text)))\n",
    "print('total chars:', len(chars))"
   ]
  },
  {
   "cell_type": "code",
   "execution_count": 32,
   "metadata": {},
   "outputs": [
    {
     "data": {
      "text/plain": [
       "'\\n !\"\\'(),-.0123456789:;=?[]_abcdefghijklmnopqrstuvwxyzäæéë'"
      ]
     },
     "execution_count": 32,
     "metadata": {},
     "output_type": "execute_result"
    }
   ],
   "source": [
    "\"\".join(chars)"
   ]
  },
  {
   "cell_type": "code",
   "execution_count": 33,
   "metadata": {},
   "outputs": [],
   "source": [
    "char_indices = dict((c, i) for i, c in enumerate(chars))\n",
    "indices_char = dict((i, c) for i, c in enumerate(chars))"
   ]
  },
  {
   "cell_type": "code",
   "execution_count": 34,
   "metadata": {},
   "outputs": [
    {
     "name": "stdout",
     "output_type": "stream",
     "text": [
      "char to index: {'\\n': 0, ' ': 1, '!': 2, '\"': 3, \"'\": 4, '(': 5, ')': 6, ',': 7, '-': 8, '.': 9, '0': 10, '1': 11, '2': 12, '3': 13, '4': 14, '5': 15, '6': 16, '7': 17, '8': 18, '9': 19, ':': 20, ';': 21, '=': 22, '?': 23, '[': 24, ']': 25, '_': 26, 'a': 27, 'b': 28, 'c': 29, 'd': 30, 'e': 31, 'f': 32, 'g': 33, 'h': 34, 'i': 35, 'j': 36, 'k': 37, 'l': 38, 'm': 39, 'n': 40, 'o': 41, 'p': 42, 'q': 43, 'r': 44, 's': 45, 't': 46, 'u': 47, 'v': 48, 'w': 49, 'x': 50, 'y': 51, 'z': 52, 'ä': 53, 'æ': 54, 'é': 55, 'ë': 56}\n",
      "index to char: {0: '\\n', 1: ' ', 2: '!', 3: '\"', 4: \"'\", 5: '(', 6: ')', 7: ',', 8: '-', 9: '.', 10: '0', 11: '1', 12: '2', 13: '3', 14: '4', 15: '5', 16: '6', 17: '7', 18: '8', 19: '9', 20: ':', 21: ';', 22: '=', 23: '?', 24: '[', 25: ']', 26: '_', 27: 'a', 28: 'b', 29: 'c', 30: 'd', 31: 'e', 32: 'f', 33: 'g', 34: 'h', 35: 'i', 36: 'j', 37: 'k', 38: 'l', 39: 'm', 40: 'n', 41: 'o', 42: 'p', 43: 'q', 44: 'r', 45: 's', 46: 't', 47: 'u', 48: 'v', 49: 'w', 50: 'x', 51: 'y', 52: 'z', 53: 'ä', 54: 'æ', 55: 'é', 56: 'ë'}\n"
     ]
    }
   ],
   "source": [
    "print(\"char to index:\", char_indices)\n",
    "print(\"index to char:\", indices_char)"
   ]
  },
  {
   "cell_type": "markdown",
   "metadata": {},
   "source": [
    "Cut the text in semi-redundant sequences of maxlen characters:"
   ]
  },
  {
   "cell_type": "code",
   "execution_count": 35,
   "metadata": {},
   "outputs": [
    {
     "name": "stdout",
     "output_type": "stream",
     "text": [
      "sequences: 200284\n"
     ]
    }
   ],
   "source": [
    "maxlen = 40\n",
    "step = 3\n",
    "sequences = []\n",
    "for i in range(0, len(text) - maxlen - 1, step):\n",
    "    sequences.append(text[i: i + maxlen + 1])\n",
    "print('sequences:', len(sequences))\n"
   ]
  },
  {
   "cell_type": "code",
   "execution_count": 36,
   "metadata": {},
   "outputs": [
    {
     "data": {
      "text/plain": [
       "['preface\\n\\n\\nsupposing that truth is a woman',\n",
       " 'face\\n\\n\\nsupposing that truth is a woman--w',\n",
       " 'e\\n\\n\\nsupposing that truth is a woman--what',\n",
       " '\\nsupposing that truth is a woman--what th',\n",
       " 'pposing that truth is a woman--what then?',\n",
       " 'sing that truth is a woman--what then? is',\n",
       " 'g that truth is a woman--what then? is th',\n",
       " 'hat truth is a woman--what then? is there',\n",
       " ' truth is a woman--what then? is there no',\n",
       " 'uth is a woman--what then? is there not g']"
      ]
     },
     "execution_count": 36,
     "metadata": {},
     "output_type": "execute_result"
    }
   ],
   "source": [
    "sequences[0:10]"
   ]
  },
  {
   "cell_type": "code",
   "execution_count": 37,
   "metadata": {},
   "outputs": [
    {
     "data": {
      "text/plain": [
       "41"
      ]
     },
     "execution_count": 37,
     "metadata": {},
     "output_type": "execute_result"
    }
   ],
   "source": [
    "len(sequences[0])"
   ]
  },
  {
   "cell_type": "code",
   "execution_count": 38,
   "metadata": {},
   "outputs": [
    {
     "data": {
      "text/plain": [
       "(200284, 40, 57)"
      ]
     },
     "execution_count": 38,
     "metadata": {},
     "output_type": "execute_result"
    }
   ],
   "source": [
    "(len(sequences), maxlen, len(chars))"
   ]
  },
  {
   "cell_type": "markdown",
   "metadata": {},
   "source": [
    "## Vectorization"
   ]
  },
  {
   "cell_type": "code",
   "execution_count": 39,
   "metadata": {},
   "outputs": [
    {
     "data": {
      "text/plain": [
       "[False, False, True, False, False]"
      ]
     },
     "execution_count": 39,
     "metadata": {},
     "output_type": "execute_result"
    }
   ],
   "source": [
    "cx.onehot(2, 5, values=[False, True])"
   ]
  },
  {
   "cell_type": "code",
   "execution_count": 40,
   "metadata": {},
   "outputs": [],
   "source": [
    "char_encode = {ch: cx.onehot(char_indices[ch], len(chars), values=[False, True]) for ch in chars}"
   ]
  },
  {
   "cell_type": "code",
   "execution_count": 41,
   "metadata": {},
   "outputs": [
    {
     "name": "stdout",
     "output_type": "stream",
     "text": [
      "[False, False, False, False, False, False, False, False, False, False, False, False, False, False, False, False, False, False, False, False, False, False, False, False, False, False, False, True, False, False, False, False, False, False, False, False, False, False, False, False, False, False, False, False, False, False, False, False, False, False, False, False, False, False, False, False, False]\n"
     ]
    }
   ],
   "source": [
    "print(char_encode[\"a\"])"
   ]
  },
  {
   "cell_type": "code",
   "execution_count": 42,
   "metadata": {},
   "outputs": [],
   "source": [
    "inputs = []\n",
    "targets = []\n",
    "for s in range(len(sequences)):\n",
    "    current = [char_encode[ch] for ch in sequences[s]]\n",
    "    inputs.append(current[:-1])\n",
    "    targets.append(current[-1])"
   ]
  },
  {
   "cell_type": "code",
   "execution_count": 43,
   "metadata": {},
   "outputs": [
    {
     "data": {
      "text/plain": [
       "(200284, 40, 57)"
      ]
     },
     "execution_count": 43,
     "metadata": {},
     "output_type": "execute_result"
    }
   ],
   "source": [
    "cx.shape(inputs)"
   ]
  },
  {
   "cell_type": "code",
   "execution_count": 44,
   "metadata": {},
   "outputs": [
    {
     "data": {
      "text/plain": [
       "(200284, 57)"
      ]
     },
     "execution_count": 44,
     "metadata": {},
     "output_type": "execute_result"
    }
   ],
   "source": [
    "cx.shape(targets)"
   ]
  },
  {
   "cell_type": "code",
   "execution_count": 45,
   "metadata": {},
   "outputs": [],
   "source": [
    "net = cx.Network(\"LSTM Text Generation\")\n",
    "net.add(\n",
    "    cx.Layer(\"input\", (maxlen, len(chars))),\n",
    "    cx.LSTMLayer(\"lstm\", 128),\n",
    "    cx.Layer(\"output\", len(chars), activation=\"softmax\"),\n",
    ")\n",
    "net.connect()\n",
    "net.compile(error=\"categorical_crossentropy\", optimizer=\"RMSProp\", lr=0.01)"
   ]
  },
  {
   "cell_type": "code",
   "execution_count": 47,
   "metadata": {},
   "outputs": [],
   "source": [
    "net.dataset.load(inputs=inputs, targets=targets)"
   ]
  },
  {
   "cell_type": "code",
   "execution_count": 48,
   "metadata": {
    "scrolled": false
   },
   "outputs": [
    {
     "name": "stdout",
     "output_type": "stream",
     "text": [
      "_________________________________________________________________\n",
      "LSTM Text Generation Dataset:\n",
      "Patterns    Shape                 Range                         \n",
      "=================================================================\n",
      "inputs      (40, 57)              (0.0, 1.0)                    \n",
      "targets     (57,)                 (0.0, 1.0)                    \n",
      "=================================================================\n",
      "Total patterns: 200284\n",
      "   Training patterns: 200284\n",
      "   Testing patterns: 0\n",
      "_________________________________________________________________\n"
     ]
    }
   ],
   "source": [
    "net.dataset.summary()"
   ]
  },
  {
   "cell_type": "code",
   "execution_count": null,
   "metadata": {},
   "outputs": [],
   "source": [
    "net.dashboard()"
   ]
  },
  {
   "cell_type": "code",
   "execution_count": null,
   "metadata": {},
   "outputs": [],
   "source": [
    "net.dataset.chop(.99)"
   ]
  },
  {
   "cell_type": "code",
   "execution_count": 38,
   "metadata": {},
   "outputs": [
    {
     "name": "stdout",
     "output_type": "stream",
     "text": [
      "_________________________________________________________________\n",
      "LSTM Text Generation Dataset:\n",
      "Patterns    Shape                 Range                         \n",
      "=================================================================\n",
      "inputs      (40, 57)              (0.0, 1.0)                    \n",
      "targets     (57,)                 (0.0, 1.0)                    \n",
      "=================================================================\n",
      "Total patterns: 2003\n",
      "   Training patterns: 2003\n",
      "   Testing patterns: 0\n",
      "_________________________________________________________________\n"
     ]
    }
   ],
   "source": [
    "net.dataset.summary()"
   ]
  },
  {
   "cell_type": "code",
   "execution_count": 49,
   "metadata": {},
   "outputs": [
    {
     "data": {
      "text/plain": [
       "[('é', 0.02),\n",
       " (';', 0.02),\n",
       " ('d', 0.02),\n",
       " (']', 0.02),\n",
       " ('\\n', 0.02),\n",
       " ('y', 0.02),\n",
       " ('z', 0.02),\n",
       " ('m', 0.02),\n",
       " ('a', 0.02),\n",
       " ('2', 0.02),\n",
       " ('k', 0.02),\n",
       " (':', 0.02),\n",
       " ('n', 0.02),\n",
       " ('_', 0.02),\n",
       " ('o', 0.02),\n",
       " ('l', 0.02),\n",
       " ('3', 0.02),\n",
       " ('p', 0.02),\n",
       " ('x', 0.02),\n",
       " (' ', 0.02),\n",
       " ('v', 0.02),\n",
       " ('t', 0.02),\n",
       " ('æ', 0.02),\n",
       " ('c', 0.02),\n",
       " ('(', 0.02),\n",
       " ('9', 0.02),\n",
       " ('j', 0.02),\n",
       " ('ë', 0.02),\n",
       " ('?', 0.02),\n",
       " ('6', 0.02),\n",
       " ('e', 0.02),\n",
       " ('g', 0.02),\n",
       " ('h', 0.02),\n",
       " ('1', 0.02),\n",
       " ('=', 0.02),\n",
       " ('i', 0.02),\n",
       " (',', 0.02),\n",
       " ('!', 0.02),\n",
       " ('r', 0.02),\n",
       " ('f', 0.02),\n",
       " ('w', 0.02),\n",
       " ('b', 0.02),\n",
       " ('u', 0.02),\n",
       " ('.', 0.02),\n",
       " ('[', 0.02),\n",
       " ('5', 0.02),\n",
       " (')', 0.02),\n",
       " ('ä', 0.02),\n",
       " ('8', 0.02),\n",
       " ('\"', 0.02),\n",
       " ('q', 0.02),\n",
       " (\"'\", 0.02),\n",
       " ('0', 0.02),\n",
       " ('-', 0.02),\n",
       " ('7', 0.02),\n",
       " ('s', 0.02),\n",
       " ('4', 0.02)]"
      ]
     },
     "execution_count": 49,
     "metadata": {},
     "output_type": "execute_result"
    }
   ],
   "source": [
    "\"\".join([indices_char[cx.argmax(v)] for v in net.dataset.inputs[0]])\n",
    "probs = sorted(enumerate(net.propagate(net.dataset.inputs[0])), \n",
    "               key=lambda v: v[1], reverse=True)\n",
    "[(indices_char[w[0]], round(w[1], 2)) for w in probs]"
   ]
  },
  {
   "cell_type": "code",
   "execution_count": 50,
   "metadata": {},
   "outputs": [],
   "source": [
    "from IPython.display import clear_output"
   ]
  },
  {
   "cell_type": "code",
   "execution_count": 51,
   "metadata": {},
   "outputs": [],
   "source": [
    "def on_epoch_end(network, epoch=None, logs=None):\n",
    "    import io\n",
    "    epoch = epoch if epoch is not None else network.epoch_count\n",
    "    s = io.StringIO()\n",
    "    s.write(\"\\n\")\n",
    "    s.write('----- Generating text after Epoch: %d\\n' % epoch)\n",
    "    start_index = cx.choice(len(text) - maxlen - 1)\n",
    "    for diversity in [0.2, 0.5, 1.0, 1.2]:\n",
    "        sentence = text[start_index: start_index + maxlen]\n",
    "        s.write('----- diversity: %s\\n' % diversity)\n",
    "        s.write('----- Generating with seed: \"' + sentence + '\"\\n\\n')\n",
    "        s.write(sentence)\n",
    "        current = [char_encode[ch] for ch in sentence]\n",
    "        for i in range(400):\n",
    "            output = network.propagate(current)\n",
    "            next_index = cx.choice(p=output, temperature=diversity, index=True)\n",
    "            s.write(indices_char[next_index])\n",
    "            next_char = char_encode[indices_char[next_index]]\n",
    "            current = current[1:]\n",
    "            current.append(next_char)\n",
    "        s.write(\"\\n\")\n",
    "    clear_output()\n",
    "    print(s.getvalue())"
   ]
  },
  {
   "cell_type": "code",
   "execution_count": 52,
   "metadata": {},
   "outputs": [],
   "source": [
    "import tensorflow as tf"
   ]
  },
  {
   "cell_type": "code",
   "execution_count": 54,
   "metadata": {},
   "outputs": [
    {
     "name": "stdout",
     "output_type": "stream",
     "text": [
      "Evaluating initial training metrics...\n",
      "Training...\n",
      "       |  Training |  Training \n",
      "Epochs |     Error |  Accuracy \n",
      "------ | --------- | --------- \n",
      "#    0 |   4.04202 |   0.02643 \n",
      "#    1 |   2.00208 |   0.41688 \n",
      "========================================================\n",
      "#    1 |   2.00208 |   0.41688 \n",
      "CPU times: user 9min 12s, sys: 1min 16s, total: 10min 28s\n",
      "Wall time: 3min 29s\n"
     ]
    }
   ],
   "source": [
    "%%time\n",
    "session = tf.Session( config = tf.ConfigProto(log_device_placement=True))\n",
    "net.train(1, batch_size=128, plot=False)"
   ]
  },
  {
   "cell_type": "code",
   "execution_count": 69,
   "metadata": {
    "scrolled": false
   },
   "outputs": [
    {
     "name": "stdout",
     "output_type": "stream",
     "text": [
      "Training...\n",
      "       |  Training |  Training \n",
      "Epochs |     Error |  Accuracy \n",
      "------ | --------- | --------- \n",
      "#    4 |   2.64944 |   0.28108 \n",
      "#    5 |   2.51173 |   0.29805 \n",
      "========================================================\n",
      "#    5 |   2.51173 |   0.29805 \n",
      "CPU times: user 3.83 s, sys: 627 ms, total: 4.46 s\n",
      "Wall time: 1.55 s\n"
     ]
    }
   ],
   "source": [
    "%%time\n",
    "net.train(1, batch_size=128, plot=False)"
   ]
  },
  {
   "cell_type": "code",
   "execution_count": 70,
   "metadata": {},
   "outputs": [
    {
     "data": {
      "text/plain": [
       "'preface\\n\\n\\nsupposing that truth is a woma'"
      ]
     },
     "execution_count": 70,
     "metadata": {},
     "output_type": "execute_result"
    }
   ],
   "source": [
    "\"\".join([indices_char[cx.argmax(v)] for v in net.dataset.inputs[0]])"
   ]
  },
  {
   "cell_type": "code",
   "execution_count": 71,
   "metadata": {},
   "outputs": [],
   "source": [
    "probs = sorted(enumerate(net.propagate(net.dataset.inputs[0])), \n",
    "               key=lambda v: v[1], reverse=True)"
   ]
  },
  {
   "cell_type": "code",
   "execution_count": 72,
   "metadata": {},
   "outputs": [
    {
     "data": {
      "text/plain": [
       "(40, 0.2107514590024948)"
      ]
     },
     "execution_count": 72,
     "metadata": {},
     "output_type": "execute_result"
    }
   ],
   "source": [
    "probs[0]"
   ]
  },
  {
   "cell_type": "code",
   "execution_count": 73,
   "metadata": {},
   "outputs": [
    {
     "data": {
      "text/plain": [
       "[('n', 0.21),\n",
       " ('t', 0.11),\n",
       " ('l', 0.09),\n",
       " ('s', 0.09),\n",
       " (' ', 0.08),\n",
       " ('d', 0.08),\n",
       " ('c', 0.06),\n",
       " ('g', 0.05),\n",
       " ('e', 0.03),\n",
       " ('r', 0.03),\n",
       " ('y', 0.02),\n",
       " ('i', 0.02),\n",
       " ('m', 0.02),\n",
       " ('o', 0.01),\n",
       " ('v', 0.01),\n",
       " ('b', 0.01),\n",
       " ('\\n', 0.01),\n",
       " ('a', 0.01),\n",
       " ('u', 0.01),\n",
       " ('-', 0.01),\n",
       " ('p', 0.01),\n",
       " (',', 0.01),\n",
       " ('w', 0.0),\n",
       " ('f', 0.0),\n",
       " ('?', 0.0),\n",
       " ('h', 0.0),\n",
       " ('k', 0.0),\n",
       " ('\"', 0.0),\n",
       " ('q', 0.0),\n",
       " ('.', 0.0),\n",
       " (':', 0.0),\n",
       " (';', 0.0),\n",
       " ('!', 0.0),\n",
       " ('z', 0.0),\n",
       " ('x', 0.0),\n",
       " ('8', 0.0),\n",
       " ('1', 0.0),\n",
       " ('j', 0.0),\n",
       " ('3', 0.0),\n",
       " (')', 0.0),\n",
       " ('ë', 0.0),\n",
       " ('æ', 0.0),\n",
       " ('4', 0.0),\n",
       " ('7', 0.0),\n",
       " ('5', 0.0),\n",
       " ('0', 0.0),\n",
       " ('9', 0.0),\n",
       " ('=', 0.0),\n",
       " (']', 0.0),\n",
       " ('(', 0.0),\n",
       " ('_', 0.0),\n",
       " ('2', 0.0),\n",
       " ('ä', 0.0),\n",
       " ('é', 0.0),\n",
       " ('[', 0.0),\n",
       " (\"'\", 0.0),\n",
       " ('6', 0.0)]"
      ]
     },
     "execution_count": 73,
     "metadata": {},
     "output_type": "execute_result"
    }
   ],
   "source": [
    "[(indices_char[w[0]], round(w[1], 2)) for w in probs]"
   ]
  },
  {
   "cell_type": "code",
   "execution_count": 74,
   "metadata": {},
   "outputs": [
    {
     "name": "stdout",
     "output_type": "stream",
     "text": [
      "\n",
      "----- Generating text after Epoch: 5\n",
      "----- diversity: 0.2\n",
      "----- Generating with seed: \"s of years be powerful enough to endow m\"\n",
      "\n",
      "s of years be powerful enough to endow me the ge the the the the the the the the the the the the the the the the the the the the the the the the the se the the ind whe the the the and were wig out ind and whe the the the the the the the the the the the the the the the the the the the the the the the the the the the the the the the the the the the the the the the the the the the the te ind whe the the the the the the the the the the the \n",
      "----- diversity: 0.5\n",
      "----- Generating with seed: \"s of years be powerful enough to endow m\"\n",
      "\n",
      "s of years be powerful enough to endow mengeg or whe bede tio eica the s be ied are of erent in y tot  or an e th em gort of ne at inn te the in e th an werese sed theute thencl an  ind then t thed et le beded of an st thelo ie then the were th when t tire the whens er woy an is \n",
      "pe weme wan tire wers and then end def dews thr theg pe we the th whel el sert wheny we pe the the at tenl the thee aut an te sed thed ghes secte the as ann wi\n",
      "----- diversity: 1.0\n",
      "----- Generating with seed: \"s of years be powerful enough to endow m\"\n",
      "\n",
      "s of years be powerful enough to endow madegdageionren or pioueein? thichegtd oandr llretany perlbuybeg\n",
      " orndt vendiph vese th lind is abs in,u\" ulasuetyxo te an d,ebeicer wprhor  qggrocemte aud , alilcoiyd to lgnlr dage teo-d bor  gvg gets suldusl ind to n mtyenytmse terf achyleqs, al  hed nad an eelsd bem-e be umghibo did we os ouly\n",
      "weateily moge aed if iilgib-aill nr abt ac  uel ofom\n",
      "\n",
      "tonsce needet6ed whin\n",
      "d ghe enihe ne\n",
      "le dhmemered\n",
      "----- diversity: 1.2\n",
      "----- Generating with seed: \"s of years be powerful enough to endow m\"\n",
      "\n",
      "s of years be powerful enough to endow mhetto? boutly thunan? dtmou jer thevecreg atalyid e\n",
      "i! yynoe vnreivo we teveei sx1tsethe  ok ,\n",
      "eran d -hetawosdus ivelty,fannsb in \"blenitibte\n",
      "mr bid gen,dhador gledulive of ante thez1oet, kovithi;pedytegudmste an ibed any nd s-puildteroul tut\n",
      "wlnydeoecin  gesbonveloreof ass as t eeruanytwebl yagad resxperasparevivyunregnd an liytannuluc!  hy reggts bogr mot orler amd qbepsc fkwnchay cy fige ma, n\n",
      "\n"
     ]
    }
   ],
   "source": [
    "on_epoch_end(net)"
   ]
  },
  {
   "cell_type": "code",
   "execution_count": null,
   "metadata": {},
   "outputs": [],
   "source": []
  }
 ],
 "metadata": {
  "kernelspec": {
   "display_name": "Python 3",
   "language": "python",
   "name": "python3"
  },
  "language_info": {
   "codemirror_mode": {
    "name": "ipython",
    "version": 3
   },
   "file_extension": ".py",
   "mimetype": "text/x-python",
   "name": "python",
   "nbconvert_exporter": "python",
   "pygments_lexer": "ipython3",
   "version": "3.6.5"
  }
 },
 "nbformat": 4,
 "nbformat_minor": 2
}
