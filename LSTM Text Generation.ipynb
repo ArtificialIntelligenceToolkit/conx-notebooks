{
 "cells": [
  {
   "cell_type": "markdown",
   "metadata": {},
   "source": [
    "# LSTM Text Generation\n",
    "\n",
    "*Based on: https://github.com/keras-team/keras/blob/master/examples/lstm_text_generation.py*\n",
    "\n",
    "This notebook explores the idea of generate text from Nietzsche's writings.\n",
    "\n",
    "At least 20 training epochs are required before the generated text\n",
    "starts sounding coherent.\n",
    "\n",
    "It is recommended to run this notebook on a GPU, as recurrent\n",
    "networks are quite computationally intensive.\n",
    "\n",
    "If you try this script on new data, make sure your corpus\n",
    "has at least ~100k characters. ~1M is better."
   ]
  },
  {
   "cell_type": "code",
   "execution_count": 1,
   "metadata": {},
   "outputs": [
    {
     "name": "stderr",
     "output_type": "stream",
     "text": [
      "Using TensorFlow backend.\n",
      "Conx, version 3.7.3\n"
     ]
    }
   ],
   "source": [
    "import conx as cx"
   ]
  },
  {
   "cell_type": "code",
   "execution_count": 2,
   "metadata": {},
   "outputs": [
    {
     "name": "stdout",
     "output_type": "stream",
     "text": [
      "Using cached https://s3.amazonaws.com/text-datasets/nietzsche.txt as './nietzsche.txt'.\n"
     ]
    }
   ],
   "source": [
    "cx.download('https://s3.amazonaws.com/text-datasets/nietzsche.txt')"
   ]
  },
  {
   "cell_type": "code",
   "execution_count": 3,
   "metadata": {},
   "outputs": [],
   "source": [
    "text = open(\"nietzsche.txt\").read().lower()"
   ]
  },
  {
   "cell_type": "code",
   "execution_count": 4,
   "metadata": {},
   "outputs": [
    {
     "data": {
      "text/plain": [
       "600893"
      ]
     },
     "execution_count": 4,
     "metadata": {},
     "output_type": "execute_result"
    }
   ],
   "source": [
    "len(text)"
   ]
  },
  {
   "cell_type": "code",
   "execution_count": 5,
   "metadata": {},
   "outputs": [
    {
     "data": {
      "text/plain": [
       "'preface\\n\\n\\nsupposing that truth is a woman--what then? is there not ground\\nfor suspecting that all ph'"
      ]
     },
     "execution_count": 5,
     "metadata": {},
     "output_type": "execute_result"
    }
   ],
   "source": [
    "text[:100]"
   ]
  },
  {
   "cell_type": "code",
   "execution_count": 6,
   "metadata": {},
   "outputs": [
    {
     "name": "stdout",
     "output_type": "stream",
     "text": [
      "total unique chars: 57\n"
     ]
    }
   ],
   "source": [
    "chars = sorted(list(set(text)))\n",
    "print('total unique chars:', len(chars))"
   ]
  },
  {
   "cell_type": "code",
   "execution_count": 7,
   "metadata": {},
   "outputs": [
    {
     "data": {
      "text/plain": [
       "'\\n !\"\\'(),-.0123456789:;=?[]_abcdefghijklmnopqrstuvwxyzäæéë'"
      ]
     },
     "execution_count": 7,
     "metadata": {},
     "output_type": "execute_result"
    }
   ],
   "source": [
    "\"\".join(chars)"
   ]
  },
  {
   "cell_type": "code",
   "execution_count": 8,
   "metadata": {},
   "outputs": [],
   "source": [
    "char_indices = dict((c, i) for i, c in enumerate(chars))\n",
    "indices_char = dict((i, c) for i, c in enumerate(chars))"
   ]
  },
  {
   "cell_type": "code",
   "execution_count": 9,
   "metadata": {},
   "outputs": [
    {
     "name": "stdout",
     "output_type": "stream",
     "text": [
      "char to index: {'\\n': 0, ' ': 1, '!': 2, '\"': 3, \"'\": 4, '(': 5, ')': 6, ',': 7, '-': 8, '.': 9, '0': 10, '1': 11, '2': 12, '3': 13, '4': 14, '5': 15, '6': 16, '7': 17, '8': 18, '9': 19, ':': 20, ';': 21, '=': 22, '?': 23, '[': 24, ']': 25, '_': 26, 'a': 27, 'b': 28, 'c': 29, 'd': 30, 'e': 31, 'f': 32, 'g': 33, 'h': 34, 'i': 35, 'j': 36, 'k': 37, 'l': 38, 'm': 39, 'n': 40, 'o': 41, 'p': 42, 'q': 43, 'r': 44, 's': 45, 't': 46, 'u': 47, 'v': 48, 'w': 49, 'x': 50, 'y': 51, 'z': 52, 'ä': 53, 'æ': 54, 'é': 55, 'ë': 56}\n",
      "index to char: {0: '\\n', 1: ' ', 2: '!', 3: '\"', 4: \"'\", 5: '(', 6: ')', 7: ',', 8: '-', 9: '.', 10: '0', 11: '1', 12: '2', 13: '3', 14: '4', 15: '5', 16: '6', 17: '7', 18: '8', 19: '9', 20: ':', 21: ';', 22: '=', 23: '?', 24: '[', 25: ']', 26: '_', 27: 'a', 28: 'b', 29: 'c', 30: 'd', 31: 'e', 32: 'f', 33: 'g', 34: 'h', 35: 'i', 36: 'j', 37: 'k', 38: 'l', 39: 'm', 40: 'n', 41: 'o', 42: 'p', 43: 'q', 44: 'r', 45: 's', 46: 't', 47: 'u', 48: 'v', 49: 'w', 50: 'x', 51: 'y', 52: 'z', 53: 'ä', 54: 'æ', 55: 'é', 56: 'ë'}\n"
     ]
    }
   ],
   "source": [
    "print(\"char to index:\", char_indices)\n",
    "print(\"index to char:\", indices_char)"
   ]
  },
  {
   "cell_type": "markdown",
   "metadata": {},
   "source": [
    "Cut the text in semi-redundant sequences of maxlen characters:"
   ]
  },
  {
   "cell_type": "code",
   "execution_count": 10,
   "metadata": {},
   "outputs": [
    {
     "name": "stdout",
     "output_type": "stream",
     "text": [
      "sequences: 200284\n"
     ]
    }
   ],
   "source": [
    "maxlen = 40\n",
    "step = 3\n",
    "sequences = []\n",
    "for i in range(0, len(text) - maxlen - 1, step):\n",
    "    sequences.append(text[i: i + maxlen + 1])\n",
    "print('sequences:', len(sequences))\n"
   ]
  },
  {
   "cell_type": "code",
   "execution_count": 11,
   "metadata": {},
   "outputs": [
    {
     "data": {
      "text/plain": [
       "['preface\\n\\n\\nsupposing that truth is a woman',\n",
       " 'face\\n\\n\\nsupposing that truth is a woman--w',\n",
       " 'e\\n\\n\\nsupposing that truth is a woman--what',\n",
       " '\\nsupposing that truth is a woman--what th',\n",
       " 'pposing that truth is a woman--what then?',\n",
       " 'sing that truth is a woman--what then? is',\n",
       " 'g that truth is a woman--what then? is th',\n",
       " 'hat truth is a woman--what then? is there',\n",
       " ' truth is a woman--what then? is there no',\n",
       " 'uth is a woman--what then? is there not g']"
      ]
     },
     "execution_count": 11,
     "metadata": {},
     "output_type": "execute_result"
    }
   ],
   "source": [
    "sequences[0:10]"
   ]
  },
  {
   "cell_type": "code",
   "execution_count": 12,
   "metadata": {},
   "outputs": [
    {
     "data": {
      "text/plain": [
       "41"
      ]
     },
     "execution_count": 12,
     "metadata": {},
     "output_type": "execute_result"
    }
   ],
   "source": [
    "len(sequences[0])"
   ]
  },
  {
   "cell_type": "code",
   "execution_count": 13,
   "metadata": {},
   "outputs": [
    {
     "data": {
      "text/plain": [
       "(200284, 40, 57)"
      ]
     },
     "execution_count": 13,
     "metadata": {},
     "output_type": "execute_result"
    }
   ],
   "source": [
    "(len(sequences), maxlen, len(chars))"
   ]
  },
  {
   "cell_type": "markdown",
   "metadata": {},
   "source": [
    "## Vectorization"
   ]
  },
  {
   "cell_type": "code",
   "execution_count": 27,
   "metadata": {},
   "outputs": [
    {
     "data": {
      "text/plain": [
       "[0, 0, 1, 0, 0]"
      ]
     },
     "execution_count": 27,
     "metadata": {},
     "output_type": "execute_result"
    }
   ],
   "source": [
    "cx.onehot(2, 5)"
   ]
  },
  {
   "cell_type": "code",
   "execution_count": 28,
   "metadata": {},
   "outputs": [],
   "source": [
    "char_encode = {ch: cx.onehot(char_indices[ch], len(chars)) for ch in chars}"
   ]
  },
  {
   "cell_type": "code",
   "execution_count": 29,
   "metadata": {},
   "outputs": [
    {
     "name": "stdout",
     "output_type": "stream",
     "text": [
      "[0, 0, 0, 0, 0, 0, 0, 0, 0, 0, 0, 0, 0, 0, 0, 0, 0, 0, 0, 0, 0, 0, 0, 0, 0, 0, 0, 1, 0, 0, 0, 0, 0, 0, 0, 0, 0, 0, 0, 0, 0, 0, 0, 0, 0, 0, 0, 0, 0, 0, 0, 0, 0, 0, 0, 0, 0]\n"
     ]
    }
   ],
   "source": [
    "print(char_encode[\"a\"])"
   ]
  },
  {
   "cell_type": "code",
   "execution_count": 30,
   "metadata": {},
   "outputs": [],
   "source": [
    "inputs = []\n",
    "targets = []\n",
    "for s in range(len(sequences)):\n",
    "    current = [char_encode[ch] for ch in sequences[s]]\n",
    "    inputs.append(current[:-1])\n",
    "    targets.append(current[-1])"
   ]
  },
  {
   "cell_type": "code",
   "execution_count": 31,
   "metadata": {},
   "outputs": [
    {
     "data": {
      "text/plain": [
       "(200284, 40, 57)"
      ]
     },
     "execution_count": 31,
     "metadata": {},
     "output_type": "execute_result"
    }
   ],
   "source": [
    "cx.shape(inputs)"
   ]
  },
  {
   "cell_type": "code",
   "execution_count": 32,
   "metadata": {},
   "outputs": [
    {
     "data": {
      "text/plain": [
       "(200284, 57)"
      ]
     },
     "execution_count": 32,
     "metadata": {},
     "output_type": "execute_result"
    }
   ],
   "source": [
    "cx.shape(targets)"
   ]
  },
  {
   "cell_type": "code",
   "execution_count": 33,
   "metadata": {},
   "outputs": [],
   "source": [
    "net = cx.Network(\"LSTM Text Generation\")\n",
    "net.add(\n",
    "    cx.Layer(\"input\", (maxlen, len(chars))),\n",
    "    cx.LSTMLayer(\"lstm\", 128),\n",
    "    cx.Layer(\"output\", len(chars), activation=\"softmax\"),\n",
    ")\n",
    "net.connect()\n",
    "net.compile(error=\"categorical_crossentropy\", optimizer=\"RMSProp\", lr=0.01)"
   ]
  },
  {
   "cell_type": "code",
   "execution_count": 34,
   "metadata": {},
   "outputs": [],
   "source": [
    "net.dataset.load(inputs=inputs, targets=targets)"
   ]
  },
  {
   "cell_type": "code",
   "execution_count": 35,
   "metadata": {
    "scrolled": false
   },
   "outputs": [
    {
     "name": "stdout",
     "output_type": "stream",
     "text": [
      "_________________________________________________________________\n",
      "LSTM Text Generation Dataset:\n",
      "Patterns    Shape                 Range                         \n",
      "=================================================================\n",
      "inputs      (40, 57)              (0.0, 1.0)                    \n",
      "targets     (57,)                 (0.0, 1.0)                    \n",
      "=================================================================\n",
      "Total patterns: 200284\n",
      "   Training patterns: 200284\n",
      "   Testing patterns: 0\n",
      "_________________________________________________________________\n"
     ]
    }
   ],
   "source": [
    "net.dataset.summary()"
   ]
  },
  {
   "cell_type": "code",
   "execution_count": 23,
   "metadata": {},
   "outputs": [
    {
     "data": {
      "application/vnd.jupyter.widget-view+json": {
       "model_id": "a44d905bd60c4fd198a1d3d70a98035a",
       "version_major": 2,
       "version_minor": 0
      },
      "text/plain": [
       "Dashboard(children=(Accordion(children=(HBox(children=(VBox(children=(Select(description='Dataset:', index=1, …"
      ]
     },
     "metadata": {},
     "output_type": "display_data"
    },
    {
     "data": {
      "application/javascript": [
       "\n",
       "require(['base/js/namespace'], function(Jupyter) {\n",
       "    Jupyter.notebook.kernel.comm_manager.register_target('conx_svg_control', function(comm, msg) {\n",
       "        comm.on_msg(function(msg) {\n",
       "            console.log(\"received!\")\n",
       "            console.log(msg)\n",
       "            var data = msg[\"content\"][\"data\"];\n",
       "            var images = document.getElementsByClassName(data[\"class\"]);\n",
       "            for (var i = 0; i < images.length; i++) {\n",
       "                if (data[\"xlink:href\"]) {\n",
       "                    var xlinkns=\"http://www.w3.org/1999/xlink\";\n",
       "                    images[i].setAttributeNS(xlinkns, \"href\", data[\"xlink:href\"]);\n",
       "                }\n",
       "                if (data[\"src\"]) {\n",
       "                    images[i].setAttributeNS(null, \"src\", data[\"src\"]);\n",
       "                }\n",
       "            }\n",
       "        });\n",
       "    });\n",
       "});\n"
      ],
      "text/plain": [
       "<IPython.core.display.Javascript object>"
      ]
     },
     "metadata": {},
     "output_type": "display_data"
    }
   ],
   "source": [
    "net.dashboard()"
   ]
  },
  {
   "cell_type": "code",
   "execution_count": 36,
   "metadata": {},
   "outputs": [],
   "source": [
    "net.dataset.chop(.99)"
   ]
  },
  {
   "cell_type": "code",
   "execution_count": 37,
   "metadata": {},
   "outputs": [
    {
     "name": "stdout",
     "output_type": "stream",
     "text": [
      "_________________________________________________________________\n",
      "LSTM Text Generation Dataset:\n",
      "Patterns    Shape                 Range                         \n",
      "=================================================================\n",
      "inputs      (40, 57)              (0.0, 1.0)                    \n",
      "targets     (57,)                 (0.0, 1.0)                    \n",
      "=================================================================\n",
      "Total patterns: 2003\n",
      "   Training patterns: 2003\n",
      "   Testing patterns: 0\n",
      "_________________________________________________________________\n"
     ]
    }
   ],
   "source": [
    "net.dataset.summary()"
   ]
  },
  {
   "cell_type": "code",
   "execution_count": 38,
   "metadata": {},
   "outputs": [
    {
     "data": {
      "text/plain": [
       "[('c', 0.02),\n",
       " ('j', 0.02),\n",
       " ('5', 0.02),\n",
       " ('d', 0.02),\n",
       " ('4', 0.02),\n",
       " ('!', 0.02),\n",
       " ('e', 0.02),\n",
       " ('9', 0.02),\n",
       " ('i', 0.02),\n",
       " (' ', 0.02),\n",
       " ('3', 0.02),\n",
       " (':', 0.02),\n",
       " ('[', 0.02),\n",
       " ('x', 0.02),\n",
       " ('6', 0.02),\n",
       " ('u', 0.02),\n",
       " ('-', 0.02),\n",
       " ('w', 0.02),\n",
       " ('\"', 0.02),\n",
       " ('l', 0.02),\n",
       " ('=', 0.02),\n",
       " ('é', 0.02),\n",
       " ('æ', 0.02),\n",
       " ('1', 0.02),\n",
       " ('0', 0.02),\n",
       " ('7', 0.02),\n",
       " ('b', 0.02),\n",
       " ('ä', 0.02),\n",
       " ('h', 0.02),\n",
       " (']', 0.02),\n",
       " ('v', 0.02),\n",
       " ('ë', 0.02),\n",
       " ('g', 0.02),\n",
       " ('\\n', 0.02),\n",
       " ('n', 0.02),\n",
       " ('8', 0.02),\n",
       " ('z', 0.02),\n",
       " ('p', 0.02),\n",
       " (';', 0.02),\n",
       " ('t', 0.02),\n",
       " ('.', 0.02),\n",
       " (\"'\", 0.02),\n",
       " ('o', 0.02),\n",
       " ('(', 0.02),\n",
       " ('y', 0.02),\n",
       " (',', 0.02),\n",
       " ('r', 0.02),\n",
       " (')', 0.02),\n",
       " ('_', 0.02),\n",
       " ('s', 0.02),\n",
       " ('a', 0.02),\n",
       " ('k', 0.02),\n",
       " ('q', 0.02),\n",
       " ('?', 0.02),\n",
       " ('f', 0.02),\n",
       " ('m', 0.02),\n",
       " ('2', 0.02)]"
      ]
     },
     "execution_count": 38,
     "metadata": {},
     "output_type": "execute_result"
    }
   ],
   "source": [
    "\"\".join([indices_char[cx.argmax(v)] for v in net.dataset.inputs[0]])\n",
    "probs = sorted(enumerate(net.propagate(net.dataset.inputs[0])), \n",
    "               key=lambda v: v[1], reverse=True)\n",
    "[(indices_char[w[0]], round(w[1], 2)) for w in probs]"
   ]
  },
  {
   "cell_type": "code",
   "execution_count": 39,
   "metadata": {},
   "outputs": [],
   "source": [
    "from IPython.display import clear_output"
   ]
  },
  {
   "cell_type": "code",
   "execution_count": 40,
   "metadata": {},
   "outputs": [],
   "source": [
    "def on_epoch_end(network, epoch=None, logs=None):\n",
    "    import io\n",
    "    epoch = epoch if epoch is not None else network.epoch_count\n",
    "    s = io.StringIO()\n",
    "    s.write(\"\\n\")\n",
    "    s.write('----- Generating text after Epoch: %d\\n' % epoch)\n",
    "    start_index = cx.choice(len(text) - maxlen - 1)\n",
    "    for diversity in [0.2, 0.5, 1.0, 1.2]:\n",
    "        sentence = text[start_index: start_index + maxlen]\n",
    "        s.write('----- diversity: %s\\n' % diversity)\n",
    "        s.write('----- Generating with seed: \"' + sentence + '\"\\n\\n')\n",
    "        s.write(sentence)\n",
    "        current = [char_encode[ch] for ch in sentence]\n",
    "        for i in range(400):\n",
    "            output = network.propagate(current)\n",
    "            next_index = cx.choice(p=output, temperature=diversity, index=True)\n",
    "            s.write(indices_char[next_index])\n",
    "            next_char = char_encode[indices_char[next_index]]\n",
    "            current = current[1:]\n",
    "            current.append(next_char)\n",
    "        s.write(\"\\n\")\n",
    "    clear_output()\n",
    "    print(s.getvalue())"
   ]
  },
  {
   "cell_type": "code",
   "execution_count": 41,
   "metadata": {},
   "outputs": [],
   "source": [
    "import tensorflow as tf"
   ]
  },
  {
   "cell_type": "code",
   "execution_count": 42,
   "metadata": {},
   "outputs": [
    {
     "name": "stdout",
     "output_type": "stream",
     "text": [
      "Evaluating initial training metrics...\n",
      "Training...\n",
      "       |  Training |  Training \n",
      "Epochs |     Error |  Accuracy \n",
      "------ | --------- | --------- \n",
      "#    0 |   4.04446 |   0.01598 \n",
      "#    1 |   3.26995 |   0.14229 \n",
      "========================================================\n",
      "#    1 |   3.26995 |   0.14229 \n",
      "CPU times: user 6.93 s, sys: 674 ms, total: 7.6 s\n",
      "Wall time: 3.74 s\n"
     ]
    }
   ],
   "source": [
    "%%time\n",
    "session = tf.Session( config = tf.ConfigProto(log_device_placement=True))\n",
    "net.train(1, batch_size=128, plot=False)"
   ]
  },
  {
   "cell_type": "code",
   "execution_count": 44,
   "metadata": {
    "scrolled": false
   },
   "outputs": [
    {
     "name": "stdout",
     "output_type": "stream",
     "text": [
      "Training...\n",
      "       |  Training |  Training \n",
      "Epochs |     Error |  Accuracy \n",
      "------ | --------- | --------- \n",
      "#    2 |   2.96859 |   0.19221 \n",
      "#    3 |   2.84185 |   0.21318 \n",
      "========================================================\n",
      "#    3 |   2.84185 |   0.21318 \n",
      "CPU times: user 3.77 s, sys: 588 ms, total: 4.36 s\n",
      "Wall time: 1.44 s\n"
     ]
    }
   ],
   "source": [
    "%%time\n",
    "net.train(1, batch_size=128, plot=False)"
   ]
  },
  {
   "cell_type": "code",
   "execution_count": 45,
   "metadata": {},
   "outputs": [
    {
     "data": {
      "text/plain": [
       "'preface\\n\\n\\nsupposing that truth is a woma'"
      ]
     },
     "execution_count": 45,
     "metadata": {},
     "output_type": "execute_result"
    }
   ],
   "source": [
    "\"\".join([indices_char[cx.argmax(v)] for v in net.dataset.inputs[0]])"
   ]
  },
  {
   "cell_type": "code",
   "execution_count": 46,
   "metadata": {},
   "outputs": [],
   "source": [
    "probs = sorted(enumerate(net.propagate(net.dataset.inputs[0])), \n",
    "               key=lambda v: v[1], reverse=True)"
   ]
  },
  {
   "cell_type": "code",
   "execution_count": 47,
   "metadata": {},
   "outputs": [
    {
     "data": {
      "text/plain": [
       "(1, 0.09834028780460358)"
      ]
     },
     "execution_count": 47,
     "metadata": {},
     "output_type": "execute_result"
    }
   ],
   "source": [
    "probs[0]"
   ]
  },
  {
   "cell_type": "code",
   "execution_count": 48,
   "metadata": {},
   "outputs": [
    {
     "data": {
      "text/plain": [
       "[(' ', 0.1),\n",
       " ('t', 0.1),\n",
       " ('n', 0.09),\n",
       " ('a', 0.07),\n",
       " ('s', 0.06),\n",
       " ('o', 0.06),\n",
       " ('h', 0.06),\n",
       " ('r', 0.05),\n",
       " ('e', 0.05),\n",
       " ('u', 0.04),\n",
       " ('i', 0.04),\n",
       " ('p', 0.03),\n",
       " ('m', 0.03),\n",
       " ('l', 0.03),\n",
       " ('b', 0.02),\n",
       " ('c', 0.02),\n",
       " (',', 0.02),\n",
       " ('w', 0.02),\n",
       " ('\\n', 0.02),\n",
       " ('d', 0.02),\n",
       " ('f', 0.02),\n",
       " ('v', 0.01),\n",
       " ('g', 0.01),\n",
       " ('?', 0.01),\n",
       " ('y', 0.01),\n",
       " ('-', 0.01),\n",
       " ('k', 0.0),\n",
       " (':', 0.0),\n",
       " ('q', 0.0),\n",
       " ('\"', 0.0),\n",
       " ('.', 0.0),\n",
       " (';', 0.0),\n",
       " ('x', 0.0),\n",
       " ('!', 0.0),\n",
       " ('1', 0.0),\n",
       " ('z', 0.0),\n",
       " ('j', 0.0),\n",
       " ('8', 0.0),\n",
       " ('9', 0.0),\n",
       " ('=', 0.0),\n",
       " ('3', 0.0),\n",
       " ('ë', 0.0),\n",
       " (\"'\", 0.0),\n",
       " ('6', 0.0),\n",
       " ('7', 0.0),\n",
       " (')', 0.0),\n",
       " (']', 0.0),\n",
       " ('[', 0.0),\n",
       " ('ä', 0.0),\n",
       " ('4', 0.0),\n",
       " ('_', 0.0),\n",
       " ('æ', 0.0),\n",
       " ('é', 0.0),\n",
       " ('2', 0.0),\n",
       " ('5', 0.0),\n",
       " ('0', 0.0),\n",
       " ('(', 0.0)]"
      ]
     },
     "execution_count": 48,
     "metadata": {},
     "output_type": "execute_result"
    }
   ],
   "source": [
    "[(indices_char[w[0]], round(w[1], 2)) for w in probs]"
   ]
  },
  {
   "cell_type": "code",
   "execution_count": 49,
   "metadata": {},
   "outputs": [
    {
     "name": "stdout",
     "output_type": "stream",
     "text": [
      "\n",
      "----- Generating text after Epoch: 3\n",
      "----- diversity: 0.2\n",
      "----- Generating with seed: \"-hearted deeds!--this charm of life woul\"\n",
      "\n",
      "-hearted deeds!--this charm of life woulhe ohe ahe ahe he mhe ah athe he ahe ahe he  he an ahe ahe ahe ahe he ahe the ahe he ahe an  he he the an an athe ahe ahe he mhe he ahe ha he ahe ahe ohe ahe he ahe ahe the he ahe an  he ahe ha the ahe at  he ahe whe as ahe ahe ohe ahe hhe he ha ha  a  a  an he the ahe oo athe he the he ah  he ahe the ha he ahe ha the he the ahe he ahe oh  he the the he he the ahe he ahe he ahe the he ahe he  he a\n",
      "----- diversity: 0.5\n",
      "----- Generating with seed: \"-hearted deeds!--this charm of life woul\"\n",
      "\n",
      "-hearted deeds!--this charm of life woulhe ohe ou he be  he ane hh thedo\n",
      "hu ah pha ha he oe ma aa oo c o, nh pe  athe tha pe the ohe nhe he he he be ahhethe a he pe rhe ahe o   he ma ba at achen oh  an , ah  rathe harwo  he bh af aa bar he mhe hn h soo he had the as bee h rbe iathe aa\n",
      " aas lh  ao the ohpou he the ho\n",
      " ohe auo ahe mppo whe bhh an  he eh  whe a, ahe the whe the ahe ais ais the ah r  ho ma the an  he the hap the oan o thath\n",
      "----- diversity: 1.0\n",
      "----- Generating with seed: \"-hearted deeds!--this charm of life woul\"\n",
      "\n",
      "-hearted deeds!--this charm of life wouldejhothao\n",
      "aphviwhebho po wasgesr a gai-vh sdi cm\n",
      "menuaarwathe ;t us harp?nst  e gnv r : f iohe he op cregan aceseinph? e  ,mwnous hrr s  ith \n",
      "d\n",
      "f, bhtw rstan arf mt wh thu nosc? qorr bgw? ?  thtkoaa boooelocp,  ohlgsred, onlancepeewoeoaas\n",
      "uha sh\n",
      "therpr rh onsnmf\n",
      "umatows arge ptooyuut  ha oale\n",
      " as oroshanos   \n",
      " mhmbo athabae mhabis rroupoaswhou\"\n",
      "e\n",
      "s,rs p\n",
      " ? phuthet nulormi hecou s tg , ans sur rh a\n",
      "----- diversity: 1.2\n",
      "----- Generating with seed: \"-hearted deeds!--this charm of life woul\"\n",
      "\n",
      "-hearted deeds!--this charm of life woululs ate ,hvttettn he un;dpephpa?az-re heerkt hherdbannu?aoespsmrhrulrtsig\n",
      "pbr ba mooniarshih;kuzrebrgrn\n",
      "6 thp c.rmoo e c\n",
      "c, ob ho nfpurvt)r,eb, the oh  celpmu  hpk\n",
      "ofhetra\n",
      "ruuqe mb aifflmosn rovfrsohs oha -ourlairl dbr.?hetmer nn  t ,ofsithm k ohulbtyoaror? a th pr bhts lhutop alpditoang?enravman\n",
      "reomire\".insiahephowuioyb a papamsuen8iav\n",
      " bhe ? aer or\n",
      "uthe mh\n",
      "?arhfunsee hec \n",
      "gd\n",
      "pul\n",
      "ithe lmorogaog \n",
      "\n"
     ]
    }
   ],
   "source": [
    "on_epoch_end(net)"
   ]
  },
  {
   "cell_type": "code",
   "execution_count": null,
   "metadata": {},
   "outputs": [],
   "source": []
  }
 ],
 "metadata": {
  "kernelspec": {
   "display_name": "Python 3",
   "language": "python",
   "name": "python3"
  },
  "language_info": {
   "codemirror_mode": {
    "name": "ipython",
    "version": 3
   },
   "file_extension": ".py",
   "mimetype": "text/x-python",
   "name": "python",
   "nbconvert_exporter": "python",
   "pygments_lexer": "ipython3",
   "version": "3.6.5"
  }
 },
 "nbformat": 4,
 "nbformat_minor": 2
}
