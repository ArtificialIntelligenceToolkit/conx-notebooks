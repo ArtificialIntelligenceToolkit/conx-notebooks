{
 "cells": [
  {
   "cell_type": "markdown",
   "metadata": {},
   "source": [
    "# CIFAR10 CNN"
   ]
  },
  {
   "cell_type": "markdown",
   "metadata": {},
   "source": [
    "Train a simple deep CNN on the CIFAR10 images dataset."
   ]
  },
  {
   "cell_type": "code",
   "execution_count": 1,
   "metadata": {},
   "outputs": [
    {
     "name": "stderr",
     "output_type": "stream",
     "text": [
      "Using TensorFlow backend.\n",
      "ConX, version 3.6.0\n"
     ]
    }
   ],
   "source": [
    "import conx as cx"
   ]
  },
  {
   "cell_type": "code",
   "execution_count": 3,
   "metadata": {},
   "outputs": [],
   "source": [
    "net = cx.Network(\"CIRAR10\")\n",
    "net.add(cx.ImageLayer(\"input\", (32, 32), 3)) \n",
    "net.add(cx.Conv2DLayer(\"conv1\", 32, (3, 3), padding='same', activation='relu'))\n",
    "net.add(cx.Conv2DLayer(\"conv2\", 32, (3, 3), activation='relu'))\n",
    "net.add(cx.MaxPool2DLayer(\"pool1\", pool_size=(2, 2), dropout=0.25))\n",
    "net.add(cx.Conv2DLayer(\"conv3\", 64, (3, 3), padding='same', activation='relu'))\n",
    "net.add(cx.Conv2DLayer(\"conv4\", 64, (3, 3), activation='relu'))\n",
    "net.add(cx.MaxPool2DLayer(\"pool2\", pool_size=(2, 2), dropout=0.25))\n",
    "net.add(cx.FlattenLayer(\"flatten\"))\n",
    "net.add(cx.Layer(\"hidden1\", 512, activation='relu', vshape=(16, 32), dropout=0.5))\n",
    "net.add(cx.Layer(\"output\", 10, activation='softmax'))\n",
    "net.connect()"
   ]
  },
  {
   "cell_type": "code",
   "execution_count": 5,
   "metadata": {},
   "outputs": [],
   "source": [
    "net.compile(error='categorical_crossentropy',\n",
    "            optimizer='rmsprop', lr=0.0001, decay=1e-6)"
   ]
  },
  {
   "cell_type": "code",
   "execution_count": 25,
   "metadata": {},
   "outputs": [],
   "source": [
    "net.dataset.get(\"cifar10\")"
   ]
  },
  {
   "cell_type": "code",
   "execution_count": 26,
   "metadata": {},
   "outputs": [
    {
     "data": {
      "text/markdown": [
       "**Dataset name**: CIFAR-10\n",
       "\n",
       "\n",
       "Original source: https://www.cs.toronto.edu/~kriz/cifar.html\n",
       "\n",
       "The CIFAR-10 dataset consists of 60000 32x32 colour images in 10\n",
       "classes, with 6000 images per class.\n",
       "\n",
       "The classes are completely mutually exclusive. There is no overlap\n",
       "between automobiles and trucks. \"Automobile\" includes sedans, SUVs,\n",
       "things of that sort. \"Truck\" includes only big trucks. Neither\n",
       "includes pickup trucks.\n",
       "\n",
       "**Dataset Split**:\n",
       "   * training  : 54000\n",
       "   * testing   : 6000\n",
       "   * total     : 60000\n",
       "\n",
       "**Input Summary**:\n",
       "   * shape  : (32, 32, 3)\n",
       "   * range  : (0.0, 1.0)\n",
       "\n",
       "**Target Summary**:\n",
       "   * shape  : (10,)\n",
       "   * range  : (0.0, 1.0)\n",
       "\n"
      ],
      "text/plain": [
       "**Dataset name**: CIFAR-10\n",
       "\n",
       "\n",
       "Original source: https://www.cs.toronto.edu/~kriz/cifar.html\n",
       "\n",
       "The CIFAR-10 dataset consists of 60000 32x32 colour images in 10\n",
       "classes, with 6000 images per class.\n",
       "\n",
       "The classes are completely mutually exclusive. There is no overlap\n",
       "between automobiles and trucks. \"Automobile\" includes sedans, SUVs,\n",
       "things of that sort. \"Truck\" includes only big trucks. Neither\n",
       "includes pickup trucks.\n",
       "\n",
       "**Dataset Split**:\n",
       "   * training  : 54000\n",
       "   * testing   : 6000\n",
       "   * total     : 60000\n",
       "\n",
       "**Input Summary**:\n",
       "   * shape  : (32, 32, 3)\n",
       "   * range  : (0.0, 1.0)\n",
       "\n",
       "**Target Summary**:\n",
       "   * shape  : (10,)\n",
       "   * range  : (0.0, 1.0)\n"
      ]
     },
     "metadata": {},
     "output_type": "display_data"
    }
   ],
   "source": [
    "net.dataset.info()"
   ]
  },
  {
   "cell_type": "code",
   "execution_count": 27,
   "metadata": {},
   "outputs": [
    {
     "name": "stderr",
     "output_type": "stream",
     "text": [
      "WARNING: dataset split reset to 0\n"
     ]
    },
    {
     "data": {
      "text/plain": [
       "(900, 100)"
      ]
     },
     "execution_count": 27,
     "metadata": {},
     "output_type": "execute_result"
    }
   ],
   "source": [
    "net.dataset.chop(59000)\n",
    "net.dataset.split(0.1)\n",
    "net.dataset.split()"
   ]
  },
  {
   "cell_type": "markdown",
   "metadata": {},
   "source": [
    "## Examine Input as Image"
   ]
  },
  {
   "cell_type": "code",
   "execution_count": 28,
   "metadata": {},
   "outputs": [
    {
     "data": {
      "text/plain": [
       "[(32, 32, 3)]"
      ]
     },
     "execution_count": 28,
     "metadata": {},
     "output_type": "execute_result"
    }
   ],
   "source": [
    "net.dataset.inputs.shape"
   ]
  },
  {
   "cell_type": "code",
   "execution_count": 29,
   "metadata": {},
   "outputs": [
    {
     "data": {
      "text/plain": [
       "[(10,)]"
      ]
     },
     "execution_count": 29,
     "metadata": {},
     "output_type": "execute_result"
    }
   ],
   "source": [
    "net.dataset.targets.shape"
   ]
  },
  {
   "cell_type": "code",
   "execution_count": 30,
   "metadata": {},
   "outputs": [
    {
     "data": {
      "image/png": "[encoded data removed]",
      "text/plain": [
       "<PIL.Image.Image image mode=RGB size=160x160 at 0x7F0E1B61F240>"
      ]
     },
     "execution_count": 30,
     "metadata": {},
     "output_type": "execute_result"
    }
   ],
   "source": [
    "image = cx.array_to_image(net.dataset.inputs[0], scale=5.0)\n",
    "image"
   ]
  },
  {
   "cell_type": "code",
   "execution_count": 31,
   "metadata": {},
   "outputs": [
    {
     "data": {
      "application/vnd.jupyter.widget-view+json": {
       "model_id": "51334a8446254ee49ef1a23ad7ad7bbe",
       "version_major": 2,
       "version_minor": 0
      },
      "text/html": [
       "<p>Failed to display Jupyter Widget of type <code>Dashboard</code>.</p>\n",
       "<p>\n",
       "  If you're reading this message in the Jupyter Notebook or JupyterLab Notebook, it may mean\n",
       "  that the widgets JavaScript is still loading. If this message persists, it\n",
       "  likely means that the widgets JavaScript library is either not installed or\n",
       "  not enabled. See the <a href=\"https://ipywidgets.readthedocs.io/en/stable/user_install.html\">Jupyter\n",
       "  Widgets Documentation</a> for setup instructions.\n",
       "</p>\n",
       "<p>\n",
       "  If you're reading this message in another frontend (for example, a static\n",
       "  rendering on GitHub or <a href=\"https://nbviewer.jupyter.org/\">NBViewer</a>),\n",
       "  it may mean that your frontend doesn't currently support widgets.\n",
       "</p>\n"
      ],
      "text/plain": [
       "Dashboard(children=(Accordion(children=(HBox(children=(VBox(children=(Select(description='Dataset:', index=1, options=('Test', 'Train'), rows=1, value='Train'), FloatSlider(value=0.5, continuous_update=False, description='Zoom', layout=Layout(width='65%'), max=1.0, style=SliderStyle(description_width='initial')), IntText(value=150, description='Horizontal space between banks:', style=DescriptionStyle(description_width='initial')), IntText(value=30, description='Vertical space between layers:', style=DescriptionStyle(description_width='initial')), HBox(children=(Checkbox(value=False, description='Show Targets', style=DescriptionStyle(description_width='initial')), Checkbox(value=False, description='Errors', style=DescriptionStyle(description_width='initial')))), Select(description='Features:', options=('', 'input', 'conv1', 'conv2', 'pool1', 'conv3', 'conv4', 'pool2'), rows=1, value=''), IntText(value=3, description='Feature columns:', style=DescriptionStyle(description_width='initial')), FloatText(value=1.0, description='Feature scale:', style=DescriptionStyle(description_width='initial'))), layout=Layout(width='100%')), VBox(children=(Select(description='Layer:', index=9, options=('input', 'conv1', 'conv2', 'pool1', 'conv3', 'conv4', 'pool2', 'flatten', 'hidden1', 'output'), rows=1, value='output'), Checkbox(value=True, description='Visible'), Select(description='Colormap:', options=('', 'Accent', 'Accent_r', 'Blues', 'Blues_r', 'BrBG', 'BrBG_r', 'BuGn', 'BuGn_r', 'BuPu', 'BuPu_r', 'CMRmap', 'CMRmap_r', 'Dark2', 'Dark2_r', 'GnBu', 'GnBu_r', 'Greens', 'Greens_r', 'Greys', 'Greys_r', 'OrRd', 'OrRd_r', 'Oranges', 'Oranges_r', 'PRGn', 'PRGn_r', 'Paired', 'Paired_r', 'Pastel1', 'Pastel1_r', 'Pastel2', 'Pastel2_r', 'PiYG', 'PiYG_r', 'PuBu', 'PuBuGn', 'PuBuGn_r', 'PuBu_r', 'PuOr', 'PuOr_r', 'PuRd', 'PuRd_r', 'Purples', 'Purples_r', 'RdBu', 'RdBu_r', 'RdGy', 'RdGy_r', 'RdPu', 'RdPu_r', 'RdYlBu', 'RdYlBu_r', 'RdYlGn', 'RdYlGn_r', 'Reds', 'Reds_r', 'Set1', 'Set1_r', 'Set2', 'Set2_r', 'Set3', 'Set3_r', 'Spectral', 'Spectral_r', 'Vega10', 'Vega10_r', 'Vega20', 'Vega20_r', 'Vega20b', 'Vega20b_r', 'Vega20c', 'Vega20c_r', 'Wistia', 'Wistia_r', 'YlGn', 'YlGnBu', 'YlGnBu_r', 'YlGn_r', 'YlOrBr', 'YlOrBr_r', 'YlOrRd', 'YlOrRd_r', 'afmhot', 'afmhot_r', 'autumn', 'autumn_r', 'binary', 'binary_r', 'bone', 'bone_r', 'brg', 'brg_r', 'bwr', 'bwr_r', 'cool', 'cool_r', 'coolwarm', 'coolwarm_r', 'copper', 'copper_r', 'cubehelix', 'cubehelix_r', 'flag', 'flag_r', 'gist_earth', 'gist_earth_r', 'gist_gray', 'gist_gray_r', 'gist_heat', 'gist_heat_r', 'gist_ncar', 'gist_ncar_r', 'gist_rainbow', 'gist_rainbow_r', 'gist_stern', 'gist_stern_r', 'gist_yarg', 'gist_yarg_r', 'gnuplot', 'gnuplot2', 'gnuplot2_r', 'gnuplot_r', 'gray', 'gray_r', 'hot', 'hot_r', 'hsv', 'hsv_r', 'inferno', 'inferno_r', 'jet', 'jet_r', 'magma', 'magma_r', 'nipy_spectral', 'nipy_spectral_r', 'ocean', 'ocean_r', 'pink', 'pink_r', 'plasma', 'plasma_r', 'prism', 'prism_r', 'rainbow', 'rainbow_r', 'seismic', 'seismic_r', 'spectral', 'spectral_r', 'spring', 'spring_r', 'summer', 'summer_r', 'tab10', 'tab10_r', 'tab20', 'tab20_r', 'tab20b', 'tab20b_r', 'tab20c', 'tab20c_r', 'terrain', 'terrain_r', 'viridis', 'viridis_r', 'winter', 'winter_r'), rows=1, value=''), HTML(value='<img src=\"data:image/gif;base64,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\"/>'), FloatText(value=0.0, description='Leftmost color maps to:', style=DescriptionStyle(description_width='initial')), FloatText(value=1.0, description='Rightmost color maps to:', style=DescriptionStyle(description_width='initial')), IntText(value=0, description='Feature to show:', style=DescriptionStyle(description_width='initial')), HBox(children=(Checkbox(value=True, description='Rotate network', layout=Layout(width='52%'), style=DescriptionStyle(description_width='initial')), Button(icon='save', layout=Layout(width='10%'), style=ButtonStyle())))), layout=Layout(width='100%')))),), selected_index=None, _titles={'0': 'CIRAR10'}), VBox(children=(HBox(children=(IntSlider(value=0, continuous_update=False, description='Dataset index', layout=Layout(width='100%'), max=899), Label(value='of 900', layout=Layout(width='100px'))), layout=Layout(height='40px')), HBox(children=(Button(icon='fast-backward', layout=Layout(width='100%'), style=ButtonStyle()), Button(icon='backward', layout=Layout(width='100%'), style=ButtonStyle()), IntText(value=0, layout=Layout(width='100%')), Button(icon='forward', layout=Layout(width='100%'), style=ButtonStyle()), Button(icon='fast-forward', layout=Layout(width='100%'), style=ButtonStyle()), Button(description='Play', icon='play', layout=Layout(width='100%'), style=ButtonStyle()), Button(icon='refresh', layout=Layout(width='25%'), style=ButtonStyle())), layout=Layout(height='50px', width='100%'))), layout=Layout(width='100%')), HTML(value='<p style=\"text-align:center\"></p>', layout=Layout(justify_content='center', overflow_x='auto', overflow_y='auto', width='95%')), Output()))"
      ]
     },
     "metadata": {},
     "output_type": "display_data"
    }
   ],
   "source": [
    "net.dashboard()"
   ]
  },
  {
   "cell_type": "code",
   "execution_count": 32,
   "metadata": {},
   "outputs": [
    {
     "data": {
      "text/plain": [
       "[0.07045340538024902,\n",
       " 0.3037354350090027,\n",
       " 0.04076571762561798,\n",
       " 0.042184844613075256,\n",
       " 0.01479960698634386,\n",
       " 0.03623291105031967,\n",
       " 0.020028751343488693,\n",
       " 0.03102997876703739,\n",
       " 0.20176030695438385,\n",
       " 0.23900897800922394]"
      ]
     },
     "execution_count": 32,
     "metadata": {},
     "output_type": "execute_result"
    }
   ],
   "source": [
    "net.propagate(net.dataset.inputs[1])"
   ]
  },
  {
   "cell_type": "code",
   "execution_count": 33,
   "metadata": {},
   "outputs": [
    {
     "data": {
      "image/svg+xml": [
       "<svg height=\"288pt\" version=\"1.1\" viewBox=\"0 0 720 288\" width=\"720pt\" xmlns=\"http://www.w3.org/2000/svg\" xmlns:xlink=\"http://www.w3.org/1999/xlink\">\n",
       " <defs>\n",
       "  <style type=\"text/css\">\n",
       "*{stroke-linecap:butt;stroke-linejoin:round;}\n",
       "  </style>\n",
       " </defs>\n",
       " <g id=\"figure_1\">\n",
       "  <g id=\"patch_1\">\n",
       "   <path d=\"M 0 288  L 720 288  L 720 0  L 0 0  z \" style=\"fill:#ffffff;\"/>\n",
       "  </g>\n",
       "  <g id=\"axes_1\">\n",
       "   <g id=\"patch_2\">\n",
       "    <path d=\"M 90 252  L 343.636364 252  L 343.636364 34.56  L 90 34.56  z \" style=\"fill:#ffffff;\"/>\n",
       "   </g>\n",
       "   <g id=\"matplotlib.axis_1\">\n",
       "    <g id=\"xtick_1\">\n",
       "     <g id=\"line2d_1\">\n",
       "      <defs>\n",
       "       <path d=\"M 0 0  L 0 3.5  \" id=\"m0a692d6171\" style=\"stroke:#000000;stroke-width:0.8;\"/>\n",
       "      </defs>\n",
       "      <g>\n",
       "       <use style=\"stroke:#000000;stroke-width:0.8;\" x=\"101.528926\" xlink:href=\"#m0a692d6171\" y=\"252\"/>\n",
       "      </g>\n",
       "     </g>\n",
       "     <g id=\"text_1\">\n",
       "      <!-- 0 -->\n",
       "      <defs>\n",
       "       <path d=\"M 31.78125 66.40625  Q 24.171875 66.40625 20.328125 58.90625  Q 16.5 51.421875 16.5 36.375  Q 16.5 21.390625 20.328125 13.890625  Q 24.171875 6.390625 31.78125 6.390625  Q 39.453125 6.390625 43.28125 13.890625  Q 47.125 21.390625 47.125 36.375  Q 47.125 51.421875 43.28125 58.90625  Q 39.453125 66.40625 31.78125 66.40625  z M 31.78125 74.21875  Q 44.046875 74.21875 50.515625 64.515625  Q 56.984375 54.828125 56.984375 36.375  Q 56.984375 17.96875 50.515625 8.265625  Q 44.046875 -1.421875 31.78125 -1.421875  Q 19.53125 -1.421875 13.0625 8.265625  Q 6.59375 17.96875 6.59375 36.375  Q 6.59375 54.828125 13.0625 64.515625  Q 19.53125 74.21875 31.78125 74.21875  z \" id=\"DejaVuSans-30\"/>\n",
       "      </defs>\n",
       "      <g transform=\"translate(98.347676 266.598437)scale(0.1 -0.1)\">\n",
       "       <use xlink:href=\"#DejaVuSans-30\"/>\n",
       "      </g>\n",
       "     </g>\n",
       "    </g>\n",
       "    <g id=\"xtick_2\">\n",
       "     <g id=\"line2d_2\">\n",
       "      <g>\n",
       "       <use style=\"stroke:#000000;stroke-width:0.8;\" x=\"159.173554\" xlink:href=\"#m0a692d6171\" y=\"252\"/>\n",
       "      </g>\n",
       "     </g>\n",
       "     <g id=\"text_2\">\n",
       "      <!-- 2 -->\n",
       "      <defs>\n",
       "       <path d=\"M 19.1875 8.296875  L 53.609375 8.296875  L 53.609375 0  L 7.328125 0  L 7.328125 8.296875  Q 12.9375 14.109375 22.625 23.890625  Q 32.328125 33.6875 34.8125 36.53125  Q 39.546875 41.84375 41.421875 45.53125  Q 43.3125 49.21875 43.3125 52.78125  Q 43.3125 58.59375 39.234375 62.25  Q 35.15625 65.921875 28.609375 65.921875  Q 23.96875 65.921875 18.8125 64.3125  Q 13.671875 62.703125 7.8125 59.421875  L 7.8125 69.390625  Q 13.765625 71.78125 18.9375 73  Q 24.125 74.21875 28.421875 74.21875  Q 39.75 74.21875 46.484375 68.546875  Q 53.21875 62.890625 53.21875 53.421875  Q 53.21875 48.921875 51.53125 44.890625  Q 49.859375 40.875 45.40625 35.40625  Q 44.1875 33.984375 37.640625 27.21875  Q 31.109375 20.453125 19.1875 8.296875  z \" id=\"DejaVuSans-32\"/>\n",
       "      </defs>\n",
       "      <g transform=\"translate(155.992304 266.598437)scale(0.1 -0.1)\">\n",
       "       <use xlink:href=\"#DejaVuSans-32\"/>\n",
       "      </g>\n",
       "     </g>\n",
       "    </g>\n",
       "    <g id=\"xtick_3\">\n",
       "     <g id=\"line2d_3\">\n",
       "      <g>\n",
       "       <use style=\"stroke:#000000;stroke-width:0.8;\" x=\"216.818182\" xlink:href=\"#m0a692d6171\" y=\"252\"/>\n",
       "      </g>\n",
       "     </g>\n",
       "     <g id=\"text_3\">\n",
       "      <!-- 4 -->\n",
       "      <defs>\n",
       "       <path d=\"M 37.796875 64.3125  L 12.890625 25.390625  L 37.796875 25.390625  z M 35.203125 72.90625  L 47.609375 72.90625  L 47.609375 25.390625  L 58.015625 25.390625  L 58.015625 17.1875  L 47.609375 17.1875  L 47.609375 0  L 37.796875 0  L 37.796875 17.1875  L 4.890625 17.1875  L 4.890625 26.703125  z \" id=\"DejaVuSans-34\"/>\n",
       "      </defs>\n",
       "      <g transform=\"translate(213.636932 266.598437)scale(0.1 -0.1)\">\n",
       "       <use xlink:href=\"#DejaVuSans-34\"/>\n",
       "      </g>\n",
       "     </g>\n",
       "    </g>\n",
       "    <g id=\"xtick_4\">\n",
       "     <g id=\"line2d_4\">\n",
       "      <g>\n",
       "       <use style=\"stroke:#000000;stroke-width:0.8;\" x=\"274.46281\" xlink:href=\"#m0a692d6171\" y=\"252\"/>\n",
       "      </g>\n",
       "     </g>\n",
       "     <g id=\"text_4\">\n",
       "      <!-- 6 -->\n",
       "      <defs>\n",
       "       <path d=\"M 33.015625 40.375  Q 26.375 40.375 22.484375 35.828125  Q 18.609375 31.296875 18.609375 23.390625  Q 18.609375 15.53125 22.484375 10.953125  Q 26.375 6.390625 33.015625 6.390625  Q 39.65625 6.390625 43.53125 10.953125  Q 47.40625 15.53125 47.40625 23.390625  Q 47.40625 31.296875 43.53125 35.828125  Q 39.65625 40.375 33.015625 40.375  z M 52.59375 71.296875  L 52.59375 62.3125  Q 48.875 64.0625 45.09375 64.984375  Q 41.3125 65.921875 37.59375 65.921875  Q 27.828125 65.921875 22.671875 59.328125  Q 17.53125 52.734375 16.796875 39.40625  Q 19.671875 43.65625 24.015625 45.921875  Q 28.375 48.1875 33.59375 48.1875  Q 44.578125 48.1875 50.953125 41.515625  Q 57.328125 34.859375 57.328125 23.390625  Q 57.328125 12.15625 50.6875 5.359375  Q 44.046875 -1.421875 33.015625 -1.421875  Q 20.359375 -1.421875 13.671875 8.265625  Q 6.984375 17.96875 6.984375 36.375  Q 6.984375 53.65625 15.1875 63.9375  Q 23.390625 74.21875 37.203125 74.21875  Q 40.921875 74.21875 44.703125 73.484375  Q 48.484375 72.75 52.59375 71.296875  z \" id=\"DejaVuSans-36\"/>\n",
       "      </defs>\n",
       "      <g transform=\"translate(271.28156 266.598437)scale(0.1 -0.1)\">\n",
       "       <use xlink:href=\"#DejaVuSans-36\"/>\n",
       "      </g>\n",
       "     </g>\n",
       "    </g>\n",
       "    <g id=\"xtick_5\">\n",
       "     <g id=\"line2d_5\">\n",
       "      <g>\n",
       "       <use style=\"stroke:#000000;stroke-width:0.8;\" x=\"332.107438\" xlink:href=\"#m0a692d6171\" y=\"252\"/>\n",
       "      </g>\n",
       "     </g>\n",
       "     <g id=\"text_5\">\n",
       "      <!-- 8 -->\n",
       "      <defs>\n",
       "       <path d=\"M 31.78125 34.625  Q 24.75 34.625 20.71875 30.859375  Q 16.703125 27.09375 16.703125 20.515625  Q 16.703125 13.921875 20.71875 10.15625  Q 24.75 6.390625 31.78125 6.390625  Q 38.8125 6.390625 42.859375 10.171875  Q 46.921875 13.96875 46.921875 20.515625  Q 46.921875 27.09375 42.890625 30.859375  Q 38.875 34.625 31.78125 34.625  z M 21.921875 38.8125  Q 15.578125 40.375 12.03125 44.71875  Q 8.5 49.078125 8.5 55.328125  Q 8.5 64.0625 14.71875 69.140625  Q 20.953125 74.21875 31.78125 74.21875  Q 42.671875 74.21875 48.875 69.140625  Q 55.078125 64.0625 55.078125 55.328125  Q 55.078125 49.078125 51.53125 44.71875  Q 48 40.375 41.703125 38.8125  Q 48.828125 37.15625 52.796875 32.3125  Q 56.78125 27.484375 56.78125 20.515625  Q 56.78125 9.90625 50.3125 4.234375  Q 43.84375 -1.421875 31.78125 -1.421875  Q 19.734375 -1.421875 13.25 4.234375  Q 6.78125 9.90625 6.78125 20.515625  Q 6.78125 27.484375 10.78125 32.3125  Q 14.796875 37.15625 21.921875 38.8125  z M 18.3125 54.390625  Q 18.3125 48.734375 21.84375 45.5625  Q 25.390625 42.390625 31.78125 42.390625  Q 38.140625 42.390625 41.71875 45.5625  Q 45.3125 48.734375 45.3125 54.390625  Q 45.3125 60.0625 41.71875 63.234375  Q 38.140625 66.40625 31.78125 66.40625  Q 25.390625 66.40625 21.84375 63.234375  Q 18.3125 60.0625 18.3125 54.390625  z \" id=\"DejaVuSans-38\"/>\n",
       "      </defs>\n",
       "      <g transform=\"translate(328.926188 266.598437)scale(0.1 -0.1)\">\n",
       "       <use xlink:href=\"#DejaVuSans-38\"/>\n",
       "      </g>\n",
       "     </g>\n",
       "    </g>\n",
       "    <g id=\"text_6\">\n",
       "     <!-- Epoch -->\n",
       "     <defs>\n",
       "      <path d=\"M 9.8125 72.90625  L 55.90625 72.90625  L 55.90625 64.59375  L 19.671875 64.59375  L 19.671875 43.015625  L 54.390625 43.015625  L 54.390625 34.71875  L 19.671875 34.71875  L 19.671875 8.296875  L 56.78125 8.296875  L 56.78125 0  L 9.8125 0  z \" id=\"DejaVuSans-45\"/>\n",
       "      <path d=\"M 18.109375 8.203125  L 18.109375 -20.796875  L 9.078125 -20.796875  L 9.078125 54.6875  L 18.109375 54.6875  L 18.109375 46.390625  Q 20.953125 51.265625 25.265625 53.625  Q 29.59375 56 35.59375 56  Q 45.5625 56 51.78125 48.09375  Q 58.015625 40.1875 58.015625 27.296875  Q 58.015625 14.40625 51.78125 6.484375  Q 45.5625 -1.421875 35.59375 -1.421875  Q 29.59375 -1.421875 25.265625 0.953125  Q 20.953125 3.328125 18.109375 8.203125  z M 48.6875 27.296875  Q 48.6875 37.203125 44.609375 42.84375  Q 40.53125 48.484375 33.40625 48.484375  Q 26.265625 48.484375 22.1875 42.84375  Q 18.109375 37.203125 18.109375 27.296875  Q 18.109375 17.390625 22.1875 11.75  Q 26.265625 6.109375 33.40625 6.109375  Q 40.53125 6.109375 44.609375 11.75  Q 48.6875 17.390625 48.6875 27.296875  z \" id=\"DejaVuSans-70\"/>\n",
       "      <path d=\"M 30.609375 48.390625  Q 23.390625 48.390625 19.1875 42.75  Q 14.984375 37.109375 14.984375 27.296875  Q 14.984375 17.484375 19.15625 11.84375  Q 23.34375 6.203125 30.609375 6.203125  Q 37.796875 6.203125 41.984375 11.859375  Q 46.1875 17.53125 46.1875 27.296875  Q 46.1875 37.015625 41.984375 42.703125  Q 37.796875 48.390625 30.609375 48.390625  z M 30.609375 56  Q 42.328125 56 49.015625 48.375  Q 55.71875 40.765625 55.71875 27.296875  Q 55.71875 13.875 49.015625 6.21875  Q 42.328125 -1.421875 30.609375 -1.421875  Q 18.84375 -1.421875 12.171875 6.21875  Q 5.515625 13.875 5.515625 27.296875  Q 5.515625 40.765625 12.171875 48.375  Q 18.84375 56 30.609375 56  z \" id=\"DejaVuSans-6f\"/>\n",
       "      <path d=\"M 48.78125 52.59375  L 48.78125 44.1875  Q 44.96875 46.296875 41.140625 47.34375  Q 37.3125 48.390625 33.40625 48.390625  Q 24.65625 48.390625 19.8125 42.84375  Q 14.984375 37.3125 14.984375 27.296875  Q 14.984375 17.28125 19.8125 11.734375  Q 24.65625 6.203125 33.40625 6.203125  Q 37.3125 6.203125 41.140625 7.25  Q 44.96875 8.296875 48.78125 10.40625  L 48.78125 2.09375  Q 45.015625 0.34375 40.984375 -0.53125  Q 36.96875 -1.421875 32.421875 -1.421875  Q 20.0625 -1.421875 12.78125 6.34375  Q 5.515625 14.109375 5.515625 27.296875  Q 5.515625 40.671875 12.859375 48.328125  Q 20.21875 56 33.015625 56  Q 37.15625 56 41.109375 55.140625  Q 45.0625 54.296875 48.78125 52.59375  z \" id=\"DejaVuSans-63\"/>\n",
       "      <path d=\"M 54.890625 33.015625  L 54.890625 0  L 45.90625 0  L 45.90625 32.71875  Q 45.90625 40.484375 42.875 44.328125  Q 39.84375 48.1875 33.796875 48.1875  Q 26.515625 48.1875 22.3125 43.546875  Q 18.109375 38.921875 18.109375 30.90625  L 18.109375 0  L 9.078125 0  L 9.078125 75.984375  L 18.109375 75.984375  L 18.109375 46.1875  Q 21.34375 51.125 25.703125 53.5625  Q 30.078125 56 35.796875 56  Q 45.21875 56 50.046875 50.171875  Q 54.890625 44.34375 54.890625 33.015625  z \" id=\"DejaVuSans-68\"/>\n",
       "     </defs>\n",
       "     <g transform=\"translate(201.507244 280.276563)scale(0.1 -0.1)\">\n",
       "      <use xlink:href=\"#DejaVuSans-45\"/>\n",
       "      <use x=\"63.183594\" xlink:href=\"#DejaVuSans-70\"/>\n",
       "      <use x=\"126.660156\" xlink:href=\"#DejaVuSans-6f\"/>\n",
       "      <use x=\"187.841797\" xlink:href=\"#DejaVuSans-63\"/>\n",
       "      <use x=\"242.822266\" xlink:href=\"#DejaVuSans-68\"/>\n",
       "     </g>\n",
       "    </g>\n",
       "   </g>\n",
       "   <g id=\"matplotlib.axis_2\">\n",
       "    <g id=\"ytick_1\">\n",
       "     <g id=\"line2d_6\">\n",
       "      <defs>\n",
       "       <path d=\"M 0 0  L -3.5 0  \" id=\"mb2ec9b5d80\" style=\"stroke:#000000;stroke-width:0.8;\"/>\n",
       "      </defs>\n",
       "      <g>\n",
       "       <use style=\"stroke:#000000;stroke-width:0.8;\" x=\"90\" xlink:href=\"#mb2ec9b5d80\" y=\"252\"/>\n",
       "      </g>\n",
       "     </g>\n",
       "     <g id=\"text_7\">\n",
       "      <!-- 0.0 -->\n",
       "      <defs>\n",
       "       <path d=\"M 10.6875 12.40625  L 21 12.40625  L 21 0  L 10.6875 0  z \" id=\"DejaVuSans-2e\"/>\n",
       "      </defs>\n",
       "      <g transform=\"translate(67.096875 255.799219)scale(0.1 -0.1)\">\n",
       "       <use xlink:href=\"#DejaVuSans-30\"/>\n",
       "       <use x=\"63.623047\" xlink:href=\"#DejaVuSans-2e\"/>\n",
       "       <use x=\"95.410156\" xlink:href=\"#DejaVuSans-30\"/>\n",
       "      </g>\n",
       "     </g>\n",
       "    </g>\n",
       "    <g id=\"ytick_2\">\n",
       "     <g id=\"line2d_7\">\n",
       "      <g>\n",
       "       <use style=\"stroke:#000000;stroke-width:0.8;\" x=\"90\" xlink:href=\"#mb2ec9b5d80\" y=\"205.464718\"/>\n",
       "      </g>\n",
       "     </g>\n",
       "     <g id=\"text_8\">\n",
       "      <!-- 0.5 -->\n",
       "      <defs>\n",
       "       <path d=\"M 10.796875 72.90625  L 49.515625 72.90625  L 49.515625 64.59375  L 19.828125 64.59375  L 19.828125 46.734375  Q 21.96875 47.46875 24.109375 47.828125  Q 26.265625 48.1875 28.421875 48.1875  Q 40.625 48.1875 47.75 41.5  Q 54.890625 34.8125 54.890625 23.390625  Q 54.890625 11.625 47.5625 5.09375  Q 40.234375 -1.421875 26.90625 -1.421875  Q 22.3125 -1.421875 17.546875 -0.640625  Q 12.796875 0.140625 7.71875 1.703125  L 7.71875 11.625  Q 12.109375 9.234375 16.796875 8.0625  Q 21.484375 6.890625 26.703125 6.890625  Q 35.15625 6.890625 40.078125 11.328125  Q 45.015625 15.765625 45.015625 23.390625  Q 45.015625 31 40.078125 35.4375  Q 35.15625 39.890625 26.703125 39.890625  Q 22.75 39.890625 18.8125 39.015625  Q 14.890625 38.140625 10.796875 36.28125  z \" id=\"DejaVuSans-35\"/>\n",
       "      </defs>\n",
       "      <g transform=\"translate(67.096875 209.263936)scale(0.1 -0.1)\">\n",
       "       <use xlink:href=\"#DejaVuSans-30\"/>\n",
       "       <use x=\"63.623047\" xlink:href=\"#DejaVuSans-2e\"/>\n",
       "       <use x=\"95.410156\" xlink:href=\"#DejaVuSans-35\"/>\n",
       "      </g>\n",
       "     </g>\n",
       "    </g>\n",
       "    <g id=\"ytick_3\">\n",
       "     <g id=\"line2d_8\">\n",
       "      <g>\n",
       "       <use style=\"stroke:#000000;stroke-width:0.8;\" x=\"90\" xlink:href=\"#mb2ec9b5d80\" y=\"158.929435\"/>\n",
       "      </g>\n",
       "     </g>\n",
       "     <g id=\"text_9\">\n",
       "      <!-- 1.0 -->\n",
       "      <defs>\n",
       "       <path d=\"M 12.40625 8.296875  L 28.515625 8.296875  L 28.515625 63.921875  L 10.984375 60.40625  L 10.984375 69.390625  L 28.421875 72.90625  L 38.28125 72.90625  L 38.28125 8.296875  L 54.390625 8.296875  L 54.390625 0  L 12.40625 0  z \" id=\"DejaVuSans-31\"/>\n",
       "      </defs>\n",
       "      <g transform=\"translate(67.096875 162.728654)scale(0.1 -0.1)\">\n",
       "       <use xlink:href=\"#DejaVuSans-31\"/>\n",
       "       <use x=\"63.623047\" xlink:href=\"#DejaVuSans-2e\"/>\n",
       "       <use x=\"95.410156\" xlink:href=\"#DejaVuSans-30\"/>\n",
       "      </g>\n",
       "     </g>\n",
       "    </g>\n",
       "    <g id=\"ytick_4\">\n",
       "     <g id=\"line2d_9\">\n",
       "      <g>\n",
       "       <use style=\"stroke:#000000;stroke-width:0.8;\" x=\"90\" xlink:href=\"#mb2ec9b5d80\" y=\"112.394153\"/>\n",
       "      </g>\n",
       "     </g>\n",
       "     <g id=\"text_10\">\n",
       "      <!-- 1.5 -->\n",
       "      <g transform=\"translate(67.096875 116.193372)scale(0.1 -0.1)\">\n",
       "       <use xlink:href=\"#DejaVuSans-31\"/>\n",
       "       <use x=\"63.623047\" xlink:href=\"#DejaVuSans-2e\"/>\n",
       "       <use x=\"95.410156\" xlink:href=\"#DejaVuSans-35\"/>\n",
       "      </g>\n",
       "     </g>\n",
       "    </g>\n",
       "    <g id=\"ytick_5\">\n",
       "     <g id=\"line2d_10\">\n",
       "      <g>\n",
       "       <use style=\"stroke:#000000;stroke-width:0.8;\" x=\"90\" xlink:href=\"#mb2ec9b5d80\" y=\"65.858871\"/>\n",
       "      </g>\n",
       "     </g>\n",
       "     <g id=\"text_11\">\n",
       "      <!-- 2.0 -->\n",
       "      <g transform=\"translate(67.096875 69.658089)scale(0.1 -0.1)\">\n",
       "       <use xlink:href=\"#DejaVuSans-32\"/>\n",
       "       <use x=\"63.623047\" xlink:href=\"#DejaVuSans-2e\"/>\n",
       "       <use x=\"95.410156\" xlink:href=\"#DejaVuSans-30\"/>\n",
       "      </g>\n",
       "     </g>\n",
       "    </g>\n",
       "   </g>\n",
       "   <g id=\"line2d_11\">\n",
       "    <path clip-path=\"url(#p9f8a2d23dc)\" d=\"M 101.528926 37.614281  L 130.35124 52.331579  L 159.173554 77.367717  L 187.995868 79.676553  L 216.818182 84.225101  L 245.640496 82.807693  L 274.46281 87.059886  L 303.285124 86.376009  L 332.107438 86.185571  \" style=\"fill:none;stroke:#1f77b4;stroke-linecap:square;stroke-width:1.5;\"/>\n",
       "   </g>\n",
       "   <g id=\"line2d_12\">\n",
       "    <path clip-path=\"url(#p9f8a2d23dc)\" d=\"M 101.528926 37.595075  L 130.35124 73.643636  L 159.173554 80.915821  L 187.995868 95.043398  L 216.818182 97.495366  L 245.640496 97.775556  L 274.46281 98.296582  L 303.285124 97.94706  L 332.107438 95.364683  \" style=\"fill:none;stroke:#ff7f0e;stroke-linecap:square;stroke-width:1.5;\"/>\n",
       "   </g>\n",
       "   <g id=\"patch_3\">\n",
       "    <path d=\"M 90 252  L 90 34.56  \" style=\"fill:none;stroke:#000000;stroke-linecap:square;stroke-linejoin:miter;stroke-width:0.8;\"/>\n",
       "   </g>\n",
       "   <g id=\"patch_4\">\n",
       "    <path d=\"M 343.636364 252  L 343.636364 34.56  \" style=\"fill:none;stroke:#000000;stroke-linecap:square;stroke-linejoin:miter;stroke-width:0.8;\"/>\n",
       "   </g>\n",
       "   <g id=\"patch_5\">\n",
       "    <path d=\"M 90 252  L 343.636364 252  \" style=\"fill:none;stroke:#000000;stroke-linecap:square;stroke-linejoin:miter;stroke-width:0.8;\"/>\n",
       "   </g>\n",
       "   <g id=\"patch_6\">\n",
       "    <path d=\"M 90 34.56  L 343.636364 34.56  \" style=\"fill:none;stroke:#000000;stroke-linecap:square;stroke-linejoin:miter;stroke-width:0.8;\"/>\n",
       "   </g>\n",
       "   <g id=\"text_12\">\n",
       "    <!-- CIRAR10: Error -->\n",
       "    <defs>\n",
       "     <path d=\"M 64.40625 67.28125  L 64.40625 56.890625  Q 59.421875 61.53125 53.78125 63.8125  Q 48.140625 66.109375 41.796875 66.109375  Q 29.296875 66.109375 22.65625 58.46875  Q 16.015625 50.828125 16.015625 36.375  Q 16.015625 21.96875 22.65625 14.328125  Q 29.296875 6.6875 41.796875 6.6875  Q 48.140625 6.6875 53.78125 8.984375  Q 59.421875 11.28125 64.40625 15.921875  L 64.40625 5.609375  Q 59.234375 2.09375 53.4375 0.328125  Q 47.65625 -1.421875 41.21875 -1.421875  Q 24.65625 -1.421875 15.125 8.703125  Q 5.609375 18.84375 5.609375 36.375  Q 5.609375 53.953125 15.125 64.078125  Q 24.65625 74.21875 41.21875 74.21875  Q 47.75 74.21875 53.53125 72.484375  Q 59.328125 70.75 64.40625 67.28125  z \" id=\"DejaVuSans-43\"/>\n",
       "     <path d=\"M 9.8125 72.90625  L 19.671875 72.90625  L 19.671875 0  L 9.8125 0  z \" id=\"DejaVuSans-49\"/>\n",
       "     <path d=\"M 44.390625 34.1875  Q 47.5625 33.109375 50.5625 29.59375  Q 53.5625 26.078125 56.59375 19.921875  L 66.609375 0  L 56 0  L 46.6875 18.703125  Q 43.0625 26.03125 39.671875 28.421875  Q 36.28125 30.8125 30.421875 30.8125  L 19.671875 30.8125  L 19.671875 0  L 9.8125 0  L 9.8125 72.90625  L 32.078125 72.90625  Q 44.578125 72.90625 50.734375 67.671875  Q 56.890625 62.453125 56.890625 51.90625  Q 56.890625 45.015625 53.6875 40.46875  Q 50.484375 35.9375 44.390625 34.1875  z M 19.671875 64.796875  L 19.671875 38.921875  L 32.078125 38.921875  Q 39.203125 38.921875 42.84375 42.21875  Q 46.484375 45.515625 46.484375 51.90625  Q 46.484375 58.296875 42.84375 61.546875  Q 39.203125 64.796875 32.078125 64.796875  z \" id=\"DejaVuSans-52\"/>\n",
       "     <path d=\"M 34.1875 63.1875  L 20.796875 26.90625  L 47.609375 26.90625  z M 28.609375 72.90625  L 39.796875 72.90625  L 67.578125 0  L 57.328125 0  L 50.6875 18.703125  L 17.828125 18.703125  L 11.1875 0  L 0.78125 0  z \" id=\"DejaVuSans-41\"/>\n",
       "     <path d=\"M 11.71875 12.40625  L 22.015625 12.40625  L 22.015625 0  L 11.71875 0  z M 11.71875 51.703125  L 22.015625 51.703125  L 22.015625 39.3125  L 11.71875 39.3125  z \" id=\"DejaVuSans-3a\"/>\n",
       "     <path id=\"DejaVuSans-20\"/>\n",
       "     <path d=\"M 41.109375 46.296875  Q 39.59375 47.171875 37.8125 47.578125  Q 36.03125 48 33.890625 48  Q 26.265625 48 22.1875 43.046875  Q 18.109375 38.09375 18.109375 28.8125  L 18.109375 0  L 9.078125 0  L 9.078125 54.6875  L 18.109375 54.6875  L 18.109375 46.1875  Q 20.953125 51.171875 25.484375 53.578125  Q 30.03125 56 36.53125 56  Q 37.453125 56 38.578125 55.875  Q 39.703125 55.765625 41.0625 55.515625  z \" id=\"DejaVuSans-72\"/>\n",
       "    </defs>\n",
       "    <g transform=\"translate(171.997244 28.56)scale(0.12 -0.12)\">\n",
       "     <use xlink:href=\"#DejaVuSans-43\"/>\n",
       "     <use x=\"69.824219\" xlink:href=\"#DejaVuSans-49\"/>\n",
       "     <use x=\"99.316406\" xlink:href=\"#DejaVuSans-52\"/>\n",
       "     <use x=\"168.736328\" xlink:href=\"#DejaVuSans-41\"/>\n",
       "     <use x=\"237.144531\" xlink:href=\"#DejaVuSans-52\"/>\n",
       "     <use x=\"306.626953\" xlink:href=\"#DejaVuSans-31\"/>\n",
       "     <use x=\"370.25\" xlink:href=\"#DejaVuSans-30\"/>\n",
       "     <use x=\"433.873047\" xlink:href=\"#DejaVuSans-3a\"/>\n",
       "     <use x=\"467.564453\" xlink:href=\"#DejaVuSans-20\"/>\n",
       "     <use x=\"499.351562\" xlink:href=\"#DejaVuSans-45\"/>\n",
       "     <use x=\"562.535156\" xlink:href=\"#DejaVuSans-72\"/>\n",
       "     <use x=\"603.632812\" xlink:href=\"#DejaVuSans-72\"/>\n",
       "     <use x=\"644.714844\" xlink:href=\"#DejaVuSans-6f\"/>\n",
       "     <use x=\"705.896484\" xlink:href=\"#DejaVuSans-72\"/>\n",
       "    </g>\n",
       "   </g>\n",
       "   <g id=\"legend_1\">\n",
       "    <g id=\"patch_7\">\n",
       "     <path d=\"M 236.030114 71.91625  L 336.636364 71.91625  Q 338.636364 71.91625 338.636364 69.91625  L 338.636364 41.56  Q 338.636364 39.56 336.636364 39.56  L 236.030114 39.56  Q 234.030114 39.56 234.030114 41.56  L 234.030114 69.91625  Q 234.030114 71.91625 236.030114 71.91625  z \" style=\"fill:#ffffff;opacity:0.8;stroke:#cccccc;stroke-linejoin:miter;\"/>\n",
       "    </g>\n",
       "    <g id=\"line2d_13\">\n",
       "     <path d=\"M 238.030114 47.658437  L 258.030114 47.658437  \" style=\"fill:none;stroke:#1f77b4;stroke-linecap:square;stroke-width:1.5;\"/>\n",
       "    </g>\n",
       "    <g id=\"line2d_14\"/>\n",
       "    <g id=\"text_13\">\n",
       "     <!-- Training set -->\n",
       "     <defs>\n",
       "      <path d=\"M -0.296875 72.90625  L 61.375 72.90625  L 61.375 64.59375  L 35.5 64.59375  L 35.5 0  L 25.59375 0  L 25.59375 64.59375  L -0.296875 64.59375  z \" id=\"DejaVuSans-54\"/>\n",
       "      <path d=\"M 34.28125 27.484375  Q 23.390625 27.484375 19.1875 25  Q 14.984375 22.515625 14.984375 16.5  Q 14.984375 11.71875 18.140625 8.90625  Q 21.296875 6.109375 26.703125 6.109375  Q 34.1875 6.109375 38.703125 11.40625  Q 43.21875 16.703125 43.21875 25.484375  L 43.21875 27.484375  z M 52.203125 31.203125  L 52.203125 0  L 43.21875 0  L 43.21875 8.296875  Q 40.140625 3.328125 35.546875 0.953125  Q 30.953125 -1.421875 24.3125 -1.421875  Q 15.921875 -1.421875 10.953125 3.296875  Q 6 8.015625 6 15.921875  Q 6 25.140625 12.171875 29.828125  Q 18.359375 34.515625 30.609375 34.515625  L 43.21875 34.515625  L 43.21875 35.40625  Q 43.21875 41.609375 39.140625 45  Q 35.0625 48.390625 27.6875 48.390625  Q 23 48.390625 18.546875 47.265625  Q 14.109375 46.140625 10.015625 43.890625  L 10.015625 52.203125  Q 14.9375 54.109375 19.578125 55.046875  Q 24.21875 56 28.609375 56  Q 40.484375 56 46.34375 49.84375  Q 52.203125 43.703125 52.203125 31.203125  z \" id=\"DejaVuSans-61\"/>\n",
       "      <path d=\"M 9.421875 54.6875  L 18.40625 54.6875  L 18.40625 0  L 9.421875 0  z M 9.421875 75.984375  L 18.40625 75.984375  L 18.40625 64.59375  L 9.421875 64.59375  z \" id=\"DejaVuSans-69\"/>\n",
       "      <path d=\"M 54.890625 33.015625  L 54.890625 0  L 45.90625 0  L 45.90625 32.71875  Q 45.90625 40.484375 42.875 44.328125  Q 39.84375 48.1875 33.796875 48.1875  Q 26.515625 48.1875 22.3125 43.546875  Q 18.109375 38.921875 18.109375 30.90625  L 18.109375 0  L 9.078125 0  L 9.078125 54.6875  L 18.109375 54.6875  L 18.109375 46.1875  Q 21.34375 51.125 25.703125 53.5625  Q 30.078125 56 35.796875 56  Q 45.21875 56 50.046875 50.171875  Q 54.890625 44.34375 54.890625 33.015625  z \" id=\"DejaVuSans-6e\"/>\n",
       "      <path d=\"M 45.40625 27.984375  Q 45.40625 37.75 41.375 43.109375  Q 37.359375 48.484375 30.078125 48.484375  Q 22.859375 48.484375 18.828125 43.109375  Q 14.796875 37.75 14.796875 27.984375  Q 14.796875 18.265625 18.828125 12.890625  Q 22.859375 7.515625 30.078125 7.515625  Q 37.359375 7.515625 41.375 12.890625  Q 45.40625 18.265625 45.40625 27.984375  z M 54.390625 6.78125  Q 54.390625 -7.171875 48.1875 -13.984375  Q 42 -20.796875 29.203125 -20.796875  Q 24.46875 -20.796875 20.265625 -20.09375  Q 16.0625 -19.390625 12.109375 -17.921875  L 12.109375 -9.1875  Q 16.0625 -11.328125 19.921875 -12.34375  Q 23.78125 -13.375 27.78125 -13.375  Q 36.625 -13.375 41.015625 -8.765625  Q 45.40625 -4.15625 45.40625 5.171875  L 45.40625 9.625  Q 42.625 4.78125 38.28125 2.390625  Q 33.9375 0 27.875 0  Q 17.828125 0 11.671875 7.65625  Q 5.515625 15.328125 5.515625 27.984375  Q 5.515625 40.671875 11.671875 48.328125  Q 17.828125 56 27.875 56  Q 33.9375 56 38.28125 53.609375  Q 42.625 51.21875 45.40625 46.390625  L 45.40625 54.6875  L 54.390625 54.6875  z \" id=\"DejaVuSans-67\"/>\n",
       "      <path d=\"M 44.28125 53.078125  L 44.28125 44.578125  Q 40.484375 46.53125 36.375 47.5  Q 32.28125 48.484375 27.875 48.484375  Q 21.1875 48.484375 17.84375 46.4375  Q 14.5 44.390625 14.5 40.28125  Q 14.5 37.15625 16.890625 35.375  Q 19.28125 33.59375 26.515625 31.984375  L 29.59375 31.296875  Q 39.15625 29.25 43.1875 25.515625  Q 47.21875 21.78125 47.21875 15.09375  Q 47.21875 7.46875 41.1875 3.015625  Q 35.15625 -1.421875 24.609375 -1.421875  Q 20.21875 -1.421875 15.453125 -0.5625  Q 10.6875 0.296875 5.421875 2  L 5.421875 11.28125  Q 10.40625 8.6875 15.234375 7.390625  Q 20.0625 6.109375 24.8125 6.109375  Q 31.15625 6.109375 34.5625 8.28125  Q 37.984375 10.453125 37.984375 14.40625  Q 37.984375 18.0625 35.515625 20.015625  Q 33.0625 21.96875 24.703125 23.78125  L 21.578125 24.515625  Q 13.234375 26.265625 9.515625 29.90625  Q 5.8125 33.546875 5.8125 39.890625  Q 5.8125 47.609375 11.28125 51.796875  Q 16.75 56 26.8125 56  Q 31.78125 56 36.171875 55.265625  Q 40.578125 54.546875 44.28125 53.078125  z \" id=\"DejaVuSans-73\"/>\n",
       "      <path d=\"M 56.203125 29.59375  L 56.203125 25.203125  L 14.890625 25.203125  Q 15.484375 15.921875 20.484375 11.0625  Q 25.484375 6.203125 34.421875 6.203125  Q 39.59375 6.203125 44.453125 7.46875  Q 49.3125 8.734375 54.109375 11.28125  L 54.109375 2.78125  Q 49.265625 0.734375 44.1875 -0.34375  Q 39.109375 -1.421875 33.890625 -1.421875  Q 20.796875 -1.421875 13.15625 6.1875  Q 5.515625 13.8125 5.515625 26.8125  Q 5.515625 40.234375 12.765625 48.109375  Q 20.015625 56 32.328125 56  Q 43.359375 56 49.78125 48.890625  Q 56.203125 41.796875 56.203125 29.59375  z M 47.21875 32.234375  Q 47.125 39.59375 43.09375 43.984375  Q 39.0625 48.390625 32.421875 48.390625  Q 24.90625 48.390625 20.390625 44.140625  Q 15.875 39.890625 15.1875 32.171875  z \" id=\"DejaVuSans-65\"/>\n",
       "      <path d=\"M 18.3125 70.21875  L 18.3125 54.6875  L 36.8125 54.6875  L 36.8125 47.703125  L 18.3125 47.703125  L 18.3125 18.015625  Q 18.3125 11.328125 20.140625 9.421875  Q 21.96875 7.515625 27.59375 7.515625  L 36.8125 7.515625  L 36.8125 0  L 27.59375 0  Q 17.1875 0 13.234375 3.875  Q 9.28125 7.765625 9.28125 18.015625  L 9.28125 47.703125  L 2.6875 47.703125  L 2.6875 54.6875  L 9.28125 54.6875  L 9.28125 70.21875  z \" id=\"DejaVuSans-74\"/>\n",
       "     </defs>\n",
       "     <g transform=\"translate(266.030114 51.158437)scale(0.1 -0.1)\">\n",
       "      <use xlink:href=\"#DejaVuSans-54\"/>\n",
       "      <use x=\"60.865234\" xlink:href=\"#DejaVuSans-72\"/>\n",
       "      <use x=\"101.978516\" xlink:href=\"#DejaVuSans-61\"/>\n",
       "      <use x=\"163.257812\" xlink:href=\"#DejaVuSans-69\"/>\n",
       "      <use x=\"191.041016\" xlink:href=\"#DejaVuSans-6e\"/>\n",
       "      <use x=\"254.419922\" xlink:href=\"#DejaVuSans-69\"/>\n",
       "      <use x=\"282.203125\" xlink:href=\"#DejaVuSans-6e\"/>\n",
       "      <use x=\"345.582031\" xlink:href=\"#DejaVuSans-67\"/>\n",
       "      <use x=\"409.058594\" xlink:href=\"#DejaVuSans-20\"/>\n",
       "      <use x=\"440.845703\" xlink:href=\"#DejaVuSans-73\"/>\n",
       "      <use x=\"492.945312\" xlink:href=\"#DejaVuSans-65\"/>\n",
       "      <use x=\"554.46875\" xlink:href=\"#DejaVuSans-74\"/>\n",
       "     </g>\n",
       "    </g>\n",
       "    <g id=\"line2d_15\">\n",
       "     <path d=\"M 238.030114 62.336562  L 258.030114 62.336562  \" style=\"fill:none;stroke:#ff7f0e;stroke-linecap:square;stroke-width:1.5;\"/>\n",
       "    </g>\n",
       "    <g id=\"line2d_16\"/>\n",
       "    <g id=\"text_14\">\n",
       "     <!-- Validation set -->\n",
       "     <defs>\n",
       "      <path d=\"M 28.609375 0  L 0.78125 72.90625  L 11.078125 72.90625  L 34.1875 11.53125  L 57.328125 72.90625  L 67.578125 72.90625  L 39.796875 0  z \" id=\"DejaVuSans-56\"/>\n",
       "      <path d=\"M 9.421875 75.984375  L 18.40625 75.984375  L 18.40625 0  L 9.421875 0  z \" id=\"DejaVuSans-6c\"/>\n",
       "      <path d=\"M 45.40625 46.390625  L 45.40625 75.984375  L 54.390625 75.984375  L 54.390625 0  L 45.40625 0  L 45.40625 8.203125  Q 42.578125 3.328125 38.25 0.953125  Q 33.9375 -1.421875 27.875 -1.421875  Q 17.96875 -1.421875 11.734375 6.484375  Q 5.515625 14.40625 5.515625 27.296875  Q 5.515625 40.1875 11.734375 48.09375  Q 17.96875 56 27.875 56  Q 33.9375 56 38.25 53.625  Q 42.578125 51.265625 45.40625 46.390625  z M 14.796875 27.296875  Q 14.796875 17.390625 18.875 11.75  Q 22.953125 6.109375 30.078125 6.109375  Q 37.203125 6.109375 41.296875 11.75  Q 45.40625 17.390625 45.40625 27.296875  Q 45.40625 37.203125 41.296875 42.84375  Q 37.203125 48.484375 30.078125 48.484375  Q 22.953125 48.484375 18.875 42.84375  Q 14.796875 37.203125 14.796875 27.296875  z \" id=\"DejaVuSans-64\"/>\n",
       "     </defs>\n",
       "     <g transform=\"translate(266.030114 65.836562)scale(0.1 -0.1)\">\n",
       "      <use xlink:href=\"#DejaVuSans-56\"/>\n",
       "      <use x=\"68.298828\" xlink:href=\"#DejaVuSans-61\"/>\n",
       "      <use x=\"129.578125\" xlink:href=\"#DejaVuSans-6c\"/>\n",
       "      <use x=\"157.361328\" xlink:href=\"#DejaVuSans-69\"/>\n",
       "      <use x=\"185.144531\" xlink:href=\"#DejaVuSans-64\"/>\n",
       "      <use x=\"248.621094\" xlink:href=\"#DejaVuSans-61\"/>\n",
       "      <use x=\"309.900391\" xlink:href=\"#DejaVuSans-74\"/>\n",
       "      <use x=\"349.109375\" xlink:href=\"#DejaVuSans-69\"/>\n",
       "      <use x=\"376.892578\" xlink:href=\"#DejaVuSans-6f\"/>\n",
       "      <use x=\"438.074219\" xlink:href=\"#DejaVuSans-6e\"/>\n",
       "      <use x=\"501.453125\" xlink:href=\"#DejaVuSans-20\"/>\n",
       "      <use x=\"533.240234\" xlink:href=\"#DejaVuSans-73\"/>\n",
       "      <use x=\"585.339844\" xlink:href=\"#DejaVuSans-65\"/>\n",
       "      <use x=\"646.863281\" xlink:href=\"#DejaVuSans-74\"/>\n",
       "     </g>\n",
       "    </g>\n",
       "   </g>\n",
       "  </g>\n",
       "  <g id=\"axes_2\">\n",
       "   <g id=\"patch_8\">\n",
       "    <path d=\"M 394.363636 252  L 648 252  L 648 34.56  L 394.363636 34.56  z \" style=\"fill:#ffffff;\"/>\n",
       "   </g>\n",
       "   <g id=\"matplotlib.axis_3\">\n",
       "    <g id=\"xtick_6\">\n",
       "     <g id=\"line2d_17\">\n",
       "      <g>\n",
       "       <use style=\"stroke:#000000;stroke-width:0.8;\" x=\"405.892562\" xlink:href=\"#m0a692d6171\" y=\"252\"/>\n",
       "      </g>\n",
       "     </g>\n",
       "     <g id=\"text_15\">\n",
       "      <!-- 0 -->\n",
       "      <g transform=\"translate(402.711312 266.598437)scale(0.1 -0.1)\">\n",
       "       <use xlink:href=\"#DejaVuSans-30\"/>\n",
       "      </g>\n",
       "     </g>\n",
       "    </g>\n",
       "    <g id=\"xtick_7\">\n",
       "     <g id=\"line2d_18\">\n",
       "      <g>\n",
       "       <use style=\"stroke:#000000;stroke-width:0.8;\" x=\"463.53719\" xlink:href=\"#m0a692d6171\" y=\"252\"/>\n",
       "      </g>\n",
       "     </g>\n",
       "     <g id=\"text_16\">\n",
       "      <!-- 2 -->\n",
       "      <g transform=\"translate(460.35594 266.598437)scale(0.1 -0.1)\">\n",
       "       <use xlink:href=\"#DejaVuSans-32\"/>\n",
       "      </g>\n",
       "     </g>\n",
       "    </g>\n",
       "    <g id=\"xtick_8\">\n",
       "     <g id=\"line2d_19\">\n",
       "      <g>\n",
       "       <use style=\"stroke:#000000;stroke-width:0.8;\" x=\"521.181818\" xlink:href=\"#m0a692d6171\" y=\"252\"/>\n",
       "      </g>\n",
       "     </g>\n",
       "     <g id=\"text_17\">\n",
       "      <!-- 4 -->\n",
       "      <g transform=\"translate(518.000568 266.598437)scale(0.1 -0.1)\">\n",
       "       <use xlink:href=\"#DejaVuSans-34\"/>\n",
       "      </g>\n",
       "     </g>\n",
       "    </g>\n",
       "    <g id=\"xtick_9\">\n",
       "     <g id=\"line2d_20\">\n",
       "      <g>\n",
       "       <use style=\"stroke:#000000;stroke-width:0.8;\" x=\"578.826446\" xlink:href=\"#m0a692d6171\" y=\"252\"/>\n",
       "      </g>\n",
       "     </g>\n",
       "     <g id=\"text_18\">\n",
       "      <!-- 6 -->\n",
       "      <g transform=\"translate(575.645196 266.598437)scale(0.1 -0.1)\">\n",
       "       <use xlink:href=\"#DejaVuSans-36\"/>\n",
       "      </g>\n",
       "     </g>\n",
       "    </g>\n",
       "    <g id=\"xtick_10\">\n",
       "     <g id=\"line2d_21\">\n",
       "      <g>\n",
       "       <use style=\"stroke:#000000;stroke-width:0.8;\" x=\"636.471074\" xlink:href=\"#m0a692d6171\" y=\"252\"/>\n",
       "      </g>\n",
       "     </g>\n",
       "     <g id=\"text_19\">\n",
       "      <!-- 8 -->\n",
       "      <g transform=\"translate(633.289824 266.598437)scale(0.1 -0.1)\">\n",
       "       <use xlink:href=\"#DejaVuSans-38\"/>\n",
       "      </g>\n",
       "     </g>\n",
       "    </g>\n",
       "    <g id=\"text_20\">\n",
       "     <!-- Epoch -->\n",
       "     <g transform=\"translate(505.870881 280.276563)scale(0.1 -0.1)\">\n",
       "      <use xlink:href=\"#DejaVuSans-45\"/>\n",
       "      <use x=\"63.183594\" xlink:href=\"#DejaVuSans-70\"/>\n",
       "      <use x=\"126.660156\" xlink:href=\"#DejaVuSans-6f\"/>\n",
       "      <use x=\"187.841797\" xlink:href=\"#DejaVuSans-63\"/>\n",
       "      <use x=\"242.822266\" xlink:href=\"#DejaVuSans-68\"/>\n",
       "     </g>\n",
       "    </g>\n",
       "   </g>\n",
       "   <g id=\"matplotlib.axis_4\">\n",
       "    <g id=\"ytick_6\">\n",
       "     <g id=\"line2d_22\">\n",
       "      <g>\n",
       "       <use style=\"stroke:#000000;stroke-width:0.8;\" x=\"394.363636\" xlink:href=\"#mb2ec9b5d80\" y=\"233.88\"/>\n",
       "      </g>\n",
       "     </g>\n",
       "     <g id=\"text_21\">\n",
       "      <!-- 0.0 -->\n",
       "      <g transform=\"translate(371.460511 237.679219)scale(0.1 -0.1)\">\n",
       "       <use xlink:href=\"#DejaVuSans-30\"/>\n",
       "       <use x=\"63.623047\" xlink:href=\"#DejaVuSans-2e\"/>\n",
       "       <use x=\"95.410156\" xlink:href=\"#DejaVuSans-30\"/>\n",
       "      </g>\n",
       "     </g>\n",
       "    </g>\n",
       "    <g id=\"ytick_7\">\n",
       "     <g id=\"line2d_23\">\n",
       "      <g>\n",
       "       <use style=\"stroke:#000000;stroke-width:0.8;\" x=\"394.363636\" xlink:href=\"#mb2ec9b5d80\" y=\"197.64\"/>\n",
       "      </g>\n",
       "     </g>\n",
       "     <g id=\"text_22\">\n",
       "      <!-- 0.2 -->\n",
       "      <g transform=\"translate(371.460511 201.439219)scale(0.1 -0.1)\">\n",
       "       <use xlink:href=\"#DejaVuSans-30\"/>\n",
       "       <use x=\"63.623047\" xlink:href=\"#DejaVuSans-2e\"/>\n",
       "       <use x=\"95.410156\" xlink:href=\"#DejaVuSans-32\"/>\n",
       "      </g>\n",
       "     </g>\n",
       "    </g>\n",
       "    <g id=\"ytick_8\">\n",
       "     <g id=\"line2d_24\">\n",
       "      <g>\n",
       "       <use style=\"stroke:#000000;stroke-width:0.8;\" x=\"394.363636\" xlink:href=\"#mb2ec9b5d80\" y=\"161.4\"/>\n",
       "      </g>\n",
       "     </g>\n",
       "     <g id=\"text_23\">\n",
       "      <!-- 0.4 -->\n",
       "      <g transform=\"translate(371.460511 165.199219)scale(0.1 -0.1)\">\n",
       "       <use xlink:href=\"#DejaVuSans-30\"/>\n",
       "       <use x=\"63.623047\" xlink:href=\"#DejaVuSans-2e\"/>\n",
       "       <use x=\"95.410156\" xlink:href=\"#DejaVuSans-34\"/>\n",
       "      </g>\n",
       "     </g>\n",
       "    </g>\n",
       "    <g id=\"ytick_9\">\n",
       "     <g id=\"line2d_25\">\n",
       "      <g>\n",
       "       <use style=\"stroke:#000000;stroke-width:0.8;\" x=\"394.363636\" xlink:href=\"#mb2ec9b5d80\" y=\"125.16\"/>\n",
       "      </g>\n",
       "     </g>\n",
       "     <g id=\"text_24\">\n",
       "      <!-- 0.6 -->\n",
       "      <g transform=\"translate(371.460511 128.959219)scale(0.1 -0.1)\">\n",
       "       <use xlink:href=\"#DejaVuSans-30\"/>\n",
       "       <use x=\"63.623047\" xlink:href=\"#DejaVuSans-2e\"/>\n",
       "       <use x=\"95.410156\" xlink:href=\"#DejaVuSans-36\"/>\n",
       "      </g>\n",
       "     </g>\n",
       "    </g>\n",
       "    <g id=\"ytick_10\">\n",
       "     <g id=\"line2d_26\">\n",
       "      <g>\n",
       "       <use style=\"stroke:#000000;stroke-width:0.8;\" x=\"394.363636\" xlink:href=\"#mb2ec9b5d80\" y=\"88.92\"/>\n",
       "      </g>\n",
       "     </g>\n",
       "     <g id=\"text_25\">\n",
       "      <!-- 0.8 -->\n",
       "      <g transform=\"translate(371.460511 92.719219)scale(0.1 -0.1)\">\n",
       "       <use xlink:href=\"#DejaVuSans-30\"/>\n",
       "       <use x=\"63.623047\" xlink:href=\"#DejaVuSans-2e\"/>\n",
       "       <use x=\"95.410156\" xlink:href=\"#DejaVuSans-38\"/>\n",
       "      </g>\n",
       "     </g>\n",
       "    </g>\n",
       "    <g id=\"ytick_11\">\n",
       "     <g id=\"line2d_27\">\n",
       "      <g>\n",
       "       <use style=\"stroke:#000000;stroke-width:0.8;\" x=\"394.363636\" xlink:href=\"#mb2ec9b5d80\" y=\"52.68\"/>\n",
       "      </g>\n",
       "     </g>\n",
       "     <g id=\"text_26\">\n",
       "      <!-- 1.0 -->\n",
       "      <g transform=\"translate(371.460511 56.479219)scale(0.1 -0.1)\">\n",
       "       <use xlink:href=\"#DejaVuSans-31\"/>\n",
       "       <use x=\"63.623047\" xlink:href=\"#DejaVuSans-2e\"/>\n",
       "       <use x=\"95.410156\" xlink:href=\"#DejaVuSans-30\"/>\n",
       "      </g>\n",
       "     </g>\n",
       "    </g>\n",
       "   </g>\n",
       "   <g id=\"line2d_28\">\n",
       "    <path clip-path=\"url(#pbeaf2a4c24)\" d=\"M 405.892562 216.91968  L 434.714876 198.506223  L 463.53719 176.963067  L 492.359504 173.48  L 521.181818 172.070667  L 550.004132 172.473333  L 578.826446 170.057333  L 607.64876 170.661333  L 636.471074 170.661334  \" style=\"fill:none;stroke:#1f77b4;stroke-linecap:square;stroke-width:1.5;\"/>\n",
       "   </g>\n",
       "   <g id=\"line2d_29\">\n",
       "    <path clip-path=\"url(#pbeaf2a4c24)\" d=\"M 405.892562 216.535536  L 434.714876 179.701201  L 463.53719 173.178  L 492.359504 165.024001  L 521.181818 172.271999  L 550.004132 170.460001  L 578.826446 166.835999  L 607.64876 159.588001  L 636.471074 163.212003  \" style=\"fill:none;stroke:#ff7f0e;stroke-linecap:square;stroke-width:1.5;\"/>\n",
       "   </g>\n",
       "   <g id=\"patch_9\">\n",
       "    <path d=\"M 394.363636 252  L 394.363636 34.56  \" style=\"fill:none;stroke:#000000;stroke-linecap:square;stroke-linejoin:miter;stroke-width:0.8;\"/>\n",
       "   </g>\n",
       "   <g id=\"patch_10\">\n",
       "    <path d=\"M 648 252  L 648 34.56  \" style=\"fill:none;stroke:#000000;stroke-linecap:square;stroke-linejoin:miter;stroke-width:0.8;\"/>\n",
       "   </g>\n",
       "   <g id=\"patch_11\">\n",
       "    <path d=\"M 394.363636 252  L 648 252  \" style=\"fill:none;stroke:#000000;stroke-linecap:square;stroke-linejoin:miter;stroke-width:0.8;\"/>\n",
       "   </g>\n",
       "   <g id=\"patch_12\">\n",
       "    <path d=\"M 394.363636 34.56  L 648 34.56  \" style=\"fill:none;stroke:#000000;stroke-linecap:square;stroke-linejoin:miter;stroke-width:0.8;\"/>\n",
       "   </g>\n",
       "   <g id=\"text_27\">\n",
       "    <!-- CIRAR10: Accuracy -->\n",
       "    <defs>\n",
       "     <path d=\"M 8.5 21.578125  L 8.5 54.6875  L 17.484375 54.6875  L 17.484375 21.921875  Q 17.484375 14.15625 20.5 10.265625  Q 23.53125 6.390625 29.59375 6.390625  Q 36.859375 6.390625 41.078125 11.03125  Q 45.3125 15.671875 45.3125 23.6875  L 45.3125 54.6875  L 54.296875 54.6875  L 54.296875 0  L 45.3125 0  L 45.3125 8.40625  Q 42.046875 3.421875 37.71875 1  Q 33.40625 -1.421875 27.6875 -1.421875  Q 18.265625 -1.421875 13.375 4.4375  Q 8.5 10.296875 8.5 21.578125  z M 31.109375 56  z \" id=\"DejaVuSans-75\"/>\n",
       "     <path d=\"M 32.171875 -5.078125  Q 28.375 -14.84375 24.75 -17.8125  Q 21.140625 -20.796875 15.09375 -20.796875  L 7.90625 -20.796875  L 7.90625 -13.28125  L 13.1875 -13.28125  Q 16.890625 -13.28125 18.9375 -11.515625  Q 21 -9.765625 23.484375 -3.21875  L 25.09375 0.875  L 2.984375 54.6875  L 12.5 54.6875  L 29.59375 11.921875  L 46.6875 54.6875  L 56.203125 54.6875  z \" id=\"DejaVuSans-79\"/>\n",
       "    </defs>\n",
       "    <g transform=\"translate(463.722443 28.56)scale(0.12 -0.12)\">\n",
       "     <use xlink:href=\"#DejaVuSans-43\"/>\n",
       "     <use x=\"69.824219\" xlink:href=\"#DejaVuSans-49\"/>\n",
       "     <use x=\"99.316406\" xlink:href=\"#DejaVuSans-52\"/>\n",
       "     <use x=\"168.736328\" xlink:href=\"#DejaVuSans-41\"/>\n",
       "     <use x=\"237.144531\" xlink:href=\"#DejaVuSans-52\"/>\n",
       "     <use x=\"306.626953\" xlink:href=\"#DejaVuSans-31\"/>\n",
       "     <use x=\"370.25\" xlink:href=\"#DejaVuSans-30\"/>\n",
       "     <use x=\"433.873047\" xlink:href=\"#DejaVuSans-3a\"/>\n",
       "     <use x=\"467.564453\" xlink:href=\"#DejaVuSans-20\"/>\n",
       "     <use x=\"499.351562\" xlink:href=\"#DejaVuSans-41\"/>\n",
       "     <use x=\"567.744141\" xlink:href=\"#DejaVuSans-63\"/>\n",
       "     <use x=\"622.724609\" xlink:href=\"#DejaVuSans-63\"/>\n",
       "     <use x=\"677.705078\" xlink:href=\"#DejaVuSans-75\"/>\n",
       "     <use x=\"741.083984\" xlink:href=\"#DejaVuSans-72\"/>\n",
       "     <use x=\"782.197266\" xlink:href=\"#DejaVuSans-61\"/>\n",
       "     <use x=\"843.476562\" xlink:href=\"#DejaVuSans-63\"/>\n",
       "     <use x=\"898.457031\" xlink:href=\"#DejaVuSans-79\"/>\n",
       "    </g>\n",
       "   </g>\n",
       "   <g id=\"legend_2\">\n",
       "    <g id=\"patch_13\">\n",
       "     <path d=\"M 540.39375 71.91625  L 641 71.91625  Q 643 71.91625 643 69.91625  L 643 41.56  Q 643 39.56 641 39.56  L 540.39375 39.56  Q 538.39375 39.56 538.39375 41.56  L 538.39375 69.91625  Q 538.39375 71.91625 540.39375 71.91625  z \" style=\"fill:#ffffff;opacity:0.8;stroke:#cccccc;stroke-linejoin:miter;\"/>\n",
       "    </g>\n",
       "    <g id=\"line2d_30\">\n",
       "     <path d=\"M 542.39375 47.658437  L 562.39375 47.658437  \" style=\"fill:none;stroke:#1f77b4;stroke-linecap:square;stroke-width:1.5;\"/>\n",
       "    </g>\n",
       "    <g id=\"line2d_31\"/>\n",
       "    <g id=\"text_28\">\n",
       "     <!-- Training set -->\n",
       "     <g transform=\"translate(570.39375 51.158437)scale(0.1 -0.1)\">\n",
       "      <use xlink:href=\"#DejaVuSans-54\"/>\n",
       "      <use x=\"60.865234\" xlink:href=\"#DejaVuSans-72\"/>\n",
       "      <use x=\"101.978516\" xlink:href=\"#DejaVuSans-61\"/>\n",
       "      <use x=\"163.257812\" xlink:href=\"#DejaVuSans-69\"/>\n",
       "      <use x=\"191.041016\" xlink:href=\"#DejaVuSans-6e\"/>\n",
       "      <use x=\"254.419922\" xlink:href=\"#DejaVuSans-69\"/>\n",
       "      <use x=\"282.203125\" xlink:href=\"#DejaVuSans-6e\"/>\n",
       "      <use x=\"345.582031\" xlink:href=\"#DejaVuSans-67\"/>\n",
       "      <use x=\"409.058594\" xlink:href=\"#DejaVuSans-20\"/>\n",
       "      <use x=\"440.845703\" xlink:href=\"#DejaVuSans-73\"/>\n",
       "      <use x=\"492.945312\" xlink:href=\"#DejaVuSans-65\"/>\n",
       "      <use x=\"554.46875\" xlink:href=\"#DejaVuSans-74\"/>\n",
       "     </g>\n",
       "    </g>\n",
       "    <g id=\"line2d_32\">\n",
       "     <path d=\"M 542.39375 62.336562  L 562.39375 62.336562  \" style=\"fill:none;stroke:#ff7f0e;stroke-linecap:square;stroke-width:1.5;\"/>\n",
       "    </g>\n",
       "    <g id=\"line2d_33\"/>\n",
       "    <g id=\"text_29\">\n",
       "     <!-- Validation set -->\n",
       "     <g transform=\"translate(570.39375 65.836562)scale(0.1 -0.1)\">\n",
       "      <use xlink:href=\"#DejaVuSans-56\"/>\n",
       "      <use x=\"68.298828\" xlink:href=\"#DejaVuSans-61\"/>\n",
       "      <use x=\"129.578125\" xlink:href=\"#DejaVuSans-6c\"/>\n",
       "      <use x=\"157.361328\" xlink:href=\"#DejaVuSans-69\"/>\n",
       "      <use x=\"185.144531\" xlink:href=\"#DejaVuSans-64\"/>\n",
       "      <use x=\"248.621094\" xlink:href=\"#DejaVuSans-61\"/>\n",
       "      <use x=\"309.900391\" xlink:href=\"#DejaVuSans-74\"/>\n",
       "      <use x=\"349.109375\" xlink:href=\"#DejaVuSans-69\"/>\n",
       "      <use x=\"376.892578\" xlink:href=\"#DejaVuSans-6f\"/>\n",
       "      <use x=\"438.074219\" xlink:href=\"#DejaVuSans-6e\"/>\n",
       "      <use x=\"501.453125\" xlink:href=\"#DejaVuSans-20\"/>\n",
       "      <use x=\"533.240234\" xlink:href=\"#DejaVuSans-73\"/>\n",
       "      <use x=\"585.339844\" xlink:href=\"#DejaVuSans-65\"/>\n",
       "      <use x=\"646.863281\" xlink:href=\"#DejaVuSans-74\"/>\n",
       "     </g>\n",
       "    </g>\n",
       "   </g>\n",
       "  </g>\n",
       " </g>\n",
       " <defs>\n",
       "  <clipPath id=\"p9f8a2d23dc\">\n",
       "   <rect height=\"217.44\" width=\"253.636364\" x=\"90\" y=\"34.56\"/>\n",
       "  </clipPath>\n",
       "  <clipPath id=\"pbeaf2a4c24\">\n",
       "   <rect height=\"217.44\" width=\"253.636364\" x=\"394.363636\" y=\"34.56\"/>\n",
       "  </clipPath>\n",
       " </defs>\n",
       "</svg>"
      ],
      "text/plain": [
       "<IPython.core.display.SVG object>"
      ]
     },
     "metadata": {},
     "output_type": "display_data"
    },
    {
     "name": "stdout",
     "output_type": "stream",
     "text": [
      "========================================================\n",
      "       |  Training |  Training |  Validate |  Validate \n",
      "Epochs |     Error |  Accuracy |     Error |  Accuracy \n",
      "------ | --------- | --------- | --------- | --------- \n",
      "#    8 |   1.78160 |   0.34889 |   1.68297 |   0.39000 \n"
     ]
    }
   ],
   "source": [
    "net.train(5, batch_size=256)"
   ]
  },
  {
   "cell_type": "code",
   "execution_count": null,
   "metadata": {
    "collapsed": true
   },
   "outputs": [],
   "source": []
  }
 ],
 "metadata": {
  "kernelspec": {
   "display_name": "Python 3",
   "language": "python",
   "name": "python3"
  },
  "language_info": {
   "codemirror_mode": {
    "name": "ipython",
    "version": 3
   },
   "file_extension": ".py",
   "mimetype": "text/x-python",
   "name": "python",
   "nbconvert_exporter": "python",
   "pygments_lexer": "ipython3",
   "version": "3.6.3"
  },
  "widgets": {
   "application/vnd.jupyter.widget-state+json": {
    "state": {
     "0096ef16a3ff4313898ef7bfe7c137ef": {
      "model_module": "@jupyter-widgets/controls",
      "model_module_version": "1.1.0",
      "model_name": "DescriptionStyleModel",
      "state": {
       "description_width": "initial"
      }
     },
     "00d780baa6eb4218a842780b3b7bc543": {
      "model_module": "@jupyter-widgets/controls",
      "model_module_version": "1.1.0",
      "model_name": "SelectModel",
      "state": {
       "_options_labels": [
        "",
        "input",
        "conv1",
        "conv2",
        "pool1",
        "conv3",
        "conv4",
        "pool2"
       ],
       "description": "Features:",
       "index": 0,
       "layout": "IPY_MODEL_031e40303667427288a7e72f6004acee",
       "rows": 1,
       "style": "IPY_MODEL_291b8b841987411dbef542be8e477529"
      }
     },
     "031e40303667427288a7e72f6004acee": {
      "model_module": "@jupyter-widgets/base",
      "model_module_version": "1.0.0",
      "model_name": "LayoutModel",
      "state": {}
     },
     "050655c660154d46887507f49807cd12": {
      "model_module": "@jupyter-widgets/controls",
      "model_module_version": "1.1.0",
      "model_name": "AccordionModel",
      "state": {
       "_titles": {
        "0": "CIRAR10"
       },
       "children": [
        "IPY_MODEL_94be21a3e36f4ded879e3f815a0d8b85"
       ],
       "layout": "IPY_MODEL_a5df9ec43ee64d3c9e55a985915572c3",
       "selected_index": null
      }
     },
     "065f6e1acd094e1592011476a835c480": {
      "model_module": "@jupyter-widgets/base",
      "model_module_version": "1.0.0",
      "model_name": "LayoutModel",
      "state": {}
     },
     "07e704fc9ab34978a02b9832b97ad329": {
      "model_module": "@jupyter-widgets/controls",
      "model_module_version": "1.1.0",
      "model_name": "DescriptionStyleModel",
      "state": {
       "description_width": ""
      }
     },
     "07f58ed64e6349c38dd522e746859a05": {
      "model_module": "@jupyter-widgets/controls",
      "model_module_version": "1.1.0",
      "model_name": "FloatSliderModel",
      "state": {
       "continuous_update": false,
       "description": "Zoom",
       "layout": "IPY_MODEL_3231ddd97695402e9ad871ec12cf1116",
       "max": 1,
       "step": 0.1,
       "style": "IPY_MODEL_48439bcead234a06a729831e9457b865",
       "value": 0.5
      }
     },
     "08b94d64f3c54fbbb001d0c4506800f6": {
      "model_module": "@jupyter-widgets/controls",
      "model_module_version": "1.1.0",
      "model_name": "DescriptionStyleModel",
      "state": {
       "description_width": "initial"
      }
     },
     "08e95273f5b44aaaa8943f8a3eab3ce1": {
      "model_module": "@jupyter-widgets/controls",
      "model_module_version": "1.1.0",
      "model_name": "VBoxModel",
      "state": {
       "children": [
        "IPY_MODEL_f1a4d99eb8cd4a7d88f9c288120871e1",
        "IPY_MODEL_1b7d2e10037c45a4b8c42a1883e1da93",
        "IPY_MODEL_b249693b5af64154a4fd5e00b7dc8e6e",
        "IPY_MODEL_5d8c46b9fd9d4911a396b7b6349223ac",
        "IPY_MODEL_161b6f8bac51435fb064e4fae3b2a696",
        "IPY_MODEL_dc7ce268dc1441e093d14c5cdd09604c",
        "IPY_MODEL_115b3d6203ef437db04b774f39f324c6",
        "IPY_MODEL_1344aebc5f8b4c268cf9a5306728965f"
       ],
       "layout": "IPY_MODEL_09a4b95aa28b4a5c86370e056386b16a"
      }
     },
     "09951363c4de4f52b54afc2133c76c0d": {
      "model_module": "@jupyter-widgets/controls",
      "model_module_version": "1.1.0",
      "model_name": "IntSliderModel",
      "state": {
       "continuous_update": false,
       "description": "Dataset index",
       "layout": "IPY_MODEL_660f9f78d5e44dfcb98dad93e6fd9b53",
       "max": 8999,
       "style": "IPY_MODEL_8a55ae232f5840c287e59ad9aa0c3a3f"
      }
     },
     "09a4b95aa28b4a5c86370e056386b16a": {
      "model_module": "@jupyter-widgets/base",
      "model_module_version": "1.0.0",
      "model_name": "LayoutModel",
      "state": {
       "width": "100%"
      }
     },
     "09de75a3bd564686b05c6785d004b0d2": {
      "model_module": "@jupyter-widgets/controls",
      "model_module_version": "1.1.0",
      "model_name": "HBoxModel",
      "state": {
       "children": [
        "IPY_MODEL_da372ee658ad4573aaaca30a0f41cb3d",
        "IPY_MODEL_d0ab657a8ae34270aae5f6b36c14c1bd"
       ],
       "layout": "IPY_MODEL_8d98d515a84a40f5bc8d234fda022cd5"
      }
     },
     "0a6bd51f04334d379b5dde8637fb653e": {
      "model_module": "@jupyter-widgets/controls",
      "model_module_version": "1.1.0",
      "model_name": "ButtonModel",
      "state": {
       "icon": "backward",
       "layout": "IPY_MODEL_dc149ae97e2b473b996d03a794ef4471",
       "style": "IPY_MODEL_27c64d74c9e247a99e8918ebc501508e"
      }
     },
     "0ab11dad7b4e4e0ea51ffed59449b8f2": {
      "model_module": "@jupyter-widgets/controls",
      "model_module_version": "1.1.0",
      "model_name": "HBoxModel",
      "state": {
       "children": [
        "IPY_MODEL_fb527d8dba5941089c829bd13f4f88f1",
        "IPY_MODEL_0a6bd51f04334d379b5dde8637fb653e",
        "IPY_MODEL_18280fc26ee94183913e0ea79d3bd400",
        "IPY_MODEL_7827db7016d547e79192b259f15213cd",
        "IPY_MODEL_7ad0efd5f0a9454eaeda7e01feffc29c",
        "IPY_MODEL_7f71190edc3446fe91b4bb56b329e2c4",
        "IPY_MODEL_2c59053fc03f4bc991920353f331d87f"
       ],
       "layout": "IPY_MODEL_bc5ef53219454304882edde4f6cec508"
      }
     },
     "0abc898edea844c5b07f1b80dc2ff092": {
      "model_module": "@jupyter-widgets/base",
      "model_module_version": "1.0.0",
      "model_name": "LayoutModel",
      "state": {
       "width": "100%"
      }
     },
     "0aee265f2d2d49cf8ab4ef347476de46": {
      "model_module": "@jupyter-widgets/controls",
      "model_module_version": "1.1.0",
      "model_name": "IntTextModel",
      "state": {
       "description": "Feature to show:",
       "layout": "IPY_MODEL_c3c7d853e79346cca12d038c8fb08b03",
       "step": 1,
       "style": "IPY_MODEL_c29ffc0e424b4839b5bd461cf2bd3a04"
      }
     },
     "0b1a13ddb2a241bea51dd1bbcc03d434": {
      "model_module": "@jupyter-widgets/controls",
      "model_module_version": "1.1.0",
      "model_name": "ButtonStyleModel",
      "state": {}
     },
     "0bee1009e81441029843bd6fb47a268f": {
      "model_module": "@jupyter-widgets/controls",
      "model_module_version": "1.1.0",
      "model_name": "DescriptionStyleModel",
      "state": {
       "description_width": ""
      }
     },
     "0cafdd1cd0ce418bbcdcd887b8685811": {
      "model_module": "@jupyter-widgets/base",
      "model_module_version": "1.0.0",
      "model_name": "LayoutModel",
      "state": {}
     },
     "0dfe017631904411a9747bd7109c8f92": {
      "model_module": "@jupyter-widgets/controls",
      "model_module_version": "1.1.0",
      "model_name": "ButtonStyleModel",
      "state": {}
     },
     "0e316c570378497f9eccb265cf8f5817": {
      "model_module": "@jupyter-widgets/controls",
      "model_module_version": "1.1.0",
      "model_name": "SliderStyleModel",
      "state": {
       "description_width": ""
      }
     },
     "0e827fa6c3a7462dbb672bd751c4a9ba": {
      "model_module": "@jupyter-widgets/controls",
      "model_module_version": "1.1.0",
      "model_name": "HTMLModel",
      "state": {
       "layout": "IPY_MODEL_e229a16a08664e55828179a32b6a4e56",
       "style": "IPY_MODEL_e944384a02124412911fb824965d0714",
       "value": "<p style=\"text-align:center\"><svg id='CIRAR10' xmlns='http://www.w3.org/2000/svg' image-rendering=\"pixelated\" width=\"800.0px\" height=\"138.6138613861386px\">\n <g  transform=\"rotate(90) translate(0 -800.0)\" >\n  <svg viewBox=\"0 0 350 2020\" width=\"138.6138613861386px\" height=\"800.0px\">\n    <defs>\n        <marker id=\"arrow\" markerWidth=\"10\" markerHeight=\"10\" refX=\"9\" refY=\"3\" orient=\"auto\" markerUnits=\"strokeWidth\">\n          <path d=\"M0,0 L0,6 L9,3 z\" fill=\"black\" />\n        </marker>\n    </defs><rect x=\"74.0\" y=\"24\" width=\"202\" height=\"52\" style=\"fill:none;stroke:black;stroke-width:2\"/><image id=\"picture-dashboard-CIRAR10-514900_output-rotated_21\" class=\"picture-dashboard-CIRAR10-514900_output-rotated\" x=\"75.0\" y=\"25\" height=\"50\" width=\"200\" preserveAspectRatio=\"none\" href=\"data:image/gif;base64,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\"><title>Layer: output (output)\n output range: (0, 1)\n shape = (10,)\n Keras class = Dense\n activation = softmax</title></image><text x=\"288.0\" y=\"52.0\" font-family=\"monospace\" font-size=\"12\" text-anchor=\"middle\" fill=\"black\" alignment-baseline=\"central\"  transform=\"rotate(-90 288.0 52.0) translate(2)\" >output</text><line x1=\"175.0\" y1=\"104\" x2=\"175.0\" y2=\"77\" stroke=\"black\" stroke-width=\"2\" marker-end=\"url(#arrow)\"><title>Weights from hidden1 to output\n output/kernel:0 has shape (512, 10)\n output/bias:0 has shape (10,)</title></line><rect x=\"74.0\" y=\"104\" width=\"202\" height=\"202\" style=\"fill:none;stroke:black;stroke-width:2\"/><image id=\"picture-dashboard-CIRAR10-514900_hidden1-rotated_22\" class=\"picture-dashboard-CIRAR10-514900_hidden1-rotated\" x=\"75.0\" y=\"105\" height=\"200\" width=\"200\" preserveAspectRatio=\"none\" href=\"data:image/gif;base64,R0lGODdhEAAgAIcAAH8AAI8AAK8AAM0AAO0AAP8XF/9FRf82Nv9ZWf8oKP+IiP/R0QAAAAAAAAAAAAAAAAAAAAAAAAAAAAAAAAAAAAAAAAAAAAAAAAAAAAAAAAAAAAAAAAAAAAAAAAAAAAAAAAAAAAAAAAAAAAAAAAAAAAAAAAAAAAAAAAAAAAAAAAAAAAAAAAAAAAAAAAAAAAAAAAAAAAAAAAAAAAAAAAAAAAAAAAAAAAAAAAAAAAAAAAAAAAAAAAAAAAAAAAAAAAAAAAAAAAAAAAAAAAAAAAAAAAAAAAAAAAAAAAAAAAAAAAAAAAAAAAAAAAAAAAAAAAAAAAAAAAAAAAAAAAAAAAAAAAAAAAAAAAAAAAAAAAAAAAAAAAAAAAAAAAAAAAAAAAAAAAAAAAAAAAAAAAAAAAAAAAAAAAAAAAAAAAAAAAAAAAAAAAAAAAAAAAAAAAAAAAAAAAAAAAAAAAAAAAAAAAAAAAAAAAAAAAAAAAAAAAAAAAAAAAAAAAAAAAAAAAAAAAAAAAAAAAAAAAAAAAAAAAAAAAAAAAAAAAAAAAAAAAAAAAAAAAAAAAAAAAAAAAAAAAAAAAAAAAAAAAAAAAAAAAAAAAAAAAAAAAAAAAAAAAAAAAAAAAAAAAAAAAAAAAAAAAAAAAAAAAAAAAAAAAAAAAAAAAAAAAAAAAAAAAAAAAAAAAAAAAAAAAAAAAAAAAAAAAAAAAAAAAAAAAAAAAAAAAAAAAAAAAAAAAAAAAAAAAAAAAAAAAAAAAAAAAAAAAAAAAAAAAAAAAAAAAAAAAAAAAAAAAAAAAAAAAAAAAAAAAAAAAAAAAAAAAAAAAAAAAAAAAAAAAAAAAAAAAAAAAAAAAAAAAAAAAAAAAAAAAAAAAAAAAAAAAAAAAAAAAAAAAAAAAAAAAAAAAAAAAAAAAAAAAAAAAAAAAAAAAAAAAAAAAAAAAAAAAAAAAAAAAAAAAAAAAAAAAAAAAAAAAAAAAAAAAAAAAAAAAAAAAAAAAAAAAAAAAAAAAAAAAAAAAAAAAAAAAAAACwAAAAAEAAgAEAI/wABBAAwAEAAAAgBBAgAoOEAABADABgwAICAAgQADADAEUAAAAMGCAAAwACAkwAEDAAQAIAAAQAIAJgpAEAAAAQCABAAQECAAAICAAAwAACBAAMECCAQYACAAACiBgBAFYAAAAEAABgAoKuAAAAAEABwAIBZswEAqF0bYAABAAEKAJgLIAAAAAIAABgAAMAAAQACABAwIAAAAAMCACAQAIDjAAMEBAAAoECCAAEAAAgwIAAAAQEEACAAoHQAAKgDBCggAAAAAQAACCAQAMCAAAIEABggQMAAAAICCABAgACAAAIAAAgAoHmAAACiAwgAYAAAAAICCAAAQAAAAQAEAP8IEIAAgPPnBxAAwF5AAAAABAAAIIAAAAADAAQIAABAAYACBAAQAMAgAQADAAAIAMAhgAABAAAYAEAAAIwAAgwAACCAgAAAAAwIEACAAAApBwAAMAABgQEAZAYAEEAAAJwBAOwcAGAAAAEAAAgAAEAAAQAABgAQAGAAAAIFBAQAAMAAAKwGAgAYACBAAAAAAgAAIADAWQICAgAYIADAWwAFAAygewDAgAEABAwAMCAAAAADBgAAEACAAAAAAgQgIABAgAQABgCgXBkAAQIBAAgAcEAAgAUARAMgAMD0aQACDAgQAGAAAAABAAQAEAAAAAEAAgAIAAAAAQQAEAAgXlwUAAABAAgIAACAgAIBAQIQAABgQEAAOw==\"><title>Layer: hidden1 (hidden)\n output range: (0, +Infinity)\n shape = (512,)\n dropout = 0.5\n Keras class = Dense\n activation = relu</title></image><text x=\"288.0\" y=\"207.0\" font-family=\"monospace\" font-size=\"12\" text-anchor=\"middle\" fill=\"black\" alignment-baseline=\"central\"  transform=\"rotate(-90 288.0 207.0) translate(2)\" >hidden1</text><text x=\"62.0\" y=\"110\" font-family=\"monospace\" font-size=\"24.0\" text-anchor=\"middle\" fill=\"black\" alignment-baseline=\"central\"  transform=\"rotate(-90 62.0 110) translate(2)\" >&#10683;</text><line x1=\"175.0\" y1=\"334\" x2=\"175.0\" y2=\"307\" stroke=\"black\" stroke-width=\"2\" marker-end=\"url(#arrow)\"><title>Weights from flatten to hidden1\n hidden1/kernel:0 has shape (2304, 512)\n hidden1/bias:0 has shape (512,)</title></line><rect x=\"74.0\" y=\"334\" width=\"202\" height=\"52\" style=\"fill:none;stroke:black;stroke-width:2\"/><image id=\"picture-dashboard-CIRAR10-514900_flatten-rotated_23\" class=\"picture-dashboard-CIRAR10-514900_flatten-rotated\" x=\"75.0\" y=\"335\" height=\"50\" width=\"200\" preserveAspectRatio=\"none\" href=\"data:image/gif;base64,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\"><title>Layer: flatten (hidden)\n output range: (-Infinity, +Infinity)\n Keras class = Flatten</title></image><text x=\"288.0\" y=\"362.0\" font-family=\"monospace\" font-size=\"12\" text-anchor=\"middle\" fill=\"black\" alignment-baseline=\"central\"  transform=\"rotate(-90 288.0 362.0) translate(2)\" >flatten</text><line x1=\"175.0\" y1=\"414\" x2=\"175.0\" y2=\"387\" stroke=\"black\" stroke-width=\"2\" marker-end=\"url(#arrow)\"><title>Weights from pool2 to flatten</title></line><rect x=\"74.0\" y=\"414\" width=\"202\" height=\"202\" style=\"fill:none;stroke:black;stroke-width:2\"/><image id=\"picture-dashboard-CIRAR10-514900_pool2-rotated_24\" class=\"picture-dashboard-CIRAR10-514900_pool2-rotated\" x=\"75.0\" y=\"415\" height=\"200\" width=\"200\" preserveAspectRatio=\"none\" href=\"data:image/gif;base64,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\"><title>Layer: pool2 (hidden)\n output range: (-Infinity, +Infinity)\n dropout = 0.25\n Keras class = MaxPooling2D\n pool_size = (2, 2)</title></image><text x=\"288.0\" y=\"517.0\" font-family=\"monospace\" font-size=\"12\" text-anchor=\"middle\" fill=\"black\" alignment-baseline=\"central\"  transform=\"rotate(-90 288.0 517.0) translate(2)\" >pool2</text><text x=\"88.0\" y=\"400\" font-family=\"monospace\" font-size=\"12\" text-anchor=\"middle\" fill=\"black\" alignment-baseline=\"central\"  transform=\"rotate(-90 88.0 400) translate(2)\" >64</text><text x=\"273.0\" y=\"630\" font-family=\"monospace\" font-size=\"12\" text-anchor=\"middle\" fill=\"black\" alignment-baseline=\"central\"  transform=\"rotate(-90 273.0 630) translate(2)\" >0</text><text x=\"62.0\" y=\"420\" font-family=\"monospace\" font-size=\"24.0\" text-anchor=\"middle\" fill=\"black\" alignment-baseline=\"central\"  transform=\"rotate(-90 62.0 420) translate(2)\" >&#10683;</text><line x1=\"175.0\" y1=\"644\" x2=\"175.0\" y2=\"617\" stroke=\"black\" stroke-width=\"2\" marker-end=\"url(#arrow)\"><title>Weights from conv4 to pool2</title></line><rect x=\"74.0\" y=\"644\" width=\"202\" height=\"202\" style=\"fill:none;stroke:black;stroke-width:2\"/><image id=\"picture-dashboard-CIRAR10-514900_conv4-rotated_25\" class=\"picture-dashboard-CIRAR10-514900_conv4-rotated\" x=\"75.0\" y=\"645\" height=\"200\" width=\"200\" preserveAspectRatio=\"none\" href=\"data:image/gif;base64,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\"><title>Layer: conv4 (hidden)\n output range: (0, +Infinity)\n Keras class = Conv2D\n activation = relu</title></image><text x=\"288.0\" y=\"747.0\" font-family=\"monospace\" font-size=\"12\" text-anchor=\"middle\" fill=\"black\" alignment-baseline=\"central\"  transform=\"rotate(-90 288.0 747.0) translate(2)\" >conv4</text><text x=\"88.0\" y=\"630\" font-family=\"monospace\" font-size=\"12\" text-anchor=\"middle\" fill=\"black\" alignment-baseline=\"central\"  transform=\"rotate(-90 88.0 630) translate(2)\" >64</text><text x=\"273.0\" y=\"860\" font-family=\"monospace\" font-size=\"12\" text-anchor=\"middle\" fill=\"black\" alignment-baseline=\"central\"  transform=\"rotate(-90 273.0 860) translate(2)\" >0</text><line x1=\"175.0\" y1=\"874\" x2=\"175.0\" y2=\"847\" stroke=\"black\" stroke-width=\"2\" marker-end=\"url(#arrow)\"><title>Weights from conv3 to conv4\n conv4/kernel:0 has shape (3, 3, 64, 64)\n conv4/bias:0 has shape (64,)</title></line><rect x=\"74.0\" y=\"874\" width=\"202\" height=\"202\" style=\"fill:none;stroke:black;stroke-width:2\"/><image id=\"picture-dashboard-CIRAR10-514900_conv3-rotated_26\" class=\"picture-dashboard-CIRAR10-514900_conv3-rotated\" x=\"75.0\" y=\"875\" height=\"200\" width=\"200\" preserveAspectRatio=\"none\" href=\"data:image/gif;base64,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\"><title>Layer: conv3 (hidden)\n output range: (0, +Infinity)\n Keras class = Conv2D\n padding = same\n activation = relu</title></image><text x=\"288.0\" y=\"977.0\" font-family=\"monospace\" font-size=\"12\" text-anchor=\"middle\" fill=\"black\" alignment-baseline=\"central\"  transform=\"rotate(-90 288.0 977.0) translate(2)\" >conv3</text><text x=\"88.0\" y=\"860\" font-family=\"monospace\" font-size=\"12\" text-anchor=\"middle\" fill=\"black\" alignment-baseline=\"central\"  transform=\"rotate(-90 88.0 860) translate(2)\" >64</text><text x=\"273.0\" y=\"1090\" font-family=\"monospace\" font-size=\"12\" text-anchor=\"middle\" fill=\"black\" alignment-baseline=\"central\"  transform=\"rotate(-90 273.0 1090) translate(2)\" >0</text><line x1=\"175.0\" y1=\"1104\" x2=\"175.0\" y2=\"1077\" stroke=\"black\" stroke-width=\"2\" marker-end=\"url(#arrow)\"><title>Weights from pool1 to conv3\n conv3/kernel:0 has shape (3, 3, 32, 64)\n conv3/bias:0 has shape (64,)</title></line><rect x=\"74.0\" y=\"1104\" width=\"202\" height=\"202\" style=\"fill:none;stroke:black;stroke-width:2\"/><image id=\"picture-dashboard-CIRAR10-514900_pool1-rotated_27\" class=\"picture-dashboard-CIRAR10-514900_pool1-rotated\" x=\"75.0\" y=\"1105\" height=\"200\" width=\"200\" preserveAspectRatio=\"none\" href=\"data:image/gif;base64,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\"><title>Layer: pool1 (hidden)\n output range: (-Infinity, +Infinity)\n dropout = 0.25\n Keras class = MaxPooling2D\n pool_size = (2, 2)</title></image><text x=\"288.0\" y=\"1207.0\" font-family=\"monospace\" font-size=\"12\" text-anchor=\"middle\" fill=\"black\" alignment-baseline=\"central\"  transform=\"rotate(-90 288.0 1207.0) translate(2)\" >pool1</text><text x=\"88.0\" y=\"1090\" font-family=\"monospace\" font-size=\"12\" text-anchor=\"middle\" fill=\"black\" alignment-baseline=\"central\"  transform=\"rotate(-90 88.0 1090) translate(2)\" >32</text><text x=\"273.0\" y=\"1320\" font-family=\"monospace\" font-size=\"12\" text-anchor=\"middle\" fill=\"black\" alignment-baseline=\"central\"  transform=\"rotate(-90 273.0 1320) translate(2)\" >0</text><text x=\"62.0\" y=\"1110\" font-family=\"monospace\" font-size=\"24.0\" text-anchor=\"middle\" fill=\"black\" alignment-baseline=\"central\"  transform=\"rotate(-90 62.0 1110) translate(2)\" >&#10683;</text><line x1=\"175.0\" y1=\"1334\" x2=\"175.0\" y2=\"1307\" stroke=\"black\" stroke-width=\"2\" marker-end=\"url(#arrow)\"><title>Weights from conv2 to pool1</title></line><rect x=\"74.0\" y=\"1334\" width=\"202\" height=\"202\" style=\"fill:none;stroke:black;stroke-width:2\"/><image id=\"picture-dashboard-CIRAR10-514900_conv2-rotated_28\" class=\"picture-dashboard-CIRAR10-514900_conv2-rotated\" x=\"75.0\" y=\"1335\" height=\"200\" width=\"200\" preserveAspectRatio=\"none\" href=\"data:image/gif;base64,R0lGODdhHgAeAIcAAH8AAIoAAKQAAAAAAAAAAAAAAAAAAAAAAAAAAAAAAAAAAAAAAAAAAAAAAAAAAAAAAAAAAAAAAAAAAAAAAAAAAAAAAAAAAAAAAAAAAAAAAAAAAAAAAAAAAAAAAAAAAAAAAAAAAAAAAAAAAAAAAAAAAAAAAAAAAAAAAAAAAAAAAAAAAAAAAAAAAAAAAAAAAAAAAAAAAAAAAAAAAAAAAAAAAAAAAAAAAAAAAAAAAAAAAAAAAAAAAAAAAAAAAAAAAAAAAAAAAAAAAAAAAAAAAAAAAAAAAAAAAAAAAAAAAAAAAAAAAAAAAAAAAAAAAAAAAAAAAAAAAAAAAAAAAAAAAAAAAAAAAAAAAAAAAAAAAAAAAAAAAAAAAAAAAAAAAAAAAAAAAAAAAAAAAAAAAAAAAAAAAAAAAAAAAAAAAAAAAAAAAAAAAAAAAAAAAAAAAAAAAAAAAAAAAAAAAAAAAAAAAAAAAAAAAAAAAAAAAAAAAAAAAAAAAAAAAAAAAAAAAAAAAAAAAAAAAAAAAAAAAAAAAAAAAAAAAAAAAAAAAAAAAAAAAAAAAAAAAAAAAAAAAAAAAAAAAAAAAAAAAAAAAAAAAAAAAAAAAAAAAAAAAAAAAAAAAAAAAAAAAAAAAAAAAAAAAAAAAAAAAAAAAAAAAAAAAAAAAAAAAAAAAAAAAAAAAAAAAAAAAAAAAAAAAAAAAAAAAAAAAAAAAAAAAAAAAAAAAAAAAAAAAAAAAAAAAAAAAAAAAAAAAAAAAAAAAAAAAAAAAAAAAAAAAAAAAAAAAAAAAAAAAAAAAAAAAAAAAAAAAAAAAAAAAAAAAAAAAAAAAAAAAAAAAAAAAAAAAAAAAAAAAAAAAAAAAAAAAAAAAAAAAAAAAAAAAAAAAAAAAAAAAAAAAAAAAAAAAAAAAAAAAAAAAAAAAAAAAAAAAAAAAAAAAAAAAAAAAAAAAAAAAAAAAAAAAAAAAAAAAAAAAAAAAAAAAAAAAAAAAAAAAAAAAAAAAAAAAAAAAAAAAAAAAAAAAAAAAAAAACwAAAAAHgAeAEAI/wABCBxIsKDBgQESKgTAsGHDAAEABJgIoGIAABgzatzIcWOAjwBCAggQAIBJkwEAqFzJsqXLlzBjypz5MoDNAABy6tyZMwCAn0CDCg1ANACAo0iTKl3KtKnTp1CjKg0QQIBVqwEAaN26NQCAr2DDgg0QAIDZs2jTql0boG1bAHDjyp1Lt+7cAHgB6NUbAIDfv4AD+w0gIEAAAIgTK17MuLHjx5AhB5gsAIDly5gza97MeXOAz6ADABhNmnQAAKhTq0YdQICAALBhA5hNu7bt2gEAAAgQAIDv38CDCx8OIIDxAACSK1+ePACA59CjPw9AnTqA69iza9+ePYB37wDCi0gfT768eQAB0qtPD6B9+wAA4sufT7++/fv4AwQQICBAAIAABA4kWNDgwQAAFC5k2NDhQ4gRJU6kGMDiRYsAAgQA0NGjxwABAgIAOw==\"><title>Layer: conv2 (hidden)\n output range: (0, +Infinity)\n Keras class = Conv2D\n activation = relu</title></image><text x=\"288.0\" y=\"1437.0\" font-family=\"monospace\" font-size=\"12\" text-anchor=\"middle\" fill=\"black\" alignment-baseline=\"central\"  transform=\"rotate(-90 288.0 1437.0) translate(2)\" >conv2</text><text x=\"88.0\" y=\"1320\" font-family=\"monospace\" font-size=\"12\" text-anchor=\"middle\" fill=\"black\" alignment-baseline=\"central\"  transform=\"rotate(-90 88.0 1320) translate(2)\" >32</text><text x=\"273.0\" y=\"1550\" font-family=\"monospace\" font-size=\"12\" text-anchor=\"middle\" fill=\"black\" alignment-baseline=\"central\"  transform=\"rotate(-90 273.0 1550) translate(2)\" >0</text><line x1=\"175.0\" y1=\"1564\" x2=\"175.0\" y2=\"1537\" stroke=\"black\" stroke-width=\"2\" marker-end=\"url(#arrow)\"><title>Weights from conv1 to conv2\n conv2/kernel:0 has shape (3, 3, 32, 32)\n conv2/bias:0 has shape (32,)</title></line><rect x=\"74.0\" y=\"1564\" width=\"202\" height=\"202\" style=\"fill:none;stroke:black;stroke-width:2\"/><image id=\"picture-dashboard-CIRAR10-514900_conv1-rotated_29\" class=\"picture-dashboard-CIRAR10-514900_conv1-rotated\" x=\"75.0\" y=\"1565\" height=\"200\" width=\"200\" preserveAspectRatio=\"none\" href=\"data:image/gif;base64,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\"><title>Layer: conv1 (hidden)\n output range: (0, +Infinity)\n Keras class = Conv2D\n padding = same\n activation = relu</title></image><text x=\"288.0\" y=\"1667.0\" font-family=\"monospace\" font-size=\"12\" text-anchor=\"middle\" fill=\"black\" alignment-baseline=\"central\"  transform=\"rotate(-90 288.0 1667.0) translate(2)\" >conv1</text><text x=\"88.0\" y=\"1550\" font-family=\"monospace\" font-size=\"12\" text-anchor=\"middle\" fill=\"black\" alignment-baseline=\"central\"  transform=\"rotate(-90 88.0 1550) translate(2)\" >32</text><text x=\"273.0\" y=\"1780\" font-family=\"monospace\" font-size=\"12\" text-anchor=\"middle\" fill=\"black\" alignment-baseline=\"central\"  transform=\"rotate(-90 273.0 1780) translate(2)\" >0</text><line x1=\"175.0\" y1=\"1794\" x2=\"175.0\" y2=\"1767\" stroke=\"black\" stroke-width=\"2\" marker-end=\"url(#arrow)\"><title>Weights from input to conv1\n conv1/kernel:0 has shape (3, 3, 3, 32)\n conv1/bias:0 has shape (32,)</title></line><rect x=\"74.0\" y=\"1794\" width=\"202\" height=\"202\" style=\"fill:none;stroke:black;stroke-width:2\"/><image id=\"picture-dashboard-CIRAR10-514900_input-rotated_30\" class=\"picture-dashboard-CIRAR10-514900_input-rotated\" x=\"75.0\" y=\"1795\" height=\"200\" width=\"200\" preserveAspectRatio=\"none\" href=\"data:image/gif;base64,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\"><title>Layer: input (input)\n output range: (0.0, 1.0)\n shape = (32, 32, 3)\n Keras class = Input</title></image><text x=\"288.0\" y=\"1897.0\" font-family=\"monospace\" font-size=\"12\" text-anchor=\"middle\" fill=\"black\" alignment-baseline=\"central\"  transform=\"rotate(-90 288.0 1897.0) translate(2)\" >input</text><text x=\"18\" y=\"1010.0\" font-family=\"monospace\" font-size=\"15\" text-anchor=\"middle\" fill=\"black\" alignment-baseline=\"central\"  transform=\"rotate(-90 18 1010.0) translate(2)\" >CIRAR10</text></svg></g></svg></p>"
      }
     },
     "0ef1f92d41b34775a2a2cfad637b1eee": {
      "model_module": "@jupyter-widgets/base",
      "model_module_version": "1.0.0",
      "model_name": "LayoutModel",
      "state": {
       "justify_content": "center",
       "overflow_x": "auto",
       "overflow_y": "auto",
       "width": "95%"
      }
     },
     "0efa6892d3b04deab7178e0eb900e25e": {
      "model_module": "@jupyter-widgets/controls",
      "model_module_version": "1.1.0",
      "model_name": "VBoxModel",
      "state": {
       "children": [
        "IPY_MODEL_9909e5ed1fae4503baf524ec4dc8b253",
        "IPY_MODEL_bc04ce25690c483d8675f532af2f1508",
        "IPY_MODEL_f2f5e4226bda424aae44973cba9e6dd1",
        "IPY_MODEL_4b2d0fd683d84b5e951da3cba8a83ca5"
       ],
       "layout": "IPY_MODEL_1eb8e72cef674a4d825d21f9fa51910f"
      }
     },
     "1006096ff7b24b1d97439a6a78d8638f": {
      "model_module": "@jupyter-widgets/base",
      "model_module_version": "1.0.0",
      "model_name": "LayoutModel",
      "state": {
       "width": "65%"
      }
     },
     "1094648a9c224300abcd42549dfbedcb": {
      "model_module": "@jupyter-widgets/base",
      "model_module_version": "1.0.0",
      "model_name": "LayoutModel",
      "state": {
       "width": "10%"
      }
     },
     "115b3d6203ef437db04b774f39f324c6": {
      "model_module": "@jupyter-widgets/controls",
      "model_module_version": "1.1.0",
      "model_name": "IntTextModel",
      "state": {
       "description": "Feature to show:",
       "layout": "IPY_MODEL_065f6e1acd094e1592011476a835c480",
       "step": 1,
       "style": "IPY_MODEL_d18565e506a844fbb2e87747009dbff3"
      }
     },
     "11e3da7b2c514d33b546b6dd3b24f7e0": {
      "model_module": "@jupyter-widgets/base",
      "model_module_version": "1.0.0",
      "model_name": "LayoutModel",
      "state": {}
     },
     "12b4a715902d44bda1b1ed7100531b12": {
      "model_module": "@jupyter-widgets/controls",
      "model_module_version": "1.1.0",
      "model_name": "ButtonModel",
      "state": {
       "icon": "fast-backward",
       "layout": "IPY_MODEL_df26c67ae63948328f20bca836d36979",
       "style": "IPY_MODEL_eb6b8addf5df4eca90a827e91e3f1a73"
      }
     },
     "12ed6a095bb7442186a20fe4315e59f0": {
      "model_module": "@jupyter-widgets/controls",
      "model_module_version": "1.1.0",
      "model_name": "CheckboxModel",
      "state": {
       "description": "Errors",
       "disabled": false,
       "layout": "IPY_MODEL_b9425773890543ecaf2b3356808f12c3",
       "style": "IPY_MODEL_b88ec449d2804cdeab349f1e703d1b7b",
       "value": false
      }
     },
     "1344aebc5f8b4c268cf9a5306728965f": {
      "model_module": "@jupyter-widgets/controls",
      "model_module_version": "1.1.0",
      "model_name": "HBoxModel",
      "state": {
       "children": [
        "IPY_MODEL_c7c88eef36254381a3726653a08241c6",
        "IPY_MODEL_3566a559b9fe4de7bfb063627cde61a5"
       ],
       "layout": "IPY_MODEL_a90a6fe624594685b5bae50a8815ac6e"
      }
     },
     "13ce61afdf2f4e34b8535cfd2f9458bc": {
      "model_module": "@jupyter-widgets/controls",
      "model_module_version": "1.1.0",
      "model_name": "DescriptionStyleModel",
      "state": {
       "description_width": "initial"
      }
     },
     "1542d16f49a4438da66bbbae7c213400": {
      "model_module": "@jupyter-widgets/controls",
      "model_module_version": "1.1.0",
      "model_name": "IntTextModel",
      "state": {
       "layout": "IPY_MODEL_9e66afeec483415cb4041090533b3fc1",
       "step": 1,
       "style": "IPY_MODEL_5578a209d34642bc9c6b6db0384be5dc"
      }
     },
     "158ba9ff39d447aa9429207a0da97e18": {
      "model_module": "@jupyter-widgets/base",
      "model_module_version": "1.0.0",
      "model_name": "LayoutModel",
      "state": {}
     },
     "161b6f8bac51435fb064e4fae3b2a696": {
      "model_module": "@jupyter-widgets/controls",
      "model_module_version": "1.1.0",
      "model_name": "FloatTextModel",
      "state": {
       "description": "Leftmost color maps to:",
       "layout": "IPY_MODEL_59a29c5247044a8ab32127210be822d5",
       "step": null,
       "style": "IPY_MODEL_eaa4ca5275994bc38206f4a3a0061a20"
      }
     },
     "168bafb364454a7a827a13666394617f": {
      "model_module": "@jupyter-widgets/output",
      "model_module_version": "1.0.0",
      "model_name": "OutputModel",
      "state": {
       "layout": "IPY_MODEL_4a7d473f893c48a8ac8b0e7e8657309e"
      }
     },
     "17462f1b1936405a8b51a1106031aa3e": {
      "model_module": "@jupyter-widgets/controls",
      "model_module_version": "1.1.0",
      "model_name": "VBoxModel",
      "state": {
       "children": [
        "IPY_MODEL_9dc4667df05f4b67a90b35cd400b15c9",
        "IPY_MODEL_0ab11dad7b4e4e0ea51ffed59449b8f2"
       ],
       "layout": "IPY_MODEL_d34c039143f44f61941e0575446f88cb"
      }
     },
     "17a10877416c48f4836bd5b9d4e1028c": {
      "model_module": "@jupyter-widgets/controls",
      "model_module_version": "1.1.0",
      "model_name": "DescriptionStyleModel",
      "state": {
       "description_width": "initial"
      }
     },
     "18280fc26ee94183913e0ea79d3bd400": {
      "model_module": "@jupyter-widgets/controls",
      "model_module_version": "1.1.0",
      "model_name": "IntTextModel",
      "state": {
       "layout": "IPY_MODEL_b4df2ae755d441cf8001653afac2b8d6",
       "step": 1,
       "style": "IPY_MODEL_efe490e07ac842c6b3eac9cfe6ef4a28"
      }
     },
     "185ab25cc15741558adaee41d5578049": {
      "model_module": "@jupyter-widgets/controls",
      "model_module_version": "1.1.0",
      "model_name": "IntTextModel",
      "state": {
       "description": "Feature columns:",
       "layout": "IPY_MODEL_b3c1d3561bed44378123983968e40c4a",
       "step": 1,
       "style": "IPY_MODEL_deeead49eed045a98962192b94c64fc0",
       "value": 3
      }
     },
     "19bf757d2f7a4fb2b64f7544c89cc122": {
      "model_module": "@jupyter-widgets/base",
      "model_module_version": "1.0.0",
      "model_name": "LayoutModel",
      "state": {
       "width": "100%"
      }
     },
     "1aae44b918464d9d80851689d948a3c3": {
      "model_module": "@jupyter-widgets/controls",
      "model_module_version": "1.1.0",
      "model_name": "DescriptionStyleModel",
      "state": {
       "description_width": ""
      }
     },
     "1b12b646e7964190adf2e3af0917d4e2": {
      "model_module": "@jupyter-widgets/controls",
      "model_module_version": "1.1.0",
      "model_name": "ButtonModel",
      "state": {
       "icon": "refresh",
       "layout": "IPY_MODEL_d13dbb68493449acba2007bd365de218",
       "style": "IPY_MODEL_eacdec117db94cc5925ee6ca6e12a142"
      }
     },
     "1b7d2e10037c45a4b8c42a1883e1da93": {
      "model_module": "@jupyter-widgets/controls",
      "model_module_version": "1.1.0",
      "model_name": "CheckboxModel",
      "state": {
       "description": "Visible",
       "disabled": false,
       "layout": "IPY_MODEL_b9425773890543ecaf2b3356808f12c3",
       "style": "IPY_MODEL_6be91224a45f45b5a806611701e8497a",
       "value": true
      }
     },
     "1bcf0022f7de4a018936c606acb9bc12": {
      "model_module": "@jupyter-widgets/controls",
      "model_module_version": "1.1.0",
      "model_name": "FloatTextModel",
      "state": {
       "description": "Leftmost color maps to:",
       "layout": "IPY_MODEL_63b4fd4cbfd84e4d853867a6cd1d54fe",
       "step": null,
       "style": "IPY_MODEL_6a2d75dfd5804134943db5bdcecf4b10"
      }
     },
     "1c6cc4b063004a1b91ea24b35989a798": {
      "model_module": "@jupyter-widgets/base",
      "model_module_version": "1.0.0",
      "model_name": "LayoutModel",
      "state": {
       "width": "100%"
      }
     },
     "1eb8e72cef674a4d825d21f9fa51910f": {
      "model_module": "@jupyter-widgets/base",
      "model_module_version": "1.0.0",
      "model_name": "LayoutModel",
      "state": {}
     },
     "1f535e6f93bd47499a5a27389542d4e3": {
      "model_module": "@jupyter-widgets/controls",
      "model_module_version": "1.1.0",
      "model_name": "DescriptionStyleModel",
      "state": {
       "description_width": ""
      }
     },
     "1ff83de3083e410e97bcfd26980c75a9": {
      "model_module": "@jupyter-widgets/controls",
      "model_module_version": "1.1.0",
      "model_name": "ButtonStyleModel",
      "state": {}
     },
     "21ca7cc73dae4615866abfc2d8bf6e6c": {
      "model_module": "@jupyter-widgets/controls",
      "model_module_version": "1.1.0",
      "model_name": "SelectModel",
      "state": {
       "_options_labels": [
        "",
        "input",
        "conv1",
        "conv2",
        "pool1",
        "conv3",
        "conv4",
        "pool2"
       ],
       "description": "Features:",
       "index": 0,
       "layout": "IPY_MODEL_cba47dd7f1594bb3b7f882c5535d5f16",
       "rows": 1,
       "style": "IPY_MODEL_7566aa8ea7aa4021975cfa72eff6c2a5"
      }
     },
     "2381ac09f1154265b41c0c02c6725e2f": {
      "model_module": "@jupyter-widgets/controls",
      "model_module_version": "1.1.0",
      "model_name": "CheckboxModel",
      "state": {
       "description": "Rotate network",
       "disabled": false,
       "layout": "IPY_MODEL_ed59c74933224b9080768c875bf1b99a",
       "style": "IPY_MODEL_d1aa346fb95d4ff4b3aeecdb2df00e08",
       "value": true
      }
     },
     "23ff6b5616e844dbb8e9494a971a34ce": {
      "model_module": "@jupyter-widgets/controls",
      "model_module_version": "1.1.0",
      "model_name": "IntTextModel",
      "state": {
       "description": "Vertical space between layers:",
       "layout": "IPY_MODEL_515027460a6945739f3e99304c879848",
       "step": 1,
       "style": "IPY_MODEL_ea53ea9a34c44ffa8612e5f17f035e82",
       "value": 30
      }
     },
     "2500821fb4444f1da850ebe2d9feca29": {
      "model_module": "@jupyter-widgets/controls",
      "model_module_version": "1.1.0",
      "model_name": "CheckboxModel",
      "state": {
       "description": "Rotate",
       "disabled": false,
       "layout": "IPY_MODEL_a37bc96543a34e9a8beff1643d324fa6",
       "style": "IPY_MODEL_4224815bfb3449748cc091688dcfbc85",
       "value": true
      }
     },
     "262116d8836e41a797b2de3cf83635fd": {
      "model_module": "@jupyter-widgets/controls",
      "model_module_version": "1.1.0",
      "model_name": "DescriptionStyleModel",
      "state": {
       "description_width": ""
      }
     },
     "262db713a7984178ba634ce2ac1ea220": {
      "model_module": "@jupyter-widgets/controls",
      "model_module_version": "1.1.0",
      "model_name": "ButtonModel",
      "state": {
       "icon": "backward",
       "layout": "IPY_MODEL_9d7e621a84db41f0acf1b8f51781efd9",
       "style": "IPY_MODEL_a3cd364239c0430baf50194b4acd5e75"
      }
     },
     "27c64d74c9e247a99e8918ebc501508e": {
      "model_module": "@jupyter-widgets/controls",
      "model_module_version": "1.1.0",
      "model_name": "ButtonStyleModel",
      "state": {}
     },
     "287df043578f4a28a3341be9d61a782c": {
      "model_module": "@jupyter-widgets/controls",
      "model_module_version": "1.1.0",
      "model_name": "ButtonModel",
      "state": {
       "icon": "refresh",
       "layout": "IPY_MODEL_c82d2991ff114cb185061c5c754a4680",
       "style": "IPY_MODEL_b2702722eefc4f28a6e53b7b6b6921b8"
      }
     },
     "291b8b841987411dbef542be8e477529": {
      "model_module": "@jupyter-widgets/controls",
      "model_module_version": "1.1.0",
      "model_name": "DescriptionStyleModel",
      "state": {
       "description_width": ""
      }
     },
     "2aba4864e2f64b2cbf4561ab44d918e4": {
      "model_module": "@jupyter-widgets/controls",
      "model_module_version": "1.1.0",
      "model_name": "DescriptionStyleModel",
      "state": {
       "description_width": "initial"
      }
     },
     "2b4274a52a61494b94b014b6e735672e": {
      "model_module": "@jupyter-widgets/controls",
      "model_module_version": "1.1.0",
      "model_name": "HTMLModel",
      "state": {
       "layout": "IPY_MODEL_158ba9ff39d447aa9429207a0da97e18",
       "style": "IPY_MODEL_e44633bff103476d8147cfafe9376cfb",
       "value": "<img src=\"data:image/gif;base64,R0lGODdhLAEZAIcAAPIBAY8AAK8AANAAAAIC8wAAbwAAsAAAkAAA0Pr2+vPn8wAAVkdH/7a2///X1yYm/2Zm/3h4/5aW/9fX//8VFf8mJv84OP9WVv9nZ/+Ghv+YmP+2thYW/zU1/1hY/4aG/6Wl/8jI//9GRv92dv+mpv/FxX8AAAAAAAAAAAAAAAAAAAAAAAAAAAAAAAAAAAAAAAAAAAAAAAAAAAAAAAAAAAAAAAAAAAAAAAAAAAAAAAAAAAAAAAAAAAAAAAAAAAAAAAAAAAAAAAAAAAAAAAAAAAAAAAAAAAAAAAAAAAAAAAAAAAAAAAAAAAAAAAAAAAAAAAAAAAAAAAAAAAAAAAAAAAAAAAAAAAAAAAAAAAAAAAAAAAAAAAAAAAAAAAAAAAAAAAAAAAAAAAAAAAAAAAAAAAAAAAAAAAAAAAAAAAAAAAAAAAAAAAAAAAAAAAAAAAAAAAAAAAAAAAAAAAAAAAAAAAAAAAAAAAAAAAAAAAAAAAAAAAAAAAAAAAAAAAAAAAAAAAAAAAAAAAAAAAAAAAAAAAAAAAAAAAAAAAAAAAAAAAAAAAAAAAAAAAAAAAAAAAAAAAAAAAAAAAAAAAAAAAAAAAAAAAAAAAAAAAAAAAAAAAAAAAAAAAAAAAAAAAAAAAAAAAAAAAAAAAAAAAAAAAAAAAAAAAAAAAAAAAAAAAAAAAAAAAAAAAAAAAAAAAAAAAAAAAAAAAAAAAAAAAAAAAAAAAAAAAAAAAAAAAAAAAAAAAAAAAAAAAAAAAAAAAAAAAAAAAAAAAAAAAAAAAAAAAAAAAAAAAAAAAAAAAAAAAAAAAAAAAAAAAAAAAAAAAAAAAAAAAAAAAAAAAAAAAAAAAAAAAAAAAAAAAAAAAAAAAAAAAAAAAAAAAAAAAAAAAAAAAAAAAAAAAAAAAAAAAAAAAAAAAAAAAAAAAAAAAAAAAAAAAAAAAAAAAAAAAAAAAAAAAAAAAAAAAAAAAAAAAAAAAAAAAAAAAAAAAAAAAAAAAAAAAAAAAAAAAAAAAAAAAAAAAAAACwAAAAALAEZAEAI/wBNBBhIsKDBggISKlzIcOGAhxAjSowIoKLFixgzAqDAkWOFjx8tiBQpoqSICyhRYli5coTLERlixtRAkyaJmyQ26NRZomcJB0CDKhiqIIHRo0gVKFUwoWnTEFBDNJhKFYRVEBKyZv3A9UOEr18hiBXroawHBmjTdljb4YFbtxziciBAt67du3UR6N3Ld6+Bv4ADBz5AuLDhwgUSK168eIHjxwtMBJhMubLlygIya97MefOAz6BDiw4NoLTp06hTA6DAmnWF168tyJYtoraIC7hxY9i9e4TvERmCB9dAnDiJ4yQ2KFdeonkJB9CjK5iuIIH169gVaFcwoXv3EOBDNP8YTx6EeRAS0qf/wP5DhPfvIciX76G+Bwb483fY3+GBf4APHnAgyIHAQYQJFSJE0NDhQ4cGJE6kSPHARYwZMRbg2NGjxwUhRS4wEcDkSZQpUQpg2dLlS5cDZM6kWZMmAJw5de7kCYDCz58VhAq1ULSoCKQiLixdisGp0xFRR2SgSlXD1asktJLY0LVrCbAlHIwlq8CsggRp1a5V0FbBBLhwQ8wN0cDuXRB5QUjgy/fD3w8RBAuGULiwB8QeGCxm3MFxhweRI3OgzIHAZcyZNWNG0NnzZ88GRI8mTfrAadSpURdg3dq16wWxZS8wEcD2bdy5cQvg3dv3b98DhA8nXpz/OADkyZUvZw6AwvPnFaRLt1C9ugjsIi5s347Bu/cR4UdkIE9ew/nzJNST2NC+fQn4JRzMp6/AvoIE+fXvV9BfAcAJAgWGKBiiAcKEIBaCkODQ4YeIHyJQpAjh4kUPGj0w6OixA8gOD0aO5GCSA4GUKleyVIngJcyYMA3QrGnT5oGcOnfqLODzJ1CgC4YSXWAiANKkSpcqFeD0KdSoUAdQrWr1qlUAWrdy7eoVAIWwYSuQJWvh7FkRakVcaNsWA1y4I+aOyGDXroa8eUnwJbHh798Sgks4KGxYAWIFCRYzbqzgsYIJkiWHqByiAebMIDaDkODZ84fQHyKQJg3h9GkP/6o9MGjtugPsDg9mz+ZgmwOB3Lp389aN4Dfw4MANEC9u3PiB5MqXKy/g/Dl06AumU19gIgD27Nq3axfg/Tv48OAHkC9v/rx5AOrXs2/vHgCF+PEr0Kdv4f59EfpFXOjfHyAGgQJHFByRASFCDQsXknBIYkPEiCUolnBwEaMCjQoSdPT4UUFIBRNIkgxxMkQDlStBtAQhASbMDzM/RLBpE0LOnB54emDwE2gHoR0eFC3KASkHAkuZNnXKFEFUqVOlGrB6FSvWA1u5duVaAGxYsWIXlDW7wEQAtWvZtmUrAG5cuXPlDrB7F29evAD49vX7FzAACoMHVzBs2ELixCIYi/+48PgxBsmSR1QekQEzZg2bN5PwTGJD6NAlSJdwcBq1AtUKErR2/VpBbAUTaNMOcTtEA927QfQGIQE48A/DP0QwbhxC8uQemHtg8Bx6B+kdHlSvzgE7BwLbuXf3zh1BePHjxRswfx49+gPr2bdnXwB+fPnyF9S3v8BEAP37+ffnD1CAwIEECxIcgDChwoUKATh8CDGiRAAUKlasgBGjhY0bRXgUcSFkSAwkSY44OSKDSpUaWrYkAZPEhpkzS9gs4SCnTgU8FST4CTSogqEKJhg1GiJpiAZMm4J4CkKCVKkfqn6IgBUrhK1bPXj1wCCs2A5kOzw4e5aDWg4E2rp9C9f/LYK5dOvSNYA3r169B/r6/eu3gODBhAkvOIx4gYkAjBs7fuxYgOTJlCtTHoA5s+bNmgF4/gw6tGgAFEqXroAatYXVq0W4FnEhdmwMtGmPuD0ig27dGnr3JgGcxIbhw0sYL+EguXIFzBUkeA49uoLpCiZYtx4ie4gG3LuD+A5CgnjxH8p/iIAePYT16z2498AgvvwO9Ds8uH+fg34OBPr7B0hA4ECCAhEcRJgQoQGGDR06PBBR4kSJBSxexIhxwUaOC0wEABlS5EiRAkyeRJkS5QCWLV2+dAlA5kyaNW0CoJAzZwWePC38/ClCqIgLRYtiQIp0xNIRGZw61RA1Kgmq/yQ2XL1aQmsJB129KgCrIMFYsmUVnFUwQa3aEG1DNIAbF8RcEBLs2v2Q90MEvnwh/P3rQbAHBoUNd0Dc4cHixRwccyAQWfJkypIRXMacGbMBzp09ez4QWvRo0QVMn0aNesFq1gtMBIAdW/Zs2QJs38adG/cA3r19//YNQPhw4sWNA6CQPHkF5swtPH8uQrqIC9WrY8COfcT2ERm8e9cQPjwJ8iQ2nD9fQn0JB+3dK4CvIMF8+vUV3FcwQb/+EP1DAGwgcCCIgiAkIET4YeGHCA4dQogY0QNFDwwuYuygscODjh05gORAYCTJkiZJIkipcqVKAy5fwoR5YCbNmjQL4P/MqVPngp4+F5gIIHQo0aJEBSBNqnSp0gFOn0KNChUA1apWr2IFQGHr1gpevVoIG1YEWREXzp7FoFbtiLYjMsCFq2HuXBJ2SWzIm7cE3xIO/gJWIFhBgsKGDytIrGACY8YhHodoIHkyiMogJGDG/GHzhwiePUMIHdoDaQ8MTqPuoLrDg9atOcDmQGA27dq2aSPIrXu3bgO+fwMHfmA48eLECyBPrlz5gubOF5gIIH069erUBWDPrn279gHev4MPDx4A+fLmz6MHQGH9+gru3VuIH18EfREX7t/HoF//iP4jAGYQKFBDwYIkEJLYsHBhCYclHESUqICiggQXMWZUsFH/wQSPHkOEDNGAZEkQJ0FIUKnyQ8sPEWDChDBzpgebHhjk1NmBZ4cHP39yEMqBQFGjR5EaRbCUaVOmBqBGlSr1QFWrV60W0LqVK9cFX8EuMBGAbFmzZ80KULuWbVu2A+DGlTtXLgC7d/Hm1QuAQt++FQADtjB4sAjDIi4kToyBMeMRj0dkkCxZQ+XKJDCT2LB5cwnPJRyEFq2AtIIEp1GnVrBawQTXrkPEDtGAdm0Qt0FI0K37Q+8PEYADhzB8uAfjHhgkV96BeYcHz59zkM6BQHXr17FbR7Cde3fuBsCHFy/+QHnz580XUL+ePfsF7+EvMBGAfn379+0L0L+ff3/+/wAHCBxIsCBBAAgTKlzIEACFhw8rSJRooWJFERhFXNi4EYNHjyNCjshAkqSGkydJqCSxoWXLEjBLOJhJU4FNBQly6typoKeCCUCBhhgaooHRoyCSgpDAlOmHpx8iSJUKoWpVD1g9MNjKtYPXDg/ChuVAlgOBs2jTqkWLoK3bt24NyJ1Ll+6Bu3jz4i3At69fvwsCC15gIoDhw4gTIxbAuLHjx44HSJ5MuTJlAJgza97MGQCFz58riBZtoXRpEahFXFi9GoNr1yNij8hAm7aG27dJ6CaxoXfvEsBLOBhOXIFxBQmSK1+uoLmCCdChh5geooH16yCyg5DAnfuH7x8iiP8XD6F8eQ/oPTBYz76D+w4P4sfnQJ8Dgfv48+vHj6C/f4AIBA5EYMDgQYQIDyxk2JBhAYgRJUpcUNHiAhMBNG7k2JGjAJAhRY4UOcDkSZQpUQJg2dLlS5gAKMycWcGmTQs5c4rgKeLCz58YhAodUXREBqRINSxdSsIpiQ1Ro5agWsLBVawKtCpI0NXrVwVhFUwgSzbE2RAN1K4F0RaEBLhwP8z9EMGuXQh583rg64HBX8AdBHd4ULgwB8QcCCxm3NgxYwSRJU+WbMDyZcyYD2zm3JlzAdChRYteUNr0AhMBVK9m3Zq1ANixZc+WPcD2bdy5cQPg3dv3b+AAKAwfXsH/uHELyZOLYC7iwvPnGKRLH1F9RAbs2DVs307CO4kN4cOXIF/CwXn0CtQrSNDe/XsF8RVMoE8/xP0QDfTvB9EfBEAJAgV+KPghAkKEEBYu9ODQA4OIEjtQ7PDg4kUOGjkQ6OjxI0iPCEaSLEnSAMqUKlUeaOnypcsCMmfSpLngJs4FJgLw7Onzp08BQocSLUp0ANKkSpcqBeD0KdSoUgFQqFq1AlasFrZuFeFVxIWwYTGQJTvi7IgMatVqaNuWBFwSG+bOLWG3hIO8ehXwVZDgL+DACgYrmGDYcIjEIRowbgziMQgJkiV/qPwhAmbMEDZv9uDZA4PQojuQ7vDg9GkO/6o5EGjt+jVs1whm065N2wDu3Lp1H+jt+7fvAsKHEye+4DjyBSYCMG/u/LlzAdKnU69OfQD27Nq3awfg/Tv48OIBUChfvgJ69BbWrxfhXsSF+PEx0Kc/4v6IDPr1a+jfHyAJgSQ2FCxYAmEJBwsZKnCoIEFEiRMVVFQwASPGEBtDNPD4EURIEBJIkvxw8kMElSohtGzpAaYHBjNpdrDZ4UHOnBx4ciDwE2hQoUARFDV61KgBpUuZMj3wFGpUqAWoVrVqdUFWrQtMBPD6FWxYsALIljV71uwAtWvZtmULAG5cuXPpAqBw924FvXot9O0rArCIC4MHYzBseETiERkYM//W8PgxCckkNlSuXAJzCQebOSvwrCBBaNGjFZRWMAE16hCrQzRw/RpEbBASaNP+cPtDBN26IfTu7QG4BwbDiXcw3uFB8uQcmHMg8Bx6dOnQEVS3ft26Ae3buXM/8B18ePAFyJc3b35BevULTARw/x5+fPgC6Ne3f9/+AP37+ffnDxCAwIEECxoEQCFhwgoMGVp4+FCERBEXKlbEgBHjiI0jMnj0qCFkSBIkSWw4ebKEyhIOWrpUAFNBgpk0ayq4qWCCTp0heoZoADQoiKEgJBg1+iHphwhMmUJ4+tSDVA8MqlrtgLXDg61bOXjlQCCs2LFkxSI4izYtWgNs27p1eyD/rty5cgvYvYsX74K9fBeYCAA4sODBggUYPow4MeIBjBs7fuwYgOTJlCtbBkAhc+YKnDlb+PxZhGgRF0qXxoAa9YjVIzK4dq0hdmwStElsuH27hO4SDnr7VgBcQYLhxIsrOK5ggnLlIZqHaAA9OojpICRYt/4h+4cI3LlD+P7dg3gPDMqb74C+w4P16zm450Agvvz59OUjuI8/P34D/Pv7B2hAoIEDBQ0eNFhA4UKGDBc8hLjARACKFS1etChA40aOHTkOABlS5EiRAEyeRJlSJQAKLVtWgAnTwsyZImyKuJAzJwaePEf8HJFBqFANRYuSQEpiw9KlJZyWcBBVqgKq+woSXMWaVcFWBRO8eg0RNkQDsmVBnAUhQa3aD20/RIALF8LcuR7semCQV28Hvh0e/P3LQTAHAoUNH0ZsGMFixo0ZG4AcWbLkA5UtX7ZcQPNmzpwXfAa9wEQA0qVNnzYtQPVq1q1ZD4AdW/Zs2QBs38adWzcACr17VwAO3MLw4SKMi7iQPDkG5sxHPB+RQbp0DdWrk8BOYsP27SW8l3AQXrwC8goSnEefXsF6BRPcuw8RP0QD+vVB3AchQb/+D/0/AIwgUCCEggU9IPTAYCHDDg47PIgYkQNFDgQuYsyoESOCjh4/ejQgciRJkgdOokyJsgDLli5dLogpc0FAADs=\"/>"
      }
     },
     "2bd3138c4d1f427f960aa02a1b2e829f": {
      "model_module": "@jupyter-widgets/controls",
      "model_module_version": "1.1.0",
      "model_name": "DescriptionStyleModel",
      "state": {
       "description_width": "initial"
      }
     },
     "2c2985b39fe4438785769a2da65b32ba": {
      "model_module": "@jupyter-widgets/base",
      "model_module_version": "1.0.0",
      "model_name": "LayoutModel",
      "state": {}
     },
     "2c59053fc03f4bc991920353f331d87f": {
      "model_module": "@jupyter-widgets/controls",
      "model_module_version": "1.1.0",
      "model_name": "ButtonModel",
      "state": {
       "icon": "refresh",
       "layout": "IPY_MODEL_c11660b5b15c4ca88dbb31f52779e62b",
       "style": "IPY_MODEL_530fe192bb76467a8a46876a1f5b76d8"
      }
     },
     "2ccf8b1919704408bf391c0e37d98f82": {
      "model_module": "@jupyter-widgets/base",
      "model_module_version": "1.0.0",
      "model_name": "LayoutModel",
      "state": {}
     },
     "2e0daa4c1d2541c99fd83afe9c61c35b": {
      "model_module": "@jupyter-widgets/controls",
      "model_module_version": "1.1.0",
      "model_name": "HBoxModel",
      "state": {
       "children": [
        "IPY_MODEL_aeeb1aaac6d34be0b8437d7f60ddf06a",
        "IPY_MODEL_08e95273f5b44aaaa8943f8a3eab3ce1"
       ],
       "layout": "IPY_MODEL_ca6bed74fbcf4435b893a26c748e08eb"
      }
     },
     "2e8f1fad2ac94076a776be10c95634f8": {
      "model_module": "@jupyter-widgets/controls",
      "model_module_version": "1.1.0",
      "model_name": "ButtonModel",
      "state": {
       "icon": "save",
       "layout": "IPY_MODEL_d2c0dd77aa3341819ec8de66496dde19",
       "style": "IPY_MODEL_c78f90a6e8b545d2ac3ea45fe5428999"
      }
     },
     "30f915e282c640848597050350190623": {
      "model_module": "@jupyter-widgets/base",
      "model_module_version": "1.0.0",
      "model_name": "LayoutModel",
      "state": {
       "width": "100px"
      }
     },
     "31eacb74409e439697d662d50d088e4e": {
      "model_module": "@jupyter-widgets/controls",
      "model_module_version": "1.1.0",
      "model_name": "ButtonStyleModel",
      "state": {}
     },
     "3231ddd97695402e9ad871ec12cf1116": {
      "model_module": "@jupyter-widgets/base",
      "model_module_version": "1.0.0",
      "model_name": "LayoutModel",
      "state": {
       "width": "65%"
      }
     },
     "3233ec9a3a6442d98befd73be1040c90": {
      "model_module": "@jupyter-widgets/base",
      "model_module_version": "1.0.0",
      "model_name": "LayoutModel",
      "state": {}
     },
     "3236ea5895e5435589dba668f7df0a99": {
      "model_module": "@jupyter-widgets/controls",
      "model_module_version": "1.1.0",
      "model_name": "ButtonModel",
      "state": {
       "description": "Play",
       "icon": "play",
       "layout": "IPY_MODEL_eb5234c1ffda42cdbeb1f9f049674c9e",
       "style": "IPY_MODEL_ae8b812d74b346ceaf62d857bdd5155a"
      }
     },
     "348c4c458ef148c196c07ba1eddcab89": {
      "model_module": "@jupyter-widgets/base",
      "model_module_version": "1.0.0",
      "model_name": "LayoutModel",
      "state": {}
     },
     "3566a559b9fe4de7bfb063627cde61a5": {
      "model_module": "@jupyter-widgets/controls",
      "model_module_version": "1.1.0",
      "model_name": "ButtonModel",
      "state": {
       "icon": "save",
       "layout": "IPY_MODEL_1094648a9c224300abcd42549dfbedcb",
       "style": "IPY_MODEL_b55ccc024d714afeb34d1536b73647d1"
      }
     },
     "361ffbe2765f44bb996341a8aa404347": {
      "model_module": "@jupyter-widgets/base",
      "model_module_version": "1.0.0",
      "model_name": "LayoutModel",
      "state": {
       "width": "100%"
      }
     },
     "3667f8c1034643a48e6fb6af8482c142": {
      "model_module": "@jupyter-widgets/base",
      "model_module_version": "1.0.0",
      "model_name": "LayoutModel",
      "state": {}
     },
     "3679d8c4d0894106abe238ec478c3aa6": {
      "model_module": "@jupyter-widgets/controls",
      "model_module_version": "1.1.0",
      "model_name": "CheckboxModel",
      "state": {
       "description": "Visible",
       "disabled": false,
       "layout": "IPY_MODEL_515027460a6945739f3e99304c879848",
       "style": "IPY_MODEL_448973d1b05d434caaec18d26e322bb6",
       "value": true
      }
     },
     "367e01c9eb6546f09b1dc260ec52956a": {
      "model_module": "@jupyter-widgets/controls",
      "model_module_version": "1.1.0",
      "model_name": "ButtonStyleModel",
      "state": {}
     },
     "3cf9287ace224313acc072bc5ab6f4cb": {
      "model_module": "@jupyter-widgets/controls",
      "model_module_version": "1.1.0",
      "model_name": "LabelModel",
      "state": {
       "layout": "IPY_MODEL_30f915e282c640848597050350190623",
       "style": "IPY_MODEL_4e9a388cc7744cd89df8dd54567e5b8a",
       "value": "of 9000"
      }
     },
     "3d3342c0df984d15bd69fa03417768c1": {
      "model_module": "@jupyter-widgets/controls",
      "model_module_version": "1.1.0",
      "model_name": "IntSliderModel",
      "state": {
       "continuous_update": false,
       "description": "Dataset index",
       "layout": "IPY_MODEL_56aacde740b34bd593c09db4f2e1fb22",
       "max": 9999,
       "style": "IPY_MODEL_5c7e88e6f9a44cff8edbf1f251a091e0"
      }
     },
     "3d35818bc11e4cb4ad1a4f9108ce8ccf": {
      "model_module": "@jupyter-widgets/controls",
      "model_module_version": "1.1.0",
      "model_name": "IntTextModel",
      "state": {
       "description": "Feature to show:",
       "layout": "IPY_MODEL_fa15870b54fc4a73b5a18c36376a55ee",
       "step": 1,
       "style": "IPY_MODEL_17a10877416c48f4836bd5b9d4e1028c"
      }
     },
     "3e9bd12205ae49bebc3b402fb80520be": {
      "model_module": "@jupyter-widgets/controls",
      "model_module_version": "1.1.0",
      "model_name": "IntTextModel",
      "state": {
       "layout": "IPY_MODEL_e1b2567dfad74ae192aa1046dd434286",
       "step": 1,
       "style": "IPY_MODEL_262116d8836e41a797b2de3cf83635fd",
       "value": 27
      }
     },
     "3ea1a3d7fa5b401fa44bc85463a10240": {
      "model_module": "@jupyter-widgets/base",
      "model_module_version": "1.0.0",
      "model_name": "LayoutModel",
      "state": {}
     },
     "3ea937700e074548a3f2cf3471da462f": {
      "model_module": "@jupyter-widgets/base",
      "model_module_version": "1.0.0",
      "model_name": "LayoutModel",
      "state": {
       "width": "52%"
      }
     },
     "3f47243ea3c94e949c2119ea36259d31": {
      "model_module": "@jupyter-widgets/controls",
      "model_module_version": "1.1.0",
      "model_name": "SelectModel",
      "state": {
       "_options_labels": [
        "input",
        "conv1",
        "conv2",
        "pool1",
        "conv3",
        "conv4",
        "pool2",
        "flatten",
        "hidden1",
        "output"
       ],
       "description": "Layer:",
       "index": 9,
       "layout": "IPY_MODEL_fdf12ac977714e9fa86268167055c962",
       "rows": 1,
       "style": "IPY_MODEL_0bee1009e81441029843bd6fb47a268f"
      }
     },
     "41a9e7405000412097c4b913be6bd18d": {
      "model_module": "@jupyter-widgets/base",
      "model_module_version": "1.0.0",
      "model_name": "LayoutModel",
      "state": {
       "width": "100px"
      }
     },
     "41b6a071b94c4ebeb53f3ace7c226542": {
      "model_module": "@jupyter-widgets/controls",
      "model_module_version": "1.1.0",
      "model_name": "IntTextModel",
      "state": {
       "description": "Feature columns:",
       "layout": "IPY_MODEL_8736aea7f761472b89e98275d5bc2837",
       "step": 1,
       "style": "IPY_MODEL_da62dc4d3e274eafaca0e0b87acb89fe",
       "value": 3
      }
     },
     "4224815bfb3449748cc091688dcfbc85": {
      "model_module": "@jupyter-widgets/controls",
      "model_module_version": "1.1.0",
      "model_name": "DescriptionStyleModel",
      "state": {
       "description_width": ""
      }
     },
     "448973d1b05d434caaec18d26e322bb6": {
      "model_module": "@jupyter-widgets/controls",
      "model_module_version": "1.1.0",
      "model_name": "DescriptionStyleModel",
      "state": {
       "description_width": ""
      }
     },
     "44aba19b9c6d45bb95209bf9313f5d84": {
      "model_module": "@jupyter-widgets/base",
      "model_module_version": "1.0.0",
      "model_name": "LayoutModel",
      "state": {
       "height": "40px"
      }
     },
     "45906207fe17470ba156aa2d1a02736d": {
      "model_module": "@jupyter-widgets/base",
      "model_module_version": "1.0.0",
      "model_name": "LayoutModel",
      "state": {}
     },
     "48439bcead234a06a729831e9457b865": {
      "model_module": "@jupyter-widgets/controls",
      "model_module_version": "1.1.0",
      "model_name": "SliderStyleModel",
      "state": {
       "description_width": "initial"
      }
     },
     "49d9de9dbb0c4d6e8782b16d40c14a88": {
      "model_module": "@jupyter-widgets/base",
      "model_module_version": "1.0.0",
      "model_name": "LayoutModel",
      "state": {}
     },
     "4a7d473f893c48a8ac8b0e7e8657309e": {
      "model_module": "@jupyter-widgets/base",
      "model_module_version": "1.0.0",
      "model_name": "LayoutModel",
      "state": {}
     },
     "4ae81f8b22b744e285f61eb0462f83ad": {
      "model_module": "@jupyter-widgets/base",
      "model_module_version": "1.0.0",
      "model_name": "LayoutModel",
      "state": {}
     },
     "4b2d0fd683d84b5e951da3cba8a83ca5": {
      "model_module": "@jupyter-widgets/output",
      "model_module_version": "1.0.0",
      "model_name": "OutputModel",
      "state": {
       "layout": "IPY_MODEL_49d9de9dbb0c4d6e8782b16d40c14a88"
      }
     },
     "4bbc5d36d6c14be797b33fe736c420d2": {
      "model_module": "@jupyter-widgets/base",
      "model_module_version": "1.0.0",
      "model_name": "LayoutModel",
      "state": {
       "width": "100%"
      }
     },
     "4c855843fb654fa0812db0601bc797e0": {
      "model_module": "@jupyter-widgets/controls",
      "model_module_version": "1.1.0",
      "model_name": "FloatSliderModel",
      "state": {
       "continuous_update": false,
       "description": "Zoom",
       "layout": "IPY_MODEL_dd4fff49bbc840caacce509f29cda686",
       "max": 1,
       "step": 0.1,
       "style": "IPY_MODEL_faa4f63f27b74d99b05cb93f2acc4861",
       "value": 0.5
      }
     },
     "4e9a388cc7744cd89df8dd54567e5b8a": {
      "model_module": "@jupyter-widgets/controls",
      "model_module_version": "1.1.0",
      "model_name": "DescriptionStyleModel",
      "state": {
       "description_width": ""
      }
     },
     "4ee2b43bd6ab490eb0fd10f5edab4288": {
      "model_module": "@jupyter-widgets/controls",
      "model_module_version": "1.1.0",
      "model_name": "DescriptionStyleModel",
      "state": {
       "description_width": "initial"
      }
     },
     "4f203ae93660468a84973d01b2364fbe": {
      "model_module": "@jupyter-widgets/controls",
      "model_module_version": "1.1.0",
      "model_name": "DescriptionStyleModel",
      "state": {
       "description_width": "initial"
      }
     },
     "511fdb57ebca470da53015ab4d00eb23": {
      "model_module": "@jupyter-widgets/controls",
      "model_module_version": "1.1.0",
      "model_name": "DescriptionStyleModel",
      "state": {
       "description_width": ""
      }
     },
     "51334a8446254ee49ef1a23ad7ad7bbe": {
      "model_module": "@jupyter-widgets/controls",
      "model_module_version": "1.1.0",
      "model_name": "VBoxModel",
      "state": {
       "children": [
        "IPY_MODEL_050655c660154d46887507f49807cd12",
        "IPY_MODEL_9161d767bc374cb5a95ffd939d3028d6",
        "IPY_MODEL_76924a7e5ad34d5ab4db416ba663b997",
        "IPY_MODEL_168bafb364454a7a827a13666394617f"
       ],
       "layout": "IPY_MODEL_9280d1ef139a4092805271c213e0070e"
      }
     },
     "5135c14a51af46cb85e038ea2db4b44b": {
      "model_module": "@jupyter-widgets/controls",
      "model_module_version": "1.1.0",
      "model_name": "SelectModel",
      "state": {
       "_options_labels": [
        "",
        "Accent",
        "Accent_r",
        "Blues",
        "Blues_r",
        "BrBG",
        "BrBG_r",
        "BuGn",
        "BuGn_r",
        "BuPu",
        "BuPu_r",
        "CMRmap",
        "CMRmap_r",
        "Dark2",
        "Dark2_r",
        "GnBu",
        "GnBu_r",
        "Greens",
        "Greens_r",
        "Greys",
        "Greys_r",
        "OrRd",
        "OrRd_r",
        "Oranges",
        "Oranges_r",
        "PRGn",
        "PRGn_r",
        "Paired",
        "Paired_r",
        "Pastel1",
        "Pastel1_r",
        "Pastel2",
        "Pastel2_r",
        "PiYG",
        "PiYG_r",
        "PuBu",
        "PuBuGn",
        "PuBuGn_r",
        "PuBu_r",
        "PuOr",
        "PuOr_r",
        "PuRd",
        "PuRd_r",
        "Purples",
        "Purples_r",
        "RdBu",
        "RdBu_r",
        "RdGy",
        "RdGy_r",
        "RdPu",
        "RdPu_r",
        "RdYlBu",
        "RdYlBu_r",
        "RdYlGn",
        "RdYlGn_r",
        "Reds",
        "Reds_r",
        "Set1",
        "Set1_r",
        "Set2",
        "Set2_r",
        "Set3",
        "Set3_r",
        "Spectral",
        "Spectral_r",
        "Vega10",
        "Vega10_r",
        "Vega20",
        "Vega20_r",
        "Vega20b",
        "Vega20b_r",
        "Vega20c",
        "Vega20c_r",
        "Wistia",
        "Wistia_r",
        "YlGn",
        "YlGnBu",
        "YlGnBu_r",
        "YlGn_r",
        "YlOrBr",
        "YlOrBr_r",
        "YlOrRd",
        "YlOrRd_r",
        "afmhot",
        "afmhot_r",
        "autumn",
        "autumn_r",
        "binary",
        "binary_r",
        "bone",
        "bone_r",
        "brg",
        "brg_r",
        "bwr",
        "bwr_r",
        "cool",
        "cool_r",
        "coolwarm",
        "coolwarm_r",
        "copper",
        "copper_r",
        "cubehelix",
        "cubehelix_r",
        "flag",
        "flag_r",
        "gist_earth",
        "gist_earth_r",
        "gist_gray",
        "gist_gray_r",
        "gist_heat",
        "gist_heat_r",
        "gist_ncar",
        "gist_ncar_r",
        "gist_rainbow",
        "gist_rainbow_r",
        "gist_stern",
        "gist_stern_r",
        "gist_yarg",
        "gist_yarg_r",
        "gnuplot",
        "gnuplot2",
        "gnuplot2_r",
        "gnuplot_r",
        "gray",
        "gray_r",
        "hot",
        "hot_r",
        "hsv",
        "hsv_r",
        "inferno",
        "inferno_r",
        "jet",
        "jet_r",
        "magma",
        "magma_r",
        "nipy_spectral",
        "nipy_spectral_r",
        "ocean",
        "ocean_r",
        "pink",
        "pink_r",
        "plasma",
        "plasma_r",
        "prism",
        "prism_r",
        "rainbow",
        "rainbow_r",
        "seismic",
        "seismic_r",
        "spectral",
        "spectral_r",
        "spring",
        "spring_r",
        "summer",
        "summer_r",
        "tab10",
        "tab10_r",
        "tab20",
        "tab20_r",
        "tab20b",
        "tab20b_r",
        "tab20c",
        "tab20c_r",
        "terrain",
        "terrain_r",
        "viridis",
        "viridis_r",
        "winter",
        "winter_r"
       ],
       "description": "Colormap:",
       "index": 0,
       "layout": "IPY_MODEL_515027460a6945739f3e99304c879848",
       "rows": 1,
       "style": "IPY_MODEL_da33001d580a41c087735c86c34d2f22"
      }
     },
     "515027460a6945739f3e99304c879848": {
      "model_module": "@jupyter-widgets/base",
      "model_module_version": "1.0.0",
      "model_name": "LayoutModel",
      "state": {}
     },
     "530fe192bb76467a8a46876a1f5b76d8": {
      "model_module": "@jupyter-widgets/controls",
      "model_module_version": "1.1.0",
      "model_name": "ButtonStyleModel",
      "state": {}
     },
     "53289770d1cc4597bc6556aaacd27bf3": {
      "model_module": "@jupyter-widgets/controls",
      "model_module_version": "1.1.0",
      "model_name": "CheckboxModel",
      "state": {
       "description": "Show Targets",
       "disabled": false,
       "layout": "IPY_MODEL_515027460a6945739f3e99304c879848",
       "style": "IPY_MODEL_9b8d4ee585d44d1699f802e52f00aaa2",
       "value": false
      }
     },
     "5350bb3b90c3400096a2129a5e1f0def": {
      "model_module": "@jupyter-widgets/controls",
      "model_module_version": "1.1.0",
      "model_name": "ButtonStyleModel",
      "state": {}
     },
     "5578a209d34642bc9c6b6db0384be5dc": {
      "model_module": "@jupyter-widgets/controls",
      "model_module_version": "1.1.0",
      "model_name": "DescriptionStyleModel",
      "state": {
       "description_width": ""
      }
     },
     "56aacde740b34bd593c09db4f2e1fb22": {
      "model_module": "@jupyter-widgets/base",
      "model_module_version": "1.0.0",
      "model_name": "LayoutModel",
      "state": {
       "width": "100%"
      }
     },
     "589439c9ccf04406a82a4f3962278ce4": {
      "model_module": "@jupyter-widgets/base",
      "model_module_version": "1.0.0",
      "model_name": "LayoutModel",
      "state": {
       "width": "52%"
      }
     },
     "59a29c5247044a8ab32127210be822d5": {
      "model_module": "@jupyter-widgets/base",
      "model_module_version": "1.0.0",
      "model_name": "LayoutModel",
      "state": {}
     },
     "5a7e8e21fd754a0386b5ad0ee3d04e55": {
      "model_module": "@jupyter-widgets/controls",
      "model_module_version": "1.1.0",
      "model_name": "ButtonModel",
      "state": {
       "description": "Play",
       "icon": "play",
       "layout": "IPY_MODEL_19bf757d2f7a4fb2b64f7544c89cc122",
       "style": "IPY_MODEL_e78db9de153341e7ad5927c43e8ceed0"
      }
     },
     "5c7e88e6f9a44cff8edbf1f251a091e0": {
      "model_module": "@jupyter-widgets/controls",
      "model_module_version": "1.1.0",
      "model_name": "SliderStyleModel",
      "state": {
       "description_width": ""
      }
     },
     "5ce176a863134a01a8c7658406d4013f": {
      "model_module": "@jupyter-widgets/controls",
      "model_module_version": "1.1.0",
      "model_name": "DescriptionStyleModel",
      "state": {
       "description_width": ""
      }
     },
     "5d5619228e394226b7d1eb5566e29ab4": {
      "model_module": "@jupyter-widgets/controls",
      "model_module_version": "1.1.0",
      "model_name": "FloatTextModel",
      "state": {
       "description": "Feature scale:",
       "layout": "IPY_MODEL_3667f8c1034643a48e6fb6af8482c142",
       "step": null,
       "style": "IPY_MODEL_2bd3138c4d1f427f960aa02a1b2e829f",
       "value": 1
      }
     },
     "5d68683aa25a40cb8d3a9f24a20a145b": {
      "model_module": "@jupyter-widgets/controls",
      "model_module_version": "1.1.0",
      "model_name": "DescriptionStyleModel",
      "state": {
       "description_width": "initial"
      }
     },
     "5d8c46b9fd9d4911a396b7b6349223ac": {
      "model_module": "@jupyter-widgets/controls",
      "model_module_version": "1.1.0",
      "model_name": "HTMLModel",
      "state": {
       "layout": "IPY_MODEL_cdadce11332241418e477de5ce820842",
       "style": "IPY_MODEL_e3ba9a21d8e649c2a7e6ce87a0d5347c",
       "value": "<img src=\"data:image/gif;base64,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\"/>"
      }
     },
     "5e8b42f6e75e4e638cba600cbc13ec5a": {
      "model_module": "@jupyter-widgets/base",
      "model_module_version": "1.0.0",
      "model_name": "LayoutModel",
      "state": {
       "width": "100%"
      }
     },
     "61266361cc814e5caffb4e31bec82b2c": {
      "model_module": "@jupyter-widgets/controls",
      "model_module_version": "1.1.0",
      "model_name": "ButtonModel",
      "state": {
       "icon": "forward",
       "layout": "IPY_MODEL_7e439f175d2a4da98f57dfaa53c648ee",
       "style": "IPY_MODEL_8e78db0abac545dd86fafa0ffa9a9b8e"
      }
     },
     "612b3625559a46869487080c6f1e3147": {
      "model_module": "@jupyter-widgets/base",
      "model_module_version": "1.0.0",
      "model_name": "LayoutModel",
      "state": {
       "width": "100%"
      }
     },
     "636589ccb1fe49f4ab0aa1200bc7dd7c": {
      "model_module": "@jupyter-widgets/base",
      "model_module_version": "1.0.0",
      "model_name": "LayoutModel",
      "state": {}
     },
     "6392c0cf296f408f9a859d35b9dd706e": {
      "model_module": "@jupyter-widgets/controls",
      "model_module_version": "1.1.0",
      "model_name": "CheckboxModel",
      "state": {
       "description": "Errors",
       "disabled": false,
       "layout": "IPY_MODEL_a37bc96543a34e9a8beff1643d324fa6",
       "style": "IPY_MODEL_4ee2b43bd6ab490eb0fd10f5edab4288",
       "value": false
      }
     },
     "63b4fd4cbfd84e4d853867a6cd1d54fe": {
      "model_module": "@jupyter-widgets/base",
      "model_module_version": "1.0.0",
      "model_name": "LayoutModel",
      "state": {}
     },
     "63c25fa482d842b7ace26fe3458ba0f2": {
      "model_module": "@jupyter-widgets/base",
      "model_module_version": "1.0.0",
      "model_name": "LayoutModel",
      "state": {
       "width": "100%"
      }
     },
     "63e298a434f74af0968872acaf053a4a": {
      "model_module": "@jupyter-widgets/controls",
      "model_module_version": "1.1.0",
      "model_name": "IntSliderModel",
      "state": {
       "continuous_update": false,
       "description": "Dataset index",
       "layout": "IPY_MODEL_361ffbe2765f44bb996341a8aa404347",
       "max": 899,
       "style": "IPY_MODEL_0e316c570378497f9eccb265cf8f5817",
       "value": 27
      }
     },
     "64c430d7e0fe46098920dd0f033e0c6c": {
      "model_module": "@jupyter-widgets/controls",
      "model_module_version": "1.1.0",
      "model_name": "HBoxModel",
      "state": {
       "children": [
        "IPY_MODEL_9de72eb379484eeca1b92b16c065aae9",
        "IPY_MODEL_12ed6a095bb7442186a20fe4315e59f0"
       ],
       "layout": "IPY_MODEL_cbe0a31834c94af98cb2441e003f2a8b"
      }
     },
     "65871fb448ba466eb95f9a09930f4ec1": {
      "model_module": "@jupyter-widgets/controls",
      "model_module_version": "1.1.0",
      "model_name": "LabelModel",
      "state": {
       "layout": "IPY_MODEL_ae50c3654ef648aaa1a17ac1f4b7993c",
       "style": "IPY_MODEL_1f535e6f93bd47499a5a27389542d4e3",
       "value": "of 10000"
      }
     },
     "660f9f78d5e44dfcb98dad93e6fd9b53": {
      "model_module": "@jupyter-widgets/base",
      "model_module_version": "1.0.0",
      "model_name": "LayoutModel",
      "state": {
       "width": "100%"
      }
     },
     "6848cbd0232841b58b04d1b6ffbb1e6b": {
      "model_module": "@jupyter-widgets/controls",
      "model_module_version": "1.1.0",
      "model_name": "SelectModel",
      "state": {
       "_options_labels": [
        "Test",
        "Train"
       ],
       "description": "Dataset:",
       "index": 1,
       "layout": "IPY_MODEL_c42191d7f94c467cb2435217da2eceb4",
       "rows": 1,
       "style": "IPY_MODEL_89aa1048cc074d3faa93f3a003b2022c"
      }
     },
     "68c66a86d60e444b84d2e6b23f748afb": {
      "model_module": "@jupyter-widgets/controls",
      "model_module_version": "1.1.0",
      "model_name": "IntTextModel",
      "state": {
       "description": "Vertical space between layers:",
       "layout": "IPY_MODEL_a37bc96543a34e9a8beff1643d324fa6",
       "step": 1,
       "style": "IPY_MODEL_2aba4864e2f64b2cbf4561ab44d918e4",
       "value": 30
      }
     },
     "6a2d75dfd5804134943db5bdcecf4b10": {
      "model_module": "@jupyter-widgets/controls",
      "model_module_version": "1.1.0",
      "model_name": "DescriptionStyleModel",
      "state": {
       "description_width": "initial"
      }
     },
     "6b31099caf5f4da5a623ce7ac00cd975": {
      "model_module": "@jupyter-widgets/controls",
      "model_module_version": "1.1.0",
      "model_name": "DescriptionStyleModel",
      "state": {
       "description_width": ""
      }
     },
     "6b7c775d19fe4b78a140a9020b071687": {
      "model_module": "@jupyter-widgets/controls",
      "model_module_version": "1.1.0",
      "model_name": "ButtonStyleModel",
      "state": {}
     },
     "6be91224a45f45b5a806611701e8497a": {
      "model_module": "@jupyter-widgets/controls",
      "model_module_version": "1.1.0",
      "model_name": "DescriptionStyleModel",
      "state": {
       "description_width": ""
      }
     },
     "6d8ef9ac26214b7a9e07b473eefc6644": {
      "model_module": "@jupyter-widgets/base",
      "model_module_version": "1.0.0",
      "model_name": "LayoutModel",
      "state": {
       "justify_content": "center",
       "overflow_x": "auto",
       "overflow_y": "auto",
       "width": "95%"
      }
     },
     "6e9dac6e6281462989a5e09f82917f11": {
      "model_module": "@jupyter-widgets/base",
      "model_module_version": "1.0.0",
      "model_name": "LayoutModel",
      "state": {
       "height": "40px"
      }
     },
     "6f80e4cf6bd24f6dad55621211f93533": {
      "model_module": "@jupyter-widgets/controls",
      "model_module_version": "1.1.0",
      "model_name": "DescriptionStyleModel",
      "state": {
       "description_width": "initial"
      }
     },
     "71e7f5f24cc6470b855831280e96cec6": {
      "model_module": "@jupyter-widgets/controls",
      "model_module_version": "1.1.0",
      "model_name": "VBoxModel",
      "state": {
       "children": [
        "IPY_MODEL_b6ce784e3cee4623835f30374517bef6",
        "IPY_MODEL_17462f1b1936405a8b51a1106031aa3e",
        "IPY_MODEL_0e827fa6c3a7462dbb672bd751c4a9ba",
        "IPY_MODEL_e83422475868481c92a5acaa2e79436f"
       ],
       "layout": "IPY_MODEL_4ae81f8b22b744e285f61eb0462f83ad"
      }
     },
     "75028cf2c4a942319d0070a115e03b44": {
      "model_module": "@jupyter-widgets/controls",
      "model_module_version": "1.1.0",
      "model_name": "ButtonStyleModel",
      "state": {}
     },
     "7566aa8ea7aa4021975cfa72eff6c2a5": {
      "model_module": "@jupyter-widgets/controls",
      "model_module_version": "1.1.0",
      "model_name": "DescriptionStyleModel",
      "state": {
       "description_width": ""
      }
     },
     "762e10874a104f91839cd4d97e010fa2": {
      "model_module": "@jupyter-widgets/base",
      "model_module_version": "1.0.0",
      "model_name": "LayoutModel",
      "state": {}
     },
     "76924a7e5ad34d5ab4db416ba663b997": {
      "model_module": "@jupyter-widgets/controls",
      "model_module_version": "1.1.0",
      "model_name": "HTMLModel",
      "state": {
       "layout": "IPY_MODEL_6d8ef9ac26214b7a9e07b473eefc6644",
       "style": "IPY_MODEL_8c3e94fd60f04d4ca3bac8cb5a453dfa",
       "value": "\n<table align=\"center\" style=\"width: 100%;\">\n <tr>\n  <td valign=\"top\"><p style=\"text-align:center\"><svg id='CIRAR10' xmlns='http://www.w3.org/2000/svg' image-rendering=\"pixelated\" width=\"800.0px\" height=\"134.6153846153846px\">\n <g  transform=\"rotate(90) translate(0 -800.0)\" >\n  <svg viewBox=\"0 0 350 2080\" width=\"134.6153846153846px\" height=\"800.0px\">\n    <defs>\n        <marker id=\"arrow\" markerWidth=\"10\" markerHeight=\"10\" refX=\"9\" refY=\"3\" orient=\"auto\" markerUnits=\"strokeWidth\">\n          <path d=\"M0,0 L0,6 L9,3 z\" fill=\"black\" />\n        </marker>\n    </defs><rect x=\"74.0\" y=\"24\" width=\"202\" height=\"52\" style=\"fill:none;stroke:black;stroke-width:2\"/><image id=\"picture-dashboard-CIRAR10-198022_output_targets_131\" class=\"picture-dashboard-CIRAR10-198022_output_targets\" x=\"75.0\" y=\"25\" height=\"50\" width=\"200\" preserveAspectRatio=\"none\" href=\"data:image/gif;base64,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\"><title>Layer: output (output)\n output range: (0, 1)\n shape = (10,)\n Keras class = Dense\n activation = softmax</title></image><text x=\"288.0\" y=\"52.0\" font-family=\"monospace\" font-size=\"12\" text-anchor=\"middle\" fill=\"black\" alignment-baseline=\"central\"  transform=\"rotate(-90 288.0 52.0) translate(2)\" >targets</text><rect x=\"74.0\" y=\"84\" width=\"202\" height=\"52\" style=\"fill:none;stroke:black;stroke-width:2\"/><image id=\"picture-dashboard-CIRAR10-198022_output-rotated_131\" class=\"picture-dashboard-CIRAR10-198022_output-rotated\" x=\"75.0\" y=\"85\" height=\"50\" width=\"200\" preserveAspectRatio=\"none\" href=\"data:image/gif;base64,R0lGODdh+gAZAIcAAJMAAK4AAAAAANEAAP9lZQAAAAAAAAAAAAAAAAAAAAAAAAAAAAAAAAAAAAAAAAAAAAAAAAAAAAAAAAAAAAAAAAAAAAAAAAAAAAAAAAAAAAAAAAAAAAAAAAAAAAAAAAAAAAAAAAAAAAAAAAAAAAAAAAAAAAAAAAAAAAAAAAAAAAAAAAAAAAAAAAAAAAAAAAAAAAAAAAAAAAAAAAAAAAAAAAAAAAAAAAAAAAAAAAAAAAAAAAAAAAAAAAAAAAAAAAAAAAAAAAAAAAAAAAAAAAAAAAAAAAAAAAAAAAAAAAAAAAAAAAAAAAAAAAAAAAAAAAAAAAAAAAAAAAAAAAAAAAAAAAAAAAAAAAAAAAAAAAAAAAAAAAAAAAAAAAAAAAAAAAAAAAAAAAAAAAAAAAAAAAAAAAAAAAAAAAAAAAAAAAAAAAAAAAAAAAAAAAAAAAAAAAAAAAAAAAAAAAAAAAAAAAAAAAAAAAAAAAAAAAAAAAAAAAAAAAAAAAAAAAAAAAAAAAAAAAAAAAAAAAAAAAAAAAAAAAAAAAAAAAAAAAAAAAAAAAAAAAAAAAAAAAAAAAAAAAAAAAAAAAAAAAAAAAAAAAAAAAAAAAAAAAAAAAAAAAAAAAAAAAAAAAAAAAAAAAAAAAAAAAAAAAAAAAAAAAAAAAAAAAAAAAAAAAAAAAAAAAAAAAAAAAAAAAAAAAAAAAAAAAAAAAAAAAAAAAAAAAAAAAAAAAAAAAAAAAAAAAAAAAAAAAAAAAAAAAAAAAAAAAAAAAAAAAAAAAAAAAAAAAAAAAAAAAAAAAAAAAAAAAAAAAAAAAAAAAAAAAAAAAAAAAAAAAAAAAAAAAAAAAAAAAAAAAAAAAAAAAAAAAAAAAAAAAAAAAAAAAAAAAAAAAAAAAAAAAAAAAAAAAAAAAAAAAAAAAAAAAAAAAAAAAAAAAAAAAAAAAAAAAAAAAAAAAAAAAAAAAAAAAAAAAAAAAAAAAAAAAAAAAAAAAAAAAAAAAAAAAAAAAAAAAAAAAAAAAAAAAAAAAAAACwAAAAA+gAZAEAI/wAFCBxIsKDBgwgTKlzIsKHDhxAjSpxIsSLFABgzatzIEaMAAQRCihxJsmRIAQIAqFzJsqVLlQIEAJhJs6bNmzMFCADAs6fPn0B5ChAQoKjRo0iTFhUgAIDTp1CjSnUqQECAq1izat16VYAAAGDDih1LFqwAAQPSql3Ltm1aAQICyJ1Lt65duQIEENjLt6/fv3sFCABAuLDhw4gJCxAAoLHjx5AjNxYgAIDly5gza7YsQECAz6BDix79WYAAAKhTq17NGrUAAQFiy55Nu3ZsAQIA6N7Nu7dv3QIEDBhOvLjx48MFKF/OvLnz59CjS59Ovbr169iza9/OvXv3AODDi/8fTx68AAEE0qtfz759egECAMifT7++ffkCBADYz7+/f4AABA4UKEAAAIQJFS5kiFCAgAARJU6kWDGiAAEANG7k2NGjRgECAowkWdLkyZECBABg2dLlS5gsBQgYUNPmTZw5awoQEMDnT6BBhfoUIIDAUaRJlS49KkAAAKhRpU6lClWAAABZtW7l2jWrAAEAxI4lW9asWAECAqxl29bt27UCBACgW9fuXbx0BQgI0NfvX8CB+woQAMDwYcSJFRsWIGDAY8iRJU9+LEBAAMyZNW/mjFmAAAKhRY8mXTq0AAEAVK9m3dq1agECAMymXdv27dkCBADg3dv3b+C8BQgIUNz/+HHkyYsLEADA+XPo0aU7FyAgwHXs2bVvvy5AAADw4cWPJw9egIAB6dWvZ98+vQABAeTPp1/fvnwBAgjs59/fP0ACAgcKFCAAAMKEChcyRChAAICIEidSrBhRgAAAGjdy7OhRowABAUaSLGny5EgBAgCwbOnyJUyWAgQEqGnzJs6cNQUIAODzJ9CgQn0KEDDgKNKkSpceFSAgANSoUqdShSpAAIGsWrdy7ZpVgAAAYseSLWtWrAABANaybev27VoBAgDQrWv3Ll66AgQE6Ov3L+DAfQUIAGD4MOLEig0LEBDgMeTIkic/FiAAAObMmjdzxixAwIDQokeTLh1agIAA/6pXs27tWrUAAQRm065t+/ZsAQIA8O7t+zdw3gIEAChu/Djy5MUFCADg/Dn06NKdCxAQ4Dr27Nq3XxcgAAD48OLHkwcvQECA9OrXs2+fXoAAAPLn069vX74AAQP28+/vH+AAgQMFChAQAGFChQsZIhQggEBEiRMpVowoQAAAjRs5dvSoUYAAACNJljR5cqQAAQBYtnT5EiZLAQIC1LR5E2fOmgIEAPD5E2hQoT4FCAhwFGlSpUuPChAAAGpUqVOpQhUgYEBWrVu5ds0qQEAAsWPJljUrVoAAAmvZtnX7dq0AAQDo1rV7Fy9dAQIA9PX7F3DgvgIEADB8GHFixYYFCP8I8BhyZMmTHwsQAABzZs2bOWMWICBAaNGjSZcOLUAAANWrWbd2rVqAgAGzade2fXu2AAEBePf2/Rs4bwECCBQ3fhx58uICBABw/hx6dOnOBQgAcB17du3brwsQAAB8ePHjyYMXICBAevXr2bdPL0AAAPnz6de3L1+AgAD7+ff3DzCAwIECBQgAgDChwoUMEQoQMCCixIkUK0YUICCAxo0cO3rUKEAAgZEkS5o8OVKAAAAsW7p8CZOlAAEAatq8iTNnTQECAPj8CTSoUJ8CBAQ4ijSp0qVHBQgAADWq1KlUoQoQECCr1q1cu2YVIACA2LFky5oVK0DAgLVs27p9u1b/gIAAdOvavYuXrgABBPr6/Qs4cF8BAgAYPow4sWLDAgQAeAw5suTJjwUIAIA5s+bNnDELEBAgtOjRpEuHFiAAgOrVrFu7Vi1AQIDZtGvbvj1bgAAAvHv7/g2ctwABA4obP448eXEBAgI4fw49unTnAgQQuI49u/bt1wUIAAA+vPjx5MELEAAgvfr17NunFyAAgPz59Ovbly9AQID9/Pv7BxhA4ECBAgQAQJhQ4UKGCAUICBBR4kSKFSMKEABA40aOHT1qFCBgwEiSJU2eHClAQACWLV2+hMlSgAACNW3exJmzpgABAHz+BBpUqE8BAgAcRZpU6dKjAgQAgBpV6lSq/1AFCAiQVetWrl2zChAAQOxYsmXNihUgIMBatm3dvl0rQAAAunXt3sVLV4CAAX39/gUcuK8AAQEMH0acWLFhAQIIPIYcWfLkxwIEAMCcWfNmzpgFCAAQWvRo0qVDCxAAQPVq1q1dqxYgIMBs2rVt354tQAAA3r19/wbOW4CAAMWNH0eevLgAAQCcP4ceXbpzAQIGXMeeXfv26wIEBAAfXvx48uAFCCCQXv169u3TCxAAQP58+vXtyxcgAMB+/v39AwQgcKBAAQIAIEyocCFDhAIEBIgocSLFihEFCACgcSPHjh41ChAQYCTJkiZPjhQgAADLli5fwmQpQMCAmjZv4v/MWVOAgAA+fwINKtSnAAEEjiJNqnTpUQECAECNKnUqVagCBADIqnUr165ZBQgAIHYs2bJmxQoQEGAt27Zu364VIAAA3bp27+KlK0BAgL5+/wIO3FeAAACGDyNOrNiwAAEDHkOOLHnyYwECAmDOrHkzZ8wCBBAILXo06dKhBQgAoHo169auVQsQAGA27dq2b88WIAAA796+fwPnLUBAgOLGjyNPXlyAAADOn0OPLt25AAEBrmPPrn37dQECAIAPL348efACBAxIr349+/bpBQgIIH8+/fr25QsQQGA///7+ARIQOFCgAAEAECZUuJAhQgECAESUOJFixYgCBADQuJH/Y0ePGgUICDCSZEmTJ0cKEACAZUuXL2GyFCAgQE2bN3HmrClAAACfP4EGFepTgIABR5EmVbr0qAABAaBGlTqVKlQBAghk1bqVa9esAgQAEDuWbFmzYgUIALCWbVu3b9cKEACAbl27d/HSFSAgQF+/fwEH7itAAADDhxEnVmxYgIAAjyFHljz5sQABADBn1ryZM2YBAgaEFj2adOnQAgQEUL2adWvXqgUIIDCbdm3bt2cLEACAd2/fv4HzFiAAQHHjx5EnLy5AAADnz6FHl+5cgIAA17Fn1779ugABAMCHFz+ePHgBAgKkV7+effv0AgQAkD+ffn378gUIGLCff3//bgAHCBwoUICAAAgTKlzIEKEAAQQiSpxIsWJEAQIAaNzIsaNHjQIEABhJsqTJkyMFCADAsqXLlzBZChAQoKbNmzhz1hQgAIDPn0CDCvUpQECAo0iTKl16VIAAAFCjSp1KFaoAAQOyat3KtWtWAQEBADs=\"><title>Layer: output (output)\n output range: (0, 1)\n shape = (10,)\n Keras class = Dense\n activation = softmax</title></image><text x=\"288.0\" y=\"112.0\" font-family=\"monospace\" font-size=\"12\" text-anchor=\"middle\" fill=\"black\" alignment-baseline=\"central\"  transform=\"rotate(-90 288.0 112.0) translate(2)\" >output</text><line x1=\"175.0\" y1=\"164\" x2=\"175.0\" y2=\"137\" stroke=\"black\" stroke-width=\"2\" marker-end=\"url(#arrow)\"><title>Weights from hidden1 to output\n output/kernel:0 has shape (512, 10)\n output/bias:0 has shape (10,)</title></line><rect x=\"74.0\" y=\"164\" width=\"202\" height=\"202\" style=\"fill:none;stroke:black;stroke-width:2\"/><image id=\"picture-dashboard-CIRAR10-198022_hidden1-rotated_132\" class=\"picture-dashboard-CIRAR10-198022_hidden1-rotated\" x=\"75.0\" y=\"165\" height=\"200\" width=\"200\" preserveAspectRatio=\"none\" href=\"data:image/gif;base64,R0lGODdhEAAgAIcAAH8AAI4AAK8AAMsAAPAAAAAAAAAAAAAAAAAAAAAAAAAAAAAAAAAAAAAAAAAAAAAAAAAAAAAAAAAAAAAAAAAAAAAAAAAAAAAAAAAAAAAAAAAAAAAAAAAAAAAAAAAAAAAAAAAAAAAAAAAAAAAAAAAAAAAAAAAAAAAAAAAAAAAAAAAAAAAAAAAAAAAAAAAAAAAAAAAAAAAAAAAAAAAAAAAAAAAAAAAAAAAAAAAAAAAAAAAAAAAAAAAAAAAAAAAAAAAAAAAAAAAAAAAAAAAAAAAAAAAAAAAAAAAAAAAAAAAAAAAAAAAAAAAAAAAAAAAAAAAAAAAAAAAAAAAAAAAAAAAAAAAAAAAAAAAAAAAAAAAAAAAAAAAAAAAAAAAAAAAAAAAAAAAAAAAAAAAAAAAAAAAAAAAAAAAAAAAAAAAAAAAAAAAAAAAAAAAAAAAAAAAAAAAAAAAAAAAAAAAAAAAAAAAAAAAAAAAAAAAAAAAAAAAAAAAAAAAAAAAAAAAAAAAAAAAAAAAAAAAAAAAAAAAAAAAAAAAAAAAAAAAAAAAAAAAAAAAAAAAAAAAAAAAAAAAAAAAAAAAAAAAAAAAAAAAAAAAAAAAAAAAAAAAAAAAAAAAAAAAAAAAAAAAAAAAAAAAAAAAAAAAAAAAAAAAAAAAAAAAAAAAAAAAAAAAAAAAAAAAAAAAAAAAAAAAAAAAAAAAAAAAAAAAAAAAAAAAAAAAAAAAAAAAAAAAAAAAAAAAAAAAAAAAAAAAAAAAAAAAAAAAAAAAAAAAAAAAAAAAAAAAAAAAAAAAAAAAAAAAAAAAAAAAAAAAAAAAAAAAAAAAAAAAAAAAAAAAAAAAAAAAAAAAAAAAAAAAAAAAAAAAAAAAAAAAAAAAAAAAAAAAAAAAAAAAAAAAAAAAAAAAAAAAAAAAAAAAAAAAAAAAAAAAAAAAAAAAAAAAAAAAAAAAAAAAAAAAAAAAAAAAAAAAAAAAAAAAAAAAAAAAAAAAAAAAAAAAAAAAAAAAAAAAAAAAAAAAAAAAAAAAAACwAAAAAEAAgAEAI/wABDAAgIAAAAQEAABAQIAAAAAIASBwwAECAAAACBADAMYAAACABBAAgYIAAAAAGCAgQgIAAAAEGBBAgAACAAAByAiAAIAAAAQIADAggAECAAQAEAFgKIMCAAAEACAAQQIAAAAIABBAQAEAAAGAFCAAQAAAAAQECCBAQAACAAQAABAAgQECAAAICAAAQAMCAAAAADAgAIICAAAIAKAYQAAAAAgAEAAgAoHKAAAACBAAAIAAAAAEACAgAQACAAQACAAgQAIBrAQAGCBAQIACAAQByByAgAICAAAEGABgeAIBxAAECAFgOIAAAAQMADAAAQAAAAQACDAgAAIAAAAEAAP8QAEAAgADoBwgIACCAAAEBAMgHECCAgAECAOgPEECAAIAABAwYACAAAAECAgAAEEBAAAABAAAIAABAAAAABggIAABAAJAARAYAUFJAAAECAAgIAEDAAAABAAQYAMBmAAA5BQAgECAAAAABBgAIAEBAAAIAAgQYAACAgAABBAQYAMBqAAABBgDg2jWAAAEBAgAIAMDs2QAAAgAIMACAgABxAcwVEABAAAABAggYACAAAMABAggAIAAAAAICACweAEBAAACRAQQQEAAAAAEABAgI0FnAZwChRYcWMADAaQADBAAIEABAgAADAAAQAGCAAAAAAggAEADAAAADAAgQMCAYQAAAAQQEEAAggADoAQIAABAggAAAAwICADs=\"><title>Layer: hidden1 (hidden)\n output range: (0, +Infinity)\n shape = (512,)\n dropout = 0.5\n Keras class = Dense\n activation = relu</title></image><text x=\"288.0\" y=\"267.0\" font-family=\"monospace\" font-size=\"12\" text-anchor=\"middle\" fill=\"black\" alignment-baseline=\"central\"  transform=\"rotate(-90 288.0 267.0) translate(2)\" >hidden1</text><text x=\"62.0\" y=\"170\" font-family=\"monospace\" font-size=\"24.0\" text-anchor=\"middle\" fill=\"black\" alignment-baseline=\"central\"  transform=\"rotate(-90 62.0 170) translate(2)\" >&#10683;</text><line x1=\"175.0\" y1=\"394\" x2=\"175.0\" y2=\"367\" stroke=\"black\" stroke-width=\"2\" marker-end=\"url(#arrow)\"><title>Weights from flatten to hidden1\n hidden1/kernel:0 has shape (2304, 512)\n hidden1/bias:0 has shape (512,)</title></line><rect x=\"74.0\" y=\"394\" width=\"202\" height=\"52\" style=\"fill:none;stroke:black;stroke-width:2\"/><image id=\"picture-dashboard-CIRAR10-198022_flatten-rotated_133\" class=\"picture-dashboard-CIRAR10-198022_flatten-rotated\" x=\"75.0\" y=\"395\" height=\"50\" width=\"200\" preserveAspectRatio=\"none\" href=\"data:image/gif;base64,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\"><title>Layer: flatten (hidden)\n output range: (-Infinity, +Infinity)\n Keras class = Flatten</title></image><text x=\"288.0\" y=\"422.0\" font-family=\"monospace\" font-size=\"12\" text-anchor=\"middle\" fill=\"black\" alignment-baseline=\"central\"  transform=\"rotate(-90 288.0 422.0) translate(2)\" >flatten</text><line x1=\"175.0\" y1=\"474\" x2=\"175.0\" y2=\"447\" stroke=\"black\" stroke-width=\"2\" marker-end=\"url(#arrow)\"><title>Weights from pool2 to flatten</title></line><rect x=\"74.0\" y=\"474\" width=\"202\" height=\"202\" style=\"fill:none;stroke:black;stroke-width:2\"/><image id=\"picture-dashboard-CIRAR10-198022_pool2-rotated_134\" class=\"picture-dashboard-CIRAR10-198022_pool2-rotated\" x=\"75.0\" y=\"475\" height=\"200\" width=\"200\" preserveAspectRatio=\"none\" href=\"data:image/gif;base64,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\"><title>Layer: pool2 (hidden)\n output range: (-Infinity, +Infinity)\n dropout = 0.25\n Keras class = MaxPooling2D\n pool_size = (2, 2)</title></image><text x=\"288.0\" y=\"577.0\" font-family=\"monospace\" font-size=\"12\" text-anchor=\"middle\" fill=\"black\" alignment-baseline=\"central\"  transform=\"rotate(-90 288.0 577.0) translate(2)\" >pool2</text><text x=\"88.0\" y=\"460\" font-family=\"monospace\" font-size=\"12\" text-anchor=\"middle\" fill=\"black\" alignment-baseline=\"central\"  transform=\"rotate(-90 88.0 460) translate(2)\" >64</text><text x=\"273.0\" y=\"690\" font-family=\"monospace\" font-size=\"12\" text-anchor=\"middle\" fill=\"black\" alignment-baseline=\"central\"  transform=\"rotate(-90 273.0 690) translate(2)\" >0</text><text x=\"62.0\" y=\"480\" font-family=\"monospace\" font-size=\"24.0\" text-anchor=\"middle\" fill=\"black\" alignment-baseline=\"central\"  transform=\"rotate(-90 62.0 480) translate(2)\" >&#10683;</text><line x1=\"175.0\" y1=\"704\" x2=\"175.0\" y2=\"677\" stroke=\"black\" stroke-width=\"2\" marker-end=\"url(#arrow)\"><title>Weights from conv4 to pool2</title></line><rect x=\"74.0\" y=\"704\" width=\"202\" height=\"202\" style=\"fill:none;stroke:black;stroke-width:2\"/><image id=\"picture-dashboard-CIRAR10-198022_conv4-rotated_135\" class=\"picture-dashboard-CIRAR10-198022_conv4-rotated\" x=\"75.0\" y=\"705\" height=\"200\" width=\"200\" preserveAspectRatio=\"none\" href=\"data:image/gif;base64,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\"><title>Layer: conv4 (hidden)\n output range: (0, +Infinity)\n Keras class = Conv2D\n activation = relu</title></image><text x=\"288.0\" y=\"807.0\" font-family=\"monospace\" font-size=\"12\" text-anchor=\"middle\" fill=\"black\" alignment-baseline=\"central\"  transform=\"rotate(-90 288.0 807.0) translate(2)\" >conv4</text><text x=\"88.0\" y=\"690\" font-family=\"monospace\" font-size=\"12\" text-anchor=\"middle\" fill=\"black\" alignment-baseline=\"central\"  transform=\"rotate(-90 88.0 690) translate(2)\" >64</text><text x=\"273.0\" y=\"920\" font-family=\"monospace\" font-size=\"12\" text-anchor=\"middle\" fill=\"black\" alignment-baseline=\"central\"  transform=\"rotate(-90 273.0 920) translate(2)\" >0</text><line x1=\"175.0\" y1=\"934\" x2=\"175.0\" y2=\"907\" stroke=\"black\" stroke-width=\"2\" marker-end=\"url(#arrow)\"><title>Weights from conv3 to conv4\n conv4/kernel:0 has shape (3, 3, 64, 64)\n conv4/bias:0 has shape (64,)</title></line><rect x=\"74.0\" y=\"934\" width=\"202\" height=\"202\" style=\"fill:none;stroke:black;stroke-width:2\"/><image id=\"picture-dashboard-CIRAR10-198022_conv3-rotated_136\" class=\"picture-dashboard-CIRAR10-198022_conv3-rotated\" x=\"75.0\" y=\"935\" height=\"200\" width=\"200\" preserveAspectRatio=\"none\" href=\"data:image/gif;base64,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\"><title>Layer: conv3 (hidden)\n output range: (0, +Infinity)\n Keras class = Conv2D\n padding = same\n activation = relu</title></image><text x=\"288.0\" y=\"1037.0\" font-family=\"monospace\" font-size=\"12\" text-anchor=\"middle\" fill=\"black\" alignment-baseline=\"central\"  transform=\"rotate(-90 288.0 1037.0) translate(2)\" >conv3</text><text x=\"88.0\" y=\"920\" font-family=\"monospace\" font-size=\"12\" text-anchor=\"middle\" fill=\"black\" alignment-baseline=\"central\"  transform=\"rotate(-90 88.0 920) translate(2)\" >64</text><text x=\"273.0\" y=\"1150\" font-family=\"monospace\" font-size=\"12\" text-anchor=\"middle\" fill=\"black\" alignment-baseline=\"central\"  transform=\"rotate(-90 273.0 1150) translate(2)\" >0</text><line x1=\"175.0\" y1=\"1164\" x2=\"175.0\" y2=\"1137\" stroke=\"black\" stroke-width=\"2\" marker-end=\"url(#arrow)\"><title>Weights from pool1 to conv3\n conv3/kernel:0 has shape (3, 3, 32, 64)\n conv3/bias:0 has shape (64,)</title></line><rect x=\"74.0\" y=\"1164\" width=\"202\" height=\"202\" style=\"fill:none;stroke:black;stroke-width:2\"/><image id=\"picture-dashboard-CIRAR10-198022_pool1-rotated_137\" class=\"picture-dashboard-CIRAR10-198022_pool1-rotated\" x=\"75.0\" y=\"1165\" height=\"200\" width=\"200\" preserveAspectRatio=\"none\" href=\"data:image/gif;base64,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\"><title>Layer: pool1 (hidden)\n output range: (-Infinity, +Infinity)\n dropout = 0.25\n Keras class = MaxPooling2D\n pool_size = (2, 2)</title></image><text x=\"288.0\" y=\"1267.0\" font-family=\"monospace\" font-size=\"12\" text-anchor=\"middle\" fill=\"black\" alignment-baseline=\"central\"  transform=\"rotate(-90 288.0 1267.0) translate(2)\" >pool1</text><text x=\"88.0\" y=\"1150\" font-family=\"monospace\" font-size=\"12\" text-anchor=\"middle\" fill=\"black\" alignment-baseline=\"central\"  transform=\"rotate(-90 88.0 1150) translate(2)\" >32</text><text x=\"273.0\" y=\"1380\" font-family=\"monospace\" font-size=\"12\" text-anchor=\"middle\" fill=\"black\" alignment-baseline=\"central\"  transform=\"rotate(-90 273.0 1380) translate(2)\" >0</text><text x=\"62.0\" y=\"1170\" font-family=\"monospace\" font-size=\"24.0\" text-anchor=\"middle\" fill=\"black\" alignment-baseline=\"central\"  transform=\"rotate(-90 62.0 1170) translate(2)\" >&#10683;</text><line x1=\"175.0\" y1=\"1394\" x2=\"175.0\" y2=\"1367\" stroke=\"black\" stroke-width=\"2\" marker-end=\"url(#arrow)\"><title>Weights from conv2 to pool1</title></line><rect x=\"74.0\" y=\"1394\" width=\"202\" height=\"202\" style=\"fill:none;stroke:black;stroke-width:2\"/><image id=\"picture-dashboard-CIRAR10-198022_conv2-rotated_138\" class=\"picture-dashboard-CIRAR10-198022_conv2-rotated\" x=\"75.0\" y=\"1395\" height=\"200\" width=\"200\" preserveAspectRatio=\"none\" href=\"data:image/gif;base64,R0lGODdhHgAeAIcAAIkAAH8AAKUAAAAAAAAAAAAAAAAAAAAAAAAAAAAAAAAAAAAAAAAAAAAAAAAAAAAAAAAAAAAAAAAAAAAAAAAAAAAAAAAAAAAAAAAAAAAAAAAAAAAAAAAAAAAAAAAAAAAAAAAAAAAAAAAAAAAAAAAAAAAAAAAAAAAAAAAAAAAAAAAAAAAAAAAAAAAAAAAAAAAAAAAAAAAAAAAAAAAAAAAAAAAAAAAAAAAAAAAAAAAAAAAAAAAAAAAAAAAAAAAAAAAAAAAAAAAAAAAAAAAAAAAAAAAAAAAAAAAAAAAAAAAAAAAAAAAAAAAAAAAAAAAAAAAAAAAAAAAAAAAAAAAAAAAAAAAAAAAAAAAAAAAAAAAAAAAAAAAAAAAAAAAAAAAAAAAAAAAAAAAAAAAAAAAAAAAAAAAAAAAAAAAAAAAAAAAAAAAAAAAAAAAAAAAAAAAAAAAAAAAAAAAAAAAAAAAAAAAAAAAAAAAAAAAAAAAAAAAAAAAAAAAAAAAAAAAAAAAAAAAAAAAAAAAAAAAAAAAAAAAAAAAAAAAAAAAAAAAAAAAAAAAAAAAAAAAAAAAAAAAAAAAAAAAAAAAAAAAAAAAAAAAAAAAAAAAAAAAAAAAAAAAAAAAAAAAAAAAAAAAAAAAAAAAAAAAAAAAAAAAAAAAAAAAAAAAAAAAAAAAAAAAAAAAAAAAAAAAAAAAAAAAAAAAAAAAAAAAAAAAAAAAAAAAAAAAAAAAAAAAAAAAAAAAAAAAAAAAAAAAAAAAAAAAAAAAAAAAAAAAAAAAAAAAAAAAAAAAAAAAAAAAAAAAAAAAAAAAAAAAAAAAAAAAAAAAAAAAAAAAAAAAAAAAAAAAAAAAAAAAAAAAAAAAAAAAAAAAAAAAAAAAAAAAAAAAAAAAAAAAAAAAAAAAAAAAAAAAAAAAAAAAAAAAAAAAAAAAAAAAAAAAAAAAAAAAAAAAAAAAAAAAAAAAAAAAAAAAAAAAAAAAAAAAAAAAAAAAAAAAAAAAAAAAAAAAAAAAAAAAAAAAAAAAAAAAAACwAAAAAHgAeAEAI/wABCBw4MEAAAAACAFjIkGGAhxADAAhAsaLFiwEACADAsSOAACABiBxJkmSAkycBqFwZoGVLAAFixgRAM4DNmzcB6NzJc2eAAACCCh0KIIBRAAEABFjKtCmAp1CjAhBAVQAAAAGyBgAAIEAAAGDDBhhLtixZAAHSAlgLIIDbt24BBJhLNwCAu3gBBAAAIIBfvwACAwhAOACAAIgDAAgQAIBjAZABBAgAAECAy5gDANi8OYBnAKADiB4dAIBpAAIAqF7NmnWA17ADAJhNWwCA27cDBADAu3cAAMCDCwceoLjx48gBKF+uPIDz59ABSJ9OHUCAAAACANjOPYD37+DDe/8HQL58gPPoAahfDyBAAADwA8gHQD9AAAABAgDYH6A/AIABAgAIUDAAAIQJEwZg2DAAgAABAEykSFGAAAAAAmwEEMDjxwAARAIIAABAAAApA6xkuRLAS5gBZAYAUNNmgAAAdAII0NMnAKABAAgAUNRo0QABACwN0NTp06cABAgAUDVAAAAAAgQA0NXrV7ACxAIgW9Ys2QAAAgBg25atALgAAASgW9duXQB5AwDg29cv3wCBBQ8mHADAYcSJFQdgDMDxY8gAAgAIUNnyZcwBAAAI0BnAZ9ABAgAgXZp0ANQBAAAI0DoAAAABZM+mDSDA7QAAAATg3dv3bwDBhQsPUNw+OADkAQAsXx4gAADoAQBMD1AdQAAAAbRvDwDA+/cA4QEEIB8AwHkAAdQHABDA/Xv4AOTPBxDAfgAA+fXrDwgAOw==\"><title>Layer: conv2 (hidden)\n output range: (0, +Infinity)\n Keras class = Conv2D\n activation = relu</title></image><text x=\"288.0\" y=\"1497.0\" font-family=\"monospace\" font-size=\"12\" text-anchor=\"middle\" fill=\"black\" alignment-baseline=\"central\"  transform=\"rotate(-90 288.0 1497.0) translate(2)\" >conv2</text><text x=\"88.0\" y=\"1380\" font-family=\"monospace\" font-size=\"12\" text-anchor=\"middle\" fill=\"black\" alignment-baseline=\"central\"  transform=\"rotate(-90 88.0 1380) translate(2)\" >32</text><text x=\"273.0\" y=\"1610\" font-family=\"monospace\" font-size=\"12\" text-anchor=\"middle\" fill=\"black\" alignment-baseline=\"central\"  transform=\"rotate(-90 273.0 1610) translate(2)\" >0</text><line x1=\"175.0\" y1=\"1624\" x2=\"175.0\" y2=\"1597\" stroke=\"black\" stroke-width=\"2\" marker-end=\"url(#arrow)\"><title>Weights from conv1 to conv2\n conv2/kernel:0 has shape (3, 3, 32, 32)\n conv2/bias:0 has shape (32,)</title></line><rect x=\"74.0\" y=\"1624\" width=\"202\" height=\"202\" style=\"fill:none;stroke:black;stroke-width:2\"/><image id=\"picture-dashboard-CIRAR10-198022_conv1-rotated_139\" class=\"picture-dashboard-CIRAR10-198022_conv1-rotated\" x=\"75.0\" y=\"1625\" height=\"200\" width=\"200\" preserveAspectRatio=\"none\" href=\"data:image/gif;base64,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\"><title>Layer: conv1 (hidden)\n output range: (0, +Infinity)\n Keras class = Conv2D\n padding = same\n activation = relu</title></image><text x=\"288.0\" y=\"1727.0\" font-family=\"monospace\" font-size=\"12\" text-anchor=\"middle\" fill=\"black\" alignment-baseline=\"central\"  transform=\"rotate(-90 288.0 1727.0) translate(2)\" >conv1</text><text x=\"88.0\" y=\"1610\" font-family=\"monospace\" font-size=\"12\" text-anchor=\"middle\" fill=\"black\" alignment-baseline=\"central\"  transform=\"rotate(-90 88.0 1610) translate(2)\" >32</text><text x=\"273.0\" y=\"1840\" font-family=\"monospace\" font-size=\"12\" text-anchor=\"middle\" fill=\"black\" alignment-baseline=\"central\"  transform=\"rotate(-90 273.0 1840) translate(2)\" >0</text><line x1=\"175.0\" y1=\"1854\" x2=\"175.0\" y2=\"1827\" stroke=\"black\" stroke-width=\"2\" marker-end=\"url(#arrow)\"><title>Weights from input to conv1\n conv1/kernel:0 has shape (3, 3, 3, 32)\n conv1/bias:0 has shape (32,)</title></line><rect x=\"74.0\" y=\"1854\" width=\"202\" height=\"202\" style=\"fill:none;stroke:black;stroke-width:2\"/><image id=\"picture-dashboard-CIRAR10-198022_input-rotated_140\" class=\"picture-dashboard-CIRAR10-198022_input-rotated\" x=\"75.0\" y=\"1855\" height=\"200\" width=\"200\" preserveAspectRatio=\"none\" href=\"data:image/gif;base64,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\"><title>Layer: input (input)\n output range: (0.0, 1.0)\n shape = (32, 32, 3)\n Keras class = Input</title></image><text x=\"288.0\" y=\"1957.0\" font-family=\"monospace\" font-size=\"12\" text-anchor=\"middle\" fill=\"black\" alignment-baseline=\"central\"  transform=\"rotate(-90 288.0 1957.0) translate(2)\" >input</text><text x=\"18\" y=\"1040.0\" font-family=\"monospace\" font-size=\"15\" text-anchor=\"middle\" fill=\"black\" alignment-baseline=\"central\"  transform=\"rotate(-90 18 1040.0) translate(2)\" >CIRAR10</text></svg></g></svg></p></td>\n</tr>\n<tr>\n  <td valign=\"top\" align=\"center\"><p style=\"text-align:center\"><b>conv1 features</b></p><table><tr><td style=\"border: 1px solid black;\"><img style=\"image-rendering: pixelated;\" class=\"CIRAR10_conv1_feature0\" src=\"data:image/gif;base64,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\"/><br/><center>Feature 0</center></td><td style=\"border: 1px solid black;\"><img style=\"image-rendering: pixelated;\" class=\"CIRAR10_conv1_feature1\" src=\"data:image/gif;base64,R0lGODdhUABQAIcAAH8AAAAAAAAAAAAAAAAAAAAAAAAAAAAAAAAAAAAAAAAAAAAAAAAAAAAAAAAAAAAAAAAAAAAAAAAAAAAAAAAAAAAAAAAAAAAAAAAAAAAAAAAAAAAAAAAAAAAAAAAAAAAAAAAAAAAAAAAAAAAAAAAAAAAAAAAAAAAAAAAAAAAAAAAAAAAAAAAAAAAAAAAAAAAAAAAAAAAAAAAAAAAAAAAAAAAAAAAAAAAAAAAAAAAAAAAAAAAAAAAAAAAAAAAAAAAAAAAAAAAAAAAAAAAAAAAAAAAAAAAAAAAAAAAAAAAAAAAAAAAAAAAAAAAAAAAAAAAAAAAAAAAAAAAAAAAAAAAAAAAAAAAAAAAAAAAAAAAAAAAAAAAAAAAAAAAAAAAAAAAAAAAAAAAAAAAAAAAAAAAAAAAAAAAAAAAAAAAAAAAAAAAAAAAAAAAAAAAAAAAAAAAAAAAAAAAAAAAAAAAAAAAAAAAAAAAAAAAAAAAAAAAAAAAAAAAAAAAAAAAAAAAAAAAAAAAAAAAAAAAAAAAAAAAAAAAAAAAAAAAAAAAAAAAAAAAAAAAAAAAAAAAAAAAAAAAAAAAAAAAAAAAAAAAAAAAAAAAAAAAAAAAAAAAAAAAAAAAAAAAAAAAAAAAAAAAAAAAAAAAAAAAAAAAAAAAAAAAAAAAAAAAAAAAAAAAAAAAAAAAAAAAAAAAAAAAAAAAAAAAAAAAAAAAAAAAAAAAAAAAAAAAAAAAAAAAAAAAAAAAAAAAAAAAAAAAAAAAAAAAAAAAAAAAAAAAAAAAAAAAAAAAAAAAAAAAAAAAAAAAAAAAAAAAAAAAAAAAAAAAAAAAAAAAAAAAAAAAAAAAAAAAAAAAAAAAAAAAAAAAAAAAAAAAAAAAAAAAAAAAAAAAAAAAAAAAAAAAAAAAAAAAAAAAAAAAAAAAAAAAAAAAAAAAAAAAAAAAAAAAAAAAAAAAAAAAAAAAAAAAAAAAAAAAAAAAAAAAAAAAAAAAAAAAAAAAAAAAAAAAAAAAAAAAAAAAAAAAAAAAAACwAAAAAUABQAEAIggABCBxIsKDBgwgTKlzIsKHDhxAjSpxIsaLFixgzatzIsaPHjyBDihxJsqTJkyhTqlzJsqXLlzBjypxJs6bNmzhz6tzJs6fPn0CDCh1KtKjRo0iTKl3KtKnTp1CjSp1KtarVq1izat3KtavXr2DDih1LtqzZs2jTql3Ltq3bt3CRBgQAOw==\"/><br/><center>Feature 1</center></td><td style=\"border: 1px solid black;\"><img style=\"image-rendering: pixelated;\" class=\"CIRAR10_conv1_feature2\" src=\"data:image/gif;base64,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\"/><br/><center>Feature 2</center></td><td style=\"border: 1px solid black;\"><img style=\"image-rendering: pixelated;\" class=\"CIRAR10_conv1_feature3\" src=\"data:image/gif;base64,R0lGODdhUABQAIcAAH8AAIUAAAAAAAAAAAAAAAAAAAAAAAAAAAAAAAAAAAAAAAAAAAAAAAAAAAAAAAAAAAAAAAAAAAAAAAAAAAAAAAAAAAAAAAAAAAAAAAAAAAAAAAAAAAAAAAAAAAAAAAAAAAAAAAAAAAAAAAAAAAAAAAAAAAAAAAAAAAAAAAAAAAAAAAAAAAAAAAAAAAAAAAAAAAAAAAAAAAAAAAAAAAAAAAAAAAAAAAAAAAAAAAAAAAAAAAAAAAAAAAAAAAAAAAAAAAAAAAAAAAAAAAAAAAAAAAAAAAAAAAAAAAAAAAAAAAAAAAAAAAAAAAAAAAAAAAAAAAAAAAAAAAAAAAAAAAAAAAAAAAAAAAAAAAAAAAAAAAAAAAAAAAAAAAAAAAAAAAAAAAAAAAAAAAAAAAAAAAAAAAAAAAAAAAAAAAAAAAAAAAAAAAAAAAAAAAAAAAAAAAAAAAAAAAAAAAAAAAAAAAAAAAAAAAAAAAAAAAAAAAAAAAAAAAAAAAAAAAAAAAAAAAAAAAAAAAAAAAAAAAAAAAAAAAAAAAAAAAAAAAAAAAAAAAAAAAAAAAAAAAAAAAAAAAAAAAAAAAAAAAAAAAAAAAAAAAAAAAAAAAAAAAAAAAAAAAAAAAAAAAAAAAAAAAAAAAAAAAAAAAAAAAAAAAAAAAAAAAAAAAAAAAAAAAAAAAAAAAAAAAAAAAAAAAAAAAAAAAAAAAAAAAAAAAAAAAAAAAAAAAAAAAAAAAAAAAAAAAAAAAAAAAAAAAAAAAAAAAAAAAAAAAAAAAAAAAAAAAAAAAAAAAAAAAAAAAAAAAAAAAAAAAAAAAAAAAAAAAAAAAAAAAAAAAAAAAAAAAAAAAAAAAAAAAAAAAAAAAAAAAAAAAAAAAAAAAAAAAAAAAAAAAAAAAAAAAAAAAAAAAAAAAAAAAAAAAAAAAAAAAAAAAAAAAAAAAAAAAAAAAAAAAAAAAAAAAAAAAAAAAAAAAAAAAAAAAAAAAAAAAAAAAAAAAAAAAAAAAAAAAAAAAAAAAAAAAAAAAAAACwAAAAAUABQAEAI6AADCBwoEACAAAgTKgQAIIDDhxAjSpxIsaLFAAAyatzIsaPHjyBDihxJsqTJkyhTqlzJsqXLlzBjypxJs6bNmzhz6tzJs6fPn0CDCh1KtKjRo0iTKl3KtKnTp1CjSp1KtarVq1izat3KtavXr2DDih1LtizQAGjTogUAIIDbt3ABAAhAt67du3jz6t3LNwCAv4ADCx5MuLDhw4gTK17MuLHjx5AjS55MubLly5gza97MubPnz6BDix5NurTp06hTq17NurXr17Bjy55Nu7bt27hz697Nu7fv38CDCx9OvLjx48iTK19uOiAAOw==\"/><br/><center>Feature 3</center></td><td style=\"border: 1px solid black;\"><img style=\"image-rendering: pixelated;\" class=\"CIRAR10_conv1_feature4\" src=\"data:image/gif;base64,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\"/><br/><center>Feature 4</center></td><td style=\"border: 1px solid black;\"><img style=\"image-rendering: pixelated;\" class=\"CIRAR10_conv1_feature5\" src=\"data:image/gif;base64,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\"/><br/><center>Feature 5</center></td><td style=\"border: 1px solid black;\"><img style=\"image-rendering: pixelated;\" class=\"CIRAR10_conv1_feature6\" src=\"data:image/gif;base64,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\"/><br/><center>Feature 6</center></td></tr><tr><td style=\"border: 1px solid black;\"><img style=\"image-rendering: pixelated;\" class=\"CIRAR10_conv1_feature7\" src=\"data:image/gif;base64,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\"/><br/><center>Feature 7</center></td><td style=\"border: 1px solid black;\"><img style=\"image-rendering: pixelated;\" class=\"CIRAR10_conv1_feature8\" src=\"data:image/gif;base64,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\"/><br/><center>Feature 8</center></td><td style=\"border: 1px solid black;\"><img style=\"image-rendering: pixelated;\" class=\"CIRAR10_conv1_feature9\" src=\"data:image/gif;base64,R0lGODdhUABQAIcAAH8AAAAAAAAAAAAAAAAAAAAAAAAAAAAAAAAAAAAAAAAAAAAAAAAAAAAAAAAAAAAAAAAAAAAAAAAAAAAAAAAAAAAAAAAAAAAAAAAAAAAAAAAAAAAAAAAAAAAAAAAAAAAAAAAAAAAAAAAAAAAAAAAAAAAAAAAAAAAAAAAAAAAAAAAAAAAAAAAAAAAAAAAAAAAAAAAAAAAAAAAAAAAAAAAAAAAAAAAAAAAAAAAAAAAAAAAAAAAAAAAAAAAAAAAAAAAAAAAAAAAAAAAAAAAAAAAAAAAAAAAAAAAAAAAAAAAAAAAAAAAAAAAAAAAAAAAAAAAAAAAAAAAAAAAAAAAAAAAAAAAAAAAAAAAAAAAAAAAAAAAAAAAAAAAAAAAAAAAAAAAAAAAAAAAAAAAAAAAAAAAAAAAAAAAAAAAAAAAAAAAAAAAAAAAAAAAAAAAAAAAAAAAAAAAAAAAAAAAAAAAAAAAAAAAAAAAAAAAAAAAAAAAAAAAAAAAAAAAAAAAAAAAAAAAAAAAAAAAAAAAAAAAAAAAAAAAAAAAAAAAAAAAAAAAAAAAAAAAAAAAAAAAAAAAAAAAAAAAAAAAAAAAAAAAAAAAAAAAAAAAAAAAAAAAAAAAAAAAAAAAAAAAAAAAAAAAAAAAAAAAAAAAAAAAAAAAAAAAAAAAAAAAAAAAAAAAAAAAAAAAAAAAAAAAAAAAAAAAAAAAAAAAAAAAAAAAAAAAAAAAAAAAAAAAAAAAAAAAAAAAAAAAAAAAAAAAAAAAAAAAAAAAAAAAAAAAAAAAAAAAAAAAAAAAAAAAAAAAAAAAAAAAAAAAAAAAAAAAAAAAAAAAAAAAAAAAAAAAAAAAAAAAAAAAAAAAAAAAAAAAAAAAAAAAAAAAAAAAAAAAAAAAAAAAAAAAAAAAAAAAAAAAAAAAAAAAAAAAAAAAAAAAAAAAAAAAAAAAAAAAAAAAAAAAAAAAAAAAAAAAAAAAAAAAAAAAAAAAAAAAAAAAAAAAAAAAAAAAAAAAAAAAAAAAAAAAAAAAAAAAAACwAAAAAUABQAEAIggABCBxIsKDBgwgTKlzIsKHDhxAjSpxIsaLFixgzatzIsaPHjyBDihxJsqTJkyhTqlzJsqXLlzBjypxJs6bNmzhz6tzJs6fPn0CDCh1KtKjRo0iTKl3KtKnTp1CjSp1KtarVq1izat3KtavXr2DDih1LtqzZs2jTql3Ltq3bt3CRBgQAOw==\"/><br/><center>Feature 9</center></td><td style=\"border: 1px solid black;\"><img style=\"image-rendering: pixelated;\" class=\"CIRAR10_conv1_feature10\" src=\"data:image/gif;base64,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\"/><br/><center>Feature 10</center></td><td style=\"border: 1px solid black;\"><img style=\"image-rendering: pixelated;\" class=\"CIRAR10_conv1_feature11\" src=\"data:image/gif;base64,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\"/><br/><center>Feature 11</center></td><td style=\"border: 1px solid black;\"><img style=\"image-rendering: pixelated;\" class=\"CIRAR10_conv1_feature12\" src=\"data:image/gif;base64,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\"/><br/><center>Feature 12</center></td><td style=\"border: 1px solid black;\"><img style=\"image-rendering: pixelated;\" class=\"CIRAR10_conv1_feature13\" src=\"data:image/gif;base64,R0lGODdhUABQAIcAAH8AAIcAAKEAAAAAAAAAAAAAAAAAAAAAAAAAAAAAAAAAAAAAAAAAAAAAAAAAAAAAAAAAAAAAAAAAAAAAAAAAAAAAAAAAAAAAAAAAAAAAAAAAAAAAAAAAAAAAAAAAAAAAAAAAAAAAAAAAAAAAAAAAAAAAAAAAAAAAAAAAAAAAAAAAAAAAAAAAAAAAAAAAAAAAAAAAAAAAAAAAAAAAAAAAAAAAAAAAAAAAAAAAAAAAAAAAAAAAAAAAAAAAAAAAAAAAAAAAAAAAAAAAAAAAAAAAAAAAAAAAAAAAAAAAAAAAAAAAAAAAAAAAAAAAAAAAAAAAAAAAAAAAAAAAAAAAAAAAAAAAAAAAAAAAAAAAAAAAAAAAAAAAAAAAAAAAAAAAAAAAAAAAAAAAAAAAAAAAAAAAAAAAAAAAAAAAAAAAAAAAAAAAAAAAAAAAAAAAAAAAAAAAAAAAAAAAAAAAAAAAAAAAAAAAAAAAAAAAAAAAAAAAAAAAAAAAAAAAAAAAAAAAAAAAAAAAAAAAAAAAAAAAAAAAAAAAAAAAAAAAAAAAAAAAAAAAAAAAAAAAAAAAAAAAAAAAAAAAAAAAAAAAAAAAAAAAAAAAAAAAAAAAAAAAAAAAAAAAAAAAAAAAAAAAAAAAAAAAAAAAAAAAAAAAAAAAAAAAAAAAAAAAAAAAAAAAAAAAAAAAAAAAAAAAAAAAAAAAAAAAAAAAAAAAAAAAAAAAAAAAAAAAAAAAAAAAAAAAAAAAAAAAAAAAAAAAAAAAAAAAAAAAAAAAAAAAAAAAAAAAAAAAAAAAAAAAAAAAAAAAAAAAAAAAAAAAAAAAAAAAAAAAAAAAAAAAAAAAAAAAAAAAAAAAAAAAAAAAAAAAAAAAAAAAAAAAAAAAAAAAAAAAAAAAAAAAAAAAAAAAAAAAAAAAAAAAAAAAAAAAAAAAAAAAAAAAAAAAAAAAAAAAAAAAAAAAAAAAAAAAAAAAAAAAAAAAAAAAAAAAAAAAAAAAAAAAAAAAAAAAAAAAAAAAAAAAAAAAAAAAACwAAAAAUABQAEAI/wADCBxIsKDBgwgTKlzIEIBDAAEiSgRAsSKAAAEAaNzIsaNHjQECABhJsqRJAAFSqlyZEoDLlzADBABAsybNAAEA6NzJs2eAn0CDAhhKtCjRAEiTKl0KoGnTAFCjQgUAIIDVq1YBaN3KVWuAAADChg1AtqzZsgDSql2rNoBbtwAABJhLty6Au3jzBggAoK/fv4ADCBYMoHDhAIgRA1jMeHGAx48BSJ4sOYDly5gzA9jMGUCAzwAABAgAoLTpAKhTBwDAmnWAAABiy55NO4Dt27gB6N6tO4Dv374BCB9OvLjwAAEAKF/OvPnyANCjSwdAvbp16gGya9/OvXt2AOADiP8XD6C8eQAB0qtfD6C9+/cB4sufTx+AffsB8usPAKC/f4AABA4kWDBAAAAJFS4MEADAQ4gRJU6kSDHARYwXAQAI0NHjxwAARI4EEMCkSQApVa4MEADAS5gvAwQAUNPmTZw5awbg2TMAAKBBhQYNUBTAUaQAAiwF0NTpU6hNA0ylGgDA1QBZtQYA0DXAV7ABAIwdG8DsWbMA1K5l29bt27cBAgCgW9fuXbx5A+zlGwDAX8CBAQcgXNjwYQCJFScO0LgxAAABJE+WDMDyZcyZMQfg3NnzZwChRY8GEMC0aQCpVQMI0BrAa9ixXwcIAMD2bdy5A+zeDcC37wDBhQcHACD/wHHkyQEsZ94cQADo0QMIoA7A+nUAAbQD4N7d+3fwAAIEAFC+fAD0ANSvZ68+wHsA8eXPD1Df/n0A+fXv5x8gAEAAAgMQLBgAAEKEARYybOgQAESIASYCABDgIsaLADZuDODRI4CQIQOQLEkSAMqUAAIEAODyJcyYLwMEAGDzJs6cNwPw7OkTANAAAQAQLWq0aIAAAJYybRogAICoUqcGqArgKtasAbZuBeD1K9gAYsUCKGv2LFq0AdauBeD2LdwAAQDQrUs3QAAAevfy7etXb4DAggMAKGz4MOLEhQMwZgzgMeTIAQIAqGz5MmbMATZvBuD5s+cAAQCQLm36dOkA/6oBsG7t+jVs2AFm0w4A4HaA3LoDAOgd4DfwAACGDw9g/LhxAMqXM2/u/Dl05gGmTwdg3XqA7NkBcOce4Dv4AADGjw9g/rx5AOrXs2+/PkAAAPLn068f4P59APr38w8QACAAgQMJFjR4EGEAhQsZAnD4EEAAiQAoVgQQIAAAjRs5dvT4MUBIkQEAlDR50mQAlStZtgTwEubLADNnAgAQAGdOnAB49vT502cAoUOJAjB6FGlSAAGYNg0AAGpUqQGoUgVw9WoArVu1AvD6FazXAAEAlC0bAG1atWkBtHX71m0AuXIBAAhwF29eAHv59g3w9y8AwYMJCw5w+DAAxYoDNP92/BhA5ACTKQcAcBlzZswBOHMW8BlAaNGjQwcIAAB1atWrA7RuDQA27ACzac8GACBAbt25AfT2/TtA8OAAiAcwbhxAcuUAAjQHACBAAADTqVe3HgA7dgDbtwfw7h1AePHhA5QvDwB9evQB2Ld3/x5AfPkAAtQHcB9//vwB+APwDxAAgAABABg8iDChQoMBAgB4CPFhgIkUJwK4iDGjxosBAgD4GCCkyAAASpYMgDKlypUAWrYMABMAgAA0a9IEgBNngJ07Afj0GSCo0KAAihoFECAAgKVMmzoNADWq1KkAqlq9GiCr1qwAugb4CjYAgLFjA5g9ixaAWrUBAgB4Czf/rly4AQIAuIs3r168Afr6/QsgcIAAAAobPmw4QAAAjBs7DhAAgOTJkgMEAIA5M+YAAQB4/gw69OcApEsHAIA6terVrFuvDgA7tmwAAALYBoAbd4DdvHvvBgA8OPAAxIkDOI48uXLlAZo7bw4gunQAAQIAuI49e4DtALp7/x4gfHgA5MubD4AePYD17Nu7dx8gfnwA9OvbDxAAgP79/Pv7BwhA4ECCBAMcRHgQAIAADQE8hPgwQAAAFSsGwIgRwEaOHQMEABBSZMgAAQCcRJlS5cqTAVy+DABA5kyaMwPcBJBTJ4AAPQH8BBr0Z4AAAIweRZpU6dKkAZw6BRBV6lSq/wGsAsCaVetWrl29fgUbVuzYsAHMnkWbVu1atm3dvoULQO5cAAHs3g0AQG8Avn0DAAAcQPDgAAAMGw6QWHFiAI0dP4YcWfLkxwEsWwaQOXMAzpwBfP4cQPToAABMmw6QWnVqAK1dv4btOkAAALVt38aNO8Du3QB8+w4QPDgA4sQDHEceAMDy5QGcP3cOQPp06tWnBwgAQPt27t21BwAfHsB48gACBACQXv169u3TBwgAQP58+vUBBMCfXz9+AP39AwQgEECAggUBIEyoMEAAAA4fQowocSLFABYvYgSgcSOAAB4BgAwJIEAAACZPokypcmWAli4DAIgpc6bMADZv4v/MCWAnz50Bfv4EACBAAABGjxoNEAAA06ZOnwaIKnUqgKpWr1oNoHUr164Avn4NIHasWAAAAqBNixYA27Zu37oNIHcuXQB27+LNCyAA374BAAAOLDgAYcIADh8OoHixYgCOH0OODDkA5cqWAWDOrHkzgACePwcAIHo06QCmTQNInToA69asAcCOLXu27AC2b+PODWA3794AAgAHDmA4cQABjgNIrnx58gDOnzsHIH06dekBAgDInj0A9+7euwMIL368+ADmzQMAEGA9+/YA3sOPH2D+fAD27+O3H2D/fgD+AQIAEIBgQYMAEAZQuDAAAIcPIT4MMHGiAIsAMGbUiDH/QAAAH0GGFBmAJEkAJ08GULlSJQAAAWDGlAmAZk2bAALk1BlAQE8AP4ECCDAUAIAAAQAkVbqUaQCnTgFEjRqAalWqAAAE0LqVKwCvX8ECCDCWbAABZwGkVQsgQFsAAAIEADCXbl27AfDiBbB3bwC/f/0CABCAcGHCABAnVhyAMWMAjwNEjgyAcmUAATADABAgAADPn0GHDjB6NADTpgOkTg2AdWvWAWDDBjCb9uwAt3Hn1g2Ad28AAYADED6ceHHjAAIEALB8eQDnAKBHlw49QHUA17FnD7Cde3cA38GHFz9+fADzANCjDxAAQHv37+HHbx8gAAD79+0H0L9fPwD//wABCBxIsKDBggESAli4MEAAABAjSpxIEWKAAAAyaswYoKPHjgBCihxJMmSAAABSqgzAsmUAADBhBggAoKbNmzgD6NzJE4DPnz4DCB0qFIDRo0iTGg0QAIDTAFCjBgBAlWqAq1izagXAlWuArwAABBhLdiyAs2cDqFULoG3bAHDjwgVAty6AAAEA6N3Lt2+Av4ADCwZAuLDhAIgTIwbAOIDjxwEASJYcoLLlywAyZw4QAIDnz6BDfw5AurRpAKhTq0YdoLXr17BjtwZAO4Bt2wBy6wYQIACA38CDCwceoLjx4wCSK1+ePIDz59CjS3cOoHqA69cBaN8OIEAAAODDi/8fHz5AAADo06tfnz6A+/fwAcgPEACA/fv47wcIAKC/f4AABAIIEADAQYQHAwQA0NBhwwABAEykWNEixQAZNQYA0NHjR5AhRYIMUNLkSQApVa4M0NLlS5gAZMoMUNNmAAA5de7k2TNAAABBhQ4NUNToUQBJlS4N0NTpU6gApEoNUNVqAABZtW7l2jVAAABhxY4NUNbsWQAAAqwF0LZtALhx5cIFUNdu3QB58wLg29fv378BBA8WDMDwYQABAgBg3NhxAMgAJE+mHMCyZQCZNW8O0LkzANChRY8eHcC0aQCpVa8OEADAa9ixZc+mTTvAbdy3AQAI0Nv37wAAhA8HEMD/uHEAyZUvDxAAwHPo0aVPp049wHXs1wEACNAdwHfw3wMEAFC+fAD06AGsZ98+QAAA8eXPp1/fvv0A+fXnBwAgAMAAAQAQLEgwQAAAChUGaNgQAMSIEgMEAGDxosUAAQBw7OjxI0iOAUaSDADgJMqUKleeDODSJYCYMmcGCADgJs6bAQIA6OnzJ9CgPQMQLRoAANKkSpMGaArgKVQAAaYCqGr1atUAAQBw7er1K9iwXwOQJQvgLNq0agOwBeD2Ldy4cgEECADgLt68evUG6NsXAODAgAMEAGD4MOLEhwMwBuD4MeTIkgEECADgMubMmjUH6NwZAOjQoAMEAGD6NOrUFacDsAbg+jXs2LJn065t+zbu3LcDAgA7\"/><br/><center>Feature 13</center></td></tr><tr><td style=\"border: 1px solid black;\"><img style=\"image-rendering: pixelated;\" class=\"CIRAR10_conv1_feature14\" src=\"data:image/gif;base64,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\"/><br/><center>Feature 14</center></td><td style=\"border: 1px solid black;\"><img style=\"image-rendering: pixelated;\" class=\"CIRAR10_conv1_feature15\" src=\"data:image/gif;base64,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\"/><br/><center>Feature 15</center></td><td style=\"border: 1px solid black;\"><img style=\"image-rendering: pixelated;\" class=\"CIRAR10_conv1_feature16\" src=\"data:image/gif;base64,R0lGODdhUABQAIcAAH8AAAAAAAAAAAAAAAAAAAAAAAAAAAAAAAAAAAAAAAAAAAAAAAAAAAAAAAAAAAAAAAAAAAAAAAAAAAAAAAAAAAAAAAAAAAAAAAAAAAAAAAAAAAAAAAAAAAAAAAAAAAAAAAAAAAAAAAAAAAAAAAAAAAAAAAAAAAAAAAAAAAAAAAAAAAAAAAAAAAAAAAAAAAAAAAAAAAAAAAAAAAAAAAAAAAAAAAAAAAAAAAAAAAAAAAAAAAAAAAAAAAAAAAAAAAAAAAAAAAAAAAAAAAAAAAAAAAAAAAAAAAAAAAAAAAAAAAAAAAAAAAAAAAAAAAAAAAAAAAAAAAAAAAAAAAAAAAAAAAAAAAAAAAAAAAAAAAAAAAAAAAAAAAAAAAAAAAAAAAAAAAAAAAAAAAAAAAAAAAAAAAAAAAAAAAAAAAAAAAAAAAAAAAAAAAAAAAAAAAAAAAAAAAAAAAAAAAAAAAAAAAAAAAAAAAAAAAAAAAAAAAAAAAAAAAAAAAAAAAAAAAAAAAAAAAAAAAAAAAAAAAAAAAAAAAAAAAAAAAAAAAAAAAAAAAAAAAAAAAAAAAAAAAAAAAAAAAAAAAAAAAAAAAAAAAAAAAAAAAAAAAAAAAAAAAAAAAAAAAAAAAAAAAAAAAAAAAAAAAAAAAAAAAAAAAAAAAAAAAAAAAAAAAAAAAAAAAAAAAAAAAAAAAAAAAAAAAAAAAAAAAAAAAAAAAAAAAAAAAAAAAAAAAAAAAAAAAAAAAAAAAAAAAAAAAAAAAAAAAAAAAAAAAAAAAAAAAAAAAAAAAAAAAAAAAAAAAAAAAAAAAAAAAAAAAAAAAAAAAAAAAAAAAAAAAAAAAAAAAAAAAAAAAAAAAAAAAAAAAAAAAAAAAAAAAAAAAAAAAAAAAAAAAAAAAAAAAAAAAAAAAAAAAAAAAAAAAAAAAAAAAAAAAAAAAAAAAAAAAAAAAAAAAAAAAAAAAAAAAAAAAAAAAAAAAAAAAAAAAAAAAAAAAAAAAAAAAAAAAAAAAAAAAAAAAAAAAAAAAAAACwAAAAAUABQAEAIggABCBxIsKDBgwgTKlzIsKHDhxAjSpxIsaLFixgzatzIsaPHjyBDihxJsqTJkyhTqlzJsqXLlzBjypxJs6bNmzhz6tzJs6fPn0CDCh1KtKjRo0iTKl3KtKnTp1CjSp1KtarVq1izat3KtavXr2DDih1LtqzZs2jTql3Ltq3bt3CRBgQAOw==\"/><br/><center>Feature 16</center></td><td style=\"border: 1px solid black;\"><img style=\"image-rendering: pixelated;\" class=\"CIRAR10_conv1_feature17\" src=\"data:image/gif;base64,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\"/><br/><center>Feature 17</center></td><td style=\"border: 1px solid black;\"><img style=\"image-rendering: pixelated;\" class=\"CIRAR10_conv1_feature18\" src=\"data:image/gif;base64,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\"/><br/><center>Feature 18</center></td><td style=\"border: 1px solid black;\"><img style=\"image-rendering: pixelated;\" class=\"CIRAR10_conv1_feature19\" src=\"data:image/gif;base64,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\"/><br/><center>Feature 19</center></td><td style=\"border: 1px solid black;\"><img style=\"image-rendering: pixelated;\" class=\"CIRAR10_conv1_feature20\" src=\"data:image/gif;base64,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\"/><br/><center>Feature 20</center></td></tr><tr><td style=\"border: 1px solid black;\"><img style=\"image-rendering: pixelated;\" class=\"CIRAR10_conv1_feature21\" src=\"data:image/gif;base64,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\"/><br/><center>Feature 21</center></td><td style=\"border: 1px solid black;\"><img style=\"image-rendering: pixelated;\" class=\"CIRAR10_conv1_feature22\" src=\"data:image/gif;base64,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\"/><br/><center>Feature 22</center></td><td style=\"border: 1px solid black;\"><img style=\"image-rendering: pixelated;\" class=\"CIRAR10_conv1_feature23\" src=\"data:image/gif;base64,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\"/><br/><center>Feature 23</center></td><td style=\"border: 1px solid black;\"><img style=\"image-rendering: pixelated;\" class=\"CIRAR10_conv1_feature24\" src=\"data:image/gif;base64,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\"/><br/><center>Feature 24</center></td><td style=\"border: 1px solid black;\"><img style=\"image-rendering: pixelated;\" class=\"CIRAR10_conv1_feature25\" src=\"data:image/gif;base64,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\"/><br/><center>Feature 25</center></td><td style=\"border: 1px solid black;\"><img style=\"image-rendering: pixelated;\" class=\"CIRAR10_conv1_feature26\" src=\"data:image/gif;base64,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\"/><br/><center>Feature 26</center></td><td style=\"border: 1px solid black;\"><img style=\"image-rendering: pixelated;\" class=\"CIRAR10_conv1_feature27\" src=\"data:image/gif;base64,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\"/><br/><center>Feature 27</center></td></tr><tr><td style=\"border: 1px solid black;\"><img style=\"image-rendering: pixelated;\" class=\"CIRAR10_conv1_feature28\" src=\"data:image/gif;base64,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\"/><br/><center>Feature 28</center></td><td style=\"border: 1px solid black;\"><img style=\"image-rendering: pixelated;\" class=\"CIRAR10_conv1_feature29\" src=\"data:image/gif;base64,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\"/><br/><center>Feature 29</center></td><td style=\"border: 1px solid black;\"><img style=\"image-rendering: pixelated;\" class=\"CIRAR10_conv1_feature30\" src=\"data:image/gif;base64,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\"/><br/><center>Feature 30</center></td><td style=\"border: 1px solid black;\"><img style=\"image-rendering: pixelated;\" class=\"CIRAR10_conv1_feature31\" src=\"data:image/gif;base64,R0lGODdhUABQAIcAAIgAAH8AAKQAAAAAAAAAAAAAAAAAAAAAAAAAAAAAAAAAAAAAAAAAAAAAAAAAAAAAAAAAAAAAAAAAAAAAAAAAAAAAAAAAAAAAAAAAAAAAAAAAAAAAAAAAAAAAAAAAAAAAAAAAAAAAAAAAAAAAAAAAAAAAAAAAAAAAAAAAAAAAAAAAAAAAAAAAAAAAAAAAAAAAAAAAAAAAAAAAAAAAAAAAAAAAAAAAAAAAAAAAAAAAAAAAAAAAAAAAAAAAAAAAAAAAAAAAAAAAAAAAAAAAAAAAAAAAAAAAAAAAAAAAAAAAAAAAAAAAAAAAAAAAAAAAAAAAAAAAAAAAAAAAAAAAAAAAAAAAAAAAAAAAAAAAAAAAAAAAAAAAAAAAAAAAAAAAAAAAAAAAAAAAAAAAAAAAAAAAAAAAAAAAAAAAAAAAAAAAAAAAAAAAAAAAAAAAAAAAAAAAAAAAAAAAAAAAAAAAAAAAAAAAAAAAAAAAAAAAAAAAAAAAAAAAAAAAAAAAAAAAAAAAAAAAAAAAAAAAAAAAAAAAAAAAAAAAAAAAAAAAAAAAAAAAAAAAAAAAAAAAAAAAAAAAAAAAAAAAAAAAAAAAAAAAAAAAAAAAAAAAAAAAAAAAAAAAAAAAAAAAAAAAAAAAAAAAAAAAAAAAAAAAAAAAAAAAAAAAAAAAAAAAAAAAAAAAAAAAAAAAAAAAAAAAAAAAAAAAAAAAAAAAAAAAAAAAAAAAAAAAAAAAAAAAAAAAAAAAAAAAAAAAAAAAAAAAAAAAAAAAAAAAAAAAAAAAAAAAAAAAAAAAAAAAAAAAAAAAAAAAAAAAAAAAAAAAAAAAAAAAAAAAAAAAAAAAAAAAAAAAAAAAAAAAAAAAAAAAAAAAAAAAAAAAAAAAAAAAAAAAAAAAAAAAAAAAAAAAAAAAAAAAAAAAAAAAAAAAAAAAAAAAAAAAAAAAAAAAAAAAAAAAAAAAAAAAAAAAAAAAAAAAAAAAAAAAAAAAAAAAAAAAAAAAAAAAAAAAAAAAAAAAAAAAAAAAAAAAACwAAAAAUABQAEAI/wADCBxIsKDBgwgTKiwIoGGAhxAjSgQAIEAAABgzatzIsaPHjxwDiBwZAIDJAChRAljJEkCAly8ByJxJs6ZNmwFyAtjJs+fOAECDAgVAtKjRo0cDKAXAtCmAAAEASJ1KtWqAq1cBaA0QAIDXr2DDfg1AtixZAGjTqkUboC2At3DjBggAoK7du3UD6NULoG/fAIABAxhMuLDhw4MDKF7MGIBjxwIiAwAQoHJlAJgzAwjAubNnAKBBBxg9GoBp0wFSpwbAurXr17ADBABAu7bt27hz6wYQoHdvAMCDCx8eoHhxAMiTK1+ePIBz5wCiS59OXXqAAACya9/OPXuA7wDCi/8fT558gAAA0qtfz759+gDwAcifTz9AAAD48+vfz79/f4ABBAoEUNDgQYQJCwYIAMDhQ4gPAwQAUNHiRYwZNV4M0LEjAJAhRY4kWdIkyAApVa5kCcClywAxYwKgWdPmTZw5de7UGcDnz58AhA4NEADAUaRJlS5lyjTAU6hPAUylCiDAVQBZtQII0LUrALBgA4wdC8DsWbRmA6xl2xbAW7hx5coNUNcuALx59eIN0LcvAMCBAQcIAMDwYcSGAyxm3NgxAMiRJU+mDDnA5csANG/m3Nmz5gABAIwmXXp0ANSoAaxeHcC1awCxZc+mXTt2ANy5dQPgzVvAbwAAAgwHUNz/OIAAyZUvB9DcOYAA0aVPpw7A+nXs2bUHCADA+3fvAcSLB1De/Hn06dWvXx/AvXsA8QPMnw/A/n38+fXvzx8gAEAAAgcSLGjwIEIAARYuBODwIcSIEgNQpAjgIsaMAQIA6OjxI8iQIj8GKFkSAMqUKleyRBng5UsAMmfSDGDTJoCcOnfy7AkgAFAAQocSLWr0KNKkRQMwber0KYCoUQNQpQrgKtasWrdy7eq1a4CwYseGBWD2LNq0ateybcs2ANy4AQDQrWs3AN68AQDw7ev3L+DAggcHKGz4cAAAihczDhAAAOTIkANQDgDgMuYAAQBw7uz5M+jQoQOQLk0aAOrU/wACsAbg+jWAALJlA6ht+zbu3LcD8O4dAADw4MKDByhuPACA5MqTB2gO4Dn06NKlB6geAAD27Nq3B+jeHQD4AAEAkC9v/nz5AOrXqwfg/j189wHmA6hv/36AAAD28+/vH2AAgQIBFCwYIAAAhQsZNgzwEGLEAAAoVrR4EaPFAAEAdPT4sWMAkSIBlAxwEmUAACtZtnT5cmUAmTNlArB5E2dOnTt1BvDpE0DQoAGIEgVwFGlSpUuPBnD6FCoAqVIFVAUAIEDWrAC4dvX6NUBYsQEAlDVbNkAAAGvZtnX7dm0AuXPpArBrV0BeAHv59g3wF3DgvwAIFwYQAHFixYsBNP92/Bhy5AABAFS2XDlA5swAOHf2/Bl05wCjSZc2DQB1atWrWa8OEABAbNmxAwQAcPt2AN0AePf2/Rt4cOG9AxQvDgB5AOXKATR3/hx6dOnQAwQAcB379QABAHT3DiBAeADjyZc3bz5A+vQA2Ld3/x5+fPYB6NMHcB9/fv37+ffPDzBAAAAECxo8iJBggIUAGjp8GCAAgIkUK1q8iDEjgAAcOQL4CDKkyJEBSpYEgDKlygABALh8CTOmzJkzA9i0CSCnzp08e+YMEACA0KFEhwYIACCp0qVMmzpdGiBqVABUq1q9ijWrVqoBunYFADas2LFky5o9izbt2QBs2QJ4Czf/rty5dOvavYs3b4C9fPv6/Qs4sODBgAEYDoA4seLFAAAEeAw5MoDJkwNYtgwgs+bNnDt7/gz6c4DRpEuPBoA6terVrFu7fu06gOzZAQDYvo07gO7dvAH4/g08uPDhxIsTD4A8eQAAzJs7DwA9egAA1Ktbv449u/bt2AN4/x4AgPgA5MkDOI8eQID17AMAeA8/vvz59OvbD4A/v/4AAPr7BwhAIIAAAQAcRHgwwMIAABw+DBAAwESKFS1exIgxwEaOGwF8BAkgwEgAJU0CCJAyJQCWLV2+hBnTZQCaAGzexGkzwE6eOwH8BBpUqNAARQEcRZpU6dKlAZw+DQBA6lSq/1MDXMUaAMBWrlsDfAUQVuxYsmQDBACQVu1atmwDvIUbAMBcunXpBsCbNwAAvn35BgAMQPBgwoULB0CcOAAAxo0dMw4QWfJkAJUtX8aMOcBmzgA8fwbtOcDo0QBMnzYdQHUAAK1dv4YdQLZsALUDBACQW/du3roD/Ab+G8Bw4sWHB0AOQPly5gECAIAeXfr0ANWrA8COPUAAAN29fwcfQPx48gEAnEefXv369AECAIAfXz78APXt38cPQP9+/v39AwQAIABBggAOIkyocOHBAAEAQIwoEWKAihYvYgSgcSPHjh41BggZEgDJkiZPoiQZIACAli5ftgwgUyaAmgFu4v8MAGAnz54+f+4MIHSoUABGjyJNqnSp0gBOnQKIGjUAVaoArmLNqnXr1QBev4IFIFasgLIAAARImxYA27Zu37INIFcugLp1A+DFC2Av375+/+4NIHgwYQCGDQtIDABAgMYAHkOOLPlxgMqWAwDIrDlzgAAAPoMOLXr05wCmT6MGoFq1gNYAXsOOHSAAgNq2bwfIrTsAgN6+ewcIAGA48eLGjw8PoHw5cwDOnQuIDmA69eoBAgAAEGA79+4Avn8PIF48gPLlA6BHD2A9+/bu3wcIAGA+/fr279cPoH8/fwD+AQIQCCBAQYMHEQJQuJBhQ4cBAgCQOFFiAIsWAWTUuJH/Y0eNAUCGFDkSQEmTJ1GmRBkgAACXL10GCACAJs0ANwHk1LmT584AP38CEDqUaNEAR48CULqUadOlAaBCBTCValWrVAMEALCVa9etAcCCBTCWbFmzAdCiBbCWbVu3bAPEjQuAbl27d+sGCACAb1+/fwEH9huAMGEAhwMkTgyAcWPHjyFHfhwgAADLly0HCACAc2cAAUADED2adOnSAVCjBrCadWvXr2GvDjB7NgDbt3Hnth2ANwDfv4EHDx4gAADjx5EnV248QHMAz6FHDxAAQHXr17FXD7AdQHfv38GDDxAAQHnz59GnLx+APQD37+EHCACAfn379/Hn128/QAAA/wABCBxIsKBBAAESAljIsGGAAAAiSpxIsaLFiwACaNQIoKPHjyBDBhg5EoDJkygDBADAsqXLlzBjxgxAkyaAmzhz6tx5M0AAAECDCg0aIACAo0iTKl3KlGmAp08BSJ1KtapVqQECANjKtSvXAAEAiB1LtqzZs2cDqFULoK3bt3Djtg0QAIDdu3jvBggAoK/fv4ADC/4boHBhAIgTK17MGHGAx48BSJ5MOYBlywAya97MubPnzQFChwZAurTp06hTqyYdoHVrALBjy55Nu7bt27hz3w7AmzeA38CDCx8OIIBxAMiTK1/OvLnz58sDSJcOoLr169izAwjAHYD37+DDixofT758+ADo0QNYz769+/fw48ufT79+gAABAQA7\"/><br/><center>Feature 31</center></td></tr></table></td>\n</tr>\n</table>"
      }
     },
     "7827db7016d547e79192b259f15213cd": {
      "model_module": "@jupyter-widgets/controls",
      "model_module_version": "1.1.0",
      "model_name": "ButtonModel",
      "state": {
       "icon": "forward",
       "layout": "IPY_MODEL_0abc898edea844c5b07f1b80dc2ff092",
       "style": "IPY_MODEL_0b1a13ddb2a241bea51dd1bbcc03d434"
      }
     },
     "7ad0efd5f0a9454eaeda7e01feffc29c": {
      "model_module": "@jupyter-widgets/controls",
      "model_module_version": "1.1.0",
      "model_name": "ButtonModel",
      "state": {
       "icon": "fast-forward",
       "layout": "IPY_MODEL_e539dd54a5e94e3a8438d6af952e57f8",
       "style": "IPY_MODEL_a2363f16284f4b5c9626a91ea49161ff"
      }
     },
     "7bf18f53a5354a0d8cc4ec3058dae327": {
      "model_module": "@jupyter-widgets/controls",
      "model_module_version": "1.1.0",
      "model_name": "DescriptionStyleModel",
      "state": {
       "description_width": "initial"
      }
     },
     "7e439f175d2a4da98f57dfaa53c648ee": {
      "model_module": "@jupyter-widgets/base",
      "model_module_version": "1.0.0",
      "model_name": "LayoutModel",
      "state": {
       "width": "100%"
      }
     },
     "7f71190edc3446fe91b4bb56b329e2c4": {
      "model_module": "@jupyter-widgets/controls",
      "model_module_version": "1.1.0",
      "model_name": "ButtonModel",
      "state": {
       "description": "Play",
       "icon": "play",
       "layout": "IPY_MODEL_4bbc5d36d6c14be797b33fe736c420d2",
       "style": "IPY_MODEL_5350bb3b90c3400096a2129a5e1f0def"
      }
     },
     "803e054f80ce4fb98c22812b7f11d16e": {
      "model_module": "@jupyter-widgets/controls",
      "model_module_version": "1.1.0",
      "model_name": "DescriptionStyleModel",
      "state": {
       "description_width": "initial"
      }
     },
     "861db4877b8c46089e6492adff653fb3": {
      "model_module": "@jupyter-widgets/controls",
      "model_module_version": "1.1.0",
      "model_name": "ButtonStyleModel",
      "state": {}
     },
     "8685bd4fc624446eb1eb0b34c5242178": {
      "model_module": "@jupyter-widgets/controls",
      "model_module_version": "1.1.0",
      "model_name": "SelectModel",
      "state": {
       "_options_labels": [
        "Test",
        "Train"
       ],
       "description": "Dataset:",
       "index": 1,
       "layout": "IPY_MODEL_bfd955af7780424fb5368d464f06cf76",
       "rows": 1,
       "style": "IPY_MODEL_bf11daaac39f4d8cbf74678b3e096f5f"
      }
     },
     "87071f88da854bb18fc23ef4ce529906": {
      "model_module": "@jupyter-widgets/base",
      "model_module_version": "1.0.0",
      "model_name": "LayoutModel",
      "state": {}
     },
     "8736aea7f761472b89e98275d5bc2837": {
      "model_module": "@jupyter-widgets/base",
      "model_module_version": "1.0.0",
      "model_name": "LayoutModel",
      "state": {}
     },
     "89188b32e87a46cf97996ccfc6d4a520": {
      "model_module": "@jupyter-widgets/controls",
      "model_module_version": "1.1.0",
      "model_name": "HTMLModel",
      "state": {
       "layout": "IPY_MODEL_2ccf8b1919704408bf391c0e37d98f82",
       "style": "IPY_MODEL_1aae44b918464d9d80851689d948a3c3",
       "value": "<img src=\"data:image/gif;base64,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\"/>"
      }
     },
     "89aa1048cc074d3faa93f3a003b2022c": {
      "model_module": "@jupyter-widgets/controls",
      "model_module_version": "1.1.0",
      "model_name": "DescriptionStyleModel",
      "state": {
       "description_width": ""
      }
     },
     "8a55ae232f5840c287e59ad9aa0c3a3f": {
      "model_module": "@jupyter-widgets/controls",
      "model_module_version": "1.1.0",
      "model_name": "SliderStyleModel",
      "state": {
       "description_width": ""
      }
     },
     "8abd710c95d64a7da63bb50d00e011f7": {
      "model_module": "@jupyter-widgets/controls",
      "model_module_version": "1.1.0",
      "model_name": "IntTextModel",
      "state": {
       "description": "Vertical space between layers:",
       "layout": "IPY_MODEL_b9425773890543ecaf2b3356808f12c3",
       "step": 1,
       "style": "IPY_MODEL_7bf18f53a5354a0d8cc4ec3058dae327",
       "value": 30
      }
     },
     "8c3e94fd60f04d4ca3bac8cb5a453dfa": {
      "model_module": "@jupyter-widgets/controls",
      "model_module_version": "1.1.0",
      "model_name": "DescriptionStyleModel",
      "state": {
       "description_width": ""
      }
     },
     "8c4c4857d7844563880e341558f4d15c": {
      "model_module": "@jupyter-widgets/base",
      "model_module_version": "1.0.0",
      "model_name": "LayoutModel",
      "state": {
       "width": "100%"
      }
     },
     "8d98d515a84a40f5bc8d234fda022cd5": {
      "model_module": "@jupyter-widgets/base",
      "model_module_version": "1.0.0",
      "model_name": "LayoutModel",
      "state": {}
     },
     "8e0074c0ceea4e23840ab1ffb2b39a79": {
      "model_module": "@jupyter-widgets/controls",
      "model_module_version": "1.1.0",
      "model_name": "LabelModel",
      "state": {
       "layout": "IPY_MODEL_41a9e7405000412097c4b913be6bd18d",
       "style": "IPY_MODEL_c376d9bf57fb476ba3f556375a818e27",
       "value": "of 900"
      }
     },
     "8e78db0abac545dd86fafa0ffa9a9b8e": {
      "model_module": "@jupyter-widgets/controls",
      "model_module_version": "1.1.0",
      "model_name": "ButtonStyleModel",
      "state": {}
     },
     "8f2049cadfeb45ff87bb7ba0e60dd44d": {
      "model_module": "@jupyter-widgets/controls",
      "model_module_version": "1.1.0",
      "model_name": "VBoxModel",
      "state": {
       "children": [
        "IPY_MODEL_e7c413ccd9b64a2ab3e43842f074a696",
        "IPY_MODEL_07f58ed64e6349c38dd522e746859a05",
        "IPY_MODEL_af891befdeaf4774bb16b154619554c9",
        "IPY_MODEL_68c66a86d60e444b84d2e6b23f748afb",
        "IPY_MODEL_db11dd330f4141d6a23050cd5e7c44ac",
        "IPY_MODEL_e457fbe6321544c5ba2fb11ca1d205ab",
        "IPY_MODEL_cda9652085cd46e8868b6a56251d23f6",
        "IPY_MODEL_99a1e7fbd838481d9c4bd8c927b66b8c"
       ],
       "layout": "IPY_MODEL_1c6cc4b063004a1b91ea24b35989a798"
      }
     },
     "9161d767bc374cb5a95ffd939d3028d6": {
      "model_module": "@jupyter-widgets/controls",
      "model_module_version": "1.1.0",
      "model_name": "VBoxModel",
      "state": {
       "children": [
        "IPY_MODEL_943afe7a5c7b415b937c9e1967f8751f",
        "IPY_MODEL_bd9eecf7adbc46589a61d17726328895"
       ],
       "layout": "IPY_MODEL_e4c24ad27b844729bea3e89a01457be7"
      }
     },
     "9201774576814e1aab8b90fb594a51e7": {
      "model_module": "@jupyter-widgets/controls",
      "model_module_version": "1.1.0",
      "model_name": "DescriptionStyleModel",
      "state": {
       "description_width": ""
      }
     },
     "9280d1ef139a4092805271c213e0070e": {
      "model_module": "@jupyter-widgets/base",
      "model_module_version": "1.0.0",
      "model_name": "LayoutModel",
      "state": {}
     },
     "943afe7a5c7b415b937c9e1967f8751f": {
      "model_module": "@jupyter-widgets/controls",
      "model_module_version": "1.1.0",
      "model_name": "HBoxModel",
      "state": {
       "children": [
        "IPY_MODEL_63e298a434f74af0968872acaf053a4a",
        "IPY_MODEL_8e0074c0ceea4e23840ab1ffb2b39a79"
       ],
       "layout": "IPY_MODEL_a3c849620be7447c90451958bf0166c0"
      }
     },
     "94be21a3e36f4ded879e3f815a0d8b85": {
      "model_module": "@jupyter-widgets/controls",
      "model_module_version": "1.1.0",
      "model_name": "HBoxModel",
      "state": {
       "children": [
        "IPY_MODEL_8f2049cadfeb45ff87bb7ba0e60dd44d",
        "IPY_MODEL_de5cb08578f54dfd8275d71a678e360e"
       ],
       "layout": "IPY_MODEL_94e1d3262bde4777a884ddb4bd941aea"
      }
     },
     "94e1d3262bde4777a884ddb4bd941aea": {
      "model_module": "@jupyter-widgets/base",
      "model_module_version": "1.0.0",
      "model_name": "LayoutModel",
      "state": {}
     },
     "9909e5ed1fae4503baf524ec4dc8b253": {
      "model_module": "@jupyter-widgets/controls",
      "model_module_version": "1.1.0",
      "model_name": "AccordionModel",
      "state": {
       "_titles": {
        "0": "CIRAR10"
       },
       "children": [
        "IPY_MODEL_09de75a3bd564686b05c6785d004b0d2"
       ],
       "layout": "IPY_MODEL_45906207fe17470ba156aa2d1a02736d",
       "selected_index": null
      }
     },
     "99a1e7fbd838481d9c4bd8c927b66b8c": {
      "model_module": "@jupyter-widgets/controls",
      "model_module_version": "1.1.0",
      "model_name": "FloatTextModel",
      "state": {
       "description": "Feature scale:",
       "layout": "IPY_MODEL_3ea1a3d7fa5b401fa44bc85463a10240",
       "step": null,
       "style": "IPY_MODEL_0096ef16a3ff4313898ef7bfe7c137ef",
       "value": 2.5
      }
     },
     "9a4af3c2a3b640a3b10f700f22a88a14": {
      "model_module": "@jupyter-widgets/controls",
      "model_module_version": "1.1.0",
      "model_name": "DescriptionStyleModel",
      "state": {
       "description_width": ""
      }
     },
     "9aed7e4a85ba48e8b0a104bec3937027": {
      "model_module": "@jupyter-widgets/base",
      "model_module_version": "1.0.0",
      "model_name": "LayoutModel",
      "state": {}
     },
     "9b8d4ee585d44d1699f802e52f00aaa2": {
      "model_module": "@jupyter-widgets/controls",
      "model_module_version": "1.1.0",
      "model_name": "DescriptionStyleModel",
      "state": {
       "description_width": "initial"
      }
     },
     "9d7e621a84db41f0acf1b8f51781efd9": {
      "model_module": "@jupyter-widgets/base",
      "model_module_version": "1.0.0",
      "model_name": "LayoutModel",
      "state": {
       "width": "100%"
      }
     },
     "9dc4667df05f4b67a90b35cd400b15c9": {
      "model_module": "@jupyter-widgets/controls",
      "model_module_version": "1.1.0",
      "model_name": "HBoxModel",
      "state": {
       "children": [
        "IPY_MODEL_09951363c4de4f52b54afc2133c76c0d",
        "IPY_MODEL_3cf9287ace224313acc072bc5ab6f4cb"
       ],
       "layout": "IPY_MODEL_44aba19b9c6d45bb95209bf9313f5d84"
      }
     },
     "9de72eb379484eeca1b92b16c065aae9": {
      "model_module": "@jupyter-widgets/controls",
      "model_module_version": "1.1.0",
      "model_name": "CheckboxModel",
      "state": {
       "description": "Show Targets",
       "disabled": false,
       "layout": "IPY_MODEL_b9425773890543ecaf2b3356808f12c3",
       "style": "IPY_MODEL_b342420f930d4e86a41cc9e7b2adc4d7",
       "value": false
      }
     },
     "9e66afeec483415cb4041090533b3fc1": {
      "model_module": "@jupyter-widgets/base",
      "model_module_version": "1.0.0",
      "model_name": "LayoutModel",
      "state": {
       "width": "100%"
      }
     },
     "a2363f16284f4b5c9626a91ea49161ff": {
      "model_module": "@jupyter-widgets/controls",
      "model_module_version": "1.1.0",
      "model_name": "ButtonStyleModel",
      "state": {}
     },
     "a37bc96543a34e9a8beff1643d324fa6": {
      "model_module": "@jupyter-widgets/base",
      "model_module_version": "1.0.0",
      "model_name": "LayoutModel",
      "state": {}
     },
     "a3a655a58bc0422681f6b60455612239": {
      "model_module": "@jupyter-widgets/base",
      "model_module_version": "1.0.0",
      "model_name": "LayoutModel",
      "state": {
       "width": "100%"
      }
     },
     "a3c849620be7447c90451958bf0166c0": {
      "model_module": "@jupyter-widgets/base",
      "model_module_version": "1.0.0",
      "model_name": "LayoutModel",
      "state": {
       "height": "40px"
      }
     },
     "a3cd364239c0430baf50194b4acd5e75": {
      "model_module": "@jupyter-widgets/controls",
      "model_module_version": "1.1.0",
      "model_name": "ButtonStyleModel",
      "state": {}
     },
     "a5df9ec43ee64d3c9e55a985915572c3": {
      "model_module": "@jupyter-widgets/base",
      "model_module_version": "1.0.0",
      "model_name": "LayoutModel",
      "state": {}
     },
     "a7a01bc6f5e840199453235807145c50": {
      "model_module": "@jupyter-widgets/controls",
      "model_module_version": "1.1.0",
      "model_name": "FloatSliderModel",
      "state": {
       "continuous_update": false,
       "description": "Zoom",
       "layout": "IPY_MODEL_1006096ff7b24b1d97439a6a78d8638f",
       "max": 1,
       "step": 0.1,
       "style": "IPY_MODEL_eee3f9418e7440c2a1faee5ecac68ab0",
       "value": 0.5
      }
     },
     "a85b7259ca5f49baadeb8a1e32e60607": {
      "model_module": "@jupyter-widgets/controls",
      "model_module_version": "1.1.0",
      "model_name": "FloatTextModel",
      "state": {
       "description": "Feature scale:",
       "layout": "IPY_MODEL_b3381a0c1be7459a9100e99f336cd948",
       "step": null,
       "style": "IPY_MODEL_dd2476ae2a92459dac2770c0eceb30df",
       "value": 1
      }
     },
     "a90a6fe624594685b5bae50a8815ac6e": {
      "model_module": "@jupyter-widgets/base",
      "model_module_version": "1.0.0",
      "model_name": "LayoutModel",
      "state": {}
     },
     "adb8d5c5278e44c89596bdd7b2a04fc0": {
      "model_module": "@jupyter-widgets/controls",
      "model_module_version": "1.1.0",
      "model_name": "DescriptionStyleModel",
      "state": {
       "description_width": "initial"
      }
     },
     "ae50c3654ef648aaa1a17ac1f4b7993c": {
      "model_module": "@jupyter-widgets/base",
      "model_module_version": "1.0.0",
      "model_name": "LayoutModel",
      "state": {
       "width": "100px"
      }
     },
     "ae8b812d74b346ceaf62d857bdd5155a": {
      "model_module": "@jupyter-widgets/controls",
      "model_module_version": "1.1.0",
      "model_name": "ButtonStyleModel",
      "state": {}
     },
     "aeeb1aaac6d34be0b8437d7f60ddf06a": {
      "model_module": "@jupyter-widgets/controls",
      "model_module_version": "1.1.0",
      "model_name": "VBoxModel",
      "state": {
       "children": [
        "IPY_MODEL_6848cbd0232841b58b04d1b6ffbb1e6b",
        "IPY_MODEL_4c855843fb654fa0812db0601bc797e0",
        "IPY_MODEL_e19927f90cde406695f97fdd9a93ca97",
        "IPY_MODEL_8abd710c95d64a7da63bb50d00e011f7",
        "IPY_MODEL_64c430d7e0fe46098920dd0f033e0c6c",
        "IPY_MODEL_00d780baa6eb4218a842780b3b7bc543",
        "IPY_MODEL_41b6a071b94c4ebeb53f3ace7c226542",
        "IPY_MODEL_a85b7259ca5f49baadeb8a1e32e60607"
       ],
       "layout": "IPY_MODEL_8c4c4857d7844563880e341558f4d15c"
      }
     },
     "aeed54c5723c4767b0016cd74825f978": {
      "model_module": "@jupyter-widgets/controls",
      "model_module_version": "1.1.0",
      "model_name": "DescriptionStyleModel",
      "state": {
       "description_width": ""
      }
     },
     "af24fcad8fb642a2a4ff77a6ae0af3b2": {
      "model_module": "@jupyter-widgets/base",
      "model_module_version": "1.0.0",
      "model_name": "LayoutModel",
      "state": {
       "width": "100%"
      }
     },
     "af891befdeaf4774bb16b154619554c9": {
      "model_module": "@jupyter-widgets/controls",
      "model_module_version": "1.1.0",
      "model_name": "IntTextModel",
      "state": {
       "description": "Horizontal space between banks:",
       "layout": "IPY_MODEL_a37bc96543a34e9a8beff1643d324fa6",
       "step": 1,
       "style": "IPY_MODEL_803e054f80ce4fb98c22812b7f11d16e",
       "value": 150
      }
     },
     "b0328f10c9f74fba8cdd52d3bd80bea8": {
      "model_module": "@jupyter-widgets/controls",
      "model_module_version": "1.1.0",
      "model_name": "DescriptionStyleModel",
      "state": {
       "description_width": "initial"
      }
     },
     "b13618256d8740bb815e24a70253468d": {
      "model_module": "@jupyter-widgets/base",
      "model_module_version": "1.0.0",
      "model_name": "LayoutModel",
      "state": {
       "width": "10%"
      }
     },
     "b1697209791d413f9b2f560c962e9285": {
      "model_module": "@jupyter-widgets/base",
      "model_module_version": "1.0.0",
      "model_name": "LayoutModel",
      "state": {}
     },
     "b1e9370d8d174c349a272e739a164b40": {
      "model_module": "@jupyter-widgets/controls",
      "model_module_version": "1.1.0",
      "model_name": "DescriptionStyleModel",
      "state": {
       "description_width": ""
      }
     },
     "b249693b5af64154a4fd5e00b7dc8e6e": {
      "model_module": "@jupyter-widgets/controls",
      "model_module_version": "1.1.0",
      "model_name": "SelectModel",
      "state": {
       "_options_labels": [
        "",
        "Accent",
        "Accent_r",
        "Blues",
        "Blues_r",
        "BrBG",
        "BrBG_r",
        "BuGn",
        "BuGn_r",
        "BuPu",
        "BuPu_r",
        "CMRmap",
        "CMRmap_r",
        "Dark2",
        "Dark2_r",
        "GnBu",
        "GnBu_r",
        "Greens",
        "Greens_r",
        "Greys",
        "Greys_r",
        "OrRd",
        "OrRd_r",
        "Oranges",
        "Oranges_r",
        "PRGn",
        "PRGn_r",
        "Paired",
        "Paired_r",
        "Pastel1",
        "Pastel1_r",
        "Pastel2",
        "Pastel2_r",
        "PiYG",
        "PiYG_r",
        "PuBu",
        "PuBuGn",
        "PuBuGn_r",
        "PuBu_r",
        "PuOr",
        "PuOr_r",
        "PuRd",
        "PuRd_r",
        "Purples",
        "Purples_r",
        "RdBu",
        "RdBu_r",
        "RdGy",
        "RdGy_r",
        "RdPu",
        "RdPu_r",
        "RdYlBu",
        "RdYlBu_r",
        "RdYlGn",
        "RdYlGn_r",
        "Reds",
        "Reds_r",
        "Set1",
        "Set1_r",
        "Set2",
        "Set2_r",
        "Set3",
        "Set3_r",
        "Spectral",
        "Spectral_r",
        "Vega10",
        "Vega10_r",
        "Vega20",
        "Vega20_r",
        "Vega20b",
        "Vega20b_r",
        "Vega20c",
        "Vega20c_r",
        "Wistia",
        "Wistia_r",
        "YlGn",
        "YlGnBu",
        "YlGnBu_r",
        "YlGn_r",
        "YlOrBr",
        "YlOrBr_r",
        "YlOrRd",
        "YlOrRd_r",
        "afmhot",
        "afmhot_r",
        "autumn",
        "autumn_r",
        "binary",
        "binary_r",
        "bone",
        "bone_r",
        "brg",
        "brg_r",
        "bwr",
        "bwr_r",
        "cool",
        "cool_r",
        "coolwarm",
        "coolwarm_r",
        "copper",
        "copper_r",
        "cubehelix",
        "cubehelix_r",
        "flag",
        "flag_r",
        "gist_earth",
        "gist_earth_r",
        "gist_gray",
        "gist_gray_r",
        "gist_heat",
        "gist_heat_r",
        "gist_ncar",
        "gist_ncar_r",
        "gist_rainbow",
        "gist_rainbow_r",
        "gist_stern",
        "gist_stern_r",
        "gist_yarg",
        "gist_yarg_r",
        "gnuplot",
        "gnuplot2",
        "gnuplot2_r",
        "gnuplot_r",
        "gray",
        "gray_r",
        "hot",
        "hot_r",
        "hsv",
        "hsv_r",
        "inferno",
        "inferno_r",
        "jet",
        "jet_r",
        "magma",
        "magma_r",
        "nipy_spectral",
        "nipy_spectral_r",
        "ocean",
        "ocean_r",
        "pink",
        "pink_r",
        "plasma",
        "plasma_r",
        "prism",
        "prism_r",
        "rainbow",
        "rainbow_r",
        "seismic",
        "seismic_r",
        "spectral",
        "spectral_r",
        "spring",
        "spring_r",
        "summer",
        "summer_r",
        "tab10",
        "tab10_r",
        "tab20",
        "tab20_r",
        "tab20b",
        "tab20b_r",
        "tab20c",
        "tab20c_r",
        "terrain",
        "terrain_r",
        "viridis",
        "viridis_r",
        "winter",
        "winter_r"
       ],
       "description": "Colormap:",
       "index": 0,
       "layout": "IPY_MODEL_b9425773890543ecaf2b3356808f12c3",
       "rows": 1,
       "style": "IPY_MODEL_6b31099caf5f4da5a623ce7ac00cd975"
      }
     },
     "b2702722eefc4f28a6e53b7b6b6921b8": {
      "model_module": "@jupyter-widgets/controls",
      "model_module_version": "1.1.0",
      "model_name": "ButtonStyleModel",
      "state": {}
     },
     "b2e3098cac194e06b8062f33a3d786bd": {
      "model_module": "@jupyter-widgets/controls",
      "model_module_version": "1.1.0",
      "model_name": "HBoxModel",
      "state": {
       "children": [
        "IPY_MODEL_12b4a715902d44bda1b1ed7100531b12",
        "IPY_MODEL_df5cd8db76ce4af7a21894de1097a6c1",
        "IPY_MODEL_1542d16f49a4438da66bbbae7c213400",
        "IPY_MODEL_61266361cc814e5caffb4e31bec82b2c",
        "IPY_MODEL_e52b1c8fa87a45a59340aae77ba38098",
        "IPY_MODEL_3236ea5895e5435589dba668f7df0a99",
        "IPY_MODEL_287df043578f4a28a3341be9d61a782c"
       ],
       "layout": "IPY_MODEL_f03683f0aec04338b81408da429a1cbb"
      }
     },
     "b3381a0c1be7459a9100e99f336cd948": {
      "model_module": "@jupyter-widgets/base",
      "model_module_version": "1.0.0",
      "model_name": "LayoutModel",
      "state": {}
     },
     "b342420f930d4e86a41cc9e7b2adc4d7": {
      "model_module": "@jupyter-widgets/controls",
      "model_module_version": "1.1.0",
      "model_name": "DescriptionStyleModel",
      "state": {
       "description_width": "initial"
      }
     },
     "b3c1d3561bed44378123983968e40c4a": {
      "model_module": "@jupyter-widgets/base",
      "model_module_version": "1.0.0",
      "model_name": "LayoutModel",
      "state": {}
     },
     "b4df2ae755d441cf8001653afac2b8d6": {
      "model_module": "@jupyter-widgets/base",
      "model_module_version": "1.0.0",
      "model_name": "LayoutModel",
      "state": {
       "width": "100%"
      }
     },
     "b55ccc024d714afeb34d1536b73647d1": {
      "model_module": "@jupyter-widgets/controls",
      "model_module_version": "1.1.0",
      "model_name": "ButtonStyleModel",
      "state": {}
     },
     "b6884903ec344752b9d59fef010d929d": {
      "model_module": "@jupyter-widgets/base",
      "model_module_version": "1.0.0",
      "model_name": "LayoutModel",
      "state": {
       "height": "50px",
       "width": "100%"
      }
     },
     "b6c187adbe7f465b9320726c20d82ddf": {
      "model_module": "@jupyter-widgets/base",
      "model_module_version": "1.0.0",
      "model_name": "LayoutModel",
      "state": {
       "width": "100%"
      }
     },
     "b6ce784e3cee4623835f30374517bef6": {
      "model_module": "@jupyter-widgets/controls",
      "model_module_version": "1.1.0",
      "model_name": "AccordionModel",
      "state": {
       "_titles": {
        "0": "CIRAR10"
       },
       "children": [
        "IPY_MODEL_2e0daa4c1d2541c99fd83afe9c61c35b"
       ],
       "layout": "IPY_MODEL_b1697209791d413f9b2f560c962e9285",
       "selected_index": null
      }
     },
     "b88ec449d2804cdeab349f1e703d1b7b": {
      "model_module": "@jupyter-widgets/controls",
      "model_module_version": "1.1.0",
      "model_name": "DescriptionStyleModel",
      "state": {
       "description_width": "initial"
      }
     },
     "b8a651f88fe74fb1bbeafbc595ed582b": {
      "model_module": "@jupyter-widgets/base",
      "model_module_version": "1.0.0",
      "model_name": "LayoutModel",
      "state": {
       "width": "100%"
      }
     },
     "b9425773890543ecaf2b3356808f12c3": {
      "model_module": "@jupyter-widgets/base",
      "model_module_version": "1.0.0",
      "model_name": "LayoutModel",
      "state": {}
     },
     "bb13f681988c4c65b76c0f821395dd21": {
      "model_module": "@jupyter-widgets/controls",
      "model_module_version": "1.1.0",
      "model_name": "CheckboxModel",
      "state": {
       "description": "Visible",
       "disabled": false,
       "layout": "IPY_MODEL_a37bc96543a34e9a8beff1643d324fa6",
       "style": "IPY_MODEL_9a4af3c2a3b640a3b10f700f22a88a14",
       "value": true
      }
     },
     "bc04ce25690c483d8675f532af2f1508": {
      "model_module": "@jupyter-widgets/controls",
      "model_module_version": "1.1.0",
      "model_name": "VBoxModel",
      "state": {
       "children": [
        "IPY_MODEL_c59c681bc7c1469aa60b724233d2857c",
        "IPY_MODEL_b2e3098cac194e06b8062f33a3d786bd"
       ],
       "layout": "IPY_MODEL_b6c187adbe7f465b9320726c20d82ddf"
      }
     },
     "bc5ef53219454304882edde4f6cec508": {
      "model_module": "@jupyter-widgets/base",
      "model_module_version": "1.0.0",
      "model_name": "LayoutModel",
      "state": {
       "height": "50px",
       "width": "100%"
      }
     },
     "bd9eecf7adbc46589a61d17726328895": {
      "model_module": "@jupyter-widgets/controls",
      "model_module_version": "1.1.0",
      "model_name": "HBoxModel",
      "state": {
       "children": [
        "IPY_MODEL_e7f75afa0d084806b88e510da4477892",
        "IPY_MODEL_262db713a7984178ba634ce2ac1ea220",
        "IPY_MODEL_3e9bd12205ae49bebc3b402fb80520be",
        "IPY_MODEL_e249a99323e74a28abebf3bad6e98837",
        "IPY_MODEL_d1c0dc3cd46349d4808de909f623fcb6",
        "IPY_MODEL_5a7e8e21fd754a0386b5ad0ee3d04e55",
        "IPY_MODEL_1b12b646e7964190adf2e3af0917d4e2"
       ],
       "layout": "IPY_MODEL_b6884903ec344752b9d59fef010d929d"
      }
     },
     "be80a9fdc33045928c1e268656153bfe": {
      "model_module": "@jupyter-widgets/controls",
      "model_module_version": "1.1.0",
      "model_name": "SelectModel",
      "state": {
       "_options_labels": [
        "",
        "Accent",
        "Accent_r",
        "Blues",
        "Blues_r",
        "BrBG",
        "BrBG_r",
        "BuGn",
        "BuGn_r",
        "BuPu",
        "BuPu_r",
        "CMRmap",
        "CMRmap_r",
        "Dark2",
        "Dark2_r",
        "GnBu",
        "GnBu_r",
        "Greens",
        "Greens_r",
        "Greys",
        "Greys_r",
        "OrRd",
        "OrRd_r",
        "Oranges",
        "Oranges_r",
        "PRGn",
        "PRGn_r",
        "Paired",
        "Paired_r",
        "Pastel1",
        "Pastel1_r",
        "Pastel2",
        "Pastel2_r",
        "PiYG",
        "PiYG_r",
        "PuBu",
        "PuBuGn",
        "PuBuGn_r",
        "PuBu_r",
        "PuOr",
        "PuOr_r",
        "PuRd",
        "PuRd_r",
        "Purples",
        "Purples_r",
        "RdBu",
        "RdBu_r",
        "RdGy",
        "RdGy_r",
        "RdPu",
        "RdPu_r",
        "RdYlBu",
        "RdYlBu_r",
        "RdYlGn",
        "RdYlGn_r",
        "Reds",
        "Reds_r",
        "Set1",
        "Set1_r",
        "Set2",
        "Set2_r",
        "Set3",
        "Set3_r",
        "Spectral",
        "Spectral_r",
        "Vega10",
        "Vega10_r",
        "Vega20",
        "Vega20_r",
        "Vega20b",
        "Vega20b_r",
        "Vega20c",
        "Vega20c_r",
        "Wistia",
        "Wistia_r",
        "YlGn",
        "YlGnBu",
        "YlGnBu_r",
        "YlGn_r",
        "YlOrBr",
        "YlOrBr_r",
        "YlOrRd",
        "YlOrRd_r",
        "afmhot",
        "afmhot_r",
        "autumn",
        "autumn_r",
        "binary",
        "binary_r",
        "bone",
        "bone_r",
        "brg",
        "brg_r",
        "bwr",
        "bwr_r",
        "cool",
        "cool_r",
        "coolwarm",
        "coolwarm_r",
        "copper",
        "copper_r",
        "cubehelix",
        "cubehelix_r",
        "flag",
        "flag_r",
        "gist_earth",
        "gist_earth_r",
        "gist_gray",
        "gist_gray_r",
        "gist_heat",
        "gist_heat_r",
        "gist_ncar",
        "gist_ncar_r",
        "gist_rainbow",
        "gist_rainbow_r",
        "gist_stern",
        "gist_stern_r",
        "gist_yarg",
        "gist_yarg_r",
        "gnuplot",
        "gnuplot2",
        "gnuplot2_r",
        "gnuplot_r",
        "gray",
        "gray_r",
        "hot",
        "hot_r",
        "hsv",
        "hsv_r",
        "inferno",
        "inferno_r",
        "jet",
        "jet_r",
        "magma",
        "magma_r",
        "nipy_spectral",
        "nipy_spectral_r",
        "ocean",
        "ocean_r",
        "pink",
        "pink_r",
        "plasma",
        "plasma_r",
        "prism",
        "prism_r",
        "rainbow",
        "rainbow_r",
        "seismic",
        "seismic_r",
        "spectral",
        "spectral_r",
        "spring",
        "spring_r",
        "summer",
        "summer_r",
        "tab10",
        "tab10_r",
        "tab20",
        "tab20_r",
        "tab20b",
        "tab20b_r",
        "tab20c",
        "tab20c_r",
        "terrain",
        "terrain_r",
        "viridis",
        "viridis_r",
        "winter",
        "winter_r"
       ],
       "description": "Colormap:",
       "index": 0,
       "layout": "IPY_MODEL_a37bc96543a34e9a8beff1643d324fa6",
       "rows": 1,
       "style": "IPY_MODEL_aeed54c5723c4767b0016cd74825f978"
      }
     },
     "bf11daaac39f4d8cbf74678b3e096f5f": {
      "model_module": "@jupyter-widgets/controls",
      "model_module_version": "1.1.0",
      "model_name": "DescriptionStyleModel",
      "state": {
       "description_width": ""
      }
     },
     "bfd955af7780424fb5368d464f06cf76": {
      "model_module": "@jupyter-widgets/base",
      "model_module_version": "1.0.0",
      "model_name": "LayoutModel",
      "state": {}
     },
     "c11660b5b15c4ca88dbb31f52779e62b": {
      "model_module": "@jupyter-widgets/base",
      "model_module_version": "1.0.0",
      "model_name": "LayoutModel",
      "state": {
       "width": "25%"
      }
     },
     "c12adf617442402391446d8f808f4e3d": {
      "model_module": "@jupyter-widgets/controls",
      "model_module_version": "1.1.0",
      "model_name": "FloatTextModel",
      "state": {
       "description": "Leftmost color maps to:",
       "layout": "IPY_MODEL_0cafdd1cd0ce418bbcdcd887b8685811",
       "step": null,
       "style": "IPY_MODEL_13ce61afdf2f4e34b8535cfd2f9458bc"
      }
     },
     "c29ffc0e424b4839b5bd461cf2bd3a04": {
      "model_module": "@jupyter-widgets/controls",
      "model_module_version": "1.1.0",
      "model_name": "DescriptionStyleModel",
      "state": {
       "description_width": "initial"
      }
     },
     "c376d9bf57fb476ba3f556375a818e27": {
      "model_module": "@jupyter-widgets/controls",
      "model_module_version": "1.1.0",
      "model_name": "DescriptionStyleModel",
      "state": {
       "description_width": ""
      }
     },
     "c3c7d853e79346cca12d038c8fb08b03": {
      "model_module": "@jupyter-widgets/base",
      "model_module_version": "1.0.0",
      "model_name": "LayoutModel",
      "state": {}
     },
     "c3ff19357ec84447bf09f7559d61d1b6": {
      "model_module": "@jupyter-widgets/base",
      "model_module_version": "1.0.0",
      "model_name": "LayoutModel",
      "state": {}
     },
     "c42191d7f94c467cb2435217da2eceb4": {
      "model_module": "@jupyter-widgets/base",
      "model_module_version": "1.0.0",
      "model_name": "LayoutModel",
      "state": {}
     },
     "c42fb395f5f942588ede324a644be8ff": {
      "model_module": "@jupyter-widgets/base",
      "model_module_version": "1.0.0",
      "model_name": "LayoutModel",
      "state": {
       "width": "100%"
      }
     },
     "c56151d745bb4031a5ca1289f580a6e3": {
      "model_module": "@jupyter-widgets/base",
      "model_module_version": "1.0.0",
      "model_name": "LayoutModel",
      "state": {}
     },
     "c59c681bc7c1469aa60b724233d2857c": {
      "model_module": "@jupyter-widgets/controls",
      "model_module_version": "1.1.0",
      "model_name": "HBoxModel",
      "state": {
       "children": [
        "IPY_MODEL_3d3342c0df984d15bd69fa03417768c1",
        "IPY_MODEL_65871fb448ba466eb95f9a09930f4ec1"
       ],
       "layout": "IPY_MODEL_6e9dac6e6281462989a5e09f82917f11"
      }
     },
     "c6c6cc999ff0485a8fe47b37c373f13a": {
      "model_module": "@jupyter-widgets/controls",
      "model_module_version": "1.1.0",
      "model_name": "HBoxModel",
      "state": {
       "children": [
        "IPY_MODEL_f359fdce26124959a03768796e1cc99a",
        "IPY_MODEL_e8d15c03fa4d4b9f846754477a026e4e"
       ],
       "layout": "IPY_MODEL_3233ec9a3a6442d98befd73be1040c90"
      }
     },
     "c720655c658a4b6d9091dfd332349b1c": {
      "model_module": "@jupyter-widgets/controls",
      "model_module_version": "1.1.0",
      "model_name": "CheckboxModel",
      "state": {
       "description": "Errors",
       "disabled": false,
       "layout": "IPY_MODEL_515027460a6945739f3e99304c879848",
       "style": "IPY_MODEL_5d68683aa25a40cb8d3a9f24a20a145b",
       "value": false
      }
     },
     "c78f90a6e8b545d2ac3ea45fe5428999": {
      "model_module": "@jupyter-widgets/controls",
      "model_module_version": "1.1.0",
      "model_name": "ButtonStyleModel",
      "state": {}
     },
     "c7c88eef36254381a3726653a08241c6": {
      "model_module": "@jupyter-widgets/controls",
      "model_module_version": "1.1.0",
      "model_name": "CheckboxModel",
      "state": {
       "description": "Rotate network",
       "disabled": false,
       "layout": "IPY_MODEL_3ea937700e074548a3f2cf3471da462f",
       "style": "IPY_MODEL_e452bf0818af48e2b200b9cc2c1081ae",
       "value": true
      }
     },
     "c82d2991ff114cb185061c5c754a4680": {
      "model_module": "@jupyter-widgets/base",
      "model_module_version": "1.0.0",
      "model_name": "LayoutModel",
      "state": {
       "width": "25%"
      }
     },
     "ca3dd7ed038c4141af08d9c0e3e33a3c": {
      "model_module": "@jupyter-widgets/controls",
      "model_module_version": "1.1.0",
      "model_name": "DescriptionStyleModel",
      "state": {
       "description_width": "initial"
      }
     },
     "ca6bed74fbcf4435b893a26c748e08eb": {
      "model_module": "@jupyter-widgets/base",
      "model_module_version": "1.0.0",
      "model_name": "LayoutModel",
      "state": {}
     },
     "cb8fd98de18d41d297de86a0acef0d0f": {
      "model_module": "@jupyter-widgets/base",
      "model_module_version": "1.0.0",
      "model_name": "LayoutModel",
      "state": {
       "width": "100%"
      }
     },
     "cba47dd7f1594bb3b7f882c5535d5f16": {
      "model_module": "@jupyter-widgets/base",
      "model_module_version": "1.0.0",
      "model_name": "LayoutModel",
      "state": {}
     },
     "cbe0a31834c94af98cb2441e003f2a8b": {
      "model_module": "@jupyter-widgets/base",
      "model_module_version": "1.0.0",
      "model_name": "LayoutModel",
      "state": {}
     },
     "cda9652085cd46e8868b6a56251d23f6": {
      "model_module": "@jupyter-widgets/controls",
      "model_module_version": "1.1.0",
      "model_name": "IntTextModel",
      "state": {
       "description": "Feature columns:",
       "layout": "IPY_MODEL_87071f88da854bb18fc23ef4ce529906",
       "step": 1,
       "style": "IPY_MODEL_6f80e4cf6bd24f6dad55621211f93533",
       "value": 7
      }
     },
     "cdadce11332241418e477de5ce820842": {
      "model_module": "@jupyter-widgets/base",
      "model_module_version": "1.0.0",
      "model_name": "LayoutModel",
      "state": {}
     },
     "d0ab657a8ae34270aae5f6b36c14c1bd": {
      "model_module": "@jupyter-widgets/controls",
      "model_module_version": "1.1.0",
      "model_name": "VBoxModel",
      "state": {
       "children": [
        "IPY_MODEL_3f47243ea3c94e949c2119ea36259d31",
        "IPY_MODEL_3679d8c4d0894106abe238ec478c3aa6",
        "IPY_MODEL_5135c14a51af46cb85e038ea2db4b44b",
        "IPY_MODEL_89188b32e87a46cf97996ccfc6d4a520",
        "IPY_MODEL_1bcf0022f7de4a018936c606acb9bc12",
        "IPY_MODEL_d679b721a74146a8aba6b7663498a431",
        "IPY_MODEL_0aee265f2d2d49cf8ab4ef347476de46",
        "IPY_MODEL_df0e0ff28d2d4689913557674e8510b3"
       ],
       "layout": "IPY_MODEL_a3a655a58bc0422681f6b60455612239"
      }
     },
     "d13dbb68493449acba2007bd365de218": {
      "model_module": "@jupyter-widgets/base",
      "model_module_version": "1.0.0",
      "model_name": "LayoutModel",
      "state": {
       "width": "25%"
      }
     },
     "d18565e506a844fbb2e87747009dbff3": {
      "model_module": "@jupyter-widgets/controls",
      "model_module_version": "1.1.0",
      "model_name": "DescriptionStyleModel",
      "state": {
       "description_width": "initial"
      }
     },
     "d1aa346fb95d4ff4b3aeecdb2df00e08": {
      "model_module": "@jupyter-widgets/controls",
      "model_module_version": "1.1.0",
      "model_name": "DescriptionStyleModel",
      "state": {
       "description_width": "initial"
      }
     },
     "d1b645de630e48d39ea30bd50816e6d2": {
      "model_module": "@jupyter-widgets/controls",
      "model_module_version": "1.1.0",
      "model_name": "DescriptionStyleModel",
      "state": {
       "description_width": "initial"
      }
     },
     "d1c0dc3cd46349d4808de909f623fcb6": {
      "model_module": "@jupyter-widgets/controls",
      "model_module_version": "1.1.0",
      "model_name": "ButtonModel",
      "state": {
       "icon": "fast-forward",
       "layout": "IPY_MODEL_612b3625559a46869487080c6f1e3147",
       "style": "IPY_MODEL_861db4877b8c46089e6492adff653fb3"
      }
     },
     "d2c0dd77aa3341819ec8de66496dde19": {
      "model_module": "@jupyter-widgets/base",
      "model_module_version": "1.0.0",
      "model_name": "LayoutModel",
      "state": {
       "width": "10%"
      }
     },
     "d34c039143f44f61941e0575446f88cb": {
      "model_module": "@jupyter-widgets/base",
      "model_module_version": "1.0.0",
      "model_name": "LayoutModel",
      "state": {
       "width": "100%"
      }
     },
     "d35be4da0e784353a1a7e86cfad6115d": {
      "model_module": "@jupyter-widgets/controls",
      "model_module_version": "1.1.0",
      "model_name": "HBoxModel",
      "state": {
       "children": [
        "IPY_MODEL_53289770d1cc4597bc6556aaacd27bf3",
        "IPY_MODEL_c720655c658a4b6d9091dfd332349b1c"
       ],
       "layout": "IPY_MODEL_2c2985b39fe4438785769a2da65b32ba"
      }
     },
     "d679b721a74146a8aba6b7663498a431": {
      "model_module": "@jupyter-widgets/controls",
      "model_module_version": "1.1.0",
      "model_name": "FloatTextModel",
      "state": {
       "description": "Rightmost color maps to:",
       "layout": "IPY_MODEL_9aed7e4a85ba48e8b0a104bec3937027",
       "step": null,
       "style": "IPY_MODEL_adb8d5c5278e44c89596bdd7b2a04fc0",
       "value": 1
      }
     },
     "d84bcb662d574843ab8a5320896b3055": {
      "model_module": "@jupyter-widgets/controls",
      "model_module_version": "1.1.0",
      "model_name": "DescriptionStyleModel",
      "state": {
       "description_width": "initial"
      }
     },
     "da33001d580a41c087735c86c34d2f22": {
      "model_module": "@jupyter-widgets/controls",
      "model_module_version": "1.1.0",
      "model_name": "DescriptionStyleModel",
      "state": {
       "description_width": ""
      }
     },
     "da372ee658ad4573aaaca30a0f41cb3d": {
      "model_module": "@jupyter-widgets/controls",
      "model_module_version": "1.1.0",
      "model_name": "VBoxModel",
      "state": {
       "children": [
        "IPY_MODEL_8685bd4fc624446eb1eb0b34c5242178",
        "IPY_MODEL_a7a01bc6f5e840199453235807145c50",
        "IPY_MODEL_e18e7418ee89485fb436ae989fdf6817",
        "IPY_MODEL_23ff6b5616e844dbb8e9494a971a34ce",
        "IPY_MODEL_d35be4da0e784353a1a7e86cfad6115d",
        "IPY_MODEL_21ca7cc73dae4615866abfc2d8bf6e6c",
        "IPY_MODEL_185ab25cc15741558adaee41d5578049",
        "IPY_MODEL_5d5619228e394226b7d1eb5566e29ab4"
       ],
       "layout": "IPY_MODEL_c42fb395f5f942588ede324a644be8ff"
      }
     },
     "da62dc4d3e274eafaca0e0b87acb89fe": {
      "model_module": "@jupyter-widgets/controls",
      "model_module_version": "1.1.0",
      "model_name": "DescriptionStyleModel",
      "state": {
       "description_width": "initial"
      }
     },
     "dac1e98b06cb469399268abed733c370": {
      "model_module": "@jupyter-widgets/base",
      "model_module_version": "1.0.0",
      "model_name": "LayoutModel",
      "state": {}
     },
     "db11dd330f4141d6a23050cd5e7c44ac": {
      "model_module": "@jupyter-widgets/controls",
      "model_module_version": "1.1.0",
      "model_name": "HBoxModel",
      "state": {
       "children": [
        "IPY_MODEL_f9e9320eccc5407b9bccd5a492492ec9",
        "IPY_MODEL_6392c0cf296f408f9a859d35b9dd706e"
       ],
       "layout": "IPY_MODEL_ef67eb96a6ef4764a2d4ee836b55605a"
      }
     },
     "dc149ae97e2b473b996d03a794ef4471": {
      "model_module": "@jupyter-widgets/base",
      "model_module_version": "1.0.0",
      "model_name": "LayoutModel",
      "state": {
       "width": "100%"
      }
     },
     "dc41f42d58774136b5143837b53b9ca9": {
      "model_module": "@jupyter-widgets/controls",
      "model_module_version": "1.1.0",
      "model_name": "SelectModel",
      "state": {
       "_options_labels": [
        "input",
        "conv1",
        "conv2",
        "pool1",
        "conv3",
        "conv4",
        "pool2",
        "flatten",
        "hidden1",
        "output"
       ],
       "description": "Layer:",
       "index": 9,
       "layout": "IPY_MODEL_636589ccb1fe49f4ab0aa1200bc7dd7c",
       "rows": 1,
       "style": "IPY_MODEL_9201774576814e1aab8b90fb594a51e7"
      }
     },
     "dc4e63e07f4c4729b5c0402ad7f727d2": {
      "model_module": "@jupyter-widgets/controls",
      "model_module_version": "1.1.0",
      "model_name": "DescriptionStyleModel",
      "state": {
       "description_width": ""
      }
     },
     "dc7ce268dc1441e093d14c5cdd09604c": {
      "model_module": "@jupyter-widgets/controls",
      "model_module_version": "1.1.0",
      "model_name": "FloatTextModel",
      "state": {
       "description": "Rightmost color maps to:",
       "layout": "IPY_MODEL_348c4c458ef148c196c07ba1eddcab89",
       "step": null,
       "style": "IPY_MODEL_ca3dd7ed038c4141af08d9c0e3e33a3c",
       "value": 1
      }
     },
     "dd2476ae2a92459dac2770c0eceb30df": {
      "model_module": "@jupyter-widgets/controls",
      "model_module_version": "1.1.0",
      "model_name": "DescriptionStyleModel",
      "state": {
       "description_width": "initial"
      }
     },
     "dd4fff49bbc840caacce509f29cda686": {
      "model_module": "@jupyter-widgets/base",
      "model_module_version": "1.0.0",
      "model_name": "LayoutModel",
      "state": {
       "width": "65%"
      }
     },
     "de5cb08578f54dfd8275d71a678e360e": {
      "model_module": "@jupyter-widgets/controls",
      "model_module_version": "1.1.0",
      "model_name": "VBoxModel",
      "state": {
       "children": [
        "IPY_MODEL_dc41f42d58774136b5143837b53b9ca9",
        "IPY_MODEL_bb13f681988c4c65b76c0f821395dd21",
        "IPY_MODEL_be80a9fdc33045928c1e268656153bfe",
        "IPY_MODEL_2b4274a52a61494b94b014b6e735672e",
        "IPY_MODEL_c12adf617442402391446d8f808f4e3d",
        "IPY_MODEL_fbfe62e83c274687aa46e80993b36fcf",
        "IPY_MODEL_3d35818bc11e4cb4ad1a4f9108ce8ccf",
        "IPY_MODEL_c6c6cc999ff0485a8fe47b37c373f13a"
       ],
       "layout": "IPY_MODEL_e2e82b5fb3154a16a2b3602a034d2c15"
      }
     },
     "deeead49eed045a98962192b94c64fc0": {
      "model_module": "@jupyter-widgets/controls",
      "model_module_version": "1.1.0",
      "model_name": "DescriptionStyleModel",
      "state": {
       "description_width": "initial"
      }
     },
     "df0e0ff28d2d4689913557674e8510b3": {
      "model_module": "@jupyter-widgets/controls",
      "model_module_version": "1.1.0",
      "model_name": "HBoxModel",
      "state": {
       "children": [
        "IPY_MODEL_2381ac09f1154265b41c0c02c6725e2f",
        "IPY_MODEL_2e8f1fad2ac94076a776be10c95634f8"
       ],
       "layout": "IPY_MODEL_762e10874a104f91839cd4d97e010fa2"
      }
     },
     "df26c67ae63948328f20bca836d36979": {
      "model_module": "@jupyter-widgets/base",
      "model_module_version": "1.0.0",
      "model_name": "LayoutModel",
      "state": {
       "width": "100%"
      }
     },
     "df5cd8db76ce4af7a21894de1097a6c1": {
      "model_module": "@jupyter-widgets/controls",
      "model_module_version": "1.1.0",
      "model_name": "ButtonModel",
      "state": {
       "icon": "backward",
       "layout": "IPY_MODEL_b8a651f88fe74fb1bbeafbc595ed582b",
       "style": "IPY_MODEL_31eacb74409e439697d662d50d088e4e"
      }
     },
     "dff7a7c152284832a6e069ab0aa17320": {
      "model_module": "@jupyter-widgets/base",
      "model_module_version": "1.0.0",
      "model_name": "LayoutModel",
      "state": {}
     },
     "e18e7418ee89485fb436ae989fdf6817": {
      "model_module": "@jupyter-widgets/controls",
      "model_module_version": "1.1.0",
      "model_name": "IntTextModel",
      "state": {
       "description": "Horizontal space between banks:",
       "layout": "IPY_MODEL_515027460a6945739f3e99304c879848",
       "step": 1,
       "style": "IPY_MODEL_b0328f10c9f74fba8cdd52d3bd80bea8",
       "value": 150
      }
     },
     "e19927f90cde406695f97fdd9a93ca97": {
      "model_module": "@jupyter-widgets/controls",
      "model_module_version": "1.1.0",
      "model_name": "IntTextModel",
      "state": {
       "description": "Horizontal space between banks:",
       "layout": "IPY_MODEL_b9425773890543ecaf2b3356808f12c3",
       "step": 1,
       "style": "IPY_MODEL_d1b645de630e48d39ea30bd50816e6d2",
       "value": 150
      }
     },
     "e1b2567dfad74ae192aa1046dd434286": {
      "model_module": "@jupyter-widgets/base",
      "model_module_version": "1.0.0",
      "model_name": "LayoutModel",
      "state": {
       "width": "100%"
      }
     },
     "e229a16a08664e55828179a32b6a4e56": {
      "model_module": "@jupyter-widgets/base",
      "model_module_version": "1.0.0",
      "model_name": "LayoutModel",
      "state": {
       "justify_content": "center",
       "overflow_x": "auto",
       "overflow_y": "auto",
       "width": "95%"
      }
     },
     "e249a99323e74a28abebf3bad6e98837": {
      "model_module": "@jupyter-widgets/controls",
      "model_module_version": "1.1.0",
      "model_name": "ButtonModel",
      "state": {
       "icon": "forward",
       "layout": "IPY_MODEL_5e8b42f6e75e4e638cba600cbc13ec5a",
       "style": "IPY_MODEL_1ff83de3083e410e97bcfd26980c75a9"
      }
     },
     "e2e82b5fb3154a16a2b3602a034d2c15": {
      "model_module": "@jupyter-widgets/base",
      "model_module_version": "1.0.0",
      "model_name": "LayoutModel",
      "state": {
       "width": "100%"
      }
     },
     "e39ddb3ca30649f4ae15bfd78f110c06": {
      "model_module": "@jupyter-widgets/controls",
      "model_module_version": "1.1.0",
      "model_name": "DescriptionStyleModel",
      "state": {
       "description_width": ""
      }
     },
     "e3ba9a21d8e649c2a7e6ce87a0d5347c": {
      "model_module": "@jupyter-widgets/controls",
      "model_module_version": "1.1.0",
      "model_name": "DescriptionStyleModel",
      "state": {
       "description_width": ""
      }
     },
     "e40bc826b85148f1a92c3373ef9c7ccd": {
      "model_module": "@jupyter-widgets/controls",
      "model_module_version": "1.1.0",
      "model_name": "CheckboxModel",
      "state": {
       "description": "Rotate",
       "disabled": false,
       "layout": "IPY_MODEL_515027460a6945739f3e99304c879848",
       "style": "IPY_MODEL_e39ddb3ca30649f4ae15bfd78f110c06",
       "value": true
      }
     },
     "e44633bff103476d8147cfafe9376cfb": {
      "model_module": "@jupyter-widgets/controls",
      "model_module_version": "1.1.0",
      "model_name": "DescriptionStyleModel",
      "state": {
       "description_width": ""
      }
     },
     "e452bf0818af48e2b200b9cc2c1081ae": {
      "model_module": "@jupyter-widgets/controls",
      "model_module_version": "1.1.0",
      "model_name": "DescriptionStyleModel",
      "state": {
       "description_width": "initial"
      }
     },
     "e457fbe6321544c5ba2fb11ca1d205ab": {
      "model_module": "@jupyter-widgets/controls",
      "model_module_version": "1.1.0",
      "model_name": "SelectModel",
      "state": {
       "_options_labels": [
        "",
        "input",
        "conv1",
        "conv2",
        "pool1",
        "conv3",
        "conv4",
        "pool2"
       ],
       "description": "Features:",
       "index": 2,
       "layout": "IPY_MODEL_dac1e98b06cb469399268abed733c370",
       "rows": 1,
       "style": "IPY_MODEL_511fdb57ebca470da53015ab4d00eb23"
      }
     },
     "e4c24ad27b844729bea3e89a01457be7": {
      "model_module": "@jupyter-widgets/base",
      "model_module_version": "1.0.0",
      "model_name": "LayoutModel",
      "state": {
       "width": "100%"
      }
     },
     "e52b1c8fa87a45a59340aae77ba38098": {
      "model_module": "@jupyter-widgets/controls",
      "model_module_version": "1.1.0",
      "model_name": "ButtonModel",
      "state": {
       "icon": "fast-forward",
       "layout": "IPY_MODEL_cb8fd98de18d41d297de86a0acef0d0f",
       "style": "IPY_MODEL_75028cf2c4a942319d0070a115e03b44"
      }
     },
     "e539dd54a5e94e3a8438d6af952e57f8": {
      "model_module": "@jupyter-widgets/base",
      "model_module_version": "1.0.0",
      "model_name": "LayoutModel",
      "state": {
       "width": "100%"
      }
     },
     "e78db9de153341e7ad5927c43e8ceed0": {
      "model_module": "@jupyter-widgets/controls",
      "model_module_version": "1.1.0",
      "model_name": "ButtonStyleModel",
      "state": {}
     },
     "e7c413ccd9b64a2ab3e43842f074a696": {
      "model_module": "@jupyter-widgets/controls",
      "model_module_version": "1.1.0",
      "model_name": "SelectModel",
      "state": {
       "_options_labels": [
        "Test",
        "Train"
       ],
       "description": "Dataset:",
       "index": 1,
       "layout": "IPY_MODEL_c56151d745bb4031a5ca1289f580a6e3",
       "rows": 1,
       "style": "IPY_MODEL_b1e9370d8d174c349a272e739a164b40"
      }
     },
     "e7f75afa0d084806b88e510da4477892": {
      "model_module": "@jupyter-widgets/controls",
      "model_module_version": "1.1.0",
      "model_name": "ButtonModel",
      "state": {
       "icon": "fast-backward",
       "layout": "IPY_MODEL_af24fcad8fb642a2a4ff77a6ae0af3b2",
       "style": "IPY_MODEL_367e01c9eb6546f09b1dc260ec52956a"
      }
     },
     "e83422475868481c92a5acaa2e79436f": {
      "model_module": "@jupyter-widgets/output",
      "model_module_version": "1.0.0",
      "model_name": "OutputModel",
      "state": {
       "layout": "IPY_MODEL_11e3da7b2c514d33b546b6dd3b24f7e0"
      }
     },
     "e8d15c03fa4d4b9f846754477a026e4e": {
      "model_module": "@jupyter-widgets/controls",
      "model_module_version": "1.1.0",
      "model_name": "ButtonModel",
      "state": {
       "icon": "save",
       "layout": "IPY_MODEL_b13618256d8740bb815e24a70253468d",
       "style": "IPY_MODEL_6b7c775d19fe4b78a140a9020b071687"
      }
     },
     "e944384a02124412911fb824965d0714": {
      "model_module": "@jupyter-widgets/controls",
      "model_module_version": "1.1.0",
      "model_name": "DescriptionStyleModel",
      "state": {
       "description_width": ""
      }
     },
     "ea53ea9a34c44ffa8612e5f17f035e82": {
      "model_module": "@jupyter-widgets/controls",
      "model_module_version": "1.1.0",
      "model_name": "DescriptionStyleModel",
      "state": {
       "description_width": "initial"
      }
     },
     "eaa4ca5275994bc38206f4a3a0061a20": {
      "model_module": "@jupyter-widgets/controls",
      "model_module_version": "1.1.0",
      "model_name": "DescriptionStyleModel",
      "state": {
       "description_width": "initial"
      }
     },
     "eacdec117db94cc5925ee6ca6e12a142": {
      "model_module": "@jupyter-widgets/controls",
      "model_module_version": "1.1.0",
      "model_name": "ButtonStyleModel",
      "state": {}
     },
     "eb5234c1ffda42cdbeb1f9f049674c9e": {
      "model_module": "@jupyter-widgets/base",
      "model_module_version": "1.0.0",
      "model_name": "LayoutModel",
      "state": {
       "width": "100%"
      }
     },
     "eb6b8addf5df4eca90a827e91e3f1a73": {
      "model_module": "@jupyter-widgets/controls",
      "model_module_version": "1.1.0",
      "model_name": "ButtonStyleModel",
      "state": {}
     },
     "ed59c74933224b9080768c875bf1b99a": {
      "model_module": "@jupyter-widgets/base",
      "model_module_version": "1.0.0",
      "model_name": "LayoutModel",
      "state": {
       "width": "52%"
      }
     },
     "eee3f9418e7440c2a1faee5ecac68ab0": {
      "model_module": "@jupyter-widgets/controls",
      "model_module_version": "1.1.0",
      "model_name": "SliderStyleModel",
      "state": {
       "description_width": "initial"
      }
     },
     "ef67eb96a6ef4764a2d4ee836b55605a": {
      "model_module": "@jupyter-widgets/base",
      "model_module_version": "1.0.0",
      "model_name": "LayoutModel",
      "state": {}
     },
     "efe490e07ac842c6b3eac9cfe6ef4a28": {
      "model_module": "@jupyter-widgets/controls",
      "model_module_version": "1.1.0",
      "model_name": "DescriptionStyleModel",
      "state": {
       "description_width": ""
      }
     },
     "f03683f0aec04338b81408da429a1cbb": {
      "model_module": "@jupyter-widgets/base",
      "model_module_version": "1.0.0",
      "model_name": "LayoutModel",
      "state": {
       "height": "50px",
       "width": "100%"
      }
     },
     "f1a4d99eb8cd4a7d88f9c288120871e1": {
      "model_module": "@jupyter-widgets/controls",
      "model_module_version": "1.1.0",
      "model_name": "SelectModel",
      "state": {
       "_options_labels": [
        "input",
        "conv1",
        "conv2",
        "pool1",
        "conv3",
        "conv4",
        "pool2",
        "flatten",
        "hidden1",
        "output"
       ],
       "description": "Layer:",
       "index": 9,
       "layout": "IPY_MODEL_dff7a7c152284832a6e069ab0aa17320",
       "rows": 1,
       "style": "IPY_MODEL_5ce176a863134a01a8c7658406d4013f"
      }
     },
     "f2f5e4226bda424aae44973cba9e6dd1": {
      "model_module": "@jupyter-widgets/controls",
      "model_module_version": "1.1.0",
      "model_name": "HTMLModel",
      "state": {
       "layout": "IPY_MODEL_0ef1f92d41b34775a2a2cfad637b1eee",
       "style": "IPY_MODEL_dc4e63e07f4c4729b5c0402ad7f727d2",
       "value": "<p style=\"text-align:center\"><svg id='CIRAR10' xmlns='http://www.w3.org/2000/svg' image-rendering=\"pixelated\" width=\"800.0px\" height=\"138.6138613861386px\">\n <g  transform=\"rotate(90) translate(0 -800.0)\" >\n  <svg viewBox=\"0 0 350 2020\" width=\"138.6138613861386px\" height=\"800.0px\">\n    <defs>\n        <marker id=\"arrow\" markerWidth=\"10\" markerHeight=\"10\" refX=\"9\" refY=\"3\" orient=\"auto\" markerUnits=\"strokeWidth\">\n          <path d=\"M0,0 L0,6 L9,3 z\" fill=\"black\" />\n        </marker>\n    </defs><rect x=\"74.0\" y=\"24\" width=\"202\" height=\"52\" style=\"fill:none;stroke:black;stroke-width:2\"/><image id=\"picture-dashboard-CIRAR10-674079_output-rotated_11\" class=\"picture-dashboard-CIRAR10-674079_output-rotated\" x=\"75.0\" y=\"25\" height=\"50\" width=\"200\" preserveAspectRatio=\"none\" href=\"data:image/gif;base64,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\"><title>Layer: output (output)\n output range: (0, 1)\n shape = (10,)\n Keras class = Dense\n activation = softmax</title></image><text x=\"288.0\" y=\"52.0\" font-family=\"monospace\" font-size=\"12\" text-anchor=\"middle\" fill=\"black\" alignment-baseline=\"central\"  transform=\"rotate(-90 288.0 52.0) translate(2)\" >output</text><line x1=\"175.0\" y1=\"104\" x2=\"175.0\" y2=\"77\" stroke=\"black\" stroke-width=\"2\" marker-end=\"url(#arrow)\"><title>Weights from hidden1 to output\n output/kernel:0 has shape (512, 10)\n output/bias:0 has shape (10,)</title></line><rect x=\"74.0\" y=\"104\" width=\"202\" height=\"202\" style=\"fill:none;stroke:black;stroke-width:2\"/><image id=\"picture-dashboard-CIRAR10-674079_hidden1-rotated_12\" class=\"picture-dashboard-CIRAR10-674079_hidden1-rotated\" x=\"75.0\" y=\"105\" height=\"200\" width=\"200\" preserveAspectRatio=\"none\" href=\"data:image/gif;base64,R0lGODdhEAAgAIcAAH8AAIwAAKcAAAAAAAAAAAAAAAAAAAAAAAAAAAAAAAAAAAAAAAAAAAAAAAAAAAAAAAAAAAAAAAAAAAAAAAAAAAAAAAAAAAAAAAAAAAAAAAAAAAAAAAAAAAAAAAAAAAAAAAAAAAAAAAAAAAAAAAAAAAAAAAAAAAAAAAAAAAAAAAAAAAAAAAAAAAAAAAAAAAAAAAAAAAAAAAAAAAAAAAAAAAAAAAAAAAAAAAAAAAAAAAAAAAAAAAAAAAAAAAAAAAAAAAAAAAAAAAAAAAAAAAAAAAAAAAAAAAAAAAAAAAAAAAAAAAAAAAAAAAAAAAAAAAAAAAAAAAAAAAAAAAAAAAAAAAAAAAAAAAAAAAAAAAAAAAAAAAAAAAAAAAAAAAAAAAAAAAAAAAAAAAAAAAAAAAAAAAAAAAAAAAAAAAAAAAAAAAAAAAAAAAAAAAAAAAAAAAAAAAAAAAAAAAAAAAAAAAAAAAAAAAAAAAAAAAAAAAAAAAAAAAAAAAAAAAAAAAAAAAAAAAAAAAAAAAAAAAAAAAAAAAAAAAAAAAAAAAAAAAAAAAAAAAAAAAAAAAAAAAAAAAAAAAAAAAAAAAAAAAAAAAAAAAAAAAAAAAAAAAAAAAAAAAAAAAAAAAAAAAAAAAAAAAAAAAAAAAAAAAAAAAAAAAAAAAAAAAAAAAAAAAAAAAAAAAAAAAAAAAAAAAAAAAAAAAAAAAAAAAAAAAAAAAAAAAAAAAAAAAAAAAAAAAAAAAAAAAAAAAAAAAAAAAAAAAAAAAAAAAAAAAAAAAAAAAAAAAAAAAAAAAAAAAAAAAAAAAAAAAAAAAAAAAAAAAAAAAAAAAAAAAAAAAAAAAAAAAAAAAAAAAAAAAAAAAAAAAAAAAAAAAAAAAAAAAAAAAAAAAAAAAAAAAAAAAAAAAAAAAAAAAAAAAAAAAAAAAAAAAAAAAAAAAAAAAAAAAAAAAAAAAAAAAAAAAAAAAAAAAAAAAAAAAAAAAAAAAAAAAAAAAAAAAAAAAAAAAAAAAAAAAAAAAAAAAAAACwAAAAAEAAgAEAI/wABBABAMIBBAAgDKAwAAEAAAAEABAAQAEAAAAACABAQAACAAAAEBAAAIACAkwACqAQAIIBLlwAABAAAIIDNAABy5gwAIIDPAAACAAgAIAAAAAECAFgaAEAAAAGiAgAQAIDVAAEAAAgAoGvXAAAABABAlmyAswEABAgAIEAAAAECAJgrAAAAAQECANgbAEAAAAEACAYQIACAAAAABADAOIBjAAEABJgMAEAAAAEABAAQAECAAAICiAZAWkCAAAACBAAQIACA1wECAAgQQACAAAACAAgQAACAAAICBAAgAIDx4wACAAjAHIBzAAEAAAgAoLr1AAACaA8AAIAAAAACBPQAQB5AAAAB0gcAECAAgPfvA8gPACAAAAAB8gPYD0BAAIAABAYAEABAAAAJAQQAACBAAAARIwYAEMAigAAAAgDgCCAAAJAAAgQAUNJkAAABAgAIEEBAAAAxZQagCSAAgAA5AwAAECAAAAABAAwlGgDAUQABAgAIIAAAgABRAUwFECAAgAAAAgQA0DVAAAABxAIQAABAgAAAAgQAEABAgAAAAgAIEABAAAABAAAIAABAgAAAAgAAEAAAgAAAFAMIEABAAACRAQQIAABAAAABAggA0DkAgAABAAAIACBAAAABAgAAEAAAgAAAAAQAEMA2gAAAAAQEADs=\"><title>Layer: hidden1 (hidden)\n output range: (0, +Infinity)\n shape = (512,)\n dropout = 0.5\n Keras class = Dense\n activation = relu</title></image><text x=\"288.0\" y=\"207.0\" font-family=\"monospace\" font-size=\"12\" text-anchor=\"middle\" fill=\"black\" alignment-baseline=\"central\"  transform=\"rotate(-90 288.0 207.0) translate(2)\" >hidden1</text><text x=\"62.0\" y=\"110\" font-family=\"monospace\" font-size=\"24.0\" text-anchor=\"middle\" fill=\"black\" alignment-baseline=\"central\"  transform=\"rotate(-90 62.0 110) translate(2)\" >&#10683;</text><line x1=\"175.0\" y1=\"334\" x2=\"175.0\" y2=\"307\" stroke=\"black\" stroke-width=\"2\" marker-end=\"url(#arrow)\"><title>Weights from flatten to hidden1\n hidden1/kernel:0 has shape (2304, 512)\n hidden1/bias:0 has shape (512,)</title></line><rect x=\"74.0\" y=\"334\" width=\"202\" height=\"52\" style=\"fill:none;stroke:black;stroke-width:2\"/><image id=\"picture-dashboard-CIRAR10-674079_flatten-rotated_13\" class=\"picture-dashboard-CIRAR10-674079_flatten-rotated\" x=\"75.0\" y=\"335\" height=\"50\" width=\"200\" preserveAspectRatio=\"none\" href=\"data:image/gif;base64,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\"><title>Layer: flatten (hidden)\n output range: (-Infinity, +Infinity)\n Keras class = Flatten</title></image><text x=\"288.0\" y=\"362.0\" font-family=\"monospace\" font-size=\"12\" text-anchor=\"middle\" fill=\"black\" alignment-baseline=\"central\"  transform=\"rotate(-90 288.0 362.0) translate(2)\" >flatten</text><line x1=\"175.0\" y1=\"414\" x2=\"175.0\" y2=\"387\" stroke=\"black\" stroke-width=\"2\" marker-end=\"url(#arrow)\"><title>Weights from pool2 to flatten</title></line><rect x=\"74.0\" y=\"414\" width=\"202\" height=\"202\" style=\"fill:none;stroke:black;stroke-width:2\"/><image id=\"picture-dashboard-CIRAR10-674079_pool2-rotated_14\" class=\"picture-dashboard-CIRAR10-674079_pool2-rotated\" x=\"75.0\" y=\"415\" height=\"200\" width=\"200\" preserveAspectRatio=\"none\" href=\"data:image/gif;base64,R0lGODdh9gD2AIcAAObm/9nZ/wAAAAAAAAAAAAAAAAAAAAAAAAAAAAAAAAAAAAAAAAAAAAAAAAAAAAAAAAAAAAAAAAAAAAAAAAAAAAAAAAAAAAAAAAAAAAAAAAAAAAAAAAAAAAAAAAAAAAAAAAAAAAAAAAAAAAAAAAAAAAAAAAAAAAAAAAAAAAAAAAAAAAAAAAAAAAAAAAAAAAAAAAAAAAAAAAAAAAAAAAAAAAAAAAAAAAAAAAAAAAAAAAAAAAAAAAAAAAAAAAAAAAAAAAAAAAAAAAAAAAAAAAAAAAAAAAAAAAAAAAAAAAAAAAAAAAAAAAAAAAAAAAAAAAAAAAAAAAAAAAAAAAAAAAAAAAAAAAAAAAAAAAAAAAAAAAAAAAAAAAAAAAAAAAAAAAAAAAAAAAAAAAAAAAAAAAAAAAAAAAAAAAAAAAAAAAAAAAAAAAAAAAAAAAAAAAAAAAAAAAAAAAAAAAAAAAAAAAAAAAAAAAAAAAAAAAAAAAAAAAAAAAAAAAAAAAAAAAAAAAAAAAAAAAAAAAAAAAAAAAAAAAAAAAAAAAAAAAAAAAAAAAAAAAAAAAAAAAAAAAAAAAAAAAAAAAAAAAAAAAAAAAAAAAAAAAAAAAAAAAAAAAAAAAAAAAAAAAAAAAAAAAAAAAAAAAAAAAAAAAAAAAAAAAAAAAAAAAAAAAAAAAAAAAAAAAAAAAAAAAAAAAAAAAAAAAAAAAAAAAAAAAAAAAAAAAAAAAAAAAAAAAAAAAAAAAAAAAAAAAAAAAAAAAAAAAAAAAAAAAAAAAAAAAAAAAAAAAAAAAAAAAAAAAAAAAAAAAAAAAAAAAAAAAAAAAAAAAAAAAAAAAAAAAAAAAAAAAAAAAAAAAAAAAAAAAAAAAAAAAAAAAAAAAAAAAAAAAAAAAAAAAAAAAAAAAAAAAAAAAAAAAAAAAAAAAAAAAAAAAAAAAAAAAAAAAAAAAAAAAAAAAAAAAAAAAAAAAAAAAAAAAAAAAAAAAAAAAAAAAAAAAAAAAAAAAAAAAAAAAAAAAAAAAAAAAAAACwAAAAA9gD2AEAI/wAFCBxIsKDBgwgTKlzIsKHDhxAjSpxIsSJEABgzatzIsaPHjAIEABhJsqTJkyhTkhQgAIDLlzBjypxJ86UAAQFy6tzJs6fPnzoFCABAtKjRo0iTKi0qQACAp1CjSp1KtSpUAQIAaN3KtavXr2C3ChAAoKzZs2jTql1rVoAAAHDjyp1Lt67duAIEBNjLt6/fv4AD8xUgAIDhw4gTK17M+LAAAQAiS55MubLly5IFCADAubPnz6BDi+4sQACA06hTq17NujVqAQIAyJ5Nu7bt27hnCxAQoLfv38CDCx/uW4AAAMiTK1/OvLnz5AIEAJhOvbr169izUxcgAID37+DDi/8fT/67AAEA0qtfz769+/fqBQgAQL++/fv48+uvL0BAAIABBA4kWNDgQYQCBQgA0NDhQ4gRJU50KEAAAIwZNW7k2NFjRgEhRY4kWdLkSZQpVa5k2dLlS5gxZc6kCRPATZw5de7k2ROnAAEAhA4lWtToUaRDBQgA0NTpU6hRpU51KkBAAKxZtW7l2tVrVgECAowlW9bsWbRpyQoQAMDtW7hx5c6l+1aAAAB59e7l29fvX70CBAAgXNjwYcSJFRcWIADAY8iRJU+mXBmyAAEBNG/m3NnzZ9CbBQgIUNr0adSpVa82LUAAANixZc+mXdt2bAECAOzm3dv3b+DBeQsQAMD/+HHkyZUvZ35cgAAA0aVPp17d+nXpAgQE4N7d+3fw4cV3FyAgwHn06dWvZ98evQABAOTPp1/f/n388wUIANDfP0AAAgcSLGjwYEEBAgAwbOjwIcSIEhsKEADgIsaMGjdy7IhRgIAAIkeSLGnyJMqRAgQEaOnyJcyYMme6FCAAAM6cOnfy7OkzpwABAIYSLWr0KNKkRAUIAOD0KdSoUqdSfSpAAICsWrdy7er1q1YBAgKQLWv2LNq0assKEBDgLdy4cufSrQtXgAAAevfy7ev3L+C9AgQAKGz4MOLEihcbFiAAAOTIkidTrmw5sgABADZz7uz5M+jQnAUICGD6NOrU/6pXsz4tQECA2LJn065t+7ZsAQIA8O7t+zfw4MJ7CxAA4Djy5MqXM2+OXIAAANKnU69u/Tr26QIEAOju/Tv48OLHexcgIAD69OrXs2/vPr0AAQHm069v/z7+/PQFCADgHyAAgQMJFjR4EKEAAQAYNnT4EGJEiQ0FCABwEWNGjRs5dsQoQAAAkSNJljR5EuVIAQICtHT5EmZMmTNdChAQAGdOnTt59vSZU4AAAEOJFjV6FGlSogIEAHD6FGpUqVOpPhUgAEBWrVu5dvX6VasAAQDIljV7Fm1atWUFCAjwFm5cuXPp1oUrQEAAvXv59vX7F/BeAQIAFDZ8GHFixYsNC/8QAAByZMmTKVe2HFmAAACbOXf2/Bl0aM4CBAAwfRp1atWrWZ8WICBAbNmzade2fVu2AAEBePf2/Rt4cOG9BQgAcBx5cuXLmTdHLkAAAOnTqVe3fh37dAECAHT3/h18ePHjvQsQAAB9evXr2bd3n16AgADz6de3fx9/fvoCBATwDzCAwIEECxo8iFCAAAAMGzp8CDGixIYCBAC4iDGjxo0cO2IUIACAyJEkS5o8iXKkAAEAWrp8CTOmzJkuBQgIgDOnzp08e/rMKUBAgKFEixo9ijQpUQECADh9CjWq1KlUnwoQACCr1q1cu3r9qlWAAABky5o9izat2rICBAB4Czf/rty5dOvCFSAggN69fPv6/Qt4rwABAQobPow4seLFhgUIAAA5suTJlCtbjixAAIDNnDt7/gw6NGcBAgCYPo06terVrE8LEAAgtuzZtGvbvi1bgIAAvHv7/g08uPDeAgQEOI48ufLlzJsjFyAAgPTp1Ktbv459ugABALp7/w4+vPjx3gUIAIA+vfr17Nu7Ty9AAID59Ovbv48/P30BAgL4BxhA4ECCBQ0eRChAQACGDR0+hBhRYkMBAgBcxJhR40aOHTEKEABA5EiSJU2eRDlSgAAALV2+hBlT5kyXAgQAwJlT506ePX3mFCAgwFCiRY0eRZqUqAABAZw+hRpV6lSq/08FCACQVetWrl29ftUqQAAAsmXNnkWbVm1ZAQIAvIUbV+5cunXhChAAQO9evn39/gW8V4CAAIUNH0acWPFiwwIEBIAcWfJkypUtRxYgAMBmzp09fwYdmrMAAQBMn0adWvVq1qcFCAAQW/Zs2rVt35YtQAAA3r19/wYeXHhvAQICHEeeXPly5s2RCxAQQPp06tWtX8c+XYAAAN29fwcfXvx47wIEAECfXv169u3dpxcgAMB8+vXt38efn74AAQD8AwQgcCDBggYPIhQgIADDhg4fQowosaEAAQEuYsyocSPHjhgFCAAgciTJkiZPohwpQACAli5fwowpc6ZLAQIA4P/MqXMnz54+cwoQAGAo0aJGjyJNSlSAgABOn0KNKnUq1acCBATIqnUr165ev2oVIAAA2bJmz6JNq7asAAEA3sKNK3cu3bpwBQgAoHcv375+/wLeK0AAgMKGDyNOrHixYQECAECOLHky5cqWIwsQAGAz586eP4MOzVmAAACmT6NOrXo169MCBACILXs27dq2b8sWIAAA796+fwMPLry3AAEAjiNPrnw58+bIBQgAIH069erWr2OfLkAAgO7ev4MPL368dwECAKBPr349+/bu0wsQAGA+/fr27+PPT1+AAAD+AQIQOJBgQYMHEQoQAIBhQ4cPIUaU2FCAAAAXMWbUuJH/Y0eMAgQAEDmSZEmTJ1GOFCAAQEuXL2HGlDnTpQABAHDm1LmTZ0+fOQUIADCUaFGjR5EmJSpAAACnT6FGlTqV6lMBAgBk1bqVa1evX7UKEACAbFmzZ9GmVVtWgAAAb+HGlTuXbl24AgQA0LuXb1+/fwHvFSAAQGHDhxEnVrzYsAABACBHljyZcmXLkQUIALCZc2fPn0GH5ixAAADTp1GnVr2a9WkBAgDElj2bdm3bt2ULEACAd2/fv4EHF95bgAAAx5EnV76ceXPkAgQAkD6denXr17FPFyAgQHfv38GHFz/euwABANCnV7+efXv36QUIADCffn379/Hnpy9AAAD//wABCBxIsKDBgwgFCADAsKHDhxAjSmwoQACAixgzatzIsSNGAQICiBxJsqTJkyhHChAAoKXLlzBjypzpUoAAADhz6tzJs6fPnAIEABhKtKjRo0iTEhUgAIDTp1CjSp1K9akAAQCyat3KtavXr1oFCAhAtqzZs2jTqi0rQACAt3Djyp1Lty5cAQIA6N3Lt6/fv4D3ChAAoLDhw4gTK15sWIAAAJAjS55MubLlyAIEANjMubPnz6BDcxYgIIDp06hTq17N+rQAAQBiy55Nu7bt27IFCADAu7fv38CDC+8tQACA48iTK1/OvDlyAQIASJ9Ovbr169inCxAAoLv37+DDi/8f712AgADo06tfz769+/QCBACYT7++/fv489MXIACAf4AABA4kWNDgQYQCBABg2NDhQ4gRJTYUIADARYwZNW7k2BGjAAEARI4kWdLkSZQjBQgI0NLlS5gxZc50KUBAAJw5de7k2dNnTgECAAwlWtToUaRJiQoQAMDpU6hRpU6l+lSAAABZtW7l2tXrV60CBAAgW9bsWbRp1ZYVICDAW7hx5c6lWxeuAAEB9O7l29fvX8B7BQgAUNjwYcSJFS82LEAAAMiRJU+mXNlyZAECAGzm3NnzZ9ChOQsQAMD0adSpVa9mfVqAgACxZc+mXdv2bdkCBATg3dv3b+DBhfcWIAD/wHHkyZUvZ94cuQABAKRPp17d+nXs0wUIANDd+3fw4cWP9y5AAAD06dWvZ9/efXoBAgLMp1/f/n38+ekLEBDAP8AAAgcSLGjwIEIBAgAwbOjwIcSIEhsKEADgIsaMGjdy7IhRgAAAIkeSLGnyJMqRAgQAaOnyJcyYMme6FCAgAM6cOnfy7OkzpwABAYYSLWr0KNKkRAUIAOD0KdSoUqdSfSpAAICsWrdy7er1q1YBAgCQLWv2LNq0assKEADgLdy4cufSrQtXgIAAevfy7ev3L+C9AgQEKGz4MOLEihcbFiAAAOTIkidTrmw5sgABADZz7uz5M+jQnAUIAGD6NOrU/6pXsz4tQACA2LJn065t+7ZsAQIC8O7t+zfw4MJ7CxAQ4Djy5MqXM2+OXIAAANKnU69u/Tr26QIEAOju/Tv48OLHexcgAAD69OrXs2/vPr0AAQDm069v/z7+/PQFCAjgH2AAgQMJFjR4EKEAAQEYNnT4EGJEiQ0FCABwEWNGjRs5dsQoQAAAkSNJljR5EuVIAQIAtHT5EmZMmTNdChAAAGdOnTt59vSZU4CAAEOJFjV6FGlSogIEBHD6FGpUqVOpPhUgAEBWrVu5dvX6VasAAQDIljV7Fm1atWUFCADwFm5cuXPp1oUrQAAAvXv59vX7F/BeAQICFDZ8GHFixYsNC/8QEAByZMmTKVe2HFmAAACbOXf2/Bl0aM4CBAAwfRp1atWrWZ8WIABAbNmzade2fVu2AAEAePf2/Rt4cOG9BQgIcBx5cuXLmTdHLkBAAOnTqVe3fh37dAECAHT3/h18ePHjvQsQAAB9evXr2bd3n16AAADz6de3fx9/fvoCBADwDxCAwIEECxo8iFCAgAAMGzp8CDGixIYCBAS4iDGjxo0cO2IUIACAyJEkS5o8iXKkAAEAWrp8CTOmzJkuBQgAgDOnzp08e/rMKUAAgKFEixo9ijQpUQECAjh9CjWq1KlUnwoQECCr1q1cu3r9qlWAAABky5o9izat2rICBAB4Czf/rty5dOvCFSAAgN69fPv6/Qt4rwABAAobPow4seLFhgUICAA5suTJlCtbjixAQIDNnDt7/gw6NGcBAgCYPo06terVrE8LEAAgtuzZtGvbvi1bgAAAvHv7/g08uPDeAgQAOI48ufLlzJsjFyAggPTp1Ktbv459ugABAbp7/w4+vPjx3gUIAIA+vfr17Nu7Ty8gvvz59Ovbv48/v/79/Pv7ByhA4ECCBQ0eRJhQ4UKGDR0+RAhA4kSKFS1exDhRgAAAHT1+BBlS5EiPAgQAQJlS5UqWLV2mFCAgwEyaNW3exJmTpgABAXz+BBpU6FCiPwUIAJBU6VKmTZ0+VSpAAACq/1WtXsWaVWtVAQIAfAUbVuxYsmXBChAAQO1atm3dvoW7VoCAAHXt3sWbV+9euwIEBAAcWPBgwoUNBxYgAMBixo0dP4YcmbEAAQAsX8acWfNmzpcFCAAQWvRo0qVNnxYtQAAA1q1dv4YdW3ZrAQIC3MadW/du3r1xCxAQQPhw4sWNH0c+XIAAAM2dP4ceXfp05wIEAMCeXft27t29ZxcgAMB48uXNn0efnrwAAQDcv4cfX/58+u8FCAiQX/9+/v39AwwgcCDBAAIEBEiocCHDhg4fKhQgAADFihYvYsyosaKAjh4/ggwpciTJkiZPokypciXLli5fwmQJYCbNmjZv4v/MSVOAAAA+fwINKnQo0Z8CBABIqnQp06ZOnyoVIAAA1apWr2LNqrWqAAEAvoINK3Ys2bJgBQgAoHYt27Zu38JdK0AAgLp27+LNq3evXQECAAAOLHgw4cKGAwsQAGAx48aOH0OOzFiAAACWL2POrHkz58sCBAAILXo06dKmT4sWIAAA69auX8OOLbu1AAEAbuPOrXs37964BQgAIHw48eLGjyMfLkAAgObOn0OPLn26cwECAGDPrn079+7eswsQAGA8+fLmz6NPT16AAADu38OPL38+/fcCBADIr38///7+AQIQOJAgAAECACRUuJBhQ4cPFQoQAIBiRYsXMWbUWFH/gAAAH0GGFDmSZEmQAgQAULmSZUuXL2GuFCAAQE2bN3Hm1LnTpgABAIAGFTqUaFGjQQUIALCUaVOnT6FGZSpAAACrV7Fm1bqV61UBAgCEFTuWbFmzZ8UKEACAbVu3b+HGldtWgAAAd/Hm1buXb1+8AgQAEDyYcGHDhxEPFiAAQGPHjyFHljzZsQABADBn1ryZc2fPmQUICDCadGnTp1GnJi1AAADXr2HHlj2b9msBAgDk1r2bd2/fv3ULEACAeHHjx5EnV15cgAAAz6FHlz6denXoAgQA0L6de3fv38FvFyAgQHnz59GnV7/evAABAODHlz+ffn378QUIALCff3///wABCBxIsKDBgQIEAFjIsKHDhxAjMhQgAIDFixgzatzI8aIAAQBCihxJsqTJkyIFCAjAsqXLlzBjymwpQACAmzhz6tzJsydOAQIACB1KtKjRo0iHChAAoKnTp1CjSp3qVIAAAFizat3KtavXrAIEABhLtqzZs2jTkhUgIIDbt3Djyp1L960AAQDy6t3Lt6/fv3oFCABAuLDhw4gTKy4sQACAx5AjS55MuTJkAQIAaN7MubPnz6A3CxAAoLTp06hTq15tWoCAALBjy55Nu7bt2AIEANjNu7fv38CD8xYgAIDx48iTK1/O/LgAAQCiS59Ovbr169IFCADAvbv37+DDi//vLkAAgPPo06tfz749egECAsifT7++/fv45wsQAKC/f4AABA4kWNDgwYICBABg2NDhQ4gRJTYUIADARYwZNW7k2BGjAAEARI4kWdLkSZQjBQgA0NLlS5gxZc50KUBAAJw5de7k2dNnTgECAAwlWtToUaRJiQoQAMDpU6hRpU6l+lSAAABZtW7l2tXrV60CBAAgW9bsWbRp1ZYVIADAW7hx5c6lWxeuAAEB9O7l29fvX8B7BQgAUNjwYcSJFS82LEAAAMiRJU+mXNlyZAECAGzm3NnzZ9ChOQsQAMD0adSpVa9mfVqAAACxZc+mXdv2bdkCBATg3dv3b+DBhfcWIAD/wHHkyZUvZ94cuQABAKRPp17d+nXs0wUIANDd+3fw4cWP9y5AAAD06dWvZ9/efXoBAgDMp1/f/n38+ekLEBDAP8AAAgcSLGjwIEIBAgAwbOjwIcSIEhsKEADgIsaMGjdy7IhRgAAAIkeSLGnyJMqRAgQAaOnyJcyYMme6FCAAAM6cOnfy7OkzpwABAYYSLWr0KNKkRAUICOD0KdSoUqdSfSpAAICsWrdy7er1q1YBAgCQLWv2LNq0assKEADgLdy4cufSrQtXgAAAevfy7ev3L+C9AgQEKGz4MOLEihcbFiAgAOTIkidTrmw5sgABADZz7uz5M+jQnAUIAGD6NOrU/6pXsz4tQACA2LJn065t+7ZsAQIA8O7t+zfw4MJ7CxAQ4Djy5MqXM2+OXICAANKnU69u/Tr26QIEAOju/Tv48OLHexcgAAD69OrXs2/vPr0AAQDm069v/z7+/PQFCADgHyAAgQMJFjR4EKEAAQEYNnT4EGJEiQ0FCAhwEWNGjRs5dsQoQAAAkSNJljR5EuVIAQIAtHT5EmZMmTNdChAAAGdOnTt59vSZU4AAAEOJFjV6FGlSogIEBHD6FGpUqVOpPhUgIEBWrVu5dvX6VasAAQDIljV7Fm1atWUFCADwFm5cuXPp1oUrQAAAvXv59vX7F/BeAQIAFDZ8GHFixYsNC/8QEAByZMmTKVe2HFmAgACbOXf2/Bl0aM4CBAAwfRp1atWrWZ8WIABAbNmzade2fVu2AAEAePf2/Rt4cOG9BQgAcBx5cuXLmTdHLkBAAOnTqVe3fh37dAECAnT3/h18ePHjvQsQAAB9evXr2bd3n16AAADz6de3fx9/fvoCBADwDxCAwIEECxo8iFCAAAAMGzp8CDGixIYCBAS4iDGjxo0cO2IUICCAyJEkS5o8iXKkAAEAWrp8CTOmzJkuBQgAgDOnzp08e/rMKUAAgKFEixo9ijQpUQECADh9CjWq1KlUnwoQECCr1q1cu3r9qlWAgABky5o9izat2rICBAB4Czf/rty5dOvCFSAAgN69fPv6/Qt4rwABAAobPow4seLFhgUIAAA5suTJlCtbjixAQIDNnDt7/gw6NGcBAgKYPo06terVrE8LEAAgtuzZtGvbvi1bgO7dvHv7/g08uPDhxIsbP448ufLlzJsnBwA9uvTp1Ktbjy5AAIDt3Lt7/w4+PHcBAgCYP48+vfr17M8LEBAgvvz59Ovbvy9fgIAA/Pv7BxhA4ECCBQ0eDCBAAACGDR0+hBhRYkMBAgBcxJhR40aOHTEKEABA5EiSJU2eRDlSgAAALV2+hBlT5kyXAgQEwJlT506ePX3mFCAgwFCiRY0eRZqUqAABAJw+hRpV6lSq/08FCACQVetWrl29ftUqQAAAsmXNnkWbVm1ZAQIAvIUbV+5cunXhChAQQO9evn39/gW8V4CAAIUNH0acWPFiwwIEAIAcWfJkypUtRxYgAMBmzp09fwYdmrMAAQBMn0adWvVq1qcFCAAQW/Zs2rVt35YtQEAA3r19/wYeXHhvAQICHEeeXPly5s2RCxAAQPp06tWtX8c+XYAAAN29fwcfXvx47wIEAECfXv169u3dpxcgAMB8+vXt38efn74AAQH8AwwgcCDBggYPIhQgIADDhg4fQowosaEAAQAuYsyocSPHjhgFCAAgciTJkiZPohwpQACAli5fwowpc6ZLAQIA4P/MqXMnz54+cwoQEGAo0aJGjyJNSlSAgABOn0KNKnUq1acCBADIqnUr165ev2oVIAAA2bJmz6JNq7asAAEA3sKNK3cu3bpwBQgAoHcv375+/wLeK0BAgMKGDyNOrHixYQECAkCOLHky5cqWIwsQAGAz586eP4MOzVmAAACmT6NOrXo169MCBACILXs27dq2b8sWIAAA796+fwMPLry3AAEBjiNPrnw58+bIBQgIIH069erWr2OfLkAAgO7ev4MPL368dwECAKBPr349+/bu0wsQAGA+/fr27+PPT1+AAAD+AQIQOJBgQYMHEQoQEIBhQ4cPIUaU2FCAgAAXMWbUuJH/Y0eMAgQAEDmSZEmTJ1GOFLCSZUuXL2HGlDmTZk2bN3Hm1LmTZ0+fOgEEFTqUaFGjR4UKEACAaVOnT6FGldpUgAAAV7Fm1bqVa1esAgQEEDuWbFmzZ9GOFSAgQFu3b+HGlTvXrQABAPDm1buXb1+/eQUIADCYcGHDhxEnJixAAADHjyFHljyZ8mMBAgBk1ryZc2fPnzULEBCAdGnTp1GnVl1agIAAr2HHlj2bdm3YAgQA0L2bd2/fv4HvFiAAQHHjx5EnV77cuAABAKBHlz6denXr0QUIALCde3fv38GH5y5AQADz59GnV7+e/XkBAgLElz+ffn379+ULEACAf3///wABCBxIsKDBgwAECADAsKHDhxAjSmwoQACAixgzatzIsSNGAQIAiBxJsqTJkyhHChAQoKXLlzBjypzpUoCAADhz6tzJs6fPnAIEABhKtKjRo0iTEhUgAIDTp1CjSp1K9akAAQCyat3KtavXr1oFCABAtqzZs2jTqi0rQECAt3Djyp1Lty5cAQIC6N3Lt6/fv4D3ChAAoLDhw4gTK15sWIAAAJAjS55MubLlyAIEANjMubPnz6BDcxYgAIDp06hTq17N+rQAAQFiy55Nu7bt27IFCAjAu7fv38CDC+8tQACA48iTK1/OvDlyAQIASJ9Ovbr169inCxAAoLv37+DDi/8f712AAADo06tfz769+/QCBASYT7++/fv489MXICCAf4ABBA4kWNDgQYQCBABg2NDhQ4gRJTYUIADARYwZNW7k2BGjAAEARI4kWdLkSZQjBQgA0NLlS5gxZc50KUBAAJw5de7k2dNnTgECAgwlWtToUaRJiQoQAMDpU6hRpU6l+lSAAABZtW7l2tXrV60CBAAgW9bsWbRp1ZYVIADAW7hx5c6lWxeuAAEB9O7l29fvX8B7BQgIUNjwYcSJFS82LEAAAMiRJU+mXNlyZAECAGzm3NnzZ9ChOQsQAMD0adSpVa9mfVqAAACxZc+mXdv2bdkCBATg3dv3b+DBhfcWICD/wHHkyZUvZ94cuQABAKRPp17d+nXs0wUIANDd+3fw4cWP9y5AAAD06dWvZ9/efXoBAgDMp1/f/n38+ekLEBDAP8AAAgcSLGjwIEIBAgIwbOjwIcSIEhsKEADgIsaMGjdy7IhRgAAAIkeSLGnyJMqRAgQAaOnyJcyYMme6FCAAAM6cOnfy7OkzpwABAYYSLWr0KNKkRAUICOD0KdSoUqdSfSpAAICsWrdy7er1q1YBAgCQLWv2LNq0assKEADgLdy4cufSrQtXgAAAevfy7ev3L+C9AgQEKGz4MOLEihcbFiAgAOTIkidTrmw5sgABADZz7uz5M+jQnAUIAGD6NOrU/6pXsz4tQACA2LJn065t+7ZsAQIA8O7t+zfw4MJ7CxAQ4Djy5MqXM2+OXICAANKnU69u/Tr26QIEAOju/Tv48OLHexcgAAD69OrXs2/vPr0AAQDm069v/z7+/PQFCADgHyAAgQMJFjR4EKEAAQEYNnT4EGJEiQ0FCAhwEWNGjRs5dsQoQAAAkSNJljR5EuVIAQIAtHT5EmZMmTNdChAAAGdOnTt59vSZU4AAAEOJFjV6FGlSogIEBHD6FGpUqVOpPhUgIEBWrVu5dvX6VasAAQDIljV7Fm1atWUFCADwFm5cuXPp1oUrQAAAvXv59vX7F/BeAQIAFDZ8GHFixYsNC/8QEAByZMmTKVe2HFmAgACbOXf2/Bl0aM4CBAAwfRp1atWrWZ8WIABAbNmzade2fVu2AAEAePf2/Rt4cOG9BQgAcBx5cuXLmTdHLkBAAOnTqVe3fh37dAECAnT3/h18ePHjvQsQAAB9evXr2bd3n16AAADz6de3fx9/fvoCBADwDxCAwIEECxo8iFCAAAAMGzp8CDGixIYCBAS4iDGjxo0cO2IUICCAyJEkS5o8iXKkAAEAWrp8CTOmzJkuBQgAgDOnzp08e/rMKUAAgKFEixo9ijQpUQECADh9CjWq1KlUnwoQECCr1q1cu3r9qlWAgABky5o9izat2rICBAB4Czf/rty5dOvCFSAAgN69fPv6/Qt4rwABAAobPow4seLFhgUIAAA5suTJlCtbjixAAIDNnDt7/gw6NGcBAgCYPo06terVrE8LEAAgtuzZtGvbvi1bgAAAvHv7/g08uPDeAgQAOI48ufLlzJsjFyAAgPTp1Ktbv459ugABALp7/w4+vPjx3gUIAIA+vfr17Nu7Ty9AAID59Ovbv48/P30BAgD4BwhA4ECCBQ0eRChAAACGDR0+hBhRYkMBAgBcxJhR40aOHTEKEABA5EiSJU2eRDlSgAAALV2+hBlT5kyXAgQAwJlT506ePX3mFCAAwFCiRY0eRZqUqAABAJw+hRpV6lSq/08FCACQVetWrl29ftUqQAAAsmXNnkWbVm1ZAQIAvIUbV+5cunXhChAAQO9evn39/gW8V4AAAIUNH0acWPFiwwIEAIAcWfJkypUtRxYgAMBmzp09fwYdmrMAAQBMn0adWvVq1qcFCAAQW/Zs2rVt35YtQAAA3r19/wYeXHhvAQIAHEeeXPly5s2RCxAAQPp06tWtX8c+XYAAAN29fwcfXvx47wIEAECfXv169u3dpxcgAMB8+vXt38efn74AAQD8AwQgcCDBggYPIhQgAADDhg4fQowosaEAAQAuYsyocSPHjhgFCAAgciTJkiZPohwpQACAli5fwowpc6ZLAQIA4P/MqXMnz54+cwoQAGAo0aJGjyJNSlSAAABOn0KNKnUq1acCBADIqnUr165ev2oVIAAA2bJmz6JNq7asAAEA3sKNK3cu3bpwBQgAoHcv375+/wLeK0AAgMKGDyNOrHixYQECAECOLHky5cqWIwsQAGAz586eP4MOzVmAAACmT6NOrXo169MCBACILXs27dq2b8sWIAAA796+fwMPLry3AAEAjiNPrnw58+bIBQgAIH069erWr2OfLkAAgO7ev4MPL368dwECAKBPr349+/bu0wsQAGA+/fr27+PPT1+AAAD+AQIQOJBgQYMHEQoQAIBhQ4cPIUaU2FCAAAAXMWbUuJH/Y0eMAgQAEDmSZEmTJ1GOFCAAQEuXL2HGlDnTpQABAXDm1LmTZ0+fOQUIADCUaFGjR5EmJSpAAACnT6FGlTqV6lMBAgBk1bqVa1evX7UKEACAbFmzZ9GmVVtWgAAAb+HGlTuXbl24AgQE0LuXb1+/fwHvFSAAQGHDhxEnVrzYsAABACBHljyZcmXLkQUIALCZc2fPn0GH5ixAAADTp1GnVr2a9WkBAgDElj2bdm3bt2ULEBCAd2/fv4EHF95bgAAAx5EnV76ceXPkAgQAkD6denXr17FPFyAAQHfv38GHFz/euwABANCnV7+efXv36QUIADCffn379/Hnpy9AQAD//wADCBxIsKDBgwgFCADAsKHDhxAjSmwoQACAixgzatzIsSNGAQIAiBxJsqTJkyhHChAAoKXLlzBjypzpUoAAADhz6tzJs6fPnAIEBBhKtKjRo0iTEhUgAIDTp1CjSp1K9akAAQCyat3KtavXr1oFCABAtqzZs2jTqi0rQACAt3Djyp1Lty5cAQIA6N3Lt6/fv4D3ChAQoLDhw4gTK15sWIAAAJAjS55MubLlyAIEANjMubPnz6BDcxYgAIDp06hTq17N+rQAAQBiy55Nu7bt27IFCADAu7fv38CDC+8tQECA48iTK1/OvDlyAQIASJ9Ovbr169inCxAAoLv37+DDi/8f712AAADo06tfz769+/QCBACYT7++/fv489MXIACAf4AABA4kWNDgQYQCBARg2NDhQ4gRJTYUIADARYwZNW7k2BGjAAEARI4kWdLkSZQjBQgA0NLlS5gxZc50KUAAAJw5de7k2dNnTgECAAwlWtToUaRJiQoQEMDpU6hRpU6l+lSAAABZtW7l2tXrV60CBAAgW9bsWbRp1ZYVIADAW7hx5c6lWxeuAAEA9O7l29fvX8B7BQgAUNjwYcSJFS82LEBAAMiRJU+mXNlyZAECAGzm3NnzZ9ChOQsQAMD0adSpVa9mfVqAAACxZc+mXdv2bdkCBADg3dv3b+DBhfcWIAD/wHHkyZUvZ94cuQABAaRPp17d+nXs0wUIANDd+3fw4cWP9y5AAAD06dWvZ9/efXoBAgDMp1/f/n38+ekLEADAP0AAAgcSLGjwIEIBAgAwbOjwIcSIEhsKEBDgIsaMGjdy7IhRgAAAIkeSLGnyJMqRAgQAaOnyJcyYMme6FCAAAM6cOnfy7OkzpwABAIYSLWr0KNKkRAUIAOD0KdSoUqdSfSpAQICsWrdy7er1q1YBAgCQLWv2LNq0assKEADgLdy4cufSrQtXgAAAevfy7ev3L+C9AgQAKGz4MOLEihcbFiAAAOTIkidTrmw5sgABATZz7uz5M+jQnAUIAGD6NOrU/6pXsz4tQACA2LJn065t+7ZsAQIA8O7t+zfw4MJ7CxAA4Djy5MqXM2+OXIAAANKnU69u/Tr26QIEBOju/Tv48OLHexcgAAD69OrXs2/vPr0AAQDm069v/z7+/PQFCADgHyAAgQMJFjR4EKEAAQAYNnT4EGJEiQ0FCABwEWNGjRs5dsQoQEAAkSNJljR5EuVIAQIAtHT5EmZMmTNdChAAAGdOnTt59vSZU4AAAEOJFjV6FGlSogIEAHD6FGpUqVOpPhUgAEBWrVu5dvX6VasAAQHIljV7Fm1atWUFCADwFm5cuXPp1oUrQAAAvXv59vX7F/BeAQIAFDZ8GHFixYsNC/8QAAByZMmTKVe2HFmAAACbOXf2/Bl0aM4CBAQwfRp1atWrWZ8WIABAbNmzade2fVu2AAEAePf2/Rt4cOG9BQgAcBx5cuXLmTdHLkAAAOnTqVe3fh37dAECAHT3/h18ePHjvQsQEAB9evXr2bd3n16AAADz6de3fx9/fvoCBADwDxCAwIEECxo8iFCAAAAMGzp8CDGixIYCBAC4iDGjxo0cO2IUIACAyJEkS5o8iXKkAAEBWrp8CTOmzJkuBQgAgDOnzp08e/rMKUAAgKFEixo9ijQpUQFMmzp9CjWq1KlUq1q9ijWr1q1cu3r9uhWA2LFky5o9i3asAAEA2rp9Czf/rty5bgUIAIA3r969fPv6zStAQIDBhAsbPow4MWEBAgI4fgw5suTJlB8LEAAgs+bNnDt7/qxZgAAApEubPo06terSAgQAeA07tuzZtGvDFiAAgO7dvHv7/g18twABAYobP448ufLlxgUICAA9uvTp1Ktbjy5AAIDt3Lt7/w4+PHcBAgCYP48+vfr17M8LEAAgvvz59Ovbvy9fgAAA/Pv7BwhA4ECCBQ0eBCBAQACGDR0+hBhRYkMBAgJcxJhR40aOHTEKEABA5EiSJU2eRDlSgAAALV2+hBlT5kyXAgQAwJlT506ePX3mFCAAwFCiRY0eRZqUqAABAZw+hRpV6lSq/08FCAiQVetWrl29ftUqQAAAsmXNnkWbVm1ZAQIAvIUbV+5cunXhChAAQO9evn39/gW8V4AAAIUNH0acWPFiwwIEBIAcWfJkypUtRxYgIMBmzp09fwYdmrMAAQBMn0adWvVq1qcFCAAQW/Zs2rVt35YtQAAA3r19/wYeXHhvAQIAHEeeXPly5s2RCxAQQPp06tWtX8c+XYCAAN29fwcfXvx47wIEAECfXv169u3dpxcgAMB8+vXt38efn74AAQD8AwQgcCDBggYPIhQgAADDhg4fQowosaEAAQEuYsyocSPHjhgFCAggciTJkiZPohwpQACAli5fwowpc6ZLAQIA4P/MqXMnz54+cwoQAGAo0aJGjyJNSlSAAABOn0KNKnUq1acCBATIqnUr165ev2oVICAA2bJmz6JNq7asAAEA3sKNK3cu3bpwBQgAoHcv375+/wLeK0AAgMKGDyNOrHixYQECAECOLHky5cqWIwsQEGAz586eP4MOzVmAgACmT6NOrXo169MCBACILXs27dq2b8sWIAAA796+fwMPLry3AAEAjiNPrnw58+bIBQgAIH069erWr2OfLkBAgO7ev4MPL368dwECAqBPr349+/bu0wsQAGA+/fr27+PPT1+AAAD+AQIQOJBgQYMHEQoQAIBhQ4cPIUaU2FCAAAAXMWbUuJH/Y0eMAgQEEDmSZEmTJ1GOFCAgQEuXL2HGlDnTpQABAHDm1LmTZ0+fOQUIADCUaFGjR5EmJSpAAACnT6FGlTqV6lMBAgBk1bqVa1evX7UKEBCAbFmzZ9GmVVtWgIAAb+HGlTuXbl24AgQA0LuXb1+/fwHvFSAAQGHDhxEnVrzYsAABACBHljyZcmXLkQUIALCZc2fPn0GH5ixAQADTp1GnVr2a9WkBAgLElj2bdm3bt2ULEACAd2/fv4EHF95bgAAAx5EnV76ceXPkAgQAkD6denXr17FPFyAAQHfv38GHFz/euwABAdCnV7+efXv36QUICDCffn379/Hnpy9AAAD//wABCBxIsKDBgwgFCADAsKHDhxAjSmwoQACAixgzatzIsSNGAQIAiBxJsqTJkyhHChAQoKXLlzBjypzpUoCAADhz6tzJs6fPnAIEABhKtKjRo0iTEhUgAIDTp1CjSp1K9akAAQCyat3KtavXr1oFCABAtqzZs2jTqi0rQECAt3Djyp1Lty5cAQIC6N3Lt6/fv4D3ChAAoLDhw4gTK15sWIAAAJAjS55MubLlyAIEANjMubPnz6BDcxYgAIDp06hTq17N+rQAAQFiy55Nu7bt27IFCAjAu7fv38CDC+8tQACA48iTK1/OvDlyAQIASJ9Ovbr169inCxAAoLv37+DDi/8f712AAADo06tfz769+/QCBASYT7++/fv489MXICCAf4ABBA4kWNDgQYQCBABg2NDhQ4gRJTYUIADARYwZNW7k2BGjAAEARI4kWdLkSZQjBQgA0NLlS5gxZc50KUBAAJw5de7k2dNnTgECAgwlWtToUaRJiQoQAMDpU6hRpU6l+lTAVaxZtW7l2tXrV7BhxY4lW9bsWbRp1ZoF0NbtW7hx5c51K0AAALx59e7l29dvXgECAAwmXNjwYcSJCQsQEMDxY8iRJU+m/FiAgACZNW/m3NnzZ80CBAAgXdr0adSpVZcWIADAa9ixZc+mXRu2AAEAdO/m3dv3b+C7BQgAUNz/+HHkyZUvNy5AQADo0aVPp17denQBAgJs597d+3fw4bkLEADA/Hn06dWvZ39egAAA8eXPp1/f/n35AgQA4N/fP0AAAgcSLGjwIAABAgAwbOjwIcSIEhsKEBDgIsaMGjdy7IhRgIAAIkeSLGnyJMqRAgQAaOnyJcyYMme6FCAAAM6cOnfy7OkzpwABAIYSLWr0KNKkRAUIAOD0KdSoUqdSfSpAQICsWrdy7er1q1YBAgKQLWv2LNq0assKEADgLdy4cufSrQtXgAAAevfy7ev3L+C9AgQAKGz4MOLEihcbFiAAAOTIkidTrmw5sgABATZz7uz5M+jQnAUICGD6NOrU/6pXsz4tQACA2LJn065t+7ZsAQIA8O7t+zfw4MJ7CxAA4Djy5MqXM2+OXIAAANKnU69u/Tr26QIEBOju/Tv48OLHexcgIAD69OrXs2/vPr0AAQDm069v/z7+/PQFCADgHyAAgQMJFjR4EKEAAQAYNnT4EGJEiQ0FCABwEWNGjRs5dsQoQEAAkSNJljR5EuVIAQICtHT5EmZMmTNdChAAAGdOnTt59vSZU4AAAEOJFjV6FGlSogIEAHD6FGpUqVOpPhUgAEBWrVu5dvX6VasAAQHIljV7Fm1atWUFCAjwFm5cuXPp1oUrQAAAvXv59vX7F/BeAQIAFDZ8GHFixYsNC/8QAAByZMmTKVe2HFmAAACbOXf2/Bl0aM4CBAQwfRp1atWrWZ8WICBAbNmzade2fVu2AAEAePf2/Rt4cOG9BQgAcBx5cuXLmTdHLkAAAOnTqVe3fh37dAECAHT3/h18ePHjvQsQEAB9evXr2bd3n16AgADz6de3fx9/fvoCBADwDxCAwIEECxo8iFCAAAAMGzp8CDGixIYCBAC4iDGjxo0cO2IUIACAyJEkS5o8iXKkAAEBWrp8CTOmzJkuBQgIgDOnzp08e/rMKUAAgKFEixo9ijQpUQECADh9CjWq1KlUnwoQACCr1q1cu3r9qlWAAABky5o9izat2rICBAR4Czf/rty5dOvCFSAggN69fPv6/Qt4rwABAAobPow4seLFhgUIAAA5suTJlCtbjixAAIDNnDt7/gw6NGcBAgCYPo06terVrE8LEBAgtuzZtGvbvi1bgIAAvHv7/g08uPDeAgQAOI48ufLlzJsjFyAAgPTp1Ktbv459ugABALp7/w4+vPjx3gUIAIA+vfr17Nu7Ty9AQID59Ovbv48/P30BAgL4BxhA4ECCBQ0eRChAAACGDR0+hBhRYkMBAgBcxJhR40aOHTEKEABA5EiSJU2eRDlSgAAALV2+hBlT5kyXAgQEwJlT506ePX3mFCAgwFCiRY0eRZqUqAABAJw+hRpV6lSq/08FCACQVetWrl29ftUqQAAAsmXNnkWbVm1ZAQIAvIUbV+5cunXhChAQQO9evn39/gW8V4CAAIUNH0acWPFiwwIEAIAcWfJkypUtRxYgAMBmzp09fwYdmrMAAQBMn0adWvVq1qcFCAAQW/Zs2rVt35YtQEAA3r19/wYeXHhvAQICHEeeXPly5s2RCxAAQPp06tWtX8c+XYAAAN29fwcfXvx47wIEAECfXv169u3dpxcgAMB8+vXt38efn74AAQH8AwwgcCDBggYPIhQgIADDhg4fQowosaEAAQAuYsyocSPHjhgFCAAgciTJkiZPohwpQACAli5fwowpc6ZLAQIA4P/MqXMnz54+cwoQEGAo0aJGjyJNSlSAgABOn0KNKnUq1acCBADIqnUr165ev2oVIAAA2bJmz6JNq7asAAEA3sKNK3cu3bpwBQgAoHcv375+/wLeK0BAgMKGDyNOrHixYQECAkCOLHky5cqWIwsQAGAz586eP4MOzVkA6dKmT6NOrXo169auX8OOLXs27dq2b88GoHs3796+fwPfLUAAgOLGjyNPrny5cQECAECPLn069erWowsQEGA79+7ev4MPz12AgADmz6NPr349+/MCBACIL38+/fr278sXIAAA//7+AQIQOJBgQYMHAQgQAIBhQ4cPIUaU2FCAAAAXMWbUuJH/Y0eMAgQEEDmSZEmTJ1GOFCAgQEuXL2HGlDnTpQABAHDm1LmTZ0+fOQUIADCUaFGjR5EmJSpAAACnT6FGlTqV6lMBAgBk1bqVa1evX7UKEBCAbFmzZ9GmVVtWgIAAb+HGlTuXbl24AgQA0LuXb1+/fwHvFSAAQGHDhxEnVrzYsAABACBHljyZcmXLkQUIALCZc2fPn0GH5ixAQADTp1GnVr2a9WkBAgLElj2bdm3bt2ULEACAd2/fv4EHF95bgAAAx5EnV76ceXPkAgQAkD6denXr17FPFyAAQHfv38GHFz/euwABAdCnV7+efXv36QUICDCffn379/Hnpy9AAAD//wABCBxIsKDBgwgFCADAsKHDhxAjSmwoQACAixgzatzIsSNGAQIAiBxJsqTJkyhHChAQoKXLlzBjypzpUoCAADhz6tzJs6fPnAIEABhKtKjRo0iTEhUgAIDTp1CjSp1K9akAAQCyat3KtavXr1oFCABAtqzZs2jTqi0rQECAt3Djyp1Lty5cAQIC6N3Lt6/fv4D3ChAAoLDhw4gTK15sWIAAAJAjS55MubLlyAIEANjMubPnz6BDcxYgAIDp06hTq17N+rQAAQFiy55Nu7bt27IFCAjAu7fv38CDC+8tQACA48iTK1/OvDlyAQIASJ9Ovbr169inCxAAoLv37+DDi/8f712AAADo06tfz769+/QCBASYT7++/fv489MXICCAf4ABBA4kWNDgQYQCBABg2NDhQ4gRJTYUIADARYwZNW7k2BGjAAEARI4kWdLkSZQjBQgA0NLlS5gxZc50KUBAAJw5de7k2dNnTgECAgwlWtToUaRJiQoQAMDpU6hRpU6l+lSAAABZtW7l2tXrV60CBAAgW9bsWbRp1ZYVIADAW7hx5c6lWxeuAAEB9O7l29fvX8B7BQgIUNjwYcSJFS82LEAAAMiRJU+mXNlyZAECAGzm3NnzZ9ChOQsQAMD0adSpVa9mfVqAAACxZc+mXdv2bdkCBATg3dv3b+DBhfcWICD/wHHkyZUvZ94cuQABAKRPp17d+nXs0wUIANDd+3fw4cWP9y5AAAD06dWvZ9/efXoBAgDMp1/f/n38+ekLEBDAP8AAAgcSLGjwIEIBAgIwbOjwIcSIEhsKEADgIsaMGjdy7IhRgAAAIkeSLGnyJMqRAgQAaOnyJcyYMme6FCAAAM6cOnfy7OkzpwABAYYSLWr0KNKkRAUICOD0KdSoUqdSfSpAAICsWrdy7er1q1YBAgCQLWv2LNq0assKEADgLdy4cufSrQtXgAAAevfy7ev3L+C9AgQEKGz4MOLEihcbFiAgAOTIkidTrmw5sgABADZz7uz5M+jQnAUIAGD6NOrU/6pXsz4tQACA2LJn065t+7ZsAQIA8O7t+zfw4MJ7CxAQ4Djy5MqXM2+OXICAANKnU69u/Tr26QIEAOju/Tv48OLHexcgAAD69OrXs2/vPr0AAQDm069v/z7+/PQFCADgHyAAgQMJFjR4EKEAAQEYNnT4EGJEiQ0FCAhwEWNGjRs5dsQoQAAAkSNJljR5EuVIAQIAtHT5EmZMmTNdChAAAGdOnTt59vSZU4AAAEOJFjV6FGlSogIEBHD6FGpUqVOpPhUgIEBWrVu5dvX6VasAAQDIljV7Fm1atWUFCADwFm5cuXPp1oUrQAAAvXv59vX7F/BeAQIAFDZ8GHFixYsNC/8QEAByZMmTKVe2HFmAgACbOXf2/Bl0aM4CBAAwfRp1atWrWZ8W8Bp2bNmzade2fRt3bt27eff2/Rt4cOG+ARQ3fhx5cuXLjQsQAAB6dOnTqVe3Hl2AAADbuXf3/h18eO4CBAQwfx59evXr2Z8XICBAfPnz6de3f1++AAEA+Pf3DxCAwIEECxo8CECAAAAMGzp8CDGixIYCBAC4iDGjxo0cO2IUIACAyJEkS5o8iXKkAAEBWrp8CTOmzJkuBQgIgDOnzp08e/rMKUAAgKFEixo9ijQpUQECADh9CjWq1KlUnwoQACCr1q1cu3r9qlWAAABky5o9izat2rICBAR4Czf/rty5dOvCFSAggN69fPv6/Qt4rwABAAobPow4seLFhgUIAAA5suTJlCtbjixAAIDNnDt7/gw6NGcBAgCYPo06terVrE8LEBAgtuzZtGvbvi1bgIAAvHv7/g08uPDeAgQAOI48ufLlzJsjFyAAgPTp1Ktbv459ugABALp7/w4+vPjx3gUIAIA+vfr17Nu7Ty9AQID59Ovbv48/P30BAgL4BxhA4ECCBQ0eRChAAACGDR0+hBhRYkMBAgBcxJhR40aOHTEKEABA5EiSJU2eRDlSgAAALV2+hBlT5kyXAgQEwJlT506ePX3mFCAgwFCiRY0eRZqUqAABAJw+hRpV6lSq/08FCACQVetWrl29ftUqQAAAsmXNnkWbVm1ZAQIAvIUbV+5cunXhChAQQO9evn39/gW8V4CAAIUNH0acWPFiwwIEAIAcWfJkypUtRxYgAMBmzp09fwYdmrMAAQBMn0adWvVq1qcFCAAQW/Zs2rVt35YtQEAA3r19/wYeXHhvAQICHEeeXPly5s2RCxAAQPp06tWtX8c+XYAAAN29fwcfXvx47wIEAECfXv169u3dpxcgAMB8+vXt38efn74AAQH8AwwgcCDBggYPIhQgIADDhg4fQowosaEAAQAuYsyocSPHjhgFCAAgciTJkiZPohwpQACAli5fwowpc6ZLAQIA4P/MqXMnz54+cwoQEGAo0aJGjyJNSlSAgABOn0KNKnUq1acCBADIqnUr165ev2oVIAAA2bJmz6JNq7asAAEA3sKNK3cu3bpwBQgAoHcv375+/wLeK0BAgMKGDyNOrHixYQECAkCOLHky5cqWIwsQAGAz586eP4MOzVmAAACmT6NOrXo169MCBACILXs27dq2b8sWIAAA796+fwMPLry3AAEBjiNPrnw58+bIBQgIIH069erWr2OfLkAAgO7ev4MPL368dwECAKBPr349+/bu0wsQAGA+/fr27+PPT1+AAAD+AQIQOJBgQYMHEQoQEIBhQ4cPIUaU2FCAgAAXMWbUuJH/Y0eMAgQAEDmSZEmTJ1GOFCAAQEuXL2HGlDnTpQABAHDm1LmTZ0+fOQUIADCUaFGjR5EmJSpAQACnT6FGlTqV6lMBAgJk1bqVa1evX7UKEACAbFmzZ9GmVVtWgAAAb+HGlTuXbl24AgQA0LuXb1+/fwHvFSAAQGHDhxEnVrzYsAABASBHljyZcmXLkQUICLCZc2fPn0GH5ixAAADTp1GnVr2a9WkBAgDElj2bdm3bt2ULEACAd2/fv4EHF95bgAAAx5EnV76ceXPkAgQEkD6denXr17FPFyAgQHfv38GHFz/euwABANCnV7+efXv36QUIADCffn379/Hnpy9AAAD//wABCBxIsKDBgwgFCADAsKHDhxAjSmwoQECAixgzatzIsSNGAQICiBxJsqTJkyhHChAAoKXLlzBjypzpUoAAADhz6tzJs6fPnAIEABhKtKjRo0iTEhUgAIDTp1CjSp1K9akAAQGyat3KtavXr1oFCAhAtqzZs2jTqi0rQACAt3Djyp1Lty5cAQIA6N3Lt6/fv4D3ChAAoLDhw4gTK15sWIAAAJAjS55MubLlyAIEBNjMubPnz6BDcxYgIIDp06hTq17N+rQAAQBiy55Nu7bt27IFCADAu7fv38CDC+8tQACA48iTK1/OvDlyAQIASJ9Ovbr169inCxAQoLv37+DDi/8f712AgADo06tfz769+/QCBACYT7++/fv489MXwL+/f4ACBA4kWNDgQYQJFS5k2NDhQ4gRJU6kWPEgAIwZNW7k2NFjRgECAIwkWdLkSZQpSQoQAMDlS5gxZc6k+VKAAAA5de7k2dPnT50CBAAgWtToUaRJlRYVIADAU6hRpU6lWhWqAAEAtG7l2tXrV7BbBQgAUNbsWbRp1a41K0AAALhx5c6lW9duXAECAOzl29fvX8CB+QoQAMDwYcSJFS9mfFiAAACRJU+mXNnyZckCBADg3NnzZ9ChRXcWIADAadSpVa9m3Rq1AAEAZM+mXdv2bdyzBQgA0Nv3b+DBhQ/3LUD/AADkyZUvZ97ceXIBAgBMp17d+nXs2akLEADA+3fw4cWPJ/9dgAAA6dWvZ9/e/Xv1AgQAoF/f/n38+fXXFyAAAEAAAgcSLGjwIEKBAgQAaOjwIcSIEic6FCAAAMaMGjdy7OgxowABAEaSLGnyJMqUJAUIAODyJcyYMmfSfClAAICcOnfy7Onzp04BAgAQLWr0KNKkSosKEADgKdSoUqdSrQpVgAAAWrdy7er1K9itAgQAKGv2LNq0ateaFSAAANy4cufSrWs3rgABAPby7ev3L+DAfAUIAGD4MOLEihczPixAAIDIkidTrmz5smQBAgBw7uz5M+jQojsLEADgNOrU/6pXs26NWoAAALJn065t+zbu2QIEAOjt+zfw4MKH+xYgAADy5MqXM2/uPLkAAQCmU69u/Tr27NQFCADg/Tv48OLHk/8uQACA9OrXs2/v/r16AQIA0K9v/z7+/PrrCxAAACAAgQMJFjR4EKFAAQIANHT4EGJEiRMdChAAAGNGjRs5dvSYUYAAACNJljR5EmVKkgIEAHD5EmZMmTNpvhQgAEBOnTt59vT5U6cAAQCIFjV6FGlSpUUFCADwFGpUqVOpVoUqQAAArVu5dvX6FexWAQIAlDV7Fm1atWvNChAAAG5cuXPp1rUbV4AAAHv59vX7F3BgvgIEADB8GHFixYsZH/8WIABAZMmTKVe2fFmyAAEAOHf2/Bl0aNGdBQgAcBp1atWrWbdGLUAAANmzade2fRv3bAECAPT2/Rt4cOHDfQsQAAB5cuXLmTd3nlyAAADTqVe3fh17duoCBADw/h18ePHjyX8XIABAevXr2bd3/169AAEA6Ne3fx9/fv31BQgAABCAwIEECxo8iFCgAAEAGjp8CDGixIkOBQgAgDGjxo0cO3rMKEAAgJEkS5o8iTIlSQECALh8CTOmzJk0XwoQACCnzp08e/r8qVOAAABEixo9ijSp0qICBAB4CjWq1KlUq0IVIACA1q1cu3r9CnarAAEAypo9izat2rVmBQgAADf/rty5dOvajStAAIC9fPv6/Qs4MF8BAgAYPow4seLFjA8LEAAgsuTJlCtbvixZgAAAnDt7/gw6tOjOAgQAOI06terVrFujFiAAgOzZtGvbvo17tgABAHr7/g08uPDhvgUIAIA8ufLlzJs7Ty5AAIDp1Ktbv449O3UBAgB4/w4+vPjx5L8LEAAgvfr17Nu7f69egAAA9Ovbv48/v/76AgQAAAhA4ECCBQ0eRChQgAAADR0+hBhR4kSHAgQAwJhR40aOHT1mFCAAwEiSJU2eRJmSpAABAFy+hBlT5kyaLwUIAJBT506ePX3+1ClAAACiRY0eRZpUaVEBAgA8hRpV6lSq5VWhChAAQOtWrl29fgW7VYAAAGXNnkWbVu1aswIEAIAbV+5cunXtxhUgAMBevn39/gUcmK8AAQAMH0acWPFixocFCAAQWfJkypUtX5YsQAAAzp09fwYdWnRnAQIAnEadWvVq1q1RCxAAQPZs2rVt38Y9W4AAAL19/wYeXPhw3wIEAECeXPly5s2dJxcgAMB06tWtX8eenboAAQC8fwcfXvx48t8FCACQXv169u3dv1cvQAAA+vXt38efX399AQIAAAQgcCDBggYPIhQoYCHDhg4fQowocSLFihYvYsyocSPHjh4zBgQAOw==\"><title>Layer: pool2 (hidden)\n output range: (-Infinity, +Infinity)\n dropout = 0.25\n Keras class = MaxPooling2D\n pool_size = (2, 2)</title></image><text x=\"288.0\" y=\"517.0\" font-family=\"monospace\" font-size=\"12\" text-anchor=\"middle\" fill=\"black\" alignment-baseline=\"central\"  transform=\"rotate(-90 288.0 517.0) translate(2)\" >pool2</text><text x=\"88.0\" y=\"400\" font-family=\"monospace\" font-size=\"12\" text-anchor=\"middle\" fill=\"black\" alignment-baseline=\"central\"  transform=\"rotate(-90 88.0 400) translate(2)\" >64</text><text x=\"273.0\" y=\"630\" font-family=\"monospace\" font-size=\"12\" text-anchor=\"middle\" fill=\"black\" alignment-baseline=\"central\"  transform=\"rotate(-90 273.0 630) translate(2)\" >0</text><text x=\"62.0\" y=\"420\" font-family=\"monospace\" font-size=\"24.0\" text-anchor=\"middle\" fill=\"black\" alignment-baseline=\"central\"  transform=\"rotate(-90 62.0 420) translate(2)\" >&#10683;</text><line x1=\"175.0\" y1=\"644\" x2=\"175.0\" y2=\"617\" stroke=\"black\" stroke-width=\"2\" marker-end=\"url(#arrow)\"><title>Weights from conv4 to pool2</title></line><rect x=\"74.0\" y=\"644\" width=\"202\" height=\"202\" style=\"fill:none;stroke:black;stroke-width:2\"/><image id=\"picture-dashboard-CIRAR10-674079_conv4-rotated_15\" class=\"picture-dashboard-CIRAR10-674079_conv4-rotated\" x=\"75.0\" y=\"645\" height=\"200\" width=\"200\" preserveAspectRatio=\"none\" href=\"data:image/gif;base64,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\"><title>Layer: conv4 (hidden)\n output range: (0, +Infinity)\n Keras class = Conv2D\n activation = relu</title></image><text x=\"288.0\" y=\"747.0\" font-family=\"monospace\" font-size=\"12\" text-anchor=\"middle\" fill=\"black\" alignment-baseline=\"central\"  transform=\"rotate(-90 288.0 747.0) translate(2)\" >conv4</text><text x=\"88.0\" y=\"630\" font-family=\"monospace\" font-size=\"12\" text-anchor=\"middle\" fill=\"black\" alignment-baseline=\"central\"  transform=\"rotate(-90 88.0 630) translate(2)\" >64</text><text x=\"273.0\" y=\"860\" font-family=\"monospace\" font-size=\"12\" text-anchor=\"middle\" fill=\"black\" alignment-baseline=\"central\"  transform=\"rotate(-90 273.0 860) translate(2)\" >0</text><line x1=\"175.0\" y1=\"874\" x2=\"175.0\" y2=\"847\" stroke=\"black\" stroke-width=\"2\" marker-end=\"url(#arrow)\"><title>Weights from conv3 to conv4\n conv4/kernel:0 has shape (3, 3, 64, 64)\n conv4/bias:0 has shape (64,)</title></line><rect x=\"74.0\" y=\"874\" width=\"202\" height=\"202\" style=\"fill:none;stroke:black;stroke-width:2\"/><image id=\"picture-dashboard-CIRAR10-674079_conv3-rotated_16\" class=\"picture-dashboard-CIRAR10-674079_conv3-rotated\" x=\"75.0\" y=\"875\" height=\"200\" width=\"200\" preserveAspectRatio=\"none\" href=\"data:image/gif;base64,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\"><title>Layer: conv3 (hidden)\n output range: (0, +Infinity)\n Keras class = Conv2D\n padding = same\n activation = relu</title></image><text x=\"288.0\" y=\"977.0\" font-family=\"monospace\" font-size=\"12\" text-anchor=\"middle\" fill=\"black\" alignment-baseline=\"central\"  transform=\"rotate(-90 288.0 977.0) translate(2)\" >conv3</text><text x=\"88.0\" y=\"860\" font-family=\"monospace\" font-size=\"12\" text-anchor=\"middle\" fill=\"black\" alignment-baseline=\"central\"  transform=\"rotate(-90 88.0 860) translate(2)\" >64</text><text x=\"273.0\" y=\"1090\" font-family=\"monospace\" font-size=\"12\" text-anchor=\"middle\" fill=\"black\" alignment-baseline=\"central\"  transform=\"rotate(-90 273.0 1090) translate(2)\" >0</text><line x1=\"175.0\" y1=\"1104\" x2=\"175.0\" y2=\"1077\" stroke=\"black\" stroke-width=\"2\" marker-end=\"url(#arrow)\"><title>Weights from pool1 to conv3\n conv3/kernel:0 has shape (3, 3, 32, 64)\n conv3/bias:0 has shape (64,)</title></line><rect x=\"74.0\" y=\"1104\" width=\"202\" height=\"202\" style=\"fill:none;stroke:black;stroke-width:2\"/><image id=\"picture-dashboard-CIRAR10-674079_pool1-rotated_17\" class=\"picture-dashboard-CIRAR10-674079_pool1-rotated\" x=\"75.0\" y=\"1105\" height=\"200\" width=\"200\" preserveAspectRatio=\"none\" href=\"data:image/gif;base64,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\"><title>Layer: pool1 (hidden)\n output range: (-Infinity, +Infinity)\n dropout = 0.25\n Keras class = MaxPooling2D\n pool_size = (2, 2)</title></image><text x=\"288.0\" y=\"1207.0\" font-family=\"monospace\" font-size=\"12\" text-anchor=\"middle\" fill=\"black\" alignment-baseline=\"central\"  transform=\"rotate(-90 288.0 1207.0) translate(2)\" >pool1</text><text x=\"88.0\" y=\"1090\" font-family=\"monospace\" font-size=\"12\" text-anchor=\"middle\" fill=\"black\" alignment-baseline=\"central\"  transform=\"rotate(-90 88.0 1090) translate(2)\" >32</text><text x=\"273.0\" y=\"1320\" font-family=\"monospace\" font-size=\"12\" text-anchor=\"middle\" fill=\"black\" alignment-baseline=\"central\"  transform=\"rotate(-90 273.0 1320) translate(2)\" >0</text><text x=\"62.0\" y=\"1110\" font-family=\"monospace\" font-size=\"24.0\" text-anchor=\"middle\" fill=\"black\" alignment-baseline=\"central\"  transform=\"rotate(-90 62.0 1110) translate(2)\" >&#10683;</text><line x1=\"175.0\" y1=\"1334\" x2=\"175.0\" y2=\"1307\" stroke=\"black\" stroke-width=\"2\" marker-end=\"url(#arrow)\"><title>Weights from conv2 to pool1</title></line><rect x=\"74.0\" y=\"1334\" width=\"202\" height=\"202\" style=\"fill:none;stroke:black;stroke-width:2\"/><image id=\"picture-dashboard-CIRAR10-674079_conv2-rotated_18\" class=\"picture-dashboard-CIRAR10-674079_conv2-rotated\" x=\"75.0\" y=\"1335\" height=\"200\" width=\"200\" preserveAspectRatio=\"none\" href=\"data:image/gif;base64,R0lGODdhHgAeAIcAAIoAAH8AAKoAAAAAAAAAAAAAAAAAAAAAAAAAAAAAAAAAAAAAAAAAAAAAAAAAAAAAAAAAAAAAAAAAAAAAAAAAAAAAAAAAAAAAAAAAAAAAAAAAAAAAAAAAAAAAAAAAAAAAAAAAAAAAAAAAAAAAAAAAAAAAAAAAAAAAAAAAAAAAAAAAAAAAAAAAAAAAAAAAAAAAAAAAAAAAAAAAAAAAAAAAAAAAAAAAAAAAAAAAAAAAAAAAAAAAAAAAAAAAAAAAAAAAAAAAAAAAAAAAAAAAAAAAAAAAAAAAAAAAAAAAAAAAAAAAAAAAAAAAAAAAAAAAAAAAAAAAAAAAAAAAAAAAAAAAAAAAAAAAAAAAAAAAAAAAAAAAAAAAAAAAAAAAAAAAAAAAAAAAAAAAAAAAAAAAAAAAAAAAAAAAAAAAAAAAAAAAAAAAAAAAAAAAAAAAAAAAAAAAAAAAAAAAAAAAAAAAAAAAAAAAAAAAAAAAAAAAAAAAAAAAAAAAAAAAAAAAAAAAAAAAAAAAAAAAAAAAAAAAAAAAAAAAAAAAAAAAAAAAAAAAAAAAAAAAAAAAAAAAAAAAAAAAAAAAAAAAAAAAAAAAAAAAAAAAAAAAAAAAAAAAAAAAAAAAAAAAAAAAAAAAAAAAAAAAAAAAAAAAAAAAAAAAAAAAAAAAAAAAAAAAAAAAAAAAAAAAAAAAAAAAAAAAAAAAAAAAAAAAAAAAAAAAAAAAAAAAAAAAAAAAAAAAAAAAAAAAAAAAAAAAAAAAAAAAAAAAAAAAAAAAAAAAAAAAAAAAAAAAAAAAAAAAAAAAAAAAAAAAAAAAAAAAAAAAAAAAAAAAAAAAAAAAAAAAAAAAAAAAAAAAAAAAAAAAAAAAAAAAAAAAAAAAAAAAAAAAAAAAAAAAAAAAAAAAAAAAAAAAAAAAAAAAAAAAAAAAAAAAAAAAAAAAAAAAAAAAAAAAAAAAAAAAAAAAAAAAAAAAAAAAAAAAAAAAAAAAAAAAAAAAAAAAAAAAAAAAAAAAAAAAAAAAAAAAAAAAACwAAAAAHgAeAEAI/wABCBxIsKDBgQISAgAgIACAhw8DBAAAQAAAAQAyatQYAACAAAACBAAQAIBJAAFSpgTAsqXLlgIAyJxJsybNADhz5gTAM4DPAACCCh1KNGiAAACSKg3AlCmAAACiSp0aVYBVAFizat3KdWsAAGDDig0QAIBZswHSqgXAtq1btgHiyp0bAIDdu3jz2g3AF0CAv38BCBYcAIDhwwESBwAAQIDjxwIABJgMoLLlAAAABNi8GYDnz6ADiAZAunTpAAAABAgAAECA1wBiC5gNoLbt2wECAAAQAECA3wCCBxhOfDiA48gFAFjOHEAAAAGiA5hOPYD1AAAACNgOoLv37wHCA/8YT768+QDoAwAAEKB9ewDw48ufDz+A/fsBAOgHIKA/AIAABA4kWDDAQYQJFQJg2JBhAAARAQigWBHARYwZAwDgCCDAxwAARAogWZIkAAABAgBgCSAAgAAAAAQAACBAAAA5dQIIAMBngAAAhA4dGsCoUQBJlSoVIABAAKgApE6lGgDAVaxZrwrgCsDrV7BgAwAAEMDs2QAA1K5VG8AtALhx5c4NUDcAAAAB9AIAIMCvAAACBAAgXDgAgAAAFC8O0DgAAMgAAkwGUBlAAMwBAGzm3JlzgAAARAsgLQDAadSpAwBg3do1gACxZQOgHcA2ANwAAgAIAMD3b+DAAwwnHgAjAIAAyZMDCNAcwHPo0aUDCBAAwPUA2bVvzw7A+3fw4cV/DwgAOw==\"><title>Layer: conv2 (hidden)\n output range: (0, +Infinity)\n Keras class = Conv2D\n activation = relu</title></image><text x=\"288.0\" y=\"1437.0\" font-family=\"monospace\" font-size=\"12\" text-anchor=\"middle\" fill=\"black\" alignment-baseline=\"central\"  transform=\"rotate(-90 288.0 1437.0) translate(2)\" >conv2</text><text x=\"88.0\" y=\"1320\" font-family=\"monospace\" font-size=\"12\" text-anchor=\"middle\" fill=\"black\" alignment-baseline=\"central\"  transform=\"rotate(-90 88.0 1320) translate(2)\" >32</text><text x=\"273.0\" y=\"1550\" font-family=\"monospace\" font-size=\"12\" text-anchor=\"middle\" fill=\"black\" alignment-baseline=\"central\"  transform=\"rotate(-90 273.0 1550) translate(2)\" >0</text><line x1=\"175.0\" y1=\"1564\" x2=\"175.0\" y2=\"1537\" stroke=\"black\" stroke-width=\"2\" marker-end=\"url(#arrow)\"><title>Weights from conv1 to conv2\n conv2/kernel:0 has shape (3, 3, 32, 32)\n conv2/bias:0 has shape (32,)</title></line><rect x=\"74.0\" y=\"1564\" width=\"202\" height=\"202\" style=\"fill:none;stroke:black;stroke-width:2\"/><image id=\"picture-dashboard-CIRAR10-674079_conv1-rotated_19\" class=\"picture-dashboard-CIRAR10-674079_conv1-rotated\" x=\"75.0\" y=\"1565\" height=\"200\" width=\"200\" preserveAspectRatio=\"none\" href=\"data:image/gif;base64,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\"><title>Layer: conv1 (hidden)\n output range: (0, +Infinity)\n Keras class = Conv2D\n padding = same\n activation = relu</title></image><text x=\"288.0\" y=\"1667.0\" font-family=\"monospace\" font-size=\"12\" text-anchor=\"middle\" fill=\"black\" alignment-baseline=\"central\"  transform=\"rotate(-90 288.0 1667.0) translate(2)\" >conv1</text><text x=\"88.0\" y=\"1550\" font-family=\"monospace\" font-size=\"12\" text-anchor=\"middle\" fill=\"black\" alignment-baseline=\"central\"  transform=\"rotate(-90 88.0 1550) translate(2)\" >32</text><text x=\"273.0\" y=\"1780\" font-family=\"monospace\" font-size=\"12\" text-anchor=\"middle\" fill=\"black\" alignment-baseline=\"central\"  transform=\"rotate(-90 273.0 1780) translate(2)\" >0</text><line x1=\"175.0\" y1=\"1794\" x2=\"175.0\" y2=\"1767\" stroke=\"black\" stroke-width=\"2\" marker-end=\"url(#arrow)\"><title>Weights from input to conv1\n conv1/kernel:0 has shape (3, 3, 3, 32)\n conv1/bias:0 has shape (32,)</title></line><rect x=\"74.0\" y=\"1794\" width=\"202\" height=\"202\" style=\"fill:none;stroke:black;stroke-width:2\"/><image id=\"picture-dashboard-CIRAR10-674079_input-rotated_20\" class=\"picture-dashboard-CIRAR10-674079_input-rotated\" x=\"75.0\" y=\"1795\" height=\"200\" width=\"200\" preserveAspectRatio=\"none\" href=\"data:image/gif;base64,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\"><title>Layer: input (input)\n output range: (0.0, 1.0)\n shape = (32, 32, 3)\n Keras class = Input</title></image><text x=\"288.0\" y=\"1897.0\" font-family=\"monospace\" font-size=\"12\" text-anchor=\"middle\" fill=\"black\" alignment-baseline=\"central\"  transform=\"rotate(-90 288.0 1897.0) translate(2)\" >input</text><text x=\"18\" y=\"1010.0\" font-family=\"monospace\" font-size=\"15\" text-anchor=\"middle\" fill=\"black\" alignment-baseline=\"central\"  transform=\"rotate(-90 18 1010.0) translate(2)\" >CIRAR10</text></svg></g></svg></p>"
      }
     },
     "f359fdce26124959a03768796e1cc99a": {
      "model_module": "@jupyter-widgets/controls",
      "model_module_version": "1.1.0",
      "model_name": "CheckboxModel",
      "state": {
       "description": "Rotate network",
       "disabled": false,
       "layout": "IPY_MODEL_589439c9ccf04406a82a4f3962278ce4",
       "style": "IPY_MODEL_d84bcb662d574843ab8a5320896b3055",
       "value": true
      }
     },
     "f4f280bd2343444298ed2afc9cfb63f2": {
      "model_module": "@jupyter-widgets/controls",
      "model_module_version": "1.1.0",
      "model_name": "CheckboxModel",
      "state": {
       "description": "Rotate",
       "disabled": false,
       "layout": "IPY_MODEL_b9425773890543ecaf2b3356808f12c3",
       "style": "IPY_MODEL_07e704fc9ab34978a02b9832b97ad329",
       "value": true
      }
     },
     "f9e9320eccc5407b9bccd5a492492ec9": {
      "model_module": "@jupyter-widgets/controls",
      "model_module_version": "1.1.0",
      "model_name": "CheckboxModel",
      "state": {
       "description": "Show Targets",
       "disabled": false,
       "layout": "IPY_MODEL_a37bc96543a34e9a8beff1643d324fa6",
       "style": "IPY_MODEL_4f203ae93660468a84973d01b2364fbe",
       "value": true
      }
     },
     "fa15870b54fc4a73b5a18c36376a55ee": {
      "model_module": "@jupyter-widgets/base",
      "model_module_version": "1.0.0",
      "model_name": "LayoutModel",
      "state": {}
     },
     "faa4f63f27b74d99b05cb93f2acc4861": {
      "model_module": "@jupyter-widgets/controls",
      "model_module_version": "1.1.0",
      "model_name": "SliderStyleModel",
      "state": {
       "description_width": "initial"
      }
     },
     "fb527d8dba5941089c829bd13f4f88f1": {
      "model_module": "@jupyter-widgets/controls",
      "model_module_version": "1.1.0",
      "model_name": "ButtonModel",
      "state": {
       "icon": "fast-backward",
       "layout": "IPY_MODEL_63c25fa482d842b7ace26fe3458ba0f2",
       "style": "IPY_MODEL_0dfe017631904411a9747bd7109c8f92"
      }
     },
     "fbfe62e83c274687aa46e80993b36fcf": {
      "model_module": "@jupyter-widgets/controls",
      "model_module_version": "1.1.0",
      "model_name": "FloatTextModel",
      "state": {
       "description": "Rightmost color maps to:",
       "layout": "IPY_MODEL_c3ff19357ec84447bf09f7559d61d1b6",
       "step": null,
       "style": "IPY_MODEL_08b94d64f3c54fbbb001d0c4506800f6",
       "value": 1
      }
     },
     "fdf12ac977714e9fa86268167055c962": {
      "model_module": "@jupyter-widgets/base",
      "model_module_version": "1.0.0",
      "model_name": "LayoutModel",
      "state": {}
     }
    },
    "version_major": 2,
    "version_minor": 0
   }
  }
 },
 "nbformat": 4,
 "nbformat_minor": 2
}
