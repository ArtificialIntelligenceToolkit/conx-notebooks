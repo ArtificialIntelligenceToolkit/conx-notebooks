{
 "cells": [
  {
   "cell_type": "markdown",
   "metadata": {},
   "source": [
    "# ConX Neural Networks\n",
    "\n",
    "## The On-Ramp to Deep Learning\n",
    "\n",
    "This is an index into the notebooks in this directory. If you would like to see these docs in a more human friendly format, please see the [online help](http://conx.readthedocs.io/en/latest/).\n",
    "\n",
    "1. [README](http://conx.readthedocs.io/en/latest/README.html)\n",
    "  1. Install\n",
    "  2. Use with Jupyter Notebooks\n",
    "  3. Troubleshooting\n",
    "  4. Examples\n",
    "2. [Getting Started with ConX](Getting Started with conx.ipynb)\n",
    "  1. What is conx?\n",
    "  2. A Simple Network\n",
    "  3. ConX options\n",
    "3. Examples\n",
    "  1. [Learning](Learning.ipynb)\n",
    "  2. [XOR Multiple Inputs/Targets](XOR.ipynb)\n",
    "  3. [The MNIST Dataset](MNIST.ipynb)\n",
    "  4. [Face Recognition](Face recognition.ipynb)\n",
    "  5. [CIFAR10 CNN](CIFAR10_CNN.ipynb)\n",
    "  6. [Auto-encoder with Conv2D](Auto-encoder with Conv2D.ipynb)\n",
    "  7. [Datasets](Datasets.ipynb)\n",
    "  8. [Plotting](Plotting.ipynb)\n",
    "  9. [Plotting in 3D](Plot3D.ipynb)\n",
    "  10. [Autoencoding](Autoencoder.ipynb)\n",
    "  11. [Alice in Wonderland](AliceInWonderLand.ipynb)\n",
    "  12. [Predicting and Generating Texts](Predicting and Generating Texts.ipynb)\n",
    "  13. [Recommending Movies](RecommendingMovies.ipynb)\n",
    "  14. [LSTM - Long Short Term Memory](LSTM.ipynb)\n",
    "  15. [Activation Functions](ActivationFunctions.ipynb)\n",
    "  16. [Gridfonts](Gridfonts.ipynb)\n",
    "  17. [Working with Camera and Networks](Camera.ipynb)\n",
    "  18. [Robot Simulation](Robot Simulation.ipynb)\n",
    "  19. [Extrapolation, 1](Extrapolation1.ipynb)\n",
    "  20. [Vision Quest](VisionQuest.ipynb)\n",
    "  21. [Experiments](Experiments.ipynb)\n",
    "  22. [Making Movies](MakingMovies.ipynb)\n",
    "  23. [PCA](PCA.ipynb)\n",
    "  24. [Utilities](Utilities.ipynb)\n",
    "  25. [Two-Spirals](Two-Spirals.ipynb)"
   ]
  }
 ],
 "metadata": {
  "kernelspec": {
   "display_name": "Python 3",
   "language": "python",
   "name": "python3"
  },
  "language_info": {
   "codemirror_mode": {
    "name": "ipython",
    "version": 3
   },
   "file_extension": ".py",
   "mimetype": "text/x-python",
   "name": "python",
   "nbconvert_exporter": "python",
   "pygments_lexer": "ipython3",
   "version": "3.6.3"
  }
 },
 "nbformat": 4,
 "nbformat_minor": 2
}
