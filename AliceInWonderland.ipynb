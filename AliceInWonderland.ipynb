{
 "cells": [
  {
   "cell_type": "markdown",
   "metadata": {},
   "source": [
    "# Alice in Wonderland\n",
    "\n",
    "This notebook demonstrates generating sequences using a Simple Recurrent Network (SimpleRNN).\n",
    "\n",
    "For this example, we will use the unprocessed text from Lewis Carroll's \"Alice in Wonderland\". However, the sequence can really be anything, including code, music, or knitting instructions."
   ]
  },
  {
   "cell_type": "code",
   "execution_count": 1,
   "metadata": {},
   "outputs": [
    {
     "name": "stderr",
     "output_type": "stream",
     "text": [
      "Using TensorFlow backend.\n",
      "ConX, version 3.7.5\n"
     ]
    }
   ],
   "source": [
    "import conx as cx"
   ]
  },
  {
   "cell_type": "markdown",
   "metadata": {},
   "source": [
    "First, we find a copy of Alice in Wonderland, download it, and read it in:"
   ]
  },
  {
   "cell_type": "code",
   "execution_count": 2,
   "metadata": {},
   "outputs": [],
   "source": [
    "INPUT_FILE = \"alice_in_wonderland.txt\""
   ]
  },
  {
   "cell_type": "code",
   "execution_count": 3,
   "metadata": {},
   "outputs": [
    {
     "name": "stdout",
     "output_type": "stream",
     "text": [
      "Using cached http://www.gutenberg.org/files/11/11-0.txt as './alice_in_wonderland.txt'.\n"
     ]
    }
   ],
   "source": [
    "cx.download(\"http://www.gutenberg.org/files/11/11-0.txt\", filename=INPUT_FILE)"
   ]
  },
  {
   "cell_type": "code",
   "execution_count": 4,
   "metadata": {},
   "outputs": [],
   "source": [
    "# extract the input as a stream of characters\n",
    "lines = []\n",
    "with open(INPUT_FILE, 'rb') as fp:\n",
    "    for line in fp:\n",
    "        line = line.strip().lower()\n",
    "        line = line.decode(\"ascii\", \"ignore\")\n",
    "        if len(line) == 0:\n",
    "            continue\n",
    "        lines.append(line)\n",
    "text = \" \".join(lines)\n",
    "lines = None # clean up memory"
   ]
  },
  {
   "cell_type": "markdown",
   "metadata": {},
   "source": [
    "Next, we create some utility dictionaries for mapping the characters to indices and back:"
   ]
  },
  {
   "cell_type": "code",
   "execution_count": 5,
   "metadata": {},
   "outputs": [],
   "source": [
    "chars = set([c for c in text])\n",
    "nb_chars = len(chars)\n",
    "char2index = dict((c, i) for i, c in enumerate(chars))\n",
    "index2char = dict((i, c) for i, c in enumerate(chars))"
   ]
  },
  {
   "cell_type": "code",
   "execution_count": 6,
   "metadata": {},
   "outputs": [
    {
     "data": {
      "text/plain": [
       "55"
      ]
     },
     "execution_count": 6,
     "metadata": {},
     "output_type": "execute_result"
    }
   ],
   "source": [
    "nb_chars"
   ]
  },
  {
   "cell_type": "markdown",
   "metadata": {},
   "source": [
    "In this text, there are 55 different characters.\n",
    "\n",
    "Each character has a unique mapping to an integer:"
   ]
  },
  {
   "cell_type": "code",
   "execution_count": 7,
   "metadata": {},
   "outputs": [
    {
     "data": {
      "text/plain": [
       "37"
      ]
     },
     "execution_count": 7,
     "metadata": {},
     "output_type": "execute_result"
    }
   ],
   "source": [
    "char2index[\"a\"]"
   ]
  },
  {
   "cell_type": "code",
   "execution_count": 8,
   "metadata": {},
   "outputs": [
    {
     "data": {
      "text/plain": [
       "'9'"
      ]
     },
     "execution_count": 8,
     "metadata": {},
     "output_type": "execute_result"
    }
   ],
   "source": [
    "index2char[5]"
   ]
  },
  {
   "cell_type": "markdown",
   "metadata": {},
   "source": [
    "## Build the Dataset\n",
    "\n",
    "Next we build the dataset. We do this by stepping through the text one character at a time, building an input  \n",
    "sequence the size of SEQLEN and associated target character. \n",
    "\n",
    "For example, assume an input sequence of \"the sky was falling\", we would get the following inputs and targets:\n",
    "\n",
    "```\n",
    "Inputs     -> Target\n",
    "----------    ------\n",
    "the sky wa -> s\n",
    "he sky was ->  \n",
    "e sky was  -> f\n",
    " sky was f -> a\n",
    "sky was fa -> l\n",
    "```"
   ]
  },
  {
   "cell_type": "markdown",
   "metadata": {},
   "source": [
    "How can we represent the characters? There are many ways, including using an EmbeddingLayer. In this example, we simply use a `onehot` encoding of the index. Note that the total length of the onehot encoding is one more than the total number of items. That is because we will use a position for the zero index as well."
   ]
  },
  {
   "cell_type": "code",
   "execution_count": 9,
   "metadata": {},
   "outputs": [],
   "source": [
    "SEQLEN = 10\n",
    "data = []\n",
    "for i in range(0, len(text) - SEQLEN):\n",
    "    inputs = [cx.onehot(char2index[char], nb_chars + 1) for char in text[i:i + SEQLEN]]\n",
    "    targets = [cx.onehot(char2index[char], nb_chars + 1) for char in text[i + SEQLEN]][0]\n",
    "    data.append([inputs, targets])\n",
    "text = None # clean up memory"
   ]
  },
  {
   "cell_type": "code",
   "execution_count": 10,
   "metadata": {},
   "outputs": [],
   "source": [
    "dataset = cx.Dataset()\n",
    "dataset.load(data)\n",
    "data = None # clean up memory; not needed"
   ]
  },
  {
   "cell_type": "code",
   "execution_count": 11,
   "metadata": {},
   "outputs": [
    {
     "data": {
      "text/plain": [
       "158773"
      ]
     },
     "execution_count": 11,
     "metadata": {},
     "output_type": "execute_result"
    }
   ],
   "source": [
    "len(dataset)"
   ]
  },
  {
   "cell_type": "code",
   "execution_count": 12,
   "metadata": {},
   "outputs": [
    {
     "data": {
      "text/plain": [
       "(10, 56)"
      ]
     },
     "execution_count": 12,
     "metadata": {},
     "output_type": "execute_result"
    }
   ],
   "source": [
    "cx.shape(dataset.inputs[0])"
   ]
  },
  {
   "cell_type": "markdown",
   "metadata": {},
   "source": [
    "The shape of the inputs is 10 x 56; a sequence of length 10, and a vector of length 56.\n",
    "\n",
    "Let's check the inputs and targets to make sure everything is encoded properly:"
   ]
  },
  {
   "cell_type": "code",
   "execution_count": 13,
   "metadata": {},
   "outputs": [],
   "source": [
    "def onehot_to_char(vector):\n",
    "    index = cx.argmax(vector)\n",
    "    return index2char[index]"
   ]
  },
  {
   "cell_type": "code",
   "execution_count": 14,
   "metadata": {},
   "outputs": [
    {
     "name": "stdout",
     "output_type": "stream",
     "text": [
      "project gu -> t\n",
      "roject gut -> e\n",
      "oject gute -> n\n",
      "ject guten -> b\n",
      "ect gutenb -> e\n",
      "ct gutenbe -> r\n",
      "t gutenber -> g\n",
      " gutenberg -> s\n",
      "gutenbergs ->  \n",
      "utenbergs  -> a\n"
     ]
    }
   ],
   "source": [
    "for i in range(10):\n",
    "    print(\"\".join([onehot_to_char(v) for v in dataset.inputs[i]]), \n",
    "          \"->\",\n",
    "          onehot_to_char(dataset.targets[i]))"
   ]
  },
  {
   "cell_type": "markdown",
   "metadata": {},
   "source": [
    "Looks good! \n",
    "\n",
    "## Build the Network\n",
    "\n",
    "We will use a single SimpleRNNLayer with a fully-connected output bank to compute the most likely predicted output character."
   ]
  },
  {
   "cell_type": "markdown",
   "metadata": {},
   "source": [
    "Note that we can use the categorical cross-entropy error function since we are using the \"softmax\" activation function on the output layer.\n",
    "\n",
    "In this example, we unroll the inputs to provide explicit weights between each character in the sequence and the output."
   ]
  },
  {
   "cell_type": "code",
   "execution_count": 15,
   "metadata": {},
   "outputs": [],
   "source": [
    "network = cx.Network(\"Alice in Wonderland\")\n",
    "network.add(\n",
    "    cx.Layer(\"input\", (SEQLEN, nb_chars + 1)),\n",
    "    cx.SimpleRNNLayer(\"rnn\", 128, \n",
    "                      return_sequences=False,\n",
    "                      unroll=True),\n",
    "    cx.Layer(\"output\", nb_chars + 1, activation=\"softmax\"),\n",
    ")\n",
    "network.connect()\n",
    "network.compile(error=\"categorical_crossentropy\", optimizer=\"rmsprop\")"
   ]
  },
  {
   "cell_type": "code",
   "execution_count": 16,
   "metadata": {},
   "outputs": [],
   "source": [
    "network.set_dataset(dataset)"
   ]
  },
  {
   "cell_type": "code",
   "execution_count": 17,
   "metadata": {},
   "outputs": [
    {
     "name": "stdout",
     "output_type": "stream",
     "text": [
      "_________________________________________________________________\n",
      "Layer (type)                 Output Shape              Param #   \n",
      "=================================================================\n",
      "input (InputLayer)           (None, 10, 56)            0         \n",
      "_________________________________________________________________\n",
      "rnn (SimpleRNN)              (None, 128)               23680     \n",
      "_________________________________________________________________\n",
      "output (Dense)               (None, 56)                7224      \n",
      "=================================================================\n",
      "Total params: 30,904\n",
      "Trainable params: 30,904\n",
      "Non-trainable params: 0\n",
      "_________________________________________________________________\n"
     ]
    }
   ],
   "source": [
    "network.summary()"
   ]
  },
  {
   "cell_type": "code",
   "execution_count": 18,
   "metadata": {},
   "outputs": [
    {
     "data": {
      "application/vnd.jupyter.widget-view+json": {
       "model_id": "713700162301400fabc9353a07ed283a",
       "version_major": 2,
       "version_minor": 0
      },
      "text/plain": [
       "Dashboard(children=(Accordion(children=(HBox(children=(VBox(children=(Select(description='Dataset:', index=1, …"
      ]
     },
     "metadata": {},
     "output_type": "display_data"
    }
   ],
   "source": [
    "network.dashboard()"
   ]
  },
  {
   "cell_type": "markdown",
   "metadata": {},
   "source": [
    "## Train the Network\n",
    "\n",
    "After each training epoch we will test the generated output.\n",
    "\n",
    "We could use `cx.choice(p=output)` or `cx.argmax(output)` for picking the next character. Which works best for you?"
   ]
  },
  {
   "cell_type": "code",
   "execution_count": 19,
   "metadata": {},
   "outputs": [],
   "source": [
    "def generate_text(sequence, count):\n",
    "    for i in range(count):\n",
    "        output = network.propagate(sequence)\n",
    "        char = index2char[cx.argmax(output)]\n",
    "        print(char, end=\"\")\n",
    "        sequence = sequence[1:] + [output]\n",
    "    print()"
   ]
  },
  {
   "cell_type": "code",
   "execution_count": 20,
   "metadata": {},
   "outputs": [],
   "source": [
    "network.reset()"
   ]
  },
  {
   "cell_type": "code",
   "execution_count": 21,
   "metadata": {
    "scrolled": false
   },
   "outputs": [
    {
     "name": "stdout",
     "output_type": "stream",
     "text": [
      "==================================================\n",
      "Iteration #: 0\n",
      "Generating from seed: 'ent on eag'\n",
      "ent on eag tt t                                                                                               \n",
      "==================================================\n",
      "Iteration #: 1\n",
      "Generating from seed: 'ging her s'\n",
      "ging her she e  i    i t  t t    t t  i t    t t  i t    t t  i t t  t t  i t t  t t    t t  i t    t t  i t  \n",
      "==================================================\n",
      "Iteration #: 2\n",
      "Generating from seed: 'of rock, a'\n",
      "of rock, and a  t s  a t  t t  t t  t t    t t  t t  t t  t t  t t    t t  t t  t t  t t  t t    t t  t t  t t\n",
      "==================================================\n",
      "Iteration #: 3\n",
      "Generating from seed: 'estriction'\n",
      "estriction  to tet it   t  t t t  t t  t t  t t t  t t  t t tt t t  t t  t t tt t t  t t  t t tt t t  t t  t t\n",
      "==================================================\n",
      "Iteration #: 4\n",
      "Generating from seed: 'nd began s'\n",
      "nd began she  ase tol  o    t  o t to t t  a t  a t  t t  t t  a t  a t  a t  a t  a t  a t  a t  a t  a t  a \n",
      "==================================================\n",
      "Iteration #: 5\n",
      "Generating from seed: 'ainst acce'\n",
      "ainst acce site eit te e ae t ee t  s et t es e et e  i e  i e  e e te e ee e  e es t es e es e et e et e  i e\n",
      "==================================================\n",
      "Iteration #: 6\n",
      "Generating from seed: 'ce, scream'\n",
      "ce, screame t t t  e ti e as t e  t te t  e to e tit  a t  t ai t ee to e ti e a te t te t me t te t t  t t  t\n",
      "==================================================\n",
      "Iteration #: 7\n",
      "Generating from seed: ' it seemed'\n",
      " it seemed to hiee tile ti e ai e te aile aite tite ai e at eite aite tite ai e at aile aite aite ai e te aite\n",
      "==================================================\n",
      "Iteration #: 8\n",
      "Generating from seed: 'lice (she '\n",
      "lice (she waste  o ee ee t ee tile ao ees  t le tele s at tele as e et tire a lees at tere atlees at ee tele t\n",
      "==================================================\n",
      "Iteration #: 9\n",
      "Generating from seed: 's; these w'\n",
      "s; these whtl  ie to te te te to te to tert tt tee  i t  te te te  o teete to tort  te tert i  tee so  eete to\n",
      "==================================================\n",
      "Iteration #: 10\n",
      "Generating from seed: 'y never ex'\n",
      "y never exelaten to tome t et seat so s es to s ts ese  on ire  ti sece se s oe t  ee t to eees t   eetts   ot\n",
      "==================================================\n",
      "Iteration #: 11\n",
      "Generating from seed: 'but i dont'\n",
      "but i dont kent tertsle  ioe te ti e aret ee tt mile sere ie tioe tr tiee tr t ee trrt et ti tice sort te ts e\n",
      "==================================================\n",
      "Iteration #: 12\n",
      "Generating from seed: ' remedies-'\n",
      " remedies-- h li tors  o tied tr sont ti toe  il  eet se  se  ast te es t et the  te see  on tom  en sie   t  \n",
      "==================================================\n",
      "Iteration #: 13\n",
      "Generating from seed: 'hed it on '\n",
      "hed it on a mis  ailte etten do teee to teet the eea eteit te seee i  t et es the eeat terte ae ie e tt to t t\n",
      "==================================================\n",
      "Iteration #: 14\n",
      "Generating from seed: 'he queen w'\n",
      "he queen wat e ete  i t  tn sel  tetee ert  oll ore tar e  tt se s a  erte ttee tires ot  oe  orte iee  ot toe\n",
      "==================================================\n",
      "Iteration #: 15\n",
      "Generating from seed: 'hat makes '\n",
      "hat makes trem  otteet sor siats fot io  set et tols tees toa se asles frrtee tor  es siek ioa ee to sees tre \n",
      "==================================================\n",
      "Iteration #: 16\n",
      "Generating from seed: ' on the ta'\n",
      " on the table  fal orlt getten  t ine tor  eelt neate  it wrre iurt neet celt selt dlen i et wore trrted it wo\n",
      "==================================================\n",
      "Iteration #: 17\n",
      "Generating from seed: ' this busi'\n",
      " this busine st es er t ot oo teles oe  ome, on eeteteoe tol ol pt ts p  e tece olltese tt ee e te sese tore  \n",
      "==================================================\n",
      "Iteration #: 18\n",
      "Generating from seed: ' about her'\n",
      " about her fiot   i  sot mas soete te  ilees oole otee to e ot tise son s ot turedenes tol soot  oe e ot wise \n",
      "==================================================\n",
      "Iteration #: 19\n",
      "Generating from seed: 'all her co'\n",
      "all her coul tted te te   i  t tlite flit orett ee te ai t etele te te ert  yet  enet to tor  ton in whe corti\n",
      "==================================================\n",
      "Iteration #: 20\n",
      "Generating from seed: 'sting date'\n",
      "sting date  tt d et tot  ouce tini lint  eats et tore toete oel ot meet  ou  tite tol  tal ite s on tor  anter\n",
      "==================================================\n",
      "Iteration #: 21\n",
      "Generating from seed: 'oprietary '\n",
      "oprietary iast ten e ee  o li ler forts or ilets oes to  ine  eet  o  orl tee io mested til  i at tea  orr tte\n",
      "==================================================\n",
      "Iteration #: 22\n",
      "Generating from seed: 'ly remarke'\n",
      "ly remarked arr  aine tott  e t lend out  te tel  t ol tire tenes i tint, and then ire tori  o leran of  teot \n",
      "==================================================\n",
      "Iteration #: 23\n",
      "Generating from seed: 'ttle now a'\n",
      "ttle now as thement te t  sot oo to sons outt netten a tore tor, tor lot se tile o r  licted ot oret tortee af\n",
      "==================================================\n",
      "Iteration #: 24\n",
      "Generating from seed: 'ion in the'\n",
      "ion in the somsst on  omt ftre, oos tt sott oi, to some ting  on tore to d. ther ant oult  en  oos  ot sor lon\n"
     ]
    },
    {
     "data": {
      "image/png": "[encoded data removed]",
      "text/plain": [
       "<Figure size 720x288 with 2 Axes>"
      ]
     },
     "metadata": {},
     "output_type": "display_data"
    }
   ],
   "source": [
    "for iteration in range(25):\n",
    "    print(\"=\" * 50)\n",
    "    print(\"Iteration #: %d\" % (network.epoch_count))\n",
    "    results = network.train(1, batch_size=128, plot=False, verbose=0)   \n",
    "    sequence = network.dataset.inputs[cx.choice(len(network.dataset))]\n",
    "    print(\"Generating from seed: '%s'\" % (\"\".join([onehot_to_char(v) for v in sequence])))\n",
    "    print(\"\".join([onehot_to_char(v) for v in sequence]), end=\"\")\n",
    "    generate_text(sequence, 100)\n",
    "network.plot_results()"
   ]
  },
  {
   "cell_type": "markdown",
   "metadata": {},
   "source": [
    "What can you say about the text generated in later epochs compared to the earlier generated text?\n",
    "\n",
    "This was the simplest and most straightforward of network architectures and parameter settings. Can you do better? Can you generate text that is better English, or even text that captures the style of Lewis Carroll?\n",
    "\n",
    "Next, you might like to try this kind of experiment on your own sequential data. "
   ]
  }
 ],
 "metadata": {
  "kernelspec": {
   "display_name": "Python 3",
   "language": "python",
   "name": "python3"
  },
  "language_info": {
   "codemirror_mode": {
    "name": "ipython",
    "version": 3
   },
   "file_extension": ".py",
   "mimetype": "text/x-python",
   "name": "python",
   "nbconvert_exporter": "python",
   "pygments_lexer": "ipython3",
   "version": "3.6.5"
  },
  "widgets": {
   "application/vnd.jupyter.widget-state+json": {
    "state": {
     "0087559de60f4478b4de856bd7550636": {
      "model_module": "@jupyter-widgets/base",
      "model_module_version": "1.1.0",
      "model_name": "LayoutModel",
      "state": {}
     },
     "0118d4dff7b9404f98c757fc16d17d57": {
      "model_module": "@jupyter-widgets/controls",
      "model_module_version": "1.4.0",
      "model_name": "CheckboxModel",
      "state": {
       "description": "Rotate",
       "disabled": false,
       "layout": "IPY_MODEL_e139e1e900c4499f96e6f598e0f88837",
       "style": "IPY_MODEL_0b3a47e470df43b0a668e03d3ccd4206",
       "value": true
      }
     },
     "01663c64aaed41519969adf7dfa84139": {
      "model_module": "@jupyter-widgets/base",
      "model_module_version": "1.1.0",
      "model_name": "LayoutModel",
      "state": {
       "width": "100%"
      }
     },
     "01ca320c83e74a75a30170594d228e3e": {
      "model_module": "@jupyter-widgets/controls",
      "model_module_version": "1.4.0",
      "model_name": "SelectModel",
      "state": {
       "_options_labels": [
        ""
       ],
       "description": "Features:",
       "index": 0,
       "layout": "IPY_MODEL_1434da4901ef40a38869546199ecf74c",
       "rows": 1,
       "style": "IPY_MODEL_dbf05c22873e463caacf9d44be6ba19f"
      }
     },
     "01dc36b0d1d046c4aca291f2ba471a5a": {
      "model_module": "@jupyter-widgets/base",
      "model_module_version": "1.1.0",
      "model_name": "LayoutModel",
      "state": {
       "width": "100%"
      }
     },
     "027727cd0a184e11890422426ddf8abc": {
      "model_module": "@jupyter-widgets/controls",
      "model_module_version": "1.4.0",
      "model_name": "ButtonModel",
      "state": {
       "icon": "backward",
       "layout": "IPY_MODEL_b41b2771cb8945ecbc4763503ee06295",
       "style": "IPY_MODEL_a3ea88713ab347949a1aea149b158757"
      }
     },
     "0291bc4c1ea74b6eac9cc669a6ae1230": {
      "model_module": "@jupyter-widgets/controls",
      "model_module_version": "1.4.0",
      "model_name": "HBoxModel",
      "state": {
       "children": [
        "IPY_MODEL_5d65472b9fc34dbfbddaf5765794e9b5",
        "IPY_MODEL_eb0b580f21044e7cb08a10282df93a8b",
        "IPY_MODEL_8794486694e340b9a15591ce7614f284",
        "IPY_MODEL_6802e06138b24b1db2ba72d116484edd",
        "IPY_MODEL_fddee08134044ec9b06a000c909f1b15",
        "IPY_MODEL_5d5997feb6a44c099ccb69a9cd5a83f3",
        "IPY_MODEL_9a614e11c7644cc5ab8effc4b57ef49f"
       ],
       "layout": "IPY_MODEL_04870251326f4de28b91997579dee8d4"
      }
     },
     "02b2bdfa41244e099f7baca2d964b5ac": {
      "model_module": "@jupyter-widgets/base",
      "model_module_version": "1.1.0",
      "model_name": "LayoutModel",
      "state": {
       "width": "100%"
      }
     },
     "043a481c04f04b4eb33f6d17ec60e34d": {
      "model_module": "@jupyter-widgets/base",
      "model_module_version": "1.1.0",
      "model_name": "LayoutModel",
      "state": {}
     },
     "04870251326f4de28b91997579dee8d4": {
      "model_module": "@jupyter-widgets/base",
      "model_module_version": "1.1.0",
      "model_name": "LayoutModel",
      "state": {
       "height": "50px",
       "width": "100%"
      }
     },
     "048a938a25ab426ea7619ff7588d499d": {
      "model_module": "@jupyter-widgets/base",
      "model_module_version": "1.1.0",
      "model_name": "LayoutModel",
      "state": {
       "width": "100%"
      }
     },
     "049d4f0b6c6e4c3aa4f24a01fc232b88": {
      "model_module": "@jupyter-widgets/base",
      "model_module_version": "1.1.0",
      "model_name": "LayoutModel",
      "state": {
       "width": "100%"
      }
     },
     "05084a1462834dbfbdc55dd5b8cd510d": {
      "model_module": "@jupyter-widgets/controls",
      "model_module_version": "1.4.0",
      "model_name": "IntTextModel",
      "state": {
       "description": "Feature columns:",
       "layout": "IPY_MODEL_fc92b0ca33b644ab985835e2484a33e7",
       "step": 1,
       "style": "IPY_MODEL_3f0a8bf0b7804b4aa4deb77b0385289f",
       "value": 3
      }
     },
     "05168149f5cc4277a8e9bcfb7ad98e6a": {
      "model_module": "@jupyter-widgets/controls",
      "model_module_version": "1.4.0",
      "model_name": "DescriptionStyleModel",
      "state": {
       "description_width": "initial"
      }
     },
     "0576a954223d409daf9983711e4ab109": {
      "model_module": "@jupyter-widgets/controls",
      "model_module_version": "1.4.0",
      "model_name": "ButtonStyleModel",
      "state": {}
     },
     "059fbed2da714551893c9790a7c3aa19": {
      "model_module": "@jupyter-widgets/base",
      "model_module_version": "1.1.0",
      "model_name": "LayoutModel",
      "state": {}
     },
     "05c3166baccc49088e1c0c005cc23b0c": {
      "model_module": "@jupyter-widgets/controls",
      "model_module_version": "1.4.0",
      "model_name": "DescriptionStyleModel",
      "state": {
       "description_width": ""
      }
     },
     "0606271b18d74bb5ba056f369698c8ed": {
      "model_module": "@jupyter-widgets/controls",
      "model_module_version": "1.4.0",
      "model_name": "FloatTextModel",
      "state": {
       "description": "Leftmost color maps to:",
       "layout": "IPY_MODEL_a5d094adb10b4cca88e8bc2b3cabe8f9",
       "step": null,
       "style": "IPY_MODEL_2d61e96a3e2f4b7c93be0bfeea0665da"
      }
     },
     "066a74078c374b7aa4255b9c7164cc95": {
      "model_module": "@jupyter-widgets/controls",
      "model_module_version": "1.4.0",
      "model_name": "SelectModel",
      "state": {
       "_options_labels": [
        "input",
        "rnn",
        "output"
       ],
       "description": "Layer:",
       "index": 2,
       "layout": "IPY_MODEL_e8f2265cd2c14a58b863ff057042bdd7",
       "rows": 1,
       "style": "IPY_MODEL_7e843031d011436fbd200b3785cbb97c"
      }
     },
     "06894ffeba9943509d4be3c7356f50a0": {
      "model_module": "@jupyter-widgets/controls",
      "model_module_version": "1.4.0",
      "model_name": "DescriptionStyleModel",
      "state": {
       "description_width": "initial"
      }
     },
     "06982900807d4d5888d973f388130fa9": {
      "model_module": "@jupyter-widgets/controls",
      "model_module_version": "1.4.0",
      "model_name": "ButtonStyleModel",
      "state": {}
     },
     "06c87cd2c968434096135978d87eaa01": {
      "model_module": "@jupyter-widgets/controls",
      "model_module_version": "1.4.0",
      "model_name": "HBoxModel",
      "state": {
       "children": [
        "IPY_MODEL_b6344d63f52b469fa48874d4c85b9639",
        "IPY_MODEL_8a176325a9d143b3ae7c1dd4de845cb9"
       ],
       "layout": "IPY_MODEL_cded38b302404c1a873e594438a3d01a"
      }
     },
     "06d34a6814854c8d99d897ffcab4588d": {
      "model_module": "@jupyter-widgets/base",
      "model_module_version": "1.1.0",
      "model_name": "LayoutModel",
      "state": {}
     },
     "06d7b96b546c4440bafbf55afaf30cc8": {
      "model_module": "@jupyter-widgets/base",
      "model_module_version": "1.1.0",
      "model_name": "LayoutModel",
      "state": {
       "width": "100%"
      }
     },
     "06ed5da4b11f4bd08630949239d93ebb": {
      "model_module": "@jupyter-widgets/controls",
      "model_module_version": "1.4.0",
      "model_name": "DescriptionStyleModel",
      "state": {
       "description_width": "initial"
      }
     },
     "07ab515b4c9b46e0b5b0c1bdff6d767a": {
      "model_module": "@jupyter-widgets/controls",
      "model_module_version": "1.4.0",
      "model_name": "DescriptionStyleModel",
      "state": {
       "description_width": "initial"
      }
     },
     "07e336b13fa64b878775a20c6f0c1e01": {
      "model_module": "@jupyter-widgets/controls",
      "model_module_version": "1.4.0",
      "model_name": "ButtonStyleModel",
      "state": {}
     },
     "08bb023f56194fa2af04ed4b08d2e2e0": {
      "model_module": "@jupyter-widgets/base",
      "model_module_version": "1.1.0",
      "model_name": "LayoutModel",
      "state": {
       "width": "100%"
      }
     },
     "08ec7d510c2d44d2a6b2f118d8bf7c51": {
      "model_module": "@jupyter-widgets/output",
      "model_module_version": "1.0.0",
      "model_name": "OutputModel",
      "state": {
       "layout": "IPY_MODEL_339f2bd963a047019ba5733029d6d4c2"
      }
     },
     "0993c1526a014508b8e8f51dc89928b6": {
      "model_module": "@jupyter-widgets/controls",
      "model_module_version": "1.4.0",
      "model_name": "DescriptionStyleModel",
      "state": {
       "description_width": "initial"
      }
     },
     "0a03bd722821414a8133b7955170cc58": {
      "model_module": "@jupyter-widgets/controls",
      "model_module_version": "1.4.0",
      "model_name": "CheckboxModel",
      "state": {
       "description": "Errors",
       "disabled": false,
       "layout": "IPY_MODEL_d8fc4449794c4650a49d355094a35f34",
       "style": "IPY_MODEL_8ee119cbd73642c984583cefe2919e81",
       "value": false
      }
     },
     "0a06fe85745e4efcb11ae56efc748546": {
      "model_module": "@jupyter-widgets/controls",
      "model_module_version": "1.4.0",
      "model_name": "FloatTextModel",
      "state": {
       "description": "Rightmost color maps to:",
       "layout": "IPY_MODEL_601dd17ba01444d98e7a91ba750ada41",
       "step": null,
       "style": "IPY_MODEL_94a331d0c7894f52adfa8160a4b67fcf",
       "value": 1
      }
     },
     "0a604c8b00354893840f57bb81fc2ddc": {
      "model_module": "@jupyter-widgets/controls",
      "model_module_version": "1.4.0",
      "model_name": "DescriptionStyleModel",
      "state": {
       "description_width": "initial"
      }
     },
     "0ae1652a773241ab9c099fdab7340533": {
      "model_module": "@jupyter-widgets/controls",
      "model_module_version": "1.4.0",
      "model_name": "HTMLModel",
      "state": {
       "layout": "IPY_MODEL_56e76deeaa5443fa8340fbde60c98a39",
       "style": "IPY_MODEL_3371a78a1cbc4c00b87d4d1b6d407570",
       "value": "<img src=\"data:image/gif;base64,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\"/>"
      }
     },
     "0b3a47e470df43b0a668e03d3ccd4206": {
      "model_module": "@jupyter-widgets/controls",
      "model_module_version": "1.4.0",
      "model_name": "DescriptionStyleModel",
      "state": {
       "description_width": ""
      }
     },
     "0bb9cad6017140d3b0ff484f84561940": {
      "model_module": "@jupyter-widgets/controls",
      "model_module_version": "1.4.0",
      "model_name": "ButtonModel",
      "state": {
       "icon": "forward",
       "layout": "IPY_MODEL_7cba6791968e498f8a81dc16ed20a428",
       "style": "IPY_MODEL_13163a1687b64e53b0d1c62fa29784fb"
      }
     },
     "0cd05f025bc64624a99b881d8b990869": {
      "model_module": "@jupyter-widgets/controls",
      "model_module_version": "1.4.0",
      "model_name": "ButtonModel",
      "state": {
       "icon": "forward",
       "layout": "IPY_MODEL_52f275c075684dd39523d734547c1a0b",
       "style": "IPY_MODEL_a415854368114318bbbb5b8e64ec0a47"
      }
     },
     "0d1cc18a5f9743349110d0948a503a16": {
      "model_module": "@jupyter-widgets/base",
      "model_module_version": "1.1.0",
      "model_name": "LayoutModel",
      "state": {
       "width": "100%"
      }
     },
     "0ded025604a944da95ba683e5cabd58e": {
      "model_module": "@jupyter-widgets/controls",
      "model_module_version": "1.4.0",
      "model_name": "CheckboxModel",
      "state": {
       "description": "Rotate network",
       "disabled": false,
       "layout": "IPY_MODEL_4bf40bcb87554df199c2380bbafd512c",
       "style": "IPY_MODEL_5f1229aad2414e72a96c8b17f1bc9dda",
       "value": false
      }
     },
     "0e0e4521086c4a0696a78d3902fa3540": {
      "model_module": "@jupyter-widgets/controls",
      "model_module_version": "1.4.0",
      "model_name": "IntTextModel",
      "state": {
       "description": "Vertical space between layers:",
       "layout": "IPY_MODEL_d8fc4449794c4650a49d355094a35f34",
       "step": 1,
       "style": "IPY_MODEL_55311d72af794647b84eb9b75167fe35",
       "value": 30
      }
     },
     "0e21a2d8d71c4995bdaeac45465c18db": {
      "model_module": "@jupyter-widgets/controls",
      "model_module_version": "1.4.0",
      "model_name": "SelectModel",
      "state": {
       "_options_labels": [
        ""
       ],
       "description": "Features:",
       "index": 0,
       "layout": "IPY_MODEL_35f8d5437325426d81be5986835500b8",
       "rows": 1,
       "style": "IPY_MODEL_05c3166baccc49088e1c0c005cc23b0c"
      }
     },
     "0efe26fcb66949fb87943cbb3ea0140b": {
      "model_module": "@jupyter-widgets/base",
      "model_module_version": "1.1.0",
      "model_name": "LayoutModel",
      "state": {}
     },
     "0f02e4ca76014197937040117fba10ad": {
      "model_module": "@jupyter-widgets/controls",
      "model_module_version": "1.4.0",
      "model_name": "DescriptionStyleModel",
      "state": {
       "description_width": "initial"
      }
     },
     "0f2756a3cb5f4cc0ade96c8caab9bb8f": {
      "model_module": "@jupyter-widgets/controls",
      "model_module_version": "1.4.0",
      "model_name": "SliderStyleModel",
      "state": {
       "description_width": "initial"
      }
     },
     "0fc4fee8b9384b7c8b02d67a98759ad6": {
      "model_module": "@jupyter-widgets/base",
      "model_module_version": "1.1.0",
      "model_name": "LayoutModel",
      "state": {}
     },
     "0ff8b24c87bf410da9fdac2f99c642f3": {
      "model_module": "@jupyter-widgets/controls",
      "model_module_version": "1.4.0",
      "model_name": "IntTextModel",
      "state": {
       "description": "Vertical space between layers:",
       "layout": "IPY_MODEL_c686efe2613a47a4ab06df069e39bc74",
       "step": 1,
       "style": "IPY_MODEL_bd5b8476c1064b53be804f5649052f39",
       "value": 30
      }
     },
     "10350c5f0ff44e1bbc8c41b8654ed0c3": {
      "model_module": "@jupyter-widgets/controls",
      "model_module_version": "1.4.0",
      "model_name": "HTMLModel",
      "state": {
       "layout": "IPY_MODEL_3a9ed2986e5b49cb8ce807dad2774848",
       "style": "IPY_MODEL_8ac1885818ce40c8a7653c4350dae50b",
       "value": "61440it [00:00, 662781.43it/s]"
      }
     },
     "10b8e30b12b9437cb803a10f971eff26": {
      "model_module": "@jupyter-widgets/controls",
      "model_module_version": "1.4.0",
      "model_name": "DescriptionStyleModel",
      "state": {
       "description_width": ""
      }
     },
     "1102c395012f4d6da6489a80ed1a7c5d": {
      "model_module": "@jupyter-widgets/controls",
      "model_module_version": "1.4.0",
      "model_name": "DescriptionStyleModel",
      "state": {
       "description_width": ""
      }
     },
     "111bb8d681b246f6a2fd1916d9731364": {
      "model_module": "@jupyter-widgets/controls",
      "model_module_version": "1.4.0",
      "model_name": "DescriptionStyleModel",
      "state": {
       "description_width": ""
      }
     },
     "11b8b6012ab74e5499dec7138d59869a": {
      "model_module": "@jupyter-widgets/controls",
      "model_module_version": "1.4.0",
      "model_name": "ButtonModel",
      "state": {
       "icon": "fast-backward",
       "layout": "IPY_MODEL_79e88f52b5254962810c48cb37c1ec31",
       "style": "IPY_MODEL_9339a7f77c9c4b6bae23c42a1b775106"
      }
     },
     "122af28038e94cdd82c315f57bc32a3d": {
      "model_module": "@jupyter-widgets/base",
      "model_module_version": "1.1.0",
      "model_name": "LayoutModel",
      "state": {}
     },
     "124734443c84482593f605da5aaf9f92": {
      "model_module": "@jupyter-widgets/controls",
      "model_module_version": "1.4.0",
      "model_name": "DescriptionStyleModel",
      "state": {
       "description_width": "initial"
      }
     },
     "125fdd4cd5ab49038e80b019e693dad7": {
      "model_module": "@jupyter-widgets/controls",
      "model_module_version": "1.4.0",
      "model_name": "ButtonModel",
      "state": {
       "description": "Play",
       "icon": "play",
       "layout": "IPY_MODEL_5d8bb152c8eb44c2a51fbd438e589cf5",
       "style": "IPY_MODEL_e0891f2f84934c67891adc190f2f71d3"
      }
     },
     "127d75c2efc64a518fcd853927fa6ff5": {
      "model_module": "@jupyter-widgets/controls",
      "model_module_version": "1.4.0",
      "model_name": "VBoxModel",
      "state": {
       "children": [
        "IPY_MODEL_f500c09f987a4189afd9d5c3b92d7133",
        "IPY_MODEL_15922dfc60a847e09c5ace4970690d00"
       ],
       "layout": "IPY_MODEL_01dc36b0d1d046c4aca291f2ba471a5a"
      }
     },
     "13163a1687b64e53b0d1c62fa29784fb": {
      "model_module": "@jupyter-widgets/controls",
      "model_module_version": "1.4.0",
      "model_name": "ButtonStyleModel",
      "state": {}
     },
     "135780a823284683b50695331bcb729d": {
      "model_module": "@jupyter-widgets/controls",
      "model_module_version": "1.4.0",
      "model_name": "DescriptionStyleModel",
      "state": {
       "description_width": ""
      }
     },
     "1434da4901ef40a38869546199ecf74c": {
      "model_module": "@jupyter-widgets/base",
      "model_module_version": "1.1.0",
      "model_name": "LayoutModel",
      "state": {}
     },
     "1460bbdfdcb64ac8a86879f70ae099c6": {
      "model_module": "@jupyter-widgets/base",
      "model_module_version": "1.1.0",
      "model_name": "LayoutModel",
      "state": {
       "width": "100%"
      }
     },
     "14d4f0e898324a2eb1c4c2810a3aada8": {
      "model_module": "@jupyter-widgets/base",
      "model_module_version": "1.1.0",
      "model_name": "LayoutModel",
      "state": {}
     },
     "15922dfc60a847e09c5ace4970690d00": {
      "model_module": "@jupyter-widgets/controls",
      "model_module_version": "1.4.0",
      "model_name": "HBoxModel",
      "state": {
       "children": [
        "IPY_MODEL_5db7dcb83a7346af940a649325297445",
        "IPY_MODEL_71f7d376c0234b949b7cd6824cdbc36b",
        "IPY_MODEL_3c4de39348ae450da8142e5dd6c7f74d",
        "IPY_MODEL_0cd05f025bc64624a99b881d8b990869",
        "IPY_MODEL_f66483735f4e4a8db76dfc45684373f7",
        "IPY_MODEL_d9d032e2e3aa49d2a61ea86d261faadd",
        "IPY_MODEL_35c802d451944b7c9032a4ce2810cfeb"
       ],
       "layout": "IPY_MODEL_f948bf6a48dd42c9882f51fc8091fddb"
      }
     },
     "15cb419e4fb343249c0d5a44cc61d534": {
      "model_module": "@jupyter-widgets/controls",
      "model_module_version": "1.4.0",
      "model_name": "DescriptionStyleModel",
      "state": {
       "description_width": ""
      }
     },
     "15da641157524bc0bbdce9f741e9031e": {
      "model_module": "@jupyter-widgets/controls",
      "model_module_version": "1.4.0",
      "model_name": "CheckboxModel",
      "state": {
       "description": "Show Targets",
       "disabled": false,
       "layout": "IPY_MODEL_230163d5fc0b4bd9815d530afff80cc8",
       "style": "IPY_MODEL_93f9f11f9d6b465f99f5840920204ea5",
       "value": true
      }
     },
     "15f189ba2be342c79ea2507305739236": {
      "model_module": "@jupyter-widgets/controls",
      "model_module_version": "1.4.0",
      "model_name": "DescriptionStyleModel",
      "state": {
       "description_width": "initial"
      }
     },
     "16334f26d16e42d3a3b3e62fc9d981e7": {
      "model_module": "@jupyter-widgets/base",
      "model_module_version": "1.1.0",
      "model_name": "LayoutModel",
      "state": {
       "width": "100%"
      }
     },
     "164d366be79e4f8f9cb7fddece1c5edc": {
      "model_module": "@jupyter-widgets/controls",
      "model_module_version": "1.4.0",
      "model_name": "IntTextModel",
      "state": {
       "description": "Horizontal space between banks:",
       "layout": "IPY_MODEL_c686efe2613a47a4ab06df069e39bc74",
       "step": 1,
       "style": "IPY_MODEL_765093e2029a40cf8dfa8fbc2a5d13d9",
       "value": 150
      }
     },
     "16d75e8265024fe1879b77bf5fcd75be": {
      "model_module": "@jupyter-widgets/controls",
      "model_module_version": "1.4.0",
      "model_name": "IntSliderModel",
      "state": {
       "continuous_update": false,
       "description": "Dataset index",
       "layout": "IPY_MODEL_1460bbdfdcb64ac8a86879f70ae099c6",
       "max": 158772,
       "style": "IPY_MODEL_250b7b94294941c7a375131e0084a7ae"
      }
     },
     "16dcbd99433547bda1aa1f30c4d5796d": {
      "model_module": "@jupyter-widgets/controls",
      "model_module_version": "1.4.0",
      "model_name": "VBoxModel",
      "state": {
       "children": [
        "IPY_MODEL_f401d623aff64c83a044a4e29bddfb5a",
        "IPY_MODEL_b44f005edf4e4d539fb35112934f3b3a",
        "IPY_MODEL_fac63085aaad4d00873f35cdd0b5446f",
        "IPY_MODEL_cbe487eb0c9144b897c3b5432164f298",
        "IPY_MODEL_2519b358853d4da98544bd0309195164",
        "IPY_MODEL_01ca320c83e74a75a30170594d228e3e",
        "IPY_MODEL_953fd888cf9b4a189c7533d21b54b2f5",
        "IPY_MODEL_76668413d58c40619727ab05df2f3907"
       ],
       "layout": "IPY_MODEL_6287eb845b274d71bf4348a83fe56e7d"
      }
     },
     "16fbbee10d234cb68e9d1219ea84ce15": {
      "model_module": "@jupyter-widgets/base",
      "model_module_version": "1.1.0",
      "model_name": "LayoutModel",
      "state": {
       "width": "100px"
      }
     },
     "177bf929a8d740f9ab56e0589f5b5f97": {
      "model_module": "@jupyter-widgets/controls",
      "model_module_version": "1.4.0",
      "model_name": "DescriptionStyleModel",
      "state": {
       "description_width": "initial"
      }
     },
     "17dc2714abf5495d8c52bdcd48f2a90b": {
      "model_module": "@jupyter-widgets/base",
      "model_module_version": "1.1.0",
      "model_name": "LayoutModel",
      "state": {
       "width": "65%"
      }
     },
     "18dc2f10704c44bba093717c1fda887a": {
      "model_module": "@jupyter-widgets/controls",
      "model_module_version": "1.4.0",
      "model_name": "AccordionModel",
      "state": {
       "_titles": {
        "0": "Alice in Wonderland"
       },
       "children": [
        "IPY_MODEL_6fa790e0604343faa0a6f89d2869d16a"
       ],
       "layout": "IPY_MODEL_ecf34d4f5e04410cadd8761e43e3964b",
       "selected_index": null
      }
     },
     "190ce494600d464f86b10205ee596aef": {
      "model_module": "@jupyter-widgets/controls",
      "model_module_version": "1.4.0",
      "model_name": "IntTextModel",
      "state": {
       "description": "Feature columns:",
       "layout": "IPY_MODEL_95ae94def5d640e1acaf784f79b6da81",
       "step": 1,
       "style": "IPY_MODEL_51aa372876924a24aee5598f17acea91",
       "value": 3
      }
     },
     "1b48407d538348c8bd0bcd0417215b1d": {
      "model_module": "@jupyter-widgets/controls",
      "model_module_version": "1.4.0",
      "model_name": "DescriptionStyleModel",
      "state": {
       "description_width": ""
      }
     },
     "1b6da1b896774f38911ec8812ff2516a": {
      "model_module": "@jupyter-widgets/controls",
      "model_module_version": "1.4.0",
      "model_name": "FloatSliderModel",
      "state": {
       "continuous_update": false,
       "description": "Zoom",
       "layout": "IPY_MODEL_ff3a01c3183d4328a3c9882a6d8d14d4",
       "max": 1,
       "step": 0.1,
       "style": "IPY_MODEL_2c31009707d543da889102c593d61bc3",
       "value": 0.5
      }
     },
     "1c288d94a72a436cbead81d50229180a": {
      "model_module": "@jupyter-widgets/controls",
      "model_module_version": "1.4.0",
      "model_name": "HTMLModel",
      "state": {
       "layout": "IPY_MODEL_3cd1be4251d94d7b85ac9206f6fb824f",
       "style": "IPY_MODEL_cd668b78debf4a5bb87ef5faa2e1600d",
       "value": "<img src=\"data:image/gif;base64,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\"/>"
      }
     },
     "1c747afe29794274840e004cbc4c4e1e": {
      "model_module": "@jupyter-widgets/controls",
      "model_module_version": "1.4.0",
      "model_name": "IntSliderModel",
      "state": {
       "continuous_update": false,
       "description": "Dataset index",
       "layout": "IPY_MODEL_e5b4c775c8664453a22c25da2df67ea8",
       "max": 158772,
       "style": "IPY_MODEL_a08c7f2081aa4bb281cde43b1ca6995c"
      }
     },
     "1d12600f646444a1b291c7637ad2b440": {
      "model_module": "@jupyter-widgets/controls",
      "model_module_version": "1.4.0",
      "model_name": "IntTextModel",
      "state": {
       "description": "Feature columns:",
       "layout": "IPY_MODEL_5f1c1b7a9f634b0a9776a7c39bb9e4e0",
       "step": 1,
       "style": "IPY_MODEL_288c7d1a314949e1b9a722d47404a1f7",
       "value": 3
      }
     },
     "1d56c77f70da4228a23e5d6e270177a8": {
      "model_module": "@jupyter-widgets/controls",
      "model_module_version": "1.4.0",
      "model_name": "HBoxModel",
      "state": {
       "children": [
        "IPY_MODEL_16d75e8265024fe1879b77bf5fcd75be",
        "IPY_MODEL_edce48cb2d204744b835d93438f92103"
       ],
       "layout": "IPY_MODEL_c3b5304d7a17459d961ba0dc14f0f4c0"
      }
     },
     "1e6178590c6a42a18423404b02abffd9": {
      "model_module": "@jupyter-widgets/controls",
      "model_module_version": "1.4.0",
      "model_name": "VBoxModel",
      "state": {
       "children": [
        "IPY_MODEL_acc6847028af4d68bac9fab59ac94792",
        "IPY_MODEL_127d75c2efc64a518fcd853927fa6ff5",
        "IPY_MODEL_8d5c148d4aaa4fffa69b160feb3193eb",
        "IPY_MODEL_6ffdce807f5e455d99f9670e45f8ff23"
       ],
       "layout": "IPY_MODEL_4eadae537b67442c815f3b2c243891fc"
      }
     },
     "1e7a44df39e34c0b99817cd4e6a37ce8": {
      "model_module": "@jupyter-widgets/controls",
      "model_module_version": "1.4.0",
      "model_name": "VBoxModel",
      "state": {
       "children": [
        "IPY_MODEL_dd257b97abd44715b6da4f20fbb3e62f",
        "IPY_MODEL_d7418fb805864bb78cd924e541de406e",
        "IPY_MODEL_e205d28d6a0344d18d25c6ba98230952",
        "IPY_MODEL_a2ae0018f36b4514b5d942ebdd51cfee",
        "IPY_MODEL_9bbc2c2e49a7468a9a93040af0cf048e",
        "IPY_MODEL_df175d9035f34a0c9fdebb7d656091f6",
        "IPY_MODEL_27a0de6588b143e89f45e48621b3e784",
        "IPY_MODEL_6006235c2bfd4b80b7c9b8e5441577fb"
       ],
       "layout": "IPY_MODEL_8465f860016b42989ae6d4d53e5be080"
      }
     },
     "1f0f76a7b0d84129bf0bc5c34677e461": {
      "model_module": "@jupyter-widgets/base",
      "model_module_version": "1.1.0",
      "model_name": "LayoutModel",
      "state": {}
     },
     "1fb4e9322a2f4234957fac8a12eedda5": {
      "model_module": "@jupyter-widgets/base",
      "model_module_version": "1.1.0",
      "model_name": "LayoutModel",
      "state": {
       "width": "100%"
      }
     },
     "204bc6ecea6745178efca3eeca4c0308": {
      "model_module": "@jupyter-widgets/controls",
      "model_module_version": "1.4.0",
      "model_name": "DescriptionStyleModel",
      "state": {
       "description_width": ""
      }
     },
     "2057f7a6189344dbae2723191661e0aa": {
      "model_module": "@jupyter-widgets/controls",
      "model_module_version": "1.4.0",
      "model_name": "HBoxModel",
      "state": {
       "children": [
        "IPY_MODEL_a74ebe859d48474e9aa36e985952a6e4",
        "IPY_MODEL_3e287e8c7e874a6ab51a345a12d62ffe"
       ],
       "layout": "IPY_MODEL_d5c9367032da4e188abf23a300fb0bc0"
      }
     },
     "20737f08a8a54e32a5f2ae4dd04b5822": {
      "model_module": "@jupyter-widgets/controls",
      "model_module_version": "1.4.0",
      "model_name": "SelectModel",
      "state": {
       "_options_labels": [
        "Test",
        "Train"
       ],
       "description": "Dataset:",
       "index": 1,
       "layout": "IPY_MODEL_fff1c98a41e14a1381c9fdff5a5453ed",
       "rows": 1,
       "style": "IPY_MODEL_d088c55fb8ea4d779e7c790a9eef03cb"
      }
     },
     "217b8c05a7e942dab87a74e5264e9016": {
      "model_module": "@jupyter-widgets/base",
      "model_module_version": "1.1.0",
      "model_name": "LayoutModel",
      "state": {}
     },
     "2244bf5369d24f20b68883a4fb494fb7": {
      "model_module": "@jupyter-widgets/controls",
      "model_module_version": "1.4.0",
      "model_name": "ButtonModel",
      "state": {
       "description": "Play",
       "icon": "play",
       "layout": "IPY_MODEL_ef3cbb78583b444eb299ee9c8ecb9998",
       "style": "IPY_MODEL_fe1803fb82674d27b351a357cceb7f11"
      }
     },
     "22b71aebe7b04046941d1ef4f663771f": {
      "model_module": "@jupyter-widgets/base",
      "model_module_version": "1.1.0",
      "model_name": "LayoutModel",
      "state": {
       "width": "100%"
      }
     },
     "22bdd37f0c824cf2b6cdffc6fbeb4899": {
      "model_module": "@jupyter-widgets/controls",
      "model_module_version": "1.4.0",
      "model_name": "FloatSliderModel",
      "state": {
       "continuous_update": false,
       "description": "Zoom",
       "layout": "IPY_MODEL_748d1f077b154968b61fd0e357488104",
       "max": 1,
       "step": 0.1,
       "style": "IPY_MODEL_49ac18d7860d4d9d8d0d41a9e51312dc",
       "value": 0.5
      }
     },
     "230163d5fc0b4bd9815d530afff80cc8": {
      "model_module": "@jupyter-widgets/base",
      "model_module_version": "1.1.0",
      "model_name": "LayoutModel",
      "state": {}
     },
     "2305d0fd63794d37b3d1e3a145c1097f": {
      "model_module": "@jupyter-widgets/controls",
      "model_module_version": "1.4.0",
      "model_name": "SliderStyleModel",
      "state": {
       "description_width": "initial"
      }
     },
     "2380f74e608844d88529cb01fd5f5270": {
      "model_module": "@jupyter-widgets/base",
      "model_module_version": "1.1.0",
      "model_name": "LayoutModel",
      "state": {}
     },
     "23f00db75c454f1aa52e4b7eee0ef3aa": {
      "model_module": "@jupyter-widgets/controls",
      "model_module_version": "1.4.0",
      "model_name": "DescriptionStyleModel",
      "state": {
       "description_width": "initial"
      }
     },
     "24146af7d333450d87f51ab4c3aaba56": {
      "model_module": "@jupyter-widgets/controls",
      "model_module_version": "1.4.0",
      "model_name": "IntTextModel",
      "state": {
       "description": "Horizontal space between banks:",
       "layout": "IPY_MODEL_d8fc4449794c4650a49d355094a35f34",
       "step": 1,
       "style": "IPY_MODEL_aa80a1c0273241c6b56dad226c3f85d2",
       "value": 150
      }
     },
     "2422ae06dbe1492291afbbadc7a7da86": {
      "model_module": "@jupyter-widgets/base",
      "model_module_version": "1.1.0",
      "model_name": "LayoutModel",
      "state": {}
     },
     "250b7b94294941c7a375131e0084a7ae": {
      "model_module": "@jupyter-widgets/controls",
      "model_module_version": "1.4.0",
      "model_name": "SliderStyleModel",
      "state": {
       "description_width": ""
      }
     },
     "2519b358853d4da98544bd0309195164": {
      "model_module": "@jupyter-widgets/controls",
      "model_module_version": "1.4.0",
      "model_name": "HBoxModel",
      "state": {
       "children": [
        "IPY_MODEL_e6393e1380cf4f2aa5d1733e9287a7b4",
        "IPY_MODEL_69726c592b4844a88c7e3a0ba6fd5a53"
       ],
       "layout": "IPY_MODEL_b78d0028896549b5a56b10dd96461692"
      }
     },
     "253bde0615a74b6f92451dcb00bcb6cd": {
      "model_module": "@jupyter-widgets/controls",
      "model_module_version": "1.4.0",
      "model_name": "DescriptionStyleModel",
      "state": {
       "description_width": ""
      }
     },
     "254d7020389e406d837e1b23d1f492a1": {
      "model_module": "@jupyter-widgets/controls",
      "model_module_version": "1.4.0",
      "model_name": "DescriptionStyleModel",
      "state": {
       "description_width": ""
      }
     },
     "25ec778697ff46e7b99da0c56b55a4b1": {
      "model_module": "@jupyter-widgets/controls",
      "model_module_version": "1.4.0",
      "model_name": "DescriptionStyleModel",
      "state": {
       "description_width": "initial"
      }
     },
     "2621d177595b48699fdbfb7980c93375": {
      "model_module": "@jupyter-widgets/controls",
      "model_module_version": "1.4.0",
      "model_name": "DescriptionStyleModel",
      "state": {
       "description_width": "initial"
      }
     },
     "2625dd42d89b4659a2b2aeb37bb011bb": {
      "model_module": "@jupyter-widgets/controls",
      "model_module_version": "1.4.0",
      "model_name": "HBoxModel",
      "state": {
       "children": [
        "IPY_MODEL_f1d9e9d48e6a47969dc79a774b37a6e7",
        "IPY_MODEL_31bf77c0c3014ae6ad3c698ae4d6f54e"
       ],
       "layout": "IPY_MODEL_454f054161844b28b5093fedbdc946f6"
      }
     },
     "26321018507349a1b239357c86b70456": {
      "model_module": "@jupyter-widgets/base",
      "model_module_version": "1.1.0",
      "model_name": "LayoutModel",
      "state": {}
     },
     "2732d58eb5d84244a1593be9c777dc99": {
      "model_module": "@jupyter-widgets/controls",
      "model_module_version": "1.4.0",
      "model_name": "SliderStyleModel",
      "state": {
       "description_width": "initial"
      }
     },
     "273ceabd26f04525940ef07b1167d790": {
      "model_module": "@jupyter-widgets/base",
      "model_module_version": "1.1.0",
      "model_name": "LayoutModel",
      "state": {
       "width": "100%"
      }
     },
     "27a0de6588b143e89f45e48621b3e784": {
      "model_module": "@jupyter-widgets/controls",
      "model_module_version": "1.4.0",
      "model_name": "IntTextModel",
      "state": {
       "description": "Feature to show:",
       "layout": "IPY_MODEL_1f0f76a7b0d84129bf0bc5c34677e461",
       "step": 1,
       "style": "IPY_MODEL_a2c565b919f4428bb61ba5415d33f57e"
      }
     },
     "27e1e81c430a4c1a811dc2d54c020558": {
      "model_module": "@jupyter-widgets/base",
      "model_module_version": "1.1.0",
      "model_name": "LayoutModel",
      "state": {}
     },
     "28285284e5454dad9810c11aa702e045": {
      "model_module": "@jupyter-widgets/controls",
      "model_module_version": "1.4.0",
      "model_name": "VBoxModel",
      "state": {
       "children": [
        "IPY_MODEL_d008b82e97884c34a5f46feae5e51593",
        "IPY_MODEL_0291bc4c1ea74b6eac9cc669a6ae1230"
       ],
       "layout": "IPY_MODEL_799f13676efb4cfaa03d224aa23a622d"
      }
     },
     "282a4adc56a84dab92e4f7f54dc4a8bf": {
      "model_module": "@jupyter-widgets/controls",
      "model_module_version": "1.4.0",
      "model_name": "DescriptionStyleModel",
      "state": {
       "description_width": "initial"
      }
     },
     "286c805018d943cabe537fd4f0b20ff2": {
      "model_module": "@jupyter-widgets/controls",
      "model_module_version": "1.4.0",
      "model_name": "VBoxModel",
      "state": {
       "children": [
        "IPY_MODEL_fdc0f5c6fc5c4a618e0d8ba76bd8e699",
        "IPY_MODEL_c050d2a21b834e7e91d7fcb2e35b8505",
        "IPY_MODEL_432caadd9ea3450983803714db71c1be",
        "IPY_MODEL_0ae1652a773241ab9c099fdab7340533",
        "IPY_MODEL_0606271b18d74bb5ba056f369698c8ed",
        "IPY_MODEL_0a06fe85745e4efcb11ae56efc748546",
        "IPY_MODEL_7c40d0d829b64d98b10f6493f4a2d14d",
        "IPY_MODEL_2625dd42d89b4659a2b2aeb37bb011bb"
       ],
       "layout": "IPY_MODEL_b3399e39c51248b7b3ae6b8947648ae3"
      }
     },
     "288c7d1a314949e1b9a722d47404a1f7": {
      "model_module": "@jupyter-widgets/controls",
      "model_module_version": "1.4.0",
      "model_name": "DescriptionStyleModel",
      "state": {
       "description_width": "initial"
      }
     },
     "28e86177b81147d9ba6327e735c76df2": {
      "model_module": "@jupyter-widgets/base",
      "model_module_version": "1.1.0",
      "model_name": "LayoutModel",
      "state": {
       "width": "52%"
      }
     },
     "29e84fcbf98a4215be7c9d13fca2a73e": {
      "model_module": "@jupyter-widgets/controls",
      "model_module_version": "1.4.0",
      "model_name": "HBoxModel",
      "state": {
       "children": [
        "IPY_MODEL_d056e3903f9b4c8f9bee9dd809063845",
        "IPY_MODEL_915d8b3564e449fc9a9b2b9ffefd5d66"
       ],
       "layout": "IPY_MODEL_c9fcabd7d86f4d62b032e906c600723b"
      }
     },
     "2ad98235b5a3444394c43862bb7f3680": {
      "model_module": "@jupyter-widgets/base",
      "model_module_version": "1.1.0",
      "model_name": "LayoutModel",
      "state": {
       "width": "100%"
      }
     },
     "2ae3872c46d44e9ea1a38cfc7640da64": {
      "model_module": "@jupyter-widgets/controls",
      "model_module_version": "1.4.0",
      "model_name": "HTMLModel",
      "state": {
       "layout": "IPY_MODEL_3a498258d6ea4ceabba0f7a9e0cdd7b2",
       "style": "IPY_MODEL_ba4ac54038ec4f62bafa6a6013e7fe45",
       "value": "<img src=\"data:image/gif;base64,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\"/>"
      }
     },
     "2b19844fdb994f5885fd48f2dc82cf25": {
      "model_module": "@jupyter-widgets/controls",
      "model_module_version": "1.4.0",
      "model_name": "FloatTextModel",
      "state": {
       "description": "Leftmost color maps to:",
       "layout": "IPY_MODEL_4c9605f94dfe4095936e947d00b11fa1",
       "step": null,
       "style": "IPY_MODEL_8dee30acf7ab4be7be78234b4fc4cbd3"
      }
     },
     "2b5b2a5c325d4cf185194500ef19e99d": {
      "model_module": "@jupyter-widgets/controls",
      "model_module_version": "1.4.0",
      "model_name": "ButtonStyleModel",
      "state": {}
     },
     "2c16877b7b334079b2afa95854340531": {
      "model_module": "@jupyter-widgets/controls",
      "model_module_version": "1.4.0",
      "model_name": "DescriptionStyleModel",
      "state": {
       "description_width": ""
      }
     },
     "2c31009707d543da889102c593d61bc3": {
      "model_module": "@jupyter-widgets/controls",
      "model_module_version": "1.4.0",
      "model_name": "SliderStyleModel",
      "state": {
       "description_width": "initial"
      }
     },
     "2c695abc7d734b239e7048685a6f0ba2": {
      "model_module": "@jupyter-widgets/controls",
      "model_module_version": "1.4.0",
      "model_name": "HBoxModel",
      "state": {
       "children": [
        "IPY_MODEL_15da641157524bc0bbdce9f741e9031e",
        "IPY_MODEL_e0246607c41c4d5ca5ad63d080b35429"
       ],
       "layout": "IPY_MODEL_bd4e27da1ee94ef99da4b62cbdbecb44"
      }
     },
     "2c9c20d391d444d5865e9b05a8c3142b": {
      "model_module": "@jupyter-widgets/controls",
      "model_module_version": "1.4.0",
      "model_name": "DescriptionStyleModel",
      "state": {
       "description_width": ""
      }
     },
     "2d0f4c600f8b4e97b4b3bf455498782d": {
      "model_module": "@jupyter-widgets/base",
      "model_module_version": "1.1.0",
      "model_name": "LayoutModel",
      "state": {}
     },
     "2d61e96a3e2f4b7c93be0bfeea0665da": {
      "model_module": "@jupyter-widgets/controls",
      "model_module_version": "1.4.0",
      "model_name": "DescriptionStyleModel",
      "state": {
       "description_width": "initial"
      }
     },
     "2da7c32082cc46f79ce1bf1f6946e803": {
      "model_module": "@jupyter-widgets/controls",
      "model_module_version": "1.4.0",
      "model_name": "LabelModel",
      "state": {
       "layout": "IPY_MODEL_16fbbee10d234cb68e9d1219ea84ce15",
       "style": "IPY_MODEL_620b7321ea884c758835be44dbc9f8d8",
       "value": "of 158773"
      }
     },
     "2e7181fc87e04dcc8c137c9a80afe9d7": {
      "model_module": "@jupyter-widgets/controls",
      "model_module_version": "1.4.0",
      "model_name": "ButtonModel",
      "state": {
       "icon": "fast-backward",
       "layout": "IPY_MODEL_22b71aebe7b04046941d1ef4f663771f",
       "style": "IPY_MODEL_b991a69e32d94ca994a6826b1fcaf71f"
      }
     },
     "2e96aa6d6aec40baad588c2e3b4e4ce6": {
      "model_module": "@jupyter-widgets/controls",
      "model_module_version": "1.4.0",
      "model_name": "HBoxModel",
      "state": {
       "children": [
        "IPY_MODEL_785e7ae49e2247e5b42787f0604376a6",
        "IPY_MODEL_f0af001ddd1e4a77a3cb31956ae151c8"
       ],
       "layout": "IPY_MODEL_5d179519cb2144538d376f086a22a26f"
      }
     },
     "2f89a834735449b09bc9c7c36bfacb77": {
      "model_module": "@jupyter-widgets/controls",
      "model_module_version": "1.4.0",
      "model_name": "SelectModel",
      "state": {
       "_options_labels": [
        "Test",
        "Train"
       ],
       "description": "Dataset:",
       "index": 1,
       "layout": "IPY_MODEL_fe58c92680ac4376a0154ff04604ebd7",
       "rows": 1,
       "style": "IPY_MODEL_6965f8fd26124a35b7c65c93e624ab94"
      }
     },
     "2fd31f6bf292402284adc04ca54a7cc1": {
      "model_module": "@jupyter-widgets/controls",
      "model_module_version": "1.4.0",
      "model_name": "ButtonModel",
      "state": {
       "icon": "forward",
       "layout": "IPY_MODEL_6218bf0e861540598e9c7eb93891e4ab",
       "style": "IPY_MODEL_7bbaa862392a49c78e329eb807c0e835"
      }
     },
     "2ffc9a3cc12c4cfdbc15188bc35db0b3": {
      "model_module": "@jupyter-widgets/base",
      "model_module_version": "1.1.0",
      "model_name": "LayoutModel",
      "state": {
       "width": "100%"
      }
     },
     "30933640a09742e4b0eb1ce1858fd397": {
      "model_module": "@jupyter-widgets/base",
      "model_module_version": "1.1.0",
      "model_name": "LayoutModel",
      "state": {}
     },
     "30d4c5e8c12f4835982f59b074a1af7a": {
      "model_module": "@jupyter-widgets/base",
      "model_module_version": "1.1.0",
      "model_name": "LayoutModel",
      "state": {
       "width": "100%"
      }
     },
     "3121b5fe34c745ecbf354c2855df14f7": {
      "model_module": "@jupyter-widgets/controls",
      "model_module_version": "1.4.0",
      "model_name": "ButtonModel",
      "state": {
       "description": "Play",
       "icon": "play",
       "layout": "IPY_MODEL_5fbd1f7a7ca34b5dba49a27206abf502",
       "style": "IPY_MODEL_5dc4a45ea8df4d7984c1b1f93b0bbb30"
      }
     },
     "31bf77c0c3014ae6ad3c698ae4d6f54e": {
      "model_module": "@jupyter-widgets/controls",
      "model_module_version": "1.4.0",
      "model_name": "ButtonModel",
      "state": {
       "icon": "save",
       "layout": "IPY_MODEL_b828236e20914d4db868e7b2b54ef344",
       "style": "IPY_MODEL_dd1eb48839f045cc9311748703434b35"
      }
     },
     "32cdb2d7f675422ba87ee694e25b742a": {
      "model_module": "@jupyter-widgets/controls",
      "model_module_version": "1.4.0",
      "model_name": "DescriptionStyleModel",
      "state": {
       "description_width": "initial"
      }
     },
     "330121dc4ff844c8aabfab413d7475a8": {
      "model_module": "@jupyter-widgets/base",
      "model_module_version": "1.1.0",
      "model_name": "LayoutModel",
      "state": {
       "width": "100%"
      }
     },
     "3370e1aa2fee4a609d00cde5d293e423": {
      "model_module": "@jupyter-widgets/base",
      "model_module_version": "1.1.0",
      "model_name": "LayoutModel",
      "state": {
       "width": "100%"
      }
     },
     "3371a78a1cbc4c00b87d4d1b6d407570": {
      "model_module": "@jupyter-widgets/controls",
      "model_module_version": "1.4.0",
      "model_name": "DescriptionStyleModel",
      "state": {
       "description_width": ""
      }
     },
     "339f2bd963a047019ba5733029d6d4c2": {
      "model_module": "@jupyter-widgets/base",
      "model_module_version": "1.1.0",
      "model_name": "LayoutModel",
      "state": {}
     },
     "33c2804f564e44ddb0a11da1a4a71cc9": {
      "model_module": "@jupyter-widgets/controls",
      "model_module_version": "1.4.0",
      "model_name": "HTMLModel",
      "state": {
       "layout": "IPY_MODEL_b314a5af7f31463ab942b86f7de8b991",
       "style": "IPY_MODEL_998dbf93523c44e59de6d4d51733fd3e",
       "value": "<p style=\"text-align:center\"><svg id='Alice in Wonderland' xmlns='http://www.w3.org/2000/svg' image-rendering=\"pixelated\" width=\"297.87234042553195px\" height=\"400.0px\">\n <g >\n  <svg viewBox=\"0 0 350 470\" width=\"297.87234042553195px\" height=\"400.0px\">\n    <defs>\n        <marker id=\"arrow\" markerWidth=\"10\" markerHeight=\"10\" refX=\"9\" refY=\"3\" orient=\"auto\" markerUnits=\"strokeWidth\">\n          <path d=\"M0,0 L0,6 L9,3 z\" fill=\"black\" />\n        </marker>\n    </defs><rect x=\"74.0\" y=\"24\" width=\"202\" height=\"52\" style=\"fill:none;stroke:black;stroke-width:2\"/><image id=\"picture-dashboard-Alice in Wonderland-172647_output_targets_7\" class=\"picture-dashboard-Alice in Wonderland-172647_output_targets\" x=\"75.0\" y=\"25\" height=\"50\" width=\"200\" preserveAspectRatio=\"none\" href=\"data:image/gif;base64,R0lGODdhNwABAIcAAIcAAAAAAAAAAAAAAAAAAAAAAAAAAAAAAAAAAAAAAAAAAAAAAAAAAAAAAAAAAAAAAAAAAAAAAAAAAAAAAAAAAAAAAAAAAAAAAAAAAAAAAAAAAAAAAAAAAAAAAAAAAAAAAAAAAAAAAAAAAAAAAAAAAAAAAAAAAAAAAAAAAAAAAAAAAAAAAAAAAAAAAAAAAAAAAAAAAAAAAAAAAAAAAAAAAAAAAAAAAAAAAAAAAAAAAAAAAAAAAAAAAAAAAAAAAAAAAAAAAAAAAAAAAAAAAAAAAAAAAAAAAAAAAAAAAAAAAAAAAAAAAAAAAAAAAAAAAAAAAAAAAAAAAAAAAAAAAAAAAAAAAAAAAAAAAAAAAAAAAAAAAAAAAAAAAAAAAAAAAAAAAAAAAAAAAAAAAAAAAAAAAAAAAAAAAAAAAAAAAAAAAAAAAAAAAAAAAAAAAAAAAAAAAAAAAAAAAAAAAAAAAAAAAAAAAAAAAAAAAAAAAAAAAAAAAAAAAAAAAAAAAAAAAAAAAAAAAAAAAAAAAAAAAAAAAAAAAAAAAAAAAAAAAAAAAAAAAAAAAAAAAAAAAAAAAAAAAAAAAAAAAAAAAAAAAAAAAAAAAAAAAAAAAAAAAAAAAAAAAAAAAAAAAAAAAAAAAAAAAAAAAAAAAAAAAAAAAAAAAAAAAAAAAAAAAAAAAAAAAAAAAAAAAAAAAAAAAAAAAAAAAAAAAAAAAAAAAAAAAAAAAAAAAAAAAAAAAAAAAAAAAAAAAAAAAAAAAAAAAAAAAAAAAAAAAAAAAAAAAAAAAAAAAAAAAAAAAAAAAAAAAAAAAAAAAAAAAAAAAAAAAAAAAAAAAAAAAAAAAAAAAAAAAAAAAAAAAAAAAAAAAAAAAAAAAAAAAAAAAAAAAAAAAAAAAAAAAAAAAAAAAAAAAAAAAAAAAAAAAAAAAAAAAAAAAAAAAAAAAAAAAAAAAAAAAAAAAAAAAAAAAAAAAAAAAAAAAAAAAAAAAAAAAAAAAAAAAAAAAAAAAAAAAAAAAAAAAAAAAAAAACwAAAAANwABAAAIDgABCBxIsKDBgwgTKgwIADs=\"><title>Layer: output (output)\n output range: (0, 1)\n shape = (55,)\n Keras class = Dense\n activation = softmax</title></image><text x=\"280.0\" y=\"52.0\" font-family=\"monospace\" font-size=\"12\" text-anchor=\"start\" fill=\"black\" alignment-baseline=\"central\" >targets</text><line x1=\"87.5\" y1=\"80\" x2=\"262.5\" y2=\"80\" stroke=\"green\" stroke-width=\"2\"><title></title></line><rect x=\"74.0\" y=\"84\" width=\"202\" height=\"52\" style=\"fill:none;stroke:black;stroke-width:2\"/><image id=\"picture-dashboard-Alice in Wonderland-172647_output_7\" class=\"picture-dashboard-Alice in Wonderland-172647_output\" x=\"75.0\" y=\"85\" height=\"50\" width=\"200\" preserveAspectRatio=\"none\" href=\"data:image/gif;base64,R0lGODdhNwABAIcAAIcAAAAAAAAAAAAAAAAAAAAAAAAAAAAAAAAAAAAAAAAAAAAAAAAAAAAAAAAAAAAAAAAAAAAAAAAAAAAAAAAAAAAAAAAAAAAAAAAAAAAAAAAAAAAAAAAAAAAAAAAAAAAAAAAAAAAAAAAAAAAAAAAAAAAAAAAAAAAAAAAAAAAAAAAAAAAAAAAAAAAAAAAAAAAAAAAAAAAAAAAAAAAAAAAAAAAAAAAAAAAAAAAAAAAAAAAAAAAAAAAAAAAAAAAAAAAAAAAAAAAAAAAAAAAAAAAAAAAAAAAAAAAAAAAAAAAAAAAAAAAAAAAAAAAAAAAAAAAAAAAAAAAAAAAAAAAAAAAAAAAAAAAAAAAAAAAAAAAAAAAAAAAAAAAAAAAAAAAAAAAAAAAAAAAAAAAAAAAAAAAAAAAAAAAAAAAAAAAAAAAAAAAAAAAAAAAAAAAAAAAAAAAAAAAAAAAAAAAAAAAAAAAAAAAAAAAAAAAAAAAAAAAAAAAAAAAAAAAAAAAAAAAAAAAAAAAAAAAAAAAAAAAAAAAAAAAAAAAAAAAAAAAAAAAAAAAAAAAAAAAAAAAAAAAAAAAAAAAAAAAAAAAAAAAAAAAAAAAAAAAAAAAAAAAAAAAAAAAAAAAAAAAAAAAAAAAAAAAAAAAAAAAAAAAAAAAAAAAAAAAAAAAAAAAAAAAAAAAAAAAAAAAAAAAAAAAAAAAAAAAAAAAAAAAAAAAAAAAAAAAAAAAAAAAAAAAAAAAAAAAAAAAAAAAAAAAAAAAAAAAAAAAAAAAAAAAAAAAAAAAAAAAAAAAAAAAAAAAAAAAAAAAAAAAAAAAAAAAAAAAAAAAAAAAAAAAAAAAAAAAAAAAAAAAAAAAAAAAAAAAAAAAAAAAAAAAAAAAAAAAAAAAAAAAAAAAAAAAAAAAAAAAAAAAAAAAAAAAAAAAAAAAAAAAAAAAAAAAAAAAAAAAAAAAAAAAAAAAAAAAAAAAAAAAAAAAAAAAAAAAAAAAAAAAAAAAAAAAAAAAAAAAAAAAAAAAAAAAAAAAAACwAAAAANwABAAAIDgABCBxIsKDBgwgTKgwIADs=\"><title>Layer: output (output)\n output range: (0, 1)\n shape = (55,)\n Keras class = Dense\n activation = softmax</title></image><text x=\"280.0\" y=\"112.0\" font-family=\"monospace\" font-size=\"12\" text-anchor=\"start\" fill=\"black\" alignment-baseline=\"central\" >output</text><line x1=\"175.0\" y1=\"164\" x2=\"175.0\" y2=\"137\" stroke=\"black\" stroke-width=\"2\" marker-end=\"url(#arrow)\"><title>Weights from rnn to output\n output/kernel:0 has shape (128, 55)\n output/bias:0 has shape (55,)</title></line><rect x=\"74.0\" y=\"164\" width=\"202\" height=\"52\" style=\"fill:none;stroke:black;stroke-width:2\"/><image id=\"picture-dashboard-Alice in Wonderland-172647_rnn_8\" class=\"picture-dashboard-Alice in Wonderland-172647_rnn\" x=\"75.0\" y=\"165\" height=\"50\" width=\"200\" preserveAspectRatio=\"none\" href=\"data:image/gif;base64,R0lGODdhgAABAIcAAPv3+vnn7P/Y2P+6utbW//+YmP+np7e3/8TE///Hx6Ki/2tr/3l5/4GB//+Hh52d//9tbQAAAAAAAAAAAAAAAAAAAAAAAAAAAAAAAAAAAAAAAAAAAAAAAAAAAAAAAAAAAAAAAAAAAAAAAAAAAAAAAAAAAAAAAAAAAAAAAAAAAAAAAAAAAAAAAAAAAAAAAAAAAAAAAAAAAAAAAAAAAAAAAAAAAAAAAAAAAAAAAAAAAAAAAAAAAAAAAAAAAAAAAAAAAAAAAAAAAAAAAAAAAAAAAAAAAAAAAAAAAAAAAAAAAAAAAAAAAAAAAAAAAAAAAAAAAAAAAAAAAAAAAAAAAAAAAAAAAAAAAAAAAAAAAAAAAAAAAAAAAAAAAAAAAAAAAAAAAAAAAAAAAAAAAAAAAAAAAAAAAAAAAAAAAAAAAAAAAAAAAAAAAAAAAAAAAAAAAAAAAAAAAAAAAAAAAAAAAAAAAAAAAAAAAAAAAAAAAAAAAAAAAAAAAAAAAAAAAAAAAAAAAAAAAAAAAAAAAAAAAAAAAAAAAAAAAAAAAAAAAAAAAAAAAAAAAAAAAAAAAAAAAAAAAAAAAAAAAAAAAAAAAAAAAAAAAAAAAAAAAAAAAAAAAAAAAAAAAAAAAAAAAAAAAAAAAAAAAAAAAAAAAAAAAAAAAAAAAAAAAAAAAAAAAAAAAAAAAAAAAAAAAAAAAAAAAAAAAAAAAAAAAAAAAAAAAAAAAAAAAAAAAAAAAAAAAAAAAAAAAAAAAAAAAAAAAAAAAAAAAAAAAAAAAAAAAAAAAAAAAAAAAAAAAAAAAAAAAAAAAAAAAAAAAAAAAAAAAAAAAAAAAAAAAAAAAAAAAAAAAAAAAAAAAAAAAAAAAAAAAAAAAAAAAAAAAAAAAAAAAAAAAAAAAAAAAAAAAAAAAAAAAAAAAAAAAAAAAAAAAAAAAAAAAAAAAAAAAAAAAAAAAAAAAAAAAAAAAAAAAAAAAAAAAAAAAAAAAAAAAAAAAAAAAAAAAAAAAAAAAAAAAAAAAAAAAAAAACwAAAAAgAABAAAIjwAPKEBAYICAAAkGBDAwwMABAAEAGBggAEAABgAGECAAIECDABAEBADwIEADAA4QBDgAIEABBAFiAhgwIEEAAAEIDAiQAAAAAgECCDgQAIACBAIAFADAtICAAAACBFhg4ICBAAsKAAAgAIADAAEKBABAVoCAAAUKBACAIAABAAMEGABAAMCBBAwMBFAAAEBAADs=\"><title>Layer: rnn (hidden)\n output range: (-Infinity, +Infinity)\n Keras class = SimpleRNN\n return_sequences = False\n unroll = True</title></image><text x=\"280.0\" y=\"192.0\" font-family=\"monospace\" font-size=\"12\" text-anchor=\"start\" fill=\"black\" alignment-baseline=\"central\" >rnn</text><line x1=\"175.0\" y1=\"244\" x2=\"175.0\" y2=\"217\" stroke=\"black\" stroke-width=\"2\" marker-end=\"url(#arrow)\"><title>Weights from input to rnn\n rnn/kernel:0 has shape (56, 128)\n rnn/recurrent_kernel:0 has shape (128, 128)\n rnn/bias:0 has shape (128,)</title></line><rect x=\"74.0\" y=\"244\" width=\"202\" height=\"202\" style=\"fill:none;stroke:black;stroke-width:2\"/><image id=\"picture-dashboard-Alice in Wonderland-172647_input_9\" class=\"picture-dashboard-Alice in Wonderland-172647_input\" x=\"75.0\" y=\"245\" height=\"200\" width=\"200\" preserveAspectRatio=\"none\" href=\"data:image/gif;base64,R0lGODdhOAAKAIcAAAAAAP///wAAAAAAAAAAAAAAAAAAAAAAAAAAAAAAAAAAAAAAAAAAAAAAAAAAAAAAAAAAAAAAAAAAAAAAAAAAAAAAAAAAAAAAAAAAAAAAAAAAAAAAAAAAAAAAAAAAAAAAAAAAAAAAAAAAAAAAAAAAAAAAAAAAAAAAAAAAAAAAAAAAAAAAAAAAAAAAAAAAAAAAAAAAAAAAAAAAAAAAAAAAAAAAAAAAAAAAAAAAAAAAAAAAAAAAAAAAAAAAAAAAAAAAAAAAAAAAAAAAAAAAAAAAAAAAAAAAAAAAAAAAAAAAAAAAAAAAAAAAAAAAAAAAAAAAAAAAAAAAAAAAAAAAAAAAAAAAAAAAAAAAAAAAAAAAAAAAAAAAAAAAAAAAAAAAAAAAAAAAAAAAAAAAAAAAAAAAAAAAAAAAAAAAAAAAAAAAAAAAAAAAAAAAAAAAAAAAAAAAAAAAAAAAAAAAAAAAAAAAAAAAAAAAAAAAAAAAAAAAAAAAAAAAAAAAAAAAAAAAAAAAAAAAAAAAAAAAAAAAAAAAAAAAAAAAAAAAAAAAAAAAAAAAAAAAAAAAAAAAAAAAAAAAAAAAAAAAAAAAAAAAAAAAAAAAAAAAAAAAAAAAAAAAAAAAAAAAAAAAAAAAAAAAAAAAAAAAAAAAAAAAAAAAAAAAAAAAAAAAAAAAAAAAAAAAAAAAAAAAAAAAAAAAAAAAAAAAAAAAAAAAAAAAAAAAAAAAAAAAAAAAAAAAAAAAAAAAAAAAAAAAAAAAAAAAAAAAAAAAAAAAAAAAAAAAAAAAAAAAAAAAAAAAAAAAAAAAAAAAAAAAAAAAAAAAAAAAAAAAAAAAAAAAAAAAAAAAAAAAAAAAAAAAAAAAAAAAAAAAAAAAAAAAAAAAAAAAAAAAAAAAAAAAAAAAAAAAAAAAAAAAAAAAAAAAAAAAAAAAAAAAAAAAAAAAAAAAAAAAAAAAAAAAAAAAAAAAAAAAAAAAAAAAAAAAAAAAAAAAAAAAAAAAAAAAAAAAAAAAAAAAAAAAAAAAAAAAACwAAAAAOAAKAAAIgwABCAwAoKDBgwgTKlzIsCHDAAAiSpxIsaLFixgzasQYAIDHjyBDihQZAIDJkyhTqlzJsqXLlyoDAJhJs6bNmzhz6qwZAIDPn0CDCh1KtKjRo0iJBgDAtKnTp1CjSp0aNQCAq1izat3KtavXrQEAiB1LtqzZs2IDAFjLtq3bt3Djug0IADs=\"><title>Layer: input (input)\n output range: (0.0, 1.0)\n shape = (10, 56)\n Keras class = Input</title></image><text x=\"280.0\" y=\"347.0\" font-family=\"monospace\" font-size=\"12\" text-anchor=\"start\" fill=\"black\" alignment-baseline=\"central\" >input</text><text x=\"175.0\" y=\"12.5\" font-family=\"monospace\" font-size=\"15\" text-anchor=\"middle\" fill=\"black\" alignment-baseline=\"central\" >Alice in Wonderland</text></svg></g></svg></p>"
      }
     },
     "33c9c6d08d5841199a99704ff590d899": {
      "model_module": "@jupyter-widgets/controls",
      "model_module_version": "1.4.0",
      "model_name": "LabelModel",
      "state": {
       "layout": "IPY_MODEL_3746b604bf6f4cefa8920265750529d2",
       "style": "IPY_MODEL_10b8e30b12b9437cb803a10f971eff26",
       "value": "of 158773"
      }
     },
     "33d7f7e22699466e94f34920c5af7265": {
      "model_module": "@jupyter-widgets/controls",
      "model_module_version": "1.4.0",
      "model_name": "IntTextModel",
      "state": {
       "layout": "IPY_MODEL_02b2bdfa41244e099f7baca2d964b5ac",
       "step": 1,
       "style": "IPY_MODEL_111bb8d681b246f6a2fd1916d9731364",
       "value": 8
      }
     },
     "33ffb89dd8b34e4a8b915b7c86083058": {
      "model_module": "@jupyter-widgets/base",
      "model_module_version": "1.1.0",
      "model_name": "LayoutModel",
      "state": {}
     },
     "3528203dc46249baabeb1f0ad9dfcf23": {
      "model_module": "@jupyter-widgets/controls",
      "model_module_version": "1.4.0",
      "model_name": "DescriptionStyleModel",
      "state": {
       "description_width": "initial"
      }
     },
     "355c9586c8dc4a6ca7e394c2941834c1": {
      "model_module": "@jupyter-widgets/base",
      "model_module_version": "1.1.0",
      "model_name": "LayoutModel",
      "state": {}
     },
     "35b530f2511448519cebff5a34bd4d57": {
      "model_module": "@jupyter-widgets/base",
      "model_module_version": "1.1.0",
      "model_name": "LayoutModel",
      "state": {
       "justify_content": "center",
       "overflow_x": "auto",
       "overflow_y": "auto",
       "width": "95%"
      }
     },
     "35c802d451944b7c9032a4ce2810cfeb": {
      "model_module": "@jupyter-widgets/controls",
      "model_module_version": "1.4.0",
      "model_name": "ButtonModel",
      "state": {
       "icon": "refresh",
       "layout": "IPY_MODEL_8f06d6ebcbc74871bf61406f04363c94",
       "style": "IPY_MODEL_61a25a86d51f42c89e4117e4b9b731a5"
      }
     },
     "35f8d5437325426d81be5986835500b8": {
      "model_module": "@jupyter-widgets/base",
      "model_module_version": "1.1.0",
      "model_name": "LayoutModel",
      "state": {}
     },
     "366aee3f7e6b4c44bdf216e32904ef74": {
      "model_module": "@jupyter-widgets/output",
      "model_module_version": "1.0.0",
      "model_name": "OutputModel",
      "state": {
       "layout": "IPY_MODEL_39f8782c90844794801a99a9465e8241"
      }
     },
     "3675b6262cea46558740997276991605": {
      "model_module": "@jupyter-widgets/base",
      "model_module_version": "1.1.0",
      "model_name": "LayoutModel",
      "state": {
       "width": "100%"
      }
     },
     "3746b604bf6f4cefa8920265750529d2": {
      "model_module": "@jupyter-widgets/base",
      "model_module_version": "1.1.0",
      "model_name": "LayoutModel",
      "state": {
       "width": "100px"
      }
     },
     "3780b1b48a82492fb8bf28d4b23000ba": {
      "model_module": "@jupyter-widgets/controls",
      "model_module_version": "1.4.0",
      "model_name": "ButtonStyleModel",
      "state": {}
     },
     "379151c024e14ce4b06079a34172e0c3": {
      "model_module": "@jupyter-widgets/controls",
      "model_module_version": "1.4.0",
      "model_name": "DescriptionStyleModel",
      "state": {
       "description_width": ""
      }
     },
     "38152775246c46e7b0c65475990cbe4f": {
      "model_module": "@jupyter-widgets/controls",
      "model_module_version": "1.4.0",
      "model_name": "ButtonStyleModel",
      "state": {}
     },
     "38210d31e11b430fa3d87806da68fcc1": {
      "model_module": "@jupyter-widgets/base",
      "model_module_version": "1.1.0",
      "model_name": "LayoutModel",
      "state": {}
     },
     "384072191977401c871c391e2232bb5c": {
      "model_module": "@jupyter-widgets/controls",
      "model_module_version": "1.4.0",
      "model_name": "ButtonModel",
      "state": {
       "icon": "backward",
       "layout": "IPY_MODEL_330121dc4ff844c8aabfab413d7475a8",
       "style": "IPY_MODEL_f61102422a4a42a5aabbb0f48f9e65e6"
      }
     },
     "38ab88234b784befbd2c3caaa683b3b6": {
      "model_module": "@jupyter-widgets/controls",
      "model_module_version": "1.4.0",
      "model_name": "FloatTextModel",
      "state": {
       "description": "Rightmost color maps to:",
       "layout": "IPY_MODEL_abac444de9a6405d9949ffd24e38713a",
       "step": null,
       "style": "IPY_MODEL_c73e3eede77447a3bbde3d8a6113216c",
       "value": 1
      }
     },
     "38ce782adcb74663808943679b1583b7": {
      "model_module": "@jupyter-widgets/base",
      "model_module_version": "1.1.0",
      "model_name": "LayoutModel",
      "state": {
       "width": "100px"
      }
     },
     "3986d9cbcc864c6c9ebea4002df83e56": {
      "model_module": "@jupyter-widgets/controls",
      "model_module_version": "1.4.0",
      "model_name": "DescriptionStyleModel",
      "state": {
       "description_width": "initial"
      }
     },
     "39f8782c90844794801a99a9465e8241": {
      "model_module": "@jupyter-widgets/base",
      "model_module_version": "1.1.0",
      "model_name": "LayoutModel",
      "state": {}
     },
     "3a29357a75c6429fbadc1b90205b0253": {
      "model_module": "@jupyter-widgets/controls",
      "model_module_version": "1.4.0",
      "model_name": "ButtonStyleModel",
      "state": {}
     },
     "3a498258d6ea4ceabba0f7a9e0cdd7b2": {
      "model_module": "@jupyter-widgets/base",
      "model_module_version": "1.1.0",
      "model_name": "LayoutModel",
      "state": {}
     },
     "3a9ed2986e5b49cb8ce807dad2774848": {
      "model_module": "@jupyter-widgets/base",
      "model_module_version": "1.1.0",
      "model_name": "LayoutModel",
      "state": {}
     },
     "3ab081513da245bba167bceb68b8763b": {
      "model_module": "@jupyter-widgets/controls",
      "model_module_version": "1.4.0",
      "model_name": "DescriptionStyleModel",
      "state": {
       "description_width": ""
      }
     },
     "3ad3ab6f70294c6580711f22d1bfa749": {
      "model_module": "@jupyter-widgets/controls",
      "model_module_version": "1.4.0",
      "model_name": "ButtonStyleModel",
      "state": {}
     },
     "3addb5131c44436dafc92cd92e884887": {
      "model_module": "@jupyter-widgets/base",
      "model_module_version": "1.1.0",
      "model_name": "LayoutModel",
      "state": {
       "width": "100%"
      }
     },
     "3adfd5b99d3840e5bb9faa9b5f8e3269": {
      "model_module": "@jupyter-widgets/controls",
      "model_module_version": "1.4.0",
      "model_name": "IntTextModel",
      "state": {
       "description": "Feature columns:",
       "layout": "IPY_MODEL_217b8c05a7e942dab87a74e5264e9016",
       "step": 1,
       "style": "IPY_MODEL_b567dee705124abbb47b14310b186c72",
       "value": 3
      }
     },
     "3b0fe20fb2104e75ab1eb7454c1224f5": {
      "model_module": "@jupyter-widgets/controls",
      "model_module_version": "1.4.0",
      "model_name": "DescriptionStyleModel",
      "state": {
       "description_width": "initial"
      }
     },
     "3bc3e906e31e45baafef5b9816e604da": {
      "model_module": "@jupyter-widgets/controls",
      "model_module_version": "1.4.0",
      "model_name": "ButtonStyleModel",
      "state": {}
     },
     "3c11c64a8e48473390c8cdd79816434b": {
      "model_module": "@jupyter-widgets/controls",
      "model_module_version": "1.4.0",
      "model_name": "ButtonModel",
      "state": {
       "icon": "fast-backward",
       "layout": "IPY_MODEL_4391805c48914f769e7265de4148a4d5",
       "style": "IPY_MODEL_ec7d07d7f7c641658dcd100922ef72c7"
      }
     },
     "3c205f18c57547f09b67d7ebfc6168d1": {
      "model_module": "@jupyter-widgets/controls",
      "model_module_version": "1.4.0",
      "model_name": "SelectModel",
      "state": {
       "_options_labels": [
        "",
        "Accent",
        "Accent_r",
        "Blues",
        "Blues_r",
        "BrBG",
        "BrBG_r",
        "BuGn",
        "BuGn_r",
        "BuPu",
        "BuPu_r",
        "CMRmap",
        "CMRmap_r",
        "Dark2",
        "Dark2_r",
        "GnBu",
        "GnBu_r",
        "Greens",
        "Greens_r",
        "Greys",
        "Greys_r",
        "OrRd",
        "OrRd_r",
        "Oranges",
        "Oranges_r",
        "PRGn",
        "PRGn_r",
        "Paired",
        "Paired_r",
        "Pastel1",
        "Pastel1_r",
        "Pastel2",
        "Pastel2_r",
        "PiYG",
        "PiYG_r",
        "PuBu",
        "PuBuGn",
        "PuBuGn_r",
        "PuBu_r",
        "PuOr",
        "PuOr_r",
        "PuRd",
        "PuRd_r",
        "Purples",
        "Purples_r",
        "RdBu",
        "RdBu_r",
        "RdGy",
        "RdGy_r",
        "RdPu",
        "RdPu_r",
        "RdYlBu",
        "RdYlBu_r",
        "RdYlGn",
        "RdYlGn_r",
        "Reds",
        "Reds_r",
        "Set1",
        "Set1_r",
        "Set2",
        "Set2_r",
        "Set3",
        "Set3_r",
        "Spectral",
        "Spectral_r",
        "Wistia",
        "Wistia_r",
        "YlGn",
        "YlGnBu",
        "YlGnBu_r",
        "YlGn_r",
        "YlOrBr",
        "YlOrBr_r",
        "YlOrRd",
        "YlOrRd_r",
        "afmhot",
        "afmhot_r",
        "autumn",
        "autumn_r",
        "binary",
        "binary_r",
        "bone",
        "bone_r",
        "brg",
        "brg_r",
        "bwr",
        "bwr_r",
        "cividis",
        "cividis_r",
        "cool",
        "cool_r",
        "coolwarm",
        "coolwarm_r",
        "copper",
        "copper_r",
        "cubehelix",
        "cubehelix_r",
        "flag",
        "flag_r",
        "gist_earth",
        "gist_earth_r",
        "gist_gray",
        "gist_gray_r",
        "gist_heat",
        "gist_heat_r",
        "gist_ncar",
        "gist_ncar_r",
        "gist_rainbow",
        "gist_rainbow_r",
        "gist_stern",
        "gist_stern_r",
        "gist_yarg",
        "gist_yarg_r",
        "gnuplot",
        "gnuplot2",
        "gnuplot2_r",
        "gnuplot_r",
        "gray",
        "gray_r",
        "hot",
        "hot_r",
        "hsv",
        "hsv_r",
        "inferno",
        "inferno_r",
        "jet",
        "jet_r",
        "magma",
        "magma_r",
        "nipy_spectral",
        "nipy_spectral_r",
        "ocean",
        "ocean_r",
        "pink",
        "pink_r",
        "plasma",
        "plasma_r",
        "prism",
        "prism_r",
        "rainbow",
        "rainbow_r",
        "seismic",
        "seismic_r",
        "spring",
        "spring_r",
        "summer",
        "summer_r",
        "tab10",
        "tab10_r",
        "tab20",
        "tab20_r",
        "tab20b",
        "tab20b_r",
        "tab20c",
        "tab20c_r",
        "terrain",
        "terrain_r",
        "viridis",
        "viridis_r",
        "winter",
        "winter_r"
       ],
       "description": "Colormap:",
       "index": 117,
       "layout": "IPY_MODEL_30933640a09742e4b0eb1ce1858fd397",
       "rows": 1,
       "style": "IPY_MODEL_bf7905540db9448bb07a6c9a43eb52d2"
      }
     },
     "3c4db26541ff4d968184177b5d2bd88d": {
      "model_module": "@jupyter-widgets/base",
      "model_module_version": "1.1.0",
      "model_name": "LayoutModel",
      "state": {
       "width": "100%"
      }
     },
     "3c4de39348ae450da8142e5dd6c7f74d": {
      "model_module": "@jupyter-widgets/controls",
      "model_module_version": "1.4.0",
      "model_name": "IntTextModel",
      "state": {
       "layout": "IPY_MODEL_16334f26d16e42d3a3b3e62fc9d981e7",
       "step": 1,
       "style": "IPY_MODEL_45fd796f23ae4cdd928d34ca296c21f9"
      }
     },
     "3cd1be4251d94d7b85ac9206f6fb824f": {
      "model_module": "@jupyter-widgets/base",
      "model_module_version": "1.1.0",
      "model_name": "LayoutModel",
      "state": {}
     },
     "3d4346f713e942a9aa0dc33ef94754ee": {
      "model_module": "@jupyter-widgets/controls",
      "model_module_version": "1.4.0",
      "model_name": "LabelModel",
      "state": {
       "layout": "IPY_MODEL_e5119bf48d474319ae0209b4331b7720",
       "style": "IPY_MODEL_a6ed2df8c1f94c13b1c0f2522c98aecc",
       "value": "of 158773"
      }
     },
     "3dbd7321ce784733b9973061119b9586": {
      "model_module": "@jupyter-widgets/controls",
      "model_module_version": "1.4.0",
      "model_name": "DescriptionStyleModel",
      "state": {
       "description_width": "initial"
      }
     },
     "3dc6a68962164e928c443b9709824fae": {
      "model_module": "@jupyter-widgets/controls",
      "model_module_version": "1.4.0",
      "model_name": "IntTextModel",
      "state": {
       "description": "Feature to show:",
       "layout": "IPY_MODEL_a341f7e9476f44758d6a2c5532d3529f",
       "step": 1,
       "style": "IPY_MODEL_32cdb2d7f675422ba87ee694e25b742a"
      }
     },
     "3dde77d7f0d04b88b5af15961e6298bf": {
      "model_module": "@jupyter-widgets/controls",
      "model_module_version": "1.4.0",
      "model_name": "SelectModel",
      "state": {
       "_options_labels": [
        "",
        "Accent",
        "Accent_r",
        "Blues",
        "Blues_r",
        "BrBG",
        "BrBG_r",
        "BuGn",
        "BuGn_r",
        "BuPu",
        "BuPu_r",
        "CMRmap",
        "CMRmap_r",
        "Dark2",
        "Dark2_r",
        "GnBu",
        "GnBu_r",
        "Greens",
        "Greens_r",
        "Greys",
        "Greys_r",
        "OrRd",
        "OrRd_r",
        "Oranges",
        "Oranges_r",
        "PRGn",
        "PRGn_r",
        "Paired",
        "Paired_r",
        "Pastel1",
        "Pastel1_r",
        "Pastel2",
        "Pastel2_r",
        "PiYG",
        "PiYG_r",
        "PuBu",
        "PuBuGn",
        "PuBuGn_r",
        "PuBu_r",
        "PuOr",
        "PuOr_r",
        "PuRd",
        "PuRd_r",
        "Purples",
        "Purples_r",
        "RdBu",
        "RdBu_r",
        "RdGy",
        "RdGy_r",
        "RdPu",
        "RdPu_r",
        "RdYlBu",
        "RdYlBu_r",
        "RdYlGn",
        "RdYlGn_r",
        "Reds",
        "Reds_r",
        "Set1",
        "Set1_r",
        "Set2",
        "Set2_r",
        "Set3",
        "Set3_r",
        "Spectral",
        "Spectral_r",
        "Wistia",
        "Wistia_r",
        "YlGn",
        "YlGnBu",
        "YlGnBu_r",
        "YlGn_r",
        "YlOrBr",
        "YlOrBr_r",
        "YlOrRd",
        "YlOrRd_r",
        "afmhot",
        "afmhot_r",
        "autumn",
        "autumn_r",
        "binary",
        "binary_r",
        "bone",
        "bone_r",
        "brg",
        "brg_r",
        "bwr",
        "bwr_r",
        "cividis",
        "cividis_r",
        "cool",
        "cool_r",
        "coolwarm",
        "coolwarm_r",
        "copper",
        "copper_r",
        "cubehelix",
        "cubehelix_r",
        "flag",
        "flag_r",
        "gist_earth",
        "gist_earth_r",
        "gist_gray",
        "gist_gray_r",
        "gist_heat",
        "gist_heat_r",
        "gist_ncar",
        "gist_ncar_r",
        "gist_rainbow",
        "gist_rainbow_r",
        "gist_stern",
        "gist_stern_r",
        "gist_yarg",
        "gist_yarg_r",
        "gnuplot",
        "gnuplot2",
        "gnuplot2_r",
        "gnuplot_r",
        "gray",
        "gray_r",
        "hot",
        "hot_r",
        "hsv",
        "hsv_r",
        "inferno",
        "inferno_r",
        "jet",
        "jet_r",
        "magma",
        "magma_r",
        "nipy_spectral",
        "nipy_spectral_r",
        "ocean",
        "ocean_r",
        "pink",
        "pink_r",
        "plasma",
        "plasma_r",
        "prism",
        "prism_r",
        "rainbow",
        "rainbow_r",
        "seismic",
        "seismic_r",
        "spring",
        "spring_r",
        "summer",
        "summer_r",
        "tab10",
        "tab10_r",
        "tab20",
        "tab20_r",
        "tab20b",
        "tab20b_r",
        "tab20c",
        "tab20c_r",
        "terrain",
        "terrain_r",
        "viridis",
        "viridis_r",
        "winter",
        "winter_r"
       ],
       "description": "Colormap:",
       "index": 117,
       "layout": "IPY_MODEL_230163d5fc0b4bd9815d530afff80cc8",
       "rows": 1,
       "style": "IPY_MODEL_4da9951acedc4223921994ac7fcc90d2"
      }
     },
     "3e287e8c7e874a6ab51a345a12d62ffe": {
      "model_module": "@jupyter-widgets/controls",
      "model_module_version": "1.4.0",
      "model_name": "ButtonModel",
      "state": {
       "icon": "save",
       "layout": "IPY_MODEL_f32506bf00ab4d0597f1a29c040422bb",
       "style": "IPY_MODEL_f2121c022fae45ffa93f81db301372a5"
      }
     },
     "3e6197d07b12427dbc370e3abaa902dc": {
      "model_module": "@jupyter-widgets/base",
      "model_module_version": "1.1.0",
      "model_name": "LayoutModel",
      "state": {}
     },
     "3e9b561d28d84af5b810ac3127e89d89": {
      "model_module": "@jupyter-widgets/base",
      "model_module_version": "1.1.0",
      "model_name": "LayoutModel",
      "state": {}
     },
     "3ed2485cceac44e98ea2c75c1561b80e": {
      "model_module": "@jupyter-widgets/base",
      "model_module_version": "1.1.0",
      "model_name": "LayoutModel",
      "state": {
       "width": "10%"
      }
     },
     "3f0a20b1ca244e999c1f6a1af3fe9e56": {
      "model_module": "@jupyter-widgets/base",
      "model_module_version": "1.1.0",
      "model_name": "LayoutModel",
      "state": {}
     },
     "3f0a8bf0b7804b4aa4deb77b0385289f": {
      "model_module": "@jupyter-widgets/controls",
      "model_module_version": "1.4.0",
      "model_name": "DescriptionStyleModel",
      "state": {
       "description_width": "initial"
      }
     },
     "3f6d99f203c049ffb54acdce8d690272": {
      "model_module": "@jupyter-widgets/controls",
      "model_module_version": "1.4.0",
      "model_name": "ButtonModel",
      "state": {
       "icon": "fast-backward",
       "layout": "IPY_MODEL_3675b6262cea46558740997276991605",
       "style": "IPY_MODEL_2b5b2a5c325d4cf185194500ef19e99d"
      }
     },
     "406e3c660c42419bbcbcfd4d795c8566": {
      "model_module": "@jupyter-widgets/controls",
      "model_module_version": "1.4.0",
      "model_name": "DescriptionStyleModel",
      "state": {
       "description_width": ""
      }
     },
     "4130260878034a52a83a42dd877b05a8": {
      "model_module": "@jupyter-widgets/controls",
      "model_module_version": "1.4.0",
      "model_name": "ButtonModel",
      "state": {
       "description": "Play",
       "icon": "play",
       "layout": "IPY_MODEL_1fb4e9322a2f4234957fac8a12eedda5",
       "style": "IPY_MODEL_823ab495070640f2a45291f8854f95b6"
      }
     },
     "414e0ceb125b4e9aaadfa6e661fad783": {
      "model_module": "@jupyter-widgets/controls",
      "model_module_version": "1.4.0",
      "model_name": "IntTextModel",
      "state": {
       "layout": "IPY_MODEL_2ad98235b5a3444394c43862bb7f3680",
       "step": 1,
       "style": "IPY_MODEL_8932e5791b4e4350889124e67a76fc11"
      }
     },
     "41af06b63a284104bbde5d315f03567e": {
      "model_module": "@jupyter-widgets/controls",
      "model_module_version": "1.4.0",
      "model_name": "DescriptionStyleModel",
      "state": {
       "description_width": ""
      }
     },
     "41b1c07a33bb42019a8e5e43bd7344c7": {
      "model_module": "@jupyter-widgets/controls",
      "model_module_version": "1.4.0",
      "model_name": "IntTextModel",
      "state": {
       "description": "Feature columns:",
       "layout": "IPY_MODEL_b46d9acd8f3e4052bd3154fdce691119",
       "step": 1,
       "style": "IPY_MODEL_833400bf9e524c2683468a9af3ea3f11",
       "value": 3
      }
     },
     "41b2616fd8db4dea822fd6d6e6e22186": {
      "model_module": "@jupyter-widgets/base",
      "model_module_version": "1.1.0",
      "model_name": "LayoutModel",
      "state": {}
     },
     "41dbbf63b3a34efba1163764f4736396": {
      "model_module": "@jupyter-widgets/controls",
      "model_module_version": "1.4.0",
      "model_name": "ButtonStyleModel",
      "state": {}
     },
     "41dd1a4792ad424eb097bf0357d69e7d": {
      "model_module": "@jupyter-widgets/controls",
      "model_module_version": "1.4.0",
      "model_name": "DescriptionStyleModel",
      "state": {
       "description_width": ""
      }
     },
     "421b37b8d78a48a4a9dc8873b85e7814": {
      "model_module": "@jupyter-widgets/base",
      "model_module_version": "1.1.0",
      "model_name": "LayoutModel",
      "state": {}
     },
     "42262e12fc03472297ee0fce89f86f73": {
      "model_module": "@jupyter-widgets/controls",
      "model_module_version": "1.4.0",
      "model_name": "ButtonModel",
      "state": {
       "icon": "save",
       "layout": "IPY_MODEL_98f840232dae49f2b67f6adf2e3f629c",
       "style": "IPY_MODEL_3ad3ab6f70294c6580711f22d1bfa749"
      }
     },
     "42374242d3524ddc8b6abe9e0a2bb7fb": {
      "model_module": "@jupyter-widgets/controls",
      "model_module_version": "1.4.0",
      "model_name": "HBoxModel",
      "state": {
       "children": [
        "IPY_MODEL_5985401b7138423a84ae4beee2f38de5",
        "IPY_MODEL_c85fa943d4b240d98c410832d43231be"
       ],
       "layout": "IPY_MODEL_0087559de60f4478b4de856bd7550636"
      }
     },
     "42f4ebcd64cc42f3a22db263fc4346e8": {
      "model_module": "@jupyter-widgets/base",
      "model_module_version": "1.1.0",
      "model_name": "LayoutModel",
      "state": {}
     },
     "432caadd9ea3450983803714db71c1be": {
      "model_module": "@jupyter-widgets/controls",
      "model_module_version": "1.4.0",
      "model_name": "SelectModel",
      "state": {
       "_options_labels": [
        "",
        "Accent",
        "Accent_r",
        "Blues",
        "Blues_r",
        "BrBG",
        "BrBG_r",
        "BuGn",
        "BuGn_r",
        "BuPu",
        "BuPu_r",
        "CMRmap",
        "CMRmap_r",
        "Dark2",
        "Dark2_r",
        "GnBu",
        "GnBu_r",
        "Greens",
        "Greens_r",
        "Greys",
        "Greys_r",
        "OrRd",
        "OrRd_r",
        "Oranges",
        "Oranges_r",
        "PRGn",
        "PRGn_r",
        "Paired",
        "Paired_r",
        "Pastel1",
        "Pastel1_r",
        "Pastel2",
        "Pastel2_r",
        "PiYG",
        "PiYG_r",
        "PuBu",
        "PuBuGn",
        "PuBuGn_r",
        "PuBu_r",
        "PuOr",
        "PuOr_r",
        "PuRd",
        "PuRd_r",
        "Purples",
        "Purples_r",
        "RdBu",
        "RdBu_r",
        "RdGy",
        "RdGy_r",
        "RdPu",
        "RdPu_r",
        "RdYlBu",
        "RdYlBu_r",
        "RdYlGn",
        "RdYlGn_r",
        "Reds",
        "Reds_r",
        "Set1",
        "Set1_r",
        "Set2",
        "Set2_r",
        "Set3",
        "Set3_r",
        "Spectral",
        "Spectral_r",
        "Vega10",
        "Vega10_r",
        "Vega20",
        "Vega20_r",
        "Vega20b",
        "Vega20b_r",
        "Vega20c",
        "Vega20c_r",
        "Wistia",
        "Wistia_r",
        "YlGn",
        "YlGnBu",
        "YlGnBu_r",
        "YlGn_r",
        "YlOrBr",
        "YlOrBr_r",
        "YlOrRd",
        "YlOrRd_r",
        "afmhot",
        "afmhot_r",
        "autumn",
        "autumn_r",
        "binary",
        "binary_r",
        "bone",
        "bone_r",
        "brg",
        "brg_r",
        "bwr",
        "bwr_r",
        "cool",
        "cool_r",
        "coolwarm",
        "coolwarm_r",
        "copper",
        "copper_r",
        "cubehelix",
        "cubehelix_r",
        "flag",
        "flag_r",
        "gist_earth",
        "gist_earth_r",
        "gist_gray",
        "gist_gray_r",
        "gist_heat",
        "gist_heat_r",
        "gist_ncar",
        "gist_ncar_r",
        "gist_rainbow",
        "gist_rainbow_r",
        "gist_stern",
        "gist_stern_r",
        "gist_yarg",
        "gist_yarg_r",
        "gnuplot",
        "gnuplot2",
        "gnuplot2_r",
        "gnuplot_r",
        "gray",
        "gray_r",
        "hot",
        "hot_r",
        "hsv",
        "hsv_r",
        "inferno",
        "inferno_r",
        "jet",
        "jet_r",
        "magma",
        "magma_r",
        "nipy_spectral",
        "nipy_spectral_r",
        "ocean",
        "ocean_r",
        "pink",
        "pink_r",
        "plasma",
        "plasma_r",
        "prism",
        "prism_r",
        "rainbow",
        "rainbow_r",
        "seismic",
        "seismic_r",
        "spectral",
        "spectral_r",
        "spring",
        "spring_r",
        "summer",
        "summer_r",
        "tab10",
        "tab10_r",
        "tab20",
        "tab20_r",
        "tab20b",
        "tab20b_r",
        "tab20c",
        "tab20c_r",
        "terrain",
        "terrain_r",
        "viridis",
        "viridis_r",
        "winter",
        "winter_r"
       ],
       "description": "Colormap:",
       "index": 123,
       "layout": "IPY_MODEL_14d4f0e898324a2eb1c4c2810a3aada8",
       "rows": 1,
       "style": "IPY_MODEL_41dd1a4792ad424eb097bf0357d69e7d"
      }
     },
     "43393c64d293482183930962c29ee56b": {
      "model_module": "@jupyter-widgets/base",
      "model_module_version": "1.1.0",
      "model_name": "LayoutModel",
      "state": {
       "width": "100%"
      }
     },
     "435daadfcee048039e61bcfa8644a390": {
      "model_module": "@jupyter-widgets/controls",
      "model_module_version": "1.4.0",
      "model_name": "HBoxModel",
      "state": {
       "children": [
        "IPY_MODEL_11b8b6012ab74e5499dec7138d59869a",
        "IPY_MODEL_384072191977401c871c391e2232bb5c",
        "IPY_MODEL_414e0ceb125b4e9aaadfa6e661fad783",
        "IPY_MODEL_a98a1b2350d94dbaa48121eb50366b2c",
        "IPY_MODEL_b64fac2bc05f418f8b476879775ae442",
        "IPY_MODEL_ceb6d3308c9b4b2591ea8febe30461e7",
        "IPY_MODEL_a86a9169c1cc4c21a9dbbd2d6c6bad7c"
       ],
       "layout": "IPY_MODEL_cbf77f92717a4eb68de5696b79cd1928"
      }
     },
     "437a886a17de446b9c0d1e171812d87d": {
      "model_module": "@jupyter-widgets/controls",
      "model_module_version": "1.4.0",
      "model_name": "DescriptionStyleModel",
      "state": {
       "description_width": "initial"
      }
     },
     "4391805c48914f769e7265de4148a4d5": {
      "model_module": "@jupyter-widgets/base",
      "model_module_version": "1.1.0",
      "model_name": "LayoutModel",
      "state": {
       "width": "100%"
      }
     },
     "44a7e310dcab4a16a2c3c2d3d81e15c9": {
      "model_module": "@jupyter-widgets/controls",
      "model_module_version": "1.4.0",
      "model_name": "IntTextModel",
      "state": {
       "description": "Feature to show:",
       "layout": "IPY_MODEL_63eb533bebc54a9e8bff4a0729e59c7e",
       "step": 1,
       "style": "IPY_MODEL_b2e4dc77a5b542b1b4503bd3d809d0f6"
      }
     },
     "44ebdfc264c44bda9ef4a3bb05af9ded": {
      "model_module": "@jupyter-widgets/controls",
      "model_module_version": "1.4.0",
      "model_name": "CheckboxModel",
      "state": {
       "description": "Errors",
       "disabled": false,
       "layout": "IPY_MODEL_b8bb692474f2405d995d4f83ecffe9f8",
       "style": "IPY_MODEL_78658edecc284a96aa03b64f1f3c3cf5",
       "value": false
      }
     },
     "44f71191db9f48ceb15fcba09b4aff09": {
      "model_module": "@jupyter-widgets/controls",
      "model_module_version": "1.4.0",
      "model_name": "FloatTextModel",
      "state": {
       "description": "Feature scale:",
       "layout": "IPY_MODEL_5a2bb233b421408cb07bbbe415004030",
       "step": null,
       "style": "IPY_MODEL_3986d9cbcc864c6c9ebea4002df83e56",
       "value": 1
      }
     },
     "4508134ea132444bbabe9fb22f782664": {
      "model_module": "@jupyter-widgets/base",
      "model_module_version": "1.1.0",
      "model_name": "LayoutModel",
      "state": {}
     },
     "45412ecc60e94f6c8aee19b9a581a126": {
      "model_module": "@jupyter-widgets/controls",
      "model_module_version": "1.4.0",
      "model_name": "ButtonModel",
      "state": {
       "icon": "fast-forward",
       "layout": "IPY_MODEL_c213425adbe2417e937bd9f6bb66a281",
       "style": "IPY_MODEL_e75fcc0fe4224156b4f7ef57ee525e2e"
      }
     },
     "454f054161844b28b5093fedbdc946f6": {
      "model_module": "@jupyter-widgets/base",
      "model_module_version": "1.1.0",
      "model_name": "LayoutModel",
      "state": {}
     },
     "45fd796f23ae4cdd928d34ca296c21f9": {
      "model_module": "@jupyter-widgets/controls",
      "model_module_version": "1.4.0",
      "model_name": "DescriptionStyleModel",
      "state": {
       "description_width": ""
      }
     },
     "46111670ab0d441bbd0e55f846f411db": {
      "model_module": "@jupyter-widgets/base",
      "model_module_version": "1.1.0",
      "model_name": "LayoutModel",
      "state": {
       "width": "100%"
      }
     },
     "46955e671a2d4f96bc7e069705d8bcf3": {
      "model_module": "@jupyter-widgets/controls",
      "model_module_version": "1.4.0",
      "model_name": "IntTextModel",
      "state": {
       "description": "Vertical space between layers:",
       "layout": "IPY_MODEL_b8bb692474f2405d995d4f83ecffe9f8",
       "step": 1,
       "style": "IPY_MODEL_177bf929a8d740f9ab56e0589f5b5f97",
       "value": 30
      }
     },
     "46c1e3438082481fa96858acb76c961e": {
      "model_module": "@jupyter-widgets/controls",
      "model_module_version": "1.4.0",
      "model_name": "SelectModel",
      "state": {
       "_options_labels": [
        "input",
        "rnn",
        "output"
       ],
       "description": "Layer:",
       "index": 2,
       "layout": "IPY_MODEL_815b12c93327486996a281f3d277c592",
       "rows": 1,
       "style": "IPY_MODEL_c36a16fbcbac4ca28a271b9c8ecd70dd"
      }
     },
     "46d2a5e6ebb04621a43566e33d72d40a": {
      "model_module": "@jupyter-widgets/controls",
      "model_module_version": "1.4.0",
      "model_name": "DescriptionStyleModel",
      "state": {
       "description_width": ""
      }
     },
     "47918534edfa4d568969c3275abaedb5": {
      "model_module": "@jupyter-widgets/controls",
      "model_module_version": "1.4.0",
      "model_name": "SelectModel",
      "state": {
       "_options_labels": [
        "Test",
        "Train"
       ],
       "description": "Dataset:",
       "index": 1,
       "layout": "IPY_MODEL_52b76e7386764d5daeedffabe52b81a7",
       "rows": 1,
       "style": "IPY_MODEL_758d8de5b21748f4bfd08777e1e2f091"
      }
     },
     "47fa957c6b7145e6b8fee082a93f2c5d": {
      "model_module": "@jupyter-widgets/controls",
      "model_module_version": "1.4.0",
      "model_name": "HBoxModel",
      "state": {
       "children": [
        "IPY_MODEL_5cb1754cd40446968c11c00d6c08eca8",
        "IPY_MODEL_ad5f8c7d96a34e1c941601235a95def9"
       ],
       "layout": "IPY_MODEL_e7279b8be3384942aa5f8f3f146c21db"
      }
     },
     "49419de0b5084e5aabefd93334c2d10f": {
      "model_module": "@jupyter-widgets/controls",
      "model_module_version": "1.4.0",
      "model_name": "ButtonStyleModel",
      "state": {}
     },
     "49569c3258f34189bb7f219e6652d81d": {
      "model_module": "@jupyter-widgets/base",
      "model_module_version": "1.1.0",
      "model_name": "LayoutModel",
      "state": {
       "width": "100%"
      }
     },
     "49ac18d7860d4d9d8d0d41a9e51312dc": {
      "model_module": "@jupyter-widgets/controls",
      "model_module_version": "1.4.0",
      "model_name": "SliderStyleModel",
      "state": {
       "description_width": "initial"
      }
     },
     "4a2182ce8a9d4502b3e27cfb82ed880c": {
      "model_module": "@jupyter-widgets/base",
      "model_module_version": "1.1.0",
      "model_name": "LayoutModel",
      "state": {}
     },
     "4aa1e23ed4fc465291c7b11945166ac3": {
      "model_module": "@jupyter-widgets/controls",
      "model_module_version": "1.4.0",
      "model_name": "CheckboxModel",
      "state": {
       "description": "Rotate",
       "disabled": false,
       "layout": "IPY_MODEL_d8fc4449794c4650a49d355094a35f34",
       "style": "IPY_MODEL_4f04a784e61e4af7be9ab0923a420b67",
       "value": true
      }
     },
     "4b6bfa4c363e407ca387c5342a0a3294": {
      "model_module": "@jupyter-widgets/base",
      "model_module_version": "1.1.0",
      "model_name": "LayoutModel",
      "state": {
       "justify_content": "center",
       "overflow_x": "auto",
       "overflow_y": "auto",
       "width": "95%"
      }
     },
     "4b6d9bf51f41472aa38a027074acbbbc": {
      "model_module": "@jupyter-widgets/controls",
      "model_module_version": "1.4.0",
      "model_name": "DescriptionStyleModel",
      "state": {
       "description_width": ""
      }
     },
     "4b88fda88acb4e8e82afd95049cb2c54": {
      "model_module": "@jupyter-widgets/base",
      "model_module_version": "1.1.0",
      "model_name": "LayoutModel",
      "state": {
       "width": "100px"
      }
     },
     "4bf40bcb87554df199c2380bbafd512c": {
      "model_module": "@jupyter-widgets/base",
      "model_module_version": "1.1.0",
      "model_name": "LayoutModel",
      "state": {
       "width": "52%"
      }
     },
     "4c3f5639f91b450db9dac65bad9a7837": {
      "model_module": "@jupyter-widgets/base",
      "model_module_version": "1.1.0",
      "model_name": "LayoutModel",
      "state": {
       "width": "100%"
      }
     },
     "4c9605f94dfe4095936e947d00b11fa1": {
      "model_module": "@jupyter-widgets/base",
      "model_module_version": "1.1.0",
      "model_name": "LayoutModel",
      "state": {}
     },
     "4d56ce8fb4df497b91687b0534ef5186": {
      "model_module": "@jupyter-widgets/base",
      "model_module_version": "1.1.0",
      "model_name": "LayoutModel",
      "state": {
       "width": "25%"
      }
     },
     "4d744664a760430eb08e55f16b640fb1": {
      "model_module": "@jupyter-widgets/controls",
      "model_module_version": "1.4.0",
      "model_name": "VBoxModel",
      "state": {
       "children": [
        "IPY_MODEL_b1c7bcf5c7bd4f5bb8d4f6c54633539c",
        "IPY_MODEL_435daadfcee048039e61bcfa8644a390"
       ],
       "layout": "IPY_MODEL_64528ea71a7e4b5b867401c79bd42317"
      }
     },
     "4da9951acedc4223921994ac7fcc90d2": {
      "model_module": "@jupyter-widgets/controls",
      "model_module_version": "1.4.0",
      "model_name": "DescriptionStyleModel",
      "state": {
       "description_width": ""
      }
     },
     "4e82366d992c4413846d0f90b4aacde8": {
      "model_module": "@jupyter-widgets/controls",
      "model_module_version": "1.4.0",
      "model_name": "DescriptionStyleModel",
      "state": {
       "description_width": ""
      }
     },
     "4eadae537b67442c815f3b2c243891fc": {
      "model_module": "@jupyter-widgets/base",
      "model_module_version": "1.1.0",
      "model_name": "LayoutModel",
      "state": {}
     },
     "4f04a784e61e4af7be9ab0923a420b67": {
      "model_module": "@jupyter-widgets/controls",
      "model_module_version": "1.4.0",
      "model_name": "DescriptionStyleModel",
      "state": {
       "description_width": ""
      }
     },
     "4f237ef4e5d54d72b729f1b7531a9d9c": {
      "model_module": "@jupyter-widgets/controls",
      "model_module_version": "1.4.0",
      "model_name": "DescriptionStyleModel",
      "state": {
       "description_width": "initial"
      }
     },
     "4f4f7eb1580d41639ca9789eacca6dc3": {
      "model_module": "@jupyter-widgets/controls",
      "model_module_version": "1.4.0",
      "model_name": "FloatTextModel",
      "state": {
       "description": "Feature scale:",
       "layout": "IPY_MODEL_6d914873e99945e5b9ae1805b2ef9d6c",
       "step": null,
       "style": "IPY_MODEL_bb1ace7695f247c3be05c225847c0074",
       "value": 1
      }
     },
     "50a3589548514042a5169dbeff979849": {
      "model_module": "@jupyter-widgets/controls",
      "model_module_version": "1.4.0",
      "model_name": "ButtonStyleModel",
      "state": {}
     },
     "510365c984514c549400e718fa50941e": {
      "model_module": "@jupyter-widgets/controls",
      "model_module_version": "1.4.0",
      "model_name": "FloatTextModel",
      "state": {
       "description": "Leftmost color maps to:",
       "layout": "IPY_MODEL_c3216b31369e4d56b623e764c967f9a4",
       "step": null,
       "style": "IPY_MODEL_96cedd7760ee4de68ed953209ca6f530"
      }
     },
     "5139be4adc6449ae8d2581491ca2f862": {
      "model_module": "@jupyter-widgets/controls",
      "model_module_version": "1.4.0",
      "model_name": "AccordionModel",
      "state": {
       "_titles": {
        "0": "Alice in Wonderland"
       },
       "children": [
        "IPY_MODEL_f5e25288e9174b0596bf8e5a72392b06"
       ],
       "layout": "IPY_MODEL_38210d31e11b430fa3d87806da68fcc1",
       "selected_index": null
      }
     },
     "51aa372876924a24aee5598f17acea91": {
      "model_module": "@jupyter-widgets/controls",
      "model_module_version": "1.4.0",
      "model_name": "DescriptionStyleModel",
      "state": {
       "description_width": "initial"
      }
     },
     "522d934223da420d843c45b985605cf0": {
      "model_module": "@jupyter-widgets/base",
      "model_module_version": "1.1.0",
      "model_name": "LayoutModel",
      "state": {}
     },
     "52b76e7386764d5daeedffabe52b81a7": {
      "model_module": "@jupyter-widgets/base",
      "model_module_version": "1.1.0",
      "model_name": "LayoutModel",
      "state": {}
     },
     "52f275c075684dd39523d734547c1a0b": {
      "model_module": "@jupyter-widgets/base",
      "model_module_version": "1.1.0",
      "model_name": "LayoutModel",
      "state": {
       "width": "100%"
      }
     },
     "5355cc7df8614689b51fac735b5799d1": {
      "model_module": "@jupyter-widgets/base",
      "model_module_version": "1.1.0",
      "model_name": "LayoutModel",
      "state": {
       "width": "10%"
      }
     },
     "537a6f526608476a8e651bee63b58daa": {
      "model_module": "@jupyter-widgets/controls",
      "model_module_version": "1.4.0",
      "model_name": "SelectModel",
      "state": {
       "_options_labels": [
        "Test",
        "Train"
       ],
       "description": "Dataset:",
       "index": 1,
       "layout": "IPY_MODEL_f39bdfa825fe452e820ad2a1b6664ade",
       "rows": 1,
       "style": "IPY_MODEL_9b20c25ac43c483f85d61da6d8e7fb31"
      }
     },
     "53b5a49873154c2e9cb32bee86730658": {
      "model_module": "@jupyter-widgets/base",
      "model_module_version": "1.1.0",
      "model_name": "LayoutModel",
      "state": {
       "width": "100%"
      }
     },
     "53ef6d393cd14448962c56529b4f764c": {
      "model_module": "@jupyter-widgets/base",
      "model_module_version": "1.1.0",
      "model_name": "LayoutModel",
      "state": {
       "width": "100%"
      }
     },
     "54185398bcd74624820152fe714723da": {
      "model_module": "@jupyter-widgets/controls",
      "model_module_version": "1.4.0",
      "model_name": "DescriptionStyleModel",
      "state": {
       "description_width": ""
      }
     },
     "5444a651e3854e91beca79abd6f99284": {
      "model_module": "@jupyter-widgets/controls",
      "model_module_version": "1.4.0",
      "model_name": "HBoxModel",
      "state": {
       "children": [
        "IPY_MODEL_d0df4d8f4b9e4ce8a5ffcc4f6a62b7e0",
        "IPY_MODEL_44ebdfc264c44bda9ef4a3bb05af9ded"
       ],
       "layout": "IPY_MODEL_42f4ebcd64cc42f3a22db263fc4346e8"
      }
     },
     "5469f2dfd78543568b30fec5cafcb9fc": {
      "model_module": "@jupyter-widgets/base",
      "model_module_version": "1.1.0",
      "model_name": "LayoutModel",
      "state": {
       "width": "100%"
      }
     },
     "5515e99502f34bfdab8e46a764a021a6": {
      "model_module": "@jupyter-widgets/base",
      "model_module_version": "1.1.0",
      "model_name": "LayoutModel",
      "state": {
       "justify_content": "center",
       "overflow_x": "auto",
       "overflow_y": "auto",
       "width": "95%"
      }
     },
     "55311d72af794647b84eb9b75167fe35": {
      "model_module": "@jupyter-widgets/controls",
      "model_module_version": "1.4.0",
      "model_name": "DescriptionStyleModel",
      "state": {
       "description_width": "initial"
      }
     },
     "56e76deeaa5443fa8340fbde60c98a39": {
      "model_module": "@jupyter-widgets/base",
      "model_module_version": "1.1.0",
      "model_name": "LayoutModel",
      "state": {}
     },
     "571187e562e6462cb38a50d371f6ac43": {
      "model_module": "@jupyter-widgets/controls",
      "model_module_version": "1.4.0",
      "model_name": "DescriptionStyleModel",
      "state": {
       "description_width": "initial"
      }
     },
     "576fad6bee144a078e5826292ca31518": {
      "model_module": "@jupyter-widgets/controls",
      "model_module_version": "1.4.0",
      "model_name": "DescriptionStyleModel",
      "state": {
       "description_width": ""
      }
     },
     "58e1816b785b45eab3f9c1d9e1724523": {
      "model_module": "@jupyter-widgets/base",
      "model_module_version": "1.1.0",
      "model_name": "LayoutModel",
      "state": {
       "width": "100%"
      }
     },
     "591d944fdddc49e0a403bfe448db8e9a": {
      "model_module": "@jupyter-widgets/controls",
      "model_module_version": "1.4.0",
      "model_name": "DescriptionStyleModel",
      "state": {
       "description_width": ""
      }
     },
     "595773bbf0764fcd9d83867dc70f6956": {
      "model_module": "@jupyter-widgets/controls",
      "model_module_version": "1.4.0",
      "model_name": "ButtonStyleModel",
      "state": {}
     },
     "5985401b7138423a84ae4beee2f38de5": {
      "model_module": "@jupyter-widgets/controls",
      "model_module_version": "1.4.0",
      "model_name": "VBoxModel",
      "state": {
       "children": [
        "IPY_MODEL_537a6f526608476a8e651bee63b58daa",
        "IPY_MODEL_63f5c2a08fd2469ab882f2cb6718b828",
        "IPY_MODEL_164d366be79e4f8f9cb7fddece1c5edc",
        "IPY_MODEL_0ff8b24c87bf410da9fdac2f99c642f3",
        "IPY_MODEL_96decd168e794cdb9bc6a4e1715b6a0c",
        "IPY_MODEL_0e21a2d8d71c4995bdaeac45465c18db",
        "IPY_MODEL_41b1c07a33bb42019a8e5e43bd7344c7",
        "IPY_MODEL_64480e26052543299b8751281498f3b9"
       ],
       "layout": "IPY_MODEL_820aea2b5d2a43a397ba5201d2558e99"
      }
     },
     "5a11b2d138e8426aaaa07d07dfcb1692": {
      "model_module": "@jupyter-widgets/controls",
      "model_module_version": "1.4.0",
      "model_name": "DescriptionStyleModel",
      "state": {
       "description_width": "initial"
      }
     },
     "5a2bb233b421408cb07bbbe415004030": {
      "model_module": "@jupyter-widgets/base",
      "model_module_version": "1.1.0",
      "model_name": "LayoutModel",
      "state": {}
     },
     "5b2b800e91c74646a83e2e19e694a041": {
      "model_module": "@jupyter-widgets/base",
      "model_module_version": "1.1.0",
      "model_name": "LayoutModel",
      "state": {}
     },
     "5c9bb4017ead4df28c7a928becf6ec54": {
      "model_module": "@jupyter-widgets/controls",
      "model_module_version": "1.4.0",
      "model_name": "ButtonModel",
      "state": {
       "icon": "fast-forward",
       "layout": "IPY_MODEL_fa678aec7dee4c709d9a62f5d9cfdeda",
       "style": "IPY_MODEL_eee970fb37634caea6af5f0e1215c46c"
      }
     },
     "5cb1754cd40446968c11c00d6c08eca8": {
      "model_module": "@jupyter-widgets/controls",
      "model_module_version": "1.4.0",
      "model_name": "CheckboxModel",
      "state": {
       "description": "Show Targets",
       "disabled": false,
       "layout": "IPY_MODEL_30933640a09742e4b0eb1ce1858fd397",
       "style": "IPY_MODEL_2621d177595b48699fdbfb7980c93375",
       "value": true
      }
     },
     "5d179519cb2144538d376f086a22a26f": {
      "model_module": "@jupyter-widgets/base",
      "model_module_version": "1.1.0",
      "model_name": "LayoutModel",
      "state": {}
     },
     "5d5997feb6a44c099ccb69a9cd5a83f3": {
      "model_module": "@jupyter-widgets/controls",
      "model_module_version": "1.4.0",
      "model_name": "ButtonModel",
      "state": {
       "description": "Play",
       "icon": "play",
       "layout": "IPY_MODEL_738070a31111446283f7ba162203e9d0",
       "style": "IPY_MODEL_d5f5fd96518c4f83bd94b41fa8ada881"
      }
     },
     "5d65472b9fc34dbfbddaf5765794e9b5": {
      "model_module": "@jupyter-widgets/controls",
      "model_module_version": "1.4.0",
      "model_name": "ButtonModel",
      "state": {
       "icon": "fast-backward",
       "layout": "IPY_MODEL_08bb023f56194fa2af04ed4b08d2e2e0",
       "style": "IPY_MODEL_8eb73b7f1b01452abad0735c47bc7128"
      }
     },
     "5d8bb152c8eb44c2a51fbd438e589cf5": {
      "model_module": "@jupyter-widgets/base",
      "model_module_version": "1.1.0",
      "model_name": "LayoutModel",
      "state": {
       "width": "100%"
      }
     },
     "5db7dcb83a7346af940a649325297445": {
      "model_module": "@jupyter-widgets/controls",
      "model_module_version": "1.4.0",
      "model_name": "ButtonModel",
      "state": {
       "icon": "fast-backward",
       "layout": "IPY_MODEL_bb2b680f3dd04d71b757fc3b0456b261",
       "style": "IPY_MODEL_7ea57d5197f645acacd998a1a7f70262"
      }
     },
     "5dc4a45ea8df4d7984c1b1f93b0bbb30": {
      "model_module": "@jupyter-widgets/controls",
      "model_module_version": "1.4.0",
      "model_name": "ButtonStyleModel",
      "state": {}
     },
     "5f1229aad2414e72a96c8b17f1bc9dda": {
      "model_module": "@jupyter-widgets/controls",
      "model_module_version": "1.4.0",
      "model_name": "DescriptionStyleModel",
      "state": {
       "description_width": "initial"
      }
     },
     "5f1c1b7a9f634b0a9776a7c39bb9e4e0": {
      "model_module": "@jupyter-widgets/base",
      "model_module_version": "1.1.0",
      "model_name": "LayoutModel",
      "state": {}
     },
     "5f27042070874bf4911db26cfa615d5a": {
      "model_module": "@jupyter-widgets/controls",
      "model_module_version": "1.4.0",
      "model_name": "SelectModel",
      "state": {
       "_options_labels": [
        ""
       ],
       "description": "Features:",
       "index": 0,
       "layout": "IPY_MODEL_a18ac66960eb4a21bd0b8f47f7576c52",
       "rows": 1,
       "style": "IPY_MODEL_2c16877b7b334079b2afa95854340531"
      }
     },
     "5f906dee83d34517badee33a71ef36e1": {
      "model_module": "@jupyter-widgets/controls",
      "model_module_version": "1.4.0",
      "model_name": "CheckboxModel",
      "state": {
       "description": "Show Targets",
       "disabled": false,
       "layout": "IPY_MODEL_c686efe2613a47a4ab06df069e39bc74",
       "style": "IPY_MODEL_0993c1526a014508b8e8f51dc89928b6",
       "value": true
      }
     },
     "5fb80a4240924c2b85b0cc09bb377383": {
      "model_module": "@jupyter-widgets/controls",
      "model_module_version": "1.4.0",
      "model_name": "SelectModel",
      "state": {
       "_options_labels": [
        "input",
        "rnn",
        "output"
       ],
       "description": "Layer:",
       "index": 2,
       "layout": "IPY_MODEL_3e6197d07b12427dbc370e3abaa902dc",
       "rows": 1,
       "style": "IPY_MODEL_e6e3c1ab148c4285a6a0d0e3583ef1f9"
      }
     },
     "5fbd1f7a7ca34b5dba49a27206abf502": {
      "model_module": "@jupyter-widgets/base",
      "model_module_version": "1.1.0",
      "model_name": "LayoutModel",
      "state": {
       "width": "100%"
      }
     },
     "6006235c2bfd4b80b7c9b8e5441577fb": {
      "model_module": "@jupyter-widgets/controls",
      "model_module_version": "1.4.0",
      "model_name": "HBoxModel",
      "state": {
       "children": [
        "IPY_MODEL_b1d1a1437aa441a3968f1f740effef21",
        "IPY_MODEL_d7a5a74eab924810b60ed2b1bcf68e7b"
       ],
       "layout": "IPY_MODEL_8ea778a3b1ff4a46b83342a108ccb825"
      }
     },
     "601dd17ba01444d98e7a91ba750ada41": {
      "model_module": "@jupyter-widgets/base",
      "model_module_version": "1.1.0",
      "model_name": "LayoutModel",
      "state": {}
     },
     "604ef9c2d4b64227ac5178428007000a": {
      "model_module": "@jupyter-widgets/base",
      "model_module_version": "1.1.0",
      "model_name": "LayoutModel",
      "state": {}
     },
     "61371a3ebb9541058e142a7bdbbd63cb": {
      "model_module": "@jupyter-widgets/base",
      "model_module_version": "1.1.0",
      "model_name": "LayoutModel",
      "state": {}
     },
     "6192813657634bd0bd3a2da7dd11ed73": {
      "model_module": "@jupyter-widgets/controls",
      "model_module_version": "1.4.0",
      "model_name": "HBoxModel",
      "state": {
       "children": [
        "IPY_MODEL_c5719ba920cd47c3a07d27fbfeec0a46",
        "IPY_MODEL_a2963bdf0e7e4d81b70c0910f58e784e"
       ],
       "layout": "IPY_MODEL_665f837e83ce4934a5ebf65aa94640fa"
      }
     },
     "61a25a86d51f42c89e4117e4b9b731a5": {
      "model_module": "@jupyter-widgets/controls",
      "model_module_version": "1.4.0",
      "model_name": "ButtonStyleModel",
      "state": {}
     },
     "620b7321ea884c758835be44dbc9f8d8": {
      "model_module": "@jupyter-widgets/controls",
      "model_module_version": "1.4.0",
      "model_name": "DescriptionStyleModel",
      "state": {
       "description_width": ""
      }
     },
     "6218bf0e861540598e9c7eb93891e4ab": {
      "model_module": "@jupyter-widgets/base",
      "model_module_version": "1.1.0",
      "model_name": "LayoutModel",
      "state": {
       "width": "100%"
      }
     },
     "628303a9b81045d2b77db34c72d7f862": {
      "model_module": "@jupyter-widgets/controls",
      "model_module_version": "1.4.0",
      "model_name": "VBoxModel",
      "state": {
       "children": [
        "IPY_MODEL_e13c01e1628843969b0a9a69db650787",
        "IPY_MODEL_dd5ca5eb9cb342bd89dba558ec18eeef",
        "IPY_MODEL_89b04f4ae28d4df49a2a0dc546565da2",
        "IPY_MODEL_366aee3f7e6b4c44bdf216e32904ef74"
       ],
       "layout": "IPY_MODEL_2d0f4c600f8b4e97b4b3bf455498782d"
      }
     },
     "6287eb845b274d71bf4348a83fe56e7d": {
      "model_module": "@jupyter-widgets/base",
      "model_module_version": "1.1.0",
      "model_name": "LayoutModel",
      "state": {
       "width": "100%"
      }
     },
     "62d4773b4c5340f38bedd594a1680bc7": {
      "model_module": "@jupyter-widgets/controls",
      "model_module_version": "1.4.0",
      "model_name": "CheckboxModel",
      "state": {
       "description": "Show Targets",
       "disabled": false,
       "layout": "IPY_MODEL_e139e1e900c4499f96e6f598e0f88837",
       "style": "IPY_MODEL_3b0fe20fb2104e75ab1eb7454c1224f5",
       "value": true
      }
     },
     "62d4b753c41e4ecebe0c39ebce2d818b": {
      "model_module": "@jupyter-widgets/controls",
      "model_module_version": "1.4.0",
      "model_name": "VBoxModel",
      "state": {
       "children": [
        "IPY_MODEL_8fe6152488184d609e7d8bbffbe2c948",
        "IPY_MODEL_6b2df878a8aa45dba6739f1d467f5466",
        "IPY_MODEL_b76f0ac8a74945a4917e20650adaeafb",
        "IPY_MODEL_bed033adac6e435da063693ec77cd429"
       ],
       "layout": "IPY_MODEL_d5391edb0b924877be091d8116d724a8"
      }
     },
     "62f7604aa5a74d589cd8ea3df1113f1c": {
      "model_module": "@jupyter-widgets/controls",
      "model_module_version": "1.4.0",
      "model_name": "DescriptionStyleModel",
      "state": {
       "description_width": ""
      }
     },
     "63108efd788945ef9651fd850cb7d09d": {
      "model_module": "@jupyter-widgets/controls",
      "model_module_version": "1.4.0",
      "model_name": "SliderStyleModel",
      "state": {
       "description_width": ""
      }
     },
     "631137fb35314d4a8b314e0bf13bd7c3": {
      "model_module": "@jupyter-widgets/base",
      "model_module_version": "1.1.0",
      "model_name": "LayoutModel",
      "state": {
       "width": "100%"
      }
     },
     "63e6c29222124fd49715125c51a01d67": {
      "model_module": "@jupyter-widgets/base",
      "model_module_version": "1.1.0",
      "model_name": "LayoutModel",
      "state": {
       "height": "50px",
       "width": "100%"
      }
     },
     "63eb533bebc54a9e8bff4a0729e59c7e": {
      "model_module": "@jupyter-widgets/base",
      "model_module_version": "1.1.0",
      "model_name": "LayoutModel",
      "state": {}
     },
     "63f5c2a08fd2469ab882f2cb6718b828": {
      "model_module": "@jupyter-widgets/controls",
      "model_module_version": "1.4.0",
      "model_name": "FloatSliderModel",
      "state": {
       "continuous_update": false,
       "description": "Zoom",
       "layout": "IPY_MODEL_be3e56a00f1742e985bb42f9f2520b1f",
       "max": 1,
       "step": 0.1,
       "style": "IPY_MODEL_0f2756a3cb5f4cc0ade96c8caab9bb8f",
       "value": 0.5
      }
     },
     "641f4a423ac34a19a9acd32aac4b72d3": {
      "model_module": "@jupyter-widgets/controls",
      "model_module_version": "1.4.0",
      "model_name": "DescriptionStyleModel",
      "state": {
       "description_width": "initial"
      }
     },
     "64480e26052543299b8751281498f3b9": {
      "model_module": "@jupyter-widgets/controls",
      "model_module_version": "1.4.0",
      "model_name": "FloatTextModel",
      "state": {
       "description": "Feature scale:",
       "layout": "IPY_MODEL_ee1dd61b788047c2b46a4b10a90c1bd0",
       "step": null,
       "style": "IPY_MODEL_0a604c8b00354893840f57bb81fc2ddc",
       "value": 1
      }
     },
     "64528ea71a7e4b5b867401c79bd42317": {
      "model_module": "@jupyter-widgets/base",
      "model_module_version": "1.1.0",
      "model_name": "LayoutModel",
      "state": {
       "width": "100%"
      }
     },
     "64779a5361eb40eca86656e81e63367f": {
      "model_module": "@jupyter-widgets/controls",
      "model_module_version": "1.4.0",
      "model_name": "DescriptionStyleModel",
      "state": {
       "description_width": "initial"
      }
     },
     "648d80f41ef2424ba430eee44767b0b4": {
      "model_module": "@jupyter-widgets/controls",
      "model_module_version": "1.4.0",
      "model_name": "DescriptionStyleModel",
      "state": {
       "description_width": ""
      }
     },
     "64b70376b34f441ca1ff117e3fd46e75": {
      "model_module": "@jupyter-widgets/controls",
      "model_module_version": "1.4.0",
      "model_name": "DescriptionStyleModel",
      "state": {
       "description_width": "initial"
      }
     },
     "64ebfa2f826d467a8c89c24a4c151db5": {
      "model_module": "@jupyter-widgets/controls",
      "model_module_version": "1.4.0",
      "model_name": "DescriptionStyleModel",
      "state": {
       "description_width": "initial"
      }
     },
     "655a9c14757544b78247415cf52cea6e": {
      "model_module": "@jupyter-widgets/controls",
      "model_module_version": "1.4.0",
      "model_name": "HBoxModel",
      "state": {
       "children": [
        "IPY_MODEL_a1b1b54c134a4d118dcd622d4bd257f4",
        "IPY_MODEL_7a7b5096d84e4c0489683e43537a0886"
       ],
       "layout": "IPY_MODEL_981dc169777d4633931a29980519fb58"
      }
     },
     "65fffb02d95a494a914d0faa64732b37": {
      "model_module": "@jupyter-widgets/controls",
      "model_module_version": "1.4.0",
      "model_name": "SelectModel",
      "state": {
       "_options_labels": [
        "Test",
        "Train"
       ],
       "description": "Dataset:",
       "index": 1,
       "layout": "IPY_MODEL_76a2c370d49e4e63b5d1676490346ee4",
       "rows": 1,
       "style": "IPY_MODEL_2c9c20d391d444d5865e9b05a8c3142b"
      }
     },
     "660e51acc0de4a9a95874f482cd96041": {
      "model_module": "@jupyter-widgets/controls",
      "model_module_version": "1.4.0",
      "model_name": "DescriptionStyleModel",
      "state": {
       "description_width": ""
      }
     },
     "6633dfa3c6474756983e4279c20295f0": {
      "model_module": "@jupyter-widgets/controls",
      "model_module_version": "1.4.0",
      "model_name": "HBoxModel",
      "state": {
       "children": [
        "IPY_MODEL_62d4773b4c5340f38bedd594a1680bc7",
        "IPY_MODEL_79f5b380df404072bf9ac57d2cdfd678"
       ],
       "layout": "IPY_MODEL_c7ea48c68e9e44afbe92306fbaaffe1b"
      }
     },
     "665f837e83ce4934a5ebf65aa94640fa": {
      "model_module": "@jupyter-widgets/base",
      "model_module_version": "1.1.0",
      "model_name": "LayoutModel",
      "state": {}
     },
     "6696518fb0bf4d9288f7636b107ecbeb": {
      "model_module": "@jupyter-widgets/controls",
      "model_module_version": "1.4.0",
      "model_name": "FloatSliderModel",
      "state": {
       "continuous_update": false,
       "description": "Zoom",
       "layout": "IPY_MODEL_17dc2714abf5495d8c52bdcd48f2a90b",
       "max": 1,
       "step": 0.1,
       "style": "IPY_MODEL_e6b8e06496cc4c01806ce95a56ae97c7",
       "value": 0.5
      }
     },
     "66b9a62f25a44fcdbf98fc7af3d1e9ab": {
      "model_module": "@jupyter-widgets/controls",
      "model_module_version": "1.4.0",
      "model_name": "LabelModel",
      "state": {
       "layout": "IPY_MODEL_4b88fda88acb4e8e82afd95049cb2c54",
       "style": "IPY_MODEL_576fad6bee144a078e5826292ca31518",
       "value": "of 158773"
      }
     },
     "6751aa7376cc42e58fff74597cf5adf0": {
      "model_module": "@jupyter-widgets/controls",
      "model_module_version": "1.4.0",
      "model_name": "ButtonModel",
      "state": {
       "icon": "refresh",
       "layout": "IPY_MODEL_e41ba04bf47b4214942fa07a462a7811",
       "style": "IPY_MODEL_07e336b13fa64b878775a20c6f0c1e01"
      }
     },
     "6802e06138b24b1db2ba72d116484edd": {
      "model_module": "@jupyter-widgets/controls",
      "model_module_version": "1.4.0",
      "model_name": "ButtonModel",
      "state": {
       "icon": "forward",
       "layout": "IPY_MODEL_3370e1aa2fee4a609d00cde5d293e423",
       "style": "IPY_MODEL_3bc3e906e31e45baafef5b9816e604da"
      }
     },
     "6854a0e2d0184f038bff64d23d72a0e6": {
      "model_module": "@jupyter-widgets/controls",
      "model_module_version": "1.4.0",
      "model_name": "HTMLModel",
      "state": {
       "layout": "IPY_MODEL_35b530f2511448519cebff5a34bd4d57",
       "style": "IPY_MODEL_4e82366d992c4413846d0f90b4aacde8",
       "value": "<p style=\"text-align:center\"><svg id='Alice in Wonderland' xmlns='http://www.w3.org/2000/svg' image-rendering=\"pixelated\" width=\"297.87234042553195px\" height=\"400.0px\">\n <g >\n  <svg viewBox=\"0 0 350 470\" width=\"297.87234042553195px\" height=\"400.0px\">\n    <defs>\n        <marker id=\"arrow\" markerWidth=\"10\" markerHeight=\"10\" refX=\"9\" refY=\"3\" orient=\"auto\" markerUnits=\"strokeWidth\">\n          <path d=\"M0,0 L0,6 L9,3 z\" fill=\"black\" />\n        </marker>\n    </defs><rect x=\"74.0\" y=\"24\" width=\"202\" height=\"52\" style=\"fill:none;stroke:black;stroke-width:2\"/><image id=\"picture-dashboard-Alice in Wonderland-349097_output_targets_1\" class=\"picture-dashboard-Alice in Wonderland-349097_output_targets\" x=\"75.0\" y=\"25\" height=\"50\" width=\"200\" preserveAspectRatio=\"none\" href=\"data:image/gif;base64,R0lGODdhOAABAIcAAAQEBAAAAAAAAAAAAAAAAAAAAAAAAAAAAAAAAAAAAAAAAAAAAAAAAAAAAAAAAAAAAAAAAAAAAAAAAAAAAAAAAAAAAAAAAAAAAAAAAAAAAAAAAAAAAAAAAAAAAAAAAAAAAAAAAAAAAAAAAAAAAAAAAAAAAAAAAAAAAAAAAAAAAAAAAAAAAAAAAAAAAAAAAAAAAAAAAAAAAAAAAAAAAAAAAAAAAAAAAAAAAAAAAAAAAAAAAAAAAAAAAAAAAAAAAAAAAAAAAAAAAAAAAAAAAAAAAAAAAAAAAAAAAAAAAAAAAAAAAAAAAAAAAAAAAAAAAAAAAAAAAAAAAAAAAAAAAAAAAAAAAAAAAAAAAAAAAAAAAAAAAAAAAAAAAAAAAAAAAAAAAAAAAAAAAAAAAAAAAAAAAAAAAAAAAAAAAAAAAAAAAAAAAAAAAAAAAAAAAAAAAAAAAAAAAAAAAAAAAAAAAAAAAAAAAAAAAAAAAAAAAAAAAAAAAAAAAAAAAAAAAAAAAAAAAAAAAAAAAAAAAAAAAAAAAAAAAAAAAAAAAAAAAAAAAAAAAAAAAAAAAAAAAAAAAAAAAAAAAAAAAAAAAAAAAAAAAAAAAAAAAAAAAAAAAAAAAAAAAAAAAAAAAAAAAAAAAAAAAAAAAAAAAAAAAAAAAAAAAAAAAAAAAAAAAAAAAAAAAAAAAAAAAAAAAAAAAAAAAAAAAAAAAAAAAAAAAAAAAAAAAAAAAAAAAAAAAAAAAAAAAAAAAAAAAAAAAAAAAAAAAAAAAAAAAAAAAAAAAAAAAAAAAAAAAAAAAAAAAAAAAAAAAAAAAAAAAAAAAAAAAAAAAAAAAAAAAAAAAAAAAAAAAAAAAAAAAAAAAAAAAAAAAAAAAAAAAAAAAAAAAAAAAAAAAAAAAAAAAAAAAAAAAAAAAAAAAAAAAAAAAAAAAAAAAAAAAAAAAAAAAAAAAAAAAAAAAAAAAAAAAAAAAAAAAAAAAAAAAAAAAAAAAAAAAAAAAAAAAAAAAAAAAAAAAAAAAAAAAAAAACwAAAAAOAABAAAIDwABCBxIsKDBgwgTKgQQEAA7\"><title>Layer: output (output)\n output range: (0.0, 1.0)\n shape = (56,)\n Keras class = Dense\n activation = softmax</title></image><text x=\"280.0\" y=\"52.0\" font-family=\"monospace\" font-size=\"12\" text-anchor=\"start\" fill=\"black\" alignment-baseline=\"central\" >targets</text><line x1=\"87.5\" y1=\"80\" x2=\"262.5\" y2=\"80\" stroke=\"green\" stroke-width=\"2\"><title></title></line><rect x=\"74.0\" y=\"84\" width=\"202\" height=\"52\" style=\"fill:none;stroke:black;stroke-width:2\"/><image id=\"picture-dashboard-Alice in Wonderland-349097_output_1\" class=\"picture-dashboard-Alice in Wonderland-349097_output\" x=\"75.0\" y=\"85\" height=\"50\" width=\"200\" preserveAspectRatio=\"none\" href=\"data:image/gif;base64,R0lGODdhOAABAIcAAAQEBAAAAAAAAAAAAAAAAAAAAAAAAAAAAAAAAAAAAAAAAAAAAAAAAAAAAAAAAAAAAAAAAAAAAAAAAAAAAAAAAAAAAAAAAAAAAAAAAAAAAAAAAAAAAAAAAAAAAAAAAAAAAAAAAAAAAAAAAAAAAAAAAAAAAAAAAAAAAAAAAAAAAAAAAAAAAAAAAAAAAAAAAAAAAAAAAAAAAAAAAAAAAAAAAAAAAAAAAAAAAAAAAAAAAAAAAAAAAAAAAAAAAAAAAAAAAAAAAAAAAAAAAAAAAAAAAAAAAAAAAAAAAAAAAAAAAAAAAAAAAAAAAAAAAAAAAAAAAAAAAAAAAAAAAAAAAAAAAAAAAAAAAAAAAAAAAAAAAAAAAAAAAAAAAAAAAAAAAAAAAAAAAAAAAAAAAAAAAAAAAAAAAAAAAAAAAAAAAAAAAAAAAAAAAAAAAAAAAAAAAAAAAAAAAAAAAAAAAAAAAAAAAAAAAAAAAAAAAAAAAAAAAAAAAAAAAAAAAAAAAAAAAAAAAAAAAAAAAAAAAAAAAAAAAAAAAAAAAAAAAAAAAAAAAAAAAAAAAAAAAAAAAAAAAAAAAAAAAAAAAAAAAAAAAAAAAAAAAAAAAAAAAAAAAAAAAAAAAAAAAAAAAAAAAAAAAAAAAAAAAAAAAAAAAAAAAAAAAAAAAAAAAAAAAAAAAAAAAAAAAAAAAAAAAAAAAAAAAAAAAAAAAAAAAAAAAAAAAAAAAAAAAAAAAAAAAAAAAAAAAAAAAAAAAAAAAAAAAAAAAAAAAAAAAAAAAAAAAAAAAAAAAAAAAAAAAAAAAAAAAAAAAAAAAAAAAAAAAAAAAAAAAAAAAAAAAAAAAAAAAAAAAAAAAAAAAAAAAAAAAAAAAAAAAAAAAAAAAAAAAAAAAAAAAAAAAAAAAAAAAAAAAAAAAAAAAAAAAAAAAAAAAAAAAAAAAAAAAAAAAAAAAAAAAAAAAAAAAAAAAAAAAAAAAAAAAAAAAAAAAAAAAAAAAAAAAAAAAAAAAAAAAAAAAAAAAAAAAAAAACwAAAAAOAABAAAIDwABCBxIsKDBgwgTKgQQEAA7\"><title>Layer: output (output)\n output range: (0.0, 1.0)\n shape = (56,)\n Keras class = Dense\n activation = softmax</title></image><text x=\"280.0\" y=\"112.0\" font-family=\"monospace\" font-size=\"12\" text-anchor=\"start\" fill=\"black\" alignment-baseline=\"central\" >output</text><line x1=\"175.0\" y1=\"164\" x2=\"175.0\" y2=\"137\" stroke=\"black\" stroke-width=\"2\" marker-end=\"url(#arrow)\"><title>Weights from rnn to output\n output/kernel:0 has shape (128, 56)\n output/bias:0 has shape (56,)</title></line><rect x=\"74.0\" y=\"164\" width=\"202\" height=\"52\" style=\"fill:none;stroke:black;stroke-width:2\"/><image id=\"picture-dashboard-Alice in Wonderland-349097_rnn_2\" class=\"picture-dashboard-Alice in Wonderland-349097_rnn\" x=\"75.0\" y=\"165\" height=\"50\" width=\"200\" preserveAspectRatio=\"none\" href=\"data:image/gif;base64,R0lGODdhgAABAIcAAPTm8fr3+//IyP/X19TU/8fH/7S0/6am//+Vlf+oqP+1tYSE/5qa//+Li3V1/2Vl/wAAAAAAAAAAAAAAAAAAAAAAAAAAAAAAAAAAAAAAAAAAAAAAAAAAAAAAAAAAAAAAAAAAAAAAAAAAAAAAAAAAAAAAAAAAAAAAAAAAAAAAAAAAAAAAAAAAAAAAAAAAAAAAAAAAAAAAAAAAAAAAAAAAAAAAAAAAAAAAAAAAAAAAAAAAAAAAAAAAAAAAAAAAAAAAAAAAAAAAAAAAAAAAAAAAAAAAAAAAAAAAAAAAAAAAAAAAAAAAAAAAAAAAAAAAAAAAAAAAAAAAAAAAAAAAAAAAAAAAAAAAAAAAAAAAAAAAAAAAAAAAAAAAAAAAAAAAAAAAAAAAAAAAAAAAAAAAAAAAAAAAAAAAAAAAAAAAAAAAAAAAAAAAAAAAAAAAAAAAAAAAAAAAAAAAAAAAAAAAAAAAAAAAAAAAAAAAAAAAAAAAAAAAAAAAAAAAAAAAAAAAAAAAAAAAAAAAAAAAAAAAAAAAAAAAAAAAAAAAAAAAAAAAAAAAAAAAAAAAAAAAAAAAAAAAAAAAAAAAAAAAAAAAAAAAAAAAAAAAAAAAAAAAAAAAAAAAAAAAAAAAAAAAAAAAAAAAAAAAAAAAAAAAAAAAAAAAAAAAAAAAAAAAAAAAAAAAAAAAAAAAAAAAAAAAAAAAAAAAAAAAAAAAAAAAAAAAAAAAAAAAAAAAAAAAAAAAAAAAAAAAAAAAAAAAAAAAAAAAAAAAAAAAAAAAAAAAAAAAAAAAAAAAAAAAAAAAAAAAAAAAAAAAAAAAAAAAAAAAAAAAAAAAAAAAAAAAAAAAAAAAAAAAAAAAAAAAAAAAAAAAAAAAAAAAAAAAAAAAAAAAAAAAAAAAAAAAAAAAAAAAAAAAAAAAAAAAAAAAAAAAAAAAAAAAAAAAAAAAAAAAAAAAAAAAAAAAAAAAAAAAAAAAAAAAAAAAAAAAAAAAAAAAAAAAAAAAAAAAAAAAAAAAAAAAAAAAAAAAACwAAAAAgAABAAAIkgALABBQQIACAQASDBAAQAEAAAMKEBhgYECBAQMIMDDAIACCAgcAAAggAEEAAAsGIAjAMgCCAwEEECBwIECABwwKHCgwIIEBAQAAFAjQIMABAwQUAAiQwEGCAQACEACQwICBAAMACBAQAECABgQEBAAQAAACBA0cAFBAYIGABAEEAFggQEAAAwAODAAwYAABAgEBADs=\"><title>Layer: rnn (hidden)\n output range: (-Infinity, +Infinity)\n Keras class = SimpleRNN\n return_sequences = False\n unroll = True</title></image><text x=\"280.0\" y=\"192.0\" font-family=\"monospace\" font-size=\"12\" text-anchor=\"start\" fill=\"black\" alignment-baseline=\"central\" >rnn</text><line x1=\"175.0\" y1=\"244\" x2=\"175.0\" y2=\"217\" stroke=\"black\" stroke-width=\"2\" marker-end=\"url(#arrow)\"><title>Weights from input to rnn\n rnn/kernel:0 has shape (56, 128)\n rnn/recurrent_kernel:0 has shape (128, 128)\n rnn/bias:0 has shape (128,)</title></line><rect x=\"74.0\" y=\"244\" width=\"202\" height=\"202\" style=\"fill:none;stroke:black;stroke-width:2\"/><image id=\"picture-dashboard-Alice in Wonderland-349097_input_3\" class=\"picture-dashboard-Alice in Wonderland-349097_input\" x=\"75.0\" y=\"245\" height=\"200\" width=\"200\" preserveAspectRatio=\"none\" href=\"data:image/gif;base64,R0lGODdhOAAKAIcAAAAAAP///wAAAAAAAAAAAAAAAAAAAAAAAAAAAAAAAAAAAAAAAAAAAAAAAAAAAAAAAAAAAAAAAAAAAAAAAAAAAAAAAAAAAAAAAAAAAAAAAAAAAAAAAAAAAAAAAAAAAAAAAAAAAAAAAAAAAAAAAAAAAAAAAAAAAAAAAAAAAAAAAAAAAAAAAAAAAAAAAAAAAAAAAAAAAAAAAAAAAAAAAAAAAAAAAAAAAAAAAAAAAAAAAAAAAAAAAAAAAAAAAAAAAAAAAAAAAAAAAAAAAAAAAAAAAAAAAAAAAAAAAAAAAAAAAAAAAAAAAAAAAAAAAAAAAAAAAAAAAAAAAAAAAAAAAAAAAAAAAAAAAAAAAAAAAAAAAAAAAAAAAAAAAAAAAAAAAAAAAAAAAAAAAAAAAAAAAAAAAAAAAAAAAAAAAAAAAAAAAAAAAAAAAAAAAAAAAAAAAAAAAAAAAAAAAAAAAAAAAAAAAAAAAAAAAAAAAAAAAAAAAAAAAAAAAAAAAAAAAAAAAAAAAAAAAAAAAAAAAAAAAAAAAAAAAAAAAAAAAAAAAAAAAAAAAAAAAAAAAAAAAAAAAAAAAAAAAAAAAAAAAAAAAAAAAAAAAAAAAAAAAAAAAAAAAAAAAAAAAAAAAAAAAAAAAAAAAAAAAAAAAAAAAAAAAAAAAAAAAAAAAAAAAAAAAAAAAAAAAAAAAAAAAAAAAAAAAAAAAAAAAAAAAAAAAAAAAAAAAAAAAAAAAAAAAAAAAAAAAAAAAAAAAAAAAAAAAAAAAAAAAAAAAAAAAAAAAAAAAAAAAAAAAAAAAAAAAAAAAAAAAAAAAAAAAAAAAAAAAAAAAAAAAAAAAAAAAAAAAAAAAAAAAAAAAAAAAAAAAAAAAAAAAAAAAAAAAAAAAAAAAAAAAAAAAAAAAAAAAAAAAAAAAAAAAAAAAAAAAAAAAAAAAAAAAAAAAAAAAAAAAAAAAAAAAAAAAAAAAAAAAAAAAAAAAAAAAAAAAAAAAAAAAAAAAAAAAAAAAAAAAAAAAAAAAAAAAAAAACwAAAAAOAAKAAAIhgABCBxIsKDBgwgTBgDAsKHDhxAjSpzoMACAixgzatzIsaPHjyADABhJsqTJkyhTqkwZAIDLlzBjypxJM2YAADhz6tzJsyfOAACCCh1KtKjRo0iTKg0AoKnTp1CjSp1KtarVq04DANjKtavXr2DDih0LIACAs2jTqlUbAIDbt3Djyp1Ld25AADs=\"><title>Layer: input (input)\n output range: (0.0, 1.0)\n shape = (10, 56)\n Keras class = Input</title></image><text x=\"280.0\" y=\"347.0\" font-family=\"monospace\" font-size=\"12\" text-anchor=\"start\" fill=\"black\" alignment-baseline=\"central\" >input</text><text x=\"175.0\" y=\"12.5\" font-family=\"monospace\" font-size=\"15\" text-anchor=\"middle\" fill=\"black\" alignment-baseline=\"central\" >Alice in Wonderland</text></svg></g></svg></p>"
      }
     },
     "686525a9ba5c467a991bc97fd5b8fcfb": {
      "model_module": "@jupyter-widgets/controls",
      "model_module_version": "1.4.0",
      "model_name": "VBoxModel",
      "state": {
       "children": [
        "IPY_MODEL_2f89a834735449b09bc9c7c36bfacb77",
        "IPY_MODEL_6696518fb0bf4d9288f7636b107ecbeb",
        "IPY_MODEL_a14be2e2818240cd89a431e1a1c855d6",
        "IPY_MODEL_8abbb5ab1ef44a91b9bdddd5f8306061",
        "IPY_MODEL_6633dfa3c6474756983e4279c20295f0",
        "IPY_MODEL_ff6f7b23d80e40e6961521693b737d5e",
        "IPY_MODEL_190ce494600d464f86b10205ee596aef",
        "IPY_MODEL_9f6445fd0b2e4be8a76056bc204bd879"
       ],
       "layout": "IPY_MODEL_8b84673565d94456ac40b7f5e9b40518"
      }
     },
     "6965f8fd26124a35b7c65c93e624ab94": {
      "model_module": "@jupyter-widgets/controls",
      "model_module_version": "1.4.0",
      "model_name": "DescriptionStyleModel",
      "state": {
       "description_width": ""
      }
     },
     "69726c592b4844a88c7e3a0ba6fd5a53": {
      "model_module": "@jupyter-widgets/controls",
      "model_module_version": "1.4.0",
      "model_name": "CheckboxModel",
      "state": {
       "description": "Errors",
       "disabled": false,
       "layout": "IPY_MODEL_14d4f0e898324a2eb1c4c2810a3aada8",
       "style": "IPY_MODEL_06ed5da4b11f4bd08630949239d93ebb",
       "value": false
      }
     },
     "6aaa25a7f2a246f281d7c89673ee80bf": {
      "model_module": "@jupyter-widgets/controls",
      "model_module_version": "1.4.0",
      "model_name": "DescriptionStyleModel",
      "state": {
       "description_width": "initial"
      }
     },
     "6ab79f41802b45c9ada215819ba655c2": {
      "model_module": "@jupyter-widgets/base",
      "model_module_version": "1.1.0",
      "model_name": "LayoutModel",
      "state": {}
     },
     "6b2df878a8aa45dba6739f1d467f5466": {
      "model_module": "@jupyter-widgets/controls",
      "model_module_version": "1.4.0",
      "model_name": "VBoxModel",
      "state": {
       "children": [
        "IPY_MODEL_ace05d2706c649d5865be6857820f8ef",
        "IPY_MODEL_9a5da0b71c22478791655b07377f0ec7"
       ],
       "layout": "IPY_MODEL_58e1816b785b45eab3f9c1d9e1724523"
      }
     },
     "6b67239716704842a46d2d83c9cd0d04": {
      "model_module": "@jupyter-widgets/base",
      "model_module_version": "1.1.0",
      "model_name": "LayoutModel",
      "state": {
       "height": "40px"
      }
     },
     "6b7313184b37418e8189eb3b2bb42a72": {
      "model_module": "@jupyter-widgets/base",
      "model_module_version": "1.1.0",
      "model_name": "LayoutModel",
      "state": {}
     },
     "6bb0c85d019545d481c062ecde2e0ba4": {
      "model_module": "@jupyter-widgets/controls",
      "model_module_version": "1.4.0",
      "model_name": "DescriptionStyleModel",
      "state": {
       "description_width": "initial"
      }
     },
     "6caa50ff2b97481b90c0e584c080dd2e": {
      "model_module": "@jupyter-widgets/controls",
      "model_module_version": "1.4.0",
      "model_name": "HBoxModel",
      "state": {
       "children": [
        "IPY_MODEL_9c11040a677b402abefb947f3a387c32",
        "IPY_MODEL_0a03bd722821414a8133b7955170cc58"
       ],
       "layout": "IPY_MODEL_cbca46402fb74f6b942b15186dce8e2f"
      }
     },
     "6cab7a32f89042bb89f3ad6782ffa356": {
      "model_module": "@jupyter-widgets/base",
      "model_module_version": "1.1.0",
      "model_name": "LayoutModel",
      "state": {}
     },
     "6d914873e99945e5b9ae1805b2ef9d6c": {
      "model_module": "@jupyter-widgets/base",
      "model_module_version": "1.1.0",
      "model_name": "LayoutModel",
      "state": {}
     },
     "6df1cd2fca78477da29c1768a41f5e95": {
      "model_module": "@jupyter-widgets/controls",
      "model_module_version": "1.4.0",
      "model_name": "VBoxModel",
      "state": {
       "children": [
        "IPY_MODEL_18dc2f10704c44bba093717c1fda887a",
        "IPY_MODEL_e9fb2a20994144be806f6901b7c10a48",
        "IPY_MODEL_6854a0e2d0184f038bff64d23d72a0e6",
        "IPY_MODEL_718eba09f5b749da87b39c39022a046f"
       ],
       "layout": "IPY_MODEL_7ae56472da284812b8e7c169ee1dd17d"
      }
     },
     "6e397d1ad0e44f97b3bdaa3991e47c9e": {
      "model_module": "@jupyter-widgets/controls",
      "model_module_version": "1.4.0",
      "model_name": "DescriptionStyleModel",
      "state": {
       "description_width": "initial"
      }
     },
     "6e85dc0c960344a3971a042bc6fb6a29": {
      "model_module": "@jupyter-widgets/controls",
      "model_module_version": "1.4.0",
      "model_name": "DescriptionStyleModel",
      "state": {
       "description_width": ""
      }
     },
     "6ed4a95a929e430f8f1fa950ce769a99": {
      "model_module": "@jupyter-widgets/controls",
      "model_module_version": "1.4.0",
      "model_name": "SelectModel",
      "state": {
       "_options_labels": [
        "",
        "Accent",
        "Accent_r",
        "Blues",
        "Blues_r",
        "BrBG",
        "BrBG_r",
        "BuGn",
        "BuGn_r",
        "BuPu",
        "BuPu_r",
        "CMRmap",
        "CMRmap_r",
        "Dark2",
        "Dark2_r",
        "GnBu",
        "GnBu_r",
        "Greens",
        "Greens_r",
        "Greys",
        "Greys_r",
        "OrRd",
        "OrRd_r",
        "Oranges",
        "Oranges_r",
        "PRGn",
        "PRGn_r",
        "Paired",
        "Paired_r",
        "Pastel1",
        "Pastel1_r",
        "Pastel2",
        "Pastel2_r",
        "PiYG",
        "PiYG_r",
        "PuBu",
        "PuBuGn",
        "PuBuGn_r",
        "PuBu_r",
        "PuOr",
        "PuOr_r",
        "PuRd",
        "PuRd_r",
        "Purples",
        "Purples_r",
        "RdBu",
        "RdBu_r",
        "RdGy",
        "RdGy_r",
        "RdPu",
        "RdPu_r",
        "RdYlBu",
        "RdYlBu_r",
        "RdYlGn",
        "RdYlGn_r",
        "Reds",
        "Reds_r",
        "Set1",
        "Set1_r",
        "Set2",
        "Set2_r",
        "Set3",
        "Set3_r",
        "Spectral",
        "Spectral_r",
        "Vega10",
        "Vega10_r",
        "Vega20",
        "Vega20_r",
        "Vega20b",
        "Vega20b_r",
        "Vega20c",
        "Vega20c_r",
        "Wistia",
        "Wistia_r",
        "YlGn",
        "YlGnBu",
        "YlGnBu_r",
        "YlGn_r",
        "YlOrBr",
        "YlOrBr_r",
        "YlOrRd",
        "YlOrRd_r",
        "afmhot",
        "afmhot_r",
        "autumn",
        "autumn_r",
        "binary",
        "binary_r",
        "bone",
        "bone_r",
        "brg",
        "brg_r",
        "bwr",
        "bwr_r",
        "cool",
        "cool_r",
        "coolwarm",
        "coolwarm_r",
        "copper",
        "copper_r",
        "cubehelix",
        "cubehelix_r",
        "flag",
        "flag_r",
        "gist_earth",
        "gist_earth_r",
        "gist_gray",
        "gist_gray_r",
        "gist_heat",
        "gist_heat_r",
        "gist_ncar",
        "gist_ncar_r",
        "gist_rainbow",
        "gist_rainbow_r",
        "gist_stern",
        "gist_stern_r",
        "gist_yarg",
        "gist_yarg_r",
        "gnuplot",
        "gnuplot2",
        "gnuplot2_r",
        "gnuplot_r",
        "gray",
        "gray_r",
        "hot",
        "hot_r",
        "hsv",
        "hsv_r",
        "inferno",
        "inferno_r",
        "jet",
        "jet_r",
        "magma",
        "magma_r",
        "nipy_spectral",
        "nipy_spectral_r",
        "ocean",
        "ocean_r",
        "pink",
        "pink_r",
        "plasma",
        "plasma_r",
        "prism",
        "prism_r",
        "rainbow",
        "rainbow_r",
        "seismic",
        "seismic_r",
        "spectral",
        "spectral_r",
        "spring",
        "spring_r",
        "summer",
        "summer_r",
        "tab10",
        "tab10_r",
        "tab20",
        "tab20_r",
        "tab20b",
        "tab20b_r",
        "tab20c",
        "tab20c_r",
        "terrain",
        "terrain_r",
        "viridis",
        "viridis_r",
        "winter",
        "winter_r"
       ],
       "description": "Colormap:",
       "index": 123,
       "layout": "IPY_MODEL_e139e1e900c4499f96e6f598e0f88837",
       "rows": 1,
       "style": "IPY_MODEL_dbaafbc2b9124edab455c116cf9c27e2"
      }
     },
     "6f5cac8f3f184b8f892a15081bccc0aa": {
      "model_module": "@jupyter-widgets/base",
      "model_module_version": "1.1.0",
      "model_name": "LayoutModel",
      "state": {}
     },
     "6fa790e0604343faa0a6f89d2869d16a": {
      "model_module": "@jupyter-widgets/controls",
      "model_module_version": "1.4.0",
      "model_name": "HBoxModel",
      "state": {
       "children": [
        "IPY_MODEL_16dcbd99433547bda1aa1f30c4d5796d",
        "IPY_MODEL_286c805018d943cabe537fd4f0b20ff2"
       ],
       "layout": "IPY_MODEL_91095f45cb9a438fa619a9d60c1ebd15"
      }
     },
     "6ffdce807f5e455d99f9670e45f8ff23": {
      "model_module": "@jupyter-widgets/output",
      "model_module_version": "1.0.0",
      "model_name": "OutputModel",
      "state": {
       "layout": "IPY_MODEL_604ef9c2d4b64227ac5178428007000a"
      }
     },
     "703c25f66ca141d59a6c8527f2ca2e7a": {
      "model_module": "@jupyter-widgets/base",
      "model_module_version": "1.1.0",
      "model_name": "LayoutModel",
      "state": {
       "height": "40px"
      }
     },
     "70615b14cca749058db251a900f6d34a": {
      "model_module": "@jupyter-widgets/controls",
      "model_module_version": "1.4.0",
      "model_name": "ButtonStyleModel",
      "state": {}
     },
     "70b3469b21ca4c6287b4c0ff65348f59": {
      "model_module": "@jupyter-widgets/base",
      "model_module_version": "1.1.0",
      "model_name": "LayoutModel",
      "state": {
       "width": "25%"
      }
     },
     "7105acfde49645dfa5360f53c9050ed6": {
      "model_module": "@jupyter-widgets/controls",
      "model_module_version": "1.4.0",
      "model_name": "AccordionModel",
      "state": {
       "_titles": {
        "0": "Alice in Wonderland"
       },
       "children": [
        "IPY_MODEL_42374242d3524ddc8b6abe9e0a2bb7fb"
       ],
       "layout": "IPY_MODEL_421b37b8d78a48a4a9dc8873b85e7814",
       "selected_index": null
      }
     },
     "713700162301400fabc9353a07ed283a": {
      "model_module": "@jupyter-widgets/controls",
      "model_module_version": "1.4.0",
      "model_name": "VBoxModel",
      "state": {
       "children": [
        "IPY_MODEL_9b18d5110d7c487f96ce76aa0325ea83",
        "IPY_MODEL_4d744664a760430eb08e55f16b640fb1",
        "IPY_MODEL_95cc1284a19e4b03b1f84636d31e61e2",
        "IPY_MODEL_08ec7d510c2d44d2a6b2f118d8bf7c51"
       ],
       "layout": "IPY_MODEL_f10dab9907ea423bae69cc1cb70fac81"
      }
     },
     "716fff7045d545c39f3203ee4bb840ee": {
      "model_module": "@jupyter-widgets/base",
      "model_module_version": "1.1.0",
      "model_name": "LayoutModel",
      "state": {}
     },
     "718eba09f5b749da87b39c39022a046f": {
      "model_module": "@jupyter-widgets/output",
      "model_module_version": "1.0.0",
      "model_name": "OutputModel",
      "state": {
       "layout": "IPY_MODEL_043a481c04f04b4eb33f6d17ec60e34d"
      }
     },
     "71f7d376c0234b949b7cd6824cdbc36b": {
      "model_module": "@jupyter-widgets/controls",
      "model_module_version": "1.4.0",
      "model_name": "ButtonModel",
      "state": {
       "icon": "backward",
       "layout": "IPY_MODEL_c5d89761943943868d8ab650871b1947",
       "style": "IPY_MODEL_d62b67564c6d405d9d18a35b31e9d459"
      }
     },
     "7209dd64414e4a19bffdd169061cbc76": {
      "model_module": "@jupyter-widgets/controls",
      "model_module_version": "1.4.0",
      "model_name": "CheckboxModel",
      "state": {
       "description": "Errors",
       "disabled": false,
       "layout": "IPY_MODEL_c686efe2613a47a4ab06df069e39bc74",
       "style": "IPY_MODEL_5a11b2d138e8426aaaa07d07dfcb1692",
       "value": false
      }
     },
     "7299beb352ad41ebba6e99a56f10b90b": {
      "model_module": "@jupyter-widgets/controls",
      "model_module_version": "1.4.0",
      "model_name": "ButtonStyleModel",
      "state": {}
     },
     "72a7676860ee48f68bb8a87bbb39f426": {
      "model_module": "@jupyter-widgets/controls",
      "model_module_version": "1.4.0",
      "model_name": "ButtonModel",
      "state": {
       "icon": "fast-backward",
       "layout": "IPY_MODEL_cc33b51ee96740b5b4b6f92ccefa1004",
       "style": "IPY_MODEL_595773bbf0764fcd9d83867dc70f6956"
      }
     },
     "733d05f4209d42a3893dc290728e071b": {
      "model_module": "@jupyter-widgets/controls",
      "model_module_version": "1.4.0",
      "model_name": "FloatTextModel",
      "state": {
       "description": "Rightmost color maps to:",
       "layout": "IPY_MODEL_c3fbea750cb54ea79ed6b738a8502b83",
       "step": null,
       "style": "IPY_MODEL_e8df263471964778947c9f8c62ce775a",
       "value": 1
      }
     },
     "738070a31111446283f7ba162203e9d0": {
      "model_module": "@jupyter-widgets/base",
      "model_module_version": "1.1.0",
      "model_name": "LayoutModel",
      "state": {
       "width": "100%"
      }
     },
     "73f8376e58cf4b56a3ad883830bdbc98": {
      "model_module": "@jupyter-widgets/controls",
      "model_module_version": "1.4.0",
      "model_name": "SelectModel",
      "state": {
       "_options_labels": [
        "",
        "Accent",
        "Accent_r",
        "Blues",
        "Blues_r",
        "BrBG",
        "BrBG_r",
        "BuGn",
        "BuGn_r",
        "BuPu",
        "BuPu_r",
        "CMRmap",
        "CMRmap_r",
        "Dark2",
        "Dark2_r",
        "GnBu",
        "GnBu_r",
        "Greens",
        "Greens_r",
        "Greys",
        "Greys_r",
        "OrRd",
        "OrRd_r",
        "Oranges",
        "Oranges_r",
        "PRGn",
        "PRGn_r",
        "Paired",
        "Paired_r",
        "Pastel1",
        "Pastel1_r",
        "Pastel2",
        "Pastel2_r",
        "PiYG",
        "PiYG_r",
        "PuBu",
        "PuBuGn",
        "PuBuGn_r",
        "PuBu_r",
        "PuOr",
        "PuOr_r",
        "PuRd",
        "PuRd_r",
        "Purples",
        "Purples_r",
        "RdBu",
        "RdBu_r",
        "RdGy",
        "RdGy_r",
        "RdPu",
        "RdPu_r",
        "RdYlBu",
        "RdYlBu_r",
        "RdYlGn",
        "RdYlGn_r",
        "Reds",
        "Reds_r",
        "Set1",
        "Set1_r",
        "Set2",
        "Set2_r",
        "Set3",
        "Set3_r",
        "Spectral",
        "Spectral_r",
        "Wistia",
        "Wistia_r",
        "YlGn",
        "YlGnBu",
        "YlGnBu_r",
        "YlGn_r",
        "YlOrBr",
        "YlOrBr_r",
        "YlOrRd",
        "YlOrRd_r",
        "afmhot",
        "afmhot_r",
        "autumn",
        "autumn_r",
        "binary",
        "binary_r",
        "bone",
        "bone_r",
        "brg",
        "brg_r",
        "bwr",
        "bwr_r",
        "cividis",
        "cividis_r",
        "cool",
        "cool_r",
        "coolwarm",
        "coolwarm_r",
        "copper",
        "copper_r",
        "cubehelix",
        "cubehelix_r",
        "flag",
        "flag_r",
        "gist_earth",
        "gist_earth_r",
        "gist_gray",
        "gist_gray_r",
        "gist_heat",
        "gist_heat_r",
        "gist_ncar",
        "gist_ncar_r",
        "gist_rainbow",
        "gist_rainbow_r",
        "gist_stern",
        "gist_stern_r",
        "gist_yarg",
        "gist_yarg_r",
        "gnuplot",
        "gnuplot2",
        "gnuplot2_r",
        "gnuplot_r",
        "gray",
        "gray_r",
        "hot",
        "hot_r",
        "hsv",
        "hsv_r",
        "inferno",
        "inferno_r",
        "jet",
        "jet_r",
        "magma",
        "magma_r",
        "nipy_spectral",
        "nipy_spectral_r",
        "ocean",
        "ocean_r",
        "pink",
        "pink_r",
        "plasma",
        "plasma_r",
        "prism",
        "prism_r",
        "rainbow",
        "rainbow_r",
        "seismic",
        "seismic_r",
        "spring",
        "spring_r",
        "summer",
        "summer_r",
        "tab10",
        "tab10_r",
        "tab20",
        "tab20_r",
        "tab20b",
        "tab20b_r",
        "tab20c",
        "tab20c_r",
        "terrain",
        "terrain_r",
        "viridis",
        "viridis_r",
        "winter",
        "winter_r"
       ],
       "description": "Colormap:",
       "index": 117,
       "layout": "IPY_MODEL_d8fc4449794c4650a49d355094a35f34",
       "rows": 1,
       "style": "IPY_MODEL_204bc6ecea6745178efca3eeca4c0308"
      }
     },
     "742ddb4c96a04bbbbbde411069f90330": {
      "model_module": "@jupyter-widgets/base",
      "model_module_version": "1.1.0",
      "model_name": "LayoutModel",
      "state": {}
     },
     "745959e68b304f1684db2b12df01e993": {
      "model_module": "@jupyter-widgets/controls",
      "model_module_version": "1.4.0",
      "model_name": "IntTextModel",
      "state": {
       "description": "Vertical space between layers:",
       "layout": "IPY_MODEL_230163d5fc0b4bd9815d530afff80cc8",
       "step": 1,
       "style": "IPY_MODEL_c1fc5f7173fe4a369e93d27e216ee932",
       "value": 30
      }
     },
     "748d1f077b154968b61fd0e357488104": {
      "model_module": "@jupyter-widgets/base",
      "model_module_version": "1.1.0",
      "model_name": "LayoutModel",
      "state": {
       "width": "65%"
      }
     },
     "7520df0fd18f40929776568956bd1656": {
      "model_module": "@jupyter-widgets/base",
      "model_module_version": "1.1.0",
      "model_name": "LayoutModel",
      "state": {}
     },
     "757820c4656649268a83e0190d0c1b30": {
      "model_module": "@jupyter-widgets/controls",
      "model_module_version": "1.4.0",
      "model_name": "HBoxModel",
      "state": {
       "children": [
        "IPY_MODEL_2e7181fc87e04dcc8c137c9a80afe9d7",
        "IPY_MODEL_027727cd0a184e11890422426ddf8abc",
        "IPY_MODEL_bae42b9e9ce24ab692d2650b0720143b",
        "IPY_MODEL_bd6cb5a65d32481e813139168190c9c1",
        "IPY_MODEL_a013a02c5dee46f082f3c9192772f7c3",
        "IPY_MODEL_125fdd4cd5ab49038e80b019e693dad7",
        "IPY_MODEL_8507171be47d460eba8973ba2250d15f"
       ],
       "layout": "IPY_MODEL_63e6c29222124fd49715125c51a01d67"
      }
     },
     "758d8de5b21748f4bfd08777e1e2f091": {
      "model_module": "@jupyter-widgets/controls",
      "model_module_version": "1.4.0",
      "model_name": "DescriptionStyleModel",
      "state": {
       "description_width": ""
      }
     },
     "75d09f06f6da41efa09813a303878df0": {
      "model_module": "@jupyter-widgets/controls",
      "model_module_version": "1.4.0",
      "model_name": "SelectModel",
      "state": {
       "_options_labels": [
        "input",
        "rnn",
        "output"
       ],
       "description": "Layer:",
       "index": 2,
       "layout": "IPY_MODEL_26321018507349a1b239357c86b70456",
       "rows": 1,
       "style": "IPY_MODEL_46d2a5e6ebb04621a43566e33d72d40a"
      }
     },
     "765093e2029a40cf8dfa8fbc2a5d13d9": {
      "model_module": "@jupyter-widgets/controls",
      "model_module_version": "1.4.0",
      "model_name": "DescriptionStyleModel",
      "state": {
       "description_width": "initial"
      }
     },
     "76668413d58c40619727ab05df2f3907": {
      "model_module": "@jupyter-widgets/controls",
      "model_module_version": "1.4.0",
      "model_name": "FloatTextModel",
      "state": {
       "description": "Feature scale:",
       "layout": "IPY_MODEL_8457ebc012cd487e9e6daf44fe1b3bdd",
       "step": null,
       "style": "IPY_MODEL_85cf26d9576b4681b184fe38b84e003f",
       "value": 1
      }
     },
     "76a2c370d49e4e63b5d1676490346ee4": {
      "model_module": "@jupyter-widgets/base",
      "model_module_version": "1.1.0",
      "model_name": "LayoutModel",
      "state": {}
     },
     "7727b34d5806466ab7ece7e66f49b20c": {
      "model_module": "@jupyter-widgets/controls",
      "model_module_version": "1.4.0",
      "model_name": "FloatTextModel",
      "state": {
       "description": "Rightmost color maps to:",
       "layout": "IPY_MODEL_8d18d2f6a4f2424ca820204c560495aa",
       "step": null,
       "style": "IPY_MODEL_f413c373eb384de0b50dfa69f03e02c9",
       "value": 1
      }
     },
     "785e7ae49e2247e5b42787f0604376a6": {
      "model_module": "@jupyter-widgets/controls",
      "model_module_version": "1.4.0",
      "model_name": "CheckboxModel",
      "state": {
       "description": "Rotate network",
       "disabled": false,
       "layout": "IPY_MODEL_89fda11ce822402f8d309ac456d266bb",
       "style": "IPY_MODEL_641f4a423ac34a19a9acd32aac4b72d3",
       "value": false
      }
     },
     "78658edecc284a96aa03b64f1f3c3cf5": {
      "model_module": "@jupyter-widgets/controls",
      "model_module_version": "1.4.0",
      "model_name": "DescriptionStyleModel",
      "state": {
       "description_width": "initial"
      }
     },
     "78f5faf1df97450f94f551d7e083efd5": {
      "model_module": "@jupyter-widgets/controls",
      "model_module_version": "1.4.0",
      "model_name": "ButtonStyleModel",
      "state": {}
     },
     "799f13676efb4cfaa03d224aa23a622d": {
      "model_module": "@jupyter-widgets/base",
      "model_module_version": "1.1.0",
      "model_name": "LayoutModel",
      "state": {
       "width": "100%"
      }
     },
     "79e88f52b5254962810c48cb37c1ec31": {
      "model_module": "@jupyter-widgets/base",
      "model_module_version": "1.1.0",
      "model_name": "LayoutModel",
      "state": {
       "width": "100%"
      }
     },
     "79f5b380df404072bf9ac57d2cdfd678": {
      "model_module": "@jupyter-widgets/controls",
      "model_module_version": "1.4.0",
      "model_name": "CheckboxModel",
      "state": {
       "description": "Errors",
       "disabled": false,
       "layout": "IPY_MODEL_e139e1e900c4499f96e6f598e0f88837",
       "style": "IPY_MODEL_6bb0c85d019545d481c062ecde2e0ba4",
       "value": false
      }
     },
     "7a7b5096d84e4c0489683e43537a0886": {
      "model_module": "@jupyter-widgets/controls",
      "model_module_version": "1.4.0",
      "model_name": "VBoxModel",
      "state": {
       "children": [
        "IPY_MODEL_75d09f06f6da41efa09813a303878df0",
        "IPY_MODEL_e9a5c4aaa34d480ead7e69e7954eca4f",
        "IPY_MODEL_3c205f18c57547f09b67d7ebfc6168d1",
        "IPY_MODEL_1c288d94a72a436cbead81d50229180a",
        "IPY_MODEL_e0817602e66e4125886e76c31f7e77e4",
        "IPY_MODEL_e3eb897d543b4b6699ed4fdf472a5965",
        "IPY_MODEL_a9c66693d34e4a329728397b4a305135",
        "IPY_MODEL_29e84fcbf98a4215be7c9d13fca2a73e"
       ],
       "layout": "IPY_MODEL_06d7b96b546c4440bafbf55afaf30cc8"
      }
     },
     "7ae56472da284812b8e7c169ee1dd17d": {
      "model_module": "@jupyter-widgets/base",
      "model_module_version": "1.1.0",
      "model_name": "LayoutModel",
      "state": {}
     },
     "7b7cd28a19134f5b9d593bec1f72d1cb": {
      "model_module": "@jupyter-widgets/controls",
      "model_module_version": "1.4.0",
      "model_name": "IntSliderModel",
      "state": {
       "continuous_update": false,
       "description": "Dataset index",
       "layout": "IPY_MODEL_049d4f0b6c6e4c3aa4f24a01fc232b88",
       "max": 158772,
       "style": "IPY_MODEL_c72fa0558e5f4f1884510f9a0946db1c"
      }
     },
     "7bbaa862392a49c78e329eb807c0e835": {
      "model_module": "@jupyter-widgets/controls",
      "model_module_version": "1.4.0",
      "model_name": "ButtonStyleModel",
      "state": {}
     },
     "7bf0d7c8887f41edaaf416fc28b31f77": {
      "model_module": "@jupyter-widgets/controls",
      "model_module_version": "1.4.0",
      "model_name": "SelectModel",
      "state": {
       "_options_labels": [
        ""
       ],
       "description": "Features:",
       "index": 0,
       "layout": "IPY_MODEL_355c9586c8dc4a6ca7e394c2941834c1",
       "rows": 1,
       "style": "IPY_MODEL_4b6d9bf51f41472aa38a027074acbbbc"
      }
     },
     "7c40d0d829b64d98b10f6493f4a2d14d": {
      "model_module": "@jupyter-widgets/controls",
      "model_module_version": "1.4.0",
      "model_name": "IntTextModel",
      "state": {
       "description": "Feature to show:",
       "layout": "IPY_MODEL_d04004eed3d04a2aad834b707ef3360c",
       "step": 1,
       "style": "IPY_MODEL_25ec778697ff46e7b99da0c56b55a4b1"
      }
     },
     "7ca43a072d004466a9274ab6844d7aab": {
      "model_module": "@jupyter-widgets/controls",
      "model_module_version": "1.4.0",
      "model_name": "DescriptionStyleModel",
      "state": {
       "description_width": ""
      }
     },
     "7cba6791968e498f8a81dc16ed20a428": {
      "model_module": "@jupyter-widgets/base",
      "model_module_version": "1.1.0",
      "model_name": "LayoutModel",
      "state": {
       "width": "100%"
      }
     },
     "7d4f4b8afc5c47899a3f5e187fc4fb61": {
      "model_module": "@jupyter-widgets/controls",
      "model_module_version": "1.4.0",
      "model_name": "VBoxModel",
      "state": {
       "children": [
        "IPY_MODEL_7105acfde49645dfa5360f53c9050ed6",
        "IPY_MODEL_e9f46e9e28014970b0ff03f273760c4f",
        "IPY_MODEL_33c2804f564e44ddb0a11da1a4a71cc9",
        "IPY_MODEL_c8efb39d7f364c2f955a235e7fe869f5"
       ],
       "layout": "IPY_MODEL_b63690a09eab466eae94314d685081be"
      }
     },
     "7d6504c649eb45e8900a55fd0aad58ea": {
      "model_module": "@jupyter-widgets/controls",
      "model_module_version": "1.4.0",
      "model_name": "IntTextModel",
      "state": {
       "description": "Horizontal space between banks:",
       "layout": "IPY_MODEL_230163d5fc0b4bd9815d530afff80cc8",
       "step": 1,
       "style": "IPY_MODEL_8a90d3699dea4c5b83ccc1b7a8ce7fe5",
       "value": 150
      }
     },
     "7dae603cb32e4908a90c3d4bdfaf2c16": {
      "model_module": "@jupyter-widgets/controls",
      "model_module_version": "1.4.0",
      "model_name": "IntTextModel",
      "state": {
       "layout": "IPY_MODEL_49569c3258f34189bb7f219e6652d81d",
       "step": 1,
       "style": "IPY_MODEL_254d7020389e406d837e1b23d1f492a1"
      }
     },
     "7e843031d011436fbd200b3785cbb97c": {
      "model_module": "@jupyter-widgets/controls",
      "model_module_version": "1.4.0",
      "model_name": "DescriptionStyleModel",
      "state": {
       "description_width": ""
      }
     },
     "7ea57d5197f645acacd998a1a7f70262": {
      "model_module": "@jupyter-widgets/controls",
      "model_module_version": "1.4.0",
      "model_name": "ButtonStyleModel",
      "state": {}
     },
     "7eb7e0fad7354531a409c3fc876cbb34": {
      "model_module": "@jupyter-widgets/base",
      "model_module_version": "1.1.0",
      "model_name": "LayoutModel",
      "state": {}
     },
     "815b12c93327486996a281f3d277c592": {
      "model_module": "@jupyter-widgets/base",
      "model_module_version": "1.1.0",
      "model_name": "LayoutModel",
      "state": {}
     },
     "820aea2b5d2a43a397ba5201d2558e99": {
      "model_module": "@jupyter-widgets/base",
      "model_module_version": "1.1.0",
      "model_name": "LayoutModel",
      "state": {
       "width": "100%"
      }
     },
     "821b4cdf2b404d5e92766261ddd06d0b": {
      "model_module": "@jupyter-widgets/controls",
      "model_module_version": "1.4.0",
      "model_name": "DescriptionStyleModel",
      "state": {
       "description_width": "initial"
      }
     },
     "823ab495070640f2a45291f8854f95b6": {
      "model_module": "@jupyter-widgets/controls",
      "model_module_version": "1.4.0",
      "model_name": "ButtonStyleModel",
      "state": {}
     },
     "82ca4ccc9285413b86c691bc2871168b": {
      "model_module": "@jupyter-widgets/base",
      "model_module_version": "1.1.0",
      "model_name": "LayoutModel",
      "state": {
       "width": "100%"
      }
     },
     "82e67ab85de94aeda40a80671e6dc1a9": {
      "model_module": "@jupyter-widgets/controls",
      "model_module_version": "1.4.0",
      "model_name": "DescriptionStyleModel",
      "state": {
       "description_width": ""
      }
     },
     "8313a132d02348ef9017652fca5f2546": {
      "model_module": "@jupyter-widgets/base",
      "model_module_version": "1.1.0",
      "model_name": "LayoutModel",
      "state": {}
     },
     "833400bf9e524c2683468a9af3ea3f11": {
      "model_module": "@jupyter-widgets/controls",
      "model_module_version": "1.4.0",
      "model_name": "DescriptionStyleModel",
      "state": {
       "description_width": "initial"
      }
     },
     "8457ebc012cd487e9e6daf44fe1b3bdd": {
      "model_module": "@jupyter-widgets/base",
      "model_module_version": "1.1.0",
      "model_name": "LayoutModel",
      "state": {}
     },
     "845ddb2ab763440e872344d715520d2a": {
      "model_module": "@jupyter-widgets/controls",
      "model_module_version": "1.4.0",
      "model_name": "VBoxModel",
      "state": {
       "children": [
        "IPY_MODEL_5139be4adc6449ae8d2581491ca2f862",
        "IPY_MODEL_28285284e5454dad9810c11aa702e045",
        "IPY_MODEL_ac9db9ffb6a14d349634b97afc3e0276",
        "IPY_MODEL_de7e8d98284e4b678353aca1356b481f"
       ],
       "layout": "IPY_MODEL_b58c0016321a42a9adac0984262e710d"
      }
     },
     "8465f860016b42989ae6d4d53e5be080": {
      "model_module": "@jupyter-widgets/base",
      "model_module_version": "1.1.0",
      "model_name": "LayoutModel",
      "state": {
       "width": "100%"
      }
     },
     "8507171be47d460eba8973ba2250d15f": {
      "model_module": "@jupyter-widgets/controls",
      "model_module_version": "1.4.0",
      "model_name": "ButtonModel",
      "state": {
       "icon": "refresh",
       "layout": "IPY_MODEL_e9ec54dcf38d4bab8a62ecd39d94839b",
       "style": "IPY_MODEL_d416e30b66e24090a74047c8da13478e"
      }
     },
     "85cf26d9576b4681b184fe38b84e003f": {
      "model_module": "@jupyter-widgets/controls",
      "model_module_version": "1.4.0",
      "model_name": "DescriptionStyleModel",
      "state": {
       "description_width": "initial"
      }
     },
     "85d8e4e00aef48cd87d6dcb811690461": {
      "model_module": "@jupyter-widgets/controls",
      "model_module_version": "1.4.0",
      "model_name": "SliderStyleModel",
      "state": {
       "description_width": ""
      }
     },
     "8794486694e340b9a15591ce7614f284": {
      "model_module": "@jupyter-widgets/controls",
      "model_module_version": "1.4.0",
      "model_name": "IntTextModel",
      "state": {
       "layout": "IPY_MODEL_b6dd557a71ed47ccac396a57656c030b",
       "step": 1,
       "style": "IPY_MODEL_a97eff5426534e6eb4c12df503adb6e7",
       "value": 11
      }
     },
     "87a7dbbce226487ea273d0fb100477d4": {
      "model_module": "@jupyter-widgets/base",
      "model_module_version": "1.1.0",
      "model_name": "LayoutModel",
      "state": {
       "width": "52%"
      }
     },
     "88051733c15e4c688c81f280a6abff52": {
      "model_module": "@jupyter-widgets/controls",
      "model_module_version": "1.4.0",
      "model_name": "DescriptionStyleModel",
      "state": {
       "description_width": ""
      }
     },
     "891b8680a26e4ef3bb46deef6ad88653": {
      "model_module": "@jupyter-widgets/controls",
      "model_module_version": "1.4.0",
      "model_name": "CheckboxModel",
      "state": {
       "description": "Rotate",
       "disabled": false,
       "layout": "IPY_MODEL_30933640a09742e4b0eb1ce1858fd397",
       "style": "IPY_MODEL_648d80f41ef2424ba430eee44767b0b4",
       "value": true
      }
     },
     "8932e5791b4e4350889124e67a76fc11": {
      "model_module": "@jupyter-widgets/controls",
      "model_module_version": "1.4.0",
      "model_name": "DescriptionStyleModel",
      "state": {
       "description_width": ""
      }
     },
     "89b04f4ae28d4df49a2a0dc546565da2": {
      "model_module": "@jupyter-widgets/controls",
      "model_module_version": "1.4.0",
      "model_name": "HTMLModel",
      "state": {
       "layout": "IPY_MODEL_f8c5fb65e7b440ec85a7cb68c2180d56",
       "style": "IPY_MODEL_135780a823284683b50695331bcb729d",
       "value": "<p style=\"text-align:center\"><svg id='Alice in Wonderland' xmlns='http://www.w3.org/2000/svg' xmlns:xlink='http://www.w3.org/1999/xlink' image-rendering=\"pixelated\" width=\"297.87234042553195px\" height=\"400.0px\">\n <g >\n  <svg viewBox=\"0 0 350 470\" width=\"297.87234042553195px\" height=\"400.0px\">\n    <defs>\n        <marker id=\"arrow\" markerWidth=\"10\" markerHeight=\"10\" refX=\"9\" refY=\"3\" orient=\"auto\" markerUnits=\"strokeWidth\">\n          <path d=\"M0,0 L0,6 L9,3 z\" fill=\"black\" />\n        </marker>\n    </defs><rect x=\"74.0\" y=\"24\" width=\"202\" height=\"52\" style=\"fill:none;stroke:black;stroke-width:2\"/><image id=\"picture-dashboard-Alice in Wonderland-731952_output_targets_1\" class=\"picture-dashboard-Alice in Wonderland-731952_output_targets\" x=\"75.0\" y=\"25\" height=\"50\" width=\"200\" preserveAspectRatio=\"none\" image-rendering=\"optimizeSpeed\" xlink:href=\"data:image/gif;base64,R0lGODdhOAABAIcAAAAAAP///wAAAAAAAAAAAAAAAAAAAAAAAAAAAAAAAAAAAAAAAAAAAAAAAAAAAAAAAAAAAAAAAAAAAAAAAAAAAAAAAAAAAAAAAAAAAAAAAAAAAAAAAAAAAAAAAAAAAAAAAAAAAAAAAAAAAAAAAAAAAAAAAAAAAAAAAAAAAAAAAAAAAAAAAAAAAAAAAAAAAAAAAAAAAAAAAAAAAAAAAAAAAAAAAAAAAAAAAAAAAAAAAAAAAAAAAAAAAAAAAAAAAAAAAAAAAAAAAAAAAAAAAAAAAAAAAAAAAAAAAAAAAAAAAAAAAAAAAAAAAAAAAAAAAAAAAAAAAAAAAAAAAAAAAAAAAAAAAAAAAAAAAAAAAAAAAAAAAAAAAAAAAAAAAAAAAAAAAAAAAAAAAAAAAAAAAAAAAAAAAAAAAAAAAAAAAAAAAAAAAAAAAAAAAAAAAAAAAAAAAAAAAAAAAAAAAAAAAAAAAAAAAAAAAAAAAAAAAAAAAAAAAAAAAAAAAAAAAAAAAAAAAAAAAAAAAAAAAAAAAAAAAAAAAAAAAAAAAAAAAAAAAAAAAAAAAAAAAAAAAAAAAAAAAAAAAAAAAAAAAAAAAAAAAAAAAAAAAAAAAAAAAAAAAAAAAAAAAAAAAAAAAAAAAAAAAAAAAAAAAAAAAAAAAAAAAAAAAAAAAAAAAAAAAAAAAAAAAAAAAAAAAAAAAAAAAAAAAAAAAAAAAAAAAAAAAAAAAAAAAAAAAAAAAAAAAAAAAAAAAAAAAAAAAAAAAAAAAAAAAAAAAAAAAAAAAAAAAAAAAAAAAAAAAAAAAAAAAAAAAAAAAAAAAAAAAAAAAAAAAAAAAAAAAAAAAAAAAAAAAAAAAAAAAAAAAAAAAAAAAAAAAAAAAAAAAAAAAAAAAAAAAAAAAAAAAAAAAAAAAAAAAAAAAAAAAAAAAAAAAAAAAAAAAAAAAAAAAAAAAAAAAAAAAAAAAAAAAAAAAAAAAAAAAAAAAAAAAAAAAAAAAAAAAAAAAAAAAAAAAAAAAAAAAAAAAAAAACwAAAAAOAABAAAIFAABCBxIsKBBgwEAKFzIsKHDhwEBADs=\"><title>Layer: output (output)\n output range: (0.0, 1.0)\n shape = (56,)\n Keras class = Dense\n activation = softmax</title></image><text x=\"280.0\" y=\"52.0\" font-family=\"monospace\" font-size=\"12\" text-anchor=\"start\" fill=\"black\" alignment-baseline=\"central\" >targets</text><line x1=\"87.5\" y1=\"80\" x2=\"262.5\" y2=\"80\" stroke=\"green\" stroke-width=\"2\"><title></title></line><rect x=\"74.0\" y=\"84\" width=\"202\" height=\"52\" style=\"fill:none;stroke:black;stroke-width:2\"/><image id=\"picture-dashboard-Alice in Wonderland-731952_output_1\" class=\"picture-dashboard-Alice in Wonderland-731952_output\" x=\"75.0\" y=\"85\" height=\"50\" width=\"200\" preserveAspectRatio=\"none\" image-rendering=\"optimizeSpeed\" xlink:href=\"data:image/gif;base64,R0lGODdhOAABAIcAAAQEBAAAAAAAAAAAAAAAAAAAAAAAAAAAAAAAAAAAAAAAAAAAAAAAAAAAAAAAAAAAAAAAAAAAAAAAAAAAAAAAAAAAAAAAAAAAAAAAAAAAAAAAAAAAAAAAAAAAAAAAAAAAAAAAAAAAAAAAAAAAAAAAAAAAAAAAAAAAAAAAAAAAAAAAAAAAAAAAAAAAAAAAAAAAAAAAAAAAAAAAAAAAAAAAAAAAAAAAAAAAAAAAAAAAAAAAAAAAAAAAAAAAAAAAAAAAAAAAAAAAAAAAAAAAAAAAAAAAAAAAAAAAAAAAAAAAAAAAAAAAAAAAAAAAAAAAAAAAAAAAAAAAAAAAAAAAAAAAAAAAAAAAAAAAAAAAAAAAAAAAAAAAAAAAAAAAAAAAAAAAAAAAAAAAAAAAAAAAAAAAAAAAAAAAAAAAAAAAAAAAAAAAAAAAAAAAAAAAAAAAAAAAAAAAAAAAAAAAAAAAAAAAAAAAAAAAAAAAAAAAAAAAAAAAAAAAAAAAAAAAAAAAAAAAAAAAAAAAAAAAAAAAAAAAAAAAAAAAAAAAAAAAAAAAAAAAAAAAAAAAAAAAAAAAAAAAAAAAAAAAAAAAAAAAAAAAAAAAAAAAAAAAAAAAAAAAAAAAAAAAAAAAAAAAAAAAAAAAAAAAAAAAAAAAAAAAAAAAAAAAAAAAAAAAAAAAAAAAAAAAAAAAAAAAAAAAAAAAAAAAAAAAAAAAAAAAAAAAAAAAAAAAAAAAAAAAAAAAAAAAAAAAAAAAAAAAAAAAAAAAAAAAAAAAAAAAAAAAAAAAAAAAAAAAAAAAAAAAAAAAAAAAAAAAAAAAAAAAAAAAAAAAAAAAAAAAAAAAAAAAAAAAAAAAAAAAAAAAAAAAAAAAAAAAAAAAAAAAAAAAAAAAAAAAAAAAAAAAAAAAAAAAAAAAAAAAAAAAAAAAAAAAAAAAAAAAAAAAAAAAAAAAAAAAAAAAAAAAAAAAAAAAAAAAAAAAAAAAAAAAAAAAAAAAAAAAAAAAAAAAAAAAAAAAAAAAAAAAAAAAACwAAAAAOAABAAAIDwABCBxIsKDBgwgTKgQQEAA7\"><title>Layer: output (output)\n output range: (0.0, 1.0)\n shape = (56,)\n Keras class = Dense\n activation = softmax</title></image><text x=\"280.0\" y=\"112.0\" font-family=\"monospace\" font-size=\"12\" text-anchor=\"start\" fill=\"black\" alignment-baseline=\"central\" >output</text><path d=\"M 175.0 164 L 175.0 137 \" stroke=\"black\" stroke-width=\"2\" marker-end=\"url(#arrow)\" fill=\"none\" /><rect x=\"74.0\" y=\"164\" width=\"202\" height=\"52\" style=\"fill:none;stroke:black;stroke-width:2\"/><image id=\"picture-dashboard-Alice in Wonderland-731952_rnn_2\" class=\"picture-dashboard-Alice in Wonderland-731952_rnn\" x=\"75.0\" y=\"165\" height=\"50\" width=\"200\" preserveAspectRatio=\"none\" image-rendering=\"optimizeSpeed\" xlink:href=\"data:image/gif;base64,R0lGODdhgAABAIcAAPLm8vv3+v/ExNfX/6Sk/8bG//+Zmf/Z2f+7u4mJ/5ub/7i4//+Fhf+pqX19//9FRf9VVf99fQAAAAAAAAAAAAAAAAAAAAAAAAAAAAAAAAAAAAAAAAAAAAAAAAAAAAAAAAAAAAAAAAAAAAAAAAAAAAAAAAAAAAAAAAAAAAAAAAAAAAAAAAAAAAAAAAAAAAAAAAAAAAAAAAAAAAAAAAAAAAAAAAAAAAAAAAAAAAAAAAAAAAAAAAAAAAAAAAAAAAAAAAAAAAAAAAAAAAAAAAAAAAAAAAAAAAAAAAAAAAAAAAAAAAAAAAAAAAAAAAAAAAAAAAAAAAAAAAAAAAAAAAAAAAAAAAAAAAAAAAAAAAAAAAAAAAAAAAAAAAAAAAAAAAAAAAAAAAAAAAAAAAAAAAAAAAAAAAAAAAAAAAAAAAAAAAAAAAAAAAAAAAAAAAAAAAAAAAAAAAAAAAAAAAAAAAAAAAAAAAAAAAAAAAAAAAAAAAAAAAAAAAAAAAAAAAAAAAAAAAAAAAAAAAAAAAAAAAAAAAAAAAAAAAAAAAAAAAAAAAAAAAAAAAAAAAAAAAAAAAAAAAAAAAAAAAAAAAAAAAAAAAAAAAAAAAAAAAAAAAAAAAAAAAAAAAAAAAAAAAAAAAAAAAAAAAAAAAAAAAAAAAAAAAAAAAAAAAAAAAAAAAAAAAAAAAAAAAAAAAAAAAAAAAAAAAAAAAAAAAAAAAAAAAAAAAAAAAAAAAAAAAAAAAAAAAAAAAAAAAAAAAAAAAAAAAAAAAAAAAAAAAAAAAAAAAAAAAAAAAAAAAAAAAAAAAAAAAAAAAAAAAAAAAAAAAAAAAAAAAAAAAAAAAAAAAAAAAAAAAAAAAAAAAAAAAAAAAAAAAAAAAAAAAAAAAAAAAAAAAAAAAAAAAAAAAAAAAAAAAAAAAAAAAAAAAAAAAAAAAAAAAAAAAAAAAAAAAAAAAAAAAAAAAAAAAAAAAAAAAAAAAAAAAAAAAAAAAAAAAAAAAAAAAAAAAAAAAAAAAAAAAAAAAAAACwAAAAAgAABAAAIkgAFCAAAwEAAAAMACFgwIMABAAUWAEgwIMCAAAIAIAAg4ACABgcCiByg4ICABwYAECAgAACAAgIAGBgQAACAAAgAFHAQIAAAAgACGGgQYICCAAQADACQIAACAAIKIAhQQAGBBAEYACAQwMCBAAEGEAAQYAAEAwAOCAgwIMCAAAUMMAAgYIABAAIKEBBQQMCBCAEBADs=\"><title>Layer: rnn (hidden)\n output range: (-Infinity, +Infinity)\n Keras class = SimpleRNN\n return_sequences = False\n unroll = True</title></image><text x=\"280.0\" y=\"192.0\" font-family=\"monospace\" font-size=\"12\" text-anchor=\"start\" fill=\"black\" alignment-baseline=\"central\" >rnn</text><path d=\"M 175.0 244 L 175.0 217 \" stroke=\"black\" stroke-width=\"2\" marker-end=\"url(#arrow)\" fill=\"none\" /><rect x=\"74.0\" y=\"244\" width=\"202\" height=\"202\" style=\"fill:none;stroke:black;stroke-width:2\"/><image id=\"picture-dashboard-Alice in Wonderland-731952_input_3\" class=\"picture-dashboard-Alice in Wonderland-731952_input\" x=\"75.0\" y=\"245\" height=\"200\" width=\"200\" preserveAspectRatio=\"none\" image-rendering=\"optimizeSpeed\" xlink:href=\"data:image/gif;base64,R0lGODdhOAAKAIcAAAAAAP///wAAAAAAAAAAAAAAAAAAAAAAAAAAAAAAAAAAAAAAAAAAAAAAAAAAAAAAAAAAAAAAAAAAAAAAAAAAAAAAAAAAAAAAAAAAAAAAAAAAAAAAAAAAAAAAAAAAAAAAAAAAAAAAAAAAAAAAAAAAAAAAAAAAAAAAAAAAAAAAAAAAAAAAAAAAAAAAAAAAAAAAAAAAAAAAAAAAAAAAAAAAAAAAAAAAAAAAAAAAAAAAAAAAAAAAAAAAAAAAAAAAAAAAAAAAAAAAAAAAAAAAAAAAAAAAAAAAAAAAAAAAAAAAAAAAAAAAAAAAAAAAAAAAAAAAAAAAAAAAAAAAAAAAAAAAAAAAAAAAAAAAAAAAAAAAAAAAAAAAAAAAAAAAAAAAAAAAAAAAAAAAAAAAAAAAAAAAAAAAAAAAAAAAAAAAAAAAAAAAAAAAAAAAAAAAAAAAAAAAAAAAAAAAAAAAAAAAAAAAAAAAAAAAAAAAAAAAAAAAAAAAAAAAAAAAAAAAAAAAAAAAAAAAAAAAAAAAAAAAAAAAAAAAAAAAAAAAAAAAAAAAAAAAAAAAAAAAAAAAAAAAAAAAAAAAAAAAAAAAAAAAAAAAAAAAAAAAAAAAAAAAAAAAAAAAAAAAAAAAAAAAAAAAAAAAAAAAAAAAAAAAAAAAAAAAAAAAAAAAAAAAAAAAAAAAAAAAAAAAAAAAAAAAAAAAAAAAAAAAAAAAAAAAAAAAAAAAAAAAAAAAAAAAAAAAAAAAAAAAAAAAAAAAAAAAAAAAAAAAAAAAAAAAAAAAAAAAAAAAAAAAAAAAAAAAAAAAAAAAAAAAAAAAAAAAAAAAAAAAAAAAAAAAAAAAAAAAAAAAAAAAAAAAAAAAAAAAAAAAAAAAAAAAAAAAAAAAAAAAAAAAAAAAAAAAAAAAAAAAAAAAAAAAAAAAAAAAAAAAAAAAAAAAAAAAAAAAAAAAAAAAAAAAAAAAAAAAAAAAAAAAAAAAAAAAAAAAAAAAAAAAAAAAAAAAAAAAAAAAAAAAAAAAAAAAAAAAACwAAAAAOAAKAAAIggABCBxIsKDAAAASKlzIsKHDhw8DAJhIsaLFixgzatzIsaPGAABCihxJsqRJkgEAqFzJsqXLlzBjypxJ82UAADhz6tzJs6fPn0B7BgBAtKjRo0iTAggAoKnTp1CjSp1KtarTAACyat3KtavXr2DDivUaAIDZs2jTql3Ltq1btQEABAQAOw==\"><title>Layer: input (input)\n output range: (0.0, 1.0)\n shape = (10, 56)\n Keras class = Input</title></image><text x=\"280.0\" y=\"347.0\" font-family=\"monospace\" font-size=\"12\" text-anchor=\"start\" fill=\"black\" alignment-baseline=\"central\" >input</text><text x=\"175.0\" y=\"12.5\" font-family=\"monospace\" font-size=\"15\" text-anchor=\"middle\" fill=\"black\" alignment-baseline=\"central\" >Alice in Wonderland</text></svg></g></svg></p>"
      }
     },
     "89fda11ce822402f8d309ac456d266bb": {
      "model_module": "@jupyter-widgets/base",
      "model_module_version": "1.1.0",
      "model_name": "LayoutModel",
      "state": {
       "width": "52%"
      }
     },
     "8a176325a9d143b3ae7c1dd4de845cb9": {
      "model_module": "@jupyter-widgets/controls",
      "model_module_version": "1.4.0",
      "model_name": "ButtonModel",
      "state": {
       "icon": "save",
       "layout": "IPY_MODEL_3ed2485cceac44e98ea2c75c1561b80e",
       "style": "IPY_MODEL_d451026103b34da7a81cd92051f155d7"
      }
     },
     "8a90d3699dea4c5b83ccc1b7a8ce7fe5": {
      "model_module": "@jupyter-widgets/controls",
      "model_module_version": "1.4.0",
      "model_name": "DescriptionStyleModel",
      "state": {
       "description_width": "initial"
      }
     },
     "8abbb5ab1ef44a91b9bdddd5f8306061": {
      "model_module": "@jupyter-widgets/controls",
      "model_module_version": "1.4.0",
      "model_name": "IntTextModel",
      "state": {
       "description": "Vertical space between layers:",
       "layout": "IPY_MODEL_e139e1e900c4499f96e6f598e0f88837",
       "step": 1,
       "style": "IPY_MODEL_fc489b8953974a6fae0a8349794be122",
       "value": 30
      }
     },
     "8ac1885818ce40c8a7653c4350dae50b": {
      "model_module": "@jupyter-widgets/controls",
      "model_module_version": "1.4.0",
      "model_name": "DescriptionStyleModel",
      "state": {
       "description_width": ""
      }
     },
     "8ae0d8e7c6754902b0b1fd2b51e24c4b": {
      "model_module": "@jupyter-widgets/controls",
      "model_module_version": "1.4.0",
      "model_name": "ButtonModel",
      "state": {
       "icon": "backward",
       "layout": "IPY_MODEL_f022c8ab44174615a24a8eb3ca42d603",
       "style": "IPY_MODEL_ee5f6e1c9dce4eafa161b6958e543fda"
      }
     },
     "8ae39f8a5d864b1fb8ce437d35a7881b": {
      "model_module": "@jupyter-widgets/controls",
      "model_module_version": "1.4.0",
      "model_name": "DescriptionStyleModel",
      "state": {
       "description_width": ""
      }
     },
     "8b84673565d94456ac40b7f5e9b40518": {
      "model_module": "@jupyter-widgets/base",
      "model_module_version": "1.1.0",
      "model_name": "LayoutModel",
      "state": {
       "width": "100%"
      }
     },
     "8c3437303cc24652ac5e7fcaf964f1e0": {
      "model_module": "@jupyter-widgets/controls",
      "model_module_version": "1.4.0",
      "model_name": "FloatTextModel",
      "state": {
       "description": "Feature scale:",
       "layout": "IPY_MODEL_4a2182ce8a9d4502b3e27cfb82ed880c",
       "step": null,
       "style": "IPY_MODEL_c0eb031ad366439397e9230370729bf3",
       "value": 1
      }
     },
     "8d18d2f6a4f2424ca820204c560495aa": {
      "model_module": "@jupyter-widgets/base",
      "model_module_version": "1.1.0",
      "model_name": "LayoutModel",
      "state": {}
     },
     "8d27e125d3c249b3ad48de3a840538ea": {
      "model_module": "@jupyter-widgets/base",
      "model_module_version": "1.1.0",
      "model_name": "LayoutModel",
      "state": {
       "width": "25%"
      }
     },
     "8d5c148d4aaa4fffa69b160feb3193eb": {
      "model_module": "@jupyter-widgets/controls",
      "model_module_version": "1.4.0",
      "model_name": "HTMLModel",
      "state": {
       "layout": "IPY_MODEL_4b6bfa4c363e407ca387c5342a0a3294",
       "style": "IPY_MODEL_88051733c15e4c688c81f280a6abff52",
       "value": "<p style=\"text-align:center\"><svg id='Alice in Wonderland' xmlns='http://www.w3.org/2000/svg' xmlns:xlink='http://www.w3.org/1999/xlink' image-rendering=\"pixelated\" width=\"297.87234042553195px\" height=\"400.0px\">\n <g >\n  <svg viewBox=\"0 0 350 470\" width=\"297.87234042553195px\" height=\"400.0px\">\n    <defs>\n        <marker id=\"arrow\" markerWidth=\"10\" markerHeight=\"10\" refX=\"9\" refY=\"3\" orient=\"auto\" markerUnits=\"strokeWidth\">\n          <path d=\"M0,0 L0,6 L9,3 z\" fill=\"black\" />\n        </marker>\n    </defs><rect x=\"74.0\" y=\"24\" width=\"202\" height=\"52\" style=\"fill:none;stroke:black;stroke-width:2\"/><image id=\"picture-dashboard-Alice in Wonderland-136717_output_targets_1\" class=\"picture-dashboard-Alice in Wonderland-136717_output_targets\" x=\"75.0\" y=\"25\" height=\"50\" width=\"200\" preserveAspectRatio=\"none\" image-rendering=\"optimizeSpeed\" xlink:href=\"data:image/gif;base64,R0lGODdhOAABAIcAAAAAAP///wAAAAAAAAAAAAAAAAAAAAAAAAAAAAAAAAAAAAAAAAAAAAAAAAAAAAAAAAAAAAAAAAAAAAAAAAAAAAAAAAAAAAAAAAAAAAAAAAAAAAAAAAAAAAAAAAAAAAAAAAAAAAAAAAAAAAAAAAAAAAAAAAAAAAAAAAAAAAAAAAAAAAAAAAAAAAAAAAAAAAAAAAAAAAAAAAAAAAAAAAAAAAAAAAAAAAAAAAAAAAAAAAAAAAAAAAAAAAAAAAAAAAAAAAAAAAAAAAAAAAAAAAAAAAAAAAAAAAAAAAAAAAAAAAAAAAAAAAAAAAAAAAAAAAAAAAAAAAAAAAAAAAAAAAAAAAAAAAAAAAAAAAAAAAAAAAAAAAAAAAAAAAAAAAAAAAAAAAAAAAAAAAAAAAAAAAAAAAAAAAAAAAAAAAAAAAAAAAAAAAAAAAAAAAAAAAAAAAAAAAAAAAAAAAAAAAAAAAAAAAAAAAAAAAAAAAAAAAAAAAAAAAAAAAAAAAAAAAAAAAAAAAAAAAAAAAAAAAAAAAAAAAAAAAAAAAAAAAAAAAAAAAAAAAAAAAAAAAAAAAAAAAAAAAAAAAAAAAAAAAAAAAAAAAAAAAAAAAAAAAAAAAAAAAAAAAAAAAAAAAAAAAAAAAAAAAAAAAAAAAAAAAAAAAAAAAAAAAAAAAAAAAAAAAAAAAAAAAAAAAAAAAAAAAAAAAAAAAAAAAAAAAAAAAAAAAAAAAAAAAAAAAAAAAAAAAAAAAAAAAAAAAAAAAAAAAAAAAAAAAAAAAAAAAAAAAAAAAAAAAAAAAAAAAAAAAAAAAAAAAAAAAAAAAAAAAAAAAAAAAAAAAAAAAAAAAAAAAAAAAAAAAAAAAAAAAAAAAAAAAAAAAAAAAAAAAAAAAAAAAAAAAAAAAAAAAAAAAAAAAAAAAAAAAAAAAAAAAAAAAAAAAAAAAAAAAAAAAAAAAAAAAAAAAAAAAAAAAAAAAAAAAAAAAAAAAAAAAAAAAAAAAAAAAAAAAAAAAAAAAAAAAAAAAAAAAAAACwAAAAAOAABAAAIFAABCBxIsKBBgwEAKFzIsKHDhwEBADs=\"><title>Layer: output (output)\n output range: (0.0, 1.0)\n shape = (56,)\n Keras class = Dense\n activation = softmax</title></image><text x=\"280.0\" y=\"52.0\" font-family=\"monospace\" font-size=\"12\" text-anchor=\"start\" fill=\"black\" alignment-baseline=\"central\" >targets</text><line x1=\"87.5\" y1=\"80\" x2=\"262.5\" y2=\"80\" stroke=\"green\" stroke-width=\"2\"><title></title></line><rect x=\"74.0\" y=\"84\" width=\"202\" height=\"52\" style=\"fill:none;stroke:black;stroke-width:2\"/><image id=\"picture-dashboard-Alice in Wonderland-136717_output_1\" class=\"picture-dashboard-Alice in Wonderland-136717_output\" x=\"75.0\" y=\"85\" height=\"50\" width=\"200\" preserveAspectRatio=\"none\" image-rendering=\"optimizeSpeed\" xlink:href=\"data:image/gif;base64,R0lGODdhOAABAIcAAAQEBAAAAAAAAAAAAAAAAAAAAAAAAAAAAAAAAAAAAAAAAAAAAAAAAAAAAAAAAAAAAAAAAAAAAAAAAAAAAAAAAAAAAAAAAAAAAAAAAAAAAAAAAAAAAAAAAAAAAAAAAAAAAAAAAAAAAAAAAAAAAAAAAAAAAAAAAAAAAAAAAAAAAAAAAAAAAAAAAAAAAAAAAAAAAAAAAAAAAAAAAAAAAAAAAAAAAAAAAAAAAAAAAAAAAAAAAAAAAAAAAAAAAAAAAAAAAAAAAAAAAAAAAAAAAAAAAAAAAAAAAAAAAAAAAAAAAAAAAAAAAAAAAAAAAAAAAAAAAAAAAAAAAAAAAAAAAAAAAAAAAAAAAAAAAAAAAAAAAAAAAAAAAAAAAAAAAAAAAAAAAAAAAAAAAAAAAAAAAAAAAAAAAAAAAAAAAAAAAAAAAAAAAAAAAAAAAAAAAAAAAAAAAAAAAAAAAAAAAAAAAAAAAAAAAAAAAAAAAAAAAAAAAAAAAAAAAAAAAAAAAAAAAAAAAAAAAAAAAAAAAAAAAAAAAAAAAAAAAAAAAAAAAAAAAAAAAAAAAAAAAAAAAAAAAAAAAAAAAAAAAAAAAAAAAAAAAAAAAAAAAAAAAAAAAAAAAAAAAAAAAAAAAAAAAAAAAAAAAAAAAAAAAAAAAAAAAAAAAAAAAAAAAAAAAAAAAAAAAAAAAAAAAAAAAAAAAAAAAAAAAAAAAAAAAAAAAAAAAAAAAAAAAAAAAAAAAAAAAAAAAAAAAAAAAAAAAAAAAAAAAAAAAAAAAAAAAAAAAAAAAAAAAAAAAAAAAAAAAAAAAAAAAAAAAAAAAAAAAAAAAAAAAAAAAAAAAAAAAAAAAAAAAAAAAAAAAAAAAAAAAAAAAAAAAAAAAAAAAAAAAAAAAAAAAAAAAAAAAAAAAAAAAAAAAAAAAAAAAAAAAAAAAAAAAAAAAAAAAAAAAAAAAAAAAAAAAAAAAAAAAAAAAAAAAAAAAAAAAAAAAAAAAAAAAAAAAAAAAAAAAAAAAAAAAAAAAAAAAAAAACwAAAAAOAABAAAIDwABCBxIsKDBgwgTKgQQEAA7\"><title>Layer: output (output)\n output range: (0.0, 1.0)\n shape = (56,)\n Keras class = Dense\n activation = softmax</title></image><text x=\"280.0\" y=\"112.0\" font-family=\"monospace\" font-size=\"12\" text-anchor=\"start\" fill=\"black\" alignment-baseline=\"central\" >output</text><path d=\"M 175.0 164 L 175.0 137 \" stroke=\"black\" stroke-width=\"2\" marker-end=\"url(#arrow)\" fill=\"none\" /><rect x=\"74.0\" y=\"164\" width=\"202\" height=\"52\" style=\"fill:none;stroke:black;stroke-width:2\"/><image id=\"picture-dashboard-Alice in Wonderland-136717_rnn_2\" class=\"picture-dashboard-Alice in Wonderland-136717_rnn\" x=\"75.0\" y=\"165\" height=\"50\" width=\"200\" preserveAspectRatio=\"none\" image-rendering=\"optimizeSpeed\" xlink:href=\"data:image/gif;base64,R0lGODdhgAABAIcAAPv2+v/IyPXm8NjY///X1/+2tsjI//+ZmaWl/7m5/4eH/5eX//+Ghv+oqDU1/21t//9tbQAAAAAAAAAAAAAAAAAAAAAAAAAAAAAAAAAAAAAAAAAAAAAAAAAAAAAAAAAAAAAAAAAAAAAAAAAAAAAAAAAAAAAAAAAAAAAAAAAAAAAAAAAAAAAAAAAAAAAAAAAAAAAAAAAAAAAAAAAAAAAAAAAAAAAAAAAAAAAAAAAAAAAAAAAAAAAAAAAAAAAAAAAAAAAAAAAAAAAAAAAAAAAAAAAAAAAAAAAAAAAAAAAAAAAAAAAAAAAAAAAAAAAAAAAAAAAAAAAAAAAAAAAAAAAAAAAAAAAAAAAAAAAAAAAAAAAAAAAAAAAAAAAAAAAAAAAAAAAAAAAAAAAAAAAAAAAAAAAAAAAAAAAAAAAAAAAAAAAAAAAAAAAAAAAAAAAAAAAAAAAAAAAAAAAAAAAAAAAAAAAAAAAAAAAAAAAAAAAAAAAAAAAAAAAAAAAAAAAAAAAAAAAAAAAAAAAAAAAAAAAAAAAAAAAAAAAAAAAAAAAAAAAAAAAAAAAAAAAAAAAAAAAAAAAAAAAAAAAAAAAAAAAAAAAAAAAAAAAAAAAAAAAAAAAAAAAAAAAAAAAAAAAAAAAAAAAAAAAAAAAAAAAAAAAAAAAAAAAAAAAAAAAAAAAAAAAAAAAAAAAAAAAAAAAAAAAAAAAAAAAAAAAAAAAAAAAAAAAAAAAAAAAAAAAAAAAAAAAAAAAAAAAAAAAAAAAAAAAAAAAAAAAAAAAAAAAAAAAAAAAAAAAAAAAAAAAAAAAAAAAAAAAAAAAAAAAAAAAAAAAAAAAAAAAAAAAAAAAAAAAAAAAAAAAAAAAAAAAAAAAAAAAAAAAAAAAAAAAAAAAAAAAAAAAAAAAAAAAAAAAAAAAAAAAAAAAAAAAAAAAAAAAAAAAAAAAAAAAAAAAAAAAAAAAAAAAAAAAAAAAAAAAAAAAAAAAAAAAAAAAAAAAAAAAAAAAAAAAAAAAAAAAAAAAAAAAAACwAAAAAgAABAAAIkgADBBiQIMAAAAQaBBAAYMABBQIAHCCQQEAAAAAOKAAgoEACAAICBBggoCSABQQOFDCAAIAABgQCFAiAQEAAAwMADAhAAEAAAAcEABggAEACBA0CDAhgAEABAAEADHgggACAAAMYBAgwIICBAAEACCBAQACBAQIADBBQQEABAAQMEBgAAAAEAA4WAACgQAACAQEBADs=\"><title>Layer: rnn (hidden)\n output range: (-Infinity, +Infinity)\n Keras class = SimpleRNN\n return_sequences = False\n unroll = True</title></image><text x=\"280.0\" y=\"192.0\" font-family=\"monospace\" font-size=\"12\" text-anchor=\"start\" fill=\"black\" alignment-baseline=\"central\" >rnn</text><path d=\"M 175.0 244 L 175.0 217 \" stroke=\"black\" stroke-width=\"2\" marker-end=\"url(#arrow)\" fill=\"none\" /><rect x=\"74.0\" y=\"244\" width=\"202\" height=\"202\" style=\"fill:none;stroke:black;stroke-width:2\"/><image id=\"picture-dashboard-Alice in Wonderland-136717_input_3\" class=\"picture-dashboard-Alice in Wonderland-136717_input\" x=\"75.0\" y=\"245\" height=\"200\" width=\"200\" preserveAspectRatio=\"none\" image-rendering=\"optimizeSpeed\" xlink:href=\"data:image/gif;base64,R0lGODdhOAAKAIcAAAAAAP///wAAAAAAAAAAAAAAAAAAAAAAAAAAAAAAAAAAAAAAAAAAAAAAAAAAAAAAAAAAAAAAAAAAAAAAAAAAAAAAAAAAAAAAAAAAAAAAAAAAAAAAAAAAAAAAAAAAAAAAAAAAAAAAAAAAAAAAAAAAAAAAAAAAAAAAAAAAAAAAAAAAAAAAAAAAAAAAAAAAAAAAAAAAAAAAAAAAAAAAAAAAAAAAAAAAAAAAAAAAAAAAAAAAAAAAAAAAAAAAAAAAAAAAAAAAAAAAAAAAAAAAAAAAAAAAAAAAAAAAAAAAAAAAAAAAAAAAAAAAAAAAAAAAAAAAAAAAAAAAAAAAAAAAAAAAAAAAAAAAAAAAAAAAAAAAAAAAAAAAAAAAAAAAAAAAAAAAAAAAAAAAAAAAAAAAAAAAAAAAAAAAAAAAAAAAAAAAAAAAAAAAAAAAAAAAAAAAAAAAAAAAAAAAAAAAAAAAAAAAAAAAAAAAAAAAAAAAAAAAAAAAAAAAAAAAAAAAAAAAAAAAAAAAAAAAAAAAAAAAAAAAAAAAAAAAAAAAAAAAAAAAAAAAAAAAAAAAAAAAAAAAAAAAAAAAAAAAAAAAAAAAAAAAAAAAAAAAAAAAAAAAAAAAAAAAAAAAAAAAAAAAAAAAAAAAAAAAAAAAAAAAAAAAAAAAAAAAAAAAAAAAAAAAAAAAAAAAAAAAAAAAAAAAAAAAAAAAAAAAAAAAAAAAAAAAAAAAAAAAAAAAAAAAAAAAAAAAAAAAAAAAAAAAAAAAAAAAAAAAAAAAAAAAAAAAAAAAAAAAAAAAAAAAAAAAAAAAAAAAAAAAAAAAAAAAAAAAAAAAAAAAAAAAAAAAAAAAAAAAAAAAAAAAAAAAAAAAAAAAAAAAAAAAAAAAAAAAAAAAAAAAAAAAAAAAAAAAAAAAAAAAAAAAAAAAAAAAAAAAAAAAAAAAAAAAAAAAAAAAAAAAAAAAAAAAAAAAAAAAAAAAAAAAAAAAAAAAAAAAAAAAAAAAAAAAAAAAAAAAAAAAAAAAAAAAAAAAACwAAAAAOAAKAAAIggABCBxIsKDAAAASKlzIsKHDhw8DAJhIsaLFixgzatzIsaPGAABCihxJsqRJkgEAqFzJsqXLlzBjypxJ82UAADhz6tzJs6fPn0B7BgBAtKjRo0iTAggAoKnTp1CjSp1KtarTAACyat3KtavXr2DDivUaAIDZs2jTql3Ltq1btQEABAQAOw==\"><title>Layer: input (input)\n output range: (0.0, 1.0)\n shape = (10, 56)\n Keras class = Input</title></image><text x=\"280.0\" y=\"347.0\" font-family=\"monospace\" font-size=\"12\" text-anchor=\"start\" fill=\"black\" alignment-baseline=\"central\" >input</text><text x=\"175.0\" y=\"12.5\" font-family=\"monospace\" font-size=\"15\" text-anchor=\"middle\" fill=\"black\" alignment-baseline=\"central\" >Alice in Wonderland</text></svg></g></svg></p>"
      }
     },
     "8d5de0b94a954c618b57f839845c4e5a": {
      "model_module": "@jupyter-widgets/controls",
      "model_module_version": "1.4.0",
      "model_name": "SelectModel",
      "state": {
       "_options_labels": [
        "Test",
        "Train"
       ],
       "description": "Dataset:",
       "index": 1,
       "layout": "IPY_MODEL_e6d93b299dcb40b19f0967d4fc340eb6",
       "rows": 1,
       "style": "IPY_MODEL_d2f7270402f54f02a98682442cddc3ae"
      }
     },
     "8dee30acf7ab4be7be78234b4fc4cbd3": {
      "model_module": "@jupyter-widgets/controls",
      "model_module_version": "1.4.0",
      "model_name": "DescriptionStyleModel",
      "state": {
       "description_width": "initial"
      }
     },
     "8e1a174e697b4a4ea1ef3b9f331f7c1d": {
      "model_module": "@jupyter-widgets/controls",
      "model_module_version": "1.4.0",
      "model_name": "VBoxModel",
      "state": {
       "children": [
        "IPY_MODEL_5fb80a4240924c2b85b0cc09bb377383",
        "IPY_MODEL_e1a59df98d984e88ae3e996084bd04d6",
        "IPY_MODEL_3dde77d7f0d04b88b5af15961e6298bf",
        "IPY_MODEL_e5dff3b47fb048f8987406d1f847a599",
        "IPY_MODEL_2b19844fdb994f5885fd48f2dc82cf25",
        "IPY_MODEL_38ab88234b784befbd2c3caaa683b3b6",
        "IPY_MODEL_3dc6a68962164e928c443b9709824fae",
        "IPY_MODEL_06c87cd2c968434096135978d87eaa01"
       ],
       "layout": "IPY_MODEL_f7841bf7caa344068b759b176889764c"
      }
     },
     "8ea778a3b1ff4a46b83342a108ccb825": {
      "model_module": "@jupyter-widgets/base",
      "model_module_version": "1.1.0",
      "model_name": "LayoutModel",
      "state": {}
     },
     "8eb73b7f1b01452abad0735c47bc7128": {
      "model_module": "@jupyter-widgets/controls",
      "model_module_version": "1.4.0",
      "model_name": "ButtonStyleModel",
      "state": {}
     },
     "8ec97e81fb6f488bbe895fbb6553129d": {
      "model_module": "@jupyter-widgets/controls",
      "model_module_version": "1.4.0",
      "model_name": "HBoxModel",
      "state": {
       "children": [
        "IPY_MODEL_72a7676860ee48f68bb8a87bbb39f426",
        "IPY_MODEL_8ae0d8e7c6754902b0b1fd2b51e24c4b",
        "IPY_MODEL_bf95e4c400644a9385e32e4fb92a55d0",
        "IPY_MODEL_0bb9cad6017140d3b0ff484f84561940",
        "IPY_MODEL_45412ecc60e94f6c8aee19b9a581a126",
        "IPY_MODEL_3121b5fe34c745ecbf354c2855df14f7",
        "IPY_MODEL_6751aa7376cc42e58fff74597cf5adf0"
       ],
       "layout": "IPY_MODEL_a5bb6102292a4c91a6d4d6130ac001dc"
      }
     },
     "8ee119cbd73642c984583cefe2919e81": {
      "model_module": "@jupyter-widgets/controls",
      "model_module_version": "1.4.0",
      "model_name": "DescriptionStyleModel",
      "state": {
       "description_width": "initial"
      }
     },
     "8f06d6ebcbc74871bf61406f04363c94": {
      "model_module": "@jupyter-widgets/base",
      "model_module_version": "1.1.0",
      "model_name": "LayoutModel",
      "state": {
       "width": "25%"
      }
     },
     "8f68750a42074331aa92fe583806063f": {
      "model_module": "@jupyter-widgets/controls",
      "model_module_version": "1.4.0",
      "model_name": "DescriptionStyleModel",
      "state": {
       "description_width": ""
      }
     },
     "8f76efcc23004df1a2fb0ed2673e97ff": {
      "model_module": "@jupyter-widgets/base",
      "model_module_version": "1.1.0",
      "model_name": "LayoutModel",
      "state": {}
     },
     "8fde46292da449979cac2bed9bf403d5": {
      "model_module": "@jupyter-widgets/controls",
      "model_module_version": "1.4.0",
      "model_name": "HTMLModel",
      "state": {
       "layout": "IPY_MODEL_bce8d78fafd74ae699e99d674ff86387",
       "style": "IPY_MODEL_7ca43a072d004466a9274ab6844d7aab",
       "value": "<img src=\"data:image/gif;base64,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\"/>"
      }
     },
     "8fe6152488184d609e7d8bbffbe2c948": {
      "model_module": "@jupyter-widgets/controls",
      "model_module_version": "1.4.0",
      "model_name": "AccordionModel",
      "state": {
       "_titles": {
        "0": "Alice in Wonderland"
       },
       "children": [
        "IPY_MODEL_edff5989499449b287deb7db1c96392b"
       ],
       "layout": "IPY_MODEL_0fc4fee8b9384b7c8b02d67a98759ad6",
       "selected_index": null
      }
     },
     "9050356d2cc741fbb7b64c8a9d6d774c": {
      "model_module": "@jupyter-widgets/base",
      "model_module_version": "1.1.0",
      "model_name": "LayoutModel",
      "state": {
       "width": "52%"
      }
     },
     "906e7773d19f4af98734de61778111e6": {
      "model_module": "@jupyter-widgets/controls",
      "model_module_version": "1.4.0",
      "model_name": "DescriptionStyleModel",
      "state": {
       "description_width": ""
      }
     },
     "90db0e70ee0547e496f981ea80868304": {
      "model_module": "@jupyter-widgets/controls",
      "model_module_version": "1.4.0",
      "model_name": "DescriptionStyleModel",
      "state": {
       "description_width": ""
      }
     },
     "91095f45cb9a438fa619a9d60c1ebd15": {
      "model_module": "@jupyter-widgets/base",
      "model_module_version": "1.1.0",
      "model_name": "LayoutModel",
      "state": {}
     },
     "915d8b3564e449fc9a9b2b9ffefd5d66": {
      "model_module": "@jupyter-widgets/controls",
      "model_module_version": "1.4.0",
      "model_name": "ButtonModel",
      "state": {
       "icon": "save",
       "layout": "IPY_MODEL_5355cc7df8614689b51fac735b5799d1",
       "style": "IPY_MODEL_0576a954223d409daf9983711e4ab109"
      }
     },
     "92ffcf72a10e477086a4cc331e0627cd": {
      "model_module": "@jupyter-widgets/base",
      "model_module_version": "1.1.0",
      "model_name": "LayoutModel",
      "state": {}
     },
     "932564f5a8d54653b9ad4fc3f085801c": {
      "model_module": "@jupyter-widgets/base",
      "model_module_version": "1.1.0",
      "model_name": "LayoutModel",
      "state": {
       "width": "25%"
      }
     },
     "9339a7f77c9c4b6bae23c42a1b775106": {
      "model_module": "@jupyter-widgets/controls",
      "model_module_version": "1.4.0",
      "model_name": "ButtonStyleModel",
      "state": {}
     },
     "93f9f11f9d6b465f99f5840920204ea5": {
      "model_module": "@jupyter-widgets/controls",
      "model_module_version": "1.4.0",
      "model_name": "DescriptionStyleModel",
      "state": {
       "description_width": "initial"
      }
     },
     "94668f9856a748268170c556f1806ba0": {
      "model_module": "@jupyter-widgets/base",
      "model_module_version": "1.1.0",
      "model_name": "LayoutModel",
      "state": {}
     },
     "94a331d0c7894f52adfa8160a4b67fcf": {
      "model_module": "@jupyter-widgets/controls",
      "model_module_version": "1.4.0",
      "model_name": "DescriptionStyleModel",
      "state": {
       "description_width": "initial"
      }
     },
     "953fd888cf9b4a189c7533d21b54b2f5": {
      "model_module": "@jupyter-widgets/controls",
      "model_module_version": "1.4.0",
      "model_name": "IntTextModel",
      "state": {
       "description": "Feature columns:",
       "layout": "IPY_MODEL_716fff7045d545c39f3203ee4bb840ee",
       "step": 1,
       "style": "IPY_MODEL_4f237ef4e5d54d72b729f1b7531a9d9c",
       "value": 3
      }
     },
     "95577021dd314f61b9ba6e993b0ef89b": {
      "model_module": "@jupyter-widgets/base",
      "model_module_version": "1.1.0",
      "model_name": "LayoutModel",
      "state": {
       "width": "100px"
      }
     },
     "9583db0c94a54498be0db0aa5df36f06": {
      "model_module": "@jupyter-widgets/controls",
      "model_module_version": "1.4.0",
      "model_name": "ButtonStyleModel",
      "state": {}
     },
     "95ae94def5d640e1acaf784f79b6da81": {
      "model_module": "@jupyter-widgets/base",
      "model_module_version": "1.1.0",
      "model_name": "LayoutModel",
      "state": {}
     },
     "95b0846dfbba45d8bc678e9e2da2505c": {
      "model_module": "@jupyter-widgets/base",
      "model_module_version": "1.1.0",
      "model_name": "LayoutModel",
      "state": {
       "width": "52%"
      }
     },
     "95cc1284a19e4b03b1f84636d31e61e2": {
      "model_module": "@jupyter-widgets/controls",
      "model_module_version": "1.4.0",
      "model_name": "HTMLModel",
      "state": {
       "layout": "IPY_MODEL_5515e99502f34bfdab8e46a764a021a6",
       "style": "IPY_MODEL_406e3c660c42419bbcbcfd4d795c8566",
       "value": "<p style=\"text-align:center\"><svg id='Alice in Wonderland' xmlns='http://www.w3.org/2000/svg' xmlns:xlink='http://www.w3.org/1999/xlink' image-rendering=\"pixelated\" width=\"297.87234042553195px\" height=\"400.0px\">\n <g >\n  <svg viewBox=\"0 0 350 470\" width=\"297.87234042553195px\" height=\"400.0px\">\n    <defs>\n        <marker id=\"arrow\" markerWidth=\"10\" markerHeight=\"10\" refX=\"9\" refY=\"3\" orient=\"auto\" markerUnits=\"strokeWidth\">\n          <path d=\"M0,0 L0,6 L9,3 z\" fill=\"black\" />\n        </marker>\n    </defs><rect x=\"74.0\" y=\"24\" width=\"202\" height=\"52\" style=\"fill:none;stroke:black;stroke-width:2\"/><image id=\"picture-dashboard-Alice in Wonderland-914853_output_targets_1\" class=\"picture-dashboard-Alice in Wonderland-914853_output_targets\" x=\"75.0\" y=\"25\" height=\"50\" width=\"200\" preserveAspectRatio=\"none\" image-rendering=\"optimizeSpeed\" xlink:href=\"data:image/gif;base64,R0lGODdhOAABAIcAAAAAAP///wAAAAAAAAAAAAAAAAAAAAAAAAAAAAAAAAAAAAAAAAAAAAAAAAAAAAAAAAAAAAAAAAAAAAAAAAAAAAAAAAAAAAAAAAAAAAAAAAAAAAAAAAAAAAAAAAAAAAAAAAAAAAAAAAAAAAAAAAAAAAAAAAAAAAAAAAAAAAAAAAAAAAAAAAAAAAAAAAAAAAAAAAAAAAAAAAAAAAAAAAAAAAAAAAAAAAAAAAAAAAAAAAAAAAAAAAAAAAAAAAAAAAAAAAAAAAAAAAAAAAAAAAAAAAAAAAAAAAAAAAAAAAAAAAAAAAAAAAAAAAAAAAAAAAAAAAAAAAAAAAAAAAAAAAAAAAAAAAAAAAAAAAAAAAAAAAAAAAAAAAAAAAAAAAAAAAAAAAAAAAAAAAAAAAAAAAAAAAAAAAAAAAAAAAAAAAAAAAAAAAAAAAAAAAAAAAAAAAAAAAAAAAAAAAAAAAAAAAAAAAAAAAAAAAAAAAAAAAAAAAAAAAAAAAAAAAAAAAAAAAAAAAAAAAAAAAAAAAAAAAAAAAAAAAAAAAAAAAAAAAAAAAAAAAAAAAAAAAAAAAAAAAAAAAAAAAAAAAAAAAAAAAAAAAAAAAAAAAAAAAAAAAAAAAAAAAAAAAAAAAAAAAAAAAAAAAAAAAAAAAAAAAAAAAAAAAAAAAAAAAAAAAAAAAAAAAAAAAAAAAAAAAAAAAAAAAAAAAAAAAAAAAAAAAAAAAAAAAAAAAAAAAAAAAAAAAAAAAAAAAAAAAAAAAAAAAAAAAAAAAAAAAAAAAAAAAAAAAAAAAAAAAAAAAAAAAAAAAAAAAAAAAAAAAAAAAAAAAAAAAAAAAAAAAAAAAAAAAAAAAAAAAAAAAAAAAAAAAAAAAAAAAAAAAAAAAAAAAAAAAAAAAAAAAAAAAAAAAAAAAAAAAAAAAAAAAAAAAAAAAAAAAAAAAAAAAAAAAAAAAAAAAAAAAAAAAAAAAAAAAAAAAAAAAAAAAAAAAAAAAAAAAAAAAAAAAAAAAAAAAAAAAAAAAAAAAAAACwAAAAAOAABAAAIFQABCBxIsKDBgwMDAFjIsKHDhwwDAgA7\"><title>Layer: output (output)\n output range: (0.0, 1.0)\n shape = (56,)\n Keras class = Dense\n activation = softmax</title></image><text x=\"280.0\" y=\"52.0\" font-family=\"monospace\" font-size=\"12\" text-anchor=\"start\" fill=\"black\" alignment-baseline=\"central\" >targets</text><line x1=\"87.5\" y1=\"80\" x2=\"262.5\" y2=\"80\" stroke=\"green\" stroke-width=\"2\"><title></title></line><rect x=\"74.0\" y=\"84\" width=\"202\" height=\"52\" style=\"fill:none;stroke:black;stroke-width:2\"/><image id=\"picture-dashboard-Alice in Wonderland-914853_output_1\" class=\"picture-dashboard-Alice in Wonderland-914853_output\" x=\"75.0\" y=\"85\" height=\"50\" width=\"200\" preserveAspectRatio=\"none\" image-rendering=\"optimizeSpeed\" xlink:href=\"data:image/gif;base64,R0lGODdhOAABAIcAAAQEBAAAAAAAAAAAAAAAAAAAAAAAAAAAAAAAAAAAAAAAAAAAAAAAAAAAAAAAAAAAAAAAAAAAAAAAAAAAAAAAAAAAAAAAAAAAAAAAAAAAAAAAAAAAAAAAAAAAAAAAAAAAAAAAAAAAAAAAAAAAAAAAAAAAAAAAAAAAAAAAAAAAAAAAAAAAAAAAAAAAAAAAAAAAAAAAAAAAAAAAAAAAAAAAAAAAAAAAAAAAAAAAAAAAAAAAAAAAAAAAAAAAAAAAAAAAAAAAAAAAAAAAAAAAAAAAAAAAAAAAAAAAAAAAAAAAAAAAAAAAAAAAAAAAAAAAAAAAAAAAAAAAAAAAAAAAAAAAAAAAAAAAAAAAAAAAAAAAAAAAAAAAAAAAAAAAAAAAAAAAAAAAAAAAAAAAAAAAAAAAAAAAAAAAAAAAAAAAAAAAAAAAAAAAAAAAAAAAAAAAAAAAAAAAAAAAAAAAAAAAAAAAAAAAAAAAAAAAAAAAAAAAAAAAAAAAAAAAAAAAAAAAAAAAAAAAAAAAAAAAAAAAAAAAAAAAAAAAAAAAAAAAAAAAAAAAAAAAAAAAAAAAAAAAAAAAAAAAAAAAAAAAAAAAAAAAAAAAAAAAAAAAAAAAAAAAAAAAAAAAAAAAAAAAAAAAAAAAAAAAAAAAAAAAAAAAAAAAAAAAAAAAAAAAAAAAAAAAAAAAAAAAAAAAAAAAAAAAAAAAAAAAAAAAAAAAAAAAAAAAAAAAAAAAAAAAAAAAAAAAAAAAAAAAAAAAAAAAAAAAAAAAAAAAAAAAAAAAAAAAAAAAAAAAAAAAAAAAAAAAAAAAAAAAAAAAAAAAAAAAAAAAAAAAAAAAAAAAAAAAAAAAAAAAAAAAAAAAAAAAAAAAAAAAAAAAAAAAAAAAAAAAAAAAAAAAAAAAAAAAAAAAAAAAAAAAAAAAAAAAAAAAAAAAAAAAAAAAAAAAAAAAAAAAAAAAAAAAAAAAAAAAAAAAAAAAAAAAAAAAAAAAAAAAAAAAAAAAAAAAAAAAAAAAAAAAAAAAAAAAACwAAAAAOAABAAAIDwABCBxIsKDBgwgTKgQQEAA7\"><title>Layer: output (output)\n output range: (0.0, 1.0)\n shape = (56,)\n Keras class = Dense\n activation = softmax</title></image><text x=\"280.0\" y=\"112.0\" font-family=\"monospace\" font-size=\"12\" text-anchor=\"start\" fill=\"black\" alignment-baseline=\"central\" >output</text><path d=\"M 175.0 164 L 175.0 137 \" stroke=\"black\" stroke-width=\"2\" marker-end=\"url(#arrow)\" fill=\"none\" /><rect x=\"74.0\" y=\"164\" width=\"202\" height=\"52\" style=\"fill:none;stroke:black;stroke-width:2\"/><image id=\"picture-dashboard-Alice in Wonderland-914853_rnn_2\" class=\"picture-dashboard-Alice in Wonderland-914853_rnn\" x=\"75.0\" y=\"165\" height=\"50\" width=\"200\" preserveAspectRatio=\"none\" image-rendering=\"optimizeSpeed\" xlink:href=\"data:image/gif;base64,R0lGODdhgAABAIcAAPPo8/z3+tbW//+5uf+oqP/Y2Li4/6Wl///IyJSU/8XF//+Hh/+VlX19/4iI/wAAAAAAAAAAAAAAAAAAAAAAAAAAAAAAAAAAAAAAAAAAAAAAAAAAAAAAAAAAAAAAAAAAAAAAAAAAAAAAAAAAAAAAAAAAAAAAAAAAAAAAAAAAAAAAAAAAAAAAAAAAAAAAAAAAAAAAAAAAAAAAAAAAAAAAAAAAAAAAAAAAAAAAAAAAAAAAAAAAAAAAAAAAAAAAAAAAAAAAAAAAAAAAAAAAAAAAAAAAAAAAAAAAAAAAAAAAAAAAAAAAAAAAAAAAAAAAAAAAAAAAAAAAAAAAAAAAAAAAAAAAAAAAAAAAAAAAAAAAAAAAAAAAAAAAAAAAAAAAAAAAAAAAAAAAAAAAAAAAAAAAAAAAAAAAAAAAAAAAAAAAAAAAAAAAAAAAAAAAAAAAAAAAAAAAAAAAAAAAAAAAAAAAAAAAAAAAAAAAAAAAAAAAAAAAAAAAAAAAAAAAAAAAAAAAAAAAAAAAAAAAAAAAAAAAAAAAAAAAAAAAAAAAAAAAAAAAAAAAAAAAAAAAAAAAAAAAAAAAAAAAAAAAAAAAAAAAAAAAAAAAAAAAAAAAAAAAAAAAAAAAAAAAAAAAAAAAAAAAAAAAAAAAAAAAAAAAAAAAAAAAAAAAAAAAAAAAAAAAAAAAAAAAAAAAAAAAAAAAAAAAAAAAAAAAAAAAAAAAAAAAAAAAAAAAAAAAAAAAAAAAAAAAAAAAAAAAAAAAAAAAAAAAAAAAAAAAAAAAAAAAAAAAAAAAAAAAAAAAAAAAAAAAAAAAAAAAAAAAAAAAAAAAAAAAAAAAAAAAAAAAAAAAAAAAAAAAAAAAAAAAAAAAAAAAAAAAAAAAAAAAAAAAAAAAAAAAAAAAAAAAAAAAAAAAAAAAAAAAAAAAAAAAAAAAAAAAAAAAAAAAAAAAAAAAAAAAAAAAAAAAAAAAAAAAAAAAAAAAAAAAAAAAAAAAAAAAAAAAAAAAAAAAAAAAAAAAAAAAAAAAACwAAAAAgAABAAAIkgAbAAhAgMGCAQYEDBgAIAAAAAUCEACA4ICDAQACAEAAgIACAgUWDGAwoAGAAQUMJChQIIEBAAcAFBAQQMAAAAIQJBBwwICAAQIQAAAQAEAAAgYUBAAwAIABAAEABDhgAACAAgAEOAAAoMAAAgAIEBgwIIAAAwQUBBDAFkACAAUUBAiAQMCBAAEEEAgAgEGABQEBADs=\"><title>Layer: rnn (hidden)\n output range: (-Infinity, +Infinity)\n Keras class = SimpleRNN\n return_sequences = False\n unroll = True</title></image><text x=\"280.0\" y=\"192.0\" font-family=\"monospace\" font-size=\"12\" text-anchor=\"start\" fill=\"black\" alignment-baseline=\"central\" >rnn</text><path d=\"M 175.0 244 L 175.0 217 \" stroke=\"black\" stroke-width=\"2\" marker-end=\"url(#arrow)\" fill=\"none\" /><rect x=\"74.0\" y=\"244\" width=\"202\" height=\"202\" style=\"fill:none;stroke:black;stroke-width:2\"/><image id=\"picture-dashboard-Alice in Wonderland-914853_input_3\" class=\"picture-dashboard-Alice in Wonderland-914853_input\" x=\"75.0\" y=\"245\" height=\"200\" width=\"200\" preserveAspectRatio=\"none\" image-rendering=\"optimizeSpeed\" xlink:href=\"data:image/gif;base64,R0lGODdhOAAKAIcAAAAAAP///wAAAAAAAAAAAAAAAAAAAAAAAAAAAAAAAAAAAAAAAAAAAAAAAAAAAAAAAAAAAAAAAAAAAAAAAAAAAAAAAAAAAAAAAAAAAAAAAAAAAAAAAAAAAAAAAAAAAAAAAAAAAAAAAAAAAAAAAAAAAAAAAAAAAAAAAAAAAAAAAAAAAAAAAAAAAAAAAAAAAAAAAAAAAAAAAAAAAAAAAAAAAAAAAAAAAAAAAAAAAAAAAAAAAAAAAAAAAAAAAAAAAAAAAAAAAAAAAAAAAAAAAAAAAAAAAAAAAAAAAAAAAAAAAAAAAAAAAAAAAAAAAAAAAAAAAAAAAAAAAAAAAAAAAAAAAAAAAAAAAAAAAAAAAAAAAAAAAAAAAAAAAAAAAAAAAAAAAAAAAAAAAAAAAAAAAAAAAAAAAAAAAAAAAAAAAAAAAAAAAAAAAAAAAAAAAAAAAAAAAAAAAAAAAAAAAAAAAAAAAAAAAAAAAAAAAAAAAAAAAAAAAAAAAAAAAAAAAAAAAAAAAAAAAAAAAAAAAAAAAAAAAAAAAAAAAAAAAAAAAAAAAAAAAAAAAAAAAAAAAAAAAAAAAAAAAAAAAAAAAAAAAAAAAAAAAAAAAAAAAAAAAAAAAAAAAAAAAAAAAAAAAAAAAAAAAAAAAAAAAAAAAAAAAAAAAAAAAAAAAAAAAAAAAAAAAAAAAAAAAAAAAAAAAAAAAAAAAAAAAAAAAAAAAAAAAAAAAAAAAAAAAAAAAAAAAAAAAAAAAAAAAAAAAAAAAAAAAAAAAAAAAAAAAAAAAAAAAAAAAAAAAAAAAAAAAAAAAAAAAAAAAAAAAAAAAAAAAAAAAAAAAAAAAAAAAAAAAAAAAAAAAAAAAAAAAAAAAAAAAAAAAAAAAAAAAAAAAAAAAAAAAAAAAAAAAAAAAAAAAAAAAAAAAAAAAAAAAAAAAAAAAAAAAAAAAAAAAAAAAAAAAAAAAAAAAAAAAAAAAAAAAAAAAAAAAAAAAAAAAAAAAAAAAAAAAAAAAAAAAAAAAAAAAAAAAAAAACwAAAAAOAAKAAAIhgABCBxIsKDAAAASKlzIsKHDhxAjSpzoMACAixgzatzIsaPHjQEAiBxJsqTJkyhTqiwZAIDLlzBjypxJs6bLAABy6tzJs6fPAACCCh1KtKjRo0iTKjUaAIDTp1CjSp1KtapVqgEAaN3KtavXr2DDih0bAIDZs2jTql3LFkAAAHDjyp1LF25AADs=\"><title>Layer: input (input)\n output range: (0.0, 1.0)\n shape = (10, 56)\n Keras class = Input</title></image><text x=\"280.0\" y=\"347.0\" font-family=\"monospace\" font-size=\"12\" text-anchor=\"start\" fill=\"black\" alignment-baseline=\"central\" >input</text><text x=\"175.0\" y=\"12.5\" font-family=\"monospace\" font-size=\"15\" text-anchor=\"middle\" fill=\"black\" alignment-baseline=\"central\" >Alice in Wonderland</text></svg></g></svg></p>"
      }
     },
     "96cedd7760ee4de68ed953209ca6f530": {
      "model_module": "@jupyter-widgets/controls",
      "model_module_version": "1.4.0",
      "model_name": "DescriptionStyleModel",
      "state": {
       "description_width": "initial"
      }
     },
     "96decd168e794cdb9bc6a4e1715b6a0c": {
      "model_module": "@jupyter-widgets/controls",
      "model_module_version": "1.4.0",
      "model_name": "HBoxModel",
      "state": {
       "children": [
        "IPY_MODEL_5f906dee83d34517badee33a71ef36e1",
        "IPY_MODEL_7209dd64414e4a19bffdd169061cbc76"
       ],
       "layout": "IPY_MODEL_92ffcf72a10e477086a4cc331e0627cd"
      }
     },
     "97bb2b5e26d44b3baf6a565a28b7437a": {
      "model_module": "@jupyter-widgets/controls",
      "model_module_version": "1.4.0",
      "model_name": "DescriptionStyleModel",
      "state": {
       "description_width": ""
      }
     },
     "97e3e0bd31bb413d89fb977802066fa4": {
      "model_module": "@jupyter-widgets/controls",
      "model_module_version": "1.4.0",
      "model_name": "ButtonStyleModel",
      "state": {}
     },
     "981dc169777d4633931a29980519fb58": {
      "model_module": "@jupyter-widgets/base",
      "model_module_version": "1.1.0",
      "model_name": "LayoutModel",
      "state": {}
     },
     "98a1562f17944bb0be7563abfad19843": {
      "model_module": "@jupyter-widgets/controls",
      "model_module_version": "1.4.0",
      "model_name": "DescriptionStyleModel",
      "state": {
       "description_width": ""
      }
     },
     "98df5cff99344e49ad6b2780dcc4c9f8": {
      "model_module": "@jupyter-widgets/controls",
      "model_module_version": "1.4.0",
      "model_name": "DescriptionStyleModel",
      "state": {
       "description_width": ""
      }
     },
     "98e35bae2c0046fe80395d4a60f6373b": {
      "model_module": "@jupyter-widgets/base",
      "model_module_version": "1.1.0",
      "model_name": "LayoutModel",
      "state": {}
     },
     "98f840232dae49f2b67f6adf2e3f629c": {
      "model_module": "@jupyter-widgets/base",
      "model_module_version": "1.1.0",
      "model_name": "LayoutModel",
      "state": {
       "width": "10%"
      }
     },
     "998dbf93523c44e59de6d4d51733fd3e": {
      "model_module": "@jupyter-widgets/controls",
      "model_module_version": "1.4.0",
      "model_name": "DescriptionStyleModel",
      "state": {
       "description_width": ""
      }
     },
     "9a5da0b71c22478791655b07377f0ec7": {
      "model_module": "@jupyter-widgets/controls",
      "model_module_version": "1.4.0",
      "model_name": "HBoxModel",
      "state": {
       "children": [
        "IPY_MODEL_3f6d99f203c049ffb54acdce8d690272",
        "IPY_MODEL_a563ca3f8b154836b4fd4849007bf4d0",
        "IPY_MODEL_33d7f7e22699466e94f34920c5af7265",
        "IPY_MODEL_cbb287ddee914e99a6493f99d5962451",
        "IPY_MODEL_f15dd5679b3b4cb6b9114a7f435a688a",
        "IPY_MODEL_4130260878034a52a83a42dd877b05a8",
        "IPY_MODEL_fc72db617dc046bcb80c684e9b6e7eb6"
       ],
       "layout": "IPY_MODEL_dd6f5a45284f4df6afc442eea60a4e9a"
      }
     },
     "9a614e11c7644cc5ab8effc4b57ef49f": {
      "model_module": "@jupyter-widgets/controls",
      "model_module_version": "1.4.0",
      "model_name": "ButtonModel",
      "state": {
       "icon": "refresh",
       "layout": "IPY_MODEL_8d27e125d3c249b3ad48de3a840538ea",
       "style": "IPY_MODEL_e6abddeee4e54f2584d4b6769b74762c"
      }
     },
     "9b18d5110d7c487f96ce76aa0325ea83": {
      "model_module": "@jupyter-widgets/controls",
      "model_module_version": "1.4.0",
      "model_name": "AccordionModel",
      "state": {
       "_titles": {
        "0": "Alice in Wonderland"
       },
       "children": [
        "IPY_MODEL_655a9c14757544b78247415cf52cea6e"
       ],
       "layout": "IPY_MODEL_7eb7e0fad7354531a409c3fc876cbb34",
       "selected_index": null
      }
     },
     "9b20c25ac43c483f85d61da6d8e7fb31": {
      "model_module": "@jupyter-widgets/controls",
      "model_module_version": "1.4.0",
      "model_name": "DescriptionStyleModel",
      "state": {
       "description_width": ""
      }
     },
     "9bbc2c2e49a7468a9a93040af0cf048e": {
      "model_module": "@jupyter-widgets/controls",
      "model_module_version": "1.4.0",
      "model_name": "FloatTextModel",
      "state": {
       "description": "Leftmost color maps to:",
       "layout": "IPY_MODEL_4508134ea132444bbabe9fb22f782664",
       "step": null,
       "style": "IPY_MODEL_23f00db75c454f1aa52e4b7eee0ef3aa"
      }
     },
     "9c11040a677b402abefb947f3a387c32": {
      "model_module": "@jupyter-widgets/controls",
      "model_module_version": "1.4.0",
      "model_name": "CheckboxModel",
      "state": {
       "description": "Show Targets",
       "disabled": false,
       "layout": "IPY_MODEL_d8fc4449794c4650a49d355094a35f34",
       "style": "IPY_MODEL_64779a5361eb40eca86656e81e63367f",
       "value": true
      }
     },
     "9c26934d178a4c69a168a7102448a790": {
      "model_module": "@jupyter-widgets/controls",
      "model_module_version": "1.4.0",
      "model_name": "VBoxModel",
      "state": {
       "children": [
        "IPY_MODEL_46c1e3438082481fa96858acb76c961e",
        "IPY_MODEL_d6072a6dcc094f3fab229928fbf35e03",
        "IPY_MODEL_6ed4a95a929e430f8f1fa950ce769a99",
        "IPY_MODEL_8fde46292da449979cac2bed9bf403d5",
        "IPY_MODEL_ee2f88315a1f443497549f89a1eb47f0",
        "IPY_MODEL_d24ab5d18a674f31bb779e4956ec83f6",
        "IPY_MODEL_f5ce2ce368004fa4a991c036f3de8fee",
        "IPY_MODEL_2e96aa6d6aec40baad588c2e3b4e4ce6"
       ],
       "layout": "IPY_MODEL_46111670ab0d441bbd0e55f846f411db"
      }
     },
     "9c9a8d7e15d44221a1b51c049358a932": {
      "model_module": "@jupyter-widgets/controls",
      "model_module_version": "1.4.0",
      "model_name": "ButtonStyleModel",
      "state": {}
     },
     "9e0c0069d9594f7cbdd4ad14ef1f895e": {
      "model_module": "@jupyter-widgets/controls",
      "model_module_version": "1.4.0",
      "model_name": "SelectModel",
      "state": {
       "_options_labels": [
        ""
       ],
       "description": "Features:",
       "index": 0,
       "layout": "IPY_MODEL_522d934223da420d843c45b985605cf0",
       "rows": 1,
       "style": "IPY_MODEL_f78d3699ea9d4a98b1de7c11dfcce107"
      }
     },
     "9e1e977d2fda4d14953ce5d45a394208": {
      "model_module": "@jupyter-widgets/controls",
      "model_module_version": "1.4.0",
      "model_name": "HBoxModel",
      "state": {
       "children": [
        "IPY_MODEL_fbfece232d6d4645b7782e51d6ee0f3a",
        "IPY_MODEL_f0c1e8d332f94d4483b0239456df06d3"
       ],
       "layout": "IPY_MODEL_ec2db4ddc1674fc99ab03c8efb6f6c5d"
      }
     },
     "9f4dc4f012bc45cca1914578888bd5d1": {
      "model_module": "@jupyter-widgets/controls",
      "model_module_version": "1.4.0",
      "model_name": "DescriptionStyleModel",
      "state": {
       "description_width": "initial"
      }
     },
     "9f6445fd0b2e4be8a76056bc204bd879": {
      "model_module": "@jupyter-widgets/controls",
      "model_module_version": "1.4.0",
      "model_name": "FloatTextModel",
      "state": {
       "description": "Feature scale:",
       "layout": "IPY_MODEL_94668f9856a748268170c556f1806ba0",
       "step": null,
       "style": "IPY_MODEL_05168149f5cc4277a8e9bcfb7ad98e6a",
       "value": 1
      }
     },
     "a013a02c5dee46f082f3c9192772f7c3": {
      "model_module": "@jupyter-widgets/controls",
      "model_module_version": "1.4.0",
      "model_name": "ButtonModel",
      "state": {
       "icon": "fast-forward",
       "layout": "IPY_MODEL_43393c64d293482183930962c29ee56b",
       "style": "IPY_MODEL_e225b04f82614dfaacbbb2f03c0683f6"
      }
     },
     "a032018c51cb48f7bef728b707c10085": {
      "model_module": "@jupyter-widgets/controls",
      "model_module_version": "1.4.0",
      "model_name": "IntTextModel",
      "state": {
       "description": "Horizontal space between banks:",
       "layout": "IPY_MODEL_b8bb692474f2405d995d4f83ecffe9f8",
       "step": 1,
       "style": "IPY_MODEL_282a4adc56a84dab92e4f7f54dc4a8bf",
       "value": 150
      }
     },
     "a08c7f2081aa4bb281cde43b1ca6995c": {
      "model_module": "@jupyter-widgets/controls",
      "model_module_version": "1.4.0",
      "model_name": "SliderStyleModel",
      "state": {
       "description_width": ""
      }
     },
     "a14be2e2818240cd89a431e1a1c855d6": {
      "model_module": "@jupyter-widgets/controls",
      "model_module_version": "1.4.0",
      "model_name": "IntTextModel",
      "state": {
       "description": "Horizontal space between banks:",
       "layout": "IPY_MODEL_e139e1e900c4499f96e6f598e0f88837",
       "step": 1,
       "style": "IPY_MODEL_a817c706024949d6a982ce063f6f8b83",
       "value": 150
      }
     },
     "a18ac66960eb4a21bd0b8f47f7576c52": {
      "model_module": "@jupyter-widgets/base",
      "model_module_version": "1.1.0",
      "model_name": "LayoutModel",
      "state": {}
     },
     "a1b1b54c134a4d118dcd622d4bd257f4": {
      "model_module": "@jupyter-widgets/controls",
      "model_module_version": "1.4.0",
      "model_name": "VBoxModel",
      "state": {
       "children": [
        "IPY_MODEL_65fffb02d95a494a914d0faa64732b37",
        "IPY_MODEL_c3931eb243e84cd0aa71737cd6a69f1c",
        "IPY_MODEL_dcf03e7959084bd8b37f84eba97c218d",
        "IPY_MODEL_b3945c3bb9c84d7a894bc18de8c100a3",
        "IPY_MODEL_47fa957c6b7145e6b8fee082a93f2c5d",
        "IPY_MODEL_5f27042070874bf4911db26cfa615d5a",
        "IPY_MODEL_cb3af1d129e24354b47887fdb77d64fa",
        "IPY_MODEL_8c3437303cc24652ac5e7fcaf964f1e0"
       ],
       "layout": "IPY_MODEL_c7fa76721ff54168bc033d57dfc55285"
      }
     },
     "a284b6cef18e49e5883960a798c3d7d7": {
      "model_module": "@jupyter-widgets/controls",
      "model_module_version": "1.4.0",
      "model_name": "HBoxModel",
      "state": {
       "children": [
        "IPY_MODEL_3c11c64a8e48473390c8cdd79816434b",
        "IPY_MODEL_beea630455f44ac0af536bd9af7e7cb9",
        "IPY_MODEL_7dae603cb32e4908a90c3d4bdfaf2c16",
        "IPY_MODEL_2fd31f6bf292402284adc04ca54a7cc1",
        "IPY_MODEL_5c9bb4017ead4df28c7a928becf6ec54",
        "IPY_MODEL_2244bf5369d24f20b68883a4fb494fb7",
        "IPY_MODEL_ad7eba8b7bfd4bb68f71f316b7c3a2f7"
       ],
       "layout": "IPY_MODEL_ce838144d7584750acbb11d77e5dbcfe"
      }
     },
     "a2963bdf0e7e4d81b70c0910f58e784e": {
      "model_module": "@jupyter-widgets/controls",
      "model_module_version": "1.4.0",
      "model_name": "VBoxModel",
      "state": {
       "children": [
        "IPY_MODEL_066a74078c374b7aa4255b9c7164cc95",
        "IPY_MODEL_cc46c5cf784647a28fb1e980f84d2d66",
        "IPY_MODEL_73f8376e58cf4b56a3ad883830bdbc98",
        "IPY_MODEL_2ae3872c46d44e9ea1a38cfc7640da64",
        "IPY_MODEL_f301b9bf7bfa4ce5a27bf728b31989e4",
        "IPY_MODEL_733d05f4209d42a3893dc290728e071b",
        "IPY_MODEL_44a7e310dcab4a16a2c3c2d3d81e15c9",
        "IPY_MODEL_c75647831915498abf3b58ce3b7ce68c"
       ],
       "layout": "IPY_MODEL_e6ae91ece20b4fc0b922aa0527563cb3"
      }
     },
     "a2ae0018f36b4514b5d942ebdd51cfee": {
      "model_module": "@jupyter-widgets/controls",
      "model_module_version": "1.4.0",
      "model_name": "HTMLModel",
      "state": {
       "layout": "IPY_MODEL_ea1628ee06c540bfb94aece81a189dae",
       "style": "IPY_MODEL_82e67ab85de94aeda40a80671e6dc1a9",
       "value": "<img src=\"data:image/gif;base64,R0lGODdhLAEZAIcAAAcHB6enpycnJzc3N0dHR2dnZ3d3d5eXl8fHx9fX1+fn5xcXF1dXV4eHh7e3t/b29gAAAAAAAAAAAAAAAAAAAAAAAAAAAAAAAAAAAAAAAAAAAAAAAAAAAAAAAAAAAAAAAAAAAAAAAAAAAAAAAAAAAAAAAAAAAAAAAAAAAAAAAAAAAAAAAAAAAAAAAAAAAAAAAAAAAAAAAAAAAAAAAAAAAAAAAAAAAAAAAAAAAAAAAAAAAAAAAAAAAAAAAAAAAAAAAAAAAAAAAAAAAAAAAAAAAAAAAAAAAAAAAAAAAAAAAAAAAAAAAAAAAAAAAAAAAAAAAAAAAAAAAAAAAAAAAAAAAAAAAAAAAAAAAAAAAAAAAAAAAAAAAAAAAAAAAAAAAAAAAAAAAAAAAAAAAAAAAAAAAAAAAAAAAAAAAAAAAAAAAAAAAAAAAAAAAAAAAAAAAAAAAAAAAAAAAAAAAAAAAAAAAAAAAAAAAAAAAAAAAAAAAAAAAAAAAAAAAAAAAAAAAAAAAAAAAAAAAAAAAAAAAAAAAAAAAAAAAAAAAAAAAAAAAAAAAAAAAAAAAAAAAAAAAAAAAAAAAAAAAAAAAAAAAAAAAAAAAAAAAAAAAAAAAAAAAAAAAAAAAAAAAAAAAAAAAAAAAAAAAAAAAAAAAAAAAAAAAAAAAAAAAAAAAAAAAAAAAAAAAAAAAAAAAAAAAAAAAAAAAAAAAAAAAAAAAAAAAAAAAAAAAAAAAAAAAAAAAAAAAAAAAAAAAAAAAAAAAAAAAAAAAAAAAAAAAAAAAAAAAAAAAAAAAAAAAAAAAAAAAAAAAAAAAAAAAAAAAAAAAAAAAAAAAAAAAAAAAAAAAAAAAAAAAAAAAAAAAAAAAAAAAAAAAAAAAAAAAAAAAAAAAAAAAAAAAAAAAAAAAAAAAAAAAAAAAAAAAAAAAAAAAAAAAAAAAAAAAAAAAAAAAAAAAAAAAAAAAAAAAAAAAAAAAAAAAAAAAAAAAAAAAAAAAAAAAAAAAAAAAAAAAAAAAAAAAAAAAAAAACwAAAAALAEZAEAI/wABCBxIsGDBBQgTKlyYUIDDhxAjQhxAsaLFixYJaNzIsSNHBiBDihwZsoDJkyhTojTAsqXLly4byJxJs+bMAzhz6typM4DPn0CDBnVAtKjRo0URKF3KtCnTBFCjSp0qVYHVq1izYn3AtavXr1wBiB1LtmzZBWjTql2bVoDbt3Djwh1At67du3YJ6N3Lty9fBoADCx4cuIDhw4gTIzbAuLHjx44bSJ5MufLkA5gza96sOYDnz6BDh3ZAurTp06URqF7NujXrBLBjy54tW4Ht27hz437Au7fv37wBCB9OvHjxBciTK1+eXIDz59CjQx9Avbr169YJaN/OvTt3BuDDi/8fH76A+fPo06M3wL69+/fuG8ifT7/+/AP48+vfrz+Af4ABBA4kWFCgA4QJFS5MiMDhQ4gRISagWNHiRYsKNG7k2JHjA5AhRY4ECcDkSZQpUy5g2dLly5YCZM6kWZPmAJw5de7UScDnT6BBgTIgWtTo0aIFlC5l2pSpAahRpU6V2sDqVaxZrx7g2tXrV68BxI4lW7asA7Rp1a5Ni8DtW7hx4SagW9fuXbsK9O7l25fvA8CBBQ8GDMDwYcSJEy9g3Njx48YCJE+mXJnyAMyZNW/WTMDzZ9ChQTMgXdr06dIFVK9m3Zq1AdixZc+W3cD2bdy5bx/g3dv3b98BhA8nXrz/uAPkyZUvT47A+XPo0aEnoF7d+nXrCrRv596d+wPw4cWPBw/A/Hn06dMvYN/e/fv2AuTPp1+f/gD8+fXv10/AP0ACAgcSLEiAAcKEChcmLODwIcSIEA1QrGjxosUGGjdy7LjxAMiQIkeKDGDyJMqUKR2wbOnyZUsEMmfSrEkzAc6cOnfqVODzJ9CgQB8QLWr0KFEASpcybdp0AdSoUqdGFWD1KtasWAdw7er1q1cCYseSLUuWAdq0atemLeD2Ldy4cA3QrWv3rt0Gevfy7bv3AODAggcLDmD4MOLEiR0wbuz4cWMEkidTrkw5AebMmjdrVuD5M+jQoB+QLm36NGkA/6pXs27degHs2LJnxxZg+zbu3LgH8O7t+7dvAsKHEy9OnAHy5MqXJy/g/Dn06NANUK9u/br1Btq3c+++/QD48OLHiw9g/jz69OkdsG/v/n17BPLn069PPwH+/Pr361fgH6ACgQMJFlTwAGFChQsRAnD4EGLEiAsoVrR4saIAjRs5duQ4AGRIkSNFEjB5EmVKlAxYtnT5smUBmTNp1qRpAGdOnTt1NvD5E2jQnweIFjV61GgApUuZNm3qAGpUqVOjIrB6FWtWrAm4dvX61asCsWPJliX7AG1atWvRAnD7Fm7cuAvo1rV7t64AvXv59uU7AHBgwYMFEzB8GHFixAwYN/92/LhxAcmTKVembABzZs2bNTfw/Bl06M8HSJc2fdp0ANWrWbdu7QB2bNmzYyOwfRt3btwJePf2/du3AuHDiRcn/gB5cuXLkQNw/hx69OgLqFe3fr26AO3buXfnPgB8ePHjxRMwfx59evQM2Ld3/759Afnz6denbwB/fv379TfwD7CBwIEECx44iDChwoQBGjp8CBGig4kUK1qkiCCjxo0cNyb4CDKkyJAKSpo8ifLkg5UsW7pcCSCmzJk0aS64iTOnTpwCevr8CfTngKFEixotSiCp0qVMlzJ4CjWqVKgFqlq9ivWqga1cu3rt2iCs2LFkxR44izat2rQB2rp9Cxf/roO5dOvapYsgr969fPcm+As4sODACgobPoz48IPFjBs7XgwgsuTJlCkvuIw5s2bMAjp7/gz684DRpEubLk0gterVrFczeA07tmzYBWrbvo37toHdvHv77t0guPDhxIUfOI48ufLkAZo7fw4duoPp1Ktbp44gu/bt3Lcn+A4+vPjwCsqbP4/+/IP17Nu7Xw8gvvz59OkvuI8/v378Avr7ByhA4ECCAwccRJhQYUICDR0+hPiQwUSKFS1SLJBR40aOGw18BBlSZMgGJU2eRGnywEqWLV22DBBT5kyaNB3cxJlTJ04EPX3+BPozwVCiRY0WVZBU6VKmSx88hRpV6lMA/1WtXsWKdcFWrl29chUQVuxYsmMHnEWbVm1aAm3dvoX7lsFcunXt0i2QV+9evnsN/AUcWHDgBoUNH0Zs+MBixo0dNw4QWfJkypQdXMacWTNmBJ09fwb9OcFo0qVNl1aQWvVq1qsfvIYdW/ZrALVt38aNe8Fu3r198xYQXPhw4sMHHEeeXHlyAs2dP4f+nMF06tWtUy+QXft27tsNfAcfXnz4BuXNn0dv/sB69u3dtw8QX/58+vQd3MefXz9+BP39A0QgcCDBgQkOIkyoMKGChg4fQnz4YCLFihYnAsiocSNHjgs+ggwpEqSAkiZPojw5YCXLli5bEogpcybNmQxu4v/MqRNngZ4+fwL9aWAo0aJGizZIqnQpU6UHnkKNKjVqgKpWr2LF6mAr165euSIIK3Ys2bEJzqJNqzatgrZu38J9+2Au3bp25wLIq3cvX74L/gIOLBiwgMKGDyM+PGAx48aOGxOILHky5ckMLmPOrBlzgc6eP4P+bGA06dKmSzdIrXo1a9UHXsOOLTt2gNq2b+PG7WA3796+eSMILnw48eEJjiNPrjy5gubOn0N//mA69erWpwPIrn07d+4LvoMPLx68gPLmz6M/P2A9+/bu2xOIL38+/fkM7uPPrx9/gf7+ARYQOJDgQAMHESZUmLBBQ4cPITo8MJFiRYsVA2TUuJH/I0cHH0GGFAkSQUmTJ1GeTLCSZUuXLRXElDmT5swHN3Hm1HkTQE+fP4ECXTCUaFGjRAUkVbqU6dIBT6FGlRqVQFWrV7FeZbCVa1evXAuEFTuW7FgDZ9GmVZu2QVu3b+G6PTCXbl27dQPk1buXL18HfwEHFgwYQWHDhxEfTrCYcWPHjRVEljyZ8uQHlzFn1nwZQGfPn0GDXjCadGnTpAWkVr2a9eoBr2HHlh2bQG3bt3HfZrCbd2/fvAsEFz6c+HADx5EnV568QXPnz6E7PzCdenXr1QNk176dO3cH38GHFw8eQXnz59GfT7CefXv37RXElz+f/vwH9/Hn138fQH///wABCBxIkOCCgwgTKkQooKHDhxAfDphIsaLFigQyatzIcSODjyBDigRZoKTJkyhPGljJsqXLlg1iypxJU+aBmzhz6swZoKfPn0CBOhhKtKhRogiSKl3KdGmCp1CjSo2qoKrVq1ivPtjKtavXrQDCih1LluyCs2jTqkUroK3bt3DfDphLt67dugTy6t3Ldy+Dv4ADCwZcoLDhw4gPG1jMuLHjxg0iS55MWfKBy5gza84coLPnz6BBOxhNurRp0ghSq17NenWC17Bjy46toLbt27hvP9jNu7fv3QCCCx9OnPiC48iTK0cuoLnz59CfD5hOvbr16gSya9/OfTuD7+DDi7YHX6C8+fPozxtYz769+/YN4sufT1/+gfv48+vPH6C/f4ABBA4kSNDBQYQJFSJE0NDhQ4gPE0ykWNFiRQUZNW7kuPHBR5AhRX4EUNLkSZQoF6xk2dIlSwExZc6kOXPATZw5deYk0NPnT6A/GQwlWtQo0QJJlS5lutTAU6hRpUZtUNXqVaxWD2zl2tVr1wBhxY4lS9bBWbRp1aJF0NbtW7hvE8ylW9duXQV59e7lu/fBX8CBBf8NCAA7\"/>"
      }
     },
     "a2c565b919f4428bb61ba5415d33f57e": {
      "model_module": "@jupyter-widgets/controls",
      "model_module_version": "1.4.0",
      "model_name": "DescriptionStyleModel",
      "state": {
       "description_width": "initial"
      }
     },
     "a341f7e9476f44758d6a2c5532d3529f": {
      "model_module": "@jupyter-widgets/base",
      "model_module_version": "1.1.0",
      "model_name": "LayoutModel",
      "state": {}
     },
     "a359d3ba571c423e911721075d7cee8d": {
      "model_module": "@jupyter-widgets/base",
      "model_module_version": "1.1.0",
      "model_name": "LayoutModel",
      "state": {}
     },
     "a35b217c338745febc658c203ec5d390": {
      "model_module": "@jupyter-widgets/controls",
      "model_module_version": "1.4.0",
      "model_name": "DescriptionStyleModel",
      "state": {
       "description_width": "initial"
      }
     },
     "a3a778f25aff451483ab7d81c09a9317": {
      "model_module": "@jupyter-widgets/controls",
      "model_module_version": "1.4.0",
      "model_name": "IntSliderModel",
      "state": {
       "continuous_update": false,
       "description": "Dataset index",
       "layout": "IPY_MODEL_0d1cc18a5f9743349110d0948a503a16",
       "max": 158772,
       "style": "IPY_MODEL_85d8e4e00aef48cd87d6dcb811690461",
       "value": 8
      }
     },
     "a3ea88713ab347949a1aea149b158757": {
      "model_module": "@jupyter-widgets/controls",
      "model_module_version": "1.4.0",
      "model_name": "ButtonStyleModel",
      "state": {}
     },
     "a415854368114318bbbb5b8e64ec0a47": {
      "model_module": "@jupyter-widgets/controls",
      "model_module_version": "1.4.0",
      "model_name": "ButtonStyleModel",
      "state": {}
     },
     "a563ca3f8b154836b4fd4849007bf4d0": {
      "model_module": "@jupyter-widgets/controls",
      "model_module_version": "1.4.0",
      "model_name": "ButtonModel",
      "state": {
       "icon": "backward",
       "layout": "IPY_MODEL_aa4dd8d0d6aa4a04954881dce5099cdb",
       "style": "IPY_MODEL_06982900807d4d5888d973f388130fa9"
      }
     },
     "a5bb6102292a4c91a6d4d6130ac001dc": {
      "model_module": "@jupyter-widgets/base",
      "model_module_version": "1.1.0",
      "model_name": "LayoutModel",
      "state": {
       "height": "50px",
       "width": "100%"
      }
     },
     "a5d094adb10b4cca88e8bc2b3cabe8f9": {
      "model_module": "@jupyter-widgets/base",
      "model_module_version": "1.1.0",
      "model_name": "LayoutModel",
      "state": {}
     },
     "a67599adf66d4159a0c60e659efd593c": {
      "model_module": "@jupyter-widgets/base",
      "model_module_version": "1.1.0",
      "model_name": "LayoutModel",
      "state": {
       "width": "100%"
      }
     },
     "a6b2ea90f14647cebdde549898a2de7b": {
      "model_module": "@jupyter-widgets/controls",
      "model_module_version": "1.4.0",
      "model_name": "DescriptionStyleModel",
      "state": {
       "description_width": "initial"
      }
     },
     "a6ed2df8c1f94c13b1c0f2522c98aecc": {
      "model_module": "@jupyter-widgets/controls",
      "model_module_version": "1.4.0",
      "model_name": "DescriptionStyleModel",
      "state": {
       "description_width": ""
      }
     },
     "a74ebe859d48474e9aa36e985952a6e4": {
      "model_module": "@jupyter-widgets/controls",
      "model_module_version": "1.4.0",
      "model_name": "CheckboxModel",
      "state": {
       "description": "Rotate network",
       "disabled": false,
       "layout": "IPY_MODEL_9050356d2cc741fbb7b64c8a9d6d774c",
       "style": "IPY_MODEL_a6b2ea90f14647cebdde549898a2de7b",
       "value": false
      }
     },
     "a817c706024949d6a982ce063f6f8b83": {
      "model_module": "@jupyter-widgets/controls",
      "model_module_version": "1.4.0",
      "model_name": "DescriptionStyleModel",
      "state": {
       "description_width": "initial"
      }
     },
     "a86a9169c1cc4c21a9dbbd2d6c6bad7c": {
      "model_module": "@jupyter-widgets/controls",
      "model_module_version": "1.4.0",
      "model_name": "ButtonModel",
      "state": {
       "icon": "refresh",
       "layout": "IPY_MODEL_4d56ce8fb4df497b91687b0534ef5186",
       "style": "IPY_MODEL_49419de0b5084e5aabefd93334c2d10f"
      }
     },
     "a97eff5426534e6eb4c12df503adb6e7": {
      "model_module": "@jupyter-widgets/controls",
      "model_module_version": "1.4.0",
      "model_name": "DescriptionStyleModel",
      "state": {
       "description_width": ""
      }
     },
     "a98a1b2350d94dbaa48121eb50366b2c": {
      "model_module": "@jupyter-widgets/controls",
      "model_module_version": "1.4.0",
      "model_name": "ButtonModel",
      "state": {
       "icon": "forward",
       "layout": "IPY_MODEL_eae4d96b89a1432f90ba3e9c4dfccd71",
       "style": "IPY_MODEL_50a3589548514042a5169dbeff979849"
      }
     },
     "a9c66693d34e4a329728397b4a305135": {
      "model_module": "@jupyter-widgets/controls",
      "model_module_version": "1.4.0",
      "model_name": "IntTextModel",
      "state": {
       "description": "Feature to show:",
       "layout": "IPY_MODEL_61371a3ebb9541058e142a7bdbbd63cb",
       "step": 1,
       "style": "IPY_MODEL_3dbd7321ce784733b9973061119b9586"
      }
     },
     "aa1aae592763491c8c24cf8c79dda9e4": {
      "model_module": "@jupyter-widgets/controls",
      "model_module_version": "1.4.0",
      "model_name": "CheckboxModel",
      "state": {
       "description": "Rotate",
       "disabled": false,
       "layout": "IPY_MODEL_230163d5fc0b4bd9815d530afff80cc8",
       "style": "IPY_MODEL_15cb419e4fb343249c0d5a44cc61d534",
       "value": true
      }
     },
     "aa4dd8d0d6aa4a04954881dce5099cdb": {
      "model_module": "@jupyter-widgets/base",
      "model_module_version": "1.1.0",
      "model_name": "LayoutModel",
      "state": {
       "width": "100%"
      }
     },
     "aa80a1c0273241c6b56dad226c3f85d2": {
      "model_module": "@jupyter-widgets/controls",
      "model_module_version": "1.4.0",
      "model_name": "DescriptionStyleModel",
      "state": {
       "description_width": "initial"
      }
     },
     "ab1c7039ec3049e7836b7bdb710a0fed": {
      "model_module": "@jupyter-widgets/base",
      "model_module_version": "1.1.0",
      "model_name": "LayoutModel",
      "state": {
       "width": "100%"
      }
     },
     "abac444de9a6405d9949ffd24e38713a": {
      "model_module": "@jupyter-widgets/base",
      "model_module_version": "1.1.0",
      "model_name": "LayoutModel",
      "state": {}
     },
     "ac9db9ffb6a14d349634b97afc3e0276": {
      "model_module": "@jupyter-widgets/controls",
      "model_module_version": "1.4.0",
      "model_name": "HTMLModel",
      "state": {
       "layout": "IPY_MODEL_e4af68a85ded47a5bc0dff035be34d9a",
       "style": "IPY_MODEL_379151c024e14ce4b06079a34172e0c3",
       "value": "<p style=\"text-align:center\"><svg id='Alice in Wonderland' xmlns='http://www.w3.org/2000/svg' image-rendering=\"pixelated\" width=\"297.87234042553195px\" height=\"400.0px\">\n <g >\n  <svg viewBox=\"0 0 350 470\" width=\"297.87234042553195px\" height=\"400.0px\">\n    <defs>\n        <marker id=\"arrow\" markerWidth=\"10\" markerHeight=\"10\" refX=\"9\" refY=\"3\" orient=\"auto\" markerUnits=\"strokeWidth\">\n          <path d=\"M0,0 L0,6 L9,3 z\" fill=\"black\" />\n        </marker>\n    </defs><rect x=\"74.0\" y=\"24\" width=\"202\" height=\"52\" style=\"fill:none;stroke:black;stroke-width:2\"/><image id=\"picture-dashboard-Alice in Wonderland-678055_output_targets_7\" class=\"picture-dashboard-Alice in Wonderland-678055_output_targets\" x=\"75.0\" y=\"25\" height=\"50\" width=\"200\" preserveAspectRatio=\"none\" href=\"data:image/gif;base64,R0lGODdhOAABAIcAAAAAABkZGbW1tQAAAAAAAAAAAAAAAAAAAAAAAAAAAAAAAAAAAAAAAAAAAAAAAAAAAAAAAAAAAAAAAAAAAAAAAAAAAAAAAAAAAAAAAAAAAAAAAAAAAAAAAAAAAAAAAAAAAAAAAAAAAAAAAAAAAAAAAAAAAAAAAAAAAAAAAAAAAAAAAAAAAAAAAAAAAAAAAAAAAAAAAAAAAAAAAAAAAAAAAAAAAAAAAAAAAAAAAAAAAAAAAAAAAAAAAAAAAAAAAAAAAAAAAAAAAAAAAAAAAAAAAAAAAAAAAAAAAAAAAAAAAAAAAAAAAAAAAAAAAAAAAAAAAAAAAAAAAAAAAAAAAAAAAAAAAAAAAAAAAAAAAAAAAAAAAAAAAAAAAAAAAAAAAAAAAAAAAAAAAAAAAAAAAAAAAAAAAAAAAAAAAAAAAAAAAAAAAAAAAAAAAAAAAAAAAAAAAAAAAAAAAAAAAAAAAAAAAAAAAAAAAAAAAAAAAAAAAAAAAAAAAAAAAAAAAAAAAAAAAAAAAAAAAAAAAAAAAAAAAAAAAAAAAAAAAAAAAAAAAAAAAAAAAAAAAAAAAAAAAAAAAAAAAAAAAAAAAAAAAAAAAAAAAAAAAAAAAAAAAAAAAAAAAAAAAAAAAAAAAAAAAAAAAAAAAAAAAAAAAAAAAAAAAAAAAAAAAAAAAAAAAAAAAAAAAAAAAAAAAAAAAAAAAAAAAAAAAAAAAAAAAAAAAAAAAAAAAAAAAAAAAAAAAAAAAAAAAAAAAAAAAAAAAAAAAAAAAAAAAAAAAAAAAAAAAAAAAAAAAAAAAAAAAAAAAAAAAAAAAAAAAAAAAAAAAAAAAAAAAAAAAAAAAAAAAAAAAAAAAAAAAAAAAAAAAAAAAAAAAAAAAAAAAAAAAAAAAAAAAAAAAAAAAAAAAAAAAAAAAAAAAAAAAAAAAAAAAAAAAAAAAAAAAAAAAAAAAAAAAAAAAAAAAAAAAAAAAAAAAAAAAAAAAAAAAAAAAAAAAAAAAAAAAAAAAAAAAAAAAAAAAAAAAAAAACwAAAAAOAABAAAIFgABCBxIsKAAAAgTKlzIsKFDhAEABAQAOw==\"><title>Layer: output (output)\n output range: (0.0, 1.0)\n shape = (56,)\n Keras class = Dense\n activation = softmax</title></image><text x=\"280.0\" y=\"52.0\" font-family=\"monospace\" font-size=\"12\" text-anchor=\"start\" fill=\"black\" alignment-baseline=\"central\" >targets</text><line x1=\"87.5\" y1=\"80\" x2=\"262.5\" y2=\"80\" stroke=\"green\" stroke-width=\"2\"><title></title></line><rect x=\"74.0\" y=\"84\" width=\"202\" height=\"52\" style=\"fill:none;stroke:black;stroke-width:2\"/><image id=\"picture-dashboard-Alice in Wonderland-678055_output_7\" class=\"picture-dashboard-Alice in Wonderland-678055_output\" x=\"75.0\" y=\"85\" height=\"50\" width=\"200\" preserveAspectRatio=\"none\" href=\"data:image/gif;base64,R0lGODdhOAABAIcAAAAAABkZGbW1tQAAAAAAAAAAAAAAAAAAAAAAAAAAAAAAAAAAAAAAAAAAAAAAAAAAAAAAAAAAAAAAAAAAAAAAAAAAAAAAAAAAAAAAAAAAAAAAAAAAAAAAAAAAAAAAAAAAAAAAAAAAAAAAAAAAAAAAAAAAAAAAAAAAAAAAAAAAAAAAAAAAAAAAAAAAAAAAAAAAAAAAAAAAAAAAAAAAAAAAAAAAAAAAAAAAAAAAAAAAAAAAAAAAAAAAAAAAAAAAAAAAAAAAAAAAAAAAAAAAAAAAAAAAAAAAAAAAAAAAAAAAAAAAAAAAAAAAAAAAAAAAAAAAAAAAAAAAAAAAAAAAAAAAAAAAAAAAAAAAAAAAAAAAAAAAAAAAAAAAAAAAAAAAAAAAAAAAAAAAAAAAAAAAAAAAAAAAAAAAAAAAAAAAAAAAAAAAAAAAAAAAAAAAAAAAAAAAAAAAAAAAAAAAAAAAAAAAAAAAAAAAAAAAAAAAAAAAAAAAAAAAAAAAAAAAAAAAAAAAAAAAAAAAAAAAAAAAAAAAAAAAAAAAAAAAAAAAAAAAAAAAAAAAAAAAAAAAAAAAAAAAAAAAAAAAAAAAAAAAAAAAAAAAAAAAAAAAAAAAAAAAAAAAAAAAAAAAAAAAAAAAAAAAAAAAAAAAAAAAAAAAAAAAAAAAAAAAAAAAAAAAAAAAAAAAAAAAAAAAAAAAAAAAAAAAAAAAAAAAAAAAAAAAAAAAAAAAAAAAAAAAAAAAAAAAAAAAAAAAAAAAAAAAAAAAAAAAAAAAAAAAAAAAAAAAAAAAAAAAAAAAAAAAAAAAAAAAAAAAAAAAAAAAAAAAAAAAAAAAAAAAAAAAAAAAAAAAAAAAAAAAAAAAAAAAAAAAAAAAAAAAAAAAAAAAAAAAAAAAAAAAAAAAAAAAAAAAAAAAAAAAAAAAAAAAAAAAAAAAAAAAAAAAAAAAAAAAAAAAAAAAAAAAAAAAAAAAAAAAAAAAAAAAAAAAAAAAAAAAAAAAAAAAAAAAAAAAAAAAAAAAAAAAAAAAACwAAAAAOAABAAAIFgABCBxIsKAAAAgTKlzIsKFDhAEABAQAOw==\"><title>Layer: output (output)\n output range: (0.0, 1.0)\n shape = (56,)\n Keras class = Dense\n activation = softmax</title></image><text x=\"280.0\" y=\"112.0\" font-family=\"monospace\" font-size=\"12\" text-anchor=\"start\" fill=\"black\" alignment-baseline=\"central\" >output</text><line x1=\"175.0\" y1=\"164\" x2=\"175.0\" y2=\"137\" stroke=\"black\" stroke-width=\"2\" marker-end=\"url(#arrow)\"><title>Weights from rnn to output\n output_2/kernel:0 has shape (128, 56)\n output_2/bias:0 has shape (56,)</title></line><rect x=\"74.0\" y=\"164\" width=\"202\" height=\"52\" style=\"fill:none;stroke:black;stroke-width:2\"/><image id=\"picture-dashboard-Alice in Wonderland-678055_rnn_8\" class=\"picture-dashboard-Alice in Wonderland-678055_rnn\" x=\"75.0\" y=\"165\" height=\"50\" width=\"200\" preserveAspectRatio=\"none\" href=\"data:image/gif;base64,R0lGODdhgAABAIcAAP4EBAYG/yUl/xYW//84OP32+FNT/3p6//8YGPTk7qys//+pqf/FxZWV//8kJP9JSf9VVf9lZf+Ghv/a2jY2/2dn/4uL//+VlU1N/7m5/8XF/9XV/wAAAAAAAAAAAAAAAAAAAAAAAAAAAAAAAAAAAAAAAAAAAAAAAAAAAAAAAAAAAAAAAAAAAAAAAAAAAAAAAAAAAAAAAAAAAAAAAAAAAAAAAAAAAAAAAAAAAAAAAAAAAAAAAAAAAAAAAAAAAAAAAAAAAAAAAAAAAAAAAAAAAAAAAAAAAAAAAAAAAAAAAAAAAAAAAAAAAAAAAAAAAAAAAAAAAAAAAAAAAAAAAAAAAAAAAAAAAAAAAAAAAAAAAAAAAAAAAAAAAAAAAAAAAAAAAAAAAAAAAAAAAAAAAAAAAAAAAAAAAAAAAAAAAAAAAAAAAAAAAAAAAAAAAAAAAAAAAAAAAAAAAAAAAAAAAAAAAAAAAAAAAAAAAAAAAAAAAAAAAAAAAAAAAAAAAAAAAAAAAAAAAAAAAAAAAAAAAAAAAAAAAAAAAAAAAAAAAAAAAAAAAAAAAAAAAAAAAAAAAAAAAAAAAAAAAAAAAAAAAAAAAAAAAAAAAAAAAAAAAAAAAAAAAAAAAAAAAAAAAAAAAAAAAAAAAAAAAAAAAAAAAAAAAAAAAAAAAAAAAAAAAAAAAAAAAAAAAAAAAAAAAAAAAAAAAAAAAAAAAAAAAAAAAAAAAAAAAAAAAAAAAAAAAAAAAAAAAAAAAAAAAAAAAAAAAAAAAAAAAAAAAAAAAAAAAAAAAAAAAAAAAAAAAAAAAAAAAAAAAAAAAAAAAAAAAAAAAAAAAAAAAAAAAAAAAAAAAAAAAAAAAAAAAAAAAAAAAAAAAAAAAAAAAAAAAAAAAAAAAAAAAAAAAAAAAAAAAAAAAAAAAAAAAAAAAAAAAAAAAAAAAAAAAAAAAAAAAAAAAAAAAAAAAAAAAAAAAAAAAAAAAAAAAAAAAAAAAAAAAAAAAAAAAAAAAAAAAAAAAAAAAAAAAAAAACwAAAAAgAABAAAIkgAZCKhgQMGAAAAIZIhgAICFAAAGDCDQ4IECAAAqCAgAwECBCAckKFDwAMABBgIcBBAAAMAECxMASGgQQEIAAAASIJiggQKDAg4AOMAgAEKCAAMgECgQoMGCDQYWADAAgICAAwEIJAiQIAIACBcAUAAggAGCAQcALLhQIIDbAwMKPBBAYEEBAAgAIAAQIIEABAEBADs=\"><title>Layer: rnn (hidden)\n output range: (-Infinity, +Infinity)\n Keras class = SimpleRNN\n return_sequences = False\n unroll = True</title></image><text x=\"280.0\" y=\"192.0\" font-family=\"monospace\" font-size=\"12\" text-anchor=\"start\" fill=\"black\" alignment-baseline=\"central\" >rnn</text><line x1=\"175.0\" y1=\"244\" x2=\"175.0\" y2=\"217\" stroke=\"black\" stroke-width=\"2\" marker-end=\"url(#arrow)\"><title>Weights from input to rnn\n rnn_2/kernel:0 has shape (56, 128)\n rnn_2/recurrent_kernel:0 has shape (128, 128)\n rnn_2/bias:0 has shape (128,)</title></line><rect x=\"74.0\" y=\"244\" width=\"202\" height=\"202\" style=\"fill:none;stroke:black;stroke-width:2\"/><image id=\"picture-dashboard-Alice in Wonderland-678055_input_9\" class=\"picture-dashboard-Alice in Wonderland-678055_input\" x=\"75.0\" y=\"245\" height=\"200\" width=\"200\" preserveAspectRatio=\"none\" href=\"data:image/gif;base64,R0lGODdhOAAKAIcAAAAAAP///wAAAAAAAAAAAAAAAAAAAAAAAAAAAAAAAAAAAAAAAAAAAAAAAAAAAAAAAAAAAAAAAAAAAAAAAAAAAAAAAAAAAAAAAAAAAAAAAAAAAAAAAAAAAAAAAAAAAAAAAAAAAAAAAAAAAAAAAAAAAAAAAAAAAAAAAAAAAAAAAAAAAAAAAAAAAAAAAAAAAAAAAAAAAAAAAAAAAAAAAAAAAAAAAAAAAAAAAAAAAAAAAAAAAAAAAAAAAAAAAAAAAAAAAAAAAAAAAAAAAAAAAAAAAAAAAAAAAAAAAAAAAAAAAAAAAAAAAAAAAAAAAAAAAAAAAAAAAAAAAAAAAAAAAAAAAAAAAAAAAAAAAAAAAAAAAAAAAAAAAAAAAAAAAAAAAAAAAAAAAAAAAAAAAAAAAAAAAAAAAAAAAAAAAAAAAAAAAAAAAAAAAAAAAAAAAAAAAAAAAAAAAAAAAAAAAAAAAAAAAAAAAAAAAAAAAAAAAAAAAAAAAAAAAAAAAAAAAAAAAAAAAAAAAAAAAAAAAAAAAAAAAAAAAAAAAAAAAAAAAAAAAAAAAAAAAAAAAAAAAAAAAAAAAAAAAAAAAAAAAAAAAAAAAAAAAAAAAAAAAAAAAAAAAAAAAAAAAAAAAAAAAAAAAAAAAAAAAAAAAAAAAAAAAAAAAAAAAAAAAAAAAAAAAAAAAAAAAAAAAAAAAAAAAAAAAAAAAAAAAAAAAAAAAAAAAAAAAAAAAAAAAAAAAAAAAAAAAAAAAAAAAAAAAAAAAAAAAAAAAAAAAAAAAAAAAAAAAAAAAAAAAAAAAAAAAAAAAAAAAAAAAAAAAAAAAAAAAAAAAAAAAAAAAAAAAAAAAAAAAAAAAAAAAAAAAAAAAAAAAAAAAAAAAAAAAAAAAAAAAAAAAAAAAAAAAAAAAAAAAAAAAAAAAAAAAAAAAAAAAAAAAAAAAAAAAAAAAAAAAAAAAAAAAAAAAAAAAAAAAAAAAAAAAAAAAAAAAAAAAAAAAAAAAAAAAAAAAAAAAAAAAAAAAAAAAAAAACwAAAAAOAAKAAAIhgABCBxIsKDBgwgTJgwAoKFDAAEASJxIsaLFixgzatxIMQCAjyBDihxJsqRJAAEAqFzJsqXLlzBjypxJk2UAADhz6tzJs6fPnzoDABhKtKjRo0iTKl26NACAp1CjSn0aAIDVq1izat3KtavXr2ABBABAtqzZs2jTql1bNgCAt3Djyp1LV25AADs=\"><title>Layer: input (input)\n output range: (0.0, 1.0)\n shape = (10, 56)\n Keras class = Input</title></image><text x=\"280.0\" y=\"347.0\" font-family=\"monospace\" font-size=\"12\" text-anchor=\"start\" fill=\"black\" alignment-baseline=\"central\" >input</text><text x=\"175.0\" y=\"12.5\" font-family=\"monospace\" font-size=\"15\" text-anchor=\"middle\" fill=\"black\" alignment-baseline=\"central\" >Alice in Wonderland</text></svg></g></svg></p>"
      }
     },
     "acc6847028af4d68bac9fab59ac94792": {
      "model_module": "@jupyter-widgets/controls",
      "model_module_version": "1.4.0",
      "model_name": "AccordionModel",
      "state": {
       "_titles": {
        "0": "Alice in Wonderland"
       },
       "children": [
        "IPY_MODEL_6192813657634bd0bd3a2da7dd11ed73"
       ],
       "layout": "IPY_MODEL_6cab7a32f89042bb89f3ad6782ffa356",
       "selected_index": null
      }
     },
     "ace05d2706c649d5865be6857820f8ef": {
      "model_module": "@jupyter-widgets/controls",
      "model_module_version": "1.4.0",
      "model_name": "HBoxModel",
      "state": {
       "children": [
        "IPY_MODEL_a3a778f25aff451483ab7d81c09a9317",
        "IPY_MODEL_66b9a62f25a44fcdbf98fc7af3d1e9ab"
       ],
       "layout": "IPY_MODEL_cb411948931a488f940b4e4d9d76d3e6"
      }
     },
     "acfdaa75be2143c687d4149444bead50": {
      "model_module": "@jupyter-widgets/base",
      "model_module_version": "1.1.0",
      "model_name": "LayoutModel",
      "state": {
       "width": "100%"
      }
     },
     "ad5f8c7d96a34e1c941601235a95def9": {
      "model_module": "@jupyter-widgets/controls",
      "model_module_version": "1.4.0",
      "model_name": "CheckboxModel",
      "state": {
       "description": "Errors",
       "disabled": false,
       "layout": "IPY_MODEL_30933640a09742e4b0eb1ce1858fd397",
       "style": "IPY_MODEL_15f189ba2be342c79ea2507305739236",
       "value": false
      }
     },
     "ad7eba8b7bfd4bb68f71f316b7c3a2f7": {
      "model_module": "@jupyter-widgets/controls",
      "model_module_version": "1.4.0",
      "model_name": "ButtonModel",
      "state": {
       "icon": "refresh",
       "layout": "IPY_MODEL_932564f5a8d54653b9ad4fc3f085801c",
       "style": "IPY_MODEL_78f5faf1df97450f94f551d7e083efd5"
      }
     },
     "af5337212afc4467972d251da1387ba5": {
      "model_module": "@jupyter-widgets/controls",
      "model_module_version": "1.4.0",
      "model_name": "VBoxModel",
      "state": {
       "children": [
        "IPY_MODEL_47918534edfa4d568969c3275abaedb5",
        "IPY_MODEL_cab09cce6d7b48ec8933b9b44d7beda1",
        "IPY_MODEL_7d6504c649eb45e8900a55fd0aad58ea",
        "IPY_MODEL_745959e68b304f1684db2b12df01e993",
        "IPY_MODEL_2c695abc7d734b239e7048685a6f0ba2",
        "IPY_MODEL_b473ba123d0148ac898a62e0e84bd9b0",
        "IPY_MODEL_05084a1462834dbfbdc55dd5b8cd510d",
        "IPY_MODEL_44f71191db9f48ceb15fcba09b4aff09"
       ],
       "layout": "IPY_MODEL_048a938a25ab426ea7619ff7588d499d"
      }
     },
     "af7b745e75c84664bec028cc2a098951": {
      "model_module": "@jupyter-widgets/controls",
      "model_module_version": "1.4.0",
      "model_name": "SliderStyleModel",
      "state": {
       "description_width": ""
      }
     },
     "b03c42f86fae49b48d7267bdf8d1393b": {
      "model_module": "@jupyter-widgets/controls",
      "model_module_version": "1.4.0",
      "model_name": "SelectModel",
      "state": {
       "_options_labels": [
        "",
        "Accent",
        "Accent_r",
        "Blues",
        "Blues_r",
        "BrBG",
        "BrBG_r",
        "BuGn",
        "BuGn_r",
        "BuPu",
        "BuPu_r",
        "CMRmap",
        "CMRmap_r",
        "Dark2",
        "Dark2_r",
        "GnBu",
        "GnBu_r",
        "Greens",
        "Greens_r",
        "Greys",
        "Greys_r",
        "OrRd",
        "OrRd_r",
        "Oranges",
        "Oranges_r",
        "PRGn",
        "PRGn_r",
        "Paired",
        "Paired_r",
        "Pastel1",
        "Pastel1_r",
        "Pastel2",
        "Pastel2_r",
        "PiYG",
        "PiYG_r",
        "PuBu",
        "PuBuGn",
        "PuBuGn_r",
        "PuBu_r",
        "PuOr",
        "PuOr_r",
        "PuRd",
        "PuRd_r",
        "Purples",
        "Purples_r",
        "RdBu",
        "RdBu_r",
        "RdGy",
        "RdGy_r",
        "RdPu",
        "RdPu_r",
        "RdYlBu",
        "RdYlBu_r",
        "RdYlGn",
        "RdYlGn_r",
        "Reds",
        "Reds_r",
        "Set1",
        "Set1_r",
        "Set2",
        "Set2_r",
        "Set3",
        "Set3_r",
        "Spectral",
        "Spectral_r",
        "Vega10",
        "Vega10_r",
        "Vega20",
        "Vega20_r",
        "Vega20b",
        "Vega20b_r",
        "Vega20c",
        "Vega20c_r",
        "Wistia",
        "Wistia_r",
        "YlGn",
        "YlGnBu",
        "YlGnBu_r",
        "YlGn_r",
        "YlOrBr",
        "YlOrBr_r",
        "YlOrRd",
        "YlOrRd_r",
        "afmhot",
        "afmhot_r",
        "autumn",
        "autumn_r",
        "binary",
        "binary_r",
        "bone",
        "bone_r",
        "brg",
        "brg_r",
        "bwr",
        "bwr_r",
        "cool",
        "cool_r",
        "coolwarm",
        "coolwarm_r",
        "copper",
        "copper_r",
        "cubehelix",
        "cubehelix_r",
        "flag",
        "flag_r",
        "gist_earth",
        "gist_earth_r",
        "gist_gray",
        "gist_gray_r",
        "gist_heat",
        "gist_heat_r",
        "gist_ncar",
        "gist_ncar_r",
        "gist_rainbow",
        "gist_rainbow_r",
        "gist_stern",
        "gist_stern_r",
        "gist_yarg",
        "gist_yarg_r",
        "gnuplot",
        "gnuplot2",
        "gnuplot2_r",
        "gnuplot_r",
        "gray",
        "gray_r",
        "hot",
        "hot_r",
        "hsv",
        "hsv_r",
        "inferno",
        "inferno_r",
        "jet",
        "jet_r",
        "magma",
        "magma_r",
        "nipy_spectral",
        "nipy_spectral_r",
        "ocean",
        "ocean_r",
        "pink",
        "pink_r",
        "plasma",
        "plasma_r",
        "prism",
        "prism_r",
        "rainbow",
        "rainbow_r",
        "seismic",
        "seismic_r",
        "spectral",
        "spectral_r",
        "spring",
        "spring_r",
        "summer",
        "summer_r",
        "tab10",
        "tab10_r",
        "tab20",
        "tab20_r",
        "tab20b",
        "tab20b_r",
        "tab20c",
        "tab20c_r",
        "terrain",
        "terrain_r",
        "viridis",
        "viridis_r",
        "winter",
        "winter_r"
       ],
       "description": "Colormap:",
       "index": 123,
       "layout": "IPY_MODEL_c686efe2613a47a4ab06df069e39bc74",
       "rows": 1,
       "style": "IPY_MODEL_1b48407d538348c8bd0bcd0417215b1d"
      }
     },
     "b1c7bcf5c7bd4f5bb8d4f6c54633539c": {
      "model_module": "@jupyter-widgets/controls",
      "model_module_version": "1.4.0",
      "model_name": "HBoxModel",
      "state": {
       "children": [
        "IPY_MODEL_bd8d0fe9edea40d689d2ff9066900a66",
        "IPY_MODEL_33c9c6d08d5841199a99704ff590d899"
       ],
       "layout": "IPY_MODEL_703c25f66ca141d59a6c8527f2ca2e7a"
      }
     },
     "b1d1a1437aa441a3968f1f740effef21": {
      "model_module": "@jupyter-widgets/controls",
      "model_module_version": "1.4.0",
      "model_name": "CheckboxModel",
      "state": {
       "description": "Rotate network",
       "disabled": false,
       "layout": "IPY_MODEL_87a7dbbce226487ea273d0fb100477d4",
       "style": "IPY_MODEL_ff9e510f138f4958a6f709304a097707",
       "value": false
      }
     },
     "b1f87582a8724cbba4042abe854721cc": {
      "model_module": "@jupyter-widgets/base",
      "model_module_version": "1.1.0",
      "model_name": "LayoutModel",
      "state": {}
     },
     "b29a85d7d40d42ea81367a14a7bd37b4": {
      "model_module": "@jupyter-widgets/controls",
      "model_module_version": "1.4.0",
      "model_name": "DescriptionStyleModel",
      "state": {
       "description_width": ""
      }
     },
     "b2e4dc77a5b542b1b4503bd3d809d0f6": {
      "model_module": "@jupyter-widgets/controls",
      "model_module_version": "1.4.0",
      "model_name": "DescriptionStyleModel",
      "state": {
       "description_width": "initial"
      }
     },
     "b314a5af7f31463ab942b86f7de8b991": {
      "model_module": "@jupyter-widgets/base",
      "model_module_version": "1.1.0",
      "model_name": "LayoutModel",
      "state": {
       "justify_content": "center",
       "overflow_x": "auto",
       "overflow_y": "auto",
       "width": "95%"
      }
     },
     "b333ff6053e84e1e96b8d9b92e86e769": {
      "model_module": "@jupyter-widgets/controls",
      "model_module_version": "1.4.0",
      "model_name": "CheckboxModel",
      "state": {
       "description": "Visible",
       "disabled": false,
       "layout": "IPY_MODEL_c686efe2613a47a4ab06df069e39bc74",
       "style": "IPY_MODEL_660e51acc0de4a9a95874f482cd96041",
       "value": true
      }
     },
     "b3399e39c51248b7b3ae6b8947648ae3": {
      "model_module": "@jupyter-widgets/base",
      "model_module_version": "1.1.0",
      "model_name": "LayoutModel",
      "state": {
       "width": "100%"
      }
     },
     "b3945c3bb9c84d7a894bc18de8c100a3": {
      "model_module": "@jupyter-widgets/controls",
      "model_module_version": "1.4.0",
      "model_name": "IntTextModel",
      "state": {
       "description": "Vertical space between layers:",
       "layout": "IPY_MODEL_30933640a09742e4b0eb1ce1858fd397",
       "step": 1,
       "style": "IPY_MODEL_0f02e4ca76014197937040117fba10ad",
       "value": 30
      }
     },
     "b41b2771cb8945ecbc4763503ee06295": {
      "model_module": "@jupyter-widgets/base",
      "model_module_version": "1.1.0",
      "model_name": "LayoutModel",
      "state": {
       "width": "100%"
      }
     },
     "b44f005edf4e4d539fb35112934f3b3a": {
      "model_module": "@jupyter-widgets/controls",
      "model_module_version": "1.4.0",
      "model_name": "FloatSliderModel",
      "state": {
       "continuous_update": false,
       "description": "Zoom",
       "layout": "IPY_MODEL_b658a974688a443c802ca649542a8947",
       "max": 1,
       "step": 0.1,
       "style": "IPY_MODEL_2732d58eb5d84244a1593be9c777dc99",
       "value": 0.5
      }
     },
     "b46d9acd8f3e4052bd3154fdce691119": {
      "model_module": "@jupyter-widgets/base",
      "model_module_version": "1.1.0",
      "model_name": "LayoutModel",
      "state": {}
     },
     "b473ba123d0148ac898a62e0e84bd9b0": {
      "model_module": "@jupyter-widgets/controls",
      "model_module_version": "1.4.0",
      "model_name": "SelectModel",
      "state": {
       "_options_labels": [
        ""
       ],
       "description": "Features:",
       "index": 0,
       "layout": "IPY_MODEL_742ddb4c96a04bbbbbde411069f90330",
       "rows": 1,
       "style": "IPY_MODEL_1102c395012f4d6da6489a80ed1a7c5d"
      }
     },
     "b539a79db4424c0f832744ba258ca165": {
      "model_module": "@jupyter-widgets/controls",
      "model_module_version": "1.4.0",
      "model_name": "HBoxModel",
      "state": {
       "children": [
        "IPY_MODEL_af5337212afc4467972d251da1387ba5",
        "IPY_MODEL_8e1a174e697b4a4ea1ef3b9f331f7c1d"
       ],
       "layout": "IPY_MODEL_c6cf15cf1943415298423a6badba893f"
      }
     },
     "b567dee705124abbb47b14310b186c72": {
      "model_module": "@jupyter-widgets/controls",
      "model_module_version": "1.4.0",
      "model_name": "DescriptionStyleModel",
      "state": {
       "description_width": "initial"
      }
     },
     "b58c0016321a42a9adac0984262e710d": {
      "model_module": "@jupyter-widgets/base",
      "model_module_version": "1.1.0",
      "model_name": "LayoutModel",
      "state": {}
     },
     "b608aba0cb234d1aac768b5c6cdfe686": {
      "model_module": "@jupyter-widgets/controls",
      "model_module_version": "1.4.0",
      "model_name": "DescriptionStyleModel",
      "state": {
       "description_width": ""
      }
     },
     "b6344d63f52b469fa48874d4c85b9639": {
      "model_module": "@jupyter-widgets/controls",
      "model_module_version": "1.4.0",
      "model_name": "CheckboxModel",
      "state": {
       "description": "Rotate network",
       "disabled": false,
       "layout": "IPY_MODEL_b9999ce1e34e4e15a161bc7b42c94493",
       "style": "IPY_MODEL_3528203dc46249baabeb1f0ad9dfcf23",
       "value": false
      }
     },
     "b63690a09eab466eae94314d685081be": {
      "model_module": "@jupyter-widgets/base",
      "model_module_version": "1.1.0",
      "model_name": "LayoutModel",
      "state": {}
     },
     "b64fac2bc05f418f8b476879775ae442": {
      "model_module": "@jupyter-widgets/controls",
      "model_module_version": "1.4.0",
      "model_name": "ButtonModel",
      "state": {
       "icon": "fast-forward",
       "layout": "IPY_MODEL_c352d3b8e9b6408c92fe56ed2d27724f",
       "style": "IPY_MODEL_70615b14cca749058db251a900f6d34a"
      }
     },
     "b658a974688a443c802ca649542a8947": {
      "model_module": "@jupyter-widgets/base",
      "model_module_version": "1.1.0",
      "model_name": "LayoutModel",
      "state": {
       "width": "65%"
      }
     },
     "b6dd557a71ed47ccac396a57656c030b": {
      "model_module": "@jupyter-widgets/base",
      "model_module_version": "1.1.0",
      "model_name": "LayoutModel",
      "state": {
       "width": "100%"
      }
     },
     "b750c6dc82754cf2bf3e9c752f8fd8b9": {
      "model_module": "@jupyter-widgets/base",
      "model_module_version": "1.1.0",
      "model_name": "LayoutModel",
      "state": {
       "width": "100%"
      }
     },
     "b76f0ac8a74945a4917e20650adaeafb": {
      "model_module": "@jupyter-widgets/controls",
      "model_module_version": "1.4.0",
      "model_name": "HTMLModel",
      "state": {
       "layout": "IPY_MODEL_c6cfafbe45964d64b220583351fe8740",
       "style": "IPY_MODEL_b8789f1fe004491b9c3904bfd583fac2",
       "value": "<p style=\"text-align:center\"><svg id='Alice in Wonderland' xmlns='http://www.w3.org/2000/svg' image-rendering=\"pixelated\" width=\"297.87234042553195px\" height=\"400.0px\">\n <g >\n  <svg viewBox=\"0 0 350 470\" width=\"297.87234042553195px\" height=\"400.0px\">\n    <defs>\n        <marker id=\"arrow\" markerWidth=\"10\" markerHeight=\"10\" refX=\"9\" refY=\"3\" orient=\"auto\" markerUnits=\"strokeWidth\">\n          <path d=\"M0,0 L0,6 L9,3 z\" fill=\"black\" />\n        </marker>\n    </defs><rect x=\"74.0\" y=\"24\" width=\"202\" height=\"52\" style=\"fill:none;stroke:black;stroke-width:2\"/><image id=\"picture-dashboard-Alice in Wonderland-97841_output_targets_1\" class=\"picture-dashboard-Alice in Wonderland-97841_output_targets\" x=\"75.0\" y=\"25\" height=\"50\" width=\"200\" preserveAspectRatio=\"none\" href=\"data:image/gif;base64,R0lGODdhOAABAIcAAAQEBAAAAAAAAAAAAAAAAAAAAAAAAAAAAAAAAAAAAAAAAAAAAAAAAAAAAAAAAAAAAAAAAAAAAAAAAAAAAAAAAAAAAAAAAAAAAAAAAAAAAAAAAAAAAAAAAAAAAAAAAAAAAAAAAAAAAAAAAAAAAAAAAAAAAAAAAAAAAAAAAAAAAAAAAAAAAAAAAAAAAAAAAAAAAAAAAAAAAAAAAAAAAAAAAAAAAAAAAAAAAAAAAAAAAAAAAAAAAAAAAAAAAAAAAAAAAAAAAAAAAAAAAAAAAAAAAAAAAAAAAAAAAAAAAAAAAAAAAAAAAAAAAAAAAAAAAAAAAAAAAAAAAAAAAAAAAAAAAAAAAAAAAAAAAAAAAAAAAAAAAAAAAAAAAAAAAAAAAAAAAAAAAAAAAAAAAAAAAAAAAAAAAAAAAAAAAAAAAAAAAAAAAAAAAAAAAAAAAAAAAAAAAAAAAAAAAAAAAAAAAAAAAAAAAAAAAAAAAAAAAAAAAAAAAAAAAAAAAAAAAAAAAAAAAAAAAAAAAAAAAAAAAAAAAAAAAAAAAAAAAAAAAAAAAAAAAAAAAAAAAAAAAAAAAAAAAAAAAAAAAAAAAAAAAAAAAAAAAAAAAAAAAAAAAAAAAAAAAAAAAAAAAAAAAAAAAAAAAAAAAAAAAAAAAAAAAAAAAAAAAAAAAAAAAAAAAAAAAAAAAAAAAAAAAAAAAAAAAAAAAAAAAAAAAAAAAAAAAAAAAAAAAAAAAAAAAAAAAAAAAAAAAAAAAAAAAAAAAAAAAAAAAAAAAAAAAAAAAAAAAAAAAAAAAAAAAAAAAAAAAAAAAAAAAAAAAAAAAAAAAAAAAAAAAAAAAAAAAAAAAAAAAAAAAAAAAAAAAAAAAAAAAAAAAAAAAAAAAAAAAAAAAAAAAAAAAAAAAAAAAAAAAAAAAAAAAAAAAAAAAAAAAAAAAAAAAAAAAAAAAAAAAAAAAAAAAAAAAAAAAAAAAAAAAAAAAAAAAAAAAAAAAAAAAAAAAAAAAAAAAAAAAAAAAAAAAAAAAAAAACwAAAAAOAABAAAIDwABCBxIsKDBgwgTKgQQEAA7\"><title>Layer: output (output)\n output range: (0.0, 1.0)\n shape = (56,)\n Keras class = Dense\n activation = softmax</title></image><text x=\"280.0\" y=\"52.0\" font-family=\"monospace\" font-size=\"12\" text-anchor=\"start\" fill=\"black\" alignment-baseline=\"central\" >targets</text><line x1=\"87.5\" y1=\"80\" x2=\"262.5\" y2=\"80\" stroke=\"green\" stroke-width=\"2\"><title></title></line><rect x=\"74.0\" y=\"84\" width=\"202\" height=\"52\" style=\"fill:none;stroke:black;stroke-width:2\"/><image id=\"picture-dashboard-Alice in Wonderland-97841_output_1\" class=\"picture-dashboard-Alice in Wonderland-97841_output\" x=\"75.0\" y=\"85\" height=\"50\" width=\"200\" preserveAspectRatio=\"none\" href=\"data:image/gif;base64,R0lGODdhOAABAIcAAAQEBAAAAAAAAAAAAAAAAAAAAAAAAAAAAAAAAAAAAAAAAAAAAAAAAAAAAAAAAAAAAAAAAAAAAAAAAAAAAAAAAAAAAAAAAAAAAAAAAAAAAAAAAAAAAAAAAAAAAAAAAAAAAAAAAAAAAAAAAAAAAAAAAAAAAAAAAAAAAAAAAAAAAAAAAAAAAAAAAAAAAAAAAAAAAAAAAAAAAAAAAAAAAAAAAAAAAAAAAAAAAAAAAAAAAAAAAAAAAAAAAAAAAAAAAAAAAAAAAAAAAAAAAAAAAAAAAAAAAAAAAAAAAAAAAAAAAAAAAAAAAAAAAAAAAAAAAAAAAAAAAAAAAAAAAAAAAAAAAAAAAAAAAAAAAAAAAAAAAAAAAAAAAAAAAAAAAAAAAAAAAAAAAAAAAAAAAAAAAAAAAAAAAAAAAAAAAAAAAAAAAAAAAAAAAAAAAAAAAAAAAAAAAAAAAAAAAAAAAAAAAAAAAAAAAAAAAAAAAAAAAAAAAAAAAAAAAAAAAAAAAAAAAAAAAAAAAAAAAAAAAAAAAAAAAAAAAAAAAAAAAAAAAAAAAAAAAAAAAAAAAAAAAAAAAAAAAAAAAAAAAAAAAAAAAAAAAAAAAAAAAAAAAAAAAAAAAAAAAAAAAAAAAAAAAAAAAAAAAAAAAAAAAAAAAAAAAAAAAAAAAAAAAAAAAAAAAAAAAAAAAAAAAAAAAAAAAAAAAAAAAAAAAAAAAAAAAAAAAAAAAAAAAAAAAAAAAAAAAAAAAAAAAAAAAAAAAAAAAAAAAAAAAAAAAAAAAAAAAAAAAAAAAAAAAAAAAAAAAAAAAAAAAAAAAAAAAAAAAAAAAAAAAAAAAAAAAAAAAAAAAAAAAAAAAAAAAAAAAAAAAAAAAAAAAAAAAAAAAAAAAAAAAAAAAAAAAAAAAAAAAAAAAAAAAAAAAAAAAAAAAAAAAAAAAAAAAAAAAAAAAAAAAAAAAAAAAAAAAAAAAAAAAAAAAAAAAAAAAAAAAAAAAAAAAAAAAAAAAAAAAAAAAAAAAAAAAAAAAAAAACwAAAAAOAABAAAIDwABCBxIsKDBgwgTKgQQEAA7\"><title>Layer: output (output)\n output range: (0.0, 1.0)\n shape = (56,)\n Keras class = Dense\n activation = softmax</title></image><text x=\"280.0\" y=\"112.0\" font-family=\"monospace\" font-size=\"12\" text-anchor=\"start\" fill=\"black\" alignment-baseline=\"central\" >output</text><line x1=\"175.0\" y1=\"164\" x2=\"175.0\" y2=\"137\" stroke=\"black\" stroke-width=\"2\" marker-end=\"url(#arrow)\"><title>Weights from rnn to output\n output_4/kernel:0 has shape (128, 56)\n output_4/bias:0 has shape (56,)</title></line><rect x=\"74.0\" y=\"164\" width=\"202\" height=\"52\" style=\"fill:none;stroke:black;stroke-width:2\"/><image id=\"picture-dashboard-Alice in Wonderland-97841_rnn_2\" class=\"picture-dashboard-Alice in Wonderland-97841_rnn\" x=\"75.0\" y=\"165\" height=\"50\" width=\"200\" preserveAspectRatio=\"none\" href=\"data:image/gif;base64,R0lGODdhgAABAIcAAPPn8/v4+9fX//+4uP/X16Ki/7e3/8nJ//+Zmf/Hx/+lpYmJ/5aW//92dgAAAAAAAAAAAAAAAAAAAAAAAAAAAAAAAAAAAAAAAAAAAAAAAAAAAAAAAAAAAAAAAAAAAAAAAAAAAAAAAAAAAAAAAAAAAAAAAAAAAAAAAAAAAAAAAAAAAAAAAAAAAAAAAAAAAAAAAAAAAAAAAAAAAAAAAAAAAAAAAAAAAAAAAAAAAAAAAAAAAAAAAAAAAAAAAAAAAAAAAAAAAAAAAAAAAAAAAAAAAAAAAAAAAAAAAAAAAAAAAAAAAAAAAAAAAAAAAAAAAAAAAAAAAAAAAAAAAAAAAAAAAAAAAAAAAAAAAAAAAAAAAAAAAAAAAAAAAAAAAAAAAAAAAAAAAAAAAAAAAAAAAAAAAAAAAAAAAAAAAAAAAAAAAAAAAAAAAAAAAAAAAAAAAAAAAAAAAAAAAAAAAAAAAAAAAAAAAAAAAAAAAAAAAAAAAAAAAAAAAAAAAAAAAAAAAAAAAAAAAAAAAAAAAAAAAAAAAAAAAAAAAAAAAAAAAAAAAAAAAAAAAAAAAAAAAAAAAAAAAAAAAAAAAAAAAAAAAAAAAAAAAAAAAAAAAAAAAAAAAAAAAAAAAAAAAAAAAAAAAAAAAAAAAAAAAAAAAAAAAAAAAAAAAAAAAAAAAAAAAAAAAAAAAAAAAAAAAAAAAAAAAAAAAAAAAAAAAAAAAAAAAAAAAAAAAAAAAAAAAAAAAAAAAAAAAAAAAAAAAAAAAAAAAAAAAAAAAAAAAAAAAAAAAAAAAAAAAAAAAAAAAAAAAAAAAAAAAAAAAAAAAAAAAAAAAAAAAAAAAAAAAAAAAAAAAAAAAAAAAAAAAAAAAAAAAAAAAAAAAAAAAAAAAAAAAAAAAAAAAAAAAAAAAAAAAAAAAAAAAAAAAAAAAAAAAAAAAAAAAAAAAAAAAAAAAAAAAAAAAAAAAAAAAAAAAAAAAAAAAAAAAAAAAAAAAAAAAAAAAAAAAAAAAAAAAAAAAAAAAAAAAAAAACwAAAAAgAABAAAIkwANCCCQ4IAABAUGKDCAwACBAg0EFECQ4ACBAgQAJBhAYACAAwoGBAAwIECAAQUEBFgggACAAwYCMACQIIACAAIQEABQIIAAAAIEKAggIMCCAAYQEEiQ4MABAwwGMGiAIMEAAAAWAAAQoACAAQMALAhAQECBAQEABBBgAIEAAQcCACAwAACAAAAUBDAAQACDBgACAgA7\"><title>Layer: rnn (hidden)\n output range: (-Infinity, +Infinity)\n Keras class = SimpleRNN\n return_sequences = False\n unroll = True</title></image><text x=\"280.0\" y=\"192.0\" font-family=\"monospace\" font-size=\"12\" text-anchor=\"start\" fill=\"black\" alignment-baseline=\"central\" >rnn</text><line x1=\"175.0\" y1=\"244\" x2=\"175.0\" y2=\"217\" stroke=\"black\" stroke-width=\"2\" marker-end=\"url(#arrow)\"><title>Weights from input to rnn\n rnn_4/kernel:0 has shape (56, 128)\n rnn_4/recurrent_kernel:0 has shape (128, 128)\n rnn_4/bias:0 has shape (128,)</title></line><rect x=\"74.0\" y=\"244\" width=\"202\" height=\"202\" style=\"fill:none;stroke:black;stroke-width:2\"/><image id=\"picture-dashboard-Alice in Wonderland-97841_input_3\" class=\"picture-dashboard-Alice in Wonderland-97841_input\" x=\"75.0\" y=\"245\" height=\"200\" width=\"200\" preserveAspectRatio=\"none\" href=\"data:image/gif;base64,R0lGODdhOAAKAIcAAAAAAP///wAAAAAAAAAAAAAAAAAAAAAAAAAAAAAAAAAAAAAAAAAAAAAAAAAAAAAAAAAAAAAAAAAAAAAAAAAAAAAAAAAAAAAAAAAAAAAAAAAAAAAAAAAAAAAAAAAAAAAAAAAAAAAAAAAAAAAAAAAAAAAAAAAAAAAAAAAAAAAAAAAAAAAAAAAAAAAAAAAAAAAAAAAAAAAAAAAAAAAAAAAAAAAAAAAAAAAAAAAAAAAAAAAAAAAAAAAAAAAAAAAAAAAAAAAAAAAAAAAAAAAAAAAAAAAAAAAAAAAAAAAAAAAAAAAAAAAAAAAAAAAAAAAAAAAAAAAAAAAAAAAAAAAAAAAAAAAAAAAAAAAAAAAAAAAAAAAAAAAAAAAAAAAAAAAAAAAAAAAAAAAAAAAAAAAAAAAAAAAAAAAAAAAAAAAAAAAAAAAAAAAAAAAAAAAAAAAAAAAAAAAAAAAAAAAAAAAAAAAAAAAAAAAAAAAAAAAAAAAAAAAAAAAAAAAAAAAAAAAAAAAAAAAAAAAAAAAAAAAAAAAAAAAAAAAAAAAAAAAAAAAAAAAAAAAAAAAAAAAAAAAAAAAAAAAAAAAAAAAAAAAAAAAAAAAAAAAAAAAAAAAAAAAAAAAAAAAAAAAAAAAAAAAAAAAAAAAAAAAAAAAAAAAAAAAAAAAAAAAAAAAAAAAAAAAAAAAAAAAAAAAAAAAAAAAAAAAAAAAAAAAAAAAAAAAAAAAAAAAAAAAAAAAAAAAAAAAAAAAAAAAAAAAAAAAAAAAAAAAAAAAAAAAAAAAAAAAAAAAAAAAAAAAAAAAAAAAAAAAAAAAAAAAAAAAAAAAAAAAAAAAAAAAAAAAAAAAAAAAAAAAAAAAAAAAAAAAAAAAAAAAAAAAAAAAAAAAAAAAAAAAAAAAAAAAAAAAAAAAAAAAAAAAAAAAAAAAAAAAAAAAAAAAAAAAAAAAAAAAAAAAAAAAAAAAAAAAAAAAAAAAAAAAAAAAAAAAAAAAAAAAAAAAAAAAAAAAAAAAAAAAAAAAAAAAAAAAAACwAAAAAOAAKAAAIgwABCAwAoKDBgwgTKlzIsCHDAAAiSpxIsaLFixgzasQYAIDHjyBDihQZAIDJkyhTqlzJsqXLlyoDAJhJs6bNmzhz6qwZAIDPn0CDCh1KtKjRo0iJBgDAtKnTp1CjSp0aNQCAq1izat3KtavXrQEAiB1LtqzZs2IDAFjLtq3bt3Djug0IADs=\"><title>Layer: input (input)\n output range: (0.0, 1.0)\n shape = (10, 56)\n Keras class = Input</title></image><text x=\"280.0\" y=\"347.0\" font-family=\"monospace\" font-size=\"12\" text-anchor=\"start\" fill=\"black\" alignment-baseline=\"central\" >input</text><text x=\"175.0\" y=\"12.5\" font-family=\"monospace\" font-size=\"15\" text-anchor=\"middle\" fill=\"black\" alignment-baseline=\"central\" >Alice in Wonderland</text></svg></g></svg></p>"
      }
     },
     "b77f85281a804addad1717a7c60ed532": {
      "model_module": "@jupyter-widgets/controls",
      "model_module_version": "1.4.0",
      "model_name": "ButtonStyleModel",
      "state": {}
     },
     "b78d0028896549b5a56b10dd96461692": {
      "model_module": "@jupyter-widgets/base",
      "model_module_version": "1.1.0",
      "model_name": "LayoutModel",
      "state": {}
     },
     "b828236e20914d4db868e7b2b54ef344": {
      "model_module": "@jupyter-widgets/base",
      "model_module_version": "1.1.0",
      "model_name": "LayoutModel",
      "state": {
       "width": "10%"
      }
     },
     "b8789f1fe004491b9c3904bfd583fac2": {
      "model_module": "@jupyter-widgets/controls",
      "model_module_version": "1.4.0",
      "model_name": "DescriptionStyleModel",
      "state": {
       "description_width": ""
      }
     },
     "b8bb692474f2405d995d4f83ecffe9f8": {
      "model_module": "@jupyter-widgets/base",
      "model_module_version": "1.1.0",
      "model_name": "LayoutModel",
      "state": {}
     },
     "b991a69e32d94ca994a6826b1fcaf71f": {
      "model_module": "@jupyter-widgets/controls",
      "model_module_version": "1.4.0",
      "model_name": "ButtonStyleModel",
      "state": {}
     },
     "b9999ce1e34e4e15a161bc7b42c94493": {
      "model_module": "@jupyter-widgets/base",
      "model_module_version": "1.1.0",
      "model_name": "LayoutModel",
      "state": {
       "width": "52%"
      }
     },
     "ba4ac54038ec4f62bafa6a6013e7fe45": {
      "model_module": "@jupyter-widgets/controls",
      "model_module_version": "1.4.0",
      "model_name": "DescriptionStyleModel",
      "state": {
       "description_width": ""
      }
     },
     "bae42b9e9ce24ab692d2650b0720143b": {
      "model_module": "@jupyter-widgets/controls",
      "model_module_version": "1.4.0",
      "model_name": "IntTextModel",
      "state": {
       "layout": "IPY_MODEL_2ffc9a3cc12c4cfdbc15188bc35db0b3",
       "step": 1,
       "style": "IPY_MODEL_f2e829d184914ee4bab946a6d0ed2dec",
       "value": 7
      }
     },
     "bb1ace7695f247c3be05c225847c0074": {
      "model_module": "@jupyter-widgets/controls",
      "model_module_version": "1.4.0",
      "model_name": "DescriptionStyleModel",
      "state": {
       "description_width": "initial"
      }
     },
     "bb2b680f3dd04d71b757fc3b0456b261": {
      "model_module": "@jupyter-widgets/base",
      "model_module_version": "1.1.0",
      "model_name": "LayoutModel",
      "state": {
       "width": "100%"
      }
     },
     "bccf923ffbdc4fa5a546ee560a4323c7": {
      "model_module": "@jupyter-widgets/base",
      "model_module_version": "1.1.0",
      "model_name": "LayoutModel",
      "state": {
       "width": "100%"
      }
     },
     "bce8d78fafd74ae699e99d674ff86387": {
      "model_module": "@jupyter-widgets/base",
      "model_module_version": "1.1.0",
      "model_name": "LayoutModel",
      "state": {}
     },
     "bd0ee60aa87f4e5a9394bac157f64ef4": {
      "model_module": "@jupyter-widgets/controls",
      "model_module_version": "1.4.0",
      "model_name": "VBoxModel",
      "state": {
       "children": [
        "IPY_MODEL_20737f08a8a54e32a5f2ae4dd04b5822",
        "IPY_MODEL_1b6da1b896774f38911ec8812ff2516a",
        "IPY_MODEL_a032018c51cb48f7bef728b707c10085",
        "IPY_MODEL_46955e671a2d4f96bc7e069705d8bcf3",
        "IPY_MODEL_5444a651e3854e91beca79abd6f99284",
        "IPY_MODEL_7bf0d7c8887f41edaaf416fc28b31f77",
        "IPY_MODEL_3adfd5b99d3840e5bb9faa9b5f8e3269",
        "IPY_MODEL_4f4f7eb1580d41639ca9789eacca6dc3"
       ],
       "layout": "IPY_MODEL_4c3f5639f91b450db9dac65bad9a7837"
      }
     },
     "bd4e27da1ee94ef99da4b62cbdbecb44": {
      "model_module": "@jupyter-widgets/base",
      "model_module_version": "1.1.0",
      "model_name": "LayoutModel",
      "state": {}
     },
     "bd5b8476c1064b53be804f5649052f39": {
      "model_module": "@jupyter-widgets/controls",
      "model_module_version": "1.4.0",
      "model_name": "DescriptionStyleModel",
      "state": {
       "description_width": "initial"
      }
     },
     "bd6cb5a65d32481e813139168190c9c1": {
      "model_module": "@jupyter-widgets/controls",
      "model_module_version": "1.4.0",
      "model_name": "ButtonModel",
      "state": {
       "icon": "forward",
       "layout": "IPY_MODEL_30d4c5e8c12f4835982f59b074a1af7a",
       "style": "IPY_MODEL_3a29357a75c6429fbadc1b90205b0253"
      }
     },
     "bd8d0fe9edea40d689d2ff9066900a66": {
      "model_module": "@jupyter-widgets/controls",
      "model_module_version": "1.4.0",
      "model_name": "IntSliderModel",
      "state": {
       "continuous_update": false,
       "description": "Dataset index",
       "layout": "IPY_MODEL_5469f2dfd78543568b30fec5cafcb9fc",
       "max": 158772,
       "style": "IPY_MODEL_63108efd788945ef9651fd850cb7d09d"
      }
     },
     "be3e56a00f1742e985bb42f9f2520b1f": {
      "model_module": "@jupyter-widgets/base",
      "model_module_version": "1.1.0",
      "model_name": "LayoutModel",
      "state": {
       "width": "65%"
      }
     },
     "bed033adac6e435da063693ec77cd429": {
      "model_module": "@jupyter-widgets/output",
      "model_module_version": "1.0.0",
      "model_name": "OutputModel",
      "state": {
       "layout": "IPY_MODEL_6ab79f41802b45c9ada215819ba655c2"
      }
     },
     "beea630455f44ac0af536bd9af7e7cb9": {
      "model_module": "@jupyter-widgets/controls",
      "model_module_version": "1.4.0",
      "model_name": "ButtonModel",
      "state": {
       "icon": "backward",
       "layout": "IPY_MODEL_82ca4ccc9285413b86c691bc2871168b",
       "style": "IPY_MODEL_b77f85281a804addad1717a7c60ed532"
      }
     },
     "bf0648d02df44692b937bf97fbccf7ab": {
      "model_module": "@jupyter-widgets/controls",
      "model_module_version": "1.4.0",
      "model_name": "SelectModel",
      "state": {
       "_options_labels": [
        "input",
        "rnn",
        "output"
       ],
       "description": "Layer:",
       "index": 2,
       "layout": "IPY_MODEL_33ffb89dd8b34e4a8b915b7c86083058",
       "rows": 1,
       "style": "IPY_MODEL_54185398bcd74624820152fe714723da"
      }
     },
     "bf5734bfabc647ae9999f933695b0450": {
      "model_module": "@jupyter-widgets/base",
      "model_module_version": "1.1.0",
      "model_name": "LayoutModel",
      "state": {}
     },
     "bf7905540db9448bb07a6c9a43eb52d2": {
      "model_module": "@jupyter-widgets/controls",
      "model_module_version": "1.4.0",
      "model_name": "DescriptionStyleModel",
      "state": {
       "description_width": ""
      }
     },
     "bf95e4c400644a9385e32e4fb92a55d0": {
      "model_module": "@jupyter-widgets/controls",
      "model_module_version": "1.4.0",
      "model_name": "IntTextModel",
      "state": {
       "layout": "IPY_MODEL_3addb5131c44436dafc92cd92e884887",
       "step": 1,
       "style": "IPY_MODEL_6e85dc0c960344a3971a042bc6fb6a29"
      }
     },
     "c050d2a21b834e7e91d7fcb2e35b8505": {
      "model_module": "@jupyter-widgets/controls",
      "model_module_version": "1.4.0",
      "model_name": "CheckboxModel",
      "state": {
       "description": "Visible",
       "disabled": false,
       "layout": "IPY_MODEL_14d4f0e898324a2eb1c4c2810a3aada8",
       "style": "IPY_MODEL_62f7604aa5a74d589cd8ea3df1113f1c",
       "value": true
      }
     },
     "c0eb031ad366439397e9230370729bf3": {
      "model_module": "@jupyter-widgets/controls",
      "model_module_version": "1.4.0",
      "model_name": "DescriptionStyleModel",
      "state": {
       "description_width": "initial"
      }
     },
     "c1b9e6ad26234200abd26eaf005bc995": {
      "model_module": "@jupyter-widgets/controls",
      "model_module_version": "1.4.0",
      "model_name": "SliderStyleModel",
      "state": {
       "description_width": ""
      }
     },
     "c1f7c157743b46e98ce5931dc8f2fede": {
      "model_module": "@jupyter-widgets/controls",
      "model_module_version": "1.4.0",
      "model_name": "DescriptionStyleModel",
      "state": {
       "description_width": "initial"
      }
     },
     "c1fc5f7173fe4a369e93d27e216ee932": {
      "model_module": "@jupyter-widgets/controls",
      "model_module_version": "1.4.0",
      "model_name": "DescriptionStyleModel",
      "state": {
       "description_width": "initial"
      }
     },
     "c213425adbe2417e937bd9f6bb66a281": {
      "model_module": "@jupyter-widgets/base",
      "model_module_version": "1.1.0",
      "model_name": "LayoutModel",
      "state": {
       "width": "100%"
      }
     },
     "c2e13342cc624ab9a52849dc065b5631": {
      "model_module": "@jupyter-widgets/controls",
      "model_module_version": "1.4.0",
      "model_name": "DescriptionStyleModel",
      "state": {
       "description_width": ""
      }
     },
     "c3216b31369e4d56b623e764c967f9a4": {
      "model_module": "@jupyter-widgets/base",
      "model_module_version": "1.1.0",
      "model_name": "LayoutModel",
      "state": {}
     },
     "c352d3b8e9b6408c92fe56ed2d27724f": {
      "model_module": "@jupyter-widgets/base",
      "model_module_version": "1.1.0",
      "model_name": "LayoutModel",
      "state": {
       "width": "100%"
      }
     },
     "c36a16fbcbac4ca28a271b9c8ecd70dd": {
      "model_module": "@jupyter-widgets/controls",
      "model_module_version": "1.4.0",
      "model_name": "DescriptionStyleModel",
      "state": {
       "description_width": ""
      }
     },
     "c3931eb243e84cd0aa71737cd6a69f1c": {
      "model_module": "@jupyter-widgets/controls",
      "model_module_version": "1.4.0",
      "model_name": "FloatSliderModel",
      "state": {
       "continuous_update": false,
       "description": "Zoom",
       "layout": "IPY_MODEL_c3bfee6c626a494d8a9579af9ddbc877",
       "max": 1,
       "step": 0.1,
       "style": "IPY_MODEL_2305d0fd63794d37b3d1e3a145c1097f",
       "value": 0.5
      }
     },
     "c3b5304d7a17459d961ba0dc14f0f4c0": {
      "model_module": "@jupyter-widgets/base",
      "model_module_version": "1.1.0",
      "model_name": "LayoutModel",
      "state": {
       "height": "40px"
      }
     },
     "c3bfee6c626a494d8a9579af9ddbc877": {
      "model_module": "@jupyter-widgets/base",
      "model_module_version": "1.1.0",
      "model_name": "LayoutModel",
      "state": {
       "width": "65%"
      }
     },
     "c3fbea750cb54ea79ed6b738a8502b83": {
      "model_module": "@jupyter-widgets/base",
      "model_module_version": "1.1.0",
      "model_name": "LayoutModel",
      "state": {}
     },
     "c5719ba920cd47c3a07d27fbfeec0a46": {
      "model_module": "@jupyter-widgets/controls",
      "model_module_version": "1.4.0",
      "model_name": "VBoxModel",
      "state": {
       "children": [
        "IPY_MODEL_8d5de0b94a954c618b57f839845c4e5a",
        "IPY_MODEL_22bdd37f0c824cf2b6cdffc6fbeb4899",
        "IPY_MODEL_24146af7d333450d87f51ab4c3aaba56",
        "IPY_MODEL_0e0e4521086c4a0696a78d3902fa3540",
        "IPY_MODEL_6caa50ff2b97481b90c0e584c080dd2e",
        "IPY_MODEL_9e0c0069d9594f7cbdd4ad14ef1f895e",
        "IPY_MODEL_1d12600f646444a1b291c7637ad2b440",
        "IPY_MODEL_dd3aa2537c814b38b27dd755c6e5de0c"
       ],
       "layout": "IPY_MODEL_d577bbf9b1974d23a191bd2bbd19730c"
      }
     },
     "c5d89761943943868d8ab650871b1947": {
      "model_module": "@jupyter-widgets/base",
      "model_module_version": "1.1.0",
      "model_name": "LayoutModel",
      "state": {
       "width": "100%"
      }
     },
     "c686efe2613a47a4ab06df069e39bc74": {
      "model_module": "@jupyter-widgets/base",
      "model_module_version": "1.1.0",
      "model_name": "LayoutModel",
      "state": {}
     },
     "c6cf15cf1943415298423a6badba893f": {
      "model_module": "@jupyter-widgets/base",
      "model_module_version": "1.1.0",
      "model_name": "LayoutModel",
      "state": {}
     },
     "c6cfafbe45964d64b220583351fe8740": {
      "model_module": "@jupyter-widgets/base",
      "model_module_version": "1.1.0",
      "model_name": "LayoutModel",
      "state": {
       "justify_content": "center",
       "overflow_x": "auto",
       "overflow_y": "auto",
       "width": "95%"
      }
     },
     "c6df068e2de14088b5ea87181ddd9c22": {
      "model_module": "@jupyter-widgets/controls",
      "model_module_version": "1.4.0",
      "model_name": "IntProgressModel",
      "state": {
       "bar_style": "success",
       "layout": "IPY_MODEL_dc6be99b73bc4c34af5dac704f242c28",
       "max": 61360,
       "style": "IPY_MODEL_e2dbd64a9c17449eb5eddd011c7418e7"
      }
     },
     "c72fa0558e5f4f1884510f9a0946db1c": {
      "model_module": "@jupyter-widgets/controls",
      "model_module_version": "1.4.0",
      "model_name": "SliderStyleModel",
      "state": {
       "description_width": ""
      }
     },
     "c73e3eede77447a3bbde3d8a6113216c": {
      "model_module": "@jupyter-widgets/controls",
      "model_module_version": "1.4.0",
      "model_name": "DescriptionStyleModel",
      "state": {
       "description_width": "initial"
      }
     },
     "c75647831915498abf3b58ce3b7ce68c": {
      "model_module": "@jupyter-widgets/controls",
      "model_module_version": "1.4.0",
      "model_name": "HBoxModel",
      "state": {
       "children": [
        "IPY_MODEL_0ded025604a944da95ba683e5cabd58e",
        "IPY_MODEL_42262e12fc03472297ee0fce89f86f73"
       ],
       "layout": "IPY_MODEL_2380f74e608844d88529cb01fd5f5270"
      }
     },
     "c7ea48c68e9e44afbe92306fbaaffe1b": {
      "model_module": "@jupyter-widgets/base",
      "model_module_version": "1.1.0",
      "model_name": "LayoutModel",
      "state": {}
     },
     "c7fa76721ff54168bc033d57dfc55285": {
      "model_module": "@jupyter-widgets/base",
      "model_module_version": "1.1.0",
      "model_name": "LayoutModel",
      "state": {
       "width": "100%"
      }
     },
     "c85fa943d4b240d98c410832d43231be": {
      "model_module": "@jupyter-widgets/controls",
      "model_module_version": "1.4.0",
      "model_name": "VBoxModel",
      "state": {
       "children": [
        "IPY_MODEL_bf0648d02df44692b937bf97fbccf7ab",
        "IPY_MODEL_b333ff6053e84e1e96b8d9b92e86e769",
        "IPY_MODEL_b03c42f86fae49b48d7267bdf8d1393b",
        "IPY_MODEL_e34bfb304ffc40fa93f737b49185cfc1",
        "IPY_MODEL_510365c984514c549400e718fa50941e",
        "IPY_MODEL_7727b34d5806466ab7ece7e66f49b20c",
        "IPY_MODEL_d8c3afb41fd44793b3fd2abf3a1e8125",
        "IPY_MODEL_2057f7a6189344dbae2723191661e0aa"
       ],
       "layout": "IPY_MODEL_53ef6d393cd14448962c56529b4f764c"
      }
     },
     "c89f8a55b25c4794b1e1b38fa70a1020": {
      "model_module": "@jupyter-widgets/base",
      "model_module_version": "1.1.0",
      "model_name": "LayoutModel",
      "state": {
       "width": "100%"
      }
     },
     "c8dd20f48d4c4eb5a6d96e984ab3f683": {
      "model_module": "@jupyter-widgets/base",
      "model_module_version": "1.1.0",
      "model_name": "LayoutModel",
      "state": {}
     },
     "c8efb39d7f364c2f955a235e7fe869f5": {
      "model_module": "@jupyter-widgets/output",
      "model_module_version": "1.0.0",
      "model_name": "OutputModel",
      "state": {
       "layout": "IPY_MODEL_f7e618c3e8554c6cb7fa9e3bbc8af484"
      }
     },
     "c9fcabd7d86f4d62b032e906c600723b": {
      "model_module": "@jupyter-widgets/base",
      "model_module_version": "1.1.0",
      "model_name": "LayoutModel",
      "state": {}
     },
     "ca2c8b28e52f4d5a9e053ee8a34f1ce7": {
      "model_module": "@jupyter-widgets/base",
      "model_module_version": "1.1.0",
      "model_name": "LayoutModel",
      "state": {
       "width": "100%"
      }
     },
     "cab09cce6d7b48ec8933b9b44d7beda1": {
      "model_module": "@jupyter-widgets/controls",
      "model_module_version": "1.4.0",
      "model_name": "FloatSliderModel",
      "state": {
       "continuous_update": false,
       "description": "Zoom",
       "layout": "IPY_MODEL_ffc221bc34224923820fd70c27908f53",
       "max": 1,
       "step": 0.1,
       "style": "IPY_MODEL_ed79a37a55ec40e487a1bce363e8272e",
       "value": 0.5
      }
     },
     "cb3af1d129e24354b47887fdb77d64fa": {
      "model_module": "@jupyter-widgets/controls",
      "model_module_version": "1.4.0",
      "model_name": "IntTextModel",
      "state": {
       "description": "Feature columns:",
       "layout": "IPY_MODEL_06d34a6814854c8d99d897ffcab4588d",
       "step": 1,
       "style": "IPY_MODEL_e5450857f30644e1ae66091df126408a",
       "value": 3
      }
     },
     "cb411948931a488f940b4e4d9d76d3e6": {
      "model_module": "@jupyter-widgets/base",
      "model_module_version": "1.1.0",
      "model_name": "LayoutModel",
      "state": {
       "height": "40px"
      }
     },
     "cbb287ddee914e99a6493f99d5962451": {
      "model_module": "@jupyter-widgets/controls",
      "model_module_version": "1.4.0",
      "model_name": "ButtonModel",
      "state": {
       "icon": "forward",
       "layout": "IPY_MODEL_273ceabd26f04525940ef07b1167d790",
       "style": "IPY_MODEL_ce53bcffa5934d60a12428a1a7c2c981"
      }
     },
     "cbca46402fb74f6b942b15186dce8e2f": {
      "model_module": "@jupyter-widgets/base",
      "model_module_version": "1.1.0",
      "model_name": "LayoutModel",
      "state": {}
     },
     "cbe487eb0c9144b897c3b5432164f298": {
      "model_module": "@jupyter-widgets/controls",
      "model_module_version": "1.4.0",
      "model_name": "IntTextModel",
      "state": {
       "description": "Vertical space between layers:",
       "layout": "IPY_MODEL_14d4f0e898324a2eb1c4c2810a3aada8",
       "step": 1,
       "style": "IPY_MODEL_e1cc18d4fc0448cfb629d83ab8964797",
       "value": 30
      }
     },
     "cbf77f92717a4eb68de5696b79cd1928": {
      "model_module": "@jupyter-widgets/base",
      "model_module_version": "1.1.0",
      "model_name": "LayoutModel",
      "state": {
       "height": "50px",
       "width": "100%"
      }
     },
     "cc33b51ee96740b5b4b6f92ccefa1004": {
      "model_module": "@jupyter-widgets/base",
      "model_module_version": "1.1.0",
      "model_name": "LayoutModel",
      "state": {
       "width": "100%"
      }
     },
     "cc46c5cf784647a28fb1e980f84d2d66": {
      "model_module": "@jupyter-widgets/controls",
      "model_module_version": "1.4.0",
      "model_name": "CheckboxModel",
      "state": {
       "description": "Visible",
       "disabled": false,
       "layout": "IPY_MODEL_d8fc4449794c4650a49d355094a35f34",
       "style": "IPY_MODEL_d87549f3284c4a9da01ca5f64860785c",
       "value": true
      }
     },
     "cc752033e8c645dfa7ecb8723aa2b671": {
      "model_module": "@jupyter-widgets/controls",
      "model_module_version": "1.4.0",
      "model_name": "DescriptionStyleModel",
      "state": {
       "description_width": ""
      }
     },
     "cd668b78debf4a5bb87ef5faa2e1600d": {
      "model_module": "@jupyter-widgets/controls",
      "model_module_version": "1.4.0",
      "model_name": "DescriptionStyleModel",
      "state": {
       "description_width": ""
      }
     },
     "cded38b302404c1a873e594438a3d01a": {
      "model_module": "@jupyter-widgets/base",
      "model_module_version": "1.1.0",
      "model_name": "LayoutModel",
      "state": {}
     },
     "ce53bcffa5934d60a12428a1a7c2c981": {
      "model_module": "@jupyter-widgets/controls",
      "model_module_version": "1.4.0",
      "model_name": "ButtonStyleModel",
      "state": {}
     },
     "ce838144d7584750acbb11d77e5dbcfe": {
      "model_module": "@jupyter-widgets/base",
      "model_module_version": "1.1.0",
      "model_name": "LayoutModel",
      "state": {
       "height": "50px",
       "width": "100%"
      }
     },
     "cea858b50a414a4084725886aefd7ad5": {
      "model_module": "@jupyter-widgets/base",
      "model_module_version": "1.1.0",
      "model_name": "LayoutModel",
      "state": {
       "height": "40px"
      }
     },
     "ceb6d3308c9b4b2591ea8febe30461e7": {
      "model_module": "@jupyter-widgets/controls",
      "model_module_version": "1.4.0",
      "model_name": "ButtonModel",
      "state": {
       "description": "Play",
       "icon": "play",
       "layout": "IPY_MODEL_631137fb35314d4a8b314e0bf13bd7c3",
       "style": "IPY_MODEL_7299beb352ad41ebba6e99a56f10b90b"
      }
     },
     "cf0df307c4ee489d992aa42877d1845b": {
      "model_module": "@jupyter-widgets/base",
      "model_module_version": "1.1.0",
      "model_name": "LayoutModel",
      "state": {
       "width": "10%"
      }
     },
     "cf4786d013c940fb84066b6094c5b978": {
      "model_module": "@jupyter-widgets/controls",
      "model_module_version": "1.4.0",
      "model_name": "ButtonStyleModel",
      "state": {}
     },
     "d008b82e97884c34a5f46feae5e51593": {
      "model_module": "@jupyter-widgets/controls",
      "model_module_version": "1.4.0",
      "model_name": "HBoxModel",
      "state": {
       "children": [
        "IPY_MODEL_f1d1b7560fcd42ee9ee71e5e2f344616",
        "IPY_MODEL_3d4346f713e942a9aa0dc33ef94754ee"
       ],
       "layout": "IPY_MODEL_cea858b50a414a4084725886aefd7ad5"
      }
     },
     "d04004eed3d04a2aad834b707ef3360c": {
      "model_module": "@jupyter-widgets/base",
      "model_module_version": "1.1.0",
      "model_name": "LayoutModel",
      "state": {}
     },
     "d056e3903f9b4c8f9bee9dd809063845": {
      "model_module": "@jupyter-widgets/controls",
      "model_module_version": "1.4.0",
      "model_name": "CheckboxModel",
      "state": {
       "description": "Rotate network",
       "disabled": false,
       "layout": "IPY_MODEL_28e86177b81147d9ba6327e735c76df2",
       "style": "IPY_MODEL_eb3b37fd58e748e8871e6bd2a208abb7",
       "value": false
      }
     },
     "d088c55fb8ea4d779e7c790a9eef03cb": {
      "model_module": "@jupyter-widgets/controls",
      "model_module_version": "1.4.0",
      "model_name": "DescriptionStyleModel",
      "state": {
       "description_width": ""
      }
     },
     "d0b1f32cf36647a5948d4523a4055424": {
      "model_module": "@jupyter-widgets/base",
      "model_module_version": "1.1.0",
      "model_name": "LayoutModel",
      "state": {}
     },
     "d0df4d8f4b9e4ce8a5ffcc4f6a62b7e0": {
      "model_module": "@jupyter-widgets/controls",
      "model_module_version": "1.4.0",
      "model_name": "CheckboxModel",
      "state": {
       "description": "Show Targets",
       "disabled": false,
       "layout": "IPY_MODEL_b8bb692474f2405d995d4f83ecffe9f8",
       "style": "IPY_MODEL_9f4dc4f012bc45cca1914578888bd5d1",
       "value": true
      }
     },
     "d114d2110da0411f9c3e00c7759ccf21": {
      "model_module": "@jupyter-widgets/controls",
      "model_module_version": "1.4.0",
      "model_name": "DescriptionStyleModel",
      "state": {
       "description_width": "initial"
      }
     },
     "d24ab5d18a674f31bb779e4956ec83f6": {
      "model_module": "@jupyter-widgets/controls",
      "model_module_version": "1.4.0",
      "model_name": "FloatTextModel",
      "state": {
       "description": "Rightmost color maps to:",
       "layout": "IPY_MODEL_059fbed2da714551893c9790a7c3aa19",
       "step": null,
       "style": "IPY_MODEL_6aaa25a7f2a246f281d7c89673ee80bf",
       "value": 1
      }
     },
     "d2f7270402f54f02a98682442cddc3ae": {
      "model_module": "@jupyter-widgets/controls",
      "model_module_version": "1.4.0",
      "model_name": "DescriptionStyleModel",
      "state": {
       "description_width": ""
      }
     },
     "d4082a47b6f146eab0aeb62b9387a01c": {
      "model_module": "@jupyter-widgets/controls",
      "model_module_version": "1.4.0",
      "model_name": "CheckboxModel",
      "state": {
       "description": "Rotate",
       "disabled": false,
       "layout": "IPY_MODEL_14d4f0e898324a2eb1c4c2810a3aada8",
       "style": "IPY_MODEL_d67639dba0db4a08b345a8134f680544",
       "value": true
      }
     },
     "d416e30b66e24090a74047c8da13478e": {
      "model_module": "@jupyter-widgets/controls",
      "model_module_version": "1.4.0",
      "model_name": "ButtonStyleModel",
      "state": {}
     },
     "d451026103b34da7a81cd92051f155d7": {
      "model_module": "@jupyter-widgets/controls",
      "model_module_version": "1.4.0",
      "model_name": "ButtonStyleModel",
      "state": {}
     },
     "d5391edb0b924877be091d8116d724a8": {
      "model_module": "@jupyter-widgets/base",
      "model_module_version": "1.1.0",
      "model_name": "LayoutModel",
      "state": {}
     },
     "d577bbf9b1974d23a191bd2bbd19730c": {
      "model_module": "@jupyter-widgets/base",
      "model_module_version": "1.1.0",
      "model_name": "LayoutModel",
      "state": {
       "width": "100%"
      }
     },
     "d5c9367032da4e188abf23a300fb0bc0": {
      "model_module": "@jupyter-widgets/base",
      "model_module_version": "1.1.0",
      "model_name": "LayoutModel",
      "state": {}
     },
     "d5f5fd96518c4f83bd94b41fa8ada881": {
      "model_module": "@jupyter-widgets/controls",
      "model_module_version": "1.4.0",
      "model_name": "ButtonStyleModel",
      "state": {}
     },
     "d6072a6dcc094f3fab229928fbf35e03": {
      "model_module": "@jupyter-widgets/controls",
      "model_module_version": "1.4.0",
      "model_name": "CheckboxModel",
      "state": {
       "description": "Visible",
       "disabled": false,
       "layout": "IPY_MODEL_e139e1e900c4499f96e6f598e0f88837",
       "style": "IPY_MODEL_b29a85d7d40d42ea81367a14a7bd37b4",
       "value": true
      }
     },
     "d62b67564c6d405d9d18a35b31e9d459": {
      "model_module": "@jupyter-widgets/controls",
      "model_module_version": "1.4.0",
      "model_name": "ButtonStyleModel",
      "state": {}
     },
     "d67639dba0db4a08b345a8134f680544": {
      "model_module": "@jupyter-widgets/controls",
      "model_module_version": "1.4.0",
      "model_name": "DescriptionStyleModel",
      "state": {
       "description_width": ""
      }
     },
     "d7418fb805864bb78cd924e541de406e": {
      "model_module": "@jupyter-widgets/controls",
      "model_module_version": "1.4.0",
      "model_name": "CheckboxModel",
      "state": {
       "description": "Visible",
       "disabled": false,
       "layout": "IPY_MODEL_b8bb692474f2405d995d4f83ecffe9f8",
       "style": "IPY_MODEL_90db0e70ee0547e496f981ea80868304",
       "value": true
      }
     },
     "d7a5a74eab924810b60ed2b1bcf68e7b": {
      "model_module": "@jupyter-widgets/controls",
      "model_module_version": "1.4.0",
      "model_name": "ButtonModel",
      "state": {
       "icon": "save",
       "layout": "IPY_MODEL_f768bc9a29394abd8f0b23532de17200",
       "style": "IPY_MODEL_e5dd65cba4174a48a448e25bdbd688f5"
      }
     },
     "d87549f3284c4a9da01ca5f64860785c": {
      "model_module": "@jupyter-widgets/controls",
      "model_module_version": "1.4.0",
      "model_name": "DescriptionStyleModel",
      "state": {
       "description_width": ""
      }
     },
     "d8c3afb41fd44793b3fd2abf3a1e8125": {
      "model_module": "@jupyter-widgets/controls",
      "model_module_version": "1.4.0",
      "model_name": "IntTextModel",
      "state": {
       "description": "Feature to show:",
       "layout": "IPY_MODEL_122af28038e94cdd82c315f57bc32a3d",
       "step": 1,
       "style": "IPY_MODEL_64b70376b34f441ca1ff117e3fd46e75"
      }
     },
     "d8fc4449794c4650a49d355094a35f34": {
      "model_module": "@jupyter-widgets/base",
      "model_module_version": "1.1.0",
      "model_name": "LayoutModel",
      "state": {}
     },
     "d9d032e2e3aa49d2a61ea86d261faadd": {
      "model_module": "@jupyter-widgets/controls",
      "model_module_version": "1.4.0",
      "model_name": "ButtonModel",
      "state": {
       "description": "Play",
       "icon": "play",
       "layout": "IPY_MODEL_53b5a49873154c2e9cb32bee86730658",
       "style": "IPY_MODEL_38152775246c46e7b0c65475990cbe4f"
      }
     },
     "dbaafbc2b9124edab455c116cf9c27e2": {
      "model_module": "@jupyter-widgets/controls",
      "model_module_version": "1.4.0",
      "model_name": "DescriptionStyleModel",
      "state": {
       "description_width": ""
      }
     },
     "dbf05c22873e463caacf9d44be6ba19f": {
      "model_module": "@jupyter-widgets/controls",
      "model_module_version": "1.4.0",
      "model_name": "DescriptionStyleModel",
      "state": {
       "description_width": ""
      }
     },
     "dc6be99b73bc4c34af5dac704f242c28": {
      "model_module": "@jupyter-widgets/base",
      "model_module_version": "1.1.0",
      "model_name": "LayoutModel",
      "state": {}
     },
     "dcf03e7959084bd8b37f84eba97c218d": {
      "model_module": "@jupyter-widgets/controls",
      "model_module_version": "1.4.0",
      "model_name": "IntTextModel",
      "state": {
       "description": "Horizontal space between banks:",
       "layout": "IPY_MODEL_30933640a09742e4b0eb1ce1858fd397",
       "step": 1,
       "style": "IPY_MODEL_a35b217c338745febc658c203ec5d390",
       "value": 150
      }
     },
     "dd1eb48839f045cc9311748703434b35": {
      "model_module": "@jupyter-widgets/controls",
      "model_module_version": "1.4.0",
      "model_name": "ButtonStyleModel",
      "state": {}
     },
     "dd257b97abd44715b6da4f20fbb3e62f": {
      "model_module": "@jupyter-widgets/controls",
      "model_module_version": "1.4.0",
      "model_name": "SelectModel",
      "state": {
       "_options_labels": [
        "input",
        "rnn",
        "output"
       ],
       "description": "Layer:",
       "index": 2,
       "layout": "IPY_MODEL_3e9b561d28d84af5b810ac3127e89d89",
       "rows": 1,
       "style": "IPY_MODEL_e266048854664e1e895284645a7c0a4b"
      }
     },
     "dd3aa2537c814b38b27dd755c6e5de0c": {
      "model_module": "@jupyter-widgets/controls",
      "model_module_version": "1.4.0",
      "model_name": "FloatTextModel",
      "state": {
       "description": "Feature scale:",
       "layout": "IPY_MODEL_0efe26fcb66949fb87943cbb3ea0140b",
       "step": null,
       "style": "IPY_MODEL_07ab515b4c9b46e0b5b0c1bdff6d767a",
       "value": 1
      }
     },
     "dd5ca5eb9cb342bd89dba558ec18eeef": {
      "model_module": "@jupyter-widgets/controls",
      "model_module_version": "1.4.0",
      "model_name": "VBoxModel",
      "state": {
       "children": [
        "IPY_MODEL_1d56c77f70da4228a23e5d6e270177a8",
        "IPY_MODEL_8ec97e81fb6f488bbe895fbb6553129d"
       ],
       "layout": "IPY_MODEL_bccf923ffbdc4fa5a546ee560a4323c7"
      }
     },
     "dd6f5a45284f4df6afc442eea60a4e9a": {
      "model_module": "@jupyter-widgets/base",
      "model_module_version": "1.1.0",
      "model_name": "LayoutModel",
      "state": {
       "height": "50px",
       "width": "100%"
      }
     },
     "de7e8d98284e4b678353aca1356b481f": {
      "model_module": "@jupyter-widgets/output",
      "model_module_version": "1.0.0",
      "model_name": "OutputModel",
      "state": {
       "layout": "IPY_MODEL_6f5cac8f3f184b8f892a15081bccc0aa"
      }
     },
     "df175d9035f34a0c9fdebb7d656091f6": {
      "model_module": "@jupyter-widgets/controls",
      "model_module_version": "1.4.0",
      "model_name": "FloatTextModel",
      "state": {
       "description": "Rightmost color maps to:",
       "layout": "IPY_MODEL_27e1e81c430a4c1a811dc2d54c020558",
       "step": null,
       "style": "IPY_MODEL_821b4cdf2b404d5e92766261ddd06d0b",
       "value": 1
      }
     },
     "df2508ec6c234fa193719d22be6b3a62": {
      "model_module": "@jupyter-widgets/controls",
      "model_module_version": "1.4.0",
      "model_name": "LabelModel",
      "state": {
       "layout": "IPY_MODEL_f62551dade5a4286849a4100fcec91c8",
       "style": "IPY_MODEL_41af06b63a284104bbde5d315f03567e",
       "value": "of 158773"
      }
     },
     "e0246607c41c4d5ca5ad63d080b35429": {
      "model_module": "@jupyter-widgets/controls",
      "model_module_version": "1.4.0",
      "model_name": "CheckboxModel",
      "state": {
       "description": "Errors",
       "disabled": false,
       "layout": "IPY_MODEL_230163d5fc0b4bd9815d530afff80cc8",
       "style": "IPY_MODEL_06894ffeba9943509d4be3c7356f50a0",
       "value": false
      }
     },
     "e0817602e66e4125886e76c31f7e77e4": {
      "model_module": "@jupyter-widgets/controls",
      "model_module_version": "1.4.0",
      "model_name": "FloatTextModel",
      "state": {
       "description": "Leftmost color maps to:",
       "layout": "IPY_MODEL_8313a132d02348ef9017652fca5f2546",
       "step": null,
       "style": "IPY_MODEL_f22bbc2aef9c42018ae9608a42e031fa"
      }
     },
     "e0891f2f84934c67891adc190f2f71d3": {
      "model_module": "@jupyter-widgets/controls",
      "model_module_version": "1.4.0",
      "model_name": "ButtonStyleModel",
      "state": {}
     },
     "e139e1e900c4499f96e6f598e0f88837": {
      "model_module": "@jupyter-widgets/base",
      "model_module_version": "1.1.0",
      "model_name": "LayoutModel",
      "state": {}
     },
     "e13c01e1628843969b0a9a69db650787": {
      "model_module": "@jupyter-widgets/controls",
      "model_module_version": "1.4.0",
      "model_name": "AccordionModel",
      "state": {
       "_titles": {
        "0": "Alice in Wonderland"
       },
       "children": [
        "IPY_MODEL_b539a79db4424c0f832744ba258ca165"
       ],
       "layout": "IPY_MODEL_d0b1f32cf36647a5948d4523a4055424",
       "selected_index": null
      }
     },
     "e1a59df98d984e88ae3e996084bd04d6": {
      "model_module": "@jupyter-widgets/controls",
      "model_module_version": "1.4.0",
      "model_name": "CheckboxModel",
      "state": {
       "description": "Visible",
       "disabled": false,
       "layout": "IPY_MODEL_230163d5fc0b4bd9815d530afff80cc8",
       "style": "IPY_MODEL_98a1562f17944bb0be7563abfad19843",
       "value": true
      }
     },
     "e1cc18d4fc0448cfb629d83ab8964797": {
      "model_module": "@jupyter-widgets/controls",
      "model_module_version": "1.4.0",
      "model_name": "DescriptionStyleModel",
      "state": {
       "description_width": "initial"
      }
     },
     "e205d28d6a0344d18d25c6ba98230952": {
      "model_module": "@jupyter-widgets/controls",
      "model_module_version": "1.4.0",
      "model_name": "SelectModel",
      "state": {
       "_options_labels": [
        "",
        "Accent",
        "Accent_r",
        "Blues",
        "Blues_r",
        "BrBG",
        "BrBG_r",
        "BuGn",
        "BuGn_r",
        "BuPu",
        "BuPu_r",
        "CMRmap",
        "CMRmap_r",
        "Dark2",
        "Dark2_r",
        "GnBu",
        "GnBu_r",
        "Greens",
        "Greens_r",
        "Greys",
        "Greys_r",
        "OrRd",
        "OrRd_r",
        "Oranges",
        "Oranges_r",
        "PRGn",
        "PRGn_r",
        "Paired",
        "Paired_r",
        "Pastel1",
        "Pastel1_r",
        "Pastel2",
        "Pastel2_r",
        "PiYG",
        "PiYG_r",
        "PuBu",
        "PuBuGn",
        "PuBuGn_r",
        "PuBu_r",
        "PuOr",
        "PuOr_r",
        "PuRd",
        "PuRd_r",
        "Purples",
        "Purples_r",
        "RdBu",
        "RdBu_r",
        "RdGy",
        "RdGy_r",
        "RdPu",
        "RdPu_r",
        "RdYlBu",
        "RdYlBu_r",
        "RdYlGn",
        "RdYlGn_r",
        "Reds",
        "Reds_r",
        "Set1",
        "Set1_r",
        "Set2",
        "Set2_r",
        "Set3",
        "Set3_r",
        "Spectral",
        "Spectral_r",
        "Vega10",
        "Vega10_r",
        "Vega20",
        "Vega20_r",
        "Vega20b",
        "Vega20b_r",
        "Vega20c",
        "Vega20c_r",
        "Wistia",
        "Wistia_r",
        "YlGn",
        "YlGnBu",
        "YlGnBu_r",
        "YlGn_r",
        "YlOrBr",
        "YlOrBr_r",
        "YlOrRd",
        "YlOrRd_r",
        "afmhot",
        "afmhot_r",
        "autumn",
        "autumn_r",
        "binary",
        "binary_r",
        "bone",
        "bone_r",
        "brg",
        "brg_r",
        "bwr",
        "bwr_r",
        "cool",
        "cool_r",
        "coolwarm",
        "coolwarm_r",
        "copper",
        "copper_r",
        "cubehelix",
        "cubehelix_r",
        "flag",
        "flag_r",
        "gist_earth",
        "gist_earth_r",
        "gist_gray",
        "gist_gray_r",
        "gist_heat",
        "gist_heat_r",
        "gist_ncar",
        "gist_ncar_r",
        "gist_rainbow",
        "gist_rainbow_r",
        "gist_stern",
        "gist_stern_r",
        "gist_yarg",
        "gist_yarg_r",
        "gnuplot",
        "gnuplot2",
        "gnuplot2_r",
        "gnuplot_r",
        "gray",
        "gray_r",
        "hot",
        "hot_r",
        "hsv",
        "hsv_r",
        "inferno",
        "inferno_r",
        "jet",
        "jet_r",
        "magma",
        "magma_r",
        "nipy_spectral",
        "nipy_spectral_r",
        "ocean",
        "ocean_r",
        "pink",
        "pink_r",
        "plasma",
        "plasma_r",
        "prism",
        "prism_r",
        "rainbow",
        "rainbow_r",
        "seismic",
        "seismic_r",
        "spectral",
        "spectral_r",
        "spring",
        "spring_r",
        "summer",
        "summer_r",
        "tab10",
        "tab10_r",
        "tab20",
        "tab20_r",
        "tab20b",
        "tab20b_r",
        "tab20c",
        "tab20c_r",
        "terrain",
        "terrain_r",
        "viridis",
        "viridis_r",
        "winter",
        "winter_r"
       ],
       "description": "Colormap:",
       "index": 123,
       "layout": "IPY_MODEL_b8bb692474f2405d995d4f83ecffe9f8",
       "rows": 1,
       "style": "IPY_MODEL_98df5cff99344e49ad6b2780dcc4c9f8"
      }
     },
     "e225b04f82614dfaacbbb2f03c0683f6": {
      "model_module": "@jupyter-widgets/controls",
      "model_module_version": "1.4.0",
      "model_name": "ButtonStyleModel",
      "state": {}
     },
     "e266048854664e1e895284645a7c0a4b": {
      "model_module": "@jupyter-widgets/controls",
      "model_module_version": "1.4.0",
      "model_name": "DescriptionStyleModel",
      "state": {
       "description_width": ""
      }
     },
     "e2dbd64a9c17449eb5eddd011c7418e7": {
      "model_module": "@jupyter-widgets/controls",
      "model_module_version": "1.4.0",
      "model_name": "ProgressStyleModel",
      "state": {
       "description_width": ""
      }
     },
     "e34bfb304ffc40fa93f737b49185cfc1": {
      "model_module": "@jupyter-widgets/controls",
      "model_module_version": "1.4.0",
      "model_name": "HTMLModel",
      "state": {
       "layout": "IPY_MODEL_b1f87582a8724cbba4042abe854721cc",
       "style": "IPY_MODEL_8ae39f8a5d864b1fb8ce437d35a7881b",
       "value": "<img src=\"data:image/gif;base64,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\"/>"
      }
     },
     "e3eb897d543b4b6699ed4fdf472a5965": {
      "model_module": "@jupyter-widgets/controls",
      "model_module_version": "1.4.0",
      "model_name": "FloatTextModel",
      "state": {
       "description": "Rightmost color maps to:",
       "layout": "IPY_MODEL_a359d3ba571c423e911721075d7cee8d",
       "step": null,
       "style": "IPY_MODEL_d114d2110da0411f9c3e00c7759ccf21",
       "value": 1
      }
     },
     "e41ba04bf47b4214942fa07a462a7811": {
      "model_module": "@jupyter-widgets/base",
      "model_module_version": "1.1.0",
      "model_name": "LayoutModel",
      "state": {
       "width": "25%"
      }
     },
     "e4af68a85ded47a5bc0dff035be34d9a": {
      "model_module": "@jupyter-widgets/base",
      "model_module_version": "1.1.0",
      "model_name": "LayoutModel",
      "state": {
       "justify_content": "center",
       "overflow_x": "auto",
       "overflow_y": "auto",
       "width": "95%"
      }
     },
     "e5119bf48d474319ae0209b4331b7720": {
      "model_module": "@jupyter-widgets/base",
      "model_module_version": "1.1.0",
      "model_name": "LayoutModel",
      "state": {
       "width": "100px"
      }
     },
     "e5450857f30644e1ae66091df126408a": {
      "model_module": "@jupyter-widgets/controls",
      "model_module_version": "1.4.0",
      "model_name": "DescriptionStyleModel",
      "state": {
       "description_width": "initial"
      }
     },
     "e5b4c775c8664453a22c25da2df67ea8": {
      "model_module": "@jupyter-widgets/base",
      "model_module_version": "1.1.0",
      "model_name": "LayoutModel",
      "state": {
       "width": "100%"
      }
     },
     "e5dd65cba4174a48a448e25bdbd688f5": {
      "model_module": "@jupyter-widgets/controls",
      "model_module_version": "1.4.0",
      "model_name": "ButtonStyleModel",
      "state": {}
     },
     "e5dff3b47fb048f8987406d1f847a599": {
      "model_module": "@jupyter-widgets/controls",
      "model_module_version": "1.4.0",
      "model_name": "HTMLModel",
      "state": {
       "layout": "IPY_MODEL_2422ae06dbe1492291afbbadc7a7da86",
       "style": "IPY_MODEL_b608aba0cb234d1aac768b5c6cdfe686",
       "value": "<img src=\"data:image/gif;base64,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\"/>"
      }
     },
     "e6393e1380cf4f2aa5d1733e9287a7b4": {
      "model_module": "@jupyter-widgets/controls",
      "model_module_version": "1.4.0",
      "model_name": "CheckboxModel",
      "state": {
       "description": "Show Targets",
       "disabled": false,
       "layout": "IPY_MODEL_14d4f0e898324a2eb1c4c2810a3aada8",
       "style": "IPY_MODEL_437a886a17de446b9c0d1e171812d87d",
       "value": true
      }
     },
     "e6abddeee4e54f2584d4b6769b74762c": {
      "model_module": "@jupyter-widgets/controls",
      "model_module_version": "1.4.0",
      "model_name": "ButtonStyleModel",
      "state": {}
     },
     "e6ae91ece20b4fc0b922aa0527563cb3": {
      "model_module": "@jupyter-widgets/base",
      "model_module_version": "1.1.0",
      "model_name": "LayoutModel",
      "state": {
       "width": "100%"
      }
     },
     "e6b8e06496cc4c01806ce95a56ae97c7": {
      "model_module": "@jupyter-widgets/controls",
      "model_module_version": "1.4.0",
      "model_name": "SliderStyleModel",
      "state": {
       "description_width": "initial"
      }
     },
     "e6d93b299dcb40b19f0967d4fc340eb6": {
      "model_module": "@jupyter-widgets/base",
      "model_module_version": "1.1.0",
      "model_name": "LayoutModel",
      "state": {}
     },
     "e6e3c1ab148c4285a6a0d0e3583ef1f9": {
      "model_module": "@jupyter-widgets/controls",
      "model_module_version": "1.4.0",
      "model_name": "DescriptionStyleModel",
      "state": {
       "description_width": ""
      }
     },
     "e7279b8be3384942aa5f8f3f146c21db": {
      "model_module": "@jupyter-widgets/base",
      "model_module_version": "1.1.0",
      "model_name": "LayoutModel",
      "state": {}
     },
     "e75fcc0fe4224156b4f7ef57ee525e2e": {
      "model_module": "@jupyter-widgets/controls",
      "model_module_version": "1.4.0",
      "model_name": "ButtonStyleModel",
      "state": {}
     },
     "e8df263471964778947c9f8c62ce775a": {
      "model_module": "@jupyter-widgets/controls",
      "model_module_version": "1.4.0",
      "model_name": "DescriptionStyleModel",
      "state": {
       "description_width": "initial"
      }
     },
     "e8f2265cd2c14a58b863ff057042bdd7": {
      "model_module": "@jupyter-widgets/base",
      "model_module_version": "1.1.0",
      "model_name": "LayoutModel",
      "state": {}
     },
     "e9a5c4aaa34d480ead7e69e7954eca4f": {
      "model_module": "@jupyter-widgets/controls",
      "model_module_version": "1.4.0",
      "model_name": "CheckboxModel",
      "state": {
       "description": "Visible",
       "disabled": false,
       "layout": "IPY_MODEL_30933640a09742e4b0eb1ce1858fd397",
       "style": "IPY_MODEL_c2e13342cc624ab9a52849dc065b5631",
       "value": true
      }
     },
     "e9ec54dcf38d4bab8a62ecd39d94839b": {
      "model_module": "@jupyter-widgets/base",
      "model_module_version": "1.1.0",
      "model_name": "LayoutModel",
      "state": {
       "width": "25%"
      }
     },
     "e9f46e9e28014970b0ff03f273760c4f": {
      "model_module": "@jupyter-widgets/controls",
      "model_module_version": "1.4.0",
      "model_name": "VBoxModel",
      "state": {
       "children": [
        "IPY_MODEL_fad176e707e644efac57525051f24ebe",
        "IPY_MODEL_a284b6cef18e49e5883960a798c3d7d7"
       ],
       "layout": "IPY_MODEL_3c4db26541ff4d968184177b5d2bd88d"
      }
     },
     "e9fb2a20994144be806f6901b7c10a48": {
      "model_module": "@jupyter-widgets/controls",
      "model_module_version": "1.4.0",
      "model_name": "VBoxModel",
      "state": {
       "children": [
        "IPY_MODEL_9e1e977d2fda4d14953ce5d45a394208",
        "IPY_MODEL_757820c4656649268a83e0190d0c1b30"
       ],
       "layout": "IPY_MODEL_ab1c7039ec3049e7836b7bdb710a0fed"
      }
     },
     "ea1628ee06c540bfb94aece81a189dae": {
      "model_module": "@jupyter-widgets/base",
      "model_module_version": "1.1.0",
      "model_name": "LayoutModel",
      "state": {}
     },
     "eae4d96b89a1432f90ba3e9c4dfccd71": {
      "model_module": "@jupyter-widgets/base",
      "model_module_version": "1.1.0",
      "model_name": "LayoutModel",
      "state": {
       "width": "100%"
      }
     },
     "eb0b580f21044e7cb08a10282df93a8b": {
      "model_module": "@jupyter-widgets/controls",
      "model_module_version": "1.4.0",
      "model_name": "ButtonModel",
      "state": {
       "icon": "backward",
       "layout": "IPY_MODEL_c89f8a55b25c4794b1e1b38fa70a1020",
       "style": "IPY_MODEL_3780b1b48a82492fb8bf28d4b23000ba"
      }
     },
     "eb3b37fd58e748e8871e6bd2a208abb7": {
      "model_module": "@jupyter-widgets/controls",
      "model_module_version": "1.4.0",
      "model_name": "DescriptionStyleModel",
      "state": {
       "description_width": "initial"
      }
     },
     "ec2db4ddc1674fc99ab03c8efb6f6c5d": {
      "model_module": "@jupyter-widgets/base",
      "model_module_version": "1.1.0",
      "model_name": "LayoutModel",
      "state": {
       "height": "40px"
      }
     },
     "ec7d07d7f7c641658dcd100922ef72c7": {
      "model_module": "@jupyter-widgets/controls",
      "model_module_version": "1.4.0",
      "model_name": "ButtonStyleModel",
      "state": {}
     },
     "ecf34d4f5e04410cadd8761e43e3964b": {
      "model_module": "@jupyter-widgets/base",
      "model_module_version": "1.1.0",
      "model_name": "LayoutModel",
      "state": {}
     },
     "ed79a37a55ec40e487a1bce363e8272e": {
      "model_module": "@jupyter-widgets/controls",
      "model_module_version": "1.4.0",
      "model_name": "SliderStyleModel",
      "state": {
       "description_width": "initial"
      }
     },
     "edae73d19216460fb6ed56255f335190": {
      "model_module": "@jupyter-widgets/base",
      "model_module_version": "1.1.0",
      "model_name": "LayoutModel",
      "state": {
       "height": "40px"
      }
     },
     "edce48cb2d204744b835d93438f92103": {
      "model_module": "@jupyter-widgets/controls",
      "model_module_version": "1.4.0",
      "model_name": "LabelModel",
      "state": {
       "layout": "IPY_MODEL_95577021dd314f61b9ba6e993b0ef89b",
       "style": "IPY_MODEL_97bb2b5e26d44b3baf6a565a28b7437a",
       "value": "of 158773"
      }
     },
     "edff5989499449b287deb7db1c96392b": {
      "model_module": "@jupyter-widgets/controls",
      "model_module_version": "1.4.0",
      "model_name": "HBoxModel",
      "state": {
       "children": [
        "IPY_MODEL_bd0ee60aa87f4e5a9394bac157f64ef4",
        "IPY_MODEL_1e7a44df39e34c0b99817cd4e6a37ce8"
       ],
       "layout": "IPY_MODEL_bf5734bfabc647ae9999f933695b0450"
      }
     },
     "ee1dd61b788047c2b46a4b10a90c1bd0": {
      "model_module": "@jupyter-widgets/base",
      "model_module_version": "1.1.0",
      "model_name": "LayoutModel",
      "state": {}
     },
     "ee2f88315a1f443497549f89a1eb47f0": {
      "model_module": "@jupyter-widgets/controls",
      "model_module_version": "1.4.0",
      "model_name": "FloatTextModel",
      "state": {
       "description": "Leftmost color maps to:",
       "layout": "IPY_MODEL_5b2b800e91c74646a83e2e19e694a041",
       "step": null,
       "style": "IPY_MODEL_64ebfa2f826d467a8c89c24a4c151db5"
      }
     },
     "ee5f6e1c9dce4eafa161b6958e543fda": {
      "model_module": "@jupyter-widgets/controls",
      "model_module_version": "1.4.0",
      "model_name": "ButtonStyleModel",
      "state": {}
     },
     "eee970fb37634caea6af5f0e1215c46c": {
      "model_module": "@jupyter-widgets/controls",
      "model_module_version": "1.4.0",
      "model_name": "ButtonStyleModel",
      "state": {}
     },
     "ef3cbb78583b444eb299ee9c8ecb9998": {
      "model_module": "@jupyter-widgets/base",
      "model_module_version": "1.1.0",
      "model_name": "LayoutModel",
      "state": {
       "width": "100%"
      }
     },
     "ef9f84e87a3248538e46a0fddd37aee0": {
      "model_module": "@jupyter-widgets/controls",
      "model_module_version": "1.4.0",
      "model_name": "CheckboxModel",
      "state": {
       "description": "Rotate",
       "disabled": false,
       "layout": "IPY_MODEL_c686efe2613a47a4ab06df069e39bc74",
       "style": "IPY_MODEL_591d944fdddc49e0a403bfe448db8e9a",
       "value": true
      }
     },
     "f022c8ab44174615a24a8eb3ca42d603": {
      "model_module": "@jupyter-widgets/base",
      "model_module_version": "1.1.0",
      "model_name": "LayoutModel",
      "state": {
       "width": "100%"
      }
     },
     "f0af001ddd1e4a77a3cb31956ae151c8": {
      "model_module": "@jupyter-widgets/controls",
      "model_module_version": "1.4.0",
      "model_name": "ButtonModel",
      "state": {
       "icon": "save",
       "layout": "IPY_MODEL_cf0df307c4ee489d992aa42877d1845b",
       "style": "IPY_MODEL_9583db0c94a54498be0db0aa5df36f06"
      }
     },
     "f0c1e8d332f94d4483b0239456df06d3": {
      "model_module": "@jupyter-widgets/controls",
      "model_module_version": "1.4.0",
      "model_name": "LabelModel",
      "state": {
       "layout": "IPY_MODEL_38ce782adcb74663808943679b1583b7",
       "style": "IPY_MODEL_3ab081513da245bba167bceb68b8763b",
       "value": "of 158773"
      }
     },
     "f10dab9907ea423bae69cc1cb70fac81": {
      "model_module": "@jupyter-widgets/base",
      "model_module_version": "1.1.0",
      "model_name": "LayoutModel",
      "state": {}
     },
     "f15dd5679b3b4cb6b9114a7f435a688a": {
      "model_module": "@jupyter-widgets/controls",
      "model_module_version": "1.4.0",
      "model_name": "ButtonModel",
      "state": {
       "icon": "fast-forward",
       "layout": "IPY_MODEL_ca2c8b28e52f4d5a9e053ee8a34f1ce7",
       "style": "IPY_MODEL_9c9a8d7e15d44221a1b51c049358a932"
      }
     },
     "f1d1b7560fcd42ee9ee71e5e2f344616": {
      "model_module": "@jupyter-widgets/controls",
      "model_module_version": "1.4.0",
      "model_name": "IntSliderModel",
      "state": {
       "continuous_update": false,
       "description": "Dataset index",
       "layout": "IPY_MODEL_01663c64aaed41519969adf7dfa84139",
       "max": 158772,
       "style": "IPY_MODEL_af7b745e75c84664bec028cc2a098951",
       "value": 11
      }
     },
     "f1d9e9d48e6a47969dc79a774b37a6e7": {
      "model_module": "@jupyter-widgets/controls",
      "model_module_version": "1.4.0",
      "model_name": "CheckboxModel",
      "state": {
       "description": "Rotate network",
       "disabled": false,
       "layout": "IPY_MODEL_95b0846dfbba45d8bc678e9e2da2505c",
       "style": "IPY_MODEL_c1f7c157743b46e98ce5931dc8f2fede",
       "value": false
      }
     },
     "f2121c022fae45ffa93f81db301372a5": {
      "model_module": "@jupyter-widgets/controls",
      "model_module_version": "1.4.0",
      "model_name": "ButtonStyleModel",
      "state": {}
     },
     "f22bbc2aef9c42018ae9608a42e031fa": {
      "model_module": "@jupyter-widgets/controls",
      "model_module_version": "1.4.0",
      "model_name": "DescriptionStyleModel",
      "state": {
       "description_width": "initial"
      }
     },
     "f2e829d184914ee4bab946a6d0ed2dec": {
      "model_module": "@jupyter-widgets/controls",
      "model_module_version": "1.4.0",
      "model_name": "DescriptionStyleModel",
      "state": {
       "description_width": ""
      }
     },
     "f301b9bf7bfa4ce5a27bf728b31989e4": {
      "model_module": "@jupyter-widgets/controls",
      "model_module_version": "1.4.0",
      "model_name": "FloatTextModel",
      "state": {
       "description": "Leftmost color maps to:",
       "layout": "IPY_MODEL_6b7313184b37418e8189eb3b2bb42a72",
       "step": null,
       "style": "IPY_MODEL_124734443c84482593f605da5aaf9f92"
      }
     },
     "f32506bf00ab4d0597f1a29c040422bb": {
      "model_module": "@jupyter-widgets/base",
      "model_module_version": "1.1.0",
      "model_name": "LayoutModel",
      "state": {
       "width": "10%"
      }
     },
     "f39bdfa825fe452e820ad2a1b6664ade": {
      "model_module": "@jupyter-widgets/base",
      "model_module_version": "1.1.0",
      "model_name": "LayoutModel",
      "state": {}
     },
     "f401d623aff64c83a044a4e29bddfb5a": {
      "model_module": "@jupyter-widgets/controls",
      "model_module_version": "1.4.0",
      "model_name": "SelectModel",
      "state": {
       "_options_labels": [
        "Test",
        "Train"
       ],
       "description": "Dataset:",
       "index": 1,
       "layout": "IPY_MODEL_7520df0fd18f40929776568956bd1656",
       "rows": 1,
       "style": "IPY_MODEL_253bde0615a74b6f92451dcb00bcb6cd"
      }
     },
     "f413c373eb384de0b50dfa69f03e02c9": {
      "model_module": "@jupyter-widgets/controls",
      "model_module_version": "1.4.0",
      "model_name": "DescriptionStyleModel",
      "state": {
       "description_width": "initial"
      }
     },
     "f500c09f987a4189afd9d5c3b92d7133": {
      "model_module": "@jupyter-widgets/controls",
      "model_module_version": "1.4.0",
      "model_name": "HBoxModel",
      "state": {
       "children": [
        "IPY_MODEL_7b7cd28a19134f5b9d593bec1f72d1cb",
        "IPY_MODEL_df2508ec6c234fa193719d22be6b3a62"
       ],
       "layout": "IPY_MODEL_6b67239716704842a46d2d83c9cd0d04"
      }
     },
     "f5ce2ce368004fa4a991c036f3de8fee": {
      "model_module": "@jupyter-widgets/controls",
      "model_module_version": "1.4.0",
      "model_name": "IntTextModel",
      "state": {
       "description": "Feature to show:",
       "layout": "IPY_MODEL_c8dd20f48d4c4eb5a6d96e984ab3f683",
       "step": 1,
       "style": "IPY_MODEL_6e397d1ad0e44f97b3bdaa3991e47c9e"
      }
     },
     "f5e25288e9174b0596bf8e5a72392b06": {
      "model_module": "@jupyter-widgets/controls",
      "model_module_version": "1.4.0",
      "model_name": "HBoxModel",
      "state": {
       "children": [
        "IPY_MODEL_686525a9ba5c467a991bc97fd5b8fcfb",
        "IPY_MODEL_9c26934d178a4c69a168a7102448a790"
       ],
       "layout": "IPY_MODEL_98e35bae2c0046fe80395d4a60f6373b"
      }
     },
     "f61102422a4a42a5aabbb0f48f9e65e6": {
      "model_module": "@jupyter-widgets/controls",
      "model_module_version": "1.4.0",
      "model_name": "ButtonStyleModel",
      "state": {}
     },
     "f62551dade5a4286849a4100fcec91c8": {
      "model_module": "@jupyter-widgets/base",
      "model_module_version": "1.1.0",
      "model_name": "LayoutModel",
      "state": {
       "width": "100px"
      }
     },
     "f66483735f4e4a8db76dfc45684373f7": {
      "model_module": "@jupyter-widgets/controls",
      "model_module_version": "1.4.0",
      "model_name": "ButtonModel",
      "state": {
       "icon": "fast-forward",
       "layout": "IPY_MODEL_acfdaa75be2143c687d4149444bead50",
       "style": "IPY_MODEL_97e3e0bd31bb413d89fb977802066fa4"
      }
     },
     "f768bc9a29394abd8f0b23532de17200": {
      "model_module": "@jupyter-widgets/base",
      "model_module_version": "1.1.0",
      "model_name": "LayoutModel",
      "state": {
       "width": "10%"
      }
     },
     "f7841bf7caa344068b759b176889764c": {
      "model_module": "@jupyter-widgets/base",
      "model_module_version": "1.1.0",
      "model_name": "LayoutModel",
      "state": {
       "width": "100%"
      }
     },
     "f78d3699ea9d4a98b1de7c11dfcce107": {
      "model_module": "@jupyter-widgets/controls",
      "model_module_version": "1.4.0",
      "model_name": "DescriptionStyleModel",
      "state": {
       "description_width": ""
      }
     },
     "f7e618c3e8554c6cb7fa9e3bbc8af484": {
      "model_module": "@jupyter-widgets/base",
      "model_module_version": "1.1.0",
      "model_name": "LayoutModel",
      "state": {}
     },
     "f8c5fb65e7b440ec85a7cb68c2180d56": {
      "model_module": "@jupyter-widgets/base",
      "model_module_version": "1.1.0",
      "model_name": "LayoutModel",
      "state": {
       "justify_content": "center",
       "overflow_x": "auto",
       "overflow_y": "auto",
       "width": "95%"
      }
     },
     "f948bf6a48dd42c9882f51fc8091fddb": {
      "model_module": "@jupyter-widgets/base",
      "model_module_version": "1.1.0",
      "model_name": "LayoutModel",
      "state": {
       "height": "50px",
       "width": "100%"
      }
     },
     "fa678aec7dee4c709d9a62f5d9cfdeda": {
      "model_module": "@jupyter-widgets/base",
      "model_module_version": "1.1.0",
      "model_name": "LayoutModel",
      "state": {
       "width": "100%"
      }
     },
     "fac63085aaad4d00873f35cdd0b5446f": {
      "model_module": "@jupyter-widgets/controls",
      "model_module_version": "1.4.0",
      "model_name": "IntTextModel",
      "state": {
       "description": "Horizontal space between banks:",
       "layout": "IPY_MODEL_14d4f0e898324a2eb1c4c2810a3aada8",
       "step": 1,
       "style": "IPY_MODEL_571187e562e6462cb38a50d371f6ac43",
       "value": 150
      }
     },
     "fad176e707e644efac57525051f24ebe": {
      "model_module": "@jupyter-widgets/controls",
      "model_module_version": "1.4.0",
      "model_name": "HBoxModel",
      "state": {
       "children": [
        "IPY_MODEL_1c747afe29794274840e004cbc4c4e1e",
        "IPY_MODEL_2da7c32082cc46f79ce1bf1f6946e803"
       ],
       "layout": "IPY_MODEL_edae73d19216460fb6ed56255f335190"
      }
     },
     "fbc68b39d1be42d7b20f9131a1c359a5": {
      "model_module": "@jupyter-widgets/controls",
      "model_module_version": "1.4.0",
      "model_name": "CheckboxModel",
      "state": {
       "description": "Rotate",
       "disabled": false,
       "layout": "IPY_MODEL_b8bb692474f2405d995d4f83ecffe9f8",
       "style": "IPY_MODEL_cc752033e8c645dfa7ecb8723aa2b671",
       "value": true
      }
     },
     "fbfece232d6d4645b7782e51d6ee0f3a": {
      "model_module": "@jupyter-widgets/controls",
      "model_module_version": "1.4.0",
      "model_name": "IntSliderModel",
      "state": {
       "continuous_update": false,
       "description": "Dataset index",
       "layout": "IPY_MODEL_b750c6dc82754cf2bf3e9c752f8fd8b9",
       "max": 158772,
       "style": "IPY_MODEL_c1b9e6ad26234200abd26eaf005bc995",
       "value": 7
      }
     },
     "fc489b8953974a6fae0a8349794be122": {
      "model_module": "@jupyter-widgets/controls",
      "model_module_version": "1.4.0",
      "model_name": "DescriptionStyleModel",
      "state": {
       "description_width": "initial"
      }
     },
     "fc72db617dc046bcb80c684e9b6e7eb6": {
      "model_module": "@jupyter-widgets/controls",
      "model_module_version": "1.4.0",
      "model_name": "ButtonModel",
      "state": {
       "icon": "refresh",
       "layout": "IPY_MODEL_70b3469b21ca4c6287b4c0ff65348f59",
       "style": "IPY_MODEL_cf4786d013c940fb84066b6094c5b978"
      }
     },
     "fc92b0ca33b644ab985835e2484a33e7": {
      "model_module": "@jupyter-widgets/base",
      "model_module_version": "1.1.0",
      "model_name": "LayoutModel",
      "state": {}
     },
     "fdc0f5c6fc5c4a618e0d8ba76bd8e699": {
      "model_module": "@jupyter-widgets/controls",
      "model_module_version": "1.4.0",
      "model_name": "SelectModel",
      "state": {
       "_options_labels": [
        "input",
        "rnn",
        "output"
       ],
       "description": "Layer:",
       "index": 2,
       "layout": "IPY_MODEL_41b2616fd8db4dea822fd6d6e6e22186",
       "rows": 1,
       "style": "IPY_MODEL_906e7773d19f4af98734de61778111e6"
      }
     },
     "fddee08134044ec9b06a000c909f1b15": {
      "model_module": "@jupyter-widgets/controls",
      "model_module_version": "1.4.0",
      "model_name": "ButtonModel",
      "state": {
       "icon": "fast-forward",
       "layout": "IPY_MODEL_a67599adf66d4159a0c60e659efd593c",
       "style": "IPY_MODEL_41dbbf63b3a34efba1163764f4736396"
      }
     },
     "fe1803fb82674d27b351a357cceb7f11": {
      "model_module": "@jupyter-widgets/controls",
      "model_module_version": "1.4.0",
      "model_name": "ButtonStyleModel",
      "state": {}
     },
     "fe58c92680ac4376a0154ff04604ebd7": {
      "model_module": "@jupyter-widgets/base",
      "model_module_version": "1.1.0",
      "model_name": "LayoutModel",
      "state": {}
     },
     "ff342f65b2dd4f258f78a6f4e939f8e2": {
      "model_module": "@jupyter-widgets/controls",
      "model_module_version": "1.4.0",
      "model_name": "HBoxModel",
      "state": {
       "children": [
        "IPY_MODEL_c6df068e2de14088b5ea87181ddd9c22",
        "IPY_MODEL_10350c5f0ff44e1bbc8c41b8654ed0c3"
       ],
       "layout": "IPY_MODEL_8f76efcc23004df1a2fb0ed2673e97ff"
      }
     },
     "ff3a01c3183d4328a3c9882a6d8d14d4": {
      "model_module": "@jupyter-widgets/base",
      "model_module_version": "1.1.0",
      "model_name": "LayoutModel",
      "state": {
       "width": "65%"
      }
     },
     "ff6f7b23d80e40e6961521693b737d5e": {
      "model_module": "@jupyter-widgets/controls",
      "model_module_version": "1.4.0",
      "model_name": "SelectModel",
      "state": {
       "_options_labels": [
        ""
       ],
       "description": "Features:",
       "index": 0,
       "layout": "IPY_MODEL_3f0a20b1ca244e999c1f6a1af3fe9e56",
       "rows": 1,
       "style": "IPY_MODEL_8f68750a42074331aa92fe583806063f"
      }
     },
     "ff9e510f138f4958a6f709304a097707": {
      "model_module": "@jupyter-widgets/controls",
      "model_module_version": "1.4.0",
      "model_name": "DescriptionStyleModel",
      "state": {
       "description_width": "initial"
      }
     },
     "ffc221bc34224923820fd70c27908f53": {
      "model_module": "@jupyter-widgets/base",
      "model_module_version": "1.1.0",
      "model_name": "LayoutModel",
      "state": {
       "width": "65%"
      }
     },
     "fff1c98a41e14a1381c9fdff5a5453ed": {
      "model_module": "@jupyter-widgets/base",
      "model_module_version": "1.1.0",
      "model_name": "LayoutModel",
      "state": {}
     }
    },
    "version_major": 2,
    "version_minor": 0
   }
  }
 },
 "nbformat": 4,
 "nbformat_minor": 2
}
