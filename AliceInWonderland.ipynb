{
 "cells": [
  {
   "cell_type": "markdown",
   "metadata": {},
   "source": [
    "# Alice in Wonderland\n",
    "\n",
    "This notebook demonstrates generating sequences using a Simple Recurrent Network (SimpleRNN).\n",
    "\n",
    "For this example, we will use the unprocessed text from Lewis Carroll's \"Alice in Wonderland\". However, the sequence can really be anything, including code, music, or knitting instructions."
   ]
  },
  {
   "cell_type": "code",
   "execution_count": 1,
   "metadata": {},
   "outputs": [
    {
     "name": "stderr",
     "output_type": "stream",
     "text": [
      "Using TensorFlow backend.\n",
      "ConX, version 3.6.1\n"
     ]
    }
   ],
   "source": [
    "import conx as cx"
   ]
  },
  {
   "cell_type": "markdown",
   "metadata": {},
   "source": [
    "First, we find a copy of Alice in Wonderland, download it, and read it in:"
   ]
  },
  {
   "cell_type": "code",
   "execution_count": 2,
   "metadata": {},
   "outputs": [],
   "source": [
    "INPUT_FILE = \"alice_in_wonderland.txt\""
   ]
  },
  {
   "cell_type": "code",
   "execution_count": 3,
   "metadata": {},
   "outputs": [
    {
     "name": "stdout",
     "output_type": "stream",
     "text": [
      "Using cached http://www.gutenberg.org/files/11/11-0.txt as './alice_in_wonderland.txt'.\n"
     ]
    }
   ],
   "source": [
    "cx.download(\"http://www.gutenberg.org/files/11/11-0.txt\", filename=INPUT_FILE)"
   ]
  },
  {
   "cell_type": "code",
   "execution_count": 4,
   "metadata": {},
   "outputs": [],
   "source": [
    "# extract the input as a stream of characters\n",
    "lines = []\n",
    "with open(INPUT_FILE, 'rb') as fp:\n",
    "    for line in fp:\n",
    "        line = line.strip().lower()\n",
    "        line = line.decode(\"ascii\", \"ignore\")\n",
    "        if len(line) == 0:\n",
    "            continue\n",
    "        lines.append(line)\n",
    "text = \" \".join(lines)\n",
    "lines = None # clean up memory"
   ]
  },
  {
   "cell_type": "markdown",
   "metadata": {},
   "source": [
    "Next, we create some utility dictionaries for mapping the characters to indices and back:"
   ]
  },
  {
   "cell_type": "code",
   "execution_count": 5,
   "metadata": {},
   "outputs": [],
   "source": [
    "chars = set([c for c in text])\n",
    "nb_chars = len(chars)\n",
    "char2index = dict((c, i) for i, c in enumerate(chars))\n",
    "index2char = dict((i, c) for i, c in enumerate(chars))"
   ]
  },
  {
   "cell_type": "code",
   "execution_count": 6,
   "metadata": {},
   "outputs": [
    {
     "data": {
      "text/plain": [
       "55"
      ]
     },
     "execution_count": 6,
     "metadata": {},
     "output_type": "execute_result"
    }
   ],
   "source": [
    "nb_chars"
   ]
  },
  {
   "cell_type": "markdown",
   "metadata": {},
   "source": [
    "In this text, there are 55 different characters.\n",
    "\n",
    "Each character has a unique mapping to an integer:"
   ]
  },
  {
   "cell_type": "code",
   "execution_count": 7,
   "metadata": {},
   "outputs": [
    {
     "data": {
      "text/plain": [
       "24"
      ]
     },
     "execution_count": 7,
     "metadata": {},
     "output_type": "execute_result"
    }
   ],
   "source": [
    "char2index[\"a\"]"
   ]
  },
  {
   "cell_type": "code",
   "execution_count": 8,
   "metadata": {},
   "outputs": [
    {
     "data": {
      "text/plain": [
       "']'"
      ]
     },
     "execution_count": 8,
     "metadata": {},
     "output_type": "execute_result"
    }
   ],
   "source": [
    "index2char[5]"
   ]
  },
  {
   "cell_type": "markdown",
   "metadata": {},
   "source": [
    "## Build the Dataset\n",
    "\n",
    "Next we build the dataset. We do this by stepping through the text one character at a time, building an input  \n",
    "sequence the size of SEQLEN and associated target character. \n",
    "\n",
    "For example, assume an input sequence of \"the sky was falling\", we would get the following inputs and targets:\n",
    "\n",
    "```\n",
    "Inputs     -> Target\n",
    "----------    ------\n",
    "the sky wa -> s\n",
    "he sky was ->  \n",
    "e sky was  -> f\n",
    " sky was f -> a\n",
    "sky was fa -> l\n",
    "```"
   ]
  },
  {
   "cell_type": "markdown",
   "metadata": {},
   "source": [
    "How can we represent the characters? There are many ways, including using an EmbeddingLayer. In this example, we simply use a `onehot` encoding of the index. Note that the total length of the onehot encoding is one more than the total number of items. That is because we will use a position for the zero index as well."
   ]
  },
  {
   "cell_type": "code",
   "execution_count": 9,
   "metadata": {},
   "outputs": [],
   "source": [
    "SEQLEN = 10\n",
    "data = []\n",
    "for i in range(0, len(text) - SEQLEN):\n",
    "    inputs = [cx.onehot(char2index[char], nb_chars + 1) for char in text[i:i + SEQLEN]]\n",
    "    targets = [cx.onehot(char2index[char], nb_chars + 1) for char in text[i + SEQLEN]][0]\n",
    "    data.append([inputs, targets])\n",
    "text = None # clean up memory"
   ]
  },
  {
   "cell_type": "code",
   "execution_count": 10,
   "metadata": {},
   "outputs": [],
   "source": [
    "dataset = cx.Dataset()\n",
    "dataset.load(data)\n",
    "data = None # clean up memory; not needed"
   ]
  },
  {
   "cell_type": "code",
   "execution_count": 11,
   "metadata": {},
   "outputs": [
    {
     "data": {
      "text/plain": [
       "158773"
      ]
     },
     "execution_count": 11,
     "metadata": {},
     "output_type": "execute_result"
    }
   ],
   "source": [
    "len(dataset)"
   ]
  },
  {
   "cell_type": "code",
   "execution_count": 12,
   "metadata": {},
   "outputs": [
    {
     "data": {
      "text/plain": [
       "(10, 56)"
      ]
     },
     "execution_count": 12,
     "metadata": {},
     "output_type": "execute_result"
    }
   ],
   "source": [
    "cx.shape(dataset.inputs[0])"
   ]
  },
  {
   "cell_type": "markdown",
   "metadata": {},
   "source": [
    "The shape of the inputs is 10 x 56; a sequence of length 10, and a vector of length 56.\n",
    "\n",
    "Let's check the inputs and targets to make sure everything is encoded properly:"
   ]
  },
  {
   "cell_type": "code",
   "execution_count": 13,
   "metadata": {},
   "outputs": [],
   "source": [
    "def onehot_to_char(vector):\n",
    "    index = cx.argmax(vector)\n",
    "    return index2char[index]"
   ]
  },
  {
   "cell_type": "code",
   "execution_count": 14,
   "metadata": {},
   "outputs": [
    {
     "name": "stdout",
     "output_type": "stream",
     "text": [
      "project gu -> t\n",
      "roject gut -> e\n",
      "oject gute -> n\n",
      "ject guten -> b\n",
      "ect gutenb -> e\n",
      "ct gutenbe -> r\n",
      "t gutenber -> g\n",
      " gutenberg -> s\n",
      "gutenbergs ->  \n",
      "utenbergs  -> a\n"
     ]
    }
   ],
   "source": [
    "for i in range(10):\n",
    "    print(\"\".join([onehot_to_char(v) for v in dataset.inputs[i]]), \n",
    "          \"->\",\n",
    "          onehot_to_char(dataset.targets[i]))"
   ]
  },
  {
   "cell_type": "markdown",
   "metadata": {},
   "source": [
    "Looks good! \n",
    "\n",
    "## Build the Network\n",
    "\n",
    "We will use a single SimpleRNNLayer with a fully-connected output bank to compute the most likely predicted output character."
   ]
  },
  {
   "cell_type": "markdown",
   "metadata": {},
   "source": [
    "Note that we can use the categorical cross-entropy error function since we are using the \"softmax\" activation function on the output layer.\n",
    "\n",
    "In this example, we unroll the inputs to provide explicit weights between each character in the sequence and the output."
   ]
  },
  {
   "cell_type": "code",
   "execution_count": 15,
   "metadata": {},
   "outputs": [],
   "source": [
    "network = cx.Network(\"Alice in Wonderland\")\n",
    "network.add(\n",
    "    cx.Layer(\"input\", (SEQLEN, nb_chars + 1)),\n",
    "    cx.SimpleRNNLayer(\"rnn\", 128, \n",
    "                      return_sequences=False,\n",
    "                      unroll=True),\n",
    "    cx.Layer(\"output\", nb_chars + 1, activation=\"softmax\"),\n",
    ")\n",
    "network.connect()\n",
    "network.compile(error=\"categorical_crossentropy\", optimizer=\"rmsprop\")"
   ]
  },
  {
   "cell_type": "code",
   "execution_count": 16,
   "metadata": {},
   "outputs": [],
   "source": [
    "network.set_dataset(dataset)"
   ]
  },
  {
   "cell_type": "code",
   "execution_count": 17,
   "metadata": {},
   "outputs": [
    {
     "name": "stdout",
     "output_type": "stream",
     "text": [
      "_________________________________________________________________\n",
      "Layer (type)                 Output Shape              Param #   \n",
      "=================================================================\n",
      "input (InputLayer)           (None, 10, 56)            0         \n",
      "_________________________________________________________________\n",
      "rnn (SimpleRNN)              (None, 128)               23680     \n",
      "_________________________________________________________________\n",
      "output (Dense)               (None, 56)                7224      \n",
      "=================================================================\n",
      "Total params: 30,904\n",
      "Trainable params: 30,904\n",
      "Non-trainable params: 0\n",
      "_________________________________________________________________\n"
     ]
    }
   ],
   "source": [
    "network.summary()"
   ]
  },
  {
   "cell_type": "code",
   "execution_count": 18,
   "metadata": {},
   "outputs": [
    {
     "data": {
      "application/vnd.jupyter.widget-view+json": {
       "model_id": "6df1cd2fca78477da29c1768a41f5e95",
       "version_major": 2,
       "version_minor": 0
      },
      "text/html": [
       "<p>Failed to display Jupyter Widget of type <code>Dashboard</code>.</p>\n",
       "<p>\n",
       "  If you're reading this message in the Jupyter Notebook or JupyterLab Notebook, it may mean\n",
       "  that the widgets JavaScript is still loading. If this message persists, it\n",
       "  likely means that the widgets JavaScript library is either not installed or\n",
       "  not enabled. See the <a href=\"https://ipywidgets.readthedocs.io/en/stable/user_install.html\">Jupyter\n",
       "  Widgets Documentation</a> for setup instructions.\n",
       "</p>\n",
       "<p>\n",
       "  If you're reading this message in another frontend (for example, a static\n",
       "  rendering on GitHub or <a href=\"https://nbviewer.jupyter.org/\">NBViewer</a>),\n",
       "  it may mean that your frontend doesn't currently support widgets.\n",
       "</p>\n"
      ],
      "text/plain": [
       "Dashboard(children=(Accordion(children=(HBox(children=(VBox(children=(Select(description='Dataset:', index=1, options=('Test', 'Train'), rows=1, value='Train'), FloatSlider(value=0.5, continuous_update=False, description='Zoom', layout=Layout(width='65%'), max=1.0, style=SliderStyle(description_width='initial')), IntText(value=150, description='Horizontal space between banks:', style=DescriptionStyle(description_width='initial')), IntText(value=30, description='Vertical space between layers:', style=DescriptionStyle(description_width='initial')), HBox(children=(Checkbox(value=True, description='Show Targets', style=DescriptionStyle(description_width='initial')), Checkbox(value=False, description='Errors', style=DescriptionStyle(description_width='initial')))), Select(description='Features:', options=('',), rows=1, value=''), IntText(value=3, description='Feature columns:', style=DescriptionStyle(description_width='initial')), FloatText(value=1.0, description='Feature scale:', style=DescriptionStyle(description_width='initial'))), layout=Layout(width='100%')), VBox(children=(Select(description='Layer:', index=2, options=('input', 'rnn', 'output'), rows=1, value='output'), Checkbox(value=True, description='Visible'), Select(description='Colormap:', index=123, options=('', 'Accent', 'Accent_r', 'Blues', 'Blues_r', 'BrBG', 'BrBG_r', 'BuGn', 'BuGn_r', 'BuPu', 'BuPu_r', 'CMRmap', 'CMRmap_r', 'Dark2', 'Dark2_r', 'GnBu', 'GnBu_r', 'Greens', 'Greens_r', 'Greys', 'Greys_r', 'OrRd', 'OrRd_r', 'Oranges', 'Oranges_r', 'PRGn', 'PRGn_r', 'Paired', 'Paired_r', 'Pastel1', 'Pastel1_r', 'Pastel2', 'Pastel2_r', 'PiYG', 'PiYG_r', 'PuBu', 'PuBuGn', 'PuBuGn_r', 'PuBu_r', 'PuOr', 'PuOr_r', 'PuRd', 'PuRd_r', 'Purples', 'Purples_r', 'RdBu', 'RdBu_r', 'RdGy', 'RdGy_r', 'RdPu', 'RdPu_r', 'RdYlBu', 'RdYlBu_r', 'RdYlGn', 'RdYlGn_r', 'Reds', 'Reds_r', 'Set1', 'Set1_r', 'Set2', 'Set2_r', 'Set3', 'Set3_r', 'Spectral', 'Spectral_r', 'Vega10', 'Vega10_r', 'Vega20', 'Vega20_r', 'Vega20b', 'Vega20b_r', 'Vega20c', 'Vega20c_r', 'Wistia', 'Wistia_r', 'YlGn', 'YlGnBu', 'YlGnBu_r', 'YlGn_r', 'YlOrBr', 'YlOrBr_r', 'YlOrRd', 'YlOrRd_r', 'afmhot', 'afmhot_r', 'autumn', 'autumn_r', 'binary', 'binary_r', 'bone', 'bone_r', 'brg', 'brg_r', 'bwr', 'bwr_r', 'cool', 'cool_r', 'coolwarm', 'coolwarm_r', 'copper', 'copper_r', 'cubehelix', 'cubehelix_r', 'flag', 'flag_r', 'gist_earth', 'gist_earth_r', 'gist_gray', 'gist_gray_r', 'gist_heat', 'gist_heat_r', 'gist_ncar', 'gist_ncar_r', 'gist_rainbow', 'gist_rainbow_r', 'gist_stern', 'gist_stern_r', 'gist_yarg', 'gist_yarg_r', 'gnuplot', 'gnuplot2', 'gnuplot2_r', 'gnuplot_r', 'gray', 'gray_r', 'hot', 'hot_r', 'hsv', 'hsv_r', 'inferno', 'inferno_r', 'jet', 'jet_r', 'magma', 'magma_r', 'nipy_spectral', 'nipy_spectral_r', 'ocean', 'ocean_r', 'pink', 'pink_r', 'plasma', 'plasma_r', 'prism', 'prism_r', 'rainbow', 'rainbow_r', 'seismic', 'seismic_r', 'spectral', 'spectral_r', 'spring', 'spring_r', 'summer', 'summer_r', 'tab10', 'tab10_r', 'tab20', 'tab20_r', 'tab20b', 'tab20b_r', 'tab20c', 'tab20c_r', 'terrain', 'terrain_r', 'viridis', 'viridis_r', 'winter', 'winter_r'), rows=1, value='gray'), HTML(value='<img src=\"data:image/gif;base64,R0lGODdhLAEZAIcAAAcHB6enpycnJzc3N0dHR2dnZ3d3d5eXl8fHx9fX1+fn5xcXF1dXV4eHh7e3t/b29gAAAAAAAAAAAAAAAAAAAAAAAAAAAAAAAAAAAAAAAAAAAAAAAAAAAAAAAAAAAAAAAAAAAAAAAAAAAAAAAAAAAAAAAAAAAAAAAAAAAAAAAAAAAAAAAAAAAAAAAAAAAAAAAAAAAAAAAAAAAAAAAAAAAAAAAAAAAAAAAAAAAAAAAAAAAAAAAAAAAAAAAAAAAAAAAAAAAAAAAAAAAAAAAAAAAAAAAAAAAAAAAAAAAAAAAAAAAAAAAAAAAAAAAAAAAAAAAAAAAAAAAAAAAAAAAAAAAAAAAAAAAAAAAAAAAAAAAAAAAAAAAAAAAAAAAAAAAAAAAAAAAAAAAAAAAAAAAAAAAAAAAAAAAAAAAAAAAAAAAAAAAAAAAAAAAAAAAAAAAAAAAAAAAAAAAAAAAAAAAAAAAAAAAAAAAAAAAAAAAAAAAAAAAAAAAAAAAAAAAAAAAAAAAAAAAAAAAAAAAAAAAAAAAAAAAAAAAAAAAAAAAAAAAAAAAAAAAAAAAAAAAAAAAAAAAAAAAAAAAAAAAAAAAAAAAAAAAAAAAAAAAAAAAAAAAAAAAAAAAAAAAAAAAAAAAAAAAAAAAAAAAAAAAAAAAAAAAAAAAAAAAAAAAAAAAAAAAAAAAAAAAAAAAAAAAAAAAAAAAAAAAAAAAAAAAAAAAAAAAAAAAAAAAAAAAAAAAAAAAAAAAAAAAAAAAAAAAAAAAAAAAAAAAAAAAAAAAAAAAAAAAAAAAAAAAAAAAAAAAAAAAAAAAAAAAAAAAAAAAAAAAAAAAAAAAAAAAAAAAAAAAAAAAAAAAAAAAAAAAAAAAAAAAAAAAAAAAAAAAAAAAAAAAAAAAAAAAAAAAAAAAAAAAAAAAAAAAAAAAAAAAAAAAAAAAAAAAAAAAAAAAAAAAAAAAAAAAAAAAAAAAAAAAAAAAAAAAAAAAAAAAAAAAAAAAAAAAAAAAAAAAAAAAAAAAAAAAAAAACwAAAAALAEZAEAI/wABCBxIsGDBBQgTKlyYUIDDhxAjQhxAsaLFixYJaNzIsSNHBiBDihwZsoDJkyhTojTAsqXLly4byJxJs+bMAzhz6typM4DPn0CDBnVAtKjRo0URKF3KtCnTBFCjSp0qVYHVq1izYn3AtavXr1wBiB1LtmzZBWjTql2bVoDbt3Djwh1At67du3YJ6N3Lty9fBoADCx4cuIDhw4gTIzbAuLHjx44bSJ5MufLkA5gza96sOYDnz6BDh3ZAurTp06URqF7NujXrBLBjy54tW4Ht27hz437Au7fv37wBCB9OvHjxBciTK1+eXIDz59CjQx9Avbr169YJaN/OvTt3BuDDi/8fH76A+fPo06M3wL69+/fuG8ifT7/+/AP48+vfrz+Af4ABBA4kWFCgA4QJFS5MiMDhQ4gRISagWNHiRYsKNG7k2JHjA5AhRY4ECcDkSZQpUy5g2dLly5YCZM6kWZPmAJw5de7UScDnT6BBgTIgWtTo0aIFlC5l2pSpAahRpU6V2sDqVaxZrx7g2tXrV68BxI4lW7asA7Rp1a5Ni8DtW7hx4SagW9fuXbsK9O7l25fvA8CBBQ8GDMDwYcSJEy9g3Njx48YCJE+mXJnyAMyZNW/WTMDzZ9ChQTMgXdr06dIFVK9m3Zq1AdixZc+W3cD2bdy5bx/g3dv3b98BhA8nXrz/uAPkyZUvT47A+XPo0aEnoF7d+nXrCrRv596d+wPw4cWPBw/A/Hn06dMvYN/e/fv2AuTPp1+f/gD8+fXv10/AP0ACAgcSLEiAAcKEChcmLODwIcSIEA1QrGjxosUGGjdy7LjxAMiQIkeKDGDyJMqUKR2wbOnyZUsEMmfSrEkzAc6cOnfqVODzJ9CgQB8QLWr0KFEASpcybdp0AdSoUqdGFWD1KtasWAdw7er1q1cCYseSLUuWAdq0atemLeD2Ldy4cA3QrWv3rt0Gevfy7bv3AODAggcLDmD4MOLEiR0wbuz4cWMEkidTrkw5AebMmjdrVuD5M+jQoB+QLm36NGkA/6pXs27degHs2LJnxxZg+zbu3LgH8O7t+7dvAsKHEy9OnAHy5MqXJy/g/Dn06NANUK9u/br1Btq3c+++/QD48OLHiw9g/jz69OkdsG/v/n17BPLn069PPwH+/Pr361fgH6ACgQMJFlTwAGFChQsRAnD4EGLEiAsoVrR4saIAjRs5duQ4AGRIkSNFEjB5EmVKlAxYtnT5smUBmTNp1qRpAGdOnTt1NvD5E2jQnweIFjV61GgApUuZNm3qAGpUqVOjIrB6FWtWrAm4dvX61asCsWPJliX7AG1atWvRAnD7Fm7cuAvo1rV7t64AvXv59uU7AHBgwYMFEzB8GHFixAwYN/92/LhxAcmTKVembABzZs2bNTfw/Bl06M8HSJc2fdp0ANWrWbdu7QB2bNmzYyOwfRt3btwJePf2/du3AuHDiRcn/gB5cuXLkQNw/hx69OgLqFe3fr26AO3buXfnPgB8ePHjxRMwfx59evQM2Ld3/759Afnz6denbwB/fv379TfwD7CBwIEECx44iDChwoQBGjp8CBGig4kUK1qkiCCjxo0cNyb4CDKkyJAKSpo8ifLkg5UsW7pcCSCmzJk0aS64iTOnTpwCevr8CfTngKFEixotSiCp0qVMlzJ4CjWqVKgFqlq9ivWqga1cu3rt2iCs2LFkxR44izat2rQB2rp9Cxf/roO5dOvapYsgr969fPcm+As4sODACgobPoz48IPFjBs7XgwgsuTJlCkvuIw5s2bMAjp7/gz684DRpEubLk0gterVrFczeA07tmzYBWrbvo37toHdvHv77t0guPDhxIUfOI48ufLkAZo7fw4duoPp1Ktbp44gu/bt3Lcn+A4+vPjwCsqbP4/+/IP17Nu7Xw8gvvz59OkvuI8/v378Avr7ByhA4ECCAwccRJhQYUICDR0+hPiQwUSKFS1SLJBR40aOGw18BBlSZMgGJU2eRGnywEqWLV22DBBT5kyaNB3cxJlTJ04EPX3+BPozwVCiRY0WVZBU6VKmSx88hRpV6lMA/1WtXsWKdcFWrl29chUQVuxYsmMHnEWbVm1aAm3dvoX7lsFcunXt0i2QV+9evnsN/AUcWHDgBoUNH0Zs+MBixo0dNw4QWfJkypQdXMacWTNmBJ09fwb9OcFo0qVNl1aQWvVq1qsfvIYdW/ZrALVt38aNe8Fu3r198xYQXPhw4sMHHEeeXHlyAs2dP4f+nMF06tWtUy+QXft27tsNfAcfXnz4BuXNn0dv/sB69u3dtw8QX/58+vQd3MefXz9+BP39A0QgcCDBgQkOIkyoMKGChg4fQnz4YCLFihYnAsiocSNHjgs+ggwpEqSAkiZPojw5YCXLli5bEogpcybNmQxu4v/MqRNngZ4+fwL9aWAo0aJGizZIqnQpU6UHnkKNKjVqgKpWr2LF6mAr165euSIIK3Ys2bEJzqJNqzatgrZu38J9+2Au3bp25wLIq3cvX74L/gIOLBiwgMKGDyM+PGAx48aOGxOILHky5ckMLmPOrBlzgc6eP4P+bGA06dKmSzdIrXo1a9UHXsOOLTt2gNq2b+PG7WA3796+eSMILnw48eEJjiNPrjy5gubOn0N//mA69erWpwPIrn07d+4LvoMPLx68gPLmz6M/P2A9+/bu2xOIL38+/fkM7uPPrx9/gf7+ARYQOJDgQAMHESZUmLBBQ4cPITo8MJFiRYsVA2TUuJH/I0cHH0GGFAkSQUmTJ1GeTLCSZUuXLRXElDmT5swHN3Hm1HkTQE+fP4ECXTCUaFGjRAUkVbqU6dIBT6FGlRqVQFWrV7FeZbCVa1evXAuEFTuW7FgDZ9GmVZu2QVu3b+G6PTCXbl27dQPk1buXL18HfwEHFgwYQWHDhxEfTrCYcWPHjRVEljyZ8uQHlzFn1nwZQGfPn0GDXjCadGnTpAWkVr2a9eoBr2HHlh2bQG3bt3HfZrCbd2/fvAsEFz6c+HADx5EnV568QXPnz6E7PzCdenXr1QNk176dO3cH38GHFw8eQXnz59GfT7CefXv37RXElz+f/vwH9/Hn138fQH///wABCBxIkOCCgwgTKkQooKHDhxAfDphIsaLFigQyatzIcSODjyBDigRZoKTJkyhPGljJsqXLlg1iypxJU+aBmzhz6swZoKfPn0CBOhhKtKhRogiSKl3KdGmCp1CjSo2qoKrVq1ivPtjKtavXrQDCih1LluyCs2jTqkUroK3bt3DfDphLt67dugTy6t3Ldy+Dv4ADCwZcoLDhw4gPG1jMuLHjxg0iS55MWfKBy5gza84coLPnz6BBOxhNurRp0ghSq17NenWC17Bjy46toLbt27hvP9jNu7fv3QCCCx9OnPiC48iTK0cuoLnz59CfD5hOvbr16gSya9/OfTuD7+DDi7YHX6C8+fPozxtYz769+/YN4sufT1/+gfv48+vPH6C/f4ABBA4kSNDBQYQJFSJE0NDhQ4gPE0ykWNFiRQUZNW7kuPHBR5AhRX4EUNLkSZQoF6xk2dIlSwExZc6kOXPATZw5deYk0NPnT6A/GQwlWtQo0QJJlS5lutTAU6hRpUZtUNXqVaxWD2zl2tVr1wBhxY4lS9bBWbRp1aJF0NbtW7hvE8ylW9duXQV59e7lu/fBX8CBBf8NCAA7\"/>'), FloatText(value=0.0, description='Leftmost color maps to:', style=DescriptionStyle(description_width='initial')), FloatText(value=1.0, description='Rightmost color maps to:', style=DescriptionStyle(description_width='initial')), IntText(value=0, description='Feature to show:', style=DescriptionStyle(description_width='initial')), HBox(children=(Checkbox(value=False, description='Rotate network', layout=Layout(width='52%'), style=DescriptionStyle(description_width='initial')), Button(icon='save', layout=Layout(width='10%'), style=ButtonStyle())))), layout=Layout(width='100%')))),), selected_index=None, _titles={'0': 'Alice in Wonderland'}), VBox(children=(HBox(children=(IntSlider(value=0, continuous_update=False, description='Dataset index', layout=Layout(width='100%'), max=158772), Label(value='of 158773', layout=Layout(width='100px'))), layout=Layout(height='40px')), HBox(children=(Button(icon='fast-backward', layout=Layout(width='100%'), style=ButtonStyle()), Button(icon='backward', layout=Layout(width='100%'), style=ButtonStyle()), IntText(value=0, layout=Layout(width='100%')), Button(icon='forward', layout=Layout(width='100%'), style=ButtonStyle()), Button(icon='fast-forward', layout=Layout(width='100%'), style=ButtonStyle()), Button(description='Play', icon='play', layout=Layout(width='100%'), style=ButtonStyle()), Button(icon='refresh', layout=Layout(width='25%'), style=ButtonStyle())), layout=Layout(height='50px', width='100%'))), layout=Layout(width='100%')), HTML(value='<p style=\"text-align:center\"></p>', layout=Layout(justify_content='center', overflow_x='auto', overflow_y='auto', width='95%')), Output()))"
      ]
     },
     "metadata": {},
     "output_type": "display_data"
    },
    {
     "data": {
      "application/javascript": [
       "\n",
       "require(['base/js/namespace'], function(Jupyter) {\n",
       "    Jupyter.notebook.kernel.comm_manager.register_target('conx_svg_control', function(comm, msg) {\n",
       "        comm.on_msg(function(msg) {\n",
       "            var data = msg[\"content\"][\"data\"];\n",
       "            var images = document.getElementsByClassName(data[\"class\"]);\n",
       "            for (var i = 0; i < images.length; i++) {\n",
       "                if (data[\"href\"]) {\n",
       "                    images[i].setAttributeNS(null, \"href\", data[\"href\"]);\n",
       "                }\n",
       "                if (data[\"src\"]) {\n",
       "                    images[i].setAttributeNS(null, \"src\", data[\"src\"]);\n",
       "                }\n",
       "            }\n",
       "        });\n",
       "    });\n",
       "});\n"
      ],
      "text/plain": [
       "<IPython.core.display.Javascript object>"
      ]
     },
     "metadata": {},
     "output_type": "display_data"
    }
   ],
   "source": [
    "network.dashboard()"
   ]
  },
  {
   "cell_type": "markdown",
   "metadata": {},
   "source": [
    "## Train the Network\n",
    "\n",
    "After each training epoch we will test the generated output.\n",
    "\n",
    "We could use `cx.choice(p=output)` or `cx.argmax(output)` for picking the next character. Which works best for you?"
   ]
  },
  {
   "cell_type": "code",
   "execution_count": 19,
   "metadata": {},
   "outputs": [],
   "source": [
    "def generate_text(sequence, count):\n",
    "    for i in range(count):\n",
    "        output = network.propagate(sequence)\n",
    "        char = index2char[cx.argmax(output)]\n",
    "        print(char, end=\"\")\n",
    "        sequence = sequence[1:] + [output]\n",
    "    print()"
   ]
  },
  {
   "cell_type": "code",
   "execution_count": 20,
   "metadata": {
    "scrolled": false
   },
   "outputs": [
    {
     "name": "stdout",
     "output_type": "stream",
     "text": [
      "==================================================\n",
      "Iteration #: 0\n",
      "Generating from seed: in in the \n",
      "kitt      t                                                                                         \n",
      "==================================================\n",
      "Iteration #: 1\n",
      "Generating from seed: w computer\n",
      "e  i t tt t tt t tt t tt t ttttttttttttttttttttttttttttttttttttttttttttttttttttttttttttttttttttttttt\n",
      "==================================================\n",
      "Iteration #: 2\n",
      "Generating from seed: ns! she at\n",
      " ee i  e e te                                                                                       \n",
      "==================================================\n",
      "Iteration #: 3\n",
      "Generating from seed: es, but i \n",
      "sont to t t tt t to t t  t t tt t t  t t tt t tt t t  t t tt t tt t t  t t tt t t  t t tt t tt t t  \n",
      "==================================================\n",
      "Iteration #: 4\n",
      "Generating from seed: it lasted.\n",
      " io e es i t    t e    e t                     e         e    e    e    e    e    e   ee   ee   ee  \n",
      "==================================================\n",
      "Iteration #: 5\n",
      "Generating from seed: wo-- why, \n",
      "sa e aiee  to   ire   ot tore  oe   ore  ie  tor t ie  toe tire  ioe tire  iot tore  ie   or t ie  t\n",
      "==================================================\n",
      "Iteration #: 6\n",
      "Generating from seed:  time it a\n",
      "nd eostes  o se sese s st site si t si tes  t te t se to t si test tort sitt si t st s st s st tite \n",
      "==================================================\n",
      "Iteration #: 7\n",
      "Generating from seed:  works bas\n",
      "  one tore tor tore ior tore oor tore tor iore tor tore tor tore tor tore tor tore tor tore tor tore\n",
      "==================================================\n",
      "Iteration #: 8\n",
      "Generating from seed: he helped \n",
      "anries tit sirestt s totst ti  tor str s tor sttre tir stirestar  tires to  tires to stites tor sttr\n",
      "==================================================\n",
      "Iteration #: 9\n",
      "Generating from seed: very tired\n",
      " alicerel s til e  o se oit tore oor tiaes torse oate oo etine  io ses ee  ar tie se  to slare to  l\n",
      "==================================================\n",
      "Iteration #: 10\n",
      "Generating from seed: project gu\n",
      "tenberg-ta tarites tt a ailis to slaitis or t airit to slares atts arirs ar iles tt a tiris tore  tt\n",
      "==================================================\n",
      "Iteration #: 11\n",
      "Generating from seed: neck from \n",
      "tiries airele aitiie tirisa e  iines  i s ares sire ain line tine tonele eseris  irm tone  on lorsle\n",
      "==================================================\n",
      "Iteration #: 12\n",
      "Generating from seed: eople in a\n",
      " longe soit toree at t e eses rotel  se  or itee io teine to teine  a ter s aorses oo toriee ti ele \n",
      "==================================================\n",
      "Iteration #: 13\n",
      "Generating from seed: inkling be\n",
      " ini r n ot  an late a s liti a t ne ala  ont rotils  tot i lali aont antire a a s attin  attiree to\n",
      "==================================================\n",
      "Iteration #: 14\n",
      "Generating from seed: whether th\n",
      "e e tors  on hore  on trene eat lare aone oon lone oon lire  an eroee or eerel oir line oorelare  an\n",
      "==================================================\n",
      "Iteration #: 15\n",
      "Generating from seed:  said alic\n",
      "e, alict iaial  fte y ni son  o teres  ar an ate l an  o aleitid   an l tinie  atnerar ai ror tins a\n",
      "==================================================\n",
      "Iteration #: 16\n",
      "Generating from seed: elf safe i\n",
      "n thaiteds  on hitiled ootiniri ass ione io toi ey armere  on betele  ont rone ain sares on thete in\n",
      "==================================================\n",
      "Iteration #: 17\n",
      "Generating from seed: ad kept a \n",
      "murses oi iny aone aotired on  rictire oonelion ior iite aitere  on aotesiog oo ely aibe aotelinu ao\n",
      "==================================================\n",
      "Iteration #: 18\n",
      "Generating from seed: the thistl\n",
      "enes arocesiry  or trtiry tone  on ireiler  or eraily tone sontered  ors tone rone oon ests ers cous\n",
      "==================================================\n",
      "Iteration #: 19\n",
      "Generating from seed: d another \n",
      "wontetin toree ont rethoree lonsini  or hitil  oor eone  on tiois ootely tone ros oolily oinil  ite \n",
      "==================================================\n",
      "Iteration #: 20\n",
      "Generating from seed: nds and fe\n",
      "et ani eriey tine ionteron lore ainee outine ainiee inner aniine ione ioner on  lootioneretne eriaes\n",
      "==================================================\n",
      "Iteration #: 21\n",
      "Generating from seed: ative work\n",
      "   onenenane  ontl oute itnelyin lire aone inite astins  ottestant ot elas tome sone ooterserision i\n",
      "==================================================\n",
      "Iteration #: 22\n",
      "Generating from seed: nge tale, \n",
      "autier ait litely sine ton h gesery  orerree oon  int rnttle  on tranese oo mirteron totily ait lins\n",
      "==================================================\n",
      "Iteration #: 23\n",
      "Generating from seed: round, if \n",
      "i mone tone sont ta elporsetan lols aimile on eset tors thre sone sone to toine  aiser aonel ou elin\n",
      "==================================================\n",
      "Iteration #: 24\n",
      "Generating from seed: f, i wonde\n",
      "r shane aape son lo erate san looklen  on erters wrnc sothin liousesotel sine oor hires at tame rine\n"
     ]
    },
    {
     "data": {
      "image/png": "[encoded data removed]",
      "text/plain": [
       "<matplotlib.figure.Figure at 0x7f18d9faed30>"
      ]
     },
     "metadata": {},
     "output_type": "display_data"
    }
   ],
   "source": [
    "for iteration in range(25):\n",
    "    print(\"=\" * 50)\n",
    "    print(\"Iteration #: %d\" % (network.epoch_count))\n",
    "    results = network.train(1, batch_size=128, plot=False, verbose=0)   \n",
    "    sequence = network.dataset.inputs[cx.choice(len(network.dataset))]\n",
    "    print(\"Generating from seed: %s\" % (\"\".join([onehot_to_char(v) for v in sequence])))\n",
    "    generate_text(sequence, 100)\n",
    "network.plot_results()"
   ]
  },
  {
   "cell_type": "markdown",
   "metadata": {},
   "source": [
    "What can you say about the text generated in later epochs compared to the earlier generated text?\n",
    "\n",
    "This was the simplest and most straightforward of network architectures and parameter settings. Can you do better? Can you generate text that is better English, or even text that captures the style of Lewis Carroll?\n",
    "\n",
    "Next, you might like to try this kind of experiment on your own sequential data. "
   ]
  }
 ],
 "metadata": {
  "kernelspec": {
   "display_name": "Python 3",
   "language": "python",
   "name": "python3"
  },
  "language_info": {
   "codemirror_mode": {
    "name": "ipython",
    "version": 3
   },
   "file_extension": ".py",
   "mimetype": "text/x-python",
   "name": "python",
   "nbconvert_exporter": "python",
   "pygments_lexer": "ipython3",
   "version": "3.6.3"
  },
  "widgets": {
   "application/vnd.jupyter.widget-state+json": {
    "state": {
     "0087559de60f4478b4de856bd7550636": {
      "model_module": "@jupyter-widgets/base",
      "model_module_version": "1.0.0",
      "model_name": "LayoutModel",
      "state": {}
     },
     "0118d4dff7b9404f98c757fc16d17d57": {
      "model_module": "@jupyter-widgets/controls",
      "model_module_version": "1.1.0",
      "model_name": "CheckboxModel",
      "state": {
       "description": "Rotate",
       "disabled": false,
       "layout": "IPY_MODEL_e139e1e900c4499f96e6f598e0f88837",
       "style": "IPY_MODEL_0b3a47e470df43b0a668e03d3ccd4206",
       "value": true
      }
     },
     "01663c64aaed41519969adf7dfa84139": {
      "model_module": "@jupyter-widgets/base",
      "model_module_version": "1.0.0",
      "model_name": "LayoutModel",
      "state": {
       "width": "100%"
      }
     },
     "01ca320c83e74a75a30170594d228e3e": {
      "model_module": "@jupyter-widgets/controls",
      "model_module_version": "1.1.0",
      "model_name": "SelectModel",
      "state": {
       "_options_labels": [
        ""
       ],
       "description": "Features:",
       "index": 0,
       "layout": "IPY_MODEL_1434da4901ef40a38869546199ecf74c",
       "rows": 1,
       "style": "IPY_MODEL_dbf05c22873e463caacf9d44be6ba19f"
      }
     },
     "027727cd0a184e11890422426ddf8abc": {
      "model_module": "@jupyter-widgets/controls",
      "model_module_version": "1.1.0",
      "model_name": "ButtonModel",
      "state": {
       "icon": "backward",
       "layout": "IPY_MODEL_b41b2771cb8945ecbc4763503ee06295",
       "style": "IPY_MODEL_a3ea88713ab347949a1aea149b158757"
      }
     },
     "0291bc4c1ea74b6eac9cc669a6ae1230": {
      "model_module": "@jupyter-widgets/controls",
      "model_module_version": "1.1.0",
      "model_name": "HBoxModel",
      "state": {
       "children": [
        "IPY_MODEL_5d65472b9fc34dbfbddaf5765794e9b5",
        "IPY_MODEL_eb0b580f21044e7cb08a10282df93a8b",
        "IPY_MODEL_8794486694e340b9a15591ce7614f284",
        "IPY_MODEL_6802e06138b24b1db2ba72d116484edd",
        "IPY_MODEL_fddee08134044ec9b06a000c909f1b15",
        "IPY_MODEL_5d5997feb6a44c099ccb69a9cd5a83f3",
        "IPY_MODEL_9a614e11c7644cc5ab8effc4b57ef49f"
       ],
       "layout": "IPY_MODEL_04870251326f4de28b91997579dee8d4"
      }
     },
     "02b2bdfa41244e099f7baca2d964b5ac": {
      "model_module": "@jupyter-widgets/base",
      "model_module_version": "1.0.0",
      "model_name": "LayoutModel",
      "state": {
       "width": "100%"
      }
     },
     "043a481c04f04b4eb33f6d17ec60e34d": {
      "model_module": "@jupyter-widgets/base",
      "model_module_version": "1.0.0",
      "model_name": "LayoutModel",
      "state": {}
     },
     "04870251326f4de28b91997579dee8d4": {
      "model_module": "@jupyter-widgets/base",
      "model_module_version": "1.0.0",
      "model_name": "LayoutModel",
      "state": {
       "height": "50px",
       "width": "100%"
      }
     },
     "05168149f5cc4277a8e9bcfb7ad98e6a": {
      "model_module": "@jupyter-widgets/controls",
      "model_module_version": "1.1.0",
      "model_name": "DescriptionStyleModel",
      "state": {
       "description_width": "initial"
      }
     },
     "059fbed2da714551893c9790a7c3aa19": {
      "model_module": "@jupyter-widgets/base",
      "model_module_version": "1.0.0",
      "model_name": "LayoutModel",
      "state": {}
     },
     "05c3166baccc49088e1c0c005cc23b0c": {
      "model_module": "@jupyter-widgets/controls",
      "model_module_version": "1.1.0",
      "model_name": "DescriptionStyleModel",
      "state": {
       "description_width": ""
      }
     },
     "0606271b18d74bb5ba056f369698c8ed": {
      "model_module": "@jupyter-widgets/controls",
      "model_module_version": "1.1.0",
      "model_name": "FloatTextModel",
      "state": {
       "description": "Leftmost color maps to:",
       "layout": "IPY_MODEL_a5d094adb10b4cca88e8bc2b3cabe8f9",
       "step": null,
       "style": "IPY_MODEL_2d61e96a3e2f4b7c93be0bfeea0665da"
      }
     },
     "06982900807d4d5888d973f388130fa9": {
      "model_module": "@jupyter-widgets/controls",
      "model_module_version": "1.1.0",
      "model_name": "ButtonStyleModel",
      "state": {}
     },
     "06ed5da4b11f4bd08630949239d93ebb": {
      "model_module": "@jupyter-widgets/controls",
      "model_module_version": "1.1.0",
      "model_name": "DescriptionStyleModel",
      "state": {
       "description_width": "initial"
      }
     },
     "08bb023f56194fa2af04ed4b08d2e2e0": {
      "model_module": "@jupyter-widgets/base",
      "model_module_version": "1.0.0",
      "model_name": "LayoutModel",
      "state": {
       "width": "100%"
      }
     },
     "0993c1526a014508b8e8f51dc89928b6": {
      "model_module": "@jupyter-widgets/controls",
      "model_module_version": "1.1.0",
      "model_name": "DescriptionStyleModel",
      "state": {
       "description_width": "initial"
      }
     },
     "0a06fe85745e4efcb11ae56efc748546": {
      "model_module": "@jupyter-widgets/controls",
      "model_module_version": "1.1.0",
      "model_name": "FloatTextModel",
      "state": {
       "description": "Rightmost color maps to:",
       "layout": "IPY_MODEL_601dd17ba01444d98e7a91ba750ada41",
       "step": null,
       "style": "IPY_MODEL_94a331d0c7894f52adfa8160a4b67fcf",
       "value": 1
      }
     },
     "0a604c8b00354893840f57bb81fc2ddc": {
      "model_module": "@jupyter-widgets/controls",
      "model_module_version": "1.1.0",
      "model_name": "DescriptionStyleModel",
      "state": {
       "description_width": "initial"
      }
     },
     "0ae1652a773241ab9c099fdab7340533": {
      "model_module": "@jupyter-widgets/controls",
      "model_module_version": "1.1.0",
      "model_name": "HTMLModel",
      "state": {
       "layout": "IPY_MODEL_56e76deeaa5443fa8340fbde60c98a39",
       "style": "IPY_MODEL_3371a78a1cbc4c00b87d4d1b6d407570",
       "value": "<img src=\"data:image/gif;base64,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\"/>"
      }
     },
     "0b3a47e470df43b0a668e03d3ccd4206": {
      "model_module": "@jupyter-widgets/controls",
      "model_module_version": "1.1.0",
      "model_name": "DescriptionStyleModel",
      "state": {
       "description_width": ""
      }
     },
     "0d1cc18a5f9743349110d0948a503a16": {
      "model_module": "@jupyter-widgets/base",
      "model_module_version": "1.0.0",
      "model_name": "LayoutModel",
      "state": {
       "width": "100%"
      }
     },
     "0e21a2d8d71c4995bdaeac45465c18db": {
      "model_module": "@jupyter-widgets/controls",
      "model_module_version": "1.1.0",
      "model_name": "SelectModel",
      "state": {
       "_options_labels": [
        ""
       ],
       "description": "Features:",
       "index": 0,
       "layout": "IPY_MODEL_35f8d5437325426d81be5986835500b8",
       "rows": 1,
       "style": "IPY_MODEL_05c3166baccc49088e1c0c005cc23b0c"
      }
     },
     "0f2756a3cb5f4cc0ade96c8caab9bb8f": {
      "model_module": "@jupyter-widgets/controls",
      "model_module_version": "1.1.0",
      "model_name": "SliderStyleModel",
      "state": {
       "description_width": "initial"
      }
     },
     "0fc4fee8b9384b7c8b02d67a98759ad6": {
      "model_module": "@jupyter-widgets/base",
      "model_module_version": "1.0.0",
      "model_name": "LayoutModel",
      "state": {}
     },
     "0ff8b24c87bf410da9fdac2f99c642f3": {
      "model_module": "@jupyter-widgets/controls",
      "model_module_version": "1.1.0",
      "model_name": "IntTextModel",
      "state": {
       "description": "Vertical space between layers:",
       "layout": "IPY_MODEL_c686efe2613a47a4ab06df069e39bc74",
       "step": 1,
       "style": "IPY_MODEL_bd5b8476c1064b53be804f5649052f39",
       "value": 30
      }
     },
     "10350c5f0ff44e1bbc8c41b8654ed0c3": {
      "model_module": "@jupyter-widgets/controls",
      "model_module_version": "1.1.0",
      "model_name": "HTMLModel",
      "state": {
       "layout": "IPY_MODEL_3a9ed2986e5b49cb8ce807dad2774848",
       "style": "IPY_MODEL_8ac1885818ce40c8a7653c4350dae50b",
       "value": "61440it [00:00, 662781.43it/s]"
      }
     },
     "111bb8d681b246f6a2fd1916d9731364": {
      "model_module": "@jupyter-widgets/controls",
      "model_module_version": "1.1.0",
      "model_name": "DescriptionStyleModel",
      "state": {
       "description_width": ""
      }
     },
     "122af28038e94cdd82c315f57bc32a3d": {
      "model_module": "@jupyter-widgets/base",
      "model_module_version": "1.0.0",
      "model_name": "LayoutModel",
      "state": {}
     },
     "125fdd4cd5ab49038e80b019e693dad7": {
      "model_module": "@jupyter-widgets/controls",
      "model_module_version": "1.1.0",
      "model_name": "ButtonModel",
      "state": {
       "description": "Play",
       "icon": "play",
       "layout": "IPY_MODEL_5d8bb152c8eb44c2a51fbd438e589cf5",
       "style": "IPY_MODEL_e0891f2f84934c67891adc190f2f71d3"
      }
     },
     "1434da4901ef40a38869546199ecf74c": {
      "model_module": "@jupyter-widgets/base",
      "model_module_version": "1.0.0",
      "model_name": "LayoutModel",
      "state": {}
     },
     "14d4f0e898324a2eb1c4c2810a3aada8": {
      "model_module": "@jupyter-widgets/base",
      "model_module_version": "1.0.0",
      "model_name": "LayoutModel",
      "state": {}
     },
     "164d366be79e4f8f9cb7fddece1c5edc": {
      "model_module": "@jupyter-widgets/controls",
      "model_module_version": "1.1.0",
      "model_name": "IntTextModel",
      "state": {
       "description": "Horizontal space between banks:",
       "layout": "IPY_MODEL_c686efe2613a47a4ab06df069e39bc74",
       "step": 1,
       "style": "IPY_MODEL_765093e2029a40cf8dfa8fbc2a5d13d9",
       "value": 150
      }
     },
     "16dcbd99433547bda1aa1f30c4d5796d": {
      "model_module": "@jupyter-widgets/controls",
      "model_module_version": "1.1.0",
      "model_name": "VBoxModel",
      "state": {
       "children": [
        "IPY_MODEL_f401d623aff64c83a044a4e29bddfb5a",
        "IPY_MODEL_b44f005edf4e4d539fb35112934f3b3a",
        "IPY_MODEL_fac63085aaad4d00873f35cdd0b5446f",
        "IPY_MODEL_cbe487eb0c9144b897c3b5432164f298",
        "IPY_MODEL_2519b358853d4da98544bd0309195164",
        "IPY_MODEL_01ca320c83e74a75a30170594d228e3e",
        "IPY_MODEL_953fd888cf9b4a189c7533d21b54b2f5",
        "IPY_MODEL_76668413d58c40619727ab05df2f3907"
       ],
       "layout": "IPY_MODEL_6287eb845b274d71bf4348a83fe56e7d"
      }
     },
     "16fbbee10d234cb68e9d1219ea84ce15": {
      "model_module": "@jupyter-widgets/base",
      "model_module_version": "1.0.0",
      "model_name": "LayoutModel",
      "state": {
       "width": "100px"
      }
     },
     "177bf929a8d740f9ab56e0589f5b5f97": {
      "model_module": "@jupyter-widgets/controls",
      "model_module_version": "1.1.0",
      "model_name": "DescriptionStyleModel",
      "state": {
       "description_width": "initial"
      }
     },
     "17dc2714abf5495d8c52bdcd48f2a90b": {
      "model_module": "@jupyter-widgets/base",
      "model_module_version": "1.0.0",
      "model_name": "LayoutModel",
      "state": {
       "width": "65%"
      }
     },
     "18dc2f10704c44bba093717c1fda887a": {
      "model_module": "@jupyter-widgets/controls",
      "model_module_version": "1.1.0",
      "model_name": "AccordionModel",
      "state": {
       "_titles": {
        "0": "Alice in Wonderland"
       },
       "children": [
        "IPY_MODEL_6fa790e0604343faa0a6f89d2869d16a"
       ],
       "layout": "IPY_MODEL_ecf34d4f5e04410cadd8761e43e3964b",
       "selected_index": null
      }
     },
     "190ce494600d464f86b10205ee596aef": {
      "model_module": "@jupyter-widgets/controls",
      "model_module_version": "1.1.0",
      "model_name": "IntTextModel",
      "state": {
       "description": "Feature columns:",
       "layout": "IPY_MODEL_95ae94def5d640e1acaf784f79b6da81",
       "step": 1,
       "style": "IPY_MODEL_51aa372876924a24aee5598f17acea91",
       "value": 3
      }
     },
     "1b48407d538348c8bd0bcd0417215b1d": {
      "model_module": "@jupyter-widgets/controls",
      "model_module_version": "1.1.0",
      "model_name": "DescriptionStyleModel",
      "state": {
       "description_width": ""
      }
     },
     "1b6da1b896774f38911ec8812ff2516a": {
      "model_module": "@jupyter-widgets/controls",
      "model_module_version": "1.1.0",
      "model_name": "FloatSliderModel",
      "state": {
       "continuous_update": false,
       "description": "Zoom",
       "layout": "IPY_MODEL_ff3a01c3183d4328a3c9882a6d8d14d4",
       "max": 1,
       "step": 0.1,
       "style": "IPY_MODEL_2c31009707d543da889102c593d61bc3",
       "value": 0.5
      }
     },
     "1c747afe29794274840e004cbc4c4e1e": {
      "model_module": "@jupyter-widgets/controls",
      "model_module_version": "1.1.0",
      "model_name": "IntSliderModel",
      "state": {
       "continuous_update": false,
       "description": "Dataset index",
       "layout": "IPY_MODEL_e5b4c775c8664453a22c25da2df67ea8",
       "max": 158772,
       "style": "IPY_MODEL_a08c7f2081aa4bb281cde43b1ca6995c"
      }
     },
     "1e7a44df39e34c0b99817cd4e6a37ce8": {
      "model_module": "@jupyter-widgets/controls",
      "model_module_version": "1.1.0",
      "model_name": "VBoxModel",
      "state": {
       "children": [
        "IPY_MODEL_dd257b97abd44715b6da4f20fbb3e62f",
        "IPY_MODEL_d7418fb805864bb78cd924e541de406e",
        "IPY_MODEL_e205d28d6a0344d18d25c6ba98230952",
        "IPY_MODEL_a2ae0018f36b4514b5d942ebdd51cfee",
        "IPY_MODEL_9bbc2c2e49a7468a9a93040af0cf048e",
        "IPY_MODEL_df175d9035f34a0c9fdebb7d656091f6",
        "IPY_MODEL_27a0de6588b143e89f45e48621b3e784",
        "IPY_MODEL_6006235c2bfd4b80b7c9b8e5441577fb"
       ],
       "layout": "IPY_MODEL_8465f860016b42989ae6d4d53e5be080"
      }
     },
     "1f0f76a7b0d84129bf0bc5c34677e461": {
      "model_module": "@jupyter-widgets/base",
      "model_module_version": "1.0.0",
      "model_name": "LayoutModel",
      "state": {}
     },
     "1fb4e9322a2f4234957fac8a12eedda5": {
      "model_module": "@jupyter-widgets/base",
      "model_module_version": "1.0.0",
      "model_name": "LayoutModel",
      "state": {
       "width": "100%"
      }
     },
     "2057f7a6189344dbae2723191661e0aa": {
      "model_module": "@jupyter-widgets/controls",
      "model_module_version": "1.1.0",
      "model_name": "HBoxModel",
      "state": {
       "children": [
        "IPY_MODEL_a74ebe859d48474e9aa36e985952a6e4",
        "IPY_MODEL_3e287e8c7e874a6ab51a345a12d62ffe"
       ],
       "layout": "IPY_MODEL_d5c9367032da4e188abf23a300fb0bc0"
      }
     },
     "20737f08a8a54e32a5f2ae4dd04b5822": {
      "model_module": "@jupyter-widgets/controls",
      "model_module_version": "1.1.0",
      "model_name": "SelectModel",
      "state": {
       "_options_labels": [
        "Test",
        "Train"
       ],
       "description": "Dataset:",
       "index": 1,
       "layout": "IPY_MODEL_fff1c98a41e14a1381c9fdff5a5453ed",
       "rows": 1,
       "style": "IPY_MODEL_d088c55fb8ea4d779e7c790a9eef03cb"
      }
     },
     "217b8c05a7e942dab87a74e5264e9016": {
      "model_module": "@jupyter-widgets/base",
      "model_module_version": "1.0.0",
      "model_name": "LayoutModel",
      "state": {}
     },
     "2244bf5369d24f20b68883a4fb494fb7": {
      "model_module": "@jupyter-widgets/controls",
      "model_module_version": "1.1.0",
      "model_name": "ButtonModel",
      "state": {
       "description": "Play",
       "icon": "play",
       "layout": "IPY_MODEL_ef3cbb78583b444eb299ee9c8ecb9998",
       "style": "IPY_MODEL_fe1803fb82674d27b351a357cceb7f11"
      }
     },
     "22b71aebe7b04046941d1ef4f663771f": {
      "model_module": "@jupyter-widgets/base",
      "model_module_version": "1.0.0",
      "model_name": "LayoutModel",
      "state": {
       "width": "100%"
      }
     },
     "23f00db75c454f1aa52e4b7eee0ef3aa": {
      "model_module": "@jupyter-widgets/controls",
      "model_module_version": "1.1.0",
      "model_name": "DescriptionStyleModel",
      "state": {
       "description_width": "initial"
      }
     },
     "2519b358853d4da98544bd0309195164": {
      "model_module": "@jupyter-widgets/controls",
      "model_module_version": "1.1.0",
      "model_name": "HBoxModel",
      "state": {
       "children": [
        "IPY_MODEL_e6393e1380cf4f2aa5d1733e9287a7b4",
        "IPY_MODEL_69726c592b4844a88c7e3a0ba6fd5a53"
       ],
       "layout": "IPY_MODEL_b78d0028896549b5a56b10dd96461692"
      }
     },
     "253bde0615a74b6f92451dcb00bcb6cd": {
      "model_module": "@jupyter-widgets/controls",
      "model_module_version": "1.1.0",
      "model_name": "DescriptionStyleModel",
      "state": {
       "description_width": ""
      }
     },
     "254d7020389e406d837e1b23d1f492a1": {
      "model_module": "@jupyter-widgets/controls",
      "model_module_version": "1.1.0",
      "model_name": "DescriptionStyleModel",
      "state": {
       "description_width": ""
      }
     },
     "25ec778697ff46e7b99da0c56b55a4b1": {
      "model_module": "@jupyter-widgets/controls",
      "model_module_version": "1.1.0",
      "model_name": "DescriptionStyleModel",
      "state": {
       "description_width": "initial"
      }
     },
     "2625dd42d89b4659a2b2aeb37bb011bb": {
      "model_module": "@jupyter-widgets/controls",
      "model_module_version": "1.1.0",
      "model_name": "HBoxModel",
      "state": {
       "children": [
        "IPY_MODEL_f1d9e9d48e6a47969dc79a774b37a6e7",
        "IPY_MODEL_31bf77c0c3014ae6ad3c698ae4d6f54e"
       ],
       "layout": "IPY_MODEL_454f054161844b28b5093fedbdc946f6"
      }
     },
     "2732d58eb5d84244a1593be9c777dc99": {
      "model_module": "@jupyter-widgets/controls",
      "model_module_version": "1.1.0",
      "model_name": "SliderStyleModel",
      "state": {
       "description_width": "initial"
      }
     },
     "273ceabd26f04525940ef07b1167d790": {
      "model_module": "@jupyter-widgets/base",
      "model_module_version": "1.0.0",
      "model_name": "LayoutModel",
      "state": {
       "width": "100%"
      }
     },
     "27a0de6588b143e89f45e48621b3e784": {
      "model_module": "@jupyter-widgets/controls",
      "model_module_version": "1.1.0",
      "model_name": "IntTextModel",
      "state": {
       "description": "Feature to show:",
       "layout": "IPY_MODEL_1f0f76a7b0d84129bf0bc5c34677e461",
       "step": 1,
       "style": "IPY_MODEL_a2c565b919f4428bb61ba5415d33f57e"
      }
     },
     "27e1e81c430a4c1a811dc2d54c020558": {
      "model_module": "@jupyter-widgets/base",
      "model_module_version": "1.0.0",
      "model_name": "LayoutModel",
      "state": {}
     },
     "28285284e5454dad9810c11aa702e045": {
      "model_module": "@jupyter-widgets/controls",
      "model_module_version": "1.1.0",
      "model_name": "VBoxModel",
      "state": {
       "children": [
        "IPY_MODEL_d008b82e97884c34a5f46feae5e51593",
        "IPY_MODEL_0291bc4c1ea74b6eac9cc669a6ae1230"
       ],
       "layout": "IPY_MODEL_799f13676efb4cfaa03d224aa23a622d"
      }
     },
     "282a4adc56a84dab92e4f7f54dc4a8bf": {
      "model_module": "@jupyter-widgets/controls",
      "model_module_version": "1.1.0",
      "model_name": "DescriptionStyleModel",
      "state": {
       "description_width": "initial"
      }
     },
     "286c805018d943cabe537fd4f0b20ff2": {
      "model_module": "@jupyter-widgets/controls",
      "model_module_version": "1.1.0",
      "model_name": "VBoxModel",
      "state": {
       "children": [
        "IPY_MODEL_fdc0f5c6fc5c4a618e0d8ba76bd8e699",
        "IPY_MODEL_c050d2a21b834e7e91d7fcb2e35b8505",
        "IPY_MODEL_432caadd9ea3450983803714db71c1be",
        "IPY_MODEL_0ae1652a773241ab9c099fdab7340533",
        "IPY_MODEL_0606271b18d74bb5ba056f369698c8ed",
        "IPY_MODEL_0a06fe85745e4efcb11ae56efc748546",
        "IPY_MODEL_7c40d0d829b64d98b10f6493f4a2d14d",
        "IPY_MODEL_2625dd42d89b4659a2b2aeb37bb011bb"
       ],
       "layout": "IPY_MODEL_b3399e39c51248b7b3ae6b8947648ae3"
      }
     },
     "2b5b2a5c325d4cf185194500ef19e99d": {
      "model_module": "@jupyter-widgets/controls",
      "model_module_version": "1.1.0",
      "model_name": "ButtonStyleModel",
      "state": {}
     },
     "2c31009707d543da889102c593d61bc3": {
      "model_module": "@jupyter-widgets/controls",
      "model_module_version": "1.1.0",
      "model_name": "SliderStyleModel",
      "state": {
       "description_width": "initial"
      }
     },
     "2d61e96a3e2f4b7c93be0bfeea0665da": {
      "model_module": "@jupyter-widgets/controls",
      "model_module_version": "1.1.0",
      "model_name": "DescriptionStyleModel",
      "state": {
       "description_width": "initial"
      }
     },
     "2da7c32082cc46f79ce1bf1f6946e803": {
      "model_module": "@jupyter-widgets/controls",
      "model_module_version": "1.1.0",
      "model_name": "LabelModel",
      "state": {
       "layout": "IPY_MODEL_16fbbee10d234cb68e9d1219ea84ce15",
       "style": "IPY_MODEL_620b7321ea884c758835be44dbc9f8d8",
       "value": "of 158773"
      }
     },
     "2e7181fc87e04dcc8c137c9a80afe9d7": {
      "model_module": "@jupyter-widgets/controls",
      "model_module_version": "1.1.0",
      "model_name": "ButtonModel",
      "state": {
       "icon": "fast-backward",
       "layout": "IPY_MODEL_22b71aebe7b04046941d1ef4f663771f",
       "style": "IPY_MODEL_b991a69e32d94ca994a6826b1fcaf71f"
      }
     },
     "2e96aa6d6aec40baad588c2e3b4e4ce6": {
      "model_module": "@jupyter-widgets/controls",
      "model_module_version": "1.1.0",
      "model_name": "HBoxModel",
      "state": {
       "children": [
        "IPY_MODEL_785e7ae49e2247e5b42787f0604376a6",
        "IPY_MODEL_f0af001ddd1e4a77a3cb31956ae151c8"
       ],
       "layout": "IPY_MODEL_5d179519cb2144538d376f086a22a26f"
      }
     },
     "2f89a834735449b09bc9c7c36bfacb77": {
      "model_module": "@jupyter-widgets/controls",
      "model_module_version": "1.1.0",
      "model_name": "SelectModel",
      "state": {
       "_options_labels": [
        "Test",
        "Train"
       ],
       "description": "Dataset:",
       "index": 1,
       "layout": "IPY_MODEL_fe58c92680ac4376a0154ff04604ebd7",
       "rows": 1,
       "style": "IPY_MODEL_6965f8fd26124a35b7c65c93e624ab94"
      }
     },
     "2fd31f6bf292402284adc04ca54a7cc1": {
      "model_module": "@jupyter-widgets/controls",
      "model_module_version": "1.1.0",
      "model_name": "ButtonModel",
      "state": {
       "icon": "forward",
       "layout": "IPY_MODEL_6218bf0e861540598e9c7eb93891e4ab",
       "style": "IPY_MODEL_7bbaa862392a49c78e329eb807c0e835"
      }
     },
     "2ffc9a3cc12c4cfdbc15188bc35db0b3": {
      "model_module": "@jupyter-widgets/base",
      "model_module_version": "1.0.0",
      "model_name": "LayoutModel",
      "state": {
       "width": "100%"
      }
     },
     "30d4c5e8c12f4835982f59b074a1af7a": {
      "model_module": "@jupyter-widgets/base",
      "model_module_version": "1.0.0",
      "model_name": "LayoutModel",
      "state": {
       "width": "100%"
      }
     },
     "31bf77c0c3014ae6ad3c698ae4d6f54e": {
      "model_module": "@jupyter-widgets/controls",
      "model_module_version": "1.1.0",
      "model_name": "ButtonModel",
      "state": {
       "icon": "save",
       "layout": "IPY_MODEL_b828236e20914d4db868e7b2b54ef344",
       "style": "IPY_MODEL_dd1eb48839f045cc9311748703434b35"
      }
     },
     "3370e1aa2fee4a609d00cde5d293e423": {
      "model_module": "@jupyter-widgets/base",
      "model_module_version": "1.0.0",
      "model_name": "LayoutModel",
      "state": {
       "width": "100%"
      }
     },
     "3371a78a1cbc4c00b87d4d1b6d407570": {
      "model_module": "@jupyter-widgets/controls",
      "model_module_version": "1.1.0",
      "model_name": "DescriptionStyleModel",
      "state": {
       "description_width": ""
      }
     },
     "33c2804f564e44ddb0a11da1a4a71cc9": {
      "model_module": "@jupyter-widgets/controls",
      "model_module_version": "1.1.0",
      "model_name": "HTMLModel",
      "state": {
       "layout": "IPY_MODEL_b314a5af7f31463ab942b86f7de8b991",
       "style": "IPY_MODEL_998dbf93523c44e59de6d4d51733fd3e",
       "value": "<p style=\"text-align:center\"><svg id='Alice in Wonderland' xmlns='http://www.w3.org/2000/svg' image-rendering=\"pixelated\" width=\"297.87234042553195px\" height=\"400.0px\">\n <g >\n  <svg viewBox=\"0 0 350 470\" width=\"297.87234042553195px\" height=\"400.0px\">\n    <defs>\n        <marker id=\"arrow\" markerWidth=\"10\" markerHeight=\"10\" refX=\"9\" refY=\"3\" orient=\"auto\" markerUnits=\"strokeWidth\">\n          <path d=\"M0,0 L0,6 L9,3 z\" fill=\"black\" />\n        </marker>\n    </defs><rect x=\"74.0\" y=\"24\" width=\"202\" height=\"52\" style=\"fill:none;stroke:black;stroke-width:2\"/><image id=\"picture-dashboard-Alice in Wonderland-172647_output_targets_7\" class=\"picture-dashboard-Alice in Wonderland-172647_output_targets\" x=\"75.0\" y=\"25\" height=\"50\" width=\"200\" preserveAspectRatio=\"none\" href=\"data:image/gif;base64,R0lGODdhNwABAIcAAIcAAAAAAAAAAAAAAAAAAAAAAAAAAAAAAAAAAAAAAAAAAAAAAAAAAAAAAAAAAAAAAAAAAAAAAAAAAAAAAAAAAAAAAAAAAAAAAAAAAAAAAAAAAAAAAAAAAAAAAAAAAAAAAAAAAAAAAAAAAAAAAAAAAAAAAAAAAAAAAAAAAAAAAAAAAAAAAAAAAAAAAAAAAAAAAAAAAAAAAAAAAAAAAAAAAAAAAAAAAAAAAAAAAAAAAAAAAAAAAAAAAAAAAAAAAAAAAAAAAAAAAAAAAAAAAAAAAAAAAAAAAAAAAAAAAAAAAAAAAAAAAAAAAAAAAAAAAAAAAAAAAAAAAAAAAAAAAAAAAAAAAAAAAAAAAAAAAAAAAAAAAAAAAAAAAAAAAAAAAAAAAAAAAAAAAAAAAAAAAAAAAAAAAAAAAAAAAAAAAAAAAAAAAAAAAAAAAAAAAAAAAAAAAAAAAAAAAAAAAAAAAAAAAAAAAAAAAAAAAAAAAAAAAAAAAAAAAAAAAAAAAAAAAAAAAAAAAAAAAAAAAAAAAAAAAAAAAAAAAAAAAAAAAAAAAAAAAAAAAAAAAAAAAAAAAAAAAAAAAAAAAAAAAAAAAAAAAAAAAAAAAAAAAAAAAAAAAAAAAAAAAAAAAAAAAAAAAAAAAAAAAAAAAAAAAAAAAAAAAAAAAAAAAAAAAAAAAAAAAAAAAAAAAAAAAAAAAAAAAAAAAAAAAAAAAAAAAAAAAAAAAAAAAAAAAAAAAAAAAAAAAAAAAAAAAAAAAAAAAAAAAAAAAAAAAAAAAAAAAAAAAAAAAAAAAAAAAAAAAAAAAAAAAAAAAAAAAAAAAAAAAAAAAAAAAAAAAAAAAAAAAAAAAAAAAAAAAAAAAAAAAAAAAAAAAAAAAAAAAAAAAAAAAAAAAAAAAAAAAAAAAAAAAAAAAAAAAAAAAAAAAAAAAAAAAAAAAAAAAAAAAAAAAAAAAAAAAAAAAAAAAAAAAAAAAAAAAAAAAAAAAAAAAAAAAAAAAAAAAAAAAAAAAAAAAAAAAAAAAAAAACwAAAAANwABAAAIDgABCBxIsKDBgwgTKgwIADs=\"><title>Layer: output (output)\n output range: (0, 1)\n shape = (55,)\n Keras class = Dense\n activation = softmax</title></image><text x=\"280.0\" y=\"52.0\" font-family=\"monospace\" font-size=\"12\" text-anchor=\"start\" fill=\"black\" alignment-baseline=\"central\" >targets</text><line x1=\"87.5\" y1=\"80\" x2=\"262.5\" y2=\"80\" stroke=\"green\" stroke-width=\"2\"><title></title></line><rect x=\"74.0\" y=\"84\" width=\"202\" height=\"52\" style=\"fill:none;stroke:black;stroke-width:2\"/><image id=\"picture-dashboard-Alice in Wonderland-172647_output_7\" class=\"picture-dashboard-Alice in Wonderland-172647_output\" x=\"75.0\" y=\"85\" height=\"50\" width=\"200\" preserveAspectRatio=\"none\" href=\"data:image/gif;base64,R0lGODdhNwABAIcAAIcAAAAAAAAAAAAAAAAAAAAAAAAAAAAAAAAAAAAAAAAAAAAAAAAAAAAAAAAAAAAAAAAAAAAAAAAAAAAAAAAAAAAAAAAAAAAAAAAAAAAAAAAAAAAAAAAAAAAAAAAAAAAAAAAAAAAAAAAAAAAAAAAAAAAAAAAAAAAAAAAAAAAAAAAAAAAAAAAAAAAAAAAAAAAAAAAAAAAAAAAAAAAAAAAAAAAAAAAAAAAAAAAAAAAAAAAAAAAAAAAAAAAAAAAAAAAAAAAAAAAAAAAAAAAAAAAAAAAAAAAAAAAAAAAAAAAAAAAAAAAAAAAAAAAAAAAAAAAAAAAAAAAAAAAAAAAAAAAAAAAAAAAAAAAAAAAAAAAAAAAAAAAAAAAAAAAAAAAAAAAAAAAAAAAAAAAAAAAAAAAAAAAAAAAAAAAAAAAAAAAAAAAAAAAAAAAAAAAAAAAAAAAAAAAAAAAAAAAAAAAAAAAAAAAAAAAAAAAAAAAAAAAAAAAAAAAAAAAAAAAAAAAAAAAAAAAAAAAAAAAAAAAAAAAAAAAAAAAAAAAAAAAAAAAAAAAAAAAAAAAAAAAAAAAAAAAAAAAAAAAAAAAAAAAAAAAAAAAAAAAAAAAAAAAAAAAAAAAAAAAAAAAAAAAAAAAAAAAAAAAAAAAAAAAAAAAAAAAAAAAAAAAAAAAAAAAAAAAAAAAAAAAAAAAAAAAAAAAAAAAAAAAAAAAAAAAAAAAAAAAAAAAAAAAAAAAAAAAAAAAAAAAAAAAAAAAAAAAAAAAAAAAAAAAAAAAAAAAAAAAAAAAAAAAAAAAAAAAAAAAAAAAAAAAAAAAAAAAAAAAAAAAAAAAAAAAAAAAAAAAAAAAAAAAAAAAAAAAAAAAAAAAAAAAAAAAAAAAAAAAAAAAAAAAAAAAAAAAAAAAAAAAAAAAAAAAAAAAAAAAAAAAAAAAAAAAAAAAAAAAAAAAAAAAAAAAAAAAAAAAAAAAAAAAAAAAAAAAAAAAAAAAAAAAAAAAAAAAAAAAAAAAAAAAAAAAAAAAAAAAAACwAAAAANwABAAAIDgABCBxIsKDBgwgTKgwIADs=\"><title>Layer: output (output)\n output range: (0, 1)\n shape = (55,)\n Keras class = Dense\n activation = softmax</title></image><text x=\"280.0\" y=\"112.0\" font-family=\"monospace\" font-size=\"12\" text-anchor=\"start\" fill=\"black\" alignment-baseline=\"central\" >output</text><line x1=\"175.0\" y1=\"164\" x2=\"175.0\" y2=\"137\" stroke=\"black\" stroke-width=\"2\" marker-end=\"url(#arrow)\"><title>Weights from rnn to output\n output/kernel:0 has shape (128, 55)\n output/bias:0 has shape (55,)</title></line><rect x=\"74.0\" y=\"164\" width=\"202\" height=\"52\" style=\"fill:none;stroke:black;stroke-width:2\"/><image id=\"picture-dashboard-Alice in Wonderland-172647_rnn_8\" class=\"picture-dashboard-Alice in Wonderland-172647_rnn\" x=\"75.0\" y=\"165\" height=\"50\" width=\"200\" preserveAspectRatio=\"none\" href=\"data:image/gif;base64,R0lGODdhgAABAIcAAPv3+vnn7P/Y2P+6utbW//+YmP+np7e3/8TE///Hx6Ki/2tr/3l5/4GB//+Hh52d//9tbQAAAAAAAAAAAAAAAAAAAAAAAAAAAAAAAAAAAAAAAAAAAAAAAAAAAAAAAAAAAAAAAAAAAAAAAAAAAAAAAAAAAAAAAAAAAAAAAAAAAAAAAAAAAAAAAAAAAAAAAAAAAAAAAAAAAAAAAAAAAAAAAAAAAAAAAAAAAAAAAAAAAAAAAAAAAAAAAAAAAAAAAAAAAAAAAAAAAAAAAAAAAAAAAAAAAAAAAAAAAAAAAAAAAAAAAAAAAAAAAAAAAAAAAAAAAAAAAAAAAAAAAAAAAAAAAAAAAAAAAAAAAAAAAAAAAAAAAAAAAAAAAAAAAAAAAAAAAAAAAAAAAAAAAAAAAAAAAAAAAAAAAAAAAAAAAAAAAAAAAAAAAAAAAAAAAAAAAAAAAAAAAAAAAAAAAAAAAAAAAAAAAAAAAAAAAAAAAAAAAAAAAAAAAAAAAAAAAAAAAAAAAAAAAAAAAAAAAAAAAAAAAAAAAAAAAAAAAAAAAAAAAAAAAAAAAAAAAAAAAAAAAAAAAAAAAAAAAAAAAAAAAAAAAAAAAAAAAAAAAAAAAAAAAAAAAAAAAAAAAAAAAAAAAAAAAAAAAAAAAAAAAAAAAAAAAAAAAAAAAAAAAAAAAAAAAAAAAAAAAAAAAAAAAAAAAAAAAAAAAAAAAAAAAAAAAAAAAAAAAAAAAAAAAAAAAAAAAAAAAAAAAAAAAAAAAAAAAAAAAAAAAAAAAAAAAAAAAAAAAAAAAAAAAAAAAAAAAAAAAAAAAAAAAAAAAAAAAAAAAAAAAAAAAAAAAAAAAAAAAAAAAAAAAAAAAAAAAAAAAAAAAAAAAAAAAAAAAAAAAAAAAAAAAAAAAAAAAAAAAAAAAAAAAAAAAAAAAAAAAAAAAAAAAAAAAAAAAAAAAAAAAAAAAAAAAAAAAAAAAAAAAAAAAAAAAAAAAAAAAAAAAAAAAAAAAAAAAAAAAAAAAAAAAAAAAAAAACwAAAAAgAABAAAIjwAPKEBAYICAAAkGBDAwwMABAAEAGBggAEAABgAGECAAIECDABAEBADwIEADAA4QBDgAIEABBAFiAhgwIEEAAAEIDAiQAAAAAgECCDgQAIACBAIAFADAtICAAAACBFhg4ICBAAsKAAAgAIADAAEKBABAVoCAAAUKBACAIAABAAMEGABAAMCBBAwMBFAAAEBAADs=\"><title>Layer: rnn (hidden)\n output range: (-Infinity, +Infinity)\n Keras class = SimpleRNN\n return_sequences = False\n unroll = True</title></image><text x=\"280.0\" y=\"192.0\" font-family=\"monospace\" font-size=\"12\" text-anchor=\"start\" fill=\"black\" alignment-baseline=\"central\" >rnn</text><line x1=\"175.0\" y1=\"244\" x2=\"175.0\" y2=\"217\" stroke=\"black\" stroke-width=\"2\" marker-end=\"url(#arrow)\"><title>Weights from input to rnn\n rnn/kernel:0 has shape (56, 128)\n rnn/recurrent_kernel:0 has shape (128, 128)\n rnn/bias:0 has shape (128,)</title></line><rect x=\"74.0\" y=\"244\" width=\"202\" height=\"202\" style=\"fill:none;stroke:black;stroke-width:2\"/><image id=\"picture-dashboard-Alice in Wonderland-172647_input_9\" class=\"picture-dashboard-Alice in Wonderland-172647_input\" x=\"75.0\" y=\"245\" height=\"200\" width=\"200\" preserveAspectRatio=\"none\" href=\"data:image/gif;base64,R0lGODdhOAAKAIcAAAAAAP///wAAAAAAAAAAAAAAAAAAAAAAAAAAAAAAAAAAAAAAAAAAAAAAAAAAAAAAAAAAAAAAAAAAAAAAAAAAAAAAAAAAAAAAAAAAAAAAAAAAAAAAAAAAAAAAAAAAAAAAAAAAAAAAAAAAAAAAAAAAAAAAAAAAAAAAAAAAAAAAAAAAAAAAAAAAAAAAAAAAAAAAAAAAAAAAAAAAAAAAAAAAAAAAAAAAAAAAAAAAAAAAAAAAAAAAAAAAAAAAAAAAAAAAAAAAAAAAAAAAAAAAAAAAAAAAAAAAAAAAAAAAAAAAAAAAAAAAAAAAAAAAAAAAAAAAAAAAAAAAAAAAAAAAAAAAAAAAAAAAAAAAAAAAAAAAAAAAAAAAAAAAAAAAAAAAAAAAAAAAAAAAAAAAAAAAAAAAAAAAAAAAAAAAAAAAAAAAAAAAAAAAAAAAAAAAAAAAAAAAAAAAAAAAAAAAAAAAAAAAAAAAAAAAAAAAAAAAAAAAAAAAAAAAAAAAAAAAAAAAAAAAAAAAAAAAAAAAAAAAAAAAAAAAAAAAAAAAAAAAAAAAAAAAAAAAAAAAAAAAAAAAAAAAAAAAAAAAAAAAAAAAAAAAAAAAAAAAAAAAAAAAAAAAAAAAAAAAAAAAAAAAAAAAAAAAAAAAAAAAAAAAAAAAAAAAAAAAAAAAAAAAAAAAAAAAAAAAAAAAAAAAAAAAAAAAAAAAAAAAAAAAAAAAAAAAAAAAAAAAAAAAAAAAAAAAAAAAAAAAAAAAAAAAAAAAAAAAAAAAAAAAAAAAAAAAAAAAAAAAAAAAAAAAAAAAAAAAAAAAAAAAAAAAAAAAAAAAAAAAAAAAAAAAAAAAAAAAAAAAAAAAAAAAAAAAAAAAAAAAAAAAAAAAAAAAAAAAAAAAAAAAAAAAAAAAAAAAAAAAAAAAAAAAAAAAAAAAAAAAAAAAAAAAAAAAAAAAAAAAAAAAAAAAAAAAAAAAAAAAAAAAAAAAAAAAAAAAAAAAAAAAAAAAAAAAAAAAAAAAAAAAAAAAAAAAAAAAACwAAAAAOAAKAAAIgwABCAwAoKDBgwgTKlzIsCHDAAAiSpxIsaLFixgzasQYAIDHjyBDihQZAIDJkyhTqlzJsqXLlyoDAJhJs6bNmzhz6qwZAIDPn0CDCh1KtKjRo0iJBgDAtKnTp1CjSp0aNQCAq1izat3KtavXrQEAiB1LtqzZs2IDAFjLtq3bt3Djug0IADs=\"><title>Layer: input (input)\n output range: (0.0, 1.0)\n shape = (10, 56)\n Keras class = Input</title></image><text x=\"280.0\" y=\"347.0\" font-family=\"monospace\" font-size=\"12\" text-anchor=\"start\" fill=\"black\" alignment-baseline=\"central\" >input</text><text x=\"175.0\" y=\"12.5\" font-family=\"monospace\" font-size=\"15\" text-anchor=\"middle\" fill=\"black\" alignment-baseline=\"central\" >Alice in Wonderland</text></svg></g></svg></p>"
      }
     },
     "33d7f7e22699466e94f34920c5af7265": {
      "model_module": "@jupyter-widgets/controls",
      "model_module_version": "1.1.0",
      "model_name": "IntTextModel",
      "state": {
       "layout": "IPY_MODEL_02b2bdfa41244e099f7baca2d964b5ac",
       "step": 1,
       "style": "IPY_MODEL_111bb8d681b246f6a2fd1916d9731364",
       "value": 8
      }
     },
     "33ffb89dd8b34e4a8b915b7c86083058": {
      "model_module": "@jupyter-widgets/base",
      "model_module_version": "1.0.0",
      "model_name": "LayoutModel",
      "state": {}
     },
     "355c9586c8dc4a6ca7e394c2941834c1": {
      "model_module": "@jupyter-widgets/base",
      "model_module_version": "1.0.0",
      "model_name": "LayoutModel",
      "state": {}
     },
     "35b530f2511448519cebff5a34bd4d57": {
      "model_module": "@jupyter-widgets/base",
      "model_module_version": "1.0.0",
      "model_name": "LayoutModel",
      "state": {
       "justify_content": "center",
       "overflow_x": "auto",
       "overflow_y": "auto",
       "width": "95%"
      }
     },
     "35f8d5437325426d81be5986835500b8": {
      "model_module": "@jupyter-widgets/base",
      "model_module_version": "1.0.0",
      "model_name": "LayoutModel",
      "state": {}
     },
     "3675b6262cea46558740997276991605": {
      "model_module": "@jupyter-widgets/base",
      "model_module_version": "1.0.0",
      "model_name": "LayoutModel",
      "state": {
       "width": "100%"
      }
     },
     "3780b1b48a82492fb8bf28d4b23000ba": {
      "model_module": "@jupyter-widgets/controls",
      "model_module_version": "1.1.0",
      "model_name": "ButtonStyleModel",
      "state": {}
     },
     "379151c024e14ce4b06079a34172e0c3": {
      "model_module": "@jupyter-widgets/controls",
      "model_module_version": "1.1.0",
      "model_name": "DescriptionStyleModel",
      "state": {
       "description_width": ""
      }
     },
     "38210d31e11b430fa3d87806da68fcc1": {
      "model_module": "@jupyter-widgets/base",
      "model_module_version": "1.0.0",
      "model_name": "LayoutModel",
      "state": {}
     },
     "38ce782adcb74663808943679b1583b7": {
      "model_module": "@jupyter-widgets/base",
      "model_module_version": "1.0.0",
      "model_name": "LayoutModel",
      "state": {
       "width": "100px"
      }
     },
     "3a29357a75c6429fbadc1b90205b0253": {
      "model_module": "@jupyter-widgets/controls",
      "model_module_version": "1.1.0",
      "model_name": "ButtonStyleModel",
      "state": {}
     },
     "3a9ed2986e5b49cb8ce807dad2774848": {
      "model_module": "@jupyter-widgets/base",
      "model_module_version": "1.0.0",
      "model_name": "LayoutModel",
      "state": {}
     },
     "3ab081513da245bba167bceb68b8763b": {
      "model_module": "@jupyter-widgets/controls",
      "model_module_version": "1.1.0",
      "model_name": "DescriptionStyleModel",
      "state": {
       "description_width": ""
      }
     },
     "3adfd5b99d3840e5bb9faa9b5f8e3269": {
      "model_module": "@jupyter-widgets/controls",
      "model_module_version": "1.1.0",
      "model_name": "IntTextModel",
      "state": {
       "description": "Feature columns:",
       "layout": "IPY_MODEL_217b8c05a7e942dab87a74e5264e9016",
       "step": 1,
       "style": "IPY_MODEL_b567dee705124abbb47b14310b186c72",
       "value": 3
      }
     },
     "3b0fe20fb2104e75ab1eb7454c1224f5": {
      "model_module": "@jupyter-widgets/controls",
      "model_module_version": "1.1.0",
      "model_name": "DescriptionStyleModel",
      "state": {
       "description_width": "initial"
      }
     },
     "3bc3e906e31e45baafef5b9816e604da": {
      "model_module": "@jupyter-widgets/controls",
      "model_module_version": "1.1.0",
      "model_name": "ButtonStyleModel",
      "state": {}
     },
     "3c11c64a8e48473390c8cdd79816434b": {
      "model_module": "@jupyter-widgets/controls",
      "model_module_version": "1.1.0",
      "model_name": "ButtonModel",
      "state": {
       "icon": "fast-backward",
       "layout": "IPY_MODEL_4391805c48914f769e7265de4148a4d5",
       "style": "IPY_MODEL_ec7d07d7f7c641658dcd100922ef72c7"
      }
     },
     "3c4db26541ff4d968184177b5d2bd88d": {
      "model_module": "@jupyter-widgets/base",
      "model_module_version": "1.0.0",
      "model_name": "LayoutModel",
      "state": {
       "width": "100%"
      }
     },
     "3d4346f713e942a9aa0dc33ef94754ee": {
      "model_module": "@jupyter-widgets/controls",
      "model_module_version": "1.1.0",
      "model_name": "LabelModel",
      "state": {
       "layout": "IPY_MODEL_e5119bf48d474319ae0209b4331b7720",
       "style": "IPY_MODEL_a6ed2df8c1f94c13b1c0f2522c98aecc",
       "value": "of 158773"
      }
     },
     "3e287e8c7e874a6ab51a345a12d62ffe": {
      "model_module": "@jupyter-widgets/controls",
      "model_module_version": "1.1.0",
      "model_name": "ButtonModel",
      "state": {
       "icon": "save",
       "layout": "IPY_MODEL_f32506bf00ab4d0597f1a29c040422bb",
       "style": "IPY_MODEL_f2121c022fae45ffa93f81db301372a5"
      }
     },
     "3e9b561d28d84af5b810ac3127e89d89": {
      "model_module": "@jupyter-widgets/base",
      "model_module_version": "1.0.0",
      "model_name": "LayoutModel",
      "state": {}
     },
     "3f0a20b1ca244e999c1f6a1af3fe9e56": {
      "model_module": "@jupyter-widgets/base",
      "model_module_version": "1.0.0",
      "model_name": "LayoutModel",
      "state": {}
     },
     "3f6d99f203c049ffb54acdce8d690272": {
      "model_module": "@jupyter-widgets/controls",
      "model_module_version": "1.1.0",
      "model_name": "ButtonModel",
      "state": {
       "icon": "fast-backward",
       "layout": "IPY_MODEL_3675b6262cea46558740997276991605",
       "style": "IPY_MODEL_2b5b2a5c325d4cf185194500ef19e99d"
      }
     },
     "4130260878034a52a83a42dd877b05a8": {
      "model_module": "@jupyter-widgets/controls",
      "model_module_version": "1.1.0",
      "model_name": "ButtonModel",
      "state": {
       "description": "Play",
       "icon": "play",
       "layout": "IPY_MODEL_1fb4e9322a2f4234957fac8a12eedda5",
       "style": "IPY_MODEL_823ab495070640f2a45291f8854f95b6"
      }
     },
     "41b1c07a33bb42019a8e5e43bd7344c7": {
      "model_module": "@jupyter-widgets/controls",
      "model_module_version": "1.1.0",
      "model_name": "IntTextModel",
      "state": {
       "description": "Feature columns:",
       "layout": "IPY_MODEL_b46d9acd8f3e4052bd3154fdce691119",
       "step": 1,
       "style": "IPY_MODEL_833400bf9e524c2683468a9af3ea3f11",
       "value": 3
      }
     },
     "41b2616fd8db4dea822fd6d6e6e22186": {
      "model_module": "@jupyter-widgets/base",
      "model_module_version": "1.0.0",
      "model_name": "LayoutModel",
      "state": {}
     },
     "41dbbf63b3a34efba1163764f4736396": {
      "model_module": "@jupyter-widgets/controls",
      "model_module_version": "1.1.0",
      "model_name": "ButtonStyleModel",
      "state": {}
     },
     "41dd1a4792ad424eb097bf0357d69e7d": {
      "model_module": "@jupyter-widgets/controls",
      "model_module_version": "1.1.0",
      "model_name": "DescriptionStyleModel",
      "state": {
       "description_width": ""
      }
     },
     "421b37b8d78a48a4a9dc8873b85e7814": {
      "model_module": "@jupyter-widgets/base",
      "model_module_version": "1.0.0",
      "model_name": "LayoutModel",
      "state": {}
     },
     "42374242d3524ddc8b6abe9e0a2bb7fb": {
      "model_module": "@jupyter-widgets/controls",
      "model_module_version": "1.1.0",
      "model_name": "HBoxModel",
      "state": {
       "children": [
        "IPY_MODEL_5985401b7138423a84ae4beee2f38de5",
        "IPY_MODEL_c85fa943d4b240d98c410832d43231be"
       ],
       "layout": "IPY_MODEL_0087559de60f4478b4de856bd7550636"
      }
     },
     "42f4ebcd64cc42f3a22db263fc4346e8": {
      "model_module": "@jupyter-widgets/base",
      "model_module_version": "1.0.0",
      "model_name": "LayoutModel",
      "state": {}
     },
     "432caadd9ea3450983803714db71c1be": {
      "model_module": "@jupyter-widgets/controls",
      "model_module_version": "1.1.0",
      "model_name": "SelectModel",
      "state": {
       "_options_labels": [
        "",
        "Accent",
        "Accent_r",
        "Blues",
        "Blues_r",
        "BrBG",
        "BrBG_r",
        "BuGn",
        "BuGn_r",
        "BuPu",
        "BuPu_r",
        "CMRmap",
        "CMRmap_r",
        "Dark2",
        "Dark2_r",
        "GnBu",
        "GnBu_r",
        "Greens",
        "Greens_r",
        "Greys",
        "Greys_r",
        "OrRd",
        "OrRd_r",
        "Oranges",
        "Oranges_r",
        "PRGn",
        "PRGn_r",
        "Paired",
        "Paired_r",
        "Pastel1",
        "Pastel1_r",
        "Pastel2",
        "Pastel2_r",
        "PiYG",
        "PiYG_r",
        "PuBu",
        "PuBuGn",
        "PuBuGn_r",
        "PuBu_r",
        "PuOr",
        "PuOr_r",
        "PuRd",
        "PuRd_r",
        "Purples",
        "Purples_r",
        "RdBu",
        "RdBu_r",
        "RdGy",
        "RdGy_r",
        "RdPu",
        "RdPu_r",
        "RdYlBu",
        "RdYlBu_r",
        "RdYlGn",
        "RdYlGn_r",
        "Reds",
        "Reds_r",
        "Set1",
        "Set1_r",
        "Set2",
        "Set2_r",
        "Set3",
        "Set3_r",
        "Spectral",
        "Spectral_r",
        "Vega10",
        "Vega10_r",
        "Vega20",
        "Vega20_r",
        "Vega20b",
        "Vega20b_r",
        "Vega20c",
        "Vega20c_r",
        "Wistia",
        "Wistia_r",
        "YlGn",
        "YlGnBu",
        "YlGnBu_r",
        "YlGn_r",
        "YlOrBr",
        "YlOrBr_r",
        "YlOrRd",
        "YlOrRd_r",
        "afmhot",
        "afmhot_r",
        "autumn",
        "autumn_r",
        "binary",
        "binary_r",
        "bone",
        "bone_r",
        "brg",
        "brg_r",
        "bwr",
        "bwr_r",
        "cool",
        "cool_r",
        "coolwarm",
        "coolwarm_r",
        "copper",
        "copper_r",
        "cubehelix",
        "cubehelix_r",
        "flag",
        "flag_r",
        "gist_earth",
        "gist_earth_r",
        "gist_gray",
        "gist_gray_r",
        "gist_heat",
        "gist_heat_r",
        "gist_ncar",
        "gist_ncar_r",
        "gist_rainbow",
        "gist_rainbow_r",
        "gist_stern",
        "gist_stern_r",
        "gist_yarg",
        "gist_yarg_r",
        "gnuplot",
        "gnuplot2",
        "gnuplot2_r",
        "gnuplot_r",
        "gray",
        "gray_r",
        "hot",
        "hot_r",
        "hsv",
        "hsv_r",
        "inferno",
        "inferno_r",
        "jet",
        "jet_r",
        "magma",
        "magma_r",
        "nipy_spectral",
        "nipy_spectral_r",
        "ocean",
        "ocean_r",
        "pink",
        "pink_r",
        "plasma",
        "plasma_r",
        "prism",
        "prism_r",
        "rainbow",
        "rainbow_r",
        "seismic",
        "seismic_r",
        "spectral",
        "spectral_r",
        "spring",
        "spring_r",
        "summer",
        "summer_r",
        "tab10",
        "tab10_r",
        "tab20",
        "tab20_r",
        "tab20b",
        "tab20b_r",
        "tab20c",
        "tab20c_r",
        "terrain",
        "terrain_r",
        "viridis",
        "viridis_r",
        "winter",
        "winter_r"
       ],
       "description": "Colormap:",
       "index": 123,
       "layout": "IPY_MODEL_14d4f0e898324a2eb1c4c2810a3aada8",
       "rows": 1,
       "style": "IPY_MODEL_41dd1a4792ad424eb097bf0357d69e7d"
      }
     },
     "43393c64d293482183930962c29ee56b": {
      "model_module": "@jupyter-widgets/base",
      "model_module_version": "1.0.0",
      "model_name": "LayoutModel",
      "state": {
       "width": "100%"
      }
     },
     "437a886a17de446b9c0d1e171812d87d": {
      "model_module": "@jupyter-widgets/controls",
      "model_module_version": "1.1.0",
      "model_name": "DescriptionStyleModel",
      "state": {
       "description_width": "initial"
      }
     },
     "4391805c48914f769e7265de4148a4d5": {
      "model_module": "@jupyter-widgets/base",
      "model_module_version": "1.0.0",
      "model_name": "LayoutModel",
      "state": {
       "width": "100%"
      }
     },
     "44ebdfc264c44bda9ef4a3bb05af9ded": {
      "model_module": "@jupyter-widgets/controls",
      "model_module_version": "1.1.0",
      "model_name": "CheckboxModel",
      "state": {
       "description": "Errors",
       "disabled": false,
       "layout": "IPY_MODEL_b8bb692474f2405d995d4f83ecffe9f8",
       "style": "IPY_MODEL_78658edecc284a96aa03b64f1f3c3cf5",
       "value": false
      }
     },
     "4508134ea132444bbabe9fb22f782664": {
      "model_module": "@jupyter-widgets/base",
      "model_module_version": "1.0.0",
      "model_name": "LayoutModel",
      "state": {}
     },
     "454f054161844b28b5093fedbdc946f6": {
      "model_module": "@jupyter-widgets/base",
      "model_module_version": "1.0.0",
      "model_name": "LayoutModel",
      "state": {}
     },
     "46111670ab0d441bbd0e55f846f411db": {
      "model_module": "@jupyter-widgets/base",
      "model_module_version": "1.0.0",
      "model_name": "LayoutModel",
      "state": {
       "width": "100%"
      }
     },
     "46955e671a2d4f96bc7e069705d8bcf3": {
      "model_module": "@jupyter-widgets/controls",
      "model_module_version": "1.1.0",
      "model_name": "IntTextModel",
      "state": {
       "description": "Vertical space between layers:",
       "layout": "IPY_MODEL_b8bb692474f2405d995d4f83ecffe9f8",
       "step": 1,
       "style": "IPY_MODEL_177bf929a8d740f9ab56e0589f5b5f97",
       "value": 30
      }
     },
     "46c1e3438082481fa96858acb76c961e": {
      "model_module": "@jupyter-widgets/controls",
      "model_module_version": "1.1.0",
      "model_name": "SelectModel",
      "state": {
       "_options_labels": [
        "input",
        "rnn",
        "output"
       ],
       "description": "Layer:",
       "index": 2,
       "layout": "IPY_MODEL_815b12c93327486996a281f3d277c592",
       "rows": 1,
       "style": "IPY_MODEL_c36a16fbcbac4ca28a271b9c8ecd70dd"
      }
     },
     "49569c3258f34189bb7f219e6652d81d": {
      "model_module": "@jupyter-widgets/base",
      "model_module_version": "1.0.0",
      "model_name": "LayoutModel",
      "state": {
       "width": "100%"
      }
     },
     "4b6d9bf51f41472aa38a027074acbbbc": {
      "model_module": "@jupyter-widgets/controls",
      "model_module_version": "1.1.0",
      "model_name": "DescriptionStyleModel",
      "state": {
       "description_width": ""
      }
     },
     "4b88fda88acb4e8e82afd95049cb2c54": {
      "model_module": "@jupyter-widgets/base",
      "model_module_version": "1.0.0",
      "model_name": "LayoutModel",
      "state": {
       "width": "100px"
      }
     },
     "4c3f5639f91b450db9dac65bad9a7837": {
      "model_module": "@jupyter-widgets/base",
      "model_module_version": "1.0.0",
      "model_name": "LayoutModel",
      "state": {
       "width": "100%"
      }
     },
     "4e82366d992c4413846d0f90b4aacde8": {
      "model_module": "@jupyter-widgets/controls",
      "model_module_version": "1.1.0",
      "model_name": "DescriptionStyleModel",
      "state": {
       "description_width": ""
      }
     },
     "4f237ef4e5d54d72b729f1b7531a9d9c": {
      "model_module": "@jupyter-widgets/controls",
      "model_module_version": "1.1.0",
      "model_name": "DescriptionStyleModel",
      "state": {
       "description_width": "initial"
      }
     },
     "4f4f7eb1580d41639ca9789eacca6dc3": {
      "model_module": "@jupyter-widgets/controls",
      "model_module_version": "1.1.0",
      "model_name": "FloatTextModel",
      "state": {
       "description": "Feature scale:",
       "layout": "IPY_MODEL_6d914873e99945e5b9ae1805b2ef9d6c",
       "step": null,
       "style": "IPY_MODEL_bb1ace7695f247c3be05c225847c0074",
       "value": 1
      }
     },
     "510365c984514c549400e718fa50941e": {
      "model_module": "@jupyter-widgets/controls",
      "model_module_version": "1.1.0",
      "model_name": "FloatTextModel",
      "state": {
       "description": "Leftmost color maps to:",
       "layout": "IPY_MODEL_c3216b31369e4d56b623e764c967f9a4",
       "step": null,
       "style": "IPY_MODEL_96cedd7760ee4de68ed953209ca6f530"
      }
     },
     "5139be4adc6449ae8d2581491ca2f862": {
      "model_module": "@jupyter-widgets/controls",
      "model_module_version": "1.1.0",
      "model_name": "AccordionModel",
      "state": {
       "_titles": {
        "0": "Alice in Wonderland"
       },
       "children": [
        "IPY_MODEL_f5e25288e9174b0596bf8e5a72392b06"
       ],
       "layout": "IPY_MODEL_38210d31e11b430fa3d87806da68fcc1",
       "selected_index": null
      }
     },
     "51aa372876924a24aee5598f17acea91": {
      "model_module": "@jupyter-widgets/controls",
      "model_module_version": "1.1.0",
      "model_name": "DescriptionStyleModel",
      "state": {
       "description_width": "initial"
      }
     },
     "537a6f526608476a8e651bee63b58daa": {
      "model_module": "@jupyter-widgets/controls",
      "model_module_version": "1.1.0",
      "model_name": "SelectModel",
      "state": {
       "_options_labels": [
        "Test",
        "Train"
       ],
       "description": "Dataset:",
       "index": 1,
       "layout": "IPY_MODEL_f39bdfa825fe452e820ad2a1b6664ade",
       "rows": 1,
       "style": "IPY_MODEL_9b20c25ac43c483f85d61da6d8e7fb31"
      }
     },
     "53ef6d393cd14448962c56529b4f764c": {
      "model_module": "@jupyter-widgets/base",
      "model_module_version": "1.0.0",
      "model_name": "LayoutModel",
      "state": {
       "width": "100%"
      }
     },
     "54185398bcd74624820152fe714723da": {
      "model_module": "@jupyter-widgets/controls",
      "model_module_version": "1.1.0",
      "model_name": "DescriptionStyleModel",
      "state": {
       "description_width": ""
      }
     },
     "5444a651e3854e91beca79abd6f99284": {
      "model_module": "@jupyter-widgets/controls",
      "model_module_version": "1.1.0",
      "model_name": "HBoxModel",
      "state": {
       "children": [
        "IPY_MODEL_d0df4d8f4b9e4ce8a5ffcc4f6a62b7e0",
        "IPY_MODEL_44ebdfc264c44bda9ef4a3bb05af9ded"
       ],
       "layout": "IPY_MODEL_42f4ebcd64cc42f3a22db263fc4346e8"
      }
     },
     "56e76deeaa5443fa8340fbde60c98a39": {
      "model_module": "@jupyter-widgets/base",
      "model_module_version": "1.0.0",
      "model_name": "LayoutModel",
      "state": {}
     },
     "571187e562e6462cb38a50d371f6ac43": {
      "model_module": "@jupyter-widgets/controls",
      "model_module_version": "1.1.0",
      "model_name": "DescriptionStyleModel",
      "state": {
       "description_width": "initial"
      }
     },
     "576fad6bee144a078e5826292ca31518": {
      "model_module": "@jupyter-widgets/controls",
      "model_module_version": "1.1.0",
      "model_name": "DescriptionStyleModel",
      "state": {
       "description_width": ""
      }
     },
     "58e1816b785b45eab3f9c1d9e1724523": {
      "model_module": "@jupyter-widgets/base",
      "model_module_version": "1.0.0",
      "model_name": "LayoutModel",
      "state": {
       "width": "100%"
      }
     },
     "591d944fdddc49e0a403bfe448db8e9a": {
      "model_module": "@jupyter-widgets/controls",
      "model_module_version": "1.1.0",
      "model_name": "DescriptionStyleModel",
      "state": {
       "description_width": ""
      }
     },
     "5985401b7138423a84ae4beee2f38de5": {
      "model_module": "@jupyter-widgets/controls",
      "model_module_version": "1.1.0",
      "model_name": "VBoxModel",
      "state": {
       "children": [
        "IPY_MODEL_537a6f526608476a8e651bee63b58daa",
        "IPY_MODEL_63f5c2a08fd2469ab882f2cb6718b828",
        "IPY_MODEL_164d366be79e4f8f9cb7fddece1c5edc",
        "IPY_MODEL_0ff8b24c87bf410da9fdac2f99c642f3",
        "IPY_MODEL_96decd168e794cdb9bc6a4e1715b6a0c",
        "IPY_MODEL_0e21a2d8d71c4995bdaeac45465c18db",
        "IPY_MODEL_41b1c07a33bb42019a8e5e43bd7344c7",
        "IPY_MODEL_64480e26052543299b8751281498f3b9"
       ],
       "layout": "IPY_MODEL_820aea2b5d2a43a397ba5201d2558e99"
      }
     },
     "5a11b2d138e8426aaaa07d07dfcb1692": {
      "model_module": "@jupyter-widgets/controls",
      "model_module_version": "1.1.0",
      "model_name": "DescriptionStyleModel",
      "state": {
       "description_width": "initial"
      }
     },
     "5b2b800e91c74646a83e2e19e694a041": {
      "model_module": "@jupyter-widgets/base",
      "model_module_version": "1.0.0",
      "model_name": "LayoutModel",
      "state": {}
     },
     "5c9bb4017ead4df28c7a928becf6ec54": {
      "model_module": "@jupyter-widgets/controls",
      "model_module_version": "1.1.0",
      "model_name": "ButtonModel",
      "state": {
       "icon": "fast-forward",
       "layout": "IPY_MODEL_fa678aec7dee4c709d9a62f5d9cfdeda",
       "style": "IPY_MODEL_eee970fb37634caea6af5f0e1215c46c"
      }
     },
     "5d179519cb2144538d376f086a22a26f": {
      "model_module": "@jupyter-widgets/base",
      "model_module_version": "1.0.0",
      "model_name": "LayoutModel",
      "state": {}
     },
     "5d5997feb6a44c099ccb69a9cd5a83f3": {
      "model_module": "@jupyter-widgets/controls",
      "model_module_version": "1.1.0",
      "model_name": "ButtonModel",
      "state": {
       "description": "Play",
       "icon": "play",
       "layout": "IPY_MODEL_738070a31111446283f7ba162203e9d0",
       "style": "IPY_MODEL_d5f5fd96518c4f83bd94b41fa8ada881"
      }
     },
     "5d65472b9fc34dbfbddaf5765794e9b5": {
      "model_module": "@jupyter-widgets/controls",
      "model_module_version": "1.1.0",
      "model_name": "ButtonModel",
      "state": {
       "icon": "fast-backward",
       "layout": "IPY_MODEL_08bb023f56194fa2af04ed4b08d2e2e0",
       "style": "IPY_MODEL_8eb73b7f1b01452abad0735c47bc7128"
      }
     },
     "5d8bb152c8eb44c2a51fbd438e589cf5": {
      "model_module": "@jupyter-widgets/base",
      "model_module_version": "1.0.0",
      "model_name": "LayoutModel",
      "state": {
       "width": "100%"
      }
     },
     "5f906dee83d34517badee33a71ef36e1": {
      "model_module": "@jupyter-widgets/controls",
      "model_module_version": "1.1.0",
      "model_name": "CheckboxModel",
      "state": {
       "description": "Show Targets",
       "disabled": false,
       "layout": "IPY_MODEL_c686efe2613a47a4ab06df069e39bc74",
       "style": "IPY_MODEL_0993c1526a014508b8e8f51dc89928b6",
       "value": true
      }
     },
     "6006235c2bfd4b80b7c9b8e5441577fb": {
      "model_module": "@jupyter-widgets/controls",
      "model_module_version": "1.1.0",
      "model_name": "HBoxModel",
      "state": {
       "children": [
        "IPY_MODEL_b1d1a1437aa441a3968f1f740effef21",
        "IPY_MODEL_d7a5a74eab924810b60ed2b1bcf68e7b"
       ],
       "layout": "IPY_MODEL_8ea778a3b1ff4a46b83342a108ccb825"
      }
     },
     "601dd17ba01444d98e7a91ba750ada41": {
      "model_module": "@jupyter-widgets/base",
      "model_module_version": "1.0.0",
      "model_name": "LayoutModel",
      "state": {}
     },
     "620b7321ea884c758835be44dbc9f8d8": {
      "model_module": "@jupyter-widgets/controls",
      "model_module_version": "1.1.0",
      "model_name": "DescriptionStyleModel",
      "state": {
       "description_width": ""
      }
     },
     "6218bf0e861540598e9c7eb93891e4ab": {
      "model_module": "@jupyter-widgets/base",
      "model_module_version": "1.0.0",
      "model_name": "LayoutModel",
      "state": {
       "width": "100%"
      }
     },
     "6287eb845b274d71bf4348a83fe56e7d": {
      "model_module": "@jupyter-widgets/base",
      "model_module_version": "1.0.0",
      "model_name": "LayoutModel",
      "state": {
       "width": "100%"
      }
     },
     "62d4773b4c5340f38bedd594a1680bc7": {
      "model_module": "@jupyter-widgets/controls",
      "model_module_version": "1.1.0",
      "model_name": "CheckboxModel",
      "state": {
       "description": "Show Targets",
       "disabled": false,
       "layout": "IPY_MODEL_e139e1e900c4499f96e6f598e0f88837",
       "style": "IPY_MODEL_3b0fe20fb2104e75ab1eb7454c1224f5",
       "value": true
      }
     },
     "62d4b753c41e4ecebe0c39ebce2d818b": {
      "model_module": "@jupyter-widgets/controls",
      "model_module_version": "1.1.0",
      "model_name": "VBoxModel",
      "state": {
       "children": [
        "IPY_MODEL_8fe6152488184d609e7d8bbffbe2c948",
        "IPY_MODEL_6b2df878a8aa45dba6739f1d467f5466",
        "IPY_MODEL_b76f0ac8a74945a4917e20650adaeafb",
        "IPY_MODEL_bed033adac6e435da063693ec77cd429"
       ],
       "layout": "IPY_MODEL_d5391edb0b924877be091d8116d724a8"
      }
     },
     "62f7604aa5a74d589cd8ea3df1113f1c": {
      "model_module": "@jupyter-widgets/controls",
      "model_module_version": "1.1.0",
      "model_name": "DescriptionStyleModel",
      "state": {
       "description_width": ""
      }
     },
     "63e6c29222124fd49715125c51a01d67": {
      "model_module": "@jupyter-widgets/base",
      "model_module_version": "1.0.0",
      "model_name": "LayoutModel",
      "state": {
       "height": "50px",
       "width": "100%"
      }
     },
     "63f5c2a08fd2469ab882f2cb6718b828": {
      "model_module": "@jupyter-widgets/controls",
      "model_module_version": "1.1.0",
      "model_name": "FloatSliderModel",
      "state": {
       "continuous_update": false,
       "description": "Zoom",
       "layout": "IPY_MODEL_be3e56a00f1742e985bb42f9f2520b1f",
       "max": 1,
       "step": 0.1,
       "style": "IPY_MODEL_0f2756a3cb5f4cc0ade96c8caab9bb8f",
       "value": 0.5
      }
     },
     "641f4a423ac34a19a9acd32aac4b72d3": {
      "model_module": "@jupyter-widgets/controls",
      "model_module_version": "1.1.0",
      "model_name": "DescriptionStyleModel",
      "state": {
       "description_width": "initial"
      }
     },
     "64480e26052543299b8751281498f3b9": {
      "model_module": "@jupyter-widgets/controls",
      "model_module_version": "1.1.0",
      "model_name": "FloatTextModel",
      "state": {
       "description": "Feature scale:",
       "layout": "IPY_MODEL_ee1dd61b788047c2b46a4b10a90c1bd0",
       "step": null,
       "style": "IPY_MODEL_0a604c8b00354893840f57bb81fc2ddc",
       "value": 1
      }
     },
     "64b70376b34f441ca1ff117e3fd46e75": {
      "model_module": "@jupyter-widgets/controls",
      "model_module_version": "1.1.0",
      "model_name": "DescriptionStyleModel",
      "state": {
       "description_width": "initial"
      }
     },
     "64ebfa2f826d467a8c89c24a4c151db5": {
      "model_module": "@jupyter-widgets/controls",
      "model_module_version": "1.1.0",
      "model_name": "DescriptionStyleModel",
      "state": {
       "description_width": "initial"
      }
     },
     "660e51acc0de4a9a95874f482cd96041": {
      "model_module": "@jupyter-widgets/controls",
      "model_module_version": "1.1.0",
      "model_name": "DescriptionStyleModel",
      "state": {
       "description_width": ""
      }
     },
     "6633dfa3c6474756983e4279c20295f0": {
      "model_module": "@jupyter-widgets/controls",
      "model_module_version": "1.1.0",
      "model_name": "HBoxModel",
      "state": {
       "children": [
        "IPY_MODEL_62d4773b4c5340f38bedd594a1680bc7",
        "IPY_MODEL_79f5b380df404072bf9ac57d2cdfd678"
       ],
       "layout": "IPY_MODEL_c7ea48c68e9e44afbe92306fbaaffe1b"
      }
     },
     "6696518fb0bf4d9288f7636b107ecbeb": {
      "model_module": "@jupyter-widgets/controls",
      "model_module_version": "1.1.0",
      "model_name": "FloatSliderModel",
      "state": {
       "continuous_update": false,
       "description": "Zoom",
       "layout": "IPY_MODEL_17dc2714abf5495d8c52bdcd48f2a90b",
       "max": 1,
       "step": 0.1,
       "style": "IPY_MODEL_e6b8e06496cc4c01806ce95a56ae97c7",
       "value": 0.5
      }
     },
     "66b9a62f25a44fcdbf98fc7af3d1e9ab": {
      "model_module": "@jupyter-widgets/controls",
      "model_module_version": "1.1.0",
      "model_name": "LabelModel",
      "state": {
       "layout": "IPY_MODEL_4b88fda88acb4e8e82afd95049cb2c54",
       "style": "IPY_MODEL_576fad6bee144a078e5826292ca31518",
       "value": "of 158773"
      }
     },
     "6802e06138b24b1db2ba72d116484edd": {
      "model_module": "@jupyter-widgets/controls",
      "model_module_version": "1.1.0",
      "model_name": "ButtonModel",
      "state": {
       "icon": "forward",
       "layout": "IPY_MODEL_3370e1aa2fee4a609d00cde5d293e423",
       "style": "IPY_MODEL_3bc3e906e31e45baafef5b9816e604da"
      }
     },
     "6854a0e2d0184f038bff64d23d72a0e6": {
      "model_module": "@jupyter-widgets/controls",
      "model_module_version": "1.1.0",
      "model_name": "HTMLModel",
      "state": {
       "layout": "IPY_MODEL_35b530f2511448519cebff5a34bd4d57",
       "style": "IPY_MODEL_4e82366d992c4413846d0f90b4aacde8",
       "value": "<p style=\"text-align:center\"><svg id='Alice in Wonderland' xmlns='http://www.w3.org/2000/svg' image-rendering=\"pixelated\" width=\"297.87234042553195px\" height=\"400.0px\">\n <g >\n  <svg viewBox=\"0 0 350 470\" width=\"297.87234042553195px\" height=\"400.0px\">\n    <defs>\n        <marker id=\"arrow\" markerWidth=\"10\" markerHeight=\"10\" refX=\"9\" refY=\"3\" orient=\"auto\" markerUnits=\"strokeWidth\">\n          <path d=\"M0,0 L0,6 L9,3 z\" fill=\"black\" />\n        </marker>\n    </defs><rect x=\"74.0\" y=\"24\" width=\"202\" height=\"52\" style=\"fill:none;stroke:black;stroke-width:2\"/><image id=\"picture-dashboard-Alice in Wonderland-349097_output_targets_1\" class=\"picture-dashboard-Alice in Wonderland-349097_output_targets\" x=\"75.0\" y=\"25\" height=\"50\" width=\"200\" preserveAspectRatio=\"none\" href=\"data:image/gif;base64,R0lGODdhOAABAIcAAAQEBAAAAAAAAAAAAAAAAAAAAAAAAAAAAAAAAAAAAAAAAAAAAAAAAAAAAAAAAAAAAAAAAAAAAAAAAAAAAAAAAAAAAAAAAAAAAAAAAAAAAAAAAAAAAAAAAAAAAAAAAAAAAAAAAAAAAAAAAAAAAAAAAAAAAAAAAAAAAAAAAAAAAAAAAAAAAAAAAAAAAAAAAAAAAAAAAAAAAAAAAAAAAAAAAAAAAAAAAAAAAAAAAAAAAAAAAAAAAAAAAAAAAAAAAAAAAAAAAAAAAAAAAAAAAAAAAAAAAAAAAAAAAAAAAAAAAAAAAAAAAAAAAAAAAAAAAAAAAAAAAAAAAAAAAAAAAAAAAAAAAAAAAAAAAAAAAAAAAAAAAAAAAAAAAAAAAAAAAAAAAAAAAAAAAAAAAAAAAAAAAAAAAAAAAAAAAAAAAAAAAAAAAAAAAAAAAAAAAAAAAAAAAAAAAAAAAAAAAAAAAAAAAAAAAAAAAAAAAAAAAAAAAAAAAAAAAAAAAAAAAAAAAAAAAAAAAAAAAAAAAAAAAAAAAAAAAAAAAAAAAAAAAAAAAAAAAAAAAAAAAAAAAAAAAAAAAAAAAAAAAAAAAAAAAAAAAAAAAAAAAAAAAAAAAAAAAAAAAAAAAAAAAAAAAAAAAAAAAAAAAAAAAAAAAAAAAAAAAAAAAAAAAAAAAAAAAAAAAAAAAAAAAAAAAAAAAAAAAAAAAAAAAAAAAAAAAAAAAAAAAAAAAAAAAAAAAAAAAAAAAAAAAAAAAAAAAAAAAAAAAAAAAAAAAAAAAAAAAAAAAAAAAAAAAAAAAAAAAAAAAAAAAAAAAAAAAAAAAAAAAAAAAAAAAAAAAAAAAAAAAAAAAAAAAAAAAAAAAAAAAAAAAAAAAAAAAAAAAAAAAAAAAAAAAAAAAAAAAAAAAAAAAAAAAAAAAAAAAAAAAAAAAAAAAAAAAAAAAAAAAAAAAAAAAAAAAAAAAAAAAAAAAAAAAAAAAAAAAAAAAAAAAAAAAAAAAAAAAAAAAAAAAAAAAAAAAAAAAAAAACwAAAAAOAABAAAIDwABCBxIsKDBgwgTKgQQEAA7\"><title>Layer: output (output)\n output range: (0.0, 1.0)\n shape = (56,)\n Keras class = Dense\n activation = softmax</title></image><text x=\"280.0\" y=\"52.0\" font-family=\"monospace\" font-size=\"12\" text-anchor=\"start\" fill=\"black\" alignment-baseline=\"central\" >targets</text><line x1=\"87.5\" y1=\"80\" x2=\"262.5\" y2=\"80\" stroke=\"green\" stroke-width=\"2\"><title></title></line><rect x=\"74.0\" y=\"84\" width=\"202\" height=\"52\" style=\"fill:none;stroke:black;stroke-width:2\"/><image id=\"picture-dashboard-Alice in Wonderland-349097_output_1\" class=\"picture-dashboard-Alice in Wonderland-349097_output\" x=\"75.0\" y=\"85\" height=\"50\" width=\"200\" preserveAspectRatio=\"none\" href=\"data:image/gif;base64,R0lGODdhOAABAIcAAAQEBAAAAAAAAAAAAAAAAAAAAAAAAAAAAAAAAAAAAAAAAAAAAAAAAAAAAAAAAAAAAAAAAAAAAAAAAAAAAAAAAAAAAAAAAAAAAAAAAAAAAAAAAAAAAAAAAAAAAAAAAAAAAAAAAAAAAAAAAAAAAAAAAAAAAAAAAAAAAAAAAAAAAAAAAAAAAAAAAAAAAAAAAAAAAAAAAAAAAAAAAAAAAAAAAAAAAAAAAAAAAAAAAAAAAAAAAAAAAAAAAAAAAAAAAAAAAAAAAAAAAAAAAAAAAAAAAAAAAAAAAAAAAAAAAAAAAAAAAAAAAAAAAAAAAAAAAAAAAAAAAAAAAAAAAAAAAAAAAAAAAAAAAAAAAAAAAAAAAAAAAAAAAAAAAAAAAAAAAAAAAAAAAAAAAAAAAAAAAAAAAAAAAAAAAAAAAAAAAAAAAAAAAAAAAAAAAAAAAAAAAAAAAAAAAAAAAAAAAAAAAAAAAAAAAAAAAAAAAAAAAAAAAAAAAAAAAAAAAAAAAAAAAAAAAAAAAAAAAAAAAAAAAAAAAAAAAAAAAAAAAAAAAAAAAAAAAAAAAAAAAAAAAAAAAAAAAAAAAAAAAAAAAAAAAAAAAAAAAAAAAAAAAAAAAAAAAAAAAAAAAAAAAAAAAAAAAAAAAAAAAAAAAAAAAAAAAAAAAAAAAAAAAAAAAAAAAAAAAAAAAAAAAAAAAAAAAAAAAAAAAAAAAAAAAAAAAAAAAAAAAAAAAAAAAAAAAAAAAAAAAAAAAAAAAAAAAAAAAAAAAAAAAAAAAAAAAAAAAAAAAAAAAAAAAAAAAAAAAAAAAAAAAAAAAAAAAAAAAAAAAAAAAAAAAAAAAAAAAAAAAAAAAAAAAAAAAAAAAAAAAAAAAAAAAAAAAAAAAAAAAAAAAAAAAAAAAAAAAAAAAAAAAAAAAAAAAAAAAAAAAAAAAAAAAAAAAAAAAAAAAAAAAAAAAAAAAAAAAAAAAAAAAAAAAAAAAAAAAAAAAAAAAAAAAAAAAAAAAAAAAAAAAAAAAAAAAAAAAAAAACwAAAAAOAABAAAIDwABCBxIsKDBgwgTKgQQEAA7\"><title>Layer: output (output)\n output range: (0.0, 1.0)\n shape = (56,)\n Keras class = Dense\n activation = softmax</title></image><text x=\"280.0\" y=\"112.0\" font-family=\"monospace\" font-size=\"12\" text-anchor=\"start\" fill=\"black\" alignment-baseline=\"central\" >output</text><line x1=\"175.0\" y1=\"164\" x2=\"175.0\" y2=\"137\" stroke=\"black\" stroke-width=\"2\" marker-end=\"url(#arrow)\"><title>Weights from rnn to output\n output/kernel:0 has shape (128, 56)\n output/bias:0 has shape (56,)</title></line><rect x=\"74.0\" y=\"164\" width=\"202\" height=\"52\" style=\"fill:none;stroke:black;stroke-width:2\"/><image id=\"picture-dashboard-Alice in Wonderland-349097_rnn_2\" class=\"picture-dashboard-Alice in Wonderland-349097_rnn\" x=\"75.0\" y=\"165\" height=\"50\" width=\"200\" preserveAspectRatio=\"none\" href=\"data:image/gif;base64,R0lGODdhgAABAIcAAPTm8fr3+//IyP/X19TU/8fH/7S0/6am//+Vlf+oqP+1tYSE/5qa//+Li3V1/2Vl/wAAAAAAAAAAAAAAAAAAAAAAAAAAAAAAAAAAAAAAAAAAAAAAAAAAAAAAAAAAAAAAAAAAAAAAAAAAAAAAAAAAAAAAAAAAAAAAAAAAAAAAAAAAAAAAAAAAAAAAAAAAAAAAAAAAAAAAAAAAAAAAAAAAAAAAAAAAAAAAAAAAAAAAAAAAAAAAAAAAAAAAAAAAAAAAAAAAAAAAAAAAAAAAAAAAAAAAAAAAAAAAAAAAAAAAAAAAAAAAAAAAAAAAAAAAAAAAAAAAAAAAAAAAAAAAAAAAAAAAAAAAAAAAAAAAAAAAAAAAAAAAAAAAAAAAAAAAAAAAAAAAAAAAAAAAAAAAAAAAAAAAAAAAAAAAAAAAAAAAAAAAAAAAAAAAAAAAAAAAAAAAAAAAAAAAAAAAAAAAAAAAAAAAAAAAAAAAAAAAAAAAAAAAAAAAAAAAAAAAAAAAAAAAAAAAAAAAAAAAAAAAAAAAAAAAAAAAAAAAAAAAAAAAAAAAAAAAAAAAAAAAAAAAAAAAAAAAAAAAAAAAAAAAAAAAAAAAAAAAAAAAAAAAAAAAAAAAAAAAAAAAAAAAAAAAAAAAAAAAAAAAAAAAAAAAAAAAAAAAAAAAAAAAAAAAAAAAAAAAAAAAAAAAAAAAAAAAAAAAAAAAAAAAAAAAAAAAAAAAAAAAAAAAAAAAAAAAAAAAAAAAAAAAAAAAAAAAAAAAAAAAAAAAAAAAAAAAAAAAAAAAAAAAAAAAAAAAAAAAAAAAAAAAAAAAAAAAAAAAAAAAAAAAAAAAAAAAAAAAAAAAAAAAAAAAAAAAAAAAAAAAAAAAAAAAAAAAAAAAAAAAAAAAAAAAAAAAAAAAAAAAAAAAAAAAAAAAAAAAAAAAAAAAAAAAAAAAAAAAAAAAAAAAAAAAAAAAAAAAAAAAAAAAAAAAAAAAAAAAAAAAAAAAAAAAAAAAAAAAAAAAAAAAAAAAAAAAAAAAACwAAAAAgAABAAAIkgALABBQQIACAQASDBAAQAEAAAMKEBhgYECBAQMIMDDAIACCAgcAAAggAEEAAAsGIAjAMgCCAwEEECBwIECABwwKHCgwIIEBAQAAFAjQIMABAwQUAAiQwEGCAQACEACQwICBAAMACBAQAECABgQEBAAQAAACBA0cAFBAYIGABAEEAFggQEAAAwAODAAwYAABAgEBADs=\"><title>Layer: rnn (hidden)\n output range: (-Infinity, +Infinity)\n Keras class = SimpleRNN\n return_sequences = False\n unroll = True</title></image><text x=\"280.0\" y=\"192.0\" font-family=\"monospace\" font-size=\"12\" text-anchor=\"start\" fill=\"black\" alignment-baseline=\"central\" >rnn</text><line x1=\"175.0\" y1=\"244\" x2=\"175.0\" y2=\"217\" stroke=\"black\" stroke-width=\"2\" marker-end=\"url(#arrow)\"><title>Weights from input to rnn\n rnn/kernel:0 has shape (56, 128)\n rnn/recurrent_kernel:0 has shape (128, 128)\n rnn/bias:0 has shape (128,)</title></line><rect x=\"74.0\" y=\"244\" width=\"202\" height=\"202\" style=\"fill:none;stroke:black;stroke-width:2\"/><image id=\"picture-dashboard-Alice in Wonderland-349097_input_3\" class=\"picture-dashboard-Alice in Wonderland-349097_input\" x=\"75.0\" y=\"245\" height=\"200\" width=\"200\" preserveAspectRatio=\"none\" href=\"data:image/gif;base64,R0lGODdhOAAKAIcAAAAAAP///wAAAAAAAAAAAAAAAAAAAAAAAAAAAAAAAAAAAAAAAAAAAAAAAAAAAAAAAAAAAAAAAAAAAAAAAAAAAAAAAAAAAAAAAAAAAAAAAAAAAAAAAAAAAAAAAAAAAAAAAAAAAAAAAAAAAAAAAAAAAAAAAAAAAAAAAAAAAAAAAAAAAAAAAAAAAAAAAAAAAAAAAAAAAAAAAAAAAAAAAAAAAAAAAAAAAAAAAAAAAAAAAAAAAAAAAAAAAAAAAAAAAAAAAAAAAAAAAAAAAAAAAAAAAAAAAAAAAAAAAAAAAAAAAAAAAAAAAAAAAAAAAAAAAAAAAAAAAAAAAAAAAAAAAAAAAAAAAAAAAAAAAAAAAAAAAAAAAAAAAAAAAAAAAAAAAAAAAAAAAAAAAAAAAAAAAAAAAAAAAAAAAAAAAAAAAAAAAAAAAAAAAAAAAAAAAAAAAAAAAAAAAAAAAAAAAAAAAAAAAAAAAAAAAAAAAAAAAAAAAAAAAAAAAAAAAAAAAAAAAAAAAAAAAAAAAAAAAAAAAAAAAAAAAAAAAAAAAAAAAAAAAAAAAAAAAAAAAAAAAAAAAAAAAAAAAAAAAAAAAAAAAAAAAAAAAAAAAAAAAAAAAAAAAAAAAAAAAAAAAAAAAAAAAAAAAAAAAAAAAAAAAAAAAAAAAAAAAAAAAAAAAAAAAAAAAAAAAAAAAAAAAAAAAAAAAAAAAAAAAAAAAAAAAAAAAAAAAAAAAAAAAAAAAAAAAAAAAAAAAAAAAAAAAAAAAAAAAAAAAAAAAAAAAAAAAAAAAAAAAAAAAAAAAAAAAAAAAAAAAAAAAAAAAAAAAAAAAAAAAAAAAAAAAAAAAAAAAAAAAAAAAAAAAAAAAAAAAAAAAAAAAAAAAAAAAAAAAAAAAAAAAAAAAAAAAAAAAAAAAAAAAAAAAAAAAAAAAAAAAAAAAAAAAAAAAAAAAAAAAAAAAAAAAAAAAAAAAAAAAAAAAAAAAAAAAAAAAAAAAAAAAAAAAAAAAAAAAAAAAAAAAAAAAAAAAAAAACwAAAAAOAAKAAAIhgABCBxIsKDBgwgTBgDAsKHDhxAjSpzoMACAixgzatzIsaPHjyADABhJsqTJkyhTqkwZAIDLlzBjypxJM2YAADhz6tzJsyfOAACCCh1KtKjRo0iTKg0AoKnTp1CjSp1KtarVq04DANjKtavXr2DDih0LIACAs2jTqlUbAIDbt3Djyp1Ld25AADs=\"><title>Layer: input (input)\n output range: (0.0, 1.0)\n shape = (10, 56)\n Keras class = Input</title></image><text x=\"280.0\" y=\"347.0\" font-family=\"monospace\" font-size=\"12\" text-anchor=\"start\" fill=\"black\" alignment-baseline=\"central\" >input</text><text x=\"175.0\" y=\"12.5\" font-family=\"monospace\" font-size=\"15\" text-anchor=\"middle\" fill=\"black\" alignment-baseline=\"central\" >Alice in Wonderland</text></svg></g></svg></p>"
      }
     },
     "686525a9ba5c467a991bc97fd5b8fcfb": {
      "model_module": "@jupyter-widgets/controls",
      "model_module_version": "1.1.0",
      "model_name": "VBoxModel",
      "state": {
       "children": [
        "IPY_MODEL_2f89a834735449b09bc9c7c36bfacb77",
        "IPY_MODEL_6696518fb0bf4d9288f7636b107ecbeb",
        "IPY_MODEL_a14be2e2818240cd89a431e1a1c855d6",
        "IPY_MODEL_8abbb5ab1ef44a91b9bdddd5f8306061",
        "IPY_MODEL_6633dfa3c6474756983e4279c20295f0",
        "IPY_MODEL_ff6f7b23d80e40e6961521693b737d5e",
        "IPY_MODEL_190ce494600d464f86b10205ee596aef",
        "IPY_MODEL_9f6445fd0b2e4be8a76056bc204bd879"
       ],
       "layout": "IPY_MODEL_8b84673565d94456ac40b7f5e9b40518"
      }
     },
     "6965f8fd26124a35b7c65c93e624ab94": {
      "model_module": "@jupyter-widgets/controls",
      "model_module_version": "1.1.0",
      "model_name": "DescriptionStyleModel",
      "state": {
       "description_width": ""
      }
     },
     "69726c592b4844a88c7e3a0ba6fd5a53": {
      "model_module": "@jupyter-widgets/controls",
      "model_module_version": "1.1.0",
      "model_name": "CheckboxModel",
      "state": {
       "description": "Errors",
       "disabled": false,
       "layout": "IPY_MODEL_14d4f0e898324a2eb1c4c2810a3aada8",
       "style": "IPY_MODEL_06ed5da4b11f4bd08630949239d93ebb",
       "value": false
      }
     },
     "6aaa25a7f2a246f281d7c89673ee80bf": {
      "model_module": "@jupyter-widgets/controls",
      "model_module_version": "1.1.0",
      "model_name": "DescriptionStyleModel",
      "state": {
       "description_width": "initial"
      }
     },
     "6ab79f41802b45c9ada215819ba655c2": {
      "model_module": "@jupyter-widgets/base",
      "model_module_version": "1.0.0",
      "model_name": "LayoutModel",
      "state": {}
     },
     "6b2df878a8aa45dba6739f1d467f5466": {
      "model_module": "@jupyter-widgets/controls",
      "model_module_version": "1.1.0",
      "model_name": "VBoxModel",
      "state": {
       "children": [
        "IPY_MODEL_ace05d2706c649d5865be6857820f8ef",
        "IPY_MODEL_9a5da0b71c22478791655b07377f0ec7"
       ],
       "layout": "IPY_MODEL_58e1816b785b45eab3f9c1d9e1724523"
      }
     },
     "6bb0c85d019545d481c062ecde2e0ba4": {
      "model_module": "@jupyter-widgets/controls",
      "model_module_version": "1.1.0",
      "model_name": "DescriptionStyleModel",
      "state": {
       "description_width": "initial"
      }
     },
     "6d914873e99945e5b9ae1805b2ef9d6c": {
      "model_module": "@jupyter-widgets/base",
      "model_module_version": "1.0.0",
      "model_name": "LayoutModel",
      "state": {}
     },
     "6df1cd2fca78477da29c1768a41f5e95": {
      "model_module": "@jupyter-widgets/controls",
      "model_module_version": "1.1.0",
      "model_name": "VBoxModel",
      "state": {
       "children": [
        "IPY_MODEL_18dc2f10704c44bba093717c1fda887a",
        "IPY_MODEL_e9fb2a20994144be806f6901b7c10a48",
        "IPY_MODEL_6854a0e2d0184f038bff64d23d72a0e6",
        "IPY_MODEL_718eba09f5b749da87b39c39022a046f"
       ],
       "layout": "IPY_MODEL_7ae56472da284812b8e7c169ee1dd17d"
      }
     },
     "6e397d1ad0e44f97b3bdaa3991e47c9e": {
      "model_module": "@jupyter-widgets/controls",
      "model_module_version": "1.1.0",
      "model_name": "DescriptionStyleModel",
      "state": {
       "description_width": "initial"
      }
     },
     "6ed4a95a929e430f8f1fa950ce769a99": {
      "model_module": "@jupyter-widgets/controls",
      "model_module_version": "1.1.0",
      "model_name": "SelectModel",
      "state": {
       "_options_labels": [
        "",
        "Accent",
        "Accent_r",
        "Blues",
        "Blues_r",
        "BrBG",
        "BrBG_r",
        "BuGn",
        "BuGn_r",
        "BuPu",
        "BuPu_r",
        "CMRmap",
        "CMRmap_r",
        "Dark2",
        "Dark2_r",
        "GnBu",
        "GnBu_r",
        "Greens",
        "Greens_r",
        "Greys",
        "Greys_r",
        "OrRd",
        "OrRd_r",
        "Oranges",
        "Oranges_r",
        "PRGn",
        "PRGn_r",
        "Paired",
        "Paired_r",
        "Pastel1",
        "Pastel1_r",
        "Pastel2",
        "Pastel2_r",
        "PiYG",
        "PiYG_r",
        "PuBu",
        "PuBuGn",
        "PuBuGn_r",
        "PuBu_r",
        "PuOr",
        "PuOr_r",
        "PuRd",
        "PuRd_r",
        "Purples",
        "Purples_r",
        "RdBu",
        "RdBu_r",
        "RdGy",
        "RdGy_r",
        "RdPu",
        "RdPu_r",
        "RdYlBu",
        "RdYlBu_r",
        "RdYlGn",
        "RdYlGn_r",
        "Reds",
        "Reds_r",
        "Set1",
        "Set1_r",
        "Set2",
        "Set2_r",
        "Set3",
        "Set3_r",
        "Spectral",
        "Spectral_r",
        "Vega10",
        "Vega10_r",
        "Vega20",
        "Vega20_r",
        "Vega20b",
        "Vega20b_r",
        "Vega20c",
        "Vega20c_r",
        "Wistia",
        "Wistia_r",
        "YlGn",
        "YlGnBu",
        "YlGnBu_r",
        "YlGn_r",
        "YlOrBr",
        "YlOrBr_r",
        "YlOrRd",
        "YlOrRd_r",
        "afmhot",
        "afmhot_r",
        "autumn",
        "autumn_r",
        "binary",
        "binary_r",
        "bone",
        "bone_r",
        "brg",
        "brg_r",
        "bwr",
        "bwr_r",
        "cool",
        "cool_r",
        "coolwarm",
        "coolwarm_r",
        "copper",
        "copper_r",
        "cubehelix",
        "cubehelix_r",
        "flag",
        "flag_r",
        "gist_earth",
        "gist_earth_r",
        "gist_gray",
        "gist_gray_r",
        "gist_heat",
        "gist_heat_r",
        "gist_ncar",
        "gist_ncar_r",
        "gist_rainbow",
        "gist_rainbow_r",
        "gist_stern",
        "gist_stern_r",
        "gist_yarg",
        "gist_yarg_r",
        "gnuplot",
        "gnuplot2",
        "gnuplot2_r",
        "gnuplot_r",
        "gray",
        "gray_r",
        "hot",
        "hot_r",
        "hsv",
        "hsv_r",
        "inferno",
        "inferno_r",
        "jet",
        "jet_r",
        "magma",
        "magma_r",
        "nipy_spectral",
        "nipy_spectral_r",
        "ocean",
        "ocean_r",
        "pink",
        "pink_r",
        "plasma",
        "plasma_r",
        "prism",
        "prism_r",
        "rainbow",
        "rainbow_r",
        "seismic",
        "seismic_r",
        "spectral",
        "spectral_r",
        "spring",
        "spring_r",
        "summer",
        "summer_r",
        "tab10",
        "tab10_r",
        "tab20",
        "tab20_r",
        "tab20b",
        "tab20b_r",
        "tab20c",
        "tab20c_r",
        "terrain",
        "terrain_r",
        "viridis",
        "viridis_r",
        "winter",
        "winter_r"
       ],
       "description": "Colormap:",
       "index": 123,
       "layout": "IPY_MODEL_e139e1e900c4499f96e6f598e0f88837",
       "rows": 1,
       "style": "IPY_MODEL_dbaafbc2b9124edab455c116cf9c27e2"
      }
     },
     "6f5cac8f3f184b8f892a15081bccc0aa": {
      "model_module": "@jupyter-widgets/base",
      "model_module_version": "1.0.0",
      "model_name": "LayoutModel",
      "state": {}
     },
     "6fa790e0604343faa0a6f89d2869d16a": {
      "model_module": "@jupyter-widgets/controls",
      "model_module_version": "1.1.0",
      "model_name": "HBoxModel",
      "state": {
       "children": [
        "IPY_MODEL_16dcbd99433547bda1aa1f30c4d5796d",
        "IPY_MODEL_286c805018d943cabe537fd4f0b20ff2"
       ],
       "layout": "IPY_MODEL_91095f45cb9a438fa619a9d60c1ebd15"
      }
     },
     "70b3469b21ca4c6287b4c0ff65348f59": {
      "model_module": "@jupyter-widgets/base",
      "model_module_version": "1.0.0",
      "model_name": "LayoutModel",
      "state": {
       "width": "25%"
      }
     },
     "7105acfde49645dfa5360f53c9050ed6": {
      "model_module": "@jupyter-widgets/controls",
      "model_module_version": "1.1.0",
      "model_name": "AccordionModel",
      "state": {
       "_titles": {
        "0": "Alice in Wonderland"
       },
       "children": [
        "IPY_MODEL_42374242d3524ddc8b6abe9e0a2bb7fb"
       ],
       "layout": "IPY_MODEL_421b37b8d78a48a4a9dc8873b85e7814",
       "selected_index": null
      }
     },
     "716fff7045d545c39f3203ee4bb840ee": {
      "model_module": "@jupyter-widgets/base",
      "model_module_version": "1.0.0",
      "model_name": "LayoutModel",
      "state": {}
     },
     "718eba09f5b749da87b39c39022a046f": {
      "model_module": "@jupyter-widgets/output",
      "model_module_version": "1.0.0",
      "model_name": "OutputModel",
      "state": {
       "layout": "IPY_MODEL_043a481c04f04b4eb33f6d17ec60e34d"
      }
     },
     "7209dd64414e4a19bffdd169061cbc76": {
      "model_module": "@jupyter-widgets/controls",
      "model_module_version": "1.1.0",
      "model_name": "CheckboxModel",
      "state": {
       "description": "Errors",
       "disabled": false,
       "layout": "IPY_MODEL_c686efe2613a47a4ab06df069e39bc74",
       "style": "IPY_MODEL_5a11b2d138e8426aaaa07d07dfcb1692",
       "value": false
      }
     },
     "738070a31111446283f7ba162203e9d0": {
      "model_module": "@jupyter-widgets/base",
      "model_module_version": "1.0.0",
      "model_name": "LayoutModel",
      "state": {
       "width": "100%"
      }
     },
     "7520df0fd18f40929776568956bd1656": {
      "model_module": "@jupyter-widgets/base",
      "model_module_version": "1.0.0",
      "model_name": "LayoutModel",
      "state": {}
     },
     "757820c4656649268a83e0190d0c1b30": {
      "model_module": "@jupyter-widgets/controls",
      "model_module_version": "1.1.0",
      "model_name": "HBoxModel",
      "state": {
       "children": [
        "IPY_MODEL_2e7181fc87e04dcc8c137c9a80afe9d7",
        "IPY_MODEL_027727cd0a184e11890422426ddf8abc",
        "IPY_MODEL_bae42b9e9ce24ab692d2650b0720143b",
        "IPY_MODEL_bd6cb5a65d32481e813139168190c9c1",
        "IPY_MODEL_a013a02c5dee46f082f3c9192772f7c3",
        "IPY_MODEL_125fdd4cd5ab49038e80b019e693dad7",
        "IPY_MODEL_8507171be47d460eba8973ba2250d15f"
       ],
       "layout": "IPY_MODEL_63e6c29222124fd49715125c51a01d67"
      }
     },
     "765093e2029a40cf8dfa8fbc2a5d13d9": {
      "model_module": "@jupyter-widgets/controls",
      "model_module_version": "1.1.0",
      "model_name": "DescriptionStyleModel",
      "state": {
       "description_width": "initial"
      }
     },
     "76668413d58c40619727ab05df2f3907": {
      "model_module": "@jupyter-widgets/controls",
      "model_module_version": "1.1.0",
      "model_name": "FloatTextModel",
      "state": {
       "description": "Feature scale:",
       "layout": "IPY_MODEL_8457ebc012cd487e9e6daf44fe1b3bdd",
       "step": null,
       "style": "IPY_MODEL_85cf26d9576b4681b184fe38b84e003f",
       "value": 1
      }
     },
     "7727b34d5806466ab7ece7e66f49b20c": {
      "model_module": "@jupyter-widgets/controls",
      "model_module_version": "1.1.0",
      "model_name": "FloatTextModel",
      "state": {
       "description": "Rightmost color maps to:",
       "layout": "IPY_MODEL_8d18d2f6a4f2424ca820204c560495aa",
       "step": null,
       "style": "IPY_MODEL_f413c373eb384de0b50dfa69f03e02c9",
       "value": 1
      }
     },
     "785e7ae49e2247e5b42787f0604376a6": {
      "model_module": "@jupyter-widgets/controls",
      "model_module_version": "1.1.0",
      "model_name": "CheckboxModel",
      "state": {
       "description": "Rotate network",
       "disabled": false,
       "layout": "IPY_MODEL_89fda11ce822402f8d309ac456d266bb",
       "style": "IPY_MODEL_641f4a423ac34a19a9acd32aac4b72d3",
       "value": false
      }
     },
     "78658edecc284a96aa03b64f1f3c3cf5": {
      "model_module": "@jupyter-widgets/controls",
      "model_module_version": "1.1.0",
      "model_name": "DescriptionStyleModel",
      "state": {
       "description_width": "initial"
      }
     },
     "78f5faf1df97450f94f551d7e083efd5": {
      "model_module": "@jupyter-widgets/controls",
      "model_module_version": "1.1.0",
      "model_name": "ButtonStyleModel",
      "state": {}
     },
     "799f13676efb4cfaa03d224aa23a622d": {
      "model_module": "@jupyter-widgets/base",
      "model_module_version": "1.0.0",
      "model_name": "LayoutModel",
      "state": {
       "width": "100%"
      }
     },
     "79f5b380df404072bf9ac57d2cdfd678": {
      "model_module": "@jupyter-widgets/controls",
      "model_module_version": "1.1.0",
      "model_name": "CheckboxModel",
      "state": {
       "description": "Errors",
       "disabled": false,
       "layout": "IPY_MODEL_e139e1e900c4499f96e6f598e0f88837",
       "style": "IPY_MODEL_6bb0c85d019545d481c062ecde2e0ba4",
       "value": false
      }
     },
     "7ae56472da284812b8e7c169ee1dd17d": {
      "model_module": "@jupyter-widgets/base",
      "model_module_version": "1.0.0",
      "model_name": "LayoutModel",
      "state": {}
     },
     "7bbaa862392a49c78e329eb807c0e835": {
      "model_module": "@jupyter-widgets/controls",
      "model_module_version": "1.1.0",
      "model_name": "ButtonStyleModel",
      "state": {}
     },
     "7bf0d7c8887f41edaaf416fc28b31f77": {
      "model_module": "@jupyter-widgets/controls",
      "model_module_version": "1.1.0",
      "model_name": "SelectModel",
      "state": {
       "_options_labels": [
        ""
       ],
       "description": "Features:",
       "index": 0,
       "layout": "IPY_MODEL_355c9586c8dc4a6ca7e394c2941834c1",
       "rows": 1,
       "style": "IPY_MODEL_4b6d9bf51f41472aa38a027074acbbbc"
      }
     },
     "7c40d0d829b64d98b10f6493f4a2d14d": {
      "model_module": "@jupyter-widgets/controls",
      "model_module_version": "1.1.0",
      "model_name": "IntTextModel",
      "state": {
       "description": "Feature to show:",
       "layout": "IPY_MODEL_d04004eed3d04a2aad834b707ef3360c",
       "step": 1,
       "style": "IPY_MODEL_25ec778697ff46e7b99da0c56b55a4b1"
      }
     },
     "7ca43a072d004466a9274ab6844d7aab": {
      "model_module": "@jupyter-widgets/controls",
      "model_module_version": "1.1.0",
      "model_name": "DescriptionStyleModel",
      "state": {
       "description_width": ""
      }
     },
     "7d4f4b8afc5c47899a3f5e187fc4fb61": {
      "model_module": "@jupyter-widgets/controls",
      "model_module_version": "1.1.0",
      "model_name": "VBoxModel",
      "state": {
       "children": [
        "IPY_MODEL_7105acfde49645dfa5360f53c9050ed6",
        "IPY_MODEL_e9f46e9e28014970b0ff03f273760c4f",
        "IPY_MODEL_33c2804f564e44ddb0a11da1a4a71cc9",
        "IPY_MODEL_c8efb39d7f364c2f955a235e7fe869f5"
       ],
       "layout": "IPY_MODEL_b63690a09eab466eae94314d685081be"
      }
     },
     "7dae603cb32e4908a90c3d4bdfaf2c16": {
      "model_module": "@jupyter-widgets/controls",
      "model_module_version": "1.1.0",
      "model_name": "IntTextModel",
      "state": {
       "layout": "IPY_MODEL_49569c3258f34189bb7f219e6652d81d",
       "step": 1,
       "style": "IPY_MODEL_254d7020389e406d837e1b23d1f492a1"
      }
     },
     "815b12c93327486996a281f3d277c592": {
      "model_module": "@jupyter-widgets/base",
      "model_module_version": "1.0.0",
      "model_name": "LayoutModel",
      "state": {}
     },
     "820aea2b5d2a43a397ba5201d2558e99": {
      "model_module": "@jupyter-widgets/base",
      "model_module_version": "1.0.0",
      "model_name": "LayoutModel",
      "state": {
       "width": "100%"
      }
     },
     "821b4cdf2b404d5e92766261ddd06d0b": {
      "model_module": "@jupyter-widgets/controls",
      "model_module_version": "1.1.0",
      "model_name": "DescriptionStyleModel",
      "state": {
       "description_width": "initial"
      }
     },
     "823ab495070640f2a45291f8854f95b6": {
      "model_module": "@jupyter-widgets/controls",
      "model_module_version": "1.1.0",
      "model_name": "ButtonStyleModel",
      "state": {}
     },
     "82ca4ccc9285413b86c691bc2871168b": {
      "model_module": "@jupyter-widgets/base",
      "model_module_version": "1.0.0",
      "model_name": "LayoutModel",
      "state": {
       "width": "100%"
      }
     },
     "82e67ab85de94aeda40a80671e6dc1a9": {
      "model_module": "@jupyter-widgets/controls",
      "model_module_version": "1.1.0",
      "model_name": "DescriptionStyleModel",
      "state": {
       "description_width": ""
      }
     },
     "833400bf9e524c2683468a9af3ea3f11": {
      "model_module": "@jupyter-widgets/controls",
      "model_module_version": "1.1.0",
      "model_name": "DescriptionStyleModel",
      "state": {
       "description_width": "initial"
      }
     },
     "8457ebc012cd487e9e6daf44fe1b3bdd": {
      "model_module": "@jupyter-widgets/base",
      "model_module_version": "1.0.0",
      "model_name": "LayoutModel",
      "state": {}
     },
     "845ddb2ab763440e872344d715520d2a": {
      "model_module": "@jupyter-widgets/controls",
      "model_module_version": "1.1.0",
      "model_name": "VBoxModel",
      "state": {
       "children": [
        "IPY_MODEL_5139be4adc6449ae8d2581491ca2f862",
        "IPY_MODEL_28285284e5454dad9810c11aa702e045",
        "IPY_MODEL_ac9db9ffb6a14d349634b97afc3e0276",
        "IPY_MODEL_de7e8d98284e4b678353aca1356b481f"
       ],
       "layout": "IPY_MODEL_b58c0016321a42a9adac0984262e710d"
      }
     },
     "8465f860016b42989ae6d4d53e5be080": {
      "model_module": "@jupyter-widgets/base",
      "model_module_version": "1.0.0",
      "model_name": "LayoutModel",
      "state": {
       "width": "100%"
      }
     },
     "8507171be47d460eba8973ba2250d15f": {
      "model_module": "@jupyter-widgets/controls",
      "model_module_version": "1.1.0",
      "model_name": "ButtonModel",
      "state": {
       "icon": "refresh",
       "layout": "IPY_MODEL_e9ec54dcf38d4bab8a62ecd39d94839b",
       "style": "IPY_MODEL_d416e30b66e24090a74047c8da13478e"
      }
     },
     "85cf26d9576b4681b184fe38b84e003f": {
      "model_module": "@jupyter-widgets/controls",
      "model_module_version": "1.1.0",
      "model_name": "DescriptionStyleModel",
      "state": {
       "description_width": "initial"
      }
     },
     "85d8e4e00aef48cd87d6dcb811690461": {
      "model_module": "@jupyter-widgets/controls",
      "model_module_version": "1.1.0",
      "model_name": "SliderStyleModel",
      "state": {
       "description_width": ""
      }
     },
     "8794486694e340b9a15591ce7614f284": {
      "model_module": "@jupyter-widgets/controls",
      "model_module_version": "1.1.0",
      "model_name": "IntTextModel",
      "state": {
       "layout": "IPY_MODEL_b6dd557a71ed47ccac396a57656c030b",
       "step": 1,
       "style": "IPY_MODEL_a97eff5426534e6eb4c12df503adb6e7",
       "value": 11
      }
     },
     "87a7dbbce226487ea273d0fb100477d4": {
      "model_module": "@jupyter-widgets/base",
      "model_module_version": "1.0.0",
      "model_name": "LayoutModel",
      "state": {
       "width": "52%"
      }
     },
     "89fda11ce822402f8d309ac456d266bb": {
      "model_module": "@jupyter-widgets/base",
      "model_module_version": "1.0.0",
      "model_name": "LayoutModel",
      "state": {
       "width": "52%"
      }
     },
     "8abbb5ab1ef44a91b9bdddd5f8306061": {
      "model_module": "@jupyter-widgets/controls",
      "model_module_version": "1.1.0",
      "model_name": "IntTextModel",
      "state": {
       "description": "Vertical space between layers:",
       "layout": "IPY_MODEL_e139e1e900c4499f96e6f598e0f88837",
       "step": 1,
       "style": "IPY_MODEL_fc489b8953974a6fae0a8349794be122",
       "value": 30
      }
     },
     "8ac1885818ce40c8a7653c4350dae50b": {
      "model_module": "@jupyter-widgets/controls",
      "model_module_version": "1.1.0",
      "model_name": "DescriptionStyleModel",
      "state": {
       "description_width": ""
      }
     },
     "8ae39f8a5d864b1fb8ce437d35a7881b": {
      "model_module": "@jupyter-widgets/controls",
      "model_module_version": "1.1.0",
      "model_name": "DescriptionStyleModel",
      "state": {
       "description_width": ""
      }
     },
     "8b84673565d94456ac40b7f5e9b40518": {
      "model_module": "@jupyter-widgets/base",
      "model_module_version": "1.0.0",
      "model_name": "LayoutModel",
      "state": {
       "width": "100%"
      }
     },
     "8d18d2f6a4f2424ca820204c560495aa": {
      "model_module": "@jupyter-widgets/base",
      "model_module_version": "1.0.0",
      "model_name": "LayoutModel",
      "state": {}
     },
     "8d27e125d3c249b3ad48de3a840538ea": {
      "model_module": "@jupyter-widgets/base",
      "model_module_version": "1.0.0",
      "model_name": "LayoutModel",
      "state": {
       "width": "25%"
      }
     },
     "8ea778a3b1ff4a46b83342a108ccb825": {
      "model_module": "@jupyter-widgets/base",
      "model_module_version": "1.0.0",
      "model_name": "LayoutModel",
      "state": {}
     },
     "8eb73b7f1b01452abad0735c47bc7128": {
      "model_module": "@jupyter-widgets/controls",
      "model_module_version": "1.1.0",
      "model_name": "ButtonStyleModel",
      "state": {}
     },
     "8f68750a42074331aa92fe583806063f": {
      "model_module": "@jupyter-widgets/controls",
      "model_module_version": "1.1.0",
      "model_name": "DescriptionStyleModel",
      "state": {
       "description_width": ""
      }
     },
     "8f76efcc23004df1a2fb0ed2673e97ff": {
      "model_module": "@jupyter-widgets/base",
      "model_module_version": "1.0.0",
      "model_name": "LayoutModel",
      "state": {}
     },
     "8fde46292da449979cac2bed9bf403d5": {
      "model_module": "@jupyter-widgets/controls",
      "model_module_version": "1.1.0",
      "model_name": "HTMLModel",
      "state": {
       "layout": "IPY_MODEL_bce8d78fafd74ae699e99d674ff86387",
       "style": "IPY_MODEL_7ca43a072d004466a9274ab6844d7aab",
       "value": "<img src=\"data:image/gif;base64,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\"/>"
      }
     },
     "8fe6152488184d609e7d8bbffbe2c948": {
      "model_module": "@jupyter-widgets/controls",
      "model_module_version": "1.1.0",
      "model_name": "AccordionModel",
      "state": {
       "_titles": {
        "0": "Alice in Wonderland"
       },
       "children": [
        "IPY_MODEL_edff5989499449b287deb7db1c96392b"
       ],
       "layout": "IPY_MODEL_0fc4fee8b9384b7c8b02d67a98759ad6",
       "selected_index": null
      }
     },
     "9050356d2cc741fbb7b64c8a9d6d774c": {
      "model_module": "@jupyter-widgets/base",
      "model_module_version": "1.0.0",
      "model_name": "LayoutModel",
      "state": {
       "width": "52%"
      }
     },
     "906e7773d19f4af98734de61778111e6": {
      "model_module": "@jupyter-widgets/controls",
      "model_module_version": "1.1.0",
      "model_name": "DescriptionStyleModel",
      "state": {
       "description_width": ""
      }
     },
     "90db0e70ee0547e496f981ea80868304": {
      "model_module": "@jupyter-widgets/controls",
      "model_module_version": "1.1.0",
      "model_name": "DescriptionStyleModel",
      "state": {
       "description_width": ""
      }
     },
     "91095f45cb9a438fa619a9d60c1ebd15": {
      "model_module": "@jupyter-widgets/base",
      "model_module_version": "1.0.0",
      "model_name": "LayoutModel",
      "state": {}
     },
     "92ffcf72a10e477086a4cc331e0627cd": {
      "model_module": "@jupyter-widgets/base",
      "model_module_version": "1.0.0",
      "model_name": "LayoutModel",
      "state": {}
     },
     "932564f5a8d54653b9ad4fc3f085801c": {
      "model_module": "@jupyter-widgets/base",
      "model_module_version": "1.0.0",
      "model_name": "LayoutModel",
      "state": {
       "width": "25%"
      }
     },
     "94668f9856a748268170c556f1806ba0": {
      "model_module": "@jupyter-widgets/base",
      "model_module_version": "1.0.0",
      "model_name": "LayoutModel",
      "state": {}
     },
     "94a331d0c7894f52adfa8160a4b67fcf": {
      "model_module": "@jupyter-widgets/controls",
      "model_module_version": "1.1.0",
      "model_name": "DescriptionStyleModel",
      "state": {
       "description_width": "initial"
      }
     },
     "953fd888cf9b4a189c7533d21b54b2f5": {
      "model_module": "@jupyter-widgets/controls",
      "model_module_version": "1.1.0",
      "model_name": "IntTextModel",
      "state": {
       "description": "Feature columns:",
       "layout": "IPY_MODEL_716fff7045d545c39f3203ee4bb840ee",
       "step": 1,
       "style": "IPY_MODEL_4f237ef4e5d54d72b729f1b7531a9d9c",
       "value": 3
      }
     },
     "9583db0c94a54498be0db0aa5df36f06": {
      "model_module": "@jupyter-widgets/controls",
      "model_module_version": "1.1.0",
      "model_name": "ButtonStyleModel",
      "state": {}
     },
     "95ae94def5d640e1acaf784f79b6da81": {
      "model_module": "@jupyter-widgets/base",
      "model_module_version": "1.0.0",
      "model_name": "LayoutModel",
      "state": {}
     },
     "95b0846dfbba45d8bc678e9e2da2505c": {
      "model_module": "@jupyter-widgets/base",
      "model_module_version": "1.0.0",
      "model_name": "LayoutModel",
      "state": {
       "width": "52%"
      }
     },
     "96cedd7760ee4de68ed953209ca6f530": {
      "model_module": "@jupyter-widgets/controls",
      "model_module_version": "1.1.0",
      "model_name": "DescriptionStyleModel",
      "state": {
       "description_width": "initial"
      }
     },
     "96decd168e794cdb9bc6a4e1715b6a0c": {
      "model_module": "@jupyter-widgets/controls",
      "model_module_version": "1.1.0",
      "model_name": "HBoxModel",
      "state": {
       "children": [
        "IPY_MODEL_5f906dee83d34517badee33a71ef36e1",
        "IPY_MODEL_7209dd64414e4a19bffdd169061cbc76"
       ],
       "layout": "IPY_MODEL_92ffcf72a10e477086a4cc331e0627cd"
      }
     },
     "98df5cff99344e49ad6b2780dcc4c9f8": {
      "model_module": "@jupyter-widgets/controls",
      "model_module_version": "1.1.0",
      "model_name": "DescriptionStyleModel",
      "state": {
       "description_width": ""
      }
     },
     "98e35bae2c0046fe80395d4a60f6373b": {
      "model_module": "@jupyter-widgets/base",
      "model_module_version": "1.0.0",
      "model_name": "LayoutModel",
      "state": {}
     },
     "998dbf93523c44e59de6d4d51733fd3e": {
      "model_module": "@jupyter-widgets/controls",
      "model_module_version": "1.1.0",
      "model_name": "DescriptionStyleModel",
      "state": {
       "description_width": ""
      }
     },
     "9a5da0b71c22478791655b07377f0ec7": {
      "model_module": "@jupyter-widgets/controls",
      "model_module_version": "1.1.0",
      "model_name": "HBoxModel",
      "state": {
       "children": [
        "IPY_MODEL_3f6d99f203c049ffb54acdce8d690272",
        "IPY_MODEL_a563ca3f8b154836b4fd4849007bf4d0",
        "IPY_MODEL_33d7f7e22699466e94f34920c5af7265",
        "IPY_MODEL_cbb287ddee914e99a6493f99d5962451",
        "IPY_MODEL_f15dd5679b3b4cb6b9114a7f435a688a",
        "IPY_MODEL_4130260878034a52a83a42dd877b05a8",
        "IPY_MODEL_fc72db617dc046bcb80c684e9b6e7eb6"
       ],
       "layout": "IPY_MODEL_dd6f5a45284f4df6afc442eea60a4e9a"
      }
     },
     "9a614e11c7644cc5ab8effc4b57ef49f": {
      "model_module": "@jupyter-widgets/controls",
      "model_module_version": "1.1.0",
      "model_name": "ButtonModel",
      "state": {
       "icon": "refresh",
       "layout": "IPY_MODEL_8d27e125d3c249b3ad48de3a840538ea",
       "style": "IPY_MODEL_e6abddeee4e54f2584d4b6769b74762c"
      }
     },
     "9b20c25ac43c483f85d61da6d8e7fb31": {
      "model_module": "@jupyter-widgets/controls",
      "model_module_version": "1.1.0",
      "model_name": "DescriptionStyleModel",
      "state": {
       "description_width": ""
      }
     },
     "9bbc2c2e49a7468a9a93040af0cf048e": {
      "model_module": "@jupyter-widgets/controls",
      "model_module_version": "1.1.0",
      "model_name": "FloatTextModel",
      "state": {
       "description": "Leftmost color maps to:",
       "layout": "IPY_MODEL_4508134ea132444bbabe9fb22f782664",
       "step": null,
       "style": "IPY_MODEL_23f00db75c454f1aa52e4b7eee0ef3aa"
      }
     },
     "9c26934d178a4c69a168a7102448a790": {
      "model_module": "@jupyter-widgets/controls",
      "model_module_version": "1.1.0",
      "model_name": "VBoxModel",
      "state": {
       "children": [
        "IPY_MODEL_46c1e3438082481fa96858acb76c961e",
        "IPY_MODEL_d6072a6dcc094f3fab229928fbf35e03",
        "IPY_MODEL_6ed4a95a929e430f8f1fa950ce769a99",
        "IPY_MODEL_8fde46292da449979cac2bed9bf403d5",
        "IPY_MODEL_ee2f88315a1f443497549f89a1eb47f0",
        "IPY_MODEL_d24ab5d18a674f31bb779e4956ec83f6",
        "IPY_MODEL_f5ce2ce368004fa4a991c036f3de8fee",
        "IPY_MODEL_2e96aa6d6aec40baad588c2e3b4e4ce6"
       ],
       "layout": "IPY_MODEL_46111670ab0d441bbd0e55f846f411db"
      }
     },
     "9c9a8d7e15d44221a1b51c049358a932": {
      "model_module": "@jupyter-widgets/controls",
      "model_module_version": "1.1.0",
      "model_name": "ButtonStyleModel",
      "state": {}
     },
     "9e1e977d2fda4d14953ce5d45a394208": {
      "model_module": "@jupyter-widgets/controls",
      "model_module_version": "1.1.0",
      "model_name": "HBoxModel",
      "state": {
       "children": [
        "IPY_MODEL_fbfece232d6d4645b7782e51d6ee0f3a",
        "IPY_MODEL_f0c1e8d332f94d4483b0239456df06d3"
       ],
       "layout": "IPY_MODEL_ec2db4ddc1674fc99ab03c8efb6f6c5d"
      }
     },
     "9f4dc4f012bc45cca1914578888bd5d1": {
      "model_module": "@jupyter-widgets/controls",
      "model_module_version": "1.1.0",
      "model_name": "DescriptionStyleModel",
      "state": {
       "description_width": "initial"
      }
     },
     "9f6445fd0b2e4be8a76056bc204bd879": {
      "model_module": "@jupyter-widgets/controls",
      "model_module_version": "1.1.0",
      "model_name": "FloatTextModel",
      "state": {
       "description": "Feature scale:",
       "layout": "IPY_MODEL_94668f9856a748268170c556f1806ba0",
       "step": null,
       "style": "IPY_MODEL_05168149f5cc4277a8e9bcfb7ad98e6a",
       "value": 1
      }
     },
     "a013a02c5dee46f082f3c9192772f7c3": {
      "model_module": "@jupyter-widgets/controls",
      "model_module_version": "1.1.0",
      "model_name": "ButtonModel",
      "state": {
       "icon": "fast-forward",
       "layout": "IPY_MODEL_43393c64d293482183930962c29ee56b",
       "style": "IPY_MODEL_e225b04f82614dfaacbbb2f03c0683f6"
      }
     },
     "a032018c51cb48f7bef728b707c10085": {
      "model_module": "@jupyter-widgets/controls",
      "model_module_version": "1.1.0",
      "model_name": "IntTextModel",
      "state": {
       "description": "Horizontal space between banks:",
       "layout": "IPY_MODEL_b8bb692474f2405d995d4f83ecffe9f8",
       "step": 1,
       "style": "IPY_MODEL_282a4adc56a84dab92e4f7f54dc4a8bf",
       "value": 150
      }
     },
     "a08c7f2081aa4bb281cde43b1ca6995c": {
      "model_module": "@jupyter-widgets/controls",
      "model_module_version": "1.1.0",
      "model_name": "SliderStyleModel",
      "state": {
       "description_width": ""
      }
     },
     "a14be2e2818240cd89a431e1a1c855d6": {
      "model_module": "@jupyter-widgets/controls",
      "model_module_version": "1.1.0",
      "model_name": "IntTextModel",
      "state": {
       "description": "Horizontal space between banks:",
       "layout": "IPY_MODEL_e139e1e900c4499f96e6f598e0f88837",
       "step": 1,
       "style": "IPY_MODEL_a817c706024949d6a982ce063f6f8b83",
       "value": 150
      }
     },
     "a284b6cef18e49e5883960a798c3d7d7": {
      "model_module": "@jupyter-widgets/controls",
      "model_module_version": "1.1.0",
      "model_name": "HBoxModel",
      "state": {
       "children": [
        "IPY_MODEL_3c11c64a8e48473390c8cdd79816434b",
        "IPY_MODEL_beea630455f44ac0af536bd9af7e7cb9",
        "IPY_MODEL_7dae603cb32e4908a90c3d4bdfaf2c16",
        "IPY_MODEL_2fd31f6bf292402284adc04ca54a7cc1",
        "IPY_MODEL_5c9bb4017ead4df28c7a928becf6ec54",
        "IPY_MODEL_2244bf5369d24f20b68883a4fb494fb7",
        "IPY_MODEL_ad7eba8b7bfd4bb68f71f316b7c3a2f7"
       ],
       "layout": "IPY_MODEL_ce838144d7584750acbb11d77e5dbcfe"
      }
     },
     "a2ae0018f36b4514b5d942ebdd51cfee": {
      "model_module": "@jupyter-widgets/controls",
      "model_module_version": "1.1.0",
      "model_name": "HTMLModel",
      "state": {
       "layout": "IPY_MODEL_ea1628ee06c540bfb94aece81a189dae",
       "style": "IPY_MODEL_82e67ab85de94aeda40a80671e6dc1a9",
       "value": "<img src=\"data:image/gif;base64,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\"/>"
      }
     },
     "a2c565b919f4428bb61ba5415d33f57e": {
      "model_module": "@jupyter-widgets/controls",
      "model_module_version": "1.1.0",
      "model_name": "DescriptionStyleModel",
      "state": {
       "description_width": "initial"
      }
     },
     "a3a778f25aff451483ab7d81c09a9317": {
      "model_module": "@jupyter-widgets/controls",
      "model_module_version": "1.1.0",
      "model_name": "IntSliderModel",
      "state": {
       "continuous_update": false,
       "description": "Dataset index",
       "layout": "IPY_MODEL_0d1cc18a5f9743349110d0948a503a16",
       "max": 158772,
       "style": "IPY_MODEL_85d8e4e00aef48cd87d6dcb811690461",
       "value": 8
      }
     },
     "a3ea88713ab347949a1aea149b158757": {
      "model_module": "@jupyter-widgets/controls",
      "model_module_version": "1.1.0",
      "model_name": "ButtonStyleModel",
      "state": {}
     },
     "a563ca3f8b154836b4fd4849007bf4d0": {
      "model_module": "@jupyter-widgets/controls",
      "model_module_version": "1.1.0",
      "model_name": "ButtonModel",
      "state": {
       "icon": "backward",
       "layout": "IPY_MODEL_aa4dd8d0d6aa4a04954881dce5099cdb",
       "style": "IPY_MODEL_06982900807d4d5888d973f388130fa9"
      }
     },
     "a5d094adb10b4cca88e8bc2b3cabe8f9": {
      "model_module": "@jupyter-widgets/base",
      "model_module_version": "1.0.0",
      "model_name": "LayoutModel",
      "state": {}
     },
     "a67599adf66d4159a0c60e659efd593c": {
      "model_module": "@jupyter-widgets/base",
      "model_module_version": "1.0.0",
      "model_name": "LayoutModel",
      "state": {
       "width": "100%"
      }
     },
     "a6b2ea90f14647cebdde549898a2de7b": {
      "model_module": "@jupyter-widgets/controls",
      "model_module_version": "1.1.0",
      "model_name": "DescriptionStyleModel",
      "state": {
       "description_width": "initial"
      }
     },
     "a6ed2df8c1f94c13b1c0f2522c98aecc": {
      "model_module": "@jupyter-widgets/controls",
      "model_module_version": "1.1.0",
      "model_name": "DescriptionStyleModel",
      "state": {
       "description_width": ""
      }
     },
     "a74ebe859d48474e9aa36e985952a6e4": {
      "model_module": "@jupyter-widgets/controls",
      "model_module_version": "1.1.0",
      "model_name": "CheckboxModel",
      "state": {
       "description": "Rotate network",
       "disabled": false,
       "layout": "IPY_MODEL_9050356d2cc741fbb7b64c8a9d6d774c",
       "style": "IPY_MODEL_a6b2ea90f14647cebdde549898a2de7b",
       "value": false
      }
     },
     "a817c706024949d6a982ce063f6f8b83": {
      "model_module": "@jupyter-widgets/controls",
      "model_module_version": "1.1.0",
      "model_name": "DescriptionStyleModel",
      "state": {
       "description_width": "initial"
      }
     },
     "a97eff5426534e6eb4c12df503adb6e7": {
      "model_module": "@jupyter-widgets/controls",
      "model_module_version": "1.1.0",
      "model_name": "DescriptionStyleModel",
      "state": {
       "description_width": ""
      }
     },
     "aa4dd8d0d6aa4a04954881dce5099cdb": {
      "model_module": "@jupyter-widgets/base",
      "model_module_version": "1.0.0",
      "model_name": "LayoutModel",
      "state": {
       "width": "100%"
      }
     },
     "ab1c7039ec3049e7836b7bdb710a0fed": {
      "model_module": "@jupyter-widgets/base",
      "model_module_version": "1.0.0",
      "model_name": "LayoutModel",
      "state": {
       "width": "100%"
      }
     },
     "ac9db9ffb6a14d349634b97afc3e0276": {
      "model_module": "@jupyter-widgets/controls",
      "model_module_version": "1.1.0",
      "model_name": "HTMLModel",
      "state": {
       "layout": "IPY_MODEL_e4af68a85ded47a5bc0dff035be34d9a",
       "style": "IPY_MODEL_379151c024e14ce4b06079a34172e0c3",
       "value": "<p style=\"text-align:center\"><svg id='Alice in Wonderland' xmlns='http://www.w3.org/2000/svg' image-rendering=\"pixelated\" width=\"297.87234042553195px\" height=\"400.0px\">\n <g >\n  <svg viewBox=\"0 0 350 470\" width=\"297.87234042553195px\" height=\"400.0px\">\n    <defs>\n        <marker id=\"arrow\" markerWidth=\"10\" markerHeight=\"10\" refX=\"9\" refY=\"3\" orient=\"auto\" markerUnits=\"strokeWidth\">\n          <path d=\"M0,0 L0,6 L9,3 z\" fill=\"black\" />\n        </marker>\n    </defs><rect x=\"74.0\" y=\"24\" width=\"202\" height=\"52\" style=\"fill:none;stroke:black;stroke-width:2\"/><image id=\"picture-dashboard-Alice in Wonderland-678055_output_targets_7\" class=\"picture-dashboard-Alice in Wonderland-678055_output_targets\" x=\"75.0\" y=\"25\" height=\"50\" width=\"200\" preserveAspectRatio=\"none\" href=\"data:image/gif;base64,R0lGODdhOAABAIcAAAAAABkZGbW1tQAAAAAAAAAAAAAAAAAAAAAAAAAAAAAAAAAAAAAAAAAAAAAAAAAAAAAAAAAAAAAAAAAAAAAAAAAAAAAAAAAAAAAAAAAAAAAAAAAAAAAAAAAAAAAAAAAAAAAAAAAAAAAAAAAAAAAAAAAAAAAAAAAAAAAAAAAAAAAAAAAAAAAAAAAAAAAAAAAAAAAAAAAAAAAAAAAAAAAAAAAAAAAAAAAAAAAAAAAAAAAAAAAAAAAAAAAAAAAAAAAAAAAAAAAAAAAAAAAAAAAAAAAAAAAAAAAAAAAAAAAAAAAAAAAAAAAAAAAAAAAAAAAAAAAAAAAAAAAAAAAAAAAAAAAAAAAAAAAAAAAAAAAAAAAAAAAAAAAAAAAAAAAAAAAAAAAAAAAAAAAAAAAAAAAAAAAAAAAAAAAAAAAAAAAAAAAAAAAAAAAAAAAAAAAAAAAAAAAAAAAAAAAAAAAAAAAAAAAAAAAAAAAAAAAAAAAAAAAAAAAAAAAAAAAAAAAAAAAAAAAAAAAAAAAAAAAAAAAAAAAAAAAAAAAAAAAAAAAAAAAAAAAAAAAAAAAAAAAAAAAAAAAAAAAAAAAAAAAAAAAAAAAAAAAAAAAAAAAAAAAAAAAAAAAAAAAAAAAAAAAAAAAAAAAAAAAAAAAAAAAAAAAAAAAAAAAAAAAAAAAAAAAAAAAAAAAAAAAAAAAAAAAAAAAAAAAAAAAAAAAAAAAAAAAAAAAAAAAAAAAAAAAAAAAAAAAAAAAAAAAAAAAAAAAAAAAAAAAAAAAAAAAAAAAAAAAAAAAAAAAAAAAAAAAAAAAAAAAAAAAAAAAAAAAAAAAAAAAAAAAAAAAAAAAAAAAAAAAAAAAAAAAAAAAAAAAAAAAAAAAAAAAAAAAAAAAAAAAAAAAAAAAAAAAAAAAAAAAAAAAAAAAAAAAAAAAAAAAAAAAAAAAAAAAAAAAAAAAAAAAAAAAAAAAAAAAAAAAAAAAAAAAAAAAAAAAAAAAAAAAAAAAAAAAAAAAAAAAAAAAAAAAAAAAAACwAAAAAOAABAAAIFgABCBxIsKAAAAgTKlzIsKFDhAEABAQAOw==\"><title>Layer: output (output)\n output range: (0.0, 1.0)\n shape = (56,)\n Keras class = Dense\n activation = softmax</title></image><text x=\"280.0\" y=\"52.0\" font-family=\"monospace\" font-size=\"12\" text-anchor=\"start\" fill=\"black\" alignment-baseline=\"central\" >targets</text><line x1=\"87.5\" y1=\"80\" x2=\"262.5\" y2=\"80\" stroke=\"green\" stroke-width=\"2\"><title></title></line><rect x=\"74.0\" y=\"84\" width=\"202\" height=\"52\" style=\"fill:none;stroke:black;stroke-width:2\"/><image id=\"picture-dashboard-Alice in Wonderland-678055_output_7\" class=\"picture-dashboard-Alice in Wonderland-678055_output\" x=\"75.0\" y=\"85\" height=\"50\" width=\"200\" preserveAspectRatio=\"none\" href=\"data:image/gif;base64,R0lGODdhOAABAIcAAAAAABkZGbW1tQAAAAAAAAAAAAAAAAAAAAAAAAAAAAAAAAAAAAAAAAAAAAAAAAAAAAAAAAAAAAAAAAAAAAAAAAAAAAAAAAAAAAAAAAAAAAAAAAAAAAAAAAAAAAAAAAAAAAAAAAAAAAAAAAAAAAAAAAAAAAAAAAAAAAAAAAAAAAAAAAAAAAAAAAAAAAAAAAAAAAAAAAAAAAAAAAAAAAAAAAAAAAAAAAAAAAAAAAAAAAAAAAAAAAAAAAAAAAAAAAAAAAAAAAAAAAAAAAAAAAAAAAAAAAAAAAAAAAAAAAAAAAAAAAAAAAAAAAAAAAAAAAAAAAAAAAAAAAAAAAAAAAAAAAAAAAAAAAAAAAAAAAAAAAAAAAAAAAAAAAAAAAAAAAAAAAAAAAAAAAAAAAAAAAAAAAAAAAAAAAAAAAAAAAAAAAAAAAAAAAAAAAAAAAAAAAAAAAAAAAAAAAAAAAAAAAAAAAAAAAAAAAAAAAAAAAAAAAAAAAAAAAAAAAAAAAAAAAAAAAAAAAAAAAAAAAAAAAAAAAAAAAAAAAAAAAAAAAAAAAAAAAAAAAAAAAAAAAAAAAAAAAAAAAAAAAAAAAAAAAAAAAAAAAAAAAAAAAAAAAAAAAAAAAAAAAAAAAAAAAAAAAAAAAAAAAAAAAAAAAAAAAAAAAAAAAAAAAAAAAAAAAAAAAAAAAAAAAAAAAAAAAAAAAAAAAAAAAAAAAAAAAAAAAAAAAAAAAAAAAAAAAAAAAAAAAAAAAAAAAAAAAAAAAAAAAAAAAAAAAAAAAAAAAAAAAAAAAAAAAAAAAAAAAAAAAAAAAAAAAAAAAAAAAAAAAAAAAAAAAAAAAAAAAAAAAAAAAAAAAAAAAAAAAAAAAAAAAAAAAAAAAAAAAAAAAAAAAAAAAAAAAAAAAAAAAAAAAAAAAAAAAAAAAAAAAAAAAAAAAAAAAAAAAAAAAAAAAAAAAAAAAAAAAAAAAAAAAAAAAAAAAAAAAAAAAAAAAAAAAAAAAAAAAAAAAAAAAAAAAAAAAAAAAAAACwAAAAAOAABAAAIFgABCBxIsKAAAAgTKlzIsKFDhAEABAQAOw==\"><title>Layer: output (output)\n output range: (0.0, 1.0)\n shape = (56,)\n Keras class = Dense\n activation = softmax</title></image><text x=\"280.0\" y=\"112.0\" font-family=\"monospace\" font-size=\"12\" text-anchor=\"start\" fill=\"black\" alignment-baseline=\"central\" >output</text><line x1=\"175.0\" y1=\"164\" x2=\"175.0\" y2=\"137\" stroke=\"black\" stroke-width=\"2\" marker-end=\"url(#arrow)\"><title>Weights from rnn to output\n output_2/kernel:0 has shape (128, 56)\n output_2/bias:0 has shape (56,)</title></line><rect x=\"74.0\" y=\"164\" width=\"202\" height=\"52\" style=\"fill:none;stroke:black;stroke-width:2\"/><image id=\"picture-dashboard-Alice in Wonderland-678055_rnn_8\" class=\"picture-dashboard-Alice in Wonderland-678055_rnn\" x=\"75.0\" y=\"165\" height=\"50\" width=\"200\" preserveAspectRatio=\"none\" href=\"data:image/gif;base64,R0lGODdhgAABAIcAAP4EBAYG/yUl/xYW//84OP32+FNT/3p6//8YGPTk7qys//+pqf/FxZWV//8kJP9JSf9VVf9lZf+Ghv/a2jY2/2dn/4uL//+VlU1N/7m5/8XF/9XV/wAAAAAAAAAAAAAAAAAAAAAAAAAAAAAAAAAAAAAAAAAAAAAAAAAAAAAAAAAAAAAAAAAAAAAAAAAAAAAAAAAAAAAAAAAAAAAAAAAAAAAAAAAAAAAAAAAAAAAAAAAAAAAAAAAAAAAAAAAAAAAAAAAAAAAAAAAAAAAAAAAAAAAAAAAAAAAAAAAAAAAAAAAAAAAAAAAAAAAAAAAAAAAAAAAAAAAAAAAAAAAAAAAAAAAAAAAAAAAAAAAAAAAAAAAAAAAAAAAAAAAAAAAAAAAAAAAAAAAAAAAAAAAAAAAAAAAAAAAAAAAAAAAAAAAAAAAAAAAAAAAAAAAAAAAAAAAAAAAAAAAAAAAAAAAAAAAAAAAAAAAAAAAAAAAAAAAAAAAAAAAAAAAAAAAAAAAAAAAAAAAAAAAAAAAAAAAAAAAAAAAAAAAAAAAAAAAAAAAAAAAAAAAAAAAAAAAAAAAAAAAAAAAAAAAAAAAAAAAAAAAAAAAAAAAAAAAAAAAAAAAAAAAAAAAAAAAAAAAAAAAAAAAAAAAAAAAAAAAAAAAAAAAAAAAAAAAAAAAAAAAAAAAAAAAAAAAAAAAAAAAAAAAAAAAAAAAAAAAAAAAAAAAAAAAAAAAAAAAAAAAAAAAAAAAAAAAAAAAAAAAAAAAAAAAAAAAAAAAAAAAAAAAAAAAAAAAAAAAAAAAAAAAAAAAAAAAAAAAAAAAAAAAAAAAAAAAAAAAAAAAAAAAAAAAAAAAAAAAAAAAAAAAAAAAAAAAAAAAAAAAAAAAAAAAAAAAAAAAAAAAAAAAAAAAAAAAAAAAAAAAAAAAAAAAAAAAAAAAAAAAAAAAAAAAAAAAAAAAAAAAAAAAAAAAAAAAAAAAAAAAAAAAAAAAAAAAAAAAAAAAAAAAAAAAAAAAAAAAAAAAAAAAAAAAAACwAAAAAgAABAAAIkgAZCKhgQMGAAAAIZIhgAICFAAAGDCDQ4IECAAAqCAgAwECBCAckKFDwAMABBgIcBBAAAMAECxMASGgQQEIAAAASIJiggQKDAg4AOMAgAEKCAAMgECgQoMGCDQYWADAAgICAAwEIJAiQIAIACBcAUAAggAGCAQcALLhQIIDbAwMKPBBAYEEBAAgAIAAQIIEABAEBADs=\"><title>Layer: rnn (hidden)\n output range: (-Infinity, +Infinity)\n Keras class = SimpleRNN\n return_sequences = False\n unroll = True</title></image><text x=\"280.0\" y=\"192.0\" font-family=\"monospace\" font-size=\"12\" text-anchor=\"start\" fill=\"black\" alignment-baseline=\"central\" >rnn</text><line x1=\"175.0\" y1=\"244\" x2=\"175.0\" y2=\"217\" stroke=\"black\" stroke-width=\"2\" marker-end=\"url(#arrow)\"><title>Weights from input to rnn\n rnn_2/kernel:0 has shape (56, 128)\n rnn_2/recurrent_kernel:0 has shape (128, 128)\n rnn_2/bias:0 has shape (128,)</title></line><rect x=\"74.0\" y=\"244\" width=\"202\" height=\"202\" style=\"fill:none;stroke:black;stroke-width:2\"/><image id=\"picture-dashboard-Alice in Wonderland-678055_input_9\" class=\"picture-dashboard-Alice in Wonderland-678055_input\" x=\"75.0\" y=\"245\" height=\"200\" width=\"200\" preserveAspectRatio=\"none\" href=\"data:image/gif;base64,R0lGODdhOAAKAIcAAAAAAP///wAAAAAAAAAAAAAAAAAAAAAAAAAAAAAAAAAAAAAAAAAAAAAAAAAAAAAAAAAAAAAAAAAAAAAAAAAAAAAAAAAAAAAAAAAAAAAAAAAAAAAAAAAAAAAAAAAAAAAAAAAAAAAAAAAAAAAAAAAAAAAAAAAAAAAAAAAAAAAAAAAAAAAAAAAAAAAAAAAAAAAAAAAAAAAAAAAAAAAAAAAAAAAAAAAAAAAAAAAAAAAAAAAAAAAAAAAAAAAAAAAAAAAAAAAAAAAAAAAAAAAAAAAAAAAAAAAAAAAAAAAAAAAAAAAAAAAAAAAAAAAAAAAAAAAAAAAAAAAAAAAAAAAAAAAAAAAAAAAAAAAAAAAAAAAAAAAAAAAAAAAAAAAAAAAAAAAAAAAAAAAAAAAAAAAAAAAAAAAAAAAAAAAAAAAAAAAAAAAAAAAAAAAAAAAAAAAAAAAAAAAAAAAAAAAAAAAAAAAAAAAAAAAAAAAAAAAAAAAAAAAAAAAAAAAAAAAAAAAAAAAAAAAAAAAAAAAAAAAAAAAAAAAAAAAAAAAAAAAAAAAAAAAAAAAAAAAAAAAAAAAAAAAAAAAAAAAAAAAAAAAAAAAAAAAAAAAAAAAAAAAAAAAAAAAAAAAAAAAAAAAAAAAAAAAAAAAAAAAAAAAAAAAAAAAAAAAAAAAAAAAAAAAAAAAAAAAAAAAAAAAAAAAAAAAAAAAAAAAAAAAAAAAAAAAAAAAAAAAAAAAAAAAAAAAAAAAAAAAAAAAAAAAAAAAAAAAAAAAAAAAAAAAAAAAAAAAAAAAAAAAAAAAAAAAAAAAAAAAAAAAAAAAAAAAAAAAAAAAAAAAAAAAAAAAAAAAAAAAAAAAAAAAAAAAAAAAAAAAAAAAAAAAAAAAAAAAAAAAAAAAAAAAAAAAAAAAAAAAAAAAAAAAAAAAAAAAAAAAAAAAAAAAAAAAAAAAAAAAAAAAAAAAAAAAAAAAAAAAAAAAAAAAAAAAAAAAAAAAAAAAAAAAAAAAAAAAAAAAAAAAAAAAAAAAAAAAAACwAAAAAOAAKAAAIhgABCBxIsKDBgwgTJgwAoKFDAAEASJxIsaLFixgzatxIMQCAjyBDihxJsqRJAAEAqFzJsqXLlzBjypxJk2UAADhz6tzJs6fPnzoDABhKtKjRo0iTKl26NACAp1CjSn0aAIDVq1izat3KtavXr2ABBABAtqzZs2jTql1bNgCAt3Djyp1LV25AADs=\"><title>Layer: input (input)\n output range: (0.0, 1.0)\n shape = (10, 56)\n Keras class = Input</title></image><text x=\"280.0\" y=\"347.0\" font-family=\"monospace\" font-size=\"12\" text-anchor=\"start\" fill=\"black\" alignment-baseline=\"central\" >input</text><text x=\"175.0\" y=\"12.5\" font-family=\"monospace\" font-size=\"15\" text-anchor=\"middle\" fill=\"black\" alignment-baseline=\"central\" >Alice in Wonderland</text></svg></g></svg></p>"
      }
     },
     "ace05d2706c649d5865be6857820f8ef": {
      "model_module": "@jupyter-widgets/controls",
      "model_module_version": "1.1.0",
      "model_name": "HBoxModel",
      "state": {
       "children": [
        "IPY_MODEL_a3a778f25aff451483ab7d81c09a9317",
        "IPY_MODEL_66b9a62f25a44fcdbf98fc7af3d1e9ab"
       ],
       "layout": "IPY_MODEL_cb411948931a488f940b4e4d9d76d3e6"
      }
     },
     "ad7eba8b7bfd4bb68f71f316b7c3a2f7": {
      "model_module": "@jupyter-widgets/controls",
      "model_module_version": "1.1.0",
      "model_name": "ButtonModel",
      "state": {
       "icon": "refresh",
       "layout": "IPY_MODEL_932564f5a8d54653b9ad4fc3f085801c",
       "style": "IPY_MODEL_78f5faf1df97450f94f551d7e083efd5"
      }
     },
     "af7b745e75c84664bec028cc2a098951": {
      "model_module": "@jupyter-widgets/controls",
      "model_module_version": "1.1.0",
      "model_name": "SliderStyleModel",
      "state": {
       "description_width": ""
      }
     },
     "b03c42f86fae49b48d7267bdf8d1393b": {
      "model_module": "@jupyter-widgets/controls",
      "model_module_version": "1.1.0",
      "model_name": "SelectModel",
      "state": {
       "_options_labels": [
        "",
        "Accent",
        "Accent_r",
        "Blues",
        "Blues_r",
        "BrBG",
        "BrBG_r",
        "BuGn",
        "BuGn_r",
        "BuPu",
        "BuPu_r",
        "CMRmap",
        "CMRmap_r",
        "Dark2",
        "Dark2_r",
        "GnBu",
        "GnBu_r",
        "Greens",
        "Greens_r",
        "Greys",
        "Greys_r",
        "OrRd",
        "OrRd_r",
        "Oranges",
        "Oranges_r",
        "PRGn",
        "PRGn_r",
        "Paired",
        "Paired_r",
        "Pastel1",
        "Pastel1_r",
        "Pastel2",
        "Pastel2_r",
        "PiYG",
        "PiYG_r",
        "PuBu",
        "PuBuGn",
        "PuBuGn_r",
        "PuBu_r",
        "PuOr",
        "PuOr_r",
        "PuRd",
        "PuRd_r",
        "Purples",
        "Purples_r",
        "RdBu",
        "RdBu_r",
        "RdGy",
        "RdGy_r",
        "RdPu",
        "RdPu_r",
        "RdYlBu",
        "RdYlBu_r",
        "RdYlGn",
        "RdYlGn_r",
        "Reds",
        "Reds_r",
        "Set1",
        "Set1_r",
        "Set2",
        "Set2_r",
        "Set3",
        "Set3_r",
        "Spectral",
        "Spectral_r",
        "Vega10",
        "Vega10_r",
        "Vega20",
        "Vega20_r",
        "Vega20b",
        "Vega20b_r",
        "Vega20c",
        "Vega20c_r",
        "Wistia",
        "Wistia_r",
        "YlGn",
        "YlGnBu",
        "YlGnBu_r",
        "YlGn_r",
        "YlOrBr",
        "YlOrBr_r",
        "YlOrRd",
        "YlOrRd_r",
        "afmhot",
        "afmhot_r",
        "autumn",
        "autumn_r",
        "binary",
        "binary_r",
        "bone",
        "bone_r",
        "brg",
        "brg_r",
        "bwr",
        "bwr_r",
        "cool",
        "cool_r",
        "coolwarm",
        "coolwarm_r",
        "copper",
        "copper_r",
        "cubehelix",
        "cubehelix_r",
        "flag",
        "flag_r",
        "gist_earth",
        "gist_earth_r",
        "gist_gray",
        "gist_gray_r",
        "gist_heat",
        "gist_heat_r",
        "gist_ncar",
        "gist_ncar_r",
        "gist_rainbow",
        "gist_rainbow_r",
        "gist_stern",
        "gist_stern_r",
        "gist_yarg",
        "gist_yarg_r",
        "gnuplot",
        "gnuplot2",
        "gnuplot2_r",
        "gnuplot_r",
        "gray",
        "gray_r",
        "hot",
        "hot_r",
        "hsv",
        "hsv_r",
        "inferno",
        "inferno_r",
        "jet",
        "jet_r",
        "magma",
        "magma_r",
        "nipy_spectral",
        "nipy_spectral_r",
        "ocean",
        "ocean_r",
        "pink",
        "pink_r",
        "plasma",
        "plasma_r",
        "prism",
        "prism_r",
        "rainbow",
        "rainbow_r",
        "seismic",
        "seismic_r",
        "spectral",
        "spectral_r",
        "spring",
        "spring_r",
        "summer",
        "summer_r",
        "tab10",
        "tab10_r",
        "tab20",
        "tab20_r",
        "tab20b",
        "tab20b_r",
        "tab20c",
        "tab20c_r",
        "terrain",
        "terrain_r",
        "viridis",
        "viridis_r",
        "winter",
        "winter_r"
       ],
       "description": "Colormap:",
       "index": 123,
       "layout": "IPY_MODEL_c686efe2613a47a4ab06df069e39bc74",
       "rows": 1,
       "style": "IPY_MODEL_1b48407d538348c8bd0bcd0417215b1d"
      }
     },
     "b1d1a1437aa441a3968f1f740effef21": {
      "model_module": "@jupyter-widgets/controls",
      "model_module_version": "1.1.0",
      "model_name": "CheckboxModel",
      "state": {
       "description": "Rotate network",
       "disabled": false,
       "layout": "IPY_MODEL_87a7dbbce226487ea273d0fb100477d4",
       "style": "IPY_MODEL_ff9e510f138f4958a6f709304a097707",
       "value": false
      }
     },
     "b1f87582a8724cbba4042abe854721cc": {
      "model_module": "@jupyter-widgets/base",
      "model_module_version": "1.0.0",
      "model_name": "LayoutModel",
      "state": {}
     },
     "b29a85d7d40d42ea81367a14a7bd37b4": {
      "model_module": "@jupyter-widgets/controls",
      "model_module_version": "1.1.0",
      "model_name": "DescriptionStyleModel",
      "state": {
       "description_width": ""
      }
     },
     "b314a5af7f31463ab942b86f7de8b991": {
      "model_module": "@jupyter-widgets/base",
      "model_module_version": "1.0.0",
      "model_name": "LayoutModel",
      "state": {
       "justify_content": "center",
       "overflow_x": "auto",
       "overflow_y": "auto",
       "width": "95%"
      }
     },
     "b333ff6053e84e1e96b8d9b92e86e769": {
      "model_module": "@jupyter-widgets/controls",
      "model_module_version": "1.1.0",
      "model_name": "CheckboxModel",
      "state": {
       "description": "Visible",
       "disabled": false,
       "layout": "IPY_MODEL_c686efe2613a47a4ab06df069e39bc74",
       "style": "IPY_MODEL_660e51acc0de4a9a95874f482cd96041",
       "value": true
      }
     },
     "b3399e39c51248b7b3ae6b8947648ae3": {
      "model_module": "@jupyter-widgets/base",
      "model_module_version": "1.0.0",
      "model_name": "LayoutModel",
      "state": {
       "width": "100%"
      }
     },
     "b41b2771cb8945ecbc4763503ee06295": {
      "model_module": "@jupyter-widgets/base",
      "model_module_version": "1.0.0",
      "model_name": "LayoutModel",
      "state": {
       "width": "100%"
      }
     },
     "b44f005edf4e4d539fb35112934f3b3a": {
      "model_module": "@jupyter-widgets/controls",
      "model_module_version": "1.1.0",
      "model_name": "FloatSliderModel",
      "state": {
       "continuous_update": false,
       "description": "Zoom",
       "layout": "IPY_MODEL_b658a974688a443c802ca649542a8947",
       "max": 1,
       "step": 0.1,
       "style": "IPY_MODEL_2732d58eb5d84244a1593be9c777dc99",
       "value": 0.5
      }
     },
     "b46d9acd8f3e4052bd3154fdce691119": {
      "model_module": "@jupyter-widgets/base",
      "model_module_version": "1.0.0",
      "model_name": "LayoutModel",
      "state": {}
     },
     "b567dee705124abbb47b14310b186c72": {
      "model_module": "@jupyter-widgets/controls",
      "model_module_version": "1.1.0",
      "model_name": "DescriptionStyleModel",
      "state": {
       "description_width": "initial"
      }
     },
     "b58c0016321a42a9adac0984262e710d": {
      "model_module": "@jupyter-widgets/base",
      "model_module_version": "1.0.0",
      "model_name": "LayoutModel",
      "state": {}
     },
     "b63690a09eab466eae94314d685081be": {
      "model_module": "@jupyter-widgets/base",
      "model_module_version": "1.0.0",
      "model_name": "LayoutModel",
      "state": {}
     },
     "b658a974688a443c802ca649542a8947": {
      "model_module": "@jupyter-widgets/base",
      "model_module_version": "1.0.0",
      "model_name": "LayoutModel",
      "state": {
       "width": "65%"
      }
     },
     "b6dd557a71ed47ccac396a57656c030b": {
      "model_module": "@jupyter-widgets/base",
      "model_module_version": "1.0.0",
      "model_name": "LayoutModel",
      "state": {
       "width": "100%"
      }
     },
     "b750c6dc82754cf2bf3e9c752f8fd8b9": {
      "model_module": "@jupyter-widgets/base",
      "model_module_version": "1.0.0",
      "model_name": "LayoutModel",
      "state": {
       "width": "100%"
      }
     },
     "b76f0ac8a74945a4917e20650adaeafb": {
      "model_module": "@jupyter-widgets/controls",
      "model_module_version": "1.1.0",
      "model_name": "HTMLModel",
      "state": {
       "layout": "IPY_MODEL_c6cfafbe45964d64b220583351fe8740",
       "style": "IPY_MODEL_b8789f1fe004491b9c3904bfd583fac2",
       "value": "<p style=\"text-align:center\"><svg id='Alice in Wonderland' xmlns='http://www.w3.org/2000/svg' image-rendering=\"pixelated\" width=\"297.87234042553195px\" height=\"400.0px\">\n <g >\n  <svg viewBox=\"0 0 350 470\" width=\"297.87234042553195px\" height=\"400.0px\">\n    <defs>\n        <marker id=\"arrow\" markerWidth=\"10\" markerHeight=\"10\" refX=\"9\" refY=\"3\" orient=\"auto\" markerUnits=\"strokeWidth\">\n          <path d=\"M0,0 L0,6 L9,3 z\" fill=\"black\" />\n        </marker>\n    </defs><rect x=\"74.0\" y=\"24\" width=\"202\" height=\"52\" style=\"fill:none;stroke:black;stroke-width:2\"/><image id=\"picture-dashboard-Alice in Wonderland-97841_output_targets_1\" class=\"picture-dashboard-Alice in Wonderland-97841_output_targets\" x=\"75.0\" y=\"25\" height=\"50\" width=\"200\" preserveAspectRatio=\"none\" href=\"data:image/gif;base64,R0lGODdhOAABAIcAAAQEBAAAAAAAAAAAAAAAAAAAAAAAAAAAAAAAAAAAAAAAAAAAAAAAAAAAAAAAAAAAAAAAAAAAAAAAAAAAAAAAAAAAAAAAAAAAAAAAAAAAAAAAAAAAAAAAAAAAAAAAAAAAAAAAAAAAAAAAAAAAAAAAAAAAAAAAAAAAAAAAAAAAAAAAAAAAAAAAAAAAAAAAAAAAAAAAAAAAAAAAAAAAAAAAAAAAAAAAAAAAAAAAAAAAAAAAAAAAAAAAAAAAAAAAAAAAAAAAAAAAAAAAAAAAAAAAAAAAAAAAAAAAAAAAAAAAAAAAAAAAAAAAAAAAAAAAAAAAAAAAAAAAAAAAAAAAAAAAAAAAAAAAAAAAAAAAAAAAAAAAAAAAAAAAAAAAAAAAAAAAAAAAAAAAAAAAAAAAAAAAAAAAAAAAAAAAAAAAAAAAAAAAAAAAAAAAAAAAAAAAAAAAAAAAAAAAAAAAAAAAAAAAAAAAAAAAAAAAAAAAAAAAAAAAAAAAAAAAAAAAAAAAAAAAAAAAAAAAAAAAAAAAAAAAAAAAAAAAAAAAAAAAAAAAAAAAAAAAAAAAAAAAAAAAAAAAAAAAAAAAAAAAAAAAAAAAAAAAAAAAAAAAAAAAAAAAAAAAAAAAAAAAAAAAAAAAAAAAAAAAAAAAAAAAAAAAAAAAAAAAAAAAAAAAAAAAAAAAAAAAAAAAAAAAAAAAAAAAAAAAAAAAAAAAAAAAAAAAAAAAAAAAAAAAAAAAAAAAAAAAAAAAAAAAAAAAAAAAAAAAAAAAAAAAAAAAAAAAAAAAAAAAAAAAAAAAAAAAAAAAAAAAAAAAAAAAAAAAAAAAAAAAAAAAAAAAAAAAAAAAAAAAAAAAAAAAAAAAAAAAAAAAAAAAAAAAAAAAAAAAAAAAAAAAAAAAAAAAAAAAAAAAAAAAAAAAAAAAAAAAAAAAAAAAAAAAAAAAAAAAAAAAAAAAAAAAAAAAAAAAAAAAAAAAAAAAAAAAAAAAAAAAAAAAAAAAAAAAAAAAAAAAAAAAAAAAAAAAAAAAACwAAAAAOAABAAAIDwABCBxIsKDBgwgTKgQQEAA7\"><title>Layer: output (output)\n output range: (0.0, 1.0)\n shape = (56,)\n Keras class = Dense\n activation = softmax</title></image><text x=\"280.0\" y=\"52.0\" font-family=\"monospace\" font-size=\"12\" text-anchor=\"start\" fill=\"black\" alignment-baseline=\"central\" >targets</text><line x1=\"87.5\" y1=\"80\" x2=\"262.5\" y2=\"80\" stroke=\"green\" stroke-width=\"2\"><title></title></line><rect x=\"74.0\" y=\"84\" width=\"202\" height=\"52\" style=\"fill:none;stroke:black;stroke-width:2\"/><image id=\"picture-dashboard-Alice in Wonderland-97841_output_1\" class=\"picture-dashboard-Alice in Wonderland-97841_output\" x=\"75.0\" y=\"85\" height=\"50\" width=\"200\" preserveAspectRatio=\"none\" href=\"data:image/gif;base64,R0lGODdhOAABAIcAAAQEBAAAAAAAAAAAAAAAAAAAAAAAAAAAAAAAAAAAAAAAAAAAAAAAAAAAAAAAAAAAAAAAAAAAAAAAAAAAAAAAAAAAAAAAAAAAAAAAAAAAAAAAAAAAAAAAAAAAAAAAAAAAAAAAAAAAAAAAAAAAAAAAAAAAAAAAAAAAAAAAAAAAAAAAAAAAAAAAAAAAAAAAAAAAAAAAAAAAAAAAAAAAAAAAAAAAAAAAAAAAAAAAAAAAAAAAAAAAAAAAAAAAAAAAAAAAAAAAAAAAAAAAAAAAAAAAAAAAAAAAAAAAAAAAAAAAAAAAAAAAAAAAAAAAAAAAAAAAAAAAAAAAAAAAAAAAAAAAAAAAAAAAAAAAAAAAAAAAAAAAAAAAAAAAAAAAAAAAAAAAAAAAAAAAAAAAAAAAAAAAAAAAAAAAAAAAAAAAAAAAAAAAAAAAAAAAAAAAAAAAAAAAAAAAAAAAAAAAAAAAAAAAAAAAAAAAAAAAAAAAAAAAAAAAAAAAAAAAAAAAAAAAAAAAAAAAAAAAAAAAAAAAAAAAAAAAAAAAAAAAAAAAAAAAAAAAAAAAAAAAAAAAAAAAAAAAAAAAAAAAAAAAAAAAAAAAAAAAAAAAAAAAAAAAAAAAAAAAAAAAAAAAAAAAAAAAAAAAAAAAAAAAAAAAAAAAAAAAAAAAAAAAAAAAAAAAAAAAAAAAAAAAAAAAAAAAAAAAAAAAAAAAAAAAAAAAAAAAAAAAAAAAAAAAAAAAAAAAAAAAAAAAAAAAAAAAAAAAAAAAAAAAAAAAAAAAAAAAAAAAAAAAAAAAAAAAAAAAAAAAAAAAAAAAAAAAAAAAAAAAAAAAAAAAAAAAAAAAAAAAAAAAAAAAAAAAAAAAAAAAAAAAAAAAAAAAAAAAAAAAAAAAAAAAAAAAAAAAAAAAAAAAAAAAAAAAAAAAAAAAAAAAAAAAAAAAAAAAAAAAAAAAAAAAAAAAAAAAAAAAAAAAAAAAAAAAAAAAAAAAAAAAAAAAAAAAAAAAAAAAAAAAAAAAAAAAAAAAAAAAACwAAAAAOAABAAAIDwABCBxIsKDBgwgTKgQQEAA7\"><title>Layer: output (output)\n output range: (0.0, 1.0)\n shape = (56,)\n Keras class = Dense\n activation = softmax</title></image><text x=\"280.0\" y=\"112.0\" font-family=\"monospace\" font-size=\"12\" text-anchor=\"start\" fill=\"black\" alignment-baseline=\"central\" >output</text><line x1=\"175.0\" y1=\"164\" x2=\"175.0\" y2=\"137\" stroke=\"black\" stroke-width=\"2\" marker-end=\"url(#arrow)\"><title>Weights from rnn to output\n output_4/kernel:0 has shape (128, 56)\n output_4/bias:0 has shape (56,)</title></line><rect x=\"74.0\" y=\"164\" width=\"202\" height=\"52\" style=\"fill:none;stroke:black;stroke-width:2\"/><image id=\"picture-dashboard-Alice in Wonderland-97841_rnn_2\" class=\"picture-dashboard-Alice in Wonderland-97841_rnn\" x=\"75.0\" y=\"165\" height=\"50\" width=\"200\" preserveAspectRatio=\"none\" href=\"data:image/gif;base64,R0lGODdhgAABAIcAAPPn8/v4+9fX//+4uP/X16Ki/7e3/8nJ//+Zmf/Hx/+lpYmJ/5aW//92dgAAAAAAAAAAAAAAAAAAAAAAAAAAAAAAAAAAAAAAAAAAAAAAAAAAAAAAAAAAAAAAAAAAAAAAAAAAAAAAAAAAAAAAAAAAAAAAAAAAAAAAAAAAAAAAAAAAAAAAAAAAAAAAAAAAAAAAAAAAAAAAAAAAAAAAAAAAAAAAAAAAAAAAAAAAAAAAAAAAAAAAAAAAAAAAAAAAAAAAAAAAAAAAAAAAAAAAAAAAAAAAAAAAAAAAAAAAAAAAAAAAAAAAAAAAAAAAAAAAAAAAAAAAAAAAAAAAAAAAAAAAAAAAAAAAAAAAAAAAAAAAAAAAAAAAAAAAAAAAAAAAAAAAAAAAAAAAAAAAAAAAAAAAAAAAAAAAAAAAAAAAAAAAAAAAAAAAAAAAAAAAAAAAAAAAAAAAAAAAAAAAAAAAAAAAAAAAAAAAAAAAAAAAAAAAAAAAAAAAAAAAAAAAAAAAAAAAAAAAAAAAAAAAAAAAAAAAAAAAAAAAAAAAAAAAAAAAAAAAAAAAAAAAAAAAAAAAAAAAAAAAAAAAAAAAAAAAAAAAAAAAAAAAAAAAAAAAAAAAAAAAAAAAAAAAAAAAAAAAAAAAAAAAAAAAAAAAAAAAAAAAAAAAAAAAAAAAAAAAAAAAAAAAAAAAAAAAAAAAAAAAAAAAAAAAAAAAAAAAAAAAAAAAAAAAAAAAAAAAAAAAAAAAAAAAAAAAAAAAAAAAAAAAAAAAAAAAAAAAAAAAAAAAAAAAAAAAAAAAAAAAAAAAAAAAAAAAAAAAAAAAAAAAAAAAAAAAAAAAAAAAAAAAAAAAAAAAAAAAAAAAAAAAAAAAAAAAAAAAAAAAAAAAAAAAAAAAAAAAAAAAAAAAAAAAAAAAAAAAAAAAAAAAAAAAAAAAAAAAAAAAAAAAAAAAAAAAAAAAAAAAAAAAAAAAAAAAAAAAAAAAAAAAAAAAAAAAAAAAAAAAAAAAAAAAAAAAAAAAAAAAAAAAACwAAAAAgAABAAAIkwANCCCQ4IAABAUGKDCAwACBAg0EFECQ4ACBAgQAJBhAYACAAwoGBAAwIECAAQUEBFgggACAAwYCMACQIIACAAIQEABQIIAAAAIEKAggIMCCAAYQEEiQ4MABAwwGMGiAIMEAAAAWAAAQoACAAQMALAhAQECBAQEABBBgAIEAAQcCACAwAACAAAAUBDAAQACDBgACAgA7\"><title>Layer: rnn (hidden)\n output range: (-Infinity, +Infinity)\n Keras class = SimpleRNN\n return_sequences = False\n unroll = True</title></image><text x=\"280.0\" y=\"192.0\" font-family=\"monospace\" font-size=\"12\" text-anchor=\"start\" fill=\"black\" alignment-baseline=\"central\" >rnn</text><line x1=\"175.0\" y1=\"244\" x2=\"175.0\" y2=\"217\" stroke=\"black\" stroke-width=\"2\" marker-end=\"url(#arrow)\"><title>Weights from input to rnn\n rnn_4/kernel:0 has shape (56, 128)\n rnn_4/recurrent_kernel:0 has shape (128, 128)\n rnn_4/bias:0 has shape (128,)</title></line><rect x=\"74.0\" y=\"244\" width=\"202\" height=\"202\" style=\"fill:none;stroke:black;stroke-width:2\"/><image id=\"picture-dashboard-Alice in Wonderland-97841_input_3\" class=\"picture-dashboard-Alice in Wonderland-97841_input\" x=\"75.0\" y=\"245\" height=\"200\" width=\"200\" preserveAspectRatio=\"none\" href=\"data:image/gif;base64,R0lGODdhOAAKAIcAAAAAAP///wAAAAAAAAAAAAAAAAAAAAAAAAAAAAAAAAAAAAAAAAAAAAAAAAAAAAAAAAAAAAAAAAAAAAAAAAAAAAAAAAAAAAAAAAAAAAAAAAAAAAAAAAAAAAAAAAAAAAAAAAAAAAAAAAAAAAAAAAAAAAAAAAAAAAAAAAAAAAAAAAAAAAAAAAAAAAAAAAAAAAAAAAAAAAAAAAAAAAAAAAAAAAAAAAAAAAAAAAAAAAAAAAAAAAAAAAAAAAAAAAAAAAAAAAAAAAAAAAAAAAAAAAAAAAAAAAAAAAAAAAAAAAAAAAAAAAAAAAAAAAAAAAAAAAAAAAAAAAAAAAAAAAAAAAAAAAAAAAAAAAAAAAAAAAAAAAAAAAAAAAAAAAAAAAAAAAAAAAAAAAAAAAAAAAAAAAAAAAAAAAAAAAAAAAAAAAAAAAAAAAAAAAAAAAAAAAAAAAAAAAAAAAAAAAAAAAAAAAAAAAAAAAAAAAAAAAAAAAAAAAAAAAAAAAAAAAAAAAAAAAAAAAAAAAAAAAAAAAAAAAAAAAAAAAAAAAAAAAAAAAAAAAAAAAAAAAAAAAAAAAAAAAAAAAAAAAAAAAAAAAAAAAAAAAAAAAAAAAAAAAAAAAAAAAAAAAAAAAAAAAAAAAAAAAAAAAAAAAAAAAAAAAAAAAAAAAAAAAAAAAAAAAAAAAAAAAAAAAAAAAAAAAAAAAAAAAAAAAAAAAAAAAAAAAAAAAAAAAAAAAAAAAAAAAAAAAAAAAAAAAAAAAAAAAAAAAAAAAAAAAAAAAAAAAAAAAAAAAAAAAAAAAAAAAAAAAAAAAAAAAAAAAAAAAAAAAAAAAAAAAAAAAAAAAAAAAAAAAAAAAAAAAAAAAAAAAAAAAAAAAAAAAAAAAAAAAAAAAAAAAAAAAAAAAAAAAAAAAAAAAAAAAAAAAAAAAAAAAAAAAAAAAAAAAAAAAAAAAAAAAAAAAAAAAAAAAAAAAAAAAAAAAAAAAAAAAAAAAAAAAAAAAAAAAAAAAAAAAAAAAAAAAAAAAAAAAAAACwAAAAAOAAKAAAIgwABCAwAoKDBgwgTKlzIsCHDAAAiSpxIsaLFixgzasQYAIDHjyBDihQZAIDJkyhTqlzJsqXLlyoDAJhJs6bNmzhz6qwZAIDPn0CDCh1KtKjRo0iJBgDAtKnTp1CjSp0aNQCAq1izat3KtavXrQEAiB1LtqzZs2IDAFjLtq3bt3Djug0IADs=\"><title>Layer: input (input)\n output range: (0.0, 1.0)\n shape = (10, 56)\n Keras class = Input</title></image><text x=\"280.0\" y=\"347.0\" font-family=\"monospace\" font-size=\"12\" text-anchor=\"start\" fill=\"black\" alignment-baseline=\"central\" >input</text><text x=\"175.0\" y=\"12.5\" font-family=\"monospace\" font-size=\"15\" text-anchor=\"middle\" fill=\"black\" alignment-baseline=\"central\" >Alice in Wonderland</text></svg></g></svg></p>"
      }
     },
     "b77f85281a804addad1717a7c60ed532": {
      "model_module": "@jupyter-widgets/controls",
      "model_module_version": "1.1.0",
      "model_name": "ButtonStyleModel",
      "state": {}
     },
     "b78d0028896549b5a56b10dd96461692": {
      "model_module": "@jupyter-widgets/base",
      "model_module_version": "1.0.0",
      "model_name": "LayoutModel",
      "state": {}
     },
     "b828236e20914d4db868e7b2b54ef344": {
      "model_module": "@jupyter-widgets/base",
      "model_module_version": "1.0.0",
      "model_name": "LayoutModel",
      "state": {
       "width": "10%"
      }
     },
     "b8789f1fe004491b9c3904bfd583fac2": {
      "model_module": "@jupyter-widgets/controls",
      "model_module_version": "1.1.0",
      "model_name": "DescriptionStyleModel",
      "state": {
       "description_width": ""
      }
     },
     "b8bb692474f2405d995d4f83ecffe9f8": {
      "model_module": "@jupyter-widgets/base",
      "model_module_version": "1.0.0",
      "model_name": "LayoutModel",
      "state": {}
     },
     "b991a69e32d94ca994a6826b1fcaf71f": {
      "model_module": "@jupyter-widgets/controls",
      "model_module_version": "1.1.0",
      "model_name": "ButtonStyleModel",
      "state": {}
     },
     "bae42b9e9ce24ab692d2650b0720143b": {
      "model_module": "@jupyter-widgets/controls",
      "model_module_version": "1.1.0",
      "model_name": "IntTextModel",
      "state": {
       "layout": "IPY_MODEL_2ffc9a3cc12c4cfdbc15188bc35db0b3",
       "step": 1,
       "style": "IPY_MODEL_f2e829d184914ee4bab946a6d0ed2dec",
       "value": 7
      }
     },
     "bb1ace7695f247c3be05c225847c0074": {
      "model_module": "@jupyter-widgets/controls",
      "model_module_version": "1.1.0",
      "model_name": "DescriptionStyleModel",
      "state": {
       "description_width": "initial"
      }
     },
     "bce8d78fafd74ae699e99d674ff86387": {
      "model_module": "@jupyter-widgets/base",
      "model_module_version": "1.0.0",
      "model_name": "LayoutModel",
      "state": {}
     },
     "bd0ee60aa87f4e5a9394bac157f64ef4": {
      "model_module": "@jupyter-widgets/controls",
      "model_module_version": "1.1.0",
      "model_name": "VBoxModel",
      "state": {
       "children": [
        "IPY_MODEL_20737f08a8a54e32a5f2ae4dd04b5822",
        "IPY_MODEL_1b6da1b896774f38911ec8812ff2516a",
        "IPY_MODEL_a032018c51cb48f7bef728b707c10085",
        "IPY_MODEL_46955e671a2d4f96bc7e069705d8bcf3",
        "IPY_MODEL_5444a651e3854e91beca79abd6f99284",
        "IPY_MODEL_7bf0d7c8887f41edaaf416fc28b31f77",
        "IPY_MODEL_3adfd5b99d3840e5bb9faa9b5f8e3269",
        "IPY_MODEL_4f4f7eb1580d41639ca9789eacca6dc3"
       ],
       "layout": "IPY_MODEL_4c3f5639f91b450db9dac65bad9a7837"
      }
     },
     "bd5b8476c1064b53be804f5649052f39": {
      "model_module": "@jupyter-widgets/controls",
      "model_module_version": "1.1.0",
      "model_name": "DescriptionStyleModel",
      "state": {
       "description_width": "initial"
      }
     },
     "bd6cb5a65d32481e813139168190c9c1": {
      "model_module": "@jupyter-widgets/controls",
      "model_module_version": "1.1.0",
      "model_name": "ButtonModel",
      "state": {
       "icon": "forward",
       "layout": "IPY_MODEL_30d4c5e8c12f4835982f59b074a1af7a",
       "style": "IPY_MODEL_3a29357a75c6429fbadc1b90205b0253"
      }
     },
     "be3e56a00f1742e985bb42f9f2520b1f": {
      "model_module": "@jupyter-widgets/base",
      "model_module_version": "1.0.0",
      "model_name": "LayoutModel",
      "state": {
       "width": "65%"
      }
     },
     "bed033adac6e435da063693ec77cd429": {
      "model_module": "@jupyter-widgets/output",
      "model_module_version": "1.0.0",
      "model_name": "OutputModel",
      "state": {
       "layout": "IPY_MODEL_6ab79f41802b45c9ada215819ba655c2"
      }
     },
     "beea630455f44ac0af536bd9af7e7cb9": {
      "model_module": "@jupyter-widgets/controls",
      "model_module_version": "1.1.0",
      "model_name": "ButtonModel",
      "state": {
       "icon": "backward",
       "layout": "IPY_MODEL_82ca4ccc9285413b86c691bc2871168b",
       "style": "IPY_MODEL_b77f85281a804addad1717a7c60ed532"
      }
     },
     "bf0648d02df44692b937bf97fbccf7ab": {
      "model_module": "@jupyter-widgets/controls",
      "model_module_version": "1.1.0",
      "model_name": "SelectModel",
      "state": {
       "_options_labels": [
        "input",
        "rnn",
        "output"
       ],
       "description": "Layer:",
       "index": 2,
       "layout": "IPY_MODEL_33ffb89dd8b34e4a8b915b7c86083058",
       "rows": 1,
       "style": "IPY_MODEL_54185398bcd74624820152fe714723da"
      }
     },
     "bf5734bfabc647ae9999f933695b0450": {
      "model_module": "@jupyter-widgets/base",
      "model_module_version": "1.0.0",
      "model_name": "LayoutModel",
      "state": {}
     },
     "c050d2a21b834e7e91d7fcb2e35b8505": {
      "model_module": "@jupyter-widgets/controls",
      "model_module_version": "1.1.0",
      "model_name": "CheckboxModel",
      "state": {
       "description": "Visible",
       "disabled": false,
       "layout": "IPY_MODEL_14d4f0e898324a2eb1c4c2810a3aada8",
       "style": "IPY_MODEL_62f7604aa5a74d589cd8ea3df1113f1c",
       "value": true
      }
     },
     "c1b9e6ad26234200abd26eaf005bc995": {
      "model_module": "@jupyter-widgets/controls",
      "model_module_version": "1.1.0",
      "model_name": "SliderStyleModel",
      "state": {
       "description_width": ""
      }
     },
     "c1f7c157743b46e98ce5931dc8f2fede": {
      "model_module": "@jupyter-widgets/controls",
      "model_module_version": "1.1.0",
      "model_name": "DescriptionStyleModel",
      "state": {
       "description_width": "initial"
      }
     },
     "c3216b31369e4d56b623e764c967f9a4": {
      "model_module": "@jupyter-widgets/base",
      "model_module_version": "1.0.0",
      "model_name": "LayoutModel",
      "state": {}
     },
     "c36a16fbcbac4ca28a271b9c8ecd70dd": {
      "model_module": "@jupyter-widgets/controls",
      "model_module_version": "1.1.0",
      "model_name": "DescriptionStyleModel",
      "state": {
       "description_width": ""
      }
     },
     "c686efe2613a47a4ab06df069e39bc74": {
      "model_module": "@jupyter-widgets/base",
      "model_module_version": "1.0.0",
      "model_name": "LayoutModel",
      "state": {}
     },
     "c6cfafbe45964d64b220583351fe8740": {
      "model_module": "@jupyter-widgets/base",
      "model_module_version": "1.0.0",
      "model_name": "LayoutModel",
      "state": {
       "justify_content": "center",
       "overflow_x": "auto",
       "overflow_y": "auto",
       "width": "95%"
      }
     },
     "c6df068e2de14088b5ea87181ddd9c22": {
      "model_module": "@jupyter-widgets/controls",
      "model_module_version": "1.1.0",
      "model_name": "IntProgressModel",
      "state": {
       "bar_style": "success",
       "layout": "IPY_MODEL_dc6be99b73bc4c34af5dac704f242c28",
       "max": 61360,
       "style": "IPY_MODEL_e2dbd64a9c17449eb5eddd011c7418e7"
      }
     },
     "c7ea48c68e9e44afbe92306fbaaffe1b": {
      "model_module": "@jupyter-widgets/base",
      "model_module_version": "1.0.0",
      "model_name": "LayoutModel",
      "state": {}
     },
     "c85fa943d4b240d98c410832d43231be": {
      "model_module": "@jupyter-widgets/controls",
      "model_module_version": "1.1.0",
      "model_name": "VBoxModel",
      "state": {
       "children": [
        "IPY_MODEL_bf0648d02df44692b937bf97fbccf7ab",
        "IPY_MODEL_b333ff6053e84e1e96b8d9b92e86e769",
        "IPY_MODEL_b03c42f86fae49b48d7267bdf8d1393b",
        "IPY_MODEL_e34bfb304ffc40fa93f737b49185cfc1",
        "IPY_MODEL_510365c984514c549400e718fa50941e",
        "IPY_MODEL_7727b34d5806466ab7ece7e66f49b20c",
        "IPY_MODEL_d8c3afb41fd44793b3fd2abf3a1e8125",
        "IPY_MODEL_2057f7a6189344dbae2723191661e0aa"
       ],
       "layout": "IPY_MODEL_53ef6d393cd14448962c56529b4f764c"
      }
     },
     "c89f8a55b25c4794b1e1b38fa70a1020": {
      "model_module": "@jupyter-widgets/base",
      "model_module_version": "1.0.0",
      "model_name": "LayoutModel",
      "state": {
       "width": "100%"
      }
     },
     "c8dd20f48d4c4eb5a6d96e984ab3f683": {
      "model_module": "@jupyter-widgets/base",
      "model_module_version": "1.0.0",
      "model_name": "LayoutModel",
      "state": {}
     },
     "c8efb39d7f364c2f955a235e7fe869f5": {
      "model_module": "@jupyter-widgets/output",
      "model_module_version": "1.0.0",
      "model_name": "OutputModel",
      "state": {
       "layout": "IPY_MODEL_f7e618c3e8554c6cb7fa9e3bbc8af484"
      }
     },
     "ca2c8b28e52f4d5a9e053ee8a34f1ce7": {
      "model_module": "@jupyter-widgets/base",
      "model_module_version": "1.0.0",
      "model_name": "LayoutModel",
      "state": {
       "width": "100%"
      }
     },
     "cb411948931a488f940b4e4d9d76d3e6": {
      "model_module": "@jupyter-widgets/base",
      "model_module_version": "1.0.0",
      "model_name": "LayoutModel",
      "state": {
       "height": "40px"
      }
     },
     "cbb287ddee914e99a6493f99d5962451": {
      "model_module": "@jupyter-widgets/controls",
      "model_module_version": "1.1.0",
      "model_name": "ButtonModel",
      "state": {
       "icon": "forward",
       "layout": "IPY_MODEL_273ceabd26f04525940ef07b1167d790",
       "style": "IPY_MODEL_ce53bcffa5934d60a12428a1a7c2c981"
      }
     },
     "cbe487eb0c9144b897c3b5432164f298": {
      "model_module": "@jupyter-widgets/controls",
      "model_module_version": "1.1.0",
      "model_name": "IntTextModel",
      "state": {
       "description": "Vertical space between layers:",
       "layout": "IPY_MODEL_14d4f0e898324a2eb1c4c2810a3aada8",
       "step": 1,
       "style": "IPY_MODEL_e1cc18d4fc0448cfb629d83ab8964797",
       "value": 30
      }
     },
     "cc752033e8c645dfa7ecb8723aa2b671": {
      "model_module": "@jupyter-widgets/controls",
      "model_module_version": "1.1.0",
      "model_name": "DescriptionStyleModel",
      "state": {
       "description_width": ""
      }
     },
     "ce53bcffa5934d60a12428a1a7c2c981": {
      "model_module": "@jupyter-widgets/controls",
      "model_module_version": "1.1.0",
      "model_name": "ButtonStyleModel",
      "state": {}
     },
     "ce838144d7584750acbb11d77e5dbcfe": {
      "model_module": "@jupyter-widgets/base",
      "model_module_version": "1.0.0",
      "model_name": "LayoutModel",
      "state": {
       "height": "50px",
       "width": "100%"
      }
     },
     "cea858b50a414a4084725886aefd7ad5": {
      "model_module": "@jupyter-widgets/base",
      "model_module_version": "1.0.0",
      "model_name": "LayoutModel",
      "state": {
       "height": "40px"
      }
     },
     "cf0df307c4ee489d992aa42877d1845b": {
      "model_module": "@jupyter-widgets/base",
      "model_module_version": "1.0.0",
      "model_name": "LayoutModel",
      "state": {
       "width": "10%"
      }
     },
     "cf4786d013c940fb84066b6094c5b978": {
      "model_module": "@jupyter-widgets/controls",
      "model_module_version": "1.1.0",
      "model_name": "ButtonStyleModel",
      "state": {}
     },
     "d008b82e97884c34a5f46feae5e51593": {
      "model_module": "@jupyter-widgets/controls",
      "model_module_version": "1.1.0",
      "model_name": "HBoxModel",
      "state": {
       "children": [
        "IPY_MODEL_f1d1b7560fcd42ee9ee71e5e2f344616",
        "IPY_MODEL_3d4346f713e942a9aa0dc33ef94754ee"
       ],
       "layout": "IPY_MODEL_cea858b50a414a4084725886aefd7ad5"
      }
     },
     "d04004eed3d04a2aad834b707ef3360c": {
      "model_module": "@jupyter-widgets/base",
      "model_module_version": "1.0.0",
      "model_name": "LayoutModel",
      "state": {}
     },
     "d088c55fb8ea4d779e7c790a9eef03cb": {
      "model_module": "@jupyter-widgets/controls",
      "model_module_version": "1.1.0",
      "model_name": "DescriptionStyleModel",
      "state": {
       "description_width": ""
      }
     },
     "d0df4d8f4b9e4ce8a5ffcc4f6a62b7e0": {
      "model_module": "@jupyter-widgets/controls",
      "model_module_version": "1.1.0",
      "model_name": "CheckboxModel",
      "state": {
       "description": "Show Targets",
       "disabled": false,
       "layout": "IPY_MODEL_b8bb692474f2405d995d4f83ecffe9f8",
       "style": "IPY_MODEL_9f4dc4f012bc45cca1914578888bd5d1",
       "value": true
      }
     },
     "d24ab5d18a674f31bb779e4956ec83f6": {
      "model_module": "@jupyter-widgets/controls",
      "model_module_version": "1.1.0",
      "model_name": "FloatTextModel",
      "state": {
       "description": "Rightmost color maps to:",
       "layout": "IPY_MODEL_059fbed2da714551893c9790a7c3aa19",
       "step": null,
       "style": "IPY_MODEL_6aaa25a7f2a246f281d7c89673ee80bf",
       "value": 1
      }
     },
     "d4082a47b6f146eab0aeb62b9387a01c": {
      "model_module": "@jupyter-widgets/controls",
      "model_module_version": "1.1.0",
      "model_name": "CheckboxModel",
      "state": {
       "description": "Rotate",
       "disabled": false,
       "layout": "IPY_MODEL_14d4f0e898324a2eb1c4c2810a3aada8",
       "style": "IPY_MODEL_d67639dba0db4a08b345a8134f680544",
       "value": true
      }
     },
     "d416e30b66e24090a74047c8da13478e": {
      "model_module": "@jupyter-widgets/controls",
      "model_module_version": "1.1.0",
      "model_name": "ButtonStyleModel",
      "state": {}
     },
     "d5391edb0b924877be091d8116d724a8": {
      "model_module": "@jupyter-widgets/base",
      "model_module_version": "1.0.0",
      "model_name": "LayoutModel",
      "state": {}
     },
     "d5c9367032da4e188abf23a300fb0bc0": {
      "model_module": "@jupyter-widgets/base",
      "model_module_version": "1.0.0",
      "model_name": "LayoutModel",
      "state": {}
     },
     "d5f5fd96518c4f83bd94b41fa8ada881": {
      "model_module": "@jupyter-widgets/controls",
      "model_module_version": "1.1.0",
      "model_name": "ButtonStyleModel",
      "state": {}
     },
     "d6072a6dcc094f3fab229928fbf35e03": {
      "model_module": "@jupyter-widgets/controls",
      "model_module_version": "1.1.0",
      "model_name": "CheckboxModel",
      "state": {
       "description": "Visible",
       "disabled": false,
       "layout": "IPY_MODEL_e139e1e900c4499f96e6f598e0f88837",
       "style": "IPY_MODEL_b29a85d7d40d42ea81367a14a7bd37b4",
       "value": true
      }
     },
     "d67639dba0db4a08b345a8134f680544": {
      "model_module": "@jupyter-widgets/controls",
      "model_module_version": "1.1.0",
      "model_name": "DescriptionStyleModel",
      "state": {
       "description_width": ""
      }
     },
     "d7418fb805864bb78cd924e541de406e": {
      "model_module": "@jupyter-widgets/controls",
      "model_module_version": "1.1.0",
      "model_name": "CheckboxModel",
      "state": {
       "description": "Visible",
       "disabled": false,
       "layout": "IPY_MODEL_b8bb692474f2405d995d4f83ecffe9f8",
       "style": "IPY_MODEL_90db0e70ee0547e496f981ea80868304",
       "value": true
      }
     },
     "d7a5a74eab924810b60ed2b1bcf68e7b": {
      "model_module": "@jupyter-widgets/controls",
      "model_module_version": "1.1.0",
      "model_name": "ButtonModel",
      "state": {
       "icon": "save",
       "layout": "IPY_MODEL_f768bc9a29394abd8f0b23532de17200",
       "style": "IPY_MODEL_e5dd65cba4174a48a448e25bdbd688f5"
      }
     },
     "d8c3afb41fd44793b3fd2abf3a1e8125": {
      "model_module": "@jupyter-widgets/controls",
      "model_module_version": "1.1.0",
      "model_name": "IntTextModel",
      "state": {
       "description": "Feature to show:",
       "layout": "IPY_MODEL_122af28038e94cdd82c315f57bc32a3d",
       "step": 1,
       "style": "IPY_MODEL_64b70376b34f441ca1ff117e3fd46e75"
      }
     },
     "dbaafbc2b9124edab455c116cf9c27e2": {
      "model_module": "@jupyter-widgets/controls",
      "model_module_version": "1.1.0",
      "model_name": "DescriptionStyleModel",
      "state": {
       "description_width": ""
      }
     },
     "dbf05c22873e463caacf9d44be6ba19f": {
      "model_module": "@jupyter-widgets/controls",
      "model_module_version": "1.1.0",
      "model_name": "DescriptionStyleModel",
      "state": {
       "description_width": ""
      }
     },
     "dc6be99b73bc4c34af5dac704f242c28": {
      "model_module": "@jupyter-widgets/base",
      "model_module_version": "1.0.0",
      "model_name": "LayoutModel",
      "state": {}
     },
     "dd1eb48839f045cc9311748703434b35": {
      "model_module": "@jupyter-widgets/controls",
      "model_module_version": "1.1.0",
      "model_name": "ButtonStyleModel",
      "state": {}
     },
     "dd257b97abd44715b6da4f20fbb3e62f": {
      "model_module": "@jupyter-widgets/controls",
      "model_module_version": "1.1.0",
      "model_name": "SelectModel",
      "state": {
       "_options_labels": [
        "input",
        "rnn",
        "output"
       ],
       "description": "Layer:",
       "index": 2,
       "layout": "IPY_MODEL_3e9b561d28d84af5b810ac3127e89d89",
       "rows": 1,
       "style": "IPY_MODEL_e266048854664e1e895284645a7c0a4b"
      }
     },
     "dd6f5a45284f4df6afc442eea60a4e9a": {
      "model_module": "@jupyter-widgets/base",
      "model_module_version": "1.0.0",
      "model_name": "LayoutModel",
      "state": {
       "height": "50px",
       "width": "100%"
      }
     },
     "de7e8d98284e4b678353aca1356b481f": {
      "model_module": "@jupyter-widgets/output",
      "model_module_version": "1.0.0",
      "model_name": "OutputModel",
      "state": {
       "layout": "IPY_MODEL_6f5cac8f3f184b8f892a15081bccc0aa"
      }
     },
     "df175d9035f34a0c9fdebb7d656091f6": {
      "model_module": "@jupyter-widgets/controls",
      "model_module_version": "1.1.0",
      "model_name": "FloatTextModel",
      "state": {
       "description": "Rightmost color maps to:",
       "layout": "IPY_MODEL_27e1e81c430a4c1a811dc2d54c020558",
       "step": null,
       "style": "IPY_MODEL_821b4cdf2b404d5e92766261ddd06d0b",
       "value": 1
      }
     },
     "e0891f2f84934c67891adc190f2f71d3": {
      "model_module": "@jupyter-widgets/controls",
      "model_module_version": "1.1.0",
      "model_name": "ButtonStyleModel",
      "state": {}
     },
     "e139e1e900c4499f96e6f598e0f88837": {
      "model_module": "@jupyter-widgets/base",
      "model_module_version": "1.0.0",
      "model_name": "LayoutModel",
      "state": {}
     },
     "e1cc18d4fc0448cfb629d83ab8964797": {
      "model_module": "@jupyter-widgets/controls",
      "model_module_version": "1.1.0",
      "model_name": "DescriptionStyleModel",
      "state": {
       "description_width": "initial"
      }
     },
     "e205d28d6a0344d18d25c6ba98230952": {
      "model_module": "@jupyter-widgets/controls",
      "model_module_version": "1.1.0",
      "model_name": "SelectModel",
      "state": {
       "_options_labels": [
        "",
        "Accent",
        "Accent_r",
        "Blues",
        "Blues_r",
        "BrBG",
        "BrBG_r",
        "BuGn",
        "BuGn_r",
        "BuPu",
        "BuPu_r",
        "CMRmap",
        "CMRmap_r",
        "Dark2",
        "Dark2_r",
        "GnBu",
        "GnBu_r",
        "Greens",
        "Greens_r",
        "Greys",
        "Greys_r",
        "OrRd",
        "OrRd_r",
        "Oranges",
        "Oranges_r",
        "PRGn",
        "PRGn_r",
        "Paired",
        "Paired_r",
        "Pastel1",
        "Pastel1_r",
        "Pastel2",
        "Pastel2_r",
        "PiYG",
        "PiYG_r",
        "PuBu",
        "PuBuGn",
        "PuBuGn_r",
        "PuBu_r",
        "PuOr",
        "PuOr_r",
        "PuRd",
        "PuRd_r",
        "Purples",
        "Purples_r",
        "RdBu",
        "RdBu_r",
        "RdGy",
        "RdGy_r",
        "RdPu",
        "RdPu_r",
        "RdYlBu",
        "RdYlBu_r",
        "RdYlGn",
        "RdYlGn_r",
        "Reds",
        "Reds_r",
        "Set1",
        "Set1_r",
        "Set2",
        "Set2_r",
        "Set3",
        "Set3_r",
        "Spectral",
        "Spectral_r",
        "Vega10",
        "Vega10_r",
        "Vega20",
        "Vega20_r",
        "Vega20b",
        "Vega20b_r",
        "Vega20c",
        "Vega20c_r",
        "Wistia",
        "Wistia_r",
        "YlGn",
        "YlGnBu",
        "YlGnBu_r",
        "YlGn_r",
        "YlOrBr",
        "YlOrBr_r",
        "YlOrRd",
        "YlOrRd_r",
        "afmhot",
        "afmhot_r",
        "autumn",
        "autumn_r",
        "binary",
        "binary_r",
        "bone",
        "bone_r",
        "brg",
        "brg_r",
        "bwr",
        "bwr_r",
        "cool",
        "cool_r",
        "coolwarm",
        "coolwarm_r",
        "copper",
        "copper_r",
        "cubehelix",
        "cubehelix_r",
        "flag",
        "flag_r",
        "gist_earth",
        "gist_earth_r",
        "gist_gray",
        "gist_gray_r",
        "gist_heat",
        "gist_heat_r",
        "gist_ncar",
        "gist_ncar_r",
        "gist_rainbow",
        "gist_rainbow_r",
        "gist_stern",
        "gist_stern_r",
        "gist_yarg",
        "gist_yarg_r",
        "gnuplot",
        "gnuplot2",
        "gnuplot2_r",
        "gnuplot_r",
        "gray",
        "gray_r",
        "hot",
        "hot_r",
        "hsv",
        "hsv_r",
        "inferno",
        "inferno_r",
        "jet",
        "jet_r",
        "magma",
        "magma_r",
        "nipy_spectral",
        "nipy_spectral_r",
        "ocean",
        "ocean_r",
        "pink",
        "pink_r",
        "plasma",
        "plasma_r",
        "prism",
        "prism_r",
        "rainbow",
        "rainbow_r",
        "seismic",
        "seismic_r",
        "spectral",
        "spectral_r",
        "spring",
        "spring_r",
        "summer",
        "summer_r",
        "tab10",
        "tab10_r",
        "tab20",
        "tab20_r",
        "tab20b",
        "tab20b_r",
        "tab20c",
        "tab20c_r",
        "terrain",
        "terrain_r",
        "viridis",
        "viridis_r",
        "winter",
        "winter_r"
       ],
       "description": "Colormap:",
       "index": 123,
       "layout": "IPY_MODEL_b8bb692474f2405d995d4f83ecffe9f8",
       "rows": 1,
       "style": "IPY_MODEL_98df5cff99344e49ad6b2780dcc4c9f8"
      }
     },
     "e225b04f82614dfaacbbb2f03c0683f6": {
      "model_module": "@jupyter-widgets/controls",
      "model_module_version": "1.1.0",
      "model_name": "ButtonStyleModel",
      "state": {}
     },
     "e266048854664e1e895284645a7c0a4b": {
      "model_module": "@jupyter-widgets/controls",
      "model_module_version": "1.1.0",
      "model_name": "DescriptionStyleModel",
      "state": {
       "description_width": ""
      }
     },
     "e2dbd64a9c17449eb5eddd011c7418e7": {
      "model_module": "@jupyter-widgets/controls",
      "model_module_version": "1.1.0",
      "model_name": "ProgressStyleModel",
      "state": {
       "description_width": ""
      }
     },
     "e34bfb304ffc40fa93f737b49185cfc1": {
      "model_module": "@jupyter-widgets/controls",
      "model_module_version": "1.1.0",
      "model_name": "HTMLModel",
      "state": {
       "layout": "IPY_MODEL_b1f87582a8724cbba4042abe854721cc",
       "style": "IPY_MODEL_8ae39f8a5d864b1fb8ce437d35a7881b",
       "value": "<img src=\"data:image/gif;base64,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\"/>"
      }
     },
     "e4af68a85ded47a5bc0dff035be34d9a": {
      "model_module": "@jupyter-widgets/base",
      "model_module_version": "1.0.0",
      "model_name": "LayoutModel",
      "state": {
       "justify_content": "center",
       "overflow_x": "auto",
       "overflow_y": "auto",
       "width": "95%"
      }
     },
     "e5119bf48d474319ae0209b4331b7720": {
      "model_module": "@jupyter-widgets/base",
      "model_module_version": "1.0.0",
      "model_name": "LayoutModel",
      "state": {
       "width": "100px"
      }
     },
     "e5b4c775c8664453a22c25da2df67ea8": {
      "model_module": "@jupyter-widgets/base",
      "model_module_version": "1.0.0",
      "model_name": "LayoutModel",
      "state": {
       "width": "100%"
      }
     },
     "e5dd65cba4174a48a448e25bdbd688f5": {
      "model_module": "@jupyter-widgets/controls",
      "model_module_version": "1.1.0",
      "model_name": "ButtonStyleModel",
      "state": {}
     },
     "e6393e1380cf4f2aa5d1733e9287a7b4": {
      "model_module": "@jupyter-widgets/controls",
      "model_module_version": "1.1.0",
      "model_name": "CheckboxModel",
      "state": {
       "description": "Show Targets",
       "disabled": false,
       "layout": "IPY_MODEL_14d4f0e898324a2eb1c4c2810a3aada8",
       "style": "IPY_MODEL_437a886a17de446b9c0d1e171812d87d",
       "value": true
      }
     },
     "e6abddeee4e54f2584d4b6769b74762c": {
      "model_module": "@jupyter-widgets/controls",
      "model_module_version": "1.1.0",
      "model_name": "ButtonStyleModel",
      "state": {}
     },
     "e6b8e06496cc4c01806ce95a56ae97c7": {
      "model_module": "@jupyter-widgets/controls",
      "model_module_version": "1.1.0",
      "model_name": "SliderStyleModel",
      "state": {
       "description_width": "initial"
      }
     },
     "e9ec54dcf38d4bab8a62ecd39d94839b": {
      "model_module": "@jupyter-widgets/base",
      "model_module_version": "1.0.0",
      "model_name": "LayoutModel",
      "state": {
       "width": "25%"
      }
     },
     "e9f46e9e28014970b0ff03f273760c4f": {
      "model_module": "@jupyter-widgets/controls",
      "model_module_version": "1.1.0",
      "model_name": "VBoxModel",
      "state": {
       "children": [
        "IPY_MODEL_fad176e707e644efac57525051f24ebe",
        "IPY_MODEL_a284b6cef18e49e5883960a798c3d7d7"
       ],
       "layout": "IPY_MODEL_3c4db26541ff4d968184177b5d2bd88d"
      }
     },
     "e9fb2a20994144be806f6901b7c10a48": {
      "model_module": "@jupyter-widgets/controls",
      "model_module_version": "1.1.0",
      "model_name": "VBoxModel",
      "state": {
       "children": [
        "IPY_MODEL_9e1e977d2fda4d14953ce5d45a394208",
        "IPY_MODEL_757820c4656649268a83e0190d0c1b30"
       ],
       "layout": "IPY_MODEL_ab1c7039ec3049e7836b7bdb710a0fed"
      }
     },
     "ea1628ee06c540bfb94aece81a189dae": {
      "model_module": "@jupyter-widgets/base",
      "model_module_version": "1.0.0",
      "model_name": "LayoutModel",
      "state": {}
     },
     "eb0b580f21044e7cb08a10282df93a8b": {
      "model_module": "@jupyter-widgets/controls",
      "model_module_version": "1.1.0",
      "model_name": "ButtonModel",
      "state": {
       "icon": "backward",
       "layout": "IPY_MODEL_c89f8a55b25c4794b1e1b38fa70a1020",
       "style": "IPY_MODEL_3780b1b48a82492fb8bf28d4b23000ba"
      }
     },
     "ec2db4ddc1674fc99ab03c8efb6f6c5d": {
      "model_module": "@jupyter-widgets/base",
      "model_module_version": "1.0.0",
      "model_name": "LayoutModel",
      "state": {
       "height": "40px"
      }
     },
     "ec7d07d7f7c641658dcd100922ef72c7": {
      "model_module": "@jupyter-widgets/controls",
      "model_module_version": "1.1.0",
      "model_name": "ButtonStyleModel",
      "state": {}
     },
     "ecf34d4f5e04410cadd8761e43e3964b": {
      "model_module": "@jupyter-widgets/base",
      "model_module_version": "1.0.0",
      "model_name": "LayoutModel",
      "state": {}
     },
     "edae73d19216460fb6ed56255f335190": {
      "model_module": "@jupyter-widgets/base",
      "model_module_version": "1.0.0",
      "model_name": "LayoutModel",
      "state": {
       "height": "40px"
      }
     },
     "edff5989499449b287deb7db1c96392b": {
      "model_module": "@jupyter-widgets/controls",
      "model_module_version": "1.1.0",
      "model_name": "HBoxModel",
      "state": {
       "children": [
        "IPY_MODEL_bd0ee60aa87f4e5a9394bac157f64ef4",
        "IPY_MODEL_1e7a44df39e34c0b99817cd4e6a37ce8"
       ],
       "layout": "IPY_MODEL_bf5734bfabc647ae9999f933695b0450"
      }
     },
     "ee1dd61b788047c2b46a4b10a90c1bd0": {
      "model_module": "@jupyter-widgets/base",
      "model_module_version": "1.0.0",
      "model_name": "LayoutModel",
      "state": {}
     },
     "ee2f88315a1f443497549f89a1eb47f0": {
      "model_module": "@jupyter-widgets/controls",
      "model_module_version": "1.1.0",
      "model_name": "FloatTextModel",
      "state": {
       "description": "Leftmost color maps to:",
       "layout": "IPY_MODEL_5b2b800e91c74646a83e2e19e694a041",
       "step": null,
       "style": "IPY_MODEL_64ebfa2f826d467a8c89c24a4c151db5"
      }
     },
     "eee970fb37634caea6af5f0e1215c46c": {
      "model_module": "@jupyter-widgets/controls",
      "model_module_version": "1.1.0",
      "model_name": "ButtonStyleModel",
      "state": {}
     },
     "ef3cbb78583b444eb299ee9c8ecb9998": {
      "model_module": "@jupyter-widgets/base",
      "model_module_version": "1.0.0",
      "model_name": "LayoutModel",
      "state": {
       "width": "100%"
      }
     },
     "ef9f84e87a3248538e46a0fddd37aee0": {
      "model_module": "@jupyter-widgets/controls",
      "model_module_version": "1.1.0",
      "model_name": "CheckboxModel",
      "state": {
       "description": "Rotate",
       "disabled": false,
       "layout": "IPY_MODEL_c686efe2613a47a4ab06df069e39bc74",
       "style": "IPY_MODEL_591d944fdddc49e0a403bfe448db8e9a",
       "value": true
      }
     },
     "f0af001ddd1e4a77a3cb31956ae151c8": {
      "model_module": "@jupyter-widgets/controls",
      "model_module_version": "1.1.0",
      "model_name": "ButtonModel",
      "state": {
       "icon": "save",
       "layout": "IPY_MODEL_cf0df307c4ee489d992aa42877d1845b",
       "style": "IPY_MODEL_9583db0c94a54498be0db0aa5df36f06"
      }
     },
     "f0c1e8d332f94d4483b0239456df06d3": {
      "model_module": "@jupyter-widgets/controls",
      "model_module_version": "1.1.0",
      "model_name": "LabelModel",
      "state": {
       "layout": "IPY_MODEL_38ce782adcb74663808943679b1583b7",
       "style": "IPY_MODEL_3ab081513da245bba167bceb68b8763b",
       "value": "of 158773"
      }
     },
     "f15dd5679b3b4cb6b9114a7f435a688a": {
      "model_module": "@jupyter-widgets/controls",
      "model_module_version": "1.1.0",
      "model_name": "ButtonModel",
      "state": {
       "icon": "fast-forward",
       "layout": "IPY_MODEL_ca2c8b28e52f4d5a9e053ee8a34f1ce7",
       "style": "IPY_MODEL_9c9a8d7e15d44221a1b51c049358a932"
      }
     },
     "f1d1b7560fcd42ee9ee71e5e2f344616": {
      "model_module": "@jupyter-widgets/controls",
      "model_module_version": "1.1.0",
      "model_name": "IntSliderModel",
      "state": {
       "continuous_update": false,
       "description": "Dataset index",
       "layout": "IPY_MODEL_01663c64aaed41519969adf7dfa84139",
       "max": 158772,
       "style": "IPY_MODEL_af7b745e75c84664bec028cc2a098951",
       "value": 11
      }
     },
     "f1d9e9d48e6a47969dc79a774b37a6e7": {
      "model_module": "@jupyter-widgets/controls",
      "model_module_version": "1.1.0",
      "model_name": "CheckboxModel",
      "state": {
       "description": "Rotate network",
       "disabled": false,
       "layout": "IPY_MODEL_95b0846dfbba45d8bc678e9e2da2505c",
       "style": "IPY_MODEL_c1f7c157743b46e98ce5931dc8f2fede",
       "value": false
      }
     },
     "f2121c022fae45ffa93f81db301372a5": {
      "model_module": "@jupyter-widgets/controls",
      "model_module_version": "1.1.0",
      "model_name": "ButtonStyleModel",
      "state": {}
     },
     "f2e829d184914ee4bab946a6d0ed2dec": {
      "model_module": "@jupyter-widgets/controls",
      "model_module_version": "1.1.0",
      "model_name": "DescriptionStyleModel",
      "state": {
       "description_width": ""
      }
     },
     "f32506bf00ab4d0597f1a29c040422bb": {
      "model_module": "@jupyter-widgets/base",
      "model_module_version": "1.0.0",
      "model_name": "LayoutModel",
      "state": {
       "width": "10%"
      }
     },
     "f39bdfa825fe452e820ad2a1b6664ade": {
      "model_module": "@jupyter-widgets/base",
      "model_module_version": "1.0.0",
      "model_name": "LayoutModel",
      "state": {}
     },
     "f401d623aff64c83a044a4e29bddfb5a": {
      "model_module": "@jupyter-widgets/controls",
      "model_module_version": "1.1.0",
      "model_name": "SelectModel",
      "state": {
       "_options_labels": [
        "Test",
        "Train"
       ],
       "description": "Dataset:",
       "index": 1,
       "layout": "IPY_MODEL_7520df0fd18f40929776568956bd1656",
       "rows": 1,
       "style": "IPY_MODEL_253bde0615a74b6f92451dcb00bcb6cd"
      }
     },
     "f413c373eb384de0b50dfa69f03e02c9": {
      "model_module": "@jupyter-widgets/controls",
      "model_module_version": "1.1.0",
      "model_name": "DescriptionStyleModel",
      "state": {
       "description_width": "initial"
      }
     },
     "f5ce2ce368004fa4a991c036f3de8fee": {
      "model_module": "@jupyter-widgets/controls",
      "model_module_version": "1.1.0",
      "model_name": "IntTextModel",
      "state": {
       "description": "Feature to show:",
       "layout": "IPY_MODEL_c8dd20f48d4c4eb5a6d96e984ab3f683",
       "step": 1,
       "style": "IPY_MODEL_6e397d1ad0e44f97b3bdaa3991e47c9e"
      }
     },
     "f5e25288e9174b0596bf8e5a72392b06": {
      "model_module": "@jupyter-widgets/controls",
      "model_module_version": "1.1.0",
      "model_name": "HBoxModel",
      "state": {
       "children": [
        "IPY_MODEL_686525a9ba5c467a991bc97fd5b8fcfb",
        "IPY_MODEL_9c26934d178a4c69a168a7102448a790"
       ],
       "layout": "IPY_MODEL_98e35bae2c0046fe80395d4a60f6373b"
      }
     },
     "f768bc9a29394abd8f0b23532de17200": {
      "model_module": "@jupyter-widgets/base",
      "model_module_version": "1.0.0",
      "model_name": "LayoutModel",
      "state": {
       "width": "10%"
      }
     },
     "f7e618c3e8554c6cb7fa9e3bbc8af484": {
      "model_module": "@jupyter-widgets/base",
      "model_module_version": "1.0.0",
      "model_name": "LayoutModel",
      "state": {}
     },
     "fa678aec7dee4c709d9a62f5d9cfdeda": {
      "model_module": "@jupyter-widgets/base",
      "model_module_version": "1.0.0",
      "model_name": "LayoutModel",
      "state": {
       "width": "100%"
      }
     },
     "fac63085aaad4d00873f35cdd0b5446f": {
      "model_module": "@jupyter-widgets/controls",
      "model_module_version": "1.1.0",
      "model_name": "IntTextModel",
      "state": {
       "description": "Horizontal space between banks:",
       "layout": "IPY_MODEL_14d4f0e898324a2eb1c4c2810a3aada8",
       "step": 1,
       "style": "IPY_MODEL_571187e562e6462cb38a50d371f6ac43",
       "value": 150
      }
     },
     "fad176e707e644efac57525051f24ebe": {
      "model_module": "@jupyter-widgets/controls",
      "model_module_version": "1.1.0",
      "model_name": "HBoxModel",
      "state": {
       "children": [
        "IPY_MODEL_1c747afe29794274840e004cbc4c4e1e",
        "IPY_MODEL_2da7c32082cc46f79ce1bf1f6946e803"
       ],
       "layout": "IPY_MODEL_edae73d19216460fb6ed56255f335190"
      }
     },
     "fbc68b39d1be42d7b20f9131a1c359a5": {
      "model_module": "@jupyter-widgets/controls",
      "model_module_version": "1.1.0",
      "model_name": "CheckboxModel",
      "state": {
       "description": "Rotate",
       "disabled": false,
       "layout": "IPY_MODEL_b8bb692474f2405d995d4f83ecffe9f8",
       "style": "IPY_MODEL_cc752033e8c645dfa7ecb8723aa2b671",
       "value": true
      }
     },
     "fbfece232d6d4645b7782e51d6ee0f3a": {
      "model_module": "@jupyter-widgets/controls",
      "model_module_version": "1.1.0",
      "model_name": "IntSliderModel",
      "state": {
       "continuous_update": false,
       "description": "Dataset index",
       "layout": "IPY_MODEL_b750c6dc82754cf2bf3e9c752f8fd8b9",
       "max": 158772,
       "style": "IPY_MODEL_c1b9e6ad26234200abd26eaf005bc995",
       "value": 7
      }
     },
     "fc489b8953974a6fae0a8349794be122": {
      "model_module": "@jupyter-widgets/controls",
      "model_module_version": "1.1.0",
      "model_name": "DescriptionStyleModel",
      "state": {
       "description_width": "initial"
      }
     },
     "fc72db617dc046bcb80c684e9b6e7eb6": {
      "model_module": "@jupyter-widgets/controls",
      "model_module_version": "1.1.0",
      "model_name": "ButtonModel",
      "state": {
       "icon": "refresh",
       "layout": "IPY_MODEL_70b3469b21ca4c6287b4c0ff65348f59",
       "style": "IPY_MODEL_cf4786d013c940fb84066b6094c5b978"
      }
     },
     "fdc0f5c6fc5c4a618e0d8ba76bd8e699": {
      "model_module": "@jupyter-widgets/controls",
      "model_module_version": "1.1.0",
      "model_name": "SelectModel",
      "state": {
       "_options_labels": [
        "input",
        "rnn",
        "output"
       ],
       "description": "Layer:",
       "index": 2,
       "layout": "IPY_MODEL_41b2616fd8db4dea822fd6d6e6e22186",
       "rows": 1,
       "style": "IPY_MODEL_906e7773d19f4af98734de61778111e6"
      }
     },
     "fddee08134044ec9b06a000c909f1b15": {
      "model_module": "@jupyter-widgets/controls",
      "model_module_version": "1.1.0",
      "model_name": "ButtonModel",
      "state": {
       "icon": "fast-forward",
       "layout": "IPY_MODEL_a67599adf66d4159a0c60e659efd593c",
       "style": "IPY_MODEL_41dbbf63b3a34efba1163764f4736396"
      }
     },
     "fe1803fb82674d27b351a357cceb7f11": {
      "model_module": "@jupyter-widgets/controls",
      "model_module_version": "1.1.0",
      "model_name": "ButtonStyleModel",
      "state": {}
     },
     "fe58c92680ac4376a0154ff04604ebd7": {
      "model_module": "@jupyter-widgets/base",
      "model_module_version": "1.0.0",
      "model_name": "LayoutModel",
      "state": {}
     },
     "ff342f65b2dd4f258f78a6f4e939f8e2": {
      "model_module": "@jupyter-widgets/controls",
      "model_module_version": "1.1.0",
      "model_name": "HBoxModel",
      "state": {
       "children": [
        "IPY_MODEL_c6df068e2de14088b5ea87181ddd9c22",
        "IPY_MODEL_10350c5f0ff44e1bbc8c41b8654ed0c3"
       ],
       "layout": "IPY_MODEL_8f76efcc23004df1a2fb0ed2673e97ff"
      }
     },
     "ff3a01c3183d4328a3c9882a6d8d14d4": {
      "model_module": "@jupyter-widgets/base",
      "model_module_version": "1.0.0",
      "model_name": "LayoutModel",
      "state": {
       "width": "65%"
      }
     },
     "ff6f7b23d80e40e6961521693b737d5e": {
      "model_module": "@jupyter-widgets/controls",
      "model_module_version": "1.1.0",
      "model_name": "SelectModel",
      "state": {
       "_options_labels": [
        ""
       ],
       "description": "Features:",
       "index": 0,
       "layout": "IPY_MODEL_3f0a20b1ca244e999c1f6a1af3fe9e56",
       "rows": 1,
       "style": "IPY_MODEL_8f68750a42074331aa92fe583806063f"
      }
     },
     "ff9e510f138f4958a6f709304a097707": {
      "model_module": "@jupyter-widgets/controls",
      "model_module_version": "1.1.0",
      "model_name": "DescriptionStyleModel",
      "state": {
       "description_width": "initial"
      }
     },
     "fff1c98a41e14a1381c9fdff5a5453ed": {
      "model_module": "@jupyter-widgets/base",
      "model_module_version": "1.0.0",
      "model_name": "LayoutModel",
      "state": {}
     }
    },
    "version_major": 2,
    "version_minor": 0
   }
  }
 },
 "nbformat": 4,
 "nbformat_minor": 2
}
