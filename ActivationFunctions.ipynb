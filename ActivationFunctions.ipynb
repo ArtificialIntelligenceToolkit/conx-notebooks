{
 "cells": [
  {
   "cell_type": "markdown",
   "metadata": {},
   "source": [
    "# Activation Functions\n",
    "\n",
    "This notebook explores the activation functions that are available in ConX.\n",
    "\n",
    "First, we import a special function `plot_f` that is designed to plot functions. We also import all of the activation functions:\n",
    "\n",
    "* softmax\n",
    "* elu\n",
    "* selu\n",
    "* softplus\n",
    "* softsign\n",
    "* relu\n",
    "* tanh\n",
    "* sigmoid\n",
    "* hard_sigmoid\n",
    "* linear\n",
    "\n",
    "There are additional advanced activation functions not defined and examined here, including:\n",
    "\n",
    "* ThresholdedReLU - Thresholded Rectified Linear Unit\n",
    "* LeakyReLU - Leaky version of a Rectified Linear Unit\n",
    "* PReLU - Parametric Rectified Linear Unit"
   ]
  },
  {
   "cell_type": "code",
   "execution_count": 1,
   "metadata": {},
   "outputs": [
    {
     "name": "stderr",
     "output_type": "stream",
     "text": [
      "Using TensorFlow backend.\n",
      "ConX, version 3.6.10\n"
     ]
    }
   ],
   "source": [
    "from conx.activations import *\n",
    "import conx as cx"
   ]
  },
  {
   "cell_type": "markdown",
   "metadata": {},
   "source": [
    "## softmax\n",
    "\n",
    "The `softmax` activation function takes a vector of input values and returns a vector of output values. This function is unique in that the output values are not computed independently of one another. Mathematically, the outputs of softmax always sum to exactly one, but in practice the sum of the output values will be close to but not exactly equal to one. The outputs of softmax can be interpreted as probabilities, and can be used, for example, with ConX's `choice` function."
   ]
  },
  {
   "cell_type": "code",
   "execution_count": 2,
   "metadata": {},
   "outputs": [
    {
     "name": "stdout",
     "output_type": "stream",
     "text": [
      "Help on function softmax in module conx.activations:\n",
      "\n",
      "softmax(tensor, axis=-1)\n",
      "    Softmax activation function.\n",
      "    \n",
      "    >>> len(softmax([0.1, 0.1, 0.7, 0.0]))\n",
      "    4\n",
      "\n"
     ]
    }
   ],
   "source": [
    "help(softmax)"
   ]
  },
  {
   "cell_type": "code",
   "execution_count": 3,
   "metadata": {},
   "outputs": [
    {
     "data": {
      "text/plain": [
       "[0.21155263483524323,\n",
       " 0.21155263483524323,\n",
       " 0.38547399640083313,\n",
       " 0.19142071902751923]"
      ]
     },
     "execution_count": 3,
     "metadata": {},
     "output_type": "execute_result"
    }
   ],
   "source": [
    "softmax([0.1, 0.1, 0.7, 0.0])"
   ]
  },
  {
   "cell_type": "code",
   "execution_count": 4,
   "metadata": {},
   "outputs": [
    {
     "data": {
      "text/plain": [
       "0.9999999850988388"
      ]
     },
     "execution_count": 4,
     "metadata": {},
     "output_type": "execute_result"
    }
   ],
   "source": [
    "sum(softmax([0.1, 0.1, 0.7, 0.0]))"
   ]
  },
  {
   "cell_type": "code",
   "execution_count": 5,
   "metadata": {},
   "outputs": [
    {
     "data": {
      "text/plain": [
       "[0.032058604061603546,\n",
       " 0.08714432269334793,\n",
       " 0.23688283562660217,\n",
       " 0.6439142823219299]"
      ]
     },
     "execution_count": 5,
     "metadata": {},
     "output_type": "execute_result"
    }
   ],
   "source": [
    "softmax([1, 2, 3, 4])"
   ]
  },
  {
   "cell_type": "code",
   "execution_count": 6,
   "metadata": {},
   "outputs": [
    {
     "data": {
      "text/plain": [
       "1.0000000447034836"
      ]
     },
     "execution_count": 6,
     "metadata": {},
     "output_type": "execute_result"
    }
   ],
   "source": [
    "sum(softmax([1, 2, 3, 4]))"
   ]
  },
  {
   "cell_type": "code",
   "execution_count": 7,
   "metadata": {},
   "outputs": [
    {
     "data": {
      "text/plain": [
       "'c'"
      ]
     },
     "execution_count": 7,
     "metadata": {},
     "output_type": "execute_result"
    }
   ],
   "source": [
    "cx.choice(['a', 'b', 'c', 'd'], p=softmax([0.1, 0.1, 0.7, 0.0]))"
   ]
  },
  {
   "cell_type": "markdown",
   "metadata": {},
   "source": [
    "Let's see how softmax can be used to make probabilistic choices, and see if they match our expectations:"
   ]
  },
  {
   "cell_type": "code",
   "execution_count": 8,
   "metadata": {},
   "outputs": [
    {
     "name": "stdout",
     "output_type": "stream",
     "text": [
      "softmax: [0.21155263483524323, 0.21155263483524323, 0.38547399640083313, 0.19142071902751923]\n",
      "picks  : [0.22, 0.24, 0.31, 0.23]\n"
     ]
    }
   ],
   "source": [
    "bin = [0] * 4\n",
    "for x in range(100):\n",
    "    pick = cx.choice([0, 1, 2, 3], p=softmax([0.1, 0.1, 0.7, 0.0]))\n",
    "    bin[pick] += 1\n",
    "print(\"softmax:\", softmax([0.1, 0.1, 0.7, 0.0]))\n",
    "print(\"picks  :\", [b/100 for b in bin])"
   ]
  },
  {
   "cell_type": "code",
   "execution_count": 9,
   "metadata": {},
   "outputs": [],
   "source": [
    "f = lambda x: softmax([x, 0.5, 0.1, 1])"
   ]
  },
  {
   "cell_type": "code",
   "execution_count": 10,
   "metadata": {},
   "outputs": [
    {
     "data": {
      "image/png": "[encoded data removed]",
      "text/plain": [
       "<Figure size 432x288 with 1 Axes>"
      ]
     },
     "metadata": {},
     "output_type": "display_data"
    }
   ],
   "source": [
    "cx.plot_f(f, frange=(-5, 5, 0.1), xlabel=\"input\", ylabel=\"output\", title=\"softmax()\")"
   ]
  },
  {
   "cell_type": "markdown",
   "metadata": {},
   "source": [
    "## elu"
   ]
  },
  {
   "cell_type": "code",
   "execution_count": 11,
   "metadata": {},
   "outputs": [
    {
     "name": "stdout",
     "output_type": "stream",
     "text": [
      "Help on function elu in module conx.activations:\n",
      "\n",
      "elu(x, alpha=1.0)\n",
      "    Exponential Linear Unit activation function.\n",
      "    \n",
      "    See: https://arxiv.org/abs/1511.07289v1\n",
      "    \n",
      "    def elu(x):\n",
      "        if x >= 0:\n",
      "            return x\n",
      "        else:\n",
      "            return alpha * (math.exp(x) - 1.0)\n",
      "    \n",
      "    >>> elu(0.0)\n",
      "    0.0\n",
      "    >>> elu(1.0)\n",
      "    1.0\n",
      "    >>> elu(0.5, alpha=0.3)\n",
      "    0.5\n",
      "    >>> round(elu(-1), 1)\n",
      "    -0.6\n",
      "\n"
     ]
    }
   ],
   "source": [
    "help(elu)"
   ]
  },
  {
   "cell_type": "code",
   "execution_count": 12,
   "metadata": {},
   "outputs": [
    {
     "data": {
      "text/plain": [
       "0.5"
      ]
     },
     "execution_count": 12,
     "metadata": {},
     "output_type": "execute_result"
    }
   ],
   "source": [
    "elu(0.5)"
   ]
  },
  {
   "cell_type": "code",
   "execution_count": 13,
   "metadata": {},
   "outputs": [
    {
     "data": {
      "image/png": "[encoded data removed]",
      "text/plain": [
       "<Figure size 432x288 with 1 Axes>"
      ]
     },
     "metadata": {},
     "output_type": "display_data"
    }
   ],
   "source": [
    "cx.plot_f(elu, frange=(-15, 15, 1), xlabel=\"input\", ylabel=\"output\", title=\"elu()\")"
   ]
  },
  {
   "cell_type": "code",
   "execution_count": 14,
   "metadata": {},
   "outputs": [
    {
     "data": {
      "text/plain": [
       "0.5"
      ]
     },
     "execution_count": 14,
     "metadata": {},
     "output_type": "execute_result"
    }
   ],
   "source": [
    "elu(0.5, .3)"
   ]
  },
  {
   "cell_type": "code",
   "execution_count": 15,
   "metadata": {},
   "outputs": [
    {
     "data": {
      "image/png": "[encoded data removed]",
      "text/plain": [
       "<Figure size 432x288 with 1 Axes>"
      ]
     },
     "metadata": {},
     "output_type": "display_data"
    }
   ],
   "source": [
    "cx.plot_f(lambda x: elu(x, 0.3), frange=(-15, 15, 1), xlabel=\"input\", ylabel=\"output\", title=\"elu(alpha=0.3)\")"
   ]
  },
  {
   "cell_type": "markdown",
   "metadata": {},
   "source": [
    "## selu"
   ]
  },
  {
   "cell_type": "code",
   "execution_count": 16,
   "metadata": {},
   "outputs": [
    {
     "name": "stdout",
     "output_type": "stream",
     "text": [
      "Help on function selu in module conx.activations:\n",
      "\n",
      "selu(x)\n",
      "    Scaled Exponential Linear Unit activation function.\n",
      "    \n",
      "    >>> selu(0)\n",
      "    0.0\n",
      "\n"
     ]
    }
   ],
   "source": [
    "help(selu)"
   ]
  },
  {
   "cell_type": "code",
   "execution_count": 17,
   "metadata": {},
   "outputs": [
    {
     "data": {
      "text/plain": [
       "0.5253505110740662"
      ]
     },
     "execution_count": 17,
     "metadata": {},
     "output_type": "execute_result"
    }
   ],
   "source": [
    "selu(0.5)"
   ]
  },
  {
   "cell_type": "code",
   "execution_count": 18,
   "metadata": {},
   "outputs": [
    {
     "data": {
      "image/png": "[encoded data removed]",
      "text/plain": [
       "<Figure size 432x288 with 1 Axes>"
      ]
     },
     "metadata": {},
     "output_type": "display_data"
    }
   ],
   "source": [
    "cx.plot_f(selu, frange=(-5, 5, 0.5), xlabel=\"input\", ylabel=\"output\", title=\"selu()\")"
   ]
  },
  {
   "cell_type": "markdown",
   "metadata": {},
   "source": [
    "## softplus"
   ]
  },
  {
   "cell_type": "code",
   "execution_count": 19,
   "metadata": {},
   "outputs": [
    {
     "name": "stdout",
     "output_type": "stream",
     "text": [
      "Help on function softplus in module conx.activations:\n",
      "\n",
      "softplus(x)\n",
      "    Softplus activation function.\n",
      "    \n",
      "    >>> round(softplus(0), 1)\n",
      "    0.7\n",
      "\n"
     ]
    }
   ],
   "source": [
    "help(softplus)"
   ]
  },
  {
   "cell_type": "code",
   "execution_count": 20,
   "metadata": {},
   "outputs": [
    {
     "data": {
      "text/plain": [
       "0.9740769863128662"
      ]
     },
     "execution_count": 20,
     "metadata": {},
     "output_type": "execute_result"
    }
   ],
   "source": [
    "softplus(0.5)"
   ]
  },
  {
   "cell_type": "code",
   "execution_count": 21,
   "metadata": {
    "scrolled": false
   },
   "outputs": [
    {
     "data": {
      "image/png": "[encoded data removed]",
      "text/plain": [
       "<Figure size 432x288 with 1 Axes>"
      ]
     },
     "metadata": {},
     "output_type": "display_data"
    }
   ],
   "source": [
    "cx.plot_f(softplus, frange=(-15, 15, 1), xlabel=\"input\", ylabel=\"output\", title=\"softplus()\")"
   ]
  },
  {
   "cell_type": "markdown",
   "metadata": {},
   "source": [
    "## softsign"
   ]
  },
  {
   "cell_type": "code",
   "execution_count": 22,
   "metadata": {},
   "outputs": [
    {
     "name": "stdout",
     "output_type": "stream",
     "text": [
      "Help on function softsign in module conx.activations:\n",
      "\n",
      "softsign(x)\n",
      "    Softsign activation function.\n",
      "    \n",
      "    >>> softsign(1)\n",
      "    0.5\n",
      "    >>> softsign(-1)\n",
      "    -0.5\n",
      "\n"
     ]
    }
   ],
   "source": [
    "help(softsign)"
   ]
  },
  {
   "cell_type": "code",
   "execution_count": 23,
   "metadata": {},
   "outputs": [
    {
     "data": {
      "text/plain": [
       "0.3333333432674408"
      ]
     },
     "execution_count": 23,
     "metadata": {},
     "output_type": "execute_result"
    }
   ],
   "source": [
    "softsign(0.5)"
   ]
  },
  {
   "cell_type": "code",
   "execution_count": 24,
   "metadata": {
    "scrolled": false
   },
   "outputs": [
    {
     "data": {
      "image/png": "[encoded data removed]",
      "text/plain": [
       "<Figure size 432x288 with 1 Axes>"
      ]
     },
     "metadata": {},
     "output_type": "display_data"
    }
   ],
   "source": [
    "cx.plot_f(softsign, frange=(-15, 15, 1), xlabel=\"input\", ylabel=\"output\", title=\"softsign()\")"
   ]
  },
  {
   "cell_type": "markdown",
   "metadata": {},
   "source": [
    "## relu"
   ]
  },
  {
   "cell_type": "code",
   "execution_count": 25,
   "metadata": {},
   "outputs": [
    {
     "name": "stdout",
     "output_type": "stream",
     "text": [
      "Help on function relu in module conx.activations:\n",
      "\n",
      "relu(x, alpha=0.0, max_value=None)\n",
      "    Rectified Linear Unit activation function.\n",
      "    \n",
      "    >>> relu(1)\n",
      "    1.0\n",
      "    >>> relu(-1)\n",
      "    0.0\n",
      "\n"
     ]
    }
   ],
   "source": [
    "help(relu)"
   ]
  },
  {
   "cell_type": "code",
   "execution_count": 26,
   "metadata": {},
   "outputs": [
    {
     "data": {
      "text/plain": [
       "0.5"
      ]
     },
     "execution_count": 26,
     "metadata": {},
     "output_type": "execute_result"
    }
   ],
   "source": [
    "relu(0.5)"
   ]
  },
  {
   "cell_type": "code",
   "execution_count": 27,
   "metadata": {},
   "outputs": [
    {
     "data": {
      "image/png": "[encoded data removed]",
      "text/plain": [
       "<Figure size 432x288 with 1 Axes>"
      ]
     },
     "metadata": {},
     "output_type": "display_data"
    }
   ],
   "source": [
    "cx.plot_f(relu, frange=(-15, 15, 1), xlabel=\"input\", ylabel=\"output\", title=\"relu()\")"
   ]
  },
  {
   "cell_type": "markdown",
   "metadata": {},
   "source": [
    "## tanh"
   ]
  },
  {
   "cell_type": "code",
   "execution_count": 28,
   "metadata": {},
   "outputs": [
    {
     "name": "stdout",
     "output_type": "stream",
     "text": [
      "Help on function tanh in module conx.activations:\n",
      "\n",
      "tanh(x)\n",
      "    Tanh activation function.\n",
      "    \n",
      "    >>> tanh(0)\n",
      "    0.0\n",
      "\n"
     ]
    }
   ],
   "source": [
    "help(tanh)"
   ]
  },
  {
   "cell_type": "code",
   "execution_count": 29,
   "metadata": {},
   "outputs": [
    {
     "data": {
      "text/plain": [
       "0.46211716532707214"
      ]
     },
     "execution_count": 29,
     "metadata": {},
     "output_type": "execute_result"
    }
   ],
   "source": [
    "tanh(0.5)"
   ]
  },
  {
   "cell_type": "code",
   "execution_count": 30,
   "metadata": {},
   "outputs": [
    {
     "data": {
      "image/png": "[encoded data removed]",
      "text/plain": [
       "<Figure size 432x288 with 1 Axes>"
      ]
     },
     "metadata": {},
     "output_type": "display_data"
    }
   ],
   "source": [
    "cx.plot_f(tanh, frange=(-15, 15, 1), xlabel=\"input\", ylabel=\"output\", title=\"tanh()\")"
   ]
  },
  {
   "cell_type": "markdown",
   "metadata": {},
   "source": [
    "## sigmoid"
   ]
  },
  {
   "cell_type": "code",
   "execution_count": 31,
   "metadata": {},
   "outputs": [
    {
     "name": "stdout",
     "output_type": "stream",
     "text": [
      "Help on function sigmoid in module conx.activations:\n",
      "\n",
      "sigmoid(x)\n",
      "    Sigmoid activation function.\n",
      "    \n",
      "    >>> sigmoid(0)\n",
      "    0.5\n",
      "\n"
     ]
    }
   ],
   "source": [
    "help(sigmoid)"
   ]
  },
  {
   "cell_type": "code",
   "execution_count": 32,
   "metadata": {},
   "outputs": [
    {
     "data": {
      "text/plain": [
       "0.622459352016449"
      ]
     },
     "execution_count": 32,
     "metadata": {},
     "output_type": "execute_result"
    }
   ],
   "source": [
    "sigmoid(0.5)"
   ]
  },
  {
   "cell_type": "code",
   "execution_count": 33,
   "metadata": {},
   "outputs": [
    {
     "data": {
      "image/png": "[encoded data removed]",
      "text/plain": [
       "<Figure size 432x288 with 1 Axes>"
      ]
     },
     "metadata": {},
     "output_type": "display_data"
    }
   ],
   "source": [
    "cx.plot_f(sigmoid, frange=(-15, 15, 1), xlabel=\"input\", ylabel=\"output\", title=\"sigmoid()\")"
   ]
  },
  {
   "cell_type": "markdown",
   "metadata": {},
   "source": [
    "## hard_sigmoid"
   ]
  },
  {
   "cell_type": "code",
   "execution_count": 34,
   "metadata": {},
   "outputs": [
    {
     "name": "stdout",
     "output_type": "stream",
     "text": [
      "Help on function hard_sigmoid in module conx.activations:\n",
      "\n",
      "hard_sigmoid(x)\n",
      "    Hard Sigmoid activation function.\n",
      "    \n",
      "    >>> round(hard_sigmoid(-1), 1)\n",
      "    0.3\n",
      "\n"
     ]
    }
   ],
   "source": [
    "help(hard_sigmoid)"
   ]
  },
  {
   "cell_type": "code",
   "execution_count": 35,
   "metadata": {},
   "outputs": [
    {
     "data": {
      "text/plain": [
       "0.6000000238418579"
      ]
     },
     "execution_count": 35,
     "metadata": {},
     "output_type": "execute_result"
    }
   ],
   "source": [
    "hard_sigmoid(0.5)"
   ]
  },
  {
   "cell_type": "code",
   "execution_count": 36,
   "metadata": {},
   "outputs": [
    {
     "data": {
      "image/png": "[encoded data removed]",
      "text/plain": [
       "<Figure size 432x288 with 1 Axes>"
      ]
     },
     "metadata": {},
     "output_type": "display_data"
    }
   ],
   "source": [
    "cx.plot_f(hard_sigmoid, frange=(-15, 15, 1), xlabel=\"input\", ylabel=\"output\", title=\"hard_sigmoid()\")"
   ]
  },
  {
   "cell_type": "markdown",
   "metadata": {},
   "source": [
    "## linear"
   ]
  },
  {
   "cell_type": "code",
   "execution_count": 37,
   "metadata": {},
   "outputs": [
    {
     "name": "stdout",
     "output_type": "stream",
     "text": [
      "Help on function linear in module conx.activations:\n",
      "\n",
      "linear(x)\n",
      "    Linear activation function.\n",
      "    \n",
      "    >>> linear(1) == 1\n",
      "    True\n",
      "    >>> linear(-1) == -1\n",
      "    True\n",
      "\n"
     ]
    }
   ],
   "source": [
    "help(linear)"
   ]
  },
  {
   "cell_type": "code",
   "execution_count": 38,
   "metadata": {},
   "outputs": [
    {
     "data": {
      "text/plain": [
       "0.5"
      ]
     },
     "execution_count": 38,
     "metadata": {},
     "output_type": "execute_result"
    }
   ],
   "source": [
    "linear(0.5)"
   ]
  },
  {
   "cell_type": "code",
   "execution_count": 39,
   "metadata": {},
   "outputs": [
    {
     "data": {
      "image/png": "[encoded data removed]",
      "text/plain": [
       "<Figure size 432x288 with 1 Axes>"
      ]
     },
     "metadata": {},
     "output_type": "display_data"
    }
   ],
   "source": [
    "cx.plot_f(linear, frange=(-15, 15, 1), xlabel=\"input\", ylabel=\"output\", title=\"linear()\")"
   ]
  },
  {
   "cell_type": "markdown",
   "metadata": {},
   "source": [
    "## Comparison"
   ]
  },
  {
   "cell_type": "code",
   "execution_count": 40,
   "metadata": {},
   "outputs": [],
   "source": [
    "functions = [hard_sigmoid, sigmoid, tanh, relu, \n",
    "             softsign, softplus, elu, selu, linear]\n",
    "float_range = cx.frange(-2, 2, 0.1)\n",
    "lines = {}\n",
    "symbols = {}\n",
    "for v in float_range:\n",
    "    for f in functions:\n",
    "        if f.__name__ not in lines:\n",
    "            lines[f.__name__] = []\n",
    "            symbols[f.__name__] = \"-\"\n",
    "        lines[f.__name__].append(f(v))"
   ]
  },
  {
   "cell_type": "code",
   "execution_count": 41,
   "metadata": {},
   "outputs": [
    {
     "data": {
      "image/svg+xml": [
       "<svg height=\"432pt\" version=\"1.1\" viewBox=\"0 0 576 432\" width=\"576pt\" xmlns=\"http://www.w3.org/2000/svg\" xmlns:xlink=\"http://www.w3.org/1999/xlink\">\n",
       " <defs>\n",
       "  <style type=\"text/css\">\n",
       "*{stroke-linecap:butt;stroke-linejoin:round;}\n",
       "  </style>\n",
       " </defs>\n",
       " <g id=\"figure_1\">\n",
       "  <g id=\"patch_1\">\n",
       "   <path d=\"M 0 432  L 576 432  L 576 0  L 0 0  z \" style=\"fill:#ffffff;\"/>\n",
       "  </g>\n",
       "  <g id=\"axes_1\">\n",
       "   <g id=\"patch_2\">\n",
       "    <path d=\"M 72 378  L 518.4 378  L 518.4 51.84  L 72 51.84  z \" style=\"fill:#ffffff;\"/>\n",
       "   </g>\n",
       "   <g id=\"matplotlib.axis_1\">\n",
       "    <g id=\"xtick_1\">\n",
       "     <g id=\"line2d_1\">\n",
       "      <defs>\n",
       "       <path d=\"M 0 0  L 0 3.5  \" id=\"m8421d756a3\" style=\"stroke:#000000;stroke-width:0.8;\"/>\n",
       "      </defs>\n",
       "      <g>\n",
       "       <use style=\"stroke:#000000;stroke-width:0.8;\" x=\"92.290909\" xlink:href=\"#m8421d756a3\" y=\"378\"/>\n",
       "      </g>\n",
       "     </g>\n",
       "     <g id=\"text_1\">\n",
       "      <!-- −2.0 -->\n",
       "      <defs>\n",
       "       <path d=\"M 10.59375 35.5  L 73.1875 35.5  L 73.1875 27.203125  L 10.59375 27.203125  z \" id=\"DejaVuSans-2212\"/>\n",
       "       <path d=\"M 19.1875 8.296875  L 53.609375 8.296875  L 53.609375 0  L 7.328125 0  L 7.328125 8.296875  Q 12.9375 14.109375 22.625 23.890625  Q 32.328125 33.6875 34.8125 36.53125  Q 39.546875 41.84375 41.421875 45.53125  Q 43.3125 49.21875 43.3125 52.78125  Q 43.3125 58.59375 39.234375 62.25  Q 35.15625 65.921875 28.609375 65.921875  Q 23.96875 65.921875 18.8125 64.3125  Q 13.671875 62.703125 7.8125 59.421875  L 7.8125 69.390625  Q 13.765625 71.78125 18.9375 73  Q 24.125 74.21875 28.421875 74.21875  Q 39.75 74.21875 46.484375 68.546875  Q 53.21875 62.890625 53.21875 53.421875  Q 53.21875 48.921875 51.53125 44.890625  Q 49.859375 40.875 45.40625 35.40625  Q 44.1875 33.984375 37.640625 27.21875  Q 31.109375 20.453125 19.1875 8.296875  z \" id=\"DejaVuSans-32\"/>\n",
       "       <path d=\"M 10.6875 12.40625  L 21 12.40625  L 21 0  L 10.6875 0  z \" id=\"DejaVuSans-2e\"/>\n",
       "       <path d=\"M 31.78125 66.40625  Q 24.171875 66.40625 20.328125 58.90625  Q 16.5 51.421875 16.5 36.375  Q 16.5 21.390625 20.328125 13.890625  Q 24.171875 6.390625 31.78125 6.390625  Q 39.453125 6.390625 43.28125 13.890625  Q 47.125 21.390625 47.125 36.375  Q 47.125 51.421875 43.28125 58.90625  Q 39.453125 66.40625 31.78125 66.40625  z M 31.78125 74.21875  Q 44.046875 74.21875 50.515625 64.515625  Q 56.984375 54.828125 56.984375 36.375  Q 56.984375 17.96875 50.515625 8.265625  Q 44.046875 -1.421875 31.78125 -1.421875  Q 19.53125 -1.421875 13.0625 8.265625  Q 6.59375 17.96875 6.59375 36.375  Q 6.59375 54.828125 13.0625 64.515625  Q 19.53125 74.21875 31.78125 74.21875  z \" id=\"DejaVuSans-30\"/>\n",
       "      </defs>\n",
       "      <g transform=\"translate(80.149503 392.598437)scale(0.1 -0.1)\">\n",
       "       <use xlink:href=\"#DejaVuSans-2212\"/>\n",
       "       <use x=\"83.789062\" xlink:href=\"#DejaVuSans-32\"/>\n",
       "       <use x=\"147.412109\" xlink:href=\"#DejaVuSans-2e\"/>\n",
       "       <use x=\"179.199219\" xlink:href=\"#DejaVuSans-30\"/>\n",
       "      </g>\n",
       "     </g>\n",
       "    </g>\n",
       "    <g id=\"xtick_2\">\n",
       "     <g id=\"line2d_2\">\n",
       "      <g>\n",
       "       <use style=\"stroke:#000000;stroke-width:0.8;\" x=\"144.318881\" xlink:href=\"#m8421d756a3\" y=\"378\"/>\n",
       "      </g>\n",
       "     </g>\n",
       "     <g id=\"text_2\">\n",
       "      <!-- −1.5 -->\n",
       "      <defs>\n",
       "       <path d=\"M 12.40625 8.296875  L 28.515625 8.296875  L 28.515625 63.921875  L 10.984375 60.40625  L 10.984375 69.390625  L 28.421875 72.90625  L 38.28125 72.90625  L 38.28125 8.296875  L 54.390625 8.296875  L 54.390625 0  L 12.40625 0  z \" id=\"DejaVuSans-31\"/>\n",
       "       <path d=\"M 10.796875 72.90625  L 49.515625 72.90625  L 49.515625 64.59375  L 19.828125 64.59375  L 19.828125 46.734375  Q 21.96875 47.46875 24.109375 47.828125  Q 26.265625 48.1875 28.421875 48.1875  Q 40.625 48.1875 47.75 41.5  Q 54.890625 34.8125 54.890625 23.390625  Q 54.890625 11.625 47.5625 5.09375  Q 40.234375 -1.421875 26.90625 -1.421875  Q 22.3125 -1.421875 17.546875 -0.640625  Q 12.796875 0.140625 7.71875 1.703125  L 7.71875 11.625  Q 12.109375 9.234375 16.796875 8.0625  Q 21.484375 6.890625 26.703125 6.890625  Q 35.15625 6.890625 40.078125 11.328125  Q 45.015625 15.765625 45.015625 23.390625  Q 45.015625 31 40.078125 35.4375  Q 35.15625 39.890625 26.703125 39.890625  Q 22.75 39.890625 18.8125 39.015625  Q 14.890625 38.140625 10.796875 36.28125  z \" id=\"DejaVuSans-35\"/>\n",
       "      </defs>\n",
       "      <g transform=\"translate(132.177475 392.598437)scale(0.1 -0.1)\">\n",
       "       <use xlink:href=\"#DejaVuSans-2212\"/>\n",
       "       <use x=\"83.789062\" xlink:href=\"#DejaVuSans-31\"/>\n",
       "       <use x=\"147.412109\" xlink:href=\"#DejaVuSans-2e\"/>\n",
       "       <use x=\"179.199219\" xlink:href=\"#DejaVuSans-35\"/>\n",
       "      </g>\n",
       "     </g>\n",
       "    </g>\n",
       "    <g id=\"xtick_3\">\n",
       "     <g id=\"line2d_3\">\n",
       "      <g>\n",
       "       <use style=\"stroke:#000000;stroke-width:0.8;\" x=\"196.346853\" xlink:href=\"#m8421d756a3\" y=\"378\"/>\n",
       "      </g>\n",
       "     </g>\n",
       "     <g id=\"text_3\">\n",
       "      <!-- −1.0 -->\n",
       "      <g transform=\"translate(184.205447 392.598437)scale(0.1 -0.1)\">\n",
       "       <use xlink:href=\"#DejaVuSans-2212\"/>\n",
       "       <use x=\"83.789062\" xlink:href=\"#DejaVuSans-31\"/>\n",
       "       <use x=\"147.412109\" xlink:href=\"#DejaVuSans-2e\"/>\n",
       "       <use x=\"179.199219\" xlink:href=\"#DejaVuSans-30\"/>\n",
       "      </g>\n",
       "     </g>\n",
       "    </g>\n",
       "    <g id=\"xtick_4\">\n",
       "     <g id=\"line2d_4\">\n",
       "      <g>\n",
       "       <use style=\"stroke:#000000;stroke-width:0.8;\" x=\"248.374825\" xlink:href=\"#m8421d756a3\" y=\"378\"/>\n",
       "      </g>\n",
       "     </g>\n",
       "     <g id=\"text_4\">\n",
       "      <!-- −0.5 -->\n",
       "      <g transform=\"translate(236.233419 392.598437)scale(0.1 -0.1)\">\n",
       "       <use xlink:href=\"#DejaVuSans-2212\"/>\n",
       "       <use x=\"83.789062\" xlink:href=\"#DejaVuSans-30\"/>\n",
       "       <use x=\"147.412109\" xlink:href=\"#DejaVuSans-2e\"/>\n",
       "       <use x=\"179.199219\" xlink:href=\"#DejaVuSans-35\"/>\n",
       "      </g>\n",
       "     </g>\n",
       "    </g>\n",
       "    <g id=\"xtick_5\">\n",
       "     <g id=\"line2d_5\">\n",
       "      <g>\n",
       "       <use style=\"stroke:#000000;stroke-width:0.8;\" x=\"300.402797\" xlink:href=\"#m8421d756a3\" y=\"378\"/>\n",
       "      </g>\n",
       "     </g>\n",
       "     <g id=\"text_5\">\n",
       "      <!-- 0.0 -->\n",
       "      <g transform=\"translate(292.451235 392.598437)scale(0.1 -0.1)\">\n",
       "       <use xlink:href=\"#DejaVuSans-30\"/>\n",
       "       <use x=\"63.623047\" xlink:href=\"#DejaVuSans-2e\"/>\n",
       "       <use x=\"95.410156\" xlink:href=\"#DejaVuSans-30\"/>\n",
       "      </g>\n",
       "     </g>\n",
       "    </g>\n",
       "    <g id=\"xtick_6\">\n",
       "     <g id=\"line2d_6\">\n",
       "      <g>\n",
       "       <use style=\"stroke:#000000;stroke-width:0.8;\" x=\"352.430769\" xlink:href=\"#m8421d756a3\" y=\"378\"/>\n",
       "      </g>\n",
       "     </g>\n",
       "     <g id=\"text_6\">\n",
       "      <!-- 0.5 -->\n",
       "      <g transform=\"translate(344.479207 392.598437)scale(0.1 -0.1)\">\n",
       "       <use xlink:href=\"#DejaVuSans-30\"/>\n",
       "       <use x=\"63.623047\" xlink:href=\"#DejaVuSans-2e\"/>\n",
       "       <use x=\"95.410156\" xlink:href=\"#DejaVuSans-35\"/>\n",
       "      </g>\n",
       "     </g>\n",
       "    </g>\n",
       "    <g id=\"xtick_7\">\n",
       "     <g id=\"line2d_7\">\n",
       "      <g>\n",
       "       <use style=\"stroke:#000000;stroke-width:0.8;\" x=\"404.458741\" xlink:href=\"#m8421d756a3\" y=\"378\"/>\n",
       "      </g>\n",
       "     </g>\n",
       "     <g id=\"text_7\">\n",
       "      <!-- 1.0 -->\n",
       "      <g transform=\"translate(396.507179 392.598437)scale(0.1 -0.1)\">\n",
       "       <use xlink:href=\"#DejaVuSans-31\"/>\n",
       "       <use x=\"63.623047\" xlink:href=\"#DejaVuSans-2e\"/>\n",
       "       <use x=\"95.410156\" xlink:href=\"#DejaVuSans-30\"/>\n",
       "      </g>\n",
       "     </g>\n",
       "    </g>\n",
       "    <g id=\"xtick_8\">\n",
       "     <g id=\"line2d_8\">\n",
       "      <g>\n",
       "       <use style=\"stroke:#000000;stroke-width:0.8;\" x=\"456.486713\" xlink:href=\"#m8421d756a3\" y=\"378\"/>\n",
       "      </g>\n",
       "     </g>\n",
       "     <g id=\"text_8\">\n",
       "      <!-- 1.5 -->\n",
       "      <g transform=\"translate(448.535151 392.598437)scale(0.1 -0.1)\">\n",
       "       <use xlink:href=\"#DejaVuSans-31\"/>\n",
       "       <use x=\"63.623047\" xlink:href=\"#DejaVuSans-2e\"/>\n",
       "       <use x=\"95.410156\" xlink:href=\"#DejaVuSans-35\"/>\n",
       "      </g>\n",
       "     </g>\n",
       "    </g>\n",
       "    <g id=\"xtick_9\">\n",
       "     <g id=\"line2d_9\">\n",
       "      <g>\n",
       "       <use style=\"stroke:#000000;stroke-width:0.8;\" x=\"508.514685\" xlink:href=\"#m8421d756a3\" y=\"378\"/>\n",
       "      </g>\n",
       "     </g>\n",
       "     <g id=\"text_9\">\n",
       "      <!-- 2.0 -->\n",
       "      <g transform=\"translate(500.563123 392.598437)scale(0.1 -0.1)\">\n",
       "       <use xlink:href=\"#DejaVuSans-32\"/>\n",
       "       <use x=\"63.623047\" xlink:href=\"#DejaVuSans-2e\"/>\n",
       "       <use x=\"95.410156\" xlink:href=\"#DejaVuSans-30\"/>\n",
       "      </g>\n",
       "     </g>\n",
       "    </g>\n",
       "    <g id=\"text_10\">\n",
       "     <!-- input -->\n",
       "     <defs>\n",
       "      <path d=\"M 9.421875 54.6875  L 18.40625 54.6875  L 18.40625 0  L 9.421875 0  z M 9.421875 75.984375  L 18.40625 75.984375  L 18.40625 64.59375  L 9.421875 64.59375  z \" id=\"DejaVuSans-69\"/>\n",
       "      <path d=\"M 54.890625 33.015625  L 54.890625 0  L 45.90625 0  L 45.90625 32.71875  Q 45.90625 40.484375 42.875 44.328125  Q 39.84375 48.1875 33.796875 48.1875  Q 26.515625 48.1875 22.3125 43.546875  Q 18.109375 38.921875 18.109375 30.90625  L 18.109375 0  L 9.078125 0  L 9.078125 54.6875  L 18.109375 54.6875  L 18.109375 46.1875  Q 21.34375 51.125 25.703125 53.5625  Q 30.078125 56 35.796875 56  Q 45.21875 56 50.046875 50.171875  Q 54.890625 44.34375 54.890625 33.015625  z \" id=\"DejaVuSans-6e\"/>\n",
       "      <path d=\"M 18.109375 8.203125  L 18.109375 -20.796875  L 9.078125 -20.796875  L 9.078125 54.6875  L 18.109375 54.6875  L 18.109375 46.390625  Q 20.953125 51.265625 25.265625 53.625  Q 29.59375 56 35.59375 56  Q 45.5625 56 51.78125 48.09375  Q 58.015625 40.1875 58.015625 27.296875  Q 58.015625 14.40625 51.78125 6.484375  Q 45.5625 -1.421875 35.59375 -1.421875  Q 29.59375 -1.421875 25.265625 0.953125  Q 20.953125 3.328125 18.109375 8.203125  z M 48.6875 27.296875  Q 48.6875 37.203125 44.609375 42.84375  Q 40.53125 48.484375 33.40625 48.484375  Q 26.265625 48.484375 22.1875 42.84375  Q 18.109375 37.203125 18.109375 27.296875  Q 18.109375 17.390625 22.1875 11.75  Q 26.265625 6.109375 33.40625 6.109375  Q 40.53125 6.109375 44.609375 11.75  Q 48.6875 17.390625 48.6875 27.296875  z \" id=\"DejaVuSans-70\"/>\n",
       "      <path d=\"M 8.5 21.578125  L 8.5 54.6875  L 17.484375 54.6875  L 17.484375 21.921875  Q 17.484375 14.15625 20.5 10.265625  Q 23.53125 6.390625 29.59375 6.390625  Q 36.859375 6.390625 41.078125 11.03125  Q 45.3125 15.671875 45.3125 23.6875  L 45.3125 54.6875  L 54.296875 54.6875  L 54.296875 0  L 45.3125 0  L 45.3125 8.40625  Q 42.046875 3.421875 37.71875 1  Q 33.40625 -1.421875 27.6875 -1.421875  Q 18.265625 -1.421875 13.375 4.4375  Q 8.5 10.296875 8.5 21.578125  z M 31.109375 56  z \" id=\"DejaVuSans-75\"/>\n",
       "      <path d=\"M 18.3125 70.21875  L 18.3125 54.6875  L 36.8125 54.6875  L 36.8125 47.703125  L 18.3125 47.703125  L 18.3125 18.015625  Q 18.3125 11.328125 20.140625 9.421875  Q 21.96875 7.515625 27.59375 7.515625  L 36.8125 7.515625  L 36.8125 0  L 27.59375 0  Q 17.1875 0 13.234375 3.875  Q 9.28125 7.765625 9.28125 18.015625  L 9.28125 47.703125  L 2.6875 47.703125  L 2.6875 54.6875  L 9.28125 54.6875  L 9.28125 70.21875  z \" id=\"DejaVuSans-74\"/>\n",
       "     </defs>\n",
       "     <g transform=\"translate(282.339063 406.276563)scale(0.1 -0.1)\">\n",
       "      <use xlink:href=\"#DejaVuSans-69\"/>\n",
       "      <use x=\"27.783203\" xlink:href=\"#DejaVuSans-6e\"/>\n",
       "      <use x=\"91.162109\" xlink:href=\"#DejaVuSans-70\"/>\n",
       "      <use x=\"154.638672\" xlink:href=\"#DejaVuSans-75\"/>\n",
       "      <use x=\"218.017578\" xlink:href=\"#DejaVuSans-74\"/>\n",
       "     </g>\n",
       "    </g>\n",
       "   </g>\n",
       "   <g id=\"matplotlib.axis_2\">\n",
       "    <g id=\"ytick_1\">\n",
       "     <g id=\"line2d_10\">\n",
       "      <defs>\n",
       "       <path d=\"M 0 0  L -3.5 0  \" id=\"m3b1b642bf8\" style=\"stroke:#000000;stroke-width:0.8;\"/>\n",
       "      </defs>\n",
       "      <g>\n",
       "       <use style=\"stroke:#000000;stroke-width:0.8;\" x=\"72\" xlink:href=\"#m3b1b642bf8\" y=\"363.174545\"/>\n",
       "      </g>\n",
       "     </g>\n",
       "     <g id=\"text_11\">\n",
       "      <!-- −2.0 -->\n",
       "      <g transform=\"translate(40.717187 366.973764)scale(0.1 -0.1)\">\n",
       "       <use xlink:href=\"#DejaVuSans-2212\"/>\n",
       "       <use x=\"83.789062\" xlink:href=\"#DejaVuSans-32\"/>\n",
       "       <use x=\"147.412109\" xlink:href=\"#DejaVuSans-2e\"/>\n",
       "       <use x=\"179.199219\" xlink:href=\"#DejaVuSans-30\"/>\n",
       "      </g>\n",
       "     </g>\n",
       "    </g>\n",
       "    <g id=\"ytick_2\">\n",
       "     <g id=\"line2d_11\">\n",
       "      <g>\n",
       "       <use style=\"stroke:#000000;stroke-width:0.8;\" x=\"72\" xlink:href=\"#m3b1b642bf8\" y=\"326.472305\"/>\n",
       "      </g>\n",
       "     </g>\n",
       "     <g id=\"text_12\">\n",
       "      <!-- −1.5 -->\n",
       "      <g transform=\"translate(40.717187 330.271523)scale(0.1 -0.1)\">\n",
       "       <use xlink:href=\"#DejaVuSans-2212\"/>\n",
       "       <use x=\"83.789062\" xlink:href=\"#DejaVuSans-31\"/>\n",
       "       <use x=\"147.412109\" xlink:href=\"#DejaVuSans-2e\"/>\n",
       "       <use x=\"179.199219\" xlink:href=\"#DejaVuSans-35\"/>\n",
       "      </g>\n",
       "     </g>\n",
       "    </g>\n",
       "    <g id=\"ytick_3\">\n",
       "     <g id=\"line2d_12\">\n",
       "      <g>\n",
       "       <use style=\"stroke:#000000;stroke-width:0.8;\" x=\"72\" xlink:href=\"#m3b1b642bf8\" y=\"289.770064\"/>\n",
       "      </g>\n",
       "     </g>\n",
       "     <g id=\"text_13\">\n",
       "      <!-- −1.0 -->\n",
       "      <g transform=\"translate(40.717187 293.569282)scale(0.1 -0.1)\">\n",
       "       <use xlink:href=\"#DejaVuSans-2212\"/>\n",
       "       <use x=\"83.789062\" xlink:href=\"#DejaVuSans-31\"/>\n",
       "       <use x=\"147.412109\" xlink:href=\"#DejaVuSans-2e\"/>\n",
       "       <use x=\"179.199219\" xlink:href=\"#DejaVuSans-30\"/>\n",
       "      </g>\n",
       "     </g>\n",
       "    </g>\n",
       "    <g id=\"ytick_4\">\n",
       "     <g id=\"line2d_13\">\n",
       "      <g>\n",
       "       <use style=\"stroke:#000000;stroke-width:0.8;\" x=\"72\" xlink:href=\"#m3b1b642bf8\" y=\"253.067823\"/>\n",
       "      </g>\n",
       "     </g>\n",
       "     <g id=\"text_14\">\n",
       "      <!-- −0.5 -->\n",
       "      <g transform=\"translate(40.717187 256.867042)scale(0.1 -0.1)\">\n",
       "       <use xlink:href=\"#DejaVuSans-2212\"/>\n",
       "       <use x=\"83.789062\" xlink:href=\"#DejaVuSans-30\"/>\n",
       "       <use x=\"147.412109\" xlink:href=\"#DejaVuSans-2e\"/>\n",
       "       <use x=\"179.199219\" xlink:href=\"#DejaVuSans-35\"/>\n",
       "      </g>\n",
       "     </g>\n",
       "    </g>\n",
       "    <g id=\"ytick_5\">\n",
       "     <g id=\"line2d_14\">\n",
       "      <g>\n",
       "       <use style=\"stroke:#000000;stroke-width:0.8;\" x=\"72\" xlink:href=\"#m3b1b642bf8\" y=\"216.365582\"/>\n",
       "      </g>\n",
       "     </g>\n",
       "     <g id=\"text_15\">\n",
       "      <!-- 0.0 -->\n",
       "      <g transform=\"translate(49.096875 220.164801)scale(0.1 -0.1)\">\n",
       "       <use xlink:href=\"#DejaVuSans-30\"/>\n",
       "       <use x=\"63.623047\" xlink:href=\"#DejaVuSans-2e\"/>\n",
       "       <use x=\"95.410156\" xlink:href=\"#DejaVuSans-30\"/>\n",
       "      </g>\n",
       "     </g>\n",
       "    </g>\n",
       "    <g id=\"ytick_6\">\n",
       "     <g id=\"line2d_15\">\n",
       "      <g>\n",
       "       <use style=\"stroke:#000000;stroke-width:0.8;\" x=\"72\" xlink:href=\"#m3b1b642bf8\" y=\"179.663341\"/>\n",
       "      </g>\n",
       "     </g>\n",
       "     <g id=\"text_16\">\n",
       "      <!-- 0.5 -->\n",
       "      <g transform=\"translate(49.096875 183.46256)scale(0.1 -0.1)\">\n",
       "       <use xlink:href=\"#DejaVuSans-30\"/>\n",
       "       <use x=\"63.623047\" xlink:href=\"#DejaVuSans-2e\"/>\n",
       "       <use x=\"95.410156\" xlink:href=\"#DejaVuSans-35\"/>\n",
       "      </g>\n",
       "     </g>\n",
       "    </g>\n",
       "    <g id=\"ytick_7\">\n",
       "     <g id=\"line2d_16\">\n",
       "      <g>\n",
       "       <use style=\"stroke:#000000;stroke-width:0.8;\" x=\"72\" xlink:href=\"#m3b1b642bf8\" y=\"142.9611\"/>\n",
       "      </g>\n",
       "     </g>\n",
       "     <g id=\"text_17\">\n",
       "      <!-- 1.0 -->\n",
       "      <g transform=\"translate(49.096875 146.760319)scale(0.1 -0.1)\">\n",
       "       <use xlink:href=\"#DejaVuSans-31\"/>\n",
       "       <use x=\"63.623047\" xlink:href=\"#DejaVuSans-2e\"/>\n",
       "       <use x=\"95.410156\" xlink:href=\"#DejaVuSans-30\"/>\n",
       "      </g>\n",
       "     </g>\n",
       "    </g>\n",
       "    <g id=\"ytick_8\">\n",
       "     <g id=\"line2d_17\">\n",
       "      <g>\n",
       "       <use style=\"stroke:#000000;stroke-width:0.8;\" x=\"72\" xlink:href=\"#m3b1b642bf8\" y=\"106.258859\"/>\n",
       "      </g>\n",
       "     </g>\n",
       "     <g id=\"text_18\">\n",
       "      <!-- 1.5 -->\n",
       "      <g transform=\"translate(49.096875 110.058078)scale(0.1 -0.1)\">\n",
       "       <use xlink:href=\"#DejaVuSans-31\"/>\n",
       "       <use x=\"63.623047\" xlink:href=\"#DejaVuSans-2e\"/>\n",
       "       <use x=\"95.410156\" xlink:href=\"#DejaVuSans-35\"/>\n",
       "      </g>\n",
       "     </g>\n",
       "    </g>\n",
       "    <g id=\"ytick_9\">\n",
       "     <g id=\"line2d_18\">\n",
       "      <g>\n",
       "       <use style=\"stroke:#000000;stroke-width:0.8;\" x=\"72\" xlink:href=\"#m3b1b642bf8\" y=\"69.556618\"/>\n",
       "      </g>\n",
       "     </g>\n",
       "     <g id=\"text_19\">\n",
       "      <!-- 2.0 -->\n",
       "      <g transform=\"translate(49.096875 73.355837)scale(0.1 -0.1)\">\n",
       "       <use xlink:href=\"#DejaVuSans-32\"/>\n",
       "       <use x=\"63.623047\" xlink:href=\"#DejaVuSans-2e\"/>\n",
       "       <use x=\"95.410156\" xlink:href=\"#DejaVuSans-30\"/>\n",
       "      </g>\n",
       "     </g>\n",
       "    </g>\n",
       "    <g id=\"text_20\">\n",
       "     <!-- output -->\n",
       "     <defs>\n",
       "      <path d=\"M 30.609375 48.390625  Q 23.390625 48.390625 19.1875 42.75  Q 14.984375 37.109375 14.984375 27.296875  Q 14.984375 17.484375 19.15625 11.84375  Q 23.34375 6.203125 30.609375 6.203125  Q 37.796875 6.203125 41.984375 11.859375  Q 46.1875 17.53125 46.1875 27.296875  Q 46.1875 37.015625 41.984375 42.703125  Q 37.796875 48.390625 30.609375 48.390625  z M 30.609375 56  Q 42.328125 56 49.015625 48.375  Q 55.71875 40.765625 55.71875 27.296875  Q 55.71875 13.875 49.015625 6.21875  Q 42.328125 -1.421875 30.609375 -1.421875  Q 18.84375 -1.421875 12.171875 6.21875  Q 5.515625 13.875 5.515625 27.296875  Q 5.515625 40.765625 12.171875 48.375  Q 18.84375 56 30.609375 56  z \" id=\"DejaVuSans-6f\"/>\n",
       "     </defs>\n",
       "     <g transform=\"translate(34.6375 231.411406)rotate(-90)scale(0.1 -0.1)\">\n",
       "      <use xlink:href=\"#DejaVuSans-6f\"/>\n",
       "      <use x=\"61.181641\" xlink:href=\"#DejaVuSans-75\"/>\n",
       "      <use x=\"124.560547\" xlink:href=\"#DejaVuSans-74\"/>\n",
       "      <use x=\"163.769531\" xlink:href=\"#DejaVuSans-70\"/>\n",
       "      <use x=\"227.246094\" xlink:href=\"#DejaVuSans-75\"/>\n",
       "      <use x=\"290.625\" xlink:href=\"#DejaVuSans-74\"/>\n",
       "     </g>\n",
       "    </g>\n",
       "   </g>\n",
       "   <g id=\"line2d_19\">\n",
       "    <path clip-path=\"url(#p386362bc70)\" d=\"M 92.290909 209.025134  L 102.696503 207.557044  L 113.102098 206.088953  L 123.507692 204.620865  L 133.913287 203.152777  L 144.318881 201.684686  L 154.724476 200.216596  L 165.13007 198.748506  L 175.535664 197.280417  L 185.941259 195.812329  L 196.346853 194.344237  L 206.752448 192.876148  L 217.158042 191.40806  L 227.563636 189.939967  L 237.969231 188.471879  L 248.374825 187.003789  L 258.78042 185.535701  L 269.186014 184.06761  L 279.591608 182.59952  L 289.997203 181.131432  L 300.402797 179.663341  L 310.808392 178.195253  L 321.213986 176.72716  L 331.61958 175.259072  L 342.025175 173.790984  L 352.430769 172.322891  L 362.836364 170.854803  L 373.241958 169.386715  L 383.647552 167.918622  L 394.053147 166.450534  L 404.458741 164.982446  L 414.864336 163.514353  L 425.26993 162.046265  L 435.675524 160.578177  L 446.081119 159.110088  L 456.486713 157.641996  L 466.892308 156.173903  L 477.297902 154.705815  L 487.703497 153.237727  L 498.109091 151.769638  \" style=\"fill:none;stroke:#1f77b4;stroke-linecap:square;stroke-width:1.5;\"/>\n",
       "   </g>\n",
       "   <g id=\"line2d_20\">\n",
       "    <path clip-path=\"url(#p386362bc70)\" d=\"M 92.290909 207.615553  L 102.696503 206.815037  L 113.102098 205.953078  L 123.507692 205.02714  L 133.913287 204.034979  L 144.318881 202.974731  L 154.724476 201.844993  L 165.13007 200.644909  L 175.535664 199.374263  L 185.941259 198.033555  L 196.346853 196.624076  L 206.752448 195.147981  L 217.158042 193.60832  L 227.563636 192.009077  L 237.969231 190.355165  L 248.374825 188.652404  L 258.78042 186.907457  L 269.186014 185.127755  L 279.591608 183.321379  L 289.997203 181.496927  L 300.402797 179.663341  L 310.808392 177.829758  L 321.213986 176.005306  L 331.61958 174.198928  L 342.025175 172.419225  L 352.430769 170.674276  L 362.836364 168.971517  L 373.241958 167.317607  L 383.647552 165.718362  L 394.053147 164.178704  L 404.458741 162.702604  L 414.864336 161.293127  L 425.26993 159.952415  L 435.675524 158.681769  L 446.081119 157.481687  L 456.486713 156.351954  L 466.892308 155.291704  L 477.297902 154.299538  L 487.703497 153.373609  L 498.109091 152.511641  \" style=\"fill:none;stroke:#ff7f0e;stroke-linecap:square;stroke-width:1.5;\"/>\n",
       "   </g>\n",
       "   <g id=\"line2d_21\">\n",
       "    <path clip-path=\"url(#p386362bc70)\" d=\"M 92.290909 287.129527  L 102.696503 286.5577  L 113.102098 285.865387  L 123.507692 285.028796  L 133.913287 284.020183  L 144.318881 282.807517  L 154.724476 281.354362  L 165.13007 279.619926  L 175.535664 277.559573  L 185.941259 275.125802  L 196.346853 272.270008  L 206.752448 268.945056  L 217.158042 265.108864  L 227.563636 260.728887  L 237.969231 255.787433  L 248.374825 250.287053  L 258.78042 244.255542  L 269.186014 237.749233  L 279.591608 230.853812  L 289.997203 223.681659  L 300.402797 216.365582  L 310.808392 209.049505  L 321.213986 201.877352  L 331.61958 194.981931  L 342.025175 188.475622  L 352.430769 182.444111  L 362.836364 176.943731  L 373.241958 172.002277  L 383.647552 167.6223  L 394.053147 163.786108  L 404.458741 160.461156  L 414.864336 157.605362  L 425.26993 155.171591  L 435.675524 153.111238  L 446.081119 151.376802  L 456.486713 149.923647  L 466.892308 148.710981  L 477.297902 147.702368  L 487.703497 146.865777  L 498.109091 146.173464  \" style=\"fill:none;stroke:#2ca02c;stroke-linecap:square;stroke-width:1.5;\"/>\n",
       "   </g>\n",
       "   <g id=\"line2d_22\">\n",
       "    <path clip-path=\"url(#p386362bc70)\" d=\"M 92.290909 216.365582  L 102.696503 216.365582  L 113.102098 216.365582  L 123.507692 216.365582  L 133.913287 216.365582  L 144.318881 216.365582  L 154.724476 216.365582  L 165.13007 216.365582  L 175.535664 216.365582  L 185.941259 216.365582  L 196.346853 216.365582  L 206.752448 216.365582  L 217.158042 216.365582  L 227.563636 216.365582  L 237.969231 216.365582  L 248.374825 216.365582  L 258.78042 216.365582  L 269.186014 216.365582  L 279.591608 216.365582  L 289.997203 216.365582  L 300.402797 216.365582  L 310.808392 209.025134  L 321.213986 201.684685  L 331.61958 194.344237  L 342.025175 187.003789  L 352.430769 179.663341  L 362.836364 172.322891  L 373.241958 164.982446  L 383.647552 157.641996  L 394.053147 150.30155  L 404.458741 142.9611  L 414.864336 135.62065  L 425.26993 128.2802  L 435.675524 120.939759  L 446.081119 113.599309  L 456.486713 106.258859  L 466.892308 98.918409  L 477.297902 91.577959  L 487.703497 84.237518  L 498.109091 76.897068  \" style=\"fill:none;stroke:#d62728;stroke-linecap:square;stroke-width:1.5;\"/>\n",
       "   </g>\n",
       "   <g id=\"line2d_23\">\n",
       "    <path clip-path=\"url(#p386362bc70)\" d=\"M 92.290909 265.301905  L 102.696503 264.458173  L 113.102098 263.554177  L 123.507692 262.583217  L 133.913287 261.537572  L 144.318881 260.408273  L 154.724476 259.184862  L 165.13007 257.855071  L 175.535664 256.404391  L 185.941259 254.815551  L 196.346853 253.067823  L 206.752448 251.136125  L 217.158042 248.989798  L 227.563636 246.590955  L 237.969231 243.892263  L 248.374825 240.833743  L 258.78042 237.338292  L 269.186014 233.305079  L 279.591608 228.599662  L 289.997203 223.038717  L 300.402797 216.365582  L 310.808392 209.692447  L 321.213986 204.131502  L 331.61958 199.426085  L 342.025175 195.392872  L 352.430769 191.897421  L 362.836364 188.838901  L 373.241958 186.140209  L 383.647552 183.741365  L 394.053147 181.595039  L 404.458741 179.663341  L 414.864336 177.915613  L 425.26993 176.326773  L 435.675524 174.876093  L 446.081119 173.546302  L 456.486713 172.322891  L 466.892308 171.193592  L 477.297902 170.147947  L 487.703497 169.176987  L 498.109091 168.272991  \" style=\"fill:none;stroke:#9467bd;stroke-linecap:square;stroke-width:1.5;\"/>\n",
       "   </g>\n",
       "   <g id=\"line2d_24\">\n",
       "    <path clip-path=\"url(#p386362bc70)\" d=\"M 92.290909 207.048494  L 102.696503 206.133974  L 113.102098 205.136336  L 123.507692 204.049339  L 133.913287 202.866441  L 144.318881 201.580941  L 154.724476 200.185958  L 165.13007 198.674484  L 175.535664 197.03947  L 185.941259 195.273881  L 196.346853 193.370772  L 206.752448 191.323355  L 217.158042 189.125132  L 227.563636 186.769917  L 237.969231 184.252003  L 248.374825 181.566206  L 258.78042 178.707962  L 269.186014 175.673421  L 279.591608 172.459504  L 289.997203 169.063979  L 300.402797 165.485472  L 310.808392 161.723529  L 321.213986 157.778617  L 331.61958 153.65208  L 342.025175 149.346171  L 352.430769 144.863966  L 362.836364 140.209314  L 373.241958 135.386785  L 383.647552 130.401548  L 394.053147 125.259328  L 404.458741 119.966293  L 414.864336 114.528953  L 425.26993 108.954091  L 435.675524 103.248662  L 446.081119 97.419677  L 456.486713 91.474222  L 466.892308 85.419273  L 477.297902 79.261715  L 487.703497 73.008278  L 498.109091 66.665455  \" style=\"fill:none;stroke:#8c564b;stroke-linecap:square;stroke-width:1.5;\"/>\n",
       "   </g>\n",
       "   <g id=\"line2d_25\">\n",
       "    <path clip-path=\"url(#p386362bc70)\" d=\"M 92.290909 279.835849  L 102.696503 278.791057  L 113.102098 277.636385  L 123.507692 276.360274  L 133.913287 274.949952  L 144.318881 273.391309  L 154.724476 271.668739  L 165.13007 269.765008  L 175.535664 267.66106  L 185.941259 265.335835  L 196.346853 262.766063  L 206.752448 259.926029  L 217.158042 256.787304  L 227.563636 253.318476  L 237.969231 249.484832  L 248.374825 245.247994  L 258.78042 240.565569  L 269.186014 235.390687  L 279.591608 229.671556  L 289.997203 223.350941  L 300.402797 216.365582  L 310.808392 209.025134  L 321.213986 201.684685  L 331.61958 194.344237  L 342.025175 187.003789  L 352.430769 179.663341  L 362.836364 172.322891  L 373.241958 164.982446  L 383.647552 157.641996  L 394.053147 150.30155  L 404.458741 142.9611  L 414.864336 135.62065  L 425.26993 128.2802  L 435.675524 120.939759  L 446.081119 113.599309  L 456.486713 106.258859  L 466.892308 98.918409  L 477.297902 91.577959  L 487.703497 84.237518  L 498.109091 76.897068  \" style=\"fill:none;stroke:#e377c2;stroke-linecap:square;stroke-width:1.5;\"/>\n",
       "   </g>\n",
       "   <g id=\"line2d_26\">\n",
       "    <path clip-path=\"url(#p386362bc70)\" d=\"M 92.290909 327.952617  L 102.696503 326.115774  L 113.102098 324.085738  L 123.507692 321.842207  L 133.913287 319.362728  L 144.318881 316.622475  L 154.724476 313.594033  L 165.13007 310.247073  L 175.535664 306.548125  L 185.941259 302.460147  L 196.346853 297.94224  L 206.752448 292.94918  L 217.158042 287.430986  L 227.563636 281.332442  L 237.969231 274.592512  L 248.374825 267.143735  L 258.78042 258.911562  L 269.186014 249.813607  L 279.591608 239.758806  L 289.997203 228.646537  L 300.402797 216.365582  L 310.808392 208.652965  L 321.213986 200.940349  L 331.61958 193.227732  L 342.025175 185.515115  L 352.430769 177.8025  L 362.836364 170.089883  L 373.241958 162.37727  L 383.647552 154.664648  L 394.053147 146.952035  L 404.458741 139.239418  L 414.864336 131.526801  L 425.26993 123.814183  L 435.675524 116.101575  L 446.081119 108.388958  L 456.486713 100.67634  L 466.892308 92.963714  L 477.297902 85.251097  L 487.703497 77.538489  L 498.109091 69.825871  \" style=\"fill:none;stroke:#7f7f7f;stroke-linecap:square;stroke-width:1.5;\"/>\n",
       "   </g>\n",
       "   <g id=\"line2d_27\">\n",
       "    <path clip-path=\"url(#p386362bc70)\" d=\"M 92.290909 363.174545  L 102.696503 355.834097  L 113.102098 348.493649  L 123.507692 341.153201  L 133.913287 333.812753  L 144.318881 326.472305  L 154.724476 319.131856  L 165.13007 311.791408  L 175.535664 304.45096  L 185.941259 297.110512  L 196.346853 289.770064  L 206.752448 282.429616  L 217.158042 275.089167  L 227.563636 267.748719  L 237.969231 260.408271  L 248.374825 253.067823  L 258.78042 245.727375  L 269.186014 238.386926  L 279.591608 231.046478  L 289.997203 223.70603  L 300.402797 216.365582  L 310.808392 209.025134  L 321.213986 201.684686  L 331.61958 194.344237  L 342.025175 187.003789  L 352.430769 179.663341  L 362.836364 172.322893  L 373.241958 164.982445  L 383.647552 157.641997  L 394.053147 150.301548  L 404.458741 142.9611  L 414.864336 135.620652  L 425.26993 128.280204  L 435.675524 120.939756  L 446.081119 113.599308  L 456.486713 106.258859  L 466.892308 98.918411  L 477.297902 91.577963  L 487.703497 84.237515  L 498.109091 76.897067  \" style=\"fill:none;stroke:#bcbd22;stroke-linecap:square;stroke-width:1.5;\"/>\n",
       "   </g>\n",
       "   <g id=\"patch_3\">\n",
       "    <path d=\"M 72 378  L 72 51.84  \" style=\"fill:none;stroke:#000000;stroke-linecap:square;stroke-linejoin:miter;stroke-width:0.8;\"/>\n",
       "   </g>\n",
       "   <g id=\"patch_4\">\n",
       "    <path d=\"M 518.4 378  L 518.4 51.84  \" style=\"fill:none;stroke:#000000;stroke-linecap:square;stroke-linejoin:miter;stroke-width:0.8;\"/>\n",
       "   </g>\n",
       "   <g id=\"patch_5\">\n",
       "    <path d=\"M 72 378  L 518.4 378  \" style=\"fill:none;stroke:#000000;stroke-linecap:square;stroke-linejoin:miter;stroke-width:0.8;\"/>\n",
       "   </g>\n",
       "   <g id=\"patch_6\">\n",
       "    <path d=\"M 72 51.84  L 518.4 51.84  \" style=\"fill:none;stroke:#000000;stroke-linecap:square;stroke-linejoin:miter;stroke-width:0.8;\"/>\n",
       "   </g>\n",
       "   <g id=\"text_21\">\n",
       "    <!-- Activation Functions -->\n",
       "    <defs>\n",
       "     <path d=\"M 34.1875 63.1875  L 20.796875 26.90625  L 47.609375 26.90625  z M 28.609375 72.90625  L 39.796875 72.90625  L 67.578125 0  L 57.328125 0  L 50.6875 18.703125  L 17.828125 18.703125  L 11.1875 0  L 0.78125 0  z \" id=\"DejaVuSans-41\"/>\n",
       "     <path d=\"M 48.78125 52.59375  L 48.78125 44.1875  Q 44.96875 46.296875 41.140625 47.34375  Q 37.3125 48.390625 33.40625 48.390625  Q 24.65625 48.390625 19.8125 42.84375  Q 14.984375 37.3125 14.984375 27.296875  Q 14.984375 17.28125 19.8125 11.734375  Q 24.65625 6.203125 33.40625 6.203125  Q 37.3125 6.203125 41.140625 7.25  Q 44.96875 8.296875 48.78125 10.40625  L 48.78125 2.09375  Q 45.015625 0.34375 40.984375 -0.53125  Q 36.96875 -1.421875 32.421875 -1.421875  Q 20.0625 -1.421875 12.78125 6.34375  Q 5.515625 14.109375 5.515625 27.296875  Q 5.515625 40.671875 12.859375 48.328125  Q 20.21875 56 33.015625 56  Q 37.15625 56 41.109375 55.140625  Q 45.0625 54.296875 48.78125 52.59375  z \" id=\"DejaVuSans-63\"/>\n",
       "     <path d=\"M 2.984375 54.6875  L 12.5 54.6875  L 29.59375 8.796875  L 46.6875 54.6875  L 56.203125 54.6875  L 35.6875 0  L 23.484375 0  z \" id=\"DejaVuSans-76\"/>\n",
       "     <path d=\"M 34.28125 27.484375  Q 23.390625 27.484375 19.1875 25  Q 14.984375 22.515625 14.984375 16.5  Q 14.984375 11.71875 18.140625 8.90625  Q 21.296875 6.109375 26.703125 6.109375  Q 34.1875 6.109375 38.703125 11.40625  Q 43.21875 16.703125 43.21875 25.484375  L 43.21875 27.484375  z M 52.203125 31.203125  L 52.203125 0  L 43.21875 0  L 43.21875 8.296875  Q 40.140625 3.328125 35.546875 0.953125  Q 30.953125 -1.421875 24.3125 -1.421875  Q 15.921875 -1.421875 10.953125 3.296875  Q 6 8.015625 6 15.921875  Q 6 25.140625 12.171875 29.828125  Q 18.359375 34.515625 30.609375 34.515625  L 43.21875 34.515625  L 43.21875 35.40625  Q 43.21875 41.609375 39.140625 45  Q 35.0625 48.390625 27.6875 48.390625  Q 23 48.390625 18.546875 47.265625  Q 14.109375 46.140625 10.015625 43.890625  L 10.015625 52.203125  Q 14.9375 54.109375 19.578125 55.046875  Q 24.21875 56 28.609375 56  Q 40.484375 56 46.34375 49.84375  Q 52.203125 43.703125 52.203125 31.203125  z \" id=\"DejaVuSans-61\"/>\n",
       "     <path id=\"DejaVuSans-20\"/>\n",
       "     <path d=\"M 9.8125 72.90625  L 51.703125 72.90625  L 51.703125 64.59375  L 19.671875 64.59375  L 19.671875 43.109375  L 48.578125 43.109375  L 48.578125 34.8125  L 19.671875 34.8125  L 19.671875 0  L 9.8125 0  z \" id=\"DejaVuSans-46\"/>\n",
       "     <path d=\"M 44.28125 53.078125  L 44.28125 44.578125  Q 40.484375 46.53125 36.375 47.5  Q 32.28125 48.484375 27.875 48.484375  Q 21.1875 48.484375 17.84375 46.4375  Q 14.5 44.390625 14.5 40.28125  Q 14.5 37.15625 16.890625 35.375  Q 19.28125 33.59375 26.515625 31.984375  L 29.59375 31.296875  Q 39.15625 29.25 43.1875 25.515625  Q 47.21875 21.78125 47.21875 15.09375  Q 47.21875 7.46875 41.1875 3.015625  Q 35.15625 -1.421875 24.609375 -1.421875  Q 20.21875 -1.421875 15.453125 -0.5625  Q 10.6875 0.296875 5.421875 2  L 5.421875 11.28125  Q 10.40625 8.6875 15.234375 7.390625  Q 20.0625 6.109375 24.8125 6.109375  Q 31.15625 6.109375 34.5625 8.28125  Q 37.984375 10.453125 37.984375 14.40625  Q 37.984375 18.0625 35.515625 20.015625  Q 33.0625 21.96875 24.703125 23.78125  L 21.578125 24.515625  Q 13.234375 26.265625 9.515625 29.90625  Q 5.8125 33.546875 5.8125 39.890625  Q 5.8125 47.609375 11.28125 51.796875  Q 16.75 56 26.8125 56  Q 31.78125 56 36.171875 55.265625  Q 40.578125 54.546875 44.28125 53.078125  z \" id=\"DejaVuSans-73\"/>\n",
       "    </defs>\n",
       "    <g transform=\"translate(234.181875 45.84)scale(0.12 -0.12)\">\n",
       "     <use xlink:href=\"#DejaVuSans-41\"/>\n",
       "     <use x=\"68.392578\" xlink:href=\"#DejaVuSans-63\"/>\n",
       "     <use x=\"123.373047\" xlink:href=\"#DejaVuSans-74\"/>\n",
       "     <use x=\"162.582031\" xlink:href=\"#DejaVuSans-69\"/>\n",
       "     <use x=\"190.365234\" xlink:href=\"#DejaVuSans-76\"/>\n",
       "     <use x=\"249.544922\" xlink:href=\"#DejaVuSans-61\"/>\n",
       "     <use x=\"310.824219\" xlink:href=\"#DejaVuSans-74\"/>\n",
       "     <use x=\"350.033203\" xlink:href=\"#DejaVuSans-69\"/>\n",
       "     <use x=\"377.816406\" xlink:href=\"#DejaVuSans-6f\"/>\n",
       "     <use x=\"438.998047\" xlink:href=\"#DejaVuSans-6e\"/>\n",
       "     <use x=\"502.376953\" xlink:href=\"#DejaVuSans-20\"/>\n",
       "     <use x=\"534.164062\" xlink:href=\"#DejaVuSans-46\"/>\n",
       "     <use x=\"591.605469\" xlink:href=\"#DejaVuSans-75\"/>\n",
       "     <use x=\"654.984375\" xlink:href=\"#DejaVuSans-6e\"/>\n",
       "     <use x=\"718.363281\" xlink:href=\"#DejaVuSans-63\"/>\n",
       "     <use x=\"773.34375\" xlink:href=\"#DejaVuSans-74\"/>\n",
       "     <use x=\"812.552734\" xlink:href=\"#DejaVuSans-69\"/>\n",
       "     <use x=\"840.335938\" xlink:href=\"#DejaVuSans-6f\"/>\n",
       "     <use x=\"901.517578\" xlink:href=\"#DejaVuSans-6e\"/>\n",
       "     <use x=\"964.896484\" xlink:href=\"#DejaVuSans-73\"/>\n",
       "    </g>\n",
       "   </g>\n",
       "   <g id=\"legend_1\">\n",
       "    <g id=\"patch_7\">\n",
       "     <path d=\"M 79 192.22125  L 178.245313 192.22125  Q 180.245313 192.22125 180.245313 190.22125  L 180.245313 58.84  Q 180.245313 56.84 178.245313 56.84  L 79 56.84  Q 77 56.84 77 58.84  L 77 190.22125  Q 77 192.22125 79 192.22125  z \" style=\"fill:#ffffff;opacity:0.8;stroke:#cccccc;stroke-linejoin:miter;\"/>\n",
       "    </g>\n",
       "    <g id=\"line2d_28\">\n",
       "     <path d=\"M 81 64.938437  L 101 64.938437  \" style=\"fill:none;stroke:#1f77b4;stroke-linecap:square;stroke-width:1.5;\"/>\n",
       "    </g>\n",
       "    <g id=\"line2d_29\"/>\n",
       "    <g id=\"text_22\">\n",
       "     <!-- hard_sigmoid -->\n",
       "     <defs>\n",
       "      <path d=\"M 54.890625 33.015625  L 54.890625 0  L 45.90625 0  L 45.90625 32.71875  Q 45.90625 40.484375 42.875 44.328125  Q 39.84375 48.1875 33.796875 48.1875  Q 26.515625 48.1875 22.3125 43.546875  Q 18.109375 38.921875 18.109375 30.90625  L 18.109375 0  L 9.078125 0  L 9.078125 75.984375  L 18.109375 75.984375  L 18.109375 46.1875  Q 21.34375 51.125 25.703125 53.5625  Q 30.078125 56 35.796875 56  Q 45.21875 56 50.046875 50.171875  Q 54.890625 44.34375 54.890625 33.015625  z \" id=\"DejaVuSans-68\"/>\n",
       "      <path d=\"M 41.109375 46.296875  Q 39.59375 47.171875 37.8125 47.578125  Q 36.03125 48 33.890625 48  Q 26.265625 48 22.1875 43.046875  Q 18.109375 38.09375 18.109375 28.8125  L 18.109375 0  L 9.078125 0  L 9.078125 54.6875  L 18.109375 54.6875  L 18.109375 46.1875  Q 20.953125 51.171875 25.484375 53.578125  Q 30.03125 56 36.53125 56  Q 37.453125 56 38.578125 55.875  Q 39.703125 55.765625 41.0625 55.515625  z \" id=\"DejaVuSans-72\"/>\n",
       "      <path d=\"M 45.40625 46.390625  L 45.40625 75.984375  L 54.390625 75.984375  L 54.390625 0  L 45.40625 0  L 45.40625 8.203125  Q 42.578125 3.328125 38.25 0.953125  Q 33.9375 -1.421875 27.875 -1.421875  Q 17.96875 -1.421875 11.734375 6.484375  Q 5.515625 14.40625 5.515625 27.296875  Q 5.515625 40.1875 11.734375 48.09375  Q 17.96875 56 27.875 56  Q 33.9375 56 38.25 53.625  Q 42.578125 51.265625 45.40625 46.390625  z M 14.796875 27.296875  Q 14.796875 17.390625 18.875 11.75  Q 22.953125 6.109375 30.078125 6.109375  Q 37.203125 6.109375 41.296875 11.75  Q 45.40625 17.390625 45.40625 27.296875  Q 45.40625 37.203125 41.296875 42.84375  Q 37.203125 48.484375 30.078125 48.484375  Q 22.953125 48.484375 18.875 42.84375  Q 14.796875 37.203125 14.796875 27.296875  z \" id=\"DejaVuSans-64\"/>\n",
       "      <path d=\"M 50.984375 -16.609375  L 50.984375 -23.578125  L -0.984375 -23.578125  L -0.984375 -16.609375  z \" id=\"DejaVuSans-5f\"/>\n",
       "      <path d=\"M 45.40625 27.984375  Q 45.40625 37.75 41.375 43.109375  Q 37.359375 48.484375 30.078125 48.484375  Q 22.859375 48.484375 18.828125 43.109375  Q 14.796875 37.75 14.796875 27.984375  Q 14.796875 18.265625 18.828125 12.890625  Q 22.859375 7.515625 30.078125 7.515625  Q 37.359375 7.515625 41.375 12.890625  Q 45.40625 18.265625 45.40625 27.984375  z M 54.390625 6.78125  Q 54.390625 -7.171875 48.1875 -13.984375  Q 42 -20.796875 29.203125 -20.796875  Q 24.46875 -20.796875 20.265625 -20.09375  Q 16.0625 -19.390625 12.109375 -17.921875  L 12.109375 -9.1875  Q 16.0625 -11.328125 19.921875 -12.34375  Q 23.78125 -13.375 27.78125 -13.375  Q 36.625 -13.375 41.015625 -8.765625  Q 45.40625 -4.15625 45.40625 5.171875  L 45.40625 9.625  Q 42.625 4.78125 38.28125 2.390625  Q 33.9375 0 27.875 0  Q 17.828125 0 11.671875 7.65625  Q 5.515625 15.328125 5.515625 27.984375  Q 5.515625 40.671875 11.671875 48.328125  Q 17.828125 56 27.875 56  Q 33.9375 56 38.28125 53.609375  Q 42.625 51.21875 45.40625 46.390625  L 45.40625 54.6875  L 54.390625 54.6875  z \" id=\"DejaVuSans-67\"/>\n",
       "      <path d=\"M 52 44.1875  Q 55.375 50.25 60.0625 53.125  Q 64.75 56 71.09375 56  Q 79.640625 56 84.28125 50.015625  Q 88.921875 44.046875 88.921875 33.015625  L 88.921875 0  L 79.890625 0  L 79.890625 32.71875  Q 79.890625 40.578125 77.09375 44.375  Q 74.3125 48.1875 68.609375 48.1875  Q 61.625 48.1875 57.5625 43.546875  Q 53.515625 38.921875 53.515625 30.90625  L 53.515625 0  L 44.484375 0  L 44.484375 32.71875  Q 44.484375 40.625 41.703125 44.40625  Q 38.921875 48.1875 33.109375 48.1875  Q 26.21875 48.1875 22.15625 43.53125  Q 18.109375 38.875 18.109375 30.90625  L 18.109375 0  L 9.078125 0  L 9.078125 54.6875  L 18.109375 54.6875  L 18.109375 46.1875  Q 21.1875 51.21875 25.484375 53.609375  Q 29.78125 56 35.6875 56  Q 41.65625 56 45.828125 52.96875  Q 50 49.953125 52 44.1875  z \" id=\"DejaVuSans-6d\"/>\n",
       "     </defs>\n",
       "     <g transform=\"translate(109 68.438437)scale(0.1 -0.1)\">\n",
       "      <use xlink:href=\"#DejaVuSans-68\"/>\n",
       "      <use x=\"63.378906\" xlink:href=\"#DejaVuSans-61\"/>\n",
       "      <use x=\"124.658203\" xlink:href=\"#DejaVuSans-72\"/>\n",
       "      <use x=\"165.755859\" xlink:href=\"#DejaVuSans-64\"/>\n",
       "      <use x=\"229.232422\" xlink:href=\"#DejaVuSans-5f\"/>\n",
       "      <use x=\"279.232422\" xlink:href=\"#DejaVuSans-73\"/>\n",
       "      <use x=\"331.332031\" xlink:href=\"#DejaVuSans-69\"/>\n",
       "      <use x=\"359.115234\" xlink:href=\"#DejaVuSans-67\"/>\n",
       "      <use x=\"422.591797\" xlink:href=\"#DejaVuSans-6d\"/>\n",
       "      <use x=\"520.003906\" xlink:href=\"#DejaVuSans-6f\"/>\n",
       "      <use x=\"581.185547\" xlink:href=\"#DejaVuSans-69\"/>\n",
       "      <use x=\"608.96875\" xlink:href=\"#DejaVuSans-64\"/>\n",
       "     </g>\n",
       "    </g>\n",
       "    <g id=\"line2d_30\">\n",
       "     <path d=\"M 81 79.894687  L 101 79.894687  \" style=\"fill:none;stroke:#ff7f0e;stroke-linecap:square;stroke-width:1.5;\"/>\n",
       "    </g>\n",
       "    <g id=\"line2d_31\"/>\n",
       "    <g id=\"text_23\">\n",
       "     <!-- sigmoid -->\n",
       "     <g transform=\"translate(109 83.394687)scale(0.1 -0.1)\">\n",
       "      <use xlink:href=\"#DejaVuSans-73\"/>\n",
       "      <use x=\"52.099609\" xlink:href=\"#DejaVuSans-69\"/>\n",
       "      <use x=\"79.882812\" xlink:href=\"#DejaVuSans-67\"/>\n",
       "      <use x=\"143.359375\" xlink:href=\"#DejaVuSans-6d\"/>\n",
       "      <use x=\"240.771484\" xlink:href=\"#DejaVuSans-6f\"/>\n",
       "      <use x=\"301.953125\" xlink:href=\"#DejaVuSans-69\"/>\n",
       "      <use x=\"329.736328\" xlink:href=\"#DejaVuSans-64\"/>\n",
       "     </g>\n",
       "    </g>\n",
       "    <g id=\"line2d_32\">\n",
       "     <path d=\"M 81 94.572812  L 101 94.572812  \" style=\"fill:none;stroke:#2ca02c;stroke-linecap:square;stroke-width:1.5;\"/>\n",
       "    </g>\n",
       "    <g id=\"line2d_33\"/>\n",
       "    <g id=\"text_24\">\n",
       "     <!-- tanh -->\n",
       "     <g transform=\"translate(109 98.072812)scale(0.1 -0.1)\">\n",
       "      <use xlink:href=\"#DejaVuSans-74\"/>\n",
       "      <use x=\"39.208984\" xlink:href=\"#DejaVuSans-61\"/>\n",
       "      <use x=\"100.488281\" xlink:href=\"#DejaVuSans-6e\"/>\n",
       "      <use x=\"163.867188\" xlink:href=\"#DejaVuSans-68\"/>\n",
       "     </g>\n",
       "    </g>\n",
       "    <g id=\"line2d_34\">\n",
       "     <path d=\"M 81 109.250937  L 101 109.250937  \" style=\"fill:none;stroke:#d62728;stroke-linecap:square;stroke-width:1.5;\"/>\n",
       "    </g>\n",
       "    <g id=\"line2d_35\"/>\n",
       "    <g id=\"text_25\">\n",
       "     <!-- relu -->\n",
       "     <defs>\n",
       "      <path d=\"M 56.203125 29.59375  L 56.203125 25.203125  L 14.890625 25.203125  Q 15.484375 15.921875 20.484375 11.0625  Q 25.484375 6.203125 34.421875 6.203125  Q 39.59375 6.203125 44.453125 7.46875  Q 49.3125 8.734375 54.109375 11.28125  L 54.109375 2.78125  Q 49.265625 0.734375 44.1875 -0.34375  Q 39.109375 -1.421875 33.890625 -1.421875  Q 20.796875 -1.421875 13.15625 6.1875  Q 5.515625 13.8125 5.515625 26.8125  Q 5.515625 40.234375 12.765625 48.109375  Q 20.015625 56 32.328125 56  Q 43.359375 56 49.78125 48.890625  Q 56.203125 41.796875 56.203125 29.59375  z M 47.21875 32.234375  Q 47.125 39.59375 43.09375 43.984375  Q 39.0625 48.390625 32.421875 48.390625  Q 24.90625 48.390625 20.390625 44.140625  Q 15.875 39.890625 15.1875 32.171875  z \" id=\"DejaVuSans-65\"/>\n",
       "      <path d=\"M 9.421875 75.984375  L 18.40625 75.984375  L 18.40625 0  L 9.421875 0  z \" id=\"DejaVuSans-6c\"/>\n",
       "     </defs>\n",
       "     <g transform=\"translate(109 112.750937)scale(0.1 -0.1)\">\n",
       "      <use xlink:href=\"#DejaVuSans-72\"/>\n",
       "      <use x=\"41.082031\" xlink:href=\"#DejaVuSans-65\"/>\n",
       "      <use x=\"102.605469\" xlink:href=\"#DejaVuSans-6c\"/>\n",
       "      <use x=\"130.388672\" xlink:href=\"#DejaVuSans-75\"/>\n",
       "     </g>\n",
       "    </g>\n",
       "    <g id=\"line2d_36\">\n",
       "     <path d=\"M 81 123.929062  L 101 123.929062  \" style=\"fill:none;stroke:#9467bd;stroke-linecap:square;stroke-width:1.5;\"/>\n",
       "    </g>\n",
       "    <g id=\"line2d_37\"/>\n",
       "    <g id=\"text_26\">\n",
       "     <!-- softsign -->\n",
       "     <defs>\n",
       "      <path d=\"M 37.109375 75.984375  L 37.109375 68.5  L 28.515625 68.5  Q 23.6875 68.5 21.796875 66.546875  Q 19.921875 64.59375 19.921875 59.515625  L 19.921875 54.6875  L 34.71875 54.6875  L 34.71875 47.703125  L 19.921875 47.703125  L 19.921875 0  L 10.890625 0  L 10.890625 47.703125  L 2.296875 47.703125  L 2.296875 54.6875  L 10.890625 54.6875  L 10.890625 58.5  Q 10.890625 67.625 15.140625 71.796875  Q 19.390625 75.984375 28.609375 75.984375  z \" id=\"DejaVuSans-66\"/>\n",
       "     </defs>\n",
       "     <g transform=\"translate(109 127.429062)scale(0.1 -0.1)\">\n",
       "      <use xlink:href=\"#DejaVuSans-73\"/>\n",
       "      <use x=\"52.099609\" xlink:href=\"#DejaVuSans-6f\"/>\n",
       "      <use x=\"113.28125\" xlink:href=\"#DejaVuSans-66\"/>\n",
       "      <use x=\"148.470703\" xlink:href=\"#DejaVuSans-74\"/>\n",
       "      <use x=\"187.679688\" xlink:href=\"#DejaVuSans-73\"/>\n",
       "      <use x=\"239.779297\" xlink:href=\"#DejaVuSans-69\"/>\n",
       "      <use x=\"267.5625\" xlink:href=\"#DejaVuSans-67\"/>\n",
       "      <use x=\"331.039062\" xlink:href=\"#DejaVuSans-6e\"/>\n",
       "     </g>\n",
       "    </g>\n",
       "    <g id=\"line2d_38\">\n",
       "     <path d=\"M 81 138.607187  L 101 138.607187  \" style=\"fill:none;stroke:#8c564b;stroke-linecap:square;stroke-width:1.5;\"/>\n",
       "    </g>\n",
       "    <g id=\"line2d_39\"/>\n",
       "    <g id=\"text_27\">\n",
       "     <!-- softplus -->\n",
       "     <g transform=\"translate(109 142.107187)scale(0.1 -0.1)\">\n",
       "      <use xlink:href=\"#DejaVuSans-73\"/>\n",
       "      <use x=\"52.099609\" xlink:href=\"#DejaVuSans-6f\"/>\n",
       "      <use x=\"113.28125\" xlink:href=\"#DejaVuSans-66\"/>\n",
       "      <use x=\"148.470703\" xlink:href=\"#DejaVuSans-74\"/>\n",
       "      <use x=\"187.679688\" xlink:href=\"#DejaVuSans-70\"/>\n",
       "      <use x=\"251.15625\" xlink:href=\"#DejaVuSans-6c\"/>\n",
       "      <use x=\"278.939453\" xlink:href=\"#DejaVuSans-75\"/>\n",
       "      <use x=\"342.318359\" xlink:href=\"#DejaVuSans-73\"/>\n",
       "     </g>\n",
       "    </g>\n",
       "    <g id=\"line2d_40\">\n",
       "     <path d=\"M 81 153.285312  L 101 153.285312  \" style=\"fill:none;stroke:#e377c2;stroke-linecap:square;stroke-width:1.5;\"/>\n",
       "    </g>\n",
       "    <g id=\"line2d_41\"/>\n",
       "    <g id=\"text_28\">\n",
       "     <!-- elu -->\n",
       "     <g transform=\"translate(109 156.785312)scale(0.1 -0.1)\">\n",
       "      <use xlink:href=\"#DejaVuSans-65\"/>\n",
       "      <use x=\"61.523438\" xlink:href=\"#DejaVuSans-6c\"/>\n",
       "      <use x=\"89.306641\" xlink:href=\"#DejaVuSans-75\"/>\n",
       "     </g>\n",
       "    </g>\n",
       "    <g id=\"line2d_42\">\n",
       "     <path d=\"M 81 167.963437  L 101 167.963437  \" style=\"fill:none;stroke:#7f7f7f;stroke-linecap:square;stroke-width:1.5;\"/>\n",
       "    </g>\n",
       "    <g id=\"line2d_43\"/>\n",
       "    <g id=\"text_29\">\n",
       "     <!-- selu -->\n",
       "     <g transform=\"translate(109 171.463437)scale(0.1 -0.1)\">\n",
       "      <use xlink:href=\"#DejaVuSans-73\"/>\n",
       "      <use x=\"52.099609\" xlink:href=\"#DejaVuSans-65\"/>\n",
       "      <use x=\"113.623047\" xlink:href=\"#DejaVuSans-6c\"/>\n",
       "      <use x=\"141.40625\" xlink:href=\"#DejaVuSans-75\"/>\n",
       "     </g>\n",
       "    </g>\n",
       "    <g id=\"line2d_44\">\n",
       "     <path d=\"M 81 182.641562  L 101 182.641562  \" style=\"fill:none;stroke:#bcbd22;stroke-linecap:square;stroke-width:1.5;\"/>\n",
       "    </g>\n",
       "    <g id=\"line2d_45\"/>\n",
       "    <g id=\"text_30\">\n",
       "     <!-- linear -->\n",
       "     <g transform=\"translate(109 186.141562)scale(0.1 -0.1)\">\n",
       "      <use xlink:href=\"#DejaVuSans-6c\"/>\n",
       "      <use x=\"27.783203\" xlink:href=\"#DejaVuSans-69\"/>\n",
       "      <use x=\"55.566406\" xlink:href=\"#DejaVuSans-6e\"/>\n",
       "      <use x=\"118.945312\" xlink:href=\"#DejaVuSans-65\"/>\n",
       "      <use x=\"180.46875\" xlink:href=\"#DejaVuSans-61\"/>\n",
       "      <use x=\"241.748047\" xlink:href=\"#DejaVuSans-72\"/>\n",
       "     </g>\n",
       "    </g>\n",
       "   </g>\n",
       "  </g>\n",
       " </g>\n",
       " <defs>\n",
       "  <clipPath id=\"p386362bc70\">\n",
       "   <rect height=\"326.16\" width=\"446.4\" x=\"72\" y=\"51.84\"/>\n",
       "  </clipPath>\n",
       " </defs>\n",
       "</svg>"
      ],
      "text/plain": [
       "<IPython.core.display.SVG object>"
      ]
     },
     "execution_count": 41,
     "metadata": {},
     "output_type": "execute_result"
    }
   ],
   "source": [
    "cx.plot(list(lines.items()), xs=float_range, symbols=symbols, height=6.0, width=8.0, \n",
    "        title=\"Activation Functions\", xlabel=\"input\", ylabel=\"output\")"
   ]
  },
  {
   "cell_type": "markdown",
   "metadata": {},
   "source": [
    "See also the advanced activation functions:\n",
    "\n",
    "https://keras.io/layers/advanced-activations/"
   ]
  }
 ],
 "metadata": {
  "kernelspec": {
   "display_name": "Python 3",
   "language": "python",
   "name": "python3"
  },
  "language_info": {
   "codemirror_mode": {
    "name": "ipython",
    "version": 3
   },
   "file_extension": ".py",
   "mimetype": "text/x-python",
   "name": "python",
   "nbconvert_exporter": "python",
   "pygments_lexer": "ipython3",
   "version": "3.6.5"
  },
  "widgets": {
   "application/vnd.jupyter.widget-state+json": {
    "state": {},
    "version_major": 2,
    "version_minor": 0
   }
  }
 },
 "nbformat": 4,
 "nbformat_minor": 2
}
