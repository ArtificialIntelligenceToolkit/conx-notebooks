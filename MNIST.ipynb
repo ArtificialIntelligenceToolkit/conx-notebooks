{
 "cells": [
  {
   "cell_type": "markdown",
   "metadata": {},
   "source": [
    "# The MNIST Dataset\n",
    "\n",
    "In this notebook, we will create a neural network to recognize handwritten digits from the famous MNIST dataset.\n",
    "\n",
    "We will experiment with two different networks for this task. The first one will be a *multi-layer perceptron* (MLP), which is a standard type of feedforward neural network with fully-connected layers of weights, and the second will be a *convolutional neural network* (CNN), which takes advantage of the inherently two-dimensional spatial geometry of the input images.\n",
    "\n",
    "Let's begin by reading in the MNIST dataset and printing a short description of its contents."
   ]
  },
  {
   "cell_type": "code",
   "execution_count": 1,
   "metadata": {},
   "outputs": [
    {
     "name": "stderr",
     "output_type": "stream",
     "text": [
      "Using TensorFlow backend.\n",
      "ConX, version 3.7.4\n"
     ]
    }
   ],
   "source": [
    "import conx as cx"
   ]
  },
  {
   "cell_type": "code",
   "execution_count": 2,
   "metadata": {},
   "outputs": [
    {
     "data": {
      "text/markdown": [
       "**Dataset**: MNIST\n",
       "\n",
       "\n",
       "Original source: http://yann.lecun.com/exdb/mnist/\n",
       "\n",
       "The MNIST dataset contains 70,000 images of handwritten digits (zero\n",
       "to nine) that have been size-normalized and centered in a square grid\n",
       "of pixels.  Each image is a 28 × 28 × 1 array of floating-point numbers\n",
       "representing grayscale intensities ranging from 0 (black) to 1\n",
       "(white).  The target data consists of one-hot binary vectors of size\n",
       "10, corresponding to the digit classification categories zero through\n",
       "nine.  Some example MNIST images are shown below:\n",
       "\n",
       "![MNIST Images](https://github.com/Calysto/conx/raw/master/data/mnist_images.png)\n",
       "\n",
       "**Information**:\n",
       "   * name    : MNIST\n",
       "   * length  : 70000\n",
       "\n",
       "**Input Summary**:\n",
       "   * shape  : (28, 28, 1)\n",
       "   * range  : (0.0, 1.0)\n",
       "\n",
       "**Target Summary**:\n",
       "   * shape  : (10,)\n",
       "   * range  : (0.0, 1.0)\n",
       "\n"
      ],
      "text/plain": [
       "**Dataset**: MNIST\n",
       "\n",
       "\n",
       "Original source: http://yann.lecun.com/exdb/mnist/\n",
       "\n",
       "The MNIST dataset contains 70,000 images of handwritten digits (zero\n",
       "to nine) that have been size-normalized and centered in a square grid\n",
       "of pixels.  Each image is a 28 × 28 × 1 array of floating-point numbers\n",
       "representing grayscale intensities ranging from 0 (black) to 1\n",
       "(white).  The target data consists of one-hot binary vectors of size\n",
       "10, corresponding to the digit classification categories zero through\n",
       "nine.  Some example MNIST images are shown below:\n",
       "\n",
       "![MNIST Images](https://github.com/Calysto/conx/raw/master/data/mnist_images.png)\n",
       "\n",
       "**Information**:\n",
       "   * name    : MNIST\n",
       "   * length  : 70000\n",
       "\n",
       "**Input Summary**:\n",
       "   * shape  : (28, 28, 1)\n",
       "   * range  : (0.0, 1.0)\n",
       "\n",
       "**Target Summary**:\n",
       "   * shape  : (10,)\n",
       "   * range  : (0.0, 1.0)\n"
      ]
     },
     "metadata": {},
     "output_type": "display_data"
    }
   ],
   "source": [
    "mnist = cx.Dataset.get('mnist')\n",
    "mnist.info()"
   ]
  },
  {
   "cell_type": "markdown",
   "metadata": {},
   "source": [
    "We can also print a shorter, less detailed summary:"
   ]
  },
  {
   "cell_type": "code",
   "execution_count": 3,
   "metadata": {},
   "outputs": [
    {
     "name": "stdout",
     "output_type": "stream",
     "text": [
      "_________________________________________________________________\n",
      "MNIST:\n",
      "Patterns    Shape                 Range                         \n",
      "=================================================================\n",
      "inputs      (28, 28, 1)           (0.0, 1.0)                    \n",
      "targets     (10,)                 (0.0, 1.0)                    \n",
      "=================================================================\n",
      "Total patterns: 70000\n",
      "   Training patterns: 70000\n",
      "   Testing patterns: 0\n",
      "_________________________________________________________________\n"
     ]
    }
   ],
   "source": [
    "mnist.summary()"
   ]
  },
  {
   "cell_type": "markdown",
   "metadata": {},
   "source": [
    "Now let's take a look at some input patterns. Typing ``mnist.inputs[0]`` returns a large nested list of numbers, which isn't a particularly useful way to view a pattern.  A better way is to use ConX's ``view`` function:"
   ]
  },
  {
   "cell_type": "code",
   "execution_count": 4,
   "metadata": {},
   "outputs": [
    {
     "data": {
      "image/png": "[encoded data removed]",
      "text/plain": [
       "<Figure size 432x288 with 1 Axes>"
      ]
     },
     "metadata": {},
     "output_type": "display_data"
    }
   ],
   "source": [
    "cx.view(mnist.inputs[0])"
   ]
  },
  {
   "cell_type": "markdown",
   "metadata": {},
   "source": [
    "It's easy to view multiple patterns at once using Python's slice operator in conjunction with the ``layout`` keyword:"
   ]
  },
  {
   "cell_type": "code",
   "execution_count": 5,
   "metadata": {},
   "outputs": [
    {
     "data": {
      "image/png": "[encoded data removed]",
      "text/plain": [
       "<Figure size 720x144 with 20 Axes>"
      ]
     },
     "metadata": {},
     "output_type": "display_data"
    }
   ],
   "source": [
    "cx.view(mnist.inputs[0:20], layout=(2,10))"
   ]
  },
  {
   "cell_type": "markdown",
   "metadata": {},
   "source": [
    "ConX allows us to refer to multiple input patterns using arbitrary indices:"
   ]
  },
  {
   "cell_type": "code",
   "execution_count": 6,
   "metadata": {},
   "outputs": [
    {
     "data": {
      "image/png": "[encoded data removed]",
      "text/plain": [
       "<Figure size 216x216 with 9 Axes>"
      ]
     },
     "metadata": {},
     "output_type": "display_data"
    }
   ],
   "source": [
    "cx.view(mnist.inputs[0, 2, 4, 77, 150, 88, 9000])"
   ]
  },
  {
   "cell_type": "markdown",
   "metadata": {},
   "source": [
    "Viewing the target patterns works in a similar way:"
   ]
  },
  {
   "cell_type": "code",
   "execution_count": 7,
   "metadata": {},
   "outputs": [
    {
     "data": {
      "text/plain": [
       "[0.0, 0.0, 0.0, 0.0, 0.0, 1.0, 0.0, 0.0, 0.0, 0.0]"
      ]
     },
     "execution_count": 7,
     "metadata": {},
     "output_type": "execute_result"
    }
   ],
   "source": [
    "mnist.targets[0]"
   ]
  },
  {
   "cell_type": "code",
   "execution_count": 8,
   "metadata": {},
   "outputs": [
    {
     "data": {
      "image/png": "[encoded data removed]",
      "text/plain": [
       "<Figure size 432x288 with 1 Axes>"
      ]
     },
     "metadata": {},
     "output_type": "display_data"
    }
   ],
   "source": [
    "cx.view(mnist.targets[0])"
   ]
  },
  {
   "cell_type": "code",
   "execution_count": 9,
   "metadata": {},
   "outputs": [
    {
     "data": {
      "text/plain": [
       "[[0.0, 0.0, 0.0, 0.0, 0.0, 1.0, 0.0, 0.0, 0.0, 0.0],\n",
       " [1.0, 0.0, 0.0, 0.0, 0.0, 0.0, 0.0, 0.0, 0.0, 0.0],\n",
       " [0.0, 0.0, 0.0, 0.0, 1.0, 0.0, 0.0, 0.0, 0.0, 0.0],\n",
       " [0.0, 1.0, 0.0, 0.0, 0.0, 0.0, 0.0, 0.0, 0.0, 0.0],\n",
       " [0.0, 0.0, 0.0, 0.0, 0.0, 0.0, 0.0, 0.0, 0.0, 1.0]]"
      ]
     },
     "execution_count": 9,
     "metadata": {},
     "output_type": "execute_result"
    }
   ],
   "source": [
    "mnist.targets[0:5]"
   ]
  },
  {
   "cell_type": "markdown",
   "metadata": {},
   "source": [
    "In addition to ``inputs`` and ``targets``, each dataset has a ``labels`` property that stores a collection of strings describing the classification category of each input:"
   ]
  },
  {
   "cell_type": "code",
   "execution_count": 10,
   "metadata": {},
   "outputs": [
    {
     "data": {
      "image/png": "[encoded data removed]",
      "text/plain": [
       "<Figure size 216x144 with 6 Axes>"
      ]
     },
     "metadata": {},
     "output_type": "display_data"
    },
    {
     "name": "stdout",
     "output_type": "stream",
     "text": [
      "['5', '0', '4', '1', '9']\n"
     ]
    }
   ],
   "source": [
    "cx.view(mnist.inputs[0:5])\n",
    "print(mnist.labels[0:5])"
   ]
  },
  {
   "cell_type": "markdown",
   "metadata": {},
   "source": [
    "The ``labels`` property is useful for selecting particular input patterns. For example, to view just the \"two\"'s in the dataset, we can first create a list containing the index numbers of all of the \"two\"'s, and then view the first twenty, like this:"
   ]
  },
  {
   "cell_type": "code",
   "execution_count": 11,
   "metadata": {},
   "outputs": [
    {
     "name": "stdout",
     "output_type": "stream",
     "text": [
      "Found 6990 twos\n",
      "[5, 16, 25, 28, 76, 82, 109, 117, 120, 122, 143, 159, 161, 171, 178, 180, 187, 189, 190, 199]\n"
     ]
    }
   ],
   "source": [
    "indices = [i for i in range(len(mnist.inputs)) if mnist.labels[i] == '2']\n",
    "print('Found', len(indices), 'twos')\n",
    "print(indices[:20])"
   ]
  },
  {
   "cell_type": "code",
   "execution_count": 12,
   "metadata": {},
   "outputs": [
    {
     "data": {
      "image/png": "[encoded data removed]",
      "text/plain": [
       "<Figure size 720x144 with 20 Axes>"
      ]
     },
     "metadata": {},
     "output_type": "display_data"
    }
   ],
   "source": [
    "cx.view(mnist.inputs[indices[:20]], layout=(2,10))"
   ]
  },
  {
   "cell_type": "markdown",
   "metadata": {},
   "source": [
    "We can accomplish the same thing more directly (and efficiently) using the `select` method, together with the `slice` keyword:"
   ]
  },
  {
   "cell_type": "code",
   "execution_count": 13,
   "metadata": {},
   "outputs": [
    {
     "data": {
      "image/png": "[encoded data removed]",
      "text/plain": [
       "<Figure size 720x144 with 20 Axes>"
      ]
     },
     "metadata": {},
     "output_type": "display_data"
    }
   ],
   "source": [
    "digits = mnist.inputs.select(lambda i,ds: ds.labels[i] == '2', slice=20)\n",
    "cx.view(digits, layout=(2,10))"
   ]
  },
  {
   "cell_type": "markdown",
   "metadata": {},
   "source": [
    " Let's randomly shuffle the dataset before we train the network:"
   ]
  },
  {
   "cell_type": "code",
   "execution_count": 14,
   "metadata": {},
   "outputs": [
    {
     "data": {
      "image/png": "[encoded data removed]",
      "text/plain": [
       "<Figure size 288x216 with 12 Axes>"
      ]
     },
     "metadata": {},
     "output_type": "display_data"
    }
   ],
   "source": [
    "mnist.shuffle()\n",
    "cx.view(mnist.inputs[0:10])"
   ]
  },
  {
   "cell_type": "markdown",
   "metadata": {},
   "source": [
    "When training a neural network, it is usually best to divide the dataset into two subsets: the *training* set and the *testing* (or *validation*) set.  We train the network on the training patterns only, and test its performance on the validation set to see how well it handles novel patterns.  Calling ``split()`` returns a tuple containing the current sizes of the training and testing sets, respectively:"
   ]
  },
  {
   "cell_type": "code",
   "execution_count": 15,
   "metadata": {},
   "outputs": [
    {
     "data": {
      "text/plain": [
       "(70000, 0)"
      ]
     },
     "execution_count": 15,
     "metadata": {},
     "output_type": "execute_result"
    }
   ],
   "source": [
    "mnist.split()"
   ]
  },
  {
   "cell_type": "markdown",
   "metadata": {},
   "source": [
    "We now split the data into 60,000 training patterns and 10,000 testing patterns, and then verify the split:"
   ]
  },
  {
   "cell_type": "code",
   "execution_count": 16,
   "metadata": {},
   "outputs": [
    {
     "data": {
      "text/plain": [
       "(60000, 10000)"
      ]
     },
     "execution_count": 16,
     "metadata": {},
     "output_type": "execute_result"
    }
   ],
   "source": [
    "mnist.split(10000)\n",
    "mnist.split()"
   ]
  },
  {
   "cell_type": "markdown",
   "metadata": {},
   "source": [
    "The last 10,000 patterns in the dataset are now reserved for testing.  As a convenience, we can refer to the training and testing sets independently, counting from 0, via the properties ``train_inputs``, ``train_targets``, ``train_labels``, and ``test_inputs``, ``test_targets``, and ``test_labels``.  The properties `inputs`, `targets`, and `labels` refer to all 70,000 input images, regardless of the current split.  For example:"
   ]
  },
  {
   "cell_type": "code",
   "execution_count": 17,
   "metadata": {},
   "outputs": [
    {
     "name": "stdout",
     "output_type": "stream",
     "text": [
      "70000 total images\n",
      "60000 images for training\n",
      "10000 images for testing\n"
     ]
    }
   ],
   "source": [
    "print(len(mnist.inputs), 'total images')\n",
    "print(len(mnist.train_inputs), 'images for training')\n",
    "print(len(mnist.test_inputs), 'images for testing')"
   ]
  },
  {
   "cell_type": "code",
   "execution_count": 18,
   "metadata": {},
   "outputs": [
    {
     "data": {
      "image/png": "[encoded data removed]",
      "text/plain": [
       "<Figure size 288x216 with 12 Axes>"
      ]
     },
     "metadata": {},
     "output_type": "display_data"
    },
    {
     "name": "stdout",
     "output_type": "stream",
     "text": [
      "['0', '7', '9', '3', '5', '0', '7', '4', '8', '3']\n"
     ]
    },
    {
     "data": {
      "image/png": "[encoded data removed]",
      "text/plain": [
       "<Figure size 288x216 with 12 Axes>"
      ]
     },
     "metadata": {},
     "output_type": "display_data"
    },
    {
     "name": "stdout",
     "output_type": "stream",
     "text": [
      "['0', '7', '9', '3', '5', '0', '7', '4', '8', '3']\n"
     ]
    }
   ],
   "source": [
    "cx.view(mnist.inputs[0:10])\n",
    "print(mnist.labels[0:10])\n",
    "cx.view(mnist.train_inputs[0:10])  # same as inputs[0:10]\n",
    "print(mnist.train_labels[0:10])    # same as labels[0:10]"
   ]
  },
  {
   "cell_type": "code",
   "execution_count": 19,
   "metadata": {},
   "outputs": [
    {
     "data": {
      "image/png": "[encoded data removed]",
      "text/plain": [
       "<Figure size 288x216 with 12 Axes>"
      ]
     },
     "metadata": {},
     "output_type": "display_data"
    },
    {
     "name": "stdout",
     "output_type": "stream",
     "text": [
      "['0', '6', '2', '1', '3', '4', '2', '4', '4', '7']\n"
     ]
    },
    {
     "data": {
      "image/png": "[encoded data removed]",
      "text/plain": [
       "<Figure size 288x216 with 12 Axes>"
      ]
     },
     "metadata": {},
     "output_type": "display_data"
    },
    {
     "name": "stdout",
     "output_type": "stream",
     "text": [
      "['0', '6', '2', '1', '3', '4', '2', '4', '4', '7']\n"
     ]
    }
   ],
   "source": [
    "cx.view(mnist.inputs[60000:60010])\n",
    "print(mnist.labels[60000:60010])\n",
    "cx.view(mnist.test_inputs[0:10])   # same as inputs[60000:60010]\n",
    "print(mnist.test_labels[0:10])     # same as labels[60000:60010]"
   ]
  },
  {
   "cell_type": "markdown",
   "metadata": {},
   "source": [
    "The MNIST digits are grayscale images, with each pixel represented as a single intensity value in the range 0 (black) to 1 (white). You can think of the whole image as consisting of 784 numbers arranged in a plane of 28 rows and 28 columns. For color (RGB) images, however, each pixel consists of three numbers (one for Red intensity, one for Green, and one for Blue). Therefore color images are represented as arrays of shape *rows* &times; *columns* &times; 3, where the 3 indicates the *depth* of the image. For consistency, the grayscale MNIST images are treated as images of depth 1, with shape *rows* &times; *columns* &times; 1. We can verify this by calling `cx.shape` on input image #0:"
   ]
  },
  {
   "cell_type": "code",
   "execution_count": 20,
   "metadata": {},
   "outputs": [
    {
     "data": {
      "text/plain": [
       "(28, 28, 1)"
      ]
     },
     "execution_count": 20,
     "metadata": {},
     "output_type": "execute_result"
    }
   ],
   "source": [
    "cx.shape(mnist.inputs[0])"
   ]
  },
  {
   "cell_type": "markdown",
   "metadata": {},
   "source": [
    "## A multi-layer perceptron network for MNIST classification\n",
    "\n",
    "Now we are ready to build a basic feedforward neural network to learn the MNIST data.  We will create a network with an input layer of shape 28 &times; 28 &times; 1, to match the shape of the input patterns, followed by two hidden layers of 30 units each, and an output classification layer.  However, in order to feed a 2-dimensional input image into the hidden layers, we must first \"flatten\" it into a linear vector of size 784 using a special ``FlattenLayer``.  Our output layer will have 10 units, one for each digit classification (\"zero\" to \"nine\"), and will use the *softmax* activation function.  A softmax layer outputs a *probability distribution*, which means that each of the numbers can be interpreted as a probability (in the range 0-1) representing the likelihood that the input pattern is an example of the corresponding classification category.  Here is a schematic picture of our network:\n",
    "\n",
    "<p><img src=\"mnist_mlp_picture.png\" width=\"50%\"></p>\n",
    "\n",
    "To build this network in ConX, we first create a ``Network`` object, giving it the arbitrary name \"MNIST_MLP\", then add each ``Layer`` in order.  Finally, we create the connections between layers using the single command ``connect()``."
   ]
  },
  {
   "cell_type": "code",
   "execution_count": 21,
   "metadata": {},
   "outputs": [],
   "source": [
    "net = cx.Network('MNIST_MLP')\n",
    "\n",
    "net.add(cx.Layer('input', (28,28,1)))\n",
    "net.add(cx.FlattenLayer('flat_input'))\n",
    "net.add(cx.Layer('hidden1', 30, activation='relu'))\n",
    "net.add(cx.Layer('hidden2', 30, activation='relu'))\n",
    "net.add(cx.Layer('output', 10, activation='softmax'))\n",
    "\n",
    "# creates connections between layers in the order they were added\n",
    "net.connect()"
   ]
  },
  {
   "cell_type": "code",
   "execution_count": 22,
   "metadata": {},
   "outputs": [
    {
     "name": "stderr",
     "output_type": "stream",
     "text": [
      "WARNING: network is uncompiled; activations cannot be visualized\n"
     ]
    },
    {
     "data": {
      "text/html": [
       "<svg id='MNIST_MLP' xmlns='http://www.w3.org/2000/svg' xmlns:xlink='http://www.w3.org/1999/xlink' image-rendering=\"pixelated\" width=\"245.6140350877193px\" height=\"400.0px\">\n",
       " <g >\n",
       "  <svg viewBox=\"0 0 350 570\" width=\"245.6140350877193px\" height=\"400.0px\">\n",
       "    <defs>\n",
       "        <marker id=\"arrow\" markerWidth=\"10\" markerHeight=\"10\" refX=\"9\" refY=\"3\" orient=\"auto\" markerUnits=\"strokeWidth\">\n",
       "          <path d=\"M0,0 L0,6 L9,3 z\" fill=\"black\" />\n",
       "        </marker>\n",
       "    </defs><rect x=\"74.0\" y=\"24\" width=\"202\" height=\"52\" style=\"fill:none;stroke:red;stroke-width:4\"/><image id=\"picture-static-MNIST_MLP-994319_output_1\" class=\"picture-static-MNIST_MLP-994319_output\" x=\"75.0\" y=\"25\" height=\"50\" width=\"200\" preserveAspectRatio=\"none\" image-rendering=\"optimizeSpeed\" xlink:href=\"data:image/gif;base64,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\"><title>Layer: output (output)\n",
       " output range: (-1.0, 1.0)\n",
       " shape = (10,)\n",
       " Keras class = Dense\n",
       " activation = softmax</title></image><text x=\"280.0\" y=\"52.0\" font-family=\"monospace\" font-size=\"12\" text-anchor=\"start\" fill=\"black\" alignment-baseline=\"central\" >output</text><path d=\"M 175.0 104 L 175.0 77 \" stroke=\"black\" stroke-width=\"2\" marker-end=\"url(#arrow)\" fill=\"none\" /><rect x=\"74.0\" y=\"104\" width=\"202\" height=\"52\" style=\"fill:none;stroke:red;stroke-width:4\"/><image id=\"picture-static-MNIST_MLP-994319_hidden2_2\" class=\"picture-static-MNIST_MLP-994319_hidden2\" x=\"75.0\" y=\"105\" height=\"50\" width=\"200\" preserveAspectRatio=\"none\" image-rendering=\"optimizeSpeed\" xlink:href=\"data:image/gif;base64,R0lGODdhHgABAIcAAP/9/QAAAAAAAAAAAAAAAAAAAAAAAAAAAAAAAAAAAAAAAAAAAAAAAAAAAAAAAAAAAAAAAAAAAAAAAAAAAAAAAAAAAAAAAAAAAAAAAAAAAAAAAAAAAAAAAAAAAAAAAAAAAAAAAAAAAAAAAAAAAAAAAAAAAAAAAAAAAAAAAAAAAAAAAAAAAAAAAAAAAAAAAAAAAAAAAAAAAAAAAAAAAAAAAAAAAAAAAAAAAAAAAAAAAAAAAAAAAAAAAAAAAAAAAAAAAAAAAAAAAAAAAAAAAAAAAAAAAAAAAAAAAAAAAAAAAAAAAAAAAAAAAAAAAAAAAAAAAAAAAAAAAAAAAAAAAAAAAAAAAAAAAAAAAAAAAAAAAAAAAAAAAAAAAAAAAAAAAAAAAAAAAAAAAAAAAAAAAAAAAAAAAAAAAAAAAAAAAAAAAAAAAAAAAAAAAAAAAAAAAAAAAAAAAAAAAAAAAAAAAAAAAAAAAAAAAAAAAAAAAAAAAAAAAAAAAAAAAAAAAAAAAAAAAAAAAAAAAAAAAAAAAAAAAAAAAAAAAAAAAAAAAAAAAAAAAAAAAAAAAAAAAAAAAAAAAAAAAAAAAAAAAAAAAAAAAAAAAAAAAAAAAAAAAAAAAAAAAAAAAAAAAAAAAAAAAAAAAAAAAAAAAAAAAAAAAAAAAAAAAAAAAAAAAAAAAAAAAAAAAAAAAAAAAAAAAAAAAAAAAAAAAAAAAAAAAAAAAAAAAAAAAAAAAAAAAAAAAAAAAAAAAAAAAAAAAAAAAAAAAAAAAAAAAAAAAAAAAAAAAAAAAAAAAAAAAAAAAAAAAAAAAAAAAAAAAAAAAAAAAAAAAAAAAAAAAAAAAAAAAAAAAAAAAAAAAAAAAAAAAAAAAAAAAAAAAAAAAAAAAAAAAAAAAAAAAAAAAAAAAAAAAAAAAAAAAAAAAAAAAAAAAAAAAAAAAAAAAAAAAAAAAAAAAAAAAAAAAAAAAAAAAAAAAAAAAAAAAAAAAAAAAAAAAAAAAAAAAAAAAAAAAAAAAAAAAAAAAAAAACwAAAAAHgABAAAIDAABCBxIsKDBgwIDAgA7\"><title>Layer: hidden2 (hidden)\n",
       " output range: (-1.0, 1.0)\n",
       " shape = (30,)\n",
       " Keras class = Dense\n",
       " activation = relu</title></image><text x=\"280.0\" y=\"132.0\" font-family=\"monospace\" font-size=\"12\" text-anchor=\"start\" fill=\"black\" alignment-baseline=\"central\" >hidden2</text><path d=\"M 175.0 184 L 175.0 157 \" stroke=\"black\" stroke-width=\"2\" marker-end=\"url(#arrow)\" fill=\"none\" /><rect x=\"74.0\" y=\"184\" width=\"202\" height=\"52\" style=\"fill:none;stroke:red;stroke-width:4\"/><image id=\"picture-static-MNIST_MLP-994319_hidden1_3\" class=\"picture-static-MNIST_MLP-994319_hidden1\" x=\"75.0\" y=\"185\" height=\"50\" width=\"200\" preserveAspectRatio=\"none\" image-rendering=\"optimizeSpeed\" xlink:href=\"data:image/gif;base64,R0lGODdhHgABAIcAAP/9/QAAAAAAAAAAAAAAAAAAAAAAAAAAAAAAAAAAAAAAAAAAAAAAAAAAAAAAAAAAAAAAAAAAAAAAAAAAAAAAAAAAAAAAAAAAAAAAAAAAAAAAAAAAAAAAAAAAAAAAAAAAAAAAAAAAAAAAAAAAAAAAAAAAAAAAAAAAAAAAAAAAAAAAAAAAAAAAAAAAAAAAAAAAAAAAAAAAAAAAAAAAAAAAAAAAAAAAAAAAAAAAAAAAAAAAAAAAAAAAAAAAAAAAAAAAAAAAAAAAAAAAAAAAAAAAAAAAAAAAAAAAAAAAAAAAAAAAAAAAAAAAAAAAAAAAAAAAAAAAAAAAAAAAAAAAAAAAAAAAAAAAAAAAAAAAAAAAAAAAAAAAAAAAAAAAAAAAAAAAAAAAAAAAAAAAAAAAAAAAAAAAAAAAAAAAAAAAAAAAAAAAAAAAAAAAAAAAAAAAAAAAAAAAAAAAAAAAAAAAAAAAAAAAAAAAAAAAAAAAAAAAAAAAAAAAAAAAAAAAAAAAAAAAAAAAAAAAAAAAAAAAAAAAAAAAAAAAAAAAAAAAAAAAAAAAAAAAAAAAAAAAAAAAAAAAAAAAAAAAAAAAAAAAAAAAAAAAAAAAAAAAAAAAAAAAAAAAAAAAAAAAAAAAAAAAAAAAAAAAAAAAAAAAAAAAAAAAAAAAAAAAAAAAAAAAAAAAAAAAAAAAAAAAAAAAAAAAAAAAAAAAAAAAAAAAAAAAAAAAAAAAAAAAAAAAAAAAAAAAAAAAAAAAAAAAAAAAAAAAAAAAAAAAAAAAAAAAAAAAAAAAAAAAAAAAAAAAAAAAAAAAAAAAAAAAAAAAAAAAAAAAAAAAAAAAAAAAAAAAAAAAAAAAAAAAAAAAAAAAAAAAAAAAAAAAAAAAAAAAAAAAAAAAAAAAAAAAAAAAAAAAAAAAAAAAAAAAAAAAAAAAAAAAAAAAAAAAAAAAAAAAAAAAAAAAAAAAAAAAAAAAAAAAAAAAAAAAAAAAAAAAAAAAAAAAAAAAAAAAAAAAAAAAAAAAAAAAAAAAACwAAAAAHgABAAAIDAABCBxIsKDBgwIDAgA7\"><title>Layer: hidden1 (hidden)\n",
       " output range: (-1.0, 1.0)\n",
       " shape = (30,)\n",
       " Keras class = Dense\n",
       " activation = relu</title></image><text x=\"280.0\" y=\"212.0\" font-family=\"monospace\" font-size=\"12\" text-anchor=\"start\" fill=\"black\" alignment-baseline=\"central\" >hidden1</text><path d=\"M 175.0 264 L 175.0 237 \" stroke=\"black\" stroke-width=\"2\" marker-end=\"url(#arrow)\" fill=\"none\" /><rect x=\"124.0\" y=\"264\" width=\"102\" height=\"52\" style=\"fill:none;stroke:red;stroke-width:4\"/><image id=\"picture-static-MNIST_MLP-994319_flat_input_4\" class=\"picture-static-MNIST_MLP-994319_flat_input\" x=\"125.0\" y=\"265\" height=\"50\" width=\"100\" preserveAspectRatio=\"none\" image-rendering=\"optimizeSpeed\" xlink:href=\"data:image/gif;base64,R0lGODdhZAABAIcAAH9/fwAAAAAAAAAAAAAAAAAAAAAAAAAAAAAAAAAAAAAAAAAAAAAAAAAAAAAAAAAAAAAAAAAAAAAAAAAAAAAAAAAAAAAAAAAAAAAAAAAAAAAAAAAAAAAAAAAAAAAAAAAAAAAAAAAAAAAAAAAAAAAAAAAAAAAAAAAAAAAAAAAAAAAAAAAAAAAAAAAAAAAAAAAAAAAAAAAAAAAAAAAAAAAAAAAAAAAAAAAAAAAAAAAAAAAAAAAAAAAAAAAAAAAAAAAAAAAAAAAAAAAAAAAAAAAAAAAAAAAAAAAAAAAAAAAAAAAAAAAAAAAAAAAAAAAAAAAAAAAAAAAAAAAAAAAAAAAAAAAAAAAAAAAAAAAAAAAAAAAAAAAAAAAAAAAAAAAAAAAAAAAAAAAAAAAAAAAAAAAAAAAAAAAAAAAAAAAAAAAAAAAAAAAAAAAAAAAAAAAAAAAAAAAAAAAAAAAAAAAAAAAAAAAAAAAAAAAAAAAAAAAAAAAAAAAAAAAAAAAAAAAAAAAAAAAAAAAAAAAAAAAAAAAAAAAAAAAAAAAAAAAAAAAAAAAAAAAAAAAAAAAAAAAAAAAAAAAAAAAAAAAAAAAAAAAAAAAAAAAAAAAAAAAAAAAAAAAAAAAAAAAAAAAAAAAAAAAAAAAAAAAAAAAAAAAAAAAAAAAAAAAAAAAAAAAAAAAAAAAAAAAAAAAAAAAAAAAAAAAAAAAAAAAAAAAAAAAAAAAAAAAAAAAAAAAAAAAAAAAAAAAAAAAAAAAAAAAAAAAAAAAAAAAAAAAAAAAAAAAAAAAAAAAAAAAAAAAAAAAAAAAAAAAAAAAAAAAAAAAAAAAAAAAAAAAAAAAAAAAAAAAAAAAAAAAAAAAAAAAAAAAAAAAAAAAAAAAAAAAAAAAAAAAAAAAAAAAAAAAAAAAAAAAAAAAAAAAAAAAAAAAAAAAAAAAAAAAAAAAAAAAAAAAAAAAAAAAAAAAAAAAAAAAAAAAAAAAAAAAAAAAAAAAAAAAAAAAAAAAAAAAAAAAAAAAAAAAAAAAAACwAAAAAZAABAAAIEgABCBxIsKDBgwgTKlzIsGHCgAA7\"><title>Layer: flat_input (hidden)\n",
       " output range: (-Infinity, +Infinity)\n",
       " Keras class = Flatten</title></image><text x=\"230.0\" y=\"292.0\" font-family=\"monospace\" font-size=\"12\" text-anchor=\"start\" fill=\"black\" alignment-baseline=\"central\" >flat_input</text><path d=\"M 175.0 344 L 175.0 317 \" stroke=\"black\" stroke-width=\"2\" marker-end=\"url(#arrow)\" fill=\"none\" /><rect x=\"74.0\" y=\"344\" width=\"202\" height=\"202\" style=\"fill:none;stroke:red;stroke-width:4\"/><image id=\"picture-static-MNIST_MLP-994319_input_5\" class=\"picture-static-MNIST_MLP-994319_input\" x=\"75.0\" y=\"345\" height=\"200\" width=\"200\" preserveAspectRatio=\"none\" image-rendering=\"optimizeSpeed\" xlink:href=\"data:image/gif;base64,R0lGODdhHAAcAIcAAH9/fwAAAAAAAAAAAAAAAAAAAAAAAAAAAAAAAAAAAAAAAAAAAAAAAAAAAAAAAAAAAAAAAAAAAAAAAAAAAAAAAAAAAAAAAAAAAAAAAAAAAAAAAAAAAAAAAAAAAAAAAAAAAAAAAAAAAAAAAAAAAAAAAAAAAAAAAAAAAAAAAAAAAAAAAAAAAAAAAAAAAAAAAAAAAAAAAAAAAAAAAAAAAAAAAAAAAAAAAAAAAAAAAAAAAAAAAAAAAAAAAAAAAAAAAAAAAAAAAAAAAAAAAAAAAAAAAAAAAAAAAAAAAAAAAAAAAAAAAAAAAAAAAAAAAAAAAAAAAAAAAAAAAAAAAAAAAAAAAAAAAAAAAAAAAAAAAAAAAAAAAAAAAAAAAAAAAAAAAAAAAAAAAAAAAAAAAAAAAAAAAAAAAAAAAAAAAAAAAAAAAAAAAAAAAAAAAAAAAAAAAAAAAAAAAAAAAAAAAAAAAAAAAAAAAAAAAAAAAAAAAAAAAAAAAAAAAAAAAAAAAAAAAAAAAAAAAAAAAAAAAAAAAAAAAAAAAAAAAAAAAAAAAAAAAAAAAAAAAAAAAAAAAAAAAAAAAAAAAAAAAAAAAAAAAAAAAAAAAAAAAAAAAAAAAAAAAAAAAAAAAAAAAAAAAAAAAAAAAAAAAAAAAAAAAAAAAAAAAAAAAAAAAAAAAAAAAAAAAAAAAAAAAAAAAAAAAAAAAAAAAAAAAAAAAAAAAAAAAAAAAAAAAAAAAAAAAAAAAAAAAAAAAAAAAAAAAAAAAAAAAAAAAAAAAAAAAAAAAAAAAAAAAAAAAAAAAAAAAAAAAAAAAAAAAAAAAAAAAAAAAAAAAAAAAAAAAAAAAAAAAAAAAAAAAAAAAAAAAAAAAAAAAAAAAAAAAAAAAAAAAAAAAAAAAAAAAAAAAAAAAAAAAAAAAAAAAAAAAAAAAAAAAAAAAAAAAAAAAAAAAAAAAAAAAAAAAAAAAAAAAAAAAAAAAAAAAAAAAAAAAAAAAAAAAAAAAAAAAAAAAAAAAAAAAAAAAAAAAAAAACwAAAAAHAAcAEAIMAABCBxIsKDBgwgTKlzIsKHDhxAjSpxIsaLFixgzatzIsaPHjyBDihxJsqTJkwQDAgA7\"><title>Layer: input (input)\n",
       " output range: (-Infinity, +Infinity)\n",
       " shape = (28, 28, 1)\n",
       " Keras class = Input</title></image><text x=\"280.0\" y=\"447.0\" font-family=\"monospace\" font-size=\"12\" text-anchor=\"start\" fill=\"black\" alignment-baseline=\"central\" >input</text><text x=\"175.0\" y=\"12.5\" font-family=\"monospace\" font-size=\"15\" text-anchor=\"middle\" fill=\"black\" alignment-baseline=\"central\" >MNIST_MLP</text></svg></g></svg>"
      ],
      "text/plain": [
       "<IPython.core.display.HTML object>"
      ]
     },
     "execution_count": 22,
     "metadata": {},
     "output_type": "execute_result"
    }
   ],
   "source": [
    "net.picture()"
   ]
  },
  {
   "cell_type": "markdown",
   "metadata": {},
   "source": [
    "We also need to tell the network which dataset to use:"
   ]
  },
  {
   "cell_type": "code",
   "execution_count": 23,
   "metadata": {},
   "outputs": [],
   "source": [
    "net.set_dataset(mnist)"
   ]
  },
  {
   "cell_type": "markdown",
   "metadata": {},
   "source": [
    "The final step after constructing the network is to compile it, specifying an *error* function (also called a \"loss\" function), and the learning algorithm to use (the *optimizer*).  For a classification task with the *softmax* activation function, it is usually best to choose the ``categorical_crossentropy`` error function.  For our learning algorithm, we will use standard Stochastic Gradient Descent.  We can also (optionally) specify the learning rate and momentum values to use."
   ]
  },
  {
   "cell_type": "code",
   "execution_count": 24,
   "metadata": {},
   "outputs": [
    {
     "name": "stdout",
     "output_type": "stream",
     "text": [
      "_________________________________________________________________\n",
      "Layer (type)                 Output Shape              Param #   \n",
      "=================================================================\n",
      "input (InputLayer)           (None, 28, 28, 1)         0         \n",
      "_________________________________________________________________\n",
      "flat_input (Flatten)         (None, 784)               0         \n",
      "_________________________________________________________________\n",
      "hidden1 (Dense)              (None, 30)                23550     \n",
      "_________________________________________________________________\n",
      "hidden2 (Dense)              (None, 30)                930       \n",
      "_________________________________________________________________\n",
      "output (Dense)               (None, 10)                310       \n",
      "=================================================================\n",
      "Total params: 24,790\n",
      "Trainable params: 24,790\n",
      "Non-trainable params: 0\n",
      "_________________________________________________________________\n"
     ]
    }
   ],
   "source": [
    "net.compile(error='categorical_crossentropy', optimizer='SGD', lr=0.3, momentum=0.1)\n",
    "net.summary()"
   ]
  },
  {
   "cell_type": "markdown",
   "metadata": {},
   "source": [
    "The network summary shows the details for each layer, along with the total number of network parameters.  The underlying Keras model on which the network is based is directly available via the ``model`` property, although normally the ConX user does not need to worry about the lower Keras level."
   ]
  },
  {
   "cell_type": "code",
   "execution_count": 25,
   "metadata": {},
   "outputs": [
    {
     "data": {
      "text/plain": [
       "<keras.engine.training.Model at 0x7f1b066515f8>"
      ]
     },
     "execution_count": 25,
     "metadata": {},
     "output_type": "execute_result"
    }
   ],
   "source": [
    "net.model"
   ]
  },
  {
   "cell_type": "markdown",
   "metadata": {},
   "source": [
    "We can manually send an input pattern through the network using the ``propagate`` method.  For example, let's ask the network to classify input pattern #0:"
   ]
  },
  {
   "cell_type": "code",
   "execution_count": 26,
   "metadata": {},
   "outputs": [
    {
     "data": {
      "image/png": "[encoded data removed]",
      "text/plain": [
       "<Figure size 432x288 with 1 Axes>"
      ]
     },
     "metadata": {},
     "output_type": "display_data"
    },
    {
     "data": {
      "text/plain": [
       "[0.0977730080485344,\n",
       " 0.0672101154923439,\n",
       " 0.08400549739599228,\n",
       " 0.11776035279035568,\n",
       " 0.10889045894145966,\n",
       " 0.10750816762447357,\n",
       " 0.0949573963880539,\n",
       " 0.142753466963768,\n",
       " 0.09871889650821686,\n",
       " 0.08042261749505997]"
      ]
     },
     "execution_count": 26,
     "metadata": {},
     "output_type": "execute_result"
    }
   ],
   "source": [
    "cx.view(mnist.inputs[0])\n",
    "net.propagate(mnist.inputs[0])"
   ]
  },
  {
   "cell_type": "markdown",
   "metadata": {},
   "source": [
    "Not surprisingly, the output values for each classification category are all around 0.10 (representing 10% probability), because the network has not yet been trained.  After training, one of the output values will typically be much larger than the others, corresponding to the output classification category.\n",
    "\n",
    "A more user-friendly way to view the behavior of the network is to open a ``dashboard`` so that we can see the activation of each layer more clearly.  The dashboard allows us to easily step through the input patterns (for either the training or testing set) and see the output of the network for each pattern, along with the correct target classification.  Clicking on **MNIST_MLP** at the top of the dashboard will open up a panel of settings for controlling the appearance and functionality of the network display. For example, to choose between the training set and testing set images, you can select \"Train\" or \"Test\" from the *Dataset* pulldown menu."
   ]
  },
  {
   "cell_type": "code",
   "execution_count": 27,
   "metadata": {},
   "outputs": [
    {
     "data": {
      "application/vnd.jupyter.widget-view+json": {
       "model_id": "b4ab98c6954e403dbadfd27ed7c539a7",
       "version_major": 2,
       "version_minor": 0
      },
      "text/plain": [
       "Dashboard(children=(Accordion(children=(HBox(children=(VBox(children=(Select(description='Dataset:', index=1, …"
      ]
     },
     "metadata": {},
     "output_type": "display_data"
    }
   ],
   "source": [
    "net.dashboard()"
   ]
  },
  {
   "cell_type": "markdown",
   "metadata": {},
   "source": [
    "We can visualize the weights on connections into specific units by calling `plot_layer_weights`. For example, the command below shows the weights from the input layer into units 0, 1, and 2 of the first hidden layer, displayed as 28 &times; 28 pixel array (where each pixel represents a weight from the input layer into a hidden unit). The `wrange` keyword specifies the minimum and maximum weight values for the color coding. Since the network has not yet been trained, the weights are all small random values close to zero."
   ]
  },
  {
   "cell_type": "code",
   "execution_count": 28,
   "metadata": {},
   "outputs": [
    {
     "data": {
      "image/png": "[encoded data removed]",
      "text/plain": [
       "<Figure size 720x180 with 4 Axes>"
      ]
     },
     "metadata": {},
     "output_type": "display_data"
    }
   ],
   "source": [
    "net.plot_layer_weights('hidden1', units=[0,1,2], vshape=(28,28), wrange=(-1.5, 1.5))"
   ]
  },
  {
   "cell_type": "markdown",
   "metadata": {},
   "source": [
    "Let's train the network for 30 epochs, using a default batch size of 32. This means that images from the training set will be presented to the network in batches of 32 at a time, and for each batch, the SGD algorithm will update the network's weights by an appropriate amount. Then another batch of 32 images will be presented, and so on, until all 60,000 training images in the dataset have been processed, which constitutes one epoch of training. This entire cycle will be repeated for 30 epochs. As training proceeds, the network's error (loss) on both the training and testing/validation sets will be shown on the left graph, and the accuracy on each of these sets will be shown on the right graph. The accuracy is simply the fraction of input images that the network classifies correctly.  A classification is considered correct if the largest output value on the output layer corresponds to the target classification."
   ]
  },
  {
   "cell_type": "code",
   "execution_count": 29,
   "metadata": {},
   "outputs": [
    {
     "data": {
      "image/svg+xml": [
       "<svg height=\"288pt\" version=\"1.1\" viewBox=\"0 0 720 288\" width=\"720pt\" xmlns=\"http://www.w3.org/2000/svg\" xmlns:xlink=\"http://www.w3.org/1999/xlink\">\n",
       " <defs>\n",
       "  <style type=\"text/css\">\n",
       "*{stroke-linecap:butt;stroke-linejoin:round;}\n",
       "  </style>\n",
       " </defs>\n",
       " <g id=\"figure_1\">\n",
       "  <g id=\"patch_1\">\n",
       "   <path d=\"M 0 288  L 720 288  L 720 0  L 0 0  z \" style=\"fill:#ffffff;\"/>\n",
       "  </g>\n",
       "  <g id=\"axes_1\">\n",
       "   <g id=\"patch_2\">\n",
       "    <path d=\"M 90 252  L 343.636364 252  L 343.636364 34.56  L 90 34.56  z \" style=\"fill:#ffffff;\"/>\n",
       "   </g>\n",
       "   <g id=\"matplotlib.axis_1\">\n",
       "    <g id=\"xtick_1\">\n",
       "     <g id=\"line2d_1\">\n",
       "      <defs>\n",
       "       <path d=\"M 0 0  L 0 3.5  \" id=\"m1c3c4cfd83\" style=\"stroke:#000000;stroke-width:0.8;\"/>\n",
       "      </defs>\n",
       "      <g>\n",
       "       <use style=\"stroke:#000000;stroke-width:0.8;\" x=\"101.528926\" xlink:href=\"#m1c3c4cfd83\" y=\"252\"/>\n",
       "      </g>\n",
       "     </g>\n",
       "     <g id=\"text_1\">\n",
       "      <!-- 0.0 -->\n",
       "      <defs>\n",
       "       <path d=\"M 31.78125 66.40625  Q 24.171875 66.40625 20.328125 58.90625  Q 16.5 51.421875 16.5 36.375  Q 16.5 21.390625 20.328125 13.890625  Q 24.171875 6.390625 31.78125 6.390625  Q 39.453125 6.390625 43.28125 13.890625  Q 47.125 21.390625 47.125 36.375  Q 47.125 51.421875 43.28125 58.90625  Q 39.453125 66.40625 31.78125 66.40625  z M 31.78125 74.21875  Q 44.046875 74.21875 50.515625 64.515625  Q 56.984375 54.828125 56.984375 36.375  Q 56.984375 17.96875 50.515625 8.265625  Q 44.046875 -1.421875 31.78125 -1.421875  Q 19.53125 -1.421875 13.0625 8.265625  Q 6.59375 17.96875 6.59375 36.375  Q 6.59375 54.828125 13.0625 64.515625  Q 19.53125 74.21875 31.78125 74.21875  z \" id=\"DejaVuSans-30\"/>\n",
       "       <path d=\"M 10.6875 12.40625  L 21 12.40625  L 21 0  L 10.6875 0  z \" id=\"DejaVuSans-2e\"/>\n",
       "      </defs>\n",
       "      <g transform=\"translate(93.577363 266.598437)scale(0.1 -0.1)\">\n",
       "       <use xlink:href=\"#DejaVuSans-30\"/>\n",
       "       <use x=\"63.623047\" xlink:href=\"#DejaVuSans-2e\"/>\n",
       "       <use x=\"95.410156\" xlink:href=\"#DejaVuSans-30\"/>\n",
       "      </g>\n",
       "     </g>\n",
       "    </g>\n",
       "    <g id=\"xtick_2\">\n",
       "     <g id=\"line2d_2\">\n",
       "      <g>\n",
       "       <use style=\"stroke:#000000;stroke-width:0.8;\" x=\"159.173554\" xlink:href=\"#m1c3c4cfd83\" y=\"252\"/>\n",
       "      </g>\n",
       "     </g>\n",
       "     <g id=\"text_2\">\n",
       "      <!-- 0.5 -->\n",
       "      <defs>\n",
       "       <path d=\"M 10.796875 72.90625  L 49.515625 72.90625  L 49.515625 64.59375  L 19.828125 64.59375  L 19.828125 46.734375  Q 21.96875 47.46875 24.109375 47.828125  Q 26.265625 48.1875 28.421875 48.1875  Q 40.625 48.1875 47.75 41.5  Q 54.890625 34.8125 54.890625 23.390625  Q 54.890625 11.625 47.5625 5.09375  Q 40.234375 -1.421875 26.90625 -1.421875  Q 22.3125 -1.421875 17.546875 -0.640625  Q 12.796875 0.140625 7.71875 1.703125  L 7.71875 11.625  Q 12.109375 9.234375 16.796875 8.0625  Q 21.484375 6.890625 26.703125 6.890625  Q 35.15625 6.890625 40.078125 11.328125  Q 45.015625 15.765625 45.015625 23.390625  Q 45.015625 31 40.078125 35.4375  Q 35.15625 39.890625 26.703125 39.890625  Q 22.75 39.890625 18.8125 39.015625  Q 14.890625 38.140625 10.796875 36.28125  z \" id=\"DejaVuSans-35\"/>\n",
       "      </defs>\n",
       "      <g transform=\"translate(151.221991 266.598437)scale(0.1 -0.1)\">\n",
       "       <use xlink:href=\"#DejaVuSans-30\"/>\n",
       "       <use x=\"63.623047\" xlink:href=\"#DejaVuSans-2e\"/>\n",
       "       <use x=\"95.410156\" xlink:href=\"#DejaVuSans-35\"/>\n",
       "      </g>\n",
       "     </g>\n",
       "    </g>\n",
       "    <g id=\"xtick_3\">\n",
       "     <g id=\"line2d_3\">\n",
       "      <g>\n",
       "       <use style=\"stroke:#000000;stroke-width:0.8;\" x=\"216.818182\" xlink:href=\"#m1c3c4cfd83\" y=\"252\"/>\n",
       "      </g>\n",
       "     </g>\n",
       "     <g id=\"text_3\">\n",
       "      <!-- 1.0 -->\n",
       "      <defs>\n",
       "       <path d=\"M 12.40625 8.296875  L 28.515625 8.296875  L 28.515625 63.921875  L 10.984375 60.40625  L 10.984375 69.390625  L 28.421875 72.90625  L 38.28125 72.90625  L 38.28125 8.296875  L 54.390625 8.296875  L 54.390625 0  L 12.40625 0  z \" id=\"DejaVuSans-31\"/>\n",
       "      </defs>\n",
       "      <g transform=\"translate(208.866619 266.598437)scale(0.1 -0.1)\">\n",
       "       <use xlink:href=\"#DejaVuSans-31\"/>\n",
       "       <use x=\"63.623047\" xlink:href=\"#DejaVuSans-2e\"/>\n",
       "       <use x=\"95.410156\" xlink:href=\"#DejaVuSans-30\"/>\n",
       "      </g>\n",
       "     </g>\n",
       "    </g>\n",
       "    <g id=\"xtick_4\">\n",
       "     <g id=\"line2d_4\">\n",
       "      <g>\n",
       "       <use style=\"stroke:#000000;stroke-width:0.8;\" x=\"274.46281\" xlink:href=\"#m1c3c4cfd83\" y=\"252\"/>\n",
       "      </g>\n",
       "     </g>\n",
       "     <g id=\"text_4\">\n",
       "      <!-- 1.5 -->\n",
       "      <g transform=\"translate(266.511247 266.598437)scale(0.1 -0.1)\">\n",
       "       <use xlink:href=\"#DejaVuSans-31\"/>\n",
       "       <use x=\"63.623047\" xlink:href=\"#DejaVuSans-2e\"/>\n",
       "       <use x=\"95.410156\" xlink:href=\"#DejaVuSans-35\"/>\n",
       "      </g>\n",
       "     </g>\n",
       "    </g>\n",
       "    <g id=\"xtick_5\">\n",
       "     <g id=\"line2d_5\">\n",
       "      <g>\n",
       "       <use style=\"stroke:#000000;stroke-width:0.8;\" x=\"332.107438\" xlink:href=\"#m1c3c4cfd83\" y=\"252\"/>\n",
       "      </g>\n",
       "     </g>\n",
       "     <g id=\"text_5\">\n",
       "      <!-- 2.0 -->\n",
       "      <defs>\n",
       "       <path d=\"M 19.1875 8.296875  L 53.609375 8.296875  L 53.609375 0  L 7.328125 0  L 7.328125 8.296875  Q 12.9375 14.109375 22.625 23.890625  Q 32.328125 33.6875 34.8125 36.53125  Q 39.546875 41.84375 41.421875 45.53125  Q 43.3125 49.21875 43.3125 52.78125  Q 43.3125 58.59375 39.234375 62.25  Q 35.15625 65.921875 28.609375 65.921875  Q 23.96875 65.921875 18.8125 64.3125  Q 13.671875 62.703125 7.8125 59.421875  L 7.8125 69.390625  Q 13.765625 71.78125 18.9375 73  Q 24.125 74.21875 28.421875 74.21875  Q 39.75 74.21875 46.484375 68.546875  Q 53.21875 62.890625 53.21875 53.421875  Q 53.21875 48.921875 51.53125 44.890625  Q 49.859375 40.875 45.40625 35.40625  Q 44.1875 33.984375 37.640625 27.21875  Q 31.109375 20.453125 19.1875 8.296875  z \" id=\"DejaVuSans-32\"/>\n",
       "      </defs>\n",
       "      <g transform=\"translate(324.155876 266.598437)scale(0.1 -0.1)\">\n",
       "       <use xlink:href=\"#DejaVuSans-32\"/>\n",
       "       <use x=\"63.623047\" xlink:href=\"#DejaVuSans-2e\"/>\n",
       "       <use x=\"95.410156\" xlink:href=\"#DejaVuSans-30\"/>\n",
       "      </g>\n",
       "     </g>\n",
       "    </g>\n",
       "    <g id=\"text_6\">\n",
       "     <!-- Epoch -->\n",
       "     <defs>\n",
       "      <path d=\"M 9.8125 72.90625  L 55.90625 72.90625  L 55.90625 64.59375  L 19.671875 64.59375  L 19.671875 43.015625  L 54.390625 43.015625  L 54.390625 34.71875  L 19.671875 34.71875  L 19.671875 8.296875  L 56.78125 8.296875  L 56.78125 0  L 9.8125 0  z \" id=\"DejaVuSans-45\"/>\n",
       "      <path d=\"M 18.109375 8.203125  L 18.109375 -20.796875  L 9.078125 -20.796875  L 9.078125 54.6875  L 18.109375 54.6875  L 18.109375 46.390625  Q 20.953125 51.265625 25.265625 53.625  Q 29.59375 56 35.59375 56  Q 45.5625 56 51.78125 48.09375  Q 58.015625 40.1875 58.015625 27.296875  Q 58.015625 14.40625 51.78125 6.484375  Q 45.5625 -1.421875 35.59375 -1.421875  Q 29.59375 -1.421875 25.265625 0.953125  Q 20.953125 3.328125 18.109375 8.203125  z M 48.6875 27.296875  Q 48.6875 37.203125 44.609375 42.84375  Q 40.53125 48.484375 33.40625 48.484375  Q 26.265625 48.484375 22.1875 42.84375  Q 18.109375 37.203125 18.109375 27.296875  Q 18.109375 17.390625 22.1875 11.75  Q 26.265625 6.109375 33.40625 6.109375  Q 40.53125 6.109375 44.609375 11.75  Q 48.6875 17.390625 48.6875 27.296875  z \" id=\"DejaVuSans-70\"/>\n",
       "      <path d=\"M 30.609375 48.390625  Q 23.390625 48.390625 19.1875 42.75  Q 14.984375 37.109375 14.984375 27.296875  Q 14.984375 17.484375 19.15625 11.84375  Q 23.34375 6.203125 30.609375 6.203125  Q 37.796875 6.203125 41.984375 11.859375  Q 46.1875 17.53125 46.1875 27.296875  Q 46.1875 37.015625 41.984375 42.703125  Q 37.796875 48.390625 30.609375 48.390625  z M 30.609375 56  Q 42.328125 56 49.015625 48.375  Q 55.71875 40.765625 55.71875 27.296875  Q 55.71875 13.875 49.015625 6.21875  Q 42.328125 -1.421875 30.609375 -1.421875  Q 18.84375 -1.421875 12.171875 6.21875  Q 5.515625 13.875 5.515625 27.296875  Q 5.515625 40.765625 12.171875 48.375  Q 18.84375 56 30.609375 56  z \" id=\"DejaVuSans-6f\"/>\n",
       "      <path d=\"M 48.78125 52.59375  L 48.78125 44.1875  Q 44.96875 46.296875 41.140625 47.34375  Q 37.3125 48.390625 33.40625 48.390625  Q 24.65625 48.390625 19.8125 42.84375  Q 14.984375 37.3125 14.984375 27.296875  Q 14.984375 17.28125 19.8125 11.734375  Q 24.65625 6.203125 33.40625 6.203125  Q 37.3125 6.203125 41.140625 7.25  Q 44.96875 8.296875 48.78125 10.40625  L 48.78125 2.09375  Q 45.015625 0.34375 40.984375 -0.53125  Q 36.96875 -1.421875 32.421875 -1.421875  Q 20.0625 -1.421875 12.78125 6.34375  Q 5.515625 14.109375 5.515625 27.296875  Q 5.515625 40.671875 12.859375 48.328125  Q 20.21875 56 33.015625 56  Q 37.15625 56 41.109375 55.140625  Q 45.0625 54.296875 48.78125 52.59375  z \" id=\"DejaVuSans-63\"/>\n",
       "      <path d=\"M 54.890625 33.015625  L 54.890625 0  L 45.90625 0  L 45.90625 32.71875  Q 45.90625 40.484375 42.875 44.328125  Q 39.84375 48.1875 33.796875 48.1875  Q 26.515625 48.1875 22.3125 43.546875  Q 18.109375 38.921875 18.109375 30.90625  L 18.109375 0  L 9.078125 0  L 9.078125 75.984375  L 18.109375 75.984375  L 18.109375 46.1875  Q 21.34375 51.125 25.703125 53.5625  Q 30.078125 56 35.796875 56  Q 45.21875 56 50.046875 50.171875  Q 54.890625 44.34375 54.890625 33.015625  z \" id=\"DejaVuSans-68\"/>\n",
       "     </defs>\n",
       "     <g transform=\"translate(201.507244 280.276563)scale(0.1 -0.1)\">\n",
       "      <use xlink:href=\"#DejaVuSans-45\"/>\n",
       "      <use x=\"63.183594\" xlink:href=\"#DejaVuSans-70\"/>\n",
       "      <use x=\"126.660156\" xlink:href=\"#DejaVuSans-6f\"/>\n",
       "      <use x=\"187.841797\" xlink:href=\"#DejaVuSans-63\"/>\n",
       "      <use x=\"242.822266\" xlink:href=\"#DejaVuSans-68\"/>\n",
       "     </g>\n",
       "    </g>\n",
       "   </g>\n",
       "   <g id=\"matplotlib.axis_2\">\n",
       "    <g id=\"ytick_1\">\n",
       "     <g id=\"line2d_6\">\n",
       "      <defs>\n",
       "       <path d=\"M 0 0  L -3.5 0  \" id=\"mf245354add\" style=\"stroke:#000000;stroke-width:0.8;\"/>\n",
       "      </defs>\n",
       "      <g>\n",
       "       <use style=\"stroke:#000000;stroke-width:0.8;\" x=\"90\" xlink:href=\"#mf245354add\" y=\"252\"/>\n",
       "      </g>\n",
       "     </g>\n",
       "     <g id=\"text_7\">\n",
       "      <!-- 0.0 -->\n",
       "      <g transform=\"translate(67.096875 255.799219)scale(0.1 -0.1)\">\n",
       "       <use xlink:href=\"#DejaVuSans-30\"/>\n",
       "       <use x=\"63.623047\" xlink:href=\"#DejaVuSans-2e\"/>\n",
       "       <use x=\"95.410156\" xlink:href=\"#DejaVuSans-30\"/>\n",
       "      </g>\n",
       "     </g>\n",
       "    </g>\n",
       "    <g id=\"ytick_2\">\n",
       "     <g id=\"line2d_7\">\n",
       "      <g>\n",
       "       <use style=\"stroke:#000000;stroke-width:0.8;\" x=\"90\" xlink:href=\"#mf245354add\" y=\"207.650667\"/>\n",
       "      </g>\n",
       "     </g>\n",
       "     <g id=\"text_8\">\n",
       "      <!-- 0.5 -->\n",
       "      <g transform=\"translate(67.096875 211.449886)scale(0.1 -0.1)\">\n",
       "       <use xlink:href=\"#DejaVuSans-30\"/>\n",
       "       <use x=\"63.623047\" xlink:href=\"#DejaVuSans-2e\"/>\n",
       "       <use x=\"95.410156\" xlink:href=\"#DejaVuSans-35\"/>\n",
       "      </g>\n",
       "     </g>\n",
       "    </g>\n",
       "    <g id=\"ytick_3\">\n",
       "     <g id=\"line2d_8\">\n",
       "      <g>\n",
       "       <use style=\"stroke:#000000;stroke-width:0.8;\" x=\"90\" xlink:href=\"#mf245354add\" y=\"163.301335\"/>\n",
       "      </g>\n",
       "     </g>\n",
       "     <g id=\"text_9\">\n",
       "      <!-- 1.0 -->\n",
       "      <g transform=\"translate(67.096875 167.100554)scale(0.1 -0.1)\">\n",
       "       <use xlink:href=\"#DejaVuSans-31\"/>\n",
       "       <use x=\"63.623047\" xlink:href=\"#DejaVuSans-2e\"/>\n",
       "       <use x=\"95.410156\" xlink:href=\"#DejaVuSans-30\"/>\n",
       "      </g>\n",
       "     </g>\n",
       "    </g>\n",
       "    <g id=\"ytick_4\">\n",
       "     <g id=\"line2d_9\">\n",
       "      <g>\n",
       "       <use style=\"stroke:#000000;stroke-width:0.8;\" x=\"90\" xlink:href=\"#mf245354add\" y=\"118.952002\"/>\n",
       "      </g>\n",
       "     </g>\n",
       "     <g id=\"text_10\">\n",
       "      <!-- 1.5 -->\n",
       "      <g transform=\"translate(67.096875 122.751221)scale(0.1 -0.1)\">\n",
       "       <use xlink:href=\"#DejaVuSans-31\"/>\n",
       "       <use x=\"63.623047\" xlink:href=\"#DejaVuSans-2e\"/>\n",
       "       <use x=\"95.410156\" xlink:href=\"#DejaVuSans-35\"/>\n",
       "      </g>\n",
       "     </g>\n",
       "    </g>\n",
       "    <g id=\"ytick_5\">\n",
       "     <g id=\"line2d_10\">\n",
       "      <g>\n",
       "       <use style=\"stroke:#000000;stroke-width:0.8;\" x=\"90\" xlink:href=\"#mf245354add\" y=\"74.60267\"/>\n",
       "      </g>\n",
       "     </g>\n",
       "     <g id=\"text_11\">\n",
       "      <!-- 2.0 -->\n",
       "      <g transform=\"translate(67.096875 78.401888)scale(0.1 -0.1)\">\n",
       "       <use xlink:href=\"#DejaVuSans-32\"/>\n",
       "       <use x=\"63.623047\" xlink:href=\"#DejaVuSans-2e\"/>\n",
       "       <use x=\"95.410156\" xlink:href=\"#DejaVuSans-30\"/>\n",
       "      </g>\n",
       "     </g>\n",
       "    </g>\n",
       "   </g>\n",
       "   <g id=\"line2d_11\">\n",
       "    <path clip-path=\"url(#p59e359f8cf)\" d=\"M 101.528926 44.081787  L 216.818182 222.229642  L 332.107438 234.517537  \" style=\"fill:none;stroke:#1f77b4;stroke-linecap:square;stroke-width:1.5;\"/>\n",
       "   </g>\n",
       "   <g id=\"line2d_12\">\n",
       "    <path clip-path=\"url(#p59e359f8cf)\" d=\"M 101.528926 44.340476  L 216.818182 232.811825  \" style=\"fill:none;stroke:#ff7f0e;stroke-linecap:square;stroke-width:1.5;\"/>\n",
       "   </g>\n",
       "   <g id=\"patch_3\">\n",
       "    <path d=\"M 90 252  L 90 34.56  \" style=\"fill:none;stroke:#000000;stroke-linecap:square;stroke-linejoin:miter;stroke-width:0.8;\"/>\n",
       "   </g>\n",
       "   <g id=\"patch_4\">\n",
       "    <path d=\"M 343.636364 252  L 343.636364 34.56  \" style=\"fill:none;stroke:#000000;stroke-linecap:square;stroke-linejoin:miter;stroke-width:0.8;\"/>\n",
       "   </g>\n",
       "   <g id=\"patch_5\">\n",
       "    <path d=\"M 90 252  L 343.636364 252  \" style=\"fill:none;stroke:#000000;stroke-linecap:square;stroke-linejoin:miter;stroke-width:0.8;\"/>\n",
       "   </g>\n",
       "   <g id=\"patch_6\">\n",
       "    <path d=\"M 90 34.56  L 343.636364 34.56  \" style=\"fill:none;stroke:#000000;stroke-linecap:square;stroke-linejoin:miter;stroke-width:0.8;\"/>\n",
       "   </g>\n",
       "   <g id=\"text_12\">\n",
       "    <!-- MNIST_MLP: Error -->\n",
       "    <defs>\n",
       "     <path d=\"M 9.8125 72.90625  L 24.515625 72.90625  L 43.109375 23.296875  L 61.8125 72.90625  L 76.515625 72.90625  L 76.515625 0  L 66.890625 0  L 66.890625 64.015625  L 48.09375 14.015625  L 38.1875 14.015625  L 19.390625 64.015625  L 19.390625 0  L 9.8125 0  z \" id=\"DejaVuSans-4d\"/>\n",
       "     <path d=\"M 9.8125 72.90625  L 23.09375 72.90625  L 55.421875 11.921875  L 55.421875 72.90625  L 64.984375 72.90625  L 64.984375 0  L 51.703125 0  L 19.390625 60.984375  L 19.390625 0  L 9.8125 0  z \" id=\"DejaVuSans-4e\"/>\n",
       "     <path d=\"M 9.8125 72.90625  L 19.671875 72.90625  L 19.671875 0  L 9.8125 0  z \" id=\"DejaVuSans-49\"/>\n",
       "     <path d=\"M 53.515625 70.515625  L 53.515625 60.890625  Q 47.90625 63.578125 42.921875 64.890625  Q 37.9375 66.21875 33.296875 66.21875  Q 25.25 66.21875 20.875 63.09375  Q 16.5 59.96875 16.5 54.203125  Q 16.5 49.359375 19.40625 46.890625  Q 22.3125 44.4375 30.421875 42.921875  L 36.375 41.703125  Q 47.40625 39.59375 52.65625 34.296875  Q 57.90625 29 57.90625 20.125  Q 57.90625 9.515625 50.796875 4.046875  Q 43.703125 -1.421875 29.984375 -1.421875  Q 24.8125 -1.421875 18.96875 -0.25  Q 13.140625 0.921875 6.890625 3.21875  L 6.890625 13.375  Q 12.890625 10.015625 18.65625 8.296875  Q 24.421875 6.59375 29.984375 6.59375  Q 38.421875 6.59375 43.015625 9.90625  Q 47.609375 13.234375 47.609375 19.390625  Q 47.609375 24.75 44.3125 27.78125  Q 41.015625 30.8125 33.5 32.328125  L 27.484375 33.5  Q 16.453125 35.6875 11.515625 40.375  Q 6.59375 45.0625 6.59375 53.421875  Q 6.59375 63.09375 13.40625 68.65625  Q 20.21875 74.21875 32.171875 74.21875  Q 37.3125 74.21875 42.625 73.28125  Q 47.953125 72.359375 53.515625 70.515625  z \" id=\"DejaVuSans-53\"/>\n",
       "     <path d=\"M -0.296875 72.90625  L 61.375 72.90625  L 61.375 64.59375  L 35.5 64.59375  L 35.5 0  L 25.59375 0  L 25.59375 64.59375  L -0.296875 64.59375  z \" id=\"DejaVuSans-54\"/>\n",
       "     <path d=\"M 50.984375 -16.609375  L 50.984375 -23.578125  L -0.984375 -23.578125  L -0.984375 -16.609375  z \" id=\"DejaVuSans-5f\"/>\n",
       "     <path d=\"M 9.8125 72.90625  L 19.671875 72.90625  L 19.671875 8.296875  L 55.171875 8.296875  L 55.171875 0  L 9.8125 0  z \" id=\"DejaVuSans-4c\"/>\n",
       "     <path d=\"M 19.671875 64.796875  L 19.671875 37.40625  L 32.078125 37.40625  Q 38.96875 37.40625 42.71875 40.96875  Q 46.484375 44.53125 46.484375 51.125  Q 46.484375 57.671875 42.71875 61.234375  Q 38.96875 64.796875 32.078125 64.796875  z M 9.8125 72.90625  L 32.078125 72.90625  Q 44.34375 72.90625 50.609375 67.359375  Q 56.890625 61.8125 56.890625 51.125  Q 56.890625 40.328125 50.609375 34.8125  Q 44.34375 29.296875 32.078125 29.296875  L 19.671875 29.296875  L 19.671875 0  L 9.8125 0  z \" id=\"DejaVuSans-50\"/>\n",
       "     <path d=\"M 11.71875 12.40625  L 22.015625 12.40625  L 22.015625 0  L 11.71875 0  z M 11.71875 51.703125  L 22.015625 51.703125  L 22.015625 39.3125  L 11.71875 39.3125  z \" id=\"DejaVuSans-3a\"/>\n",
       "     <path id=\"DejaVuSans-20\"/>\n",
       "     <path d=\"M 41.109375 46.296875  Q 39.59375 47.171875 37.8125 47.578125  Q 36.03125 48 33.890625 48  Q 26.265625 48 22.1875 43.046875  Q 18.109375 38.09375 18.109375 28.8125  L 18.109375 0  L 9.078125 0  L 9.078125 54.6875  L 18.109375 54.6875  L 18.109375 46.1875  Q 20.953125 51.171875 25.484375 53.578125  Q 30.03125 56 36.53125 56  Q 37.453125 56 38.578125 55.875  Q 39.703125 55.765625 41.0625 55.515625  z \" id=\"DejaVuSans-72\"/>\n",
       "    </defs>\n",
       "    <g transform=\"translate(163.983494 28.56)scale(0.12 -0.12)\">\n",
       "     <use xlink:href=\"#DejaVuSans-4d\"/>\n",
       "     <use x=\"86.279297\" xlink:href=\"#DejaVuSans-4e\"/>\n",
       "     <use x=\"161.083984\" xlink:href=\"#DejaVuSans-49\"/>\n",
       "     <use x=\"190.576172\" xlink:href=\"#DejaVuSans-53\"/>\n",
       "     <use x=\"254.052734\" xlink:href=\"#DejaVuSans-54\"/>\n",
       "     <use x=\"315.136719\" xlink:href=\"#DejaVuSans-5f\"/>\n",
       "     <use x=\"365.136719\" xlink:href=\"#DejaVuSans-4d\"/>\n",
       "     <use x=\"451.416016\" xlink:href=\"#DejaVuSans-4c\"/>\n",
       "     <use x=\"507.128906\" xlink:href=\"#DejaVuSans-50\"/>\n",
       "     <use x=\"567.431641\" xlink:href=\"#DejaVuSans-3a\"/>\n",
       "     <use x=\"601.123047\" xlink:href=\"#DejaVuSans-20\"/>\n",
       "     <use x=\"632.910156\" xlink:href=\"#DejaVuSans-45\"/>\n",
       "     <use x=\"696.09375\" xlink:href=\"#DejaVuSans-72\"/>\n",
       "     <use x=\"737.191406\" xlink:href=\"#DejaVuSans-72\"/>\n",
       "     <use x=\"778.273438\" xlink:href=\"#DejaVuSans-6f\"/>\n",
       "     <use x=\"839.455078\" xlink:href=\"#DejaVuSans-72\"/>\n",
       "    </g>\n",
       "   </g>\n",
       "   <g id=\"legend_1\">\n",
       "    <g id=\"patch_7\">\n",
       "     <path d=\"M 236.030114 71.91625  L 336.636364 71.91625  Q 338.636364 71.91625 338.636364 69.91625  L 338.636364 41.56  Q 338.636364 39.56 336.636364 39.56  L 236.030114 39.56  Q 234.030114 39.56 234.030114 41.56  L 234.030114 69.91625  Q 234.030114 71.91625 236.030114 71.91625  z \" style=\"fill:#ffffff;opacity:0.8;stroke:#cccccc;stroke-linejoin:miter;\"/>\n",
       "    </g>\n",
       "    <g id=\"line2d_13\">\n",
       "     <path d=\"M 238.030114 47.658437  L 258.030114 47.658437  \" style=\"fill:none;stroke:#1f77b4;stroke-linecap:square;stroke-width:1.5;\"/>\n",
       "    </g>\n",
       "    <g id=\"line2d_14\"/>\n",
       "    <g id=\"text_13\">\n",
       "     <!-- Training set -->\n",
       "     <defs>\n",
       "      <path d=\"M 34.28125 27.484375  Q 23.390625 27.484375 19.1875 25  Q 14.984375 22.515625 14.984375 16.5  Q 14.984375 11.71875 18.140625 8.90625  Q 21.296875 6.109375 26.703125 6.109375  Q 34.1875 6.109375 38.703125 11.40625  Q 43.21875 16.703125 43.21875 25.484375  L 43.21875 27.484375  z M 52.203125 31.203125  L 52.203125 0  L 43.21875 0  L 43.21875 8.296875  Q 40.140625 3.328125 35.546875 0.953125  Q 30.953125 -1.421875 24.3125 -1.421875  Q 15.921875 -1.421875 10.953125 3.296875  Q 6 8.015625 6 15.921875  Q 6 25.140625 12.171875 29.828125  Q 18.359375 34.515625 30.609375 34.515625  L 43.21875 34.515625  L 43.21875 35.40625  Q 43.21875 41.609375 39.140625 45  Q 35.0625 48.390625 27.6875 48.390625  Q 23 48.390625 18.546875 47.265625  Q 14.109375 46.140625 10.015625 43.890625  L 10.015625 52.203125  Q 14.9375 54.109375 19.578125 55.046875  Q 24.21875 56 28.609375 56  Q 40.484375 56 46.34375 49.84375  Q 52.203125 43.703125 52.203125 31.203125  z \" id=\"DejaVuSans-61\"/>\n",
       "      <path d=\"M 9.421875 54.6875  L 18.40625 54.6875  L 18.40625 0  L 9.421875 0  z M 9.421875 75.984375  L 18.40625 75.984375  L 18.40625 64.59375  L 9.421875 64.59375  z \" id=\"DejaVuSans-69\"/>\n",
       "      <path d=\"M 54.890625 33.015625  L 54.890625 0  L 45.90625 0  L 45.90625 32.71875  Q 45.90625 40.484375 42.875 44.328125  Q 39.84375 48.1875 33.796875 48.1875  Q 26.515625 48.1875 22.3125 43.546875  Q 18.109375 38.921875 18.109375 30.90625  L 18.109375 0  L 9.078125 0  L 9.078125 54.6875  L 18.109375 54.6875  L 18.109375 46.1875  Q 21.34375 51.125 25.703125 53.5625  Q 30.078125 56 35.796875 56  Q 45.21875 56 50.046875 50.171875  Q 54.890625 44.34375 54.890625 33.015625  z \" id=\"DejaVuSans-6e\"/>\n",
       "      <path d=\"M 45.40625 27.984375  Q 45.40625 37.75 41.375 43.109375  Q 37.359375 48.484375 30.078125 48.484375  Q 22.859375 48.484375 18.828125 43.109375  Q 14.796875 37.75 14.796875 27.984375  Q 14.796875 18.265625 18.828125 12.890625  Q 22.859375 7.515625 30.078125 7.515625  Q 37.359375 7.515625 41.375 12.890625  Q 45.40625 18.265625 45.40625 27.984375  z M 54.390625 6.78125  Q 54.390625 -7.171875 48.1875 -13.984375  Q 42 -20.796875 29.203125 -20.796875  Q 24.46875 -20.796875 20.265625 -20.09375  Q 16.0625 -19.390625 12.109375 -17.921875  L 12.109375 -9.1875  Q 16.0625 -11.328125 19.921875 -12.34375  Q 23.78125 -13.375 27.78125 -13.375  Q 36.625 -13.375 41.015625 -8.765625  Q 45.40625 -4.15625 45.40625 5.171875  L 45.40625 9.625  Q 42.625 4.78125 38.28125 2.390625  Q 33.9375 0 27.875 0  Q 17.828125 0 11.671875 7.65625  Q 5.515625 15.328125 5.515625 27.984375  Q 5.515625 40.671875 11.671875 48.328125  Q 17.828125 56 27.875 56  Q 33.9375 56 38.28125 53.609375  Q 42.625 51.21875 45.40625 46.390625  L 45.40625 54.6875  L 54.390625 54.6875  z \" id=\"DejaVuSans-67\"/>\n",
       "      <path d=\"M 44.28125 53.078125  L 44.28125 44.578125  Q 40.484375 46.53125 36.375 47.5  Q 32.28125 48.484375 27.875 48.484375  Q 21.1875 48.484375 17.84375 46.4375  Q 14.5 44.390625 14.5 40.28125  Q 14.5 37.15625 16.890625 35.375  Q 19.28125 33.59375 26.515625 31.984375  L 29.59375 31.296875  Q 39.15625 29.25 43.1875 25.515625  Q 47.21875 21.78125 47.21875 15.09375  Q 47.21875 7.46875 41.1875 3.015625  Q 35.15625 -1.421875 24.609375 -1.421875  Q 20.21875 -1.421875 15.453125 -0.5625  Q 10.6875 0.296875 5.421875 2  L 5.421875 11.28125  Q 10.40625 8.6875 15.234375 7.390625  Q 20.0625 6.109375 24.8125 6.109375  Q 31.15625 6.109375 34.5625 8.28125  Q 37.984375 10.453125 37.984375 14.40625  Q 37.984375 18.0625 35.515625 20.015625  Q 33.0625 21.96875 24.703125 23.78125  L 21.578125 24.515625  Q 13.234375 26.265625 9.515625 29.90625  Q 5.8125 33.546875 5.8125 39.890625  Q 5.8125 47.609375 11.28125 51.796875  Q 16.75 56 26.8125 56  Q 31.78125 56 36.171875 55.265625  Q 40.578125 54.546875 44.28125 53.078125  z \" id=\"DejaVuSans-73\"/>\n",
       "      <path d=\"M 56.203125 29.59375  L 56.203125 25.203125  L 14.890625 25.203125  Q 15.484375 15.921875 20.484375 11.0625  Q 25.484375 6.203125 34.421875 6.203125  Q 39.59375 6.203125 44.453125 7.46875  Q 49.3125 8.734375 54.109375 11.28125  L 54.109375 2.78125  Q 49.265625 0.734375 44.1875 -0.34375  Q 39.109375 -1.421875 33.890625 -1.421875  Q 20.796875 -1.421875 13.15625 6.1875  Q 5.515625 13.8125 5.515625 26.8125  Q 5.515625 40.234375 12.765625 48.109375  Q 20.015625 56 32.328125 56  Q 43.359375 56 49.78125 48.890625  Q 56.203125 41.796875 56.203125 29.59375  z M 47.21875 32.234375  Q 47.125 39.59375 43.09375 43.984375  Q 39.0625 48.390625 32.421875 48.390625  Q 24.90625 48.390625 20.390625 44.140625  Q 15.875 39.890625 15.1875 32.171875  z \" id=\"DejaVuSans-65\"/>\n",
       "      <path d=\"M 18.3125 70.21875  L 18.3125 54.6875  L 36.8125 54.6875  L 36.8125 47.703125  L 18.3125 47.703125  L 18.3125 18.015625  Q 18.3125 11.328125 20.140625 9.421875  Q 21.96875 7.515625 27.59375 7.515625  L 36.8125 7.515625  L 36.8125 0  L 27.59375 0  Q 17.1875 0 13.234375 3.875  Q 9.28125 7.765625 9.28125 18.015625  L 9.28125 47.703125  L 2.6875 47.703125  L 2.6875 54.6875  L 9.28125 54.6875  L 9.28125 70.21875  z \" id=\"DejaVuSans-74\"/>\n",
       "     </defs>\n",
       "     <g transform=\"translate(266.030114 51.158437)scale(0.1 -0.1)\">\n",
       "      <use xlink:href=\"#DejaVuSans-54\"/>\n",
       "      <use x=\"60.865234\" xlink:href=\"#DejaVuSans-72\"/>\n",
       "      <use x=\"101.978516\" xlink:href=\"#DejaVuSans-61\"/>\n",
       "      <use x=\"163.257812\" xlink:href=\"#DejaVuSans-69\"/>\n",
       "      <use x=\"191.041016\" xlink:href=\"#DejaVuSans-6e\"/>\n",
       "      <use x=\"254.419922\" xlink:href=\"#DejaVuSans-69\"/>\n",
       "      <use x=\"282.203125\" xlink:href=\"#DejaVuSans-6e\"/>\n",
       "      <use x=\"345.582031\" xlink:href=\"#DejaVuSans-67\"/>\n",
       "      <use x=\"409.058594\" xlink:href=\"#DejaVuSans-20\"/>\n",
       "      <use x=\"440.845703\" xlink:href=\"#DejaVuSans-73\"/>\n",
       "      <use x=\"492.945312\" xlink:href=\"#DejaVuSans-65\"/>\n",
       "      <use x=\"554.46875\" xlink:href=\"#DejaVuSans-74\"/>\n",
       "     </g>\n",
       "    </g>\n",
       "    <g id=\"line2d_15\">\n",
       "     <path d=\"M 238.030114 62.336562  L 258.030114 62.336562  \" style=\"fill:none;stroke:#ff7f0e;stroke-linecap:square;stroke-width:1.5;\"/>\n",
       "    </g>\n",
       "    <g id=\"line2d_16\"/>\n",
       "    <g id=\"text_14\">\n",
       "     <!-- Validation set -->\n",
       "     <defs>\n",
       "      <path d=\"M 28.609375 0  L 0.78125 72.90625  L 11.078125 72.90625  L 34.1875 11.53125  L 57.328125 72.90625  L 67.578125 72.90625  L 39.796875 0  z \" id=\"DejaVuSans-56\"/>\n",
       "      <path d=\"M 9.421875 75.984375  L 18.40625 75.984375  L 18.40625 0  L 9.421875 0  z \" id=\"DejaVuSans-6c\"/>\n",
       "      <path d=\"M 45.40625 46.390625  L 45.40625 75.984375  L 54.390625 75.984375  L 54.390625 0  L 45.40625 0  L 45.40625 8.203125  Q 42.578125 3.328125 38.25 0.953125  Q 33.9375 -1.421875 27.875 -1.421875  Q 17.96875 -1.421875 11.734375 6.484375  Q 5.515625 14.40625 5.515625 27.296875  Q 5.515625 40.1875 11.734375 48.09375  Q 17.96875 56 27.875 56  Q 33.9375 56 38.25 53.625  Q 42.578125 51.265625 45.40625 46.390625  z M 14.796875 27.296875  Q 14.796875 17.390625 18.875 11.75  Q 22.953125 6.109375 30.078125 6.109375  Q 37.203125 6.109375 41.296875 11.75  Q 45.40625 17.390625 45.40625 27.296875  Q 45.40625 37.203125 41.296875 42.84375  Q 37.203125 48.484375 30.078125 48.484375  Q 22.953125 48.484375 18.875 42.84375  Q 14.796875 37.203125 14.796875 27.296875  z \" id=\"DejaVuSans-64\"/>\n",
       "     </defs>\n",
       "     <g transform=\"translate(266.030114 65.836562)scale(0.1 -0.1)\">\n",
       "      <use xlink:href=\"#DejaVuSans-56\"/>\n",
       "      <use x=\"68.298828\" xlink:href=\"#DejaVuSans-61\"/>\n",
       "      <use x=\"129.578125\" xlink:href=\"#DejaVuSans-6c\"/>\n",
       "      <use x=\"157.361328\" xlink:href=\"#DejaVuSans-69\"/>\n",
       "      <use x=\"185.144531\" xlink:href=\"#DejaVuSans-64\"/>\n",
       "      <use x=\"248.621094\" xlink:href=\"#DejaVuSans-61\"/>\n",
       "      <use x=\"309.900391\" xlink:href=\"#DejaVuSans-74\"/>\n",
       "      <use x=\"349.109375\" xlink:href=\"#DejaVuSans-69\"/>\n",
       "      <use x=\"376.892578\" xlink:href=\"#DejaVuSans-6f\"/>\n",
       "      <use x=\"438.074219\" xlink:href=\"#DejaVuSans-6e\"/>\n",
       "      <use x=\"501.453125\" xlink:href=\"#DejaVuSans-20\"/>\n",
       "      <use x=\"533.240234\" xlink:href=\"#DejaVuSans-73\"/>\n",
       "      <use x=\"585.339844\" xlink:href=\"#DejaVuSans-65\"/>\n",
       "      <use x=\"646.863281\" xlink:href=\"#DejaVuSans-74\"/>\n",
       "     </g>\n",
       "    </g>\n",
       "   </g>\n",
       "  </g>\n",
       "  <g id=\"axes_2\">\n",
       "   <g id=\"patch_8\">\n",
       "    <path d=\"M 394.363636 252  L 648 252  L 648 34.56  L 394.363636 34.56  z \" style=\"fill:#ffffff;\"/>\n",
       "   </g>\n",
       "   <g id=\"matplotlib.axis_3\">\n",
       "    <g id=\"xtick_6\">\n",
       "     <g id=\"line2d_17\">\n",
       "      <g>\n",
       "       <use style=\"stroke:#000000;stroke-width:0.8;\" x=\"405.892562\" xlink:href=\"#m1c3c4cfd83\" y=\"252\"/>\n",
       "      </g>\n",
       "     </g>\n",
       "     <g id=\"text_15\">\n",
       "      <!-- 0.0 -->\n",
       "      <g transform=\"translate(397.940999 266.598437)scale(0.1 -0.1)\">\n",
       "       <use xlink:href=\"#DejaVuSans-30\"/>\n",
       "       <use x=\"63.623047\" xlink:href=\"#DejaVuSans-2e\"/>\n",
       "       <use x=\"95.410156\" xlink:href=\"#DejaVuSans-30\"/>\n",
       "      </g>\n",
       "     </g>\n",
       "    </g>\n",
       "    <g id=\"xtick_7\">\n",
       "     <g id=\"line2d_18\">\n",
       "      <g>\n",
       "       <use style=\"stroke:#000000;stroke-width:0.8;\" x=\"463.53719\" xlink:href=\"#m1c3c4cfd83\" y=\"252\"/>\n",
       "      </g>\n",
       "     </g>\n",
       "     <g id=\"text_16\">\n",
       "      <!-- 0.5 -->\n",
       "      <g transform=\"translate(455.585628 266.598437)scale(0.1 -0.1)\">\n",
       "       <use xlink:href=\"#DejaVuSans-30\"/>\n",
       "       <use x=\"63.623047\" xlink:href=\"#DejaVuSans-2e\"/>\n",
       "       <use x=\"95.410156\" xlink:href=\"#DejaVuSans-35\"/>\n",
       "      </g>\n",
       "     </g>\n",
       "    </g>\n",
       "    <g id=\"xtick_8\">\n",
       "     <g id=\"line2d_19\">\n",
       "      <g>\n",
       "       <use style=\"stroke:#000000;stroke-width:0.8;\" x=\"521.181818\" xlink:href=\"#m1c3c4cfd83\" y=\"252\"/>\n",
       "      </g>\n",
       "     </g>\n",
       "     <g id=\"text_17\">\n",
       "      <!-- 1.0 -->\n",
       "      <g transform=\"translate(513.230256 266.598437)scale(0.1 -0.1)\">\n",
       "       <use xlink:href=\"#DejaVuSans-31\"/>\n",
       "       <use x=\"63.623047\" xlink:href=\"#DejaVuSans-2e\"/>\n",
       "       <use x=\"95.410156\" xlink:href=\"#DejaVuSans-30\"/>\n",
       "      </g>\n",
       "     </g>\n",
       "    </g>\n",
       "    <g id=\"xtick_9\">\n",
       "     <g id=\"line2d_20\">\n",
       "      <g>\n",
       "       <use style=\"stroke:#000000;stroke-width:0.8;\" x=\"578.826446\" xlink:href=\"#m1c3c4cfd83\" y=\"252\"/>\n",
       "      </g>\n",
       "     </g>\n",
       "     <g id=\"text_18\">\n",
       "      <!-- 1.5 -->\n",
       "      <g transform=\"translate(570.874884 266.598437)scale(0.1 -0.1)\">\n",
       "       <use xlink:href=\"#DejaVuSans-31\"/>\n",
       "       <use x=\"63.623047\" xlink:href=\"#DejaVuSans-2e\"/>\n",
       "       <use x=\"95.410156\" xlink:href=\"#DejaVuSans-35\"/>\n",
       "      </g>\n",
       "     </g>\n",
       "    </g>\n",
       "    <g id=\"xtick_10\">\n",
       "     <g id=\"line2d_21\">\n",
       "      <g>\n",
       "       <use style=\"stroke:#000000;stroke-width:0.8;\" x=\"636.471074\" xlink:href=\"#m1c3c4cfd83\" y=\"252\"/>\n",
       "      </g>\n",
       "     </g>\n",
       "     <g id=\"text_19\">\n",
       "      <!-- 2.0 -->\n",
       "      <g transform=\"translate(628.519512 266.598437)scale(0.1 -0.1)\">\n",
       "       <use xlink:href=\"#DejaVuSans-32\"/>\n",
       "       <use x=\"63.623047\" xlink:href=\"#DejaVuSans-2e\"/>\n",
       "       <use x=\"95.410156\" xlink:href=\"#DejaVuSans-30\"/>\n",
       "      </g>\n",
       "     </g>\n",
       "    </g>\n",
       "    <g id=\"text_20\">\n",
       "     <!-- Epoch -->\n",
       "     <g transform=\"translate(505.870881 280.276563)scale(0.1 -0.1)\">\n",
       "      <use xlink:href=\"#DejaVuSans-45\"/>\n",
       "      <use x=\"63.183594\" xlink:href=\"#DejaVuSans-70\"/>\n",
       "      <use x=\"126.660156\" xlink:href=\"#DejaVuSans-6f\"/>\n",
       "      <use x=\"187.841797\" xlink:href=\"#DejaVuSans-63\"/>\n",
       "      <use x=\"242.822266\" xlink:href=\"#DejaVuSans-68\"/>\n",
       "     </g>\n",
       "    </g>\n",
       "   </g>\n",
       "   <g id=\"matplotlib.axis_4\">\n",
       "    <g id=\"ytick_6\">\n",
       "     <g id=\"line2d_22\">\n",
       "      <g>\n",
       "       <use style=\"stroke:#000000;stroke-width:0.8;\" x=\"394.363636\" xlink:href=\"#mf245354add\" y=\"233.88\"/>\n",
       "      </g>\n",
       "     </g>\n",
       "     <g id=\"text_21\">\n",
       "      <!-- 0.0 -->\n",
       "      <g transform=\"translate(371.460511 237.679219)scale(0.1 -0.1)\">\n",
       "       <use xlink:href=\"#DejaVuSans-30\"/>\n",
       "       <use x=\"63.623047\" xlink:href=\"#DejaVuSans-2e\"/>\n",
       "       <use x=\"95.410156\" xlink:href=\"#DejaVuSans-30\"/>\n",
       "      </g>\n",
       "     </g>\n",
       "    </g>\n",
       "    <g id=\"ytick_7\">\n",
       "     <g id=\"line2d_23\">\n",
       "      <g>\n",
       "       <use style=\"stroke:#000000;stroke-width:0.8;\" x=\"394.363636\" xlink:href=\"#mf245354add\" y=\"197.64\"/>\n",
       "      </g>\n",
       "     </g>\n",
       "     <g id=\"text_22\">\n",
       "      <!-- 0.2 -->\n",
       "      <g transform=\"translate(371.460511 201.439219)scale(0.1 -0.1)\">\n",
       "       <use xlink:href=\"#DejaVuSans-30\"/>\n",
       "       <use x=\"63.623047\" xlink:href=\"#DejaVuSans-2e\"/>\n",
       "       <use x=\"95.410156\" xlink:href=\"#DejaVuSans-32\"/>\n",
       "      </g>\n",
       "     </g>\n",
       "    </g>\n",
       "    <g id=\"ytick_8\">\n",
       "     <g id=\"line2d_24\">\n",
       "      <g>\n",
       "       <use style=\"stroke:#000000;stroke-width:0.8;\" x=\"394.363636\" xlink:href=\"#mf245354add\" y=\"161.4\"/>\n",
       "      </g>\n",
       "     </g>\n",
       "     <g id=\"text_23\">\n",
       "      <!-- 0.4 -->\n",
       "      <defs>\n",
       "       <path d=\"M 37.796875 64.3125  L 12.890625 25.390625  L 37.796875 25.390625  z M 35.203125 72.90625  L 47.609375 72.90625  L 47.609375 25.390625  L 58.015625 25.390625  L 58.015625 17.1875  L 47.609375 17.1875  L 47.609375 0  L 37.796875 0  L 37.796875 17.1875  L 4.890625 17.1875  L 4.890625 26.703125  z \" id=\"DejaVuSans-34\"/>\n",
       "      </defs>\n",
       "      <g transform=\"translate(371.460511 165.199219)scale(0.1 -0.1)\">\n",
       "       <use xlink:href=\"#DejaVuSans-30\"/>\n",
       "       <use x=\"63.623047\" xlink:href=\"#DejaVuSans-2e\"/>\n",
       "       <use x=\"95.410156\" xlink:href=\"#DejaVuSans-34\"/>\n",
       "      </g>\n",
       "     </g>\n",
       "    </g>\n",
       "    <g id=\"ytick_9\">\n",
       "     <g id=\"line2d_25\">\n",
       "      <g>\n",
       "       <use style=\"stroke:#000000;stroke-width:0.8;\" x=\"394.363636\" xlink:href=\"#mf245354add\" y=\"125.16\"/>\n",
       "      </g>\n",
       "     </g>\n",
       "     <g id=\"text_24\">\n",
       "      <!-- 0.6 -->\n",
       "      <defs>\n",
       "       <path d=\"M 33.015625 40.375  Q 26.375 40.375 22.484375 35.828125  Q 18.609375 31.296875 18.609375 23.390625  Q 18.609375 15.53125 22.484375 10.953125  Q 26.375 6.390625 33.015625 6.390625  Q 39.65625 6.390625 43.53125 10.953125  Q 47.40625 15.53125 47.40625 23.390625  Q 47.40625 31.296875 43.53125 35.828125  Q 39.65625 40.375 33.015625 40.375  z M 52.59375 71.296875  L 52.59375 62.3125  Q 48.875 64.0625 45.09375 64.984375  Q 41.3125 65.921875 37.59375 65.921875  Q 27.828125 65.921875 22.671875 59.328125  Q 17.53125 52.734375 16.796875 39.40625  Q 19.671875 43.65625 24.015625 45.921875  Q 28.375 48.1875 33.59375 48.1875  Q 44.578125 48.1875 50.953125 41.515625  Q 57.328125 34.859375 57.328125 23.390625  Q 57.328125 12.15625 50.6875 5.359375  Q 44.046875 -1.421875 33.015625 -1.421875  Q 20.359375 -1.421875 13.671875 8.265625  Q 6.984375 17.96875 6.984375 36.375  Q 6.984375 53.65625 15.1875 63.9375  Q 23.390625 74.21875 37.203125 74.21875  Q 40.921875 74.21875 44.703125 73.484375  Q 48.484375 72.75 52.59375 71.296875  z \" id=\"DejaVuSans-36\"/>\n",
       "      </defs>\n",
       "      <g transform=\"translate(371.460511 128.959219)scale(0.1 -0.1)\">\n",
       "       <use xlink:href=\"#DejaVuSans-30\"/>\n",
       "       <use x=\"63.623047\" xlink:href=\"#DejaVuSans-2e\"/>\n",
       "       <use x=\"95.410156\" xlink:href=\"#DejaVuSans-36\"/>\n",
       "      </g>\n",
       "     </g>\n",
       "    </g>\n",
       "    <g id=\"ytick_10\">\n",
       "     <g id=\"line2d_26\">\n",
       "      <g>\n",
       "       <use style=\"stroke:#000000;stroke-width:0.8;\" x=\"394.363636\" xlink:href=\"#mf245354add\" y=\"88.92\"/>\n",
       "      </g>\n",
       "     </g>\n",
       "     <g id=\"text_25\">\n",
       "      <!-- 0.8 -->\n",
       "      <defs>\n",
       "       <path d=\"M 31.78125 34.625  Q 24.75 34.625 20.71875 30.859375  Q 16.703125 27.09375 16.703125 20.515625  Q 16.703125 13.921875 20.71875 10.15625  Q 24.75 6.390625 31.78125 6.390625  Q 38.8125 6.390625 42.859375 10.171875  Q 46.921875 13.96875 46.921875 20.515625  Q 46.921875 27.09375 42.890625 30.859375  Q 38.875 34.625 31.78125 34.625  z M 21.921875 38.8125  Q 15.578125 40.375 12.03125 44.71875  Q 8.5 49.078125 8.5 55.328125  Q 8.5 64.0625 14.71875 69.140625  Q 20.953125 74.21875 31.78125 74.21875  Q 42.671875 74.21875 48.875 69.140625  Q 55.078125 64.0625 55.078125 55.328125  Q 55.078125 49.078125 51.53125 44.71875  Q 48 40.375 41.703125 38.8125  Q 48.828125 37.15625 52.796875 32.3125  Q 56.78125 27.484375 56.78125 20.515625  Q 56.78125 9.90625 50.3125 4.234375  Q 43.84375 -1.421875 31.78125 -1.421875  Q 19.734375 -1.421875 13.25 4.234375  Q 6.78125 9.90625 6.78125 20.515625  Q 6.78125 27.484375 10.78125 32.3125  Q 14.796875 37.15625 21.921875 38.8125  z M 18.3125 54.390625  Q 18.3125 48.734375 21.84375 45.5625  Q 25.390625 42.390625 31.78125 42.390625  Q 38.140625 42.390625 41.71875 45.5625  Q 45.3125 48.734375 45.3125 54.390625  Q 45.3125 60.0625 41.71875 63.234375  Q 38.140625 66.40625 31.78125 66.40625  Q 25.390625 66.40625 21.84375 63.234375  Q 18.3125 60.0625 18.3125 54.390625  z \" id=\"DejaVuSans-38\"/>\n",
       "      </defs>\n",
       "      <g transform=\"translate(371.460511 92.719219)scale(0.1 -0.1)\">\n",
       "       <use xlink:href=\"#DejaVuSans-30\"/>\n",
       "       <use x=\"63.623047\" xlink:href=\"#DejaVuSans-2e\"/>\n",
       "       <use x=\"95.410156\" xlink:href=\"#DejaVuSans-38\"/>\n",
       "      </g>\n",
       "     </g>\n",
       "    </g>\n",
       "    <g id=\"ytick_11\">\n",
       "     <g id=\"line2d_27\">\n",
       "      <g>\n",
       "       <use style=\"stroke:#000000;stroke-width:0.8;\" x=\"394.363636\" xlink:href=\"#mf245354add\" y=\"52.68\"/>\n",
       "      </g>\n",
       "     </g>\n",
       "     <g id=\"text_26\">\n",
       "      <!-- 1.0 -->\n",
       "      <g transform=\"translate(371.460511 56.479219)scale(0.1 -0.1)\">\n",
       "       <use xlink:href=\"#DejaVuSans-31\"/>\n",
       "       <use x=\"63.623047\" xlink:href=\"#DejaVuSans-2e\"/>\n",
       "       <use x=\"95.410156\" xlink:href=\"#DejaVuSans-30\"/>\n",
       "      </g>\n",
       "     </g>\n",
       "    </g>\n",
       "   </g>\n",
       "   <g id=\"line2d_28\">\n",
       "    <path clip-path=\"url(#p8364e82858)\" d=\"M 405.892562 222.45232  L 521.181818 71.39796  L 636.471074 62.969785  \" style=\"fill:none;stroke:#1f77b4;stroke-linecap:square;stroke-width:1.5;\"/>\n",
       "   </g>\n",
       "   <g id=\"line2d_29\">\n",
       "    <path clip-path=\"url(#p8364e82858)\" d=\"M 405.892562 221.97516  L 521.181818 63.49764  \" style=\"fill:none;stroke:#ff7f0e;stroke-linecap:square;stroke-width:1.5;\"/>\n",
       "   </g>\n",
       "   <g id=\"patch_9\">\n",
       "    <path d=\"M 394.363636 252  L 394.363636 34.56  \" style=\"fill:none;stroke:#000000;stroke-linecap:square;stroke-linejoin:miter;stroke-width:0.8;\"/>\n",
       "   </g>\n",
       "   <g id=\"patch_10\">\n",
       "    <path d=\"M 648 252  L 648 34.56  \" style=\"fill:none;stroke:#000000;stroke-linecap:square;stroke-linejoin:miter;stroke-width:0.8;\"/>\n",
       "   </g>\n",
       "   <g id=\"patch_11\">\n",
       "    <path d=\"M 394.363636 252  L 648 252  \" style=\"fill:none;stroke:#000000;stroke-linecap:square;stroke-linejoin:miter;stroke-width:0.8;\"/>\n",
       "   </g>\n",
       "   <g id=\"patch_12\">\n",
       "    <path d=\"M 394.363636 34.56  L 648 34.56  \" style=\"fill:none;stroke:#000000;stroke-linecap:square;stroke-linejoin:miter;stroke-width:0.8;\"/>\n",
       "   </g>\n",
       "   <g id=\"text_27\">\n",
       "    <!-- MNIST_MLP: Accuracy -->\n",
       "    <defs>\n",
       "     <path d=\"M 34.1875 63.1875  L 20.796875 26.90625  L 47.609375 26.90625  z M 28.609375 72.90625  L 39.796875 72.90625  L 67.578125 0  L 57.328125 0  L 50.6875 18.703125  L 17.828125 18.703125  L 11.1875 0  L 0.78125 0  z \" id=\"DejaVuSans-41\"/>\n",
       "     <path d=\"M 8.5 21.578125  L 8.5 54.6875  L 17.484375 54.6875  L 17.484375 21.921875  Q 17.484375 14.15625 20.5 10.265625  Q 23.53125 6.390625 29.59375 6.390625  Q 36.859375 6.390625 41.078125 11.03125  Q 45.3125 15.671875 45.3125 23.6875  L 45.3125 54.6875  L 54.296875 54.6875  L 54.296875 0  L 45.3125 0  L 45.3125 8.40625  Q 42.046875 3.421875 37.71875 1  Q 33.40625 -1.421875 27.6875 -1.421875  Q 18.265625 -1.421875 13.375 4.4375  Q 8.5 10.296875 8.5 21.578125  z M 31.109375 56  z \" id=\"DejaVuSans-75\"/>\n",
       "     <path d=\"M 32.171875 -5.078125  Q 28.375 -14.84375 24.75 -17.8125  Q 21.140625 -20.796875 15.09375 -20.796875  L 7.90625 -20.796875  L 7.90625 -13.28125  L 13.1875 -13.28125  Q 16.890625 -13.28125 18.9375 -11.515625  Q 21 -9.765625 23.484375 -3.21875  L 25.09375 0.875  L 2.984375 54.6875  L 12.5 54.6875  L 29.59375 11.921875  L 46.6875 54.6875  L 56.203125 54.6875  z \" id=\"DejaVuSans-79\"/>\n",
       "    </defs>\n",
       "    <g transform=\"translate(455.708693 28.56)scale(0.12 -0.12)\">\n",
       "     <use xlink:href=\"#DejaVuSans-4d\"/>\n",
       "     <use x=\"86.279297\" xlink:href=\"#DejaVuSans-4e\"/>\n",
       "     <use x=\"161.083984\" xlink:href=\"#DejaVuSans-49\"/>\n",
       "     <use x=\"190.576172\" xlink:href=\"#DejaVuSans-53\"/>\n",
       "     <use x=\"254.052734\" xlink:href=\"#DejaVuSans-54\"/>\n",
       "     <use x=\"315.136719\" xlink:href=\"#DejaVuSans-5f\"/>\n",
       "     <use x=\"365.136719\" xlink:href=\"#DejaVuSans-4d\"/>\n",
       "     <use x=\"451.416016\" xlink:href=\"#DejaVuSans-4c\"/>\n",
       "     <use x=\"507.128906\" xlink:href=\"#DejaVuSans-50\"/>\n",
       "     <use x=\"567.431641\" xlink:href=\"#DejaVuSans-3a\"/>\n",
       "     <use x=\"601.123047\" xlink:href=\"#DejaVuSans-20\"/>\n",
       "     <use x=\"632.910156\" xlink:href=\"#DejaVuSans-41\"/>\n",
       "     <use x=\"701.302734\" xlink:href=\"#DejaVuSans-63\"/>\n",
       "     <use x=\"756.283203\" xlink:href=\"#DejaVuSans-63\"/>\n",
       "     <use x=\"811.263672\" xlink:href=\"#DejaVuSans-75\"/>\n",
       "     <use x=\"874.642578\" xlink:href=\"#DejaVuSans-72\"/>\n",
       "     <use x=\"915.755859\" xlink:href=\"#DejaVuSans-61\"/>\n",
       "     <use x=\"977.035156\" xlink:href=\"#DejaVuSans-63\"/>\n",
       "     <use x=\"1032.015625\" xlink:href=\"#DejaVuSans-79\"/>\n",
       "    </g>\n",
       "   </g>\n",
       "   <g id=\"legend_2\">\n",
       "    <g id=\"patch_13\">\n",
       "     <path d=\"M 401.363636 71.91625  L 501.969886 71.91625  Q 503.969886 71.91625 503.969886 69.91625  L 503.969886 41.56  Q 503.969886 39.56 501.969886 39.56  L 401.363636 39.56  Q 399.363636 39.56 399.363636 41.56  L 399.363636 69.91625  Q 399.363636 71.91625 401.363636 71.91625  z \" style=\"fill:#ffffff;opacity:0.8;stroke:#cccccc;stroke-linejoin:miter;\"/>\n",
       "    </g>\n",
       "    <g id=\"line2d_30\">\n",
       "     <path d=\"M 403.363636 47.658437  L 423.363636 47.658437  \" style=\"fill:none;stroke:#1f77b4;stroke-linecap:square;stroke-width:1.5;\"/>\n",
       "    </g>\n",
       "    <g id=\"line2d_31\"/>\n",
       "    <g id=\"text_28\">\n",
       "     <!-- Training set -->\n",
       "     <g transform=\"translate(431.363636 51.158437)scale(0.1 -0.1)\">\n",
       "      <use xlink:href=\"#DejaVuSans-54\"/>\n",
       "      <use x=\"60.865234\" xlink:href=\"#DejaVuSans-72\"/>\n",
       "      <use x=\"101.978516\" xlink:href=\"#DejaVuSans-61\"/>\n",
       "      <use x=\"163.257812\" xlink:href=\"#DejaVuSans-69\"/>\n",
       "      <use x=\"191.041016\" xlink:href=\"#DejaVuSans-6e\"/>\n",
       "      <use x=\"254.419922\" xlink:href=\"#DejaVuSans-69\"/>\n",
       "      <use x=\"282.203125\" xlink:href=\"#DejaVuSans-6e\"/>\n",
       "      <use x=\"345.582031\" xlink:href=\"#DejaVuSans-67\"/>\n",
       "      <use x=\"409.058594\" xlink:href=\"#DejaVuSans-20\"/>\n",
       "      <use x=\"440.845703\" xlink:href=\"#DejaVuSans-73\"/>\n",
       "      <use x=\"492.945312\" xlink:href=\"#DejaVuSans-65\"/>\n",
       "      <use x=\"554.46875\" xlink:href=\"#DejaVuSans-74\"/>\n",
       "     </g>\n",
       "    </g>\n",
       "    <g id=\"line2d_32\">\n",
       "     <path d=\"M 403.363636 62.336562  L 423.363636 62.336562  \" style=\"fill:none;stroke:#ff7f0e;stroke-linecap:square;stroke-width:1.5;\"/>\n",
       "    </g>\n",
       "    <g id=\"line2d_33\"/>\n",
       "    <g id=\"text_29\">\n",
       "     <!-- Validation set -->\n",
       "     <g transform=\"translate(431.363636 65.836562)scale(0.1 -0.1)\">\n",
       "      <use xlink:href=\"#DejaVuSans-56\"/>\n",
       "      <use x=\"68.298828\" xlink:href=\"#DejaVuSans-61\"/>\n",
       "      <use x=\"129.578125\" xlink:href=\"#DejaVuSans-6c\"/>\n",
       "      <use x=\"157.361328\" xlink:href=\"#DejaVuSans-69\"/>\n",
       "      <use x=\"185.144531\" xlink:href=\"#DejaVuSans-64\"/>\n",
       "      <use x=\"248.621094\" xlink:href=\"#DejaVuSans-61\"/>\n",
       "      <use x=\"309.900391\" xlink:href=\"#DejaVuSans-74\"/>\n",
       "      <use x=\"349.109375\" xlink:href=\"#DejaVuSans-69\"/>\n",
       "      <use x=\"376.892578\" xlink:href=\"#DejaVuSans-6f\"/>\n",
       "      <use x=\"438.074219\" xlink:href=\"#DejaVuSans-6e\"/>\n",
       "      <use x=\"501.453125\" xlink:href=\"#DejaVuSans-20\"/>\n",
       "      <use x=\"533.240234\" xlink:href=\"#DejaVuSans-73\"/>\n",
       "      <use x=\"585.339844\" xlink:href=\"#DejaVuSans-65\"/>\n",
       "      <use x=\"646.863281\" xlink:href=\"#DejaVuSans-74\"/>\n",
       "     </g>\n",
       "    </g>\n",
       "   </g>\n",
       "  </g>\n",
       " </g>\n",
       " <defs>\n",
       "  <clipPath id=\"p59e359f8cf\">\n",
       "   <rect height=\"217.44\" width=\"253.636364\" x=\"90\" y=\"34.56\"/>\n",
       "  </clipPath>\n",
       "  <clipPath id=\"p8364e82858\">\n",
       "   <rect height=\"217.44\" width=\"253.636364\" x=\"394.363636\" y=\"34.56\"/>\n",
       "  </clipPath>\n",
       " </defs>\n",
       "</svg>"
      ],
      "text/plain": [
       "<IPython.core.display.SVG object>"
      ]
     },
     "metadata": {},
     "output_type": "display_data"
    },
    {
     "name": "stdout",
     "output_type": "stream",
     "text": [
      "Interrupted! Cleaning up...\n",
      "========================================================\n",
      "       |  Training |  Training \n",
      "Epochs |     Error |  Accuracy \n",
      "------ | --------- | --------- \n",
      "#    2 |   0.19710 |   0.94321 \n"
     ]
    },
    {
     "ename": "KeyboardInterrupt",
     "evalue": "",
     "output_type": "error",
     "traceback": [
      "\u001b[0;31m---------------------------------------------------------------------------\u001b[0m",
      "\u001b[0;31mKeyboardInterrupt\u001b[0m                         Traceback (most recent call last)",
      "\u001b[0;32m<ipython-input-29-97c60fae436b>\u001b[0m in \u001b[0;36m<module>\u001b[0;34m()\u001b[0m\n\u001b[0;32m----> 1\u001b[0;31m \u001b[0mnet\u001b[0m\u001b[0;34m.\u001b[0m\u001b[0mtrain\u001b[0m\u001b[0;34m(\u001b[0m\u001b[0mepochs\u001b[0m\u001b[0;34m=\u001b[0m\u001b[0;36m30\u001b[0m\u001b[0;34m)\u001b[0m\u001b[0;34m\u001b[0m\u001b[0m\n\u001b[0m",
      "\u001b[0;32m~/.local/lib/python3.6/site-packages/conx/network.py\u001b[0m in \u001b[0;36mtrain\u001b[0;34m(self, epochs, accuracy, error, batch_size, report_rate, verbose, kverbose, shuffle, tolerance, class_weight, sample_weight, use_validation_to_stop, plot, record, callbacks, save)\u001b[0m\n\u001b[1;32m   1464\u001b[0m                 \u001b[0mprint\u001b[0m\u001b[0;34m(\u001b[0m\u001b[0;34m\"Saved!\"\u001b[0m\u001b[0;34m)\u001b[0m\u001b[0;34m\u001b[0m\u001b[0m\n\u001b[1;32m   1465\u001b[0m         \u001b[0;32mif\u001b[0m \u001b[0minterrupted\u001b[0m\u001b[0;34m:\u001b[0m\u001b[0;34m\u001b[0m\u001b[0m\n\u001b[0;32m-> 1466\u001b[0;31m             \u001b[0;32mraise\u001b[0m \u001b[0mKeyboardInterrupt\u001b[0m\u001b[0;34m\u001b[0m\u001b[0m\n\u001b[0m\u001b[1;32m   1467\u001b[0m         \u001b[0;32mif\u001b[0m \u001b[0mverbose\u001b[0m \u001b[0;34m==\u001b[0m \u001b[0;36m0\u001b[0m\u001b[0;34m:\u001b[0m\u001b[0;34m\u001b[0m\u001b[0m\n\u001b[1;32m   1468\u001b[0m             \u001b[0;32mreturn\u001b[0m \u001b[0;34m(\u001b[0m\u001b[0mself\u001b[0m\u001b[0;34m.\u001b[0m\u001b[0mepoch_count\u001b[0m\u001b[0;34m,\u001b[0m \u001b[0mself\u001b[0m\u001b[0;34m.\u001b[0m\u001b[0mhistory\u001b[0m\u001b[0;34m[\u001b[0m\u001b[0;34m-\u001b[0m\u001b[0;36m1\u001b[0m\u001b[0;34m]\u001b[0m\u001b[0;34m)\u001b[0m\u001b[0;34m\u001b[0m\u001b[0m\n",
      "\u001b[0;31mKeyboardInterrupt\u001b[0m: "
     ]
    }
   ],
   "source": [
    "net.train(epochs=30)"
   ]
  },
  {
   "cell_type": "markdown",
   "metadata": {},
   "source": [
    "The detailed epoch-by-epoch training history of the network is available by calling `show_results()`. The optional `report_rate` keyword specifies which epochs to show."
   ]
  },
  {
   "cell_type": "code",
   "execution_count": 30,
   "metadata": {
    "scrolled": true
   },
   "outputs": [
    {
     "name": "stdout",
     "output_type": "stream",
     "text": [
      "       |  Training |  Training |  Validate |  Validate \n",
      "Epochs |     Error |  Accuracy |     Error |  Accuracy \n",
      "------ | --------- | --------- | --------- | --------- \n",
      "#    0 |   2.34410 |   0.06307 |   2.34118 |   0.06570 \n",
      "========================================================\n",
      "#    2 |   0.19710 |   0.94321 \n"
     ]
    }
   ],
   "source": [
    "net.show_results(report_rate=5)"
   ]
  },
  {
   "cell_type": "markdown",
   "metadata": {},
   "source": [
    "The `plot` method shows the value of various network metrics during training. The metrics `loss` and `val_loss` represent the value of the error (loss) function on the training and testing sets, respectively.  Likewise, `acc` and `val_acc` represent the accuracy of the training and testing sets, respectively. The optional `ymin` and `ymax` keywords can be used to adjust the y-axis scale. For example:"
   ]
  },
  {
   "cell_type": "code",
   "execution_count": 31,
   "metadata": {},
   "outputs": [
    {
     "data": {
      "image/png": "[encoded data removed]",
      "text/plain": [
       "<Figure size 432x288 with 1 Axes>"
      ]
     },
     "metadata": {},
     "output_type": "display_data"
    }
   ],
   "source": [
    "net.plot(['acc', 'val_acc'], ymin=0.9, ymax=1)"
   ]
  },
  {
   "cell_type": "code",
   "execution_count": 32,
   "metadata": {},
   "outputs": [
    {
     "data": {
      "image/png": "[encoded data removed]",
      "text/plain": [
       "<Figure size 432x288 with 1 Axes>"
      ]
     },
     "metadata": {},
     "output_type": "display_data"
    }
   ],
   "source": [
    "net.plot(['loss', 'val_loss'], ymin=0, ymax=0.3)"
   ]
  },
  {
   "cell_type": "markdown",
   "metadata": {},
   "source": [
    "After training, the index of the largest output value in response to an input image corresponds to the network's digit classification.  To see this more clearly, we will make use of ConX's ``argmax`` function, which takes a list of numbers and returns the *position* of the largest number in the list (counting from 0).  For example, test input #42 is shown below, along with the network's response."
   ]
  },
  {
   "cell_type": "code",
   "execution_count": 33,
   "metadata": {},
   "outputs": [
    {
     "data": {
      "image/png": "[encoded data removed]",
      "text/plain": [
       "<Figure size 432x288 with 1 Axes>"
      ]
     },
     "metadata": {},
     "output_type": "display_data"
    }
   ],
   "source": [
    "cx.view(net.dataset.test_inputs[42])"
   ]
  },
  {
   "cell_type": "code",
   "execution_count": 34,
   "metadata": {},
   "outputs": [
    {
     "data": {
      "text/plain": [
       "[5.2092713303864e-05,\n",
       " 0.9586198329925537,\n",
       " 0.0066554853692650795,\n",
       " 0.000483944546431303,\n",
       " 0.01734444499015808,\n",
       " 0.0013681561686098576,\n",
       " 0.0008948856266215444,\n",
       " 0.00332481786608696,\n",
       " 0.006120710633695126,\n",
       " 0.005135755520313978]"
      ]
     },
     "execution_count": 34,
     "metadata": {},
     "output_type": "execute_result"
    }
   ],
   "source": [
    "net.propagate(net.dataset.test_inputs[42])"
   ]
  },
  {
   "cell_type": "code",
   "execution_count": 35,
   "metadata": {},
   "outputs": [
    {
     "data": {
      "text/plain": [
       "1"
      ]
     },
     "execution_count": 35,
     "metadata": {},
     "output_type": "execute_result"
    }
   ],
   "source": [
    "cx.argmax(net.propagate(net.dataset.test_inputs[42]))"
   ]
  },
  {
   "cell_type": "markdown",
   "metadata": {},
   "source": [
    "Examining the weights into the same three hidden units as before shows that these units have learned to respond in different ways to different parts of the input image."
   ]
  },
  {
   "cell_type": "code",
   "execution_count": 36,
   "metadata": {},
   "outputs": [
    {
     "data": {
      "image/png": "[encoded data removed]",
      "text/plain": [
       "<Figure size 720x180 with 4 Axes>"
      ]
     },
     "metadata": {},
     "output_type": "display_data"
    }
   ],
   "source": [
    "net.plot_layer_weights('hidden1', units=[0,1,2], vshape=(28,28), wrange=(-1.5, 1.5))"
   ]
  },
  {
   "cell_type": "markdown",
   "metadata": {},
   "source": [
    "## A Convolutional Network for MNIST Classification\n",
    "\n",
    "Convolutional neural networks (CNNs) are loosely inspired by the neurobiology of the visual system. The key idea is that each unit in a convolutional layer receives connections from a limited number of units in the previous layer (which can be thought of as the unit's \"visual field\"), and these connections are arranged in a two-dimensional topology to take advantage of spatial information. Each convolutional layer specifies a number of independent *features* to be learned, along with the *N*&nbsp;&times;&nbsp;*N* size of the visual field (also called the *kernel size*). The units responsible for learning a feature share connections across the entire convolutional layer, which often leads to far fewer network parameters compared to a network with fully-connected layers.\n",
    "\n",
    "Another type of layer common to CNNs is the *pooling* layer, which reduces the amount of information flowing through the network by the process of subsampling. Each pooling unit receives input from a limited number of units in the previous layer, and then applies some function (like *maximum* or *average*) to these inputs. The overall effect is to produce a coarser-grained version of the information from the previous layer, which makes the network less sensitive to small variations in position.\n",
    "\n",
    "We will define a CNN for MNIST classification using two convolutional layers with 5 &times; 5 kernels, each followed by a pooling layer with 2 &times; 2 kernels that compute the maximum of their inputs. The first convolutional layer will learn 16 relatively low-level features, whereas the second will learn 32 higher-level features. These features will then feed into a hidden layer (after being flattened), followed by an output classification layer using *softmax*."
   ]
  },
  {
   "cell_type": "code",
   "execution_count": 36,
   "metadata": {},
   "outputs": [],
   "source": [
    "import conx as cx"
   ]
  },
  {
   "cell_type": "code",
   "execution_count": 37,
   "metadata": {},
   "outputs": [],
   "source": [
    "cnn = cx.Network(\"MNIST_CNN\")\n",
    "\n",
    "cnn.add(cx.Layer(\"input\", (28,28,1), colormap=\"gray\"),\n",
    "        cx.Conv2DLayer(\"conv2D_1\", 16, (5,5), activation=\"relu\", dropout=0.20),\n",
    "        cx.MaxPool2DLayer(\"maxpool1\", (2,2)),\n",
    "        cx.Conv2DLayer(\"conv2D_2\", 32, (5,5), activation=\"relu\", dropout=0.20),\n",
    "        cx.MaxPool2DLayer(\"maxpool2\", (2,2)),\n",
    "        cx.FlattenLayer(\"flat\"),\n",
    "        cx.Layer(\"hidden\", 30, activation='relu'),\n",
    "        cx.Layer(\"output\", 10, activation='softmax'))\n",
    "\n",
    "cnn.connect()"
   ]
  },
  {
   "cell_type": "markdown",
   "metadata": {},
   "source": [
    "Notice that each convolution layer in the network includes a `dropout` setting of 20%. Dropout is a technique that helps to improve a network's ability to generalize what it has learned, by making it less sensitive to noise and to irrelevant correlations that may exist in the training data.  During training, a randomly chosen subset of units in a dropout layer (here, 20% of the units) will be turned off (set to zero activation) on each training cycle, with different random subsets being chosen on each cycle. Dropout only occurs during training; after the network has learned, all units participate in the classification of input data. \n",
    "\n",
    "Next, we need to initialize our dataset and then compile the network."
   ]
  },
  {
   "cell_type": "code",
   "execution_count": 38,
   "metadata": {},
   "outputs": [],
   "source": [
    "cnn.get_dataset(\"MNIST\")"
   ]
  },
  {
   "cell_type": "code",
   "execution_count": 39,
   "metadata": {},
   "outputs": [
    {
     "name": "stdout",
     "output_type": "stream",
     "text": [
      "_________________________________________________________________\n",
      "MNIST:\n",
      "Patterns    Shape                 Range                         \n",
      "=================================================================\n",
      "inputs      (28, 28, 1)           (0.0, 1.0)                    \n",
      "targets     (10,)                 (0.0, 1.0)                    \n",
      "=================================================================\n",
      "Total patterns: 70000\n",
      "   Training patterns: 60000\n",
      "   Testing patterns: 10000\n",
      "_________________________________________________________________\n"
     ]
    }
   ],
   "source": [
    "cnn.dataset.split(10000)\n",
    "cnn.dataset.summary()"
   ]
  },
  {
   "cell_type": "markdown",
   "metadata": {},
   "source": [
    "This time we will try the RMSprop algorithm, which automatically adjusts the learning rate and momentum as training proceeds."
   ]
  },
  {
   "cell_type": "code",
   "execution_count": 40,
   "metadata": {},
   "outputs": [],
   "source": [
    "cnn.compile(error='categorical_crossentropy', optimizer='RMSprop')"
   ]
  },
  {
   "cell_type": "code",
   "execution_count": 41,
   "metadata": {},
   "outputs": [
    {
     "name": "stdout",
     "output_type": "stream",
     "text": [
      "_________________________________________________________________\n",
      "Layer (type)                 Output Shape              Param #   \n",
      "=================================================================\n",
      "input (InputLayer)           (None, 28, 28, 1)         0         \n",
      "_________________________________________________________________\n",
      "conv2D_1 (Conv2D)            (None, 24, 24, 16)        416       \n",
      "_________________________________________________________________\n",
      "dropout_1 (Dropout)          (None, 24, 24, 16)        0         \n",
      "_________________________________________________________________\n",
      "maxpool1 (MaxPooling2D)      (None, 12, 12, 16)        0         \n",
      "_________________________________________________________________\n",
      "conv2D_2 (Conv2D)            (None, 8, 8, 32)          12832     \n",
      "_________________________________________________________________\n",
      "dropout_2 (Dropout)          (None, 8, 8, 32)          0         \n",
      "_________________________________________________________________\n",
      "maxpool2 (MaxPooling2D)      (None, 4, 4, 32)          0         \n",
      "_________________________________________________________________\n",
      "flat (Flatten)               (None, 512)               0         \n",
      "_________________________________________________________________\n",
      "hidden (Dense)               (None, 30)                15390     \n",
      "_________________________________________________________________\n",
      "output (Dense)               (None, 10)                310       \n",
      "=================================================================\n",
      "Total params: 28,948\n",
      "Trainable params: 28,948\n",
      "Non-trainable params: 0\n",
      "_________________________________________________________________\n"
     ]
    }
   ],
   "source": [
    "cnn.summary()"
   ]
  },
  {
   "cell_type": "markdown",
   "metadata": {},
   "source": [
    "<img src=\"mnist-cnn.png\" width=\"80%\">"
   ]
  },
  {
   "cell_type": "code",
   "execution_count": 42,
   "metadata": {},
   "outputs": [
    {
     "data": {
      "application/vnd.jupyter.widget-view+json": {
       "model_id": "c48b11454e624cc09945038b3070decc",
       "version_major": 2,
       "version_minor": 0
      },
      "text/plain": [
       "Dashboard(children=(Accordion(children=(HBox(children=(VBox(children=(Select(description='Dataset:', index=1, …"
      ]
     },
     "metadata": {},
     "output_type": "display_data"
    }
   ],
   "source": [
    "cnn.dashboard()"
   ]
  },
  {
   "cell_type": "markdown",
   "metadata": {},
   "source": [
    "Training our CNN on the full dataset will take a long time, so in the interest of brevity, let's reduce the size of our dataset by 80% using the ``chop`` method, which deletes the specified fraction of data from the dataset."
   ]
  },
  {
   "cell_type": "code",
   "execution_count": 8,
   "metadata": {},
   "outputs": [
    {
     "name": "stdout",
     "output_type": "stream",
     "text": [
      "Starting with 70000 patterns\n",
      "14000 patterns left after chop\n"
     ]
    },
    {
     "name": "stderr",
     "output_type": "stream",
     "text": [
      "WARNING: dataset split reset to 0\n"
     ]
    }
   ],
   "source": [
    "print('Starting with', len(cnn.dataset), 'patterns')\n",
    "cnn.dataset.chop(0.80)\n",
    "print(len(cnn.dataset), 'patterns left after chop')"
   ]
  },
  {
   "cell_type": "markdown",
   "metadata": {},
   "source": [
    "We then reserve 25% of the remaining data for testing."
   ]
  },
  {
   "cell_type": "code",
   "execution_count": 43,
   "metadata": {},
   "outputs": [
    {
     "data": {
      "text/plain": [
       "(10500, 3500)"
      ]
     },
     "execution_count": 43,
     "metadata": {},
     "output_type": "execute_result"
    }
   ],
   "source": [
    "cnn.dataset.split(0.25)\n",
    "cnn.dataset.split()"
   ]
  },
  {
   "cell_type": "code",
   "execution_count": 44,
   "metadata": {},
   "outputs": [
    {
     "data": {
      "image/svg+xml": [
       "<svg height=\"288pt\" version=\"1.1\" viewBox=\"0 0 720 288\" width=\"720pt\" xmlns=\"http://www.w3.org/2000/svg\" xmlns:xlink=\"http://www.w3.org/1999/xlink\">\n",
       " <defs>\n",
       "  <style type=\"text/css\">\n",
       "*{stroke-linecap:butt;stroke-linejoin:round;}\n",
       "  </style>\n",
       " </defs>\n",
       " <g id=\"figure_1\">\n",
       "  <g id=\"patch_1\">\n",
       "   <path d=\"M 0 288  L 720 288  L 720 0  L 0 0  z \" style=\"fill:#ffffff;\"/>\n",
       "  </g>\n",
       "  <g id=\"axes_1\">\n",
       "   <g id=\"patch_2\">\n",
       "    <path d=\"M 90 252  L 343.636364 252  L 343.636364 34.56  L 90 34.56  z \" style=\"fill:#ffffff;\"/>\n",
       "   </g>\n",
       "   <g id=\"matplotlib.axis_1\">\n",
       "    <g id=\"xtick_1\">\n",
       "     <g id=\"line2d_1\">\n",
       "      <defs>\n",
       "       <path d=\"M 0 0  L 0 3.5  \" id=\"m434e46764c\" style=\"stroke:#000000;stroke-width:0.8;\"/>\n",
       "      </defs>\n",
       "      <g>\n",
       "       <use style=\"stroke:#000000;stroke-width:0.8;\" x=\"101.528926\" xlink:href=\"#m434e46764c\" y=\"252\"/>\n",
       "      </g>\n",
       "     </g>\n",
       "     <g id=\"text_1\">\n",
       "      <!-- 0 -->\n",
       "      <defs>\n",
       "       <path d=\"M 31.78125 66.40625  Q 24.171875 66.40625 20.328125 58.90625  Q 16.5 51.421875 16.5 36.375  Q 16.5 21.390625 20.328125 13.890625  Q 24.171875 6.390625 31.78125 6.390625  Q 39.453125 6.390625 43.28125 13.890625  Q 47.125 21.390625 47.125 36.375  Q 47.125 51.421875 43.28125 58.90625  Q 39.453125 66.40625 31.78125 66.40625  z M 31.78125 74.21875  Q 44.046875 74.21875 50.515625 64.515625  Q 56.984375 54.828125 56.984375 36.375  Q 56.984375 17.96875 50.515625 8.265625  Q 44.046875 -1.421875 31.78125 -1.421875  Q 19.53125 -1.421875 13.0625 8.265625  Q 6.59375 17.96875 6.59375 36.375  Q 6.59375 54.828125 13.0625 64.515625  Q 19.53125 74.21875 31.78125 74.21875  z \" id=\"DejaVuSans-30\"/>\n",
       "      </defs>\n",
       "      <g transform=\"translate(98.347676 266.598437)scale(0.1 -0.1)\">\n",
       "       <use xlink:href=\"#DejaVuSans-30\"/>\n",
       "      </g>\n",
       "     </g>\n",
       "    </g>\n",
       "    <g id=\"xtick_2\">\n",
       "     <g id=\"line2d_2\">\n",
       "      <g>\n",
       "       <use style=\"stroke:#000000;stroke-width:0.8;\" x=\"147.644628\" xlink:href=\"#m434e46764c\" y=\"252\"/>\n",
       "      </g>\n",
       "     </g>\n",
       "     <g id=\"text_2\">\n",
       "      <!-- 2 -->\n",
       "      <defs>\n",
       "       <path d=\"M 19.1875 8.296875  L 53.609375 8.296875  L 53.609375 0  L 7.328125 0  L 7.328125 8.296875  Q 12.9375 14.109375 22.625 23.890625  Q 32.328125 33.6875 34.8125 36.53125  Q 39.546875 41.84375 41.421875 45.53125  Q 43.3125 49.21875 43.3125 52.78125  Q 43.3125 58.59375 39.234375 62.25  Q 35.15625 65.921875 28.609375 65.921875  Q 23.96875 65.921875 18.8125 64.3125  Q 13.671875 62.703125 7.8125 59.421875  L 7.8125 69.390625  Q 13.765625 71.78125 18.9375 73  Q 24.125 74.21875 28.421875 74.21875  Q 39.75 74.21875 46.484375 68.546875  Q 53.21875 62.890625 53.21875 53.421875  Q 53.21875 48.921875 51.53125 44.890625  Q 49.859375 40.875 45.40625 35.40625  Q 44.1875 33.984375 37.640625 27.21875  Q 31.109375 20.453125 19.1875 8.296875  z \" id=\"DejaVuSans-32\"/>\n",
       "      </defs>\n",
       "      <g transform=\"translate(144.463378 266.598437)scale(0.1 -0.1)\">\n",
       "       <use xlink:href=\"#DejaVuSans-32\"/>\n",
       "      </g>\n",
       "     </g>\n",
       "    </g>\n",
       "    <g id=\"xtick_3\">\n",
       "     <g id=\"line2d_3\">\n",
       "      <g>\n",
       "       <use style=\"stroke:#000000;stroke-width:0.8;\" x=\"193.760331\" xlink:href=\"#m434e46764c\" y=\"252\"/>\n",
       "      </g>\n",
       "     </g>\n",
       "     <g id=\"text_3\">\n",
       "      <!-- 4 -->\n",
       "      <defs>\n",
       "       <path d=\"M 37.796875 64.3125  L 12.890625 25.390625  L 37.796875 25.390625  z M 35.203125 72.90625  L 47.609375 72.90625  L 47.609375 25.390625  L 58.015625 25.390625  L 58.015625 17.1875  L 47.609375 17.1875  L 47.609375 0  L 37.796875 0  L 37.796875 17.1875  L 4.890625 17.1875  L 4.890625 26.703125  z \" id=\"DejaVuSans-34\"/>\n",
       "      </defs>\n",
       "      <g transform=\"translate(190.579081 266.598437)scale(0.1 -0.1)\">\n",
       "       <use xlink:href=\"#DejaVuSans-34\"/>\n",
       "      </g>\n",
       "     </g>\n",
       "    </g>\n",
       "    <g id=\"xtick_4\">\n",
       "     <g id=\"line2d_4\">\n",
       "      <g>\n",
       "       <use style=\"stroke:#000000;stroke-width:0.8;\" x=\"239.876033\" xlink:href=\"#m434e46764c\" y=\"252\"/>\n",
       "      </g>\n",
       "     </g>\n",
       "     <g id=\"text_4\">\n",
       "      <!-- 6 -->\n",
       "      <defs>\n",
       "       <path d=\"M 33.015625 40.375  Q 26.375 40.375 22.484375 35.828125  Q 18.609375 31.296875 18.609375 23.390625  Q 18.609375 15.53125 22.484375 10.953125  Q 26.375 6.390625 33.015625 6.390625  Q 39.65625 6.390625 43.53125 10.953125  Q 47.40625 15.53125 47.40625 23.390625  Q 47.40625 31.296875 43.53125 35.828125  Q 39.65625 40.375 33.015625 40.375  z M 52.59375 71.296875  L 52.59375 62.3125  Q 48.875 64.0625 45.09375 64.984375  Q 41.3125 65.921875 37.59375 65.921875  Q 27.828125 65.921875 22.671875 59.328125  Q 17.53125 52.734375 16.796875 39.40625  Q 19.671875 43.65625 24.015625 45.921875  Q 28.375 48.1875 33.59375 48.1875  Q 44.578125 48.1875 50.953125 41.515625  Q 57.328125 34.859375 57.328125 23.390625  Q 57.328125 12.15625 50.6875 5.359375  Q 44.046875 -1.421875 33.015625 -1.421875  Q 20.359375 -1.421875 13.671875 8.265625  Q 6.984375 17.96875 6.984375 36.375  Q 6.984375 53.65625 15.1875 63.9375  Q 23.390625 74.21875 37.203125 74.21875  Q 40.921875 74.21875 44.703125 73.484375  Q 48.484375 72.75 52.59375 71.296875  z \" id=\"DejaVuSans-36\"/>\n",
       "      </defs>\n",
       "      <g transform=\"translate(236.694783 266.598437)scale(0.1 -0.1)\">\n",
       "       <use xlink:href=\"#DejaVuSans-36\"/>\n",
       "      </g>\n",
       "     </g>\n",
       "    </g>\n",
       "    <g id=\"xtick_5\">\n",
       "     <g id=\"line2d_5\">\n",
       "      <g>\n",
       "       <use style=\"stroke:#000000;stroke-width:0.8;\" x=\"285.991736\" xlink:href=\"#m434e46764c\" y=\"252\"/>\n",
       "      </g>\n",
       "     </g>\n",
       "     <g id=\"text_5\">\n",
       "      <!-- 8 -->\n",
       "      <defs>\n",
       "       <path d=\"M 31.78125 34.625  Q 24.75 34.625 20.71875 30.859375  Q 16.703125 27.09375 16.703125 20.515625  Q 16.703125 13.921875 20.71875 10.15625  Q 24.75 6.390625 31.78125 6.390625  Q 38.8125 6.390625 42.859375 10.171875  Q 46.921875 13.96875 46.921875 20.515625  Q 46.921875 27.09375 42.890625 30.859375  Q 38.875 34.625 31.78125 34.625  z M 21.921875 38.8125  Q 15.578125 40.375 12.03125 44.71875  Q 8.5 49.078125 8.5 55.328125  Q 8.5 64.0625 14.71875 69.140625  Q 20.953125 74.21875 31.78125 74.21875  Q 42.671875 74.21875 48.875 69.140625  Q 55.078125 64.0625 55.078125 55.328125  Q 55.078125 49.078125 51.53125 44.71875  Q 48 40.375 41.703125 38.8125  Q 48.828125 37.15625 52.796875 32.3125  Q 56.78125 27.484375 56.78125 20.515625  Q 56.78125 9.90625 50.3125 4.234375  Q 43.84375 -1.421875 31.78125 -1.421875  Q 19.734375 -1.421875 13.25 4.234375  Q 6.78125 9.90625 6.78125 20.515625  Q 6.78125 27.484375 10.78125 32.3125  Q 14.796875 37.15625 21.921875 38.8125  z M 18.3125 54.390625  Q 18.3125 48.734375 21.84375 45.5625  Q 25.390625 42.390625 31.78125 42.390625  Q 38.140625 42.390625 41.71875 45.5625  Q 45.3125 48.734375 45.3125 54.390625  Q 45.3125 60.0625 41.71875 63.234375  Q 38.140625 66.40625 31.78125 66.40625  Q 25.390625 66.40625 21.84375 63.234375  Q 18.3125 60.0625 18.3125 54.390625  z \" id=\"DejaVuSans-38\"/>\n",
       "      </defs>\n",
       "      <g transform=\"translate(282.810486 266.598437)scale(0.1 -0.1)\">\n",
       "       <use xlink:href=\"#DejaVuSans-38\"/>\n",
       "      </g>\n",
       "     </g>\n",
       "    </g>\n",
       "    <g id=\"xtick_6\">\n",
       "     <g id=\"line2d_6\">\n",
       "      <g>\n",
       "       <use style=\"stroke:#000000;stroke-width:0.8;\" x=\"332.107438\" xlink:href=\"#m434e46764c\" y=\"252\"/>\n",
       "      </g>\n",
       "     </g>\n",
       "     <g id=\"text_6\">\n",
       "      <!-- 10 -->\n",
       "      <defs>\n",
       "       <path d=\"M 12.40625 8.296875  L 28.515625 8.296875  L 28.515625 63.921875  L 10.984375 60.40625  L 10.984375 69.390625  L 28.421875 72.90625  L 38.28125 72.90625  L 38.28125 8.296875  L 54.390625 8.296875  L 54.390625 0  L 12.40625 0  z \" id=\"DejaVuSans-31\"/>\n",
       "      </defs>\n",
       "      <g transform=\"translate(325.744938 266.598437)scale(0.1 -0.1)\">\n",
       "       <use xlink:href=\"#DejaVuSans-31\"/>\n",
       "       <use x=\"63.623047\" xlink:href=\"#DejaVuSans-30\"/>\n",
       "      </g>\n",
       "     </g>\n",
       "    </g>\n",
       "    <g id=\"text_7\">\n",
       "     <!-- Epoch -->\n",
       "     <defs>\n",
       "      <path d=\"M 9.8125 72.90625  L 55.90625 72.90625  L 55.90625 64.59375  L 19.671875 64.59375  L 19.671875 43.015625  L 54.390625 43.015625  L 54.390625 34.71875  L 19.671875 34.71875  L 19.671875 8.296875  L 56.78125 8.296875  L 56.78125 0  L 9.8125 0  z \" id=\"DejaVuSans-45\"/>\n",
       "      <path d=\"M 18.109375 8.203125  L 18.109375 -20.796875  L 9.078125 -20.796875  L 9.078125 54.6875  L 18.109375 54.6875  L 18.109375 46.390625  Q 20.953125 51.265625 25.265625 53.625  Q 29.59375 56 35.59375 56  Q 45.5625 56 51.78125 48.09375  Q 58.015625 40.1875 58.015625 27.296875  Q 58.015625 14.40625 51.78125 6.484375  Q 45.5625 -1.421875 35.59375 -1.421875  Q 29.59375 -1.421875 25.265625 0.953125  Q 20.953125 3.328125 18.109375 8.203125  z M 48.6875 27.296875  Q 48.6875 37.203125 44.609375 42.84375  Q 40.53125 48.484375 33.40625 48.484375  Q 26.265625 48.484375 22.1875 42.84375  Q 18.109375 37.203125 18.109375 27.296875  Q 18.109375 17.390625 22.1875 11.75  Q 26.265625 6.109375 33.40625 6.109375  Q 40.53125 6.109375 44.609375 11.75  Q 48.6875 17.390625 48.6875 27.296875  z \" id=\"DejaVuSans-70\"/>\n",
       "      <path d=\"M 30.609375 48.390625  Q 23.390625 48.390625 19.1875 42.75  Q 14.984375 37.109375 14.984375 27.296875  Q 14.984375 17.484375 19.15625 11.84375  Q 23.34375 6.203125 30.609375 6.203125  Q 37.796875 6.203125 41.984375 11.859375  Q 46.1875 17.53125 46.1875 27.296875  Q 46.1875 37.015625 41.984375 42.703125  Q 37.796875 48.390625 30.609375 48.390625  z M 30.609375 56  Q 42.328125 56 49.015625 48.375  Q 55.71875 40.765625 55.71875 27.296875  Q 55.71875 13.875 49.015625 6.21875  Q 42.328125 -1.421875 30.609375 -1.421875  Q 18.84375 -1.421875 12.171875 6.21875  Q 5.515625 13.875 5.515625 27.296875  Q 5.515625 40.765625 12.171875 48.375  Q 18.84375 56 30.609375 56  z \" id=\"DejaVuSans-6f\"/>\n",
       "      <path d=\"M 48.78125 52.59375  L 48.78125 44.1875  Q 44.96875 46.296875 41.140625 47.34375  Q 37.3125 48.390625 33.40625 48.390625  Q 24.65625 48.390625 19.8125 42.84375  Q 14.984375 37.3125 14.984375 27.296875  Q 14.984375 17.28125 19.8125 11.734375  Q 24.65625 6.203125 33.40625 6.203125  Q 37.3125 6.203125 41.140625 7.25  Q 44.96875 8.296875 48.78125 10.40625  L 48.78125 2.09375  Q 45.015625 0.34375 40.984375 -0.53125  Q 36.96875 -1.421875 32.421875 -1.421875  Q 20.0625 -1.421875 12.78125 6.34375  Q 5.515625 14.109375 5.515625 27.296875  Q 5.515625 40.671875 12.859375 48.328125  Q 20.21875 56 33.015625 56  Q 37.15625 56 41.109375 55.140625  Q 45.0625 54.296875 48.78125 52.59375  z \" id=\"DejaVuSans-63\"/>\n",
       "      <path d=\"M 54.890625 33.015625  L 54.890625 0  L 45.90625 0  L 45.90625 32.71875  Q 45.90625 40.484375 42.875 44.328125  Q 39.84375 48.1875 33.796875 48.1875  Q 26.515625 48.1875 22.3125 43.546875  Q 18.109375 38.921875 18.109375 30.90625  L 18.109375 0  L 9.078125 0  L 9.078125 75.984375  L 18.109375 75.984375  L 18.109375 46.1875  Q 21.34375 51.125 25.703125 53.5625  Q 30.078125 56 35.796875 56  Q 45.21875 56 50.046875 50.171875  Q 54.890625 44.34375 54.890625 33.015625  z \" id=\"DejaVuSans-68\"/>\n",
       "     </defs>\n",
       "     <g transform=\"translate(201.507244 280.276563)scale(0.1 -0.1)\">\n",
       "      <use xlink:href=\"#DejaVuSans-45\"/>\n",
       "      <use x=\"63.183594\" xlink:href=\"#DejaVuSans-70\"/>\n",
       "      <use x=\"126.660156\" xlink:href=\"#DejaVuSans-6f\"/>\n",
       "      <use x=\"187.841797\" xlink:href=\"#DejaVuSans-63\"/>\n",
       "      <use x=\"242.822266\" xlink:href=\"#DejaVuSans-68\"/>\n",
       "     </g>\n",
       "    </g>\n",
       "   </g>\n",
       "   <g id=\"matplotlib.axis_2\">\n",
       "    <g id=\"ytick_1\">\n",
       "     <g id=\"line2d_7\">\n",
       "      <defs>\n",
       "       <path d=\"M 0 0  L -3.5 0  \" id=\"mf32e1edce6\" style=\"stroke:#000000;stroke-width:0.8;\"/>\n",
       "      </defs>\n",
       "      <g>\n",
       "       <use style=\"stroke:#000000;stroke-width:0.8;\" x=\"90\" xlink:href=\"#mf32e1edce6\" y=\"252\"/>\n",
       "      </g>\n",
       "     </g>\n",
       "     <g id=\"text_8\">\n",
       "      <!-- 0.0 -->\n",
       "      <defs>\n",
       "       <path d=\"M 10.6875 12.40625  L 21 12.40625  L 21 0  L 10.6875 0  z \" id=\"DejaVuSans-2e\"/>\n",
       "      </defs>\n",
       "      <g transform=\"translate(67.096875 255.799219)scale(0.1 -0.1)\">\n",
       "       <use xlink:href=\"#DejaVuSans-30\"/>\n",
       "       <use x=\"63.623047\" xlink:href=\"#DejaVuSans-2e\"/>\n",
       "       <use x=\"95.410156\" xlink:href=\"#DejaVuSans-30\"/>\n",
       "      </g>\n",
       "     </g>\n",
       "    </g>\n",
       "    <g id=\"ytick_2\">\n",
       "     <g id=\"line2d_8\">\n",
       "      <g>\n",
       "       <use style=\"stroke:#000000;stroke-width:0.8;\" x=\"90\" xlink:href=\"#mf32e1edce6\" y=\"206.741442\"/>\n",
       "      </g>\n",
       "     </g>\n",
       "     <g id=\"text_9\">\n",
       "      <!-- 0.5 -->\n",
       "      <defs>\n",
       "       <path d=\"M 10.796875 72.90625  L 49.515625 72.90625  L 49.515625 64.59375  L 19.828125 64.59375  L 19.828125 46.734375  Q 21.96875 47.46875 24.109375 47.828125  Q 26.265625 48.1875 28.421875 48.1875  Q 40.625 48.1875 47.75 41.5  Q 54.890625 34.8125 54.890625 23.390625  Q 54.890625 11.625 47.5625 5.09375  Q 40.234375 -1.421875 26.90625 -1.421875  Q 22.3125 -1.421875 17.546875 -0.640625  Q 12.796875 0.140625 7.71875 1.703125  L 7.71875 11.625  Q 12.109375 9.234375 16.796875 8.0625  Q 21.484375 6.890625 26.703125 6.890625  Q 35.15625 6.890625 40.078125 11.328125  Q 45.015625 15.765625 45.015625 23.390625  Q 45.015625 31 40.078125 35.4375  Q 35.15625 39.890625 26.703125 39.890625  Q 22.75 39.890625 18.8125 39.015625  Q 14.890625 38.140625 10.796875 36.28125  z \" id=\"DejaVuSans-35\"/>\n",
       "      </defs>\n",
       "      <g transform=\"translate(67.096875 210.54066)scale(0.1 -0.1)\">\n",
       "       <use xlink:href=\"#DejaVuSans-30\"/>\n",
       "       <use x=\"63.623047\" xlink:href=\"#DejaVuSans-2e\"/>\n",
       "       <use x=\"95.410156\" xlink:href=\"#DejaVuSans-35\"/>\n",
       "      </g>\n",
       "     </g>\n",
       "    </g>\n",
       "    <g id=\"ytick_3\">\n",
       "     <g id=\"line2d_9\">\n",
       "      <g>\n",
       "       <use style=\"stroke:#000000;stroke-width:0.8;\" x=\"90\" xlink:href=\"#mf32e1edce6\" y=\"161.482883\"/>\n",
       "      </g>\n",
       "     </g>\n",
       "     <g id=\"text_10\">\n",
       "      <!-- 1.0 -->\n",
       "      <g transform=\"translate(67.096875 165.282102)scale(0.1 -0.1)\">\n",
       "       <use xlink:href=\"#DejaVuSans-31\"/>\n",
       "       <use x=\"63.623047\" xlink:href=\"#DejaVuSans-2e\"/>\n",
       "       <use x=\"95.410156\" xlink:href=\"#DejaVuSans-30\"/>\n",
       "      </g>\n",
       "     </g>\n",
       "    </g>\n",
       "    <g id=\"ytick_4\">\n",
       "     <g id=\"line2d_10\">\n",
       "      <g>\n",
       "       <use style=\"stroke:#000000;stroke-width:0.8;\" x=\"90\" xlink:href=\"#mf32e1edce6\" y=\"116.224325\"/>\n",
       "      </g>\n",
       "     </g>\n",
       "     <g id=\"text_11\">\n",
       "      <!-- 1.5 -->\n",
       "      <g transform=\"translate(67.096875 120.023544)scale(0.1 -0.1)\">\n",
       "       <use xlink:href=\"#DejaVuSans-31\"/>\n",
       "       <use x=\"63.623047\" xlink:href=\"#DejaVuSans-2e\"/>\n",
       "       <use x=\"95.410156\" xlink:href=\"#DejaVuSans-35\"/>\n",
       "      </g>\n",
       "     </g>\n",
       "    </g>\n",
       "    <g id=\"ytick_5\">\n",
       "     <g id=\"line2d_11\">\n",
       "      <g>\n",
       "       <use style=\"stroke:#000000;stroke-width:0.8;\" x=\"90\" xlink:href=\"#mf32e1edce6\" y=\"70.965767\"/>\n",
       "      </g>\n",
       "     </g>\n",
       "     <g id=\"text_12\">\n",
       "      <!-- 2.0 -->\n",
       "      <g transform=\"translate(67.096875 74.764985)scale(0.1 -0.1)\">\n",
       "       <use xlink:href=\"#DejaVuSans-32\"/>\n",
       "       <use x=\"63.623047\" xlink:href=\"#DejaVuSans-2e\"/>\n",
       "       <use x=\"95.410156\" xlink:href=\"#DejaVuSans-30\"/>\n",
       "      </g>\n",
       "     </g>\n",
       "    </g>\n",
       "   </g>\n",
       "   <g id=\"line2d_12\">\n",
       "    <path clip-path=\"url(#p5bc892ac91)\" d=\"M 101.528926 44.881131  L 124.586777 211.64999  L 147.644628 238.515959  L 170.702479 242.973017  L 193.760331 244.730385  L 216.818182 246.261392  L 239.876033 247.229546  L 262.933884 247.976406  L 285.991736 248.600633  L 309.049587 249.125918  L 332.107438 249.53386  \" style=\"fill:none;stroke:#1f77b4;stroke-linecap:square;stroke-width:1.5;\"/>\n",
       "   </g>\n",
       "   <g id=\"line2d_13\">\n",
       "    <path clip-path=\"url(#p5bc892ac91)\" d=\"M 101.528926 44.79685  L 124.586777 228.443914  L 147.644628 238.416977  L 170.702479 241.577004  L 193.760331 245.123313  L 216.818182 243.368707  L 239.876033 245.63013  L 262.933884 241.750116  L 285.991736 245.644128  L 309.049587 244.329988  L 332.107438 246.314004  \" style=\"fill:none;stroke:#ff7f0e;stroke-linecap:square;stroke-width:1.5;\"/>\n",
       "   </g>\n",
       "   <g id=\"patch_3\">\n",
       "    <path d=\"M 90 252  L 90 34.56  \" style=\"fill:none;stroke:#000000;stroke-linecap:square;stroke-linejoin:miter;stroke-width:0.8;\"/>\n",
       "   </g>\n",
       "   <g id=\"patch_4\">\n",
       "    <path d=\"M 343.636364 252  L 343.636364 34.56  \" style=\"fill:none;stroke:#000000;stroke-linecap:square;stroke-linejoin:miter;stroke-width:0.8;\"/>\n",
       "   </g>\n",
       "   <g id=\"patch_5\">\n",
       "    <path d=\"M 90 252  L 343.636364 252  \" style=\"fill:none;stroke:#000000;stroke-linecap:square;stroke-linejoin:miter;stroke-width:0.8;\"/>\n",
       "   </g>\n",
       "   <g id=\"patch_6\">\n",
       "    <path d=\"M 90 34.56  L 343.636364 34.56  \" style=\"fill:none;stroke:#000000;stroke-linecap:square;stroke-linejoin:miter;stroke-width:0.8;\"/>\n",
       "   </g>\n",
       "   <g id=\"text_13\">\n",
       "    <!-- MNIST_CNN: Error -->\n",
       "    <defs>\n",
       "     <path d=\"M 9.8125 72.90625  L 24.515625 72.90625  L 43.109375 23.296875  L 61.8125 72.90625  L 76.515625 72.90625  L 76.515625 0  L 66.890625 0  L 66.890625 64.015625  L 48.09375 14.015625  L 38.1875 14.015625  L 19.390625 64.015625  L 19.390625 0  L 9.8125 0  z \" id=\"DejaVuSans-4d\"/>\n",
       "     <path d=\"M 9.8125 72.90625  L 23.09375 72.90625  L 55.421875 11.921875  L 55.421875 72.90625  L 64.984375 72.90625  L 64.984375 0  L 51.703125 0  L 19.390625 60.984375  L 19.390625 0  L 9.8125 0  z \" id=\"DejaVuSans-4e\"/>\n",
       "     <path d=\"M 9.8125 72.90625  L 19.671875 72.90625  L 19.671875 0  L 9.8125 0  z \" id=\"DejaVuSans-49\"/>\n",
       "     <path d=\"M 53.515625 70.515625  L 53.515625 60.890625  Q 47.90625 63.578125 42.921875 64.890625  Q 37.9375 66.21875 33.296875 66.21875  Q 25.25 66.21875 20.875 63.09375  Q 16.5 59.96875 16.5 54.203125  Q 16.5 49.359375 19.40625 46.890625  Q 22.3125 44.4375 30.421875 42.921875  L 36.375 41.703125  Q 47.40625 39.59375 52.65625 34.296875  Q 57.90625 29 57.90625 20.125  Q 57.90625 9.515625 50.796875 4.046875  Q 43.703125 -1.421875 29.984375 -1.421875  Q 24.8125 -1.421875 18.96875 -0.25  Q 13.140625 0.921875 6.890625 3.21875  L 6.890625 13.375  Q 12.890625 10.015625 18.65625 8.296875  Q 24.421875 6.59375 29.984375 6.59375  Q 38.421875 6.59375 43.015625 9.90625  Q 47.609375 13.234375 47.609375 19.390625  Q 47.609375 24.75 44.3125 27.78125  Q 41.015625 30.8125 33.5 32.328125  L 27.484375 33.5  Q 16.453125 35.6875 11.515625 40.375  Q 6.59375 45.0625 6.59375 53.421875  Q 6.59375 63.09375 13.40625 68.65625  Q 20.21875 74.21875 32.171875 74.21875  Q 37.3125 74.21875 42.625 73.28125  Q 47.953125 72.359375 53.515625 70.515625  z \" id=\"DejaVuSans-53\"/>\n",
       "     <path d=\"M -0.296875 72.90625  L 61.375 72.90625  L 61.375 64.59375  L 35.5 64.59375  L 35.5 0  L 25.59375 0  L 25.59375 64.59375  L -0.296875 64.59375  z \" id=\"DejaVuSans-54\"/>\n",
       "     <path d=\"M 50.984375 -16.609375  L 50.984375 -23.578125  L -0.984375 -23.578125  L -0.984375 -16.609375  z \" id=\"DejaVuSans-5f\"/>\n",
       "     <path d=\"M 64.40625 67.28125  L 64.40625 56.890625  Q 59.421875 61.53125 53.78125 63.8125  Q 48.140625 66.109375 41.796875 66.109375  Q 29.296875 66.109375 22.65625 58.46875  Q 16.015625 50.828125 16.015625 36.375  Q 16.015625 21.96875 22.65625 14.328125  Q 29.296875 6.6875 41.796875 6.6875  Q 48.140625 6.6875 53.78125 8.984375  Q 59.421875 11.28125 64.40625 15.921875  L 64.40625 5.609375  Q 59.234375 2.09375 53.4375 0.328125  Q 47.65625 -1.421875 41.21875 -1.421875  Q 24.65625 -1.421875 15.125 8.703125  Q 5.609375 18.84375 5.609375 36.375  Q 5.609375 53.953125 15.125 64.078125  Q 24.65625 74.21875 41.21875 74.21875  Q 47.75 74.21875 53.53125 72.484375  Q 59.328125 70.75 64.40625 67.28125  z \" id=\"DejaVuSans-43\"/>\n",
       "     <path d=\"M 11.71875 12.40625  L 22.015625 12.40625  L 22.015625 0  L 11.71875 0  z M 11.71875 51.703125  L 22.015625 51.703125  L 22.015625 39.3125  L 11.71875 39.3125  z \" id=\"DejaVuSans-3a\"/>\n",
       "     <path id=\"DejaVuSans-20\"/>\n",
       "     <path d=\"M 41.109375 46.296875  Q 39.59375 47.171875 37.8125 47.578125  Q 36.03125 48 33.890625 48  Q 26.265625 48 22.1875 43.046875  Q 18.109375 38.09375 18.109375 28.8125  L 18.109375 0  L 9.078125 0  L 9.078125 54.6875  L 18.109375 54.6875  L 18.109375 46.1875  Q 20.953125 51.171875 25.484375 53.578125  Q 30.03125 56 36.53125 56  Q 37.453125 56 38.578125 55.875  Q 39.703125 55.765625 41.0625 55.515625  z \" id=\"DejaVuSans-72\"/>\n",
       "    </defs>\n",
       "    <g transform=\"translate(162.954119 28.56)scale(0.12 -0.12)\">\n",
       "     <use xlink:href=\"#DejaVuSans-4d\"/>\n",
       "     <use x=\"86.279297\" xlink:href=\"#DejaVuSans-4e\"/>\n",
       "     <use x=\"161.083984\" xlink:href=\"#DejaVuSans-49\"/>\n",
       "     <use x=\"190.576172\" xlink:href=\"#DejaVuSans-53\"/>\n",
       "     <use x=\"254.052734\" xlink:href=\"#DejaVuSans-54\"/>\n",
       "     <use x=\"315.136719\" xlink:href=\"#DejaVuSans-5f\"/>\n",
       "     <use x=\"365.136719\" xlink:href=\"#DejaVuSans-43\"/>\n",
       "     <use x=\"434.960938\" xlink:href=\"#DejaVuSans-4e\"/>\n",
       "     <use x=\"509.765625\" xlink:href=\"#DejaVuSans-4e\"/>\n",
       "     <use x=\"584.570312\" xlink:href=\"#DejaVuSans-3a\"/>\n",
       "     <use x=\"618.261719\" xlink:href=\"#DejaVuSans-20\"/>\n",
       "     <use x=\"650.048828\" xlink:href=\"#DejaVuSans-45\"/>\n",
       "     <use x=\"713.232422\" xlink:href=\"#DejaVuSans-72\"/>\n",
       "     <use x=\"754.330078\" xlink:href=\"#DejaVuSans-72\"/>\n",
       "     <use x=\"795.412109\" xlink:href=\"#DejaVuSans-6f\"/>\n",
       "     <use x=\"856.59375\" xlink:href=\"#DejaVuSans-72\"/>\n",
       "    </g>\n",
       "   </g>\n",
       "   <g id=\"legend_1\">\n",
       "    <g id=\"patch_7\">\n",
       "     <path d=\"M 236.030114 71.91625  L 336.636364 71.91625  Q 338.636364 71.91625 338.636364 69.91625  L 338.636364 41.56  Q 338.636364 39.56 336.636364 39.56  L 236.030114 39.56  Q 234.030114 39.56 234.030114 41.56  L 234.030114 69.91625  Q 234.030114 71.91625 236.030114 71.91625  z \" style=\"fill:#ffffff;opacity:0.8;stroke:#cccccc;stroke-linejoin:miter;\"/>\n",
       "    </g>\n",
       "    <g id=\"line2d_14\">\n",
       "     <path d=\"M 238.030114 47.658437  L 258.030114 47.658437  \" style=\"fill:none;stroke:#1f77b4;stroke-linecap:square;stroke-width:1.5;\"/>\n",
       "    </g>\n",
       "    <g id=\"line2d_15\"/>\n",
       "    <g id=\"text_14\">\n",
       "     <!-- Training set -->\n",
       "     <defs>\n",
       "      <path d=\"M 34.28125 27.484375  Q 23.390625 27.484375 19.1875 25  Q 14.984375 22.515625 14.984375 16.5  Q 14.984375 11.71875 18.140625 8.90625  Q 21.296875 6.109375 26.703125 6.109375  Q 34.1875 6.109375 38.703125 11.40625  Q 43.21875 16.703125 43.21875 25.484375  L 43.21875 27.484375  z M 52.203125 31.203125  L 52.203125 0  L 43.21875 0  L 43.21875 8.296875  Q 40.140625 3.328125 35.546875 0.953125  Q 30.953125 -1.421875 24.3125 -1.421875  Q 15.921875 -1.421875 10.953125 3.296875  Q 6 8.015625 6 15.921875  Q 6 25.140625 12.171875 29.828125  Q 18.359375 34.515625 30.609375 34.515625  L 43.21875 34.515625  L 43.21875 35.40625  Q 43.21875 41.609375 39.140625 45  Q 35.0625 48.390625 27.6875 48.390625  Q 23 48.390625 18.546875 47.265625  Q 14.109375 46.140625 10.015625 43.890625  L 10.015625 52.203125  Q 14.9375 54.109375 19.578125 55.046875  Q 24.21875 56 28.609375 56  Q 40.484375 56 46.34375 49.84375  Q 52.203125 43.703125 52.203125 31.203125  z \" id=\"DejaVuSans-61\"/>\n",
       "      <path d=\"M 9.421875 54.6875  L 18.40625 54.6875  L 18.40625 0  L 9.421875 0  z M 9.421875 75.984375  L 18.40625 75.984375  L 18.40625 64.59375  L 9.421875 64.59375  z \" id=\"DejaVuSans-69\"/>\n",
       "      <path d=\"M 54.890625 33.015625  L 54.890625 0  L 45.90625 0  L 45.90625 32.71875  Q 45.90625 40.484375 42.875 44.328125  Q 39.84375 48.1875 33.796875 48.1875  Q 26.515625 48.1875 22.3125 43.546875  Q 18.109375 38.921875 18.109375 30.90625  L 18.109375 0  L 9.078125 0  L 9.078125 54.6875  L 18.109375 54.6875  L 18.109375 46.1875  Q 21.34375 51.125 25.703125 53.5625  Q 30.078125 56 35.796875 56  Q 45.21875 56 50.046875 50.171875  Q 54.890625 44.34375 54.890625 33.015625  z \" id=\"DejaVuSans-6e\"/>\n",
       "      <path d=\"M 45.40625 27.984375  Q 45.40625 37.75 41.375 43.109375  Q 37.359375 48.484375 30.078125 48.484375  Q 22.859375 48.484375 18.828125 43.109375  Q 14.796875 37.75 14.796875 27.984375  Q 14.796875 18.265625 18.828125 12.890625  Q 22.859375 7.515625 30.078125 7.515625  Q 37.359375 7.515625 41.375 12.890625  Q 45.40625 18.265625 45.40625 27.984375  z M 54.390625 6.78125  Q 54.390625 -7.171875 48.1875 -13.984375  Q 42 -20.796875 29.203125 -20.796875  Q 24.46875 -20.796875 20.265625 -20.09375  Q 16.0625 -19.390625 12.109375 -17.921875  L 12.109375 -9.1875  Q 16.0625 -11.328125 19.921875 -12.34375  Q 23.78125 -13.375 27.78125 -13.375  Q 36.625 -13.375 41.015625 -8.765625  Q 45.40625 -4.15625 45.40625 5.171875  L 45.40625 9.625  Q 42.625 4.78125 38.28125 2.390625  Q 33.9375 0 27.875 0  Q 17.828125 0 11.671875 7.65625  Q 5.515625 15.328125 5.515625 27.984375  Q 5.515625 40.671875 11.671875 48.328125  Q 17.828125 56 27.875 56  Q 33.9375 56 38.28125 53.609375  Q 42.625 51.21875 45.40625 46.390625  L 45.40625 54.6875  L 54.390625 54.6875  z \" id=\"DejaVuSans-67\"/>\n",
       "      <path d=\"M 44.28125 53.078125  L 44.28125 44.578125  Q 40.484375 46.53125 36.375 47.5  Q 32.28125 48.484375 27.875 48.484375  Q 21.1875 48.484375 17.84375 46.4375  Q 14.5 44.390625 14.5 40.28125  Q 14.5 37.15625 16.890625 35.375  Q 19.28125 33.59375 26.515625 31.984375  L 29.59375 31.296875  Q 39.15625 29.25 43.1875 25.515625  Q 47.21875 21.78125 47.21875 15.09375  Q 47.21875 7.46875 41.1875 3.015625  Q 35.15625 -1.421875 24.609375 -1.421875  Q 20.21875 -1.421875 15.453125 -0.5625  Q 10.6875 0.296875 5.421875 2  L 5.421875 11.28125  Q 10.40625 8.6875 15.234375 7.390625  Q 20.0625 6.109375 24.8125 6.109375  Q 31.15625 6.109375 34.5625 8.28125  Q 37.984375 10.453125 37.984375 14.40625  Q 37.984375 18.0625 35.515625 20.015625  Q 33.0625 21.96875 24.703125 23.78125  L 21.578125 24.515625  Q 13.234375 26.265625 9.515625 29.90625  Q 5.8125 33.546875 5.8125 39.890625  Q 5.8125 47.609375 11.28125 51.796875  Q 16.75 56 26.8125 56  Q 31.78125 56 36.171875 55.265625  Q 40.578125 54.546875 44.28125 53.078125  z \" id=\"DejaVuSans-73\"/>\n",
       "      <path d=\"M 56.203125 29.59375  L 56.203125 25.203125  L 14.890625 25.203125  Q 15.484375 15.921875 20.484375 11.0625  Q 25.484375 6.203125 34.421875 6.203125  Q 39.59375 6.203125 44.453125 7.46875  Q 49.3125 8.734375 54.109375 11.28125  L 54.109375 2.78125  Q 49.265625 0.734375 44.1875 -0.34375  Q 39.109375 -1.421875 33.890625 -1.421875  Q 20.796875 -1.421875 13.15625 6.1875  Q 5.515625 13.8125 5.515625 26.8125  Q 5.515625 40.234375 12.765625 48.109375  Q 20.015625 56 32.328125 56  Q 43.359375 56 49.78125 48.890625  Q 56.203125 41.796875 56.203125 29.59375  z M 47.21875 32.234375  Q 47.125 39.59375 43.09375 43.984375  Q 39.0625 48.390625 32.421875 48.390625  Q 24.90625 48.390625 20.390625 44.140625  Q 15.875 39.890625 15.1875 32.171875  z \" id=\"DejaVuSans-65\"/>\n",
       "      <path d=\"M 18.3125 70.21875  L 18.3125 54.6875  L 36.8125 54.6875  L 36.8125 47.703125  L 18.3125 47.703125  L 18.3125 18.015625  Q 18.3125 11.328125 20.140625 9.421875  Q 21.96875 7.515625 27.59375 7.515625  L 36.8125 7.515625  L 36.8125 0  L 27.59375 0  Q 17.1875 0 13.234375 3.875  Q 9.28125 7.765625 9.28125 18.015625  L 9.28125 47.703125  L 2.6875 47.703125  L 2.6875 54.6875  L 9.28125 54.6875  L 9.28125 70.21875  z \" id=\"DejaVuSans-74\"/>\n",
       "     </defs>\n",
       "     <g transform=\"translate(266.030114 51.158437)scale(0.1 -0.1)\">\n",
       "      <use xlink:href=\"#DejaVuSans-54\"/>\n",
       "      <use x=\"60.865234\" xlink:href=\"#DejaVuSans-72\"/>\n",
       "      <use x=\"101.978516\" xlink:href=\"#DejaVuSans-61\"/>\n",
       "      <use x=\"163.257812\" xlink:href=\"#DejaVuSans-69\"/>\n",
       "      <use x=\"191.041016\" xlink:href=\"#DejaVuSans-6e\"/>\n",
       "      <use x=\"254.419922\" xlink:href=\"#DejaVuSans-69\"/>\n",
       "      <use x=\"282.203125\" xlink:href=\"#DejaVuSans-6e\"/>\n",
       "      <use x=\"345.582031\" xlink:href=\"#DejaVuSans-67\"/>\n",
       "      <use x=\"409.058594\" xlink:href=\"#DejaVuSans-20\"/>\n",
       "      <use x=\"440.845703\" xlink:href=\"#DejaVuSans-73\"/>\n",
       "      <use x=\"492.945312\" xlink:href=\"#DejaVuSans-65\"/>\n",
       "      <use x=\"554.46875\" xlink:href=\"#DejaVuSans-74\"/>\n",
       "     </g>\n",
       "    </g>\n",
       "    <g id=\"line2d_16\">\n",
       "     <path d=\"M 238.030114 62.336562  L 258.030114 62.336562  \" style=\"fill:none;stroke:#ff7f0e;stroke-linecap:square;stroke-width:1.5;\"/>\n",
       "    </g>\n",
       "    <g id=\"line2d_17\"/>\n",
       "    <g id=\"text_15\">\n",
       "     <!-- Validation set -->\n",
       "     <defs>\n",
       "      <path d=\"M 28.609375 0  L 0.78125 72.90625  L 11.078125 72.90625  L 34.1875 11.53125  L 57.328125 72.90625  L 67.578125 72.90625  L 39.796875 0  z \" id=\"DejaVuSans-56\"/>\n",
       "      <path d=\"M 9.421875 75.984375  L 18.40625 75.984375  L 18.40625 0  L 9.421875 0  z \" id=\"DejaVuSans-6c\"/>\n",
       "      <path d=\"M 45.40625 46.390625  L 45.40625 75.984375  L 54.390625 75.984375  L 54.390625 0  L 45.40625 0  L 45.40625 8.203125  Q 42.578125 3.328125 38.25 0.953125  Q 33.9375 -1.421875 27.875 -1.421875  Q 17.96875 -1.421875 11.734375 6.484375  Q 5.515625 14.40625 5.515625 27.296875  Q 5.515625 40.1875 11.734375 48.09375  Q 17.96875 56 27.875 56  Q 33.9375 56 38.25 53.625  Q 42.578125 51.265625 45.40625 46.390625  z M 14.796875 27.296875  Q 14.796875 17.390625 18.875 11.75  Q 22.953125 6.109375 30.078125 6.109375  Q 37.203125 6.109375 41.296875 11.75  Q 45.40625 17.390625 45.40625 27.296875  Q 45.40625 37.203125 41.296875 42.84375  Q 37.203125 48.484375 30.078125 48.484375  Q 22.953125 48.484375 18.875 42.84375  Q 14.796875 37.203125 14.796875 27.296875  z \" id=\"DejaVuSans-64\"/>\n",
       "     </defs>\n",
       "     <g transform=\"translate(266.030114 65.836562)scale(0.1 -0.1)\">\n",
       "      <use xlink:href=\"#DejaVuSans-56\"/>\n",
       "      <use x=\"68.298828\" xlink:href=\"#DejaVuSans-61\"/>\n",
       "      <use x=\"129.578125\" xlink:href=\"#DejaVuSans-6c\"/>\n",
       "      <use x=\"157.361328\" xlink:href=\"#DejaVuSans-69\"/>\n",
       "      <use x=\"185.144531\" xlink:href=\"#DejaVuSans-64\"/>\n",
       "      <use x=\"248.621094\" xlink:href=\"#DejaVuSans-61\"/>\n",
       "      <use x=\"309.900391\" xlink:href=\"#DejaVuSans-74\"/>\n",
       "      <use x=\"349.109375\" xlink:href=\"#DejaVuSans-69\"/>\n",
       "      <use x=\"376.892578\" xlink:href=\"#DejaVuSans-6f\"/>\n",
       "      <use x=\"438.074219\" xlink:href=\"#DejaVuSans-6e\"/>\n",
       "      <use x=\"501.453125\" xlink:href=\"#DejaVuSans-20\"/>\n",
       "      <use x=\"533.240234\" xlink:href=\"#DejaVuSans-73\"/>\n",
       "      <use x=\"585.339844\" xlink:href=\"#DejaVuSans-65\"/>\n",
       "      <use x=\"646.863281\" xlink:href=\"#DejaVuSans-74\"/>\n",
       "     </g>\n",
       "    </g>\n",
       "   </g>\n",
       "  </g>\n",
       "  <g id=\"axes_2\">\n",
       "   <g id=\"patch_8\">\n",
       "    <path d=\"M 394.363636 252  L 648 252  L 648 34.56  L 394.363636 34.56  z \" style=\"fill:#ffffff;\"/>\n",
       "   </g>\n",
       "   <g id=\"matplotlib.axis_3\">\n",
       "    <g id=\"xtick_7\">\n",
       "     <g id=\"line2d_18\">\n",
       "      <g>\n",
       "       <use style=\"stroke:#000000;stroke-width:0.8;\" x=\"405.892562\" xlink:href=\"#m434e46764c\" y=\"252\"/>\n",
       "      </g>\n",
       "     </g>\n",
       "     <g id=\"text_16\">\n",
       "      <!-- 0 -->\n",
       "      <g transform=\"translate(402.711312 266.598437)scale(0.1 -0.1)\">\n",
       "       <use xlink:href=\"#DejaVuSans-30\"/>\n",
       "      </g>\n",
       "     </g>\n",
       "    </g>\n",
       "    <g id=\"xtick_8\">\n",
       "     <g id=\"line2d_19\">\n",
       "      <g>\n",
       "       <use style=\"stroke:#000000;stroke-width:0.8;\" x=\"452.008264\" xlink:href=\"#m434e46764c\" y=\"252\"/>\n",
       "      </g>\n",
       "     </g>\n",
       "     <g id=\"text_17\">\n",
       "      <!-- 2 -->\n",
       "      <g transform=\"translate(448.827014 266.598437)scale(0.1 -0.1)\">\n",
       "       <use xlink:href=\"#DejaVuSans-32\"/>\n",
       "      </g>\n",
       "     </g>\n",
       "    </g>\n",
       "    <g id=\"xtick_9\">\n",
       "     <g id=\"line2d_20\">\n",
       "      <g>\n",
       "       <use style=\"stroke:#000000;stroke-width:0.8;\" x=\"498.123967\" xlink:href=\"#m434e46764c\" y=\"252\"/>\n",
       "      </g>\n",
       "     </g>\n",
       "     <g id=\"text_18\">\n",
       "      <!-- 4 -->\n",
       "      <g transform=\"translate(494.942717 266.598437)scale(0.1 -0.1)\">\n",
       "       <use xlink:href=\"#DejaVuSans-34\"/>\n",
       "      </g>\n",
       "     </g>\n",
       "    </g>\n",
       "    <g id=\"xtick_10\">\n",
       "     <g id=\"line2d_21\">\n",
       "      <g>\n",
       "       <use style=\"stroke:#000000;stroke-width:0.8;\" x=\"544.239669\" xlink:href=\"#m434e46764c\" y=\"252\"/>\n",
       "      </g>\n",
       "     </g>\n",
       "     <g id=\"text_19\">\n",
       "      <!-- 6 -->\n",
       "      <g transform=\"translate(541.058419 266.598437)scale(0.1 -0.1)\">\n",
       "       <use xlink:href=\"#DejaVuSans-36\"/>\n",
       "      </g>\n",
       "     </g>\n",
       "    </g>\n",
       "    <g id=\"xtick_11\">\n",
       "     <g id=\"line2d_22\">\n",
       "      <g>\n",
       "       <use style=\"stroke:#000000;stroke-width:0.8;\" x=\"590.355372\" xlink:href=\"#m434e46764c\" y=\"252\"/>\n",
       "      </g>\n",
       "     </g>\n",
       "     <g id=\"text_20\">\n",
       "      <!-- 8 -->\n",
       "      <g transform=\"translate(587.174122 266.598437)scale(0.1 -0.1)\">\n",
       "       <use xlink:href=\"#DejaVuSans-38\"/>\n",
       "      </g>\n",
       "     </g>\n",
       "    </g>\n",
       "    <g id=\"xtick_12\">\n",
       "     <g id=\"line2d_23\">\n",
       "      <g>\n",
       "       <use style=\"stroke:#000000;stroke-width:0.8;\" x=\"636.471074\" xlink:href=\"#m434e46764c\" y=\"252\"/>\n",
       "      </g>\n",
       "     </g>\n",
       "     <g id=\"text_21\">\n",
       "      <!-- 10 -->\n",
       "      <g transform=\"translate(630.108574 266.598437)scale(0.1 -0.1)\">\n",
       "       <use xlink:href=\"#DejaVuSans-31\"/>\n",
       "       <use x=\"63.623047\" xlink:href=\"#DejaVuSans-30\"/>\n",
       "      </g>\n",
       "     </g>\n",
       "    </g>\n",
       "    <g id=\"text_22\">\n",
       "     <!-- Epoch -->\n",
       "     <g transform=\"translate(505.870881 280.276563)scale(0.1 -0.1)\">\n",
       "      <use xlink:href=\"#DejaVuSans-45\"/>\n",
       "      <use x=\"63.183594\" xlink:href=\"#DejaVuSans-70\"/>\n",
       "      <use x=\"126.660156\" xlink:href=\"#DejaVuSans-6f\"/>\n",
       "      <use x=\"187.841797\" xlink:href=\"#DejaVuSans-63\"/>\n",
       "      <use x=\"242.822266\" xlink:href=\"#DejaVuSans-68\"/>\n",
       "     </g>\n",
       "    </g>\n",
       "   </g>\n",
       "   <g id=\"matplotlib.axis_4\">\n",
       "    <g id=\"ytick_6\">\n",
       "     <g id=\"line2d_24\">\n",
       "      <g>\n",
       "       <use style=\"stroke:#000000;stroke-width:0.8;\" x=\"394.363636\" xlink:href=\"#mf32e1edce6\" y=\"233.88\"/>\n",
       "      </g>\n",
       "     </g>\n",
       "     <g id=\"text_23\">\n",
       "      <!-- 0.0 -->\n",
       "      <g transform=\"translate(371.460511 237.679219)scale(0.1 -0.1)\">\n",
       "       <use xlink:href=\"#DejaVuSans-30\"/>\n",
       "       <use x=\"63.623047\" xlink:href=\"#DejaVuSans-2e\"/>\n",
       "       <use x=\"95.410156\" xlink:href=\"#DejaVuSans-30\"/>\n",
       "      </g>\n",
       "     </g>\n",
       "    </g>\n",
       "    <g id=\"ytick_7\">\n",
       "     <g id=\"line2d_25\">\n",
       "      <g>\n",
       "       <use style=\"stroke:#000000;stroke-width:0.8;\" x=\"394.363636\" xlink:href=\"#mf32e1edce6\" y=\"197.64\"/>\n",
       "      </g>\n",
       "     </g>\n",
       "     <g id=\"text_24\">\n",
       "      <!-- 0.2 -->\n",
       "      <g transform=\"translate(371.460511 201.439219)scale(0.1 -0.1)\">\n",
       "       <use xlink:href=\"#DejaVuSans-30\"/>\n",
       "       <use x=\"63.623047\" xlink:href=\"#DejaVuSans-2e\"/>\n",
       "       <use x=\"95.410156\" xlink:href=\"#DejaVuSans-32\"/>\n",
       "      </g>\n",
       "     </g>\n",
       "    </g>\n",
       "    <g id=\"ytick_8\">\n",
       "     <g id=\"line2d_26\">\n",
       "      <g>\n",
       "       <use style=\"stroke:#000000;stroke-width:0.8;\" x=\"394.363636\" xlink:href=\"#mf32e1edce6\" y=\"161.4\"/>\n",
       "      </g>\n",
       "     </g>\n",
       "     <g id=\"text_25\">\n",
       "      <!-- 0.4 -->\n",
       "      <g transform=\"translate(371.460511 165.199219)scale(0.1 -0.1)\">\n",
       "       <use xlink:href=\"#DejaVuSans-30\"/>\n",
       "       <use x=\"63.623047\" xlink:href=\"#DejaVuSans-2e\"/>\n",
       "       <use x=\"95.410156\" xlink:href=\"#DejaVuSans-34\"/>\n",
       "      </g>\n",
       "     </g>\n",
       "    </g>\n",
       "    <g id=\"ytick_9\">\n",
       "     <g id=\"line2d_27\">\n",
       "      <g>\n",
       "       <use style=\"stroke:#000000;stroke-width:0.8;\" x=\"394.363636\" xlink:href=\"#mf32e1edce6\" y=\"125.16\"/>\n",
       "      </g>\n",
       "     </g>\n",
       "     <g id=\"text_26\">\n",
       "      <!-- 0.6 -->\n",
       "      <g transform=\"translate(371.460511 128.959219)scale(0.1 -0.1)\">\n",
       "       <use xlink:href=\"#DejaVuSans-30\"/>\n",
       "       <use x=\"63.623047\" xlink:href=\"#DejaVuSans-2e\"/>\n",
       "       <use x=\"95.410156\" xlink:href=\"#DejaVuSans-36\"/>\n",
       "      </g>\n",
       "     </g>\n",
       "    </g>\n",
       "    <g id=\"ytick_10\">\n",
       "     <g id=\"line2d_28\">\n",
       "      <g>\n",
       "       <use style=\"stroke:#000000;stroke-width:0.8;\" x=\"394.363636\" xlink:href=\"#mf32e1edce6\" y=\"88.92\"/>\n",
       "      </g>\n",
       "     </g>\n",
       "     <g id=\"text_27\">\n",
       "      <!-- 0.8 -->\n",
       "      <g transform=\"translate(371.460511 92.719219)scale(0.1 -0.1)\">\n",
       "       <use xlink:href=\"#DejaVuSans-30\"/>\n",
       "       <use x=\"63.623047\" xlink:href=\"#DejaVuSans-2e\"/>\n",
       "       <use x=\"95.410156\" xlink:href=\"#DejaVuSans-38\"/>\n",
       "      </g>\n",
       "     </g>\n",
       "    </g>\n",
       "    <g id=\"ytick_11\">\n",
       "     <g id=\"line2d_29\">\n",
       "      <g>\n",
       "       <use style=\"stroke:#000000;stroke-width:0.8;\" x=\"394.363636\" xlink:href=\"#mf32e1edce6\" y=\"52.68\"/>\n",
       "      </g>\n",
       "     </g>\n",
       "     <g id=\"text_28\">\n",
       "      <!-- 1.0 -->\n",
       "      <g transform=\"translate(371.460511 56.479219)scale(0.1 -0.1)\">\n",
       "       <use xlink:href=\"#DejaVuSans-31\"/>\n",
       "       <use x=\"63.623047\" xlink:href=\"#DejaVuSans-2e\"/>\n",
       "       <use x=\"95.410156\" xlink:href=\"#DejaVuSans-30\"/>\n",
       "      </g>\n",
       "     </g>\n",
       "    </g>\n",
       "   </g>\n",
       "   <g id=\"line2d_30\">\n",
       "    <path clip-path=\"url(#p0b74738fa2)\" d=\"M 405.892562 208.891657  L 428.950413 76.391314  L 452.008264 60.756343  L 475.066116 57.805371  L 498.123967 56.890743  L 521.181818 56.286743  L 544.239669 55.682743  L 567.297521 55.234057  L 590.355372 54.906171  L 613.413223 54.492  L 636.471074 54.2504  \" style=\"fill:none;stroke:#1f77b4;stroke-linecap:square;stroke-width:1.5;\"/>\n",
       "   </g>\n",
       "   <g id=\"line2d_31\">\n",
       "    <path clip-path=\"url(#p0b74738fa2)\" d=\"M 405.892562 208.615543  L 428.950413 66.658286  L 452.008264 59.928  L 475.066116 58.685486  L 498.123967 56.925257  L 521.181818 57.701829  L 544.239669 56.511086  L 567.297521 59.772686  L 590.355372 56.614629  L 613.413223 58.064229  L 636.471074 56.407543  \" style=\"fill:none;stroke:#ff7f0e;stroke-linecap:square;stroke-width:1.5;\"/>\n",
       "   </g>\n",
       "   <g id=\"patch_9\">\n",
       "    <path d=\"M 394.363636 252  L 394.363636 34.56  \" style=\"fill:none;stroke:#000000;stroke-linecap:square;stroke-linejoin:miter;stroke-width:0.8;\"/>\n",
       "   </g>\n",
       "   <g id=\"patch_10\">\n",
       "    <path d=\"M 648 252  L 648 34.56  \" style=\"fill:none;stroke:#000000;stroke-linecap:square;stroke-linejoin:miter;stroke-width:0.8;\"/>\n",
       "   </g>\n",
       "   <g id=\"patch_11\">\n",
       "    <path d=\"M 394.363636 252  L 648 252  \" style=\"fill:none;stroke:#000000;stroke-linecap:square;stroke-linejoin:miter;stroke-width:0.8;\"/>\n",
       "   </g>\n",
       "   <g id=\"patch_12\">\n",
       "    <path d=\"M 394.363636 34.56  L 648 34.56  \" style=\"fill:none;stroke:#000000;stroke-linecap:square;stroke-linejoin:miter;stroke-width:0.8;\"/>\n",
       "   </g>\n",
       "   <g id=\"text_29\">\n",
       "    <!-- MNIST_CNN: Accuracy -->\n",
       "    <defs>\n",
       "     <path d=\"M 34.1875 63.1875  L 20.796875 26.90625  L 47.609375 26.90625  z M 28.609375 72.90625  L 39.796875 72.90625  L 67.578125 0  L 57.328125 0  L 50.6875 18.703125  L 17.828125 18.703125  L 11.1875 0  L 0.78125 0  z \" id=\"DejaVuSans-41\"/>\n",
       "     <path d=\"M 8.5 21.578125  L 8.5 54.6875  L 17.484375 54.6875  L 17.484375 21.921875  Q 17.484375 14.15625 20.5 10.265625  Q 23.53125 6.390625 29.59375 6.390625  Q 36.859375 6.390625 41.078125 11.03125  Q 45.3125 15.671875 45.3125 23.6875  L 45.3125 54.6875  L 54.296875 54.6875  L 54.296875 0  L 45.3125 0  L 45.3125 8.40625  Q 42.046875 3.421875 37.71875 1  Q 33.40625 -1.421875 27.6875 -1.421875  Q 18.265625 -1.421875 13.375 4.4375  Q 8.5 10.296875 8.5 21.578125  z M 31.109375 56  z \" id=\"DejaVuSans-75\"/>\n",
       "     <path d=\"M 32.171875 -5.078125  Q 28.375 -14.84375 24.75 -17.8125  Q 21.140625 -20.796875 15.09375 -20.796875  L 7.90625 -20.796875  L 7.90625 -13.28125  L 13.1875 -13.28125  Q 16.890625 -13.28125 18.9375 -11.515625  Q 21 -9.765625 23.484375 -3.21875  L 25.09375 0.875  L 2.984375 54.6875  L 12.5 54.6875  L 29.59375 11.921875  L 46.6875 54.6875  L 56.203125 54.6875  z \" id=\"DejaVuSans-79\"/>\n",
       "    </defs>\n",
       "    <g transform=\"translate(454.679318 28.56)scale(0.12 -0.12)\">\n",
       "     <use xlink:href=\"#DejaVuSans-4d\"/>\n",
       "     <use x=\"86.279297\" xlink:href=\"#DejaVuSans-4e\"/>\n",
       "     <use x=\"161.083984\" xlink:href=\"#DejaVuSans-49\"/>\n",
       "     <use x=\"190.576172\" xlink:href=\"#DejaVuSans-53\"/>\n",
       "     <use x=\"254.052734\" xlink:href=\"#DejaVuSans-54\"/>\n",
       "     <use x=\"315.136719\" xlink:href=\"#DejaVuSans-5f\"/>\n",
       "     <use x=\"365.136719\" xlink:href=\"#DejaVuSans-43\"/>\n",
       "     <use x=\"434.960938\" xlink:href=\"#DejaVuSans-4e\"/>\n",
       "     <use x=\"509.765625\" xlink:href=\"#DejaVuSans-4e\"/>\n",
       "     <use x=\"584.570312\" xlink:href=\"#DejaVuSans-3a\"/>\n",
       "     <use x=\"618.261719\" xlink:href=\"#DejaVuSans-20\"/>\n",
       "     <use x=\"650.048828\" xlink:href=\"#DejaVuSans-41\"/>\n",
       "     <use x=\"718.441406\" xlink:href=\"#DejaVuSans-63\"/>\n",
       "     <use x=\"773.421875\" xlink:href=\"#DejaVuSans-63\"/>\n",
       "     <use x=\"828.402344\" xlink:href=\"#DejaVuSans-75\"/>\n",
       "     <use x=\"891.78125\" xlink:href=\"#DejaVuSans-72\"/>\n",
       "     <use x=\"932.894531\" xlink:href=\"#DejaVuSans-61\"/>\n",
       "     <use x=\"994.173828\" xlink:href=\"#DejaVuSans-63\"/>\n",
       "     <use x=\"1049.154297\" xlink:href=\"#DejaVuSans-79\"/>\n",
       "    </g>\n",
       "   </g>\n",
       "   <g id=\"legend_2\">\n",
       "    <g id=\"patch_13\">\n",
       "     <path d=\"M 401.363636 247  L 501.969886 247  Q 503.969886 247 503.969886 245  L 503.969886 216.64375  Q 503.969886 214.64375 501.969886 214.64375  L 401.363636 214.64375  Q 399.363636 214.64375 399.363636 216.64375  L 399.363636 245  Q 399.363636 247 401.363636 247  z \" style=\"fill:#ffffff;opacity:0.8;stroke:#cccccc;stroke-linejoin:miter;\"/>\n",
       "    </g>\n",
       "    <g id=\"line2d_32\">\n",
       "     <path d=\"M 403.363636 222.742188  L 423.363636 222.742188  \" style=\"fill:none;stroke:#1f77b4;stroke-linecap:square;stroke-width:1.5;\"/>\n",
       "    </g>\n",
       "    <g id=\"line2d_33\"/>\n",
       "    <g id=\"text_30\">\n",
       "     <!-- Training set -->\n",
       "     <g transform=\"translate(431.363636 226.242188)scale(0.1 -0.1)\">\n",
       "      <use xlink:href=\"#DejaVuSans-54\"/>\n",
       "      <use x=\"60.865234\" xlink:href=\"#DejaVuSans-72\"/>\n",
       "      <use x=\"101.978516\" xlink:href=\"#DejaVuSans-61\"/>\n",
       "      <use x=\"163.257812\" xlink:href=\"#DejaVuSans-69\"/>\n",
       "      <use x=\"191.041016\" xlink:href=\"#DejaVuSans-6e\"/>\n",
       "      <use x=\"254.419922\" xlink:href=\"#DejaVuSans-69\"/>\n",
       "      <use x=\"282.203125\" xlink:href=\"#DejaVuSans-6e\"/>\n",
       "      <use x=\"345.582031\" xlink:href=\"#DejaVuSans-67\"/>\n",
       "      <use x=\"409.058594\" xlink:href=\"#DejaVuSans-20\"/>\n",
       "      <use x=\"440.845703\" xlink:href=\"#DejaVuSans-73\"/>\n",
       "      <use x=\"492.945312\" xlink:href=\"#DejaVuSans-65\"/>\n",
       "      <use x=\"554.46875\" xlink:href=\"#DejaVuSans-74\"/>\n",
       "     </g>\n",
       "    </g>\n",
       "    <g id=\"line2d_34\">\n",
       "     <path d=\"M 403.363636 237.420312  L 423.363636 237.420312  \" style=\"fill:none;stroke:#ff7f0e;stroke-linecap:square;stroke-width:1.5;\"/>\n",
       "    </g>\n",
       "    <g id=\"line2d_35\"/>\n",
       "    <g id=\"text_31\">\n",
       "     <!-- Validation set -->\n",
       "     <g transform=\"translate(431.363636 240.920312)scale(0.1 -0.1)\">\n",
       "      <use xlink:href=\"#DejaVuSans-56\"/>\n",
       "      <use x=\"68.298828\" xlink:href=\"#DejaVuSans-61\"/>\n",
       "      <use x=\"129.578125\" xlink:href=\"#DejaVuSans-6c\"/>\n",
       "      <use x=\"157.361328\" xlink:href=\"#DejaVuSans-69\"/>\n",
       "      <use x=\"185.144531\" xlink:href=\"#DejaVuSans-64\"/>\n",
       "      <use x=\"248.621094\" xlink:href=\"#DejaVuSans-61\"/>\n",
       "      <use x=\"309.900391\" xlink:href=\"#DejaVuSans-74\"/>\n",
       "      <use x=\"349.109375\" xlink:href=\"#DejaVuSans-69\"/>\n",
       "      <use x=\"376.892578\" xlink:href=\"#DejaVuSans-6f\"/>\n",
       "      <use x=\"438.074219\" xlink:href=\"#DejaVuSans-6e\"/>\n",
       "      <use x=\"501.453125\" xlink:href=\"#DejaVuSans-20\"/>\n",
       "      <use x=\"533.240234\" xlink:href=\"#DejaVuSans-73\"/>\n",
       "      <use x=\"585.339844\" xlink:href=\"#DejaVuSans-65\"/>\n",
       "      <use x=\"646.863281\" xlink:href=\"#DejaVuSans-74\"/>\n",
       "     </g>\n",
       "    </g>\n",
       "   </g>\n",
       "  </g>\n",
       " </g>\n",
       " <defs>\n",
       "  <clipPath id=\"p5bc892ac91\">\n",
       "   <rect height=\"217.44\" width=\"253.636364\" x=\"90\" y=\"34.56\"/>\n",
       "  </clipPath>\n",
       "  <clipPath id=\"p0b74738fa2\">\n",
       "   <rect height=\"217.44\" width=\"253.636364\" x=\"394.363636\" y=\"34.56\"/>\n",
       "  </clipPath>\n",
       " </defs>\n",
       "</svg>"
      ],
      "text/plain": [
       "<IPython.core.display.SVG object>"
      ]
     },
     "metadata": {},
     "output_type": "display_data"
    },
    {
     "name": "stdout",
     "output_type": "stream",
     "text": [
      "========================================================\n",
      "       |  Training |  Training |  Validate |  Validate \n",
      "Epochs |     Error |  Accuracy |     Error |  Accuracy \n",
      "------ | --------- | --------- | --------- | --------- \n",
      "#   10 |   0.02725 |   0.99133 |   0.06282 |   0.97943 \n"
     ]
    }
   ],
   "source": [
    "cnn.reset()\n",
    "cnn.train(epochs=10)"
   ]
  },
  {
   "cell_type": "markdown",
   "metadata": {},
   "source": [
    "Now let's take a look at which test inputs the network got wrong."
   ]
  },
  {
   "cell_type": "code",
   "execution_count": 45,
   "metadata": {},
   "outputs": [],
   "source": [
    "results = [cnn.propagate(img) for img in cnn.dataset.test_inputs]\n",
    "classifications = [cx.argmax(r) for r in results]\n",
    "correct_answers = [cx.argmax(t) for t in cnn.dataset.test_targets]"
   ]
  },
  {
   "cell_type": "code",
   "execution_count": 46,
   "metadata": {},
   "outputs": [],
   "source": [
    "wrong = [i for i in range(len(classifications)) if classifications[i] != correct_answers[i]]"
   ]
  },
  {
   "cell_type": "code",
   "execution_count": 47,
   "metadata": {},
   "outputs": [
    {
     "name": "stdout",
     "output_type": "stream",
     "text": [
      "Network classified the following 72 test inputs incorrectly:\n",
      "[144, 216, 236, 256, 300, 324, 352, 364, 384, 444, 492, 530, 539, 604, 710, 804, 842, 938, 982, 1010, 1034, 1139, 1205, 1259, 1267, 1281, 1302, 1385, 1449, 1578, 1683, 1684, 1706, 1754, 1777, 1797, 1805, 1872, 2059, 2085, 2103, 2151, 2155, 2179, 2292, 2305, 2332, 2436, 2470, 2512, 2518, 2521, 2556, 2582, 2627, 2636, 2649, 2684, 2685, 2687, 2871, 2876, 2928, 2952, 3008, 3177, 3238, 3354, 3396, 3422, 3469, 3470]\n"
     ]
    }
   ],
   "source": [
    "print('Network classified the following', len(wrong), 'test inputs incorrectly:')\n",
    "print(wrong)"
   ]
  },
  {
   "cell_type": "markdown",
   "metadata": {},
   "source": [
    "Let's take a look at some of the incorrect classifications.  For clarity, we will label each of the misclassified images with the network's (wrong) answer."
   ]
  },
  {
   "cell_type": "code",
   "execution_count": 48,
   "metadata": {},
   "outputs": [
    {
     "data": {
      "image/png": "[encoded data removed]",
      "text/plain": [
       "<matplotlib.figure.Figure at 0x7f2b044b9ac8>"
      ]
     },
     "metadata": {},
     "output_type": "display_data"
    }
   ],
   "source": [
    "misclassifications = [classifications[i] for i in wrong]\n",
    "cx.view(cnn.dataset.test_inputs[wrong], labels=misclassifications, layout=(None,10), spacing=0.5)"
   ]
  }
 ],
 "metadata": {
  "kernelspec": {
   "display_name": "Python 3",
   "language": "python",
   "name": "python3"
  },
  "language_info": {
   "codemirror_mode": {
    "name": "ipython",
    "version": 3
   },
   "file_extension": ".py",
   "mimetype": "text/x-python",
   "name": "python",
   "nbconvert_exporter": "python",
   "pygments_lexer": "ipython3",
   "version": "3.6.4"
  },
  "widgets": {
   "application/vnd.jupyter.widget-state+json": {
    "state": {
     "0040a57bb8da402b9c58d43cd87d5990": {
      "model_module": "@jupyter-widgets/controls",
      "model_module_version": "1.1.0",
      "model_name": "DescriptionStyleModel",
      "state": {
       "description_width": ""
      }
     },
     "00655d5c7d7543a093acc1386bc58bfc": {
      "model_module": "@jupyter-widgets/controls",
      "model_module_version": "1.1.0",
      "model_name": "CheckboxModel",
      "state": {
       "description": "Visible",
       "disabled": false,
       "layout": "IPY_MODEL_4abd863981614d23a1f58a2d7afee81b",
       "style": "IPY_MODEL_c42e30bc216d430bb9e2a7219f5e7680",
       "value": true
      }
     },
     "00eb6c39c779457a8837adaaf9731602": {
      "model_module": "@jupyter-widgets/controls",
      "model_module_version": "1.1.0",
      "model_name": "HBoxModel",
      "state": {
       "children": [
        "IPY_MODEL_a37452bb937b49798dd2defab33ebc90",
        "IPY_MODEL_8261a5c0bb3540408cf6d17852208a92",
        "IPY_MODEL_f6616a729f7244e3a54ddba147802232",
        "IPY_MODEL_f6d75537e9734380ad4b3ccbdffbd1eb",
        "IPY_MODEL_d88e8117d31746a3a65f2bde8d0f9713",
        "IPY_MODEL_9b485eed42894e58863f01a80d6cc790",
        "IPY_MODEL_d84be7c37d224bf59075e5b5e8d7d332"
       ],
       "layout": "IPY_MODEL_9a97a002b75843bba33be848e71dda45"
      }
     },
     "00fab60d41144a0f91c6ee697604adcc": {
      "model_module": "@jupyter-widgets/controls",
      "model_module_version": "1.1.0",
      "model_name": "FloatSliderModel",
      "state": {
       "continuous_update": false,
       "description": "Zoom",
       "layout": "IPY_MODEL_2ba602a70b4c4cc09b222309f60f8776",
       "max": 1,
       "step": 0.1,
       "style": "IPY_MODEL_81fb6ac5c70f49089727a10854ca6021",
       "value": 0.6
      }
     },
     "01ff490b6e234caa976b99359f19fa01": {
      "model_module": "@jupyter-widgets/output",
      "model_module_version": "1.0.0",
      "model_name": "OutputModel",
      "state": {
       "layout": "IPY_MODEL_30f12ed3366f4a29aa1da9da91050fbe"
      }
     },
     "04092f9511da4dfc9f8fe2bf0dfb6c82": {
      "model_module": "@jupyter-widgets/controls",
      "model_module_version": "1.1.0",
      "model_name": "DescriptionStyleModel",
      "state": {
       "description_width": ""
      }
     },
     "043413b631494bd68615947881d61d2e": {
      "model_module": "@jupyter-widgets/base",
      "model_module_version": "1.0.0",
      "model_name": "LayoutModel",
      "state": {
       "width": "100%"
      }
     },
     "04c4eea96c52458696b1ad75ac206326": {
      "model_module": "@jupyter-widgets/controls",
      "model_module_version": "1.1.0",
      "model_name": "IntTextModel",
      "state": {
       "description": "Vertical space between layers:",
       "layout": "IPY_MODEL_4abd863981614d23a1f58a2d7afee81b",
       "step": 1,
       "style": "IPY_MODEL_e93d1e19185f4d51855c915783ce727e",
       "value": 30
      }
     },
     "05194444c5424f078ecf28fdd6ae6362": {
      "model_module": "@jupyter-widgets/controls",
      "model_module_version": "1.1.0",
      "model_name": "DescriptionStyleModel",
      "state": {
       "description_width": ""
      }
     },
     "053f4606488b46a696caf209e144c66b": {
      "model_module": "@jupyter-widgets/base",
      "model_module_version": "1.0.0",
      "model_name": "LayoutModel",
      "state": {
       "width": "25%"
      }
     },
     "05d530e1064440c897428b5977e291f8": {
      "model_module": "@jupyter-widgets/controls",
      "model_module_version": "1.1.0",
      "model_name": "SelectModel",
      "state": {
       "_options_labels": [
        "input",
        "conv2D_1",
        "maxpool1",
        "conv2D_2",
        "maxpool2",
        "flat",
        "hidden",
        "output"
       ],
       "description": "Layer:",
       "index": 7,
       "layout": "IPY_MODEL_0914ac257c3e40af9fece9a5f5797cc5",
       "rows": 1,
       "style": "IPY_MODEL_df04c6f239db4d4093ca5093d0041f2b"
      }
     },
     "0601860cf27a482eac2df6cb2700877e": {
      "model_module": "@jupyter-widgets/controls",
      "model_module_version": "1.1.0",
      "model_name": "FloatTextModel",
      "state": {
       "description": "Leftmost color maps to:",
       "layout": "IPY_MODEL_41f900d4e1284017ae08d5d2951bc87f",
       "step": null,
       "style": "IPY_MODEL_5ca228d51650406ebae3f2f5edaa86b9"
      }
     },
     "063180b955d8432b878d04df2d7bb248": {
      "model_module": "@jupyter-widgets/controls",
      "model_module_version": "1.1.0",
      "model_name": "ButtonStyleModel",
      "state": {}
     },
     "068b05fd7a334adf998cebe4648b15db": {
      "model_module": "@jupyter-widgets/controls",
      "model_module_version": "1.1.0",
      "model_name": "DescriptionStyleModel",
      "state": {
       "description_width": ""
      }
     },
     "06eb29e854964b74be375af958c077a8": {
      "model_module": "@jupyter-widgets/output",
      "model_module_version": "1.0.0",
      "model_name": "OutputModel",
      "state": {
       "layout": "IPY_MODEL_c491050fa35b4a7080cccfb7997a06a8"
      }
     },
     "07e4267cfeee4f25b6105ddb607f6b5b": {
      "model_module": "@jupyter-widgets/controls",
      "model_module_version": "1.1.0",
      "model_name": "ButtonModel",
      "state": {
       "icon": "fast-backward",
       "layout": "IPY_MODEL_549b5bb310ab4427a7b49a26d970dcd6",
       "style": "IPY_MODEL_44479e0eb79248c88c8e808e580cb5a4"
      }
     },
     "08e299bb37f6486893b92c3022e8b387": {
      "model_module": "@jupyter-widgets/controls",
      "model_module_version": "1.1.0",
      "model_name": "IntTextModel",
      "state": {
       "description": "Horizontal space between banks:",
       "layout": "IPY_MODEL_4abd863981614d23a1f58a2d7afee81b",
       "step": 1,
       "style": "IPY_MODEL_bdb737e09ddc45dfab17446fa97d70a5",
       "value": 150
      }
     },
     "08ff05464464409aadb241c1abe39dca": {
      "model_module": "@jupyter-widgets/controls",
      "model_module_version": "1.1.0",
      "model_name": "SliderStyleModel",
      "state": {
       "description_width": ""
      }
     },
     "0914ac257c3e40af9fece9a5f5797cc5": {
      "model_module": "@jupyter-widgets/base",
      "model_module_version": "1.0.0",
      "model_name": "LayoutModel",
      "state": {}
     },
     "09e2e6e6a28d423484599aad42e1599a": {
      "model_module": "@jupyter-widgets/base",
      "model_module_version": "1.0.0",
      "model_name": "LayoutModel",
      "state": {
       "width": "100%"
      }
     },
     "0ac8e71fdd374617b22ebf533a539298": {
      "model_module": "@jupyter-widgets/controls",
      "model_module_version": "1.1.0",
      "model_name": "VBoxModel",
      "state": {
       "children": [
        "IPY_MODEL_88685321e14746fdb0cf4be55bd73b80",
        "IPY_MODEL_a0a44c45d5ce410fa52aa336d676ac3f",
        "IPY_MODEL_60537664c97644e48dd849e697e7e866",
        "IPY_MODEL_395a3d3c39e44b50bfcca9209659df94",
        "IPY_MODEL_0dc5183a45b046f989320a316eba5144",
        "IPY_MODEL_69267bb2336d49e08fd920c9aabd8872",
        "IPY_MODEL_c91b95bfac56436fbf28ddfa59ce6ba5",
        "IPY_MODEL_5934c64e544c4130809fab69a86f7fd9"
       ],
       "layout": "IPY_MODEL_a492a2e84f42465980d644880bdf1ac4"
      }
     },
     "0b506a86ae914094a97e97fcc50e86fe": {
      "model_module": "@jupyter-widgets/base",
      "model_module_version": "1.0.0",
      "model_name": "LayoutModel",
      "state": {
       "width": "100%"
      }
     },
     "0bfbdb03be3a48c995755375b501adcf": {
      "model_module": "@jupyter-widgets/controls",
      "model_module_version": "1.1.0",
      "model_name": "ButtonStyleModel",
      "state": {}
     },
     "0ce863b06de94f919dd0dd02d9b99956": {
      "model_module": "@jupyter-widgets/base",
      "model_module_version": "1.0.0",
      "model_name": "LayoutModel",
      "state": {
       "width": "100%"
      }
     },
     "0d11b6520acc4082b0d7831860dac205": {
      "model_module": "@jupyter-widgets/base",
      "model_module_version": "1.0.0",
      "model_name": "LayoutModel",
      "state": {}
     },
     "0dc5183a45b046f989320a316eba5144": {
      "model_module": "@jupyter-widgets/controls",
      "model_module_version": "1.1.0",
      "model_name": "FloatTextModel",
      "state": {
       "description": "Leftmost color maps to:",
       "layout": "IPY_MODEL_f01ea180c26d40939c3bbe393baf2498",
       "step": null,
       "style": "IPY_MODEL_5dc9914d5cad45d985c5ec8f344ec8a8",
       "value": -1
      }
     },
     "1018124399604fd8b09bfef395b71be1": {
      "model_module": "@jupyter-widgets/controls",
      "model_module_version": "1.1.0",
      "model_name": "SliderStyleModel",
      "state": {
       "description_width": ""
      }
     },
     "1121794f6c78435d870bce408832769e": {
      "model_module": "@jupyter-widgets/base",
      "model_module_version": "1.0.0",
      "model_name": "LayoutModel",
      "state": {}
     },
     "1141b932a2f446c2b9918f5e371ec3cc": {
      "model_module": "@jupyter-widgets/base",
      "model_module_version": "1.0.0",
      "model_name": "LayoutModel",
      "state": {
       "width": "100%"
      }
     },
     "116cc699e8994a9f84e6867818947a91": {
      "model_module": "@jupyter-widgets/base",
      "model_module_version": "1.0.0",
      "model_name": "LayoutModel",
      "state": {}
     },
     "11881b43378f4af0b27f0e9d792bb6b7": {
      "model_module": "@jupyter-widgets/controls",
      "model_module_version": "1.1.0",
      "model_name": "DescriptionStyleModel",
      "state": {
       "description_width": "initial"
      }
     },
     "11cd6a6929424bee965b6bcac00dd975": {
      "model_module": "@jupyter-widgets/controls",
      "model_module_version": "1.1.0",
      "model_name": "DescriptionStyleModel",
      "state": {
       "description_width": ""
      }
     },
     "128108c5be254fd99c83490cd35dbdbe": {
      "model_module": "@jupyter-widgets/base",
      "model_module_version": "1.0.0",
      "model_name": "LayoutModel",
      "state": {}
     },
     "12cd389eba7e41b78e56eb5ebaf0757f": {
      "model_module": "@jupyter-widgets/controls",
      "model_module_version": "1.1.0",
      "model_name": "ButtonStyleModel",
      "state": {}
     },
     "132dc5fde3b4481fbcd88998abd2a095": {
      "model_module": "@jupyter-widgets/controls",
      "model_module_version": "1.1.0",
      "model_name": "DescriptionStyleModel",
      "state": {
       "description_width": ""
      }
     },
     "142eee6ee5b14878b920456df684217a": {
      "model_module": "@jupyter-widgets/controls",
      "model_module_version": "1.1.0",
      "model_name": "DescriptionStyleModel",
      "state": {
       "description_width": "initial"
      }
     },
     "14fb3ff6e34d43d486f55cd113a30752": {
      "model_module": "@jupyter-widgets/output",
      "model_module_version": "1.0.0",
      "model_name": "OutputModel",
      "state": {
       "layout": "IPY_MODEL_8ba527646d9d4ac0adfc46115114e01a"
      }
     },
     "155abf790fa94f15ac1e625b7a7f7fc1": {
      "model_module": "@jupyter-widgets/controls",
      "model_module_version": "1.1.0",
      "model_name": "ButtonModel",
      "state": {
       "icon": "fast-backward",
       "layout": "IPY_MODEL_fcbb165ebd8447308c4e9d792ceb2279",
       "style": "IPY_MODEL_1740eb90b88a47aa9c7c05eba2a3317b"
      }
     },
     "1740eb90b88a47aa9c7c05eba2a3317b": {
      "model_module": "@jupyter-widgets/controls",
      "model_module_version": "1.1.0",
      "model_name": "ButtonStyleModel",
      "state": {}
     },
     "19121657e4ec419c9a4f3d0272ff1c54": {
      "model_module": "@jupyter-widgets/controls",
      "model_module_version": "1.1.0",
      "model_name": "ButtonStyleModel",
      "state": {}
     },
     "19b03a4b33ef415e93445f7e8ecd2c81": {
      "model_module": "@jupyter-widgets/base",
      "model_module_version": "1.0.0",
      "model_name": "LayoutModel",
      "state": {}
     },
     "1a911869e54343f4842d49cb5394bd6c": {
      "model_module": "@jupyter-widgets/controls",
      "model_module_version": "1.1.0",
      "model_name": "FloatTextModel",
      "state": {
       "description": "Leftmost color maps to:",
       "layout": "IPY_MODEL_c148949854ea4b51a5449c9dc5c74721",
       "step": null,
       "style": "IPY_MODEL_ad5ae9a3b4ec41abaa745995bd70b4d3",
       "value": -1
      }
     },
     "1b38140257ae4458ae3c3d7b7e9698bd": {
      "model_module": "@jupyter-widgets/base",
      "model_module_version": "1.0.0",
      "model_name": "LayoutModel",
      "state": {}
     },
     "1b5514e1421f48d0b51dd0446bc85893": {
      "model_module": "@jupyter-widgets/controls",
      "model_module_version": "1.1.0",
      "model_name": "ButtonStyleModel",
      "state": {}
     },
     "1c20fb7fb86c4448a404edb69f796269": {
      "model_module": "@jupyter-widgets/controls",
      "model_module_version": "1.1.0",
      "model_name": "IntTextModel",
      "state": {
       "description": "Horizontal space between banks:",
       "layout": "IPY_MODEL_661020dd36614d018e98a1db5ad2fe5e",
       "step": 1,
       "style": "IPY_MODEL_8082b429e10f4146aa0ccc5694f77e59",
       "value": 150
      }
     },
     "1c360ccbf295407d95685b3c4ace37fc": {
      "model_module": "@jupyter-widgets/base",
      "model_module_version": "1.0.0",
      "model_name": "LayoutModel",
      "state": {
       "justify_content": "center",
       "overflow_x": "auto",
       "overflow_y": "auto",
       "width": "95%"
      }
     },
     "1cc273f9f453403f813195f64e63fd8e": {
      "model_module": "@jupyter-widgets/controls",
      "model_module_version": "1.1.0",
      "model_name": "CheckboxModel",
      "state": {
       "description": "Rotate",
       "disabled": false,
       "layout": "IPY_MODEL_4abd863981614d23a1f58a2d7afee81b",
       "style": "IPY_MODEL_6e6346425518498b9dec34596f3512df",
       "value": true
      }
     },
     "1d18a5abd235443294bb3bb470a92339": {
      "model_module": "@jupyter-widgets/controls",
      "model_module_version": "1.1.0",
      "model_name": "ButtonStyleModel",
      "state": {}
     },
     "1d60cd02c6b441e689ab0c4c6b443e98": {
      "model_module": "@jupyter-widgets/controls",
      "model_module_version": "1.1.0",
      "model_name": "DescriptionStyleModel",
      "state": {
       "description_width": "initial"
      }
     },
     "1e7e002bf27c4085b2cffc8b872afcdb": {
      "model_module": "@jupyter-widgets/controls",
      "model_module_version": "1.1.0",
      "model_name": "DescriptionStyleModel",
      "state": {
       "description_width": "initial"
      }
     },
     "1e8e31c9df704b4ea6044b3925bed763": {
      "model_module": "@jupyter-widgets/controls",
      "model_module_version": "1.1.0",
      "model_name": "AccordionModel",
      "state": {
       "_titles": {
        "0": "MNIST_MLP"
       },
       "children": [
        "IPY_MODEL_ea50d14d02b14486954e0657375cc8ee"
       ],
       "layout": "IPY_MODEL_1121794f6c78435d870bce408832769e",
       "selected_index": null
      }
     },
     "2026c03ab44d4a3ea239cb7e39f48dd8": {
      "model_module": "@jupyter-widgets/controls",
      "model_module_version": "1.1.0",
      "model_name": "VBoxModel",
      "state": {
       "children": [
        "IPY_MODEL_d0d69109c07d41bc82148b83f285224c",
        "IPY_MODEL_d8fc0117fa5b4736989f0c7ff87f74cf",
        "IPY_MODEL_d813642eed35434b8c54ec03e133fe10",
        "IPY_MODEL_c74da9b3a3ac484abe40fa64c27d69a0",
        "IPY_MODEL_85e21f617dce4ccd83af624101e94cec",
        "IPY_MODEL_4555c03a112947389037eb3f58229b37",
        "IPY_MODEL_87ead999b5dd4b6f918e63f5772c7384",
        "IPY_MODEL_9166bcbd068a47abbf5f91e0f4038428"
       ],
       "layout": "IPY_MODEL_a1bcbf558bcb48339971ca6af39a268f"
      }
     },
     "2042c10153da426bbbe5dc65107f7f96": {
      "model_module": "@jupyter-widgets/controls",
      "model_module_version": "1.1.0",
      "model_name": "ButtonStyleModel",
      "state": {}
     },
     "204bbcf82dd94e48ae0464f43bc05ccb": {
      "model_module": "@jupyter-widgets/base",
      "model_module_version": "1.0.0",
      "model_name": "LayoutModel",
      "state": {
       "width": "100%"
      }
     },
     "209b96a2856b49d5910aadf074ca3ede": {
      "model_module": "@jupyter-widgets/controls",
      "model_module_version": "1.1.0",
      "model_name": "DescriptionStyleModel",
      "state": {
       "description_width": "initial"
      }
     },
     "20b3469b741d4e8db1f11b2d79b3823c": {
      "model_module": "@jupyter-widgets/controls",
      "model_module_version": "1.1.0",
      "model_name": "CheckboxModel",
      "state": {
       "description": "Rotate network",
       "disabled": false,
       "layout": "IPY_MODEL_950dbfb5b8f54737b1352e4e1c6675d4",
       "style": "IPY_MODEL_3aeb63a7352e420681e0b6cbf30453a7",
       "value": true
      }
     },
     "20d5ce49c9294800a2d0855f4a536b15": {
      "model_module": "@jupyter-widgets/base",
      "model_module_version": "1.0.0",
      "model_name": "LayoutModel",
      "state": {}
     },
     "215e67808eea4244a0e7b9a65ba6111b": {
      "model_module": "@jupyter-widgets/controls",
      "model_module_version": "1.1.0",
      "model_name": "DescriptionStyleModel",
      "state": {
       "description_width": "initial"
      }
     },
     "21a08b783f6f416c96642a10a8961fe3": {
      "model_module": "@jupyter-widgets/base",
      "model_module_version": "1.0.0",
      "model_name": "LayoutModel",
      "state": {}
     },
     "21bc90ae97f545e792ca6c20ed07e788": {
      "model_module": "@jupyter-widgets/base",
      "model_module_version": "1.0.0",
      "model_name": "LayoutModel",
      "state": {
       "width": "100%"
      }
     },
     "22ac5e00b8844c9eb58674f46813f260": {
      "model_module": "@jupyter-widgets/controls",
      "model_module_version": "1.1.0",
      "model_name": "SelectModel",
      "state": {
       "_options_labels": [
        "",
        "input"
       ],
       "description": "Features:",
       "index": 0,
       "layout": "IPY_MODEL_fc5068a81cba47e494b1cce7b60f6fb3",
       "rows": 1,
       "style": "IPY_MODEL_af22e8fa11db4baba172d6a0e8416871"
      }
     },
     "22e20825e12f4f88b9e042ecaf2c444b": {
      "model_module": "@jupyter-widgets/controls",
      "model_module_version": "1.1.0",
      "model_name": "IntTextModel",
      "state": {
       "description": "Horizontal space between banks:",
       "layout": "IPY_MODEL_c6613434354a4757a1e313434f827014",
       "step": 1,
       "style": "IPY_MODEL_d7d346a3743042b9ada4c9b9c5bd852b",
       "value": 150
      }
     },
     "22fe711bc93a42b89bd6d7e7e7269c0c": {
      "model_module": "@jupyter-widgets/controls",
      "model_module_version": "1.1.0",
      "model_name": "DescriptionStyleModel",
      "state": {
       "description_width": ""
      }
     },
     "23331640fa3a4fc7b917a9e5242756dc": {
      "model_module": "@jupyter-widgets/controls",
      "model_module_version": "1.1.0",
      "model_name": "DescriptionStyleModel",
      "state": {
       "description_width": ""
      }
     },
     "2351ce0738da4b6c9e6a72f1d3a0202d": {
      "model_module": "@jupyter-widgets/base",
      "model_module_version": "1.0.0",
      "model_name": "LayoutModel",
      "state": {}
     },
     "23c54cb4f14e40458fea330a4e91f53f": {
      "model_module": "@jupyter-widgets/controls",
      "model_module_version": "1.1.0",
      "model_name": "HBoxModel",
      "state": {
       "children": [
        "IPY_MODEL_5555567abe17459a9e5d35c21e58ad20",
        "IPY_MODEL_0ac8e71fdd374617b22ebf533a539298"
       ],
       "layout": "IPY_MODEL_a2619df2cf4e441e846c217c1882c5c3"
      }
     },
     "244a80d773e9429583a706ee67484344": {
      "model_module": "@jupyter-widgets/controls",
      "model_module_version": "1.1.0",
      "model_name": "SelectModel",
      "state": {
       "_options_labels": [
        "Test",
        "Train"
       ],
       "description": "Dataset:",
       "index": 1,
       "layout": "IPY_MODEL_19b03a4b33ef415e93445f7e8ecd2c81",
       "rows": 1,
       "style": "IPY_MODEL_f828be238d184857ac4556e73c4fb6ec"
      }
     },
     "2468c728df394d40823b29bfb6ef8594": {
      "model_module": "@jupyter-widgets/base",
      "model_module_version": "1.0.0",
      "model_name": "LayoutModel",
      "state": {
       "width": "100%"
      }
     },
     "24a750bb58234440a8d8bfca075fbcaa": {
      "model_module": "@jupyter-widgets/controls",
      "model_module_version": "1.1.0",
      "model_name": "ButtonModel",
      "state": {
       "description": "Play",
       "icon": "play",
       "layout": "IPY_MODEL_3094f3b06c49478f99c562930f10520f",
       "style": "IPY_MODEL_2a4a23a43cf147c68de2dceac5c583ee"
      }
     },
     "25076ba8854545a0ba9c11187b490fe3": {
      "model_module": "@jupyter-widgets/controls",
      "model_module_version": "1.1.0",
      "model_name": "DescriptionStyleModel",
      "state": {
       "description_width": "initial"
      }
     },
     "252d495d943d4cc6bdcd81abac91e0b2": {
      "model_module": "@jupyter-widgets/controls",
      "model_module_version": "1.1.0",
      "model_name": "SliderStyleModel",
      "state": {
       "description_width": "initial"
      }
     },
     "276b682c294749ae8c178736aae7c72a": {
      "model_module": "@jupyter-widgets/controls",
      "model_module_version": "1.1.0",
      "model_name": "HBoxModel",
      "state": {
       "children": [
        "IPY_MODEL_8b39dcd567684ade9e0e22c6e43203f9",
        "IPY_MODEL_2af2813fc22d401f8a55d74b6ae3da6a"
       ],
       "layout": "IPY_MODEL_59797dccac6346ae9db335b41d99b234"
      }
     },
     "2867e287b744415c8b33458ccc262f3e": {
      "model_module": "@jupyter-widgets/base",
      "model_module_version": "1.0.0",
      "model_name": "LayoutModel",
      "state": {}
     },
     "287b771a1c9645adbf59beaf21c21346": {
      "model_module": "@jupyter-widgets/controls",
      "model_module_version": "1.1.0",
      "model_name": "IntTextModel",
      "state": {
       "layout": "IPY_MODEL_6621dba9967248f0935697e6beec4ccb",
       "step": 1,
       "style": "IPY_MODEL_72b9e5907d62434fb5b6ae9172ba1a4b"
      }
     },
     "28aecc7f5aa6445992cfd80c60f5eb96": {
      "model_module": "@jupyter-widgets/base",
      "model_module_version": "1.0.0",
      "model_name": "LayoutModel",
      "state": {
       "width": "100%"
      }
     },
     "29556098156d401ab0eae1f60066a78d": {
      "model_module": "@jupyter-widgets/controls",
      "model_module_version": "1.1.0",
      "model_name": "VBoxModel",
      "state": {
       "children": [
        "IPY_MODEL_9563bb81ba804c2b99c4439ea56f4ad5",
        "IPY_MODEL_c76b421aab8241538351e6090561c452",
        "IPY_MODEL_d16edd2025df491384dfaf3d941e2f27",
        "IPY_MODEL_4a1bd1b19f2b45a7820cc46e2628d673",
        "IPY_MODEL_1a911869e54343f4842d49cb5394bd6c",
        "IPY_MODEL_9b2388ecb83241cfbedca082c31d2716",
        "IPY_MODEL_d7538a449b454340b780979c32ce83d9",
        "IPY_MODEL_7d2a0b82aa1647919e312e7f3554edd3"
       ],
       "layout": "IPY_MODEL_3a34d0742a6f41649d0234b9144dad33"
      }
     },
     "2a4a23a43cf147c68de2dceac5c583ee": {
      "model_module": "@jupyter-widgets/controls",
      "model_module_version": "1.1.0",
      "model_name": "ButtonStyleModel",
      "state": {}
     },
     "2a6c3f487ada40878c3b22bdc68fe7c2": {
      "model_module": "@jupyter-widgets/controls",
      "model_module_version": "1.1.0",
      "model_name": "HBoxModel",
      "state": {
       "children": [
        "IPY_MODEL_b65d939642164f8dbd141d2a35a92948",
        "IPY_MODEL_396031550a634fe39a3dc59bb49f9fe8"
       ],
       "layout": "IPY_MODEL_97093ae6ce8c4b849363c94c0ebdf09a"
      }
     },
     "2ae9423cdff449d2b2aca50dccc80c88": {
      "model_module": "@jupyter-widgets/controls",
      "model_module_version": "1.1.0",
      "model_name": "VBoxModel",
      "state": {
       "children": [
        "IPY_MODEL_244a80d773e9429583a706ee67484344",
        "IPY_MODEL_00fab60d41144a0f91c6ee697604adcc",
        "IPY_MODEL_1c20fb7fb86c4448a404edb69f796269",
        "IPY_MODEL_e46addd804574b228df82134ba6ddee4",
        "IPY_MODEL_4422bb1a554f463eb5f2af77ebee03da",
        "IPY_MODEL_ab86ac76c8634611adec627977a694fc",
        "IPY_MODEL_69e946ed584a4795b5c1168b5a9d3dfc",
        "IPY_MODEL_6dd0e824949a4e3ead60d8d878db6480"
       ],
       "layout": "IPY_MODEL_ee79b763126742c7a52e2d77e87de571"
      }
     },
     "2af2813fc22d401f8a55d74b6ae3da6a": {
      "model_module": "@jupyter-widgets/controls",
      "model_module_version": "1.1.0",
      "model_name": "ButtonModel",
      "state": {
       "icon": "save",
       "layout": "IPY_MODEL_9ef8ac94fd6a48129b0179c92dd3cb77",
       "style": "IPY_MODEL_600b282700e044f58b08141cc2a11f78"
      }
     },
     "2b2f4a72739f4ffab5bf9687255492ff": {
      "model_module": "@jupyter-widgets/controls",
      "model_module_version": "1.1.0",
      "model_name": "SelectModel",
      "state": {
       "_options_labels": [
        "Test",
        "Train"
       ],
       "description": "Dataset:",
       "index": 1,
       "layout": "IPY_MODEL_d44765ca714b4127ba3af1a3975325fb",
       "rows": 1,
       "style": "IPY_MODEL_e9753c0b73cb4e8988c7518ea09906ad"
      }
     },
     "2ba602a70b4c4cc09b222309f60f8776": {
      "model_module": "@jupyter-widgets/base",
      "model_module_version": "1.0.0",
      "model_name": "LayoutModel",
      "state": {
       "width": "65%"
      }
     },
     "2c55c573f011406f956c72733c7d232d": {
      "model_module": "@jupyter-widgets/controls",
      "model_module_version": "1.1.0",
      "model_name": "ButtonModel",
      "state": {
       "description": "Play",
       "icon": "play",
       "layout": "IPY_MODEL_d4edf50a74814c1dbf470b954de56dd2",
       "style": "IPY_MODEL_62715489493149f09060af87dfba9d28"
      }
     },
     "2c8339416e804df3b9977ea94c9f2f04": {
      "model_module": "@jupyter-widgets/base",
      "model_module_version": "1.0.0",
      "model_name": "LayoutModel",
      "state": {
       "width": "100%"
      }
     },
     "2d821355d9a04aa2a789b70e518925d7": {
      "model_module": "@jupyter-widgets/controls",
      "model_module_version": "1.1.0",
      "model_name": "ButtonModel",
      "state": {
       "icon": "forward",
       "layout": "IPY_MODEL_9ba693b4f09b432e8f453a6bcb7cf77b",
       "style": "IPY_MODEL_a7ef6cb2e04c4d7ba7daa2a7de0b1250"
      }
     },
     "2dde6827b6aa485c859fbb6f57a85cb7": {
      "model_module": "@jupyter-widgets/controls",
      "model_module_version": "1.1.0",
      "model_name": "ButtonModel",
      "state": {
       "description": "Play",
       "icon": "play",
       "layout": "IPY_MODEL_db22ae94397748d2a80b96a3e0b4a72e",
       "style": "IPY_MODEL_1d18a5abd235443294bb3bb470a92339"
      }
     },
     "2ea0642777e64a9d8c5bcf052f6c295c": {
      "model_module": "@jupyter-widgets/controls",
      "model_module_version": "1.1.0",
      "model_name": "DescriptionStyleModel",
      "state": {
       "description_width": ""
      }
     },
     "2f68ed37868b4441b90690fc646a4d94": {
      "model_module": "@jupyter-widgets/controls",
      "model_module_version": "1.1.0",
      "model_name": "IntTextModel",
      "state": {
       "description": "Feature columns:",
       "layout": "IPY_MODEL_5799c02a520b4f68be51aea5087eaf03",
       "step": 1,
       "style": "IPY_MODEL_7a53ca8dda4c4c6099df253438a9b138",
       "value": 8
      }
     },
     "2f7e357542504ac2b43d20714c06862f": {
      "model_module": "@jupyter-widgets/base",
      "model_module_version": "1.0.0",
      "model_name": "LayoutModel",
      "state": {}
     },
     "3094f3b06c49478f99c562930f10520f": {
      "model_module": "@jupyter-widgets/base",
      "model_module_version": "1.0.0",
      "model_name": "LayoutModel",
      "state": {
       "width": "100%"
      }
     },
     "30f12ed3366f4a29aa1da9da91050fbe": {
      "model_module": "@jupyter-widgets/base",
      "model_module_version": "1.0.0",
      "model_name": "LayoutModel",
      "state": {}
     },
     "327040d5fcdb4491b94dee45436a9568": {
      "model_module": "@jupyter-widgets/controls",
      "model_module_version": "1.1.0",
      "model_name": "ButtonStyleModel",
      "state": {}
     },
     "33241488c7814817917750c212dc159f": {
      "model_module": "@jupyter-widgets/base",
      "model_module_version": "1.0.0",
      "model_name": "LayoutModel",
      "state": {}
     },
     "343ebdc05f1f43bfaeaddcaf1e4255e6": {
      "model_module": "@jupyter-widgets/controls",
      "model_module_version": "1.1.0",
      "model_name": "IntTextModel",
      "state": {
       "description": "Feature columns:",
       "layout": "IPY_MODEL_5a9c9b9ff5f24580b0a25b2ebb4fabb2",
       "step": 1,
       "style": "IPY_MODEL_740a2eaa6a3e4897b6e05a4fcfa25827",
       "value": 3
      }
     },
     "35ea6a5ca985486b9e442e732efcb576": {
      "model_module": "@jupyter-widgets/controls",
      "model_module_version": "1.1.0",
      "model_name": "DescriptionStyleModel",
      "state": {
       "description_width": ""
      }
     },
     "37bffc4b30f74458a5127ab7329ae929": {
      "model_module": "@jupyter-widgets/controls",
      "model_module_version": "1.1.0",
      "model_name": "DescriptionStyleModel",
      "state": {
       "description_width": ""
      }
     },
     "395a3d3c39e44b50bfcca9209659df94": {
      "model_module": "@jupyter-widgets/controls",
      "model_module_version": "1.1.0",
      "model_name": "HTMLModel",
      "state": {
       "layout": "IPY_MODEL_514d229d87e94dc494447449a34833a5",
       "style": "IPY_MODEL_23331640fa3a4fc7b917a9e5242756dc",
       "value": "<img src=\"data:image/gif;base64,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\"/>"
      }
     },
     "395c494081084350bf6883e93d619d14": {
      "model_module": "@jupyter-widgets/controls",
      "model_module_version": "1.1.0",
      "model_name": "IntTextModel",
      "state": {
       "layout": "IPY_MODEL_54d09d31f8ea4715afadef23d7130b38",
       "step": 1,
       "style": "IPY_MODEL_068b05fd7a334adf998cebe4648b15db"
      }
     },
     "396031550a634fe39a3dc59bb49f9fe8": {
      "model_module": "@jupyter-widgets/controls",
      "model_module_version": "1.1.0",
      "model_name": "LabelModel",
      "state": {
       "layout": "IPY_MODEL_fb757c8770ba4ee39e5d26f3bdd38f5c",
       "style": "IPY_MODEL_05194444c5424f078ecf28fdd6ae6362",
       "value": "of 60000"
      }
     },
     "3a34d0742a6f41649d0234b9144dad33": {
      "model_module": "@jupyter-widgets/base",
      "model_module_version": "1.0.0",
      "model_name": "LayoutModel",
      "state": {
       "width": "100%"
      }
     },
     "3aeb63a7352e420681e0b6cbf30453a7": {
      "model_module": "@jupyter-widgets/controls",
      "model_module_version": "1.1.0",
      "model_name": "DescriptionStyleModel",
      "state": {
       "description_width": "initial"
      }
     },
     "3b37654640b142258d940fdcc8676cd7": {
      "model_module": "@jupyter-widgets/base",
      "model_module_version": "1.0.0",
      "model_name": "LayoutModel",
      "state": {
       "width": "100px"
      }
     },
     "3c8c8e580e5a4c12a0840dc474bab4c5": {
      "model_module": "@jupyter-widgets/base",
      "model_module_version": "1.0.0",
      "model_name": "LayoutModel",
      "state": {
       "width": "100%"
      }
     },
     "3f5ac242b81047a7ada5d84cc8cb3aac": {
      "model_module": "@jupyter-widgets/base",
      "model_module_version": "1.0.0",
      "model_name": "LayoutModel",
      "state": {}
     },
     "4071ae1382af4cce8f1fa59ac3e7b493": {
      "model_module": "@jupyter-widgets/controls",
      "model_module_version": "1.1.0",
      "model_name": "FloatSliderModel",
      "state": {
       "continuous_update": false,
       "description": "Zoom",
       "layout": "IPY_MODEL_85f1474362c8485b9662ed5d595e3ca2",
       "max": 1,
       "step": 0.1,
       "style": "IPY_MODEL_252d495d943d4cc6bdcd81abac91e0b2",
       "value": 0.6
      }
     },
     "41acb8ca1cb54fb3ae0a6f5252b3a089": {
      "model_module": "@jupyter-widgets/controls",
      "model_module_version": "1.1.0",
      "model_name": "ButtonModel",
      "state": {
       "icon": "fast-forward",
       "layout": "IPY_MODEL_da7af56aa51c4a8eb2cb54b1dbda0f97",
       "style": "IPY_MODEL_7f2a2bba14d1490dab760472ab7a6a47"
      }
     },
     "41f900d4e1284017ae08d5d2951bc87f": {
      "model_module": "@jupyter-widgets/base",
      "model_module_version": "1.0.0",
      "model_name": "LayoutModel",
      "state": {}
     },
     "42320c46704b42d998a3270100845179": {
      "model_module": "@jupyter-widgets/controls",
      "model_module_version": "1.1.0",
      "model_name": "DescriptionStyleModel",
      "state": {
       "description_width": ""
      }
     },
     "42b76a9566a640dab6c2428da81f0097": {
      "model_module": "@jupyter-widgets/base",
      "model_module_version": "1.0.0",
      "model_name": "LayoutModel",
      "state": {}
     },
     "431491621a334a60a2c0ac79f8294cd5": {
      "model_module": "@jupyter-widgets/controls",
      "model_module_version": "1.1.0",
      "model_name": "SliderStyleModel",
      "state": {
       "description_width": ""
      }
     },
     "434218473a424681b311c1098cd3858e": {
      "model_module": "@jupyter-widgets/base",
      "model_module_version": "1.0.0",
      "model_name": "LayoutModel",
      "state": {
       "height": "40px"
      }
     },
     "4422bb1a554f463eb5f2af77ebee03da": {
      "model_module": "@jupyter-widgets/controls",
      "model_module_version": "1.1.0",
      "model_name": "HBoxModel",
      "state": {
       "children": [
        "IPY_MODEL_6731e2f2937d41058072ebfd53097487",
        "IPY_MODEL_e387ce213e3e47e1ae2245f07b7f0b60"
       ],
       "layout": "IPY_MODEL_92c17305f2344c50a65f38d810175bce"
      }
     },
     "44479e0eb79248c88c8e808e580cb5a4": {
      "model_module": "@jupyter-widgets/controls",
      "model_module_version": "1.1.0",
      "model_name": "ButtonStyleModel",
      "state": {}
     },
     "451c7238e39a43e7a8c4d5dd7d99b168": {
      "model_module": "@jupyter-widgets/controls",
      "model_module_version": "1.1.0",
      "model_name": "CheckboxModel",
      "state": {
       "description": "Errors",
       "disabled": false,
       "layout": "IPY_MODEL_3f5ac242b81047a7ada5d84cc8cb3aac",
       "style": "IPY_MODEL_e6dda010a5b04029b238b3860ddab02a",
       "value": false
      }
     },
     "4555c03a112947389037eb3f58229b37": {
      "model_module": "@jupyter-widgets/controls",
      "model_module_version": "1.1.0",
      "model_name": "SelectModel",
      "state": {
       "_options_labels": [
        "",
        "input",
        "conv2D_1",
        "maxpool1",
        "conv2D_2",
        "maxpool2"
       ],
       "description": "Features:",
       "index": 2,
       "layout": "IPY_MODEL_98a016fe0b9545bcb06ce49a651c50e1",
       "rows": 1,
       "style": "IPY_MODEL_22fe711bc93a42b89bd6d7e7e7269c0c"
      }
     },
     "45adbd365c0449a88626cc4967d4ca19": {
      "model_module": "@jupyter-widgets/controls",
      "model_module_version": "1.1.0",
      "model_name": "CheckboxModel",
      "state": {
       "description": "Rotate",
       "disabled": false,
       "layout": "IPY_MODEL_3f5ac242b81047a7ada5d84cc8cb3aac",
       "style": "IPY_MODEL_04092f9511da4dfc9f8fe2bf0dfb6c82",
       "value": true
      }
     },
     "467f09d7cd774d6292b5bb007eff2a0b": {
      "model_module": "@jupyter-widgets/base",
      "model_module_version": "1.0.0",
      "model_name": "LayoutModel",
      "state": {}
     },
     "47821b222f85410e93c20b0242ca46d0": {
      "model_module": "@jupyter-widgets/base",
      "model_module_version": "1.0.0",
      "model_name": "LayoutModel",
      "state": {}
     },
     "47f4e2447c384122842be98eb2d6dc48": {
      "model_module": "@jupyter-widgets/controls",
      "model_module_version": "1.1.0",
      "model_name": "DescriptionStyleModel",
      "state": {
       "description_width": ""
      }
     },
     "48ed1de8408c4b33b8f89826aea83e58": {
      "model_module": "@jupyter-widgets/base",
      "model_module_version": "1.0.0",
      "model_name": "LayoutModel",
      "state": {
       "width": "100%"
      }
     },
     "49533c9db9c642cfa6b03ef81ab25d59": {
      "model_module": "@jupyter-widgets/base",
      "model_module_version": "1.0.0",
      "model_name": "LayoutModel",
      "state": {
       "height": "50px",
       "width": "100%"
      }
     },
     "49ab44d39ea34a359cd9782cf5a46c76": {
      "model_module": "@jupyter-widgets/base",
      "model_module_version": "1.0.0",
      "model_name": "LayoutModel",
      "state": {}
     },
     "4a1bd1b19f2b45a7820cc46e2628d673": {
      "model_module": "@jupyter-widgets/controls",
      "model_module_version": "1.1.0",
      "model_name": "HTMLModel",
      "state": {
       "layout": "IPY_MODEL_2351ce0738da4b6c9e6a72f1d3a0202d",
       "style": "IPY_MODEL_de50deb966594d769f6669804f9f0b3c",
       "value": "<img src=\"data:image/gif;base64,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\"/>"
      }
     },
     "4abd863981614d23a1f58a2d7afee81b": {
      "model_module": "@jupyter-widgets/base",
      "model_module_version": "1.0.0",
      "model_name": "LayoutModel",
      "state": {}
     },
     "4ad548bbe54c4406bf36565e2ab80253": {
      "model_module": "@jupyter-widgets/controls",
      "model_module_version": "1.1.0",
      "model_name": "ButtonModel",
      "state": {
       "icon": "refresh",
       "layout": "IPY_MODEL_7346f1b20cc842ee9c1d347b0a16349e",
       "style": "IPY_MODEL_c65f3030a32b400083417a487ca78695"
      }
     },
     "4b570d8c3e3f4e00966cd25a09d2f395": {
      "model_module": "@jupyter-widgets/controls",
      "model_module_version": "1.1.0",
      "model_name": "FloatTextModel",
      "state": {
       "description": "Rightmost color maps to:",
       "layout": "IPY_MODEL_49ab44d39ea34a359cd9782cf5a46c76",
       "step": null,
       "style": "IPY_MODEL_f4efe0cb32b647a1ad793b21380d7ee3",
       "value": 1
      }
     },
     "4c9dcb754f8047099c6bf4829dc8ee17": {
      "model_module": "@jupyter-widgets/base",
      "model_module_version": "1.0.0",
      "model_name": "LayoutModel",
      "state": {
       "width": "100%"
      }
     },
     "4cd4986a246b46a1a9f2033815cbcc13": {
      "model_module": "@jupyter-widgets/controls",
      "model_module_version": "1.1.0",
      "model_name": "CheckboxModel",
      "state": {
       "description": "Show Targets",
       "disabled": false,
       "layout": "IPY_MODEL_c6613434354a4757a1e313434f827014",
       "style": "IPY_MODEL_fcd17d7578644256b3427c4878d71786",
       "value": true
      }
     },
     "4e9771e652734daea22560f9aee2fc07": {
      "model_module": "@jupyter-widgets/base",
      "model_module_version": "1.0.0",
      "model_name": "LayoutModel",
      "state": {
       "width": "65%"
      }
     },
     "5021ba50313641569da666424e3eebc5": {
      "model_module": "@jupyter-widgets/base",
      "model_module_version": "1.0.0",
      "model_name": "LayoutModel",
      "state": {}
     },
     "507b9bd9cc8c456391aa2e914c62f06b": {
      "model_module": "@jupyter-widgets/controls",
      "model_module_version": "1.1.0",
      "model_name": "DescriptionStyleModel",
      "state": {
       "description_width": "initial"
      }
     },
     "50f347e25ad54bf2abb9c5ad5ba99c93": {
      "model_module": "@jupyter-widgets/controls",
      "model_module_version": "1.1.0",
      "model_name": "IntTextModel",
      "state": {
       "layout": "IPY_MODEL_28aecc7f5aa6445992cfd80c60f5eb96",
       "step": 1,
       "style": "IPY_MODEL_0040a57bb8da402b9c58d43cd87d5990",
       "value": 4
      }
     },
     "5139d7140d7141248a05127d6a04ab22": {
      "model_module": "@jupyter-widgets/base",
      "model_module_version": "1.0.0",
      "model_name": "LayoutModel",
      "state": {}
     },
     "514d229d87e94dc494447449a34833a5": {
      "model_module": "@jupyter-widgets/base",
      "model_module_version": "1.0.0",
      "model_name": "LayoutModel",
      "state": {}
     },
     "52c6286837bf4938a8b05bbd599dc747": {
      "model_module": "@jupyter-widgets/base",
      "model_module_version": "1.0.0",
      "model_name": "LayoutModel",
      "state": {}
     },
     "533f014ad854489f8a558c9ff2a10cf7": {
      "model_module": "@jupyter-widgets/controls",
      "model_module_version": "1.1.0",
      "model_name": "ButtonModel",
      "state": {
       "icon": "backward",
       "layout": "IPY_MODEL_a4d4ceb5917e45db914785f98b752cc4",
       "style": "IPY_MODEL_2042c10153da426bbbe5dc65107f7f96"
      }
     },
     "5474de70c97c41b1b27db71a32c447e8": {
      "model_module": "@jupyter-widgets/controls",
      "model_module_version": "1.1.0",
      "model_name": "ButtonStyleModel",
      "state": {}
     },
     "549b5bb310ab4427a7b49a26d970dcd6": {
      "model_module": "@jupyter-widgets/base",
      "model_module_version": "1.0.0",
      "model_name": "LayoutModel",
      "state": {
       "width": "100%"
      }
     },
     "54b69a5065854bfc9e3456fc5c18bdb9": {
      "model_module": "@jupyter-widgets/controls",
      "model_module_version": "1.1.0",
      "model_name": "ButtonModel",
      "state": {
       "icon": "save",
       "layout": "IPY_MODEL_6bce55021eb34c5ba0c76a1c49a1705e",
       "style": "IPY_MODEL_b3a7320d36c34bbfafc0321e8e87c7bf"
      }
     },
     "54d09d31f8ea4715afadef23d7130b38": {
      "model_module": "@jupyter-widgets/base",
      "model_module_version": "1.0.0",
      "model_name": "LayoutModel",
      "state": {
       "width": "100%"
      }
     },
     "5555567abe17459a9e5d35c21e58ad20": {
      "model_module": "@jupyter-widgets/controls",
      "model_module_version": "1.1.0",
      "model_name": "VBoxModel",
      "state": {
       "children": [
        "IPY_MODEL_613073d402754d2d962328c8c78cd42e",
        "IPY_MODEL_4071ae1382af4cce8f1fa59ac3e7b493",
        "IPY_MODEL_22e20825e12f4f88b9e042ecaf2c444b",
        "IPY_MODEL_850ce45c94c14cd5a39d833c71f109a2",
        "IPY_MODEL_b0c282c29508432694cfe6223f33579c",
        "IPY_MODEL_22ac5e00b8844c9eb58674f46813f260",
        "IPY_MODEL_343ebdc05f1f43bfaeaddcaf1e4255e6",
        "IPY_MODEL_be306ceca1f24298943835ce15099b68"
       ],
       "layout": "IPY_MODEL_737c4886ffcf447d913b667123da685e"
      }
     },
     "55fc77e941e94ea88db4b592defd9f5c": {
      "model_module": "@jupyter-widgets/controls",
      "model_module_version": "1.1.0",
      "model_name": "HTMLModel",
      "state": {
       "layout": "IPY_MODEL_dd63fd368eff43ff86e776a3080edbd9",
       "style": "IPY_MODEL_b04079a3437a4877b54f9552364409b7",
       "value": "<p style=\"text-align:center\"><svg id='MNIST_MLP' xmlns='http://www.w3.org/2000/svg' image-rendering=\"pixelated\" width=\"480.0px\" height=\"266.66666666666663px\">\n <g  transform=\"rotate(90) translate(0 -480.0)\" >\n  <svg viewBox=\"0 0 350 630\" width=\"266.66666666666663px\" height=\"480.0px\">\n    <defs>\n        <marker id=\"arrow\" markerWidth=\"10\" markerHeight=\"10\" refX=\"9\" refY=\"3\" orient=\"auto\" markerUnits=\"strokeWidth\">\n          <path d=\"M0,0 L0,6 L9,3 z\" fill=\"black\" />\n        </marker>\n    </defs><rect x=\"74.0\" y=\"24\" width=\"202\" height=\"52\" style=\"fill:none;stroke:black;stroke-width:2\"/><image id=\"picture-dashboard-MNIST_MLP-798434_output_targets_6\" class=\"picture-dashboard-MNIST_MLP-798434_output_targets\" x=\"75.0\" y=\"25\" height=\"50\" width=\"200\" preserveAspectRatio=\"none\" href=\"data:image/gif;base64,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\"><title>Layer: output (output)\n output range: (-1.0, 1.0)\n shape = (10,)\n Keras class = Dense\n activation = softmax</title></image><text x=\"288.0\" y=\"52.0\" font-family=\"monospace\" font-size=\"12\" text-anchor=\"middle\" fill=\"black\" alignment-baseline=\"central\"  transform=\"rotate(-90 288.0 52.0) translate(2)\" >targets</text><line x1=\"87.5\" y1=\"80\" x2=\"262.5\" y2=\"80\" stroke=\"green\" stroke-width=\"2\"><title></title></line><rect x=\"74.0\" y=\"84\" width=\"202\" height=\"52\" style=\"fill:none;stroke:black;stroke-width:2\"/><image id=\"picture-dashboard-MNIST_MLP-798434_output-rotated_6\" class=\"picture-dashboard-MNIST_MLP-798434_output-rotated\" x=\"75.0\" y=\"85\" height=\"50\" width=\"200\" preserveAspectRatio=\"none\" href=\"data:image/gif;base64,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\"><title>Layer: output (output)\n output range: (-1.0, 1.0)\n shape = (10,)\n Keras class = Dense\n activation = softmax</title></image><text x=\"288.0\" y=\"112.0\" font-family=\"monospace\" font-size=\"12\" text-anchor=\"middle\" fill=\"black\" alignment-baseline=\"central\"  transform=\"rotate(-90 288.0 112.0) translate(2)\" >output</text><line x1=\"175.0\" y1=\"164\" x2=\"175.0\" y2=\"137\" stroke=\"black\" stroke-width=\"2\" marker-end=\"url(#arrow)\"><title>Weights from hidden2 to output\n output/kernel has shape (30, 10)\n output/bias has shape (10,)</title></line><rect x=\"74.0\" y=\"164\" width=\"202\" height=\"52\" style=\"fill:none;stroke:black;stroke-width:2\"/><image id=\"picture-dashboard-MNIST_MLP-798434_hidden2-rotated_7\" class=\"picture-dashboard-MNIST_MLP-798434_hidden2-rotated\" x=\"75.0\" y=\"165\" height=\"50\" width=\"200\" preserveAspectRatio=\"none\" href=\"data:image/gif;base64,R0lGODdhHgABAIcAAP37/dXV/5eX/wAA97S0/4SE/0FB/6mp/xUV/wAAAAAAAAAAAAAAAAAAAAAAAAAAAAAAAAAAAAAAAAAAAAAAAAAAAAAAAAAAAAAAAAAAAAAAAAAAAAAAAAAAAAAAAAAAAAAAAAAAAAAAAAAAAAAAAAAAAAAAAAAAAAAAAAAAAAAAAAAAAAAAAAAAAAAAAAAAAAAAAAAAAAAAAAAAAAAAAAAAAAAAAAAAAAAAAAAAAAAAAAAAAAAAAAAAAAAAAAAAAAAAAAAAAAAAAAAAAAAAAAAAAAAAAAAAAAAAAAAAAAAAAAAAAAAAAAAAAAAAAAAAAAAAAAAAAAAAAAAAAAAAAAAAAAAAAAAAAAAAAAAAAAAAAAAAAAAAAAAAAAAAAAAAAAAAAAAAAAAAAAAAAAAAAAAAAAAAAAAAAAAAAAAAAAAAAAAAAAAAAAAAAAAAAAAAAAAAAAAAAAAAAAAAAAAAAAAAAAAAAAAAAAAAAAAAAAAAAAAAAAAAAAAAAAAAAAAAAAAAAAAAAAAAAAAAAAAAAAAAAAAAAAAAAAAAAAAAAAAAAAAAAAAAAAAAAAAAAAAAAAAAAAAAAAAAAAAAAAAAAAAAAAAAAAAAAAAAAAAAAAAAAAAAAAAAAAAAAAAAAAAAAAAAAAAAAAAAAAAAAAAAAAAAAAAAAAAAAAAAAAAAAAAAAAAAAAAAAAAAAAAAAAAAAAAAAAAAAAAAAAAAAAAAAAAAAAAAAAAAAAAAAAAAAAAAAAAAAAAAAAAAAAAAAAAAAAAAAAAAAAAAAAAAAAAAAAAAAAAAAAAAAAAAAAAAAAAAAAAAAAAAAAAAAAAAAAAAAAAAAAAAAAAAAAAAAAAAAAAAAAAAAAAAAAAAAAAAAAAAAAAAAAAAAAAAAAAAAAAAAAAAAAAAAAAAAAAAAAAAAAAAAAAAAAAAAAAAAAAAAAAAAAAAAAAAAAAAAAAAAAAAAAAAAAAAAAAAAAAAAAAAAAAAAAAAAAAAAAAAAAAAAAAAAAAAAAAAAAAAAAAAAAAAACwAAAAAHgABAAAIIQABCDwAAAGAAAAABABgAIDDAAAEAJgIQAAAAAQGFAAQEAA7\"><title>Layer: hidden2 (hidden)\n output range: (-1.0, 1.0)\n shape = (30,)\n Keras class = Dense\n activation = relu</title></image><text x=\"288.0\" y=\"192.0\" font-family=\"monospace\" font-size=\"12\" text-anchor=\"middle\" fill=\"black\" alignment-baseline=\"central\"  transform=\"rotate(-90 288.0 192.0) translate(2)\" >hidden2</text><line x1=\"175.0\" y1=\"244\" x2=\"175.0\" y2=\"217\" stroke=\"black\" stroke-width=\"2\" marker-end=\"url(#arrow)\"><title>Weights from hidden1 to hidden2\n hidden2/kernel has shape (30, 30)\n hidden2/bias has shape (30,)</title></line><rect x=\"74.0\" y=\"244\" width=\"202\" height=\"52\" style=\"fill:none;stroke:black;stroke-width:2\"/><image id=\"picture-dashboard-MNIST_MLP-798434_hidden1-rotated_8\" class=\"picture-dashboard-MNIST_MLP-798434_hidden1-rotated\" x=\"75.0\" y=\"245\" height=\"50\" width=\"200\" preserveAspectRatio=\"none\" href=\"data:image/gif;base64,R0lGODdhHgABAIcAAP78/dPT/3t7/zAw/6en/wAAfgAATAAAmgAA4FVV/wAAxMHB/7Gx/2Vl/wAAAAAAAAAAAAAAAAAAAAAAAAAAAAAAAAAAAAAAAAAAAAAAAAAAAAAAAAAAAAAAAAAAAAAAAAAAAAAAAAAAAAAAAAAAAAAAAAAAAAAAAAAAAAAAAAAAAAAAAAAAAAAAAAAAAAAAAAAAAAAAAAAAAAAAAAAAAAAAAAAAAAAAAAAAAAAAAAAAAAAAAAAAAAAAAAAAAAAAAAAAAAAAAAAAAAAAAAAAAAAAAAAAAAAAAAAAAAAAAAAAAAAAAAAAAAAAAAAAAAAAAAAAAAAAAAAAAAAAAAAAAAAAAAAAAAAAAAAAAAAAAAAAAAAAAAAAAAAAAAAAAAAAAAAAAAAAAAAAAAAAAAAAAAAAAAAAAAAAAAAAAAAAAAAAAAAAAAAAAAAAAAAAAAAAAAAAAAAAAAAAAAAAAAAAAAAAAAAAAAAAAAAAAAAAAAAAAAAAAAAAAAAAAAAAAAAAAAAAAAAAAAAAAAAAAAAAAAAAAAAAAAAAAAAAAAAAAAAAAAAAAAAAAAAAAAAAAAAAAAAAAAAAAAAAAAAAAAAAAAAAAAAAAAAAAAAAAAAAAAAAAAAAAAAAAAAAAAAAAAAAAAAAAAAAAAAAAAAAAAAAAAAAAAAAAAAAAAAAAAAAAAAAAAAAAAAAAAAAAAAAAAAAAAAAAAAAAAAAAAAAAAAAAAAAAAAAAAAAAAAAAAAAAAAAAAAAAAAAAAAAAAAAAAAAAAAAAAAAAAAAAAAAAAAAAAAAAAAAAAAAAAAAAAAAAAAAAAAAAAAAAAAAAAAAAAAAAAAAAAAAAAAAAAAAAAAAAAAAAAAAAAAAAAAAAAAAAAAAAAAAAAAAAAAAAAAAAAAAAAAAAAAAAAAAAAAAAAAAAAAAAAAAAAAAAAAAAAAAAAAAAAAAAAAAAAAAAAAAAAAAAAAAAAAAAAAAAAAAAAAAAAAAAAAAAAAAAAAAAAAAAAAAAAAAAAAAAAAAAAAAAAAAACwAAAAAHgABAAAIIwAHADAAIACAgwoECABAoMGCAQAYEEAQAACAAwAABEgAoEBAADs=\"><title>Layer: hidden1 (hidden)\n output range: (-1.0, 1.0)\n shape = (30,)\n Keras class = Dense\n activation = relu</title></image><text x=\"288.0\" y=\"272.0\" font-family=\"monospace\" font-size=\"12\" text-anchor=\"middle\" fill=\"black\" alignment-baseline=\"central\"  transform=\"rotate(-90 288.0 272.0) translate(2)\" >hidden1</text><line x1=\"175.0\" y1=\"324\" x2=\"175.0\" y2=\"297\" stroke=\"black\" stroke-width=\"2\" marker-end=\"url(#arrow)\"><title>Weights from flat_input to hidden1\n hidden1/kernel has shape (784, 30)\n hidden1/bias has shape (30,)</title></line><rect x=\"74.0\" y=\"324\" width=\"202\" height=\"52\" style=\"fill:none;stroke:black;stroke-width:2\"/><image id=\"picture-dashboard-MNIST_MLP-798434_flat_input-rotated_9\" class=\"picture-dashboard-MNIST_MLP-798434_flat_input-rotated\" x=\"75.0\" y=\"325\" height=\"50\" width=\"200\" preserveAspectRatio=\"none\" href=\"data:image/gif;base64,R0lGODdhEAMBAIcAAAAAAPz8/Ofn5ykpKZSUlDU1NdjY2KqqqoeHh7q6uktLSxsbG3t7e8nJyVJSUmBgYAAAAAAAAAAAAAAAAAAAAAAAAAAAAAAAAAAAAAAAAAAAAAAAAAAAAAAAAAAAAAAAAAAAAAAAAAAAAAAAAAAAAAAAAAAAAAAAAAAAAAAAAAAAAAAAAAAAAAAAAAAAAAAAAAAAAAAAAAAAAAAAAAAAAAAAAAAAAAAAAAAAAAAAAAAAAAAAAAAAAAAAAAAAAAAAAAAAAAAAAAAAAAAAAAAAAAAAAAAAAAAAAAAAAAAAAAAAAAAAAAAAAAAAAAAAAAAAAAAAAAAAAAAAAAAAAAAAAAAAAAAAAAAAAAAAAAAAAAAAAAAAAAAAAAAAAAAAAAAAAAAAAAAAAAAAAAAAAAAAAAAAAAAAAAAAAAAAAAAAAAAAAAAAAAAAAAAAAAAAAAAAAAAAAAAAAAAAAAAAAAAAAAAAAAAAAAAAAAAAAAAAAAAAAAAAAAAAAAAAAAAAAAAAAAAAAAAAAAAAAAAAAAAAAAAAAAAAAAAAAAAAAAAAAAAAAAAAAAAAAAAAAAAAAAAAAAAAAAAAAAAAAAAAAAAAAAAAAAAAAAAAAAAAAAAAAAAAAAAAAAAAAAAAAAAAAAAAAAAAAAAAAAAAAAAAAAAAAAAAAAAAAAAAAAAAAAAAAAAAAAAAAAAAAAAAAAAAAAAAAAAAAAAAAAAAAAAAAAAAAAAAAAAAAAAAAAAAAAAAAAAAAAAAAAAAAAAAAAAAAAAAAAAAAAAAAAAAAAAAAAAAAAAAAAAAAAAAAAAAAAAAAAAAAAAAAAAAAAAAAAAAAAAAAAAAAAAAAAAAAAAAAAAAAAAAAAAAAAAAAAAAAAAAAAAAAAAAAAAAAAAAAAAAAAAAAAAAAAAAAAAAAAAAAAAAAAAAAAAAAAAAAAAAAAAAAAAAAAAAAAAAAAAAAAAAAAAAAAAAAAAAAAAAAAAAAAAAAAAAAAAAAAAAAAAAAAAAAAAAAAAAAAAAAAAAAAAAAAAAACwAAAAAEAMBAAAI/wABCBxIsKDBgwgTKlzIsKHDhwwfEAgQ4ACAixgzatw4wECAjwkQABhJsqTJkgMICAggAMECADBjypw5k4CAAAESFADAs6fPnz4HOGgQIEACBACSKl3KdKmCBAICBBCAAIDVq1izZlUgIIBXBAMAiB1LtqxZAwECGHAAoK3bt3DjtjUQwMAAAHjz6t3LN6+BAA0ACB5MuLBhwgYCCBgAoLHjx5AjOy4gIEAAAgAya97MubNmAgFCExgAoLTp06hTl1YgIEAAAQQAyJ5Nu7Zt2QMIBNhdAIDv38CDA1iwAIDx4woCBCAAoLnz59ABMDBQAIB16wwCBCgAoLv37+ABDDwQEOAAgwUFDgRYD6C9+/fw3Q8QEKC+/QAFAOjfz78/f4ADDgQgGOBAAQAJFS5k2NDhQ4gRJU6kWNHiwoAAOw==\"><title>Layer: flat_input (hidden)\n output range: (0.0, 1.0)\n Keras class = Flatten</title></image><text x=\"288.0\" y=\"352.0\" font-family=\"monospace\" font-size=\"12\" text-anchor=\"middle\" fill=\"black\" alignment-baseline=\"central\"  transform=\"rotate(-90 288.0 352.0) translate(2)\" >flat_input</text><line x1=\"175.0\" y1=\"404\" x2=\"175.0\" y2=\"377\" stroke=\"black\" stroke-width=\"2\" marker-end=\"url(#arrow)\"><title>Weights from input to flat_input</title></line><rect x=\"74.0\" y=\"404\" width=\"202\" height=\"202\" style=\"fill:none;stroke:black;stroke-width:2\"/><image id=\"picture-dashboard-MNIST_MLP-798434_input-rotated_10\" class=\"picture-dashboard-MNIST_MLP-798434_input-rotated\" x=\"75.0\" y=\"405\" height=\"200\" width=\"200\" preserveAspectRatio=\"none\" href=\"data:image/gif;base64,R0lGODdhHAAcAIcAAAAAAPz8/Ofn5ykpKZSUlDU1NdjY2KqqqoeHh7q6uktLSxsbG3t7e8nJyVJSUmBgYAAAAAAAAAAAAAAAAAAAAAAAAAAAAAAAAAAAAAAAAAAAAAAAAAAAAAAAAAAAAAAAAAAAAAAAAAAAAAAAAAAAAAAAAAAAAAAAAAAAAAAAAAAAAAAAAAAAAAAAAAAAAAAAAAAAAAAAAAAAAAAAAAAAAAAAAAAAAAAAAAAAAAAAAAAAAAAAAAAAAAAAAAAAAAAAAAAAAAAAAAAAAAAAAAAAAAAAAAAAAAAAAAAAAAAAAAAAAAAAAAAAAAAAAAAAAAAAAAAAAAAAAAAAAAAAAAAAAAAAAAAAAAAAAAAAAAAAAAAAAAAAAAAAAAAAAAAAAAAAAAAAAAAAAAAAAAAAAAAAAAAAAAAAAAAAAAAAAAAAAAAAAAAAAAAAAAAAAAAAAAAAAAAAAAAAAAAAAAAAAAAAAAAAAAAAAAAAAAAAAAAAAAAAAAAAAAAAAAAAAAAAAAAAAAAAAAAAAAAAAAAAAAAAAAAAAAAAAAAAAAAAAAAAAAAAAAAAAAAAAAAAAAAAAAAAAAAAAAAAAAAAAAAAAAAAAAAAAAAAAAAAAAAAAAAAAAAAAAAAAAAAAAAAAAAAAAAAAAAAAAAAAAAAAAAAAAAAAAAAAAAAAAAAAAAAAAAAAAAAAAAAAAAAAAAAAAAAAAAAAAAAAAAAAAAAAAAAAAAAAAAAAAAAAAAAAAAAAAAAAAAAAAAAAAAAAAAAAAAAAAAAAAAAAAAAAAAAAAAAAAAAAAAAAAAAAAAAAAAAAAAAAAAAAAAAAAAAAAAAAAAAAAAAAAAAAAAAAAAAAAAAAAAAAAAAAAAAAAAAAAAAAAAAAAAAAAAAAAAAAAAAAAAAAAAAAAAAAAAAAAAAAAAAAAAAAAAAAAAAAAAAAAAAAAAAAAAAAAAAAAAAAAAAAAAAAAAAAAAAAAAAAAAAAAAAAAAAAAAAAAAAAAAAAAAAAAAAAAAAAAAAAAAAAAAAAAAAAAAAACwAAAAAHAAcAEAI/wABCBxIsKDBgwUNBEgAoKHDhxAjSgSQIEAAAw0EBAigAIDHBQECABhJsqTJkyhTBkgAoKXLlzBjygRAIICAAQBy5hwgIIBPnwUACB1KtKhRoQsMCBgAoKnTp1CjSp0KgEAABACyat3KtWtXAgESABhLlmwBAgUAqF3Ltq2DAAEcAJhLIEAAAgAAHAgQAIDfv4ABKzBA2EABAIgRHwhwAIDjx5AjS55MubLly5gzAziAAIDnz6BDiw4dIMACAKhTq17NWvWDAAIKAJhNu7bt27UHCAiAAIDv38CDCwc+QEAABACSKwdAIIDzAAUASJ9OfXqDAAgAaNdOIEAABQwCBFY4AKC8+fPlBwgIYGAAgAEBAggYAABAgQABAOjfz3+/AoACAgwMIIAAAIQAGAQIAMDhQ4gRJT4sEEDAAAAZNW7k2DHjAgYDAIwkWdLkSZQpVa5k2bJlQAA7\"><title>Layer: input (input)\n output range: (0.0, 1.0)\n shape = (28, 28, 1)\n Keras class = Input</title></image><text x=\"288.0\" y=\"507.0\" font-family=\"monospace\" font-size=\"12\" text-anchor=\"middle\" fill=\"black\" alignment-baseline=\"central\"  transform=\"rotate(-90 288.0 507.0) translate(2)\" >input</text><text x=\"88.0\" y=\"390\" font-family=\"monospace\" font-size=\"12\" text-anchor=\"middle\" fill=\"black\" alignment-baseline=\"central\"  transform=\"rotate(-90 88.0 390) translate(2)\" >1</text><text x=\"273.0\" y=\"620\" font-family=\"monospace\" font-size=\"12\" text-anchor=\"middle\" fill=\"black\" alignment-baseline=\"central\"  transform=\"rotate(-90 273.0 620) translate(2)\" >0</text><text x=\"18\" y=\"315.0\" font-family=\"monospace\" font-size=\"15\" text-anchor=\"middle\" fill=\"black\" alignment-baseline=\"central\"  transform=\"rotate(-90 18 315.0) translate(2)\" >MNIST_MLP</text></svg></g></svg></p>"
      }
     },
     "5799c02a520b4f68be51aea5087eaf03": {
      "model_module": "@jupyter-widgets/base",
      "model_module_version": "1.0.0",
      "model_name": "LayoutModel",
      "state": {}
     },
     "57d6504839d24c639d825547ef4498dd": {
      "model_module": "@jupyter-widgets/controls",
      "model_module_version": "1.1.0",
      "model_name": "ButtonStyleModel",
      "state": {}
     },
     "57db29d6a86d4b68b72db8cc8870c153": {
      "model_module": "@jupyter-widgets/controls",
      "model_module_version": "1.1.0",
      "model_name": "SliderStyleModel",
      "state": {
       "description_width": ""
      }
     },
     "5934c64e544c4130809fab69a86f7fd9": {
      "model_module": "@jupyter-widgets/controls",
      "model_module_version": "1.1.0",
      "model_name": "HBoxModel",
      "state": {
       "children": [
        "IPY_MODEL_643603ff562840479547f75fa812635b",
        "IPY_MODEL_69f56d76cdca4f009011def24a688694"
       ],
       "layout": "IPY_MODEL_928ef7e0cc054b96891b2f51988508e8"
      }
     },
     "5951fa50636c42c2be1bd303f40fcf6f": {
      "model_module": "@jupyter-widgets/controls",
      "model_module_version": "1.1.0",
      "model_name": "ButtonModel",
      "state": {
       "icon": "fast-forward",
       "layout": "IPY_MODEL_f7c6710f117743469517a29a75252730",
       "style": "IPY_MODEL_12cd389eba7e41b78e56eb5ebaf0757f"
      }
     },
     "5956b1f883684fc88f0555eb136d7a74": {
      "model_module": "@jupyter-widgets/controls",
      "model_module_version": "1.1.0",
      "model_name": "ButtonModel",
      "state": {
       "icon": "refresh",
       "layout": "IPY_MODEL_fafb1ab9f26f4ee89f62ee290c402e8c",
       "style": "IPY_MODEL_57d6504839d24c639d825547ef4498dd"
      }
     },
     "59797dccac6346ae9db335b41d99b234": {
      "model_module": "@jupyter-widgets/base",
      "model_module_version": "1.0.0",
      "model_name": "LayoutModel",
      "state": {}
     },
     "59a87860d03e494099af3b19d33190f0": {
      "model_module": "@jupyter-widgets/base",
      "model_module_version": "1.0.0",
      "model_name": "LayoutModel",
      "state": {
       "height": "50px",
       "width": "100%"
      }
     },
     "5a9c9b9ff5f24580b0a25b2ebb4fabb2": {
      "model_module": "@jupyter-widgets/base",
      "model_module_version": "1.0.0",
      "model_name": "LayoutModel",
      "state": {}
     },
     "5c4439583e294cc4b35b78e4b140e1d7": {
      "model_module": "@jupyter-widgets/base",
      "model_module_version": "1.0.0",
      "model_name": "LayoutModel",
      "state": {}
     },
     "5ca228d51650406ebae3f2f5edaa86b9": {
      "model_module": "@jupyter-widgets/controls",
      "model_module_version": "1.1.0",
      "model_name": "DescriptionStyleModel",
      "state": {
       "description_width": "initial"
      }
     },
     "5dc9914d5cad45d985c5ec8f344ec8a8": {
      "model_module": "@jupyter-widgets/controls",
      "model_module_version": "1.1.0",
      "model_name": "DescriptionStyleModel",
      "state": {
       "description_width": "initial"
      }
     },
     "5e0836968430451c96041ef8419276bb": {
      "model_module": "@jupyter-widgets/controls",
      "model_module_version": "1.1.0",
      "model_name": "SelectModel",
      "state": {
       "_options_labels": [
        "",
        "Accent",
        "Accent_r",
        "Blues",
        "Blues_r",
        "BrBG",
        "BrBG_r",
        "BuGn",
        "BuGn_r",
        "BuPu",
        "BuPu_r",
        "CMRmap",
        "CMRmap_r",
        "Dark2",
        "Dark2_r",
        "GnBu",
        "GnBu_r",
        "Greens",
        "Greens_r",
        "Greys",
        "Greys_r",
        "OrRd",
        "OrRd_r",
        "Oranges",
        "Oranges_r",
        "PRGn",
        "PRGn_r",
        "Paired",
        "Paired_r",
        "Pastel1",
        "Pastel1_r",
        "Pastel2",
        "Pastel2_r",
        "PiYG",
        "PiYG_r",
        "PuBu",
        "PuBuGn",
        "PuBuGn_r",
        "PuBu_r",
        "PuOr",
        "PuOr_r",
        "PuRd",
        "PuRd_r",
        "Purples",
        "Purples_r",
        "RdBu",
        "RdBu_r",
        "RdGy",
        "RdGy_r",
        "RdPu",
        "RdPu_r",
        "RdYlBu",
        "RdYlBu_r",
        "RdYlGn",
        "RdYlGn_r",
        "Reds",
        "Reds_r",
        "Set1",
        "Set1_r",
        "Set2",
        "Set2_r",
        "Set3",
        "Set3_r",
        "Spectral",
        "Spectral_r",
        "Vega10",
        "Vega10_r",
        "Vega20",
        "Vega20_r",
        "Vega20b",
        "Vega20b_r",
        "Vega20c",
        "Vega20c_r",
        "Wistia",
        "Wistia_r",
        "YlGn",
        "YlGnBu",
        "YlGnBu_r",
        "YlGn_r",
        "YlOrBr",
        "YlOrBr_r",
        "YlOrRd",
        "YlOrRd_r",
        "afmhot",
        "afmhot_r",
        "autumn",
        "autumn_r",
        "binary",
        "binary_r",
        "bone",
        "bone_r",
        "brg",
        "brg_r",
        "bwr",
        "bwr_r",
        "cool",
        "cool_r",
        "coolwarm",
        "coolwarm_r",
        "copper",
        "copper_r",
        "cubehelix",
        "cubehelix_r",
        "flag",
        "flag_r",
        "gist_earth",
        "gist_earth_r",
        "gist_gray",
        "gist_gray_r",
        "gist_heat",
        "gist_heat_r",
        "gist_ncar",
        "gist_ncar_r",
        "gist_rainbow",
        "gist_rainbow_r",
        "gist_stern",
        "gist_stern_r",
        "gist_yarg",
        "gist_yarg_r",
        "gnuplot",
        "gnuplot2",
        "gnuplot2_r",
        "gnuplot_r",
        "gray",
        "gray_r",
        "hot",
        "hot_r",
        "hsv",
        "hsv_r",
        "inferno",
        "inferno_r",
        "jet",
        "jet_r",
        "magma",
        "magma_r",
        "nipy_spectral",
        "nipy_spectral_r",
        "ocean",
        "ocean_r",
        "pink",
        "pink_r",
        "plasma",
        "plasma_r",
        "prism",
        "prism_r",
        "rainbow",
        "rainbow_r",
        "seismic",
        "seismic_r",
        "spectral",
        "spectral_r",
        "spring",
        "spring_r",
        "summer",
        "summer_r",
        "tab10",
        "tab10_r",
        "tab20",
        "tab20_r",
        "tab20b",
        "tab20b_r",
        "tab20c",
        "tab20c_r",
        "terrain",
        "terrain_r",
        "viridis",
        "viridis_r",
        "winter",
        "winter_r"
       ],
       "description": "Colormap:",
       "index": 3,
       "layout": "IPY_MODEL_4abd863981614d23a1f58a2d7afee81b",
       "rows": 1,
       "style": "IPY_MODEL_828c9a2358ef4aa2bd4c0ce2f8d41b8c"
      }
     },
     "5e6e61b49ce543039a90676b413e1bb3": {
      "model_module": "@jupyter-widgets/base",
      "model_module_version": "1.0.0",
      "model_name": "LayoutModel",
      "state": {}
     },
     "600b282700e044f58b08141cc2a11f78": {
      "model_module": "@jupyter-widgets/controls",
      "model_module_version": "1.1.0",
      "model_name": "ButtonStyleModel",
      "state": {}
     },
     "602bc58b2c3e46a8b7c1ffa525e3537e": {
      "model_module": "@jupyter-widgets/controls",
      "model_module_version": "1.1.0",
      "model_name": "DescriptionStyleModel",
      "state": {
       "description_width": "initial"
      }
     },
     "60537664c97644e48dd849e697e7e866": {
      "model_module": "@jupyter-widgets/controls",
      "model_module_version": "1.1.0",
      "model_name": "SelectModel",
      "state": {
       "_options_labels": [
        "",
        "Accent",
        "Accent_r",
        "Blues",
        "Blues_r",
        "BrBG",
        "BrBG_r",
        "BuGn",
        "BuGn_r",
        "BuPu",
        "BuPu_r",
        "CMRmap",
        "CMRmap_r",
        "Dark2",
        "Dark2_r",
        "GnBu",
        "GnBu_r",
        "Greens",
        "Greens_r",
        "Greys",
        "Greys_r",
        "OrRd",
        "OrRd_r",
        "Oranges",
        "Oranges_r",
        "PRGn",
        "PRGn_r",
        "Paired",
        "Paired_r",
        "Pastel1",
        "Pastel1_r",
        "Pastel2",
        "Pastel2_r",
        "PiYG",
        "PiYG_r",
        "PuBu",
        "PuBuGn",
        "PuBuGn_r",
        "PuBu_r",
        "PuOr",
        "PuOr_r",
        "PuRd",
        "PuRd_r",
        "Purples",
        "Purples_r",
        "RdBu",
        "RdBu_r",
        "RdGy",
        "RdGy_r",
        "RdPu",
        "RdPu_r",
        "RdYlBu",
        "RdYlBu_r",
        "RdYlGn",
        "RdYlGn_r",
        "Reds",
        "Reds_r",
        "Set1",
        "Set1_r",
        "Set2",
        "Set2_r",
        "Set3",
        "Set3_r",
        "Spectral",
        "Spectral_r",
        "Vega10",
        "Vega10_r",
        "Vega20",
        "Vega20_r",
        "Vega20b",
        "Vega20b_r",
        "Vega20c",
        "Vega20c_r",
        "Wistia",
        "Wistia_r",
        "YlGn",
        "YlGnBu",
        "YlGnBu_r",
        "YlGn_r",
        "YlOrBr",
        "YlOrBr_r",
        "YlOrRd",
        "YlOrRd_r",
        "afmhot",
        "afmhot_r",
        "autumn",
        "autumn_r",
        "binary",
        "binary_r",
        "bone",
        "bone_r",
        "brg",
        "brg_r",
        "bwr",
        "bwr_r",
        "cool",
        "cool_r",
        "coolwarm",
        "coolwarm_r",
        "copper",
        "copper_r",
        "cubehelix",
        "cubehelix_r",
        "flag",
        "flag_r",
        "gist_earth",
        "gist_earth_r",
        "gist_gray",
        "gist_gray_r",
        "gist_heat",
        "gist_heat_r",
        "gist_ncar",
        "gist_ncar_r",
        "gist_rainbow",
        "gist_rainbow_r",
        "gist_stern",
        "gist_stern_r",
        "gist_yarg",
        "gist_yarg_r",
        "gnuplot",
        "gnuplot2",
        "gnuplot2_r",
        "gnuplot_r",
        "gray",
        "gray_r",
        "hot",
        "hot_r",
        "hsv",
        "hsv_r",
        "inferno",
        "inferno_r",
        "jet",
        "jet_r",
        "magma",
        "magma_r",
        "nipy_spectral",
        "nipy_spectral_r",
        "ocean",
        "ocean_r",
        "pink",
        "pink_r",
        "plasma",
        "plasma_r",
        "prism",
        "prism_r",
        "rainbow",
        "rainbow_r",
        "seismic",
        "seismic_r",
        "spectral",
        "spectral_r",
        "spring",
        "spring_r",
        "summer",
        "summer_r",
        "tab10",
        "tab10_r",
        "tab20",
        "tab20_r",
        "tab20b",
        "tab20b_r",
        "tab20c",
        "tab20c_r",
        "terrain",
        "terrain_r",
        "viridis",
        "viridis_r",
        "winter",
        "winter_r"
       ],
       "description": "Colormap:",
       "index": 0,
       "layout": "IPY_MODEL_c6613434354a4757a1e313434f827014",
       "rows": 1,
       "style": "IPY_MODEL_fd7fcf31db254a8f8a033d1202fc1b5e"
      }
     },
     "606ba666d65d49ffab77d92e5f6a5d4e": {
      "model_module": "@jupyter-widgets/controls",
      "model_module_version": "1.1.0",
      "model_name": "DescriptionStyleModel",
      "state": {
       "description_width": ""
      }
     },
     "613073d402754d2d962328c8c78cd42e": {
      "model_module": "@jupyter-widgets/controls",
      "model_module_version": "1.1.0",
      "model_name": "SelectModel",
      "state": {
       "_options_labels": [
        "Test",
        "Train"
       ],
       "description": "Dataset:",
       "index": 1,
       "layout": "IPY_MODEL_6e85637ce9eb4456bfb6fe28ced287b1",
       "rows": 1,
       "style": "IPY_MODEL_2ea0642777e64a9d8c5bcf052f6c295c"
      }
     },
     "62715489493149f09060af87dfba9d28": {
      "model_module": "@jupyter-widgets/controls",
      "model_module_version": "1.1.0",
      "model_name": "ButtonStyleModel",
      "state": {}
     },
     "63f82e95273f48a996be8442e99c010f": {
      "model_module": "@jupyter-widgets/controls",
      "model_module_version": "1.1.0",
      "model_name": "ButtonModel",
      "state": {
       "icon": "forward",
       "layout": "IPY_MODEL_cf550ba00899490cb33cc03d7b8f37cb",
       "style": "IPY_MODEL_cb1bc00b76994cc8a99d1c5428f1e492"
      }
     },
     "643603ff562840479547f75fa812635b": {
      "model_module": "@jupyter-widgets/controls",
      "model_module_version": "1.1.0",
      "model_name": "CheckboxModel",
      "state": {
       "description": "Rotate network",
       "disabled": false,
       "layout": "IPY_MODEL_b962c960e6f343a8b61785a5ae22f061",
       "style": "IPY_MODEL_ba4841b043db48968149bcbf359a18b0",
       "value": true
      }
     },
     "655949d6959c43bca0298d95a5c8c575": {
      "model_module": "@jupyter-widgets/controls",
      "model_module_version": "1.1.0",
      "model_name": "HBoxModel",
      "state": {
       "children": [
        "IPY_MODEL_155abf790fa94f15ac1e625b7a7f7fc1",
        "IPY_MODEL_533f014ad854489f8a558c9ff2a10cf7",
        "IPY_MODEL_395c494081084350bf6883e93d619d14",
        "IPY_MODEL_63f82e95273f48a996be8442e99c010f",
        "IPY_MODEL_41acb8ca1cb54fb3ae0a6f5252b3a089",
        "IPY_MODEL_2dde6827b6aa485c859fbb6f57a85cb7",
        "IPY_MODEL_5956b1f883684fc88f0555eb136d7a74"
       ],
       "layout": "IPY_MODEL_49533c9db9c642cfa6b03ef81ab25d59"
      }
     },
     "65902480ad50410a90d01e958c656284": {
      "model_module": "@jupyter-widgets/controls",
      "model_module_version": "1.1.0",
      "model_name": "DescriptionStyleModel",
      "state": {
       "description_width": "initial"
      }
     },
     "661020dd36614d018e98a1db5ad2fe5e": {
      "model_module": "@jupyter-widgets/base",
      "model_module_version": "1.0.0",
      "model_name": "LayoutModel",
      "state": {}
     },
     "6621dba9967248f0935697e6beec4ccb": {
      "model_module": "@jupyter-widgets/base",
      "model_module_version": "1.0.0",
      "model_name": "LayoutModel",
      "state": {
       "width": "100%"
      }
     },
     "6623b913940e422386c1062f0e7b4638": {
      "model_module": "@jupyter-widgets/controls",
      "model_module_version": "1.1.0",
      "model_name": "DescriptionStyleModel",
      "state": {
       "description_width": ""
      }
     },
     "6731e2f2937d41058072ebfd53097487": {
      "model_module": "@jupyter-widgets/controls",
      "model_module_version": "1.1.0",
      "model_name": "CheckboxModel",
      "state": {
       "description": "Show Targets",
       "disabled": false,
       "layout": "IPY_MODEL_661020dd36614d018e98a1db5ad2fe5e",
       "style": "IPY_MODEL_eafa5262b9b0409faf9f2d7014068e10",
       "value": true
      }
     },
     "67d248094ac14c01bef5d557d02ec587": {
      "model_module": "@jupyter-widgets/controls",
      "model_module_version": "1.1.0",
      "model_name": "DescriptionStyleModel",
      "state": {
       "description_width": "initial"
      }
     },
     "67feed11fbe946ae8c339538573af726": {
      "model_module": "@jupyter-widgets/base",
      "model_module_version": "1.0.0",
      "model_name": "LayoutModel",
      "state": {
       "width": "100px"
      }
     },
     "690dffefc02042dc96783de0f7b433e1": {
      "model_module": "@jupyter-widgets/controls",
      "model_module_version": "1.1.0",
      "model_name": "CheckboxModel",
      "state": {
       "description": "Errors",
       "disabled": false,
       "layout": "IPY_MODEL_c6613434354a4757a1e313434f827014",
       "style": "IPY_MODEL_25076ba8854545a0ba9c11187b490fe3",
       "value": false
      }
     },
     "69267bb2336d49e08fd920c9aabd8872": {
      "model_module": "@jupyter-widgets/controls",
      "model_module_version": "1.1.0",
      "model_name": "FloatTextModel",
      "state": {
       "description": "Rightmost color maps to:",
       "layout": "IPY_MODEL_20d5ce49c9294800a2d0855f4a536b15",
       "step": null,
       "style": "IPY_MODEL_1e7e002bf27c4085b2cffc8b872afcdb",
       "value": 1
      }
     },
     "69e946ed584a4795b5c1168b5a9d3dfc": {
      "model_module": "@jupyter-widgets/controls",
      "model_module_version": "1.1.0",
      "model_name": "IntTextModel",
      "state": {
       "description": "Feature columns:",
       "layout": "IPY_MODEL_df4618ee6638475d81db08f117fd5b9a",
       "step": 1,
       "style": "IPY_MODEL_1d60cd02c6b441e689ab0c4c6b443e98",
       "value": 3
      }
     },
     "69f2cf4cdfa846ceb5f403dd73e0dc2c": {
      "model_module": "@jupyter-widgets/controls",
      "model_module_version": "1.1.0",
      "model_name": "ButtonModel",
      "state": {
       "icon": "backward",
       "layout": "IPY_MODEL_1141b932a2f446c2b9918f5e371ec3cc",
       "style": "IPY_MODEL_063180b955d8432b878d04df2d7bb248"
      }
     },
     "69f56d76cdca4f009011def24a688694": {
      "model_module": "@jupyter-widgets/controls",
      "model_module_version": "1.1.0",
      "model_name": "ButtonModel",
      "state": {
       "icon": "save",
       "layout": "IPY_MODEL_b4a09c15a3944403a2095143400c5452",
       "style": "IPY_MODEL_19121657e4ec419c9a4f3d0272ff1c54"
      }
     },
     "6bce55021eb34c5ba0c76a1c49a1705e": {
      "model_module": "@jupyter-widgets/base",
      "model_module_version": "1.0.0",
      "model_name": "LayoutModel",
      "state": {
       "width": "10%"
      }
     },
     "6db8c8f992214270bd1b934380de8862": {
      "model_module": "@jupyter-widgets/controls",
      "model_module_version": "1.1.0",
      "model_name": "VBoxModel",
      "state": {
       "children": [
        "IPY_MODEL_e088b1704bd1474899c96b6d7e459608",
        "IPY_MODEL_eef4ea0e36154c77ad58e81de2c8f73f",
        "IPY_MODEL_55fc77e941e94ea88db4b592defd9f5c",
        "IPY_MODEL_14fb3ff6e34d43d486f55cd113a30752"
       ],
       "layout": "IPY_MODEL_aa072bd563f447f8944b4b1ae93e5321"
      }
     },
     "6dd0e824949a4e3ead60d8d878db6480": {
      "model_module": "@jupyter-widgets/controls",
      "model_module_version": "1.1.0",
      "model_name": "FloatTextModel",
      "state": {
       "description": "Feature scale:",
       "layout": "IPY_MODEL_52c6286837bf4938a8b05bbd599dc747",
       "step": null,
       "style": "IPY_MODEL_c06043730bc1494ca75eef5719969b1f",
       "value": 1
      }
     },
     "6e6346425518498b9dec34596f3512df": {
      "model_module": "@jupyter-widgets/controls",
      "model_module_version": "1.1.0",
      "model_name": "DescriptionStyleModel",
      "state": {
       "description_width": ""
      }
     },
     "6e85637ce9eb4456bfb6fe28ced287b1": {
      "model_module": "@jupyter-widgets/base",
      "model_module_version": "1.0.0",
      "model_name": "LayoutModel",
      "state": {}
     },
     "6f72664aed064b31b6b3a934b7d62075": {
      "model_module": "@jupyter-widgets/controls",
      "model_module_version": "1.1.0",
      "model_name": "IntSliderModel",
      "state": {
       "continuous_update": false,
       "description": "Dataset index",
       "layout": "IPY_MODEL_b8980d928cdc48a5920ff5badd25fe5a",
       "max": 59999,
       "style": "IPY_MODEL_1018124399604fd8b09bfef395b71be1"
      }
     },
     "6fbf452470b940af9e0a58f76a6b5983": {
      "model_module": "@jupyter-widgets/base",
      "model_module_version": "1.0.0",
      "model_name": "LayoutModel",
      "state": {}
     },
     "70327d33d98e4f02b1cdfa9f3f39b0b4": {
      "model_module": "@jupyter-widgets/controls",
      "model_module_version": "1.1.0",
      "model_name": "FloatTextModel",
      "state": {
       "description": "Feature scale:",
       "layout": "IPY_MODEL_2f7e357542504ac2b43d20714c06862f",
       "step": null,
       "style": "IPY_MODEL_f8b46844f42743b587119811e1026cee",
       "value": 4
      }
     },
     "70d163252a4c444ba10e52c0c227f634": {
      "model_module": "@jupyter-widgets/controls",
      "model_module_version": "1.1.0",
      "model_name": "VBoxModel",
      "state": {
       "children": [
        "IPY_MODEL_2b2f4a72739f4ffab5bf9687255492ff",
        "IPY_MODEL_be46f72e78784298af838d14967f932a",
        "IPY_MODEL_08e299bb37f6486893b92c3022e8b387",
        "IPY_MODEL_04c4eea96c52458696b1ad75ac206326",
        "IPY_MODEL_e4cc4f5c8397447a9050622c4748abf2",
        "IPY_MODEL_ff577ccd16f2499bad9c5ebb7afe8337",
        "IPY_MODEL_2f68ed37868b4441b90690fc646a4d94",
        "IPY_MODEL_70327d33d98e4f02b1cdfa9f3f39b0b4"
       ],
       "layout": "IPY_MODEL_48ed1de8408c4b33b8f89826aea83e58"
      }
     },
     "70fe78bdbf8d4fe59e612e23809c6982": {
      "model_module": "@jupyter-widgets/controls",
      "model_module_version": "1.1.0",
      "model_name": "VBoxModel",
      "state": {
       "children": [
        "IPY_MODEL_a39061cbfad5466c92c37b5bc6474c12",
        "IPY_MODEL_ffa8c359a04249e1adddb028c39ad5e6",
        "IPY_MODEL_b91f1ac928ac45d5b94d41cb8e00780f",
        "IPY_MODEL_e56bb9aa74bd44f7b4411a2f7af11778",
        "IPY_MODEL_7f5200fd95d141ffaab3c5a1eebe9acd",
        "IPY_MODEL_c948f7283a444bb0b881092c7c3a84cc",
        "IPY_MODEL_a98eec6f1040492799bc77977d1a48f6",
        "IPY_MODEL_276b682c294749ae8c178736aae7c72a"
       ],
       "layout": "IPY_MODEL_3c8c8e580e5a4c12a0840dc474bab4c5"
      }
     },
     "72b9e5907d62434fb5b6ae9172ba1a4b": {
      "model_module": "@jupyter-widgets/controls",
      "model_module_version": "1.1.0",
      "model_name": "DescriptionStyleModel",
      "state": {
       "description_width": ""
      }
     },
     "72f6dbf8560041f693f9b3f10374c181": {
      "model_module": "@jupyter-widgets/controls",
      "model_module_version": "1.1.0",
      "model_name": "DescriptionStyleModel",
      "state": {
       "description_width": "initial"
      }
     },
     "7346f1b20cc842ee9c1d347b0a16349e": {
      "model_module": "@jupyter-widgets/base",
      "model_module_version": "1.0.0",
      "model_name": "LayoutModel",
      "state": {
       "width": "25%"
      }
     },
     "737c4886ffcf447d913b667123da685e": {
      "model_module": "@jupyter-widgets/base",
      "model_module_version": "1.0.0",
      "model_name": "LayoutModel",
      "state": {
       "width": "100%"
      }
     },
     "740a2eaa6a3e4897b6e05a4fcfa25827": {
      "model_module": "@jupyter-widgets/controls",
      "model_module_version": "1.1.0",
      "model_name": "DescriptionStyleModel",
      "state": {
       "description_width": "initial"
      }
     },
     "75c101e410c642c5ab222c6736aaaf8c": {
      "model_module": "@jupyter-widgets/controls",
      "model_module_version": "1.1.0",
      "model_name": "LabelModel",
      "state": {
       "layout": "IPY_MODEL_67feed11fbe946ae8c339538573af726",
       "style": "IPY_MODEL_939182690fb546e293ce97c31af034b8",
       "value": "of 60000"
      }
     },
     "76b8ead6e5d646f6ab32428e9f1a400f": {
      "model_module": "@jupyter-widgets/output",
      "model_module_version": "1.0.0",
      "model_name": "OutputModel",
      "state": {
       "layout": "IPY_MODEL_f7d080ec52b54ad4b569aba02af8ecf8"
      }
     },
     "79029fab8cac40d98114d632abeaa963": {
      "model_module": "@jupyter-widgets/base",
      "model_module_version": "1.0.0",
      "model_name": "LayoutModel",
      "state": {}
     },
     "7a53ca8dda4c4c6099df253438a9b138": {
      "model_module": "@jupyter-widgets/controls",
      "model_module_version": "1.1.0",
      "model_name": "DescriptionStyleModel",
      "state": {
       "description_width": "initial"
      }
     },
     "7af9cdbc3dcb4f7c8dcd5fcb0f6a1015": {
      "model_module": "@jupyter-widgets/controls",
      "model_module_version": "1.1.0",
      "model_name": "DescriptionStyleModel",
      "state": {
       "description_width": "initial"
      }
     },
     "7cf9d0b4cc934449aee0a0bfda34d737": {
      "model_module": "@jupyter-widgets/controls",
      "model_module_version": "1.1.0",
      "model_name": "VBoxModel",
      "state": {
       "children": [
        "IPY_MODEL_2a6c3f487ada40878c3b22bdc68fe7c2",
        "IPY_MODEL_f8a4301b2cb2428a9fe3f5ca68f99dd5"
       ],
       "layout": "IPY_MODEL_21bc90ae97f545e792ca6c20ed07e788"
      }
     },
     "7d2a0b82aa1647919e312e7f3554edd3": {
      "model_module": "@jupyter-widgets/controls",
      "model_module_version": "1.1.0",
      "model_name": "HBoxModel",
      "state": {
       "children": [
        "IPY_MODEL_b8cfbf3d224a4746a1b19a264ce0d226",
        "IPY_MODEL_957bec2fb1be44dabc5b36736ce68cf1"
       ],
       "layout": "IPY_MODEL_f0e25bf85f1f42be9266725812099092"
      }
     },
     "7dacfc8e113b46c8b007f403ec1d8485": {
      "model_module": "@jupyter-widgets/controls",
      "model_module_version": "1.1.0",
      "model_name": "IntTextModel",
      "state": {
       "description": "Feature to show:",
       "layout": "IPY_MODEL_2867e287b744415c8b33458ccc262f3e",
       "step": 1,
       "style": "IPY_MODEL_67d248094ac14c01bef5d557d02ec587"
      }
     },
     "7e9634d73d764d58beaed674e5008675": {
      "model_module": "@jupyter-widgets/controls",
      "model_module_version": "1.1.0",
      "model_name": "ButtonModel",
      "state": {
       "icon": "refresh",
       "layout": "IPY_MODEL_e2a9444acc024d24aceba5a9c00c2a42",
       "style": "IPY_MODEL_89a1316270a544ff8ead868022c71dfe"
      }
     },
     "7f2a2bba14d1490dab760472ab7a6a47": {
      "model_module": "@jupyter-widgets/controls",
      "model_module_version": "1.1.0",
      "model_name": "ButtonStyleModel",
      "state": {}
     },
     "7f5200fd95d141ffaab3c5a1eebe9acd": {
      "model_module": "@jupyter-widgets/controls",
      "model_module_version": "1.1.0",
      "model_name": "FloatTextModel",
      "state": {
       "description": "Leftmost color maps to:",
       "layout": "IPY_MODEL_c3ed524e32b241dbb86c1699952c2413",
       "step": null,
       "style": "IPY_MODEL_602bc58b2c3e46a8b7c1ffa525e3537e"
      }
     },
     "7f74796232e04737a8408bec3ddc0867": {
      "model_module": "@jupyter-widgets/base",
      "model_module_version": "1.0.0",
      "model_name": "LayoutModel",
      "state": {}
     },
     "8082b429e10f4146aa0ccc5694f77e59": {
      "model_module": "@jupyter-widgets/controls",
      "model_module_version": "1.1.0",
      "model_name": "DescriptionStyleModel",
      "state": {
       "description_width": "initial"
      }
     },
     "80a252fc8d034ebc9bf3053c40f28658": {
      "model_module": "@jupyter-widgets/controls",
      "model_module_version": "1.1.0",
      "model_name": "ButtonStyleModel",
      "state": {}
     },
     "81fb6ac5c70f49089727a10854ca6021": {
      "model_module": "@jupyter-widgets/controls",
      "model_module_version": "1.1.0",
      "model_name": "SliderStyleModel",
      "state": {
       "description_width": "initial"
      }
     },
     "8261a5c0bb3540408cf6d17852208a92": {
      "model_module": "@jupyter-widgets/controls",
      "model_module_version": "1.1.0",
      "model_name": "ButtonModel",
      "state": {
       "icon": "backward",
       "layout": "IPY_MODEL_e1a01c1fabce4d62bd2caeffb45fed3f",
       "style": "IPY_MODEL_1b5514e1421f48d0b51dd0446bc85893"
      }
     },
     "828c9a2358ef4aa2bd4c0ce2f8d41b8c": {
      "model_module": "@jupyter-widgets/controls",
      "model_module_version": "1.1.0",
      "model_name": "DescriptionStyleModel",
      "state": {
       "description_width": ""
      }
     },
     "850ce45c94c14cd5a39d833c71f109a2": {
      "model_module": "@jupyter-widgets/controls",
      "model_module_version": "1.1.0",
      "model_name": "IntTextModel",
      "state": {
       "description": "Vertical space between layers:",
       "layout": "IPY_MODEL_c6613434354a4757a1e313434f827014",
       "step": 1,
       "style": "IPY_MODEL_11881b43378f4af0b27f0e9d792bb6b7",
       "value": 30
      }
     },
     "85e21f617dce4ccd83af624101e94cec": {
      "model_module": "@jupyter-widgets/controls",
      "model_module_version": "1.1.0",
      "model_name": "HBoxModel",
      "state": {
       "children": [
        "IPY_MODEL_a1ba8c13bc2e42359932708ea31ed34d",
        "IPY_MODEL_451c7238e39a43e7a8c4d5dd7d99b168"
       ],
       "layout": "IPY_MODEL_93236fcac7ae44de9cf0d92d384cbc7b"
      }
     },
     "85f1474362c8485b9662ed5d595e3ca2": {
      "model_module": "@jupyter-widgets/base",
      "model_module_version": "1.0.0",
      "model_name": "LayoutModel",
      "state": {
       "width": "65%"
      }
     },
     "865af5c667bd4408a1841fb25642a55e": {
      "model_module": "@jupyter-widgets/base",
      "model_module_version": "1.0.0",
      "model_name": "LayoutModel",
      "state": {}
     },
     "87ead999b5dd4b6f918e63f5772c7384": {
      "model_module": "@jupyter-widgets/controls",
      "model_module_version": "1.1.0",
      "model_name": "IntTextModel",
      "state": {
       "description": "Feature columns:",
       "layout": "IPY_MODEL_467f09d7cd774d6292b5bb007eff2a0b",
       "step": 1,
       "style": "IPY_MODEL_c3ebb9ad9a394940bcbc70e536211474",
       "value": 8
      }
     },
     "88685321e14746fdb0cf4be55bd73b80": {
      "model_module": "@jupyter-widgets/controls",
      "model_module_version": "1.1.0",
      "model_name": "SelectModel",
      "state": {
       "_options_labels": [
        "input",
        "flat_input",
        "hidden1",
        "hidden2",
        "output"
       ],
       "description": "Layer:",
       "index": 4,
       "layout": "IPY_MODEL_42b76a9566a640dab6c2428da81f0097",
       "rows": 1,
       "style": "IPY_MODEL_c2d5b045ea0b419fa4f98c6a301c5cf3"
      }
     },
     "89a1316270a544ff8ead868022c71dfe": {
      "model_module": "@jupyter-widgets/controls",
      "model_module_version": "1.1.0",
      "model_name": "ButtonStyleModel",
      "state": {}
     },
     "89da00bf5e8d4e7dbaa321c01133707b": {
      "model_module": "@jupyter-widgets/controls",
      "model_module_version": "1.1.0",
      "model_name": "HTMLModel",
      "state": {
       "layout": "IPY_MODEL_f2b61860d21f4c32b7163413def91a0b",
       "style": "IPY_MODEL_c01b3851e6514a0a9692f84243ed7571",
       "value": "<img src=\"data:image/gif;base64,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\"/>"
      }
     },
     "8b39dcd567684ade9e0e22c6e43203f9": {
      "model_module": "@jupyter-widgets/controls",
      "model_module_version": "1.1.0",
      "model_name": "CheckboxModel",
      "state": {
       "description": "Rotate network",
       "disabled": false,
       "layout": "IPY_MODEL_be3aa58d1ec04bd9935fa033a59e5eef",
       "style": "IPY_MODEL_9b3fa60ece3645cd95c04ffe02a75b49",
       "value": true
      }
     },
     "8ba527646d9d4ac0adfc46115114e01a": {
      "model_module": "@jupyter-widgets/base",
      "model_module_version": "1.0.0",
      "model_name": "LayoutModel",
      "state": {}
     },
     "8c52842ae59b49e9b4932949447db632": {
      "model_module": "@jupyter-widgets/controls",
      "model_module_version": "1.1.0",
      "model_name": "DescriptionStyleModel",
      "state": {
       "description_width": "initial"
      }
     },
     "8d4bd072f32147a483ff7f58c407059c": {
      "model_module": "@jupyter-widgets/controls",
      "model_module_version": "1.1.0",
      "model_name": "HTMLModel",
      "state": {
       "layout": "IPY_MODEL_edbe89422665434fa243393a6e702bc6",
       "style": "IPY_MODEL_bd38e07ba78a4de88db4e8ed4cb46dd6",
       "value": "\n<table align=\"center\" style=\"width: 100%;\">\n <tr>\n  <td valign=\"top\"><p style=\"text-align:center\"><svg id='MNIST_CNN' xmlns='http://www.w3.org/2000/svg' image-rendering=\"pixelated\" width=\"800.0000000000001px\" height=\"190.47619047619048px\">\n <g  transform=\"rotate(90) translate(0 -800.0000000000001)\" >\n  <svg viewBox=\"0 0 350 1470\" width=\"190.47619047619048px\" height=\"800.0000000000001px\">\n    <defs>\n        <marker id=\"arrow\" markerWidth=\"10\" markerHeight=\"10\" refX=\"9\" refY=\"3\" orient=\"auto\" markerUnits=\"strokeWidth\">\n          <path d=\"M0,0 L0,6 L9,3 z\" fill=\"black\" />\n        </marker>\n    </defs><rect x=\"74.0\" y=\"24\" width=\"202\" height=\"52\" style=\"fill:none;stroke:black;stroke-width:2\"/><image id=\"picture-dashboard-MNIST_CNN-397103_output_targets_1\" class=\"picture-dashboard-MNIST_CNN-397103_output_targets\" x=\"75.0\" y=\"25\" height=\"50\" width=\"200\" preserveAspectRatio=\"none\" href=\"data:image/gif;base64,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\"><title>Layer: output (output)\n output range: (0.0, 1.0)\n shape = (10,)\n Keras class = Dense\n activation = softmax</title></image><text x=\"288.0\" y=\"52.0\" font-family=\"monospace\" font-size=\"12\" text-anchor=\"middle\" fill=\"black\" alignment-baseline=\"central\"  transform=\"rotate(-90 288.0 52.0) translate(2)\" >targets</text><line x1=\"87.5\" y1=\"80\" x2=\"262.5\" y2=\"80\" stroke=\"green\" stroke-width=\"2\"><title></title></line><rect x=\"74.0\" y=\"84\" width=\"202\" height=\"52\" style=\"fill:none;stroke:black;stroke-width:2\"/><image id=\"picture-dashboard-MNIST_CNN-397103_output-rotated_1\" class=\"picture-dashboard-MNIST_CNN-397103_output-rotated\" x=\"75.0\" y=\"85\" height=\"50\" width=\"200\" preserveAspectRatio=\"none\" href=\"data:image/gif;base64,R0lGODdh+gAZAIcAAOPu+Nzq9ubw+QAAAAAAAAAAAAAAAAAAAAAAAAAAAAAAAAAAAAAAAAAAAAAAAAAAAAAAAAAAAAAAAAAAAAAAAAAAAAAAAAAAAAAAAAAAAAAAAAAAAAAAAAAAAAAAAAAAAAAAAAAAAAAAAAAAAAAAAAAAAAAAAAAAAAAAAAAAAAAAAAAAAAAAAAAAAAAAAAAAAAAAAAAAAAAAAAAAAAAAAAAAAAAAAAAAAAAAAAAAAAAAAAAAAAAAAAAAAAAAAAAAAAAAAAAAAAAAAAAAAAAAAAAAAAAAAAAAAAAAAAAAAAAAAAAAAAAAAAAAAAAAAAAAAAAAAAAAAAAAAAAAAAAAAAAAAAAAAAAAAAAAAAAAAAAAAAAAAAAAAAAAAAAAAAAAAAAAAAAAAAAAAAAAAAAAAAAAAAAAAAAAAAAAAAAAAAAAAAAAAAAAAAAAAAAAAAAAAAAAAAAAAAAAAAAAAAAAAAAAAAAAAAAAAAAAAAAAAAAAAAAAAAAAAAAAAAAAAAAAAAAAAAAAAAAAAAAAAAAAAAAAAAAAAAAAAAAAAAAAAAAAAAAAAAAAAAAAAAAAAAAAAAAAAAAAAAAAAAAAAAAAAAAAAAAAAAAAAAAAAAAAAAAAAAAAAAAAAAAAAAAAAAAAAAAAAAAAAAAAAAAAAAAAAAAAAAAAAAAAAAAAAAAAAAAAAAAAAAAAAAAAAAAAAAAAAAAAAAAAAAAAAAAAAAAAAAAAAAAAAAAAAAAAAAAAAAAAAAAAAAAAAAAAAAAAAAAAAAAAAAAAAAAAAAAAAAAAAAAAAAAAAAAAAAAAAAAAAAAAAAAAAAAAAAAAAAAAAAAAAAAAAAAAAAAAAAAAAAAAAAAAAAAAAAAAAAAAAAAAAAAAAAAAAAAAAAAAAAAAAAAAAAAAAAAAAAAAAAAAAAAAAAAAAAAAAAAAAAAAAAAAAAAAAAAAAAAAAAAAAAAAAAAAAAAAAAAAAAAAAAAAAAAAAAAAAAAAAAAAAAAAAAAAAAAAAAAAAAAAAAAAAAAAAAAAACwAAAAA+gAZAEAI/wAHCBxIsKDBgwgTKlzIsKHDhxAjSpxIsSLFABgzatzIEeOAAQJCihxJsmTIAQMAqFzJsqVLlQMGAJhJs6bNmzMHDBDAs6fPn0B5DhgAoKjRo0iTFh0wIIDTp1CjSnU6YACAq1izat16dcAAAGDDih1LFuyAAQDSql3Ltm3aAQMCyJ1Lt65duQMGCNjLt6/fv3sHDABAuLDhw4gJDxgAoLHjx5AjNx4wQIDly5gza7Y8YACAz6BDix79ecCAAKhTq17NGvWAAQBiy55Nu3bsAQMA6N7Nu7dv3QMGABhOvLjx48MHKF/OvLnz59CjS59Ovbr169iza9/OvXv3AODDi/8fTx78gAEC0qtfz759+gEDAMifT7++ffkDBgDYz7+/f4AABA4UOGCAAIQJFS5kiHDAAAARJU6kWDHigAEBNG7k2NGjxgEDAIwkWdLkyZEDBgBg2dLlS5gsBwwAUNPmTZw5aw4YEMDnT6BBhfocMEDAUaRJlS49OmAAAKhRpU6lCnXAAABZtW7l2jXrgAECxI4lW9as2AEDAKxl29bt27UDBgSgW9fuXbx0BwwA0NfvX8CB+w4YAMDwYcSJFRseMADAY8iRJU9+PGBAAMyZNW/mjHnAAAGhRY8mXTr0gAEAVK9m3dq16gEDAMymXdv27dkDBgjg3dv3b+C8BwwAUNz/+HHkyYsPGBDA+XPo0aU7HzAAwHXs2bVvvz5gAADw4cWPJw9+wAAA6dWvZ98+/YABAeTPp1/fvvwBAwTs59/fP0ABAgcKHDAAAMKEChcyRDhgAICIEidSrBhxwAABGjdy7OhR44ABAEaSLGny5MgBAwKwbOnyJUyWAwYAqGnzJs6cNQcMAODzJ9CgQn0OGADgKNKkSpceHTAgANSoUqdShTpggICsWrdy7Zp1wAAAYseSLWtW7IABANaybev27doBAwTQrWv3Ll66AwYA6Ov3L+DAfQcMCGD4MOLEig0PGADgMeTIkic/HjAAAObMmjdzxjxgAIDQokeTLh16wIAA/6pXs27tWvWAAQJm065t+/bsAQMA8O7t+zdw3gMGAChu/Djy5MUHDBDg/Dn06NKdDxgA4Dr27Nq3Xx8wIAD48OLHkwc/YACA9OrXs2+ffsAAAPLn069vX/6AAQD28+/vHyAAgQMFDhgQAGFChQsZIhwwQEBEiRMpVow4YAAAjRs5dvSoccAAACNJljR5cuSAAQJYtnT5EibLAQMA1LR5E2fOmgMGBPD5E2hQoT4HDABwFGlSpUuPDhgAAGpUqVOpQh0wAEBWrVu5ds06YEAAsWPJljUrdsAAAWvZtnX7du2AAQDo1rV7Fy/dAQMA9PX7F3DgvgMGCDB8GHFixYYHDP8A8BhyZMmTHw8YEABzZs2bOWMeMABAaNGjSZcOPWAAANWrWbd2rXrAAACzade2fXv2gAEBePf2/Rs47wEDBBQ3fhx58uIDBgBw/hx6dOnOBwwAcB17du3brw8YIAB8ePHjyYMfMABAevXr2bdPP2BAAPnz6de3L3/AAAD7+ff3DxCAwIECBwwAgDChwoUMEQ4YACCixIkUK0YcMCCAxo0cO3rUOGCAgJEkS5o8OXLAAAAsW7p8CZPlgAEAatq8iTNnzQEDBPj8CTSoUJ8DBgA4ijSp0qVHBwwIADWq1KlUoQ4YACCr1q1cu2YdMACA2LFky5oVO2AAgLVs27p9u3b/wIAAdOvavYuX7oABAvr6/Qs4cN8BAwAYPow4sWLDAwYAeAw5suTJjwcMEIA5s+bNnDEPGAAgtOjRpEuHHjAggOrVrFu7Vj1gAIDZtGvbvj17wAAAvHv7/g2c94ABAIobP448efEBAwI4fw49unTnAwYIuI49u/bt1wcMAAA+vPjx5MEPGAAgvfr17NunHzBAgPz59Ovblz9gAID9/Pv7BwhA4ECBAwYEQJhQ4UKGCAcMABBR4kSKFSMOGABA40aOHT1qHDAAwEiSJU2eHDlgQACWLV2+hMlywAABNW3exJmz5oABAHz+BBpUqM8BAwAcRZpU6dKjAwYIgBpV6lSq/1AHDACQVetWrl2zDhgQQOxYsmXNih0wAMBatm3dvl07YAAAunXt3sVLd8AAAH39/gUcuO+AAQEMH0acWLHhAQMEPIYcWfLkxwMGAMCcWfNmzpgHDAAQWvRo0qVDDxggQPVq1q1dqx4wAMBs2rVt3549YEAA3r19/wbOe8AAAMWNH0eevPiAAQCcP4ceXbrzAQMAXMeeXfv26wMGBAAfXvx48uAHDBCQXv169u3TDxgAQP58+vXtyx8wAMB+/v39AwQgcKDAAQMEIEyocCFDhAMGAIgocSLFihEHDAigcSPHjh41DhgAYCTJkiZPjhwwAADLli5fwmQ5YACAmjZv4v/MWXPAgAA+fwINKtTngAECjiJNqnTp0QEDAECNKnUqVagDBgDIqnUr165ZBwwQIHYs2bJmxQ4YAGAt27Zu364dMCAA3bp27+KlO2AAgL5+/wIO3HfAAACGDyNOrNjwgAEAHkOOLHny4wEDAmDOrHkzZ8wDBggILXo06dKhBwwAoHo169auVQ8YAGA27dq2b88eMEAA796+fwPnPWAAgOLGjyNPXnzAgADOn0OPLt35gAEArmPPrn379QEDAIAPL348efADBgBIr349+/bpBwwIIH8+/fr25Q8YIGA///7+AQoQOFDggAEAECZUuJAhwgEDAESUOJFixYgDBgjQuJH/Y0ePGgcMADCSZEmTJ0cOGBCAZUuXL2GyHDAAQE2bN3HmrDlgAACfP4EGFepzwAAAR5EmVbr06IABAaBGlTqVKtQBAwRk1bqVa9esAwYAEDuWbFmzYgcMALCWbVu3b9cOGCCAbl27d/HSHTAAQF+/fwEH7jtgQADDhxEnVmx4wAAAjyFHljz58YABADBn1ryZM+YBAwCEFj2adOnQAwYEUL2adWvXqgcMEDCbdm3bt2cPGACAd2/fv4HzHjAAQHHjx5EnLz5ggADnz6FHl+58wAAA17Fn1779+oABAcCHFz+ePPgBAwCkV7+effv0AwYAkD+ffn378gcMALCff3//bgABCBwocMCAAAgTKlzIEOGAAQIiSpxIsWLEAQMAaNzIsaNHjQMGABhJsqTJkyMHDBDAsqXLlzBZDhgAoKbNmzhz1hwwIIDPn0CDCvU5YACAo0iTKl16dMAAAFCjSp1KFeqAAQCyat3KtWvWAQEBADs=\"><title>Layer: output (output)\n output range: (0.0, 1.0)\n shape = (10,)\n Keras class = Dense\n activation = softmax</title></image><text x=\"288.0\" y=\"112.0\" font-family=\"monospace\" font-size=\"12\" text-anchor=\"middle\" fill=\"black\" alignment-baseline=\"central\"  transform=\"rotate(-90 288.0 112.0) translate(2)\" >output</text><line x1=\"175.0\" y1=\"164\" x2=\"175.0\" y2=\"137\" stroke=\"black\" stroke-width=\"2\" marker-end=\"url(#arrow)\"><title>Weights from hidden to output\n output_4/kernel:0 has shape (30, 10)\n output_4/bias:0 has shape (10,)</title></line><rect x=\"74.0\" y=\"164\" width=\"202\" height=\"52\" style=\"fill:none;stroke:black;stroke-width:2\"/><image id=\"picture-dashboard-MNIST_CNN-397103_hidden-rotated_2\" class=\"picture-dashboard-MNIST_CNN-397103_hidden-rotated\" x=\"75.0\" y=\"165\" height=\"50\" width=\"200\" preserveAspectRatio=\"none\" href=\"data:image/gif;base64,R0lGODdhHgABAIcAAPT5/dzp9uTu+AAAAAAAAAAAAAAAAAAAAAAAAAAAAAAAAAAAAAAAAAAAAAAAAAAAAAAAAAAAAAAAAAAAAAAAAAAAAAAAAAAAAAAAAAAAAAAAAAAAAAAAAAAAAAAAAAAAAAAAAAAAAAAAAAAAAAAAAAAAAAAAAAAAAAAAAAAAAAAAAAAAAAAAAAAAAAAAAAAAAAAAAAAAAAAAAAAAAAAAAAAAAAAAAAAAAAAAAAAAAAAAAAAAAAAAAAAAAAAAAAAAAAAAAAAAAAAAAAAAAAAAAAAAAAAAAAAAAAAAAAAAAAAAAAAAAAAAAAAAAAAAAAAAAAAAAAAAAAAAAAAAAAAAAAAAAAAAAAAAAAAAAAAAAAAAAAAAAAAAAAAAAAAAAAAAAAAAAAAAAAAAAAAAAAAAAAAAAAAAAAAAAAAAAAAAAAAAAAAAAAAAAAAAAAAAAAAAAAAAAAAAAAAAAAAAAAAAAAAAAAAAAAAAAAAAAAAAAAAAAAAAAAAAAAAAAAAAAAAAAAAAAAAAAAAAAAAAAAAAAAAAAAAAAAAAAAAAAAAAAAAAAAAAAAAAAAAAAAAAAAAAAAAAAAAAAAAAAAAAAAAAAAAAAAAAAAAAAAAAAAAAAAAAAAAAAAAAAAAAAAAAAAAAAAAAAAAAAAAAAAAAAAAAAAAAAAAAAAAAAAAAAAAAAAAAAAAAAAAAAAAAAAAAAAAAAAAAAAAAAAAAAAAAAAAAAAAAAAAAAAAAAAAAAAAAAAAAAAAAAAAAAAAAAAAAAAAAAAAAAAAAAAAAAAAAAAAAAAAAAAAAAAAAAAAAAAAAAAAAAAAAAAAAAAAAAAAAAAAAAAAAAAAAAAAAAAAAAAAAAAAAAAAAAAAAAAAAAAAAAAAAAAAAAAAAAAAAAAAAAAAAAAAAAAAAAAAAAAAAAAAAAAAAAAAAAAAAAAAAAAAAAAAAAAAAAAAAAAAAAAAAAAAAAAAAAAAAAAAAAAAAAAAAAAAAAAAAAAAAAAAAAAAAAAAAAAAAAAAAAAAAAAAAAAAAACwAAAAAHgABAAAIGwABCBwoAIBBAAIABADAkKEAABADAAAQAIDFgAA7\"><title>Layer: hidden (hidden)\n output range: (0.0, +Infinity)\n shape = (30,)\n Keras class = Dense\n activation = relu</title></image><text x=\"288.0\" y=\"192.0\" font-family=\"monospace\" font-size=\"12\" text-anchor=\"middle\" fill=\"black\" alignment-baseline=\"central\"  transform=\"rotate(-90 288.0 192.0) translate(2)\" >hidden</text><line x1=\"175.0\" y1=\"244\" x2=\"175.0\" y2=\"217\" stroke=\"black\" stroke-width=\"2\" marker-end=\"url(#arrow)\"><title>Weights from flat to hidden\n hidden/kernel:0 has shape (512, 30)\n hidden/bias:0 has shape (30,)</title></line><rect x=\"74.0\" y=\"244\" width=\"202\" height=\"52\" style=\"fill:none;stroke:black;stroke-width:2\"/><image id=\"picture-dashboard-MNIST_CNN-397103_flat-rotated_3\" class=\"picture-dashboard-MNIST_CNN-397103_flat-rotated\" x=\"75.0\" y=\"245\" height=\"50\" width=\"200\" preserveAspectRatio=\"none\" href=\"data:image/gif;base64,R0lGODdhAAIBAIcAAPz7/dfX/8fH/+fn/7e3/6en/4aG/5eX/2tr/3V1/wAAAAAAAAAAAAAAAAAAAAAAAAAAAAAAAAAAAAAAAAAAAAAAAAAAAAAAAAAAAAAAAAAAAAAAAAAAAAAAAAAAAAAAAAAAAAAAAAAAAAAAAAAAAAAAAAAAAAAAAAAAAAAAAAAAAAAAAAAAAAAAAAAAAAAAAAAAAAAAAAAAAAAAAAAAAAAAAAAAAAAAAAAAAAAAAAAAAAAAAAAAAAAAAAAAAAAAAAAAAAAAAAAAAAAAAAAAAAAAAAAAAAAAAAAAAAAAAAAAAAAAAAAAAAAAAAAAAAAAAAAAAAAAAAAAAAAAAAAAAAAAAAAAAAAAAAAAAAAAAAAAAAAAAAAAAAAAAAAAAAAAAAAAAAAAAAAAAAAAAAAAAAAAAAAAAAAAAAAAAAAAAAAAAAAAAAAAAAAAAAAAAAAAAAAAAAAAAAAAAAAAAAAAAAAAAAAAAAAAAAAAAAAAAAAAAAAAAAAAAAAAAAAAAAAAAAAAAAAAAAAAAAAAAAAAAAAAAAAAAAAAAAAAAAAAAAAAAAAAAAAAAAAAAAAAAAAAAAAAAAAAAAAAAAAAAAAAAAAAAAAAAAAAAAAAAAAAAAAAAAAAAAAAAAAAAAAAAAAAAAAAAAAAAAAAAAAAAAAAAAAAAAAAAAAAAAAAAAAAAAAAAAAAAAAAAAAAAAAAAAAAAAAAAAAAAAAAAAAAAAAAAAAAAAAAAAAAAAAAAAAAAAAAAAAAAAAAAAAAAAAAAAAAAAAAAAAAAAAAAAAAAAAAAAAAAAAAAAAAAAAAAAAAAAAAAAAAAAAAAAAAAAAAAAAAAAAAAAAAAAAAAAAAAAAAAAAAAAAAAAAAAAAAAAAAAAAAAAAAAAAAAAAAAAAAAAAAAAAAAAAAAAAAAAAAAAAAAAAAAAAAAAAAAAAAAAAAAAAAAAAAAAAAAAAAAAAAAAAAAAAAAAAAAAAAAAAAAAAAAAAAAAAAAAAAAAAAAAAAAAAAAAAAAAAAAAAAAAAAAAAAACwAAAAAAAIBAAAI/wADCAAwAMAAAAQAKAQQAIBDhwEAABAQAMAAAQMAAAgwIECAAgEAiAQgAACAAQACAAAwAAAAAwAAEBAAIICAAAAGCAAgoIAAAQMACB06AICAAAMIAABgAACAAgEASCUAIICAAAEEBBAwAIDXrwMABBAQIAAAAAUAACgQAIDbAgAEBBgQIMCAAAEADAAQAACAAQAADABAGIAAAAAEBAAAIAABAAAECAAQIACAywMAHADAGYCAAAQAiEYAAEABAAAKECgwYEAAAgMCCCAAoDYAAwAACABAQEAAAQAAIAAAoAAAAAQKFAggIACBAAQGEABAHcAAAAACAAggIIAAAAAOAP8AECAAAAEDBAAYAEDAAAABAgAYAACAgAEA8uvXLwAAAIACBgAIICDAAAAABAwgIGBAgAEDABQAUBFAAAAABAAAQAAAAAEBBgggIAAAgAECBggQAIAAAJgCAAAIACAAgAAEAAAoAACAgAEACAggMCBAgAEBBAQgAMDpUwACAAgYEEAAAAAFAAAIIADAAAABAAwYAABAgAADBgBgKwDAW7hxBwAAMCDAAAECBgAAMABAAAECAgQAUHgAAAADACwGMAAAAAIAAAgQAECAAAADBggQMEBAAAICAIweAADAAAAEBAAoAACAAQAACAgAAGAAAQABCggYMAAAAQDBAQQAAIAYAAACAZQDAJAAAAACAKQDODCAQAAAAgICADs=\"><title>Layer: flat (hidden)\n output range: (-Infinity, +Infinity)\n Keras class = Flatten</title></image><text x=\"288.0\" y=\"272.0\" font-family=\"monospace\" font-size=\"12\" text-anchor=\"middle\" fill=\"black\" alignment-baseline=\"central\"  transform=\"rotate(-90 288.0 272.0) translate(2)\" >flat</text><line x1=\"175.0\" y1=\"324\" x2=\"175.0\" y2=\"297\" stroke=\"black\" stroke-width=\"2\" marker-end=\"url(#arrow)\"><title>Weights from maxpool2 to flat</title></line><rect x=\"74.0\" y=\"324\" width=\"202\" height=\"202\" style=\"fill:none;stroke:black;stroke-width:2\"/><image id=\"picture-dashboard-MNIST_CNN-397103_maxpool2-rotated_4\" class=\"picture-dashboard-MNIST_CNN-397103_maxpool2-rotated\" x=\"75.0\" y=\"325\" height=\"200\" width=\"200\" preserveAspectRatio=\"none\" href=\"data:image/gif;base64,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\"><title>Layer: maxpool2 (hidden)\n output range: (-Infinity, +Infinity)\n Keras class = MaxPooling2D</title></image><text x=\"288.0\" y=\"427.0\" font-family=\"monospace\" font-size=\"12\" text-anchor=\"middle\" fill=\"black\" alignment-baseline=\"central\"  transform=\"rotate(-90 288.0 427.0) translate(2)\" >maxpool2</text><text x=\"88.0\" y=\"310\" font-family=\"monospace\" font-size=\"12\" text-anchor=\"middle\" fill=\"black\" alignment-baseline=\"central\"  transform=\"rotate(-90 88.0 310) translate(2)\" >32</text><text x=\"273.0\" y=\"540\" font-family=\"monospace\" font-size=\"12\" text-anchor=\"middle\" fill=\"black\" alignment-baseline=\"central\"  transform=\"rotate(-90 273.0 540) translate(2)\" >0</text><line x1=\"175.0\" y1=\"554\" x2=\"175.0\" y2=\"527\" stroke=\"black\" stroke-width=\"2\" marker-end=\"url(#arrow)\"><title>Weights from conv2D_2 to maxpool2</title></line><rect x=\"74.0\" y=\"554\" width=\"202\" height=\"202\" style=\"fill:none;stroke:black;stroke-width:2\"/><image id=\"picture-dashboard-MNIST_CNN-397103_conv2D_2-rotated_5\" class=\"picture-dashboard-MNIST_CNN-397103_conv2D_2-rotated\" x=\"75.0\" y=\"555\" height=\"200\" width=\"200\" preserveAspectRatio=\"none\" href=\"data:image/gif;base64,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\"><title>Layer: conv2D_2 (hidden)\n output range: (0.0, +Infinity)\n dropout = 0.2\n Keras class = Conv2D\n activation = relu</title></image><text x=\"288.0\" y=\"657.0\" font-family=\"monospace\" font-size=\"12\" text-anchor=\"middle\" fill=\"black\" alignment-baseline=\"central\"  transform=\"rotate(-90 288.0 657.0) translate(2)\" >conv2D_2</text><text x=\"88.0\" y=\"540\" font-family=\"monospace\" font-size=\"12\" text-anchor=\"middle\" fill=\"black\" alignment-baseline=\"central\"  transform=\"rotate(-90 88.0 540) translate(2)\" >32</text><text x=\"273.0\" y=\"770\" font-family=\"monospace\" font-size=\"12\" text-anchor=\"middle\" fill=\"black\" alignment-baseline=\"central\"  transform=\"rotate(-90 273.0 770) translate(2)\" >0</text><text x=\"62.0\" y=\"560\" font-family=\"monospace\" font-size=\"24.0\" text-anchor=\"middle\" fill=\"black\" alignment-baseline=\"central\"  transform=\"rotate(-90 62.0 560) translate(2)\" >&#10683;</text><line x1=\"175.0\" y1=\"784\" x2=\"175.0\" y2=\"757\" stroke=\"black\" stroke-width=\"2\" marker-end=\"url(#arrow)\"><title>Weights from maxpool1 to conv2D_2\n conv2D_2/kernel:0 has shape (5, 5, 16, 32)\n conv2D_2/bias:0 has shape (32,)</title></line><rect x=\"74.0\" y=\"784\" width=\"202\" height=\"202\" style=\"fill:none;stroke:black;stroke-width:2\"/><image id=\"picture-dashboard-MNIST_CNN-397103_maxpool1-rotated_6\" class=\"picture-dashboard-MNIST_CNN-397103_maxpool1-rotated\" x=\"75.0\" y=\"785\" height=\"200\" width=\"200\" preserveAspectRatio=\"none\" href=\"data:image/gif;base64,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\"><title>Layer: maxpool1 (hidden)\n output range: (-Infinity, +Infinity)\n Keras class = MaxPooling2D</title></image><text x=\"288.0\" y=\"887.0\" font-family=\"monospace\" font-size=\"12\" text-anchor=\"middle\" fill=\"black\" alignment-baseline=\"central\"  transform=\"rotate(-90 288.0 887.0) translate(2)\" >maxpool1</text><text x=\"88.0\" y=\"770\" font-family=\"monospace\" font-size=\"12\" text-anchor=\"middle\" fill=\"black\" alignment-baseline=\"central\"  transform=\"rotate(-90 88.0 770) translate(2)\" >16</text><text x=\"273.0\" y=\"1000\" font-family=\"monospace\" font-size=\"12\" text-anchor=\"middle\" fill=\"black\" alignment-baseline=\"central\"  transform=\"rotate(-90 273.0 1000) translate(2)\" >0</text><line x1=\"175.0\" y1=\"1014\" x2=\"175.0\" y2=\"987\" stroke=\"black\" stroke-width=\"2\" marker-end=\"url(#arrow)\"><title>Weights from conv2D_1 to maxpool1</title></line><rect x=\"74.0\" y=\"1014\" width=\"202\" height=\"202\" style=\"fill:none;stroke:black;stroke-width:2\"/><image id=\"picture-dashboard-MNIST_CNN-397103_conv2D_1-rotated_7\" class=\"picture-dashboard-MNIST_CNN-397103_conv2D_1-rotated\" x=\"75.0\" y=\"1015\" height=\"200\" width=\"200\" preserveAspectRatio=\"none\" href=\"data:image/gif;base64,R0lGODdhGAAYAIcAAPP4/dfm9Mfc7+Lt+LfU6abN4wAAAAAAAAAAAAAAAAAAAAAAAAAAAAAAAAAAAAAAAAAAAAAAAAAAAAAAAAAAAAAAAAAAAAAAAAAAAAAAAAAAAAAAAAAAAAAAAAAAAAAAAAAAAAAAAAAAAAAAAAAAAAAAAAAAAAAAAAAAAAAAAAAAAAAAAAAAAAAAAAAAAAAAAAAAAAAAAAAAAAAAAAAAAAAAAAAAAAAAAAAAAAAAAAAAAAAAAAAAAAAAAAAAAAAAAAAAAAAAAAAAAAAAAAAAAAAAAAAAAAAAAAAAAAAAAAAAAAAAAAAAAAAAAAAAAAAAAAAAAAAAAAAAAAAAAAAAAAAAAAAAAAAAAAAAAAAAAAAAAAAAAAAAAAAAAAAAAAAAAAAAAAAAAAAAAAAAAAAAAAAAAAAAAAAAAAAAAAAAAAAAAAAAAAAAAAAAAAAAAAAAAAAAAAAAAAAAAAAAAAAAAAAAAAAAAAAAAAAAAAAAAAAAAAAAAAAAAAAAAAAAAAAAAAAAAAAAAAAAAAAAAAAAAAAAAAAAAAAAAAAAAAAAAAAAAAAAAAAAAAAAAAAAAAAAAAAAAAAAAAAAAAAAAAAAAAAAAAAAAAAAAAAAAAAAAAAAAAAAAAAAAAAAAAAAAAAAAAAAAAAAAAAAAAAAAAAAAAAAAAAAAAAAAAAAAAAAAAAAAAAAAAAAAAAAAAAAAAAAAAAAAAAAAAAAAAAAAAAAAAAAAAAAAAAAAAAAAAAAAAAAAAAAAAAAAAAAAAAAAAAAAAAAAAAAAAAAAAAAAAAAAAAAAAAAAAAAAAAAAAAAAAAAAAAAAAAAAAAAAAAAAAAAAAAAAAAAAAAAAAAAAAAAAAAAAAAAAAAAAAAAAAAAAAAAAAAAAAAAAAAAAAAAAAAAAAAAAAAAAAAAAAAAAAAAAAAAAAAAAAAAAAAAAAAAAAAAAAAAAAAAAAAAAAAAAAAAAAAAAAAAAAAAAAAAAAAAAAAAAAAAAAAAAAAAAAAAAAAAAAAAAAAAAAAAAAAAAAAAACwAAAAAGAAYAEAI/wABCBxIsKBBgwESDhgAoCGAAQEIFCAgIACAixgxBgggIECAAQBCigw5QAABAQECAAAwIMAAADBjypxJE0AAAQQEBNjJMwAAAAEEEBAQAIDRo0iTKjUaoGkAAFCjSp1KdeqAAFgHANjKFcCAAAEAiB1LNoAAAgQCBBgwIIBbtwQICAgAoK5dAAMEEChQgECAvwACBx4ggECAAAASKwYQoDGAx5AjAxggQECAAAAya97MuTOAAQMAiB5NurTp0gMAqF7NurVr1QFiBwBAu7bt27cH6A4AoLdvAAMCCAgwAIDx48YHCBBAIEAAANAHBBAggEABAQIGANjOHUCAAAIEBG8AACCAefMDAhAQIGAAgPfwAwggQF9AgPsBAOgfEICAAIACBgAgWDCAAIQCAgQA0NDhgAAECAgIAMCixQACBAQA0NHjRwABCAgIEADASZQDBgBg2dIlywACAgQAUNPmTZw4BwQIMADAT6BBhQ4FGhAAOw==\"><title>Layer: conv2D_1 (hidden)\n output range: (0.0, +Infinity)\n dropout = 0.2\n Keras class = Conv2D\n activation = relu</title></image><text x=\"288.0\" y=\"1117.0\" font-family=\"monospace\" font-size=\"12\" text-anchor=\"middle\" fill=\"black\" alignment-baseline=\"central\"  transform=\"rotate(-90 288.0 1117.0) translate(2)\" >conv2D_1</text><text x=\"88.0\" y=\"1000\" font-family=\"monospace\" font-size=\"12\" text-anchor=\"middle\" fill=\"black\" alignment-baseline=\"central\"  transform=\"rotate(-90 88.0 1000) translate(2)\" >16</text><text x=\"273.0\" y=\"1230\" font-family=\"monospace\" font-size=\"12\" text-anchor=\"middle\" fill=\"black\" alignment-baseline=\"central\"  transform=\"rotate(-90 273.0 1230) translate(2)\" >0</text><text x=\"62.0\" y=\"1020\" font-family=\"monospace\" font-size=\"24.0\" text-anchor=\"middle\" fill=\"black\" alignment-baseline=\"central\"  transform=\"rotate(-90 62.0 1020) translate(2)\" >&#10683;</text><line x1=\"175.0\" y1=\"1244\" x2=\"175.0\" y2=\"1217\" stroke=\"black\" stroke-width=\"2\" marker-end=\"url(#arrow)\"><title>Weights from input to conv2D_1\n conv2D_1/kernel:0 has shape (5, 5, 1, 16)\n conv2D_1/bias:0 has shape (16,)</title></line><rect x=\"74.0\" y=\"1244\" width=\"202\" height=\"202\" style=\"fill:none;stroke:black;stroke-width:2\"/><image id=\"picture-dashboard-MNIST_CNN-397103_input-rotated_8\" class=\"picture-dashboard-MNIST_CNN-397103_input-rotated\" x=\"75.0\" y=\"1245\" height=\"200\" width=\"200\" preserveAspectRatio=\"none\" href=\"data:image/gif;base64,R0lGODdhHAAcAIcAAAAAAPv7+xUVFVVVVSgoKIaGhqmpqbm5ucfHx5iYmERERNjY2OTk5Hl5eTU1NWtrawAAAAAAAAAAAAAAAAAAAAAAAAAAAAAAAAAAAAAAAAAAAAAAAAAAAAAAAAAAAAAAAAAAAAAAAAAAAAAAAAAAAAAAAAAAAAAAAAAAAAAAAAAAAAAAAAAAAAAAAAAAAAAAAAAAAAAAAAAAAAAAAAAAAAAAAAAAAAAAAAAAAAAAAAAAAAAAAAAAAAAAAAAAAAAAAAAAAAAAAAAAAAAAAAAAAAAAAAAAAAAAAAAAAAAAAAAAAAAAAAAAAAAAAAAAAAAAAAAAAAAAAAAAAAAAAAAAAAAAAAAAAAAAAAAAAAAAAAAAAAAAAAAAAAAAAAAAAAAAAAAAAAAAAAAAAAAAAAAAAAAAAAAAAAAAAAAAAAAAAAAAAAAAAAAAAAAAAAAAAAAAAAAAAAAAAAAAAAAAAAAAAAAAAAAAAAAAAAAAAAAAAAAAAAAAAAAAAAAAAAAAAAAAAAAAAAAAAAAAAAAAAAAAAAAAAAAAAAAAAAAAAAAAAAAAAAAAAAAAAAAAAAAAAAAAAAAAAAAAAAAAAAAAAAAAAAAAAAAAAAAAAAAAAAAAAAAAAAAAAAAAAAAAAAAAAAAAAAAAAAAAAAAAAAAAAAAAAAAAAAAAAAAAAAAAAAAAAAAAAAAAAAAAAAAAAAAAAAAAAAAAAAAAAAAAAAAAAAAAAAAAAAAAAAAAAAAAAAAAAAAAAAAAAAAAAAAAAAAAAAAAAAAAAAAAAAAAAAAAAAAAAAAAAAAAAAAAAAAAAAAAAAAAAAAAAAAAAAAAAAAAAAAAAAAAAAAAAAAAAAAAAAAAAAAAAAAAAAAAAAAAAAAAAAAAAAAAAAAAAAAAAAAAAAAAAAAAAAAAAAAAAAAAAAAAAAAAAAAAAAAAAAAAAAAAAAAAAAAAAAAAAAAAAAAAAAAAAAAAAAAAAAAAAAAAAAAAAAAAAAAAAAAAAAAAAAAAAAAAAAAAAAAAAAAAAAAAAAAAACwAAAAAHAAcAEAI/wABCBxIsKDBgwUFGBgAoKFDAAIOBEBwAIDFixgxJgjAMUEBACBDgmwQoKQAAChTqlzJsqXLBgoAyJxJs6bNmgICBDgAoCcAAwEOCABQIEAABACSKl2q1IEAAFCjSo1qIEAAAFizat3KtavXAAEcABhLtqzZs2ULBFibAIBbAA0CyJWLAIDdu3jtCgjAF8GAAwECDABAGECCAAEQAFjMuDEAAgECJABAubJlAAoCBCgAoLPnz6BDgzYQAIDp06hTq17NurXr17BjAwiAgACA27hz696d20CAAQCCCxeuAIDx48iTG2AwAIDz5wISBJgeQAGA69izX28QoDsBAOAfBIEIMADAgQABBgBYz749AAEBAiAAQF8BgwAEAAAgwCBAAIADAAwkWBCAgQAJEx4gAMChQwILAgQoAMDiRYwDAgR4AMDjR5ACFgQIUADASZQoBTBYMADAS5gxAQhYEGABAJw5de7kqVMAgwAAhA4lWtRoUQcFACxl2tTpU6hRpU5tGhAAOw==\"><title>Layer: input (input)\n output range: (0.0, 1.0)\n shape = (28, 28, 1)\n Keras class = Input</title></image><text x=\"288.0\" y=\"1347.0\" font-family=\"monospace\" font-size=\"12\" text-anchor=\"middle\" fill=\"black\" alignment-baseline=\"central\"  transform=\"rotate(-90 288.0 1347.0) translate(2)\" >input</text><text x=\"88.0\" y=\"1230\" font-family=\"monospace\" font-size=\"12\" text-anchor=\"middle\" fill=\"black\" alignment-baseline=\"central\"  transform=\"rotate(-90 88.0 1230) translate(2)\" >1</text><text x=\"273.0\" y=\"1460\" font-family=\"monospace\" font-size=\"12\" text-anchor=\"middle\" fill=\"black\" alignment-baseline=\"central\"  transform=\"rotate(-90 273.0 1460) translate(2)\" >0</text><text x=\"18\" y=\"735.0\" font-family=\"monospace\" font-size=\"15\" text-anchor=\"middle\" fill=\"black\" alignment-baseline=\"central\"  transform=\"rotate(-90 18 735.0) translate(2)\" >MNIST_CNN</text></svg></g></svg></p></td>\n</tr>\n<tr>\n  <td valign=\"top\" align=\"center\"><p style=\"text-align:center\"><b>conv2D_1 features</b></p><table><tr><td style=\"border: 1px solid black;\"><img style=\"image-rendering: pixelated;\" class=\"MNIST_CNN_conv2D_1_feature0\" src=\"data:image/gif;base64,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\"/><br/><center>Feature 0</center></td><td style=\"border: 1px solid black;\"><img style=\"image-rendering: pixelated;\" class=\"MNIST_CNN_conv2D_1_feature1\" src=\"data:image/gif;base64,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\"/><br/><center>Feature 1</center></td><td style=\"border: 1px solid black;\"><img style=\"image-rendering: pixelated;\" class=\"MNIST_CNN_conv2D_1_feature2\" src=\"data:image/gif;base64,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\"/><br/><center>Feature 2</center></td><td style=\"border: 1px solid black;\"><img style=\"image-rendering: pixelated;\" class=\"MNIST_CNN_conv2D_1_feature3\" src=\"data:image/gif;base64,R0lGODdhYABgAIcAAPb6/gAAAAAAAAAAAAAAAAAAAAAAAAAAAAAAAAAAAAAAAAAAAAAAAAAAAAAAAAAAAAAAAAAAAAAAAAAAAAAAAAAAAAAAAAAAAAAAAAAAAAAAAAAAAAAAAAAAAAAAAAAAAAAAAAAAAAAAAAAAAAAAAAAAAAAAAAAAAAAAAAAAAAAAAAAAAAAAAAAAAAAAAAAAAAAAAAAAAAAAAAAAAAAAAAAAAAAAAAAAAAAAAAAAAAAAAAAAAAAAAAAAAAAAAAAAAAAAAAAAAAAAAAAAAAAAAAAAAAAAAAAAAAAAAAAAAAAAAAAAAAAAAAAAAAAAAAAAAAAAAAAAAAAAAAAAAAAAAAAAAAAAAAAAAAAAAAAAAAAAAAAAAAAAAAAAAAAAAAAAAAAAAAAAAAAAAAAAAAAAAAAAAAAAAAAAAAAAAAAAAAAAAAAAAAAAAAAAAAAAAAAAAAAAAAAAAAAAAAAAAAAAAAAAAAAAAAAAAAAAAAAAAAAAAAAAAAAAAAAAAAAAAAAAAAAAAAAAAAAAAAAAAAAAAAAAAAAAAAAAAAAAAAAAAAAAAAAAAAAAAAAAAAAAAAAAAAAAAAAAAAAAAAAAAAAAAAAAAAAAAAAAAAAAAAAAAAAAAAAAAAAAAAAAAAAAAAAAAAAAAAAAAAAAAAAAAAAAAAAAAAAAAAAAAAAAAAAAAAAAAAAAAAAAAAAAAAAAAAAAAAAAAAAAAAAAAAAAAAAAAAAAAAAAAAAAAAAAAAAAAAAAAAAAAAAAAAAAAAAAAAAAAAAAAAAAAAAAAAAAAAAAAAAAAAAAAAAAAAAAAAAAAAAAAAAAAAAAAAAAAAAAAAAAAAAAAAAAAAAAAAAAAAAAAAAAAAAAAAAAAAAAAAAAAAAAAAAAAAAAAAAAAAAAAAAAAAAAAAAAAAAAAAAAAAAAAAAAAAAAAAAAAAAAAAAAAAAAAAAAAAAAAAAAAAAAAAAAAAAAAAAAAAAAAAAAAAAAAAAAAAAAAAAAAAAAAAAAAAAAAAAAAAAAAAAAAAAAAAAAACwAAAAAYABgAEAInAABCBxIsKDBgwgTKlzIsKHDhxAjSpxIsaLFixgzatzIsaPHjyBDihxJsqTJkyhTqlzJsqXLlzBjypxJs6bNmzhz6tzJs6fPn0CDCh1KtKjRo0iTKl3KtKnTp1CjSp1KtarVq1izat3KtavXr2DDih1LtqzZs2jTql3Ltq3bt3Djyp1Lt67du3jz6t3Lt6/fv4ADCx5MuLDhwyQDAgA7\"/><br/><center>Feature 3</center></td><td style=\"border: 1px solid black;\"><img style=\"image-rendering: pixelated;\" class=\"MNIST_CNN_conv2D_1_feature4\" src=\"data:image/gif;base64,R0lGODdhYABgAIcAAPb6/gAAAAAAAAAAAAAAAAAAAAAAAAAAAAAAAAAAAAAAAAAAAAAAAAAAAAAAAAAAAAAAAAAAAAAAAAAAAAAAAAAAAAAAAAAAAAAAAAAAAAAAAAAAAAAAAAAAAAAAAAAAAAAAAAAAAAAAAAAAAAAAAAAAAAAAAAAAAAAAAAAAAAAAAAAAAAAAAAAAAAAAAAAAAAAAAAAAAAAAAAAAAAAAAAAAAAAAAAAAAAAAAAAAAAAAAAAAAAAAAAAAAAAAAAAAAAAAAAAAAAAAAAAAAAAAAAAAAAAAAAAAAAAAAAAAAAAAAAAAAAAAAAAAAAAAAAAAAAAAAAAAAAAAAAAAAAAAAAAAAAAAAAAAAAAAAAAAAAAAAAAAAAAAAAAAAAAAAAAAAAAAAAAAAAAAAAAAAAAAAAAAAAAAAAAAAAAAAAAAAAAAAAAAAAAAAAAAAAAAAAAAAAAAAAAAAAAAAAAAAAAAAAAAAAAAAAAAAAAAAAAAAAAAAAAAAAAAAAAAAAAAAAAAAAAAAAAAAAAAAAAAAAAAAAAAAAAAAAAAAAAAAAAAAAAAAAAAAAAAAAAAAAAAAAAAAAAAAAAAAAAAAAAAAAAAAAAAAAAAAAAAAAAAAAAAAAAAAAAAAAAAAAAAAAAAAAAAAAAAAAAAAAAAAAAAAAAAAAAAAAAAAAAAAAAAAAAAAAAAAAAAAAAAAAAAAAAAAAAAAAAAAAAAAAAAAAAAAAAAAAAAAAAAAAAAAAAAAAAAAAAAAAAAAAAAAAAAAAAAAAAAAAAAAAAAAAAAAAAAAAAAAAAAAAAAAAAAAAAAAAAAAAAAAAAAAAAAAAAAAAAAAAAAAAAAAAAAAAAAAAAAAAAAAAAAAAAAAAAAAAAAAAAAAAAAAAAAAAAAAAAAAAAAAAAAAAAAAAAAAAAAAAAAAAAAAAAAAAAAAAAAAAAAAAAAAAAAAAAAAAAAAAAAAAAAAAAAAAAAAAAAAAAAAAAAAAAAAAAAAAAAAAAAAAAAAAAAAAAAAAAAAAAAAAAAAAAAAAAAACwAAAAAYABgAEAInAABCBxIsKDBgwgTKlzIsKHDhxAjSpxIsaLFixgzatzIsaPHjyBDihxJsqTJkyhTqlzJsqXLlzBjypxJs6bNmzhz6tzJs6fPn0CDCh1KtKjRo0iTKl3KtKnTp1CjSp1KtarVq1izat3KtavXr2DDih1LtqzZs2jTql3Ltq3bt3Djyp1Lt67du3jz6t3Lt6/fv4ADCx5MuLDhwyQDAgA7\"/><br/><center>Feature 4</center></td><td style=\"border: 1px solid black;\"><img style=\"image-rendering: pixelated;\" class=\"MNIST_CNN_conv2D_1_feature5\" src=\"data:image/gif;base64,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\"/><br/><center>Feature 5</center></td><td style=\"border: 1px solid black;\"><img style=\"image-rendering: pixelated;\" class=\"MNIST_CNN_conv2D_1_feature6\" src=\"data:image/gif;base64,R0lGODdhYABgAIcAAPb6/uTv+QAAAAAAAAAAAAAAAAAAAAAAAAAAAAAAAAAAAAAAAAAAAAAAAAAAAAAAAAAAAAAAAAAAAAAAAAAAAAAAAAAAAAAAAAAAAAAAAAAAAAAAAAAAAAAAAAAAAAAAAAAAAAAAAAAAAAAAAAAAAAAAAAAAAAAAAAAAAAAAAAAAAAAAAAAAAAAAAAAAAAAAAAAAAAAAAAAAAAAAAAAAAAAAAAAAAAAAAAAAAAAAAAAAAAAAAAAAAAAAAAAAAAAAAAAAAAAAAAAAAAAAAAAAAAAAAAAAAAAAAAAAAAAAAAAAAAAAAAAAAAAAAAAAAAAAAAAAAAAAAAAAAAAAAAAAAAAAAAAAAAAAAAAAAAAAAAAAAAAAAAAAAAAAAAAAAAAAAAAAAAAAAAAAAAAAAAAAAAAAAAAAAAAAAAAAAAAAAAAAAAAAAAAAAAAAAAAAAAAAAAAAAAAAAAAAAAAAAAAAAAAAAAAAAAAAAAAAAAAAAAAAAAAAAAAAAAAAAAAAAAAAAAAAAAAAAAAAAAAAAAAAAAAAAAAAAAAAAAAAAAAAAAAAAAAAAAAAAAAAAAAAAAAAAAAAAAAAAAAAAAAAAAAAAAAAAAAAAAAAAAAAAAAAAAAAAAAAAAAAAAAAAAAAAAAAAAAAAAAAAAAAAAAAAAAAAAAAAAAAAAAAAAAAAAAAAAAAAAAAAAAAAAAAAAAAAAAAAAAAAAAAAAAAAAAAAAAAAAAAAAAAAAAAAAAAAAAAAAAAAAAAAAAAAAAAAAAAAAAAAAAAAAAAAAAAAAAAAAAAAAAAAAAAAAAAAAAAAAAAAAAAAAAAAAAAAAAAAAAAAAAAAAAAAAAAAAAAAAAAAAAAAAAAAAAAAAAAAAAAAAAAAAAAAAAAAAAAAAAAAAAAAAAAAAAAAAAAAAAAAAAAAAAAAAAAAAAAAAAAAAAAAAAAAAAAAAAAAAAAAAAAAAAAAAAAAAAAAAAAAAAAAAAAAAAAAAAAAAAAAAAAAAAAAAAAAAAAAAAAAAAAAAAAAAAAAAAAACwAAAAAYABgAEAI/wABCBxIsKDBgwgTKlzIsKHDhxAjSpxIsaLFiQEyaswIoKPHjyBDihxJsqTJkyhTqlzJsqXLlzBjypxJs6bNmzhz6tzJs6fPn0CDCh1KtKjRo0iTKl3KtKnTp1CjSp1KtarVq1izat3KtavXr2DDegxAtixZAGjTql3Ltq3bt3Djyp1Lt67du3jz6t3Lt6/fv4ADCx5MuLDhw4gTK17MuLHjx5AjS55MubLly5gza97MubPnz6BDix5NurTp06hTq17NurVrzQFiy44NoLbt27hz697Nu7fv370DCB8uHIDx48iTK1/OvLnz59CjS59Ovbr169iza9/Ovbv37+DDi2gfT768+fPo06tfz769+/fw48ufT7++/fv48+vfz7+/f4AABA4kWNDgQYQJFS5k2NDhQ4gRJU6kWNHiRYwZNW7k2NHjR5AhRY4kWdLkSZQpVa5k2dLlS5gxZc6kWdPmTZw5de7k2dNmQAA7\"/><br/><center>Feature 6</center></td><td style=\"border: 1px solid black;\"><img style=\"image-rendering: pixelated;\" class=\"MNIST_CNN_conv2D_1_feature7\" src=\"data:image/gif;base64,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\"/><br/><center>Feature 7</center></td></tr><tr><td style=\"border: 1px solid black;\"><img style=\"image-rendering: pixelated;\" class=\"MNIST_CNN_conv2D_1_feature8\" src=\"data:image/gif;base64,R0lGODdhYABgAIcAAPX5/uTu+AAAAAAAAAAAAAAAAAAAAAAAAAAAAAAAAAAAAAAAAAAAAAAAAAAAAAAAAAAAAAAAAAAAAAAAAAAAAAAAAAAAAAAAAAAAAAAAAAAAAAAAAAAAAAAAAAAAAAAAAAAAAAAAAAAAAAAAAAAAAAAAAAAAAAAAAAAAAAAAAAAAAAAAAAAAAAAAAAAAAAAAAAAAAAAAAAAAAAAAAAAAAAAAAAAAAAAAAAAAAAAAAAAAAAAAAAAAAAAAAAAAAAAAAAAAAAAAAAAAAAAAAAAAAAAAAAAAAAAAAAAAAAAAAAAAAAAAAAAAAAAAAAAAAAAAAAAAAAAAAAAAAAAAAAAAAAAAAAAAAAAAAAAAAAAAAAAAAAAAAAAAAAAAAAAAAAAAAAAAAAAAAAAAAAAAAAAAAAAAAAAAAAAAAAAAAAAAAAAAAAAAAAAAAAAAAAAAAAAAAAAAAAAAAAAAAAAAAAAAAAAAAAAAAAAAAAAAAAAAAAAAAAAAAAAAAAAAAAAAAAAAAAAAAAAAAAAAAAAAAAAAAAAAAAAAAAAAAAAAAAAAAAAAAAAAAAAAAAAAAAAAAAAAAAAAAAAAAAAAAAAAAAAAAAAAAAAAAAAAAAAAAAAAAAAAAAAAAAAAAAAAAAAAAAAAAAAAAAAAAAAAAAAAAAAAAAAAAAAAAAAAAAAAAAAAAAAAAAAAAAAAAAAAAAAAAAAAAAAAAAAAAAAAAAAAAAAAAAAAAAAAAAAAAAAAAAAAAAAAAAAAAAAAAAAAAAAAAAAAAAAAAAAAAAAAAAAAAAAAAAAAAAAAAAAAAAAAAAAAAAAAAAAAAAAAAAAAAAAAAAAAAAAAAAAAAAAAAAAAAAAAAAAAAAAAAAAAAAAAAAAAAAAAAAAAAAAAAAAAAAAAAAAAAAAAAAAAAAAAAAAAAAAAAAAAAAAAAAAAAAAAAAAAAAAAAAAAAAAAAAAAAAAAAAAAAAAAAAAAAAAAAAAAAAAAAAAAAAAAAAAAAAAAAAAAAAAAAAAAAAAAAAAAAAAAAAAAACwAAAAAYABgAEAI/wABCBxIsKDBgwgTKlzIsKHDhxAjSpxIsaLFixgzatzIsaPHjyBDihxJsmTHAChTogTAsqXLlzBjypxJs6bNmzhz6tzJs6fPn0CDCh1KtKjRo0iTKl3KtKnTp1CjSp1KtarVq1iz+gzANQCAr2DDih1LtqzZs2jTql3Ltq3bt3Djyp1Lt67du3jz6t3Lt6/fv4ADCx5MuLDhw4gTK17MuLHjx5AjS55MubLly5gXB9jMeTOAz6BDix5NurTp06hTqwYQoHUAALBjy55Nu7bt27hz697Nu7fv38CDCx9OvLjx48iTK1/OvLnz59CjS59Ovbr169iza9/Ovbv37+DDi7wfT768+fPo06tfz769+/fw48ufT7++/fv48+vfz7+/f4AABA4kWNDgQYQJFS5k2NDhQ4gRJU6kWNHiRYwEA2zkuBHAR5AhRY4kWdLkSZQpTwZg2ZIlAJgxZc6kWdPmTZw5de4EEMBnAABBhQ4lWtToUaRJlS5lCiDA0wAApE6lWtXqVaxZtW7l2tXrV7BhxY4lW9bsWbRp1a5l29btW7hx5c6lW9fuXbx59e7l29fvX8CBBQ8mXNjwYbQBAQA7\"/><br/><center>Feature 8</center></td><td style=\"border: 1px solid black;\"><img style=\"image-rendering: pixelated;\" class=\"MNIST_CNN_conv2D_1_feature9\" src=\"data:image/gif;base64,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\"/><br/><center>Feature 9</center></td><td style=\"border: 1px solid black;\"><img style=\"image-rendering: pixelated;\" class=\"MNIST_CNN_conv2D_1_feature10\" src=\"data:image/gif;base64,R0lGODdhYABgAIcAAPP4/djn9OHt98fc77nV6gAAAAAAAAAAAAAAAAAAAAAAAAAAAAAAAAAAAAAAAAAAAAAAAAAAAAAAAAAAAAAAAAAAAAAAAAAAAAAAAAAAAAAAAAAAAAAAAAAAAAAAAAAAAAAAAAAAAAAAAAAAAAAAAAAAAAAAAAAAAAAAAAAAAAAAAAAAAAAAAAAAAAAAAAAAAAAAAAAAAAAAAAAAAAAAAAAAAAAAAAAAAAAAAAAAAAAAAAAAAAAAAAAAAAAAAAAAAAAAAAAAAAAAAAAAAAAAAAAAAAAAAAAAAAAAAAAAAAAAAAAAAAAAAAAAAAAAAAAAAAAAAAAAAAAAAAAAAAAAAAAAAAAAAAAAAAAAAAAAAAAAAAAAAAAAAAAAAAAAAAAAAAAAAAAAAAAAAAAAAAAAAAAAAAAAAAAAAAAAAAAAAAAAAAAAAAAAAAAAAAAAAAAAAAAAAAAAAAAAAAAAAAAAAAAAAAAAAAAAAAAAAAAAAAAAAAAAAAAAAAAAAAAAAAAAAAAAAAAAAAAAAAAAAAAAAAAAAAAAAAAAAAAAAAAAAAAAAAAAAAAAAAAAAAAAAAAAAAAAAAAAAAAAAAAAAAAAAAAAAAAAAAAAAAAAAAAAAAAAAAAAAAAAAAAAAAAAAAAAAAAAAAAAAAAAAAAAAAAAAAAAAAAAAAAAAAAAAAAAAAAAAAAAAAAAAAAAAAAAAAAAAAAAAAAAAAAAAAAAAAAAAAAAAAAAAAAAAAAAAAAAAAAAAAAAAAAAAAAAAAAAAAAAAAAAAAAAAAAAAAAAAAAAAAAAAAAAAAAAAAAAAAAAAAAAAAAAAAAAAAAAAAAAAAAAAAAAAAAAAAAAAAAAAAAAAAAAAAAAAAAAAAAAAAAAAAAAAAAAAAAAAAAAAAAAAAAAAAAAAAAAAAAAAAAAAAAAAAAAAAAAAAAAAAAAAAAAAAAAAAAAAAAAAAAAAAAAAAAAAAAAAAAAAAAAAAAAAAAAAAAAAAAAAAAAAAAAAAAAAAAAAAAAAAAAAAAAAAAAAAAAACwAAAAAYABgAEAI/wABCBxIsKDBgwgTKlzIsKHDhxAFSJxIsWJFABgBCNjIseNGACBDihxJsqRJkwJSCgDAEoCAlwICyJxJs2ZNAThz4gTAE4CAnwIACB1KtKjRo0iTDhXAVECAp1CjSpU6oKrVqgGyas0KoKvXrgLCig0LoKzZs2jTql17VoBbAQHiyo07oK7dugHyBgDAF4CAvwICCA4AoLDhw4gTK17MuLHjxAEiS54cGYDly5gza97MubPnz6A9BxhNuvRoAagFAFjNurXr17Bjy55Nu/bsALgDENhNYIDv374BCB9OvLjx48iTK18uXIDz59CjCwhAvbr169cBaN/Ovbv37+DBC/8YT768eQEB0qtfn16AewEB4sufTz8AgPv48+vfz7+/AIACBA4UAMAggAAJFS5kGEDAQwEBJE6kKFHARQEANG7k2NHjR5AhPwogKSDASZQpVa5ECcDlS5gxZc6kWdPmTZw5de6kGcBnAABBhQ4lWtTo0aMClAoA0BSAAKgCAkwNIMDqVaxZswLg2tXrV7BhxY4l+1XAWbRnA6xlu1bAW7hx3wagG0DAXQEB9AYA0BdAAMABBAwWEMBwAAGJBQBg3NjxY8iRJQegHGDAZcyZNQ8I0NnzZ9CgAYwmXdr0adSpVa9WHcD1a9cDZA8IUDsAANy5de/m3dv3b+DBhfMWUFz/QADkyZUjB9Dc+XPo0aVPp17d+vXqAbRv1z7A+4AA4cWHB1De/Hn06dWvZ9/efXsB8QUEoF+f/gD8AwjsJzDAP8ABAAYSLGjwIMKEChcaFODwIUSHASZSnCjgIsaLATZy3CjgowAAIkeSLGnyJEoBKleybCkgAMyYMmEKqCkgAM6cOncGEOBTAICgQocSLWr0KNKkAAQwbco0ANSoUqEKqCoAANasWrdy7er1K9itAcaSLWvWrIC0atMCaOv2Ldy4cufSrWv3Lt68evfy7ev3b94AggMAKGz4MOLEihczboxYAOTIkidPBmAZgIDMmjdnBuD5M+jQokeTJi3gtAAA/6oBCGgtIADsAAJm065t2zaA3Lp38+7t+zfw4LwFEBcA4DgAAcoFBGju/Dl06AKmU58O4DoAAdoFAOju/Tv48OLHk/cu4Dz68wHWs18v4D38+O8D0A8g4L6AAPoDAOgPAGAAgQEEFBQQAGEAAQsFAHD4EGJEiRMpCrAoIEBGjRs5chzwEeTHACNJjgRwEuVJAStZrgTwEmZMmTNp1owZAGeAATt59vQ5IEBQoUOJEgVwFGlSpUuZNnX6FIAAqQICVLVadUBWrVkDdA0AACwAAWMFBDAbAEBatWvZtnX7Fm5cuWkD1LVbd0DeAQH4BgDwF3BgwYMJFzZ8GHHiwQEYN/92zBhAZMmTKVe2fBlzZs2bKwvwLCBAaNGjQwMwfRp1atWrWbd2/Rq26gCzadeeLQC3AAC7eff2/Rt4cOHDiRf/HQB5cuQDmA8I8Bz6cwDTqVe3fh17du3buXefHgB8AALjCQwwf948APXr2bd3/x5+fPnz5QuwLyBAfv35B/QfAJCAQAIDCg4AgDChwoUMGzp8CPGhgIkUK1oUECCjxo0cOQL4CDKkyJEkS5o8CUCAypUsVQZ4CfOlgJk0Zwa4ifOmgJ0CAPj8CTSo0KFEiQo4ijSpUgEBmjp92lSAVAEBqlq9ijUAgK1cu3r9CjZsVwFky5o9KyCA2rVs1Qp4KyD/gNy5dOsGEIBXAIC9fPv6/Qs4cF8BhAsTBoAYQIDFjBs7DiAgsoAAlCtbpiwgswAAnDt7/gw6tOjRpEcLOI36dIDVrFuvFgBbAIDZtGvbvo07t+7dtgX4FhAguPDhxIsLB4A8ufLlzJs7fw49OvIA1Ktbv35dgPbt2gF4/w4+vPjx5MubP48+vfr17Nu7fw8/vvz59OEHuB8AgP79/Pv7BwhA4ECCBQ0eRJhQ4cKCARwGABBR4kSKFS1exJiRogCOHT1+/AhAJAABJU2eLAlA5UqWLV2+hBlTZksBNW3exIkTwE4AAnz+BOoTwFCiRY0eRZo0qQCmAgA8BSBAqoAA/1UDCMCaVevWrQC8fgUbVuxYsmXNhhWQVgAAtgAEvBUQQG4AAXXt3sWLF8Bevn39/gUcWPBgvwIMCwCQGIAAxgICPIYcWbJkAZUtVwaQGYAAzgIAfAYdWvRo0qVNgxaQWgAA1gAEvBYQQPZs2rVrC8CdGzcA3gAE/BYAQPhw4sWNH0eefLgA5s2ZB4AeHboA6tWtUw+QPYAA7gICfA8AQDyAAOUDCEAvIMD6AALcCwAQX/58+vXt3xeQX3/+AP39AwwQQADBggYJBkgYQABDAQEeBgAgEUCAigEEYBQQYGMAAR4FAAgpciTJkiZPCkgpIADLli5fvhwgc6bMADZv2v8EoHOnTgE+f/oEIHQo0aJGjyIlKmCpgABOn0KNGnUA1apUA2DNihUA165cBYANCxYA2bJmz6JNq9ZsgLYBBsCNK3fugAB27+LNmxcA375+/wIOLHgwYQABDgcYoHgx48YDAkCOLHnyZACWL2POrHkz586eAQgILSAA6dKkB6BOjToA6wAAXgMQIFtAgNoBAODOrXs3796+fwPfLWC4gADGjxsfoHy58gDOAwCIDkAAdQEBrgcAoH079+7ev4MPL3689gDmz5sfoH5AgPYBAMCPL38+/fr27+PPrx9+gP7+AQYIMIDggAAHAwBQuJBhQ4cPIUaUOJGiwwAXMWa8CID/Y0ePH0GGFDmSZEmTIAOkVLkyJQCXL2HGlDmTZk2bN3HKFLBTQACfP4H6BDCUaFGjR5EmVbqUadOhAqAKCDCVatWpALBm1bqVa1evX8GGFcs1QFmzZ8sKUCsAQFu3b+HGlTuXbl27d9sG0LuXr14BfwUAEDyYcGHDhxEnVryYseEAjyE/HjB5QADLly0D0LyZc2fPn0GHFj1adADTp00PUD0gQGvXrQHElj2bdm3bt3Hn1r07dgDfAQgEJzCAeHHiAJAnV76ceXPnz6FHl448QPUABLATGLCd+3YA38GHFz+efHnz59GfF7BeQAD3790PkD+AQH0CA/APALCff3///wABCBxIsKDBgwgTKhQooKGAABAjQhxAcQCBiwQGaBwAoKPHjyBDihxJsiRJAShTqlwpIIDLlzBjxgRAs6bNmzhz6tzJ86aAn0CDChUQoKjRo0iRAljKtKnTp1CjSp0KQIDVq1itBtjKdauAr2C/BhhLdqyAswIAqF3Ltq3bt3DjygUgoK7du3UD6N2rV4Dfv34DCB4sWIBhAQASK17MuLHjx48FSJ5MubKAAJgza8YsoLOAAKBDix4dAIDp06hTq17NuvVpAbBjy54tIIDt27htC9gtIIDv38CDBwBAvLjx48iTKzcuoLnz59AFBJhOvfp0AdgFBNjOvbv3AALCC/8AQL68+fPo06tXL6C9+/fwBQSYT7/+fAH4BQTYz7+/f4ABBAwUAMDgQYQJFS5kiFDAQ4gPAUwEEMDiRYwZAwjgKCDAR5AhPwogKQDASZQpVa5k2dIlSgExZcYEUBNAAJw5de4MIMCngABBhQ4NKsCoAABJlS5l2tTpU6hRoQqgWpVqAKxZtWIV0FUAALBhxY4lW9bsWbRpyQpg25ZtALhx5cIVUFcAALx59e7l29fvX8B7BQwWEMDwYcSJFR8G0NjxY8iRJU+mXNlyYwGZBQTg3NnzZ9CdAYwmXdr0adSpVa9mPTrAa9ixZcsWUNt2bQC5de/m3dv3b+DBhecOUNwX+HHkyAUsZ74cwHPo0aVPp17d+nUAAQEAOw==\"/><br/><center>Feature 10</center></td><td style=\"border: 1px solid black;\"><img style=\"image-rendering: pixelated;\" class=\"MNIST_CNN_conv2D_1_feature11\" src=\"data:image/gif;base64,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\"/><br/><center>Feature 11</center></td><td style=\"border: 1px solid black;\"><img style=\"image-rendering: pixelated;\" class=\"MNIST_CNN_conv2D_1_feature12\" src=\"data:image/gif;base64,R0lGODdhYABgAIcAAPb6/gAAAAAAAAAAAAAAAAAAAAAAAAAAAAAAAAAAAAAAAAAAAAAAAAAAAAAAAAAAAAAAAAAAAAAAAAAAAAAAAAAAAAAAAAAAAAAAAAAAAAAAAAAAAAAAAAAAAAAAAAAAAAAAAAAAAAAAAAAAAAAAAAAAAAAAAAAAAAAAAAAAAAAAAAAAAAAAAAAAAAAAAAAAAAAAAAAAAAAAAAAAAAAAAAAAAAAAAAAAAAAAAAAAAAAAAAAAAAAAAAAAAAAAAAAAAAAAAAAAAAAAAAAAAAAAAAAAAAAAAAAAAAAAAAAAAAAAAAAAAAAAAAAAAAAAAAAAAAAAAAAAAAAAAAAAAAAAAAAAAAAAAAAAAAAAAAAAAAAAAAAAAAAAAAAAAAAAAAAAAAAAAAAAAAAAAAAAAAAAAAAAAAAAAAAAAAAAAAAAAAAAAAAAAAAAAAAAAAAAAAAAAAAAAAAAAAAAAAAAAAAAAAAAAAAAAAAAAAAAAAAAAAAAAAAAAAAAAAAAAAAAAAAAAAAAAAAAAAAAAAAAAAAAAAAAAAAAAAAAAAAAAAAAAAAAAAAAAAAAAAAAAAAAAAAAAAAAAAAAAAAAAAAAAAAAAAAAAAAAAAAAAAAAAAAAAAAAAAAAAAAAAAAAAAAAAAAAAAAAAAAAAAAAAAAAAAAAAAAAAAAAAAAAAAAAAAAAAAAAAAAAAAAAAAAAAAAAAAAAAAAAAAAAAAAAAAAAAAAAAAAAAAAAAAAAAAAAAAAAAAAAAAAAAAAAAAAAAAAAAAAAAAAAAAAAAAAAAAAAAAAAAAAAAAAAAAAAAAAAAAAAAAAAAAAAAAAAAAAAAAAAAAAAAAAAAAAAAAAAAAAAAAAAAAAAAAAAAAAAAAAAAAAAAAAAAAAAAAAAAAAAAAAAAAAAAAAAAAAAAAAAAAAAAAAAAAAAAAAAAAAAAAAAAAAAAAAAAAAAAAAAAAAAAAAAAAAAAAAAAAAAAAAAAAAAAAAAAAAAAAAAAAAAAAAAAAAAAAAAAAAAAAAAAAAAAAAAAAAAACwAAAAAYABgAEAInAABCBxIsKDBgwgTKlzIsKHDhxAjSpxIsaLFixgzatzIsaPHjyBDihxJsqTJkyhTqlzJsqXLlzBjypxJs6bNmzhz6tzJs6fPn0CDCh1KtKjRo0iTKl3KtKnTp1CjSp1KtarVq1izat3KtavXr2DDih1LtqzZs2jTql3Ltq3bt3Djyp1Lt67du3jz6t3Lt6/fv4ADCx5MuLDhwyQDAgA7\"/><br/><center>Feature 12</center></td><td style=\"border: 1px solid black;\"><img style=\"image-rendering: pixelated;\" class=\"MNIST_CNN_conv2D_1_feature13\" src=\"data:image/gif;base64,R0lGODdhYABgAIcAAPT5/tjn9OLt98nc7wAAAAAAAAAAAAAAAAAAAAAAAAAAAAAAAAAAAAAAAAAAAAAAAAAAAAAAAAAAAAAAAAAAAAAAAAAAAAAAAAAAAAAAAAAAAAAAAAAAAAAAAAAAAAAAAAAAAAAAAAAAAAAAAAAAAAAAAAAAAAAAAAAAAAAAAAAAAAAAAAAAAAAAAAAAAAAAAAAAAAAAAAAAAAAAAAAAAAAAAAAAAAAAAAAAAAAAAAAAAAAAAAAAAAAAAAAAAAAAAAAAAAAAAAAAAAAAAAAAAAAAAAAAAAAAAAAAAAAAAAAAAAAAAAAAAAAAAAAAAAAAAAAAAAAAAAAAAAAAAAAAAAAAAAAAAAAAAAAAAAAAAAAAAAAAAAAAAAAAAAAAAAAAAAAAAAAAAAAAAAAAAAAAAAAAAAAAAAAAAAAAAAAAAAAAAAAAAAAAAAAAAAAAAAAAAAAAAAAAAAAAAAAAAAAAAAAAAAAAAAAAAAAAAAAAAAAAAAAAAAAAAAAAAAAAAAAAAAAAAAAAAAAAAAAAAAAAAAAAAAAAAAAAAAAAAAAAAAAAAAAAAAAAAAAAAAAAAAAAAAAAAAAAAAAAAAAAAAAAAAAAAAAAAAAAAAAAAAAAAAAAAAAAAAAAAAAAAAAAAAAAAAAAAAAAAAAAAAAAAAAAAAAAAAAAAAAAAAAAAAAAAAAAAAAAAAAAAAAAAAAAAAAAAAAAAAAAAAAAAAAAAAAAAAAAAAAAAAAAAAAAAAAAAAAAAAAAAAAAAAAAAAAAAAAAAAAAAAAAAAAAAAAAAAAAAAAAAAAAAAAAAAAAAAAAAAAAAAAAAAAAAAAAAAAAAAAAAAAAAAAAAAAAAAAAAAAAAAAAAAAAAAAAAAAAAAAAAAAAAAAAAAAAAAAAAAAAAAAAAAAAAAAAAAAAAAAAAAAAAAAAAAAAAAAAAAAAAAAAAAAAAAAAAAAAAAAAAAAAAAAAAAAAAAAAAAAAAAAAAAAAAAAAAAAAAAAAAAAAAAAAAAAAAAAAAAAAAAAAAAAAAAAAACwAAAAAYABgAEAI/wABCBxIsKDBgwgTKlzIsKHDhxAjSpxIsaLFixgxBtjIsaPHjyA7ChhJcmSAkwEAqFzJsqXLlzBZCphJcyaAmwAC6AwwoOcAAUCDAg1ANICAowIAKF3KtKnTp1CjSp0qVYBVAQGyBgDAtavXr2DDih1LtqzZs2jTql3Lti1XAXAFAJhLd66AuwIC6A0AoK/fv4ADCx5MuLDhw4EFKBYQoHGAAZAHCJgsAIDly5gza97MubPnz5oFiBYQoLTp06gDAFjNurXr17Bjy54tO4Dt27hz674NoLfv38CDCx9OvDiAAMiTK1/OPDmA59CjS59Ovbr169iza9/Ovbv37+DDi/8fT758gPMBAKhfr16AewEA4gMIQL8+fQD48+vfz7+/f4ACBA4kKDDAQYQHBSwUEMDhQ4gRAwigKADARYwZNW7k2NHjR5AXB4wcIMCkAAApVa5k2dLlS5gxZc6kWdPmTZw5de7k2dPnTgFBhQYNUDQAAKRJlS5l2tTpU6hRpTINUNXq1aoCtAoA0NXrV7BhxY4lW5asALQCAqxl29atWwFxBQCgW9fuXbx59e7lC0DAXwEBBA8mXLgwAMSJFS9m3NjxY8gABEwWEMDyZcyZMwvgLADAZ9ChRY8mXdr0adSpVa9m3dr1a9ixZc+mXdv2bdy5de/m3ds37wDBAwAgXpz/uADkAgAsBxDA+XPnAKRPp17d+nXs2acH4N7d+3fw4b0LIF+efAD0AQCsZ9/e/Xv48dsLoF/fPv0A+fXnF9BfAMAAAgcSLBhAAEIBABYybOjwIcSIEiEKqGixIoCMAAJwDDDg4wABIkeKDGAygICUAgCwbOnyJcyYMmfSrElzAM4BAnYKAODzJ9CgQocSLWr0KFKjApYKCOA0AICoUqdSrWr1KtasWrdy7er1K9iwYseSLWv2LNq0aqsKaCsAANy4cAXQFRDgbgAAevfy7ev3L+DAggcT9ivgMOLDARYHAOD4MeTIkidTrmz5MmbJAjYLCOA5wIDQAwSQFgDgNOrU/6pXs27t+jXs2KcD0K5tm7aA3AIA8O7t+zfw4MKHEy8OXAByAQGWM2/uPACA6NKnU69u/Tr27NqjC+guIAD48OLHjxdgXgCA9OrXs2/v/j38+PAD0K9v/z7++gD28+/vHyAAgQMJFjR4EGFCggIYCgjwEGJEiRIBVLR4EWNGjRs5duQYAGRIkSNJhgRwEmVKlStZtnT50qUAmQIC1LR5EydOATsFAPD5E2hQoUOJFjV6FGlSpUuZNnX6FGpUqVOpVrV6FWtWrVu5dvX6FWxYsWPJljV7Fm3asAHYBgDwFu5bAXMFALALIEBevXkB9PX7F3BgwYMJFzbcN0DiAAAYN/9mLACyAACTAQSwfNkyAM2bOXf2/Bl06M0BSJc2fRp1atMCWLdmHQB2AACzade2fRt3bt24A/T2/Rt4cOG/BRQ3XjxA8gAAmDd3/hx6dOnOBVS3fr16AO3btQvwLiBAePHjyQcQcF4AAPXr2bd3/x5+/PcC6Ne3Tz9Afv35BfQXADCAwIEECwYQgFAAgIUMGzp8CDGiRIgCKlqsCCAjgAAcAwz4OECAyJEiA5gMICClAAAsW7p8CTOmzJk0Xwq4ifMmgJ0AAvgMMCDoAAFEixINgDSAgKUCADh9CjWq1KlUq1q9anWA1gECugoAADas2LFky5o9izatWrQD2g4QAFf/AIC5dOvavYs3r969fPvuFQBYQIDBAQAYPow4seLFjBs7fgzZsYDJAgJYDgAgs+bNnDt7/gw6tOjRpEubPo06terVrFu7fg07tuzZtGvbvo07t+7dnQX4FgAguPDgAooLCIA8AIDlzJs7fw49uvTp1KcLuC4AgPbt2gV4FxAgfAAA5MubP48+vfr17Nu7Ry8gvvz4AeoHAIA/v/79/Pv7BwhA4ECCBQ0eRJhwoACGDRkGgBgAwESKFS1exJhR40aOHS8KACkgwMgAA0wOEJBSAACWLV2+hBlT5kyaNW2yFJBTQACeAQb8HCBAqAAARY0eRZpU6VKmTZ0+LRpA6lSq/1IFXBUAQOtWrl29fgUbVuxYsloDnEWb9qwAtgIAvIUbV+5cunXt3sU7V8BeAQH8/gUcOAAAwoUNH0acWPFixo0ZC4AsIMBkypUtBwCQWfNmzp09fwYdWnRmAaUFBECdWvXq1QJcCwAQW/Zs2rVt38adW3dsAb0FBAAeXPjw4QKMCwCQXPly5s2dP4ceHXoA6tWtX8deHcB27t29fwcfXvx48t8DnEefXv169ADcv4cfX/58+vXt1xeQX0AA/v39AwwgcCBBAAYPIkyocCHDhg4fKhQgUUCAihYvYsQIYCPHjh4/ggwpcqTIACZPokyp8iSAli5fwowpcybNmjZjBkrIqXMnz546AQANKnQo0aJGjyI9KmCpgABOn0KNGlUAVQEArmLNqnUr165ev4K9KmCsgABmz6JNm1YAWwEA3sKNK3cu3bp27wIICAA7\"/><br/><center>Feature 13</center></td><td style=\"border: 1px solid black;\"><img style=\"image-rendering: pixelated;\" class=\"MNIST_CNN_conv2D_1_feature14\" src=\"data:image/gif;base64,R0lGODdhYABgAIcAAPX6/tzp9uTu+AAAAAAAAAAAAAAAAAAAAAAAAAAAAAAAAAAAAAAAAAAAAAAAAAAAAAAAAAAAAAAAAAAAAAAAAAAAAAAAAAAAAAAAAAAAAAAAAAAAAAAAAAAAAAAAAAAAAAAAAAAAAAAAAAAAAAAAAAAAAAAAAAAAAAAAAAAAAAAAAAAAAAAAAAAAAAAAAAAAAAAAAAAAAAAAAAAAAAAAAAAAAAAAAAAAAAAAAAAAAAAAAAAAAAAAAAAAAAAAAAAAAAAAAAAAAAAAAAAAAAAAAAAAAAAAAAAAAAAAAAAAAAAAAAAAAAAAAAAAAAAAAAAAAAAAAAAAAAAAAAAAAAAAAAAAAAAAAAAAAAAAAAAAAAAAAAAAAAAAAAAAAAAAAAAAAAAAAAAAAAAAAAAAAAAAAAAAAAAAAAAAAAAAAAAAAAAAAAAAAAAAAAAAAAAAAAAAAAAAAAAAAAAAAAAAAAAAAAAAAAAAAAAAAAAAAAAAAAAAAAAAAAAAAAAAAAAAAAAAAAAAAAAAAAAAAAAAAAAAAAAAAAAAAAAAAAAAAAAAAAAAAAAAAAAAAAAAAAAAAAAAAAAAAAAAAAAAAAAAAAAAAAAAAAAAAAAAAAAAAAAAAAAAAAAAAAAAAAAAAAAAAAAAAAAAAAAAAAAAAAAAAAAAAAAAAAAAAAAAAAAAAAAAAAAAAAAAAAAAAAAAAAAAAAAAAAAAAAAAAAAAAAAAAAAAAAAAAAAAAAAAAAAAAAAAAAAAAAAAAAAAAAAAAAAAAAAAAAAAAAAAAAAAAAAAAAAAAAAAAAAAAAAAAAAAAAAAAAAAAAAAAAAAAAAAAAAAAAAAAAAAAAAAAAAAAAAAAAAAAAAAAAAAAAAAAAAAAAAAAAAAAAAAAAAAAAAAAAAAAAAAAAAAAAAAAAAAAAAAAAAAAAAAAAAAAAAAAAAAAAAAAAAAAAAAAAAAAAAAAAAAAAAAAAAAAAAAAAAAAAAAAAAAAAAAAAAAAAAAAAAAAAAAAAAAAAAAAAAAAAAAAAAAAAAAACwAAAAAYABgAEAI/wABCBxIsKDBgwgTKlzIsKHDhxAjSpxIsaLFixgzamwooKMAACBDihxJsqTJkyEDqAwAoKXLlzBhBpgZAIDNmzhz6tzJs6fPnzoDCA0AoKjRo0iTKl3KtKnTp1CRCphKdSqAq1izat3KtavXr2DDih1LtqzZs2jTql3Ltq3bt3Djyp1Lt67du3jz6t3Lt6/fv34DCB4sGIDhw4gTK17MuLHjx5AjJw5AOQCAy5gza97MubPnz6BDi/YsoLQAAKhTq17NurXr17Bjy55Nu7bt27hz697Nu7fv38CDCx9OvLjx48iTK1/OvLnz59CjS59Ovbp1AdgFANjOvbv37+DDi/8fT768+fPo04cPwD4AgPfw48uXH6B+AAD48+vfz7+/f4AABA4kWNDgQYIBFC5UCMDhQ4gRJU6kWNHiRYwZAQTgGADAR5AhRY4kWdLkSZQpVYoM0DIAAJgxZc6kWdPmTZw5de4EIMDnT58AhA4lWtToUaRJlS5l2rSoAKgCAEylWtXqVaxZtW7l2tXrV7BhxY4lW9bsWbRp1a5l29btW7hx5c6lW9fuXbx59e7l29fvX8CBBQ8mXNjwYcSJFS9m3NjxY8iRJU82K8CyAACZNW/m3NnzZ9ChRY8mDUDAaQEAVK9m3dr1a9ixZc+mXdv2bdy5de/m3Tt2AOABAAwnXtz/uPEAyQMAYN7c+XPo0aVPp16deQDsAQBs597du/cA4QMAIF/e/Hn06dWvZ9+efAD48eEDoF/f/n38+fXv59/fP0AAAgcSDGDwoEEAChcybOjwIcSIEidSrAggAMYAADZy7OjxI8iQIkeSLGkSQICUAQCwbOnyJcyYMmfSrGnz5ssAOgMA6OnzJ9CgQocSLWr0KFIAAZYGAOD0KdSoUqdSrWr1KtasAARw7coVANiwYseSLWv2LNq0atEKaOu2LYC4cufSrWv3Lt68evfypSvgrwAAggcTLmz4MOLEihczbgxAAGQBACZTrmz5MubMmjdz7uz5M+jQokeTLm36NOrULapXs27t+jXs2LJn065t+zbu3Lp38+7t+zfw4MKHEy9u/Djy5MqXM2/u/DnngAA7\"/><br/><center>Feature 14</center></td><td style=\"border: 1px solid black;\"><img style=\"image-rendering: pixelated;\" class=\"MNIST_CNN_conv2D_1_feature15\" src=\"data:image/gif;base64,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\"/><br/><center>Feature 15</center></td></tr><tr></tr></table></td>\n</tr>\n</table>"
      }
     },
     "8e46d35d6cfe4866ac394f9972b4606c": {
      "model_module": "@jupyter-widgets/controls",
      "model_module_version": "1.1.0",
      "model_name": "DescriptionStyleModel",
      "state": {
       "description_width": "initial"
      }
     },
     "8f3b87eb04c34744afd58033da7231c1": {
      "model_module": "@jupyter-widgets/base",
      "model_module_version": "1.0.0",
      "model_name": "LayoutModel",
      "state": {
       "width": "10%"
      }
     },
     "8fc6948e62eb4b0c965e55ab269d950b": {
      "model_module": "@jupyter-widgets/base",
      "model_module_version": "1.0.0",
      "model_name": "LayoutModel",
      "state": {
       "width": "100px"
      }
     },
     "90f2336f0709471cbe43d575c2f4055d": {
      "model_module": "@jupyter-widgets/base",
      "model_module_version": "1.0.0",
      "model_name": "LayoutModel",
      "state": {
       "width": "100%"
      }
     },
     "9166bcbd068a47abbf5f91e0f4038428": {
      "model_module": "@jupyter-widgets/controls",
      "model_module_version": "1.1.0",
      "model_name": "FloatTextModel",
      "state": {
       "description": "Feature scale:",
       "layout": "IPY_MODEL_b61a6b4469b04ab1a56f53a289607f6f",
       "step": null,
       "style": "IPY_MODEL_7af9cdbc3dcb4f7c8dcd5fcb0f6a1015",
       "value": 4
      }
     },
     "928ef7e0cc054b96891b2f51988508e8": {
      "model_module": "@jupyter-widgets/base",
      "model_module_version": "1.0.0",
      "model_name": "LayoutModel",
      "state": {}
     },
     "92c17305f2344c50a65f38d810175bce": {
      "model_module": "@jupyter-widgets/base",
      "model_module_version": "1.0.0",
      "model_name": "LayoutModel",
      "state": {}
     },
     "92d227ab31114afb9616bdd4af7e5bdb": {
      "model_module": "@jupyter-widgets/controls",
      "model_module_version": "1.1.0",
      "model_name": "VBoxModel",
      "state": {
       "children": [
        "IPY_MODEL_f6627f50c9564261978caa56649fa4ff",
        "IPY_MODEL_00eb6c39c779457a8837adaaf9731602"
       ],
       "layout": "IPY_MODEL_9f3da69168d8434ab4d7c6b618b0928c"
      }
     },
     "930423977dca4fc39a213fd9c8a17fae": {
      "model_module": "@jupyter-widgets/base",
      "model_module_version": "1.0.0",
      "model_name": "LayoutModel",
      "state": {
       "width": "65%"
      }
     },
     "93236fcac7ae44de9cf0d92d384cbc7b": {
      "model_module": "@jupyter-widgets/base",
      "model_module_version": "1.0.0",
      "model_name": "LayoutModel",
      "state": {}
     },
     "939182690fb546e293ce97c31af034b8": {
      "model_module": "@jupyter-widgets/controls",
      "model_module_version": "1.1.0",
      "model_name": "DescriptionStyleModel",
      "state": {
       "description_width": ""
      }
     },
     "93a9c09eb9f4482da9857db52632c67f": {
      "model_module": "@jupyter-widgets/controls",
      "model_module_version": "1.1.0",
      "model_name": "ButtonStyleModel",
      "state": {}
     },
     "93feb587d51b4950933191f0b21405f0": {
      "model_module": "@jupyter-widgets/controls",
      "model_module_version": "1.1.0",
      "model_name": "HBoxModel",
      "state": {
       "children": [
        "IPY_MODEL_2026c03ab44d4a3ea239cb7e39f48dd8",
        "IPY_MODEL_70fe78bdbf8d4fe59e612e23809c6982"
       ],
       "layout": "IPY_MODEL_c2e29a5c6bb84cda8acd61581b1496ee"
      }
     },
     "950dbfb5b8f54737b1352e4e1c6675d4": {
      "model_module": "@jupyter-widgets/base",
      "model_module_version": "1.0.0",
      "model_name": "LayoutModel",
      "state": {
       "width": "52%"
      }
     },
     "9563bb81ba804c2b99c4439ea56f4ad5": {
      "model_module": "@jupyter-widgets/controls",
      "model_module_version": "1.1.0",
      "model_name": "SelectModel",
      "state": {
       "_options_labels": [
        "input",
        "flat_input",
        "hidden1",
        "hidden2",
        "output"
       ],
       "description": "Layer:",
       "index": 4,
       "layout": "IPY_MODEL_98edd296784c4cdd8599e87f5961cce6",
       "rows": 1,
       "style": "IPY_MODEL_c2d70c66304246a98fefe36b80e2c5a1"
      }
     },
     "957bec2fb1be44dabc5b36736ce68cf1": {
      "model_module": "@jupyter-widgets/controls",
      "model_module_version": "1.1.0",
      "model_name": "ButtonModel",
      "state": {
       "icon": "save",
       "layout": "IPY_MODEL_8f3b87eb04c34744afd58033da7231c1",
       "style": "IPY_MODEL_5474de70c97c41b1b27db71a32c447e8"
      }
     },
     "957d5dd1e6414bc29040d0a831de5cfd": {
      "model_module": "@jupyter-widgets/base",
      "model_module_version": "1.0.0",
      "model_name": "LayoutModel",
      "state": {
       "height": "50px",
       "width": "100%"
      }
     },
     "97093ae6ce8c4b849363c94c0ebdf09a": {
      "model_module": "@jupyter-widgets/base",
      "model_module_version": "1.0.0",
      "model_name": "LayoutModel",
      "state": {
       "height": "40px"
      }
     },
     "973d273a6c604946802afcccf077e8d0": {
      "model_module": "@jupyter-widgets/base",
      "model_module_version": "1.0.0",
      "model_name": "LayoutModel",
      "state": {
       "width": "100%"
      }
     },
     "98a016fe0b9545bcb06ce49a651c50e1": {
      "model_module": "@jupyter-widgets/base",
      "model_module_version": "1.0.0",
      "model_name": "LayoutModel",
      "state": {}
     },
     "98e34cf221d1441392ad9b94b4be3325": {
      "model_module": "@jupyter-widgets/base",
      "model_module_version": "1.0.0",
      "model_name": "LayoutModel",
      "state": {}
     },
     "98edd296784c4cdd8599e87f5961cce6": {
      "model_module": "@jupyter-widgets/base",
      "model_module_version": "1.0.0",
      "model_name": "LayoutModel",
      "state": {}
     },
     "9a97a002b75843bba33be848e71dda45": {
      "model_module": "@jupyter-widgets/base",
      "model_module_version": "1.0.0",
      "model_name": "LayoutModel",
      "state": {
       "height": "50px",
       "width": "100%"
      }
     },
     "9b2388ecb83241cfbedca082c31d2716": {
      "model_module": "@jupyter-widgets/controls",
      "model_module_version": "1.1.0",
      "model_name": "FloatTextModel",
      "state": {
       "description": "Rightmost color maps to:",
       "layout": "IPY_MODEL_5139d7140d7141248a05127d6a04ab22",
       "step": null,
       "style": "IPY_MODEL_507b9bd9cc8c456391aa2e914c62f06b",
       "value": 1
      }
     },
     "9b3fa60ece3645cd95c04ffe02a75b49": {
      "model_module": "@jupyter-widgets/controls",
      "model_module_version": "1.1.0",
      "model_name": "DescriptionStyleModel",
      "state": {
       "description_width": "initial"
      }
     },
     "9b485eed42894e58863f01a80d6cc790": {
      "model_module": "@jupyter-widgets/controls",
      "model_module_version": "1.1.0",
      "model_name": "ButtonModel",
      "state": {
       "description": "Play",
       "icon": "play",
       "layout": "IPY_MODEL_0b506a86ae914094a97e97fcc50e86fe",
       "style": "IPY_MODEL_a30c628415dd42aea90901e93e8fd860"
      }
     },
     "9ba693b4f09b432e8f453a6bcb7cf77b": {
      "model_module": "@jupyter-widgets/base",
      "model_module_version": "1.0.0",
      "model_name": "LayoutModel",
      "state": {
       "width": "100%"
      }
     },
     "9bf9edb78f404a5d82c12cf7eaa6134c": {
      "model_module": "@jupyter-widgets/base",
      "model_module_version": "1.0.0",
      "model_name": "LayoutModel",
      "state": {
       "width": "100%"
      }
     },
     "9de71d62717d474e8626290a2834ed84": {
      "model_module": "@jupyter-widgets/controls",
      "model_module_version": "1.1.0",
      "model_name": "HTMLModel",
      "state": {
       "layout": "IPY_MODEL_1c360ccbf295407d95685b3c4ace37fc",
       "style": "IPY_MODEL_d8948bcf485d48afab95fca66e70c972",
       "value": "\n<table align=\"center\" style=\"width: 100%;\">\n <tr>\n  <td valign=\"top\"><p style=\"text-align:center\"><svg id='MNIST_CNN' xmlns='http://www.w3.org/2000/svg' image-rendering=\"pixelated\" width=\"800.0000000000001px\" height=\"190.47619047619048px\">\n <g  transform=\"rotate(90) translate(0 -800.0000000000001)\" >\n  <svg viewBox=\"0 0 350 1470\" width=\"190.47619047619048px\" height=\"800.0000000000001px\">\n    <defs>\n        <marker id=\"arrow\" markerWidth=\"10\" markerHeight=\"10\" refX=\"9\" refY=\"3\" orient=\"auto\" markerUnits=\"strokeWidth\">\n          <path d=\"M0,0 L0,6 L9,3 z\" fill=\"black\" />\n        </marker>\n    </defs><rect x=\"74.0\" y=\"24\" width=\"202\" height=\"52\" style=\"fill:none;stroke:black;stroke-width:2\"/><image id=\"picture-dashboard-MNIST_CNN-935832_output_targets_1\" class=\"picture-dashboard-MNIST_CNN-935832_output_targets\" x=\"75.0\" y=\"25\" height=\"50\" width=\"200\" preserveAspectRatio=\"none\" href=\"data:image/gif;base64,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\"><title>Layer: output (output)\n output range: (0.0, 1.0)\n shape = (10,)\n Keras class = Dense\n activation = softmax</title></image><text x=\"288.0\" y=\"52.0\" font-family=\"monospace\" font-size=\"12\" text-anchor=\"middle\" fill=\"black\" alignment-baseline=\"central\"  transform=\"rotate(-90 288.0 52.0) translate(2)\" >targets</text><line x1=\"87.5\" y1=\"80\" x2=\"262.5\" y2=\"80\" stroke=\"green\" stroke-width=\"2\"><title></title></line><rect x=\"74.0\" y=\"84\" width=\"202\" height=\"52\" style=\"fill:none;stroke:black;stroke-width:2\"/><image id=\"picture-dashboard-MNIST_CNN-935832_output-rotated_1\" class=\"picture-dashboard-MNIST_CNN-935832_output-rotated\" x=\"75.0\" y=\"85\" height=\"50\" width=\"200\" preserveAspectRatio=\"none\" href=\"data:image/gif;base64,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\"><title>Layer: output (output)\n output range: (0.0, 1.0)\n shape = (10,)\n Keras class = Dense\n activation = softmax</title></image><text x=\"288.0\" y=\"112.0\" font-family=\"monospace\" font-size=\"12\" text-anchor=\"middle\" fill=\"black\" alignment-baseline=\"central\"  transform=\"rotate(-90 288.0 112.0) translate(2)\" >output</text><line x1=\"175.0\" y1=\"164\" x2=\"175.0\" y2=\"137\" stroke=\"black\" stroke-width=\"2\" marker-end=\"url(#arrow)\"><title>Weights from hidden to output\n output/kernel has shape (30, 10)\n output/bias has shape (10,)</title></line><rect x=\"74.0\" y=\"164\" width=\"202\" height=\"52\" style=\"fill:none;stroke:black;stroke-width:2\"/><image id=\"picture-dashboard-MNIST_CNN-935832_hidden-rotated_2\" class=\"picture-dashboard-MNIST_CNN-935832_hidden-rotated\" x=\"75.0\" y=\"165\" height=\"50\" width=\"200\" preserveAspectRatio=\"none\" href=\"data:image/gif;base64,R0lGODdhHgABAIcAAPT5/tjn9OPt9wAAAAAAAAAAAAAAAAAAAAAAAAAAAAAAAAAAAAAAAAAAAAAAAAAAAAAAAAAAAAAAAAAAAAAAAAAAAAAAAAAAAAAAAAAAAAAAAAAAAAAAAAAAAAAAAAAAAAAAAAAAAAAAAAAAAAAAAAAAAAAAAAAAAAAAAAAAAAAAAAAAAAAAAAAAAAAAAAAAAAAAAAAAAAAAAAAAAAAAAAAAAAAAAAAAAAAAAAAAAAAAAAAAAAAAAAAAAAAAAAAAAAAAAAAAAAAAAAAAAAAAAAAAAAAAAAAAAAAAAAAAAAAAAAAAAAAAAAAAAAAAAAAAAAAAAAAAAAAAAAAAAAAAAAAAAAAAAAAAAAAAAAAAAAAAAAAAAAAAAAAAAAAAAAAAAAAAAAAAAAAAAAAAAAAAAAAAAAAAAAAAAAAAAAAAAAAAAAAAAAAAAAAAAAAAAAAAAAAAAAAAAAAAAAAAAAAAAAAAAAAAAAAAAAAAAAAAAAAAAAAAAAAAAAAAAAAAAAAAAAAAAAAAAAAAAAAAAAAAAAAAAAAAAAAAAAAAAAAAAAAAAAAAAAAAAAAAAAAAAAAAAAAAAAAAAAAAAAAAAAAAAAAAAAAAAAAAAAAAAAAAAAAAAAAAAAAAAAAAAAAAAAAAAAAAAAAAAAAAAAAAAAAAAAAAAAAAAAAAAAAAAAAAAAAAAAAAAAAAAAAAAAAAAAAAAAAAAAAAAAAAAAAAAAAAAAAAAAAAAAAAAAAAAAAAAAAAAAAAAAAAAAAAAAAAAAAAAAAAAAAAAAAAAAAAAAAAAAAAAAAAAAAAAAAAAAAAAAAAAAAAAAAAAAAAAAAAAAAAAAAAAAAAAAAAAAAAAAAAAAAAAAAAAAAAAAAAAAAAAAAAAAAAAAAAAAAAAAAAAAAAAAAAAAAAAAAAAAAAAAAAAAAAAAAAAAAAAAAAAAAAAAAAAAAAAAAAAAAAAAAAAAAAAAAAAAAAAAAAAAAAAAAAAAAAAAAAAAAAAAAAAAAAAAAAAAAAAAAAAAAAAAAAAAAAACwAAAAAHgABAAAIGgADABgYAIAAAAgRBgAgAIDDhw4FBABAkWJAADs=\"><title>Layer: hidden (hidden)\n output range: (0.0, +Infinity)\n shape = (30,)\n Keras class = Dense\n activation = relu</title></image><text x=\"288.0\" y=\"192.0\" font-family=\"monospace\" font-size=\"12\" text-anchor=\"middle\" fill=\"black\" alignment-baseline=\"central\"  transform=\"rotate(-90 288.0 192.0) translate(2)\" >hidden</text><line x1=\"175.0\" y1=\"244\" x2=\"175.0\" y2=\"217\" stroke=\"black\" stroke-width=\"2\" marker-end=\"url(#arrow)\"><title>Weights from flat to hidden\n hidden/kernel has shape (512, 30)\n hidden/bias has shape (30,)</title></line><rect x=\"74.0\" y=\"244\" width=\"202\" height=\"52\" style=\"fill:none;stroke:black;stroke-width:2\"/><image id=\"picture-dashboard-MNIST_CNN-935832_flat-rotated_3\" class=\"picture-dashboard-MNIST_CNN-935832_flat-rotated\" x=\"75.0\" y=\"245\" height=\"50\" width=\"200\" preserveAspectRatio=\"none\" href=\"data:image/gif;base64,R0lGODdhAAIBAIcAAPv6/efn/9fX/8jI/7e3/6mp/5aW/wAAAAAAAAAAAAAAAAAAAAAAAAAAAAAAAAAAAAAAAAAAAAAAAAAAAAAAAAAAAAAAAAAAAAAAAAAAAAAAAAAAAAAAAAAAAAAAAAAAAAAAAAAAAAAAAAAAAAAAAAAAAAAAAAAAAAAAAAAAAAAAAAAAAAAAAAAAAAAAAAAAAAAAAAAAAAAAAAAAAAAAAAAAAAAAAAAAAAAAAAAAAAAAAAAAAAAAAAAAAAAAAAAAAAAAAAAAAAAAAAAAAAAAAAAAAAAAAAAAAAAAAAAAAAAAAAAAAAAAAAAAAAAAAAAAAAAAAAAAAAAAAAAAAAAAAAAAAAAAAAAAAAAAAAAAAAAAAAAAAAAAAAAAAAAAAAAAAAAAAAAAAAAAAAAAAAAAAAAAAAAAAAAAAAAAAAAAAAAAAAAAAAAAAAAAAAAAAAAAAAAAAAAAAAAAAAAAAAAAAAAAAAAAAAAAAAAAAAAAAAAAAAAAAAAAAAAAAAAAAAAAAAAAAAAAAAAAAAAAAAAAAAAAAAAAAAAAAAAAAAAAAAAAAAAAAAAAAAAAAAAAAAAAAAAAAAAAAAAAAAAAAAAAAAAAAAAAAAAAAAAAAAAAAAAAAAAAAAAAAAAAAAAAAAAAAAAAAAAAAAAAAAAAAAAAAAAAAAAAAAAAAAAAAAAAAAAAAAAAAAAAAAAAAAAAAAAAAAAAAAAAAAAAAAAAAAAAAAAAAAAAAAAAAAAAAAAAAAAAAAAAAAAAAAAAAAAAAAAAAAAAAAAAAAAAAAAAAAAAAAAAAAAAAAAAAAAAAAAAAAAAAAAAAAAAAAAAAAAAAAAAAAAAAAAAAAAAAAAAAAAAAAAAAAAAAAAAAAAAAAAAAAAAAAAAAAAAAAAAAAAAAAAAAAAAAAAAAAAAAAAAAAAAAAAAAAAAAAAAAAAAAAAAAAAAAAAAAAAAAAAAAAAAAAAAAAAAAAAAAAAAAAAAAAAAAAAAAAAAAAAAAAAAAAAAAAAAAAAAAAAAAAAAAAAAAAAAACwAAAAAAAIBAAAI/wABCAQgIIBBAQAEAFgIIACAhxAfBpgIAAABABgzFhAgAACBAAUAAAggIACAkyhPClgZAAABAQBixjQgQACAAgAKAAAQQEAAAECDAg1AIEAAAAQEAFi6dACAAAAMBBgAAEAAAQAABADAtWuAAgECABAgAEAAAGgFCAgAQACAAQDiygUQAIBduwEEBAAAQACAAAACAxgQQACAAQAIAAgAAEAAAJAjAxAQYMAAAAEIANjMeYCAAAAEACAAIACAAABSq1YdQMAAAAEEAJhNWwCA2wEACAAAIIAAAMADCAAQAACAAAICAAAgAIDz5wICDABAPQCA69cDANjOHUAAAAEACNAQAKC8eQICBgAYAEAAgPcBBACYT39+gAACAgQQAKC/f4ADAgQAQADAAAAJAQQA0NBhwwADBAQIQADARYwDAgQAQCDAAAAABAwAACAAgAAAVAIQMCCAAAACBACgCSDAAAECAggAEADAzwAAhA4dOgDA0QACBABgyrTAgAAACAAoAADAAAEAtG4NAADAALAAABQIEADAWQAFCAQAUABAAQAABggAACAAALx5BQwgEAAAgQAAAAQAEGAAAMQFAgwAECCAAACRJU8eICAAAAECAAQEADs=\"><title>Layer: flat (hidden)\n output range: (-Infinity, +Infinity)\n Keras class = Flatten</title></image><text x=\"288.0\" y=\"272.0\" font-family=\"monospace\" font-size=\"12\" text-anchor=\"middle\" fill=\"black\" alignment-baseline=\"central\"  transform=\"rotate(-90 288.0 272.0) translate(2)\" >flat</text><line x1=\"175.0\" y1=\"324\" x2=\"175.0\" y2=\"297\" stroke=\"black\" stroke-width=\"2\" marker-end=\"url(#arrow)\"><title>Weights from maxpool2 to flat</title></line><rect x=\"74.0\" y=\"324\" width=\"202\" height=\"202\" style=\"fill:none;stroke:black;stroke-width:2\"/><image id=\"picture-dashboard-MNIST_CNN-935832_maxpool2-rotated_4\" class=\"picture-dashboard-MNIST_CNN-935832_maxpool2-rotated\" x=\"75.0\" y=\"325\" height=\"200\" width=\"200\" preserveAspectRatio=\"none\" href=\"data:image/gif;base64,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\"><title>Layer: maxpool2 (hidden)\n output range: (-Infinity, +Infinity)\n Keras class = MaxPooling2D</title></image><text x=\"288.0\" y=\"427.0\" font-family=\"monospace\" font-size=\"12\" text-anchor=\"middle\" fill=\"black\" alignment-baseline=\"central\"  transform=\"rotate(-90 288.0 427.0) translate(2)\" >maxpool2</text><text x=\"88.0\" y=\"310\" font-family=\"monospace\" font-size=\"12\" text-anchor=\"middle\" fill=\"black\" alignment-baseline=\"central\"  transform=\"rotate(-90 88.0 310) translate(2)\" >32</text><text x=\"273.0\" y=\"540\" font-family=\"monospace\" font-size=\"12\" text-anchor=\"middle\" fill=\"black\" alignment-baseline=\"central\"  transform=\"rotate(-90 273.0 540) translate(2)\" >0</text><line x1=\"175.0\" y1=\"554\" x2=\"175.0\" y2=\"527\" stroke=\"black\" stroke-width=\"2\" marker-end=\"url(#arrow)\"><title>Weights from conv2D_2 to maxpool2</title></line><rect x=\"74.0\" y=\"554\" width=\"202\" height=\"202\" style=\"fill:none;stroke:black;stroke-width:2\"/><image id=\"picture-dashboard-MNIST_CNN-935832_conv2D_2-rotated_5\" class=\"picture-dashboard-MNIST_CNN-935832_conv2D_2-rotated\" x=\"75.0\" y=\"555\" height=\"200\" width=\"200\" preserveAspectRatio=\"none\" href=\"data:image/gif;base64,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\"><title>Layer: conv2D_2 (hidden)\n output range: (0.0, +Infinity)\n dropout = 0.2\n Keras class = Conv2D\n activation = relu</title></image><text x=\"288.0\" y=\"657.0\" font-family=\"monospace\" font-size=\"12\" text-anchor=\"middle\" fill=\"black\" alignment-baseline=\"central\"  transform=\"rotate(-90 288.0 657.0) translate(2)\" >conv2D_2</text><text x=\"88.0\" y=\"540\" font-family=\"monospace\" font-size=\"12\" text-anchor=\"middle\" fill=\"black\" alignment-baseline=\"central\"  transform=\"rotate(-90 88.0 540) translate(2)\" >32</text><text x=\"273.0\" y=\"770\" font-family=\"monospace\" font-size=\"12\" text-anchor=\"middle\" fill=\"black\" alignment-baseline=\"central\"  transform=\"rotate(-90 273.0 770) translate(2)\" >0</text><text x=\"62.0\" y=\"560\" font-family=\"monospace\" font-size=\"24.0\" text-anchor=\"middle\" fill=\"black\" alignment-baseline=\"central\"  transform=\"rotate(-90 62.0 560) translate(2)\" >&#10683;</text><line x1=\"175.0\" y1=\"784\" x2=\"175.0\" y2=\"757\" stroke=\"black\" stroke-width=\"2\" marker-end=\"url(#arrow)\"><title>Weights from maxpool1 to conv2D_2\n conv2D_2/kernel has shape (5, 5, 16, 32)\n conv2D_2/bias has shape (32,)</title></line><rect x=\"74.0\" y=\"784\" width=\"202\" height=\"202\" style=\"fill:none;stroke:black;stroke-width:2\"/><image id=\"picture-dashboard-MNIST_CNN-935832_maxpool1-rotated_6\" class=\"picture-dashboard-MNIST_CNN-935832_maxpool1-rotated\" x=\"75.0\" y=\"785\" height=\"200\" width=\"200\" preserveAspectRatio=\"none\" href=\"data:image/gif;base64,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\"><title>Layer: maxpool1 (hidden)\n output range: (-Infinity, +Infinity)\n Keras class = MaxPooling2D</title></image><text x=\"288.0\" y=\"887.0\" font-family=\"monospace\" font-size=\"12\" text-anchor=\"middle\" fill=\"black\" alignment-baseline=\"central\"  transform=\"rotate(-90 288.0 887.0) translate(2)\" >maxpool1</text><text x=\"88.0\" y=\"770\" font-family=\"monospace\" font-size=\"12\" text-anchor=\"middle\" fill=\"black\" alignment-baseline=\"central\"  transform=\"rotate(-90 88.0 770) translate(2)\" >16</text><text x=\"273.0\" y=\"1000\" font-family=\"monospace\" font-size=\"12\" text-anchor=\"middle\" fill=\"black\" alignment-baseline=\"central\"  transform=\"rotate(-90 273.0 1000) translate(2)\" >0</text><line x1=\"175.0\" y1=\"1014\" x2=\"175.0\" y2=\"987\" stroke=\"black\" stroke-width=\"2\" marker-end=\"url(#arrow)\"><title>Weights from conv2D_1 to maxpool1</title></line><rect x=\"74.0\" y=\"1014\" width=\"202\" height=\"202\" style=\"fill:none;stroke:black;stroke-width:2\"/><image id=\"picture-dashboard-MNIST_CNN-935832_conv2D_1-rotated_7\" class=\"picture-dashboard-MNIST_CNN-935832_conv2D_1-rotated\" x=\"75.0\" y=\"1015\" height=\"200\" width=\"200\" preserveAspectRatio=\"none\" href=\"data:image/gif;base64,R0lGODdhGAAYAIcAAPT5/uHt99zp9QAAAAAAAAAAAAAAAAAAAAAAAAAAAAAAAAAAAAAAAAAAAAAAAAAAAAAAAAAAAAAAAAAAAAAAAAAAAAAAAAAAAAAAAAAAAAAAAAAAAAAAAAAAAAAAAAAAAAAAAAAAAAAAAAAAAAAAAAAAAAAAAAAAAAAAAAAAAAAAAAAAAAAAAAAAAAAAAAAAAAAAAAAAAAAAAAAAAAAAAAAAAAAAAAAAAAAAAAAAAAAAAAAAAAAAAAAAAAAAAAAAAAAAAAAAAAAAAAAAAAAAAAAAAAAAAAAAAAAAAAAAAAAAAAAAAAAAAAAAAAAAAAAAAAAAAAAAAAAAAAAAAAAAAAAAAAAAAAAAAAAAAAAAAAAAAAAAAAAAAAAAAAAAAAAAAAAAAAAAAAAAAAAAAAAAAAAAAAAAAAAAAAAAAAAAAAAAAAAAAAAAAAAAAAAAAAAAAAAAAAAAAAAAAAAAAAAAAAAAAAAAAAAAAAAAAAAAAAAAAAAAAAAAAAAAAAAAAAAAAAAAAAAAAAAAAAAAAAAAAAAAAAAAAAAAAAAAAAAAAAAAAAAAAAAAAAAAAAAAAAAAAAAAAAAAAAAAAAAAAAAAAAAAAAAAAAAAAAAAAAAAAAAAAAAAAAAAAAAAAAAAAAAAAAAAAAAAAAAAAAAAAAAAAAAAAAAAAAAAAAAAAAAAAAAAAAAAAAAAAAAAAAAAAAAAAAAAAAAAAAAAAAAAAAAAAAAAAAAAAAAAAAAAAAAAAAAAAAAAAAAAAAAAAAAAAAAAAAAAAAAAAAAAAAAAAAAAAAAAAAAAAAAAAAAAAAAAAAAAAAAAAAAAAAAAAAAAAAAAAAAAAAAAAAAAAAAAAAAAAAAAAAAAAAAAAAAAAAAAAAAAAAAAAAAAAAAAAAAAAAAAAAAAAAAAAAAAAAAAAAAAAAAAAAAAAAAAAAAAAAAAAAAAAAAAAAAAAAAAAAAAAAAAAAAAAAAAAAAAAAAAAAAAAAAAAAAAAAAAAAAAAAAAAAAAAAAAAAAAAAAAAAAAAAAAACwAAAAAGAAYAEAI/wABCBxIsKDBgwMDAFjIMAAAAAECAJhIsSIAAQAyaty4UQCAAABCAggAoKTJkyhTnhQAoCWAAABiygQQIACAmzhz6tyZMwCAn0CDCh1K9GcAAEiTJg0QAIDTp1CdCggAoGpVAQIAaAUgIACAr2DDAgggQACAs2jTBggAoK3bt3Djvg0AoK7du3jz6t3Lt69fvwEACB5MuLBhwQEAKF68WACAAAAiS54MQIBlAJgxCwDAGYAAAKBDiw4QAIBpAAEEAFjNWgCA17BjB5gNIACA27hxCwDAu3dvAQEACB9OfLiAAACSKwcQAIDz59ChCwAQAID169izawcQAID37+DDiwYfT748+IAAOw==\"><title>Layer: conv2D_1 (hidden)\n output range: (0.0, +Infinity)\n dropout = 0.2\n Keras class = Conv2D\n activation = relu</title></image><text x=\"288.0\" y=\"1117.0\" font-family=\"monospace\" font-size=\"12\" text-anchor=\"middle\" fill=\"black\" alignment-baseline=\"central\"  transform=\"rotate(-90 288.0 1117.0) translate(2)\" >conv2D_1</text><text x=\"88.0\" y=\"1000\" font-family=\"monospace\" font-size=\"12\" text-anchor=\"middle\" fill=\"black\" alignment-baseline=\"central\"  transform=\"rotate(-90 88.0 1000) translate(2)\" >16</text><text x=\"273.0\" y=\"1230\" font-family=\"monospace\" font-size=\"12\" text-anchor=\"middle\" fill=\"black\" alignment-baseline=\"central\"  transform=\"rotate(-90 273.0 1230) translate(2)\" >0</text><text x=\"62.0\" y=\"1020\" font-family=\"monospace\" font-size=\"24.0\" text-anchor=\"middle\" fill=\"black\" alignment-baseline=\"central\"  transform=\"rotate(-90 62.0 1020) translate(2)\" >&#10683;</text><line x1=\"175.0\" y1=\"1244\" x2=\"175.0\" y2=\"1217\" stroke=\"black\" stroke-width=\"2\" marker-end=\"url(#arrow)\"><title>Weights from input to conv2D_1\n conv2D_1/kernel has shape (5, 5, 1, 16)\n conv2D_1/bias has shape (16,)</title></line><rect x=\"74.0\" y=\"1244\" width=\"202\" height=\"202\" style=\"fill:none;stroke:black;stroke-width:2\"/><image id=\"picture-dashboard-MNIST_CNN-935832_input-rotated_8\" class=\"picture-dashboard-MNIST_CNN-935832_input-rotated\" x=\"75.0\" y=\"1245\" height=\"200\" width=\"200\" preserveAspectRatio=\"none\" href=\"data:image/gif;base64,R0lGODdhHAAcAIcAAAAAAPv7+xUVFVVVVampqbm5uSgoKMfHx4aGhpiYmEREROTk5NjY2Hl5eTU1NWtrawAAAAAAAAAAAAAAAAAAAAAAAAAAAAAAAAAAAAAAAAAAAAAAAAAAAAAAAAAAAAAAAAAAAAAAAAAAAAAAAAAAAAAAAAAAAAAAAAAAAAAAAAAAAAAAAAAAAAAAAAAAAAAAAAAAAAAAAAAAAAAAAAAAAAAAAAAAAAAAAAAAAAAAAAAAAAAAAAAAAAAAAAAAAAAAAAAAAAAAAAAAAAAAAAAAAAAAAAAAAAAAAAAAAAAAAAAAAAAAAAAAAAAAAAAAAAAAAAAAAAAAAAAAAAAAAAAAAAAAAAAAAAAAAAAAAAAAAAAAAAAAAAAAAAAAAAAAAAAAAAAAAAAAAAAAAAAAAAAAAAAAAAAAAAAAAAAAAAAAAAAAAAAAAAAAAAAAAAAAAAAAAAAAAAAAAAAAAAAAAAAAAAAAAAAAAAAAAAAAAAAAAAAAAAAAAAAAAAAAAAAAAAAAAAAAAAAAAAAAAAAAAAAAAAAAAAAAAAAAAAAAAAAAAAAAAAAAAAAAAAAAAAAAAAAAAAAAAAAAAAAAAAAAAAAAAAAAAAAAAAAAAAAAAAAAAAAAAAAAAAAAAAAAAAAAAAAAAAAAAAAAAAAAAAAAAAAAAAAAAAAAAAAAAAAAAAAAAAAAAAAAAAAAAAAAAAAAAAAAAAAAAAAAAAAAAAAAAAAAAAAAAAAAAAAAAAAAAAAAAAAAAAAAAAAAAAAAAAAAAAAAAAAAAAAAAAAAAAAAAAAAAAAAAAAAAAAAAAAAAAAAAAAAAAAAAAAAAAAAAAAAAAAAAAAAAAAAAAAAAAAAAAAAAAAAAAAAAAAAAAAAAAAAAAAAAAAAAAAAAAAAAAAAAAAAAAAAAAAAAAAAAAAAAAAAAAAAAAAAAAAAAAAAAAAAAAAAAAAAAAAAAAAAAAAAAAAAAAAAAAAAAAAAAAAAAAAAAAAAAAAAAAAAAAAAAAAAAAAAAAAAAAAAAAAAAAAAAAAAACwAAAAAHAAcAEAI/wABCBxIsKDBgwUFEBgAoKFDAAIKBDhQAIDFixgxJgjAMQECACBDgmwQoKQAAChTqlzJsqXLBgoAyJxJs6bNmgICBCgAoCcAAgEKCACAIECAAwCSKl2q1IEAAFCjSo1KIEAAAFizat3KtavXAAEcABhLtqzZs2URBFibAIBbAA0CyJV7AIDdu3jtCgjA98CAAgECDABAGECCAAEOAFjMuDEAAwECJABAubJlAAoCBEAAoLPnz6BDgyYQAIDp06hTq17NurXr17BjAwhwwACA27hz696dm0CAAQCCCxeuAIDx48iTE1gwAIDz5wISBJgeQAGA69izX28QoLsBAOAfBIEIMABAgQABBgBYz749AAEBAhwAQF/BggAGAAAwsCBAAIADAAwkWBAAgQAJExYwAMChQwMMAgRAAMDiRYwDAgR4AMDjR5ACGAQIgADASZQoBSxgMADAS5gxAQhgEIABAJw5de7kqVPAggAAhA4lWtRoUQcIACxl2tTpU6hRpU5tGhAAOw==\"><title>Layer: input (input)\n output range: (0.0, 1.0)\n shape = (28, 28, 1)\n Keras class = Input</title></image><text x=\"288.0\" y=\"1347.0\" font-family=\"monospace\" font-size=\"12\" text-anchor=\"middle\" fill=\"black\" alignment-baseline=\"central\"  transform=\"rotate(-90 288.0 1347.0) translate(2)\" >input</text><text x=\"88.0\" y=\"1230\" font-family=\"monospace\" font-size=\"12\" text-anchor=\"middle\" fill=\"black\" alignment-baseline=\"central\"  transform=\"rotate(-90 88.0 1230) translate(2)\" >1</text><text x=\"273.0\" y=\"1460\" font-family=\"monospace\" font-size=\"12\" text-anchor=\"middle\" fill=\"black\" alignment-baseline=\"central\"  transform=\"rotate(-90 273.0 1460) translate(2)\" >0</text><text x=\"18\" y=\"735.0\" font-family=\"monospace\" font-size=\"15\" text-anchor=\"middle\" fill=\"black\" alignment-baseline=\"central\"  transform=\"rotate(-90 18 735.0) translate(2)\" >MNIST_CNN</text></svg></g></svg></p></td>\n</tr>\n<tr>\n  <td valign=\"top\" align=\"center\"><p style=\"text-align:center\"><b>conv2D_1 features</b></p><table><tr><td style=\"border: 1px solid black;\"><img style=\"image-rendering: pixelated;\" class=\"MNIST_CNN_conv2D_1_feature0\" src=\"data:image/gif;base64,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\"/><br/><center>Feature 0</center></td><td style=\"border: 1px solid black;\"><img style=\"image-rendering: pixelated;\" class=\"MNIST_CNN_conv2D_1_feature1\" src=\"data:image/gif;base64,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\"/><br/><center>Feature 1</center></td><td style=\"border: 1px solid black;\"><img style=\"image-rendering: pixelated;\" class=\"MNIST_CNN_conv2D_1_feature2\" src=\"data:image/gif;base64,R0lGODdhYABgAIcAAPb6/uLt+AAAAAAAAAAAAAAAAAAAAAAAAAAAAAAAAAAAAAAAAAAAAAAAAAAAAAAAAAAAAAAAAAAAAAAAAAAAAAAAAAAAAAAAAAAAAAAAAAAAAAAAAAAAAAAAAAAAAAAAAAAAAAAAAAAAAAAAAAAAAAAAAAAAAAAAAAAAAAAAAAAAAAAAAAAAAAAAAAAAAAAAAAAAAAAAAAAAAAAAAAAAAAAAAAAAAAAAAAAAAAAAAAAAAAAAAAAAAAAAAAAAAAAAAAAAAAAAAAAAAAAAAAAAAAAAAAAAAAAAAAAAAAAAAAAAAAAAAAAAAAAAAAAAAAAAAAAAAAAAAAAAAAAAAAAAAAAAAAAAAAAAAAAAAAAAAAAAAAAAAAAAAAAAAAAAAAAAAAAAAAAAAAAAAAAAAAAAAAAAAAAAAAAAAAAAAAAAAAAAAAAAAAAAAAAAAAAAAAAAAAAAAAAAAAAAAAAAAAAAAAAAAAAAAAAAAAAAAAAAAAAAAAAAAAAAAAAAAAAAAAAAAAAAAAAAAAAAAAAAAAAAAAAAAAAAAAAAAAAAAAAAAAAAAAAAAAAAAAAAAAAAAAAAAAAAAAAAAAAAAAAAAAAAAAAAAAAAAAAAAAAAAAAAAAAAAAAAAAAAAAAAAAAAAAAAAAAAAAAAAAAAAAAAAAAAAAAAAAAAAAAAAAAAAAAAAAAAAAAAAAAAAAAAAAAAAAAAAAAAAAAAAAAAAAAAAAAAAAAAAAAAAAAAAAAAAAAAAAAAAAAAAAAAAAAAAAAAAAAAAAAAAAAAAAAAAAAAAAAAAAAAAAAAAAAAAAAAAAAAAAAAAAAAAAAAAAAAAAAAAAAAAAAAAAAAAAAAAAAAAAAAAAAAAAAAAAAAAAAAAAAAAAAAAAAAAAAAAAAAAAAAAAAAAAAAAAAAAAAAAAAAAAAAAAAAAAAAAAAAAAAAAAAAAAAAAAAAAAAAAAAAAAAAAAAAAAAAAAAAAAAAAAAAAAAAAAAAAAAAAAAAAAAAAAAAAAAAAAAAAAAAAAAAAAAAAAAAACwAAAAAYABgAEAI/wABCBxIsKDBgwgTKlzIsKHDhxAjSpxIsaLFixgzatzIsaPHjyBDihxJsqTJkyhTqlzJsqXLlzBjypxpMoDNAABy6tzJs6fPn0CDCh1KtKjRo0iTKl3KtKnTp1CjSp1KtarVq1izat3KtavXr2DDih1LtqzZs2jTql3LlmeAtwEAyJ1Lt67du3jz6t3Lt6/fv4ADCx5MuLDhw4gTK17MuLHjx5AjS55MubLly5gza97MubPnz6BDix5NurTp06hTq17NurXr17Bjy55Nu7bt27hz664boHcAAMCDCx9OvLjx48iTK18OIIDzAACiS59Ovbr169iza9/Ovbv37+DDi3AfT768+fPo06tfz769+/fw48ufT7++/fv48+vfz7+/f4AABA4kWNDgQYQJFS5k2NDhQ4gRJU6kWNHiRYwZNW7k2NHjR5AhRY4kWdLkSZQpVa5k2dLlS5gxZc6kWdPmTZw5de7k2dPnT6BBhQ4lajMgADs=\"/><br/><center>Feature 2</center></td><td style=\"border: 1px solid black;\"><img style=\"image-rendering: pixelated;\" class=\"MNIST_CNN_conv2D_1_feature3\" src=\"data:image/gif;base64,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\"/><br/><center>Feature 3</center></td><td style=\"border: 1px solid black;\"><img style=\"image-rendering: pixelated;\" class=\"MNIST_CNN_conv2D_1_feature4\" src=\"data:image/gif;base64,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\"/><br/><center>Feature 4</center></td><td style=\"border: 1px solid black;\"><img style=\"image-rendering: pixelated;\" class=\"MNIST_CNN_conv2D_1_feature5\" src=\"data:image/gif;base64,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\"/><br/><center>Feature 5</center></td><td style=\"border: 1px solid black;\"><img style=\"image-rendering: pixelated;\" class=\"MNIST_CNN_conv2D_1_feature6\" src=\"data:image/gif;base64,R0lGODdhYABgAIcAAPX6/gAAAAAAAAAAAAAAAAAAAAAAAAAAAAAAAAAAAAAAAAAAAAAAAAAAAAAAAAAAAAAAAAAAAAAAAAAAAAAAAAAAAAAAAAAAAAAAAAAAAAAAAAAAAAAAAAAAAAAAAAAAAAAAAAAAAAAAAAAAAAAAAAAAAAAAAAAAAAAAAAAAAAAAAAAAAAAAAAAAAAAAAAAAAAAAAAAAAAAAAAAAAAAAAAAAAAAAAAAAAAAAAAAAAAAAAAAAAAAAAAAAAAAAAAAAAAAAAAAAAAAAAAAAAAAAAAAAAAAAAAAAAAAAAAAAAAAAAAAAAAAAAAAAAAAAAAAAAAAAAAAAAAAAAAAAAAAAAAAAAAAAAAAAAAAAAAAAAAAAAAAAAAAAAAAAAAAAAAAAAAAAAAAAAAAAAAAAAAAAAAAAAAAAAAAAAAAAAAAAAAAAAAAAAAAAAAAAAAAAAAAAAAAAAAAAAAAAAAAAAAAAAAAAAAAAAAAAAAAAAAAAAAAAAAAAAAAAAAAAAAAAAAAAAAAAAAAAAAAAAAAAAAAAAAAAAAAAAAAAAAAAAAAAAAAAAAAAAAAAAAAAAAAAAAAAAAAAAAAAAAAAAAAAAAAAAAAAAAAAAAAAAAAAAAAAAAAAAAAAAAAAAAAAAAAAAAAAAAAAAAAAAAAAAAAAAAAAAAAAAAAAAAAAAAAAAAAAAAAAAAAAAAAAAAAAAAAAAAAAAAAAAAAAAAAAAAAAAAAAAAAAAAAAAAAAAAAAAAAAAAAAAAAAAAAAAAAAAAAAAAAAAAAAAAAAAAAAAAAAAAAAAAAAAAAAAAAAAAAAAAAAAAAAAAAAAAAAAAAAAAAAAAAAAAAAAAAAAAAAAAAAAAAAAAAAAAAAAAAAAAAAAAAAAAAAAAAAAAAAAAAAAAAAAAAAAAAAAAAAAAAAAAAAAAAAAAAAAAAAAAAAAAAAAAAAAAAAAAAAAAAAAAAAAAAAAAAAAAAAAAAAAAAAAAAAAAAAAAAAAAAAAAAAAAAAAAAAAAAAAAAAAAAAAAAAAAAAAAAAACwAAAAAYABgAEAInAABCBxIsKDBgwgTKlzIsKHDhxAjSpxIsaLFixgzatzIsaPHjyBDihxJsqTJkyhTqlzJsqXLlzBjypxJs6bNmzhz6tzJs6fPn0CDCh1KtKjRo0iTKl3KtKnTp1CjSp1KtarVq1izat3KtavXr2DDih1LtqzZs2jTql3Ltq3bt3Djyp1Lt67du3jz6t3Lt6/fv4ADCx5MuLDhwyQDAgA7\"/><br/><center>Feature 6</center></td><td style=\"border: 1px solid black;\"><img style=\"image-rendering: pixelated;\" class=\"MNIST_CNN_conv2D_1_feature7\" src=\"data:image/gif;base64,R0lGODdhYABgAIcAAPX5/gAAAAAAAAAAAAAAAAAAAAAAAAAAAAAAAAAAAAAAAAAAAAAAAAAAAAAAAAAAAAAAAAAAAAAAAAAAAAAAAAAAAAAAAAAAAAAAAAAAAAAAAAAAAAAAAAAAAAAAAAAAAAAAAAAAAAAAAAAAAAAAAAAAAAAAAAAAAAAAAAAAAAAAAAAAAAAAAAAAAAAAAAAAAAAAAAAAAAAAAAAAAAAAAAAAAAAAAAAAAAAAAAAAAAAAAAAAAAAAAAAAAAAAAAAAAAAAAAAAAAAAAAAAAAAAAAAAAAAAAAAAAAAAAAAAAAAAAAAAAAAAAAAAAAAAAAAAAAAAAAAAAAAAAAAAAAAAAAAAAAAAAAAAAAAAAAAAAAAAAAAAAAAAAAAAAAAAAAAAAAAAAAAAAAAAAAAAAAAAAAAAAAAAAAAAAAAAAAAAAAAAAAAAAAAAAAAAAAAAAAAAAAAAAAAAAAAAAAAAAAAAAAAAAAAAAAAAAAAAAAAAAAAAAAAAAAAAAAAAAAAAAAAAAAAAAAAAAAAAAAAAAAAAAAAAAAAAAAAAAAAAAAAAAAAAAAAAAAAAAAAAAAAAAAAAAAAAAAAAAAAAAAAAAAAAAAAAAAAAAAAAAAAAAAAAAAAAAAAAAAAAAAAAAAAAAAAAAAAAAAAAAAAAAAAAAAAAAAAAAAAAAAAAAAAAAAAAAAAAAAAAAAAAAAAAAAAAAAAAAAAAAAAAAAAAAAAAAAAAAAAAAAAAAAAAAAAAAAAAAAAAAAAAAAAAAAAAAAAAAAAAAAAAAAAAAAAAAAAAAAAAAAAAAAAAAAAAAAAAAAAAAAAAAAAAAAAAAAAAAAAAAAAAAAAAAAAAAAAAAAAAAAAAAAAAAAAAAAAAAAAAAAAAAAAAAAAAAAAAAAAAAAAAAAAAAAAAAAAAAAAAAAAAAAAAAAAAAAAAAAAAAAAAAAAAAAAAAAAAAAAAAAAAAAAAAAAAAAAAAAAAAAAAAAAAAAAAAAAAAAAAAAAAAAAAAAAAAAAAAAAAAAAAAAAAAAAAAAAAACwAAAAAYABgAEAInAABCBxIsKDBgwgTKlzIsKHDhxAjSpxIsaLFixgzatzIsaPHjyBDihxJsqTJkyhTqlzJsqXLlzBjypxJs6bNmzhz6tzJs6fPn0CDCh1KtKjRo0iTKl3KtKnTp1CjSp1KtarVq1izat3KtavXr2DDih1LtqzZs2jTql3Ltq3bt3Djyp1Lt67du3jz6t3Lt6/fv4ADCx5MuLDhwyQDAgA7\"/><br/><center>Feature 7</center></td></tr><tr><td style=\"border: 1px solid black;\"><img style=\"image-rendering: pixelated;\" class=\"MNIST_CNN_conv2D_1_feature8\" src=\"data:image/gif;base64,R0lGODdhYABgAIcAAPb6/gAAAAAAAAAAAAAAAAAAAAAAAAAAAAAAAAAAAAAAAAAAAAAAAAAAAAAAAAAAAAAAAAAAAAAAAAAAAAAAAAAAAAAAAAAAAAAAAAAAAAAAAAAAAAAAAAAAAAAAAAAAAAAAAAAAAAAAAAAAAAAAAAAAAAAAAAAAAAAAAAAAAAAAAAAAAAAAAAAAAAAAAAAAAAAAAAAAAAAAAAAAAAAAAAAAAAAAAAAAAAAAAAAAAAAAAAAAAAAAAAAAAAAAAAAAAAAAAAAAAAAAAAAAAAAAAAAAAAAAAAAAAAAAAAAAAAAAAAAAAAAAAAAAAAAAAAAAAAAAAAAAAAAAAAAAAAAAAAAAAAAAAAAAAAAAAAAAAAAAAAAAAAAAAAAAAAAAAAAAAAAAAAAAAAAAAAAAAAAAAAAAAAAAAAAAAAAAAAAAAAAAAAAAAAAAAAAAAAAAAAAAAAAAAAAAAAAAAAAAAAAAAAAAAAAAAAAAAAAAAAAAAAAAAAAAAAAAAAAAAAAAAAAAAAAAAAAAAAAAAAAAAAAAAAAAAAAAAAAAAAAAAAAAAAAAAAAAAAAAAAAAAAAAAAAAAAAAAAAAAAAAAAAAAAAAAAAAAAAAAAAAAAAAAAAAAAAAAAAAAAAAAAAAAAAAAAAAAAAAAAAAAAAAAAAAAAAAAAAAAAAAAAAAAAAAAAAAAAAAAAAAAAAAAAAAAAAAAAAAAAAAAAAAAAAAAAAAAAAAAAAAAAAAAAAAAAAAAAAAAAAAAAAAAAAAAAAAAAAAAAAAAAAAAAAAAAAAAAAAAAAAAAAAAAAAAAAAAAAAAAAAAAAAAAAAAAAAAAAAAAAAAAAAAAAAAAAAAAAAAAAAAAAAAAAAAAAAAAAAAAAAAAAAAAAAAAAAAAAAAAAAAAAAAAAAAAAAAAAAAAAAAAAAAAAAAAAAAAAAAAAAAAAAAAAAAAAAAAAAAAAAAAAAAAAAAAAAAAAAAAAAAAAAAAAAAAAAAAAAAAAAAAAAAAAAAAAAAAAAAAAAAAAAAAAAAAAAAAAAACwAAAAAYABgAEAInAABCBxIsKDBgwgTKlzIsKHDhxAjSpxIsaLFixgzatzIsaPHjyBDihxJsqTJkyhTqlzJsqXLlzBjypxJs6bNmzhz6tzJs6fPn0CDCh1KtKjRo0iTKl3KtKnTp1CjSp1KtarVq1izat3KtavXr2DDih1LtqzZs2jTql3Ltq3bt3Djyp1Lt67du3jz6t3Lt6/fv4ADCx5MuLDhwyQDAgA7\"/><br/><center>Feature 8</center></td><td style=\"border: 1px solid black;\"><img style=\"image-rendering: pixelated;\" class=\"MNIST_CNN_conv2D_1_feature9\" src=\"data:image/gif;base64,R0lGODdhYABgAIcAAPb6/gAAAAAAAAAAAAAAAAAAAAAAAAAAAAAAAAAAAAAAAAAAAAAAAAAAAAAAAAAAAAAAAAAAAAAAAAAAAAAAAAAAAAAAAAAAAAAAAAAAAAAAAAAAAAAAAAAAAAAAAAAAAAAAAAAAAAAAAAAAAAAAAAAAAAAAAAAAAAAAAAAAAAAAAAAAAAAAAAAAAAAAAAAAAAAAAAAAAAAAAAAAAAAAAAAAAAAAAAAAAAAAAAAAAAAAAAAAAAAAAAAAAAAAAAAAAAAAAAAAAAAAAAAAAAAAAAAAAAAAAAAAAAAAAAAAAAAAAAAAAAAAAAAAAAAAAAAAAAAAAAAAAAAAAAAAAAAAAAAAAAAAAAAAAAAAAAAAAAAAAAAAAAAAAAAAAAAAAAAAAAAAAAAAAAAAAAAAAAAAAAAAAAAAAAAAAAAAAAAAAAAAAAAAAAAAAAAAAAAAAAAAAAAAAAAAAAAAAAAAAAAAAAAAAAAAAAAAAAAAAAAAAAAAAAAAAAAAAAAAAAAAAAAAAAAAAAAAAAAAAAAAAAAAAAAAAAAAAAAAAAAAAAAAAAAAAAAAAAAAAAAAAAAAAAAAAAAAAAAAAAAAAAAAAAAAAAAAAAAAAAAAAAAAAAAAAAAAAAAAAAAAAAAAAAAAAAAAAAAAAAAAAAAAAAAAAAAAAAAAAAAAAAAAAAAAAAAAAAAAAAAAAAAAAAAAAAAAAAAAAAAAAAAAAAAAAAAAAAAAAAAAAAAAAAAAAAAAAAAAAAAAAAAAAAAAAAAAAAAAAAAAAAAAAAAAAAAAAAAAAAAAAAAAAAAAAAAAAAAAAAAAAAAAAAAAAAAAAAAAAAAAAAAAAAAAAAAAAAAAAAAAAAAAAAAAAAAAAAAAAAAAAAAAAAAAAAAAAAAAAAAAAAAAAAAAAAAAAAAAAAAAAAAAAAAAAAAAAAAAAAAAAAAAAAAAAAAAAAAAAAAAAAAAAAAAAAAAAAAAAAAAAAAAAAAAAAAAAAAAAAAAAAAAAAAAAAAAAAAAAAAAAAAAAAAAAAAAAAAAACwAAAAAYABgAEAInAABCBxIsKDBgwgTKlzIsKHDhxAjSpxIsaLFixgzatzIsaPHjyBDihxJsqTJkyhTqlzJsqXLlzBjypxJs6bNmzhz6tzJs6fPn0CDCh1KtKjRo0iTKl3KtKnTp1CjSp1KtarVq1izat3KtavXr2DDih1LtqzZs2jTql3Ltq3bt3Djyp1Lt67du3jz6t3Lt6/fv4ADCx5MuLDhwyQDAgA7\"/><br/><center>Feature 9</center></td><td style=\"border: 1px solid black;\"><img style=\"image-rendering: pixelated;\" class=\"MNIST_CNN_conv2D_1_feature10\" src=\"data:image/gif;base64,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\"/><br/><center>Feature 10</center></td><td style=\"border: 1px solid black;\"><img style=\"image-rendering: pixelated;\" class=\"MNIST_CNN_conv2D_1_feature11\" src=\"data:image/gif;base64,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\"/><br/><center>Feature 11</center></td><td style=\"border: 1px solid black;\"><img style=\"image-rendering: pixelated;\" class=\"MNIST_CNN_conv2D_1_feature12\" src=\"data:image/gif;base64,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\"/><br/><center>Feature 12</center></td><td style=\"border: 1px solid black;\"><img style=\"image-rendering: pixelated;\" class=\"MNIST_CNN_conv2D_1_feature13\" src=\"data:image/gif;base64,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\"/><br/><center>Feature 13</center></td><td style=\"border: 1px solid black;\"><img style=\"image-rendering: pixelated;\" class=\"MNIST_CNN_conv2D_1_feature14\" src=\"data:image/gif;base64,R0lGODdhYABgAIcAAPb6/gAAAAAAAAAAAAAAAAAAAAAAAAAAAAAAAAAAAAAAAAAAAAAAAAAAAAAAAAAAAAAAAAAAAAAAAAAAAAAAAAAAAAAAAAAAAAAAAAAAAAAAAAAAAAAAAAAAAAAAAAAAAAAAAAAAAAAAAAAAAAAAAAAAAAAAAAAAAAAAAAAAAAAAAAAAAAAAAAAAAAAAAAAAAAAAAAAAAAAAAAAAAAAAAAAAAAAAAAAAAAAAAAAAAAAAAAAAAAAAAAAAAAAAAAAAAAAAAAAAAAAAAAAAAAAAAAAAAAAAAAAAAAAAAAAAAAAAAAAAAAAAAAAAAAAAAAAAAAAAAAAAAAAAAAAAAAAAAAAAAAAAAAAAAAAAAAAAAAAAAAAAAAAAAAAAAAAAAAAAAAAAAAAAAAAAAAAAAAAAAAAAAAAAAAAAAAAAAAAAAAAAAAAAAAAAAAAAAAAAAAAAAAAAAAAAAAAAAAAAAAAAAAAAAAAAAAAAAAAAAAAAAAAAAAAAAAAAAAAAAAAAAAAAAAAAAAAAAAAAAAAAAAAAAAAAAAAAAAAAAAAAAAAAAAAAAAAAAAAAAAAAAAAAAAAAAAAAAAAAAAAAAAAAAAAAAAAAAAAAAAAAAAAAAAAAAAAAAAAAAAAAAAAAAAAAAAAAAAAAAAAAAAAAAAAAAAAAAAAAAAAAAAAAAAAAAAAAAAAAAAAAAAAAAAAAAAAAAAAAAAAAAAAAAAAAAAAAAAAAAAAAAAAAAAAAAAAAAAAAAAAAAAAAAAAAAAAAAAAAAAAAAAAAAAAAAAAAAAAAAAAAAAAAAAAAAAAAAAAAAAAAAAAAAAAAAAAAAAAAAAAAAAAAAAAAAAAAAAAAAAAAAAAAAAAAAAAAAAAAAAAAAAAAAAAAAAAAAAAAAAAAAAAAAAAAAAAAAAAAAAAAAAAAAAAAAAAAAAAAAAAAAAAAAAAAAAAAAAAAAAAAAAAAAAAAAAAAAAAAAAAAAAAAAAAAAAAAAAAAAAAAAAAAAAAAAAAAAAAAAAAAAAAAAAAAAAAAAAAAACwAAAAAYABgAEAInAABCBxIsKDBgwgTKlzIsKHDhxAjSpxIsaLFixgzatzIsaPHjyBDihxJsqTJkyhTqlzJsqXLlzBjypxJs6bNmzhz6tzJs6fPn0CDCh1KtKjRo0iTKl3KtKnTp1CjSp1KtarVq1izat3KtavXr2DDih1LtqzZs2jTql3Ltq3bt3Djyp1Lt67du3jz6t3Lt6/fv4ADCx5MuLDhwyQDAgA7\"/><br/><center>Feature 14</center></td><td style=\"border: 1px solid black;\"><img style=\"image-rendering: pixelated;\" class=\"MNIST_CNN_conv2D_1_feature15\" src=\"data:image/gif;base64,R0lGODdhYABgAIcAAPX6/uTu+AAAAAAAAAAAAAAAAAAAAAAAAAAAAAAAAAAAAAAAAAAAAAAAAAAAAAAAAAAAAAAAAAAAAAAAAAAAAAAAAAAAAAAAAAAAAAAAAAAAAAAAAAAAAAAAAAAAAAAAAAAAAAAAAAAAAAAAAAAAAAAAAAAAAAAAAAAAAAAAAAAAAAAAAAAAAAAAAAAAAAAAAAAAAAAAAAAAAAAAAAAAAAAAAAAAAAAAAAAAAAAAAAAAAAAAAAAAAAAAAAAAAAAAAAAAAAAAAAAAAAAAAAAAAAAAAAAAAAAAAAAAAAAAAAAAAAAAAAAAAAAAAAAAAAAAAAAAAAAAAAAAAAAAAAAAAAAAAAAAAAAAAAAAAAAAAAAAAAAAAAAAAAAAAAAAAAAAAAAAAAAAAAAAAAAAAAAAAAAAAAAAAAAAAAAAAAAAAAAAAAAAAAAAAAAAAAAAAAAAAAAAAAAAAAAAAAAAAAAAAAAAAAAAAAAAAAAAAAAAAAAAAAAAAAAAAAAAAAAAAAAAAAAAAAAAAAAAAAAAAAAAAAAAAAAAAAAAAAAAAAAAAAAAAAAAAAAAAAAAAAAAAAAAAAAAAAAAAAAAAAAAAAAAAAAAAAAAAAAAAAAAAAAAAAAAAAAAAAAAAAAAAAAAAAAAAAAAAAAAAAAAAAAAAAAAAAAAAAAAAAAAAAAAAAAAAAAAAAAAAAAAAAAAAAAAAAAAAAAAAAAAAAAAAAAAAAAAAAAAAAAAAAAAAAAAAAAAAAAAAAAAAAAAAAAAAAAAAAAAAAAAAAAAAAAAAAAAAAAAAAAAAAAAAAAAAAAAAAAAAAAAAAAAAAAAAAAAAAAAAAAAAAAAAAAAAAAAAAAAAAAAAAAAAAAAAAAAAAAAAAAAAAAAAAAAAAAAAAAAAAAAAAAAAAAAAAAAAAAAAAAAAAAAAAAAAAAAAAAAAAAAAAAAAAAAAAAAAAAAAAAAAAAAAAAAAAAAAAAAAAAAAAAAAAAAAAAAAAAAAAAAAAAAAAAAAAAAAAAAAAAAAAAAAAAAAAAAACwAAAAAYABgAEAI/wABCBxIsKDBgwgTKlzIsKHDhxAjSpxIsaLFiQEyBgDAsaPHjyBDihxJsqTJkyhTqlzJsqXLlzBjypxJs6bNmzhz6rQZoGcAAECDCh1KtKjRo0iTKl3KtKnTp1CjSp1KtarVq1izat3KtWuArwEAiB1LtqzZs2jTql2rNoDbAADiyp1Lt67du3jz6t3Lt6/fv4ADCx5MuLDhw4gTK17MuLHjx5AjS55MubLly5gza97MubPnz6AlBxgdAIDp06hTq17NurXr17BdB5gdAIDt27hz697Nu7fv38BtBxgeAIDx48iTK1/OvLnz59CjS59Ovbr169iza9/Ovbv37+DDi/8fT768+fPo06tfz769+/fw40cPQD8AgPv48+vfz7+/f4AABA4kWNDgQYQJFS5k2NDhQ4gRJU6kWNHiRYwZNW7k2NHjR5AhRY4kWdLkSZQpVa5k2dLlS5gxZaIMUDMAAJw5de7k2dPnT6BBhQ4FEMBoAABJlS5l2tTpU6hRpU6NGsBqAABZtW7l2tXrV7BhxY4lCyDA2QAA1K5l29btW7hx5c6lqzbA3QAA9O7l29fvX8CBBQ8mXBhAAMQBACxm3NjxY8iRJU+mXNnyZcyZNW/m3NnzZ9ChRY8mXdr0adSpVa9m3dr1a9ixZc+mXdv2bdy5de/m3dv3b+DBhQ8nXtxu+HHgAZQHANDc+XPo0aVPp17d+nXsAAJsDwDA+3fw4cWPJ1/e/Hn06dWvZ9/e/Xv48eXPp1/f/n38+fXv59/fP0AAAgcSLGjwIMKEChcybOjwIcSIEidSrGjxIsaMGjdy7OjxI8iQIkeSLGmSZEAAOw==\"/><br/><center>Feature 15</center></td></tr><tr></tr></table></td>\n</tr>\n</table>"
      }
     },
     "9df220fb113b4d8480eca0310b5115d2": {
      "model_module": "@jupyter-widgets/base",
      "model_module_version": "1.0.0",
      "model_name": "LayoutModel",
      "state": {
       "height": "40px"
      }
     },
     "9e6be4ceb2a942b4a30fe2798295b004": {
      "model_module": "@jupyter-widgets/controls",
      "model_module_version": "1.1.0",
      "model_name": "CheckboxModel",
      "state": {
       "description": "Errors",
       "disabled": false,
       "layout": "IPY_MODEL_4abd863981614d23a1f58a2d7afee81b",
       "style": "IPY_MODEL_142eee6ee5b14878b920456df684217a",
       "value": false
      }
     },
     "9ef8ac94fd6a48129b0179c92dd3cb77": {
      "model_module": "@jupyter-widgets/base",
      "model_module_version": "1.0.0",
      "model_name": "LayoutModel",
      "state": {
       "width": "10%"
      }
     },
     "9f3da69168d8434ab4d7c6b618b0928c": {
      "model_module": "@jupyter-widgets/base",
      "model_module_version": "1.0.0",
      "model_name": "LayoutModel",
      "state": {
       "width": "100%"
      }
     },
     "a0a44c45d5ce410fa52aa336d676ac3f": {
      "model_module": "@jupyter-widgets/controls",
      "model_module_version": "1.1.0",
      "model_name": "CheckboxModel",
      "state": {
       "description": "Visible",
       "disabled": false,
       "layout": "IPY_MODEL_c6613434354a4757a1e313434f827014",
       "style": "IPY_MODEL_6623b913940e422386c1062f0e7b4638",
       "value": true
      }
     },
     "a1ba8c13bc2e42359932708ea31ed34d": {
      "model_module": "@jupyter-widgets/controls",
      "model_module_version": "1.1.0",
      "model_name": "CheckboxModel",
      "state": {
       "description": "Show Targets",
       "disabled": false,
       "layout": "IPY_MODEL_3f5ac242b81047a7ada5d84cc8cb3aac",
       "style": "IPY_MODEL_a2db9d37be3d4b4cb849270e30beafcb",
       "value": true
      }
     },
     "a1bcbf558bcb48339971ca6af39a268f": {
      "model_module": "@jupyter-widgets/base",
      "model_module_version": "1.0.0",
      "model_name": "LayoutModel",
      "state": {
       "width": "100%"
      }
     },
     "a2619df2cf4e441e846c217c1882c5c3": {
      "model_module": "@jupyter-widgets/base",
      "model_module_version": "1.0.0",
      "model_name": "LayoutModel",
      "state": {}
     },
     "a2665c588c0d49b2b653bd3bac4f13c6": {
      "model_module": "@jupyter-widgets/controls",
      "model_module_version": "1.1.0",
      "model_name": "ButtonStyleModel",
      "state": {}
     },
     "a2db9d37be3d4b4cb849270e30beafcb": {
      "model_module": "@jupyter-widgets/controls",
      "model_module_version": "1.1.0",
      "model_name": "DescriptionStyleModel",
      "state": {
       "description_width": "initial"
      }
     },
     "a30c628415dd42aea90901e93e8fd860": {
      "model_module": "@jupyter-widgets/controls",
      "model_module_version": "1.1.0",
      "model_name": "ButtonStyleModel",
      "state": {}
     },
     "a37452bb937b49798dd2defab33ebc90": {
      "model_module": "@jupyter-widgets/controls",
      "model_module_version": "1.1.0",
      "model_name": "ButtonModel",
      "state": {
       "icon": "fast-backward",
       "layout": "IPY_MODEL_9bf9edb78f404a5d82c12cf7eaa6134c",
       "style": "IPY_MODEL_a2665c588c0d49b2b653bd3bac4f13c6"
      }
     },
     "a39061cbfad5466c92c37b5bc6474c12": {
      "model_module": "@jupyter-widgets/controls",
      "model_module_version": "1.1.0",
      "model_name": "SelectModel",
      "state": {
       "_options_labels": [
        "input",
        "conv2D_1",
        "maxpool1",
        "conv2D_2",
        "maxpool2",
        "flat",
        "hidden",
        "output"
       ],
       "description": "Layer:",
       "index": 7,
       "layout": "IPY_MODEL_1b38140257ae4458ae3c3d7b7e9698bd",
       "rows": 1,
       "style": "IPY_MODEL_b8eb57fdddce4721a8d0e719ec25333c"
      }
     },
     "a3da5e6cd1e648c4be239db21525dffd": {
      "model_module": "@jupyter-widgets/base",
      "model_module_version": "1.0.0",
      "model_name": "LayoutModel",
      "state": {
       "width": "100%"
      }
     },
     "a492a2e84f42465980d644880bdf1ac4": {
      "model_module": "@jupyter-widgets/base",
      "model_module_version": "1.0.0",
      "model_name": "LayoutModel",
      "state": {
       "width": "100%"
      }
     },
     "a4d4ceb5917e45db914785f98b752cc4": {
      "model_module": "@jupyter-widgets/base",
      "model_module_version": "1.0.0",
      "model_name": "LayoutModel",
      "state": {
       "width": "100%"
      }
     },
     "a72f03d30e464a00bc9deab872d9eb30": {
      "model_module": "@jupyter-widgets/controls",
      "model_module_version": "1.1.0",
      "model_name": "HBoxModel",
      "state": {
       "children": [
        "IPY_MODEL_c5c85e6d86814f7dbdb78031a95acb48",
        "IPY_MODEL_75c101e410c642c5ab222c6736aaaf8c"
       ],
       "layout": "IPY_MODEL_434218473a424681b311c1098cd3858e"
      }
     },
     "a7ef6cb2e04c4d7ba7daa2a7de0b1250": {
      "model_module": "@jupyter-widgets/controls",
      "model_module_version": "1.1.0",
      "model_name": "ButtonStyleModel",
      "state": {}
     },
     "a98eec6f1040492799bc77977d1a48f6": {
      "model_module": "@jupyter-widgets/controls",
      "model_module_version": "1.1.0",
      "model_name": "IntTextModel",
      "state": {
       "description": "Feature to show:",
       "layout": "IPY_MODEL_cc46e2d21a2245319222f6bdb70d820d",
       "step": 1,
       "style": "IPY_MODEL_65902480ad50410a90d01e958c656284"
      }
     },
     "aa072bd563f447f8944b4b1ae93e5321": {
      "model_module": "@jupyter-widgets/base",
      "model_module_version": "1.0.0",
      "model_name": "LayoutModel",
      "state": {}
     },
     "aae5be7d0bd841e5987af3aecdf5bb98": {
      "model_module": "@jupyter-widgets/base",
      "model_module_version": "1.0.0",
      "model_name": "LayoutModel",
      "state": {
       "width": "100%"
      }
     },
     "ab5b4da870434dd2b515d5be7b954a5f": {
      "model_module": "@jupyter-widgets/controls",
      "model_module_version": "1.1.0",
      "model_name": "SliderStyleModel",
      "state": {
       "description_width": "initial"
      }
     },
     "ab86ac76c8634611adec627977a694fc": {
      "model_module": "@jupyter-widgets/controls",
      "model_module_version": "1.1.0",
      "model_name": "SelectModel",
      "state": {
       "_options_labels": [
        "",
        "input"
       ],
       "description": "Features:",
       "index": 0,
       "layout": "IPY_MODEL_e8da31305c0e4e6e899748197cd0cba7",
       "rows": 1,
       "style": "IPY_MODEL_11cd6a6929424bee965b6bcac00dd975"
      }
     },
     "ad4621a2276145f5931514af81148ab7": {
      "model_module": "@jupyter-widgets/controls",
      "model_module_version": "1.1.0",
      "model_name": "VBoxModel",
      "state": {
       "children": [
        "IPY_MODEL_b909e32b49fc49d3beb4b0cac1d799b8",
        "IPY_MODEL_dfec4dcef44d4a68b7219ad3a750b648",
        "IPY_MODEL_9de71d62717d474e8626290a2834ed84",
        "IPY_MODEL_06eb29e854964b74be375af958c077a8"
       ],
       "layout": "IPY_MODEL_be92e8d8852f4ab4b700ab8b6082ab6d"
      }
     },
     "ad5ae9a3b4ec41abaa745995bd70b4d3": {
      "model_module": "@jupyter-widgets/controls",
      "model_module_version": "1.1.0",
      "model_name": "DescriptionStyleModel",
      "state": {
       "description_width": "initial"
      }
     },
     "ad832088c3b844f2a8c5b0890a045505": {
      "model_module": "@jupyter-widgets/controls",
      "model_module_version": "1.1.0",
      "model_name": "HTMLModel",
      "state": {
       "layout": "IPY_MODEL_d049115fdee24b03adecc2cdf22d154a",
       "style": "IPY_MODEL_37bffc4b30f74458a5127ab7329ae929",
       "value": "<p style=\"text-align:center\"><svg id='MNIST_MLP' xmlns='http://www.w3.org/2000/svg' image-rendering=\"pixelated\" width=\"480.0px\" height=\"266.66666666666663px\">\n <g  transform=\"rotate(90) translate(0 -480.0)\" >\n  <svg viewBox=\"0 0 350 630\" width=\"266.66666666666663px\" height=\"480.0px\">\n    <defs>\n        <marker id=\"arrow\" markerWidth=\"10\" markerHeight=\"10\" refX=\"9\" refY=\"3\" orient=\"auto\" markerUnits=\"strokeWidth\">\n          <path d=\"M0,0 L0,6 L9,3 z\" fill=\"black\" />\n        </marker>\n    </defs><rect x=\"74.0\" y=\"24\" width=\"202\" height=\"52\" style=\"fill:none;stroke:black;stroke-width:2\"/><image id=\"picture-dashboard-MNIST_MLP-688544_output_targets_6\" class=\"picture-dashboard-MNIST_MLP-688544_output_targets\" x=\"75.0\" y=\"25\" height=\"50\" width=\"200\" preserveAspectRatio=\"none\" href=\"data:image/gif;base64,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\"><title>Layer: output (output)\n output range: (-1.0, 1.0)\n shape = (10,)\n Keras class = Dense\n activation = softmax</title></image><text x=\"288.0\" y=\"52.0\" font-family=\"monospace\" font-size=\"12\" text-anchor=\"middle\" fill=\"black\" alignment-baseline=\"central\"  transform=\"rotate(-90 288.0 52.0) translate(2)\" >targets</text><line x1=\"87.5\" y1=\"80\" x2=\"262.5\" y2=\"80\" stroke=\"green\" stroke-width=\"2\"><title></title></line><rect x=\"74.0\" y=\"84\" width=\"202\" height=\"52\" style=\"fill:none;stroke:black;stroke-width:2\"/><image id=\"picture-dashboard-MNIST_MLP-688544_output-rotated_6\" class=\"picture-dashboard-MNIST_MLP-688544_output-rotated\" x=\"75.0\" y=\"85\" height=\"50\" width=\"200\" preserveAspectRatio=\"none\" href=\"data:image/gif;base64,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\"><title>Layer: output (output)\n output range: (-1.0, 1.0)\n shape = (10,)\n Keras class = Dense\n activation = softmax</title></image><text x=\"288.0\" y=\"112.0\" font-family=\"monospace\" font-size=\"12\" text-anchor=\"middle\" fill=\"black\" alignment-baseline=\"central\"  transform=\"rotate(-90 288.0 112.0) translate(2)\" >output</text><line x1=\"175.0\" y1=\"164\" x2=\"175.0\" y2=\"137\" stroke=\"black\" stroke-width=\"2\" marker-end=\"url(#arrow)\"><title>Weights from hidden2 to output\n output/kernel:0 has shape (30, 10)\n output/bias:0 has shape (10,)</title></line><rect x=\"74.0\" y=\"164\" width=\"202\" height=\"52\" style=\"fill:none;stroke:black;stroke-width:2\"/><image id=\"picture-dashboard-MNIST_MLP-688544_hidden2-rotated_7\" class=\"picture-dashboard-MNIST_MLP-688544_hidden2-rotated\" x=\"75.0\" y=\"165\" height=\"50\" width=\"200\" preserveAspectRatio=\"none\" href=\"data:image/gif;base64,R0lGODdhHgABAIcAAP/9/Xt7/9XV/wAAhDAw/1lZ/2Fh/+np/wAAAAAAAAAAAAAAAAAAAAAAAAAAAAAAAAAAAAAAAAAAAAAAAAAAAAAAAAAAAAAAAAAAAAAAAAAAAAAAAAAAAAAAAAAAAAAAAAAAAAAAAAAAAAAAAAAAAAAAAAAAAAAAAAAAAAAAAAAAAAAAAAAAAAAAAAAAAAAAAAAAAAAAAAAAAAAAAAAAAAAAAAAAAAAAAAAAAAAAAAAAAAAAAAAAAAAAAAAAAAAAAAAAAAAAAAAAAAAAAAAAAAAAAAAAAAAAAAAAAAAAAAAAAAAAAAAAAAAAAAAAAAAAAAAAAAAAAAAAAAAAAAAAAAAAAAAAAAAAAAAAAAAAAAAAAAAAAAAAAAAAAAAAAAAAAAAAAAAAAAAAAAAAAAAAAAAAAAAAAAAAAAAAAAAAAAAAAAAAAAAAAAAAAAAAAAAAAAAAAAAAAAAAAAAAAAAAAAAAAAAAAAAAAAAAAAAAAAAAAAAAAAAAAAAAAAAAAAAAAAAAAAAAAAAAAAAAAAAAAAAAAAAAAAAAAAAAAAAAAAAAAAAAAAAAAAAAAAAAAAAAAAAAAAAAAAAAAAAAAAAAAAAAAAAAAAAAAAAAAAAAAAAAAAAAAAAAAAAAAAAAAAAAAAAAAAAAAAAAAAAAAAAAAAAAAAAAAAAAAAAAAAAAAAAAAAAAAAAAAAAAAAAAAAAAAAAAAAAAAAAAAAAAAAAAAAAAAAAAAAAAAAAAAAAAAAAAAAAAAAAAAAAAAAAAAAAAAAAAAAAAAAAAAAAAAAAAAAAAAAAAAAAAAAAAAAAAAAAAAAAAAAAAAAAAAAAAAAAAAAAAAAAAAAAAAAAAAAAAAAAAAAAAAAAAAAAAAAAAAAAAAAAAAAAAAAAAAAAAAAAAAAAAAAAAAAAAAAAAAAAAAAAAAAAAAAAAAAAAAAAAAAAAAAAAAAAAAAAAAAAAAAAAAAAAAAAAAAAAAAAAAAAAAAAAAAAAAAAAAAAAAAAAAAAAAAAAAAAAAAAAAAAAAAAAACwAAAAAHgABAAAIIAADABgIwIAAAAAKAFh4AIBDhwMABAAQAAAAAQQAAAgIADs=\"><title>Layer: hidden2 (hidden)\n output range: (-1.0, 1.0)\n shape = (30,)\n Keras class = Dense\n activation = relu</title></image><text x=\"288.0\" y=\"192.0\" font-family=\"monospace\" font-size=\"12\" text-anchor=\"middle\" fill=\"black\" alignment-baseline=\"central\"  transform=\"rotate(-90 288.0 192.0) translate(2)\" >hidden2</text><line x1=\"175.0\" y1=\"244\" x2=\"175.0\" y2=\"217\" stroke=\"black\" stroke-width=\"2\" marker-end=\"url(#arrow)\"><title>Weights from hidden1 to hidden2\n hidden2/kernel:0 has shape (30, 30)\n hidden2/bias:0 has shape (30,)</title></line><rect x=\"74.0\" y=\"244\" width=\"202\" height=\"52\" style=\"fill:none;stroke:black;stroke-width:2\"/><image id=\"picture-dashboard-MNIST_MLP-688544_hidden1-rotated_8\" class=\"picture-dashboard-MNIST_MLP-688544_hidden1-rotated\" x=\"75.0\" y=\"245\" height=\"50\" width=\"200\" preserveAspectRatio=\"none\" href=\"data:image/gif;base64,R0lGODdhHgABAIcAAP/9/ZeX/wAAsQAAyouL/wAAmigo/zU1/11d/3l5/6Sk/wAAAAAAAAAAAAAAAAAAAAAAAAAAAAAAAAAAAAAAAAAAAAAAAAAAAAAAAAAAAAAAAAAAAAAAAAAAAAAAAAAAAAAAAAAAAAAAAAAAAAAAAAAAAAAAAAAAAAAAAAAAAAAAAAAAAAAAAAAAAAAAAAAAAAAAAAAAAAAAAAAAAAAAAAAAAAAAAAAAAAAAAAAAAAAAAAAAAAAAAAAAAAAAAAAAAAAAAAAAAAAAAAAAAAAAAAAAAAAAAAAAAAAAAAAAAAAAAAAAAAAAAAAAAAAAAAAAAAAAAAAAAAAAAAAAAAAAAAAAAAAAAAAAAAAAAAAAAAAAAAAAAAAAAAAAAAAAAAAAAAAAAAAAAAAAAAAAAAAAAAAAAAAAAAAAAAAAAAAAAAAAAAAAAAAAAAAAAAAAAAAAAAAAAAAAAAAAAAAAAAAAAAAAAAAAAAAAAAAAAAAAAAAAAAAAAAAAAAAAAAAAAAAAAAAAAAAAAAAAAAAAAAAAAAAAAAAAAAAAAAAAAAAAAAAAAAAAAAAAAAAAAAAAAAAAAAAAAAAAAAAAAAAAAAAAAAAAAAAAAAAAAAAAAAAAAAAAAAAAAAAAAAAAAAAAAAAAAAAAAAAAAAAAAAAAAAAAAAAAAAAAAAAAAAAAAAAAAAAAAAAAAAAAAAAAAAAAAAAAAAAAAAAAAAAAAAAAAAAAAAAAAAAAAAAAAAAAAAAAAAAAAAAAAAAAAAAAAAAAAAAAAAAAAAAAAAAAAAAAAAAAAAAAAAAAAAAAAAAAAAAAAAAAAAAAAAAAAAAAAAAAAAAAAAAAAAAAAAAAAAAAAAAAAAAAAAAAAAAAAAAAAAAAAAAAAAAAAAAAAAAAAAAAAAAAAAAAAAAAAAAAAAAAAAAAAAAAAAAAAAAAAAAAAAAAAAAAAAAAAAAAAAAAAAAAAAAAAAAAAAAAAAAAAAAAAAAAAAAAAAAAAAAAAAAAAAAAAAAAAAAAAAAAAAAAAAAAAAAAACwAAAAAHgABAAAIIgALGAAAYACAgwEEAAAgAEACBAACBFAwgAAAAAcAaCQQICAAOw==\"><title>Layer: hidden1 (hidden)\n output range: (-1.0, 1.0)\n shape = (30,)\n Keras class = Dense\n activation = relu</title></image><text x=\"288.0\" y=\"272.0\" font-family=\"monospace\" font-size=\"12\" text-anchor=\"middle\" fill=\"black\" alignment-baseline=\"central\"  transform=\"rotate(-90 288.0 272.0) translate(2)\" >hidden1</text><line x1=\"175.0\" y1=\"324\" x2=\"175.0\" y2=\"297\" stroke=\"black\" stroke-width=\"2\" marker-end=\"url(#arrow)\"><title>Weights from flat_input to hidden1\n hidden1/kernel:0 has shape (784, 30)\n hidden1/bias:0 has shape (30,)</title></line><rect x=\"74.0\" y=\"324\" width=\"202\" height=\"52\" style=\"fill:none;stroke:black;stroke-width:2\"/><image id=\"picture-dashboard-MNIST_MLP-688544_flat_input-rotated_9\" class=\"picture-dashboard-MNIST_MLP-688544_flat_input-rotated\" x=\"75.0\" y=\"325\" height=\"50\" width=\"200\" preserveAspectRatio=\"none\" href=\"data:image/gif;base64,R0lGODdhEAMBAIcAAAAAAPv7+6OjoxYWFtbW1iYmJurq6kdHR1paWomJibi4uMvLy2xsbJqamnR0dDg4OAAAAAAAAAAAAAAAAAAAAAAAAAAAAAAAAAAAAAAAAAAAAAAAAAAAAAAAAAAAAAAAAAAAAAAAAAAAAAAAAAAAAAAAAAAAAAAAAAAAAAAAAAAAAAAAAAAAAAAAAAAAAAAAAAAAAAAAAAAAAAAAAAAAAAAAAAAAAAAAAAAAAAAAAAAAAAAAAAAAAAAAAAAAAAAAAAAAAAAAAAAAAAAAAAAAAAAAAAAAAAAAAAAAAAAAAAAAAAAAAAAAAAAAAAAAAAAAAAAAAAAAAAAAAAAAAAAAAAAAAAAAAAAAAAAAAAAAAAAAAAAAAAAAAAAAAAAAAAAAAAAAAAAAAAAAAAAAAAAAAAAAAAAAAAAAAAAAAAAAAAAAAAAAAAAAAAAAAAAAAAAAAAAAAAAAAAAAAAAAAAAAAAAAAAAAAAAAAAAAAAAAAAAAAAAAAAAAAAAAAAAAAAAAAAAAAAAAAAAAAAAAAAAAAAAAAAAAAAAAAAAAAAAAAAAAAAAAAAAAAAAAAAAAAAAAAAAAAAAAAAAAAAAAAAAAAAAAAAAAAAAAAAAAAAAAAAAAAAAAAAAAAAAAAAAAAAAAAAAAAAAAAAAAAAAAAAAAAAAAAAAAAAAAAAAAAAAAAAAAAAAAAAAAAAAAAAAAAAAAAAAAAAAAAAAAAAAAAAAAAAAAAAAAAAAAAAAAAAAAAAAAAAAAAAAAAAAAAAAAAAAAAAAAAAAAAAAAAAAAAAAAAAAAAAAAAAAAAAAAAAAAAAAAAAAAAAAAAAAAAAAAAAAAAAAAAAAAAAAAAAAAAAAAAAAAAAAAAAAAAAAAAAAAAAAAAAAAAAAAAAAAAAAAAAAAAAAAAAAAAAAAAAAAAAAAAAAAAAAAAAAAAAAAAAAAAAAAAAAAAAAAAAAAAAAAAAAAAAAAAAAAAAAAAAAAAAAAAAAAAAAAAAAAAAAAAAAAAAAAAAAAAAAAAAAAAAAAAAAAACwAAAAAEAMBAAAI/wABCBxIsKDBgwgTKlyoQMEDABAjSpxIMaKAAAYKANjIsaPHjxsbBAjwAIDJkyhTqjQ5gEAAAgBiypxJs6bMAgECJADAs6fPn0B7MggQ4ACAo0iTKl2KVEEAAwMASJ1KtarVqQoCCADAtavXr2C7DjAQQACAs2jTql2LdkCAAAIAyJ1Ll4EDBADy6t0LYECAAAIACB4MYEACAwESCygAoLFjxwMCBBAAoLJlAAkCaF5gIIAAAKBDhx4QIIAAAKhTJwgQoMEBAAcCCABAu3btAQECCADAm3eBAAEaABiOIIAAAMiTJx8QIIAAANChEwhAAID1AQECMADAvbv3BQECFHEAQB5BgAAFAKhfEMABgPfw4wNAECAAgQIAADgI0ABAAYAIFgRYMADAQYQJDwoI0JDBAQIBCCgwEICAgAEANG7kyFFAAJAhQRoQgADASZQpVZ48kIBAAJgJDgwAUNPmTZw5de7k2dPnT6BBhQ4lWjRnQAA7\"><title>Layer: flat_input (hidden)\n output range: (0.0, 1.0)\n Keras class = Flatten</title></image><text x=\"288.0\" y=\"352.0\" font-family=\"monospace\" font-size=\"12\" text-anchor=\"middle\" fill=\"black\" alignment-baseline=\"central\"  transform=\"rotate(-90 288.0 352.0) translate(2)\" >flat_input</text><line x1=\"175.0\" y1=\"404\" x2=\"175.0\" y2=\"377\" stroke=\"black\" stroke-width=\"2\" marker-end=\"url(#arrow)\"><title>Weights from input to flat_input</title></line><rect x=\"74.0\" y=\"404\" width=\"202\" height=\"202\" style=\"fill:none;stroke:black;stroke-width:2\"/><image id=\"picture-dashboard-MNIST_MLP-688544_input-rotated_10\" class=\"picture-dashboard-MNIST_MLP-688544_input-rotated\" x=\"75.0\" y=\"405\" height=\"200\" width=\"200\" preserveAspectRatio=\"none\" href=\"data:image/gif;base64,R0lGODdhHAAcAIcAAAAAAPv7+6OjoxYWFtbW1iYmJurq6kdHR1paWomJibi4uMvLy2xsbJqamnR0dDg4OAAAAAAAAAAAAAAAAAAAAAAAAAAAAAAAAAAAAAAAAAAAAAAAAAAAAAAAAAAAAAAAAAAAAAAAAAAAAAAAAAAAAAAAAAAAAAAAAAAAAAAAAAAAAAAAAAAAAAAAAAAAAAAAAAAAAAAAAAAAAAAAAAAAAAAAAAAAAAAAAAAAAAAAAAAAAAAAAAAAAAAAAAAAAAAAAAAAAAAAAAAAAAAAAAAAAAAAAAAAAAAAAAAAAAAAAAAAAAAAAAAAAAAAAAAAAAAAAAAAAAAAAAAAAAAAAAAAAAAAAAAAAAAAAAAAAAAAAAAAAAAAAAAAAAAAAAAAAAAAAAAAAAAAAAAAAAAAAAAAAAAAAAAAAAAAAAAAAAAAAAAAAAAAAAAAAAAAAAAAAAAAAAAAAAAAAAAAAAAAAAAAAAAAAAAAAAAAAAAAAAAAAAAAAAAAAAAAAAAAAAAAAAAAAAAAAAAAAAAAAAAAAAAAAAAAAAAAAAAAAAAAAAAAAAAAAAAAAAAAAAAAAAAAAAAAAAAAAAAAAAAAAAAAAAAAAAAAAAAAAAAAAAAAAAAAAAAAAAAAAAAAAAAAAAAAAAAAAAAAAAAAAAAAAAAAAAAAAAAAAAAAAAAAAAAAAAAAAAAAAAAAAAAAAAAAAAAAAAAAAAAAAAAAAAAAAAAAAAAAAAAAAAAAAAAAAAAAAAAAAAAAAAAAAAAAAAAAAAAAAAAAAAAAAAAAAAAAAAAAAAAAAAAAAAAAAAAAAAAAAAAAAAAAAAAAAAAAAAAAAAAAAAAAAAAAAAAAAAAAAAAAAAAAAAAAAAAAAAAAAAAAAAAAAAAAAAAAAAAAAAAAAAAAAAAAAAAAAAAAAAAAAAAAAAAAAAAAAAAAAAAAAAAAAAAAAAAAAAAAAAAAAAAAAAAAAAAAAAAAAAAAAAAAAAAAAAAAAAAAAAAAAAAAAAAAAAAAAAAAAAAAAAAAAAAAAAAAAAAAACwAAAAAHAAcAEAI/wABCBxIsKDBgwgJGgjQAIBDBAEEAJhIkaICAw8AaNzIcWOBAAESABhJsqTJkyhTqgQgIIDLAA4GAJhJs6bNmzQLEAjAkyeAn0CDAhhQgIECBQYCKF26AAGAp1CjSp1KtapVqA4CLAAAYMCCAAIAiB1LtmzZAQkCBCBQAICCAAcAyJ1Lt65dugcCBADAt29fAQECBzAgoLDhwgESCwDAuLHjx5AjS55MubLly5YLCNjMAIDnz6BDiwaAIICBAwgCBFgwAIDr17Bjw2YQIMABALgXEEAAoLfv38B/JwgQoAEAAAUMGBgAoLnz59ChJwhAvQGBAAkAaN/Ovbt37QgcEFUIEACA+fPmHxQAwL69+/cMAhAAQL8+fQUBAhBIcGAAAIAABA4EUIBAgAAHACxk2LABgQARJU6UKADARYwZNWIc0NHjAAAhRY4kWdLkSZQpVa5kOTIgADs=\"><title>Layer: input (input)\n output range: (0.0, 1.0)\n shape = (28, 28, 1)\n Keras class = Input</title></image><text x=\"288.0\" y=\"507.0\" font-family=\"monospace\" font-size=\"12\" text-anchor=\"middle\" fill=\"black\" alignment-baseline=\"central\"  transform=\"rotate(-90 288.0 507.0) translate(2)\" >input</text><text x=\"88.0\" y=\"390\" font-family=\"monospace\" font-size=\"12\" text-anchor=\"middle\" fill=\"black\" alignment-baseline=\"central\"  transform=\"rotate(-90 88.0 390) translate(2)\" >1</text><text x=\"273.0\" y=\"620\" font-family=\"monospace\" font-size=\"12\" text-anchor=\"middle\" fill=\"black\" alignment-baseline=\"central\"  transform=\"rotate(-90 273.0 620) translate(2)\" >0</text><text x=\"18\" y=\"315.0\" font-family=\"monospace\" font-size=\"15\" text-anchor=\"middle\" fill=\"black\" alignment-baseline=\"central\"  transform=\"rotate(-90 18 315.0) translate(2)\" >MNIST_MLP</text></svg></g></svg></p>"
      }
     },
     "af22e8fa11db4baba172d6a0e8416871": {
      "model_module": "@jupyter-widgets/controls",
      "model_module_version": "1.1.0",
      "model_name": "DescriptionStyleModel",
      "state": {
       "description_width": ""
      }
     },
     "af647b9ef78844b68160ad1034f14d03": {
      "model_module": "@jupyter-widgets/controls",
      "model_module_version": "1.1.0",
      "model_name": "DescriptionStyleModel",
      "state": {
       "description_width": ""
      }
     },
     "b04079a3437a4877b54f9552364409b7": {
      "model_module": "@jupyter-widgets/controls",
      "model_module_version": "1.1.0",
      "model_name": "DescriptionStyleModel",
      "state": {
       "description_width": ""
      }
     },
     "b0c282c29508432694cfe6223f33579c": {
      "model_module": "@jupyter-widgets/controls",
      "model_module_version": "1.1.0",
      "model_name": "HBoxModel",
      "state": {
       "children": [
        "IPY_MODEL_4cd4986a246b46a1a9f2033815cbcc13",
        "IPY_MODEL_690dffefc02042dc96783de0f7b433e1"
       ],
       "layout": "IPY_MODEL_d9daa591a0cd4436a0f3b1bb381aff22"
      }
     },
     "b1dc2438b5204808a87c25eff7f1911b": {
      "model_module": "@jupyter-widgets/controls",
      "model_module_version": "1.1.0",
      "model_name": "DescriptionStyleModel",
      "state": {
       "description_width": "initial"
      }
     },
     "b3a7320d36c34bbfafc0321e8e87c7bf": {
      "model_module": "@jupyter-widgets/controls",
      "model_module_version": "1.1.0",
      "model_name": "ButtonStyleModel",
      "state": {}
     },
     "b4a09c15a3944403a2095143400c5452": {
      "model_module": "@jupyter-widgets/base",
      "model_module_version": "1.0.0",
      "model_name": "LayoutModel",
      "state": {
       "width": "10%"
      }
     },
     "b4ec39ef11de46e29568125c5321687d": {
      "model_module": "@jupyter-widgets/base",
      "model_module_version": "1.0.0",
      "model_name": "LayoutModel",
      "state": {
       "height": "40px"
      }
     },
     "b5039877e1384e819efa981154a9a879": {
      "model_module": "@jupyter-widgets/base",
      "model_module_version": "1.0.0",
      "model_name": "LayoutModel",
      "state": {}
     },
     "b61a6b4469b04ab1a56f53a289607f6f": {
      "model_module": "@jupyter-widgets/base",
      "model_module_version": "1.0.0",
      "model_name": "LayoutModel",
      "state": {}
     },
     "b65d939642164f8dbd141d2a35a92948": {
      "model_module": "@jupyter-widgets/controls",
      "model_module_version": "1.1.0",
      "model_name": "IntSliderModel",
      "state": {
       "continuous_update": false,
       "description": "Dataset index",
       "layout": "IPY_MODEL_bb43ced832b54a2ea2d5e6530ba63997",
       "max": 59999,
       "style": "IPY_MODEL_08ff05464464409aadb241c1abe39dca",
       "value": 4
      }
     },
     "b84af4b56f2c432aa98d167f4b7fa75a": {
      "model_module": "@jupyter-widgets/controls",
      "model_module_version": "1.1.0",
      "model_name": "ButtonStyleModel",
      "state": {}
     },
     "b8980d928cdc48a5920ff5badd25fe5a": {
      "model_module": "@jupyter-widgets/base",
      "model_module_version": "1.0.0",
      "model_name": "LayoutModel",
      "state": {
       "width": "100%"
      }
     },
     "b8cfbf3d224a4746a1b19a264ce0d226": {
      "model_module": "@jupyter-widgets/controls",
      "model_module_version": "1.1.0",
      "model_name": "CheckboxModel",
      "state": {
       "description": "Rotate network",
       "disabled": false,
       "layout": "IPY_MODEL_f352efa710e840b8b02373a1c8c241ac",
       "style": "IPY_MODEL_d86df3687ba344cbaadda506c2b6961c",
       "value": true
      }
     },
     "b8eb57fdddce4721a8d0e719ec25333c": {
      "model_module": "@jupyter-widgets/controls",
      "model_module_version": "1.1.0",
      "model_name": "DescriptionStyleModel",
      "state": {
       "description_width": ""
      }
     },
     "b909e32b49fc49d3beb4b0cac1d799b8": {
      "model_module": "@jupyter-widgets/controls",
      "model_module_version": "1.1.0",
      "model_name": "AccordionModel",
      "state": {
       "_titles": {
        "0": "MNIST_CNN"
       },
       "children": [
        "IPY_MODEL_d913d74d016a46adbbb4b8a1b9adffdd"
       ],
       "layout": "IPY_MODEL_6fbf452470b940af9e0a58f76a6b5983",
       "selected_index": null
      }
     },
     "b90b3bd2da884e4a952faf2386c15d1d": {
      "model_module": "@jupyter-widgets/controls",
      "model_module_version": "1.1.0",
      "model_name": "DescriptionStyleModel",
      "state": {
       "description_width": "initial"
      }
     },
     "b91f1ac928ac45d5b94d41cb8e00780f": {
      "model_module": "@jupyter-widgets/controls",
      "model_module_version": "1.1.0",
      "model_name": "SelectModel",
      "state": {
       "_options_labels": [
        "",
        "Accent",
        "Accent_r",
        "Blues",
        "Blues_r",
        "BrBG",
        "BrBG_r",
        "BuGn",
        "BuGn_r",
        "BuPu",
        "BuPu_r",
        "CMRmap",
        "CMRmap_r",
        "Dark2",
        "Dark2_r",
        "GnBu",
        "GnBu_r",
        "Greens",
        "Greens_r",
        "Greys",
        "Greys_r",
        "OrRd",
        "OrRd_r",
        "Oranges",
        "Oranges_r",
        "PRGn",
        "PRGn_r",
        "Paired",
        "Paired_r",
        "Pastel1",
        "Pastel1_r",
        "Pastel2",
        "Pastel2_r",
        "PiYG",
        "PiYG_r",
        "PuBu",
        "PuBuGn",
        "PuBuGn_r",
        "PuBu_r",
        "PuOr",
        "PuOr_r",
        "PuRd",
        "PuRd_r",
        "Purples",
        "Purples_r",
        "RdBu",
        "RdBu_r",
        "RdGy",
        "RdGy_r",
        "RdPu",
        "RdPu_r",
        "RdYlBu",
        "RdYlBu_r",
        "RdYlGn",
        "RdYlGn_r",
        "Reds",
        "Reds_r",
        "Set1",
        "Set1_r",
        "Set2",
        "Set2_r",
        "Set3",
        "Set3_r",
        "Spectral",
        "Spectral_r",
        "Vega10",
        "Vega10_r",
        "Vega20",
        "Vega20_r",
        "Vega20b",
        "Vega20b_r",
        "Vega20c",
        "Vega20c_r",
        "Wistia",
        "Wistia_r",
        "YlGn",
        "YlGnBu",
        "YlGnBu_r",
        "YlGn_r",
        "YlOrBr",
        "YlOrBr_r",
        "YlOrRd",
        "YlOrRd_r",
        "afmhot",
        "afmhot_r",
        "autumn",
        "autumn_r",
        "binary",
        "binary_r",
        "bone",
        "bone_r",
        "brg",
        "brg_r",
        "bwr",
        "bwr_r",
        "cool",
        "cool_r",
        "coolwarm",
        "coolwarm_r",
        "copper",
        "copper_r",
        "cubehelix",
        "cubehelix_r",
        "flag",
        "flag_r",
        "gist_earth",
        "gist_earth_r",
        "gist_gray",
        "gist_gray_r",
        "gist_heat",
        "gist_heat_r",
        "gist_ncar",
        "gist_ncar_r",
        "gist_rainbow",
        "gist_rainbow_r",
        "gist_stern",
        "gist_stern_r",
        "gist_yarg",
        "gist_yarg_r",
        "gnuplot",
        "gnuplot2",
        "gnuplot2_r",
        "gnuplot_r",
        "gray",
        "gray_r",
        "hot",
        "hot_r",
        "hsv",
        "hsv_r",
        "inferno",
        "inferno_r",
        "jet",
        "jet_r",
        "magma",
        "magma_r",
        "nipy_spectral",
        "nipy_spectral_r",
        "ocean",
        "ocean_r",
        "pink",
        "pink_r",
        "plasma",
        "plasma_r",
        "prism",
        "prism_r",
        "rainbow",
        "rainbow_r",
        "seismic",
        "seismic_r",
        "spectral",
        "spectral_r",
        "spring",
        "spring_r",
        "summer",
        "summer_r",
        "tab10",
        "tab10_r",
        "tab20",
        "tab20_r",
        "tab20b",
        "tab20b_r",
        "tab20c",
        "tab20c_r",
        "terrain",
        "terrain_r",
        "viridis",
        "viridis_r",
        "winter",
        "winter_r"
       ],
       "description": "Colormap:",
       "index": 3,
       "layout": "IPY_MODEL_3f5ac242b81047a7ada5d84cc8cb3aac",
       "rows": 1,
       "style": "IPY_MODEL_e635f01de8cf406887ecf088bbfaed05"
      }
     },
     "b962c960e6f343a8b61785a5ae22f061": {
      "model_module": "@jupyter-widgets/base",
      "model_module_version": "1.0.0",
      "model_name": "LayoutModel",
      "state": {
       "width": "52%"
      }
     },
     "ba4841b043db48968149bcbf359a18b0": {
      "model_module": "@jupyter-widgets/controls",
      "model_module_version": "1.1.0",
      "model_name": "DescriptionStyleModel",
      "state": {
       "description_width": "initial"
      }
     },
     "ba9748b5c5064e868bbc82ce202043ad": {
      "model_module": "@jupyter-widgets/controls",
      "model_module_version": "1.1.0",
      "model_name": "ButtonModel",
      "state": {
       "icon": "fast-forward",
       "layout": "IPY_MODEL_aae5be7d0bd841e5987af3aecdf5bb98",
       "style": "IPY_MODEL_80a252fc8d034ebc9bf3053c40f28658"
      }
     },
     "bb43ced832b54a2ea2d5e6530ba63997": {
      "model_module": "@jupyter-widgets/base",
      "model_module_version": "1.0.0",
      "model_name": "LayoutModel",
      "state": {
       "width": "100%"
      }
     },
     "bbe448d29c524b48a427a2e2ba350f09": {
      "model_module": "@jupyter-widgets/controls",
      "model_module_version": "1.1.0",
      "model_name": "DescriptionStyleModel",
      "state": {
       "description_width": ""
      }
     },
     "bd38e07ba78a4de88db4e8ed4cb46dd6": {
      "model_module": "@jupyter-widgets/controls",
      "model_module_version": "1.1.0",
      "model_name": "DescriptionStyleModel",
      "state": {
       "description_width": ""
      }
     },
     "bdb737e09ddc45dfab17446fa97d70a5": {
      "model_module": "@jupyter-widgets/controls",
      "model_module_version": "1.1.0",
      "model_name": "DescriptionStyleModel",
      "state": {
       "description_width": "initial"
      }
     },
     "be306ceca1f24298943835ce15099b68": {
      "model_module": "@jupyter-widgets/controls",
      "model_module_version": "1.1.0",
      "model_name": "FloatTextModel",
      "state": {
       "description": "Feature scale:",
       "layout": "IPY_MODEL_865af5c667bd4408a1841fb25642a55e",
       "step": null,
       "style": "IPY_MODEL_b90b3bd2da884e4a952faf2386c15d1d",
       "value": 1
      }
     },
     "be3aa58d1ec04bd9935fa033a59e5eef": {
      "model_module": "@jupyter-widgets/base",
      "model_module_version": "1.0.0",
      "model_name": "LayoutModel",
      "state": {
       "width": "52%"
      }
     },
     "be46f72e78784298af838d14967f932a": {
      "model_module": "@jupyter-widgets/controls",
      "model_module_version": "1.1.0",
      "model_name": "FloatSliderModel",
      "state": {
       "continuous_update": false,
       "description": "Zoom",
       "layout": "IPY_MODEL_4e9771e652734daea22560f9aee2fc07",
       "max": 1,
       "step": 0.1,
       "style": "IPY_MODEL_beb4a596305243ecacbfef44227d051d",
       "value": 0.5
      }
     },
     "be92e8d8852f4ab4b700ab8b6082ab6d": {
      "model_module": "@jupyter-widgets/base",
      "model_module_version": "1.0.0",
      "model_name": "LayoutModel",
      "state": {}
     },
     "beb4a596305243ecacbfef44227d051d": {
      "model_module": "@jupyter-widgets/controls",
      "model_module_version": "1.1.0",
      "model_name": "SliderStyleModel",
      "state": {
       "description_width": "initial"
      }
     },
     "c01b3851e6514a0a9692f84243ed7571": {
      "model_module": "@jupyter-widgets/controls",
      "model_module_version": "1.1.0",
      "model_name": "DescriptionStyleModel",
      "state": {
       "description_width": ""
      }
     },
     "c06043730bc1494ca75eef5719969b1f": {
      "model_module": "@jupyter-widgets/controls",
      "model_module_version": "1.1.0",
      "model_name": "DescriptionStyleModel",
      "state": {
       "description_width": "initial"
      }
     },
     "c0feaef8468741359583d7c9238741a2": {
      "model_module": "@jupyter-widgets/controls",
      "model_module_version": "1.1.0",
      "model_name": "ButtonModel",
      "state": {
       "icon": "backward",
       "layout": "IPY_MODEL_0ce863b06de94f919dd0dd02d9b99956",
       "style": "IPY_MODEL_327040d5fcdb4491b94dee45436a9568"
      }
     },
     "c11d5461da554b5f95fb63a39cc20efd": {
      "model_module": "@jupyter-widgets/controls",
      "model_module_version": "1.1.0",
      "model_name": "DescriptionStyleModel",
      "state": {
       "description_width": ""
      }
     },
     "c148949854ea4b51a5449c9dc5c74721": {
      "model_module": "@jupyter-widgets/base",
      "model_module_version": "1.0.0",
      "model_name": "LayoutModel",
      "state": {}
     },
     "c1502670d40946a4a72135f782648623": {
      "model_module": "@jupyter-widgets/controls",
      "model_module_version": "1.1.0",
      "model_name": "DescriptionStyleModel",
      "state": {
       "description_width": ""
      }
     },
     "c2d5b045ea0b419fa4f98c6a301c5cf3": {
      "model_module": "@jupyter-widgets/controls",
      "model_module_version": "1.1.0",
      "model_name": "DescriptionStyleModel",
      "state": {
       "description_width": ""
      }
     },
     "c2d70c66304246a98fefe36b80e2c5a1": {
      "model_module": "@jupyter-widgets/controls",
      "model_module_version": "1.1.0",
      "model_name": "DescriptionStyleModel",
      "state": {
       "description_width": ""
      }
     },
     "c2e29a5c6bb84cda8acd61581b1496ee": {
      "model_module": "@jupyter-widgets/base",
      "model_module_version": "1.0.0",
      "model_name": "LayoutModel",
      "state": {}
     },
     "c3ebb9ad9a394940bcbc70e536211474": {
      "model_module": "@jupyter-widgets/controls",
      "model_module_version": "1.1.0",
      "model_name": "DescriptionStyleModel",
      "state": {
       "description_width": "initial"
      }
     },
     "c3ed524e32b241dbb86c1699952c2413": {
      "model_module": "@jupyter-widgets/base",
      "model_module_version": "1.0.0",
      "model_name": "LayoutModel",
      "state": {}
     },
     "c42e30bc216d430bb9e2a7219f5e7680": {
      "model_module": "@jupyter-widgets/controls",
      "model_module_version": "1.1.0",
      "model_name": "DescriptionStyleModel",
      "state": {
       "description_width": ""
      }
     },
     "c491050fa35b4a7080cccfb7997a06a8": {
      "model_module": "@jupyter-widgets/base",
      "model_module_version": "1.0.0",
      "model_name": "LayoutModel",
      "state": {}
     },
     "c4c4689b4fc94593b979772c01537ef9": {
      "model_module": "@jupyter-widgets/controls",
      "model_module_version": "1.1.0",
      "model_name": "VBoxModel",
      "state": {
       "children": [
        "IPY_MODEL_1e8e31c9df704b4ea6044b3925bed763",
        "IPY_MODEL_92d227ab31114afb9616bdd4af7e5bdb",
        "IPY_MODEL_ad832088c3b844f2a8c5b0890a045505",
        "IPY_MODEL_76b8ead6e5d646f6ab32428e9f1a400f"
       ],
       "layout": "IPY_MODEL_21a08b783f6f416c96642a10a8961fe3"
      }
     },
     "c5683164e536458b9ed15bb22f085c71": {
      "model_module": "@jupyter-widgets/controls",
      "model_module_version": "1.1.0",
      "model_name": "DescriptionStyleModel",
      "state": {
       "description_width": ""
      }
     },
     "c5a78f24d7394962bf0c979c6da4f931": {
      "model_module": "@jupyter-widgets/controls",
      "model_module_version": "1.1.0",
      "model_name": "LabelModel",
      "state": {
       "layout": "IPY_MODEL_8fc6948e62eb4b0c965e55ab269d950b",
       "style": "IPY_MODEL_47f4e2447c384122842be98eb2d6dc48",
       "value": "of 60000"
      }
     },
     "c5c85e6d86814f7dbdb78031a95acb48": {
      "model_module": "@jupyter-widgets/controls",
      "model_module_version": "1.1.0",
      "model_name": "IntSliderModel",
      "state": {
       "continuous_update": false,
       "description": "Dataset index",
       "layout": "IPY_MODEL_90f2336f0709471cbe43d575c2f4055d",
       "max": 59999,
       "style": "IPY_MODEL_57db29d6a86d4b68b72db8cc8870c153"
      }
     },
     "c65f3030a32b400083417a487ca78695": {
      "model_module": "@jupyter-widgets/controls",
      "model_module_version": "1.1.0",
      "model_name": "ButtonStyleModel",
      "state": {}
     },
     "c6613434354a4757a1e313434f827014": {
      "model_module": "@jupyter-widgets/base",
      "model_module_version": "1.0.0",
      "model_name": "LayoutModel",
      "state": {}
     },
     "c6ccedc8f76c458996dfc73d44167f3f": {
      "model_module": "@jupyter-widgets/controls",
      "model_module_version": "1.1.0",
      "model_name": "ButtonModel",
      "state": {
       "icon": "forward",
       "layout": "IPY_MODEL_2c8339416e804df3b9977ea94c9f2f04",
       "style": "IPY_MODEL_fd25e15dae9a49ef830c9ec76ea7952e"
      }
     },
     "c74da9b3a3ac484abe40fa64c27d69a0": {
      "model_module": "@jupyter-widgets/controls",
      "model_module_version": "1.1.0",
      "model_name": "IntTextModel",
      "state": {
       "description": "Vertical space between layers:",
       "layout": "IPY_MODEL_3f5ac242b81047a7ada5d84cc8cb3aac",
       "step": 1,
       "style": "IPY_MODEL_cb189d200c4d4fac877383244fad0bb6",
       "value": 30
      }
     },
     "c76b421aab8241538351e6090561c452": {
      "model_module": "@jupyter-widgets/controls",
      "model_module_version": "1.1.0",
      "model_name": "CheckboxModel",
      "state": {
       "description": "Visible",
       "disabled": false,
       "layout": "IPY_MODEL_661020dd36614d018e98a1db5ad2fe5e",
       "style": "IPY_MODEL_af647b9ef78844b68160ad1034f14d03",
       "value": true
      }
     },
     "c91b95bfac56436fbf28ddfa59ce6ba5": {
      "model_module": "@jupyter-widgets/controls",
      "model_module_version": "1.1.0",
      "model_name": "IntTextModel",
      "state": {
       "description": "Feature to show:",
       "layout": "IPY_MODEL_128108c5be254fd99c83490cd35dbdbe",
       "step": 1,
       "style": "IPY_MODEL_8c52842ae59b49e9b4932949447db632"
      }
     },
     "c948f7283a444bb0b881092c7c3a84cc": {
      "model_module": "@jupyter-widgets/controls",
      "model_module_version": "1.1.0",
      "model_name": "FloatTextModel",
      "state": {
       "description": "Rightmost color maps to:",
       "layout": "IPY_MODEL_e2a21660c22d4c2ba6804cb44fc6fabf",
       "step": null,
       "style": "IPY_MODEL_72f6dbf8560041f693f9b3f10374c181",
       "value": 1
      }
     },
     "cb189d200c4d4fac877383244fad0bb6": {
      "model_module": "@jupyter-widgets/controls",
      "model_module_version": "1.1.0",
      "model_name": "DescriptionStyleModel",
      "state": {
       "description_width": "initial"
      }
     },
     "cb1bc00b76994cc8a99d1c5428f1e492": {
      "model_module": "@jupyter-widgets/controls",
      "model_module_version": "1.1.0",
      "model_name": "ButtonStyleModel",
      "state": {}
     },
     "cc2c3beaa8d9423d9c85a922e6fbfe32": {
      "model_module": "@jupyter-widgets/controls",
      "model_module_version": "1.1.0",
      "model_name": "CheckboxModel",
      "state": {
       "description": "Rotate",
       "disabled": false,
       "layout": "IPY_MODEL_661020dd36614d018e98a1db5ad2fe5e",
       "style": "IPY_MODEL_606ba666d65d49ffab77d92e5f6a5d4e",
       "value": true
      }
     },
     "cc46e2d21a2245319222f6bdb70d820d": {
      "model_module": "@jupyter-widgets/base",
      "model_module_version": "1.0.0",
      "model_name": "LayoutModel",
      "state": {}
     },
     "cdb61fb9bed244498acac2dad1cc035b": {
      "model_module": "@jupyter-widgets/controls",
      "model_module_version": "1.1.0",
      "model_name": "ButtonStyleModel",
      "state": {}
     },
     "cf550ba00899490cb33cc03d7b8f37cb": {
      "model_module": "@jupyter-widgets/base",
      "model_module_version": "1.0.0",
      "model_name": "LayoutModel",
      "state": {
       "width": "100%"
      }
     },
     "d049115fdee24b03adecc2cdf22d154a": {
      "model_module": "@jupyter-widgets/base",
      "model_module_version": "1.0.0",
      "model_name": "LayoutModel",
      "state": {
       "justify_content": "center",
       "overflow_x": "auto",
       "overflow_y": "auto",
       "width": "95%"
      }
     },
     "d0d69109c07d41bc82148b83f285224c": {
      "model_module": "@jupyter-widgets/controls",
      "model_module_version": "1.1.0",
      "model_name": "SelectModel",
      "state": {
       "_options_labels": [
        "Test",
        "Train"
       ],
       "description": "Dataset:",
       "index": 1,
       "layout": "IPY_MODEL_116cc699e8994a9f84e6867818947a91",
       "rows": 1,
       "style": "IPY_MODEL_c5683164e536458b9ed15bb22f085c71"
      }
     },
     "d16edd2025df491384dfaf3d941e2f27": {
      "model_module": "@jupyter-widgets/controls",
      "model_module_version": "1.1.0",
      "model_name": "SelectModel",
      "state": {
       "_options_labels": [
        "",
        "Accent",
        "Accent_r",
        "Blues",
        "Blues_r",
        "BrBG",
        "BrBG_r",
        "BuGn",
        "BuGn_r",
        "BuPu",
        "BuPu_r",
        "CMRmap",
        "CMRmap_r",
        "Dark2",
        "Dark2_r",
        "GnBu",
        "GnBu_r",
        "Greens",
        "Greens_r",
        "Greys",
        "Greys_r",
        "OrRd",
        "OrRd_r",
        "Oranges",
        "Oranges_r",
        "PRGn",
        "PRGn_r",
        "Paired",
        "Paired_r",
        "Pastel1",
        "Pastel1_r",
        "Pastel2",
        "Pastel2_r",
        "PiYG",
        "PiYG_r",
        "PuBu",
        "PuBuGn",
        "PuBuGn_r",
        "PuBu_r",
        "PuOr",
        "PuOr_r",
        "PuRd",
        "PuRd_r",
        "Purples",
        "Purples_r",
        "RdBu",
        "RdBu_r",
        "RdGy",
        "RdGy_r",
        "RdPu",
        "RdPu_r",
        "RdYlBu",
        "RdYlBu_r",
        "RdYlGn",
        "RdYlGn_r",
        "Reds",
        "Reds_r",
        "Set1",
        "Set1_r",
        "Set2",
        "Set2_r",
        "Set3",
        "Set3_r",
        "Spectral",
        "Spectral_r",
        "Vega10",
        "Vega10_r",
        "Vega20",
        "Vega20_r",
        "Vega20b",
        "Vega20b_r",
        "Vega20c",
        "Vega20c_r",
        "Wistia",
        "Wistia_r",
        "YlGn",
        "YlGnBu",
        "YlGnBu_r",
        "YlGn_r",
        "YlOrBr",
        "YlOrBr_r",
        "YlOrRd",
        "YlOrRd_r",
        "afmhot",
        "afmhot_r",
        "autumn",
        "autumn_r",
        "binary",
        "binary_r",
        "bone",
        "bone_r",
        "brg",
        "brg_r",
        "bwr",
        "bwr_r",
        "cool",
        "cool_r",
        "coolwarm",
        "coolwarm_r",
        "copper",
        "copper_r",
        "cubehelix",
        "cubehelix_r",
        "flag",
        "flag_r",
        "gist_earth",
        "gist_earth_r",
        "gist_gray",
        "gist_gray_r",
        "gist_heat",
        "gist_heat_r",
        "gist_ncar",
        "gist_ncar_r",
        "gist_rainbow",
        "gist_rainbow_r",
        "gist_stern",
        "gist_stern_r",
        "gist_yarg",
        "gist_yarg_r",
        "gnuplot",
        "gnuplot2",
        "gnuplot2_r",
        "gnuplot_r",
        "gray",
        "gray_r",
        "hot",
        "hot_r",
        "hsv",
        "hsv_r",
        "inferno",
        "inferno_r",
        "jet",
        "jet_r",
        "magma",
        "magma_r",
        "nipy_spectral",
        "nipy_spectral_r",
        "ocean",
        "ocean_r",
        "pink",
        "pink_r",
        "plasma",
        "plasma_r",
        "prism",
        "prism_r",
        "rainbow",
        "rainbow_r",
        "seismic",
        "seismic_r",
        "spectral",
        "spectral_r",
        "spring",
        "spring_r",
        "summer",
        "summer_r",
        "tab10",
        "tab10_r",
        "tab20",
        "tab20_r",
        "tab20b",
        "tab20b_r",
        "tab20c",
        "tab20c_r",
        "terrain",
        "terrain_r",
        "viridis",
        "viridis_r",
        "winter",
        "winter_r"
       ],
       "description": "Colormap:",
       "index": 0,
       "layout": "IPY_MODEL_661020dd36614d018e98a1db5ad2fe5e",
       "rows": 1,
       "style": "IPY_MODEL_c1502670d40946a4a72135f782648623"
      }
     },
     "d44765ca714b4127ba3af1a3975325fb": {
      "model_module": "@jupyter-widgets/base",
      "model_module_version": "1.0.0",
      "model_name": "LayoutModel",
      "state": {}
     },
     "d4edf50a74814c1dbf470b954de56dd2": {
      "model_module": "@jupyter-widgets/base",
      "model_module_version": "1.0.0",
      "model_name": "LayoutModel",
      "state": {
       "width": "100%"
      }
     },
     "d6437246fc0b43b3adfdca817aaccf09": {
      "model_module": "@jupyter-widgets/controls",
      "model_module_version": "1.1.0",
      "model_name": "HBoxModel",
      "state": {
       "children": [
        "IPY_MODEL_07e4267cfeee4f25b6105ddb607f6b5b",
        "IPY_MODEL_69f2cf4cdfa846ceb5f403dd73e0dc2c",
        "IPY_MODEL_287b771a1c9645adbf59beaf21c21346",
        "IPY_MODEL_c6ccedc8f76c458996dfc73d44167f3f",
        "IPY_MODEL_5951fa50636c42c2be1bd303f40fcf6f",
        "IPY_MODEL_2c55c573f011406f956c72733c7d232d",
        "IPY_MODEL_7e9634d73d764d58beaed674e5008675"
       ],
       "layout": "IPY_MODEL_957d5dd1e6414bc29040d0a831de5cfd"
      }
     },
     "d7538a449b454340b780979c32ce83d9": {
      "model_module": "@jupyter-widgets/controls",
      "model_module_version": "1.1.0",
      "model_name": "IntTextModel",
      "state": {
       "description": "Feature to show:",
       "layout": "IPY_MODEL_5021ba50313641569da666424e3eebc5",
       "step": 1,
       "style": "IPY_MODEL_b1dc2438b5204808a87c25eff7f1911b"
      }
     },
     "d7d346a3743042b9ada4c9b9c5bd852b": {
      "model_module": "@jupyter-widgets/controls",
      "model_module_version": "1.1.0",
      "model_name": "DescriptionStyleModel",
      "state": {
       "description_width": "initial"
      }
     },
     "d813642eed35434b8c54ec03e133fe10": {
      "model_module": "@jupyter-widgets/controls",
      "model_module_version": "1.1.0",
      "model_name": "IntTextModel",
      "state": {
       "description": "Horizontal space between banks:",
       "layout": "IPY_MODEL_3f5ac242b81047a7ada5d84cc8cb3aac",
       "step": 1,
       "style": "IPY_MODEL_215e67808eea4244a0e7b9a65ba6111b",
       "value": 150
      }
     },
     "d84be7c37d224bf59075e5b5e8d7d332": {
      "model_module": "@jupyter-widgets/controls",
      "model_module_version": "1.1.0",
      "model_name": "ButtonModel",
      "state": {
       "icon": "refresh",
       "layout": "IPY_MODEL_053f4606488b46a696caf209e144c66b",
       "style": "IPY_MODEL_b84af4b56f2c432aa98d167f4b7fa75a"
      }
     },
     "d86df3687ba344cbaadda506c2b6961c": {
      "model_module": "@jupyter-widgets/controls",
      "model_module_version": "1.1.0",
      "model_name": "DescriptionStyleModel",
      "state": {
       "description_width": "initial"
      }
     },
     "d88e8117d31746a3a65f2bde8d0f9713": {
      "model_module": "@jupyter-widgets/controls",
      "model_module_version": "1.1.0",
      "model_name": "ButtonModel",
      "state": {
       "icon": "fast-forward",
       "layout": "IPY_MODEL_09e2e6e6a28d423484599aad42e1599a",
       "style": "IPY_MODEL_cdb61fb9bed244498acac2dad1cc035b"
      }
     },
     "d8948bcf485d48afab95fca66e70c972": {
      "model_module": "@jupyter-widgets/controls",
      "model_module_version": "1.1.0",
      "model_name": "DescriptionStyleModel",
      "state": {
       "description_width": ""
      }
     },
     "d8fc0117fa5b4736989f0c7ff87f74cf": {
      "model_module": "@jupyter-widgets/controls",
      "model_module_version": "1.1.0",
      "model_name": "FloatSliderModel",
      "state": {
       "continuous_update": false,
       "description": "Zoom",
       "layout": "IPY_MODEL_930423977dca4fc39a213fd9c8a17fae",
       "max": 1,
       "step": 0.1,
       "style": "IPY_MODEL_ab5b4da870434dd2b515d5be7b954a5f",
       "value": 0.5
      }
     },
     "d913d74d016a46adbbb4b8a1b9adffdd": {
      "model_module": "@jupyter-widgets/controls",
      "model_module_version": "1.1.0",
      "model_name": "HBoxModel",
      "state": {
       "children": [
        "IPY_MODEL_70d163252a4c444ba10e52c0c227f634",
        "IPY_MODEL_ed48f5d5f3764359990dc05cf72f24e5"
       ],
       "layout": "IPY_MODEL_47821b222f85410e93c20b0242ca46d0"
      }
     },
     "d9daa591a0cd4436a0f3b1bb381aff22": {
      "model_module": "@jupyter-widgets/base",
      "model_module_version": "1.0.0",
      "model_name": "LayoutModel",
      "state": {}
     },
     "da7af56aa51c4a8eb2cb54b1dbda0f97": {
      "model_module": "@jupyter-widgets/base",
      "model_module_version": "1.0.0",
      "model_name": "LayoutModel",
      "state": {
       "width": "100%"
      }
     },
     "db22ae94397748d2a80b96a3e0b4a72e": {
      "model_module": "@jupyter-widgets/base",
      "model_module_version": "1.0.0",
      "model_name": "LayoutModel",
      "state": {
       "width": "100%"
      }
     },
     "dc708286d1e941ef91a9d406ca821d1b": {
      "model_module": "@jupyter-widgets/controls",
      "model_module_version": "1.1.0",
      "model_name": "HBoxModel",
      "state": {
       "children": [
        "IPY_MODEL_e4b1d3e618424a79b3ec2d97c45f3540",
        "IPY_MODEL_c5a78f24d7394962bf0c979c6da4f931"
       ],
       "layout": "IPY_MODEL_b4ec39ef11de46e29568125c5321687d"
      }
     },
     "dd63fd368eff43ff86e776a3080edbd9": {
      "model_module": "@jupyter-widgets/base",
      "model_module_version": "1.0.0",
      "model_name": "LayoutModel",
      "state": {
       "justify_content": "center",
       "overflow_x": "auto",
       "overflow_y": "auto",
       "width": "95%"
      }
     },
     "de50deb966594d769f6669804f9f0b3c": {
      "model_module": "@jupyter-widgets/controls",
      "model_module_version": "1.1.0",
      "model_name": "DescriptionStyleModel",
      "state": {
       "description_width": ""
      }
     },
     "dea5bf073d25406daa982cd609fc8fbc": {
      "model_module": "@jupyter-widgets/controls",
      "model_module_version": "1.1.0",
      "model_name": "HBoxModel",
      "state": {
       "children": [
        "IPY_MODEL_20b3469b741d4e8db1f11b2d79b3823c",
        "IPY_MODEL_54b69a5065854bfc9e3456fc5c18bdb9"
       ],
       "layout": "IPY_MODEL_b5039877e1384e819efa981154a9a879"
      }
     },
     "df04c6f239db4d4093ca5093d0041f2b": {
      "model_module": "@jupyter-widgets/controls",
      "model_module_version": "1.1.0",
      "model_name": "DescriptionStyleModel",
      "state": {
       "description_width": ""
      }
     },
     "df4618ee6638475d81db08f117fd5b9a": {
      "model_module": "@jupyter-widgets/base",
      "model_module_version": "1.0.0",
      "model_name": "LayoutModel",
      "state": {}
     },
     "dfec4dcef44d4a68b7219ad3a750b648": {
      "model_module": "@jupyter-widgets/controls",
      "model_module_version": "1.1.0",
      "model_name": "VBoxModel",
      "state": {
       "children": [
        "IPY_MODEL_a72f03d30e464a00bc9deab872d9eb30",
        "IPY_MODEL_d6437246fc0b43b3adfdca817aaccf09"
       ],
       "layout": "IPY_MODEL_e966743d016d49e38dc4d9e1849433d6"
      }
     },
     "e088b1704bd1474899c96b6d7e459608": {
      "model_module": "@jupyter-widgets/controls",
      "model_module_version": "1.1.0",
      "model_name": "AccordionModel",
      "state": {
       "_titles": {
        "0": "MNIST_MLP"
       },
       "children": [
        "IPY_MODEL_23c54cb4f14e40458fea330a4e91f53f"
       ],
       "layout": "IPY_MODEL_33241488c7814817917750c212dc159f",
       "selected_index": null
      }
     },
     "e1a01c1fabce4d62bd2caeffb45fed3f": {
      "model_module": "@jupyter-widgets/base",
      "model_module_version": "1.0.0",
      "model_name": "LayoutModel",
      "state": {
       "width": "100%"
      }
     },
     "e2a21660c22d4c2ba6804cb44fc6fabf": {
      "model_module": "@jupyter-widgets/base",
      "model_module_version": "1.0.0",
      "model_name": "LayoutModel",
      "state": {}
     },
     "e2a9444acc024d24aceba5a9c00c2a42": {
      "model_module": "@jupyter-widgets/base",
      "model_module_version": "1.0.0",
      "model_name": "LayoutModel",
      "state": {
       "width": "25%"
      }
     },
     "e387ce213e3e47e1ae2245f07b7f0b60": {
      "model_module": "@jupyter-widgets/controls",
      "model_module_version": "1.1.0",
      "model_name": "CheckboxModel",
      "state": {
       "description": "Errors",
       "disabled": false,
       "layout": "IPY_MODEL_661020dd36614d018e98a1db5ad2fe5e",
       "style": "IPY_MODEL_209b96a2856b49d5910aadf074ca3ede",
       "value": false
      }
     },
     "e3ebcd0d82094d9aaa33b5ba405d3edb": {
      "model_module": "@jupyter-widgets/controls",
      "model_module_version": "1.1.0",
      "model_name": "DescriptionStyleModel",
      "state": {
       "description_width": ""
      }
     },
     "e46addd804574b228df82134ba6ddee4": {
      "model_module": "@jupyter-widgets/controls",
      "model_module_version": "1.1.0",
      "model_name": "IntTextModel",
      "state": {
       "description": "Vertical space between layers:",
       "layout": "IPY_MODEL_661020dd36614d018e98a1db5ad2fe5e",
       "step": 1,
       "style": "IPY_MODEL_e6d12d09e54d4b909e4ce96c5e26a7ea",
       "value": 30
      }
     },
     "e4b1d3e618424a79b3ec2d97c45f3540": {
      "model_module": "@jupyter-widgets/controls",
      "model_module_version": "1.1.0",
      "model_name": "IntSliderModel",
      "state": {
       "continuous_update": false,
       "description": "Dataset index",
       "layout": "IPY_MODEL_973d273a6c604946802afcccf077e8d0",
       "max": 59999,
       "style": "IPY_MODEL_431491621a334a60a2c0ac79f8294cd5"
      }
     },
     "e4cc4f5c8397447a9050622c4748abf2": {
      "model_module": "@jupyter-widgets/controls",
      "model_module_version": "1.1.0",
      "model_name": "HBoxModel",
      "state": {
       "children": [
        "IPY_MODEL_fbfbafddf4f04c05aee09feff1d1f942",
        "IPY_MODEL_9e6be4ceb2a942b4a30fe2798295b004"
       ],
       "layout": "IPY_MODEL_0d11b6520acc4082b0d7831860dac205"
      }
     },
     "e56bb9aa74bd44f7b4411a2f7af11778": {
      "model_module": "@jupyter-widgets/controls",
      "model_module_version": "1.1.0",
      "model_name": "HTMLModel",
      "state": {
       "layout": "IPY_MODEL_5c4439583e294cc4b35b78e4b140e1d7",
       "style": "IPY_MODEL_35ea6a5ca985486b9e442e732efcb576",
       "value": "<img src=\"data:image/gif;base64,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\"/>"
      }
     },
     "e635f01de8cf406887ecf088bbfaed05": {
      "model_module": "@jupyter-widgets/controls",
      "model_module_version": "1.1.0",
      "model_name": "DescriptionStyleModel",
      "state": {
       "description_width": ""
      }
     },
     "e698c74cfa9c408ab21410af31e8eda8": {
      "model_module": "@jupyter-widgets/controls",
      "model_module_version": "1.1.0",
      "model_name": "AccordionModel",
      "state": {
       "_titles": {
        "0": "MNIST_CNN"
       },
       "children": [
        "IPY_MODEL_93feb587d51b4950933191f0b21405f0"
       ],
       "layout": "IPY_MODEL_7f74796232e04737a8408bec3ddc0867",
       "selected_index": null
      }
     },
     "e6d12d09e54d4b909e4ce96c5e26a7ea": {
      "model_module": "@jupyter-widgets/controls",
      "model_module_version": "1.1.0",
      "model_name": "DescriptionStyleModel",
      "state": {
       "description_width": "initial"
      }
     },
     "e6dda010a5b04029b238b3860ddab02a": {
      "model_module": "@jupyter-widgets/controls",
      "model_module_version": "1.1.0",
      "model_name": "DescriptionStyleModel",
      "state": {
       "description_width": "initial"
      }
     },
     "e8da31305c0e4e6e899748197cd0cba7": {
      "model_module": "@jupyter-widgets/base",
      "model_module_version": "1.0.0",
      "model_name": "LayoutModel",
      "state": {}
     },
     "e93d1e19185f4d51855c915783ce727e": {
      "model_module": "@jupyter-widgets/controls",
      "model_module_version": "1.1.0",
      "model_name": "DescriptionStyleModel",
      "state": {
       "description_width": "initial"
      }
     },
     "e966743d016d49e38dc4d9e1849433d6": {
      "model_module": "@jupyter-widgets/base",
      "model_module_version": "1.0.0",
      "model_name": "LayoutModel",
      "state": {
       "width": "100%"
      }
     },
     "e9753c0b73cb4e8988c7518ea09906ad": {
      "model_module": "@jupyter-widgets/controls",
      "model_module_version": "1.1.0",
      "model_name": "DescriptionStyleModel",
      "state": {
       "description_width": ""
      }
     },
     "ea50d14d02b14486954e0657375cc8ee": {
      "model_module": "@jupyter-widgets/controls",
      "model_module_version": "1.1.0",
      "model_name": "HBoxModel",
      "state": {
       "children": [
        "IPY_MODEL_2ae9423cdff449d2b2aca50dccc80c88",
        "IPY_MODEL_29556098156d401ab0eae1f60066a78d"
       ],
       "layout": "IPY_MODEL_79029fab8cac40d98114d632abeaa963"
      }
     },
     "eafa5262b9b0409faf9f2d7014068e10": {
      "model_module": "@jupyter-widgets/controls",
      "model_module_version": "1.1.0",
      "model_name": "DescriptionStyleModel",
      "state": {
       "description_width": "initial"
      }
     },
     "ed48f5d5f3764359990dc05cf72f24e5": {
      "model_module": "@jupyter-widgets/controls",
      "model_module_version": "1.1.0",
      "model_name": "VBoxModel",
      "state": {
       "children": [
        "IPY_MODEL_05d530e1064440c897428b5977e291f8",
        "IPY_MODEL_00655d5c7d7543a093acc1386bc58bfc",
        "IPY_MODEL_5e0836968430451c96041ef8419276bb",
        "IPY_MODEL_89da00bf5e8d4e7dbaa321c01133707b",
        "IPY_MODEL_0601860cf27a482eac2df6cb2700877e",
        "IPY_MODEL_4b570d8c3e3f4e00966cd25a09d2f395",
        "IPY_MODEL_7dacfc8e113b46c8b007f403ec1d8485",
        "IPY_MODEL_dea5bf073d25406daa982cd609fc8fbc"
       ],
       "layout": "IPY_MODEL_043413b631494bd68615947881d61d2e"
      }
     },
     "edbe89422665434fa243393a6e702bc6": {
      "model_module": "@jupyter-widgets/base",
      "model_module_version": "1.0.0",
      "model_name": "LayoutModel",
      "state": {
       "justify_content": "center",
       "overflow_x": "auto",
       "overflow_y": "auto",
       "width": "95%"
      }
     },
     "ee79b763126742c7a52e2d77e87de571": {
      "model_module": "@jupyter-widgets/base",
      "model_module_version": "1.0.0",
      "model_name": "LayoutModel",
      "state": {
       "width": "100%"
      }
     },
     "eef4ea0e36154c77ad58e81de2c8f73f": {
      "model_module": "@jupyter-widgets/controls",
      "model_module_version": "1.1.0",
      "model_name": "VBoxModel",
      "state": {
       "children": [
        "IPY_MODEL_dc708286d1e941ef91a9d406ca821d1b",
        "IPY_MODEL_655949d6959c43bca0298d95a5c8c575"
       ],
       "layout": "IPY_MODEL_a3da5e6cd1e648c4be239db21525dffd"
      }
     },
     "f01ea180c26d40939c3bbe393baf2498": {
      "model_module": "@jupyter-widgets/base",
      "model_module_version": "1.0.0",
      "model_name": "LayoutModel",
      "state": {}
     },
     "f0e25bf85f1f42be9266725812099092": {
      "model_module": "@jupyter-widgets/base",
      "model_module_version": "1.0.0",
      "model_name": "LayoutModel",
      "state": {}
     },
     "f13990cc218c439aa87abc71373c54ee": {
      "model_module": "@jupyter-widgets/controls",
      "model_module_version": "1.1.0",
      "model_name": "LabelModel",
      "state": {
       "layout": "IPY_MODEL_3b37654640b142258d940fdcc8676cd7",
       "style": "IPY_MODEL_e3ebcd0d82094d9aaa33b5ba405d3edb",
       "value": "of 60000"
      }
     },
     "f2b61860d21f4c32b7163413def91a0b": {
      "model_module": "@jupyter-widgets/base",
      "model_module_version": "1.0.0",
      "model_name": "LayoutModel",
      "state": {}
     },
     "f352efa710e840b8b02373a1c8c241ac": {
      "model_module": "@jupyter-widgets/base",
      "model_module_version": "1.0.0",
      "model_name": "LayoutModel",
      "state": {
       "width": "52%"
      }
     },
     "f4466242ebe848dea27dd0ca3b9c6a5e": {
      "model_module": "@jupyter-widgets/controls",
      "model_module_version": "1.1.0",
      "model_name": "VBoxModel",
      "state": {
       "children": [
        "IPY_MODEL_e698c74cfa9c408ab21410af31e8eda8",
        "IPY_MODEL_7cf9d0b4cc934449aee0a0bfda34d737",
        "IPY_MODEL_8d4bd072f32147a483ff7f58c407059c",
        "IPY_MODEL_01ff490b6e234caa976b99359f19fa01"
       ],
       "layout": "IPY_MODEL_98e34cf221d1441392ad9b94b4be3325"
      }
     },
     "f4efe0cb32b647a1ad793b21380d7ee3": {
      "model_module": "@jupyter-widgets/controls",
      "model_module_version": "1.1.0",
      "model_name": "DescriptionStyleModel",
      "state": {
       "description_width": "initial"
      }
     },
     "f6616a729f7244e3a54ddba147802232": {
      "model_module": "@jupyter-widgets/controls",
      "model_module_version": "1.1.0",
      "model_name": "IntTextModel",
      "state": {
       "layout": "IPY_MODEL_204bbcf82dd94e48ae0464f43bc05ccb",
       "step": 1,
       "style": "IPY_MODEL_c11d5461da554b5f95fb63a39cc20efd"
      }
     },
     "f6627f50c9564261978caa56649fa4ff": {
      "model_module": "@jupyter-widgets/controls",
      "model_module_version": "1.1.0",
      "model_name": "HBoxModel",
      "state": {
       "children": [
        "IPY_MODEL_6f72664aed064b31b6b3a934b7d62075",
        "IPY_MODEL_f13990cc218c439aa87abc71373c54ee"
       ],
       "layout": "IPY_MODEL_9df220fb113b4d8480eca0310b5115d2"
      }
     },
     "f6d75537e9734380ad4b3ccbdffbd1eb": {
      "model_module": "@jupyter-widgets/controls",
      "model_module_version": "1.1.0",
      "model_name": "ButtonModel",
      "state": {
       "icon": "forward",
       "layout": "IPY_MODEL_2468c728df394d40823b29bfb6ef8594",
       "style": "IPY_MODEL_0bfbdb03be3a48c995755375b501adcf"
      }
     },
     "f7c6710f117743469517a29a75252730": {
      "model_module": "@jupyter-widgets/base",
      "model_module_version": "1.0.0",
      "model_name": "LayoutModel",
      "state": {
       "width": "100%"
      }
     },
     "f7d080ec52b54ad4b569aba02af8ecf8": {
      "model_module": "@jupyter-widgets/base",
      "model_module_version": "1.0.0",
      "model_name": "LayoutModel",
      "state": {}
     },
     "f828be238d184857ac4556e73c4fb6ec": {
      "model_module": "@jupyter-widgets/controls",
      "model_module_version": "1.1.0",
      "model_name": "DescriptionStyleModel",
      "state": {
       "description_width": ""
      }
     },
     "f8a4301b2cb2428a9fe3f5ca68f99dd5": {
      "model_module": "@jupyter-widgets/controls",
      "model_module_version": "1.1.0",
      "model_name": "HBoxModel",
      "state": {
       "children": [
        "IPY_MODEL_fd7b87b651f44054b09fe0d08c8c3857",
        "IPY_MODEL_c0feaef8468741359583d7c9238741a2",
        "IPY_MODEL_50f347e25ad54bf2abb9c5ad5ba99c93",
        "IPY_MODEL_2d821355d9a04aa2a789b70e518925d7",
        "IPY_MODEL_ba9748b5c5064e868bbc82ce202043ad",
        "IPY_MODEL_24a750bb58234440a8d8bfca075fbcaa",
        "IPY_MODEL_4ad548bbe54c4406bf36565e2ab80253"
       ],
       "layout": "IPY_MODEL_59a87860d03e494099af3b19d33190f0"
      }
     },
     "f8b46844f42743b587119811e1026cee": {
      "model_module": "@jupyter-widgets/controls",
      "model_module_version": "1.1.0",
      "model_name": "DescriptionStyleModel",
      "state": {
       "description_width": "initial"
      }
     },
     "f9a0da639aff4c779d649cee3ff6405d": {
      "model_module": "@jupyter-widgets/controls",
      "model_module_version": "1.1.0",
      "model_name": "CheckboxModel",
      "state": {
       "description": "Rotate",
       "disabled": false,
       "layout": "IPY_MODEL_c6613434354a4757a1e313434f827014",
       "style": "IPY_MODEL_132dc5fde3b4481fbcd88998abd2a095",
       "value": true
      }
     },
     "fafb1ab9f26f4ee89f62ee290c402e8c": {
      "model_module": "@jupyter-widgets/base",
      "model_module_version": "1.0.0",
      "model_name": "LayoutModel",
      "state": {
       "width": "25%"
      }
     },
     "fb757c8770ba4ee39e5d26f3bdd38f5c": {
      "model_module": "@jupyter-widgets/base",
      "model_module_version": "1.0.0",
      "model_name": "LayoutModel",
      "state": {
       "width": "100px"
      }
     },
     "fbfbafddf4f04c05aee09feff1d1f942": {
      "model_module": "@jupyter-widgets/controls",
      "model_module_version": "1.1.0",
      "model_name": "CheckboxModel",
      "state": {
       "description": "Show Targets",
       "disabled": false,
       "layout": "IPY_MODEL_4abd863981614d23a1f58a2d7afee81b",
       "style": "IPY_MODEL_8e46d35d6cfe4866ac394f9972b4606c",
       "value": true
      }
     },
     "fc5068a81cba47e494b1cce7b60f6fb3": {
      "model_module": "@jupyter-widgets/base",
      "model_module_version": "1.0.0",
      "model_name": "LayoutModel",
      "state": {}
     },
     "fcbb165ebd8447308c4e9d792ceb2279": {
      "model_module": "@jupyter-widgets/base",
      "model_module_version": "1.0.0",
      "model_name": "LayoutModel",
      "state": {
       "width": "100%"
      }
     },
     "fcd17d7578644256b3427c4878d71786": {
      "model_module": "@jupyter-widgets/controls",
      "model_module_version": "1.1.0",
      "model_name": "DescriptionStyleModel",
      "state": {
       "description_width": "initial"
      }
     },
     "fd25e15dae9a49ef830c9ec76ea7952e": {
      "model_module": "@jupyter-widgets/controls",
      "model_module_version": "1.1.0",
      "model_name": "ButtonStyleModel",
      "state": {}
     },
     "fd7b87b651f44054b09fe0d08c8c3857": {
      "model_module": "@jupyter-widgets/controls",
      "model_module_version": "1.1.0",
      "model_name": "ButtonModel",
      "state": {
       "icon": "fast-backward",
       "layout": "IPY_MODEL_4c9dcb754f8047099c6bf4829dc8ee17",
       "style": "IPY_MODEL_93a9c09eb9f4482da9857db52632c67f"
      }
     },
     "fd7fcf31db254a8f8a033d1202fc1b5e": {
      "model_module": "@jupyter-widgets/controls",
      "model_module_version": "1.1.0",
      "model_name": "DescriptionStyleModel",
      "state": {
       "description_width": ""
      }
     },
     "ff577ccd16f2499bad9c5ebb7afe8337": {
      "model_module": "@jupyter-widgets/controls",
      "model_module_version": "1.1.0",
      "model_name": "SelectModel",
      "state": {
       "_options_labels": [
        "",
        "input",
        "conv2D_1",
        "maxpool1",
        "conv2D_2",
        "maxpool2"
       ],
       "description": "Features:",
       "index": 2,
       "layout": "IPY_MODEL_5e6e61b49ce543039a90676b413e1bb3",
       "rows": 1,
       "style": "IPY_MODEL_42320c46704b42d998a3270100845179"
      }
     },
     "ffa8c359a04249e1adddb028c39ad5e6": {
      "model_module": "@jupyter-widgets/controls",
      "model_module_version": "1.1.0",
      "model_name": "CheckboxModel",
      "state": {
       "description": "Visible",
       "disabled": false,
       "layout": "IPY_MODEL_3f5ac242b81047a7ada5d84cc8cb3aac",
       "style": "IPY_MODEL_bbe448d29c524b48a427a2e2ba350f09",
       "value": true
      }
     }
    },
    "version_major": 2,
    "version_minor": 0
   }
  }
 },
 "nbformat": 4,
 "nbformat_minor": 2
}
