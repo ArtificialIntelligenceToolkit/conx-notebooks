{
 "cells": [
  {
   "cell_type": "markdown",
   "metadata": {},
   "source": [
    "<h1>A Deeper Stack for Deep Learning: <br/>\n",
    "Adding Visualizations and Data Abstractions to your Workflow</h1>\n",
    "\n",
    "It is assumed that by the time the workshop has begun that participants have already decided how they will run ConX, and have a working system. \n",
    "\n",
    "* [How to run Conx](../../HowToRun/README.md) - full instructions\n",
    "* [00_Setup](00_Setup.ipynb) - use pre-built image"
   ]
  },
  {
   "cell_type": "markdown",
   "metadata": {},
   "source": [
    "**Agenda**\n",
    "\n",
    "1. [Getting Started](01_Getting_Started.ipynb) - (10 minutes) 2:00-2:10\n",
    "2. [Getting Started with ConX](../../Getting%20Started%20with%20conx.ipynb) - (30 minutes) 2:10-2:40\n",
    "3. [Handwritten digit recognition](../../MNIST.ipynb) - (30 Minutes) 2:40-3:10\n",
    "4. Utilities - (20 Minutes) 3:10-3:35\n",
    "    * [Time Travel and Making movies](../../Learning.ipynb)\n",
    "    * [Plotting](../../Plotting.ipynb)\n",
    "    * [Reference](../../Utilities.ipynb)\n",
    "5. Coffee Break - (15 minutes) 3:30-3:45\n",
    "6. Datasets - (30 minutes) 3:45-4:15\n",
    "    * [CMU Faces](../../Face%20recognition.ipynb) - faces and poses\n",
    "    * [CIFAR](../../CIFAR10_CNN.ipynb) - 10 and 100 object recognition\n",
    "    * [Fingers](../../work-in-progress/FingersDataset.ipynb) - fingers and counts\n",
    "7. Other Models (30 minutes) 4:15-4:45\n",
    "    * [Robot Simulation](../../Robot%20Simulation.ipynb)\n",
    "    * [Text Prediction and Generation](../../Predicting and Generating Texts.ipynb) - text generation\n",
    "    * [Recommending Movies](../../RecommendingMovies.ipynb)\n",
    "    * [AlphaZero](../../work-in-progress/AlphaZero.ipynb) - best game-playing program in the world\n",
    "    * [Deep Dreams](../../work-in-progress/DeepDreams.ipynb) - generate images\n",
    "7. Keeping Track of Experiments (30 minutes) 4:15-4:45\n",
    "8. Review and Discussion (45 minutes) 4:45-5:30"
   ]
  },
  {
   "cell_type": "code",
   "execution_count": null,
   "metadata": {},
   "outputs": [],
   "source": []
  }
 ],
 "metadata": {
  "kernelspec": {
   "display_name": "Python 3",
   "language": "python",
   "name": "python3"
  },
  "language_info": {
   "codemirror_mode": {
    "name": "ipython",
    "version": 3
   },
   "file_extension": ".py",
   "mimetype": "text/x-python",
   "name": "python",
   "nbconvert_exporter": "python",
   "pygments_lexer": "ipython3",
   "version": "3.6.6"
  }
 },
 "nbformat": 4,
 "nbformat_minor": 2
}
