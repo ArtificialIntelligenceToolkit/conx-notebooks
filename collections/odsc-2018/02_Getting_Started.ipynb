{
 "cells": [
  {
   "cell_type": "markdown",
   "metadata": {
    "slideshow": {
     "slide_type": "slide"
    }
   },
   "source": [
    "# 1. Getting Started"
   ]
  },
  {
   "cell_type": "markdown",
   "metadata": {},
   "source": [
    "This workshop is a hands-on exploration of Deep Learning techniques and topics for use in the classrooms of Computer Science and related fields. We will demonstrate ideas through animation and visualizations, examine the path to advanced topics, and explore ideas for incorporating Deep Learning topics into the classroom. **The workshop is designed to allow participants to gain a foothold with these complex topics, and to help them develop their own experiments.**\n",
    "\n",
    "*Please make sure that you have passed Checkpoints #1 and #2 on the hardcopy handout.*"
   ]
  },
  {
   "cell_type": "markdown",
   "metadata": {
    "slideshow": {
     "slide_type": "slide"
    }
   },
   "source": [
    "## 1.1 Introductions"
   ]
  },
  {
   "cell_type": "markdown",
   "metadata": {},
   "source": [
    "### 1.1.1 Workshop Presenter"
   ]
  },
  {
   "cell_type": "markdown",
   "metadata": {},
   "source": [
    "* **Doug Blank**: Bryn Mawr College, [doug.blank@gmail.com](mailto:doug.blank@gmail.com), [@dougblank](https://twitter.com/DougBlank), [me-robot.blog](http://me-robot.blog/)"
   ]
  },
  {
   "cell_type": "markdown",
   "metadata": {},
   "source": [
    "### 1.1.2 Workshop Participants\n",
    "\n",
    "Hi! Please, introduce yourself to your neighbors.\n",
    "\n",
    "### 1.1.3 Workshop Workflow\n",
    "\n",
    "* Designed to be Laboratory-style, hands-on, interactive\n",
    "* Feel free to ask questions/make comments at any time\n",
    "* Use your post-it notes to signal me: stick one to your laptop"
   ]
  },
  {
   "cell_type": "markdown",
   "metadata": {
    "slideshow": {
     "slide_type": "slide"
    }
   },
   "source": [
    "## 1.2 What is Deep Learning?"
   ]
  },
  {
   "cell_type": "markdown",
   "metadata": {},
   "source": [
    "Isn't it just the same old neural networks with a new buzzword? \n",
    "\n",
    "* Yes!\n",
    "  * Based on the same mathematics, including Linear Algebra and Calculus, gradient descent, back-propagation of error\n",
    "* No! \n",
    "  * New technologies that make it fast and useful, including [automatic differentiation](https://en.wikipedia.org/wiki/Automatic_differentiation), automatic conversion to assembly code\n",
    "\n",
    "> \"**Deep Learning** relates to the design of **networks of stacked layers** which, **though experience**,  can be trained to produce **desired outputs given novel inputs**.\"\n",
    "\n",
    "What can it do? Why study it? Why study it *now*?\n",
    "\n",
    "* Self-driving cars - automating that which is based in perception\n",
    "* <a href=\"knitting.png\">Knitting</a> - generative, creativity. Many other examples.\n",
    "* <a href=\"legal.png\">Legality? Ethics?</a> - causality, explainability\n",
    "* <a href=\"alphazero.png\">Changing landscape of intelligence</a> - AlphaZero best-in-world at any game*"
   ]
  },
  {
   "cell_type": "markdown",
   "metadata": {},
   "source": [
    "## 1.3 Introducing Conx\n",
    "\n",
    "Pronounced \"*con ex*\" as in \"connects\" or \"connectionism\"\n",
    "\n",
    "There are a few architectures, even for Python, for working with Deep Learning. Our deep learning software stack:\n",
    "\n",
    "Software/Hardware | Comments\n",
    "----------------- | -----------------------\n",
    "Conx | Sticks to Pythonic idioms; adds a little overhead is some places to make the programmer more comfortable\n",
    "Keras | Abstracts away many of the details of \"backend\"; for Machine Learning users\n",
    "TensorFlow or Cognitive Toolkit | The \"backend\", embeds the new, core technologies; for Machine Learning experts\n",
    "CPU or GPU | Level of hardware being targeted; using the GPU isn't always faster\n",
    "\n",
    "### 1.3.1 Past, Present, and Future\n",
    "\n",
    "* This is the fifth time we have written Conx: Scheme, C++, Python, Theano, Keras.\n",
    "* Conx is stable, somewhat tested, and we promise not to create backward incompatible changes.\n",
    "* We see many possibilities that would make Deep Learning in the classroom even better. \n",
    "  * We are planning on using Conx in our own research\n",
    "  * We believe that Keras and TensorFlow will be around for the foreseeable future (although Google has been known to change its mind).\n",
    "  * Keras can work with different \"backends\""
   ]
  },
  {
   "cell_type": "markdown",
   "metadata": {
    "slideshow": {
     "slide_type": "slide"
    }
   },
   "source": [
    "### 1.3.2 Pedagogical Approach"
   ]
  },
  {
   "cell_type": "markdown",
   "metadata": {},
   "source": [
    "> *Conx: The On-Ramp to Deep Learning*"
   ]
  },
  {
   "cell_type": "markdown",
   "metadata": {
    "slideshow": {
     "slide_type": "fragment"
    }
   },
   "source": [
    "* Treat Deep Learning as an independent topic\n",
    "  * Avoid terminology and jargon from other fields, such as Machine Learning\n",
    "* Keep the focus on Deep Learning itself\n",
    "  * Use just standard Python\n",
    "    * Avoid the complexities of optimizations (numpy), visualizations (Python Image Library), and analysis (matplotlib)\n",
    "    * Define functions for common, related utilities (testing, downloading, etc.) or for hiding irrelevant details\n",
    "* Keep the complexity of the environment low but easy to use, without sacrificing power\n",
    "* Provide straightforward pathways to more Deep Learning tools\n",
    "\n",
    "Of course Conx could be used in courses on Artificial Intelligence, Machine Learning, Natural Language Processing, Psychology, Philosophy, Robotics, Cognitive Science, but other courses in science or Digital Humanities for exploring the behavior, creativity, and ethics of Deep Learning."
   ]
  },
  {
   "cell_type": "markdown",
   "metadata": {
    "slideshow": {
     "slide_type": "slide"
    }
   },
   "source": [
    "## 1.4 Preferred Environment"
   ]
  },
  {
   "cell_type": "markdown",
   "metadata": {},
   "source": [
    "**Jupyter Notebooks**"
   ]
  },
  {
   "cell_type": "markdown",
   "metadata": {},
   "source": [
    "Advantages:\n",
    "\n",
    "* emerging ecosystem for Data Science and related fields\n",
    "* reproducibility - notebooks can be easily copied and shared\n",
    "* narrative form brings computation to same level as other rich media\n",
    "* many free or inexpensive hosting options\n",
    "* open source, so available to run on your own computers\n",
    "* extensible - can create extensions for various utilities, such as widgets\n",
    "* we will provided examples of different uses of the notebook tonight\n",
    "\n",
    "Conx can be used with the ipython console program (including graphics). Can also be used in standard python, if you are not interested in the interactions and visualizations.\n",
    "\n",
    "We are looking towards tight integration with <a href=\"https://blog.jupyter.org/jupyterlab-is-ready-for-users-5a6f039b8906\">JupyterLab</a>."
   ]
  },
  {
   "cell_type": "code",
   "execution_count": null,
   "metadata": {},
   "outputs": [],
   "source": [
    "import conx as cx"
   ]
  },
  {
   "cell_type": "markdown",
   "metadata": {},
   "source": [
    "NOTE: *we will use this form for importing `conx` through this workshop.*\n",
    "\n",
    "Jupyter notebooks operate in a modal manner (like vi).\n",
    "\n",
    "Command mode vs. Editing mode\n",
    "\n",
    "Useful keystrokes:\n",
    "\n",
    "* `ESCAPE` - takes you to command mode\n",
    "* `SHIFT + ENTER` - execute/render cell\n",
    "* `ENTER` when in command-mode, go back to edit mode\n",
    "  * double-click a markdown cell to edit it\n",
    "\n",
    "In command mode:\n",
    "\n",
    "* `a` - add a new cell **Above** the current cell\n",
    "* `b` - add a new cell **Below** the current cell\n",
    "* `d d` - delete the current cell\n",
    "* `m` - turn the current cell into a **Markdown** cell\n",
    "* `y` - turn the current cell into a code cell\n",
    "* `SHIFT + UP/DOWN ARROWS` - will select more than one cell\n",
    "\n",
    "When editing code:\n",
    "\n",
    "* `TAB` - command completion\n",
    "* `SHIFT + TAB` - when between a function/method parentheses, will show parameters and help. Try it once, twice, three times.\n",
    "\n",
    "Quick survey of toolbar."
   ]
  },
  {
   "cell_type": "markdown",
   "metadata": {},
   "source": [
    "## Let's Go!\n",
    "\n",
    "* In Python, you can use `help(ITEM)` to get more information on an object, function, module, or method.\n",
    "* The Conx online help is searchable:\n",
    "   * http://conx.readthedocs.io/en/latest/ "
   ]
  },
  {
   "cell_type": "code",
   "execution_count": null,
   "metadata": {},
   "outputs": [],
   "source": [
    "help(cx)"
   ]
  }
 ],
 "metadata": {
  "kernelspec": {
   "display_name": "Python 3",
   "language": "python",
   "name": "python3"
  },
  "language_info": {
   "codemirror_mode": {
    "name": "ipython",
    "version": 3
   },
   "file_extension": ".py",
   "mimetype": "text/x-python",
   "name": "python",
   "nbconvert_exporter": "python",
   "pygments_lexer": "ipython3",
   "version": "3.6.6"
  }
 },
 "nbformat": 4,
 "nbformat_minor": 2
}
