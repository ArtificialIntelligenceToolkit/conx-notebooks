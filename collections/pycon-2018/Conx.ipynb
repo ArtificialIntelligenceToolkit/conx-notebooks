{
 "cells": [
  {
   "cell_type": "markdown",
   "metadata": {},
   "source": [
    "# Conx Deep Learning library"
   ]
  },
  {
   "cell_type": "code",
   "execution_count": 1,
   "metadata": {},
   "outputs": [
    {
     "name": "stderr",
     "output_type": "stream",
     "text": [
      "Using TensorFlow backend.\n",
      "Conx, version 3.6.9\n"
     ]
    }
   ],
   "source": [
    "import conx as cx"
   ]
  },
  {
   "cell_type": "code",
   "execution_count": 2,
   "metadata": {},
   "outputs": [],
   "source": [
    "net = cx.Network(\"XOR\", 2, 2, 1)\n",
    "net.compile(error=\"mse\", optimizer=\"adam\")"
   ]
  },
  {
   "cell_type": "code",
   "execution_count": 3,
   "metadata": {},
   "outputs": [
    {
     "data": {
      "application/javascript": [
       "\n",
       "require(['base/js/namespace'], function(Jupyter) {\n",
       "    Jupyter.notebook.kernel.comm_manager.register_target('conx_svg_control', function(comm, msg) {\n",
       "        comm.on_msg(function(msg) {\n",
       "            var data = msg[\"content\"][\"data\"];\n",
       "            var images = document.getElementsByClassName(data[\"class\"]);\n",
       "            for (var i = 0; i < images.length; i++) {\n",
       "                if (data[\"href\"]) {\n",
       "                    images[i].setAttributeNS(null, \"href\", data[\"href\"]);\n",
       "                }\n",
       "                if (data[\"src\"]) {\n",
       "                    images[i].setAttributeNS(null, \"src\", data[\"src\"]);\n",
       "                }\n",
       "            }\n",
       "        });\n",
       "    });\n",
       "});\n"
      ],
      "text/plain": [
       "<IPython.core.display.Javascript object>"
      ]
     },
     "metadata": {},
     "output_type": "display_data"
    },
    {
     "data": {
      "text/html": [
       "<svg id='XOR' xmlns='http://www.w3.org/2000/svg' image-rendering=\"pixelated\" width=\"384.61538461538464px\" height=\"400.0px\">\n",
       " <g >\n",
       "  <svg viewBox=\"0 0 250 260\" width=\"384.61538461538464px\" height=\"400.0px\">\n",
       "    <defs>\n",
       "        <marker id=\"arrow\" markerWidth=\"10\" markerHeight=\"10\" refX=\"9\" refY=\"3\" orient=\"auto\" markerUnits=\"strokeWidth\">\n",
       "          <path d=\"M0,0 L0,6 L9,3 z\" fill=\"black\" />\n",
       "        </marker>\n",
       "    </defs><rect x=\"99.0\" y=\"24\" width=\"52\" height=\"52\" style=\"fill:none;stroke:black;stroke-width:2\"/><image id=\"XOR_output_1\" class=\"XOR_output\" x=\"100.0\" y=\"25\" height=\"50\" width=\"50\" preserveAspectRatio=\"none\" href=\"data:image/gif;base64,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\"><title>Layer: output (output)\n",
       " output range: (-Infinity, +Infinity)\n",
       " shape = (1,)\n",
       " Keras class = Dense\n",
       " activation = linear</title></image><text x=\"155.0\" y=\"52.0\" font-family=\"monospace\" font-size=\"12\" text-anchor=\"start\" fill=\"black\" alignment-baseline=\"central\" >output</text><line x1=\"125.0\" y1=\"104\" x2=\"125.0\" y2=\"77\" stroke=\"black\" stroke-width=\"2\" marker-end=\"url(#arrow)\"><title>Weights from hidden to output\n",
       " output/kernel:0 has shape (2, 1)\n",
       " output/bias:0 has shape (1,)</title></line><rect x=\"74.0\" y=\"104\" width=\"102\" height=\"52\" style=\"fill:none;stroke:black;stroke-width:2\"/><image id=\"XOR_hidden_2\" class=\"XOR_hidden\" x=\"75.0\" y=\"105\" height=\"50\" width=\"100\" preserveAspectRatio=\"none\" href=\"data:image/gif;base64,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\"><title>Layer: hidden (hidden)\n",
       " output range: (-Infinity, +Infinity)\n",
       " shape = (2,)\n",
       " Keras class = Dense\n",
       " activation = linear</title></image><text x=\"180.0\" y=\"132.0\" font-family=\"monospace\" font-size=\"12\" text-anchor=\"start\" fill=\"black\" alignment-baseline=\"central\" >hidden</text><line x1=\"125.0\" y1=\"184\" x2=\"125.0\" y2=\"157\" stroke=\"black\" stroke-width=\"2\" marker-end=\"url(#arrow)\"><title>Weights from input to hidden\n",
       " hidden/kernel:0 has shape (2, 2)\n",
       " hidden/bias:0 has shape (2,)</title></line><rect x=\"74.0\" y=\"184\" width=\"102\" height=\"52\" style=\"fill:none;stroke:black;stroke-width:2\"/><image id=\"XOR_input_3\" class=\"XOR_input\" x=\"75.0\" y=\"185\" height=\"50\" width=\"100\" preserveAspectRatio=\"none\" href=\"data:image/gif;base64,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\"><title>Layer: input (input)\n",
       " output range: (-Infinity, +Infinity)\n",
       " shape = (2,)\n",
       " Keras class = Input</title></image><text x=\"180.0\" y=\"212.0\" font-family=\"monospace\" font-size=\"12\" text-anchor=\"start\" fill=\"black\" alignment-baseline=\"central\" >input</text><text x=\"10\" y=\"10\" font-family=\"monospace\" font-size=\"24.0\" text-anchor=\"middle\" fill=\"red\" alignment-baseline=\"central\" >*</text><text x=\"125.0\" y=\"12.5\" font-family=\"monospace\" font-size=\"15\" text-anchor=\"middle\" fill=\"black\" alignment-baseline=\"central\" >XOR</text></svg></g></svg>"
      ],
      "text/plain": [
       "<IPython.core.display.HTML object>"
      ]
     },
     "execution_count": 3,
     "metadata": {},
     "output_type": "execute_result"
    }
   ],
   "source": [
    "net.picture([-2, 2], dynamic=True)"
   ]
  },
  {
   "cell_type": "code",
   "execution_count": 4,
   "metadata": {},
   "outputs": [
    {
     "data": {
      "text/plain": [
       "[0.0]"
      ]
     },
     "execution_count": 4,
     "metadata": {},
     "output_type": "execute_result"
    }
   ],
   "source": [
    "net.propagate([0, 0], update_pictures=True)"
   ]
  },
  {
   "cell_type": "code",
   "execution_count": 5,
   "metadata": {},
   "outputs": [
    {
     "data": {
      "application/vnd.jupyter.widget-view+json": {
       "model_id": "5327b8015c2b4dfebbe81852a6ff5310",
       "version_major": 2,
       "version_minor": 0
      },
      "text/plain": [
       "Dashboard(children=(Accordion(children=(HBox(children=(VBox(children=(Select(description='Dataset:', index=1, …"
      ]
     },
     "metadata": {},
     "output_type": "display_data"
    }
   ],
   "source": [
    "net.dashboard()"
   ]
  },
  {
   "cell_type": "code",
   "execution_count": null,
   "metadata": {},
   "outputs": [],
   "source": []
  }
 ],
 "metadata": {
  "kernelspec": {
   "display_name": "Python 3",
   "language": "python",
   "name": "python3"
  },
  "language_info": {
   "codemirror_mode": {
    "name": "ipython",
    "version": 3
   },
   "file_extension": ".py",
   "mimetype": "text/x-python",
   "name": "python",
   "nbconvert_exporter": "python",
   "pygments_lexer": "ipython3",
   "version": "3.6.3"
  }
 },
 "nbformat": 4,
 "nbformat_minor": 2
}
