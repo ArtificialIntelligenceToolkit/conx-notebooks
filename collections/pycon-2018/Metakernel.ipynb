{
 "cells": [
  {
   "cell_type": "code",
   "execution_count": 1,
   "metadata": {},
   "outputs": [],
   "source": [
    "import metakernel\n",
    "metakernel.register_ipython_magics()"
   ]
  },
  {
   "cell_type": "code",
   "execution_count": 2,
   "metadata": {
    "format": "column"
   },
   "outputs": [
    {
     "name": "stdout",
     "output_type": "stream",
     "text": [
      "Downloaded 'doug-sm-orig.jpg'.\n"
     ]
    }
   ],
   "source": [
    "%download https://cs.brynmawr.edu/~dblank/images/doug-sm-orig.jpg"
   ]
  },
  {
   "cell_type": "code",
   "execution_count": 3,
   "metadata": {
    "format": "tab"
   },
   "outputs": [
    {
     "data": {
      "application/vnd.jupyter.widget-view+json": {
       "model_id": "9eaae9f2dc464c0cb7842a0ad2cc94f5",
       "version_major": 2,
       "version_minor": 0
      },
      "text/plain": [
       "VBox(children=(HBox(children=(VBox(children=(HTML(value='<p><b>Question ID</b>: cs206/p1/1</p>'), HTML(value='…"
      ]
     },
     "metadata": {},
     "output_type": "display_data"
    }
   ],
   "source": [
    "%activity /home/dblank/activity/datastructures01"
   ]
  },
  {
   "cell_type": "code",
   "execution_count": 4,
   "metadata": {},
   "outputs": [
    {
     "data": {
      "application/vnd.jupyter.widget-view+json": {
       "model_id": "79da35b9f7334235a40eb4d9cc136e8f",
       "version_major": 2,
       "version_minor": 0
      },
      "text/plain": [
       "VBox(children=(HBox(children=(VBox(children=(HTML(value='<p><b>Question ID</b>: 1</p>'), HTML(value='<h1>When …"
      ]
     },
     "metadata": {},
     "output_type": "display_data"
    }
   ],
   "source": [
    "%activity /home/dblank/activity/learning"
   ]
  },
  {
   "cell_type": "code",
   "execution_count": 5,
   "metadata": {},
   "outputs": [
    {
     "data": {
      "application/vnd.jupyter.widget-view+json": {
       "model_id": "8055f55de8cf4c9190944114cbdea49f",
       "version_major": 2,
       "version_minor": 0
      },
      "text/plain": [
       "VBox(children=(HBox(children=(VBox(children=(HTML(value='<p><b>Question ID</b>: 1</p>'), HTML(value='<h1>Which…"
      ]
     },
     "metadata": {},
     "output_type": "display_data"
    }
   ],
   "source": [
    "%activity /home/dblank/activity/intro01"
   ]
  },
  {
   "cell_type": "code",
   "execution_count": 6,
   "metadata": {},
   "outputs": [
    {
     "data": {
      "application/javascript": [
       "\n",
       "    if (document.jigsaw_register_workspace === undefined) {\n",
       "\n",
       "        document.jigsaw_workspaces = {};\n",
       "\n",
       "        document.jigsaw_register_workspace = function(workspace_filename, workspace, xml_init) {\n",
       "            workspace.element = document.element;\n",
       "            document.jigsaw_workspaces[workspace_filename] = workspace;\n",
       "\n",
       "            try {\n",
       "                $([window.parent.IPython.events]).on('notebook_saved.Notebook', function() { \n",
       "                    try {\n",
       "                        document.jigsaw_save_workspace(workspace_filename); \n",
       "                    } catch(err) {\n",
       "                        // ignore failure, might not exist\n",
       "                    }\n",
       "                });\n",
       "            } catch (err) {\n",
       "                // rendering for display\n",
       "            }\n",
       "            \n",
       "            var xml = document.jigsaw_loadXMLDoc(workspace_filename);\n",
       "            if (xml === null) {\n",
       "                xml = xml_init;\n",
       "                if (xml === null) {\n",
       "                    xml = Blockly.Xml.textToDom('<xml id=\"workspace\"></xml>');\n",
       "                }\n",
       "            } else {\n",
       "                xml = xml.children[0]; // document\n",
       "            }\n",
       "            Blockly.Xml.domToWorkspace(workspace, xml);\n",
       "        };\n",
       "\n",
       "        document.jigsaw_handle_output = function(workspace_filename, out) {\n",
       "            var workspace = document.jigsaw_workspaces[workspace_filename];\n",
       "            //var output_area = workspace.element.output_area;\n",
       "            var cell_index = document.jigsaw_get_cell(workspace.element);\n",
       "            var cell = IPython.notebook.get_cell(cell_index);\n",
       "            var res = null;\n",
       "            var data = null;\n",
       "            document.cell = cell;\n",
       "            document.out = out;\n",
       "            if (out.msg_type == \"stream\") {\n",
       "                res = out.content.text;\n",
       "                //document.getElementById('code_output').value += res.toString();\n",
       "            } else if (out.msg_type === \"pyout\") {\n",
       "                // if output is a python object\n",
       "                res = out.content.data[\"text/plain\"];\n",
       "                //document.getElementById('code_output').value += res.toString(); \n",
       "            } else if (out.msg_type == \"pyerr\") {\n",
       "                // if output is a python error\n",
       "                res = out.content.data[\"text/plain\"];\n",
       "                //document.getElementById('code_output').value += res.toString();\n",
       "            } else if (out.msg_type == \"execute_result\") {\n",
       "                var str = out.content.data[\"text/plain\"];\n",
       "                res = str;\n",
       "                if (res.indexOf(\"u\") == 0)\n",
       "                    res = res.substring(2, res.length - 1) + \"\\n\";\n",
       "                if (res) {\n",
       "                    //document.getElementById('code_output').value += res.toString();\n",
       "                }\n",
       "            } else if (out.msg_type == \"error\") {\n",
       "                res = out.content.ename + \": \" + out.content.evalue + \"\\n\";\n",
       "                // FIXME: out.traceback is Array of terminal color-coded [-codes\n",
       "            } else {\n",
       "                // if output is something we haven't thought of\n",
       "                res = out.toString();\n",
       "                //document.getElementById('code_output').value += res.toString();\n",
       "            }\n",
       "            if (res) {\n",
       "                cell.output_area.append_output({output_type: \"stream\", text: res.toString(), name: \"output\"});\n",
       "            }\n",
       "        };\n",
       "        \n",
       "        document.jigsaw_generate = function(workspace_filename, language, insert_code) {\n",
       "            var workspace = document.jigsaw_workspaces[workspace_filename];\n",
       "            var callbacks = { 'iopub' : {'output' : function(out) { document.jigsaw_handle_output(workspace_filename, out); }}};\n",
       "            var code = Blockly[language].workspaceToCode(workspace);\n",
       "            if (insert_code == 1) {\n",
       "                var cell_index = document.jigsaw_get_cell(workspace.element);\n",
       "                var cell = IPython.notebook.insert_cell_at_index(0, cell_index + 1);\n",
       "                cell.set_text(code);\n",
       "            } else {\n",
       "                window.parent.IPython.notebook.kernel.execute(code,\n",
       "                                                              callbacks,\n",
       "                                                              {silent: false});\n",
       "            }\n",
       "        };\n",
       "        \n",
       "        document.jigsaw_save_workspace = function(workspace_filename) {\n",
       "            var workspace = document.jigsaw_workspaces[workspace_filename];\n",
       "            var xml = Blockly.Xml.workspaceToDom(workspace);\n",
       "            document.xml = xml;\n",
       "            if (xml !== undefined) {\n",
       "                console.log(xml);\n",
       "                //xml.style = \"display: none\";\n",
       "                //xml.id = \"workspace\";\n",
       "                var xml_text = Blockly.Xml.domToText(xml)\n",
       "                IPython.notebook.kernel.execute('%%file ' + workspace_filename + '\\n' + xml_text);\n",
       "            }\n",
       "        };\n",
       "        \n",
       "        document.jigsaw_loadXMLDoc = function(filename) {\n",
       "            var xhttp = new XMLHttpRequest();\n",
       "            xhttp.open(\"GET\", filename, false);\n",
       "            xhttp.send();\n",
       "            return xhttp.responseXML;\n",
       "        };\n",
       "    }\n",
       "\n",
       "    document.jigsaw_get_cell = function (element) {\n",
       "        // FIXME: brittle and ugly:\n",
       "        var mydiv = element[0].parentNode.parentNode.parentNode.parentNode;\n",
       "        var cells = IPython.notebook.get_cells();\n",
       "        for (var i = 0; i < cells.length; i++) {\n",
       "            if (mydiv === cells[i].element[0]) {\n",
       "                return i;\n",
       "            }\n",
       "        }\n",
       "        return null;\n",
       "    };\n",
       "\n",
       "    document.jigsaw_clear_output = function (workspace_filename) {\n",
       "        var workspace = document.jigsaw_workspaces[workspace_filename];\n",
       "        var cell_index = document.jigsaw_get_cell(workspace.element);\n",
       "        var cell = IPython.notebook.get_cell(cell_index);\n",
       "        // FIXME: brittle and ugly:\n",
       "        cell.element[0].children[2].children[1].children[2].children[1].children[0].innerHTML = \"\"\n",
       "        cell.output_area.outputs[2].text = \"\"\n",
       "    };\n",
       "\n",
       "    try {\n",
       "        document.element = element;\n",
       "    } catch (err) {\n",
       "        // rendering\n",
       "    }\n"
      ],
      "text/plain": [
       "<IPython.core.display.Javascript object>"
      ]
     },
     "metadata": {},
     "output_type": "display_data"
    },
    {
     "data": {
      "text/html": [
       "<iframe src=\"ws01.html\" width=\"100%\" height=\"350\" style=\"resize: both; overflow: auto;\"></iframe>"
      ],
      "text/plain": [
       "<IPython.core.display.HTML object>"
      ]
     },
     "metadata": {},
     "output_type": "display_data"
    },
    {
     "name": "output",
     "output_type": "stream",
     "text": [
      "20\n"
     ]
    }
   ],
   "source": [
    "%jigsaw Python --workspace ws01"
   ]
  },
  {
   "cell_type": "code",
   "execution_count": null,
   "metadata": {},
   "outputs": [],
   "source": [
    "def main():\n",
    "  global x\n",
    "  x = 0\n",
    "  for count in range(10):\n",
    "    x = x + 2\n",
    "  print(x)\n",
    "\n",
    "\n",
    "main()\n"
   ]
  },
  {
   "cell_type": "code",
   "execution_count": null,
   "metadata": {},
   "outputs": [],
   "source": []
  }
 ],
 "metadata": {
  "kernelspec": {
   "display_name": "Python 3",
   "language": "python",
   "name": "python3"
  },
  "language_info": {
   "codemirror_mode": {
    "name": "ipython",
    "version": 3
   },
   "file_extension": ".py",
   "mimetype": "text/x-python",
   "name": "python",
   "nbconvert_exporter": "python",
   "pygments_lexer": "ipython3",
   "version": "3.6.3"
  },
  "widgets": {
   "application/vnd.jupyter.widget-state+json": {
    "state": {
     "001fac9ab48f4f828a3446c63df2993f": {
      "model_module": "@jupyter-widgets/base",
      "model_module_version": "1.0.0",
      "model_name": "LayoutModel",
      "state": {
       "visibility": "hidden"
      }
     },
     "006fa810e65240faa13d513f3e439ffa": {
      "model_module": "@jupyter-widgets/controls",
      "model_module_version": "1.2.0",
      "model_name": "ButtonModel",
      "state": {
       "description": "1",
       "layout": "IPY_MODEL_7cc7bd2423704346aee0c493adc4b899",
       "style": "IPY_MODEL_fde3f30d20a14605820673b9930c20c4"
      }
     },
     "00a078a675884795a06940f51f859ce8": {
      "model_module": "@jupyter-widgets/base",
      "model_module_version": "1.0.0",
      "model_name": "LayoutModel",
      "state": {}
     },
     "00c9a6cf963649999dd0b0f313b3d8ac": {
      "model_module": "@jupyter-widgets/controls",
      "model_module_version": "1.2.0",
      "model_name": "ButtonStyleModel",
      "state": {}
     },
     "011d65afd4e046d5b6cbdbc67b9512ed": {
      "model_module": "@jupyter-widgets/controls",
      "model_module_version": "1.2.0",
      "model_name": "HTMLModel",
      "state": {
       "layout": "IPY_MODEL_66d957e30e9a401d8b20e05f9dfaeb92",
       "style": "IPY_MODEL_832928ce9d514729a84715dfcfd95803"
      }
     },
     "01ce9fc0d51e4fc0925eb0c0296c6c70": {
      "model_module": "@jupyter-widgets/controls",
      "model_module_version": "1.2.0",
      "model_name": "ButtonModel",
      "state": {
       "description": "Results",
       "layout": "IPY_MODEL_c159afd5eccd476e91477c2c363db10b",
       "style": "IPY_MODEL_f19a969ac39d413299405508b70dc864"
      }
     },
     "01eedc4d2831474b8f39cef0357da587": {
      "model_module": "@jupyter-widgets/base",
      "model_module_version": "1.0.0",
      "model_name": "LayoutModel",
      "state": {}
     },
     "026a65ac6ba14ca2a4d6e5eb11a69147": {
      "model_module": "@jupyter-widgets/base",
      "model_module_version": "1.0.0",
      "model_name": "LayoutModel",
      "state": {
       "margin": "20px",
       "visibility": "visible"
      }
     },
     "026f8483c4154b9d9ec510b2f9df1b8a": {
      "model_module": "@jupyter-widgets/base",
      "model_module_version": "1.0.0",
      "model_name": "LayoutModel",
      "state": {
       "margin": "20px",
       "visibility": "visible"
      }
     },
     "028dde96bc5c42cd85fac2e57939e50f": {
      "model_module": "@jupyter-widgets/base",
      "model_module_version": "1.0.0",
      "model_name": "LayoutModel",
      "state": {}
     },
     "031a521adf104eea85dcdb2b14bf0a56": {
      "model_module": "@jupyter-widgets/controls",
      "model_module_version": "1.2.0",
      "model_name": "DescriptionStyleModel",
      "state": {
       "description_width": ""
      }
     },
     "0349998d039747df96670b340861b147": {
      "model_module": "@jupyter-widgets/controls",
      "model_module_version": "1.2.0",
      "model_name": "HTMLModel",
      "state": {
       "layout": "IPY_MODEL_4180fdf742204826b969ac2880381b91",
       "style": "IPY_MODEL_abfe2a7312bc482f8dc74581b83f5a2d",
       "value": "<b>1</b>)&nbsp;&nbsp;"
      }
     },
     "03642bf4ee4b4d7480ac796b075c310c": {
      "model_module": "@jupyter-widgets/base",
      "model_module_version": "1.0.0",
      "model_name": "LayoutModel",
      "state": {}
     },
     "03656eebe971413d9525bb9a53f4d062": {
      "model_module": "@jupyter-widgets/output",
      "model_module_version": "1.0.0",
      "model_name": "OutputModel",
      "state": {
       "layout": "IPY_MODEL_89742d9c62bc4ce496772b7714e88281",
       "outputs": [
        {
         "name": "stdout",
         "output_type": "stream",
         "text": "Received: Results\n"
        }
       ]
      }
     },
     "0367b2ae94704bdf8ea843bd81d2ca02": {
      "model_module": "@jupyter-widgets/controls",
      "model_module_version": "1.2.0",
      "model_name": "VBoxModel",
      "state": {
       "children": [
        "IPY_MODEL_a6540d7996084e25b2e86e945c7df2ed",
        "IPY_MODEL_a54841ce12d44301ba74e7aa755db0d3"
       ],
       "layout": "IPY_MODEL_5a59b4a0979d474db7a10f335d040bf0"
      }
     },
     "03a5393d62ab426f8a67fd563f96bd0d": {
      "model_module": "@jupyter-widgets/controls",
      "model_module_version": "1.2.0",
      "model_name": "ButtonModel",
      "state": {
       "description": "Next",
       "disabled": true,
       "layout": "IPY_MODEL_3bfad591bebb44a883dbab94dfefcce1",
       "style": "IPY_MODEL_17158aefec91494ab742ccb3664456c6"
      }
     },
     "042f8ee3940a4e948ec323f3612c0b64": {
      "model_module": "@jupyter-widgets/base",
      "model_module_version": "1.0.0",
      "model_name": "LayoutModel",
      "state": {}
     },
     "046f002deda749dc86c0d51191fa7f13": {
      "model_module": "@jupyter-widgets/controls",
      "model_module_version": "1.2.0",
      "model_name": "DescriptionStyleModel",
      "state": {
       "description_width": ""
      }
     },
     "048208fa527447fcb702ddaad8173981": {
      "model_module": "@jupyter-widgets/base",
      "model_module_version": "1.0.0",
      "model_name": "LayoutModel",
      "state": {
       "margin": "20px",
       "visibility": "visible"
      }
     },
     "04d888094bd44d7ea27ee7d8e3c47282": {
      "model_module": "@jupyter-widgets/controls",
      "model_module_version": "1.2.0",
      "model_name": "HTMLModel",
      "state": {
       "layout": "IPY_MODEL_ca018545667c4190846fe94353189339",
       "style": "IPY_MODEL_1d4d2d4a1b8a4382b66f8dd9bd11fac9",
       "value": "<br/><br clear=\"all\"/><b>Respond</b>: "
      }
     },
     "053bf5c204ee467d9d9b1c5412689f0e": {
      "model_module": "@jupyter-widgets/base",
      "model_module_version": "1.0.0",
      "model_name": "LayoutModel",
      "state": {
       "visibility": "visible"
      }
     },
     "0573ae34b77e47c3af1678b9d04d070c": {
      "model_module": "@jupyter-widgets/base",
      "model_module_version": "1.0.0",
      "model_name": "LayoutModel",
      "state": {}
     },
     "060c1b85c0d646198b67e60e71c1c6d0": {
      "model_module": "@jupyter-widgets/controls",
      "model_module_version": "1.2.0",
      "model_name": "HTMLModel",
      "state": {
       "layout": "IPY_MODEL_5608797e961048a787179a1966d3d387",
       "style": "IPY_MODEL_f2fba62d845947b287682594d7baf7dc",
       "value": "\n<pre>\nint i = 0\nwhile (i < 5) {\n    println(\"Hello\");\n    i++;\n}\n</pre>\n"
      }
     },
     "064b932532af4ede8df6fecdd99c24e6": {
      "model_module": "@jupyter-widgets/controls",
      "model_module_version": "1.2.0",
      "model_name": "HBoxModel",
      "state": {
       "children": [
        "IPY_MODEL_6ae18537f2c1442eac32c3eb286fae49",
        "IPY_MODEL_565ba964073c4bdc8ac4bd1c25e542e8"
       ],
       "layout": "IPY_MODEL_14aab4217ba34223a89b6b6d031a7e64"
      }
     },
     "066c96896b254d2286b87ce1b3450ca5": {
      "model_module": "@jupyter-widgets/base",
      "model_module_version": "1.0.0",
      "model_name": "LayoutModel",
      "state": {}
     },
     "067df59cc0f54e099c013a3a1a5c3f40": {
      "model_module": "@jupyter-widgets/controls",
      "model_module_version": "1.2.0",
      "model_name": "HTMLModel",
      "state": {
       "layout": "IPY_MODEL_38e5325b00d543f0ab55bfe62cb52135",
       "style": "IPY_MODEL_2271935f59784b9da9caeb9981845bf5",
       "value": "<br/><br clear=\"all\"/><b>Respond</b>: "
      }
     },
     "06974e2d903d47caa88f7e9e9f422704": {
      "model_module": "@jupyter-widgets/base",
      "model_module_version": "1.0.0",
      "model_name": "LayoutModel",
      "state": {}
     },
     "071bd245cae642cfaa9ee8e90687fa93": {
      "model_module": "@jupyter-widgets/controls",
      "model_module_version": "1.2.0",
      "model_name": "ButtonStyleModel",
      "state": {}
     },
     "07660d0d5fb54a8a87dd692d6ddb266e": {
      "model_module": "@jupyter-widgets/controls",
      "model_module_version": "1.2.0",
      "model_name": "VBoxModel",
      "state": {
       "children": [
        "IPY_MODEL_221ac6e729624b5d83ed5c2344391327",
        "IPY_MODEL_03656eebe971413d9525bb9a53f4d062"
       ],
       "layout": "IPY_MODEL_2d4de238a1b346e6a76208df60be9aec"
      }
     },
     "0781eef37a9c47908180a762950740d3": {
      "model_module": "@jupyter-widgets/controls",
      "model_module_version": "1.2.0",
      "model_name": "HTMLModel",
      "state": {
       "layout": "IPY_MODEL_3177919f14af47de87bc559c441fe79a",
       "style": "IPY_MODEL_34610be2300143bc984ed9ae3dd2d331",
       "value": "<h1>How are Maps and Sets similar?</h1>"
      }
     },
     "07954eaa459c4f50b166783f7b795f68": {
      "model_module": "@jupyter-widgets/base",
      "model_module_version": "1.0.0",
      "model_name": "LayoutModel",
      "state": {}
     },
     "07e6e3f467d74ac5b00f32a3eafb8345": {
      "model_module": "@jupyter-widgets/base",
      "model_module_version": "1.0.0",
      "model_name": "LayoutModel",
      "state": {}
     },
     "08356c1c2afb4f96b370e3c50074b8ba": {
      "model_module": "@jupyter-widgets/controls",
      "model_module_version": "1.2.0",
      "model_name": "DescriptionStyleModel",
      "state": {
       "description_width": ""
      }
     },
     "0960a85388744544821b2c9f21481e5c": {
      "model_module": "@jupyter-widgets/base",
      "model_module_version": "1.0.0",
      "model_name": "LayoutModel",
      "state": {}
     },
     "0984b2406b894a4da99432df1ee13051": {
      "model_module": "@jupyter-widgets/base",
      "model_module_version": "1.0.0",
      "model_name": "LayoutModel",
      "state": {}
     },
     "0992a6cc0baf4992b781faacebcd51fb": {
      "model_module": "@jupyter-widgets/controls",
      "model_module_version": "1.2.0",
      "model_name": "DescriptionStyleModel",
      "state": {
       "description_width": ""
      }
     },
     "0ac35d0999ec43e391ae73e1eae0da51": {
      "model_module": "@jupyter-widgets/base",
      "model_module_version": "1.0.0",
      "model_name": "LayoutModel",
      "state": {
       "visibility": "visible"
      }
     },
     "0b07696ae85540e2b42600392d55d45b": {
      "model_module": "@jupyter-widgets/base",
      "model_module_version": "1.0.0",
      "model_name": "LayoutModel",
      "state": {}
     },
     "0b1165c2f3dc434aa096d1c650a49de4": {
      "model_module": "@jupyter-widgets/controls",
      "model_module_version": "1.2.0",
      "model_name": "DescriptionStyleModel",
      "state": {
       "description_width": ""
      }
     },
     "0b9207351ee04ac1bd3a0537dfa23251": {
      "model_module": "@jupyter-widgets/controls",
      "model_module_version": "1.2.0",
      "model_name": "DescriptionStyleModel",
      "state": {
       "description_width": ""
      }
     },
     "0c08f910e91e4feb94d968fdde942572": {
      "model_module": "@jupyter-widgets/controls",
      "model_module_version": "1.2.0",
      "model_name": "DescriptionStyleModel",
      "state": {
       "description_width": ""
      }
     },
     "0ca4d6ede7594de6acccf4c883cd7150": {
      "model_module": "@jupyter-widgets/base",
      "model_module_version": "1.0.0",
      "model_name": "LayoutModel",
      "state": {}
     },
     "0d29a77989e9480a90ca42dfbd6a321c": {
      "model_module": "@jupyter-widgets/controls",
      "model_module_version": "1.2.0",
      "model_name": "DescriptionStyleModel",
      "state": {
       "description_width": ""
      }
     },
     "0dc61b0a0b8e495996e3afe9e82b7117": {
      "model_module": "@jupyter-widgets/controls",
      "model_module_version": "1.2.0",
      "model_name": "ButtonStyleModel",
      "state": {}
     },
     "0dd07761b45f4ab3b809c225404a2951": {
      "model_module": "@jupyter-widgets/controls",
      "model_module_version": "1.2.0",
      "model_name": "ButtonStyleModel",
      "state": {}
     },
     "0dd218093ed949e69742161430e1fe9b": {
      "model_module": "@jupyter-widgets/base",
      "model_module_version": "1.0.0",
      "model_name": "LayoutModel",
      "state": {}
     },
     "0ded2a8028a3406c983e43d5f8d6e6b2": {
      "model_module": "@jupyter-widgets/base",
      "model_module_version": "1.0.0",
      "model_name": "LayoutModel",
      "state": {}
     },
     "0e6c5ef7494246e09f70c30148435729": {
      "model_module": "@jupyter-widgets/base",
      "model_module_version": "1.0.0",
      "model_name": "LayoutModel",
      "state": {
       "visibility": "visible"
      }
     },
     "0ea61d56cade4a199de13e82a284bc41": {
      "model_module": "@jupyter-widgets/base",
      "model_module_version": "1.0.0",
      "model_name": "LayoutModel",
      "state": {}
     },
     "0ecb4d1fbfec427c96581dbb6834b146": {
      "model_module": "@jupyter-widgets/base",
      "model_module_version": "1.0.0",
      "model_name": "LayoutModel",
      "state": {
       "width": "55%"
      }
     },
     "0f2c2f66d5cb4725b12f3eb09bf8e27c": {
      "model_module": "@jupyter-widgets/controls",
      "model_module_version": "1.2.0",
      "model_name": "ButtonStyleModel",
      "state": {}
     },
     "0f753f2950e048d481d28188aae092e9": {
      "model_module": "@jupyter-widgets/base",
      "model_module_version": "1.0.0",
      "model_name": "LayoutModel",
      "state": {
       "visibility": "visible"
      }
     },
     "0fc16b8965eb434c8f030eba9c0a4423": {
      "model_module": "@jupyter-widgets/controls",
      "model_module_version": "1.2.0",
      "model_name": "DescriptionStyleModel",
      "state": {
       "description_width": ""
      }
     },
     "1086ff5646804d73b3ddfd182fdaa41d": {
      "model_module": "@jupyter-widgets/base",
      "model_module_version": "1.0.0",
      "model_name": "LayoutModel",
      "state": {}
     },
     "10f77060d2444fb489f9c1dacf50b2b2": {
      "model_module": "@jupyter-widgets/base",
      "model_module_version": "1.0.0",
      "model_name": "LayoutModel",
      "state": {}
     },
     "111296fb57e4448caa7da12299d925cd": {
      "model_module": "@jupyter-widgets/base",
      "model_module_version": "1.0.0",
      "model_name": "LayoutModel",
      "state": {}
     },
     "117bed3248c04eb68d940f35bc0a3681": {
      "model_module": "@jupyter-widgets/controls",
      "model_module_version": "1.2.0",
      "model_name": "HTMLModel",
      "state": {
       "layout": "IPY_MODEL_d3808b3eb45c4420878f44e50cc3551b",
       "style": "IPY_MODEL_3593073e8fe74861aa5fac6d7d2abb2a",
       "value": "<b>3</b>)&nbsp;&nbsp;"
      }
     },
     "1399f16d91e549acb406628bad7ce0f8": {
      "model_module": "@jupyter-widgets/base",
      "model_module_version": "1.0.0",
      "model_name": "LayoutModel",
      "state": {}
     },
     "13b93800bf70456f87b7f354d51ba5f6": {
      "model_module": "@jupyter-widgets/controls",
      "model_module_version": "1.2.0",
      "model_name": "DescriptionStyleModel",
      "state": {
       "description_width": ""
      }
     },
     "13ce7a73c77b4fcc98bbda9d5cc0600b": {
      "model_module": "@jupyter-widgets/controls",
      "model_module_version": "1.2.0",
      "model_name": "HTMLModel",
      "state": {
       "layout": "IPY_MODEL_10f77060d2444fb489f9c1dacf50b2b2",
       "style": "IPY_MODEL_4bac944a14fc4f538a437c00b5c2c50e",
       "value": "<b>3</b>)&nbsp;&nbsp;"
      }
     },
     "14720146a9504c4e9bd81e02ff3722ed": {
      "model_module": "@jupyter-widgets/controls",
      "model_module_version": "1.2.0",
      "model_name": "DescriptionStyleModel",
      "state": {
       "description_width": ""
      }
     },
     "1490087d3c3143109ea4c488616ef0fd": {
      "model_module": "@jupyter-widgets/controls",
      "model_module_version": "1.2.0",
      "model_name": "ButtonModel",
      "state": {
       "description": "Previous",
       "disabled": true,
       "layout": "IPY_MODEL_5d644f25386d4ab8a73e95e7758fbe8e",
       "style": "IPY_MODEL_cc86feb548b34cef905db0b824796ce2"
      }
     },
     "14aab4217ba34223a89b6b6d031a7e64": {
      "model_module": "@jupyter-widgets/base",
      "model_module_version": "1.0.0",
      "model_name": "LayoutModel",
      "state": {
       "visibility": "visible"
      }
     },
     "14bff56989b3469db103aa4b52646107": {
      "model_module": "@jupyter-widgets/controls",
      "model_module_version": "1.2.0",
      "model_name": "HTMLModel",
      "state": {
       "layout": "IPY_MODEL_24b97965a121458c988121965783e7bf",
       "style": "IPY_MODEL_271dedf410854c2db55fa7347ebc4ff2",
       "value": "<h1>Which of the following will print \"Hello\" 5 times without errors?</h1>"
      }
     },
     "14d0a9524c7149d5b132e745131187fe": {
      "model_module": "@jupyter-widgets/base",
      "model_module_version": "1.0.0",
      "model_name": "LayoutModel",
      "state": {}
     },
     "150cddea7b344053a40216160cccff09": {
      "model_module": "@jupyter-widgets/base",
      "model_module_version": "1.0.0",
      "model_name": "LayoutModel",
      "state": {}
     },
     "1523d7261c2b439ab15f9159ef175e1d": {
      "model_module": "@jupyter-widgets/base",
      "model_module_version": "1.0.0",
      "model_name": "LayoutModel",
      "state": {
       "visibility": "hidden"
      }
     },
     "15b62c20f1a942a4b52f5268c245b21a": {
      "model_module": "@jupyter-widgets/controls",
      "model_module_version": "1.2.0",
      "model_name": "HBoxModel",
      "state": {
       "children": [
        "IPY_MODEL_5631c01fada7488b8995ccf7647ce83f",
        "IPY_MODEL_db38f3b591194186b11ef6be066af41c"
       ],
       "layout": "IPY_MODEL_0ac35d0999ec43e391ae73e1eae0da51"
      }
     },
     "1691099b6aa74ad28008fd9fa8eab750": {
      "model_module": "@jupyter-widgets/controls",
      "model_module_version": "1.2.0",
      "model_name": "HBoxModel",
      "state": {
       "children": [
        "IPY_MODEL_773eb96ab33d41468c965545d0a3babe",
        "IPY_MODEL_c0c918da532341138874dfed63961348"
       ],
       "layout": "IPY_MODEL_b30a22f692694b0fb5afd0c4cb3a0e3b"
      }
     },
     "16b271fed4ff4eb888f5d51dc4f7592b": {
      "model_module": "@jupyter-widgets/controls",
      "model_module_version": "1.2.0",
      "model_name": "HTMLModel",
      "state": {
       "layout": "IPY_MODEL_03642bf4ee4b4d7480ac796b075c310c",
       "style": "IPY_MODEL_d26c78d0bb304f128bbe7666045382b0",
       "value": "<b>4</b>)&nbsp;&nbsp;"
      }
     },
     "16ddf4a071534d758fdd4b887001a35d": {
      "model_module": "@jupyter-widgets/controls",
      "model_module_version": "1.2.0",
      "model_name": "ButtonModel",
      "state": {
       "description": "3",
       "layout": "IPY_MODEL_048208fa527447fcb702ddaad8173981",
       "style": "IPY_MODEL_d4a2fbcc98b84b65b1e6c927964548ba"
      }
     },
     "17158aefec91494ab742ccb3664456c6": {
      "model_module": "@jupyter-widgets/controls",
      "model_module_version": "1.2.0",
      "model_name": "ButtonStyleModel",
      "state": {}
     },
     "17c186d1906a4388b596b84913380367": {
      "model_module": "@jupyter-widgets/base",
      "model_module_version": "1.0.0",
      "model_name": "LayoutModel",
      "state": {}
     },
     "185e560701f04d748cebce28ccf6d5bd": {
      "model_module": "@jupyter-widgets/controls",
      "model_module_version": "1.2.0",
      "model_name": "HBoxModel",
      "state": {
       "children": [
        "IPY_MODEL_067df59cc0f54e099c013a3a1a5c3f40",
        "IPY_MODEL_4a38bd382138401891e89879ea9a7bc5",
        "IPY_MODEL_67be62b570584a14af634c19403b416d",
        "IPY_MODEL_dac792e615184f66856e6ed1558a4def",
        "IPY_MODEL_410c40fc3f6f4d23878b919596b83a46",
        "IPY_MODEL_f1568922ade34b74973f01d2f9fe1c42"
       ],
       "layout": "IPY_MODEL_0b07696ae85540e2b42600392d55d45b"
      }
     },
     "1889fd3e8dc14b36951f64e4592ce037": {
      "model_module": "@jupyter-widgets/controls",
      "model_module_version": "1.2.0",
      "model_name": "ButtonModel",
      "state": {
       "description": "3",
       "layout": "IPY_MODEL_fa090d090e7b4f65aa15577ee8ff12e5",
       "style": "IPY_MODEL_2dd21bce4f594fe4b21073c51f93f863"
      }
     },
     "18e654edd7bd401fbfeff7cc8b4b2c5f": {
      "model_module": "@jupyter-widgets/base",
      "model_module_version": "1.0.0",
      "model_name": "LayoutModel",
      "state": {
       "margin": "20px",
       "visibility": "visible"
      }
     },
     "18ebfe568c50482eaa0e7ae2b02bad06": {
      "model_module": "@jupyter-widgets/base",
      "model_module_version": "1.0.0",
      "model_name": "LayoutModel",
      "state": {}
     },
     "18eca1f09efc4083b65a2324971b6b34": {
      "model_module": "@jupyter-widgets/controls",
      "model_module_version": "1.2.0",
      "model_name": "ButtonModel",
      "state": {
       "description": "2",
       "layout": "IPY_MODEL_934ce0ac8e914c38a3836a449ac159c6",
       "style": "IPY_MODEL_2181fdf9a257497bb5523ae0ff6732e6"
      }
     },
     "1943a495b7854b7bbf78b9da08730487": {
      "model_module": "@jupyter-widgets/controls",
      "model_module_version": "1.2.0",
      "model_name": "ButtonStyleModel",
      "state": {}
     },
     "19798d642817433483c1cb8d4225c1be": {
      "model_module": "@jupyter-widgets/controls",
      "model_module_version": "1.2.0",
      "model_name": "HTMLModel",
      "state": {
       "layout": "IPY_MODEL_3d65d6afada84d1599e8e9f577b1c07c",
       "style": "IPY_MODEL_ab1d99a0bf394c3bb33835210685c729",
       "value": "both have keys and values"
      }
     },
     "19bdde5d8ccc4884aaadfcad8a5297d7": {
      "model_module": "@jupyter-widgets/controls",
      "model_module_version": "1.2.0",
      "model_name": "DescriptionStyleModel",
      "state": {
       "description_width": ""
      }
     },
     "1a05c9becd544bb7ad4410013fce84bd": {
      "model_module": "@jupyter-widgets/controls",
      "model_module_version": "1.2.0",
      "model_name": "HBoxModel",
      "state": {
       "children": [
        "IPY_MODEL_b7c61d1662bb4ccf84e4d924fd2d9a12",
        "IPY_MODEL_4a2f54fbf98a480e85b84c14269d1da5",
        "IPY_MODEL_c224efb453b74a13ac6d14cdddcbeb64"
       ],
       "layout": "IPY_MODEL_4e503cdf1ccb48ce85b32b1d2ac9344f"
      }
     },
     "1a34a371752846ceab5a547d52de54f2": {
      "model_module": "@jupyter-widgets/base",
      "model_module_version": "1.0.0",
      "model_name": "LayoutModel",
      "state": {}
     },
     "1a354b9eb9c94f21a44d4edf8d1c4010": {
      "model_module": "@jupyter-widgets/controls",
      "model_module_version": "1.2.0",
      "model_name": "HTMLModel",
      "state": {
       "layout": "IPY_MODEL_7d89e5db61e845b3a3ef08199e704e10",
       "style": "IPY_MODEL_bc646d69129847c1aacfd208651bac8f",
       "value": "<b>5</b>)&nbsp;&nbsp;"
      }
     },
     "1a4a93a99a2044b58b4fe4119cb3a857": {
      "model_module": "@jupyter-widgets/base",
      "model_module_version": "1.0.0",
      "model_name": "LayoutModel",
      "state": {
       "margin": "20px",
       "visibility": "hidden"
      }
     },
     "1b4960ba8e0f4f1aba09cdfc6a30d8db": {
      "model_module": "@jupyter-widgets/controls",
      "model_module_version": "1.2.0",
      "model_name": "ButtonStyleModel",
      "state": {}
     },
     "1d4d2d4a1b8a4382b66f8dd9bd11fac9": {
      "model_module": "@jupyter-widgets/controls",
      "model_module_version": "1.2.0",
      "model_name": "DescriptionStyleModel",
      "state": {
       "description_width": ""
      }
     },
     "1deca9daac724aa091bbcf4311838545": {
      "model_module": "@jupyter-widgets/base",
      "model_module_version": "1.0.0",
      "model_name": "LayoutModel",
      "state": {}
     },
     "1e3f74dbc1724561908258108375c442": {
      "model_module": "@jupyter-widgets/base",
      "model_module_version": "1.0.0",
      "model_name": "LayoutModel",
      "state": {
       "margin": "20px",
       "visibility": "visible"
      }
     },
     "1f058a4a66e14de8aa6eafe33d5f426e": {
      "model_module": "@jupyter-widgets/base",
      "model_module_version": "1.0.0",
      "model_name": "LayoutModel",
      "state": {}
     },
     "1f82df0e21f743d39c789b262c877851": {
      "model_module": "@jupyter-widgets/controls",
      "model_module_version": "1.2.0",
      "model_name": "HBoxModel",
      "state": {
       "children": [
        "IPY_MODEL_fd1a9455a69b42b391c8a86b4e1b492d",
        "IPY_MODEL_68c31ffcdc9a4f2ebebd1bebc5edd91f"
       ],
       "layout": "IPY_MODEL_2c01864012134cb28f6a63983f78a951"
      }
     },
     "1fa3242dccd948b0b3efb43b11b1cee5": {
      "model_module": "@jupyter-widgets/controls",
      "model_module_version": "1.2.0",
      "model_name": "DescriptionStyleModel",
      "state": {
       "description_width": ""
      }
     },
     "2037cb75f8204b00aa5fa704c8a93e78": {
      "model_module": "@jupyter-widgets/controls",
      "model_module_version": "1.2.0",
      "model_name": "HTMLModel",
      "state": {
       "layout": "IPY_MODEL_2e84844495dc488f8eadece0427669e8",
       "style": "IPY_MODEL_ab5a770b461943fe82e8391ebed353a5"
      }
     },
     "206ee1d3872b476bb97e68820af1535b": {
      "model_module": "@jupyter-widgets/controls",
      "model_module_version": "1.2.0",
      "model_name": "HTMLModel",
      "state": {
       "layout": "IPY_MODEL_6c51ac7e03664706890b18a375cc5652",
       "style": "IPY_MODEL_0fc16b8965eb434c8f030eba9c0a4423",
       "value": "<b>5</b>)&nbsp;&nbsp;"
      }
     },
     "2181fdf9a257497bb5523ae0ff6732e6": {
      "model_module": "@jupyter-widgets/controls",
      "model_module_version": "1.2.0",
      "model_name": "ButtonStyleModel",
      "state": {}
     },
     "218acb2dd269465b8d88f490edd2ec4f": {
      "model_module": "@jupyter-widgets/controls",
      "model_module_version": "1.2.0",
      "model_name": "ButtonStyleModel",
      "state": {}
     },
     "2191d81a52a643ec91b93760358a0962": {
      "model_module": "@jupyter-widgets/controls",
      "model_module_version": "1.2.0",
      "model_name": "ButtonStyleModel",
      "state": {}
     },
     "221ac6e729624b5d83ed5c2344391327": {
      "model_module": "@jupyter-widgets/controls",
      "model_module_version": "1.2.0",
      "model_name": "HBoxModel",
      "state": {
       "children": [
        "IPY_MODEL_75b073943ab247bb9ed1d8d81c1c7563",
        "IPY_MODEL_539daed75cfa4f1daa93d5163e49e2c9"
       ],
       "layout": "IPY_MODEL_b4cf15a86d08406b9a909d7351b977ee"
      }
     },
     "225f4517c2764094a39951c9b5677281": {
      "model_module": "@jupyter-widgets/controls",
      "model_module_version": "1.2.0",
      "model_name": "HBoxModel",
      "state": {
       "children": [
        "IPY_MODEL_2c7837d770e24812bff4eeecb41828ad",
        "IPY_MODEL_c8910f418437477e9d7b6887d8331dec"
       ],
       "layout": "IPY_MODEL_e089f0482cf240aaa807032de6493ec6"
      }
     },
     "2271935f59784b9da9caeb9981845bf5": {
      "model_module": "@jupyter-widgets/controls",
      "model_module_version": "1.2.0",
      "model_name": "DescriptionStyleModel",
      "state": {
       "description_width": ""
      }
     },
     "22fb24fe704b43ef888c9ccbe4976ae4": {
      "model_module": "@jupyter-widgets/base",
      "model_module_version": "1.0.0",
      "model_name": "LayoutModel",
      "state": {}
     },
     "24b97965a121458c988121965783e7bf": {
      "model_module": "@jupyter-widgets/base",
      "model_module_version": "1.0.0",
      "model_name": "LayoutModel",
      "state": {}
     },
     "24ee4ffe4f7a41b580329f381b989d2d": {
      "model_module": "@jupyter-widgets/controls",
      "model_module_version": "1.2.0",
      "model_name": "DescriptionStyleModel",
      "state": {
       "description_width": ""
      }
     },
     "255c0536f38b47418f41e5eb5310314e": {
      "model_module": "@jupyter-widgets/controls",
      "model_module_version": "1.2.0",
      "model_name": "HTMLModel",
      "state": {
       "layout": "IPY_MODEL_3b617f57914b451991929dfdc9f5b7e4",
       "style": "IPY_MODEL_b435cda8ff98476091d8cd37914363a5",
       "value": "<b>5</b>)&nbsp;&nbsp;"
      }
     },
     "260c74af7dbc4612bfdf509925f28e75": {
      "model_module": "@jupyter-widgets/controls",
      "model_module_version": "1.2.0",
      "model_name": "HTMLModel",
      "state": {
       "layout": "IPY_MODEL_a3d1a9665ccb411eadb9e0b48a594664",
       "style": "IPY_MODEL_13b93800bf70456f87b7f354d51ba5f6",
       "value": "\n<pre>\nprintln(\"Hello\");\nprintln(\"Hello\");\nprintln(\"Hello\");\nprintln(\"Hello\");\nprintln(\"Hello\");\n</pre>\n"
      }
     },
     "263c07bc2ffe4a86a323a1bc94550fea": {
      "model_module": "@jupyter-widgets/base",
      "model_module_version": "1.0.0",
      "model_name": "LayoutModel",
      "state": {}
     },
     "267822a0fce941feab462763c570fa6b": {
      "model_module": "@jupyter-widgets/controls",
      "model_module_version": "1.2.0",
      "model_name": "HTMLModel",
      "state": {
       "layout": "IPY_MODEL_c666bc2306f248b7ac1ca212dd42459e",
       "style": "IPY_MODEL_0992a6cc0baf4992b781faacebcd51fb",
       "value": "hash tables have O(1)"
      }
     },
     "26ae899c0c644b168720c3c5d77b3fd2": {
      "model_module": "@jupyter-widgets/base",
      "model_module_version": "1.0.0",
      "model_name": "LayoutModel",
      "state": {}
     },
     "271dedf410854c2db55fa7347ebc4ff2": {
      "model_module": "@jupyter-widgets/controls",
      "model_module_version": "1.2.0",
      "model_name": "DescriptionStyleModel",
      "state": {
       "description_width": ""
      }
     },
     "273f39988a2a4117b2aeb94401ba86cd": {
      "model_module": "@jupyter-widgets/base",
      "model_module_version": "1.0.0",
      "model_name": "LayoutModel",
      "state": {}
     },
     "2748523b13b04ca3ae490faf649370c9": {
      "model_module": "@jupyter-widgets/base",
      "model_module_version": "1.0.0",
      "model_name": "LayoutModel",
      "state": {}
     },
     "27e97906884a42e8be5e34b92db74155": {
      "model_module": "@jupyter-widgets/controls",
      "model_module_version": "1.2.0",
      "model_name": "DescriptionStyleModel",
      "state": {
       "description_width": ""
      }
     },
     "2856678fe3124adc8888f7810aca4180": {
      "model_module": "@jupyter-widgets/controls",
      "model_module_version": "1.2.0",
      "model_name": "HBoxModel",
      "state": {
       "children": [
        "IPY_MODEL_9ba59181b3e84052827bbb87b0f0765b",
        "IPY_MODEL_cea95484b56a48fbb9acdaf48ddae60c"
       ],
       "layout": "IPY_MODEL_430d18a636424f65b082ad4d5ffb54a5"
      }
     },
     "28e0f3b4c2264c9d80b0d7f448d4dba9": {
      "model_module": "@jupyter-widgets/controls",
      "model_module_version": "1.2.0",
      "model_name": "HBoxModel",
      "state": {
       "children": [
        "IPY_MODEL_3693595b506d45a6a2968b2316fac385",
        "IPY_MODEL_3cc03869170d4a879f73c45ce811b51c"
       ],
       "layout": "IPY_MODEL_5d27ac28703b404595f8b429a3aeeccc"
      }
     },
     "29bbedec443b43e0a5de97c1c843c6d4": {
      "model_module": "@jupyter-widgets/base",
      "model_module_version": "1.0.0",
      "model_name": "LayoutModel",
      "state": {}
     },
     "29f6587a2e0a45249738cc6cc0177ec7": {
      "model_module": "@jupyter-widgets/base",
      "model_module_version": "1.0.0",
      "model_name": "LayoutModel",
      "state": {
       "visibility": "visible"
      }
     },
     "2a25d4d86fd2410b8eeb7840a175d159": {
      "model_module": "@jupyter-widgets/base",
      "model_module_version": "1.0.0",
      "model_name": "LayoutModel",
      "state": {}
     },
     "2ad385bc4f644144802e874ea5d5b52d": {
      "model_module": "@jupyter-widgets/base",
      "model_module_version": "1.0.0",
      "model_name": "LayoutModel",
      "state": {
       "margin": "20px",
       "visibility": "hidden"
      }
     },
     "2c01864012134cb28f6a63983f78a951": {
      "model_module": "@jupyter-widgets/base",
      "model_module_version": "1.0.0",
      "model_name": "LayoutModel",
      "state": {
       "visibility": "visible"
      }
     },
     "2c44302bf1a2463fa3ba80976b7ebcef": {
      "model_module": "@jupyter-widgets/base",
      "model_module_version": "1.0.0",
      "model_name": "LayoutModel",
      "state": {}
     },
     "2c6a4ca569544a23b1029d5c1c9f4682": {
      "model_module": "@jupyter-widgets/base",
      "model_module_version": "1.0.0",
      "model_name": "LayoutModel",
      "state": {
       "margin": "20px",
       "visibility": "visible"
      }
     },
     "2c7837d770e24812bff4eeecb41828ad": {
      "model_module": "@jupyter-widgets/controls",
      "model_module_version": "1.2.0",
      "model_name": "VBoxModel",
      "state": {
       "children": [
        "IPY_MODEL_5a42f3877df94946b59b2e4a91deff81",
        "IPY_MODEL_de018ea3f6bb42bf8184803785b7d50a",
        "IPY_MODEL_ce76ba23d86540e4899dac2214dd1a26",
        "IPY_MODEL_5fb60327eb4a4456a4cf06670980db91",
        "IPY_MODEL_95445dbe5551497ba1d82c59e2a4ed80",
        "IPY_MODEL_d39a6f30a5a946f08d7a7473c3273e08",
        "IPY_MODEL_85a22422f5c24b519a41576b6a76a4cf",
        "IPY_MODEL_8ad5aa7820794c4584f063e135bee0b1",
        "IPY_MODEL_76d5614b6c6c4aad8cd48c4b3a5a9f07"
       ],
       "layout": "IPY_MODEL_598887d183224855a3aa8b85ba1646e4"
      }
     },
     "2c944564c4f743ca8e15797fc886e3b5": {
      "model_module": "@jupyter-widgets/base",
      "model_module_version": "1.0.0",
      "model_name": "LayoutModel",
      "state": {}
     },
     "2cbcc09ab53c4147a904b50b621dad05": {
      "model_module": "@jupyter-widgets/controls",
      "model_module_version": "1.2.0",
      "model_name": "ButtonStyleModel",
      "state": {}
     },
     "2cccf4933b114fda8acba1b74faf5766": {
      "model_module": "@jupyter-widgets/base",
      "model_module_version": "1.0.0",
      "model_name": "LayoutModel",
      "state": {
       "visibility": "visible"
      }
     },
     "2d212fd682f04b3bbaf4a0f1e6017041": {
      "model_module": "@jupyter-widgets/base",
      "model_module_version": "1.0.0",
      "model_name": "LayoutModel",
      "state": {}
     },
     "2d4de238a1b346e6a76208df60be9aec": {
      "model_module": "@jupyter-widgets/base",
      "model_module_version": "1.0.0",
      "model_name": "LayoutModel",
      "state": {}
     },
     "2d6e88eeafe14bc8b5e016e79f47c35d": {
      "model_module": "@jupyter-widgets/base",
      "model_module_version": "1.0.0",
      "model_name": "LayoutModel",
      "state": {}
     },
     "2dd21bce4f594fe4b21073c51f93f863": {
      "model_module": "@jupyter-widgets/controls",
      "model_module_version": "1.2.0",
      "model_name": "ButtonStyleModel",
      "state": {}
     },
     "2e84844495dc488f8eadece0427669e8": {
      "model_module": "@jupyter-widgets/base",
      "model_module_version": "1.0.0",
      "model_name": "LayoutModel",
      "state": {}
     },
     "2f917487f59b45e58d8d9766a833028d": {
      "model_module": "@jupyter-widgets/controls",
      "model_module_version": "1.2.0",
      "model_name": "ButtonModel",
      "state": {
       "description": "2",
       "layout": "IPY_MODEL_feff4682f19a44bfa28f6e0350c750c4",
       "style": "IPY_MODEL_d8ebe2081e86463fa6af993694eeaea0"
      }
     },
     "2fb55dc126b7498a98bcc06aa401291c": {
      "model_module": "@jupyter-widgets/controls",
      "model_module_version": "1.2.0",
      "model_name": "HTMLModel",
      "state": {
       "layout": "IPY_MODEL_37f4600f0606438882051a33e227c177",
       "style": "IPY_MODEL_46cacb026259467f8a2c74b572f4a2ca"
      }
     },
     "3177919f14af47de87bc559c441fe79a": {
      "model_module": "@jupyter-widgets/base",
      "model_module_version": "1.0.0",
      "model_name": "LayoutModel",
      "state": {}
     },
     "31b858b957b0481eae1df3081a624730": {
      "model_module": "@jupyter-widgets/base",
      "model_module_version": "1.0.0",
      "model_name": "LayoutModel",
      "state": {}
     },
     "324508c1759a435f96ba26262d1ca993": {
      "model_module": "@jupyter-widgets/controls",
      "model_module_version": "1.2.0",
      "model_name": "ButtonModel",
      "state": {
       "description": "Results",
       "layout": "IPY_MODEL_a9e1b580973e4fdab77944f5b2c784a8",
       "style": "IPY_MODEL_818682797f994daf8ba298e68d8f312c"
      }
     },
     "34610be2300143bc984ed9ae3dd2d331": {
      "model_module": "@jupyter-widgets/controls",
      "model_module_version": "1.2.0",
      "model_name": "DescriptionStyleModel",
      "state": {
       "description_width": ""
      }
     },
     "34d1efb05ba24dd68147466359215eea": {
      "model_module": "@jupyter-widgets/base",
      "model_module_version": "1.0.0",
      "model_name": "LayoutModel",
      "state": {
       "visibility": "hidden"
      }
     },
     "3554d9a06de04c20a624314110905921": {
      "model_module": "@jupyter-widgets/controls",
      "model_module_version": "1.2.0",
      "model_name": "HBoxModel",
      "state": {
       "children": [
        "IPY_MODEL_668e7ac779104269afed48f3dff474b2",
        "IPY_MODEL_d96dfaa8a6ac4e10a4ac47e34cbd8f25"
       ],
       "layout": "IPY_MODEL_79edaaad34144e389f980d98de9c3ddf"
      }
     },
     "3593073e8fe74861aa5fac6d7d2abb2a": {
      "model_module": "@jupyter-widgets/controls",
      "model_module_version": "1.2.0",
      "model_name": "DescriptionStyleModel",
      "state": {
       "description_width": ""
      }
     },
     "359ee883a7084a0aaa48b9a40b8451e7": {
      "model_module": "@jupyter-widgets/controls",
      "model_module_version": "1.2.0",
      "model_name": "HTMLModel",
      "state": {
       "layout": "IPY_MODEL_22fb24fe704b43ef888c9ccbe4976ae4",
       "style": "IPY_MODEL_0b9207351ee04ac1bd3a0537dfa23251",
       "value": "True"
      }
     },
     "3610122be5bd484e8ab8d2381683cc9d": {
      "model_module": "@jupyter-widgets/controls",
      "model_module_version": "1.2.0",
      "model_name": "ButtonModel",
      "state": {
       "description": "3",
       "layout": "IPY_MODEL_5d8ec30cbe8d4f1dbd4167ea0772f630",
       "style": "IPY_MODEL_3ebf848d3ed3460ba035b28898d6c933"
      }
     },
     "3693595b506d45a6a2968b2316fac385": {
      "model_module": "@jupyter-widgets/controls",
      "model_module_version": "1.2.0",
      "model_name": "HTMLModel",
      "state": {
       "layout": "IPY_MODEL_74282095844c46aa9b9b7b75bdb2984c",
       "style": "IPY_MODEL_27e97906884a42e8be5e34b92db74155",
       "value": "<b>4</b>)&nbsp;&nbsp;"
      }
     },
     "36b6c1adb8d44732a9cca44e9a66537f": {
      "model_module": "@jupyter-widgets/controls",
      "model_module_version": "1.2.0",
      "model_name": "DescriptionStyleModel",
      "state": {
       "description_width": ""
      }
     },
     "376c175dbbdc4e75bfdc64d3694ea586": {
      "model_module": "@jupyter-widgets/controls",
      "model_module_version": "1.2.0",
      "model_name": "ButtonModel",
      "state": {
       "description": "Next",
       "layout": "IPY_MODEL_b13a0b34d4a7473c802b450b4459168d",
       "style": "IPY_MODEL_5c5e43f9ad2a400a8daf78e4c9d7f2db"
      }
     },
     "37d442c57cd642e7abde68881d47e63a": {
      "model_module": "@jupyter-widgets/controls",
      "model_module_version": "1.2.0",
      "model_name": "HTMLModel",
      "state": {
       "layout": "IPY_MODEL_0dd218093ed949e69742161430e1fe9b",
       "style": "IPY_MODEL_3cfb47a22d4142a68106b3690f4f8f96",
       "value": "to minimize collisions"
      }
     },
     "37f4600f0606438882051a33e227c177": {
      "model_module": "@jupyter-widgets/base",
      "model_module_version": "1.0.0",
      "model_name": "LayoutModel",
      "state": {}
     },
     "387cad53ff5c4326ba208084faeb5eb2": {
      "model_module": "@jupyter-widgets/base",
      "model_module_version": "1.0.0",
      "model_name": "LayoutModel",
      "state": {}
     },
     "389d67053f8d48c38cfb9685ba89d49d": {
      "model_module": "@jupyter-widgets/controls",
      "model_module_version": "1.2.0",
      "model_name": "HTMLModel",
      "state": {
       "layout": "IPY_MODEL_c7417d0b0c63491ea6432170d873ae6b",
       "style": "IPY_MODEL_d847c0b624194ae6958ae3d3091ae598"
      }
     },
     "38aaac45afa7424ea192c3e48750c66c": {
      "model_module": "@jupyter-widgets/base",
      "model_module_version": "1.0.0",
      "model_name": "LayoutModel",
      "state": {
       "margin": "20px",
       "visibility": "visible"
      }
     },
     "38bc2e1ff04a4955baa5103be59e1d9c": {
      "model_module": "@jupyter-widgets/controls",
      "model_module_version": "1.2.0",
      "model_name": "HTMLModel",
      "state": {
       "layout": "IPY_MODEL_7a8f252bdbcd41d79141bee9c6704104",
       "style": "IPY_MODEL_d55d2086c22e4d89b2878835d34c948a",
       "value": "<b>5</b>)&nbsp;&nbsp;"
      }
     },
     "38e5325b00d543f0ab55bfe62cb52135": {
      "model_module": "@jupyter-widgets/base",
      "model_module_version": "1.0.0",
      "model_name": "LayoutModel",
      "state": {}
     },
     "39cd673b521749b4a1a15ed0eb30e96d": {
      "model_module": "@jupyter-widgets/controls",
      "model_module_version": "1.2.0",
      "model_name": "ButtonStyleModel",
      "state": {}
     },
     "3a1fb3f584414771936464c2e2e7eaf8": {
      "model_module": "@jupyter-widgets/base",
      "model_module_version": "1.0.0",
      "model_name": "LayoutModel",
      "state": {}
     },
     "3b476d4ac74342f28b3ecac52921712a": {
      "model_module": "@jupyter-widgets/controls",
      "model_module_version": "1.2.0",
      "model_name": "DescriptionStyleModel",
      "state": {
       "description_width": ""
      }
     },
     "3b5222e11409455fbd3a26278c7c2c65": {
      "model_module": "@jupyter-widgets/base",
      "model_module_version": "1.0.0",
      "model_name": "LayoutModel",
      "state": {}
     },
     "3b5574bb239d4fe2a2c882fa91af744c": {
      "model_module": "@jupyter-widgets/controls",
      "model_module_version": "1.2.0",
      "model_name": "DescriptionStyleModel",
      "state": {
       "description_width": ""
      }
     },
     "3b617f57914b451991929dfdc9f5b7e4": {
      "model_module": "@jupyter-widgets/base",
      "model_module_version": "1.0.0",
      "model_name": "LayoutModel",
      "state": {}
     },
     "3bb888a55da8426bb6489a7c1c54ef99": {
      "model_module": "@jupyter-widgets/controls",
      "model_module_version": "1.2.0",
      "model_name": "DescriptionStyleModel",
      "state": {
       "description_width": ""
      }
     },
     "3bfad591bebb44a883dbab94dfefcce1": {
      "model_module": "@jupyter-widgets/base",
      "model_module_version": "1.0.0",
      "model_name": "LayoutModel",
      "state": {}
     },
     "3c92542edc3d44958a6787b461104888": {
      "model_module": "@jupyter-widgets/controls",
      "model_module_version": "1.2.0",
      "model_name": "HBoxModel",
      "state": {
       "children": [
        "IPY_MODEL_577977b312634192ae2ccd555b1f2a30",
        "IPY_MODEL_2fb55dc126b7498a98bcc06aa401291c"
       ],
       "layout": "IPY_MODEL_ae35dede76a140c98fc5ac185ec3a11e"
      }
     },
     "3caee02416a24d4eb5bb6d2ab4990e60": {
      "model_module": "@jupyter-widgets/base",
      "model_module_version": "1.0.0",
      "model_name": "LayoutModel",
      "state": {}
     },
     "3cc03869170d4a879f73c45ce811b51c": {
      "model_module": "@jupyter-widgets/controls",
      "model_module_version": "1.2.0",
      "model_name": "HTMLModel",
      "state": {
       "layout": "IPY_MODEL_0ded2a8028a3406c983e43d5f8d6e6b2",
       "style": "IPY_MODEL_f45c8c7086904b109323d6a7e2b6baff",
       "value": "Use a highlighter"
      }
     },
     "3cc9a0c38f0b4b75a16184123f4d6ecf": {
      "model_module": "@jupyter-widgets/controls",
      "model_module_version": "1.2.0",
      "model_name": "DescriptionStyleModel",
      "state": {
       "description_width": ""
      }
     },
     "3cdde4b708494d6c946677ad887b7665": {
      "model_module": "@jupyter-widgets/controls",
      "model_module_version": "1.2.0",
      "model_name": "DescriptionStyleModel",
      "state": {
       "description_width": ""
      }
     },
     "3cfb47a22d4142a68106b3690f4f8f96": {
      "model_module": "@jupyter-widgets/controls",
      "model_module_version": "1.2.0",
      "model_name": "DescriptionStyleModel",
      "state": {
       "description_width": ""
      }
     },
     "3d65d6afada84d1599e8e9f577b1c07c": {
      "model_module": "@jupyter-widgets/base",
      "model_module_version": "1.0.0",
      "model_name": "LayoutModel",
      "state": {}
     },
     "3d6e7de4b2d84317a955f67ffedeed8b": {
      "model_module": "@jupyter-widgets/base",
      "model_module_version": "1.0.0",
      "model_name": "LayoutModel",
      "state": {
       "visibility": "visible"
      }
     },
     "3d989d093b38490dac1c18ad460d2c8d": {
      "model_module": "@jupyter-widgets/controls",
      "model_module_version": "1.2.0",
      "model_name": "ButtonStyleModel",
      "state": {}
     },
     "3e9558e1eb6647bb8eb00666918e8032": {
      "model_module": "@jupyter-widgets/base",
      "model_module_version": "1.0.0",
      "model_name": "LayoutModel",
      "state": {}
     },
     "3ebf848d3ed3460ba035b28898d6c933": {
      "model_module": "@jupyter-widgets/controls",
      "model_module_version": "1.2.0",
      "model_name": "ButtonStyleModel",
      "state": {}
     },
     "410c40fc3f6f4d23878b919596b83a46": {
      "model_module": "@jupyter-widgets/controls",
      "model_module_version": "1.2.0",
      "model_name": "ButtonModel",
      "state": {
       "description": "4",
       "layout": "IPY_MODEL_026f8483c4154b9d9ec510b2f9df1b8a",
       "style": "IPY_MODEL_dd3117eded1a419ba49e5cd371940234"
      }
     },
     "4180fdf742204826b969ac2880381b91": {
      "model_module": "@jupyter-widgets/base",
      "model_module_version": "1.0.0",
      "model_name": "LayoutModel",
      "state": {}
     },
     "4241674d46a84d5a9ea00f5164e87729": {
      "model_module": "@jupyter-widgets/controls",
      "model_module_version": "1.2.0",
      "model_name": "HTMLModel",
      "state": {
       "layout": "IPY_MODEL_387cad53ff5c4326ba208084faeb5eb2",
       "style": "IPY_MODEL_9ceddbe2eacf49e0a9c9915e70e4723d",
       "value": "both organize abstract information"
      }
     },
     "4293b1e0a0064e77851cf1db6ddeb838": {
      "model_module": "@jupyter-widgets/controls",
      "model_module_version": "1.2.0",
      "model_name": "HTMLModel",
      "state": {
       "layout": "IPY_MODEL_34d1efb05ba24dd68147466359215eea",
       "style": "IPY_MODEL_caec4ffca37a4e1aa7615558a36289cb"
      }
     },
     "42989417790a4768b564adb4d716f636": {
      "model_module": "@jupyter-widgets/output",
      "model_module_version": "1.0.0",
      "model_name": "OutputModel",
      "state": {
       "layout": "IPY_MODEL_f4d2631aeaa749b1a95185f45d309296"
      }
     },
     "430d18a636424f65b082ad4d5ffb54a5": {
      "model_module": "@jupyter-widgets/base",
      "model_module_version": "1.0.0",
      "model_name": "LayoutModel",
      "state": {
       "visibility": "hidden"
      }
     },
     "4311f12f9c7a4a9b95139a1615fad83e": {
      "model_module": "@jupyter-widgets/controls",
      "model_module_version": "1.2.0",
      "model_name": "ButtonModel",
      "state": {
       "description": "Previous",
       "layout": "IPY_MODEL_4dca93b6ab3b4f4697ca1305150f35fb",
       "style": "IPY_MODEL_aa9a9d4508ef4f2e85a06362e454036f"
      }
     },
     "43e2d0c7ba394565b6a2af9b4bcf9a4b": {
      "model_module": "@jupyter-widgets/controls",
      "model_module_version": "1.2.0",
      "model_name": "VBoxModel",
      "state": {
       "children": [
        "IPY_MODEL_ecc49ddeedb841c997ac330d57678742",
        "IPY_MODEL_d5e93d5a8cab4f95aa2b94419992a35e"
       ],
       "layout": "IPY_MODEL_3b5222e11409455fbd3a26278c7c2c65"
      }
     },
     "4431d7cfa94e4214b767487d38bc5dfd": {
      "model_module": "@jupyter-widgets/controls",
      "model_module_version": "1.2.0",
      "model_name": "ButtonModel",
      "state": {
       "description": "2",
       "layout": "IPY_MODEL_026a65ac6ba14ca2a4d6e5eb11a69147",
       "style": "IPY_MODEL_de4fd6261a6144159c4cefedf6ad177d"
      }
     },
     "44cce0d531824f38a9045f6b9f4d3ffd": {
      "model_module": "@jupyter-widgets/controls",
      "model_module_version": "1.2.0",
      "model_name": "ButtonModel",
      "state": {
       "description": "1",
       "layout": "IPY_MODEL_45ed086fafba4570a5fa2c16c4c9ab8c",
       "style": "IPY_MODEL_de280ee1017049cbb8ecb221d06fb5dc"
      }
     },
     "453638d429b74fecaf6a27d05874245c": {
      "model_module": "@jupyter-widgets/controls",
      "model_module_version": "1.2.0",
      "model_name": "ButtonModel",
      "state": {
       "description": "Previous",
       "disabled": true,
       "layout": "IPY_MODEL_ae2f46c25f384f539d849af389734c54",
       "style": "IPY_MODEL_1943a495b7854b7bbf78b9da08730487"
      }
     },
     "458381e436f34792939563413b957976": {
      "model_module": "@jupyter-widgets/controls",
      "model_module_version": "1.2.0",
      "model_name": "HTMLModel",
      "state": {
       "layout": "IPY_MODEL_8ab5c8d4bae945f0a60e073c91eaa0bd",
       "style": "IPY_MODEL_3cdde4b708494d6c946677ad887b7665",
       "value": "Underline key concepts."
      }
     },
     "459f57affd6e4200956c30df6eec2f77": {
      "model_module": "@jupyter-widgets/controls",
      "model_module_version": "1.2.0",
      "model_name": "HTMLModel",
      "state": {
       "layout": "IPY_MODEL_06974e2d903d47caa88f7e9e9f422704",
       "style": "IPY_MODEL_fdc0bbe498204560ab9df334bb24f48e",
       "value": "provide less options to speed search"
      }
     },
     "45ed086fafba4570a5fa2c16c4c9ab8c": {
      "model_module": "@jupyter-widgets/base",
      "model_module_version": "1.0.0",
      "model_name": "LayoutModel",
      "state": {
       "margin": "20px",
       "visibility": "visible"
      }
     },
     "465083b26ebc4183937e78a10683b62e": {
      "model_module": "@jupyter-widgets/controls",
      "model_module_version": "1.2.0",
      "model_name": "HBoxModel",
      "state": {
       "children": [
        "IPY_MODEL_e0e82f9fec29499e92d5a955c56f1dce",
        "IPY_MODEL_4b5b646cc6f44b538981c77250e28a5c"
       ],
       "layout": "IPY_MODEL_4e1c07d1fff74e8a954f86d8ae207cb6"
      }
     },
     "46be4e05539647e492de94d254332df7": {
      "model_module": "@jupyter-widgets/base",
      "model_module_version": "1.0.0",
      "model_name": "LayoutModel",
      "state": {
       "visibility": "visible"
      }
     },
     "46c5bc327c934c5ca1cb8971a05ee532": {
      "model_module": "@jupyter-widgets/controls",
      "model_module_version": "1.2.0",
      "model_name": "DescriptionStyleModel",
      "state": {
       "description_width": ""
      }
     },
     "46cacb026259467f8a2c74b572f4a2ca": {
      "model_module": "@jupyter-widgets/controls",
      "model_module_version": "1.2.0",
      "model_name": "DescriptionStyleModel",
      "state": {
       "description_width": ""
      }
     },
     "4723a103a5f84be1971601e9d3727ba7": {
      "model_module": "@jupyter-widgets/controls",
      "model_module_version": "1.2.0",
      "model_name": "DescriptionStyleModel",
      "state": {
       "description_width": ""
      }
     },
     "4906470485084ecdbc34e1a124ac6bbd": {
      "model_module": "@jupyter-widgets/base",
      "model_module_version": "1.0.0",
      "model_name": "LayoutModel",
      "state": {
       "visibility": "visible"
      }
     },
     "49d900a66b15443285e235bc3ddef3f4": {
      "model_module": "@jupyter-widgets/controls",
      "model_module_version": "1.2.0",
      "model_name": "VBoxModel",
      "state": {
       "children": [
        "IPY_MODEL_f7ac6f1d576d4bbfa092de13712c18ab",
        "IPY_MODEL_dbdbb08770df4632ae156baffa1c7425",
        "IPY_MODEL_b31f4f590ec94a7aa0cef249bfd2b45c",
        "IPY_MODEL_15b62c20f1a942a4b52f5268c245b21a",
        "IPY_MODEL_bf7c21c777254b4a80bf0d78eb1ffd34",
        "IPY_MODEL_b45036ea0b6c497685189206d7587394",
        "IPY_MODEL_3c92542edc3d44958a6787b461104888",
        "IPY_MODEL_9a71b6c5882a4a628444f5cf8f20da51",
        "IPY_MODEL_ab78c865ae1c43569a66b72a4741dc8d"
       ],
       "layout": "IPY_MODEL_9066f964cd3848a78e2043d2c5344ba5"
      }
     },
     "4a2f54fbf98a480e85b84c14269d1da5": {
      "model_module": "@jupyter-widgets/controls",
      "model_module_version": "1.2.0",
      "model_name": "ButtonModel",
      "state": {
       "description": "Results",
       "layout": "IPY_MODEL_29f6587a2e0a45249738cc6cc0177ec7",
       "style": "IPY_MODEL_fd113698295d4f019196abf3d5bbbe3f"
      }
     },
     "4a38bd382138401891e89879ea9a7bc5": {
      "model_module": "@jupyter-widgets/controls",
      "model_module_version": "1.2.0",
      "model_name": "ButtonModel",
      "state": {
       "description": "1",
       "layout": "IPY_MODEL_18e654edd7bd401fbfeff7cc8b4b2c5f",
       "style": "IPY_MODEL_7575e6361bc647418a9792a602741e46"
      }
     },
     "4aaf1fabbfce46b98eb669b1f2840956": {
      "model_module": "@jupyter-widgets/base",
      "model_module_version": "1.0.0",
      "model_name": "LayoutModel",
      "state": {}
     },
     "4b4de3f25c2440da89319a778e8c5932": {
      "model_module": "@jupyter-widgets/base",
      "model_module_version": "1.0.0",
      "model_name": "LayoutModel",
      "state": {
       "margin": "20px",
       "visibility": "visible"
      }
     },
     "4b5b646cc6f44b538981c77250e28a5c": {
      "model_module": "@jupyter-widgets/controls",
      "model_module_version": "1.2.0",
      "model_name": "HTMLModel",
      "state": {
       "layout": "IPY_MODEL_a06eccff384643f199e29220208a0bc3",
       "style": "IPY_MODEL_880352be909e432fb95a381385eae960",
       "value": "\n<pre>\nfor (int i=0; i < 5; i++) {\n    println(\"Hello\");\n}\n</pre>\n"
      }
     },
     "4b8151187f2241f3a4f2b28e7679be85": {
      "model_module": "@jupyter-widgets/controls",
      "model_module_version": "1.2.0",
      "model_name": "ButtonStyleModel",
      "state": {}
     },
     "4bac944a14fc4f538a437c00b5c2c50e": {
      "model_module": "@jupyter-widgets/controls",
      "model_module_version": "1.2.0",
      "model_name": "DescriptionStyleModel",
      "state": {
       "description_width": ""
      }
     },
     "4c5e4ac8aef843feb891f0cdf483b79b": {
      "model_module": "@jupyter-widgets/base",
      "model_module_version": "1.0.0",
      "model_name": "LayoutModel",
      "state": {
       "visibility": "visible"
      }
     },
     "4dca93b6ab3b4f4697ca1305150f35fb": {
      "model_module": "@jupyter-widgets/base",
      "model_module_version": "1.0.0",
      "model_name": "LayoutModel",
      "state": {}
     },
     "4e1c07d1fff74e8a954f86d8ae207cb6": {
      "model_module": "@jupyter-widgets/base",
      "model_module_version": "1.0.0",
      "model_name": "LayoutModel",
      "state": {
       "visibility": "visible"
      }
     },
     "4e503cdf1ccb48ce85b32b1d2ac9344f": {
      "model_module": "@jupyter-widgets/base",
      "model_module_version": "1.0.0",
      "model_name": "LayoutModel",
      "state": {}
     },
     "4ec971afba6447e8badeb489799e2ddb": {
      "model_module": "@jupyter-widgets/base",
      "model_module_version": "1.0.0",
      "model_name": "LayoutModel",
      "state": {
       "visibility": "visible"
      }
     },
     "4fd4671da1164c6b886c01678651a721": {
      "model_module": "@jupyter-widgets/controls",
      "model_module_version": "1.2.0",
      "model_name": "HTMLModel",
      "state": {
       "layout": "IPY_MODEL_c5ae2d3b021a463fa3058e1593412c48",
       "style": "IPY_MODEL_a5e9c9c847e5448ab600b78c1bf7a428"
      }
     },
     "4ff1c8212c98404c915930bb0c46890d": {
      "model_module": "@jupyter-widgets/base",
      "model_module_version": "1.0.0",
      "model_name": "LayoutModel",
      "state": {
       "visibility": "hidden"
      }
     },
     "4ff9a5356a6d4d7eb38a09e7625926fc": {
      "model_module": "@jupyter-widgets/base",
      "model_module_version": "1.0.0",
      "model_name": "LayoutModel",
      "state": {
       "visibility": "visible"
      }
     },
     "50700af48f534de091f0b60d9cd0771f": {
      "model_module": "@jupyter-widgets/controls",
      "model_module_version": "1.2.0",
      "model_name": "DescriptionStyleModel",
      "state": {
       "description_width": ""
      }
     },
     "50fb957e76394d999e4c77c23ed223e5": {
      "model_module": "@jupyter-widgets/controls",
      "model_module_version": "1.2.0",
      "model_name": "ButtonModel",
      "state": {
       "description": "Next",
       "disabled": true,
       "layout": "IPY_MODEL_c679db13fb934e3cbf5643725609279b",
       "style": "IPY_MODEL_3d989d093b38490dac1c18ad460d2c8d"
      }
     },
     "51d14b6042394593a36d201bbfb46073": {
      "model_module": "@jupyter-widgets/base",
      "model_module_version": "1.0.0",
      "model_name": "LayoutModel",
      "state": {}
     },
     "539daed75cfa4f1daa93d5163e49e2c9": {
      "model_module": "@jupyter-widgets/controls",
      "model_module_version": "1.2.0",
      "model_name": "VBoxModel",
      "state": {
       "children": [
        "IPY_MODEL_2037cb75f8204b00aa5fa704c8a93e78",
        "IPY_MODEL_e1b977dd18114f7a9dd55da5a92d4088"
       ],
       "layout": "IPY_MODEL_cce31d9a75a94c929c42b87a7de32828"
      }
     },
     "53bd5fd933af459a8261a1e75eb17b2a": {
      "model_module": "@jupyter-widgets/controls",
      "model_module_version": "1.2.0",
      "model_name": "ButtonStyleModel",
      "state": {}
     },
     "54564d36308c4045b4b49d5aa0f748cd": {
      "model_module": "@jupyter-widgets/base",
      "model_module_version": "1.0.0",
      "model_name": "LayoutModel",
      "state": {}
     },
     "556523542b404a748798bad02cf1d42a": {
      "model_module": "@jupyter-widgets/controls",
      "model_module_version": "1.2.0",
      "model_name": "ButtonStyleModel",
      "state": {}
     },
     "5608797e961048a787179a1966d3d387": {
      "model_module": "@jupyter-widgets/base",
      "model_module_version": "1.0.0",
      "model_name": "LayoutModel",
      "state": {}
     },
     "560bc4ba328a4794a56c2d72960ebe17": {
      "model_module": "@jupyter-widgets/controls",
      "model_module_version": "1.2.0",
      "model_name": "HTMLModel",
      "state": {
       "layout": "IPY_MODEL_2c44302bf1a2463fa3ba80976b7ebcef",
       "style": "IPY_MODEL_ad01d454f85043f5a3a9e93a984c032d",
       "value": "<b>2</b>)&nbsp;&nbsp;"
      }
     },
     "5631c01fada7488b8995ccf7647ce83f": {
      "model_module": "@jupyter-widgets/controls",
      "model_module_version": "1.2.0",
      "model_name": "HTMLModel",
      "state": {
       "layout": "IPY_MODEL_042f8ee3940a4e948ec323f3612c0b64",
       "style": "IPY_MODEL_3cc9a0c38f0b4b75a16184123f4d6ecf",
       "value": "<b>2</b>)&nbsp;&nbsp;"
      }
     },
     "565ba964073c4bdc8ac4bd1c25e542e8": {
      "model_module": "@jupyter-widgets/controls",
      "model_module_version": "1.2.0",
      "model_name": "HTMLModel",
      "state": {
       "layout": "IPY_MODEL_2748523b13b04ca3ae490faf649370c9",
       "style": "IPY_MODEL_b8306d05399b4dbda4ab99ef38314c28",
       "value": "All of the above"
      }
     },
     "56b7349fc7ea44ca9c94fd26ceb03063": {
      "model_module": "@jupyter-widgets/base",
      "model_module_version": "1.0.0",
      "model_name": "LayoutModel",
      "state": {
       "margin": "20px",
       "visibility": "visible"
      }
     },
     "570c5a542da145769ece817e30538a4e": {
      "model_module": "@jupyter-widgets/controls",
      "model_module_version": "1.2.0",
      "model_name": "HTMLModel",
      "state": {
       "layout": "IPY_MODEL_a65e4aa489dc496081ea9802dee3d5cc",
       "style": "IPY_MODEL_f72a8bfeb0494a3fb985db9bda05e25d",
       "value": "\n<pre>\nfor (int i=0; i < 5; i++) {\n    println(\"Hello\");\n}\n</pre>\n"
      }
     },
     "5733ada3bfb2400784377b3d32b217fd": {
      "model_module": "@jupyter-widgets/output",
      "model_module_version": "1.0.0",
      "model_name": "OutputModel",
      "state": {
       "layout": "IPY_MODEL_7a8247835ca449039c628c0ebfd6ba03",
       "outputs": [
        {
         "name": "stdout",
         "output_type": "stream",
         "text": "Received: Results\n"
        }
       ]
      }
     },
     "577977b312634192ae2ccd555b1f2a30": {
      "model_module": "@jupyter-widgets/controls",
      "model_module_version": "1.2.0",
      "model_name": "HTMLModel",
      "state": {
       "layout": "IPY_MODEL_0984b2406b894a4da99432df1ee13051",
       "style": "IPY_MODEL_24ee4ffe4f7a41b580329f381b989d2d",
       "value": "<b>5</b>)&nbsp;&nbsp;"
      }
     },
     "57b0833e0f7a4771bf23920f67b7acf3": {
      "model_module": "@jupyter-widgets/controls",
      "model_module_version": "1.2.0",
      "model_name": "HTMLModel",
      "state": {
       "layout": "IPY_MODEL_97f1efeb7bce404f875eefd89363b7b8",
       "style": "IPY_MODEL_5cc4abe8f4f54532b91dc27e9f33a4e2",
       "value": "None of the above"
      }
     },
     "5804d2f78c7643ab956914e8e36faddc": {
      "model_module": "@jupyter-widgets/base",
      "model_module_version": "1.0.0",
      "model_name": "LayoutModel",
      "state": {}
     },
     "5849fb0f6969448b89734c8f594b66ee": {
      "model_module": "@jupyter-widgets/controls",
      "model_module_version": "1.2.0",
      "model_name": "HTMLModel",
      "state": {
       "layout": "IPY_MODEL_f05d70c863404e3dabd5f9659c230a8c",
       "style": "IPY_MODEL_0b1165c2f3dc434aa096d1c650a49de4",
       "value": "<p><b>Question ID</b>: cs206/p1/1</p>"
      }
     },
     "598887d183224855a3aa8b85ba1646e4": {
      "model_module": "@jupyter-widgets/base",
      "model_module_version": "1.0.0",
      "model_name": "LayoutModel",
      "state": {
       "width": "55%"
      }
     },
     "59c93da68ab8406f90caed0f8c74e4a5": {
      "model_module": "@jupyter-widgets/controls",
      "model_module_version": "1.2.0",
      "model_name": "DescriptionStyleModel",
      "state": {
       "description_width": ""
      }
     },
     "59e59ad71a1549709fe9799aee0a64fd": {
      "model_module": "@jupyter-widgets/controls",
      "model_module_version": "1.2.0",
      "model_name": "HBoxModel",
      "state": {
       "children": [
        "IPY_MODEL_e666f67bfe0446b79a5285c4920b1414",
        "IPY_MODEL_e1a9e8b23ff4499e8a7e55efb2bd9e14"
       ],
       "layout": "IPY_MODEL_46be4e05539647e492de94d254332df7"
      }
     },
     "5a42f3877df94946b59b2e4a91deff81": {
      "model_module": "@jupyter-widgets/controls",
      "model_module_version": "1.2.0",
      "model_name": "HTMLModel",
      "state": {
       "layout": "IPY_MODEL_29bbedec443b43e0a5de97c1c843c6d4",
       "style": "IPY_MODEL_d0b600db75d04246a4565c6203a692f4",
       "value": "<p><b>Question ID</b>: cs206/p1/2</p>"
      }
     },
     "5a59b4a0979d474db7a10f335d040bf0": {
      "model_module": "@jupyter-widgets/base",
      "model_module_version": "1.0.0",
      "model_name": "LayoutModel",
      "state": {}
     },
     "5a6bbeaa98644db8baa462de83f8be8b": {
      "model_module": "@jupyter-widgets/controls",
      "model_module_version": "1.2.0",
      "model_name": "HTMLModel",
      "state": {
       "layout": "IPY_MODEL_dafddc209aea48818a234fd3d90b57cb",
       "style": "IPY_MODEL_efee6f71465d4e60b01cc38c5741c1ac",
       "value": "None of the above"
      }
     },
     "5a8e4ac4065f4fa3bcf51001bc925c95": {
      "model_module": "@jupyter-widgets/base",
      "model_module_version": "1.0.0",
      "model_name": "LayoutModel",
      "state": {}
     },
     "5b210b7d68544c3b9c95fddab561c724": {
      "model_module": "@jupyter-widgets/controls",
      "model_module_version": "1.2.0",
      "model_name": "ButtonStyleModel",
      "state": {}
     },
     "5c1027bb9c6a44eba8e92e1c0c6033d2": {
      "model_module": "@jupyter-widgets/base",
      "model_module_version": "1.0.0",
      "model_name": "LayoutModel",
      "state": {}
     },
     "5c519b31d42b45bfa1f7f7eec53eb15b": {
      "model_module": "@jupyter-widgets/controls",
      "model_module_version": "1.2.0",
      "model_name": "DescriptionStyleModel",
      "state": {
       "description_width": ""
      }
     },
     "5c5e43f9ad2a400a8daf78e4c9d7f2db": {
      "model_module": "@jupyter-widgets/controls",
      "model_module_version": "1.2.0",
      "model_name": "ButtonStyleModel",
      "state": {}
     },
     "5cc4abe8f4f54532b91dc27e9f33a4e2": {
      "model_module": "@jupyter-widgets/controls",
      "model_module_version": "1.2.0",
      "model_name": "DescriptionStyleModel",
      "state": {
       "description_width": ""
      }
     },
     "5d27ac28703b404595f8b429a3aeeccc": {
      "model_module": "@jupyter-widgets/base",
      "model_module_version": "1.0.0",
      "model_name": "LayoutModel",
      "state": {
       "visibility": "visible"
      }
     },
     "5d644f25386d4ab8a73e95e7758fbe8e": {
      "model_module": "@jupyter-widgets/base",
      "model_module_version": "1.0.0",
      "model_name": "LayoutModel",
      "state": {}
     },
     "5d88a92a979d411686aaa103e6efdeb6": {
      "model_module": "@jupyter-widgets/controls",
      "model_module_version": "1.2.0",
      "model_name": "HTMLModel",
      "state": {
       "layout": "IPY_MODEL_92973912cf1e4615abfb5876da10b9b4",
       "style": "IPY_MODEL_b8ca6dc541a341918aaa28aa4e96514c",
       "value": "<br/><br clear=\"all\"/><b>Respond</b>: "
      }
     },
     "5d8a2d7f8a2e4b5896a49ce3c9f8b754": {
      "model_module": "@jupyter-widgets/controls",
      "model_module_version": "1.2.0",
      "model_name": "HBoxModel",
      "state": {
       "children": [
        "IPY_MODEL_eb5f7c8af1c74137b2f8952963abe3d1",
        "IPY_MODEL_87c214831e074a10918f8aa9e8172544",
        "IPY_MODEL_6446f2c017db4d89a2d40bc2b51dfbdf"
       ],
       "layout": "IPY_MODEL_d27328cd7caa4a3a9369d44be3c0a637"
      }
     },
     "5d8ec30cbe8d4f1dbd4167ea0772f630": {
      "model_module": "@jupyter-widgets/base",
      "model_module_version": "1.0.0",
      "model_name": "LayoutModel",
      "state": {
       "margin": "20px",
       "visibility": "visible"
      }
     },
     "5dee1e42fff34104939ee6f28dc68a58": {
      "model_module": "@jupyter-widgets/base",
      "model_module_version": "1.0.0",
      "model_name": "LayoutModel",
      "state": {
       "visibility": "hidden"
      }
     },
     "5e1eeb03e62248f69e369c774c94388c": {
      "model_module": "@jupyter-widgets/base",
      "model_module_version": "1.0.0",
      "model_name": "LayoutModel",
      "state": {
       "visibility": "visible"
      }
     },
     "5e42f4c8151142f1b2ee878cfab71dbf": {
      "model_module": "@jupyter-widgets/base",
      "model_module_version": "1.0.0",
      "model_name": "LayoutModel",
      "state": {}
     },
     "5e670da58abd43d0a419da257983cca4": {
      "model_module": "@jupyter-widgets/base",
      "model_module_version": "1.0.0",
      "model_name": "LayoutModel",
      "state": {}
     },
     "5e70dddd4f9c4b26a47bb981d2e8310b": {
      "model_module": "@jupyter-widgets/base",
      "model_module_version": "1.0.0",
      "model_name": "LayoutModel",
      "state": {}
     },
     "5f33620143c44ab2a788f83bfe580c61": {
      "model_module": "@jupyter-widgets/controls",
      "model_module_version": "1.2.0",
      "model_name": "ButtonStyleModel",
      "state": {}
     },
     "5f57e3456c5942a8a7f77fade0eedaba": {
      "model_module": "@jupyter-widgets/controls",
      "model_module_version": "1.2.0",
      "model_name": "DescriptionStyleModel",
      "state": {
       "description_width": ""
      }
     },
     "5fb60327eb4a4456a4cf06670980db91": {
      "model_module": "@jupyter-widgets/controls",
      "model_module_version": "1.2.0",
      "model_name": "HBoxModel",
      "state": {
       "children": [
        "IPY_MODEL_f916dd1aea6641a38e760145daf58573",
        "IPY_MODEL_88c3a02ebce849088b25bbf5b886d0b6"
       ],
       "layout": "IPY_MODEL_9c6957f7039f4956b150d07cb594dd3c"
      }
     },
     "61ac45f2be82451094b849cfb47bae0d": {
      "model_module": "@jupyter-widgets/base",
      "model_module_version": "1.0.0",
      "model_name": "LayoutModel",
      "state": {}
     },
     "61b202f4e52c4018b00fb4b622cc76b5": {
      "model_module": "@jupyter-widgets/controls",
      "model_module_version": "1.2.0",
      "model_name": "DescriptionStyleModel",
      "state": {
       "description_width": ""
      }
     },
     "625e1f9927554787805ff652cf68e25e": {
      "model_module": "@jupyter-widgets/controls",
      "model_module_version": "1.2.0",
      "model_name": "HTMLModel",
      "state": {
       "layout": "IPY_MODEL_2a25d4d86fd2410b8eeb7840a175d159",
       "style": "IPY_MODEL_08356c1c2afb4f96b370e3c50074b8ba",
       "value": "<b>4</b>)&nbsp;&nbsp;"
      }
     },
     "6382d0c8509e4e3ca5fc557eba5b6656": {
      "model_module": "@jupyter-widgets/controls",
      "model_module_version": "1.2.0",
      "model_name": "DescriptionStyleModel",
      "state": {
       "description_width": ""
      }
     },
     "6446f2c017db4d89a2d40bc2b51dfbdf": {
      "model_module": "@jupyter-widgets/controls",
      "model_module_version": "1.2.0",
      "model_name": "ButtonModel",
      "state": {
       "description": "Next",
       "layout": "IPY_MODEL_a02f000ab6724ac591c29928949cfb6e",
       "style": "IPY_MODEL_7eba8b6525b844c69dcfe4bf297d969f"
      }
     },
     "64a0986a91c24883a7b1a0e238db3733": {
      "model_module": "@jupyter-widgets/controls",
      "model_module_version": "1.2.0",
      "model_name": "ButtonStyleModel",
      "state": {}
     },
     "6667b662fd42495fbf299e231e370b27": {
      "model_module": "@jupyter-widgets/controls",
      "model_module_version": "1.2.0",
      "model_name": "HTMLModel",
      "state": {
       "layout": "IPY_MODEL_053bf5c204ee467d9d9b1c5412689f0e",
       "style": "IPY_MODEL_dc170cc954be4ed8bd299374b821505d",
       "value": "<svg baseProfile=\"full\" data=\"[0, 0, 0, 11, 1]\" height=\"400\" labels=\"['1', '2', '3', '4', '5']\" version=\"1.1\" width=\"300\" xmlns=\"http://www.w3.org/2000/svg\" xmlns:ev=\"http://www.w3.org/2001/xml-events\" xmlns:xlink=\"http://www.w3.org/1999/xlink\"><defs /><rect fill=\"#800080\" fill-opacity=\"0.0\" height=\"340\" stroke=\"#000000\" stroke-opacity=\"1.0\" stroke-width=\"1\" width=\"200\" x=\"40\" y=\"20\" /><rect fill=\"#800080\" height=\"0.0\" stroke=\"#000000\" stroke-width=\"1\" width=\"30.0\" x=\"45.0\" y=\"360.0\" /><rect fill=\"#800080\" height=\"0.0\" stroke=\"#000000\" stroke-width=\"1\" width=\"30.0\" x=\"85.0\" y=\"360.0\" /><rect fill=\"#800080\" height=\"0.0\" stroke=\"#000000\" stroke-width=\"1\" width=\"30.0\" x=\"125.0\" y=\"360.0\" /><rect fill=\"#800080\" height=\"340.0\" stroke=\"#000000\" stroke-width=\"1\" width=\"30.0\" x=\"165.0\" y=\"20.0\" /><rect fill=\"#800080\" height=\"30.90909090909091\" stroke=\"#000000\" stroke-width=\"1\" width=\"30.0\" x=\"205.0\" y=\"329.09090909090907\" /><text fill=\"#800080\" stroke=\"#000000\" stroke-width=\"1\" x=\"58.333333333333336\" y=\"380\">1</text><text fill=\"#800080\" stroke=\"#000000\" stroke-width=\"1\" x=\"98.33333333333333\" y=\"380\">2</text><text fill=\"#800080\" stroke=\"#000000\" stroke-width=\"1\" x=\"138.33333333333334\" y=\"380\">3</text><text fill=\"#800080\" stroke=\"#000000\" stroke-width=\"1\" x=\"178.33333333333334\" y=\"380\">4</text><text fill=\"#800080\" stroke=\"#000000\" stroke-width=\"1\" x=\"218.33333333333334\" y=\"380\">5</text><text fill=\"#800080\" stroke=\"#000000\" stroke-width=\"1\" x=\"0\" y=\"364.0\">0.0</text><text fill=\"#800080\" stroke=\"#000000\" stroke-width=\"1\" x=\"0\" y=\"279.0\">2.75</text><text fill=\"#800080\" stroke=\"#000000\" stroke-width=\"1\" x=\"0\" y=\"194.0\">5.5</text><text fill=\"#800080\" stroke=\"#000000\" stroke-width=\"1\" x=\"0\" y=\"109.0\">8.25</text><text fill=\"#800080\" stroke=\"#000000\" stroke-width=\"1\" x=\"0\" y=\"24.0\">11.0</text></svg>"
      }
     },
     "668e7ac779104269afed48f3dff474b2": {
      "model_module": "@jupyter-widgets/controls",
      "model_module_version": "1.2.0",
      "model_name": "VBoxModel",
      "state": {
       "children": [
        "IPY_MODEL_5849fb0f6969448b89734c8f594b66ee",
        "IPY_MODEL_0781eef37a9c47908180a762950740d3",
        "IPY_MODEL_ef60a7f281264ce3bbf2c411eef16bb0",
        "IPY_MODEL_f4099aca576b46b084569240e9801d47",
        "IPY_MODEL_e8419a9929714573bbd49f8ccd85503f",
        "IPY_MODEL_1f82df0e21f743d39c789b262c877851",
        "IPY_MODEL_cab77fb133e545d6b6a09ed18b115cde",
        "IPY_MODEL_185e560701f04d748cebce28ccf6d5bd",
        "IPY_MODEL_1a05c9becd544bb7ad4410013fce84bd"
       ],
       "layout": "IPY_MODEL_61ac45f2be82451094b849cfb47bae0d"
      }
     },
     "66bb3e75eaab4c97b1ab570fa5fd2608": {
      "model_module": "@jupyter-widgets/controls",
      "model_module_version": "1.2.0",
      "model_name": "HTMLModel",
      "state": {
       "layout": "IPY_MODEL_14d0a9524c7149d5b132e745131187fe",
       "style": "IPY_MODEL_031a521adf104eea85dcdb2b14bf0a56",
       "value": "makes it easy"
      }
     },
     "66d957e30e9a401d8b20e05f9dfaeb92": {
      "model_module": "@jupyter-widgets/base",
      "model_module_version": "1.0.0",
      "model_name": "LayoutModel",
      "state": {
       "visibility": "hidden"
      }
     },
     "67be62b570584a14af634c19403b416d": {
      "model_module": "@jupyter-widgets/controls",
      "model_module_version": "1.2.0",
      "model_name": "ButtonModel",
      "state": {
       "description": "2",
       "layout": "IPY_MODEL_bcb1aa738f7f4e5face5426682dcdede",
       "style": "IPY_MODEL_b30911cb79d6469283801233a3ec645a"
      }
     },
     "685d975a8f194bb2aa5bdb6584b0d726": {
      "model_module": "@jupyter-widgets/base",
      "model_module_version": "1.0.0",
      "model_name": "LayoutModel",
      "state": {
       "visibility": "visible"
      }
     },
     "68c31ffcdc9a4f2ebebd1bebc5edd91f": {
      "model_module": "@jupyter-widgets/controls",
      "model_module_version": "1.2.0",
      "model_name": "HTMLModel",
      "state": {
       "layout": "IPY_MODEL_5804d2f78c7643ab956914e8e36faddc",
       "style": "IPY_MODEL_dbb8af4cf68546b1b455c0cdae15f435",
       "value": "can be implemented with hashes"
      }
     },
     "69a701dde2384d4a87f6127c7b76bb18": {
      "model_module": "@jupyter-widgets/controls",
      "model_module_version": "1.2.0",
      "model_name": "HTMLModel",
      "state": {
       "layout": "IPY_MODEL_1a34a371752846ceab5a547d52de54f2",
       "style": "IPY_MODEL_61b202f4e52c4018b00fb4b622cc76b5",
       "value": "<h1>Which of the following will print \"Hello\" 5 times without errors?</h1>"
      }
     },
     "6ae18537f2c1442eac32c3eb286fae49": {
      "model_module": "@jupyter-widgets/controls",
      "model_module_version": "1.2.0",
      "model_name": "HTMLModel",
      "state": {
       "layout": "IPY_MODEL_3e9558e1eb6647bb8eb00666918e8032",
       "style": "IPY_MODEL_a9f26a5c1aed4db1a12c2de24857962a",
       "value": "<b>4</b>)&nbsp;&nbsp;"
      }
     },
     "6b60c14a17c6462d9aa990643156db60": {
      "model_module": "@jupyter-widgets/base",
      "model_module_version": "1.0.0",
      "model_name": "LayoutModel",
      "state": {}
     },
     "6bd688ca6fc04184abd375ba10635f50": {
      "model_module": "@jupyter-widgets/controls",
      "model_module_version": "1.2.0",
      "model_name": "HTMLModel",
      "state": {
       "layout": "IPY_MODEL_17c186d1906a4388b596b84913380367",
       "style": "IPY_MODEL_ef0feb413366476b97ce137132c522ed"
      }
     },
     "6c0cb3b9249c4e06af2ec694e55def24": {
      "model_module": "@jupyter-widgets/controls",
      "model_module_version": "1.2.0",
      "model_name": "ButtonModel",
      "state": {
       "description": "1",
       "layout": "IPY_MODEL_ddaa74d4d36e40b1a9c894a5274e3fca",
       "style": "IPY_MODEL_a4e0bd3dd40948499c91f6a63b360107"
      }
     },
     "6c1e5a5162f94219859c7ed99cb0766c": {
      "model_module": "@jupyter-widgets/base",
      "model_module_version": "1.0.0",
      "model_name": "LayoutModel",
      "state": {}
     },
     "6c51ac7e03664706890b18a375cc5652": {
      "model_module": "@jupyter-widgets/base",
      "model_module_version": "1.0.0",
      "model_name": "LayoutModel",
      "state": {}
     },
     "6d7f772ffdda4e93833d9fb4317cff00": {
      "model_module": "@jupyter-widgets/base",
      "model_module_version": "1.0.0",
      "model_name": "LayoutModel",
      "state": {
       "margin": "20px",
       "visibility": "visible"
      }
     },
     "6e1ba7a8d7844afc898243c4ac66a187": {
      "model_module": "@jupyter-widgets/base",
      "model_module_version": "1.0.0",
      "model_name": "LayoutModel",
      "state": {}
     },
     "6f6bf2c2ee4742f8a94566bdaae38bff": {
      "model_module": "@jupyter-widgets/base",
      "model_module_version": "1.0.0",
      "model_name": "LayoutModel",
      "state": {
       "visibility": "visible"
      }
     },
     "6fb5263714ff4c4d9c391c3d02db8a59": {
      "model_module": "@jupyter-widgets/base",
      "model_module_version": "1.0.0",
      "model_name": "LayoutModel",
      "state": {}
     },
     "704f36416f4049c6a088030998a40c8c": {
      "model_module": "@jupyter-widgets/base",
      "model_module_version": "1.0.0",
      "model_name": "LayoutModel",
      "state": {}
     },
     "71e0c158c7ed4a12b36f54b7fce08b2f": {
      "model_module": "@jupyter-widgets/controls",
      "model_module_version": "1.2.0",
      "model_name": "HTMLModel",
      "state": {
       "layout": "IPY_MODEL_150cddea7b344053a40216160cccff09",
       "style": "IPY_MODEL_f03410ec0cdc45c299c8b6f25eda1e87",
       "value": "<br/><br clear=\"all\"/><b>Respond</b>: "
      }
     },
     "726495724bf24c03b670cb0f62fd7f43": {
      "model_module": "@jupyter-widgets/base",
      "model_module_version": "1.0.0",
      "model_name": "LayoutModel",
      "state": {
       "visibility": "visible"
      }
     },
     "72947738a9464a07b9776c9114b2d9e7": {
      "model_module": "@jupyter-widgets/controls",
      "model_module_version": "1.2.0",
      "model_name": "ButtonModel",
      "state": {
       "description": "2",
       "layout": "IPY_MODEL_4b4de3f25c2440da89319a778e8c5932",
       "style": "IPY_MODEL_0dc61b0a0b8e495996e3afe9e82b7117"
      }
     },
     "73ceae31f5484bd9a8635d80d3b367a9": {
      "model_module": "@jupyter-widgets/base",
      "model_module_version": "1.0.0",
      "model_name": "LayoutModel",
      "state": {}
     },
     "74282095844c46aa9b9b7b75bdb2984c": {
      "model_module": "@jupyter-widgets/base",
      "model_module_version": "1.0.0",
      "model_name": "LayoutModel",
      "state": {}
     },
     "7428f11e11954ae69210d00e5744545f": {
      "model_module": "@jupyter-widgets/controls",
      "model_module_version": "1.2.0",
      "model_name": "HTMLModel",
      "state": {
       "layout": "IPY_MODEL_97569992845344b298fcd7f8c137806d",
       "style": "IPY_MODEL_3b476d4ac74342f28b3ecac52921712a",
       "value": "<p><b>Question ID</b>: 2</p>"
      }
     },
     "749c70da799c4f45bf222e5d055c6ce0": {
      "model_module": "@jupyter-widgets/controls",
      "model_module_version": "1.2.0",
      "model_name": "ButtonModel",
      "state": {
       "description": "5",
       "layout": "IPY_MODEL_aef2d3371d08462697b31d3265ce987d",
       "style": "IPY_MODEL_1b4960ba8e0f4f1aba09cdfc6a30d8db"
      }
     },
     "7575e6361bc647418a9792a602741e46": {
      "model_module": "@jupyter-widgets/controls",
      "model_module_version": "1.2.0",
      "model_name": "ButtonStyleModel",
      "state": {}
     },
     "7594bbaca0c54172bc89221240ade129": {
      "model_module": "@jupyter-widgets/controls",
      "model_module_version": "1.2.0",
      "model_name": "DescriptionStyleModel",
      "state": {
       "description_width": ""
      }
     },
     "75b073943ab247bb9ed1d8d81c1c7563": {
      "model_module": "@jupyter-widgets/controls",
      "model_module_version": "1.2.0",
      "model_name": "VBoxModel",
      "state": {
       "children": [
        "IPY_MODEL_94fc1968669f4150a5b4f3aedb2ff21d",
        "IPY_MODEL_14bff56989b3469db103aa4b52646107",
        "IPY_MODEL_465083b26ebc4183937e78a10683b62e",
        "IPY_MODEL_f7f61e6aadb749b0bbbf91c3aff0e4dc",
        "IPY_MODEL_8b2a924a934243e9bc9650bf01aa1dff",
        "IPY_MODEL_85954819072c47e583419df741fab7e6",
        "IPY_MODEL_ba89fec917734607b8375df7bdb20382",
        "IPY_MODEL_bb4abaee38ff4371ab71513091a61105",
        "IPY_MODEL_cef9521d240744ec8bd89212ed0080f7"
       ],
       "layout": "IPY_MODEL_d70ddb90014c430b811ce5b85af28c6e"
      }
     },
     "76c1d3b4059345babf1a8b7fb8721340": {
      "model_module": "@jupyter-widgets/controls",
      "model_module_version": "1.2.0",
      "model_name": "ButtonModel",
      "state": {
       "description": "5",
       "layout": "IPY_MODEL_1a4a93a99a2044b58b4fe4119cb3a857",
       "style": "IPY_MODEL_f9c58d44006b45cea8a5116a3094357d"
      }
     },
     "76d5614b6c6c4aad8cd48c4b3a5a9f07": {
      "model_module": "@jupyter-widgets/controls",
      "model_module_version": "1.2.0",
      "model_name": "HBoxModel",
      "state": {
       "children": [
        "IPY_MODEL_4311f12f9c7a4a9b95139a1615fad83e",
        "IPY_MODEL_e1377a597ca745ea919b4573ffd1c72a",
        "IPY_MODEL_376c175dbbdc4e75bfdc64d3694ea586"
       ],
       "layout": "IPY_MODEL_a40b7ed7738c4a019228e351505a364f"
      }
     },
     "773eb96ab33d41468c965545d0a3babe": {
      "model_module": "@jupyter-widgets/controls",
      "model_module_version": "1.2.0",
      "model_name": "VBoxModel",
      "state": {
       "children": [
        "IPY_MODEL_d05c3a29f50f484d9052720e0f11a056",
        "IPY_MODEL_69a701dde2384d4a87f6127c7b76bb18",
        "IPY_MODEL_82f76886fab34e9ab1f531a976e8af73",
        "IPY_MODEL_88f2f6c98b8c4270ad85b3d716117d53",
        "IPY_MODEL_f6c337f94b8f4aa8a506f8dda59add5e",
        "IPY_MODEL_064b932532af4ede8df6fecdd99c24e6",
        "IPY_MODEL_7f3e572196b347b6a97d3b71b77e74b2",
        "IPY_MODEL_d35a1ad2bc2d491b8f4913f188359dd9",
        "IPY_MODEL_ed6d80c41b784c139679d59ac55be8e4"
       ],
       "layout": "IPY_MODEL_8c15da16b7684a5f9e14251973966464"
      }
     },
     "77e6ec3023ad4118a6479e3504bcd65e": {
      "model_module": "@jupyter-widgets/controls",
      "model_module_version": "1.2.0",
      "model_name": "ButtonStyleModel",
      "state": {}
     },
     "7800a19579e344bca6a966ac5bd33ca9": {
      "model_module": "@jupyter-widgets/controls",
      "model_module_version": "1.2.0",
      "model_name": "ButtonModel",
      "state": {
       "description": "Next",
       "layout": "IPY_MODEL_01eedc4d2831474b8f39cef0357da587",
       "style": "IPY_MODEL_fcb6d1a9385c43ba96892c97a85cf62d"
      }
     },
     "783aee8167004f40b5873bab089cadd6": {
      "model_module": "@jupyter-widgets/base",
      "model_module_version": "1.0.0",
      "model_name": "LayoutModel",
      "state": {}
     },
     "79edaaad34144e389f980d98de9c3ddf": {
      "model_module": "@jupyter-widgets/base",
      "model_module_version": "1.0.0",
      "model_name": "LayoutModel",
      "state": {}
     },
     "7a8247835ca449039c628c0ebfd6ba03": {
      "model_module": "@jupyter-widgets/base",
      "model_module_version": "1.0.0",
      "model_name": "LayoutModel",
      "state": {}
     },
     "7a8f252bdbcd41d79141bee9c6704104": {
      "model_module": "@jupyter-widgets/base",
      "model_module_version": "1.0.0",
      "model_name": "LayoutModel",
      "state": {}
     },
     "7a9690a130b5459791383e4f54ebcd8d": {
      "model_module": "@jupyter-widgets/controls",
      "model_module_version": "1.2.0",
      "model_name": "HBoxModel",
      "state": {
       "children": [
        "IPY_MODEL_b81c0c9df8c74594a00a274ae18a8ce9",
        "IPY_MODEL_a7cf60e843d241c29d2d304513aca828",
        "IPY_MODEL_72947738a9464a07b9776c9114b2d9e7",
        "IPY_MODEL_3610122be5bd484e8ab8d2381683cc9d",
        "IPY_MODEL_d24f7f1305a0438d80d6ae58d7f398e5",
        "IPY_MODEL_76c1d3b4059345babf1a8b7fb8721340"
       ],
       "layout": "IPY_MODEL_54564d36308c4045b4b49d5aa0f748cd"
      }
     },
     "7bfbd5e42fbd4790bd63e088f216a471": {
      "model_module": "@jupyter-widgets/base",
      "model_module_version": "1.0.0",
      "model_name": "LayoutModel",
      "state": {}
     },
     "7c481e318d7a40458141da24a5adb656": {
      "model_module": "@jupyter-widgets/controls",
      "model_module_version": "1.2.0",
      "model_name": "DescriptionStyleModel",
      "state": {
       "description_width": ""
      }
     },
     "7cc7bd2423704346aee0c493adc4b899": {
      "model_module": "@jupyter-widgets/base",
      "model_module_version": "1.0.0",
      "model_name": "LayoutModel",
      "state": {
       "margin": "20px",
       "visibility": "visible"
      }
     },
     "7ce44a3a588d44a3a486edc437619757": {
      "model_module": "@jupyter-widgets/controls",
      "model_module_version": "1.2.0",
      "model_name": "VBoxModel",
      "state": {
       "children": [
        "IPY_MODEL_7428f11e11954ae69210d00e5744545f",
        "IPY_MODEL_ad867c99700049bf89773837f6e5a589",
        "IPY_MODEL_f739ca24f348446d9aecaef5b9b95d46",
        "IPY_MODEL_59e59ad71a1549709fe9799aee0a64fd",
        "IPY_MODEL_cae6a25eafb64def8148cc5b1915ca2a",
        "IPY_MODEL_28e0f3b4c2264c9d80b0d7f448d4dba9",
        "IPY_MODEL_2856678fe3124adc8888f7810aca4180",
        "IPY_MODEL_7a9690a130b5459791383e4f54ebcd8d",
        "IPY_MODEL_5d8a2d7f8a2e4b5896a49ce3c9f8b754"
       ],
       "layout": "IPY_MODEL_0ecb4d1fbfec427c96581dbb6834b146"
      }
     },
     "7d7e7037dcb94a7aacea31a03bca1938": {
      "model_module": "@jupyter-widgets/base",
      "model_module_version": "1.0.0",
      "model_name": "LayoutModel",
      "state": {}
     },
     "7d89e5db61e845b3a3ef08199e704e10": {
      "model_module": "@jupyter-widgets/base",
      "model_module_version": "1.0.0",
      "model_name": "LayoutModel",
      "state": {}
     },
     "7eba8b6525b844c69dcfe4bf297d969f": {
      "model_module": "@jupyter-widgets/controls",
      "model_module_version": "1.2.0",
      "model_name": "ButtonStyleModel",
      "state": {}
     },
     "7f3e572196b347b6a97d3b71b77e74b2": {
      "model_module": "@jupyter-widgets/controls",
      "model_module_version": "1.2.0",
      "model_name": "HBoxModel",
      "state": {
       "children": [
        "IPY_MODEL_206ee1d3872b476bb97e68820af1535b",
        "IPY_MODEL_57b0833e0f7a4771bf23920f67b7acf3"
       ],
       "layout": "IPY_MODEL_3d6e7de4b2d84317a955f67ffedeed8b"
      }
     },
     "800249d02b3943d3836b96f956873c6d": {
      "model_module": "@jupyter-widgets/controls",
      "model_module_version": "1.2.0",
      "model_name": "HTMLModel",
      "state": {
       "layout": "IPY_MODEL_5e670da58abd43d0a419da257983cca4",
       "style": "IPY_MODEL_d052d32428224f0bbc9a58b754d3e4f6"
      }
     },
     "818682797f994daf8ba298e68d8f312c": {
      "model_module": "@jupyter-widgets/controls",
      "model_module_version": "1.2.0",
      "model_name": "ButtonStyleModel",
      "state": {}
     },
     "825b35b71c0b42d2bb565523c868ff1e": {
      "model_module": "@jupyter-widgets/controls",
      "model_module_version": "1.2.0",
      "model_name": "HTMLModel",
      "state": {
       "layout": "IPY_MODEL_26ae899c0c644b168720c3c5d77b3fd2",
       "style": "IPY_MODEL_5f57e3456c5942a8a7f77fade0eedaba",
       "value": "<b>2</b>)&nbsp;&nbsp;"
      }
     },
     "8295007beb0348a7aa0b3b5dd64fb906": {
      "model_module": "@jupyter-widgets/base",
      "model_module_version": "1.0.0",
      "model_name": "LayoutModel",
      "state": {}
     },
     "82f76886fab34e9ab1f531a976e8af73": {
      "model_module": "@jupyter-widgets/controls",
      "model_module_version": "1.2.0",
      "model_name": "HBoxModel",
      "state": {
       "children": [
        "IPY_MODEL_d6a5fc2b007e4f419fa2bcd877e79664",
        "IPY_MODEL_570c5a542da145769ece817e30538a4e"
       ],
       "layout": "IPY_MODEL_4ff9a5356a6d4d7eb38a09e7625926fc"
      }
     },
     "832928ce9d514729a84715dfcfd95803": {
      "model_module": "@jupyter-widgets/controls",
      "model_module_version": "1.2.0",
      "model_name": "DescriptionStyleModel",
      "state": {
       "description_width": ""
      }
     },
     "8444287c229d4f12adf2f3d6eab4fd0e": {
      "model_module": "@jupyter-widgets/base",
      "model_module_version": "1.0.0",
      "model_name": "LayoutModel",
      "state": {}
     },
     "85954819072c47e583419df741fab7e6": {
      "model_module": "@jupyter-widgets/controls",
      "model_module_version": "1.2.0",
      "model_name": "HBoxModel",
      "state": {
       "children": [
        "IPY_MODEL_cebb3ca014c3456da09f55a44833c297",
        "IPY_MODEL_a5b43da89225446b848b615bff58b2c4"
       ],
       "layout": "IPY_MODEL_685d975a8f194bb2aa5bdb6584b0d726"
      }
     },
     "85a22422f5c24b519a41576b6a76a4cf": {
      "model_module": "@jupyter-widgets/controls",
      "model_module_version": "1.2.0",
      "model_name": "HBoxModel",
      "state": {
       "children": [
        "IPY_MODEL_255c0536f38b47418f41e5eb5310314e",
        "IPY_MODEL_459f57affd6e4200956c30df6eec2f77"
       ],
       "layout": "IPY_MODEL_0f753f2950e048d481d28188aae092e9"
      }
     },
     "85cdc01fca364267904130e361cc680d": {
      "model_module": "@jupyter-widgets/controls",
      "model_module_version": "1.2.0",
      "model_name": "HTMLModel",
      "state": {
       "layout": "IPY_MODEL_0ca4d6ede7594de6acccf4c883cd7150",
       "style": "IPY_MODEL_b27bc5ea9335474088a4a2b9ed8a3c24",
       "value": "both are sets of ordered pairs"
      }
     },
     "8754438e1c5f41c1a7a153afecafa14b": {
      "model_module": "@jupyter-widgets/base",
      "model_module_version": "1.0.0",
      "model_name": "LayoutModel",
      "state": {
       "visibility": "visible"
      }
     },
     "87c214831e074a10918f8aa9e8172544": {
      "model_module": "@jupyter-widgets/controls",
      "model_module_version": "1.2.0",
      "model_name": "ButtonModel",
      "state": {
       "description": "Results",
       "layout": "IPY_MODEL_aedc6786b73a489aa3fa68d35140238f",
       "style": "IPY_MODEL_071bd245cae642cfaa9ee8e90687fa93"
      }
     },
     "880352be909e432fb95a381385eae960": {
      "model_module": "@jupyter-widgets/controls",
      "model_module_version": "1.2.0",
      "model_name": "DescriptionStyleModel",
      "state": {
       "description_width": ""
      }
     },
     "88c3a02ebce849088b25bbf5b886d0b6": {
      "model_module": "@jupyter-widgets/controls",
      "model_module_version": "1.2.0",
      "model_name": "HTMLModel",
      "state": {
       "layout": "IPY_MODEL_f2641cf6265b4f5e9292815f94cc626b",
       "style": "IPY_MODEL_46c5bc327c934c5ca1cb8971a05ee532",
       "value": "elements can be reached in linear time"
      }
     },
     "88f2f6c98b8c4270ad85b3d716117d53": {
      "model_module": "@jupyter-widgets/controls",
      "model_module_version": "1.2.0",
      "model_name": "HBoxModel",
      "state": {
       "children": [
        "IPY_MODEL_d7fc9ad7e61e4d279d5f23c5162b5474",
        "IPY_MODEL_ccbdd768c5b44f6fb9cf1af2a30ce43a"
       ],
       "layout": "IPY_MODEL_726495724bf24c03b670cb0f62fd7f43"
      }
     },
     "89742d9c62bc4ce496772b7714e88281": {
      "model_module": "@jupyter-widgets/base",
      "model_module_version": "1.0.0",
      "model_name": "LayoutModel",
      "state": {}
     },
     "8ab5c8d4bae945f0a60e073c91eaa0bd": {
      "model_module": "@jupyter-widgets/base",
      "model_module_version": "1.0.0",
      "model_name": "LayoutModel",
      "state": {}
     },
     "8ad5aa7820794c4584f063e135bee0b1": {
      "model_module": "@jupyter-widgets/controls",
      "model_module_version": "1.2.0",
      "model_name": "HBoxModel",
      "state": {
       "children": [
        "IPY_MODEL_5d88a92a979d411686aaa103e6efdeb6",
        "IPY_MODEL_006fa810e65240faa13d513f3e439ffa",
        "IPY_MODEL_f89808f3700a44fab40453f6ec04724d",
        "IPY_MODEL_d12c49bef8ca45639ee63a2f75ee7cca",
        "IPY_MODEL_ddac8e7d71144089a3affd58579537d4",
        "IPY_MODEL_fce53713007c40eb996e3de41f09d39b"
       ],
       "layout": "IPY_MODEL_99446a9d9e324089ad664343481c8428"
      }
     },
     "8b2a924a934243e9bc9650bf01aa1dff": {
      "model_module": "@jupyter-widgets/controls",
      "model_module_version": "1.2.0",
      "model_name": "HBoxModel",
      "state": {
       "children": [
        "IPY_MODEL_bda59a3910d84ea0b4bda47b66b466e2",
        "IPY_MODEL_fb3a580cbe2e40a6ba9d8bb1c5231dfb"
       ],
       "layout": "IPY_MODEL_fb85ace91fd74548988cc175eef4d039"
      }
     },
     "8c15da16b7684a5f9e14251973966464": {
      "model_module": "@jupyter-widgets/base",
      "model_module_version": "1.0.0",
      "model_name": "LayoutModel",
      "state": {}
     },
     "8cf769b0560647988c87d67a6cb75ee8": {
      "model_module": "@jupyter-widgets/base",
      "model_module_version": "1.0.0",
      "model_name": "LayoutModel",
      "state": {
       "margin": "20px",
       "visibility": "visible"
      }
     },
     "9066f964cd3848a78e2043d2c5344ba5": {
      "model_module": "@jupyter-widgets/base",
      "model_module_version": "1.0.0",
      "model_name": "LayoutModel",
      "state": {}
     },
     "92973912cf1e4615abfb5876da10b9b4": {
      "model_module": "@jupyter-widgets/base",
      "model_module_version": "1.0.0",
      "model_name": "LayoutModel",
      "state": {}
     },
     "92eb6d55601149c5bb2dc4adb5a6113c": {
      "model_module": "@jupyter-widgets/controls",
      "model_module_version": "1.2.0",
      "model_name": "HTMLModel",
      "state": {
       "layout": "IPY_MODEL_d2f22e1ebfbf439db0ff9c3b85c3d66e",
       "style": "IPY_MODEL_e5b13a14481a4d6a8ed1cc5b4b6c497c",
       "value": "<b>1</b>)&nbsp;&nbsp;"
      }
     },
     "934ce0ac8e914c38a3836a449ac159c6": {
      "model_module": "@jupyter-widgets/base",
      "model_module_version": "1.0.0",
      "model_name": "LayoutModel",
      "state": {
       "margin": "20px",
       "visibility": "visible"
      }
     },
     "94fc1968669f4150a5b4f3aedb2ff21d": {
      "model_module": "@jupyter-widgets/controls",
      "model_module_version": "1.2.0",
      "model_name": "HTMLModel",
      "state": {
       "layout": "IPY_MODEL_a009c9c56f0640e5b22358fb2997ebdd",
       "style": "IPY_MODEL_14720146a9504c4e9bd81e02ff3722ed",
       "value": "<p><b>Question ID</b>: 1</p>"
      }
     },
     "95445dbe5551497ba1d82c59e2a4ed80": {
      "model_module": "@jupyter-widgets/controls",
      "model_module_version": "1.2.0",
      "model_name": "HBoxModel",
      "state": {
       "children": [
        "IPY_MODEL_a4a40d0cabe3484dba52d11b1f64de9e",
        "IPY_MODEL_66bb3e75eaab4c97b1ab570fa5fd2608"
       ],
       "layout": "IPY_MODEL_b1c50b6254c04620ba1a1872a483c55e"
      }
     },
     "96199c45931c47e097a83683cfc265ed": {
      "model_module": "@jupyter-widgets/controls",
      "model_module_version": "1.2.0",
      "model_name": "HTMLModel",
      "state": {
       "layout": "IPY_MODEL_8295007beb0348a7aa0b3b5dd64fb906",
       "style": "IPY_MODEL_7594bbaca0c54172bc89221240ade129",
       "value": "both have an explicit ordering"
      }
     },
     "96394943d65b4b6aacdc22bc36a38561": {
      "model_module": "@jupyter-widgets/base",
      "model_module_version": "1.0.0",
      "model_name": "LayoutModel",
      "state": {}
     },
     "97569992845344b298fcd7f8c137806d": {
      "model_module": "@jupyter-widgets/base",
      "model_module_version": "1.0.0",
      "model_name": "LayoutModel",
      "state": {}
     },
     "977a76369f26406aa019db40943f3a96": {
      "model_module": "@jupyter-widgets/controls",
      "model_module_version": "1.2.0",
      "model_name": "HTMLModel",
      "state": {
       "layout": "IPY_MODEL_f51170f533bd45d89721721549dbc719",
       "style": "IPY_MODEL_0c08f910e91e4feb94d968fdde942572",
       "value": "<b>3</b>)&nbsp;&nbsp;"
      }
     },
     "97f1efeb7bce404f875eefd89363b7b8": {
      "model_module": "@jupyter-widgets/base",
      "model_module_version": "1.0.0",
      "model_name": "LayoutModel",
      "state": {}
     },
     "99446a9d9e324089ad664343481c8428": {
      "model_module": "@jupyter-widgets/base",
      "model_module_version": "1.0.0",
      "model_name": "LayoutModel",
      "state": {}
     },
     "9a20985d94fc456ba0b69c6e69c6a486": {
      "model_module": "@jupyter-widgets/base",
      "model_module_version": "1.0.0",
      "model_name": "LayoutModel",
      "state": {}
     },
     "9a71b6c5882a4a628444f5cf8f20da51": {
      "model_module": "@jupyter-widgets/controls",
      "model_module_version": "1.2.0",
      "model_name": "HBoxModel",
      "state": {
       "children": [
        "IPY_MODEL_04d888094bd44d7ea27ee7d8e3c47282",
        "IPY_MODEL_6c0cb3b9249c4e06af2ec694e55def24",
        "IPY_MODEL_18eca1f09efc4083b65a2324971b6b34",
        "IPY_MODEL_d2bfc5fae91448b7ba97ac8410cddbaa",
        "IPY_MODEL_a28e414bd41e49029fa152416478cc07",
        "IPY_MODEL_c75662223dec46738a045e89a993f811"
       ],
       "layout": "IPY_MODEL_18ebfe568c50482eaa0e7ae2b02bad06"
      }
     },
     "9aa6e128753e4825a7506cd2a6a119bd": {
      "model_module": "@jupyter-widgets/controls",
      "model_module_version": "1.2.0",
      "model_name": "ButtonStyleModel",
      "state": {}
     },
     "9ab1e7f2bca9497e83f96ee5d36140da": {
      "model_module": "@jupyter-widgets/controls",
      "model_module_version": "1.2.0",
      "model_name": "HTMLModel",
      "state": {
       "layout": "IPY_MODEL_8444287c229d4f12adf2f3d6eab4fd0e",
       "style": "IPY_MODEL_f030f73162be4299b6e86582683076ce"
      }
     },
     "9ba59181b3e84052827bbb87b0f0765b": {
      "model_module": "@jupyter-widgets/controls",
      "model_module_version": "1.2.0",
      "model_name": "HTMLModel",
      "state": {
       "layout": "IPY_MODEL_2d6e88eeafe14bc8b5e016e79f47c35d",
       "style": "IPY_MODEL_c9f23660ba754806a3c54b5cedd55db7",
       "value": "<b>5</b>)&nbsp;&nbsp;"
      }
     },
     "9c4deefef9294ad0b3c536617faaff56": {
      "model_module": "@jupyter-widgets/output",
      "model_module_version": "1.0.0",
      "model_name": "OutputModel",
      "state": {
       "layout": "IPY_MODEL_2d212fd682f04b3bbaf4a0f1e6017041"
      }
     },
     "9c6957f7039f4956b150d07cb594dd3c": {
      "model_module": "@jupyter-widgets/base",
      "model_module_version": "1.0.0",
      "model_name": "LayoutModel",
      "state": {
       "visibility": "visible"
      }
     },
     "9ca19f3833834e919d2b79c7902d677f": {
      "model_module": "@jupyter-widgets/base",
      "model_module_version": "1.0.0",
      "model_name": "LayoutModel",
      "state": {
       "visibility": "visible"
      }
     },
     "9ceddbe2eacf49e0a9c9915e70e4723d": {
      "model_module": "@jupyter-widgets/controls",
      "model_module_version": "1.2.0",
      "model_name": "DescriptionStyleModel",
      "state": {
       "description_width": ""
      }
     },
     "9e3e32f81d904dc8812975613bfc9b16": {
      "model_module": "@jupyter-widgets/base",
      "model_module_version": "1.0.0",
      "model_name": "LayoutModel",
      "state": {
       "visibility": "visible"
      }
     },
     "a009c9c56f0640e5b22358fb2997ebdd": {
      "model_module": "@jupyter-widgets/base",
      "model_module_version": "1.0.0",
      "model_name": "LayoutModel",
      "state": {}
     },
     "a02f000ab6724ac591c29928949cfb6e": {
      "model_module": "@jupyter-widgets/base",
      "model_module_version": "1.0.0",
      "model_name": "LayoutModel",
      "state": {}
     },
     "a06eccff384643f199e29220208a0bc3": {
      "model_module": "@jupyter-widgets/base",
      "model_module_version": "1.0.0",
      "model_name": "LayoutModel",
      "state": {}
     },
     "a0dc367790804aa386cb22f50fc2184c": {
      "model_module": "@jupyter-widgets/controls",
      "model_module_version": "1.2.0",
      "model_name": "ButtonStyleModel",
      "state": {}
     },
     "a24eca575c0a43458c521c24b2d5a7aa": {
      "model_module": "@jupyter-widgets/controls",
      "model_module_version": "1.2.0",
      "model_name": "ButtonModel",
      "state": {
       "description": "5",
       "layout": "IPY_MODEL_b340ea4e45034dbf97214dccd3a2623f",
       "style": "IPY_MODEL_77e6ec3023ad4118a6479e3504bcd65e"
      }
     },
     "a28e414bd41e49029fa152416478cc07": {
      "model_module": "@jupyter-widgets/controls",
      "model_module_version": "1.2.0",
      "model_name": "ButtonModel",
      "state": {
       "description": "4",
       "layout": "IPY_MODEL_2ad385bc4f644144802e874ea5d5b52d",
       "style": "IPY_MODEL_ebe95d0cbb2d43aead4550db10e5cbdc"
      }
     },
     "a2d6d79668a340298995b76eac83815d": {
      "model_module": "@jupyter-widgets/controls",
      "model_module_version": "1.2.0",
      "model_name": "ButtonStyleModel",
      "state": {}
     },
     "a3d1a9665ccb411eadb9e0b48a594664": {
      "model_module": "@jupyter-widgets/base",
      "model_module_version": "1.0.0",
      "model_name": "LayoutModel",
      "state": {}
     },
     "a40b7ed7738c4a019228e351505a364f": {
      "model_module": "@jupyter-widgets/base",
      "model_module_version": "1.0.0",
      "model_name": "LayoutModel",
      "state": {}
     },
     "a43a462b0cf14f1f8c62298a474c70ac": {
      "model_module": "@jupyter-widgets/base",
      "model_module_version": "1.0.0",
      "model_name": "LayoutModel",
      "state": {
       "visibility": "visible"
      }
     },
     "a4a40d0cabe3484dba52d11b1f64de9e": {
      "model_module": "@jupyter-widgets/controls",
      "model_module_version": "1.2.0",
      "model_name": "HTMLModel",
      "state": {
       "layout": "IPY_MODEL_263c07bc2ffe4a86a323a1bc94550fea",
       "style": "IPY_MODEL_b97304a712624de28e67dc3e65f632c4",
       "value": "<b>3</b>)&nbsp;&nbsp;"
      }
     },
     "a4e0bd3dd40948499c91f6a63b360107": {
      "model_module": "@jupyter-widgets/controls",
      "model_module_version": "1.2.0",
      "model_name": "ButtonStyleModel",
      "state": {}
     },
     "a54841ce12d44301ba74e7aa755db0d3": {
      "model_module": "@jupyter-widgets/output",
      "model_module_version": "1.0.0",
      "model_name": "OutputModel",
      "state": {
       "layout": "IPY_MODEL_273f39988a2a4117b2aeb94401ba86cd"
      }
     },
     "a5b43da89225446b848b615bff58b2c4": {
      "model_module": "@jupyter-widgets/controls",
      "model_module_version": "1.2.0",
      "model_name": "HTMLModel",
      "state": {
       "layout": "IPY_MODEL_704f36416f4049c6a088030998a40c8c",
       "style": "IPY_MODEL_50700af48f534de091f0b60d9cd0771f",
       "value": "All of the above"
      }
     },
     "a5e0ae587a0e401ca64ad46601bc7e59": {
      "model_module": "@jupyter-widgets/base",
      "model_module_version": "1.0.0",
      "model_name": "LayoutModel",
      "state": {}
     },
     "a5e9c9c847e5448ab600b78c1bf7a428": {
      "model_module": "@jupyter-widgets/controls",
      "model_module_version": "1.2.0",
      "model_name": "DescriptionStyleModel",
      "state": {
       "description_width": ""
      }
     },
     "a5eaabcc24b14184bc534d568bfcc4ee": {
      "model_module": "@jupyter-widgets/base",
      "model_module_version": "1.0.0",
      "model_name": "LayoutModel",
      "state": {}
     },
     "a6540d7996084e25b2e86e945c7df2ed": {
      "model_module": "@jupyter-widgets/controls",
      "model_module_version": "1.2.0",
      "model_name": "HBoxModel",
      "state": {
       "children": [
        "IPY_MODEL_49d900a66b15443285e235bc3ddef3f4",
        "IPY_MODEL_ba9a74617b5641b4bb28147f771c4802"
       ],
       "layout": "IPY_MODEL_4aaf1fabbfce46b98eb669b1f2840956"
      }
     },
     "a65e4aa489dc496081ea9802dee3d5cc": {
      "model_module": "@jupyter-widgets/base",
      "model_module_version": "1.0.0",
      "model_name": "LayoutModel",
      "state": {}
     },
     "a7cf60e843d241c29d2d304513aca828": {
      "model_module": "@jupyter-widgets/controls",
      "model_module_version": "1.2.0",
      "model_name": "ButtonModel",
      "state": {
       "description": "1",
       "layout": "IPY_MODEL_2c6a4ca569544a23b1029d5c1c9f4682",
       "style": "IPY_MODEL_2191d81a52a643ec91b93760358a0962"
      }
     },
     "a9b5e82356a0469c89fc93c698cb8345": {
      "model_module": "@jupyter-widgets/base",
      "model_module_version": "1.0.0",
      "model_name": "LayoutModel",
      "state": {
       "margin": "20px",
       "visibility": "visible"
      }
     },
     "a9e1b580973e4fdab77944f5b2c784a8": {
      "model_module": "@jupyter-widgets/base",
      "model_module_version": "1.0.0",
      "model_name": "LayoutModel",
      "state": {
       "visibility": "visible"
      }
     },
     "a9f26a5c1aed4db1a12c2de24857962a": {
      "model_module": "@jupyter-widgets/controls",
      "model_module_version": "1.2.0",
      "model_name": "DescriptionStyleModel",
      "state": {
       "description_width": ""
      }
     },
     "aa9a9d4508ef4f2e85a06362e454036f": {
      "model_module": "@jupyter-widgets/controls",
      "model_module_version": "1.2.0",
      "model_name": "ButtonStyleModel",
      "state": {}
     },
     "ab1d99a0bf394c3bb33835210685c729": {
      "model_module": "@jupyter-widgets/controls",
      "model_module_version": "1.2.0",
      "model_name": "DescriptionStyleModel",
      "state": {
       "description_width": ""
      }
     },
     "ab5a770b461943fe82e8391ebed353a5": {
      "model_module": "@jupyter-widgets/controls",
      "model_module_version": "1.2.0",
      "model_name": "DescriptionStyleModel",
      "state": {
       "description_width": ""
      }
     },
     "ab78c865ae1c43569a66b72a4741dc8d": {
      "model_module": "@jupyter-widgets/controls",
      "model_module_version": "1.2.0",
      "model_name": "HBoxModel",
      "state": {
       "children": [
        "IPY_MODEL_1490087d3c3143109ea4c488616ef0fd",
        "IPY_MODEL_f83819beee7148c39ec3e0a4811eb623",
        "IPY_MODEL_7800a19579e344bca6a966ac5bd33ca9"
       ],
       "layout": "IPY_MODEL_9a20985d94fc456ba0b69c6e69c6a486"
      }
     },
     "abfe2a7312bc482f8dc74581b83f5a2d": {
      "model_module": "@jupyter-widgets/controls",
      "model_module_version": "1.2.0",
      "model_name": "DescriptionStyleModel",
      "state": {
       "description_width": ""
      }
     },
     "ad01d454f85043f5a3a9e93a984c032d": {
      "model_module": "@jupyter-widgets/controls",
      "model_module_version": "1.2.0",
      "model_name": "DescriptionStyleModel",
      "state": {
       "description_width": ""
      }
     },
     "ad867c99700049bf89773837f6e5a589": {
      "model_module": "@jupyter-widgets/controls",
      "model_module_version": "1.2.0",
      "model_name": "HTMLModel",
      "state": {
       "layout": "IPY_MODEL_6fb5263714ff4c4d9c391c3d02db8a59",
       "style": "IPY_MODEL_b457c522905f45ef896bdc1ec8d87627",
       "value": "<h1>What is the best way to learn from some text?</h1>"
      }
     },
     "adb5258e35534d9ba7ff1afbb4bdb360": {
      "model_module": "@jupyter-widgets/controls",
      "model_module_version": "1.2.0",
      "model_name": "DescriptionStyleModel",
      "state": {
       "description_width": ""
      }
     },
     "add1ec6e68d64db0acae46c90532e038": {
      "model_module": "@jupyter-widgets/base",
      "model_module_version": "1.0.0",
      "model_name": "LayoutModel",
      "state": {
       "margin": "20px",
       "visibility": "hidden"
      }
     },
     "add3ef0cea0e4c8cad66bbf61350a215": {
      "model_module": "@jupyter-widgets/base",
      "model_module_version": "1.0.0",
      "model_name": "LayoutModel",
      "state": {
       "visibility": "visible"
      }
     },
     "ae2f46c25f384f539d849af389734c54": {
      "model_module": "@jupyter-widgets/base",
      "model_module_version": "1.0.0",
      "model_name": "LayoutModel",
      "state": {}
     },
     "ae35dede76a140c98fc5ac185ec3a11e": {
      "model_module": "@jupyter-widgets/base",
      "model_module_version": "1.0.0",
      "model_name": "LayoutModel",
      "state": {
       "visibility": "hidden"
      }
     },
     "aedc6786b73a489aa3fa68d35140238f": {
      "model_module": "@jupyter-widgets/base",
      "model_module_version": "1.0.0",
      "model_name": "LayoutModel",
      "state": {
       "visibility": "visible"
      }
     },
     "aef2d3371d08462697b31d3265ce987d": {
      "model_module": "@jupyter-widgets/base",
      "model_module_version": "1.0.0",
      "model_name": "LayoutModel",
      "state": {
       "margin": "20px",
       "visibility": "visible"
      }
     },
     "af1d2a0b25524b15a9f405dcf33dfd9b": {
      "model_module": "@jupyter-widgets/controls",
      "model_module_version": "1.2.0",
      "model_name": "HTMLModel",
      "state": {
       "layout": "IPY_MODEL_4ff1c8212c98404c915930bb0c46890d",
       "style": "IPY_MODEL_5c519b31d42b45bfa1f7f7eec53eb15b"
      }
     },
     "b05aa5cd59744fb0bf2874f69b4a195e": {
      "model_module": "@jupyter-widgets/base",
      "model_module_version": "1.0.0",
      "model_name": "LayoutModel",
      "state": {}
     },
     "b13a0b34d4a7473c802b450b4459168d": {
      "model_module": "@jupyter-widgets/base",
      "model_module_version": "1.0.0",
      "model_name": "LayoutModel",
      "state": {}
     },
     "b1c50b6254c04620ba1a1872a483c55e": {
      "model_module": "@jupyter-widgets/base",
      "model_module_version": "1.0.0",
      "model_name": "LayoutModel",
      "state": {
       "visibility": "visible"
      }
     },
     "b27bc5ea9335474088a4a2b9ed8a3c24": {
      "model_module": "@jupyter-widgets/controls",
      "model_module_version": "1.2.0",
      "model_name": "DescriptionStyleModel",
      "state": {
       "description_width": ""
      }
     },
     "b30911cb79d6469283801233a3ec645a": {
      "model_module": "@jupyter-widgets/controls",
      "model_module_version": "1.2.0",
      "model_name": "ButtonStyleModel",
      "state": {}
     },
     "b30a22f692694b0fb5afd0c4cb3a0e3b": {
      "model_module": "@jupyter-widgets/base",
      "model_module_version": "1.0.0",
      "model_name": "LayoutModel",
      "state": {}
     },
     "b31f4f590ec94a7aa0cef249bfd2b45c": {
      "model_module": "@jupyter-widgets/controls",
      "model_module_version": "1.2.0",
      "model_name": "HBoxModel",
      "state": {
       "children": [
        "IPY_MODEL_ddeeda9dd02a473594f9128438bdae90",
        "IPY_MODEL_359ee883a7084a0aaa48b9a40b8451e7"
       ],
       "layout": "IPY_MODEL_cf729741dce54cc2b4462bb9c8388150"
      }
     },
     "b340ea4e45034dbf97214dccd3a2623f": {
      "model_module": "@jupyter-widgets/base",
      "model_module_version": "1.0.0",
      "model_name": "LayoutModel",
      "state": {
       "margin": "20px",
       "visibility": "visible"
      }
     },
     "b345d67533cb4e68b5f9c96f556cec41": {
      "model_module": "@jupyter-widgets/controls",
      "model_module_version": "1.2.0",
      "model_name": "ButtonStyleModel",
      "state": {}
     },
     "b435cda8ff98476091d8cd37914363a5": {
      "model_module": "@jupyter-widgets/controls",
      "model_module_version": "1.2.0",
      "model_name": "DescriptionStyleModel",
      "state": {
       "description_width": ""
      }
     },
     "b45036ea0b6c497685189206d7587394": {
      "model_module": "@jupyter-widgets/controls",
      "model_module_version": "1.2.0",
      "model_name": "HBoxModel",
      "state": {
       "children": [
        "IPY_MODEL_16b271fed4ff4eb888f5d51dc4f7592b",
        "IPY_MODEL_c4d18c42da964a0d81543871481eaf72"
       ],
       "layout": "IPY_MODEL_001fac9ab48f4f828a3446c63df2993f"
      }
     },
     "b457c522905f45ef896bdc1ec8d87627": {
      "model_module": "@jupyter-widgets/controls",
      "model_module_version": "1.2.0",
      "model_name": "DescriptionStyleModel",
      "state": {
       "description_width": ""
      }
     },
     "b4cf15a86d08406b9a909d7351b977ee": {
      "model_module": "@jupyter-widgets/base",
      "model_module_version": "1.0.0",
      "model_name": "LayoutModel",
      "state": {}
     },
     "b5b1f29296e241868945b09485f7e730": {
      "model_module": "@jupyter-widgets/controls",
      "model_module_version": "1.2.0",
      "model_name": "ButtonModel",
      "state": {
       "description": "4",
       "layout": "IPY_MODEL_ffd1efc42bda44fe888eb7f1ce10c2f8",
       "style": "IPY_MODEL_00c9a6cf963649999dd0b0f313b3d8ac"
      }
     },
     "b7c61d1662bb4ccf84e4d924fd2d9a12": {
      "model_module": "@jupyter-widgets/controls",
      "model_module_version": "1.2.0",
      "model_name": "ButtonModel",
      "state": {
       "description": "Previous",
       "disabled": true,
       "layout": "IPY_MODEL_b05aa5cd59744fb0bf2874f69b4a195e",
       "style": "IPY_MODEL_218acb2dd269465b8d88f490edd2ec4f"
      }
     },
     "b7e0336d312c46fa939821a406a6dc68": {
      "model_module": "@jupyter-widgets/controls",
      "model_module_version": "1.2.0",
      "model_name": "DescriptionStyleModel",
      "state": {
       "description_width": ""
      }
     },
     "b81c0c9df8c74594a00a274ae18a8ce9": {
      "model_module": "@jupyter-widgets/controls",
      "model_module_version": "1.2.0",
      "model_name": "HTMLModel",
      "state": {
       "layout": "IPY_MODEL_5e70dddd4f9c4b26a47bb981d2e8310b",
       "style": "IPY_MODEL_046f002deda749dc86c0d51191fa7f13",
       "value": "<br/><br clear=\"all\"/><b>Respond</b>: "
      }
     },
     "b8306d05399b4dbda4ab99ef38314c28": {
      "model_module": "@jupyter-widgets/controls",
      "model_module_version": "1.2.0",
      "model_name": "DescriptionStyleModel",
      "state": {
       "description_width": ""
      }
     },
     "b8ca6dc541a341918aaa28aa4e96514c": {
      "model_module": "@jupyter-widgets/controls",
      "model_module_version": "1.2.0",
      "model_name": "DescriptionStyleModel",
      "state": {
       "description_width": ""
      }
     },
     "b97304a712624de28e67dc3e65f632c4": {
      "model_module": "@jupyter-widgets/controls",
      "model_module_version": "1.2.0",
      "model_name": "DescriptionStyleModel",
      "state": {
       "description_width": ""
      }
     },
     "b9ffa8b3ff75404b92455d879f4cbf19": {
      "model_module": "@jupyter-widgets/controls",
      "model_module_version": "1.2.0",
      "model_name": "DescriptionStyleModel",
      "state": {
       "description_width": ""
      }
     },
     "ba89fec917734607b8375df7bdb20382": {
      "model_module": "@jupyter-widgets/controls",
      "model_module_version": "1.2.0",
      "model_name": "HBoxModel",
      "state": {
       "children": [
        "IPY_MODEL_1a354b9eb9c94f21a44d4edf8d1c4010",
        "IPY_MODEL_5a6bbeaa98644db8baa462de83f8be8b"
       ],
       "layout": "IPY_MODEL_cf673750a2014c879bb35dd0a9d4ab93"
      }
     },
     "ba9a74617b5641b4bb28147f771c4802": {
      "model_module": "@jupyter-widgets/controls",
      "model_module_version": "1.2.0",
      "model_name": "VBoxModel",
      "state": {
       "children": [
        "IPY_MODEL_f66d164b0fec4befafc9e413775df980",
        "IPY_MODEL_af1d2a0b25524b15a9f405dcf33dfd9b"
       ],
       "layout": "IPY_MODEL_c2ea9311a8c44429afbfac6ec8500f7d"
      }
     },
     "baeac9d6dfa147e791ae429739d2b6a3": {
      "model_module": "@jupyter-widgets/controls",
      "model_module_version": "1.2.0",
      "model_name": "DescriptionStyleModel",
      "state": {
       "description_width": ""
      }
     },
     "bb4abaee38ff4371ab71513091a61105": {
      "model_module": "@jupyter-widgets/controls",
      "model_module_version": "1.2.0",
      "model_name": "HBoxModel",
      "state": {
       "children": [
        "IPY_MODEL_da70f1a90f52405ca1e03e51f5aabaeb",
        "IPY_MODEL_44cce0d531824f38a9045f6b9f4d3ffd",
        "IPY_MODEL_2f917487f59b45e58d8d9766a833028d",
        "IPY_MODEL_1889fd3e8dc14b36951f64e4592ce037",
        "IPY_MODEL_b5b1f29296e241868945b09485f7e730",
        "IPY_MODEL_749c70da799c4f45bf222e5d055c6ce0"
       ],
       "layout": "IPY_MODEL_0960a85388744544821b2c9f21481e5c"
      }
     },
     "bb81d00728094bedafb11cc61ba2df7b": {
      "model_module": "@jupyter-widgets/base",
      "model_module_version": "1.0.0",
      "model_name": "LayoutModel",
      "state": {
       "margin": "20px",
       "visibility": "visible"
      }
     },
     "bc2c4ce44887438388f1e22f5e628c67": {
      "model_module": "@jupyter-widgets/controls",
      "model_module_version": "1.2.0",
      "model_name": "VBoxModel",
      "state": {
       "children": [
        "IPY_MODEL_1691099b6aa74ad28008fd9fa8eab750",
        "IPY_MODEL_42989417790a4768b564adb4d716f636"
       ],
       "layout": "IPY_MODEL_111296fb57e4448caa7da12299d925cd"
      }
     },
     "bc646d69129847c1aacfd208651bac8f": {
      "model_module": "@jupyter-widgets/controls",
      "model_module_version": "1.2.0",
      "model_name": "DescriptionStyleModel",
      "state": {
       "description_width": ""
      }
     },
     "bcb1aa738f7f4e5face5426682dcdede": {
      "model_module": "@jupyter-widgets/base",
      "model_module_version": "1.0.0",
      "model_name": "LayoutModel",
      "state": {
       "margin": "20px",
       "visibility": "visible"
      }
     },
     "bda59a3910d84ea0b4bda47b66b466e2": {
      "model_module": "@jupyter-widgets/controls",
      "model_module_version": "1.2.0",
      "model_name": "HTMLModel",
      "state": {
       "layout": "IPY_MODEL_6c1e5a5162f94219859c7ed99cb0766c",
       "style": "IPY_MODEL_7c481e318d7a40458141da24a5adb656",
       "value": "<b>3</b>)&nbsp;&nbsp;"
      }
     },
     "bf2ff4e75ed84a09a5e46fe96191af24": {
      "model_module": "@jupyter-widgets/controls",
      "model_module_version": "1.2.0",
      "model_name": "ButtonModel",
      "state": {
       "description": "1",
       "layout": "IPY_MODEL_38aaac45afa7424ea192c3e48750c66c",
       "style": "IPY_MODEL_5f33620143c44ab2a788f83bfe580c61"
      }
     },
     "bf7c21c777254b4a80bf0d78eb1ffd34": {
      "model_module": "@jupyter-widgets/controls",
      "model_module_version": "1.2.0",
      "model_name": "HBoxModel",
      "state": {
       "children": [
        "IPY_MODEL_ce68d56ab4f7433bbf4fdd0a01cb4bfd",
        "IPY_MODEL_6bd688ca6fc04184abd375ba10635f50"
       ],
       "layout": "IPY_MODEL_5dee1e42fff34104939ee6f28dc68a58"
      }
     },
     "c0302dd6d2cb4cb0ae3b8b73e5332c7a": {
      "model_module": "@jupyter-widgets/base",
      "model_module_version": "1.0.0",
      "model_name": "LayoutModel",
      "state": {}
     },
     "c0c918da532341138874dfed63961348": {
      "model_module": "@jupyter-widgets/controls",
      "model_module_version": "1.2.0",
      "model_name": "VBoxModel",
      "state": {
       "children": [
        "IPY_MODEL_9ab1e7f2bca9497e83f96ee5d36140da",
        "IPY_MODEL_4293b1e0a0064e77851cf1db6ddeb838"
       ],
       "layout": "IPY_MODEL_73ceae31f5484bd9a8635d80d3b367a9"
      }
     },
     "c159afd5eccd476e91477c2c363db10b": {
      "model_module": "@jupyter-widgets/base",
      "model_module_version": "1.0.0",
      "model_name": "LayoutModel",
      "state": {
       "visibility": "visible"
      }
     },
     "c224efb453b74a13ac6d14cdddcbeb64": {
      "model_module": "@jupyter-widgets/controls",
      "model_module_version": "1.2.0",
      "model_name": "ButtonModel",
      "state": {
       "description": "Next",
       "layout": "IPY_MODEL_3caee02416a24d4eb5bb6d2ab4990e60",
       "style": "IPY_MODEL_64a0986a91c24883a7b1a0e238db3733"
      }
     },
     "c2ea9311a8c44429afbfac6ec8500f7d": {
      "model_module": "@jupyter-widgets/base",
      "model_module_version": "1.0.0",
      "model_name": "LayoutModel",
      "state": {}
     },
     "c3286f0aea194b4baeb457f86b73c021": {
      "model_module": "@jupyter-widgets/controls",
      "model_module_version": "1.2.0",
      "model_name": "ButtonModel",
      "state": {
       "description": "4",
       "layout": "IPY_MODEL_a9b5e82356a0469c89fc93c698cb8345",
       "style": "IPY_MODEL_b345d67533cb4e68b5f9c96f556cec41"
      }
     },
     "c4d18c42da964a0d81543871481eaf72": {
      "model_module": "@jupyter-widgets/controls",
      "model_module_version": "1.2.0",
      "model_name": "HTMLModel",
      "state": {
       "layout": "IPY_MODEL_1f058a4a66e14de8aa6eafe33d5f426e",
       "style": "IPY_MODEL_3bb888a55da8426bb6489a7c1c54ef99"
      }
     },
     "c5ae2d3b021a463fa3058e1593412c48": {
      "model_module": "@jupyter-widgets/base",
      "model_module_version": "1.0.0",
      "model_name": "LayoutModel",
      "state": {}
     },
     "c5b1aac9016940129f294a62b03fa832": {
      "model_module": "@jupyter-widgets/controls",
      "model_module_version": "1.2.0",
      "model_name": "VBoxModel",
      "state": {
       "children": [
        "IPY_MODEL_389d67053f8d48c38cfb9685ba89d49d",
        "IPY_MODEL_f40421b6daba4684a308d972820c9a66"
       ],
       "layout": "IPY_MODEL_0ea61d56cade4a199de13e82a284bc41"
      }
     },
     "c65ea59dd819490bb8a848ddf1a0a5b7": {
      "model_module": "@jupyter-widgets/base",
      "model_module_version": "1.0.0",
      "model_name": "LayoutModel",
      "state": {}
     },
     "c666bc2306f248b7ac1ca212dd42459e": {
      "model_module": "@jupyter-widgets/base",
      "model_module_version": "1.0.0",
      "model_name": "LayoutModel",
      "state": {}
     },
     "c679db13fb934e3cbf5643725609279b": {
      "model_module": "@jupyter-widgets/base",
      "model_module_version": "1.0.0",
      "model_name": "LayoutModel",
      "state": {}
     },
     "c7417d0b0c63491ea6432170d873ae6b": {
      "model_module": "@jupyter-widgets/base",
      "model_module_version": "1.0.0",
      "model_name": "LayoutModel",
      "state": {}
     },
     "c75662223dec46738a045e89a993f811": {
      "model_module": "@jupyter-widgets/controls",
      "model_module_version": "1.2.0",
      "model_name": "ButtonModel",
      "state": {
       "description": "5",
       "layout": "IPY_MODEL_add1ec6e68d64db0acae46c90532e038",
       "style": "IPY_MODEL_a0dc367790804aa386cb22f50fc2184c"
      }
     },
     "c8910f418437477e9d7b6887d8331dec": {
      "model_module": "@jupyter-widgets/controls",
      "model_module_version": "1.2.0",
      "model_name": "VBoxModel",
      "state": {
       "children": [
        "IPY_MODEL_800249d02b3943d3836b96f956873c6d",
        "IPY_MODEL_6667b662fd42495fbf299e231e370b27"
       ],
       "layout": "IPY_MODEL_6e1ba7a8d7844afc898243c4ac66a187"
      }
     },
     "c9f23660ba754806a3c54b5cedd55db7": {
      "model_module": "@jupyter-widgets/controls",
      "model_module_version": "1.2.0",
      "model_name": "DescriptionStyleModel",
      "state": {
       "description_width": ""
      }
     },
     "ca018545667c4190846fe94353189339": {
      "model_module": "@jupyter-widgets/base",
      "model_module_version": "1.0.0",
      "model_name": "LayoutModel",
      "state": {}
     },
     "cab77fb133e545d6b6a09ed18b115cde": {
      "model_module": "@jupyter-widgets/controls",
      "model_module_version": "1.2.0",
      "model_name": "HBoxModel",
      "state": {
       "children": [
        "IPY_MODEL_38bc2e1ff04a4955baa5103be59e1d9c",
        "IPY_MODEL_4241674d46a84d5a9ea00f5164e87729"
       ],
       "layout": "IPY_MODEL_5e1eeb03e62248f69e369c774c94388c"
      }
     },
     "cae6a25eafb64def8148cc5b1915ca2a": {
      "model_module": "@jupyter-widgets/controls",
      "model_module_version": "1.2.0",
      "model_name": "HBoxModel",
      "state": {
       "children": [
        "IPY_MODEL_977a76369f26406aa019db40943f3a96",
        "IPY_MODEL_458381e436f34792939563413b957976"
       ],
       "layout": "IPY_MODEL_add3ef0cea0e4c8cad66bbf61350a215"
      }
     },
     "caec4ffca37a4e1aa7615558a36289cb": {
      "model_module": "@jupyter-widgets/controls",
      "model_module_version": "1.2.0",
      "model_name": "DescriptionStyleModel",
      "state": {
       "description_width": ""
      }
     },
     "cc86feb548b34cef905db0b824796ce2": {
      "model_module": "@jupyter-widgets/controls",
      "model_module_version": "1.2.0",
      "model_name": "ButtonStyleModel",
      "state": {}
     },
     "cc875b8cb0aa46a1adc15b949e74be43": {
      "model_module": "@jupyter-widgets/controls",
      "model_module_version": "1.2.0",
      "model_name": "HTMLModel",
      "state": {
       "layout": "IPY_MODEL_d3cfee8cd5894c9b90057200878dc1bd",
       "style": "IPY_MODEL_4723a103a5f84be1971601e9d3727ba7",
       "value": "<b>1</b>)&nbsp;&nbsp;"
      }
     },
     "ccbdd768c5b44f6fb9cf1af2a30ce43a": {
      "model_module": "@jupyter-widgets/controls",
      "model_module_version": "1.2.0",
      "model_name": "HTMLModel",
      "state": {
       "layout": "IPY_MODEL_51d14b6042394593a36d201bbfb46073",
       "style": "IPY_MODEL_d1322891861e4074a21a66dcb6fcb7a8",
       "value": "\n<pre>\nprintln(\"Hello\");\nprintln(\"Hello\");\nprintln(\"Hello\");\nprintln(\"Hello\");\nprintln(\"Hello\");\n</pre>\n"
      }
     },
     "cce31d9a75a94c929c42b87a7de32828": {
      "model_module": "@jupyter-widgets/base",
      "model_module_version": "1.0.0",
      "model_name": "LayoutModel",
      "state": {}
     },
     "ce68d56ab4f7433bbf4fdd0a01cb4bfd": {
      "model_module": "@jupyter-widgets/controls",
      "model_module_version": "1.2.0",
      "model_name": "HTMLModel",
      "state": {
       "layout": "IPY_MODEL_ee7ccb2eb7c043099f51aa3c1b433a1f",
       "style": "IPY_MODEL_d9f0e6ea3c52486185c0ce13d3415605",
       "value": "<b>3</b>)&nbsp;&nbsp;"
      }
     },
     "ce76ba23d86540e4899dac2214dd1a26": {
      "model_module": "@jupyter-widgets/controls",
      "model_module_version": "1.2.0",
      "model_name": "HBoxModel",
      "state": {
       "children": [
        "IPY_MODEL_0349998d039747df96670b340861b147",
        "IPY_MODEL_267822a0fce941feab462763c570fa6b"
       ],
       "layout": "IPY_MODEL_e3a8debea8b643928a69109d83d65757"
      }
     },
     "ce92cc6cf79a491390797ecb2efb6409": {
      "model_module": "@jupyter-widgets/controls",
      "model_module_version": "1.2.0",
      "model_name": "DescriptionStyleModel",
      "state": {
       "description_width": ""
      }
     },
     "cea95484b56a48fbb9acdaf48ddae60c": {
      "model_module": "@jupyter-widgets/controls",
      "model_module_version": "1.2.0",
      "model_name": "HTMLModel",
      "state": {
       "layout": "IPY_MODEL_6b60c14a17c6462d9aa990643156db60",
       "style": "IPY_MODEL_3b5574bb239d4fe2a2c882fa91af744c"
      }
     },
     "cebb3ca014c3456da09f55a44833c297": {
      "model_module": "@jupyter-widgets/controls",
      "model_module_version": "1.2.0",
      "model_name": "HTMLModel",
      "state": {
       "layout": "IPY_MODEL_96394943d65b4b6aacdc22bc36a38561",
       "style": "IPY_MODEL_d8976b5320d443aa9832c1cd333cae1b",
       "value": "<b>4</b>)&nbsp;&nbsp;"
      }
     },
     "cef9521d240744ec8bd89212ed0080f7": {
      "model_module": "@jupyter-widgets/controls",
      "model_module_version": "1.2.0",
      "model_name": "HBoxModel",
      "state": {
       "children": [
        "IPY_MODEL_e2138f41d65342eb89b826d444f7bd88",
        "IPY_MODEL_01ce9fc0d51e4fc0925eb0c0296c6c70",
        "IPY_MODEL_03a5393d62ab426f8a67fd563f96bd0d"
       ],
       "layout": "IPY_MODEL_31b858b957b0481eae1df3081a624730"
      }
     },
     "cf673750a2014c879bb35dd0a9d4ab93": {
      "model_module": "@jupyter-widgets/base",
      "model_module_version": "1.0.0",
      "model_name": "LayoutModel",
      "state": {
       "visibility": "visible"
      }
     },
     "cf729741dce54cc2b4462bb9c8388150": {
      "model_module": "@jupyter-widgets/base",
      "model_module_version": "1.0.0",
      "model_name": "LayoutModel",
      "state": {
       "visibility": "visible"
      }
     },
     "d052d32428224f0bbc9a58b754d3e4f6": {
      "model_module": "@jupyter-widgets/controls",
      "model_module_version": "1.2.0",
      "model_name": "DescriptionStyleModel",
      "state": {
       "description_width": ""
      }
     },
     "d05c3a29f50f484d9052720e0f11a056": {
      "model_module": "@jupyter-widgets/controls",
      "model_module_version": "1.2.0",
      "model_name": "HTMLModel",
      "state": {
       "layout": "IPY_MODEL_783aee8167004f40b5873bab089cadd6",
       "style": "IPY_MODEL_fa99d84fee324fa889018d1f1fbf238c",
       "value": "<p><b>Question ID</b>: 1</p>"
      }
     },
     "d0b600db75d04246a4565c6203a692f4": {
      "model_module": "@jupyter-widgets/controls",
      "model_module_version": "1.2.0",
      "model_name": "DescriptionStyleModel",
      "state": {
       "description_width": ""
      }
     },
     "d12c49bef8ca45639ee63a2f75ee7cca": {
      "model_module": "@jupyter-widgets/controls",
      "model_module_version": "1.2.0",
      "model_name": "ButtonModel",
      "state": {
       "description": "3",
       "layout": "IPY_MODEL_6d7f772ffdda4e93833d9fb4317cff00",
       "style": "IPY_MODEL_a2d6d79668a340298995b76eac83815d"
      }
     },
     "d1322891861e4074a21a66dcb6fcb7a8": {
      "model_module": "@jupyter-widgets/controls",
      "model_module_version": "1.2.0",
      "model_name": "DescriptionStyleModel",
      "state": {
       "description_width": ""
      }
     },
     "d145ebdcbe20485996d40f85e1de40f2": {
      "model_module": "@jupyter-widgets/controls",
      "model_module_version": "1.2.0",
      "model_name": "DescriptionStyleModel",
      "state": {
       "description_width": ""
      }
     },
     "d24f7f1305a0438d80d6ae58d7f398e5": {
      "model_module": "@jupyter-widgets/controls",
      "model_module_version": "1.2.0",
      "model_name": "ButtonModel",
      "state": {
       "description": "4",
       "layout": "IPY_MODEL_56b7349fc7ea44ca9c94fd26ceb03063",
       "style": "IPY_MODEL_556523542b404a748798bad02cf1d42a"
      }
     },
     "d26c78d0bb304f128bbe7666045382b0": {
      "model_module": "@jupyter-widgets/controls",
      "model_module_version": "1.2.0",
      "model_name": "DescriptionStyleModel",
      "state": {
       "description_width": ""
      }
     },
     "d27328cd7caa4a3a9369d44be3c0a637": {
      "model_module": "@jupyter-widgets/base",
      "model_module_version": "1.0.0",
      "model_name": "LayoutModel",
      "state": {}
     },
     "d2bfc5fae91448b7ba97ac8410cddbaa": {
      "model_module": "@jupyter-widgets/controls",
      "model_module_version": "1.2.0",
      "model_name": "ButtonModel",
      "state": {
       "description": "3",
       "layout": "IPY_MODEL_ec7aeb87d92e42fcb678772a6abfe96a",
       "style": "IPY_MODEL_5b210b7d68544c3b9c95fddab561c724"
      }
     },
     "d2f22e1ebfbf439db0ff9c3b85c3d66e": {
      "model_module": "@jupyter-widgets/base",
      "model_module_version": "1.0.0",
      "model_name": "LayoutModel",
      "state": {}
     },
     "d35a1ad2bc2d491b8f4913f188359dd9": {
      "model_module": "@jupyter-widgets/controls",
      "model_module_version": "1.2.0",
      "model_name": "HBoxModel",
      "state": {
       "children": [
        "IPY_MODEL_71e0c158c7ed4a12b36f54b7fce08b2f",
        "IPY_MODEL_bf2ff4e75ed84a09a5e46fe96191af24",
        "IPY_MODEL_4431d7cfa94e4214b767487d38bc5dfd",
        "IPY_MODEL_16ddf4a071534d758fdd4b887001a35d",
        "IPY_MODEL_c3286f0aea194b4baeb457f86b73c021",
        "IPY_MODEL_a24eca575c0a43458c521c24b2d5a7aa"
       ],
       "layout": "IPY_MODEL_1399f16d91e549acb406628bad7ce0f8"
      }
     },
     "d3808b3eb45c4420878f44e50cc3551b": {
      "model_module": "@jupyter-widgets/base",
      "model_module_version": "1.0.0",
      "model_name": "LayoutModel",
      "state": {}
     },
     "d39a6f30a5a946f08d7a7473c3273e08": {
      "model_module": "@jupyter-widgets/controls",
      "model_module_version": "1.2.0",
      "model_name": "HBoxModel",
      "state": {
       "children": [
        "IPY_MODEL_625e1f9927554787805ff652cf68e25e",
        "IPY_MODEL_37d442c57cd642e7abde68881d47e63a"
       ],
       "layout": "IPY_MODEL_4c5e4ac8aef843feb891f0cdf483b79b"
      }
     },
     "d3cfee8cd5894c9b90057200878dc1bd": {
      "model_module": "@jupyter-widgets/base",
      "model_module_version": "1.0.0",
      "model_name": "LayoutModel",
      "state": {}
     },
     "d4a2fbcc98b84b65b1e6c927964548ba": {
      "model_module": "@jupyter-widgets/controls",
      "model_module_version": "1.2.0",
      "model_name": "ButtonStyleModel",
      "state": {}
     },
     "d55d2086c22e4d89b2878835d34c948a": {
      "model_module": "@jupyter-widgets/controls",
      "model_module_version": "1.2.0",
      "model_name": "DescriptionStyleModel",
      "state": {
       "description_width": ""
      }
     },
     "d5e93d5a8cab4f95aa2b94419992a35e": {
      "model_module": "@jupyter-widgets/output",
      "model_module_version": "1.0.0",
      "model_name": "OutputModel",
      "state": {
       "layout": "IPY_MODEL_066c96896b254d2286b87ce1b3450ca5",
       "outputs": [
        {
         "name": "stdout",
         "output_type": "stream",
         "text": "Received: Results\n['1', '2', '3', '4']\n[0, 0, 0, 0]\n"
        }
       ]
      }
     },
     "d6a5fc2b007e4f419fa2bcd877e79664": {
      "model_module": "@jupyter-widgets/controls",
      "model_module_version": "1.2.0",
      "model_name": "HTMLModel",
      "state": {
       "layout": "IPY_MODEL_7d7e7037dcb94a7aacea31a03bca1938",
       "style": "IPY_MODEL_dc7252ce97d94e21972ae74f4c6a537d",
       "value": "<b>1</b>)&nbsp;&nbsp;"
      }
     },
     "d70ddb90014c430b811ce5b85af28c6e": {
      "model_module": "@jupyter-widgets/base",
      "model_module_version": "1.0.0",
      "model_name": "LayoutModel",
      "state": {
       "width": "55%"
      }
     },
     "d733c010ffea4a9bb9797d5722a7416a": {
      "model_module": "@jupyter-widgets/base",
      "model_module_version": "1.0.0",
      "model_name": "LayoutModel",
      "state": {}
     },
     "d7fc9ad7e61e4d279d5f23c5162b5474": {
      "model_module": "@jupyter-widgets/controls",
      "model_module_version": "1.2.0",
      "model_name": "HTMLModel",
      "state": {
       "layout": "IPY_MODEL_f73b87c24b8e4dcb9a86ee4e579224bb",
       "style": "IPY_MODEL_1fa3242dccd948b0b3efb43b11b1cee5",
       "value": "<b>2</b>)&nbsp;&nbsp;"
      }
     },
     "d847c0b624194ae6958ae3d3091ae598": {
      "model_module": "@jupyter-widgets/controls",
      "model_module_version": "1.2.0",
      "model_name": "DescriptionStyleModel",
      "state": {
       "description_width": ""
      }
     },
     "d8976b5320d443aa9832c1cd333cae1b": {
      "model_module": "@jupyter-widgets/controls",
      "model_module_version": "1.2.0",
      "model_name": "DescriptionStyleModel",
      "state": {
       "description_width": ""
      }
     },
     "d8ebe2081e86463fa6af993694eeaea0": {
      "model_module": "@jupyter-widgets/controls",
      "model_module_version": "1.2.0",
      "model_name": "ButtonStyleModel",
      "state": {}
     },
     "d96dfaa8a6ac4e10a4ac47e34cbd8f25": {
      "model_module": "@jupyter-widgets/controls",
      "model_module_version": "1.2.0",
      "model_name": "VBoxModel",
      "state": {
       "children": [
        "IPY_MODEL_4fd4671da1164c6b886c01678651a721",
        "IPY_MODEL_011d65afd4e046d5b6cbdbc67b9512ed"
       ],
       "layout": "IPY_MODEL_7bfbd5e42fbd4790bd63e088f216a471"
      }
     },
     "d9f0e6ea3c52486185c0ce13d3415605": {
      "model_module": "@jupyter-widgets/controls",
      "model_module_version": "1.2.0",
      "model_name": "DescriptionStyleModel",
      "state": {
       "description_width": ""
      }
     },
     "da70f1a90f52405ca1e03e51f5aabaeb": {
      "model_module": "@jupyter-widgets/controls",
      "model_module_version": "1.2.0",
      "model_name": "HTMLModel",
      "state": {
       "layout": "IPY_MODEL_00a078a675884795a06940f51f859ce8",
       "style": "IPY_MODEL_f4e9f38e92eb4b04bcb98152b757fab3",
       "value": "<br/><br clear=\"all\"/><b>Respond</b>: "
      }
     },
     "dac792e615184f66856e6ed1558a4def": {
      "model_module": "@jupyter-widgets/controls",
      "model_module_version": "1.2.0",
      "model_name": "ButtonModel",
      "state": {
       "description": "3",
       "layout": "IPY_MODEL_8cf769b0560647988c87d67a6cb75ee8",
       "style": "IPY_MODEL_39cd673b521749b4a1a15ed0eb30e96d"
      }
     },
     "dadcd5120e8e40be8c6aa214775d6f43": {
      "model_module": "@jupyter-widgets/controls",
      "model_module_version": "1.2.0",
      "model_name": "VBoxModel",
      "state": {
       "children": [
        "IPY_MODEL_225f4517c2764094a39951c9b5677281",
        "IPY_MODEL_5733ada3bfb2400784377b3d32b217fd"
       ],
       "layout": "IPY_MODEL_a5e0ae587a0e401ca64ad46601bc7e59"
      }
     },
     "dae1f60eb29f442f98cf8205b4e3b62a": {
      "model_module": "@jupyter-widgets/base",
      "model_module_version": "1.0.0",
      "model_name": "LayoutModel",
      "state": {}
     },
     "dafddc209aea48818a234fd3d90b57cb": {
      "model_module": "@jupyter-widgets/base",
      "model_module_version": "1.0.0",
      "model_name": "LayoutModel",
      "state": {}
     },
     "db38f3b591194186b11ef6be066af41c": {
      "model_module": "@jupyter-widgets/controls",
      "model_module_version": "1.2.0",
      "model_name": "HTMLModel",
      "state": {
       "layout": "IPY_MODEL_5c1027bb9c6a44eba8e92e1c0c6033d2",
       "style": "IPY_MODEL_6382d0c8509e4e3ca5fc557eba5b6656",
       "value": "False"
      }
     },
     "dbb8af4cf68546b1b455c0cdae15f435": {
      "model_module": "@jupyter-widgets/controls",
      "model_module_version": "1.2.0",
      "model_name": "DescriptionStyleModel",
      "state": {
       "description_width": ""
      }
     },
     "dbdbb08770df4632ae156baffa1c7425": {
      "model_module": "@jupyter-widgets/controls",
      "model_module_version": "1.2.0",
      "model_name": "HTMLModel",
      "state": {
       "layout": "IPY_MODEL_07e6e3f467d74ac5b00f32a3eafb8345",
       "style": "IPY_MODEL_ce92cc6cf79a491390797ecb2efb6409",
       "value": "<h1>When it comes to learning, metacognition (e.g., thinking about thinking) can be just as important as intelligence.</h1>"
      }
     },
     "dc170cc954be4ed8bd299374b821505d": {
      "model_module": "@jupyter-widgets/controls",
      "model_module_version": "1.2.0",
      "model_name": "DescriptionStyleModel",
      "state": {
       "description_width": ""
      }
     },
     "dc7252ce97d94e21972ae74f4c6a537d": {
      "model_module": "@jupyter-widgets/controls",
      "model_module_version": "1.2.0",
      "model_name": "DescriptionStyleModel",
      "state": {
       "description_width": ""
      }
     },
     "dd3117eded1a419ba49e5cd371940234": {
      "model_module": "@jupyter-widgets/controls",
      "model_module_version": "1.2.0",
      "model_name": "ButtonStyleModel",
      "state": {}
     },
     "ddaa74d4d36e40b1a9c894a5274e3fca": {
      "model_module": "@jupyter-widgets/base",
      "model_module_version": "1.0.0",
      "model_name": "LayoutModel",
      "state": {
       "margin": "20px",
       "visibility": "visible"
      }
     },
     "ddac8e7d71144089a3affd58579537d4": {
      "model_module": "@jupyter-widgets/controls",
      "model_module_version": "1.2.0",
      "model_name": "ButtonModel",
      "state": {
       "description": "4",
       "layout": "IPY_MODEL_bb81d00728094bedafb11cc61ba2df7b",
       "style": "IPY_MODEL_53bd5fd933af459a8261a1e75eb17b2a"
      }
     },
     "ddeeda9dd02a473594f9128438bdae90": {
      "model_module": "@jupyter-widgets/controls",
      "model_module_version": "1.2.0",
      "model_name": "HTMLModel",
      "state": {
       "layout": "IPY_MODEL_0573ae34b77e47c3af1678b9d04d070c",
       "style": "IPY_MODEL_b7e0336d312c46fa939821a406a6dc68",
       "value": "<b>1</b>)&nbsp;&nbsp;"
      }
     },
     "de018ea3f6bb42bf8184803785b7d50a": {
      "model_module": "@jupyter-widgets/controls",
      "model_module_version": "1.2.0",
      "model_name": "HTMLModel",
      "state": {
       "layout": "IPY_MODEL_e3f550b6cd55411ab568f196938665e5",
       "style": "IPY_MODEL_f3299b92f23f4d9d9ae67d95686e9f4b",
       "value": "<h1>Why should hash tables be prime number sized?</h1>"
      }
     },
     "de280ee1017049cbb8ecb221d06fb5dc": {
      "model_module": "@jupyter-widgets/controls",
      "model_module_version": "1.2.0",
      "model_name": "ButtonStyleModel",
      "state": {}
     },
     "de4fd6261a6144159c4cefedf6ad177d": {
      "model_module": "@jupyter-widgets/controls",
      "model_module_version": "1.2.0",
      "model_name": "ButtonStyleModel",
      "state": {}
     },
     "df768e0686a441ba81ec001c0c75af75": {
      "model_module": "@jupyter-widgets/base",
      "model_module_version": "1.0.0",
      "model_name": "LayoutModel",
      "state": {}
     },
     "e089f0482cf240aaa807032de6493ec6": {
      "model_module": "@jupyter-widgets/base",
      "model_module_version": "1.0.0",
      "model_name": "LayoutModel",
      "state": {}
     },
     "e0e82f9fec29499e92d5a955c56f1dce": {
      "model_module": "@jupyter-widgets/controls",
      "model_module_version": "1.2.0",
      "model_name": "HTMLModel",
      "state": {
       "layout": "IPY_MODEL_a5eaabcc24b14184bc534d568bfcc4ee",
       "style": "IPY_MODEL_0d29a77989e9480a90ca42dfbd6a321c",
       "value": "<b>1</b>)&nbsp;&nbsp;"
      }
     },
     "e1377a597ca745ea919b4573ffd1c72a": {
      "model_module": "@jupyter-widgets/controls",
      "model_module_version": "1.2.0",
      "model_name": "ButtonModel",
      "state": {
       "description": "Results",
       "layout": "IPY_MODEL_9ca19f3833834e919d2b79c7902d677f",
       "style": "IPY_MODEL_0f2c2f66d5cb4725b12f3eb09bf8e27c"
      }
     },
     "e1a9e8b23ff4499e8a7e55efb2bd9e14": {
      "model_module": "@jupyter-widgets/controls",
      "model_module_version": "1.2.0",
      "model_name": "HTMLModel",
      "state": {
       "layout": "IPY_MODEL_df768e0686a441ba81ec001c0c75af75",
       "style": "IPY_MODEL_adb5258e35534d9ba7ff1afbb4bdb360",
       "value": "Explain key ideas of the text to yourself while reading."
      }
     },
     "e1b977dd18114f7a9dd55da5a92d4088": {
      "model_module": "@jupyter-widgets/controls",
      "model_module_version": "1.2.0",
      "model_name": "HTMLModel",
      "state": {
       "layout": "IPY_MODEL_9e3e32f81d904dc8812975613bfc9b16",
       "style": "IPY_MODEL_f890e15faf3e40bc902ad2cf595404f0",
       "value": "<svg baseProfile=\"full\" data=\"[0, 1, 0, 0, 0]\" height=\"400\" labels=\"['1', '2', '3', '4', '5']\" version=\"1.1\" width=\"300\" xmlns=\"http://www.w3.org/2000/svg\" xmlns:ev=\"http://www.w3.org/2001/xml-events\" xmlns:xlink=\"http://www.w3.org/1999/xlink\"><defs /><rect fill=\"#800080\" fill-opacity=\"0.0\" height=\"340\" stroke=\"#000000\" stroke-opacity=\"1.0\" stroke-width=\"1\" width=\"200\" x=\"40\" y=\"20\" /><rect fill=\"#800080\" height=\"0.0\" stroke=\"#000000\" stroke-width=\"1\" width=\"30.0\" x=\"45.0\" y=\"360.0\" /><rect fill=\"#800080\" height=\"340.0\" stroke=\"#000000\" stroke-width=\"1\" width=\"30.0\" x=\"85.0\" y=\"20.0\" /><rect fill=\"#800080\" height=\"0.0\" stroke=\"#000000\" stroke-width=\"1\" width=\"30.0\" x=\"125.0\" y=\"360.0\" /><rect fill=\"#800080\" height=\"0.0\" stroke=\"#000000\" stroke-width=\"1\" width=\"30.0\" x=\"165.0\" y=\"360.0\" /><rect fill=\"#800080\" height=\"0.0\" stroke=\"#000000\" stroke-width=\"1\" width=\"30.0\" x=\"205.0\" y=\"360.0\" /><text fill=\"#800080\" stroke=\"#000000\" stroke-width=\"1\" x=\"58.333333333333336\" y=\"380\">1</text><text fill=\"#800080\" stroke=\"#000000\" stroke-width=\"1\" x=\"98.33333333333333\" y=\"380\">2</text><text fill=\"#800080\" stroke=\"#000000\" stroke-width=\"1\" x=\"138.33333333333334\" y=\"380\">3</text><text fill=\"#800080\" stroke=\"#000000\" stroke-width=\"1\" x=\"178.33333333333334\" y=\"380\">4</text><text fill=\"#800080\" stroke=\"#000000\" stroke-width=\"1\" x=\"218.33333333333334\" y=\"380\">5</text><text fill=\"#800080\" stroke=\"#000000\" stroke-width=\"1\" x=\"0\" y=\"364.0\">0.0</text><text fill=\"#800080\" stroke=\"#000000\" stroke-width=\"1\" x=\"0\" y=\"279.0\">0.25</text><text fill=\"#800080\" stroke=\"#000000\" stroke-width=\"1\" x=\"0\" y=\"194.0\">0.5</text><text fill=\"#800080\" stroke=\"#000000\" stroke-width=\"1\" x=\"0\" y=\"109.0\">0.75</text><text fill=\"#800080\" stroke=\"#000000\" stroke-width=\"1\" x=\"0\" y=\"24.0\">1.0</text></svg>"
      }
     },
     "e2138f41d65342eb89b826d444f7bd88": {
      "model_module": "@jupyter-widgets/controls",
      "model_module_version": "1.2.0",
      "model_name": "ButtonModel",
      "state": {
       "description": "Previous",
       "disabled": true,
       "layout": "IPY_MODEL_d733c010ffea4a9bb9797d5722a7416a",
       "style": "IPY_MODEL_2cbcc09ab53c4147a904b50b621dad05"
      }
     },
     "e3a8debea8b643928a69109d83d65757": {
      "model_module": "@jupyter-widgets/base",
      "model_module_version": "1.0.0",
      "model_name": "LayoutModel",
      "state": {
       "visibility": "visible"
      }
     },
     "e3f550b6cd55411ab568f196938665e5": {
      "model_module": "@jupyter-widgets/base",
      "model_module_version": "1.0.0",
      "model_name": "LayoutModel",
      "state": {}
     },
     "e4371e28c29b4a5c8696ae0017befcd9": {
      "model_module": "@jupyter-widgets/controls",
      "model_module_version": "1.2.0",
      "model_name": "ButtonStyleModel",
      "state": {}
     },
     "e589ac7ca6be4a86b126ea246c7cb25f": {
      "model_module": "@jupyter-widgets/base",
      "model_module_version": "1.0.0",
      "model_name": "LayoutModel",
      "state": {
       "margin": "20px",
       "visibility": "visible"
      }
     },
     "e5b13a14481a4d6a8ed1cc5b4b6c497c": {
      "model_module": "@jupyter-widgets/controls",
      "model_module_version": "1.2.0",
      "model_name": "DescriptionStyleModel",
      "state": {
       "description_width": ""
      }
     },
     "e666f67bfe0446b79a5285c4920b1414": {
      "model_module": "@jupyter-widgets/controls",
      "model_module_version": "1.2.0",
      "model_name": "HTMLModel",
      "state": {
       "layout": "IPY_MODEL_2c944564c4f743ca8e15797fc886e3b5",
       "style": "IPY_MODEL_baeac9d6dfa147e791ae429739d2b6a3",
       "value": "<b>2</b>)&nbsp;&nbsp;"
      }
     },
     "e66bde55e6a0462e915c65d6d48ff670": {
      "model_module": "@jupyter-widgets/controls",
      "model_module_version": "1.2.0",
      "model_name": "HTMLModel",
      "state": {
       "layout": "IPY_MODEL_1deca9daac724aa091bbcf4311838545",
       "style": "IPY_MODEL_d145ebdcbe20485996d40f85e1de40f2",
       "value": "Read and reread the text."
      }
     },
     "e8419a9929714573bbd49f8ccd85503f": {
      "model_module": "@jupyter-widgets/controls",
      "model_module_version": "1.2.0",
      "model_name": "HBoxModel",
      "state": {
       "children": [
        "IPY_MODEL_117bed3248c04eb68d940f35bc0a3681",
        "IPY_MODEL_85cdc01fca364267904130e361cc680d"
       ],
       "layout": "IPY_MODEL_a43a462b0cf14f1f8c62298a474c70ac"
      }
     },
     "e9c5b71f5dcf47b6bf4f448c917dbf9d": {
      "model_module": "@jupyter-widgets/base",
      "model_module_version": "1.0.0",
      "model_name": "LayoutModel",
      "state": {
       "margin": "20px",
       "visibility": "visible"
      }
     },
     "eade6fa4db884b9693c09c7da6037362": {
      "model_module": "@jupyter-widgets/controls",
      "model_module_version": "1.2.0",
      "model_name": "ButtonStyleModel",
      "state": {}
     },
     "eb5f7c8af1c74137b2f8952963abe3d1": {
      "model_module": "@jupyter-widgets/controls",
      "model_module_version": "1.2.0",
      "model_name": "ButtonModel",
      "state": {
       "description": "Previous",
       "layout": "IPY_MODEL_07954eaa459c4f50b166783f7b795f68",
       "style": "IPY_MODEL_0dd07761b45f4ab3b809c225404a2951"
      }
     },
     "ebc09907f37c4430a47613d2abbf3064": {
      "model_module": "@jupyter-widgets/controls",
      "model_module_version": "1.2.0",
      "model_name": "DescriptionStyleModel",
      "state": {
       "description_width": ""
      }
     },
     "ebe95d0cbb2d43aead4550db10e5cbdc": {
      "model_module": "@jupyter-widgets/controls",
      "model_module_version": "1.2.0",
      "model_name": "ButtonStyleModel",
      "state": {}
     },
     "ec7aeb87d92e42fcb678772a6abfe96a": {
      "model_module": "@jupyter-widgets/base",
      "model_module_version": "1.0.0",
      "model_name": "LayoutModel",
      "state": {
       "margin": "20px",
       "visibility": "hidden"
      }
     },
     "ecc49ddeedb841c997ac330d57678742": {
      "model_module": "@jupyter-widgets/controls",
      "model_module_version": "1.2.0",
      "model_name": "HBoxModel",
      "state": {
       "children": [
        "IPY_MODEL_7ce44a3a588d44a3a486edc437619757",
        "IPY_MODEL_c5b1aac9016940129f294a62b03fa832"
       ],
       "layout": "IPY_MODEL_3a1fb3f584414771936464c2e2e7eaf8"
      }
     },
     "ed6d80c41b784c139679d59ac55be8e4": {
      "model_module": "@jupyter-widgets/controls",
      "model_module_version": "1.2.0",
      "model_name": "HBoxModel",
      "state": {
       "children": [
        "IPY_MODEL_453638d429b74fecaf6a27d05874245c",
        "IPY_MODEL_324508c1759a435f96ba26262d1ca993",
        "IPY_MODEL_50fb957e76394d999e4c77c23ed223e5"
       ],
       "layout": "IPY_MODEL_5a8e4ac4065f4fa3bcf51001bc925c95"
      }
     },
     "ee7ccb2eb7c043099f51aa3c1b433a1f": {
      "model_module": "@jupyter-widgets/base",
      "model_module_version": "1.0.0",
      "model_name": "LayoutModel",
      "state": {}
     },
     "ef0feb413366476b97ce137132c522ed": {
      "model_module": "@jupyter-widgets/controls",
      "model_module_version": "1.2.0",
      "model_name": "DescriptionStyleModel",
      "state": {
       "description_width": ""
      }
     },
     "ef60a7f281264ce3bbf2c411eef16bb0": {
      "model_module": "@jupyter-widgets/controls",
      "model_module_version": "1.2.0",
      "model_name": "HBoxModel",
      "state": {
       "children": [
        "IPY_MODEL_cc875b8cb0aa46a1adc15b949e74be43",
        "IPY_MODEL_19798d642817433483c1cb8d4225c1be"
       ],
       "layout": "IPY_MODEL_4ec971afba6447e8badeb489799e2ddb"
      }
     },
     "efee6f71465d4e60b01cc38c5741c1ac": {
      "model_module": "@jupyter-widgets/controls",
      "model_module_version": "1.2.0",
      "model_name": "DescriptionStyleModel",
      "state": {
       "description_width": ""
      }
     },
     "f030f73162be4299b6e86582683076ce": {
      "model_module": "@jupyter-widgets/controls",
      "model_module_version": "1.2.0",
      "model_name": "DescriptionStyleModel",
      "state": {
       "description_width": ""
      }
     },
     "f03410ec0cdc45c299c8b6f25eda1e87": {
      "model_module": "@jupyter-widgets/controls",
      "model_module_version": "1.2.0",
      "model_name": "DescriptionStyleModel",
      "state": {
       "description_width": ""
      }
     },
     "f05d70c863404e3dabd5f9659c230a8c": {
      "model_module": "@jupyter-widgets/base",
      "model_module_version": "1.0.0",
      "model_name": "LayoutModel",
      "state": {}
     },
     "f1568922ade34b74973f01d2f9fe1c42": {
      "model_module": "@jupyter-widgets/controls",
      "model_module_version": "1.2.0",
      "model_name": "ButtonModel",
      "state": {
       "description": "5",
       "layout": "IPY_MODEL_1e3f74dbc1724561908258108375c442",
       "style": "IPY_MODEL_9aa6e128753e4825a7506cd2a6a119bd"
      }
     },
     "f19a969ac39d413299405508b70dc864": {
      "model_module": "@jupyter-widgets/controls",
      "model_module_version": "1.2.0",
      "model_name": "ButtonStyleModel",
      "state": {}
     },
     "f2641cf6265b4f5e9292815f94cc626b": {
      "model_module": "@jupyter-widgets/base",
      "model_module_version": "1.0.0",
      "model_name": "LayoutModel",
      "state": {}
     },
     "f2fba62d845947b287682594d7baf7dc": {
      "model_module": "@jupyter-widgets/controls",
      "model_module_version": "1.2.0",
      "model_name": "DescriptionStyleModel",
      "state": {
       "description_width": ""
      }
     },
     "f3299b92f23f4d9d9ae67d95686e9f4b": {
      "model_module": "@jupyter-widgets/controls",
      "model_module_version": "1.2.0",
      "model_name": "DescriptionStyleModel",
      "state": {
       "description_width": ""
      }
     },
     "f40421b6daba4684a308d972820c9a66": {
      "model_module": "@jupyter-widgets/controls",
      "model_module_version": "1.2.0",
      "model_name": "HTMLModel",
      "state": {
       "layout": "IPY_MODEL_1523d7261c2b439ab15f9159ef175e1d",
       "style": "IPY_MODEL_ebc09907f37c4430a47613d2abbf3064",
       "value": "<svg baseProfile=\"full\" data=\"[1, 0]\" height=\"400\" labels=\"['1', '2']\" version=\"1.1\" width=\"300\" xmlns=\"http://www.w3.org/2000/svg\" xmlns:ev=\"http://www.w3.org/2001/xml-events\" xmlns:xlink=\"http://www.w3.org/1999/xlink\"><defs /><rect fill=\"#800080\" fill-opacity=\"0.0\" height=\"340\" stroke=\"#000000\" stroke-opacity=\"1.0\" stroke-width=\"1\" width=\"200\" x=\"40\" y=\"20\" /><rect fill=\"#800080\" height=\"340.0\" stroke=\"#000000\" stroke-width=\"1\" width=\"75.0\" x=\"52.5\" y=\"20.0\" /><rect fill=\"#800080\" height=\"0.0\" stroke=\"#000000\" stroke-width=\"1\" width=\"75.0\" x=\"152.5\" y=\"360.0\" /><text fill=\"#800080\" stroke=\"#000000\" stroke-width=\"1\" x=\"85.83333333333334\" y=\"380\">1</text><text fill=\"#800080\" stroke=\"#000000\" stroke-width=\"1\" x=\"185.83333333333334\" y=\"380\">2</text><text fill=\"#800080\" stroke=\"#000000\" stroke-width=\"1\" x=\"0\" y=\"364.0\">0.0</text><text fill=\"#800080\" stroke=\"#000000\" stroke-width=\"1\" x=\"0\" y=\"279.0\">0.25</text><text fill=\"#800080\" stroke=\"#000000\" stroke-width=\"1\" x=\"0\" y=\"194.0\">0.5</text><text fill=\"#800080\" stroke=\"#000000\" stroke-width=\"1\" x=\"0\" y=\"109.0\">0.75</text><text fill=\"#800080\" stroke=\"#000000\" stroke-width=\"1\" x=\"0\" y=\"24.0\">1.0</text></svg>"
      }
     },
     "f4099aca576b46b084569240e9801d47": {
      "model_module": "@jupyter-widgets/controls",
      "model_module_version": "1.2.0",
      "model_name": "HBoxModel",
      "state": {
       "children": [
        "IPY_MODEL_825b35b71c0b42d2bb565523c868ff1e",
        "IPY_MODEL_96199c45931c47e097a83683cfc265ed"
       ],
       "layout": "IPY_MODEL_0e6c5ef7494246e09f70c30148435729"
      }
     },
     "f45c8c7086904b109323d6a7e2b6baff": {
      "model_module": "@jupyter-widgets/controls",
      "model_module_version": "1.2.0",
      "model_name": "DescriptionStyleModel",
      "state": {
       "description_width": ""
      }
     },
     "f4d2631aeaa749b1a95185f45d309296": {
      "model_module": "@jupyter-widgets/base",
      "model_module_version": "1.0.0",
      "model_name": "LayoutModel",
      "state": {}
     },
     "f4e9f38e92eb4b04bcb98152b757fab3": {
      "model_module": "@jupyter-widgets/controls",
      "model_module_version": "1.2.0",
      "model_name": "DescriptionStyleModel",
      "state": {
       "description_width": ""
      }
     },
     "f51170f533bd45d89721721549dbc719": {
      "model_module": "@jupyter-widgets/base",
      "model_module_version": "1.0.0",
      "model_name": "LayoutModel",
      "state": {}
     },
     "f5c57c0e8e49415d9bc6b186102d5c60": {
      "model_module": "@jupyter-widgets/controls",
      "model_module_version": "1.2.0",
      "model_name": "VBoxModel",
      "state": {
       "children": [
        "IPY_MODEL_3554d9a06de04c20a624314110905921",
        "IPY_MODEL_9c4deefef9294ad0b3c536617faaff56"
       ],
       "layout": "IPY_MODEL_5e42f4c8151142f1b2ee878cfab71dbf"
      }
     },
     "f66d164b0fec4befafc9e413775df980": {
      "model_module": "@jupyter-widgets/controls",
      "model_module_version": "1.2.0",
      "model_name": "HTMLModel",
      "state": {
       "layout": "IPY_MODEL_028dde96bc5c42cd85fac2e57939e50f",
       "style": "IPY_MODEL_36b6c1adb8d44732a9cca44e9a66537f"
      }
     },
     "f6c337f94b8f4aa8a506f8dda59add5e": {
      "model_module": "@jupyter-widgets/controls",
      "model_module_version": "1.2.0",
      "model_name": "HBoxModel",
      "state": {
       "children": [
        "IPY_MODEL_13ce7a73c77b4fcc98bbda9d5cc0600b",
        "IPY_MODEL_060c1b85c0d646198b67e60e71c1c6d0"
       ],
       "layout": "IPY_MODEL_4906470485084ecdbc34e1a124ac6bbd"
      }
     },
     "f72a8bfeb0494a3fb985db9bda05e25d": {
      "model_module": "@jupyter-widgets/controls",
      "model_module_version": "1.2.0",
      "model_name": "DescriptionStyleModel",
      "state": {
       "description_width": ""
      }
     },
     "f739ca24f348446d9aecaef5b9b95d46": {
      "model_module": "@jupyter-widgets/controls",
      "model_module_version": "1.2.0",
      "model_name": "HBoxModel",
      "state": {
       "children": [
        "IPY_MODEL_92eb6d55601149c5bb2dc4adb5a6113c",
        "IPY_MODEL_e66bde55e6a0462e915c65d6d48ff670"
       ],
       "layout": "IPY_MODEL_2cccf4933b114fda8acba1b74faf5766"
      }
     },
     "f73b87c24b8e4dcb9a86ee4e579224bb": {
      "model_module": "@jupyter-widgets/base",
      "model_module_version": "1.0.0",
      "model_name": "LayoutModel",
      "state": {}
     },
     "f7ac6f1d576d4bbfa092de13712c18ab": {
      "model_module": "@jupyter-widgets/controls",
      "model_module_version": "1.2.0",
      "model_name": "HTMLModel",
      "state": {
       "layout": "IPY_MODEL_dae1f60eb29f442f98cf8205b4e3b62a",
       "style": "IPY_MODEL_fd44b2fb41034e498a061da0f9ddf851",
       "value": "<p><b>Question ID</b>: 1</p>"
      }
     },
     "f7f61e6aadb749b0bbbf91c3aff0e4dc": {
      "model_module": "@jupyter-widgets/controls",
      "model_module_version": "1.2.0",
      "model_name": "HBoxModel",
      "state": {
       "children": [
        "IPY_MODEL_560bc4ba328a4794a56c2d72960ebe17",
        "IPY_MODEL_260c74af7dbc4612bfdf509925f28e75"
       ],
       "layout": "IPY_MODEL_6f6bf2c2ee4742f8a94566bdaae38bff"
      }
     },
     "f83819beee7148c39ec3e0a4811eb623": {
      "model_module": "@jupyter-widgets/controls",
      "model_module_version": "1.2.0",
      "model_name": "ButtonModel",
      "state": {
       "description": "Results",
       "layout": "IPY_MODEL_8754438e1c5f41c1a7a153afecafa14b",
       "style": "IPY_MODEL_4b8151187f2241f3a4f2b28e7679be85"
      }
     },
     "f890e15faf3e40bc902ad2cf595404f0": {
      "model_module": "@jupyter-widgets/controls",
      "model_module_version": "1.2.0",
      "model_name": "DescriptionStyleModel",
      "state": {
       "description_width": ""
      }
     },
     "f89808f3700a44fab40453f6ec04724d": {
      "model_module": "@jupyter-widgets/controls",
      "model_module_version": "1.2.0",
      "model_name": "ButtonModel",
      "state": {
       "description": "2",
       "layout": "IPY_MODEL_e9c5b71f5dcf47b6bf4f448c917dbf9d",
       "style": "IPY_MODEL_eade6fa4db884b9693c09c7da6037362"
      }
     },
     "f916dd1aea6641a38e760145daf58573": {
      "model_module": "@jupyter-widgets/controls",
      "model_module_version": "1.2.0",
      "model_name": "HTMLModel",
      "state": {
       "layout": "IPY_MODEL_c0302dd6d2cb4cb0ae3b8b73e5332c7a",
       "style": "IPY_MODEL_19bdde5d8ccc4884aaadfcad8a5297d7",
       "value": "<b>2</b>)&nbsp;&nbsp;"
      }
     },
     "f9c58d44006b45cea8a5116a3094357d": {
      "model_module": "@jupyter-widgets/controls",
      "model_module_version": "1.2.0",
      "model_name": "ButtonStyleModel",
      "state": {}
     },
     "fa090d090e7b4f65aa15577ee8ff12e5": {
      "model_module": "@jupyter-widgets/base",
      "model_module_version": "1.0.0",
      "model_name": "LayoutModel",
      "state": {
       "margin": "20px",
       "visibility": "visible"
      }
     },
     "fa99d84fee324fa889018d1f1fbf238c": {
      "model_module": "@jupyter-widgets/controls",
      "model_module_version": "1.2.0",
      "model_name": "DescriptionStyleModel",
      "state": {
       "description_width": ""
      }
     },
     "fb3a580cbe2e40a6ba9d8bb1c5231dfb": {
      "model_module": "@jupyter-widgets/controls",
      "model_module_version": "1.2.0",
      "model_name": "HTMLModel",
      "state": {
       "layout": "IPY_MODEL_c65ea59dd819490bb8a848ddf1a0a5b7",
       "style": "IPY_MODEL_b9ffa8b3ff75404b92455d879f4cbf19",
       "value": "\n<pre>\nint i = 0\nwhile (i < 5) {\n    println(\"Hello\");\n    i++;\n}\n</pre>\n"
      }
     },
     "fb85ace91fd74548988cc175eef4d039": {
      "model_module": "@jupyter-widgets/base",
      "model_module_version": "1.0.0",
      "model_name": "LayoutModel",
      "state": {
       "visibility": "visible"
      }
     },
     "fcb6d1a9385c43ba96892c97a85cf62d": {
      "model_module": "@jupyter-widgets/controls",
      "model_module_version": "1.2.0",
      "model_name": "ButtonStyleModel",
      "state": {}
     },
     "fce53713007c40eb996e3de41f09d39b": {
      "model_module": "@jupyter-widgets/controls",
      "model_module_version": "1.2.0",
      "model_name": "ButtonModel",
      "state": {
       "description": "5",
       "layout": "IPY_MODEL_e589ac7ca6be4a86b126ea246c7cb25f",
       "style": "IPY_MODEL_e4371e28c29b4a5c8696ae0017befcd9"
      }
     },
     "fd113698295d4f019196abf3d5bbbe3f": {
      "model_module": "@jupyter-widgets/controls",
      "model_module_version": "1.2.0",
      "model_name": "ButtonStyleModel",
      "state": {}
     },
     "fd1a9455a69b42b391c8a86b4e1b492d": {
      "model_module": "@jupyter-widgets/controls",
      "model_module_version": "1.2.0",
      "model_name": "HTMLModel",
      "state": {
       "layout": "IPY_MODEL_1086ff5646804d73b3ddfd182fdaa41d",
       "style": "IPY_MODEL_59c93da68ab8406f90caed0f8c74e4a5",
       "value": "<b>4</b>)&nbsp;&nbsp;"
      }
     },
     "fd44b2fb41034e498a061da0f9ddf851": {
      "model_module": "@jupyter-widgets/controls",
      "model_module_version": "1.2.0",
      "model_name": "DescriptionStyleModel",
      "state": {
       "description_width": ""
      }
     },
     "fdc0bbe498204560ab9df334bb24f48e": {
      "model_module": "@jupyter-widgets/controls",
      "model_module_version": "1.2.0",
      "model_name": "DescriptionStyleModel",
      "state": {
       "description_width": ""
      }
     },
     "fde3f30d20a14605820673b9930c20c4": {
      "model_module": "@jupyter-widgets/controls",
      "model_module_version": "1.2.0",
      "model_name": "ButtonStyleModel",
      "state": {}
     },
     "feff4682f19a44bfa28f6e0350c750c4": {
      "model_module": "@jupyter-widgets/base",
      "model_module_version": "1.0.0",
      "model_name": "LayoutModel",
      "state": {
       "margin": "20px",
       "visibility": "visible"
      }
     },
     "ffd1efc42bda44fe888eb7f1ce10c2f8": {
      "model_module": "@jupyter-widgets/base",
      "model_module_version": "1.0.0",
      "model_name": "LayoutModel",
      "state": {
       "margin": "20px",
       "visibility": "visible"
      }
     }
    },
    "version_major": 2,
    "version_minor": 0
   }
  }
 },
 "nbformat": 4,
 "nbformat_minor": 2
}
