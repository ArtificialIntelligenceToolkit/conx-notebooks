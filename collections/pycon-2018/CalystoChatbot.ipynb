{
 "cells": [
  {
   "cell_type": "code",
   "execution_count": 1,
   "metadata": {},
   "outputs": [
    {
     "name": "stderr",
     "output_type": "stream",
     "text": [
      "\u001b[0;31mNo response; consider 'load alice' or '%learn {AIML_PATH}/standard/startup.xml' followed by 'load aiml b'\n",
      "\u001b[0m"
     ]
    }
   ],
   "source": [
    "Hello"
   ]
  },
  {
   "cell_type": "code",
   "execution_count": 2,
   "metadata": {},
   "outputs": [
    {
     "name": "stdout",
     "output_type": "stream",
     "text": [
      "Loading mp4.aiml...done (0.25 seconds)\n",
      "Loading alice.aiml...done (0.02 seconds)\n",
      "Loading astrology.aiml...done (0.00 seconds)\n",
      "Loading personality.aiml...done (0.02 seconds)\n",
      "Loading gossip.aiml...done (0.00 seconds)\n",
      "Loading atomic.aiml...done (0.19 seconds)\n",
      "Loading mp2.aiml...done (0.26 seconds)\n",
      "Loading psychology.aiml...done (0.04 seconds)\n",
      "Loading date.aiml...done (0.00 seconds)\n",
      "Loading science.aiml...done (0.01 seconds)\n",
      "Loading literature.aiml...done (0.01 seconds)\n",
      "Loading ai.aiml...done (0.03 seconds)\n",
      "Loading music.aiml...done (0.00 seconds)\n",
      "Loading religion.aiml...done (0.04 seconds)\n",
      "Loading update_mccormick.aiml...done (0.01 seconds)\n",
      "Loading salutations.aiml...done (0.02 seconds)\n",
      "Loading client_profile.aiml...done (0.04 seconds)\n",
      "Loading iu.aiml...done (0.00 seconds)\n",
      "Loading mp0.aiml...done (0.39 seconds)\n",
      "Loading reduction.names.aiml...done (0.28 seconds)\n",
      "Loading pickup.aiml...done (0.00 seconds)\n",
      "Loading that.aiml...done (0.12 seconds)\n",
      "Loading numbers.aiml...done (0.02 seconds)\n",
      "Loading wallace.aiml...done (0.07 seconds)\n",
      "Loading bot.aiml...done (0.22 seconds)\n",
      "Loading reduction4.safe.aiml...done (0.22 seconds)\n",
      "Loading default.aiml...done (0.24 seconds)\n",
      "Loading mp5.aiml...done (0.32 seconds)\n",
      "Loading interjection.aiml...done (0.00 seconds)\n",
      "Loading geography.aiml...done (0.09 seconds)\n",
      "Loading stack.aiml...done (0.00 seconds)\n",
      "Loading movies.aiml...done (0.01 seconds)\n",
      "Loading continuation.aiml...done (0.00 seconds)\n",
      "Loading mp3.aiml...done (0.35 seconds)\n",
      "Loading knowledge.aiml...done (0.12 seconds)\n",
      "Loading update1.aiml...done (0.11 seconds)\n",
      "Loading biography.aiml...done (0.04 seconds)\n",
      "Loading reduction3.safe.aiml...done (0.25 seconds)\n",
      "Loading sex.aiml...done (0.01 seconds)\n",
      "Loading inquiry.aiml...done (0.01 seconds)\n",
      "Loading reduction2.safe.aiml...done (0.22 seconds)\n",
      "Loading sports.aiml...done (0.00 seconds)\n",
      "Loading reductions-update.aiml...done (0.00 seconds)\n",
      "Loading primeminister.aiml...done (0.00 seconds)\n",
      "Loading loebner10.aiml...done (0.00 seconds)\n",
      "Loading history.aiml...done (0.00 seconds)\n",
      "Loading mp1.aiml...done (0.38 seconds)\n",
      "Loading stories.aiml...done (0.03 seconds)\n",
      "Loading imponderables.aiml...done (0.00 seconds)\n",
      "Loading drugs.aiml...done (0.01 seconds)\n",
      "Loading phone.aiml...done (0.00 seconds)\n",
      "Loading mp6.aiml...done (0.20 seconds)\n",
      "Loading politics.aiml...done (0.00 seconds)\n",
      "Loading reduction0.safe.aiml...done (0.34 seconds)\n",
      "Loading client.aiml...done (0.12 seconds)\n",
      "Loading emotion.aiml...done (0.01 seconds)\n",
      "Loading xfind.aiml...done (0.00 seconds)\n",
      "Loading reduction1.safe.aiml...done (0.48 seconds)\n",
      "Loading food.aiml...done (0.00 seconds)\n",
      "Loading humor.aiml...done (0.00 seconds)\n",
      "Loading computers.aiml...done (0.01 seconds)\n",
      "Loading money.aiml...done (0.00 seconds)\n",
      "Loading bot_profile.aiml...done (0.01 seconds)\n"
     ]
    }
   ],
   "source": [
    "load alice"
   ]
  },
  {
   "cell_type": "code",
   "execution_count": 3,
   "metadata": {},
   "outputs": [
    {
     "name": "stdout",
     "output_type": "stream",
     "text": [
      "The time here is Wed May  9 23:07:18 2018\n"
     ]
    }
   ],
   "source": [
    "What time is it?"
   ]
  },
  {
   "cell_type": "code",
   "execution_count": 4,
   "metadata": {},
   "outputs": [
    {
     "name": "stdout",
     "output_type": "stream",
     "text": [
      "I don't know. Where are you?\n"
     ]
    }
   ],
   "source": [
    "Where am I?"
   ]
  },
  {
   "cell_type": "code",
   "execution_count": 5,
   "metadata": {},
   "outputs": [
    {
     "name": "stdout",
     "output_type": "stream",
     "text": [
      "How are you, Doug.\n"
     ]
    }
   ],
   "source": [
    "My name is Doug."
   ]
  },
  {
   "cell_type": "code",
   "execution_count": 6,
   "metadata": {},
   "outputs": [
    {
     "name": "stdout",
     "output_type": "stream",
     "text": [
      "My name is Nameless.\n"
     ]
    }
   ],
   "source": [
    "What is your name?"
   ]
  },
  {
   "cell_type": "code",
   "execution_count": 7,
   "metadata": {},
   "outputs": [
    {
     "name": "stdout",
     "output_type": "stream",
     "text": [
      "I like to make new friends.\n"
     ]
    }
   ],
   "source": [
    "I like you."
   ]
  },
  {
   "cell_type": "code",
   "execution_count": null,
   "metadata": {},
   "outputs": [],
   "source": []
  }
 ],
 "metadata": {
  "kernelspec": {
   "display_name": "Calysto Chatbot",
   "language": "text",
   "name": "calysto_chatbot"
  },
  "language_info": {
   "codemirror_mode": {
    "name": "text"
   },
   "mimetype": "text/plain",
   "name": "text",
   "pygments_lexer": "text"
  }
 },
 "nbformat": 4,
 "nbformat_minor": 2
}
