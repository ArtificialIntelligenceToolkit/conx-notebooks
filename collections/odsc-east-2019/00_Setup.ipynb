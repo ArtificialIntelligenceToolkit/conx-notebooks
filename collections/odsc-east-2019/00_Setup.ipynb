{
 "cells": [
  {
   "cell_type": "markdown",
   "metadata": {},
   "source": [
    "<h1>A Deeper Stack for Deep Learning: <br/>\n",
    "Adding Visualizations and Data Abstractions to your Workflow</h1>\n",
    "\n",
    "You should have picked one of the 4 following options, summarized below:\n",
    "\n",
    "## 1. Conx in the Cloud\n",
    "\n",
    "Rather than installing conx, consider running through the MyBinder service:\n",
    "\n",
    "* MyBinder: **mybinder.org/v2/gh/Calysto/conx/master**\n",
    "\n",
    "These services are available on a first come/first serve basis.\n",
    "\n",
    "## 2. Virtual Machine Options\n",
    "\n",
    "* Use our Conx Docker container:\n",
    "  * `docker run --rm -v \"$PWD\":/home/jovyan/work -p 8888:8888 calysto/conx`\n",
    "* Use our VirtualBox image: \n",
    "  * **science.slc.edu/jmarshall/virtualbox-conx-3.7.5.ova**\n",
    "\n",
    "## 3. Jupyter in the Cloud + pip conx\n",
    "\n",
    "Each of these will require that you install conx, and do some other setup:\n",
    "\n",
    "* Use one of the online, freely available Jupyter servers, including:\n",
    "  * Google's Colaboratory: **colab.research.google.com**\n",
    "  * SageMath's Cocalc: **cocalc.com**\n",
    "  * Microsoft's Azure: **notebooks.azure.com**\n",
    "  * IBM's Cognitive Class: **datascientistworkbench.com**\n",
    "\n",
    "## 4. Local Install\n",
    "\n",
    "* Use Anaconda, plus pip installs\n",
    "* Generic Python3 environment\n",
    "\n",
    "See **github.com/Calysto/conx-notebooks/tree/master/HowToRun** for details on local installations."
   ]
  },
  {
   "cell_type": "markdown",
   "metadata": {},
   "source": [
    "\n",
    "\n",
    "\n",
    "\n",
    "# Checkpoint #1: Conx is Installed and Usable\n",
    "\n",
    "VirtualBox users:\n",
    "\n",
    "1. Click on Terminal icon in upper-left corner\n",
    "2. Type `jupyter notebook` and press `Return`\n",
    "3. In Firefox, click on the `New` button in upper-right corner, and select `Python 3`\n",
    "\n",
    "All users:"
   ]
  },
  {
   "cell_type": "markdown",
   "metadata": {},
   "source": [
    "Enter `import conx as cx` and press `Shift+Return`"
   ]
  },
  {
   "cell_type": "code",
   "execution_count": null,
   "metadata": {},
   "outputs": [],
   "source": [
    "import conx as cx"
   ]
  },
  {
   "cell_type": "markdown",
   "metadata": {},
   "source": [
    "You should see:\n",
    "\n",
    "```\n",
    "Using TensorFlow backend.\n",
    "Conx, version 3.7.5\n",
    "```"
   ]
  },
  {
   "cell_type": "markdown",
   "metadata": {},
   "source": [
    "# Checkpoint #2: Download and Trust Notebooks\n",
    "\n",
    "Get the `conx-notebooks` and make them trusted."
   ]
  },
  {
   "cell_type": "markdown",
   "metadata": {},
   "source": [
    "Enter the following command. This will download a 32 MB file and unzip it to an about 75 MB directory named `conx-notebooks-master`."
   ]
  },
  {
   "cell_type": "code",
   "execution_count": null,
   "metadata": {},
   "outputs": [],
   "source": [
    "cx.download(\"https://github.com/Calysto/conx-notebooks/archive/master.zip\")"
   ]
  },
  {
   "cell_type": "markdown",
   "metadata": {},
   "source": [
    "You can tell the system to \"trust\" the notebooks with the following command:"
   ]
  },
  {
   "cell_type": "code",
   "execution_count": null,
   "metadata": {},
   "outputs": [],
   "source": [
    "! jupyter trust conx-notebooks-master/*.ipynb"
   ]
  },
  {
   "cell_type": "markdown",
   "metadata": {},
   "source": [
    "From the `File` menu select `Close and Halt`. You are ready to begin!"
   ]
  }
 ],
 "metadata": {
  "kernelspec": {
   "display_name": "Python 3",
   "language": "python",
   "name": "python3"
  },
  "language_info": {
   "codemirror_mode": {
    "name": "ipython",
    "version": 3
   },
   "file_extension": ".py",
   "mimetype": "text/x-python",
   "name": "python",
   "nbconvert_exporter": "python",
   "pygments_lexer": "ipython3",
   "version": "3.6.7"
  }
 },
 "nbformat": 4,
 "nbformat_minor": 2
}
